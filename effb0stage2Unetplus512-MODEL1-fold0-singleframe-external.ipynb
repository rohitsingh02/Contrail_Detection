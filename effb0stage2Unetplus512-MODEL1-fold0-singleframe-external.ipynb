{
 "cells": [
  {
   "cell_type": "code",
   "execution_count": 1,
   "id": "b0de7637",
   "metadata": {},
   "outputs": [],
   "source": [
    "#!pip install efficientnet_pytorch timm pretrainedmodels segmentation_models_pytorch pandas albumentations matplotlib colorama"
   ]
  },
  {
   "cell_type": "code",
   "execution_count": 2,
   "id": "83ed5744",
   "metadata": {},
   "outputs": [],
   "source": [
    "import os\n",
    "import shutil\n",
    "import pathlib\n",
    "\n",
    "from PIL import Image\n",
    "import pandas as pd\n",
    "import numpy as np\n",
    "import cv2 as cv\n",
    "import random\n",
    "import matplotlib.pyplot as plt\n",
    "from tqdm.auto import tqdm\n",
    "\n",
    "import torch\n",
    "import torch.nn as nn\n",
    "import torch.nn.functional as F\n",
    "from torch import optim\n",
    "\n",
    "from torch.utils.data import DataLoader, random_split\n",
    "from torch.utils.data import Dataset\n",
    "\n",
    "import torchvision\n",
    "from torchvision import datasets\n",
    "import cv2\n",
    "from torch.cuda import amp\n",
    "\n",
    "import torchvision.transforms as T\n",
    "import torchvision.transforms.functional as fn\n",
    "\n",
    "from torchvision.transforms import Compose, ToTensor, Resize\n",
    "from torchvision.utils import make_grid\n",
    "\n",
    "try:\n",
    "    import albumentations as A\n",
    "    from albumentations.pytorch import ToTensorV2\n",
    "    import segmentation_models_pytorch as smp\n",
    "except:\n",
    "    !pip install -q -U segmentation-models-pytorch albumentations > /dev/null\n",
    "    import albumentations as A\n",
    "    import segmentation_models_pytorch as smp\n",
    "    from albumentations.pytorch import ToTensorV2\n"
   ]
  },
  {
   "cell_type": "code",
   "execution_count": 3,
   "id": "da8c92d2",
   "metadata": {},
   "outputs": [
    {
     "data": {
      "text/plain": [
       "['efficientformer_l1',\n",
       " 'efficientformer_l3',\n",
       " 'efficientformer_l7',\n",
       " 'efficientformerv2_l',\n",
       " 'efficientformerv2_s0',\n",
       " 'efficientformerv2_s1',\n",
       " 'efficientformerv2_s2',\n",
       " 'efficientnet_b0',\n",
       " 'efficientnet_b0_g8_gn',\n",
       " 'efficientnet_b0_g16_evos',\n",
       " 'efficientnet_b0_gn',\n",
       " 'efficientnet_b1',\n",
       " 'efficientnet_b1_pruned',\n",
       " 'efficientnet_b2',\n",
       " 'efficientnet_b2_pruned',\n",
       " 'efficientnet_b2a',\n",
       " 'efficientnet_b3',\n",
       " 'efficientnet_b3_g8_gn',\n",
       " 'efficientnet_b3_gn',\n",
       " 'efficientnet_b3_pruned',\n",
       " 'efficientnet_b3a',\n",
       " 'efficientnet_b4',\n",
       " 'efficientnet_b5',\n",
       " 'efficientnet_b6',\n",
       " 'efficientnet_b7',\n",
       " 'efficientnet_b8',\n",
       " 'efficientnet_cc_b0_4e',\n",
       " 'efficientnet_cc_b0_8e',\n",
       " 'efficientnet_cc_b1_8e',\n",
       " 'efficientnet_el',\n",
       " 'efficientnet_el_pruned',\n",
       " 'efficientnet_em',\n",
       " 'efficientnet_es',\n",
       " 'efficientnet_es_pruned',\n",
       " 'efficientnet_l2',\n",
       " 'efficientnet_lite0',\n",
       " 'efficientnet_lite1',\n",
       " 'efficientnet_lite2',\n",
       " 'efficientnet_lite3',\n",
       " 'efficientnet_lite4',\n",
       " 'efficientnetv2_l',\n",
       " 'efficientnetv2_m',\n",
       " 'efficientnetv2_rw_m',\n",
       " 'efficientnetv2_rw_s',\n",
       " 'efficientnetv2_rw_t',\n",
       " 'efficientnetv2_s',\n",
       " 'efficientnetv2_xl',\n",
       " 'gc_efficientnetv2_rw_t',\n",
       " 'tf_efficientnet_b0',\n",
       " 'tf_efficientnet_b1',\n",
       " 'tf_efficientnet_b2',\n",
       " 'tf_efficientnet_b3',\n",
       " 'tf_efficientnet_b4',\n",
       " 'tf_efficientnet_b5',\n",
       " 'tf_efficientnet_b6',\n",
       " 'tf_efficientnet_b7',\n",
       " 'tf_efficientnet_b8',\n",
       " 'tf_efficientnet_cc_b0_4e',\n",
       " 'tf_efficientnet_cc_b0_8e',\n",
       " 'tf_efficientnet_cc_b1_8e',\n",
       " 'tf_efficientnet_el',\n",
       " 'tf_efficientnet_em',\n",
       " 'tf_efficientnet_es',\n",
       " 'tf_efficientnet_l2',\n",
       " 'tf_efficientnet_lite0',\n",
       " 'tf_efficientnet_lite1',\n",
       " 'tf_efficientnet_lite2',\n",
       " 'tf_efficientnet_lite3',\n",
       " 'tf_efficientnet_lite4',\n",
       " 'tf_efficientnetv2_b0',\n",
       " 'tf_efficientnetv2_b1',\n",
       " 'tf_efficientnetv2_b2',\n",
       " 'tf_efficientnetv2_b3',\n",
       " 'tf_efficientnetv2_l',\n",
       " 'tf_efficientnetv2_m',\n",
       " 'tf_efficientnetv2_s',\n",
       " 'tf_efficientnetv2_xl']"
      ]
     },
     "execution_count": 3,
     "metadata": {},
     "output_type": "execute_result"
    }
   ],
   "source": [
    "import timm\n",
    "timm.list_models(\"*efficient*\")"
   ]
  },
  {
   "cell_type": "code",
   "execution_count": 4,
   "id": "88373160",
   "metadata": {},
   "outputs": [],
   "source": [
    "inputs = []\n",
    "dir1 =  './input/final-contrail-dataset/FinalData/FCI'\n",
    "for root, dirs, files in os.walk(dir1):\n",
    "    inputs.extend(files)\n",
    "inputs = sorted(inputs)\n",
    "        \n",
    "# read annotations\n",
    "target = []\n",
    "dir2 = './input/final-contrail-dataset/FinalData/Contrail'\n",
    "for root, dirs, files in os.walk(dir2):\n",
    "    target.extend(files)\n",
    "target = sorted(target)\n",
    "inp = []\n",
    "tar = []\n",
    "for x in inputs:\n",
    "    inp.append('./input/final-contrail-dataset/FinalData/FCI/'+x)\n",
    "for x in target:\n",
    "    tar.append('./input/final-contrail-dataset/FinalData/Contrail/'+x)\n",
    "inputs = inp\n",
    "target = tar"
   ]
  },
  {
   "cell_type": "code",
   "execution_count": 5,
   "id": "0208da2e",
   "metadata": {},
   "outputs": [],
   "source": [
    "ext_data =[inputs,target]\n",
    "pd.DataFrame(list(zip(inputs, target)),columns=[\"images\",\"labels\"]).to_csv(\"./contraildata/data_ext.csv\",index=False)"
   ]
  },
  {
   "cell_type": "code",
   "execution_count": 6,
   "id": "7a411c37",
   "metadata": {},
   "outputs": [
    {
     "data": {
      "text/plain": [
       "device(type='cuda')"
      ]
     },
     "execution_count": 6,
     "metadata": {},
     "output_type": "execute_result"
    }
   ],
   "source": [
    "# device = torch.device('cpu')\n",
    "if torch.cuda.is_available():\n",
    "    device = torch.device('cuda')\n",
    "else:\n",
    "    device = torch.device('cpu')\n",
    "\n",
    "device"
   ]
  },
  {
   "cell_type": "code",
   "execution_count": 7,
   "id": "c6805e68",
   "metadata": {},
   "outputs": [
    {
     "name": "stdout",
     "output_type": "stream",
     "text": [
      "20530\n",
      "1857\n"
     ]
    }
   ],
   "source": [
    "! ls -l ./contraildata/train/data_train/kaggle/working/data/ | wc -l\n",
    "# Count of val records\n",
    "! ls -l ./contraildata/validation/data_valid/kaggle/working/data_valid/ | wc -l"
   ]
  },
  {
   "cell_type": "code",
   "execution_count": 8,
   "id": "135857c4",
   "metadata": {},
   "outputs": [],
   "source": [
    "class CFG:\n",
    "    seed          = 101\n",
    "    debug         = False # set debug=False for Full Training\n",
    "    exp_name      = 'effmodelv2fold0ext'\n",
    "    comment       = 'unet-effb0-256x256-aug2-split2'\n",
    "    model_name    = 'Unet'\n",
    "    backbone      = 'tf_efficientnet_b8','efficientnet--r','efficientnet-b5'\n",
    "    train_bs      = 16\n",
    "    valid_bs      = 1\n",
    "    img_size      = [512, 512]\n",
    "    epochs        = 50\n",
    "    lr            = 1e-3\n",
    "    scheduler     = 'CosineAnnealingLR'\n",
    "    min_lr        = 1e-6\n",
    "    T_max         = int(30000/train_bs*epochs)+50\n",
    "    T_0           = 25\n",
    "    warmup_epochs = 0\n",
    "    wd            = 1e-6\n",
    "    n_accumulate  = max(1, 32//train_bs)\n",
    "    n_fold        = 5\n",
    "    num_classes   = 1\n",
    "    p_mixup         =0.8\n",
    "    device        = torch.device(\"cuda:0\" if torch.cuda.is_available() else \"cpu\")"
   ]
  },
  {
   "cell_type": "code",
   "execution_count": 9,
   "id": "beb2b4e8",
   "metadata": {},
   "outputs": [
    {
     "name": "stdout",
     "output_type": "stream",
     "text": [
      "> SEEDING DONE\n"
     ]
    }
   ],
   "source": [
    "def set_seed(seed = 42):\n",
    "    '''Sets the seed of the entire notebook so results are the same every time we run.\n",
    "    This is for REPRODUCIBILITY.'''\n",
    "    np.random.seed(seed)\n",
    "    random.seed(seed)\n",
    "    torch.manual_seed(seed)\n",
    "    torch.cuda.manual_seed(seed)\n",
    "    # When running on the CuDNN backend, two further options must be set\n",
    "    torch.backends.cudnn.deterministic = True\n",
    "    torch.backends.cudnn.benchmark = False\n",
    "    # Set a fixed value for the hash seed\n",
    "    \n",
    "    os.environ['PYTHONHASHSEED'] = str(seed)\n",
    "    print('> SEEDING DONE')\n",
    "    \n",
    "set_seed(CFG.seed)"
   ]
  },
  {
   "cell_type": "code",
   "execution_count": 10,
   "id": "9d9125ea",
   "metadata": {},
   "outputs": [],
   "source": [
    "data_transforms = {\n",
    "    \"train\": A.Compose([\n",
    "        A.Resize(*CFG.img_size, interpolation=cv2.INTER_NEAREST),\n",
    "#        A.Rotate(-20,crop_border=True,border_mode=cv2.BORDER_REFLECT,p=1.0),\n",
    "        A.Normalize(\n",
    "                mean=[0.485, 0.456, 0.406],\n",
    "                std=[0.229, 0.224, 0.225],\n",
    "            ),\n",
    "        A.HorizontalFlip(p=0.3),\n",
    "#         A.VerticalFlip(p=0.5),\n",
    "        A.ShiftScaleRotate(shift_limit=0.0625, scale_limit=0.05, rotate_limit=10, p=0.5),\n",
    "#        A.OneOf([\n",
    "#            A.GridDistortion(num_steps=5, distort_limit=0.05, p=1.0),\n",
    "# #             A.OpticalDistortion(distort_limit=0.05, shift_limit=0.05, p=1.0),\n",
    "#            A.ElasticTransform(alpha=1, sigma=50, alpha_affine=50, p=1.0)\n",
    "#        ], p=0.25),\n",
    "#        A.CoarseDropout(max_holes=8, max_height=CFG.img_size[0]//20, max_width=CFG.img_size[1]//20,\n",
    "#                         min_holes=5, fill_value=0, mask_fill_value=0, p=0.5),\n",
    "        A.OneOf([\n",
    "            A.GridDistortion(num_steps=5, distort_limit=0.05, p=1.0),\n",
    " #             A.OpticalDistortion(distort_limit=0.05, shift_limit=0.05, p=1.0),\n",
    "            A.ElasticTransform(alpha=1, sigma=50, alpha_affine=50, p=1.0)\n",
    "        ], p=0.25),\n",
    "        A.OneOf([\n",
    "         #   A.HueSaturationValue(hue_shift_limit=0.5, sat_shift_limit=0.5, val_shift_limit=0.5, always_apply=False, p=1.0),\n",
    "            A.Downscale(interpolation=cv2.INTER_NEAREST,p=1.0),\n",
    "            A.Sharpen(p=1.0)\n",
    "           # A.ChannelShuffle(p=1.0)\n",
    "        ],\n",
    "        p=0.5),\n",
    "        A.CoarseDropout(max_holes=8, max_height=CFG.img_size[0]//10, max_width=CFG.img_size[1]//50,\n",
    "                         min_holes=1, fill_value=0.35, mask_fill_value=0.35, p=0.6),\n",
    "        ToTensorV2(),\n",
    "\n",
    "        ], p=1.0),\n",
    "    \n",
    "\n",
    "    \n",
    "    \"valid\": A.Compose([\n",
    "        A.Resize(*CFG.img_size, interpolation=cv2.INTER_NEAREST),\n",
    "#        A.Rotate(-20,crop_border=True,border_mode=cv2.BORDER_REFLECT,p=1.0),\n",
    "\n",
    "        A.Normalize(\n",
    "                mean=[0.485, 0.456, 0.406],\n",
    "                std=[0.229, 0.224, 0.225],\n",
    "            ),\n",
    "        ToTensorV2(),\n",
    "        ], p=1.0)\n",
    "}\n",
    "\n",
    "\n",
    "hard_data_transforms = {\n",
    "    \"train\": A.Compose([\n",
    "        A.Resize(*CFG.img_size, interpolation=cv2.INTER_NEAREST),\n",
    "        A.HorizontalFlip(p=0.5),\n",
    "        A.VerticalFlip(p=0.5),\n",
    "        A.ShiftScaleRotate(shift_limit=0.0625, scale_limit=0.05, rotate_limit=10, p=0.5),\n",
    "        A.OneOf([\n",
    "            A.GridDistortion(num_steps=5, distort_limit=0.05, p=1.0),\n",
    "            A.OpticalDistortion(distort_limit=0.05, shift_limit=0.05, p=1.0),\n",
    "            A.ElasticTransform(alpha=1, sigma=50, alpha_affine=50, p=1.0)\n",
    "        ], p=0.25),\n",
    "        A.CoarseDropout(max_holes=8, max_height=CFG.img_size[0]//20, max_width=CFG.img_size[1]//20,\n",
    "                         min_holes=5, fill_value=0, mask_fill_value=0, p=0.5),\n",
    "        ], p=1.0),\n",
    "    \n",
    "    \"valid\": A.Compose([\n",
    "        A.Resize(*CFG.img_size, interpolation=cv2.INTER_NEAREST),\n",
    "        ], p=1.0)\n",
    "}"
   ]
  },
  {
   "cell_type": "code",
   "execution_count": 11,
   "id": "1009de14",
   "metadata": {},
   "outputs": [],
   "source": [
    "import pandas as pd\n",
    "from sklearn import model_selection\n",
    "import numpy as np\n"
   ]
  },
  {
   "cell_type": "code",
   "execution_count": 12,
   "id": "2fab369d",
   "metadata": {},
   "outputs": [],
   "source": [
    "df = pd.read_csv(\"./contraildata/data_ext.csv\")"
   ]
  },
  {
   "cell_type": "code",
   "execution_count": 13,
   "id": "726022b7",
   "metadata": {},
   "outputs": [],
   "source": [
    "kf = model_selection.KFold(n_splits=20, shuffle=True, random_state=42)\n",
    "for fold, (train_idx, valid_idx) in enumerate(kf.split(X=df)):\n",
    "    df.loc[valid_idx, 'kfold'] = fold\n",
    "    \n"
   ]
  },
  {
   "cell_type": "code",
   "execution_count": 14,
   "id": "6c5816a1",
   "metadata": {},
   "outputs": [],
   "source": [
    "df.to_csv(\"data_ext_fold.csv\",index=False)\n",
    "\n"
   ]
  },
  {
   "cell_type": "code",
   "execution_count": 15,
   "id": "c23d5eb1",
   "metadata": {},
   "outputs": [],
   "source": [
    "from torchvision.io import read_image"
   ]
  },
  {
   "cell_type": "code",
   "execution_count": 16,
   "id": "30e44604",
   "metadata": {},
   "outputs": [
    {
     "data": {
      "text/plain": [
       "torch.Size([1, 2000, 1987])"
      ]
     },
     "execution_count": 16,
     "metadata": {},
     "output_type": "execute_result"
    }
   ],
   "source": [
    "from torchvision import transforms\n",
    "tg =transforms.Grayscale()\n",
    "\n",
    "y= tg(read_image(df['labels'][0]))\n",
    "y[y>0]=1\n",
    "y.shape"
   ]
  },
  {
   "cell_type": "code",
   "execution_count": 17,
   "id": "6487dc4d",
   "metadata": {},
   "outputs": [
    {
     "data": {
      "text/plain": [
       "'./input/final-contrail-dataset/FinalData/Contrail/contrail0.jpg'"
      ]
     },
     "execution_count": 17,
     "metadata": {},
     "output_type": "execute_result"
    }
   ],
   "source": [
    "df['labels'][0]"
   ]
  },
  {
   "cell_type": "code",
   "execution_count": null,
   "id": "cab60b1d",
   "metadata": {},
   "outputs": [],
   "source": []
  },
  {
   "cell_type": "code",
   "execution_count": 18,
   "id": "69f02164",
   "metadata": {},
   "outputs": [],
   "source": [
    "class Dataset:\n",
    "    def __init__(self,mode,fold,transform =None,is_inference=True):\n",
    "        \n",
    "        self.is_infer = is_inference\n",
    "        self.fold =fold\n",
    "        ROOT_PATH = './'\n",
    "\n",
    "        df = pd.read_csv(f\"{ROOT_PATH}/data_ext_fold.csv\")\n",
    "\n",
    "        \n",
    "        if mode == 'train':\n",
    "            df =df.loc[df.kfold != self.fold].copy().reset_index()\n",
    "            \n",
    "        elif mode =='valid':\n",
    "            df =df.loc[df.kfold == self.fold].copy().reset_index()\n",
    "\n",
    "        self.images = df['images']\n",
    "        self.labels = df['labels']\n",
    "        self.transform =transform\n",
    "        \n",
    "    def __getitem__(self, idx):\n",
    "        x = fn.resize(read_image(self.images[idx]),size=[512,512],antialias=True)\n",
    "        image = x.numpy().astype(float)\n",
    "        \n",
    "        if not self.is_infer : \n",
    "            \n",
    "            y= fn.resize(tg(read_image(self.labels[idx])),size=[512,512],antialias=True)\n",
    "            y[y>0]=1\n",
    "            \n",
    "            label = y.numpy().astype(float)\n",
    "            \n",
    "\n",
    "            \n",
    "            if  self.transform :\n",
    "                image = np.transpose(image, (1, 2, 0))\n",
    "                label = np.transpose(label, (1, 2, 0))  \n",
    "                \n",
    "                data = self.transform(image=image, mask=label)\n",
    "                image  = data['image']\n",
    "                label  = data['mask']\n",
    "                #image = np.transpose(image, (2, 0, 1))\n",
    "                label = np.transpose(label, (2, 0, 1))               \n",
    "            return image, label\n",
    "        else :\n",
    "\n",
    "            if  self.transform :\n",
    "                data = self.transform(image=image)\n",
    "                image  = data['image']\n",
    "                #image = np.transpose(image, (2, 0, 1))\n",
    "            return image\n",
    "    \n",
    "    def __len__(self):\n",
    "        return len(self.images)\n",
    "    \n",
    "train_dataset = Dataset('train',fold=0,transform =data_transforms['train'],is_inference=False)    \n",
    "val_dataset = Dataset('valid',fold=0,transform =data_transforms['valid'],is_inference=False)    \n",
    "test_dataset = Dataset('test',fold=0,transform =data_transforms['valid'],is_inference=True)    \n"
   ]
  },
  {
   "cell_type": "code",
   "execution_count": null,
   "id": "60eb2500",
   "metadata": {},
   "outputs": [],
   "source": []
  },
  {
   "cell_type": "code",
   "execution_count": 19,
   "id": "82b25eb4",
   "metadata": {},
   "outputs": [
    {
     "data": {
      "text/plain": [
       "(3011, 159, 3170)"
      ]
     },
     "execution_count": 19,
     "metadata": {},
     "output_type": "execute_result"
    }
   ],
   "source": [
    "len(train_dataset), len(val_dataset), len(test_dataset)"
   ]
  },
  {
   "cell_type": "code",
   "execution_count": 20,
   "id": "f922d2f2",
   "metadata": {},
   "outputs": [],
   "source": [
    "train_loader = DataLoader(train_dataset, batch_size=CFG.train_bs , \n",
    "                              num_workers=4, shuffle=True, pin_memory=True, drop_last=False)\n",
    "valid_loader = DataLoader(val_dataset, batch_size=1 , \n",
    "                              num_workers=4, shuffle=False, pin_memory=True)\n",
    "test_loader = DataLoader(test_dataset, batch_size=CFG.valid_bs, \n",
    "                              num_workers=4, shuffle=False, pin_memory=True)"
   ]
  },
  {
   "cell_type": "code",
   "execution_count": 21,
   "id": "e83dac4a",
   "metadata": {},
   "outputs": [
    {
     "data": {
      "text/plain": [
       "(torch.Size([1, 3, 512, 512]), torch.Size([1, 1, 512, 512]))"
      ]
     },
     "execution_count": 21,
     "metadata": {},
     "output_type": "execute_result"
    }
   ],
   "source": [
    "imgs, msks = next(iter(valid_loader))\n",
    "imgs.size(), msks.size()"
   ]
  },
  {
   "cell_type": "code",
   "execution_count": 22,
   "id": "5c0c04aa",
   "metadata": {},
   "outputs": [
    {
     "name": "stderr",
     "output_type": "stream",
     "text": [
      "Clipping input data to the valid range for imshow with RGB data ([0..1] for floats or [0..255] for integers).\n"
     ]
    },
    {
     "data": {
      "text/plain": [
       "<matplotlib.image.AxesImage at 0x7f4f853d2460>"
      ]
     },
     "execution_count": 22,
     "metadata": {},
     "output_type": "execute_result"
    },
    {
     "data": {
      "image/png": "[encoded data removed]",
      "text/plain": [
       "<Figure size 640x480 with 1 Axes>"
      ]
     },
     "metadata": {},
     "output_type": "display_data"
    }
   ],
   "source": [
    "def show_img(img, mask=None):\n",
    "    clahe = cv2.createCLAHE(clipLimit=2.0, tileGridSize=(8,8))\n",
    "    plt.imshow(img)\n",
    "    \n",
    "    if mask is not None:\n",
    "        plt.imshow(mask, alpha=0.9)\n",
    "\n",
    "    plt.axis('off')\n",
    "\n",
    "plt.imshow(imgs[0,].permute((1, 2, 0)).numpy())\n",
    "plt.imshow(msks[0].permute((1, 2, 0)).numpy(), alpha=0.5)"
   ]
  },
  {
   "cell_type": "code",
   "execution_count": 23,
   "id": "0a66dc28",
   "metadata": {},
   "outputs": [],
   "source": [
    "import timm as timm\n",
    "def plot_batch(imgs, msks, size=5):\n",
    "    plt.figure(figsize=(5*5, 5))\n",
    "    for idx in range(size):\n",
    "        plt.subplot(1, 5, idx+1)\n",
    "        img = imgs[idx,].permute((1, 2, 0)).numpy()\n",
    "        #img = img.astype('uint8')\n",
    "        msk = msks[idx,].permute((1, 2, 0)).numpy()\n",
    "        show_img(img, msk)\n",
    "    plt.tight_layout()\n",
    "    plt.show()\n",
    "    \n"
   ]
  },
  {
   "cell_type": "code",
   "execution_count": 24,
   "id": "4e3c02b8",
   "metadata": {},
   "outputs": [],
   "source": [
    "#timm.list_models(\"*efficientnet*\")"
   ]
  },
  {
   "cell_type": "code",
   "execution_count": 25,
   "id": "8a225b1d",
   "metadata": {},
   "outputs": [],
   "source": [
    "#plot_batch(imgs,msks)"
   ]
  },
  {
   "cell_type": "code",
   "execution_count": 26,
   "id": "71a2726f",
   "metadata": {},
   "outputs": [],
   "source": [
    "#encoder"
   ]
  },
  {
   "cell_type": "code",
   "execution_count": 27,
   "id": "a28a5dd6",
   "metadata": {},
   "outputs": [],
   "source": [
    "\n",
    "##########################Anotha Banguh###########################\n",
    "import segmentation_models_pytorch as smp\n",
    "import timm\n",
    "n_blocks = 4\n",
    "\n",
    "n_blocks =4\n",
    "class TimmSegModel(nn.Module):\n",
    "    def __init__(self, backbone, segtype='unet', pretrained=True):\n",
    "        super(TimmSegModel, self).__init__()\n",
    "\n",
    "        self.encoder = timm.create_model(\n",
    "            backbone,\n",
    "            in_chans=3,\n",
    "            features_only=True,\n",
    "            drop_rate=0.5,\n",
    "           # drop_path_rate=0.0,\n",
    "            pretrained=pretrained\n",
    "        )\n",
    "        g = self.encoder(torch.rand(1, 3, 128, 128))\n",
    "        encoder_channels = [1] + [_.shape[1] for _ in g]\n",
    "        decoder_channels = [256, 128, 64, 32, 16]\n",
    "        if segtype == 'unet':\n",
    "            self.decoder = smp.decoders.unetplusplus.decoder.UnetPlusPlusDecoder(\n",
    "                encoder_channels=encoder_channels[:n_blocks+1],\n",
    "                decoder_channels=decoder_channels[:n_blocks],\n",
    "                n_blocks=n_blocks,\n",
    "            )\n",
    "\n",
    "        self.segmentation_head = nn.Sequential(\n",
    "            nn.Conv2d(decoder_channels[n_blocks-1], 1, kernel_size=(3, 3), stride=(1, 1), padding=(1, 1)),\n",
    "            nn.UpsamplingBilinear2d(scale_factor=1))\n",
    "\n",
    "    def forward(self,x):\n",
    "        global_features = [0] + self.encoder(x)[:n_blocks]\n",
    "        seg_features = self.decoder(*global_features)\n",
    "        seg_features = self.segmentation_head(seg_features)\n",
    "        return seg_features\n",
    "    \n",
    "#path='./exp/baselinev2/qishentrialv2_tf_efficientnet_b7_ns_last_epoch-00.bin'\n",
    "\n",
    "\n",
    "def build_model(backbone):\n",
    "    model = TimmSegModel(backbone,segtype='unet')\n",
    "    model.to(CFG.device)\n",
    "    return model\n",
    "\n",
    "def load_model(path,backbone):\n",
    "    model = build_model(backbone)\n",
    "    model.load_state_dict(torch.load(path))\n",
    "    model.eval()\n",
    "    return model"
   ]
  },
  {
   "cell_type": "code",
   "execution_count": 28,
   "id": "06d7464c",
   "metadata": {},
   "outputs": [],
   "source": [
    "import segmentation_models_pytorch as smp\n",
    "import timm\n",
    "n_blocks = 4\n",
    "\n",
    "class TimmSegModel(nn.Module):\n",
    "    def __init__(self, backbone, segtype='unet', pretrained=True):\n",
    "        super(TimmSegModel, self).__init__()\n",
    "        self.conv1 = nn.Conv2d(3, 6, 3, stride=1, padding=1, bias=False)\n",
    "        self.conv2 = nn.Conv2d(6, 12, 3, stride=1, padding=1, bias=False)\n",
    "        self.conv3 = nn.Conv2d(12, 36, 3, stride=1, padding=1, bias=False)\n",
    "        self.mybn1 = nn.BatchNorm2d(6)\n",
    "        self.mybn2 = nn.BatchNorm2d(12)\n",
    "        self.mybn3 = nn.BatchNorm2d(36)     \n",
    "        self.encoder = timm.create_model(\n",
    "            backbone,\n",
    "            in_chans=3,\n",
    "            features_only=True,\n",
    "            drop_rate=0.8,\n",
    "            drop_path_rate=0.5,\n",
    "            pretrained=True\n",
    "        )\n",
    "#        self.encoder.conv_stem.weight = nn.Parameter(self.encoder.conv_stem.weight.repeat(1, 6, 1, 1))\n",
    "        self.encoder.conv_stem=nn.Conv2d(6, 72, kernel_size=(3, 3), stride=(2, 2), padding=(1, 1), bias=False)\n",
    "\n",
    "        self.encoder.blocks[5] = nn.Identity()\n",
    "        self.encoder.blocks[6] = nn.Sequential(\n",
    "            nn.Conv2d(self.encoder.blocks[4][2].conv_pwl.out_channels, 320, 1),\n",
    "            nn.BatchNorm2d(320),\n",
    "            nn.ReLU6(),\n",
    "        )\n",
    "        tr = torch.randn(1,6,64,64)\n",
    "        g = self.encoder(tr)\n",
    "        encoder_channels = [1] + [_.shape[1] for _ in g]\n",
    "        decoder_channels = [256, 128, 64, 32, 16]\n",
    "        if segtype == 'unet':\n",
    "            self.decoder = smp.decoders.unetplusplus.decoder.UnetPlusPlusDecoder(\n",
    "                encoder_channels=encoder_channels[:n_blocks+1],\n",
    "                decoder_channels=decoder_channels[:n_blocks],\n",
    "                n_blocks=n_blocks,\n",
    "            )\n",
    "\n",
    "        self.segmentation_head = nn.Conv2d(decoder_channels[n_blocks-1], CFG.num_classes, kernel_size=(3, 3), stride=(1, 1), padding=(1, 1))\n",
    "\n",
    "    def forward(self,x):\n",
    "        #print(x.shape)\n",
    "\n",
    "        x = F.relu6(self.mybn1(self.conv1(x)))\n",
    "#        x = F.relu6(self.mybn2(self.conv2(x)))\n",
    "#        x = F.relu6(self.mybn3(self.conv3(x)))\n",
    "        global_features = [0] + self.encoder(x)[:n_blocks]\n",
    "        seg_features = self.decoder(*global_features)\n",
    "        seg_features = self.segmentation_head(seg_features)\n",
    "        return seg_features\n",
    "\n",
    "#path='./exp/baselinev2/qishentrialv2_tf_efficientnet_b7_ns_last_epoch-00.bin'\n",
    "\n",
    "\n",
    "def build_model(backbone):\n",
    "    model = TimmSegModel(backbone,segtype='unet')\n",
    "    model.to(CFG.device)\n",
    "    return model\n",
    "\n",
    "def load_model(path,backbone):\n",
    "    model = build_model(backbone)\n",
    "    model.load_state_dict(torch.load(path))\n",
    "    model.eval()\n",
    "    return model"
   ]
  },
  {
   "cell_type": "code",
   "execution_count": 29,
   "id": "f38ad064",
   "metadata": {},
   "outputs": [],
   "source": [
    "#import timm\n",
    "#timm.list_models('*efficientnet*')"
   ]
  },
  {
   "cell_type": "code",
   "execution_count": 30,
   "id": "08a6d572",
   "metadata": {},
   "outputs": [],
   "source": [
    "JaccardLoss = smp.losses.JaccardLoss(mode='binary')\n",
    "DiceLoss    = smp.losses.DiceLoss(mode='binary')\n",
    "BCELoss     = smp.losses.SoftBCEWithLogitsLoss()\n",
    "LovaszLoss  = smp.losses.LovaszLoss(mode='binary', per_image=True)\n",
    "TverskyLoss = smp.losses.TverskyLoss(mode='binary', log_loss=False)\n",
    "\n",
    "epsilon = 1e-5\n",
    "smooth = 1\n",
    "#DiceLoss=smp.utils.losses.DiceLoss()\n",
    "\n",
    "def tversky(y_pred, y_true):\n",
    "    y_true_pos = torch.flatten(y_true)\n",
    "    y_pred_pos = torch.flatten(y_pred)\n",
    "    true_pos = torch.sum(y_true_pos * y_pred_pos)\n",
    "    false_neg = torch.sum(y_true_pos * (1-y_pred_pos))\n",
    "    false_pos = torch.sum((1-y_true_pos)*y_pred_pos)\n",
    "    alpha = 0.7\n",
    "    return (true_pos + smooth)/(true_pos + alpha*false_neg + (1-alpha)*false_pos + smooth)\n",
    "\n",
    "#def tversky_loss( y_pred,y_true):\n",
    "#    return 1 - tversky(y_true,y_pred)\n",
    "\n",
    "def focal_tversky(y_pred,y_true):\n",
    "    pt_1 = tversky(y_pred,y_true)\n",
    "    gamma = 0.75\n",
    "    return torch.pow((1-pt_1), gamma)\n",
    "class Focal_Tversky():\n",
    "    def __init__(self, eps=1.0, activation=None, ignore_channels=None, **kwargs):\n",
    "        super().__init__(**kwargs)\n",
    "        self.eps = eps\n",
    "        #self.activation = Activation(activation)\n",
    "        self.ignore_channels = ignore_channels\n",
    "\n",
    "    def forward(self, y_pr, y_gt):\n",
    "        #y_pr = self.activation(y_pr)\n",
    "        return 1.0*focal_tversky(y_pr,y_gt)\n",
    "    \n",
    "def dice_coef(y_true, y_pred, thr=0.5, dim=(2,3), epsilon=0.001):\n",
    "    y_true = y_true.to(torch.float32)\n",
    "    y_pred = (y_pred>thr).to(torch.float32)\n",
    "    inter = (y_true*y_pred).sum(dim=dim)\n",
    "    den = y_true.sum(dim=dim) + y_pred.sum(dim=dim)\n",
    "    dice = ((2*inter+epsilon)/(den+epsilon)).mean(dim=(1,0))\n",
    "        \n",
    "    return dice\n",
    "\n",
    "def dice_score(y_true, y_pred, smooth=1e-6):\n",
    "    y_true = y_true.to(torch.float32)\n",
    "    y_pred = (y_pred>0.5).to(torch.float32)\n",
    "    i = torch.sum(y_pred * y_true, dim=(2, 3))\n",
    "    u = torch.sum(y_pred, dim=(2, 3)) + torch.sum(y_true, dim=(2, 3))\n",
    "    score = (2 * i + smooth)/(u + smooth)\n",
    "    return torch.mean(score)\n",
    "\n",
    "def dice_all(y_true, y_pred, smooth=1e-6):\n",
    "    y_true = y_true.to(torch.float32)\n",
    "    y_pred = (y_pred).to(torch.float32)\n",
    "    i = torch.sum(y_pred * y_true)\n",
    "    u = torch.sum(y_pred) + torch.sum(y_true)\n",
    "    score = (2 * i + smooth)/(u + smooth)\n",
    "    return score\n",
    "\n",
    "def iou_coef(y_true, y_pred, thr=0.5, dim=(2,3), epsilon=0.001):\n",
    "    y_true = y_true.to(torch.float32)\n",
    "    y_pred = (y_pred>thr).to(torch.float32)\n",
    "    inter = (y_true*y_pred).sum(dim=dim)\n",
    "    union = (y_true + y_pred - y_true*y_pred).sum(dim=dim)\n",
    "    iou = ((inter+epsilon)/(union+epsilon)).mean(dim=(1,0))\n",
    "    return iou\n",
    "\n",
    "def criterion(y_pred, y_true):\n",
    "    return 0.5*BCELoss(y_pred, y_true) + 0.5*TverskyLoss(y_pred, y_true)\n",
    "\n",
    "def criterion2(y_pred, y_true):\n",
    "    return LovaszLoss(y_pred, y_true)"
   ]
  },
  {
   "cell_type": "code",
   "execution_count": 31,
   "id": "3ca99108",
   "metadata": {},
   "outputs": [],
   "source": [
    "def mixup(input, truth, clip=[0, 1]):\n",
    "    indices = torch.randperm(input.size(0))\n",
    "    shuffled_input = input[indices]\n",
    "    shuffled_labels = truth[indices]\n",
    "\n",
    "    lam = np.random.uniform(clip[0], clip[1])\n",
    "    input = input * lam + shuffled_input * (1 - lam)\n",
    "    return input, truth, shuffled_labels, lam\n",
    "\n",
    "\n",
    "def train_one_epoch(model, optimizer, scheduler, dataloader, device, epoch):\n",
    "    model.train()\n",
    "    scaler = amp.GradScaler()\n",
    "    \n",
    "    dataset_size = 0\n",
    "    running_loss = 0.0\n",
    "    \n",
    "    pbar = tqdm(enumerate(dataloader), total=len(dataloader), desc='Train ')\n",
    "    for step, (images, masks) in pbar:\n",
    "        images = images.to(device, dtype=torch.float)\n",
    "        masks  = masks.to(device, dtype=torch.float)\n",
    "        do_mixup = False\n",
    "        if random.random() < CFG.p_mixup:\n",
    "            do_mixup = True\n",
    "            images, masks, masks_sfl, lam = mixup(images, masks)\n",
    "        \n",
    "        batch_size = images.size(0)\n",
    "        \n",
    "        with amp.autocast(enabled=True):\n",
    "            y_pred = model(images)\n",
    "            loss   = criterion(y_pred, masks)\n",
    "            loss   = loss / CFG.n_accumulate\n",
    "            if do_mixup:\n",
    "                loss2 = criterion(y_pred, masks_sfl)\n",
    "                loss = loss * lam  + loss2 * (1 - lam)\n",
    "            \n",
    "        scaler.scale(loss).backward()\n",
    "    \n",
    "        if (step + 1) % CFG.n_accumulate == 0:\n",
    "            scaler.step(optimizer)\n",
    "            scaler.update()\n",
    "\n",
    "            # zero the parameter gradients\n",
    "            optimizer.zero_grad()\n",
    "\n",
    "            if scheduler is not None:\n",
    "                scheduler.step()\n",
    "                \n",
    "        running_loss += (loss.item() * batch_size)\n",
    "        dataset_size += batch_size\n",
    "        \n",
    "        epoch_loss = running_loss / dataset_size\n",
    "        \n",
    "        mem = torch.cuda.memory_reserved() / 1E9 if torch.cuda.is_available() else 0\n",
    "        current_lr = optimizer.param_groups[0]['lr']\n",
    "        pbar.set_postfix(train_loss=f'{epoch_loss:0.4f}',\n",
    "                        lr=f'{current_lr:0.5f}',\n",
    "                        gpu_mem=f'{mem:0.2f} GB')\n",
    "    torch.cuda.empty_cache()\n",
    "    gc.collect()\n",
    "    \n",
    "    return epoch_loss"
   ]
  },
  {
   "cell_type": "code",
   "execution_count": 32,
   "id": "96169f59",
   "metadata": {},
   "outputs": [],
   "source": [
    "@torch.no_grad()\n",
    "def valid_one_epoch(model, dataloader, device, epoch):\n",
    "    model.eval()\n",
    "    \n",
    "    dataset_size = 0\n",
    "    running_loss = 0.0\n",
    "    \n",
    "    val_scores = []\n",
    "    masks_all =[]\n",
    "    preds_all =[]\n",
    "    pbar = tqdm(enumerate(dataloader), total=len(dataloader), desc='Valid ')\n",
    "    for step, (images, masks) in pbar:        \n",
    "        images  = images.to(device, dtype=torch.float)\n",
    "        masks   = masks.to(device, dtype=torch.float)\n",
    "        masks_all.append(masks)\n",
    "        \n",
    "        batch_size = images.size(0)\n",
    "        \n",
    "        y_pred  = model(images)\n",
    "        loss    = criterion(y_pred, masks)\n",
    "        \n",
    "        running_loss += (loss.item() * batch_size)\n",
    "        dataset_size += batch_size\n",
    "        \n",
    "        epoch_loss = running_loss / dataset_size\n",
    "        \n",
    "        y_pred = nn.Sigmoid()(y_pred)\n",
    "        preds_all.append(y_pred)\n",
    "        val_dice = dice_coef(masks, y_pred).cpu().detach().numpy()\n",
    "        val_jaccard = iou_coef(masks, y_pred).cpu().detach().numpy()\n",
    "        val_dice_mod = dice_score(masks, y_pred).cpu().detach().numpy()\n",
    "\n",
    "        val_scores.append([val_dice, val_jaccard,val_dice_mod])\n",
    "        \n",
    "        mem = torch.cuda.memory_reserved() / 1E9 if torch.cuda.is_available() else 0\n",
    "        current_lr = optimizer.param_groups[0]['lr']\n",
    "        pbar.set_postfix(valid_loss=f'{epoch_loss:0.4f}',\n",
    "                        lr=f'{current_lr:0.5f}',\n",
    "                        gpu_memory=f'{mem:0.2f} GB')\n",
    "\n",
    "    predictions = torch.flatten(torch.stack(preds_all))\n",
    "    ground_truth = torch.flatten(torch.stack(masks_all))\n",
    "\n",
    "    val_corret_dice =dice_all(ground_truth,predictions).cpu().detach().numpy()\n",
    "    val_scores  = np.mean(val_scores, axis=0)\n",
    "    \n",
    "    print(val_corret_dice)\n",
    "    \n",
    "    torch.cuda.empty_cache()\n",
    "    gc.collect()\n",
    "    \n",
    "    return epoch_loss, val_scores,val_corret_dice"
   ]
  },
  {
   "cell_type": "code",
   "execution_count": 33,
   "id": "78c3bc52",
   "metadata": {},
   "outputs": [],
   "source": [
    "# For colored terminal text\n",
    "from colorama import Fore, Back, Style\n",
    "c_  = Fore.GREEN\n",
    "sr_ = Style.RESET_ALL"
   ]
  },
  {
   "cell_type": "code",
   "execution_count": 34,
   "id": "f4328151",
   "metadata": {},
   "outputs": [],
   "source": [
    "def run_training(model,backbone, optimizer, scheduler, device, num_epochs):\n",
    "    # To automatically log gradients\n",
    "   # wandb.watch(model, log_freq=100)\n",
    "    fold =0\n",
    "    if torch.cuda.is_available():\n",
    "        print(\"cuda: {}\\n\".format(torch.cuda.get_device_name()))\n",
    "        \n",
    "    print(f\"Start Training for Backbone ====> {backbone}\")\n",
    "    \n",
    "    start = time.time()\n",
    "    best_model_wts = copy.deepcopy(model.state_dict())\n",
    "    best_dice      = -np.inf\n",
    "    best_epoch     = -1\n",
    "    history = defaultdict(list)\n",
    "    \n",
    "    for epoch in range(1, num_epochs + 1): \n",
    "        gc.collect()\n",
    "        print(f'Epoch {epoch}/{num_epochs}', end='')\n",
    "        train_loss = train_one_epoch(model, optimizer, scheduler, \n",
    "                                           dataloader=train_loader, \n",
    "                                           device=CFG.device, epoch=epoch)\n",
    "        \n",
    "        val_loss, val_scores,val_correct_dice = valid_one_epoch(model, valid_loader, \n",
    "                                                 device=CFG.device, \n",
    "                                                 epoch=epoch)\n",
    "        val_dice, val_jaccard,val_dice_mod = val_scores\n",
    "    \n",
    "        history['Train Loss'].append(train_loss)\n",
    "        history['Valid Loss'].append(val_loss)\n",
    "        history['Valid Dice'].append(val_correct_dice)\n",
    "        history['Valid Jaccard'].append(val_jaccard)\n",
    "        history['Valid Dice Mod'].append(val_dice_mod)\n",
    "\n",
    "        \n",
    "        # Log the metrics\n",
    " #       wandb.log({\"Train Loss\": train_loss, \n",
    " #                  \"Valid Loss\": val_loss,\n",
    " #                  \"Valid Dice\": val_dice,\n",
    " #                  \"Valid Jaccard\": val_jaccard,\n",
    " #                  \"LR\":scheduler.get_last_lr()[0]})\n",
    "        \n",
    "        print(f'Valid Dice: {val_dice:0.4f} | Valid Jaccard: {val_jaccard:0.4f} | Valid Dice Mod: {val_dice_mod:0.4f}')\n",
    "        \n",
    "        # deep copy the model\n",
    "        if val_correct_dice >= best_dice:\n",
    "            print(f\"{c_}Valid Score Improved ({best_dice:0.4f} ---> {val_correct_dice:0.4f})\")\n",
    "            best_dice    = val_correct_dice\n",
    "            best_jaccard = val_jaccard\n",
    "            best_epoch   = epoch\n",
    "            #run.summary[\"Best Dice\"]    = best_dice\n",
    "            #run.summary[\"Best Jaccard\"] = best_jaccard\n",
    "            #run.summary[\"Best Epoch\"]   = best_epoch\n",
    "            best_model_wts = copy.deepcopy(model.state_dict())\n",
    "            PATH = f\"{CFG.exp_name}_{backbone}_best_epoch-{fold:02d}.bin\"\n",
    "            torch.save(model.state_dict(), PATH)\n",
    "            # Save a model file from the current directory\n",
    "            #wandb.save(PATH)\n",
    "            print(f\"Model Saved{sr_}\")\n",
    "            \n",
    "        last_model_wts = copy.deepcopy(model.state_dict())\n",
    "        PATH = f\"{CFG.exp_name}_{backbone}_last_epoch-{fold:02d}.bin\"\n",
    "        torch.save(model.state_dict(), PATH)\n",
    "            \n",
    "        print(); print()\n",
    "    \n",
    "    end = time.time()\n",
    "    time_elapsed = end - start\n",
    "    print('Training complete in {:.0f}h {:.0f}m {:.0f}s'.format(\n",
    "        time_elapsed // 3600, (time_elapsed % 3600) // 60, (time_elapsed % 3600) % 60))\n",
    "    print(\"Best Score: {:.4f}\".format(best_jaccard))\n",
    "    \n",
    "    # load best model weights\n",
    "    model.load_state_dict(best_model_wts)\n",
    "    \n",
    "    return model, history"
   ]
  },
  {
   "cell_type": "code",
   "execution_count": 35,
   "id": "418b1af7",
   "metadata": {},
   "outputs": [],
   "source": [
    "from torch.optim import lr_scheduler\n",
    "\n",
    "def fetch_scheduler(optimizer):\n",
    "    if CFG.scheduler == 'CosineAnnealingLR':\n",
    "        scheduler = lr_scheduler.CosineAnnealingLR(optimizer,T_max=CFG.T_max, \n",
    "                                                   eta_min=CFG.min_lr)\n",
    "    elif CFG.scheduler == 'CosineAnnealingWarmRestarts':\n",
    "        scheduler = lr_scheduler.CosineAnnealingWarmRestarts(optimizer,T_0=CFG.T_0, \n",
    "                                                             eta_min=CFG.min_lr)\n",
    "    elif CFG.scheduler == 'ReduceLROnPlateau':\n",
    "        scheduler = lr_scheduler.ReduceLROnPlateau(optimizer,\n",
    "                                                   mode='min',\n",
    "                                                   factor=0.1,\n",
    "                                                   patience=7,\n",
    "                                                   threshold=0.0001,\n",
    "                                                   min_lr=CFG.min_lr,)\n",
    "    elif CFG.scheduer == 'ExponentialLR':\n",
    "        scheduler = lr_scheduler.ExponentialLR(optimizer, gamma=0.85)\n",
    "    elif CFG.scheduler == None:\n",
    "        return None\n",
    "        \n",
    "    return scheduler"
   ]
  },
  {
   "cell_type": "code",
   "execution_count": 36,
   "id": "7b71b2cb",
   "metadata": {},
   "outputs": [],
   "source": [
    "def rle_encode(x, fg_val=1):\n",
    "    \"\"\"\n",
    "    Args:\n",
    "        x:  numpy array of shape (height, width), 1 - mask, 0 - background\n",
    "    Returns: run length encoding as list\n",
    "    \"\"\"\n",
    "\n",
    "    dots = np.where(\n",
    "        x.T.flatten() == fg_val)[0]  # .T sets Fortran order down-then-right\n",
    "    run_lengths = []\n",
    "    prev = -2\n",
    "    for b in dots:\n",
    "        if b > prev + 1:\n",
    "            run_lengths.extend((b + 1, 0))\n",
    "        run_lengths[-1] += 1\n",
    "        prev = b\n",
    "    return run_lengths\n",
    "\n",
    "\n",
    "def list_to_string(x):\n",
    "    \"\"\"\n",
    "    Converts list to a string representation\n",
    "    Empty list returns '-'\n",
    "    \"\"\"\n",
    "    if x: # non-empty list\n",
    "        s = str(x).replace(\"[\", \"\").replace(\"]\", \"\").replace(\",\", \"\")\n",
    "    else:\n",
    "        s = '-'\n",
    "    return s\n",
    "\n",
    "\n",
    "def rle_decode(mask_rle, shape=(256, 256)):\n",
    "    '''\n",
    "    mask_rle: run-length as string formatted (start length)\n",
    "              empty predictions need to be encoded with '-'\n",
    "    shape: (height, width) of array to return \n",
    "    Returns numpy array, 1 - mask, 0 - background\n",
    "    '''\n",
    "\n",
    "    img = np.zeros(shape[0]*shape[1], dtype=np.uint8)\n",
    "    if mask_rle != '-': \n",
    "        s = mask_rle.split()\n",
    "        starts, lengths = [np.asarray(x, dtype=int) for x in (s[0:][::2], s[1:][::2])]\n",
    "        starts -= 1\n",
    "        ends = starts + lengths\n",
    "        for lo, hi in zip(starts, ends):\n",
    "            img[lo:hi] = 1\n",
    "    return img.reshape(shape, order='F') "
   ]
  },
  {
   "cell_type": "code",
   "execution_count": 37,
   "id": "dd03161f",
   "metadata": {},
   "outputs": [
    {
     "name": "stdout",
     "output_type": "stream",
     "text": [
      "tf_efficientnet_b8\n",
      "cuda: NVIDIA A40\n",
      "\n",
      "Start Training for Backbone ====> tf_efficientnet_b8\n",
      "Epoch 1/50"
     ]
    },
    {
     "name": "stderr",
     "output_type": "stream",
     "text": [
      "Train : 100%|██████████| 189/189 [02:12<00:00,  1.43it/s, gpu_mem=32.80 GB, lr=0.00100, train_loss=0.3463]\n",
      "Valid : 100%|██████████| 159/159 [00:05<00:00, 28.00it/s, gpu_memory=1.82 GB, lr=0.00100, valid_loss=0.2144]\n"
     ]
    },
    {
     "name": "stdout",
     "output_type": "stream",
     "text": [
      "0.26401675\n",
      "Valid Dice: 0.5031 | Valid Jaccard: 0.5031 | Valid Dice Mod: 0.5031\n",
      "\u001b[32mValid Score Improved (-inf ---> 0.2640)\n",
      "Model Saved\u001b[0m\n",
      "\n",
      "\n",
      "Epoch 2/50"
     ]
    },
    {
     "name": "stderr",
     "output_type": "stream",
     "text": [
      "Train : 100%|██████████| 189/189 [02:13<00:00,  1.42it/s, gpu_mem=33.31 GB, lr=0.00100, train_loss=0.2872]\n",
      "Valid : 100%|██████████| 159/159 [00:05<00:00, 27.19it/s, gpu_memory=1.88 GB, lr=0.00100, valid_loss=0.2077]\n"
     ]
    },
    {
     "name": "stdout",
     "output_type": "stream",
     "text": [
      "0.27296788\n",
      "Valid Dice: 0.5031 | Valid Jaccard: 0.5031 | Valid Dice Mod: 0.5031\n",
      "\u001b[32mValid Score Improved (0.2640 ---> 0.2730)\n",
      "Model Saved\u001b[0m\n",
      "\n",
      "\n",
      "Epoch 3/50"
     ]
    },
    {
     "name": "stderr",
     "output_type": "stream",
     "text": [
      "Train : 100%|██████████| 189/189 [02:16<00:00,  1.38it/s, gpu_mem=33.35 GB, lr=0.00100, train_loss=0.2817]\n",
      "Valid : 100%|██████████| 159/159 [00:05<00:00, 29.31it/s, gpu_memory=1.88 GB, lr=0.00100, valid_loss=0.2009]\n"
     ]
    },
    {
     "name": "stdout",
     "output_type": "stream",
     "text": [
      "0.28878215\n",
      "Valid Dice: 0.4468 | Valid Jaccard: 0.3808 | Valid Dice Mod: 0.4468\n",
      "\u001b[32mValid Score Improved (0.2730 ---> 0.2888)\n",
      "Model Saved\u001b[0m\n",
      "\n",
      "\n",
      "Epoch 4/50"
     ]
    },
    {
     "name": "stderr",
     "output_type": "stream",
     "text": [
      "Train : 100%|██████████| 189/189 [02:18<00:00,  1.36it/s, gpu_mem=33.35 GB, lr=0.00100, train_loss=0.2808]\n",
      "Valid : 100%|██████████| 159/159 [00:05<00:00, 29.00it/s, gpu_memory=1.92 GB, lr=0.00100, valid_loss=0.1812]\n"
     ]
    },
    {
     "name": "stdout",
     "output_type": "stream",
     "text": [
      "0.38588044\n",
      "Valid Dice: 0.4783 | Valid Jaccard: 0.4121 | Valid Dice Mod: 0.4783\n",
      "\u001b[32mValid Score Improved (0.2888 ---> 0.3859)\n",
      "Model Saved\u001b[0m\n",
      "\n",
      "\n",
      "Epoch 5/50"
     ]
    },
    {
     "name": "stderr",
     "output_type": "stream",
     "text": [
      "Train : 100%|██████████| 189/189 [02:11<00:00,  1.44it/s, gpu_mem=33.39 GB, lr=0.00100, train_loss=0.2731]\n",
      "Valid : 100%|██████████| 159/159 [00:05<00:00, 29.86it/s, gpu_memory=1.96 GB, lr=0.00100, valid_loss=0.1858]\n"
     ]
    },
    {
     "name": "stdout",
     "output_type": "stream",
     "text": [
      "0.38721237\n",
      "Valid Dice: 0.6137 | Valid Jaccard: 0.5493 | Valid Dice Mod: 0.6137\n",
      "\u001b[32mValid Score Improved (0.3859 ---> 0.3872)\n",
      "Model Saved\u001b[0m\n",
      "\n",
      "\n",
      "Epoch 6/50"
     ]
    },
    {
     "name": "stderr",
     "output_type": "stream",
     "text": [
      "Train : 100%|██████████| 189/189 [02:20<00:00,  1.35it/s, gpu_mem=33.37 GB, lr=0.00100, train_loss=0.2709]\n",
      "Valid : 100%|██████████| 159/159 [00:05<00:00, 29.18it/s, gpu_memory=1.95 GB, lr=0.00100, valid_loss=0.1807]\n"
     ]
    },
    {
     "name": "stdout",
     "output_type": "stream",
     "text": [
      "0.38250643\n",
      "Valid Dice: 0.3672 | Valid Jaccard: 0.2988 | Valid Dice Mod: 0.3672\n",
      "\n",
      "\n",
      "Epoch 7/50"
     ]
    },
    {
     "name": "stderr",
     "output_type": "stream",
     "text": [
      "Train : 100%|██████████| 189/189 [02:19<00:00,  1.35it/s, gpu_mem=33.36 GB, lr=0.00100, train_loss=0.2662]\n",
      "Valid : 100%|██████████| 159/159 [00:05<00:00, 29.96it/s, gpu_memory=1.94 GB, lr=0.00100, valid_loss=0.1756]\n"
     ]
    },
    {
     "name": "stdout",
     "output_type": "stream",
     "text": [
      "0.39685953\n",
      "Valid Dice: 0.5067 | Valid Jaccard: 0.4393 | Valid Dice Mod: 0.5067\n",
      "\u001b[32mValid Score Improved (0.3872 ---> 0.3969)\n",
      "Model Saved\u001b[0m\n",
      "\n",
      "\n",
      "Epoch 8/50"
     ]
    },
    {
     "name": "stderr",
     "output_type": "stream",
     "text": [
      "Train : 100%|██████████| 189/189 [02:18<00:00,  1.36it/s, gpu_mem=33.34 GB, lr=0.00100, train_loss=0.2635]\n",
      "Valid : 100%|██████████| 159/159 [00:05<00:00, 29.73it/s, gpu_memory=1.92 GB, lr=0.00100, valid_loss=0.1712]\n"
     ]
    },
    {
     "name": "stdout",
     "output_type": "stream",
     "text": [
      "0.42120782\n",
      "Valid Dice: 0.4757 | Valid Jaccard: 0.4069 | Valid Dice Mod: 0.4757\n",
      "\u001b[32mValid Score Improved (0.3969 ---> 0.4212)\n",
      "Model Saved\u001b[0m\n",
      "\n",
      "\n",
      "Epoch 9/50"
     ]
    },
    {
     "name": "stderr",
     "output_type": "stream",
     "text": [
      "Train : 100%|██████████| 189/189 [02:10<00:00,  1.44it/s, gpu_mem=33.38 GB, lr=0.00100, train_loss=0.2610]\n",
      "Valid : 100%|██████████| 159/159 [00:05<00:00, 28.06it/s, gpu_memory=1.88 GB, lr=0.00100, valid_loss=0.1747]\n"
     ]
    },
    {
     "name": "stdout",
     "output_type": "stream",
     "text": [
      "0.40716064\n",
      "Valid Dice: 0.5266 | Valid Jaccard: 0.4584 | Valid Dice Mod: 0.5266\n",
      "\n",
      "\n",
      "Epoch 10/50"
     ]
    },
    {
     "name": "stderr",
     "output_type": "stream",
     "text": [
      "Train : 100%|██████████| 189/189 [02:12<00:00,  1.42it/s, gpu_mem=33.40 GB, lr=0.00100, train_loss=0.2482]\n",
      "Valid : 100%|██████████| 159/159 [00:05<00:00, 29.28it/s, gpu_memory=1.93 GB, lr=0.00100, valid_loss=0.1650]\n"
     ]
    },
    {
     "name": "stdout",
     "output_type": "stream",
     "text": [
      "0.45643732\n",
      "Valid Dice: 0.5635 | Valid Jaccard: 0.4949 | Valid Dice Mod: 0.5635\n",
      "\u001b[32mValid Score Improved (0.4212 ---> 0.4564)\n",
      "Model Saved\u001b[0m\n",
      "\n",
      "\n",
      "Epoch 11/50"
     ]
    },
    {
     "name": "stderr",
     "output_type": "stream",
     "text": [
      "Train : 100%|██████████| 189/189 [02:17<00:00,  1.37it/s, gpu_mem=33.40 GB, lr=0.00100, train_loss=0.2590]\n",
      "Valid : 100%|██████████| 159/159 [00:05<00:00, 29.06it/s, gpu_memory=1.93 GB, lr=0.00100, valid_loss=0.1674]\n"
     ]
    },
    {
     "name": "stdout",
     "output_type": "stream",
     "text": [
      "0.45758036\n",
      "Valid Dice: 0.6983 | Valid Jaccard: 0.6338 | Valid Dice Mod: 0.6983\n",
      "\u001b[32mValid Score Improved (0.4564 ---> 0.4576)\n",
      "Model Saved\u001b[0m\n",
      "\n",
      "\n",
      "Epoch 12/50"
     ]
    },
    {
     "name": "stderr",
     "output_type": "stream",
     "text": [
      "Train : 100%|██████████| 189/189 [02:17<00:00,  1.37it/s, gpu_mem=33.40 GB, lr=0.00100, train_loss=0.2541]\n",
      "Valid : 100%|██████████| 159/159 [00:05<00:00, 29.40it/s, gpu_memory=1.95 GB, lr=0.00100, valid_loss=0.1634]\n"
     ]
    },
    {
     "name": "stdout",
     "output_type": "stream",
     "text": [
      "0.47696048\n",
      "Valid Dice: 0.6358 | Valid Jaccard: 0.5694 | Valid Dice Mod: 0.6358\n",
      "\u001b[32mValid Score Improved (0.4576 ---> 0.4770)\n",
      "Model Saved\u001b[0m\n",
      "\n",
      "\n",
      "Epoch 13/50"
     ]
    },
    {
     "name": "stderr",
     "output_type": "stream",
     "text": [
      "Train : 100%|██████████| 189/189 [02:20<00:00,  1.35it/s, gpu_mem=33.35 GB, lr=0.00100, train_loss=0.2558]\n",
      "Valid : 100%|██████████| 159/159 [00:05<00:00, 26.90it/s, gpu_memory=1.90 GB, lr=0.00100, valid_loss=0.1729]\n"
     ]
    },
    {
     "name": "stdout",
     "output_type": "stream",
     "text": [
      "0.44502366\n",
      "Valid Dice: 0.5917 | Valid Jaccard: 0.5279 | Valid Dice Mod: 0.5917\n",
      "\n",
      "\n",
      "Epoch 14/50"
     ]
    },
    {
     "name": "stderr",
     "output_type": "stream",
     "text": [
      "Train : 100%|██████████| 189/189 [02:15<00:00,  1.39it/s, gpu_mem=33.36 GB, lr=0.00100, train_loss=0.2498]\n",
      "Valid : 100%|██████████| 159/159 [00:05<00:00, 27.69it/s, gpu_memory=1.95 GB, lr=0.00100, valid_loss=0.1559]\n"
     ]
    },
    {
     "name": "stdout",
     "output_type": "stream",
     "text": [
      "0.48802328\n",
      "Valid Dice: 0.6366 | Valid Jaccard: 0.5679 | Valid Dice Mod: 0.6366\n",
      "\u001b[32mValid Score Improved (0.4770 ---> 0.4880)\n",
      "Model Saved\u001b[0m\n",
      "\n",
      "\n",
      "Epoch 15/50"
     ]
    },
    {
     "name": "stderr",
     "output_type": "stream",
     "text": [
      "Train : 100%|██████████| 189/189 [02:12<00:00,  1.43it/s, gpu_mem=33.38 GB, lr=0.00100, train_loss=0.2479]\n",
      "Valid : 100%|██████████| 159/159 [00:05<00:00, 27.97it/s, gpu_memory=2.01 GB, lr=0.00100, valid_loss=0.1598]\n"
     ]
    },
    {
     "name": "stdout",
     "output_type": "stream",
     "text": [
      "0.46233544\n",
      "Valid Dice: 0.6103 | Valid Jaccard: 0.5435 | Valid Dice Mod: 0.6103\n",
      "\n",
      "\n",
      "Epoch 16/50"
     ]
    },
    {
     "name": "stderr",
     "output_type": "stream",
     "text": [
      "Train : 100%|██████████| 189/189 [02:17<00:00,  1.37it/s, gpu_mem=33.42 GB, lr=0.00100, train_loss=0.2416]\n",
      "Valid : 100%|██████████| 159/159 [00:05<00:00, 28.58it/s, gpu_memory=1.98 GB, lr=0.00100, valid_loss=0.1387]\n"
     ]
    },
    {
     "name": "stdout",
     "output_type": "stream",
     "text": [
      "0.5776626\n",
      "Valid Dice: 0.5921 | Valid Jaccard: 0.5211 | Valid Dice Mod: 0.5921\n",
      "\u001b[32mValid Score Improved (0.4880 ---> 0.5777)\n",
      "Model Saved\u001b[0m\n",
      "\n",
      "\n",
      "Epoch 17/50"
     ]
    },
    {
     "name": "stderr",
     "output_type": "stream",
     "text": [
      "Train : 100%|██████████| 189/189 [02:16<00:00,  1.38it/s, gpu_mem=33.35 GB, lr=0.00100, train_loss=0.2234]\n",
      "Valid : 100%|██████████| 159/159 [00:05<00:00, 27.67it/s, gpu_memory=1.98 GB, lr=0.00100, valid_loss=0.1399]\n"
     ]
    },
    {
     "name": "stdout",
     "output_type": "stream",
     "text": [
      "0.5981339\n",
      "Valid Dice: 0.6275 | Valid Jaccard: 0.5617 | Valid Dice Mod: 0.6275\n",
      "\u001b[32mValid Score Improved (0.5777 ---> 0.5981)\n",
      "Model Saved\u001b[0m\n",
      "\n",
      "\n",
      "Epoch 18/50"
     ]
    },
    {
     "name": "stderr",
     "output_type": "stream",
     "text": [
      "Train : 100%|██████████| 189/189 [02:20<00:00,  1.34it/s, gpu_mem=33.38 GB, lr=0.00100, train_loss=0.2265]\n",
      "Valid : 100%|██████████| 159/159 [00:05<00:00, 27.97it/s, gpu_memory=1.90 GB, lr=0.00100, valid_loss=0.1369]\n"
     ]
    },
    {
     "name": "stdout",
     "output_type": "stream",
     "text": [
      "0.61584926\n",
      "Valid Dice: 0.6693 | Valid Jaccard: 0.6028 | Valid Dice Mod: 0.6693\n",
      "\u001b[32mValid Score Improved (0.5981 ---> 0.6158)\n",
      "Model Saved\u001b[0m\n",
      "\n",
      "\n",
      "Epoch 19/50"
     ]
    },
    {
     "name": "stderr",
     "output_type": "stream",
     "text": [
      "Train : 100%|██████████| 189/189 [02:14<00:00,  1.41it/s, gpu_mem=33.40 GB, lr=0.00100, train_loss=0.2279]\n",
      "Valid : 100%|██████████| 159/159 [00:05<00:00, 28.03it/s, gpu_memory=1.91 GB, lr=0.00100, valid_loss=0.1366]\n"
     ]
    },
    {
     "name": "stdout",
     "output_type": "stream",
     "text": [
      "0.61630577\n",
      "Valid Dice: 0.6683 | Valid Jaccard: 0.6048 | Valid Dice Mod: 0.6683\n",
      "\u001b[32mValid Score Improved (0.6158 ---> 0.6163)\n",
      "Model Saved\u001b[0m\n",
      "\n",
      "\n",
      "Epoch 20/50"
     ]
    },
    {
     "name": "stderr",
     "output_type": "stream",
     "text": [
      "Train : 100%|██████████| 189/189 [02:12<00:00,  1.43it/s, gpu_mem=33.08 GB, lr=0.00100, train_loss=0.2263]\n",
      "Valid : 100%|██████████| 159/159 [00:05<00:00, 28.95it/s, gpu_memory=2.00 GB, lr=0.00100, valid_loss=0.1488]\n"
     ]
    },
    {
     "name": "stdout",
     "output_type": "stream",
     "text": [
      "0.5661541\n",
      "Valid Dice: 0.6474 | Valid Jaccard: 0.5825 | Valid Dice Mod: 0.6474\n",
      "\n",
      "\n",
      "Epoch 21/50"
     ]
    },
    {
     "name": "stderr",
     "output_type": "stream",
     "text": [
      "Train : 100%|██████████| 189/189 [02:17<00:00,  1.38it/s, gpu_mem=33.42 GB, lr=0.00100, train_loss=0.2201]\n",
      "Valid : 100%|██████████| 159/159 [00:05<00:00, 29.51it/s, gpu_memory=1.96 GB, lr=0.00100, valid_loss=0.1346]\n"
     ]
    },
    {
     "name": "stdout",
     "output_type": "stream",
     "text": [
      "0.62393045\n",
      "Valid Dice: 0.7114 | Valid Jaccard: 0.6469 | Valid Dice Mod: 0.7114\n",
      "\u001b[32mValid Score Improved (0.6163 ---> 0.6239)\n",
      "Model Saved\u001b[0m\n",
      "\n",
      "\n",
      "Epoch 22/50"
     ]
    },
    {
     "name": "stderr",
     "output_type": "stream",
     "text": [
      "Train : 100%|██████████| 189/189 [02:18<00:00,  1.37it/s, gpu_mem=33.37 GB, lr=0.00100, train_loss=0.2181]\n",
      "Valid : 100%|██████████| 159/159 [00:05<00:00, 28.24it/s, gpu_memory=1.91 GB, lr=0.00100, valid_loss=0.1344]\n"
     ]
    },
    {
     "name": "stdout",
     "output_type": "stream",
     "text": [
      "0.60162324\n",
      "Valid Dice: 0.6438 | Valid Jaccard: 0.5773 | Valid Dice Mod: 0.6438\n",
      "\n",
      "\n",
      "Epoch 23/50"
     ]
    },
    {
     "name": "stderr",
     "output_type": "stream",
     "text": [
      "Train : 100%|██████████| 189/189 [02:14<00:00,  1.40it/s, gpu_mem=33.37 GB, lr=0.00100, train_loss=0.2227]\n",
      "Valid : 100%|██████████| 159/159 [00:05<00:00, 27.74it/s, gpu_memory=1.96 GB, lr=0.00100, valid_loss=0.1399]\n"
     ]
    },
    {
     "name": "stdout",
     "output_type": "stream",
     "text": [
      "0.5902663\n",
      "Valid Dice: 0.6279 | Valid Jaccard: 0.5604 | Valid Dice Mod: 0.6279\n",
      "\n",
      "\n",
      "Epoch 24/50"
     ]
    },
    {
     "name": "stderr",
     "output_type": "stream",
     "text": [
      "Train :  97%|█████████▋| 184/189 [02:13<00:03,  1.60it/s, gpu_mem=33.37 GB, lr=0.00100, train_loss=0.2171]IOPub message rate exceeded.\n",
      "The notebook server will temporarily stop sending output\n",
      "to the client in order to avoid crashing it.\n",
      "To change this limit, set the config variable\n",
      "`--NotebookApp.iopub_msg_rate_limit`.\n",
      "\n",
      "Current values:\n",
      "NotebookApp.iopub_msg_rate_limit=1000.0 (msgs/sec)\n",
      "NotebookApp.rate_limit_window=3.0 (secs)\n",
      "\n",
      "Train : 100%|██████████| 189/189 [02:18<00:00,  1.37it/s, gpu_mem=33.36 GB, lr=0.00100, train_loss=0.2118]\n",
      "Valid : 100%|██████████| 159/159 [00:05<00:00, 29.89it/s, gpu_memory=1.99 GB, lr=0.00100, valid_loss=0.1305]\n"
     ]
    },
    {
     "name": "stdout",
     "output_type": "stream",
     "text": [
      "0.63208526\n",
      "Valid Dice: 0.6685 | Valid Jaccard: 0.6016 | Valid Dice Mod: 0.6685\n",
      "\n",
      "\n",
      "Epoch 39/50"
     ]
    },
    {
     "name": "stderr",
     "output_type": "stream",
     "text": [
      "Train : 100%|██████████| 189/189 [02:18<00:00,  1.36it/s, gpu_mem=33.37 GB, lr=0.00100, train_loss=0.2180]\n",
      "Valid : 100%|██████████| 159/159 [00:05<00:00, 30.08it/s, gpu_memory=1.94 GB, lr=0.00100, valid_loss=0.1247]\n"
     ]
    },
    {
     "name": "stdout",
     "output_type": "stream",
     "text": [
      "0.6506376\n",
      "Valid Dice: 0.6849 | Valid Jaccard: 0.6201 | Valid Dice Mod: 0.6849\n",
      "\u001b[32mValid Score Improved (0.6375 ---> 0.6506)\n",
      "Model Saved\u001b[0m\n",
      "\n",
      "\n",
      "Epoch 40/50"
     ]
    },
    {
     "name": "stderr",
     "output_type": "stream",
     "text": [
      "Train : 100%|██████████| 189/189 [02:25<00:00,  1.30it/s, gpu_mem=33.36 GB, lr=0.00100, train_loss=0.2152]\n",
      "Valid : 100%|██████████| 159/159 [00:05<00:00, 30.08it/s, gpu_memory=2.05 GB, lr=0.00100, valid_loss=0.1301]\n"
     ]
    },
    {
     "name": "stdout",
     "output_type": "stream",
     "text": [
      "0.62250805\n",
      "Valid Dice: 0.6513 | Valid Jaccard: 0.5840 | Valid Dice Mod: 0.6513\n",
      "\n",
      "\n",
      "Epoch 41/50"
     ]
    },
    {
     "name": "stderr",
     "output_type": "stream",
     "text": [
      "Train : 100%|██████████| 189/189 [02:17<00:00,  1.38it/s, gpu_mem=33.42 GB, lr=0.00100, train_loss=0.2133]\n",
      "Valid :  21%|██        | 33/159 [00:01<00:04, 27.80it/s, gpu_memory=1.74 GB, lr=0.00100, valid_loss=0.1174]"
     ]
    }
   ],
   "source": [
    "fold =0\n",
    "from tqdm import tqdm\n",
    "import time\n",
    "import copy\n",
    "import joblib\n",
    "from collections import defaultdict\n",
    "import gc\n",
    "from IPython import display as ipd\n",
    "for backbone in CFG.backbone :\n",
    "    print(backbone)\n",
    "    model     = build_model(backbone)\n",
    "    \n",
    "    optimizer = optim.Adam(model.parameters(), lr=CFG.lr, weight_decay=CFG.wd)\n",
    "    scheduler = fetch_scheduler(optimizer)\n",
    "    model, history = run_training(model,backbone, optimizer, scheduler,\n",
    "                                  device=CFG.device,\n",
    "                                  num_epochs=CFG.epochs)\n",
    "    \n",
    "    \n",
    "#run.finish()"
   ]
  },
  {
   "cell_type": "code",
   "execution_count": null,
   "id": "9be9b193",
   "metadata": {},
   "outputs": [],
   "source": [
    "bla"
   ]
  },
  {
   "cell_type": "code",
   "execution_count": null,
   "id": "b5a1c115",
   "metadata": {},
   "outputs": [],
   "source": []
  },
  {
   "cell_type": "code",
   "execution_count": null,
   "id": "b818ba8e",
   "metadata": {},
   "outputs": [],
   "source": []
  },
  {
   "cell_type": "code",
   "execution_count": null,
   "id": "46fb7490",
   "metadata": {},
   "outputs": [],
   "source": [
    "class CFG:\n",
    "    seed          = 101\n",
    "    debug         = False # set debug=False for Full Training\n",
    "    exp_name      = 'effb8modelv2fold0'\n",
    "    comment       = 'unet-effb0-256x256-aug2-split2'\n",
    "    model_name    = 'Unet'\n",
    "    backbone      = 'tf_efficientnet_b8','efficientnet--r','efficientnet-b5'\n",
    "    train_bs      = 16\n",
    "    valid_bs      = train_bs\n",
    "    img_size      = [512, 512]\n",
    "    epochs        = 100\n",
    "    lr            = 1e-3\n",
    "    scheduler     = 'CosineAnnealingLR'\n",
    "    min_lr        = 1e-6\n",
    "    T_max         = int(30000/train_bs*epochs)+50\n",
    "    T_0           = 25\n",
    "    warmup_epochs = 0\n",
    "    wd            = 1e-6\n",
    "    n_accumulate  = max(1, 32//train_bs)\n",
    "    n_fold        = 5\n",
    "    num_classes   = 1\n",
    "    p_mixup         =0.0\n",
    "    device        = torch.device(\"cuda:0\" if torch.cuda.is_available() else \"cpu\")"
   ]
  },
  {
   "cell_type": "code",
   "execution_count": null,
   "id": "ee0ed27f",
   "metadata": {},
   "outputs": [],
   "source": [
    "###Stage2 :\n",
    "def mixup(input, truth, clip=[0, 1]):\n",
    "    indices = torch.randperm(input.size(0))\n",
    "    shuffled_input = input[indices]\n",
    "    shuffled_labels = truth[indices]\n",
    "\n",
    "    lam = np.random.uniform(clip[0], clip[1])\n",
    "    input = input * lam + shuffled_input * (1 - lam)\n",
    "    return input, truth, shuffled_labels, lam\n",
    "\n",
    "\n",
    "def train_one_epochstage2(model, optimizer, scheduler, dataloader, device, epoch):\n",
    "    model.train()\n",
    "    scaler = amp.GradScaler()\n",
    "    \n",
    "    dataset_size = 0\n",
    "    running_loss = 0.0\n",
    "    \n",
    "    pbar = tqdm(enumerate(dataloader), total=len(dataloader), desc='Train ')\n",
    "    for step, (images, masks) in pbar:         \n",
    "        images = images.to(device, dtype=torch.float)\n",
    "        masks  = masks.to(device, dtype=torch.float)\n",
    "        \n",
    "        do_mixup = False\n",
    "        if random.random() < CFG.p_mixup:\n",
    "            do_mixup = True\n",
    "            images, masks, masks_sfl, lam = mixup(images, masks)\n",
    "        \n",
    "        batch_size = images.size(0)\n",
    "        \n",
    "        with amp.autocast(enabled=True):\n",
    "            y_pred = model(images)\n",
    "            loss   = criterion2(y_pred, masks)\n",
    "            loss   = loss / CFG.n_accumulate\n",
    "            if do_mixup:\n",
    "                loss2 = criterion(y_pred, masks_sfl)\n",
    "                loss = loss * lam  + loss2 * (1 - lam)\n",
    "            \n",
    "        scaler.scale(loss).backward()\n",
    "    \n",
    "        if (step + 1) % CFG.n_accumulate == 0:\n",
    "            scaler.step(optimizer)\n",
    "            scaler.update()\n",
    "\n",
    "            # zero the parameter gradients\n",
    "            optimizer.zero_grad()\n",
    "\n",
    "            if scheduler is not None:\n",
    "                scheduler.step()\n",
    "                \n",
    "        running_loss += (loss.item() * batch_size)\n",
    "        dataset_size += batch_size\n",
    "        \n",
    "        epoch_loss = running_loss / dataset_size\n",
    "        \n",
    "        mem = torch.cuda.memory_reserved() / 1E9 if torch.cuda.is_available() else 0\n",
    "        current_lr = optimizer.param_groups[0]['lr']\n",
    "        pbar.set_postfix(train_loss=f'{epoch_loss:0.4f}',\n",
    "                        lr=f'{current_lr:0.5f}',\n",
    "                        gpu_mem=f'{mem:0.2f} GB')\n",
    "    torch.cuda.empty_cache()\n",
    "    gc.collect()\n",
    "    \n",
    "    return epoch_loss\n"
   ]
  },
  {
   "cell_type": "code",
   "execution_count": null,
   "id": "c2534d99",
   "metadata": {},
   "outputs": [],
   "source": [
    "def criterion2(y_pred, y_true):\n",
    "    return DiceLoss(y_pred, y_true)"
   ]
  },
  {
   "cell_type": "code",
   "execution_count": null,
   "id": "d0dcebcc",
   "metadata": {},
   "outputs": [],
   "source": [
    "def run_trainingstage2(model,backbone, optimizer, scheduler, device, num_epochs):\n",
    "    # To automatically log gradients\n",
    "   # wandb.watch(model, log_freq=100)\n",
    "    fold =0\n",
    "    if torch.cuda.is_available():\n",
    "        print(\"cuda: {}\\n\".format(torch.cuda.get_device_name()))\n",
    "        \n",
    "    print(f\"Start Training for Backbone ====> {backbone}\")\n",
    "    \n",
    "    start = time.time()\n",
    "    best_model_wts = copy.deepcopy(model.state_dict())\n",
    "    best_dice      = -np.inf\n",
    "    best_epoch     = -1\n",
    "    history = defaultdict(list)\n",
    "    \n",
    "    for epoch in range(1, num_epochs + 1): \n",
    "        gc.collect()\n",
    "        print(f'Epoch {epoch}/{num_epochs}', end='')\n",
    "        train_loss = train_one_epochstage2(model, optimizer, scheduler, \n",
    "                                           dataloader=train_loader, \n",
    "                                           device=CFG.device, epoch=epoch)\n",
    "        \n",
    "        val_loss, val_scores,val_correct_dice = valid_one_epoch(model, valid_loader, \n",
    "                                                 device=CFG.device, \n",
    "                                                 epoch=epoch)\n",
    "        val_dice, val_jaccard,val_dice_mod = val_scores\n",
    "    \n",
    "        history['Train Loss'].append(train_loss)\n",
    "        history['Valid Loss'].append(val_loss)\n",
    "        history['Valid Dice'].append(val_correct_dice)\n",
    "        history['Valid Jaccard'].append(val_jaccard)\n",
    "        history['Valid Dice Mod'].append(val_dice_mod)\n",
    "\n",
    "        \n",
    "        # Log the metrics\n",
    " #       wandb.log({\"Train Loss\": train_loss, \n",
    " #                  \"Valid Loss\": val_loss,\n",
    " #                  \"Valid Dice\": val_dice,\n",
    " #                  \"Valid Jaccard\": val_jaccard,\n",
    " #                  \"LR\":scheduler.get_last_lr()[0]})\n",
    "        \n",
    "        print(f'Valid Dice: {val_correct_dice:0.4f} | Valid Jaccard: {val_jaccard:0.4f} | Valid Dice Mod: {val_dice_mod:0.4f}')\n",
    "        \n",
    "        # deep copy the model\n",
    "        if val_correct_dice >= best_dice:\n",
    "            print(f\"{c_}Valid Score Improved ({best_dice:0.4f} ---> {val_correct_dice:0.4f})\")\n",
    "            best_dice    = val_correct_dice\n",
    "            best_jaccard = val_jaccard\n",
    "            best_epoch   = epoch\n",
    "            #run.summary[\"Best Dice\"]    = best_dice\n",
    "            #run.summary[\"Best Jaccard\"] = best_jaccard\n",
    "            #run.summary[\"Best Epoch\"]   = best_epoch\n",
    "            best_model_wts = copy.deepcopy(model.state_dict())\n",
    "            PATH = f\"{CFG.exp_name}_{backbone}_best_epochstage2-{fold:02d}.bin\"\n",
    "            torch.save(model.state_dict(), PATH)\n",
    "            # Save a model file from the current directory\n",
    "            #wandb.save(PATH)\n",
    "            print(f\"Model Saved{sr_}\")\n",
    "            \n",
    "        last_model_wts = copy.deepcopy(model.state_dict())\n",
    "        PATH = f\"{CFG.exp_name}_{backbone}_last_epochstage2-{fold:02d}.bin\"\n",
    "        torch.save(model.state_dict(), PATH)\n",
    "            \n",
    "        print(); print()\n",
    "    \n",
    "    end = time.time()\n",
    "    time_elapsed = end - start\n",
    "    print('Training complete in {:.0f}h {:.0f}m {:.0f}s'.format(\n",
    "        time_elapsed // 3600, (time_elapsed % 3600) // 60, (time_elapsed % 3600) % 60))\n",
    "    print(\"Best Score: {:.4f}\".format(best_jaccard))\n",
    "    \n",
    "    # load best model weights\n",
    "    model.load_state_dict(best_model_wts)\n",
    "    \n",
    "    return model, history"
   ]
  },
  {
   "cell_type": "code",
   "execution_count": null,
   "id": "a453c391",
   "metadata": {},
   "outputs": [],
   "source": [
    "train_loader = DataLoader(train_dataset, batch_size=16, \n",
    "                              num_workers=4, shuffle=True, pin_memory=True, drop_last=False)\n",
    "valid_loader = DataLoader(val_dataset, batch_size=2 , \n",
    "                              num_workers=4, shuffle=False, pin_memory=True)\n",
    "test_loader = DataLoader(test_dataset, batch_size=CFG.valid_bs//2, \n",
    "                              num_workers=4, shuffle=False, pin_memory=True)\n",
    "\n",
    "fold =0\n",
    "from tqdm import tqdm\n",
    "import time\n",
    "import copy\n",
    "import joblib\n",
    "from collections import defaultdict\n",
    "import gc\n",
    "from IPython import display as ipd\n",
    "path='./effb8modelv2fold0_tf_efficientnet_b8_best_epoch-00.bin'\n",
    "\n",
    "for backbone in CFG.backbone :\n",
    "    print(backbone)\n",
    "    model     = build_model(backbone)\n",
    "    model =load_model(path,backbone)\n",
    "    model.train()\n",
    "    optimizer = optim.Adam(model.parameters(), lr=1e-4, weight_decay=CFG.wd)\n",
    "    scheduler = fetch_scheduler(optimizer)\n",
    "    model, history = run_trainingstage2(model,backbone, optimizer, scheduler,\n",
    "                                  device=CFG.device,\n",
    "                                  num_epochs=CFG.epochs)"
   ]
  },
  {
   "cell_type": "code",
   "execution_count": null,
   "id": "557e8d34",
   "metadata": {},
   "outputs": [],
   "source": [
    "train_loader = DataLoader(train_dataset, batch_size=16, \n",
    "                              num_workers=4, shuffle=True, pin_memory=True, drop_last=False)\n",
    "valid_loader = DataLoader(val_dataset, batch_size=16 , \n",
    "                              num_workers=4, shuffle=False, pin_memory=True)\n",
    "test_loader = DataLoader(test_dataset, batch_size=CFG.valid_bs//2, \n",
    "                              num_workers=4, shuffle=False, pin_memory=True)\n",
    "\n",
    "fold =0\n",
    "from tqdm import tqdm\n",
    "import time\n",
    "import copy\n",
    "import joblib\n",
    "from collections import defaultdict\n",
    "import gc\n",
    "from IPython import display as ipd\n",
    "path='./exp/effb8modelv2_tf_efficientnet_b8_best_epochstage2-00cv675.bin'\n",
    "\n",
    "for backbone in CFG.backbone :\n",
    "    print(backbone)\n",
    "    model     = build_model(backbone)\n",
    "    model =load_model(path,backbone)\n",
    "    model.train()\n",
    "    optimizer = optim.Adam(model.parameters(), lr=1e-5, weight_decay=CFG.wd)\n",
    "    scheduler = fetch_scheduler(optimizer)\n",
    "    model, history = run_trainingstage2(model,backbone, optimizer, scheduler,\n",
    "                                  device=CFG.device,\n",
    "                                  num_epochs=CFG.epochs)"
   ]
  },
  {
   "cell_type": "code",
   "execution_count": null,
   "id": "84fce5d2",
   "metadata": {},
   "outputs": [],
   "source": [
    "####STAGE 3 "
   ]
  },
  {
   "cell_type": "code",
   "execution_count": null,
   "id": "6c6a8370",
   "metadata": {},
   "outputs": [],
   "source": [
    "class CFG:\n",
    "    seed          = 101\n",
    "    debug         = False # set debug=False for Full Training\n",
    "    exp_name      = 'qishentrialv384unetplus'\n",
    "    comment       = 'unet-effb0-256x256-aug2-split2'\n",
    "    model_name    = 'Unet'\n",
    "    backbone      = 'tf_efficientnet_b7_ns','efficientnet--r','efficientnet-b5'\n",
    "    train_bs      = 12\n",
    "    valid_bs      = train_bs\n",
    "    img_size      = [384, 384]\n",
    "    epochs        = 1\n",
    "    lr            = 1e-3\n",
    "    scheduler     = 'CosineAnnealingLR'\n",
    "    min_lr        = 1e-6\n",
    "    T_max         = int(30000/train_bs*epochs)+50\n",
    "    T_0           = 25\n",
    "    warmup_epochs = 0\n",
    "    wd            = 1e-6\n",
    "    n_accumulate  = max(1, 32//train_bs)\n",
    "    n_fold        = 5\n",
    "    num_classes   = 1\n",
    "    p_mixup         =0.0\n",
    "    device        = torch.device(\"cuda:0\" if torch.cuda.is_available() else \"cpu\")"
   ]
  },
  {
   "cell_type": "code",
   "execution_count": null,
   "id": "f37609fa",
   "metadata": {},
   "outputs": [],
   "source": [
    "###Stage2 :\n",
    "def mixup(input, truth, clip=[0, 1]):\n",
    "    indices = torch.randperm(input.size(0))\n",
    "    shuffled_input = input[indices]\n",
    "    shuffled_labels = truth[indices]\n",
    "\n",
    "    lam = np.random.uniform(clip[0], clip[1])\n",
    "    input = input * lam + shuffled_input * (1 - lam)\n",
    "    return input, truth, shuffled_labels, lam\n",
    "\n",
    "\n",
    "def train_one_epochstage3(model, optimizer, scheduler, dataloader, device, epoch):\n",
    "    model.train()\n",
    "    scaler = amp.GradScaler()\n",
    "    \n",
    "    dataset_size = 0\n",
    "    running_loss = 0.0\n",
    "    \n",
    "    pbar = tqdm(enumerate(dataloader), total=len(dataloader), desc='Train ')\n",
    "    for step, (images, masks) in pbar:         \n",
    "        images = images.to(device, dtype=torch.float)\n",
    "        masks  = masks.to(device, dtype=torch.float)\n",
    "        \n",
    "        do_mixup = False\n",
    "        if random.random() < CFG.p_mixup:\n",
    "            do_mixup = True\n",
    "            images, masks, masks_sfl, lam = mixup(images, masks)\n",
    "        \n",
    "        batch_size = images.size(0)\n",
    "        \n",
    "        with amp.autocast(enabled=True):\n",
    "            y_pred = model(images)\n",
    "            loss   = criterion2(y_pred, masks)\n",
    "            loss   = loss / CFG.n_accumulate\n",
    "            if do_mixup:\n",
    "                loss2 = criterion(y_pred, masks_sfl)\n",
    "                loss = loss * lam  + loss2 * (1 - lam)\n",
    "            \n",
    "        scaler.scale(loss).backward()\n",
    "    \n",
    "        if (step + 1) % CFG.n_accumulate == 0:\n",
    "            scaler.step(optimizer)\n",
    "            scaler.update()\n",
    "\n",
    "            # zero the parameter gradients\n",
    "            optimizer.zero_grad()\n",
    "\n",
    "            if scheduler is not None:\n",
    "                scheduler.step()\n",
    "                \n",
    "        running_loss += (loss.item() * batch_size)\n",
    "        dataset_size += batch_size\n",
    "        \n",
    "        epoch_loss = running_loss / dataset_size\n",
    "        \n",
    "        mem = torch.cuda.memory_reserved() / 1E9 if torch.cuda.is_available() else 0\n",
    "        current_lr = optimizer.param_groups[0]['lr']\n",
    "        pbar.set_postfix(train_loss=f'{epoch_loss:0.4f}',\n",
    "                        lr=f'{current_lr:0.5f}',\n",
    "                        gpu_mem=f'{mem:0.2f} GB')\n",
    "    torch.cuda.empty_cache()\n",
    "    gc.collect()\n",
    "    \n",
    "    return epoch_loss\n"
   ]
  },
  {
   "cell_type": "code",
   "execution_count": null,
   "id": "2f2f3543",
   "metadata": {},
   "outputs": [],
   "source": [
    "def train_csv(x,path):\n",
    "    y= x.replace(\"/kaggle/working/data/\",f\"{path}\")\n",
    "    return y\n",
    "\n",
    "class Dataset:\n",
    "    def __init__(self,mode,transform =None,is_inference=True):\n",
    "        \n",
    "        self.is_infer = is_inference\n",
    "\n",
    "        \n",
    "        if mode == 'train':\n",
    "            ROOT_PATH = './contraildata/train'\n",
    "            DATA_PATH = './contraildata/train/data_train/kaggle/working/data/'\n",
    "        elif mode =='valid':\n",
    "            ROOT_PATH = './contraildata/'\n",
    "            DATA_PATH = './contraildata/validation/data_valid/kaggle/working/data_valid/'\n",
    "        elif mode == 'all' :\n",
    "            ROOT_PATH = './contraildata/all'\n",
    "            DATA_PATH = './contraildata/all/'\n",
    "            \n",
    "        else :\n",
    "            ROOT_PATH = './contraildata/'\n",
    "            DATA_PATH = './contraildata/validation/data_valid/kaggle/working/data_valid/'\n",
    "            \n",
    "        if mode =='all':\n",
    "            \n",
    "            df = pd.read_csv(f\"{ROOT_PATH}/data_all.csv\")\n",
    "            \n",
    "        else:\n",
    "\n",
    "            df = pd.read_csv(f\"{ROOT_PATH}/data.csv\")\n",
    "        \n",
    "            df[\"image\"]=df[\"image\"].apply(lambda x: train_csv(x,DATA_PATH))\n",
    "        \n",
    "            if not (self.is_infer):\n",
    "                df[\"label\"]=df[\"label\"].apply(lambda x:train_csv(x,DATA_PATH))\n",
    "\n",
    "        self.images = df['image']\n",
    "        self.labels = df['label']\n",
    "        self.transform =transform\n",
    "    def __getitem__(self, idx):\n",
    "        image = np.load(self.images[idx]).astype(float)\n",
    "        if not self.is_infer : \n",
    "            \n",
    "            label = np.load(self.labels[idx]).astype(float)\n",
    "            \n",
    "            if  self.transform :\n",
    "                data = self.transform(image=image, mask=label)\n",
    "                image  = data['image']\n",
    "                label  = data['mask']\n",
    "                image = np.transpose(image, (2, 0, 1))\n",
    "                label = np.transpose(label, (2, 0, 1))                \n",
    "            return torch.tensor(image), torch.tensor(label)\n",
    "        else :\n",
    "\n",
    "            if  self.transform :\n",
    "                data = self.transform(image=image)\n",
    "                image  = data['image']\n",
    "                image = np.transpose(image, (2, 0, 1))\n",
    "            return torch.tensor(image)\n",
    "    \n",
    "    def __len__(self):\n",
    "        return len(self.images)\n",
    "    \n",
    "train_dataset = Dataset('train',transform =data_transforms['train'],is_inference=False)    \n",
    "val_dataset = Dataset('valid',transform =data_transforms['valid'],is_inference=False)    \n",
    "all_dataset = Dataset('all',transform =data_transforms['train'],is_inference=False)    \n",
    "\n",
    "test_dataset = Dataset('test',transform =data_transforms['valid'],is_inference=True)    \n",
    "\n",
    "train_loader = DataLoader(train_dataset, batch_size=CFG.train_bs , \n",
    "                              num_workers=4, shuffle=True, pin_memory=True, drop_last=False)\n",
    "\n",
    "all_loader = DataLoader(all_dataset, batch_size=8 , \n",
    "                              num_workers=4, shuffle=True, pin_memory=True, drop_last=False)\n",
    "valid_loader = DataLoader(val_dataset, batch_size=4 , \n",
    "                              num_workers=4, shuffle=False, pin_memory=True)\n",
    "test_loader = DataLoader(test_dataset, batch_size=CFG.valid_bs, \n",
    "                              num_workers=4, shuffle=False, pin_memory=True)"
   ]
  },
  {
   "cell_type": "code",
   "execution_count": null,
   "id": "972b05eb",
   "metadata": {},
   "outputs": [],
   "source": [
    "def run_trainingstage3(model,backbone, optimizer, scheduler, device, num_epochs):\n",
    "    # To automatically log gradients\n",
    "   # wandb.watch(model, log_freq=100)\n",
    "    fold =0\n",
    "    if torch.cuda.is_available():\n",
    "        print(\"cuda: {}\\n\".format(torch.cuda.get_device_name()))\n",
    "        \n",
    "    print(f\"Start Training for Backbone ====> {backbone}\")\n",
    "    \n",
    "    start = time.time()\n",
    "    best_model_wts = copy.deepcopy(model.state_dict())\n",
    "    best_dice      = -np.inf\n",
    "    best_epoch     = -1\n",
    "    history = defaultdict(list)\n",
    "    \n",
    "    for epoch in range(1, num_epochs + 1): \n",
    "        gc.collect()\n",
    "        print(f'Epoch {epoch}/{num_epochs}', end='')\n",
    "        train_loss = train_one_epochstage3(model, optimizer, scheduler, \n",
    "                                           dataloader=all_loader, \n",
    "                                           device=CFG.device, epoch=epoch)\n",
    "        \n",
    "        val_loss, val_scores,val_correct_dice = valid_one_epoch(model, valid_loader, \n",
    "                                                 device=CFG.device, \n",
    "                                                 epoch=epoch)\n",
    "        val_dice, val_jaccard,val_dice_mod = val_scores\n",
    "    \n",
    "        history['Train Loss'].append(train_loss)\n",
    "        history['Valid Loss'].append(val_loss)\n",
    "        history['Valid Dice'].append(val_correct_dice)\n",
    "        history['Valid Jaccard'].append(val_jaccard)\n",
    "        history['Valid Dice Mod'].append(val_dice_mod)\n",
    "\n",
    "        \n",
    "        # Log the metrics\n",
    " #       wandb.log({\"Train Loss\": train_loss, \n",
    " #                  \"Valid Loss\": val_loss,\n",
    " #                  \"Valid Dice\": val_dice,\n",
    " #                  \"Valid Jaccard\": val_jaccard,\n",
    " #                  \"LR\":scheduler.get_last_lr()[0]})\n",
    "        \n",
    "        print(f'Valid Dice: {val_correct_dice:0.4f} | Valid Jaccard: {val_jaccard:0.4f} | Valid Dice Mod: {val_dice_mod:0.4f}')\n",
    "        \n",
    "        # deep copy the model\n",
    "        if val_correct_dice >= best_dice:\n",
    "            print(f\"{c_}Valid Score Improved ({best_dice:0.4f} ---> {val_correct_dice:0.4f})\")\n",
    "            best_dice    = val_correct_dice\n",
    "            best_jaccard = val_jaccard\n",
    "            best_epoch   = epoch\n",
    "            #run.summary[\"Best Dice\"]    = best_dice\n",
    "            #run.summary[\"Best Jaccard\"] = best_jaccard\n",
    "            #run.summary[\"Best Epoch\"]   = best_epoch\n",
    "            best_model_wts = copy.deepcopy(model.state_dict())\n",
    "            PATH = f\"{CFG.exp_name}_{backbone}_best_epochstage3-{fold:02d}.bin\"\n",
    "            torch.save(model.state_dict(), PATH)\n",
    "            # Save a model file from the current directory\n",
    "            #wandb.save(PATH)\n",
    "            print(f\"Model Saved{sr_}\")\n",
    "            \n",
    "        last_model_wts = copy.deepcopy(model.state_dict())\n",
    "        PATH = f\"{CFG.exp_name}_{backbone}_last_epochstage3-{fold:02d}.bin\"\n",
    "        torch.save(model.state_dict(), PATH)\n",
    "            \n",
    "        print(); print()\n",
    "    \n",
    "    end = time.time()\n",
    "    time_elapsed = end - start\n",
    "    print('Training complete in {:.0f}h {:.0f}m {:.0f}s'.format(\n",
    "        time_elapsed // 3600, (time_elapsed % 3600) // 60, (time_elapsed % 3600) % 60))\n",
    "    print(\"Best Score: {:.4f}\".format(best_jaccard))\n",
    "    \n",
    "    # load best model weights\n",
    "    model.load_state_dict(best_model_wts)\n",
    "    \n",
    "    return model, history"
   ]
  },
  {
   "cell_type": "code",
   "execution_count": null,
   "id": "7e898b8c",
   "metadata": {},
   "outputs": [],
   "source": [
    "fold =0\n",
    "from tqdm import tqdm\n",
    "import time\n",
    "import copy\n",
    "import joblib\n",
    "from collections import defaultdict\n",
    "import gc\n",
    "from IPython import display as ipd\n",
    "path='./qishentrialv384unetplus_tf_efficientnet_b7_ns_best_epochstage2-00.bin'\n",
    "\n",
    "for backbone in CFG.backbone :\n",
    "    print(backbone)\n",
    "    model     = build_model(backbone)\n",
    "    model =load_model(path,backbone)\n",
    "    model.train()\n",
    "    optimizer = optim.Adam(model.parameters(), lr=1e-5, weight_decay=CFG.wd)\n",
    "    scheduler = fetch_scheduler(optimizer)\n",
    "    model, history = run_trainingstage3(model,backbone, optimizer, scheduler,\n",
    "                                  device=CFG.device,\n",
    "                                  num_epochs=CFG.epochs)"
   ]
  },
  {
   "cell_type": "code",
   "execution_count": null,
   "id": "3405bcdb",
   "metadata": {},
   "outputs": [],
   "source": [
    "backbones =['efficientnet_b0']\n"
   ]
  },
  {
   "cell_type": "code",
   "execution_count": null,
   "id": "2d98314b",
   "metadata": {},
   "outputs": [],
   "source": [
    "%%time\n",
    "out_rle=[]\n",
    "\n",
    "preds = []\n",
    "truth= []\n",
    "preds_all =[]\n",
    "truth_all =[]\n",
    "preds_new=[]\n",
    "for index,(imgs,msks) in enumerate(valid_loader):\n",
    "        imgs = imgs.to(CFG.device, dtype=torch.float)\n",
    "        msks = msks.to(CFG.device, dtype=torch.float)\n",
    "        pred_bb=0\n",
    "        for backbone in backbones:\n",
    "            model = load_model(\"qishentrial_efficientnet-b0_best_epoch-00.bin\",backbone)\n",
    "            with torch.no_grad():\n",
    "                pred = model(imgs)\n",
    "                pred_bb+=pred\n",
    "        pred = (nn.Sigmoid()(pred_bb/len(backbones))>0.5).double()\n",
    "        preds.append(pred)\n",
    "        preds_new.append(pred.cpu().detach())\n",
    "imgs  = imgs.cpu().detach()\n",
    "msks  =msks.cpu().detach()\n",
    "\n",
    "preds_new = torch.mean(torch.stack(preds, dim=0), dim=0).cpu().detach()\n",
    "#truth = torch.mean(torch.stack(msks, dim=0), dim=0).cpu().detach()\n",
    "\n",
    "\n",
    "#out_reversed = np.array([o.cpu().permute(1,2,0).numpy() for o in preds])\n",
    "#for e in out_reversed:\n",
    "#    out_rle.append(e)"
   ]
  },
  {
   "cell_type": "code",
   "execution_count": null,
   "id": "cbfef36e",
   "metadata": {},
   "outputs": [],
   "source": [
    "pred_bb =torch.randn(64,1,512,512)\n",
    "\n",
    "cv2.resize(pred_bb[0].numpy().reshape(512,512),(256,256),interpolation=cv2.INTER_NEAREST).shape"
   ]
  },
  {
   "cell_type": "code",
   "execution_count": null,
   "id": "c7ea7ce9",
   "metadata": {},
   "outputs": [],
   "source": [
    "backbone=['efficientnet_b0']\n",
    "imgs,msks = next(iter(valid_loader))\n",
    "imgs = imgs.to(CFG.device, dtype=torch.float)\n",
    "out_rle=[]\n",
    "\n",
    "preds = []\n",
    "for fold in range(1):\n",
    "    \n",
    "    for bb in backbone:\n",
    "        \n",
    "        model = load_model(f\"qishentrial_efficientnet-b0_best_epoch-00.bin\",bb)\n",
    "        with torch.no_grad():\n",
    "            pred_tmp = model(imgs)\n",
    "            pred+=pred_tmp\n",
    "    pred = (nn.Sigmoid()(pred)>0.5).double()\n",
    "    preds.append(pred)\n",
    "    \n",
    "imgs  = imgs.cpu().detach()\n",
    "preds = torch.mean(torch.stack(preds, dim=0), dim=0).cpu().detach()\n",
    "\n",
    "out_reversed = np.array([o.cpu().permute(1,2,0).numpy() for o in preds])\n",
    "for e in out_reversed:\n",
    "    out_rle.append(e)"
   ]
  },
  {
   "cell_type": "code",
   "execution_count": null,
   "id": "b2883d8c",
   "metadata": {},
   "outputs": [],
   "source": [
    "def resizeMask(mask, w, h):\n",
    "    \n",
    "    resmask = np.zeros((h, w, mask.shape[2]))\n",
    "    for i in range(mask.shape[2]):\n",
    "        resmask[...,i] = cv2.resize(mask[...,i], (w,h))\n",
    "        \n",
    "    return resmask"
   ]
  },
  {
   "cell_type": "code",
   "execution_count": null,
   "id": "e924b987",
   "metadata": {},
   "outputs": [],
   "source": [
    "b,c,h,w =preds.shape\n",
    "\n",
    "def np_resize(img, input_shape):\n",
    "    \"\"\"\n",
    "    Reshape a numpy array, which is input_shape=(height, width), \n",
    "    as opposed to input_shape=(width, height) for cv2\n",
    "    \"\"\"\n",
    "    height, width = input_shape\n",
    "    return cv2.resize(img, (width, height))"
   ]
  },
  {
   "cell_type": "code",
   "execution_count": null,
   "id": "d840488e",
   "metadata": {},
   "outputs": [],
   "source": [
    "msks"
   ]
  },
  {
   "cell_type": "code",
   "execution_count": null,
   "id": "8f8640b8",
   "metadata": {},
   "outputs": [],
   "source": [
    "plot_batch(imgs, preds, size=2)"
   ]
  },
  {
   "cell_type": "code",
   "execution_count": null,
   "id": "d5a41498",
   "metadata": {},
   "outputs": [],
   "source": [
    "plot_batch(imgs, msks, size=5)"
   ]
  },
  {
   "cell_type": "code",
   "execution_count": null,
   "id": "82ad4a40",
   "metadata": {},
   "outputs": [],
   "source": []
  },
  {
   "cell_type": "code",
   "execution_count": null,
   "id": "7aac5e96",
   "metadata": {},
   "outputs": [],
   "source": []
  },
  {
   "cell_type": "code",
   "execution_count": null,
   "id": "6c00ac3b",
   "metadata": {},
   "outputs": [],
   "source": []
  }
 ],
 "metadata": {
  "kernelspec": {
   "display_name": "Python 3 (ipykernel)",
   "language": "python",
   "name": "python3"
  },
  "language_info": {
   "codemirror_mode": {
    "name": "ipython",
    "version": 3
   },
   "file_extension": ".py",
   "mimetype": "text/x-python",
   "name": "python",
   "nbconvert_exporter": "python",
   "pygments_lexer": "ipython3",
   "version": "3.8.10"
  }
 },
 "nbformat": 4,
 "nbformat_minor": 5
}
