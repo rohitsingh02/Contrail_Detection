{
 "cells": [
  {
   "cell_type": "code",
   "execution_count": 1,
   "id": "041ac14f",
   "metadata": {},
   "outputs": [],
   "source": [
    "# import os\n",
    "# os.environ['CUDA_VISIBLE_DEVICES'] = '1'\n",
    "\n",
    "# !pip install --upgrade segmentation_models_pytorch"
   ]
  },
  {
   "cell_type": "code",
   "execution_count": 2,
   "id": "77e5af39",
   "metadata": {},
   "outputs": [],
   "source": [
    "import os\n",
    "import shutil\n",
    "import pathlib\n",
    "import gc\n",
    "import pandas as pd\n",
    "import ttach as tta\n",
    "from pathlib import Path\n",
    "from PIL import Image\n",
    "import numpy as np\n",
    "import cv2 as cv\n",
    "import random\n",
    "import matplotlib.pyplot as plt\n",
    "# from tqdm.auto import tqdm\n",
    "from tqdm.notebook import tqdm\n",
    "import torch\n",
    "import torch.nn as nn\n",
    "import torch.nn.functional as F\n",
    "from torch import optim\n",
    "import torch\n",
    "from torch.utils.data import DataLoader, random_split\n",
    "from torch.utils.data import Dataset\n",
    "\n",
    "import torchvision\n",
    "from torchvision import datasets\n",
    "import cv2\n",
    "from torch.cuda import amp\n",
    "\n",
    "import torchvision.transforms as T\n",
    "from torchvision.transforms import Compose, ToTensor, Resize\n",
    "from torchvision.utils import make_grid\n",
    "import optuna\n",
    "\n",
    "import albumentations as A\n",
    "from albumentations.pytorch import ToTensorV2\n",
    "import segmentation_models_pytorch as smp\n",
    "import timm"
   ]
  },
  {
   "cell_type": "code",
   "execution_count": 3,
   "id": "157ff8d6",
   "metadata": {},
   "outputs": [],
   "source": [
    "def seed_everything(seed=42):\n",
    "    '''Sets the seed of the entire notebook so results are the same every time we run.\n",
    "    This is for REPRODUCIBILITY.'''\n",
    "    np.random.seed(seed)\n",
    "    random.seed(seed)\n",
    "    torch.manual_seed(seed)\n",
    "    torch.cuda.manual_seed(seed)\n",
    "    torch.backends.cudnn.deterministic = True\n",
    "    torch.backends.cudnn.benchmark = False\n",
    "    os.environ['PYTHONHASHSEED'] = str(seed)"
   ]
  },
  {
   "cell_type": "code",
   "execution_count": 4,
   "id": "12e6bf9e",
   "metadata": {},
   "outputs": [],
   "source": [
    "seed_everything(42)"
   ]
  },
  {
   "cell_type": "code",
   "execution_count": null,
   "id": "ddb77d81",
   "metadata": {},
   "outputs": [],
   "source": []
  },
  {
   "cell_type": "code",
   "execution_count": 5,
   "id": "c5654e79",
   "metadata": {},
   "outputs": [],
   "source": [
    "\n",
    "ensemple_type = \"No\" #\"No\" #\"mine\""
   ]
  },
  {
   "cell_type": "code",
   "execution_count": 6,
   "id": "2ddaafa6",
   "metadata": {},
   "outputs": [],
   "source": [
    "device = torch.device('cuda' if torch.cuda.is_available() else 'cpu')\n"
   ]
  },
  {
   "cell_type": "code",
   "execution_count": 7,
   "id": "d58a5058",
   "metadata": {},
   "outputs": [],
   "source": [
    "import torchvision.transforms as T\n",
    "\n",
    "\n",
    "class ContrailDataset:\n",
    "    def __init__(self, df, transform=None, normalize=False):\n",
    "        self.df = df  \n",
    "        self.images = df['image']\n",
    "        self.labels = df['label']\n",
    "        self.transform =transform\n",
    "        self.normalize_image = T.Normalize((0.485, 0.456, 0.406), (0.229, 0.224, 0.225))\n",
    "        self.normalize=normalize\n",
    "        \n",
    "        \n",
    "    def __len__(self):\n",
    "        return len(self.images)\n",
    "        \n",
    "    def __getitem__(self, idx):\n",
    "        image = np.load(\"../../input/\" + self.images[idx]).astype(float)   \n",
    "        label = np.load(\"../../input/\" + self.labels[idx]).astype(float)\n",
    "        \n",
    "        \n",
    "        # label_cls = 1 if label.sum() > 0 else 0\n",
    "        if self.transform :\n",
    "            data = self.transform(image=image, mask=label)\n",
    "            image  = data['image']\n",
    "            label  = data['mask']\n",
    "            image = np.transpose(image, (2, 0, 1))\n",
    "            label = np.transpose(label, (2, 0, 1))    \n",
    "            \n",
    "            \n",
    "#         return torch.tensor(image), torch.tensor(label)\n",
    "    \n",
    "        if self.normalize:\n",
    "            image = self.normalize_image(torch.tensor(image))\n",
    "            return image, torch.tensor(label)\n",
    "        else:\n",
    "            return torch.tensor(image), torch.tensor(label)\n",
    "    \n",
    "    "
   ]
  },
  {
   "cell_type": "code",
   "execution_count": 8,
   "id": "985b3de5",
   "metadata": {},
   "outputs": [],
   "source": [
    "###TImmunetplusplus model Nirjhar\n",
    "\n",
    "n_blocks = 4\n",
    "\n",
    "class TimmSegModel(nn.Module):\n",
    "    def __init__(self, cfg, segtype='unet', pretrained=True):\n",
    "        super(TimmSegModel, self).__init__()\n",
    "        self.conv1 = nn.Conv2d(3, 6, 3, stride=1, padding=1, bias=False)\n",
    "        self.conv2 = nn.Conv2d(6, 12, 3, stride=1, padding=1, bias=False)\n",
    "        self.conv3 = nn.Conv2d(12, 36, 3, stride=1, padding=1, bias=False)\n",
    "        self.mybn1 = nn.BatchNorm2d(6)\n",
    "        self.mybn2 = nn.BatchNorm2d(12)\n",
    "        self.mybn3 = nn.BatchNorm2d(36)     \n",
    "        self.encoder = timm.create_model(\n",
    "            cfg['backbone'],\n",
    "            in_chans=3,\n",
    "            features_only=True,\n",
    "            drop_rate=0.8,\n",
    "            drop_path_rate=0.5,\n",
    "            pretrained=False\n",
    "        )\n",
    "        self.encoder.conv_stem=nn.Conv2d(6, 64, kernel_size=(3, 3), stride=(2, 2), padding=(1, 1), bias=False)\n",
    "\n",
    "        self.encoder.blocks[5] = nn.Identity()\n",
    "        self.encoder.blocks[6] = nn.Sequential(\n",
    "            nn.Conv2d(self.encoder.blocks[4][2].conv_pwl.out_channels, 320, 1),\n",
    "            nn.BatchNorm2d(320),\n",
    "            nn.ReLU6(),\n",
    "        )\n",
    "        tr = torch.randn(1,6,64,64)\n",
    "        g = self.encoder(tr)\n",
    "        encoder_channels = [1] + [_.shape[1] for _ in g]\n",
    "        decoder_channels = [256, 128, 64, 32, 16]\n",
    "        if segtype == 'unet':\n",
    "            self.decoder = smp.decoders.unetplusplus.decoder.UnetPlusPlusDecoder(\n",
    "                encoder_channels=encoder_channels[:n_blocks+1],\n",
    "                decoder_channels=decoder_channels[:n_blocks],\n",
    "                n_blocks=n_blocks,\n",
    "            )\n",
    "\n",
    "        self.segmentation_head = nn.Conv2d(\n",
    "            decoder_channels[n_blocks-1],\n",
    "            cfg[\"num_classes\"], \n",
    "            kernel_size=(3, 3),\n",
    "            stride=(1, 1), \n",
    "            padding=(1, 1)\n",
    "        )\n",
    "\n",
    "    def forward(self,x):\n",
    "        x = F.relu6(self.mybn1(self.conv1(x)))\n",
    "        global_features = [0] + self.encoder(x)[:n_blocks]\n",
    "        seg_features = self.decoder(*global_features)\n",
    "        seg_features = self.segmentation_head(seg_features)\n",
    "        return seg_features\n",
    "    \n",
    "\n",
    "def load_model1(cfg):\n",
    "    model = TimmSegModel(cfg)\n",
    "    model.load_state_dict(torch.load(cfg['model_pth']))\n",
    "    return model\n",
    "\n",
    "\n",
    "#### Model 2 Nirjhar\n",
    "\n",
    "n_blocks =4\n",
    "class TimmSegModel2(nn.Module):\n",
    "    def __init__(self, cfg, segtype='unet', pretrained=True):\n",
    "        super(TimmSegModel2, self).__init__()\n",
    "\n",
    "        self.encoder = timm.create_model(\n",
    "            cfg['backbone'],\n",
    "            in_chans=3,\n",
    "            features_only=True,\n",
    "            drop_rate=0.5,\n",
    "            pretrained=False\n",
    "        )\n",
    "        g = self.encoder(torch.rand(1, 3, 128, 128))\n",
    "        encoder_channels = [1] + [_.shape[1] for _ in g]\n",
    "        decoder_channels = [256, 128, 64, 32, 16]\n",
    "        if segtype == 'unet':\n",
    "            self.decoder = smp.decoders.unetplusplus.decoder.UnetPlusPlusDecoder(\n",
    "                encoder_channels=encoder_channels[:n_blocks+1],\n",
    "                decoder_channels=decoder_channels[:n_blocks],\n",
    "                n_blocks=n_blocks,\n",
    "            )\n",
    "\n",
    "        self.segmentation_head = nn.Sequential(\n",
    "            nn.Conv2d(decoder_channels[n_blocks-1], 1, kernel_size=(3, 3), stride=(1, 1), padding=(1, 1)),\n",
    "            nn.UpsamplingBilinear2d(scale_factor=1))\n",
    "\n",
    "    def forward(self,x):\n",
    "        global_features = [0] + self.encoder(x)[:n_blocks]\n",
    "        seg_features = self.decoder(*global_features)\n",
    "        seg_features = self.segmentation_head(seg_features)\n",
    "        return seg_features\n",
    "    \n",
    "\n",
    "def load_model2(cfg):\n",
    "    model = TimmSegModel2(cfg)\n",
    "    model.load_state_dict(torch.load(cfg['model_pth']))\n",
    "    return model\n",
    "\n",
    "\n",
    "##################\n",
    "\n",
    "n_blocks = 4\n",
    "\n",
    "class TimmSegModel3(nn.Module):\n",
    "    def __init__(self, cfg, segtype='unet', pretrained=True):\n",
    "        super(TimmSegModel3, self).__init__()\n",
    "        self.conv1 = nn.Conv2d(3, 6, 3, stride=1, padding=1, bias=False)\n",
    "        self.conv2 = nn.Conv2d(6, 12, 3, stride=1, padding=1, bias=False)\n",
    "        self.conv3 = nn.Conv2d(12, 36, 3, stride=1, padding=1, bias=False)\n",
    "        self.mybn1 = nn.BatchNorm2d(6)\n",
    "        self.mybn2 = nn.BatchNorm2d(12)\n",
    "        self.mybn3 = nn.BatchNorm2d(36)     \n",
    "        self.encoder = timm.create_model(\n",
    "            cfg[\"backbone\"],\n",
    "            in_chans=3,\n",
    "            features_only=True,\n",
    "            drop_rate=0.8,\n",
    "            drop_path_rate=0.5,\n",
    "            pretrained=False\n",
    "        )\n",
    "        self.encoder.conv_stem=nn.Conv2d(6, 72, kernel_size=(3, 3), stride=(2, 2), padding=(1, 1), bias=False)\n",
    "\n",
    "        self.encoder.blocks[5] = nn.Identity()\n",
    "        self.encoder.blocks[6] = nn.Sequential(\n",
    "            nn.Conv2d(self.encoder.blocks[4][2].conv_pwl.out_channels, 320, 1),\n",
    "            nn.BatchNorm2d(320),\n",
    "            nn.ReLU6(),\n",
    "        )\n",
    "        tr = torch.randn(1,6,64,64)\n",
    "        g = self.encoder(tr)\n",
    "        encoder_channels = [1] + [_.shape[1] for _ in g]\n",
    "        decoder_channels = [256, 128, 64, 32, 16]\n",
    "        if segtype == 'unet':\n",
    "            self.decoder = smp.decoders.unetplusplus.decoder.UnetPlusPlusDecoder(\n",
    "                encoder_channels=encoder_channels[:n_blocks+1],\n",
    "                decoder_channels=decoder_channels[:n_blocks],\n",
    "                n_blocks=n_blocks,\n",
    "            )\n",
    "\n",
    "        self.segmentation_head = nn.Conv2d(decoder_channels[n_blocks-1], cfg['num_classes'], kernel_size=(3, 3), stride=(1, 1), padding=(1, 1))\n",
    "\n",
    "    def forward(self,x):\n",
    "        x = F.relu6(self.mybn1(self.conv1(x)))\n",
    "        global_features = [0] + self.encoder(x)[:n_blocks]\n",
    "        seg_features = self.decoder(*global_features)\n",
    "        seg_features = self.segmentation_head(seg_features)\n",
    "        return seg_features\n",
    "    \n",
    "    \n",
    "    \n",
    "def load_model3(cfg):\n",
    "    model = TimmSegModel3(cfg)\n",
    "    model.load_state_dict(torch.load(cfg['model_pth']))\n",
    "    return model\n",
    "\n",
    "\n",
    "\n",
    "## Rohit Model \n",
    "class Net(nn.Module):\n",
    "    def __init__(self, cfg):\n",
    "        super().__init__()\n",
    "        self.cfg = cfg\n",
    "        \n",
    "        self.model = smp.Unet(\n",
    "            encoder_name=cfg[\"backbone\"],     \n",
    "            encoder_weights=None,   \n",
    "            in_channels=3,  \n",
    "            classes=cfg[\"num_classes\"],\n",
    "            activation=None\n",
    "        )\n",
    "        \n",
    "    \n",
    "    def forward(self, inputs):\n",
    "        mask = self.model(inputs)\n",
    "        return mask\n",
    "    \n",
    "    \n",
    "def load_modelr1(cfg):\n",
    "    model = Net(cfg)\n",
    "    model = torch.nn.DataParallel(model).cuda()\n",
    "    model.load_state_dict(torch.load(cfg['model_pth'], map_location=torch.device('cpu'))['model'])\n",
    "    return model\n",
    "\n",
    "\n",
    "#     if idx in [11, 12]:\n",
    "#         model = TimmSegModelR1(cfg)\n",
    "#         model = torch.nn.DataParallel(model).cuda()\n",
    "#         model.load_state_dict(torch.load(cfg['model_pth'], map_location=torch.device('cpu'))['model'])\n",
    "#     else:\n",
    "#         model = Net(cfg)    \n",
    "#         model = torch.nn.DataParallel(model).cuda()\n",
    "#         model.load_state_dict(torch.load(cfg['model_pth'], map_location=torch.device('cpu'))['model'])\n",
    "\n",
    "class TimmSegModelR1(nn.Module):\n",
    "    def __init__(self, cfg, segtype='unet', pretrained=True):\n",
    "        super(TimmSegModelR1, self).__init__()\n",
    "\n",
    "        self.n_blocks = 4\n",
    "        self.encoder = timm.create_model(\n",
    "            cfg['backbone'],\n",
    "            in_chans=3,\n",
    "            features_only=True,\n",
    "            drop_rate=0.5,\n",
    "            pretrained=False\n",
    "        )\n",
    "        g = self.encoder(torch.rand(1, 3, 128, 128))\n",
    "        encoder_channels = [1] + [_.shape[1] for _ in g]\n",
    "        decoder_channels = [256, 128, 64, 32, 16]\n",
    "        if segtype == 'unet':\n",
    "            self.decoder = smp.decoders.unetplusplus.decoder.UnetPlusPlusDecoder(\n",
    "                encoder_channels=encoder_channels[:self.n_blocks+1],\n",
    "                decoder_channels=decoder_channels[:self.n_blocks],\n",
    "                n_blocks=self.n_blocks,\n",
    "            )\n",
    "\n",
    "        self.segmentation_head = nn.Sequential(\n",
    "            nn.Conv2d(decoder_channels[self.n_blocks-1], \n",
    "                      cfg['num_classes'],\n",
    "                      kernel_size=(3, 3),\n",
    "                      stride=(1, 1),\n",
    "                      padding=(1, 1)\n",
    "            ),\n",
    "            nn.UpsamplingBilinear2d(scale_factor=1)\n",
    "        )\n",
    "\n",
    "    def forward(self,x):\n",
    "        global_features = [0] + self.encoder(x)[:self.n_blocks]\n",
    "        seg_features = self.decoder(*global_features)\n",
    "        seg_features = self.segmentation_head(seg_features)\n",
    "        return seg_features\n",
    "\n",
    "\n",
    "    \n",
    "def load_modelr2(cfg):\n",
    "    model = TimmSegModelR1(cfg)\n",
    "    model = torch.nn.DataParallel(model).cuda()\n",
    "    model.load_state_dict(torch.load(cfg['model_pth'], map_location=torch.device('cpu'))['model'])\n",
    "    return model"
   ]
  },
  {
   "cell_type": "code",
   "execution_count": 9,
   "id": "07bfce0c",
   "metadata": {},
   "outputs": [],
   "source": [
    "def dice_coef(y_true, y_pred, thr=0.5, epsilon=1e-6):\n",
    "    y_true = y_true.to(torch.float32)\n",
    "    y_pred = (y_pred>thr).to(torch.float32)\n",
    "    inter = (y_true*y_pred).sum()\n",
    "    den = y_true.sum() + y_pred.sum()\n",
    "    dice = ((2*inter+epsilon)/(den+epsilon)).mean()\n",
    "    \n",
    "    return dice\n",
    "\n",
    "\n",
    "def get_transform(img_size):\n",
    "    transform = A.Compose([\n",
    "        A.Resize(*img_size, interpolation=cv2.INTER_NEAREST),\n",
    "    ], p=1.0)\n",
    "    return transform"
   ]
  },
  {
   "cell_type": "code",
   "execution_count": 10,
   "id": "01378f87",
   "metadata": {},
   "outputs": [],
   "source": [
    "val_df = pd.read_csv(\"../../input/data_utils/val_df_filled.csv\")\n",
    "val_dups = np.load(\"../../input/data_utils/dups_val.npy\")\n",
    "\n",
    "val_dups = [int(val_id) for val_id in val_dups]"
   ]
  },
  {
   "cell_type": "code",
   "execution_count": 11,
   "id": "aea14014",
   "metadata": {},
   "outputs": [
    {
     "name": "stdout",
     "output_type": "stream",
     "text": [
      "(1633, 4)\n"
     ]
    }
   ],
   "source": [
    "val_df = val_df.loc[~val_df['id'].isin(val_dups)].reset_index(drop=True)\n",
    "print(val_df.shape)"
   ]
  },
  {
   "cell_type": "code",
   "execution_count": null,
   "id": "c48144f4",
   "metadata": {},
   "outputs": [],
   "source": []
  },
  {
   "cell_type": "code",
   "execution_count": 12,
   "id": "0acc817c",
   "metadata": {},
   "outputs": [],
   "source": [
    "# 1 nir_01\n",
    "# 2 nir_02\n",
    "# 3 nir_04\n",
    "# 4 nir_05_tta\n",
    "# 5 nir_06\n",
    "# 6 nir_08\n",
    "\n",
    "#     {\n",
    "#         'model_name': 'Unet++',\n",
    "#         'backbone': 'tf_efficientnet_b7_ns',\n",
    "#         'img_size': [512, 512],\n",
    "#         'num_classes': 1,\n",
    "#         'model_pth':  '/home/rohits/pv1/contrail_01/output/nirjhar/qishentrialv512unetplus_tf_efficientnet_b7_ns_best_epochstage2cv669-00.bin',\n",
    "#         'threshold': 0.62, #0.24,\n",
    "#         'call_sign': \"nir_01\", \n",
    "#         'model_func': load_model1,\n",
    "#         'tta': False\n",
    "#     },\n",
    "#     {\n",
    "#         'model_name': 'Unet',\n",
    "#         'backbone': 'eca_nfnet_l1',\n",
    "#         'img_size': [512, 512],\n",
    "#         'num_classes': 1,\n",
    "#         'model_pth':  '/home/rohits/pv1/contrail_01/output/nirjhar/unetplusecarnf01_eca_nfnet_l1_best_epochstage2cv656-00.bin',\n",
    "#         'threshold': 0.62, #0.24,\n",
    "#         'call_sign': \"nir_02\",\n",
    "#         'model_func': load_model2,\n",
    "#         'tta': False\n",
    "#     },\n",
    "\n",
    "#     {\n",
    "#         'model_name': 'Unet',\n",
    "#         'backbone': 'eca_nfnet_l1',\n",
    "#         'img_size': [512, 512],\n",
    "#         'num_classes': 1,\n",
    "#         'model_pth':  '/home/rohits/pv1/Contrail_Detection/output/nirjhar/ecanfnetl1v2fold0_eca_nfnet_l1_best_epoch-00.bin',\n",
    "#         'threshold': 0.62, #0.24,\n",
    "#         'call_sign': \"nir_04\",\n",
    "#         'model_func': load_model2,\n",
    "#         'tta': False\n",
    "#     }, # w8\n",
    "#     {\n",
    "#         'model_name': 'Unet',\n",
    "#         'backbone': 'eca_nfnet_l2',\n",
    "#         'img_size': [512, 512],\n",
    "#         'num_classes': 1,\n",
    "#         'model_pth':  '/home/rohits/pv1/Contrail_Detection/output/nirjhar/ecanfnetl2v2fold0_eca_nfnet_l2_best_epochstage2-00.bin',\n",
    "#         'threshold': 0.62, #0.24,\n",
    "#         'call_sign': \"nir_05_tta\",\n",
    "#         'model_func': load_model2,\n",
    "#         'tta': True\n",
    "#     },\n",
    "#     {\n",
    "#         'model_name': 'Unet++',\n",
    "#         'backbone': 'tf_efficientnet_b8',\n",
    "#         'img_size': [512, 512],\n",
    "#         'num_classes': 1,\n",
    "#         'model_pth':  '/home/rohits/pv1/Contrail_Detection/output/nirjhar/effb8modelv2fold0_tf_efficientnet_b8_best_epochstage2-00.bin',\n",
    "#         'threshold': 0.79,\n",
    "#         'call_sign': \"nir_06\", \n",
    "#         'model_func': load_model3,\n",
    "#         'tta': False\n",
    "#     },\n",
    "#     {\n",
    "#         'model_name': 'Unet++',\n",
    "#         'backbone': 'densenetblur121d',\n",
    "#         'img_size': [512, 512],\n",
    "#         'num_classes': 1,\n",
    "#         'model_pth':  '/home/rohits/pv1/Contrail_Detection/output/nirjhar/ecanfnetl2v2fold0_densenetblur121d_best_epochstage2-00.bin',\n",
    "#         'threshold': 0.79,\n",
    "#         'call_sign': \"nir_08\", \n",
    "#         'model_func': load_model2,\n",
    "#         'tta': False\n",
    "#     }\n",
    "\n",
    "\n",
    "\n"
   ]
  },
  {
   "cell_type": "code",
   "execution_count": null,
   "id": "84dc74b6",
   "metadata": {},
   "outputs": [],
   "source": []
  },
  {
   "cell_type": "code",
   "execution_count": 13,
   "id": "f5058ae1",
   "metadata": {},
   "outputs": [],
   "source": [
    "CFGS1 = [ \n",
    "    {\n",
    "        'model_name': 'Unet++',\n",
    "        'backbone': 'tf_efficientnet_b7_ns',\n",
    "        'img_size': [512, 512],\n",
    "        'num_classes': 1,\n",
    "        'model_pth':  '/home/rohits/pv1/contrail_01/output/nirjhar/qishentrialv2fpn512_tf_efficientnet_b7_ns_best_epochcv650lb675-00.bin',\n",
    "        'threshold': 0.62, #0.24,\n",
    "        'call_sign': \"nir_tta_sig\",\n",
    "        'model_func': load_model1,\n",
    "        'tta': True\n",
    "    },\n",
    "    \n",
    "    {\n",
    "        'model_name': 'Unet++',\n",
    "        'backbone': 'tf_efficientnet_b7_ns',\n",
    "        'img_size': [512, 512],\n",
    "        'num_classes': 1,\n",
    "        'model_pth':  '/home/rohits/pv1/contrail_01/output/nirjhar/qishentrialv2fpn512_tf_efficientnet_b7_ns_best_epochcv650lb675-00.bin',\n",
    "        'threshold': 0.62, #0.24,\n",
    "        'call_sign': \"nir_sig\",\n",
    "        'model_func': load_model1,\n",
    "        'tta': False\n",
    "    },\n",
    "    \n",
    "    \n",
    "    {\n",
    "        'model_name': 'Unet++',\n",
    "        'backbone': 'tf_efficientnet_b7_ns',\n",
    "        'img_size': [512, 512],\n",
    "        'num_classes': 1,\n",
    "        'model_pth':  '/home/rohits/pv1/contrail_01/output/nirjhar/qishentrialv512unetplus_tf_efficientnet_b7_ns_best_epochstage2cv669-00.bin',\n",
    "        'threshold': 0.62, #0.24,\n",
    "        'call_sign': \"nir_01_tta_sig\", \n",
    "        'model_func': load_model1,\n",
    "        'tta': True\n",
    "    },\n",
    "    \n",
    "    {\n",
    "        'model_name': 'Unet++',\n",
    "        'backbone': 'tf_efficientnet_b7_ns',\n",
    "        'img_size': [512, 512],\n",
    "        'num_classes': 1,\n",
    "        'model_pth':  '/home/rohits/pv1/contrail_01/output/nirjhar/qishentrialv512unetplus_tf_efficientnet_b7_ns_best_epochstage2cv669-00.bin',\n",
    "        'threshold': 0.62, #0.24,\n",
    "        'call_sign': \"nir_01_sig\", \n",
    "        'model_func': load_model1,\n",
    "        'tta': False\n",
    "    },\n",
    "    \n",
    "    {\n",
    "        'model_name': 'Unet',\n",
    "        'backbone': 'eca_nfnet_l1',\n",
    "        'img_size': [512, 512],\n",
    "        'num_classes': 1,\n",
    "        'model_pth':  '/home/rohits/pv1/contrail_01/output/nirjhar/unetplusecarnf01_eca_nfnet_l1_best_epochstage2cv656-00.bin',\n",
    "        'threshold': 0.62, #0.24,\n",
    "        'call_sign': \"nir_02_tta_sig\",\n",
    "        'model_func': load_model2,\n",
    "        'tta': True\n",
    "    },\n",
    "    \n",
    "    {\n",
    "        'model_name': 'Unet',\n",
    "        'backbone': 'eca_nfnet_l1',\n",
    "        'img_size': [512, 512],\n",
    "        'num_classes': 1,\n",
    "        'model_pth':  '/home/rohits/pv1/contrail_01/output/nirjhar/unetplusecarnf01_eca_nfnet_l1_best_epochstage2cv656-00.bin',\n",
    "        'threshold': 0.62, #0.24,\n",
    "        'call_sign': \"nir_02_sig\",\n",
    "        'model_func': load_model2,\n",
    "        'tta': False\n",
    "    },\n",
    "    \n",
    "    {\n",
    "        'model_name': 'Unet',\n",
    "        'backbone': 'eca_nfnet_l1',\n",
    "        'img_size': [512, 512],\n",
    "        'num_classes': 1,\n",
    "        'model_pth':  '/home/rohits/pv1/Contrail_Detection/output/nirjhar/ecanfnetl1v2fold0_eca_nfnet_l1_best_epochstage2-00.bin',\n",
    "        'threshold': 0.62, #0.24,\n",
    "        'call_sign': \"nir_03_tta_sig\",\n",
    "        'model_func': load_model2,\n",
    "        'tta': True\n",
    "    },\n",
    "    \n",
    "    {\n",
    "        'model_name': 'Unet',\n",
    "        'backbone': 'eca_nfnet_l1',\n",
    "        'img_size': [512, 512],\n",
    "        'num_classes': 1,\n",
    "        'model_pth':  '/home/rohits/pv1/Contrail_Detection/output/nirjhar/ecanfnetl1v2fold0_eca_nfnet_l1_best_epochstage2-00.bin',\n",
    "        'threshold': 0.62, #0.24,\n",
    "        'call_sign': \"nir_03_sig\",\n",
    "        'model_func': load_model2,\n",
    "        'tta': False\n",
    "    },\n",
    "    \n",
    "    {\n",
    "        'model_name': 'Unet',\n",
    "        'backbone': 'eca_nfnet_l1',\n",
    "        'img_size': [512, 512],\n",
    "        'num_classes': 1,\n",
    "        'model_pth':  '/home/rohits/pv1/Contrail_Detection/output/nirjhar/ecanfnetl1v2fold0_eca_nfnet_l1_best_epoch-00.bin',\n",
    "        'threshold': 0.62, #0.24,\n",
    "        'call_sign': \"nir_04_tta_sig\",\n",
    "        'model_func': load_model2,\n",
    "        'tta': True\n",
    "    },\n",
    "    \n",
    "        {\n",
    "        'model_name': 'Unet',\n",
    "        'backbone': 'eca_nfnet_l1',\n",
    "        'img_size': [512, 512],\n",
    "        'num_classes': 1,\n",
    "        'model_pth':  '/home/rohits/pv1/Contrail_Detection/output/nirjhar/ecanfnetl1v2fold0_eca_nfnet_l1_best_epoch-00.bin',\n",
    "        'threshold': 0.62, #0.24,\n",
    "        'call_sign': \"nir_04_sig\",\n",
    "        'model_func': load_model2,\n",
    "        'tta': False\n",
    "    }, # w8\n",
    "    \n",
    "    {\n",
    "        'model_name': 'Unet',\n",
    "        'backbone': 'eca_nfnet_l2',\n",
    "        'img_size': [512, 512],\n",
    "        'num_classes': 1,\n",
    "        'model_pth':  '/home/rohits/pv1/Contrail_Detection/output/nirjhar/ecanfnetl2v2fold0_eca_nfnet_l2_best_epochstage2-00.bin',\n",
    "        'threshold': 0.62, #0.24,\n",
    "        'call_sign': \"nir_05_tta_sig\",\n",
    "        'model_func': load_model2,\n",
    "        'tta': True\n",
    "    },\n",
    "        {\n",
    "        'model_name': 'Unet',\n",
    "        'backbone': 'eca_nfnet_l2',\n",
    "        'img_size': [512, 512],\n",
    "        'num_classes': 1,\n",
    "        'model_pth':  '/home/rohits/pv1/Contrail_Detection/output/nirjhar/ecanfnetl2v2fold0_eca_nfnet_l2_best_epochstage2-00.bin',\n",
    "        'threshold': 0.62, #0.24,\n",
    "        'call_sign': \"nir_05_sig\",\n",
    "        'model_func': load_model2,\n",
    "        'tta': False\n",
    "    },\n",
    "    \n",
    "    \n",
    "    {\n",
    "    'model_name': 'Unet++',\n",
    "        'backbone': 'tf_efficientnet_b8',\n",
    "        'img_size': [512, 512],\n",
    "        'num_classes': 1,\n",
    "        'model_pth':  '/home/rohits/pv1/Contrail_Detection/output/nirjhar/effb8modelv2fold0_tf_efficientnet_b8_best_epochstage2-00.bin',\n",
    "        'threshold': 0.79,\n",
    "        'call_sign': \"nir_06_tta_sig\", \n",
    "        'model_func': load_model3,\n",
    "        'tta': True\n",
    "    },  # 11\n",
    "    \n",
    "        {\n",
    "    'model_name': 'Unet++',\n",
    "        'backbone': 'tf_efficientnet_b8',\n",
    "        'img_size': [512, 512],\n",
    "        'num_classes': 1,\n",
    "        'model_pth':  '/home/rohits/pv1/Contrail_Detection/output/nirjhar/effb8modelv2fold0_tf_efficientnet_b8_best_epochstage2-00.bin',\n",
    "        'threshold': 0.79,\n",
    "        'call_sign': \"nir_06_sig\", \n",
    "        'model_func': load_model3,\n",
    "        'tta': False\n",
    "    }, \n",
    "    \n",
    "    {\n",
    "    'model_name': 'Unet++',\n",
    "        'backbone': 'tf_efficientnet_b8',\n",
    "        'img_size': [512, 512],\n",
    "        'num_classes': 1,\n",
    "        'model_pth':  '/home/rohits/pv1/Contrail_Detection/output/nirjhar/effb8modelv2fold0_tf_efficientnet_b8_best_epoch-00.bin',\n",
    "        'threshold': 0.79,\n",
    "        'call_sign': \"nir_07_tta_sig\", \n",
    "        'model_func': load_model3,\n",
    "        'tta': True\n",
    "    },\n",
    "    \n",
    "        {\n",
    "    'model_name': 'Unet++',\n",
    "        'backbone': 'tf_efficientnet_b8',\n",
    "        'img_size': [512, 512],\n",
    "        'num_classes': 1,\n",
    "        'model_pth':  '/home/rohits/pv1/Contrail_Detection/output/nirjhar/effb8modelv2fold0_tf_efficientnet_b8_best_epoch-00.bin',\n",
    "        'threshold': 0.79,\n",
    "        'call_sign': \"nir_07_sig\", \n",
    "        'model_func': load_model3,\n",
    "        'tta': False\n",
    "    },\n",
    "    \n",
    "    {\n",
    "    'model_name': 'Unet++',\n",
    "        'backbone': 'densenetblur121d',\n",
    "        'img_size': [512, 512],\n",
    "        'num_classes': 1,\n",
    "        'model_pth':  '/home/rohits/pv1/Contrail_Detection/output/nirjhar/ecanfnetl2v2fold0_densenetblur121d_best_epochstage2-00.bin',\n",
    "        'threshold': 0.79,\n",
    "        'call_sign': \"nir_08_tta_sig\", \n",
    "        'model_func': load_model2,\n",
    "        'tta': True\n",
    "    },\n",
    "    {\n",
    "    'model_name': 'Unet++',\n",
    "        'backbone': 'densenetblur121d',\n",
    "        'img_size': [512, 512],\n",
    "        'num_classes': 1,\n",
    "        'model_pth':  '/home/rohits/pv1/Contrail_Detection/output/nirjhar/ecanfnetl2v2fold0_densenetblur121d_best_epochstage2-00.bin',\n",
    "        'threshold': 0.79,\n",
    "        'call_sign': \"nir_08_sig\", \n",
    "        'model_func': load_model2,\n",
    "        'tta': False\n",
    "    },\n",
    "    \n",
    "    \n",
    "   {\n",
    "    'model_name': 'Unet++',\n",
    "        'backbone': 'convnextv2_base',\n",
    "        'img_size': [512, 512],\n",
    "        'num_classes': 1,\n",
    "        'model_pth':  '/home/rohits/pv1/Contrail_Detection/output/nirjhar/convnextfold0_convnextv2_base_best_epochstage2-00.bin',\n",
    "        'threshold': 0.79,\n",
    "        'call_sign': \"nir_09_tta_sig\", \n",
    "        'model_func': load_model2,\n",
    "        'tta': True\n",
    "    },\n",
    "    {\n",
    "    'model_name': 'Unet++',\n",
    "        'backbone': 'convnextv2_base',\n",
    "        'img_size': [512, 512],\n",
    "        'num_classes': 1,\n",
    "        'model_pth':  '/home/rohits/pv1/Contrail_Detection/output/nirjhar/convnextfold0_convnextv2_base_best_epochstage2-00.bin',\n",
    "        'threshold': 0.79,\n",
    "        'call_sign': \"nir_09_sig\", \n",
    "        'model_func': load_model2,\n",
    "        'tta': False\n",
    "    }\n",
    "    \n",
    "    \n",
    "    \n",
    "    \n",
    "]"
   ]
  },
  {
   "cell_type": "code",
   "execution_count": 14,
   "id": "646ce6cb",
   "metadata": {},
   "outputs": [
    {
     "name": "stdout",
     "output_type": "stream",
     "text": [
      "{'model_name': 'Unet', 'backbone': 'eca_nfnet_l1', 'img_size': [512, 512], 'num_classes': 1, 'model_pth': '/home/rohits/pv1/Contrail_Detection/output/nirjhar/ecanfnetl1v2fold0_eca_nfnet_l1_best_epoch-00.bin', 'threshold': 0.62, 'call_sign': 'nir_04_tta_sig', 'model_func': <function load_model2 at 0x7fc005599a20>, 'tta': True}\n"
     ]
    },
    {
     "data": {
      "application/vnd.jupyter.widget-view+json": {
       "model_id": "ad927922421b4130a3f9da9f91791253",
       "version_major": 2,
       "version_minor": 0
      },
      "text/plain": [
       "  0%|          | 0/52 [00:00<?, ?it/s]"
      ]
     },
     "metadata": {},
     "output_type": "display_data"
    },
    {
     "name": "stdout",
     "output_type": "stream",
     "text": [
      "0.6502031 0.35\n",
      "{'model_name': 'Unet', 'backbone': 'eca_nfnet_l1', 'img_size': [512, 512], 'num_classes': 1, 'model_pth': '/home/rohits/pv1/Contrail_Detection/output/nirjhar/ecanfnetl1v2fold0_eca_nfnet_l1_best_epoch-00.bin', 'threshold': 0.62, 'call_sign': 'nir_04_sig', 'model_func': <function load_model2 at 0x7fc005599a20>, 'tta': False}\n"
     ]
    },
    {
     "data": {
      "application/vnd.jupyter.widget-view+json": {
       "model_id": "57236c582b1243b9b27ecdc5aa091649",
       "version_major": 2,
       "version_minor": 0
      },
      "text/plain": [
       "  0%|          | 0/52 [00:00<?, ?it/s]"
      ]
     },
     "metadata": {},
     "output_type": "display_data"
    },
    {
     "name": "stdout",
     "output_type": "stream",
     "text": [
      "0.6516042 0.52\n",
      "{'model_name': 'Unet', 'backbone': 'eca_nfnet_l2', 'img_size': [512, 512], 'num_classes': 1, 'model_pth': '/home/rohits/pv1/Contrail_Detection/output/nirjhar/ecanfnetl2v2fold0_eca_nfnet_l2_best_epochstage2-00.bin', 'threshold': 0.62, 'call_sign': 'nir_05_tta_sig', 'model_func': <function load_model2 at 0x7fc005599a20>, 'tta': True}\n"
     ]
    },
    {
     "data": {
      "application/vnd.jupyter.widget-view+json": {
       "model_id": "49273452721a4d57846782473bcf00a2",
       "version_major": 2,
       "version_minor": 0
      },
      "text/plain": [
       "  0%|          | 0/52 [00:00<?, ?it/s]"
      ]
     },
     "metadata": {},
     "output_type": "display_data"
    },
    {
     "name": "stdout",
     "output_type": "stream",
     "text": [
      "0.6520343 0.06\n",
      "{'model_name': 'Unet', 'backbone': 'eca_nfnet_l2', 'img_size': [512, 512], 'num_classes': 1, 'model_pth': '/home/rohits/pv1/Contrail_Detection/output/nirjhar/ecanfnetl2v2fold0_eca_nfnet_l2_best_epochstage2-00.bin', 'threshold': 0.62, 'call_sign': 'nir_05_sig', 'model_func': <function load_model2 at 0x7fc005599a20>, 'tta': False}\n"
     ]
    },
    {
     "data": {
      "application/vnd.jupyter.widget-view+json": {
       "model_id": "de8fd165c51e4bdeb551b0bd40a85cd9",
       "version_major": 2,
       "version_minor": 0
      },
      "text/plain": [
       "  0%|          | 0/52 [00:00<?, ?it/s]"
      ]
     },
     "metadata": {},
     "output_type": "display_data"
    },
    {
     "name": "stdout",
     "output_type": "stream",
     "text": [
      "0.6540441 0.08\n",
      "{'model_name': 'Unet++', 'backbone': 'tf_efficientnet_b8', 'img_size': [512, 512], 'num_classes': 1, 'model_pth': '/home/rohits/pv1/Contrail_Detection/output/nirjhar/effb8modelv2fold0_tf_efficientnet_b8_best_epochstage2-00.bin', 'threshold': 0.79, 'call_sign': 'nir_06_tta_sig', 'model_func': <function load_model3 at 0x7fc005599bd0>, 'tta': True}\n"
     ]
    },
    {
     "data": {
      "application/vnd.jupyter.widget-view+json": {
       "model_id": "f99260f6d261452c809513772ace38f4",
       "version_major": 2,
       "version_minor": 0
      },
      "text/plain": [
       "  0%|          | 0/52 [00:00<?, ?it/s]"
      ]
     },
     "metadata": {},
     "output_type": "display_data"
    },
    {
     "name": "stdout",
     "output_type": "stream",
     "text": [
      "0.6718727 0.56\n",
      "{'model_name': 'Unet++', 'backbone': 'tf_efficientnet_b8', 'img_size': [512, 512], 'num_classes': 1, 'model_pth': '/home/rohits/pv1/Contrail_Detection/output/nirjhar/effb8modelv2fold0_tf_efficientnet_b8_best_epochstage2-00.bin', 'threshold': 0.79, 'call_sign': 'nir_06_sig', 'model_func': <function load_model3 at 0x7fc005599bd0>, 'tta': False}\n"
     ]
    },
    {
     "data": {
      "application/vnd.jupyter.widget-view+json": {
       "model_id": "50363c8f6bde47ccb54234a011d12772",
       "version_major": 2,
       "version_minor": 0
      },
      "text/plain": [
       "  0%|          | 0/52 [00:00<?, ?it/s]"
      ]
     },
     "metadata": {},
     "output_type": "display_data"
    },
    {
     "name": "stdout",
     "output_type": "stream",
     "text": [
      "0.6683417 0.47\n",
      "{'model_name': 'Unet++', 'backbone': 'tf_efficientnet_b8', 'img_size': [512, 512], 'num_classes': 1, 'model_pth': '/home/rohits/pv1/Contrail_Detection/output/nirjhar/effb8modelv2fold0_tf_efficientnet_b8_best_epoch-00.bin', 'threshold': 0.79, 'call_sign': 'nir_07_tta_sig', 'model_func': <function load_model3 at 0x7fc005599bd0>, 'tta': True}\n"
     ]
    },
    {
     "data": {
      "application/vnd.jupyter.widget-view+json": {
       "model_id": "dda936a29ed84e3baf3fba6d16173f9f",
       "version_major": 2,
       "version_minor": 0
      },
      "text/plain": [
       "  0%|          | 0/52 [00:00<?, ?it/s]"
      ]
     },
     "metadata": {},
     "output_type": "display_data"
    },
    {
     "name": "stdout",
     "output_type": "stream",
     "text": [
      "0.6617708 0.24\n",
      "{'model_name': 'Unet++', 'backbone': 'tf_efficientnet_b8', 'img_size': [512, 512], 'num_classes': 1, 'model_pth': '/home/rohits/pv1/Contrail_Detection/output/nirjhar/effb8modelv2fold0_tf_efficientnet_b8_best_epoch-00.bin', 'threshold': 0.79, 'call_sign': 'nir_07_sig', 'model_func': <function load_model3 at 0x7fc005599bd0>, 'tta': False}\n"
     ]
    },
    {
     "data": {
      "application/vnd.jupyter.widget-view+json": {
       "model_id": "f3efd02babe0476e8581e2246647562c",
       "version_major": 2,
       "version_minor": 0
      },
      "text/plain": [
       "  0%|          | 0/52 [00:00<?, ?it/s]"
      ]
     },
     "metadata": {},
     "output_type": "display_data"
    },
    {
     "name": "stdout",
     "output_type": "stream",
     "text": [
      "0.6574186 0.39\n",
      "{'model_name': 'Unet++', 'backbone': 'densenetblur121d', 'img_size': [512, 512], 'num_classes': 1, 'model_pth': '/home/rohits/pv1/Contrail_Detection/output/nirjhar/ecanfnetl2v2fold0_densenetblur121d_best_epochstage2-00.bin', 'threshold': 0.79, 'call_sign': 'nir_08_tta_sig', 'model_func': <function load_model2 at 0x7fc005599a20>, 'tta': True}\n"
     ]
    },
    {
     "data": {
      "application/vnd.jupyter.widget-view+json": {
       "model_id": "466bbdfc3fda4859af16d1738f6752b5",
       "version_major": 2,
       "version_minor": 0
      },
      "text/plain": [
       "  0%|          | 0/52 [00:00<?, ?it/s]"
      ]
     },
     "metadata": {},
     "output_type": "display_data"
    },
    {
     "name": "stdout",
     "output_type": "stream",
     "text": [
      "0.6449409 0.04\n",
      "{'model_name': 'Unet++', 'backbone': 'densenetblur121d', 'img_size': [512, 512], 'num_classes': 1, 'model_pth': '/home/rohits/pv1/Contrail_Detection/output/nirjhar/ecanfnetl2v2fold0_densenetblur121d_best_epochstage2-00.bin', 'threshold': 0.79, 'call_sign': 'nir_08_sig', 'model_func': <function load_model2 at 0x7fc005599a20>, 'tta': False}\n"
     ]
    },
    {
     "data": {
      "application/vnd.jupyter.widget-view+json": {
       "model_id": "bb506d321ce04a87bcaec04fe1d32a83",
       "version_major": 2,
       "version_minor": 0
      },
      "text/plain": [
       "  0%|          | 0/52 [00:00<?, ?it/s]"
      ]
     },
     "metadata": {},
     "output_type": "display_data"
    },
    {
     "name": "stdout",
     "output_type": "stream",
     "text": [
      "0.64298403 0.01\n",
      "{'model_name': 'Unet++', 'backbone': 'convnextv2_base', 'img_size': [512, 512], 'num_classes': 1, 'model_pth': '/home/rohits/pv1/Contrail_Detection/output/nirjhar/convnextfold0_convnextv2_base_best_epochstage2-00.bin', 'threshold': 0.79, 'call_sign': 'nir_09_tta_sig', 'model_func': <function load_model2 at 0x7fc005599a20>, 'tta': True}\n"
     ]
    },
    {
     "data": {
      "application/vnd.jupyter.widget-view+json": {
       "model_id": "3d23e38f67894cfca69078860c2136a2",
       "version_major": 2,
       "version_minor": 0
      },
      "text/plain": [
       "  0%|          | 0/52 [00:00<?, ?it/s]"
      ]
     },
     "metadata": {},
     "output_type": "display_data"
    },
    {
     "name": "stdout",
     "output_type": "stream",
     "text": [
      "0.65553015 0.01\n",
      "{'model_name': 'Unet++', 'backbone': 'convnextv2_base', 'img_size': [512, 512], 'num_classes': 1, 'model_pth': '/home/rohits/pv1/Contrail_Detection/output/nirjhar/convnextfold0_convnextv2_base_best_epochstage2-00.bin', 'threshold': 0.79, 'call_sign': 'nir_09_sig', 'model_func': <function load_model2 at 0x7fc005599a20>, 'tta': False}\n"
     ]
    },
    {
     "data": {
      "application/vnd.jupyter.widget-view+json": {
       "model_id": "8e35b1dee1ac4a8fae6d052c1bd36b73",
       "version_major": 2,
       "version_minor": 0
      },
      "text/plain": [
       "  0%|          | 0/52 [00:00<?, ?it/s]"
      ]
     },
     "metadata": {},
     "output_type": "display_data"
    },
    {
     "name": "stdout",
     "output_type": "stream",
     "text": [
      "0.64687884 0.01\n"
     ]
    }
   ],
   "source": [
    "final_preds1 = []\n",
    "\n",
    "for idx, cfg in enumerate(CFGS1):   \n",
    "\n",
    "    if idx <= 7:\n",
    "        continue\n",
    "        \n",
    "    print(cfg)\n",
    "    val_transform = get_transform(cfg['img_size'])\n",
    "    valid_dataset = ContrailDataset(val_df, transform=val_transform, normalize=False)  \n",
    "    \n",
    "    valid_loader = DataLoader(\n",
    "        valid_dataset, \n",
    "        batch_size = 32, #32, \n",
    "        shuffle = False, \n",
    "        num_workers = 2, \n",
    "        pin_memory = True, \n",
    "        drop_last = False\n",
    "    )\n",
    "    \n",
    "    model = cfg['model_func'](cfg)        \n",
    "      \n",
    "    if cfg['tta']:\n",
    "        model = tta.SegmentationTTAWrapper(model, tta.aliases.hflip_transform(), merge_mode='mean')\n",
    "    \n",
    "    \n",
    "    model.to(device)\n",
    "    model.eval()\n",
    "    \n",
    "    preds = []\n",
    "    masks_ = []      \n",
    "            \n",
    "\n",
    "    for index, (images, masks) in enumerate(tqdm(valid_loader)):  \n",
    "        images  = images.to(device, dtype=torch.float)\n",
    "        masks  = masks.to(device, dtype=torch.float)\n",
    "        if cfg['img_size'][0] != 256:\n",
    "            masks = torch.nn.functional.interpolate(masks, size=256, mode='nearest') \n",
    "\n",
    "        masks_.append(torch.squeeze(masks, dim=1))\n",
    "        with torch.inference_mode():\n",
    "            images = torch.nn.functional.interpolate(images, size=cfg['img_size'][0], mode='nearest')\n",
    "            pred = model(images).sigmoid()   \n",
    "            pred = torch.nn.functional.interpolate(pred, size=256, mode='nearest') \n",
    "            preds.append(torch.squeeze(pred, dim=1))\n",
    "        \n",
    "            \n",
    "            \n",
    "    model_masks = torch.cat(masks_, dim=0)\n",
    "    model_preds = torch.cat(preds, dim=0)\n",
    "        \n",
    "    model_masks = torch.flatten(model_masks, start_dim=0, end_dim=1)\n",
    "    model_preds = torch.flatten(model_preds, start_dim=0, end_dim=1)  \n",
    "    \n",
    "    # save\n",
    "    torch.save(model_preds, f\"../../output/final_preds/{cfg['call_sign']}.pt\")    \n",
    "#     if idx == 6:\n",
    "#     torch.save(model_masks, f'../../output/final_preds/val_masks0.pt')\n",
    "\n",
    "    \n",
    "    best_threshold = 0.0\n",
    "    best_dice_score = 0.0\n",
    "    for threshold in [i / 100 for i in range(101)] :\n",
    "#         score = dice_coef(model_masks, model_preds.sigmoid(), thr=threshold).cpu().detach().numpy() \n",
    "        score = dice_coef(model_masks, model_preds, thr=threshold).cpu().detach().numpy() \n",
    "\n",
    "        \n",
    "        if score > best_dice_score:\n",
    "            best_dice_score = score\n",
    "            best_threshold = threshold\n",
    "    \n",
    "        \n",
    "    print(best_dice_score, best_threshold)\n",
    "    final_preds1.append(model_preds)\n",
    "    \n",
    "    del model\n",
    "    torch.cuda.empty_cache()\n",
    "    gc.collect()"
   ]
  },
  {
   "cell_type": "code",
   "execution_count": 14,
   "id": "c4f27cd2",
   "metadata": {},
   "outputs": [],
   "source": [
    "\n",
    "\n",
    "#     {\n",
    "#         'model_name': 'Unet',\n",
    "#         'backbone': 'efficientnet-b7',\n",
    "#         'img_size': [256, 256],\n",
    "#         'num_classes': 1,\n",
    "#         'model_pth':  '/home/rohits/pv1/Contrail_Detection/output/exp_01_s2/Unet/efficientnet-b7-256/checkpoint_dice_ctrl_fold3.pth',\n",
    "#         'threshold': 0.24, #0.24,\n",
    "#         'call_sign': \"roh_01_tta\",\n",
    "#         'model_func': load_modelr1,\n",
    "#         'tta': True\n",
    "#     }, \n",
    "\n",
    "#     {\n",
    "#         'model_name': 'Unet',\n",
    "#         'backbone': 'efficientnet-b7',\n",
    "#         'img_size': [256, 256],\n",
    "#         'num_classes': 1,\n",
    "#         'model_pth':  '/home/rohits/pv1/Contrail_Detection/output/exp_01_s2/Unet/efficientnet-b7-256/checkpoint_dice_ctrl_fold3.pth',\n",
    "#         'threshold': 0.24, #0.24,\n",
    "#         'call_sign': \"roh_01\",\n",
    "#         'model_func': load_modelr1,\n",
    "#         'tta': False\n",
    "#     }, \n",
    "    \n",
    "#         {\n",
    "#         'model_name': 'Unet',\n",
    "#         'backbone': 'efficientnet-b7',\n",
    "#         'img_size': [384, 384],\n",
    "#         'num_classes': 1,\n",
    "#         'model_pth':  '/home/rohits/pv1/Contrail_Detection/output/exp_01_pl_687lb/Unet/efficientnet-b7-384/checkpoint_dice_ctrl_fold0.pth',\n",
    "#         'threshold': 0.24, #0.24,\n",
    "#         'model_func': load_modelr1,\n",
    "#         'call_sign': \"roh_03_tta\",\n",
    "#         'tta': True\n",
    "#     },\n",
    "        \n",
    "#     {\n",
    "#         'model_name': 'Unet',\n",
    "#         'backbone': 'efficientnet-b7',\n",
    "#         'img_size': [256, 256],\n",
    "#         'num_classes': 1,\n",
    "#         'model_pth':  '/home/rohits/pv1/Contrail_Detection/output/exp_02_pl_687lb_fulltrain/Unet/efficientnet-b7-256/checkpoint_dice_ctrl_fold0.pth',\n",
    "#         'threshold': 0.24, #0.24,\n",
    "#         'call_sign': \"roh_04_tta\",\n",
    "#         'model_func': load_modelr1,\n",
    "#         'normalize': True,\n",
    "#         'tta': True\n",
    "#     },\n",
    "    \n",
    "#     {\n",
    "#         'model_name': 'Unet',\n",
    "#         'backbone': 'efficientnet-b7',\n",
    "#         'img_size': [256, 256],\n",
    "#         'num_classes': 1,\n",
    "#         'model_pth':  '/home/rohits/pv1/Contrail_Detection/output/exp_02_pl_687lb_fulltrain/Unet/efficientnet-b7-256/checkpoint_dice_ctrl_fold0.pth',\n",
    "#         'threshold': 0.24, #0.24,\n",
    "#         'call_sign': \"roh_04\",\n",
    "#         'model_func': load_modelr1,\n",
    "#         'normalize': True,\n",
    "#         'tta': False\n",
    "#     },\n",
    "    \n",
    "#         {\n",
    "#         'model_name': 'Unet',\n",
    "#         'backbone': 'eca_nfnet_l0',\n",
    "#         'img_size': [256, 256],\n",
    "#         'num_classes': 1,\n",
    "#         'model_pth':  '/home/rohits/pv1/Contrail_Detection/output/exp_03_pl_687lb_fulltrain/Unet/eca_nfnet_l0-256/checkpoint_dice_ctrl_fold0.pth',\n",
    "#         'threshold': 0.24, #0.24,\n",
    "#         'call_sign': \"roh_05\",\n",
    "#         'model_func': load_modelr2,\n",
    "#         'normalize': True,\n",
    "#         'tta': False\n",
    "#     },\n",
    "        \n",
    "#     {\n",
    "#         'model_name': 'Unet',\n",
    "#         'backbone': 'efficientnet-b7',\n",
    "#         'img_size': [512, 512],\n",
    "#         'num_classes': 1,\n",
    "#         'model_pth':  '/home/rohits/pv1/Contrail_Detection/output/exp_01_pl_687lb/Unet/efficientnet-b7-512/checkpoint_dice_ctrl_fold0.pth',\n",
    "#         'threshold': 0.24, #0.24,\n",
    "#         'call_sign': \"roh_06_tta\",\n",
    "#         'model_func': load_modelr1,\n",
    "#         'normalize': False,\n",
    "#         'tta': True\n",
    "#     },\n",
    "\n"
   ]
  },
  {
   "cell_type": "code",
   "execution_count": null,
   "id": "672f9a4d",
   "metadata": {},
   "outputs": [],
   "source": [
    "\n"
   ]
  },
  {
   "cell_type": "code",
   "execution_count": 19,
   "id": "cafd446f",
   "metadata": {},
   "outputs": [],
   "source": [
    "CFGS2 = [     \n",
    "    {\n",
    "        'model_name': 'Unet',\n",
    "        'backbone': 'efficientnet-b7',\n",
    "        'img_size': [256, 256],\n",
    "        'num_classes': 1,\n",
    "        'model_pth':  '/home/rohits/pv1/Contrail_Detection/output/exp_01_s2/Unet/efficientnet-b7-256/checkpoint_dice_ctrl_fold3.pth',\n",
    "        'threshold': 0.24, #0.24,\n",
    "        'call_sign': \"roh_01_tta_sig\",\n",
    "        'model_func': load_modelr1,\n",
    "        'tta': True\n",
    "    }, \n",
    "    \n",
    "    {\n",
    "        'model_name': 'Unet',\n",
    "        'backbone': 'efficientnet-b7',\n",
    "        'img_size': [256, 256],\n",
    "        'num_classes': 1,\n",
    "        'model_pth':  '/home/rohits/pv1/Contrail_Detection/output/exp_01_s2/Unet/efficientnet-b7-256/checkpoint_dice_ctrl_fold3.pth',\n",
    "        'threshold': 0.24, #0.24,\n",
    "        'call_sign': \"roh_01_sig\",\n",
    "        'model_func': load_modelr1,\n",
    "        'tta': False\n",
    "    }, \n",
    "    \n",
    "    \n",
    "    {\n",
    "        'model_name': 'Unet',\n",
    "        'backbone': 'efficientnet-b7',\n",
    "        'img_size': [256, 256],\n",
    "        'num_classes': 1,\n",
    "        'model_pth':  '/home/rohits/pv1/Contrail_Detection/output/exp_01_pl/Unet/efficientnet-b7-256/checkpoint_dice_ctrl_fold0.pth',\n",
    "        'threshold': 0.24, #0.24,\n",
    "        'model_func': load_modelr1,\n",
    "        'call_sign': \"roh_02_tta_sig\",\n",
    "        'tta': True\n",
    "    },   \n",
    "    \n",
    "    {\n",
    "        'model_name': 'Unet',\n",
    "        'backbone': 'efficientnet-b7',\n",
    "        'img_size': [256, 256],\n",
    "        'num_classes': 1,\n",
    "        'model_pth':  '/home/rohits/pv1/Contrail_Detection/output/exp_01_pl/Unet/efficientnet-b7-256/checkpoint_dice_ctrl_fold0.pth',\n",
    "        'threshold': 0.24, #0.24,\n",
    "        'model_func': load_modelr1,\n",
    "        'call_sign': \"roh_02_sig\",\n",
    "        'tta': False\n",
    "    },   \n",
    "    \n",
    "    {\n",
    "        'model_name': 'Unet',\n",
    "        'backbone': 'efficientnet-b7',\n",
    "        'img_size': [384, 384],\n",
    "        'num_classes': 1,\n",
    "        'model_pth':  '/home/rohits/pv1/Contrail_Detection/output/exp_01_pl_687lb/Unet/efficientnet-b7-384/checkpoint_dice_ctrl_fold0.pth',\n",
    "        'threshold': 0.24, #0.24,\n",
    "        'model_func': load_modelr1,\n",
    "        'call_sign': \"roh_03_tta_sig\",\n",
    "        'tta': True\n",
    "    },\n",
    "    \n",
    "        {\n",
    "        'model_name': 'Unet',\n",
    "        'backbone': 'efficientnet-b7',\n",
    "        'img_size': [384, 384],\n",
    "        'num_classes': 1,\n",
    "        'model_pth':  '/home/rohits/pv1/Contrail_Detection/output/exp_01_pl_687lb/Unet/efficientnet-b7-384/checkpoint_dice_ctrl_fold0.pth',\n",
    "        'threshold': 0.24, #0.24,\n",
    "        'model_func': load_modelr1,\n",
    "        'call_sign': \"roh_03_sig\",\n",
    "        'tta': False\n",
    "    },\n",
    "    \n",
    "    \n",
    "    {\n",
    "        'model_name': 'Unet',\n",
    "        'backbone': 'efficientnet-b7',\n",
    "        'img_size': [256, 256],\n",
    "        'num_classes': 1,\n",
    "        'model_pth':  '/home/rohits/pv1/Contrail_Detection/output/exp_02_pl_687lb_fulltrain/Unet/efficientnet-b7-256/checkpoint_dice_ctrl_fold0.pth',\n",
    "        'threshold': 0.24, #0.24,\n",
    "        'call_sign': \"roh_04_tta_sig\",\n",
    "        'model_func': load_modelr1,\n",
    "        'normalize': True,\n",
    "        'tta': True\n",
    "    },\n",
    "    \n",
    "        {\n",
    "        'model_name': 'Unet',\n",
    "        'backbone': 'efficientnet-b7',\n",
    "        'img_size': [256, 256],\n",
    "        'num_classes': 1,\n",
    "        'model_pth':  '/home/rohits/pv1/Contrail_Detection/output/exp_02_pl_687lb_fulltrain/Unet/efficientnet-b7-256/checkpoint_dice_ctrl_fold0.pth',\n",
    "        'threshold': 0.24, #0.24,\n",
    "        'call_sign': \"roh_04_sig\",\n",
    "        'model_func': load_modelr1,\n",
    "        'normalize': True,\n",
    "        'tta': False\n",
    "    },\n",
    "    \n",
    "    ### above this are final    \n",
    "    {\n",
    "        'model_name': 'Unet',\n",
    "        'backbone': 'eca_nfnet_l0',\n",
    "        'img_size': [256, 256],\n",
    "        'num_classes': 1,\n",
    "        'model_pth':  '/home/rohits/pv1/Contrail_Detection/output/exp_03_pl_687lb_fulltrain/Unet/eca_nfnet_l0-256/checkpoint_dice_ctrl_fold0.pth',\n",
    "        'threshold': 0.24, #0.24,\n",
    "        'call_sign': \"roh_05_tta_sig\",\n",
    "        'model_func': load_modelr2,\n",
    "        'normalize': True,\n",
    "        'tta': True\n",
    "    },\n",
    "    \n",
    "    {\n",
    "        'model_name': 'Unet',\n",
    "        'backbone': 'eca_nfnet_l0',\n",
    "        'img_size': [256, 256],\n",
    "        'num_classes': 1,\n",
    "        'model_pth':  '/home/rohits/pv1/Contrail_Detection/output/exp_03_pl_687lb_fulltrain/Unet/eca_nfnet_l0-256/checkpoint_dice_ctrl_fold0.pth',\n",
    "        'threshold': 0.24, #0.24,\n",
    "        'call_sign': \"roh_05_sig\",\n",
    "        'model_func': load_modelr2,\n",
    "        'normalize': True,\n",
    "        'tta': False\n",
    "    },\n",
    "    \n",
    "    {\n",
    "        'model_name': 'Unet',\n",
    "        'backbone': 'efficientnet-b7',\n",
    "        'img_size': [512, 512],\n",
    "        'num_classes': 1,\n",
    "        'model_pth':  '/home/rohits/pv1/Contrail_Detection/output/exp_01_pl_687lb/Unet/efficientnet-b7-512/checkpoint_dice_ctrl_fold0.pth',\n",
    "        'threshold': 0.24, #0.24,\n",
    "        'call_sign': \"roh_06_tta_sig\",\n",
    "        'model_func': load_modelr1,\n",
    "        'normalize': False,\n",
    "        'tta': True\n",
    "    },\n",
    "    \n",
    "    {\n",
    "        'model_name': 'Unet',\n",
    "        'backbone': 'efficientnet-b7',\n",
    "        'img_size': [512, 512],\n",
    "        'num_classes': 1,\n",
    "        'model_pth':  '/home/rohits/pv1/Contrail_Detection/output/exp_01_pl_687lb/Unet/efficientnet-b7-512/checkpoint_dice_ctrl_fold0.pth',\n",
    "        'threshold': 0.24, #0.24,\n",
    "        'call_sign': \"roh_06_sig\",\n",
    "        'model_func': load_modelr1,\n",
    "        'normalize': False,\n",
    "        'tta': False\n",
    "    },\n",
    "    \n",
    "    \n",
    "    {\n",
    "        'model_name': 'Unet',\n",
    "        'backbone': 'efficientnet-b7',\n",
    "        'img_size': [512, 512],\n",
    "        'num_classes': 1,\n",
    "        'model_pth':  '/home/rohits/pv1/Contrail_Detection/output/exp_01_pl_687lb_s2/Unet/efficientnet-b7-512/checkpoint_dice_ctrl_fold0.pth',\n",
    "        'threshold': 0.24, #0.24,\n",
    "        'call_sign': \"roh_07_tta_sig\",\n",
    "        'model_func': load_modelr1,\n",
    "        'normalize': False,\n",
    "        'tta': True\n",
    "    },\n",
    "    \n",
    "    {\n",
    "        'model_name': 'Unet',\n",
    "        'backbone': 'efficientnet-b7',\n",
    "        'img_size': [512, 512],\n",
    "        'num_classes': 1,\n",
    "        'model_pth':  '/home/rohits/pv1/Contrail_Detection/output/exp_01_pl_687lb_s2/Unet/efficientnet-b7-512/checkpoint_dice_ctrl_fold0.pth',\n",
    "        'threshold': 0.24, #0.24,\n",
    "        'call_sign': \"roh_07_sig\",\n",
    "        'model_func': load_modelr1,\n",
    "        'normalize': False,\n",
    "        'tta': False\n",
    "    },\n",
    "    \n",
    "    ### already done\n",
    "    {\n",
    "        'model_name': 'Unet',\n",
    "        'backbone': 'efficientnet-b7',\n",
    "        'img_size': [384, 384],\n",
    "        'num_classes': 1,\n",
    "        'model_pth':  '/home/rohits/pv1/Contrail_Detection/output/exp_01_pl_s2/Unet/efficientnet-b7-384/checkpoint_dice_ctrl_fold0.pth',\n",
    "        'threshold': 0.24, #0.24,\n",
    "        'model_func': load_modelr1,\n",
    "        'call_sign': \"roh_08_tta_sig\",\n",
    "        'tta': True\n",
    "    },\n",
    "    \n",
    "    {\n",
    "        'model_name': 'Unet',\n",
    "        'backbone': 'efficientnet-b7',\n",
    "        'img_size': [384, 384],\n",
    "        'num_classes': 1,\n",
    "        'model_pth':  '/home/rohits/pv1/Contrail_Detection/output/exp_01_pl_s2/Unet/efficientnet-b7-384/checkpoint_dice_ctrl_fold0.pth',\n",
    "        'threshold': 0.24, #0.24,\n",
    "        'model_func': load_modelr1,\n",
    "        'call_sign': \"roh_08_sig\",\n",
    "        'tta': False\n",
    "    },\n",
    "    \n",
    "    \n",
    "    \n",
    "    {\n",
    "        'model_name': 'Unet',\n",
    "        'backbone': 'tf_mixnet_l',\n",
    "        'img_size': [512, 512],\n",
    "        'num_classes': 1,\n",
    "        'model_pth':  '/home/rohits/pv1/Contrail_Detection/output/exp_01/Unet/tf_mixnet_l-512/checkpoint_dice_ctrl_fold0.pth',\n",
    "        'threshold': 0.24, #0.24,\n",
    "        'model_func': load_modelr2,\n",
    "        'call_sign': \"roh_09_tta_sig\",\n",
    "        'tta': True\n",
    "    },\n",
    "    \n",
    "    \n",
    "    {\n",
    "        'model_name': 'Unet',\n",
    "        'backbone': 'tf_mixnet_l',\n",
    "        'img_size': [512, 512],\n",
    "        'num_classes': 1,\n",
    "        'model_pth':  '/home/rohits/pv1/Contrail_Detection/output/exp_01/Unet/tf_mixnet_l-512/checkpoint_dice_ctrl_fold0.pth',\n",
    "        'threshold': 0.24, #0.24,\n",
    "        'model_func': load_modelr2,\n",
    "        'call_sign': \"roh_09_sig\",\n",
    "        'tta': False\n",
    "    },\n",
    "    \n",
    "    {\n",
    "        'model_name': 'Unet',\n",
    "        'backbone': 'fbnetv3_g',\n",
    "        'img_size': [256, 256],\n",
    "        'num_classes': 1,\n",
    "        'model_pth':  '/home/rohits/pv1/Contrail_Detection/output/exp_01/Unet/fbnetv3_g-256/checkpoint_dice_ctrl_fold0.pth',\n",
    "        'threshold': 0.24, #0.24,\n",
    "        'model_func': load_modelr2,\n",
    "        'call_sign': \"roh_10_tta_sig\",\n",
    "        'tta': True\n",
    "    },\n",
    "    \n",
    "    \n",
    "    {\n",
    "        'model_name': 'Unet',\n",
    "        'backbone': 'fbnetv3_g',\n",
    "        'img_size': [256, 256],\n",
    "        'num_classes': 1,\n",
    "        'model_pth':  '/home/rohits/pv1/Contrail_Detection/output/exp_01/Unet/fbnetv3_g-256/checkpoint_dice_ctrl_fold0.pth',\n",
    "        'threshold': 0.24, #0.24,\n",
    "        'model_func': load_modelr2,\n",
    "        'call_sign': \"roh_10_sig\",\n",
    "        'tta': False\n",
    "    },\n",
    "    \n",
    "    \n",
    "    \n",
    "    \n",
    "#     {\n",
    "#         'model_name': 'Unet',\n",
    "#         'backbone': 'efficientnet-b7',\n",
    "#         'img_size': [256, 256],\n",
    "#         'num_classes': 1,\n",
    "#         'model_pth':  '/home/rohits/pv1/Contrail_Detection/output/exp_01_pl/Unet/efficientnet-b7-256/checkpoint_dice_fold0.pth',\n",
    "#         'threshold': 0.24, #0.24,\n",
    "#         'call_sign': \"roh_08_tta\",\n",
    "#         'model_func': load_modelr1,\n",
    "#         'normalize': False,\n",
    "#         'tta': True\n",
    "#     },\n",
    "    \n",
    "#     {\n",
    "#         'model_name': 'Unet',\n",
    "#         'backbone': 'efficientnet-b7',\n",
    "#         'img_size': [256, 256],\n",
    "#         'num_classes': 1,\n",
    "#         'model_pth':  '/home/rohits/pv1/Contrail_Detection/output/exp_01_pl/Unet/efficientnet-b7-256/checkpoint_dice_fold0.pth',\n",
    "#         'threshold': 0.24, #0.24,\n",
    "#         'call_sign': \"roh_08\",\n",
    "#         'model_func': load_modelr1,\n",
    "#         'normalize': False,\n",
    "#         'tta': False\n",
    "#     },\n",
    "   \n",
    "]\n"
   ]
  },
  {
   "cell_type": "code",
   "execution_count": 20,
   "id": "ee28c63f",
   "metadata": {},
   "outputs": [
    {
     "name": "stdout",
     "output_type": "stream",
     "text": [
      "{'model_name': 'Unet', 'backbone': 'tf_mixnet_l', 'img_size': [512, 512], 'num_classes': 1, 'model_pth': '/home/rohits/pv1/Contrail_Detection/output/exp_01/Unet/tf_mixnet_l-512/checkpoint_dice_ctrl_fold0.pth', 'threshold': 0.24, 'model_func': <function load_modelr2 at 0x7f579e7cb9a0>, 'call_sign': 'roh_09_tta_sig', 'tta': True}\n"
     ]
    },
    {
     "data": {
      "application/vnd.jupyter.widget-view+json": {
       "model_id": "1887146311d048fdb8d07de55b4b28d2",
       "version_major": 2,
       "version_minor": 0
      },
      "text/plain": [
       "  0%|          | 0/52 [00:00<?, ?it/s]"
      ]
     },
     "metadata": {},
     "output_type": "display_data"
    },
    {
     "name": "stdout",
     "output_type": "stream",
     "text": [
      "0.62103873 0.57\n",
      "{'model_name': 'Unet', 'backbone': 'tf_mixnet_l', 'img_size': [512, 512], 'num_classes': 1, 'model_pth': '/home/rohits/pv1/Contrail_Detection/output/exp_01/Unet/tf_mixnet_l-512/checkpoint_dice_ctrl_fold0.pth', 'threshold': 0.24, 'model_func': <function load_modelr2 at 0x7f579e7cb9a0>, 'call_sign': 'roh_09_sig', 'tta': False}\n"
     ]
    },
    {
     "data": {
      "application/vnd.jupyter.widget-view+json": {
       "model_id": "734edd03880f4019a75fdd919a28fe05",
       "version_major": 2,
       "version_minor": 0
      },
      "text/plain": [
       "  0%|          | 0/52 [00:00<?, ?it/s]"
      ]
     },
     "metadata": {},
     "output_type": "display_data"
    },
    {
     "name": "stdout",
     "output_type": "stream",
     "text": [
      "0.6167561 0.57\n",
      "{'model_name': 'Unet', 'backbone': 'fbnetv3_g', 'img_size': [256, 256], 'num_classes': 1, 'model_pth': '/home/rohits/pv1/Contrail_Detection/output/exp_01/Unet/fbnetv3_g-256/checkpoint_dice_ctrl_fold0.pth', 'threshold': 0.24, 'model_func': <function load_modelr2 at 0x7f579e7cb9a0>, 'call_sign': 'roh_10_tta_sig', 'tta': True}\n"
     ]
    },
    {
     "data": {
      "application/vnd.jupyter.widget-view+json": {
       "model_id": "dccab9b89cbd435d81bb36ed43e85236",
       "version_major": 2,
       "version_minor": 0
      },
      "text/plain": [
       "  0%|          | 0/52 [00:00<?, ?it/s]"
      ]
     },
     "metadata": {},
     "output_type": "display_data"
    },
    {
     "name": "stdout",
     "output_type": "stream",
     "text": [
      "0.60999143 0.53\n",
      "{'model_name': 'Unet', 'backbone': 'fbnetv3_g', 'img_size': [256, 256], 'num_classes': 1, 'model_pth': '/home/rohits/pv1/Contrail_Detection/output/exp_01/Unet/fbnetv3_g-256/checkpoint_dice_ctrl_fold0.pth', 'threshold': 0.24, 'model_func': <function load_modelr2 at 0x7f579e7cb9a0>, 'call_sign': 'roh_10_sig', 'tta': False}\n"
     ]
    },
    {
     "data": {
      "application/vnd.jupyter.widget-view+json": {
       "model_id": "3fa33e0711ff40d4955fac3c016f2ace",
       "version_major": 2,
       "version_minor": 0
      },
      "text/plain": [
       "  0%|          | 0/52 [00:00<?, ?it/s]"
      ]
     },
     "metadata": {},
     "output_type": "display_data"
    },
    {
     "name": "stdout",
     "output_type": "stream",
     "text": [
      "0.6041864 0.53\n"
     ]
    }
   ],
   "source": [
    "final_preds2 = []\n",
    "\n",
    "for idx, cfg in enumerate(CFGS2):   \n",
    "\n",
    "    if idx <= 15:\n",
    "        continue\n",
    "        \n",
    "    print(cfg)\n",
    "    val_transform = get_transform(cfg['img_size'])\n",
    "    valid_dataset = ContrailDataset(val_df, transform=val_transform, normalize=False)  \n",
    "    valid_dataset2 = ContrailDataset(val_df, transform=val_transform, normalize=True)  \n",
    "\n",
    "    \n",
    "    valid_loader = DataLoader(\n",
    "        valid_dataset, \n",
    "        batch_size = 32, #32, \n",
    "        shuffle = False, \n",
    "        num_workers = 2, \n",
    "        pin_memory = True, \n",
    "        drop_last = False\n",
    "    )\n",
    "    \n",
    "    \n",
    "    valid_loader2 = DataLoader(\n",
    "        valid_dataset2, \n",
    "        batch_size = 32, #32, \n",
    "        shuffle = False, \n",
    "        num_workers = 2, \n",
    "        pin_memory = True, \n",
    "        drop_last = False\n",
    "    )\n",
    "\n",
    "    model = cfg['model_func'](cfg)  \n",
    "    if cfg['tta']:\n",
    "        model = tta.SegmentationTTAWrapper(model, tta.aliases.flip_transform(), merge_mode='mean')\n",
    "\n",
    "    model.to(device)\n",
    "    model.eval()\n",
    "    \n",
    "    preds = []\n",
    "    masks_ = []      \n",
    "            \n",
    "    if \"normalize\" in cfg and cfg['normalize']:\n",
    "        \n",
    "        for index, (images, masks) in enumerate(tqdm(valid_loader2)):  \n",
    "            images  = images.to(device, dtype=torch.float)\n",
    "            masks  = masks.to(device, dtype=torch.float)\n",
    "            if cfg['img_size'][0] != 256:\n",
    "                masks = torch.nn.functional.interpolate(masks, size=256, mode='nearest') \n",
    "\n",
    "            masks_.append(torch.squeeze(masks, dim=1))\n",
    "\n",
    "            with torch.inference_mode():\n",
    "                images = torch.nn.functional.interpolate(images, size=cfg['img_size'][0], mode='nearest')\n",
    "#                 pred = model(images)    \n",
    "                pred = model(images).sigmoid()    \n",
    "                pred = torch.nn.functional.interpolate(pred, size=256, mode='nearest') \n",
    "                preds.append(torch.squeeze(pred, dim=1))\n",
    "                \n",
    "                \n",
    "    else:\n",
    "        for index, (images, masks) in enumerate(tqdm(valid_loader)):  \n",
    "            images  = images.to(device, dtype=torch.float)\n",
    "            masks  = masks.to(device, dtype=torch.float)\n",
    "            if cfg['img_size'][0] != 256:\n",
    "                masks = torch.nn.functional.interpolate(masks, size=256, mode='nearest') \n",
    "\n",
    "            masks_.append(torch.squeeze(masks, dim=1))\n",
    "\n",
    "            with torch.inference_mode():\n",
    "                images = torch.nn.functional.interpolate(images, size=cfg['img_size'][0], mode='nearest')\n",
    "#                 pred = model(images)   \n",
    "                pred = model(images).sigmoid()\n",
    "                pred = torch.nn.functional.interpolate(pred, size=256, mode='nearest') \n",
    "                preds.append(torch.squeeze(pred, dim=1))\n",
    "        \n",
    "            \n",
    "            \n",
    "    model_masks = torch.cat(masks_, dim=0)\n",
    "    model_preds = torch.cat(preds, dim=0)\n",
    "        \n",
    "    model_masks = torch.flatten(model_masks, start_dim=0, end_dim=1)\n",
    "    model_preds = torch.flatten(model_preds, start_dim=0, end_dim=1)  \n",
    "    \n",
    "#     # save\n",
    "    torch.save(model_preds, f\"../../output/final_preds/{cfg['call_sign']}.pt\")    \n",
    "#     if idx == 0:\n",
    "#         torch.save(model_masks, f'../../output/final_preds/val_masks.pt')\n",
    "\n",
    "    \n",
    "    best_threshold = 0.0\n",
    "    best_dice_score = 0.0\n",
    "    for threshold in [i / 100 for i in range(101)] :\n",
    "#         score = dice_coef(model_masks, model_preds.sigmoid(), thr=threshold).cpu().detach().numpy() \n",
    "        score = dice_coef(model_masks, model_preds.sigmoid(), thr=threshold).cpu().detach().numpy() \n",
    "\n",
    "        if score > best_dice_score:\n",
    "            best_dice_score = score\n",
    "            best_threshold = threshold\n",
    "    \n",
    "        \n",
    "    print(best_dice_score, best_threshold)\n",
    "    final_preds2.append(model_preds)\n",
    "    \n",
    "    del model\n",
    "    torch.cuda.empty_cache()\n",
    "    gc.collect()"
   ]
  },
  {
   "cell_type": "code",
   "execution_count": 21,
   "id": "3361fd7c",
   "metadata": {},
   "outputs": [],
   "source": [
    "def weighted_ensemble(params, final_preds):    \n",
    "    for index, val in enumerate(params.keys()):\n",
    "        if index == 0:\n",
    "            preds = params[val]*final_preds[0]\n",
    "        else:\n",
    "            preds += params[val]*final_preds[index]\n",
    "    \n",
    "    param_sum = 0\n",
    "    for key, val in params.items():\n",
    "        param_sum += val\n",
    "\n",
    "    preds = preds/param_sum\n",
    "    return preds"
   ]
  },
  {
   "cell_type": "code",
   "execution_count": null,
   "id": "8e986a61",
   "metadata": {},
   "outputs": [],
   "source": []
  },
  {
   "cell_type": "code",
   "execution_count": 54,
   "id": "0d3df7d8",
   "metadata": {},
   "outputs": [
    {
     "data": {
      "application/vnd.jupyter.widget-view+json": {
       "model_id": "358a01aff6454145a0062ef915b159cf",
       "version_major": 2,
       "version_minor": 0
      },
      "text/plain": [
       "  0%|          | 0/8 [00:00<?, ?it/s]"
      ]
     },
     "metadata": {},
     "output_type": "display_data"
    },
    {
     "name": "stdout",
     "output_type": "stream",
     "text": [
      "0.66965246 0.18\n",
      "0.6132575 0.09\n",
      "0.68071157 0.11\n",
      "0.67365956 0.03\n",
      "0.6682736 0.02\n",
      "0.68159544 0.21\n",
      "0.682485 0.19\n",
      "0.6775493 0.13\n"
     ]
    }
   ],
   "source": [
    "# # ### Load presaved predictions\n",
    "\n",
    "\n",
    "def dice_coef2(y_true, y_pred, low_thr=0.5, high_thr=0.5, epsilon=1e-6):\n",
    "    y_true = y_true.to(torch.float32)\n",
    "    y_pred = (y_pred>low_thr).to(torch.float32)\n",
    "        \n",
    "#     y_pred = ((y_pred > low_thr) & (y_pred < high_thr)).to(torch.float32)\n",
    "\n",
    "    \n",
    "    inter = (y_true*y_pred).sum()\n",
    "    den = y_true.sum() + y_pred.sum()\n",
    "    dice = ((2*inter+epsilon)/(den+epsilon)).mean()\n",
    "    \n",
    "    return dice\n",
    "\n",
    "\n",
    "\n",
    "model_masks = torch.load(f\"/home/rohits/pv1/Contrail_Detection/output/final_preds/val_masks.pt\")\n",
    "\n",
    "\n",
    "\n",
    "\n",
    "# call_signs1 = [\n",
    "#     \"nir_tta\", \"nir_01_tta\", \"nir_01\", \"nir_02\", \"nir_03\",\n",
    "#     \"nir_05\", \"nir_06_tta\", \"nir_06\", \"nir_08\", \"nir_09\", \"nir_09_tta\"\n",
    "# ]\n",
    "\n",
    "# nir_02_tta, nir_03_tta, nir_04_tta, roh_03, roh_05_tta, roh_05, roh_06  nir_05_tta, nir_07, nir_04, nir_08_tta\n",
    "\n",
    "\n",
    "# call_signs1 = [\n",
    "#     \"nir_01\", \"nir_02\", \"nir_04\",\n",
    "#     \"nir_05_tta\", \"nir_06\", \"nir_08\"\n",
    "# ] # later sigmoid\n",
    "\n",
    "# call_signs1 = [\n",
    "#     \"nir_tta\", \"nir_01_tta\", \"nir_01\", \"nir_02\", \"nir_03\",\n",
    "#     \"nir_05\", \"nir_06_tta\", \"nir_06\", \"nir_08\"\n",
    "# ] # first sigmoid\n",
    "\n",
    "\n",
    "\n",
    "# call_signs2 = [\n",
    "#     \"roh_01_tta\", \"roh_01\", \"roh_03_tta\", \"roh_04_tta\", \"roh_04\", \"roh_05\",\n",
    "#      \"roh_06_tta\", \"roh_07_tta\", \"roh_07\"\n",
    "# ]\n",
    "\n",
    "# call_signs2 = [\n",
    "#     \"roh_01_tta\", \"roh_03_tta\", \"roh_04_tta\", \"roh_04\", \"roh_05\",\n",
    "#     \"roh_07_tta\", \"roh_07\"\n",
    "# ] # later sigmoid\n",
    "\n",
    "# call_signs2 = [\n",
    "#     \"roh_01_tta\", \"roh_01\", \"roh_02_tta\", \"roh_03_tta\", \"roh_04_tta\",\n",
    "#      \"roh_06_tta\", \"roh_07_tta\"\n",
    "# ] # first sigmoid\n",
    "\n",
    "\n",
    "# call_signs1 = [\n",
    "#     \"nir_01\", \"nir_02\", \"nir_03\", \"nir_04\",\n",
    "#     \"nir_06_tta\", \"nir_06\", \"nir_08_tta\", \"nir_08\", \"nir_09_tta\"\n",
    "# ]\n",
    "\n",
    "# call_signs2 = [\n",
    "#     \"roh_01_tta\", \"roh_01\", \"roh_03_tta\", \"roh_03\", \"roh_04\",\n",
    "#      \"roh_05\", \"roh_06_tta\", \"roh_07_tta\", \"roh_07\"\n",
    "# ]\n",
    "\n",
    "\n",
    "\n",
    "\n",
    "# call_signs1 = [\n",
    "#     \"nir_01_sig\", \"nir_02_sig\", \"nir_03_sig\", \"nir_04_sig\",\n",
    "#     \"nir_06_tta_sig\", \"nir_06_sig\", \"nir_08_tta_sig\", \"nir_08_sig\", \"nir_09_tta_sig\"\n",
    "# ]\n",
    "\n",
    "# call_signs1 = [\n",
    "#     \"nir_01_tta_sig\", \"nir_01_sig\", \"nir_02_sig\",\n",
    "#     \"nir_04_sig\", \"nir_05_sig\",\n",
    "#     \"nir_06_tta_sig\", \"nir_06_sig\", \"nir_08_tta_sig\", \"nir_08_sig\",\n",
    "#     \"nir_09_tta_sig\", \"nir_09_sig\"\n",
    "# ] nir only 688CV\n",
    "\n",
    "# call_signs1 = [\n",
    "# #     \"nir_01_tta_sig\", \"nir_01_sig\", \"nir_02_sig\",\n",
    "# #     \"nir_04_sig\", \"nir_05_sig\",\n",
    "# #     \"nir_06_tta_sig\", \"nir_06_sig\", \"nir_08_tta_sig\", \"nir_08_sig\",\n",
    "    \n",
    "#     \"nir_tta_sig\",\n",
    "#     \"nir_03_tta_sig\",\n",
    "#     \"nir_06_tta_sig\",\n",
    "#     \"nir_08_tta_sig\",\n",
    "#     \"nir_09_tta_sig\"\n",
    "# ]\n",
    "\n",
    "\n",
    "\n",
    "# nir_sig, nir_03_sig, nir_07_tta_sig, nir_07_sig\n",
    "# nir_tta_sig, nir_02_tta_sig, nir_03_tta_sig, nir_04_tta_sig, nir_05_tta_sig\n",
    "\n",
    "# call_signs2 = [\n",
    "#     \"roh_01_tta_sig\", \"roh_01_sig\", \"roh_03_tta_sig\", \"roh_03_sig\", \"roh_04_sig\",\n",
    "#      \"roh_05_sig\", \"roh_06_tta_sig\", \"roh_07_tta_sig\", \"roh_07_sig\"\n",
    "# ]\n",
    "\n",
    "\n",
    "# call_signs1 = [\n",
    "#     \"roh_01_tta_sig\", \"roh_01_sig\", \"roh_02_tta_sig\", \"roh_02_sig\", \"roh_03_tta_sig\", \"roh_03_sig\", \"roh_04_tta_sig\",\n",
    "#     \"roh_04_sig\", \"roh_05_tta_sig\", \"roh_05_sig\", \"roh_06_tta_sig\", \"roh_06_sig\",  \"roh_07_tta_sig\", \"roh_07_sig\",\n",
    "#     \"roh_08_tta_sig\", \"roh_08_sig\", \"roh_09_tta_sig\", \"roh_09_sig\" \n",
    "# ] # first sigmoid\n",
    "\n",
    "call_signs1 = [\n",
    "    \"roh_01_tta_sig\", \"roh_03_tta_sig\", \"roh_04_tta_sig\",\n",
    "    \"roh_05_tta_sig\", \"roh_05_sig\", \"roh_06_tta_sig\",  \"roh_07_tta_sig\", \"roh_07_sig\",\n",
    "] # first sigmoid\n",
    "\n",
    "\n",
    "# roh_01_sig, roh_02_sig, roh_03_sig, roh_04_sig, roh_06_sig, roh_08_tta_sig, roh_08_sig\n",
    "\n",
    "\n",
    "preds1 = []\n",
    "\n",
    "for idx, sign in tqdm(enumerate(call_signs1), total=len(call_signs1)):\n",
    "    wt = torch.load(f\"/home/rohits/pv1/Contrail_Detection/output/final_preds/{sign}.pt\")    \n",
    "#     preds1.append(wt.sigmoid())\n",
    "    preds1.append(wt)\n",
    "    \n",
    "    best_threshold = 0.0\n",
    "    best_dice_score = 0.0\n",
    "    for threshold in [i / 100 for i in range(101)] :\n",
    "#         score = dice_coef(model_masks, wt.sigmoid(), thr=threshold).cpu().detach().numpy() \n",
    "        score = dice_coef(model_masks, wt, thr=threshold).cpu().detach().numpy() \n",
    "\n",
    "        if score > best_dice_score:\n",
    "            best_dice_score = score\n",
    "            best_threshold = threshold\n",
    "    print(best_dice_score, best_threshold)\n",
    "    \n",
    "    \n",
    "    \n",
    "    \n",
    "# preds2 = []\n",
    "    \n",
    "# for idx, sign in tqdm(enumerate(call_signs2), total=len(call_signs2)):\n",
    "#     wt = torch.load(f\"/home/rohits/pv1/Contrail_Detection/output/final_preds/{sign}.pt\")    \n",
    "# #     preds2.append(wt.sigmoid())\n",
    "#     preds2.append(wt)\n",
    "    \n",
    "    \n",
    "#     best_threshold = 0.0\n",
    "#     best_dice_score = 0.0\n",
    "#     for threshold in [i / 100 for i in range(101)] :\n",
    "# #         score = dice_coef(model_masks, wt.sigmoid(), thr=threshold).cpu().detach().numpy() \n",
    "#         score = dice_coef(model_masks, wt, thr=threshold).cpu().detach().numpy() \n",
    "#         if score > best_dice_score:\n",
    "#             best_dice_score = score\n",
    "#             best_threshold = threshold\n",
    "#     print(best_dice_score, best_threshold)"
   ]
  },
  {
   "cell_type": "code",
   "execution_count": 55,
   "id": "497df999",
   "metadata": {},
   "outputs": [],
   "source": [
    "# preds1.extend(preds2)   \n",
    "# final_preds = preds1\n",
    "# final_preds = torch.stack(final_preds).mean(dim=0)"
   ]
  },
  {
   "cell_type": "code",
   "execution_count": 56,
   "id": "cc425fbd",
   "metadata": {},
   "outputs": [],
   "source": [
    "# final_preds.shape\n",
    "\n",
    "# best_threshold = 0.0\n",
    "# best_dice_score = 0.0\n",
    "# # for threshold in [i / 100 for i in range(101)] :\n",
    "# for threshold in [0.05, 0.03, 0.032, 0.038, 0.039, 0.04, 0.041, 0.042, 0.045, 0.047, 0.049] :\n",
    "# #     threshold = 0.5\n",
    "# #     score = dice_coef(model_masks, final_preds.sigmoid(), thr=threshold).cpu().detach().numpy() \n",
    "#     score = dice_coef(model_masks, final_preds.sigmoid(), thr=threshold).cpu().detach().numpy() \n",
    "#     if score > best_dice_score:\n",
    "#         print(threshold, score)\n",
    "#         best_dice_score = score\n",
    "#         best_threshold = threshold\n",
    "# print(best_dice_score, best_threshold)"
   ]
  },
  {
   "cell_type": "code",
   "execution_count": 57,
   "id": "d0fc9fa7",
   "metadata": {},
   "outputs": [],
   "source": [
    "# 0.6889764\n",
    "# if len(final_preds) > 0:\n",
    "#     saved_preds.extend(final_preds)\n",
    "#     final_preds = saved_preds\n",
    "# else:\n",
    "#     final_preds = saved_preds\n",
    "    \n",
    "    \n",
    "    \n",
    "    \n",
    "    \n",
    "# preds1.extend(preds2)   \n",
    "# final_preds = preds1\n",
    "\n"
   ]
  },
  {
   "cell_type": "code",
   "execution_count": 58,
   "id": "af3df9e8",
   "metadata": {},
   "outputs": [],
   "source": [
    "final_preds = preds1\n"
   ]
  },
  {
   "cell_type": "code",
   "execution_count": 59,
   "id": "228c59e4",
   "metadata": {},
   "outputs": [],
   "source": [
    "# len(final_preds)\n",
    "# final_preds1.extend(final_preds2)"
   ]
  },
  {
   "cell_type": "code",
   "execution_count": 60,
   "id": "ab1109a3",
   "metadata": {},
   "outputs": [],
   "source": [
    "# final_preds = final_preds1"
   ]
  },
  {
   "cell_type": "code",
   "execution_count": 61,
   "id": "6a75d39d",
   "metadata": {},
   "outputs": [
    {
     "data": {
      "text/plain": [
       "8"
      ]
     },
     "execution_count": 61,
     "metadata": {},
     "output_type": "execute_result"
    }
   ],
   "source": [
    "len(final_preds)"
   ]
  },
  {
   "cell_type": "code",
   "execution_count": null,
   "id": "37ab9e7e",
   "metadata": {},
   "outputs": [],
   "source": []
  },
  {
   "cell_type": "code",
   "execution_count": 62,
   "id": "e1d72a60",
   "metadata": {},
   "outputs": [],
   "source": [
    "def boost_dice(params, TH=None):    \n",
    "    \n",
    "    for index, val in enumerate(params.keys()):\n",
    "        if index == 0:            \n",
    "            preds = params[val]*final_preds[0]\n",
    "        else:\n",
    "            preds += params[val]*final_preds[index]\n",
    "    \n",
    "    param_sum = 0\n",
    "    for key, val in params.items():\n",
    "        param_sum += val\n",
    "\n",
    "    preds = preds/param_sum\n",
    "    \n",
    "    \n",
    "    if TH:\n",
    "        best_threshold = TH\n",
    "#         preds1 = (preds.sigmoid()).double()\n",
    "        preds1 = (preds).double()\n",
    "#         best_score = dice_coef2(model_masks, preds1, low_thr=0.31, high_thr=1.0).cpu().detach().numpy() # get_score(labels, preds) \n",
    "        best_score = dice_coef(model_masks, preds1, thr=TH).cpu().detach().numpy() # get_score(labels, preds) \n",
    "\n",
    "        \n",
    "    else:\n",
    "        best_threshold = 0.0\n",
    "        best_score = 0.0\n",
    "        for threshold in [i / 100 for i in range(101)] :              \n",
    "            if threshold < 0.2 or threshold > 0.65:\n",
    "                continue\n",
    "            \n",
    "#             preds1 = (nn.Sigmoid()(preds)>threshold).double()    \n",
    "            preds1 = ((preds)>threshold).double()            \n",
    "\n",
    "            score = dice_coef(model_masks, preds1, thr=threshold).cpu().detach().numpy() # get_score(labels, preds) \n",
    "            if score > best_score:\n",
    "                best_score = score\n",
    "                best_threshold = threshold\n",
    "            \n",
    "#     best_score = score\n",
    "#     best_threshold = threshold\n",
    "    return best_score, best_threshold"
   ]
  },
  {
   "cell_type": "code",
   "execution_count": 63,
   "id": "08e547dd",
   "metadata": {},
   "outputs": [],
   "source": [
    "# final_preds = final_preds1\n",
    "\n",
    "# len(final_preds)"
   ]
  },
  {
   "cell_type": "code",
   "execution_count": 64,
   "id": "8fda1d51",
   "metadata": {},
   "outputs": [],
   "source": [
    "def objective(trial):\n",
    "#     TH = 0.29\n",
    "    TH = None\n",
    "    \n",
    "    params = {}    \n",
    "    for i in range(len(final_preds)):\n",
    "        params[f\"w{i+1}\"] = trial.suggest_float(f'w{i+1}', 0, 1) \n",
    "        \n",
    "#     params['w1'] = 0.012132889171043498\n",
    "# #     params['w1'] = trial.suggest_float(f'w1', 0, 1) \n",
    "\n",
    "#     params['w2'] = 0.22910836470987306 \n",
    "# #     params['w2'] = trial.suggest_float(f'w2', 0, 1) \n",
    "\n",
    "#     params['w3'] = 0.8234913030546002 \n",
    "# #     params['w3'] = trial.suggest_float(f'w3', 0, 1) \n",
    "\n",
    "#     params['w4'] = 0.7631962618421504\n",
    "# #     params['w4'] = trial.suggest_float(f'w4', 0, 1) \n",
    "\n",
    "#     params['w5'] = 0.8427707176332744\n",
    "# #     params['w5'] = trial.suggest_float(f'w5', 0, 1) \n",
    "\n",
    "#     params['w6'] = 0.479202185185958\n",
    "# #     params['w6'] = trial.suggest_float(f'w6', 0, 1) \n",
    "\n",
    "#     params['w7'] = 0.416350717272335\n",
    "# #     params['w7'] = trial.suggest_float(f'w7', 0, 1) \n",
    "\n",
    "#     params['w8'] = 0.8815206035791852\n",
    "# #     params['w8'] = trial.suggest_float(f'w8', 0, 1) \n",
    "\n",
    "#     params['w9'] = 0.9217240554494449\n",
    "# #     params['w9'] = trial.suggest_float(f'w9', 0, 1) \n",
    "\n",
    "    \n",
    "#     params['w10'] = 0.575094040365154\n",
    "# #     params['w10'] = trial.suggest_float(f'w10', 0, 1) \n",
    "\n",
    "#     params['w11'] = 0.26646876984640183\n",
    "# #     params['w11'] = trial.suggest_float(f'w11', 0, 1) \n",
    "\n",
    "#     params['w12'] = 0.11308087290053014 \n",
    "# #     params['w12'] = trial.suggest_float(f'w12', 0, 1) \n",
    "\n",
    "#     params['w13'] = 0.45407230561937456 \n",
    "# #     params['w13'] = trial.suggest_float(f'w13', 0, 1) \n",
    "\n",
    "#     params['w14'] = 0.46687601413910984 \n",
    "# #     params['w14'] = trial.suggest_float(f'w14', 0, 1) \n",
    "\n",
    "#     params['w15'] = 0.5855103418960851 \n",
    "# #     params['w15'] = trial.suggest_float(f'w15', 0, 1) \n",
    "\n",
    "\n",
    "#     params['w16'] = 0.6404939370620236 \n",
    "# #     params['w16'] = trial.suggest_float(f'w16', 0, 1) \n",
    "\n",
    "#     params['w17'] = trial.suggest_float(f'w17', 0, 1) \n",
    "#     params['w18'] = trial.suggest_float(f'w18', 0, 1) \n",
    "\n",
    "\n",
    "\n",
    "        \n",
    "\n",
    "#     print(params)\n",
    "#     exit()\n",
    "\n",
    "        \n",
    "    score, best_threshold  = boost_dice(params, TH=TH)\n",
    "    params['threshold'] = best_threshold\n",
    "    if not TH:\n",
    "        print(params)\n",
    "        \n",
    "    return score\n"
   ]
  },
  {
   "cell_type": "code",
   "execution_count": 65,
   "id": "4b40fd07",
   "metadata": {},
   "outputs": [
    {
     "name": "stderr",
     "output_type": "stream",
     "text": [
      "[I 2023-07-04 16:00:19,444] A new study created in memory with name: no-name-c959afe0-24ee-48cd-a5cc-71db01227dc7\n",
      "[I 2023-07-04 16:00:19,837] Trial 0 finished with value: 0.6867413520812988 and parameters: {'w1': 0.42843914551076867, 'w2': 0.9791606392553401, 'w3': 0.3328923658727868, 'w4': 0.6298746287297864, 'w5': 0.01950059648379221, 'w6': 0.6178454308099809, 'w7': 0.6652680480114249, 'w8': 0.22341379747367585}. Best is trial 0 with value: 0.6867413520812988.\n"
     ]
    },
    {
     "name": "stdout",
     "output_type": "stream",
     "text": [
      "{'w1': 0.42843914551076867, 'w2': 0.9791606392553401, 'w3': 0.3328923658727868, 'w4': 0.6298746287297864, 'w5': 0.01950059648379221, 'w6': 0.6178454308099809, 'w7': 0.6652680480114249, 'w8': 0.22341379747367585, 'threshold': 0.29}\n"
     ]
    },
    {
     "name": "stderr",
     "output_type": "stream",
     "text": [
      "[I 2023-07-04 16:00:20,206] Trial 1 finished with value: 0.6852219700813293 and parameters: {'w1': 0.10639594900644977, 'w2': 0.11731134253367992, 'w3': 0.07394084012691404, 'w4': 0.6900812873863558, 'w5': 0.23695275229704726, 'w6': 0.5598154070183308, 'w7': 0.9726365554757279, 'w8': 0.7745609803555263}. Best is trial 0 with value: 0.6867413520812988.\n"
     ]
    },
    {
     "name": "stdout",
     "output_type": "stream",
     "text": [
      "{'w1': 0.10639594900644977, 'w2': 0.11731134253367992, 'w3': 0.07394084012691404, 'w4': 0.6900812873863558, 'w5': 0.23695275229704726, 'w6': 0.5598154070183308, 'w7': 0.9726365554757279, 'w8': 0.7745609803555263, 'threshold': 0.27}\n"
     ]
    },
    {
     "name": "stderr",
     "output_type": "stream",
     "text": [
      "[I 2023-07-04 16:00:20,576] Trial 2 finished with value: 0.6856850981712341 and parameters: {'w1': 0.07045518345178214, 'w2': 0.05910241516190262, 'w3': 0.09931311263964548, 'w4': 0.23311709747006615, 'w5': 0.42240856437235763, 'w6': 0.6827998142844847, 'w7': 0.24806510494016543, 'w8': 0.6062406215414163}. Best is trial 0 with value: 0.6867413520812988.\n"
     ]
    },
    {
     "name": "stdout",
     "output_type": "stream",
     "text": [
      "{'w1': 0.07045518345178214, 'w2': 0.05910241516190262, 'w3': 0.09931311263964548, 'w4': 0.23311709747006615, 'w5': 0.42240856437235763, 'w6': 0.6827998142844847, 'w7': 0.24806510494016543, 'w8': 0.6062406215414163, 'threshold': 0.28}\n"
     ]
    },
    {
     "name": "stderr",
     "output_type": "stream",
     "text": [
      "[I 2023-07-04 16:00:20,946] Trial 3 finished with value: 0.687788188457489 and parameters: {'w1': 0.537268523319253, 'w2': 0.2009582839616214, 'w3': 0.39014972327760333, 'w4': 0.3205457725457955, 'w5': 0.2636818485124228, 'w6': 0.7419038258197116, 'w7': 0.6549632871993192, 'w8': 0.2150561732012518}. Best is trial 3 with value: 0.687788188457489.\n"
     ]
    },
    {
     "name": "stdout",
     "output_type": "stream",
     "text": [
      "{'w1': 0.537268523319253, 'w2': 0.2009582839616214, 'w3': 0.39014972327760333, 'w4': 0.3205457725457955, 'w5': 0.2636818485124228, 'w6': 0.7419038258197116, 'w7': 0.6549632871993192, 'w8': 0.2150561732012518, 'threshold': 0.22}\n"
     ]
    },
    {
     "name": "stderr",
     "output_type": "stream",
     "text": [
      "[I 2023-07-04 16:00:21,315] Trial 4 finished with value: 0.6862134337425232 and parameters: {'w1': 0.1093252900856736, 'w2': 0.3154865047706312, 'w3': 0.17374020849829153, 'w4': 0.6813563230555387, 'w5': 0.3480143434219265, 'w6': 0.7462005072655093, 'w7': 0.836840093271512, 'w8': 0.49990124516908174}. Best is trial 3 with value: 0.687788188457489.\n"
     ]
    },
    {
     "name": "stdout",
     "output_type": "stream",
     "text": [
      "{'w1': 0.1093252900856736, 'w2': 0.3154865047706312, 'w3': 0.17374020849829153, 'w4': 0.6813563230555387, 'w5': 0.3480143434219265, 'w6': 0.7462005072655093, 'w7': 0.836840093271512, 'w8': 0.49990124516908174, 'threshold': 0.28}\n"
     ]
    },
    {
     "name": "stderr",
     "output_type": "stream",
     "text": [
      "[I 2023-07-04 16:00:21,685] Trial 5 finished with value: 0.6871816515922546 and parameters: {'w1': 0.1685798147074411, 'w2': 0.5238344158747541, 'w3': 0.9292309512944122, 'w4': 0.005899579657464349, 'w5': 0.8215548487972847, 'w6': 0.39305092325386315, 'w7': 0.513349249244826, 'w8': 0.8238753759739745}. Best is trial 3 with value: 0.687788188457489.\n"
     ]
    },
    {
     "name": "stdout",
     "output_type": "stream",
     "text": [
      "{'w1': 0.1685798147074411, 'w2': 0.5238344158747541, 'w3': 0.9292309512944122, 'w4': 0.005899579657464349, 'w5': 0.8215548487972847, 'w6': 0.39305092325386315, 'w7': 0.513349249244826, 'w8': 0.8238753759739745, 'threshold': 0.26}\n"
     ]
    },
    {
     "name": "stderr",
     "output_type": "stream",
     "text": [
      "[I 2023-07-04 16:00:22,055] Trial 6 finished with value: 0.6874761581420898 and parameters: {'w1': 0.8334775143302778, 'w2': 0.7695089009561106, 'w3': 0.4062877738542058, 'w4': 0.15019781791328424, 'w5': 0.08242334673742424, 'w6': 0.7713609178541729, 'w7': 0.17771393600405638, 'w8': 0.21456640141115835}. Best is trial 3 with value: 0.687788188457489.\n"
     ]
    },
    {
     "name": "stdout",
     "output_type": "stream",
     "text": [
      "{'w1': 0.8334775143302778, 'w2': 0.7695089009561106, 'w3': 0.4062877738542058, 'w4': 0.15019781791328424, 'w5': 0.08242334673742424, 'w6': 0.7713609178541729, 'w7': 0.17771393600405638, 'w8': 0.21456640141115835, 'threshold': 0.33}\n"
     ]
    },
    {
     "name": "stderr",
     "output_type": "stream",
     "text": [
      "[I 2023-07-04 16:00:22,425] Trial 7 finished with value: 0.6879511475563049 and parameters: {'w1': 0.8363561268976665, 'w2': 0.48827509833497884, 'w3': 0.951907345737411, 'w4': 0.521453148654746, 'w5': 0.03381762956047574, 'w6': 0.5842280956241709, 'w7': 0.968565467484597, 'w8': 0.525421872435448}. Best is trial 7 with value: 0.6879511475563049.\n"
     ]
    },
    {
     "name": "stdout",
     "output_type": "stream",
     "text": [
      "{'w1': 0.8363561268976665, 'w2': 0.48827509833497884, 'w3': 0.951907345737411, 'w4': 0.521453148654746, 'w5': 0.03381762956047574, 'w6': 0.5842280956241709, 'w7': 0.968565467484597, 'w8': 0.525421872435448, 'threshold': 0.22}\n"
     ]
    },
    {
     "name": "stderr",
     "output_type": "stream",
     "text": [
      "[I 2023-07-04 16:00:22,794] Trial 8 finished with value: 0.6868939399719238 and parameters: {'w1': 0.1772131193605061, 'w2': 0.41423853337159067, 'w3': 0.6713264086632676, 'w4': 0.8195122295707602, 'w5': 0.473702800217771, 'w6': 0.9756885863837653, 'w7': 0.3559152797023921, 'w8': 0.4741721531005916}. Best is trial 7 with value: 0.6879511475563049.\n"
     ]
    },
    {
     "name": "stdout",
     "output_type": "stream",
     "text": [
      "{'w1': 0.1772131193605061, 'w2': 0.41423853337159067, 'w3': 0.6713264086632676, 'w4': 0.8195122295707602, 'w5': 0.473702800217771, 'w6': 0.9756885863837653, 'w7': 0.3559152797023921, 'w8': 0.4741721531005916, 'threshold': 0.3}\n"
     ]
    },
    {
     "name": "stderr",
     "output_type": "stream",
     "text": [
      "[I 2023-07-04 16:00:23,164] Trial 9 finished with value: 0.6880940198898315 and parameters: {'w1': 0.6842791253656835, 'w2': 0.9178554697584463, 'w3': 0.8538456652314458, 'w4': 0.23982043688295251, 'w5': 0.8395512317195625, 'w6': 0.7117740531721962, 'w7': 0.6651373514780399, 'w8': 0.7338668313044556}. Best is trial 9 with value: 0.6880940198898315.\n"
     ]
    },
    {
     "name": "stdout",
     "output_type": "stream",
     "text": [
      "{'w1': 0.6842791253656835, 'w2': 0.9178554697584463, 'w3': 0.8538456652314458, 'w4': 0.23982043688295251, 'w5': 0.8395512317195625, 'w6': 0.7117740531721962, 'w7': 0.6651373514780399, 'w8': 0.7338668313044556, 'threshold': 0.26}\n"
     ]
    },
    {
     "name": "stderr",
     "output_type": "stream",
     "text": [
      "[I 2023-07-04 16:00:23,564] Trial 10 finished with value: 0.6869324445724487 and parameters: {'w1': 0.9743301187085278, 'w2': 0.9890215645764532, 'w3': 0.6811113402578214, 'w4': 0.39283471101390194, 'w5': 0.9900511462607101, 'w6': 0.13826579302595887, 'w7': 0.005294401678722194, 'w8': 0.9594101303155784}. Best is trial 9 with value: 0.6880940198898315.\n"
     ]
    },
    {
     "name": "stdout",
     "output_type": "stream",
     "text": [
      "{'w1': 0.9743301187085278, 'w2': 0.9890215645764532, 'w3': 0.6811113402578214, 'w4': 0.39283471101390194, 'w5': 0.9900511462607101, 'w6': 0.13826579302595887, 'w7': 0.005294401678722194, 'w8': 0.9594101303155784, 'threshold': 0.28}\n"
     ]
    },
    {
     "name": "stderr",
     "output_type": "stream",
     "text": [
      "[I 2023-07-04 16:00:23,968] Trial 11 finished with value: 0.6880742907524109 and parameters: {'w1': 0.7365911746652117, 'w2': 0.5585716773941173, 'w3': 0.9763785123855374, 'w4': 0.4375991504645135, 'w5': 0.6448772723348932, 'w6': 0.35651709218037747, 'w7': 0.991601213205536, 'w8': 0.6647792100905812}. Best is trial 9 with value: 0.6880940198898315.\n"
     ]
    },
    {
     "name": "stdout",
     "output_type": "stream",
     "text": [
      "{'w1': 0.7365911746652117, 'w2': 0.5585716773941173, 'w3': 0.9763785123855374, 'w4': 0.4375991504645135, 'w5': 0.6448772723348932, 'w6': 0.35651709218037747, 'w7': 0.991601213205536, 'w8': 0.6647792100905812, 'threshold': 0.23}\n"
     ]
    },
    {
     "name": "stderr",
     "output_type": "stream",
     "text": [
      "[I 2023-07-04 16:00:24,376] Trial 12 finished with value: 0.6881253123283386 and parameters: {'w1': 0.6373187610666158, 'w2': 0.6671569503433509, 'w3': 0.9988348331473186, 'w4': 0.4441576454335279, 'w5': 0.6603788360754046, 'w6': 0.3366606886474939, 'w7': 0.7349460730921402, 'w8': 0.6757929754854776}. Best is trial 12 with value: 0.6881253123283386.\n"
     ]
    },
    {
     "name": "stdout",
     "output_type": "stream",
     "text": [
      "{'w1': 0.6373187610666158, 'w2': 0.6671569503433509, 'w3': 0.9988348331473186, 'w4': 0.4441576454335279, 'w5': 0.6603788360754046, 'w6': 0.3366606886474939, 'w7': 0.7349460730921402, 'w8': 0.6757929754854776, 'threshold': 0.23}\n"
     ]
    },
    {
     "name": "stderr",
     "output_type": "stream",
     "text": [
      "[I 2023-07-04 16:00:24,784] Trial 13 finished with value: 0.6870656609535217 and parameters: {'w1': 0.5996148705620726, 'w2': 0.7657215861525071, 'w3': 0.8040912304843997, 'w4': 0.9701621995580975, 'w5': 0.6122814302585708, 'w6': 0.0009589379513520457, 'w7': 0.7152620128816246, 'w8': 0.9888543961452384}. Best is trial 12 with value: 0.6881253123283386.\n"
     ]
    },
    {
     "name": "stdout",
     "output_type": "stream",
     "text": [
      "{'w1': 0.5996148705620726, 'w2': 0.7657215861525071, 'w3': 0.8040912304843997, 'w4': 0.9701621995580975, 'w5': 0.6122814302585708, 'w6': 0.0009589379513520457, 'w7': 0.7152620128816246, 'w8': 0.9888543961452384, 'threshold': 0.25}\n"
     ]
    },
    {
     "name": "stderr",
     "output_type": "stream",
     "text": [
      "[I 2023-07-04 16:00:25,190] Trial 14 finished with value: 0.6878669857978821 and parameters: {'w1': 0.39845058315370285, 'w2': 0.7210556356838883, 'w3': 0.8091858100321145, 'w4': 0.2768289598537065, 'w5': 0.7491013670461008, 'w6': 0.40959064526164884, 'w7': 0.5306924124726574, 'w8': 0.7582778437599395}. Best is trial 12 with value: 0.6881253123283386.\n"
     ]
    },
    {
     "name": "stdout",
     "output_type": "stream",
     "text": [
      "{'w1': 0.39845058315370285, 'w2': 0.7210556356838883, 'w3': 0.8091858100321145, 'w4': 0.2768289598537065, 'w5': 0.7491013670461008, 'w6': 0.40959064526164884, 'w7': 0.5306924124726574, 'w8': 0.7582778437599395, 'threshold': 0.23}\n"
     ]
    },
    {
     "name": "stderr",
     "output_type": "stream",
     "text": [
      "[I 2023-07-04 16:00:25,598] Trial 15 finished with value: 0.6870042681694031 and parameters: {'w1': 0.6462860538639286, 'w2': 0.8464261838659002, 'w3': 0.587862850563626, 'w4': 0.4820248809619227, 'w5': 0.893516193952529, 'w6': 0.25553395000912094, 'w7': 0.7927297480258018, 'w8': 0.008829555576373105}. Best is trial 12 with value: 0.6881253123283386.\n"
     ]
    },
    {
     "name": "stdout",
     "output_type": "stream",
     "text": [
      "{'w1': 0.6462860538639286, 'w2': 0.8464261838659002, 'w3': 0.587862850563626, 'w4': 0.4820248809619227, 'w5': 0.893516193952529, 'w6': 0.25553395000912094, 'w7': 0.7927297480258018, 'w8': 0.008829555576373105, 'threshold': 0.31}\n"
     ]
    },
    {
     "name": "stderr",
     "output_type": "stream",
     "text": [
      "[I 2023-07-04 16:00:26,002] Trial 16 finished with value: 0.6880977153778076 and parameters: {'w1': 0.6892374461867201, 'w2': 0.6344913900385468, 'w3': 0.8336750688045865, 'w4': 0.1510858486967181, 'w5': 0.6213450448212758, 'w6': 0.4950592992395316, 'w7': 0.5962411505128654, 'w8': 0.8592412769219724}. Best is trial 12 with value: 0.6881253123283386.\n"
     ]
    },
    {
     "name": "stdout",
     "output_type": "stream",
     "text": [
      "{'w1': 0.6892374461867201, 'w2': 0.6344913900385468, 'w3': 0.8336750688045865, 'w4': 0.1510858486967181, 'w5': 0.6213450448212758, 'w6': 0.4950592992395316, 'w7': 0.5962411505128654, 'w8': 0.8592412769219724, 'threshold': 0.25}\n"
     ]
    },
    {
     "name": "stderr",
     "output_type": "stream",
     "text": [
      "[I 2023-07-04 16:00:26,403] Trial 17 finished with value: 0.6878949403762817 and parameters: {'w1': 0.49100208561214403, 'w2': 0.6732408587446127, 'w3': 0.7435777414400988, 'w4': 0.07770613497739573, 'w5': 0.5838036507147228, 'w6': 0.4733501048420397, 'w7': 0.5623065930671095, 'w8': 0.8795228118238886}. Best is trial 12 with value: 0.6881253123283386.\n"
     ]
    },
    {
     "name": "stdout",
     "output_type": "stream",
     "text": [
      "{'w1': 0.49100208561214403, 'w2': 0.6732408587446127, 'w3': 0.7435777414400988, 'w4': 0.07770613497739573, 'w5': 0.5838036507147228, 'w6': 0.4733501048420397, 'w7': 0.5623065930671095, 'w8': 0.8795228118238886, 'threshold': 0.25}\n"
     ]
    },
    {
     "name": "stderr",
     "output_type": "stream",
     "text": [
      "[I 2023-07-04 16:00:26,810] Trial 18 finished with value: 0.6874730587005615 and parameters: {'w1': 0.3212227419754398, 'w2': 0.6479863222411656, 'w3': 0.8776869436588801, 'w4': 0.3578281737944853, 'w5': 0.6748968216095367, 'w6': 0.29977183425421666, 'w7': 0.42453506607627284, 'w8': 0.869415121301219}. Best is trial 12 with value: 0.6881253123283386.\n"
     ]
    },
    {
     "name": "stdout",
     "output_type": "stream",
     "text": [
      "{'w1': 0.3212227419754398, 'w2': 0.6479863222411656, 'w3': 0.8776869436588801, 'w4': 0.3578281737944853, 'w5': 0.6748968216095367, 'w6': 0.29977183425421666, 'w7': 0.42453506607627284, 'w8': 0.869415121301219, 'threshold': 0.24}\n"
     ]
    },
    {
     "name": "stderr",
     "output_type": "stream",
     "text": [
      "[I 2023-07-04 16:00:27,214] Trial 19 finished with value: 0.6880556344985962 and parameters: {'w1': 0.5723544749540193, 'w2': 0.6104875215440253, 'w3': 0.9859834345518917, 'w4': 0.14993485576793208, 'w5': 0.5314582382197472, 'w6': 0.5038551616638471, 'w7': 0.832597017730849, 'w8': 0.6652189387686012}. Best is trial 12 with value: 0.6881253123283386.\n"
     ]
    },
    {
     "name": "stdout",
     "output_type": "stream",
     "text": [
      "{'w1': 0.5723544749540193, 'w2': 0.6104875215440253, 'w3': 0.9859834345518917, 'w4': 0.14993485576793208, 'w5': 0.5314582382197472, 'w6': 0.5038551616638471, 'w7': 0.832597017730849, 'w8': 0.6652189387686012, 'threshold': 0.22}\n"
     ]
    },
    {
     "name": "stderr",
     "output_type": "stream",
     "text": [
      "[I 2023-07-04 16:00:27,620] Trial 20 finished with value: 0.6879464387893677 and parameters: {'w1': 0.7248799912423033, 'w2': 0.4094739817592212, 'w3': 0.5483742624170117, 'w4': 0.00021112492630445678, 'w5': 0.7268031489955741, 'w6': 0.2274539726812138, 'w7': 0.5822698635478536, 'w8': 0.9061869082283139}. Best is trial 12 with value: 0.6881253123283386.\n"
     ]
    },
    {
     "name": "stdout",
     "output_type": "stream",
     "text": [
      "{'w1': 0.7248799912423033, 'w2': 0.4094739817592212, 'w3': 0.5483742624170117, 'w4': 0.00021112492630445678, 'w5': 0.7268031489955741, 'w6': 0.2274539726812138, 'w7': 0.5822698635478536, 'w8': 0.9061869082283139, 'threshold': 0.27}\n"
     ]
    },
    {
     "name": "stderr",
     "output_type": "stream",
     "text": [
      "[I 2023-07-04 16:00:28,032] Trial 21 finished with value: 0.6881219744682312 and parameters: {'w1': 0.6798021183379858, 'w2': 0.819848405632234, 'w3': 0.8583834595122302, 'w4': 0.24104834175313433, 'w5': 0.7987558803520476, 'w6': 0.48600241125559346, 'w7': 0.6354435996551877, 'w8': 0.7301661310720027}. Best is trial 12 with value: 0.6881253123283386.\n"
     ]
    },
    {
     "name": "stdout",
     "output_type": "stream",
     "text": [
      "{'w1': 0.6798021183379858, 'w2': 0.819848405632234, 'w3': 0.8583834595122302, 'w4': 0.24104834175313433, 'w5': 0.7987558803520476, 'w6': 0.48600241125559346, 'w7': 0.6354435996551877, 'w8': 0.7301661310720027, 'threshold': 0.25}\n"
     ]
    },
    {
     "name": "stderr",
     "output_type": "stream",
     "text": [
      "[I 2023-07-04 16:00:28,443] Trial 22 finished with value: 0.6881336569786072 and parameters: {'w1': 0.6167513817246031, 'w2': 0.8206126614465332, 'w3': 0.8685380982457661, 'w4': 0.20399465502174208, 'w5': 0.7246634141864751, 'w6': 0.45369990392026754, 'w7': 0.4480818207314139, 'w8': 0.8096155940651065}. Best is trial 22 with value: 0.6881336569786072.\n"
     ]
    },
    {
     "name": "stdout",
     "output_type": "stream",
     "text": [
      "{'w1': 0.6167513817246031, 'w2': 0.8206126614465332, 'w3': 0.8685380982457661, 'w4': 0.20399465502174208, 'w5': 0.7246634141864751, 'w6': 0.45369990392026754, 'w7': 0.4480818207314139, 'w8': 0.8096155940651065, 'threshold': 0.26}\n"
     ]
    },
    {
     "name": "stderr",
     "output_type": "stream",
     "text": [
      "[I 2023-07-04 16:00:28,845] Trial 23 finished with value: 0.6879976987838745 and parameters: {'w1': 0.5279491950103501, 'w2': 0.8863520143737146, 'w3': 0.8993522784087431, 'w4': 0.34204145610964476, 'w5': 0.7546777853115474, 'w6': 0.412898723107248, 'w7': 0.39004937932862394, 'w8': 0.706077937744007}. Best is trial 22 with value: 0.6881336569786072.\n"
     ]
    },
    {
     "name": "stdout",
     "output_type": "stream",
     "text": [
      "{'w1': 0.5279491950103501, 'w2': 0.8863520143737146, 'w3': 0.8993522784087431, 'w4': 0.34204145610964476, 'w5': 0.7546777853115474, 'w6': 0.412898723107248, 'w7': 0.39004937932862394, 'w8': 0.706077937744007, 'threshold': 0.25}\n"
     ]
    },
    {
     "name": "stderr",
     "output_type": "stream",
     "text": [
      "[I 2023-07-04 16:00:29,252] Trial 24 finished with value: 0.6880395412445068 and parameters: {'w1': 0.6047129791450742, 'w2': 0.8140601650891598, 'w3': 0.76453989524949, 'w4': 0.40811415508184157, 'w5': 0.7069399329481979, 'w6': 0.3237636043187805, 'w7': 0.4846514363114982, 'w8': 0.8094342623616309}. Best is trial 22 with value: 0.6881336569786072.\n"
     ]
    },
    {
     "name": "stdout",
     "output_type": "stream",
     "text": [
      "{'w1': 0.6047129791450742, 'w2': 0.8140601650891598, 'w3': 0.76453989524949, 'w4': 0.40811415508184157, 'w5': 0.7069399329481979, 'w6': 0.3237636043187805, 'w7': 0.4846514363114982, 'w8': 0.8094342623616309, 'threshold': 0.26}\n"
     ]
    },
    {
     "name": "stderr",
     "output_type": "stream",
     "text": [
      "[I 2023-07-04 16:00:29,657] Trial 25 finished with value: 0.6880965828895569 and parameters: {'w1': 0.788667544406074, 'w2': 0.7310427827368355, 'w3': 0.9819221540166376, 'w4': 0.24247337554575493, 'w5': 0.5469642899257164, 'w6': 0.4547800393213773, 'w7': 0.7304474543849319, 'w8': 0.6127655924103323}. Best is trial 22 with value: 0.6881336569786072.\n"
     ]
    },
    {
     "name": "stdout",
     "output_type": "stream",
     "text": [
      "{'w1': 0.788667544406074, 'w2': 0.7310427827368355, 'w3': 0.9819221540166376, 'w4': 0.24247337554575493, 'w5': 0.5469642899257164, 'w6': 0.4547800393213773, 'w7': 0.7304474543849319, 'w8': 0.6127655924103323, 'threshold': 0.28}\n"
     ]
    },
    {
     "name": "stderr",
     "output_type": "stream",
     "text": [
      "[I 2023-07-04 16:00:30,061] Trial 26 finished with value: 0.6881177425384521 and parameters: {'w1': 0.5930416006481648, 'w2': 0.8045170925541302, 'w3': 0.8907234264230628, 'w4': 0.3047649251521981, 'w5': 0.7744470855114803, 'w6': 0.3528491267314994, 'w7': 0.46877804331144757, 'w8': 0.7892352561150155}. Best is trial 22 with value: 0.6881336569786072.\n"
     ]
    },
    {
     "name": "stdout",
     "output_type": "stream",
     "text": [
      "{'w1': 0.5930416006481648, 'w2': 0.8045170925541302, 'w3': 0.8907234264230628, 'w4': 0.3047649251521981, 'w5': 0.7744470855114803, 'w6': 0.3528491267314994, 'w7': 0.46877804331144757, 'w8': 0.7892352561150155, 'threshold': 0.26}\n"
     ]
    },
    {
     "name": "stderr",
     "output_type": "stream",
     "text": [
      "[I 2023-07-04 16:00:30,466] Trial 27 finished with value: 0.6877366304397583 and parameters: {'w1': 0.6526886307744421, 'w2': 0.8807946221414613, 'w3': 0.7269941879893632, 'w4': 0.5185871384539852, 'w5': 0.8909735287922174, 'w6': 0.20085168521357932, 'w7': 0.610325139113874, 'w8': 0.9962672769389395}. Best is trial 22 with value: 0.6881336569786072.\n"
     ]
    },
    {
     "name": "stdout",
     "output_type": "stream",
     "text": [
      "{'w1': 0.6526886307744421, 'w2': 0.8807946221414613, 'w3': 0.7269941879893632, 'w4': 0.5185871384539852, 'w5': 0.8909735287922174, 'w6': 0.20085168521357932, 'w7': 0.610325139113874, 'w8': 0.9962672769389395, 'threshold': 0.27}\n"
     ]
    },
    {
     "name": "stderr",
     "output_type": "stream",
     "text": [
      "[I 2023-07-04 16:00:30,870] Trial 28 finished with value: 0.6880729794502258 and parameters: {'w1': 0.49274184974455126, 'w2': 0.7030442715022817, 'w3': 0.8929532358536498, 'w4': 0.21644503790092287, 'w5': 0.6726207513490315, 'w6': 0.2950865255136891, 'w7': 0.5372529669887851, 'w8': 0.7382333321118767}. Best is trial 22 with value: 0.6881336569786072.\n"
     ]
    },
    {
     "name": "stdout",
     "output_type": "stream",
     "text": [
      "{'w1': 0.49274184974455126, 'w2': 0.7030442715022817, 'w3': 0.8929532358536498, 'w4': 0.21644503790092287, 'w5': 0.6726207513490315, 'w6': 0.2950865255136891, 'w7': 0.5372529669887851, 'w8': 0.7382333321118767, 'threshold': 0.25}\n"
     ]
    },
    {
     "name": "stderr",
     "output_type": "stream",
     "text": [
      "[I 2023-07-04 16:00:31,275] Trial 29 finished with value: 0.6878239512443542 and parameters: {'w1': 0.4388785877264556, 'w2': 0.931168431390338, 'w3': 0.9971219063217649, 'w4': 0.4467277727931622, 'w5': 0.5795770129642993, 'w6': 0.5308776212096067, 'w7': 0.7274330585897604, 'w8': 0.9259272306313686}. Best is trial 22 with value: 0.6881336569786072.\n"
     ]
    },
    {
     "name": "stdout",
     "output_type": "stream",
     "text": [
      "{'w1': 0.4388785877264556, 'w2': 0.931168431390338, 'w3': 0.9971219063217649, 'w4': 0.4467277727931622, 'w5': 0.5795770129642993, 'w6': 0.5308776212096067, 'w7': 0.7274330585897604, 'w8': 0.9259272306313686, 'threshold': 0.24}\n"
     ]
    },
    {
     "name": "stderr",
     "output_type": "stream",
     "text": [
      "[I 2023-07-04 16:00:31,680] Trial 30 finished with value: 0.6879699230194092 and parameters: {'w1': 0.7747231579603738, 'w2': 0.9954342892793742, 'w3': 0.6340199240991778, 'w4': 0.35500131455012446, 'w5': 0.6761336590219786, 'w6': 0.6300664867138355, 'w7': 0.6273883509348455, 'w8': 0.8362650269287901}. Best is trial 22 with value: 0.6881336569786072.\n"
     ]
    },
    {
     "name": "stdout",
     "output_type": "stream",
     "text": [
      "{'w1': 0.7747231579603738, 'w2': 0.9954342892793742, 'w3': 0.6340199240991778, 'w4': 0.35500131455012446, 'w5': 0.6761336590219786, 'w6': 0.6300664867138355, 'w7': 0.6273883509348455, 'w8': 0.8362650269287901, 'threshold': 0.28}\n"
     ]
    },
    {
     "name": "stderr",
     "output_type": "stream",
     "text": [
      "[I 2023-07-04 16:00:32,086] Trial 31 finished with value: 0.6881587505340576 and parameters: {'w1': 0.6113135001618373, 'w2': 0.8013933701563997, 'w3': 0.8759102081646328, 'w4': 0.3054404074593959, 'w5': 0.7989615753106302, 'w6': 0.34699027036119273, 'w7': 0.45611157161455057, 'w8': 0.7833980194475885}. Best is trial 31 with value: 0.6881587505340576.\n"
     ]
    },
    {
     "name": "stdout",
     "output_type": "stream",
     "text": [
      "{'w1': 0.6113135001618373, 'w2': 0.8013933701563997, 'w3': 0.8759102081646328, 'w4': 0.3054404074593959, 'w5': 0.7989615753106302, 'w6': 0.34699027036119273, 'w7': 0.45611157161455057, 'w8': 0.7833980194475885, 'threshold': 0.26}\n"
     ]
    },
    {
     "name": "stderr",
     "output_type": "stream",
     "text": [
      "[I 2023-07-04 16:00:32,492] Trial 32 finished with value: 0.688129723072052 and parameters: {'w1': 0.6360542709202145, 'w2': 0.8201436164037578, 'w3': 0.8220876889515731, 'w4': 0.29501761683551264, 'w5': 0.8097771038446235, 'w6': 0.4408186925275033, 'w7': 0.4452607724689961, 'w8': 0.7688647101028084}. Best is trial 31 with value: 0.6881587505340576.\n"
     ]
    },
    {
     "name": "stdout",
     "output_type": "stream",
     "text": [
      "{'w1': 0.6360542709202145, 'w2': 0.8201436164037578, 'w3': 0.8220876889515731, 'w4': 0.29501761683551264, 'w5': 0.8097771038446235, 'w6': 0.4408186925275033, 'w7': 0.4452607724689961, 'w8': 0.7688647101028084, 'threshold': 0.27}\n"
     ]
    },
    {
     "name": "stderr",
     "output_type": "stream",
     "text": [
      "[I 2023-07-04 16:00:32,896] Trial 33 finished with value: 0.6879867911338806 and parameters: {'w1': 0.6260811585440492, 'w2': 0.7600683086113289, 'w3': 0.78059291979909, 'w4': 0.5696586411122344, 'w5': 0.7281412850642692, 'w6': 0.39497051649792925, 'w7': 0.44065520506033146, 'w8': 0.7956942681725729}. Best is trial 31 with value: 0.6881587505340576.\n"
     ]
    },
    {
     "name": "stdout",
     "output_type": "stream",
     "text": [
      "{'w1': 0.6260811585440492, 'w2': 0.7600683086113289, 'w3': 0.78059291979909, 'w4': 0.5696586411122344, 'w5': 0.7281412850642692, 'w6': 0.39497051649792925, 'w7': 0.44065520506033146, 'w8': 0.7956942681725729, 'threshold': 0.26}\n"
     ]
    },
    {
     "name": "stderr",
     "output_type": "stream",
     "text": [
      "[I 2023-07-04 16:00:33,300] Trial 34 finished with value: 0.6880516409873962 and parameters: {'w1': 0.556329961021204, 'w2': 0.8608842736853564, 'w3': 0.9161373170583258, 'w4': 0.3048498870961399, 'w5': 0.881036723843374, 'w6': 0.5567741115391844, 'w7': 0.3231915495578536, 'w8': 0.9156794909604205}. Best is trial 31 with value: 0.6881587505340576.\n"
     ]
    },
    {
     "name": "stdout",
     "output_type": "stream",
     "text": [
      "{'w1': 0.556329961021204, 'w2': 0.8608842736853564, 'w3': 0.9161373170583258, 'w4': 0.3048498870961399, 'w5': 0.881036723843374, 'w6': 0.5567741115391844, 'w7': 0.3231915495578536, 'w8': 0.9156794909604205, 'threshold': 0.26}\n"
     ]
    },
    {
     "name": "stderr",
     "output_type": "stream",
     "text": [
      "[I 2023-07-04 16:00:33,704] Trial 35 finished with value: 0.6878520846366882 and parameters: {'w1': 0.5131428270967958, 'w2': 0.9364848132478741, 'w3': 0.803473375706607, 'w4': 0.3946678908164997, 'w5': 0.8113536915410924, 'w6': 0.42017661286301716, 'w7': 0.49874610994211815, 'w8': 0.6741123842155936}. Best is trial 31 with value: 0.6881587505340576.\n"
     ]
    },
    {
     "name": "stdout",
     "output_type": "stream",
     "text": [
      "{'w1': 0.5131428270967958, 'w2': 0.9364848132478741, 'w3': 0.803473375706607, 'w4': 0.3946678908164997, 'w5': 0.8113536915410924, 'w6': 0.42017661286301716, 'w7': 0.49874610994211815, 'w8': 0.6741123842155936, 'threshold': 0.25}\n"
     ]
    },
    {
     "name": "stderr",
     "output_type": "stream",
     "text": [
      "[I 2023-07-04 16:00:34,108] Trial 36 finished with value: 0.6881665587425232 and parameters: {'w1': 0.6250443737966367, 'w2': 0.6599124336907636, 'w3': 0.936107522298841, 'w4': 0.29274083808877693, 'w5': 0.48844960809712473, 'w6': 0.350745099452497, 'w7': 0.4151140085810099, 'w8': 0.7922566729715927}. Best is trial 36 with value: 0.6881665587425232.\n"
     ]
    },
    {
     "name": "stdout",
     "output_type": "stream",
     "text": [
      "{'w1': 0.6250443737966367, 'w2': 0.6599124336907636, 'w3': 0.936107522298841, 'w4': 0.29274083808877693, 'w5': 0.48844960809712473, 'w6': 0.350745099452497, 'w7': 0.4151140085810099, 'w8': 0.7922566729715927, 'threshold': 0.25}\n"
     ]
    },
    {
     "name": "stderr",
     "output_type": "stream",
     "text": [
      "[I 2023-07-04 16:00:34,511] Trial 37 finished with value: 0.6880117058753967 and parameters: {'w1': 0.5561815972064936, 'w2': 0.7904715583008336, 'w3': 0.9322591114085932, 'w4': 0.19278545707988243, 'w5': 0.4746467722204367, 'w6': 0.5455586897484084, 'w7': 0.3076435816010884, 'w8': 0.810602177116683}. Best is trial 36 with value: 0.6881665587425232.\n"
     ]
    },
    {
     "name": "stdout",
     "output_type": "stream",
     "text": [
      "{'w1': 0.5561815972064936, 'w2': 0.7904715583008336, 'w3': 0.9322591114085932, 'w4': 0.19278545707988243, 'w5': 0.4746467722204367, 'w6': 0.5455586897484084, 'w7': 0.3076435816010884, 'w8': 0.810602177116683, 'threshold': 0.25}\n"
     ]
    },
    {
     "name": "stderr",
     "output_type": "stream",
     "text": [
      "[I 2023-07-04 16:00:34,915] Trial 38 finished with value: 0.6879289746284485 and parameters: {'w1': 0.7302441501672997, 'w2': 0.7115229247066114, 'w3': 0.731291265012824, 'w4': 0.3193221390544746, 'w5': 0.32198708634703177, 'w6': 0.4500513280350349, 'w7': 0.41785108190714104, 'w8': 0.8574973613448208}. Best is trial 36 with value: 0.6881665587425232.\n"
     ]
    },
    {
     "name": "stdout",
     "output_type": "stream",
     "text": [
      "{'w1': 0.7302441501672997, 'w2': 0.7115229247066114, 'w3': 0.731291265012824, 'w4': 0.3193221390544746, 'w5': 0.32198708634703177, 'w6': 0.4500513280350349, 'w7': 0.41785108190714104, 'w8': 0.8574973613448208, 'threshold': 0.26}\n"
     ]
    },
    {
     "name": "stderr",
     "output_type": "stream",
     "text": [
      "[I 2023-07-04 16:00:35,319] Trial 39 finished with value: 0.6877736449241638 and parameters: {'w1': 0.4773400488262546, 'w2': 0.833116115867324, 'w3': 0.8328473518953593, 'w4': 0.27850235324955835, 'w5': 0.3766026982259112, 'w6': 0.6078710746322514, 'w7': 0.3876785377129046, 'w8': 0.5951311860335478}. Best is trial 36 with value: 0.6881665587425232.\n"
     ]
    },
    {
     "name": "stdout",
     "output_type": "stream",
     "text": [
      "{'w1': 0.4773400488262546, 'w2': 0.833116115867324, 'w3': 0.8328473518953593, 'w4': 0.27850235324955835, 'w5': 0.3766026982259112, 'w6': 0.6078710746322514, 'w7': 0.3876785377129046, 'w8': 0.5951311860335478, 'threshold': 0.24}\n"
     ]
    },
    {
     "name": "stderr",
     "output_type": "stream",
     "text": [
      "[I 2023-07-04 16:00:35,722] Trial 40 finished with value: 0.6878114342689514 and parameters: {'w1': 0.5824407949838594, 'w2': 0.5927059661083756, 'w3': 0.9274636630842726, 'w4': 0.12275756139471478, 'w5': 0.4414367916579227, 'w6': 0.5215919805678307, 'w7': 0.46297898781806146, 'w8': 0.9364438128839041}. Best is trial 36 with value: 0.6881665587425232.\n"
     ]
    },
    {
     "name": "stdout",
     "output_type": "stream",
     "text": [
      "{'w1': 0.5824407949838594, 'w2': 0.5927059661083756, 'w3': 0.9274636630842726, 'w4': 0.12275756139471478, 'w5': 0.4414367916579227, 'w6': 0.5215919805678307, 'w7': 0.46297898781806146, 'w8': 0.9364438128839041, 'threshold': 0.25}\n"
     ]
    },
    {
     "name": "stderr",
     "output_type": "stream",
     "text": [
      "[I 2023-07-04 16:00:36,126] Trial 41 finished with value: 0.6881958842277527 and parameters: {'w1': 0.6546705241900493, 'w2': 0.6692324929352882, 'w3': 0.9991770063156326, 'w4': 0.372903452036063, 'w5': 0.6281004126766367, 'w6': 0.3635590721699764, 'w7': 0.5207089179721863, 'w8': 0.7577407018166938}. Best is trial 41 with value: 0.6881958842277527.\n"
     ]
    },
    {
     "name": "stdout",
     "output_type": "stream",
     "text": [
      "{'w1': 0.6546705241900493, 'w2': 0.6692324929352882, 'w3': 0.9991770063156326, 'w4': 0.372903452036063, 'w5': 0.6281004126766367, 'w6': 0.3635590721699764, 'w7': 0.5207089179721863, 'w8': 0.7577407018166938, 'threshold': 0.25}\n"
     ]
    },
    {
     "name": "stderr",
     "output_type": "stream",
     "text": [
      "[I 2023-07-04 16:00:36,530] Trial 42 finished with value: 0.6881492733955383 and parameters: {'w1': 0.668541081999527, 'w2': 0.7631462798489772, 'w3': 0.9314336379769272, 'w4': 0.27067498563648523, 'w5': 0.552173917273262, 'w6': 0.3729523844888482, 'w7': 0.5081792416712672, 'w8': 0.7665907523565532}. Best is trial 41 with value: 0.6881958842277527.\n"
     ]
    },
    {
     "name": "stdout",
     "output_type": "stream",
     "text": [
      "{'w1': 0.668541081999527, 'w2': 0.7631462798489772, 'w3': 0.9314336379769272, 'w4': 0.27067498563648523, 'w5': 0.552173917273262, 'w6': 0.3729523844888482, 'w7': 0.5081792416712672, 'w8': 0.7665907523565532, 'threshold': 0.25}\n"
     ]
    },
    {
     "name": "stderr",
     "output_type": "stream",
     "text": [
      "[I 2023-07-04 16:00:36,934] Trial 43 finished with value: 0.6880673766136169 and parameters: {'w1': 0.6851968875833798, 'w2': 0.7494154556261621, 'w3': 0.9174297409800819, 'w4': 0.2159481969933674, 'w5': 0.5060629202843803, 'w6': 0.37131284876647686, 'w7': 0.5249927409834374, 'w8': 0.827326551169019}. Best is trial 41 with value: 0.6881958842277527.\n"
     ]
    },
    {
     "name": "stdout",
     "output_type": "stream",
     "text": [
      "{'w1': 0.6851968875833798, 'w2': 0.7494154556261621, 'w3': 0.9174297409800819, 'w4': 0.2159481969933674, 'w5': 0.5060629202843803, 'w6': 0.37131284876647686, 'w7': 0.5249927409834374, 'w8': 0.827326551169019, 'threshold': 0.24}\n"
     ]
    },
    {
     "name": "stderr",
     "output_type": "stream",
     "text": [
      "[I 2023-07-04 16:00:37,338] Trial 44 finished with value: 0.6882257461547852 and parameters: {'w1': 0.8328285231117574, 'w2': 0.6597430690799572, 'w3': 0.9467989180214523, 'w4': 0.35426154672503907, 'w5': 0.5717845243856625, 'w6': 0.3772726720559691, 'w7': 0.5501417142704635, 'w8': 0.7660252205325757}. Best is trial 44 with value: 0.6882257461547852.\n"
     ]
    },
    {
     "name": "stdout",
     "output_type": "stream",
     "text": [
      "{'w1': 0.8328285231117574, 'w2': 0.6597430690799572, 'w3': 0.9467989180214523, 'w4': 0.35426154672503907, 'w5': 0.5717845243856625, 'w6': 0.3772726720559691, 'w7': 0.5501417142704635, 'w8': 0.7660252205325757, 'threshold': 0.24}\n"
     ]
    },
    {
     "name": "stderr",
     "output_type": "stream",
     "text": [
      "[I 2023-07-04 16:00:37,742] Trial 45 finished with value: 0.6883448958396912 and parameters: {'w1': 0.8510432203619411, 'w2': 0.5767279162156178, 'w3': 0.9641115162523817, 'w4': 0.3693216789942702, 'w5': 0.5612652614468372, 'w6': 0.285846720508029, 'w7': 0.5730503384839996, 'w8': 0.7590438344458721}. Best is trial 45 with value: 0.6883448958396912.\n"
     ]
    },
    {
     "name": "stdout",
     "output_type": "stream",
     "text": [
      "{'w1': 0.8510432203619411, 'w2': 0.5767279162156178, 'w3': 0.9641115162523817, 'w4': 0.3693216789942702, 'w5': 0.5612652614468372, 'w6': 0.285846720508029, 'w7': 0.5730503384839996, 'w8': 0.7590438344458721, 'threshold': 0.27}\n"
     ]
    },
    {
     "name": "stderr",
     "output_type": "stream",
     "text": [
      "[I 2023-07-04 16:00:38,146] Trial 46 finished with value: 0.6882480382919312 and parameters: {'w1': 0.8568257753907077, 'w2': 0.5627955250783855, 'w3': 0.957812454306255, 'w4': 0.3642215117904547, 'w5': 0.5095844733690864, 'w6': 0.2686421493163348, 'w7': 0.5872257199236194, 'w8': 0.714828715950226}. Best is trial 45 with value: 0.6883448958396912.\n"
     ]
    },
    {
     "name": "stdout",
     "output_type": "stream",
     "text": [
      "{'w1': 0.8568257753907077, 'w2': 0.5627955250783855, 'w3': 0.957812454306255, 'w4': 0.3642215117904547, 'w5': 0.5095844733690864, 'w6': 0.2686421493163348, 'w7': 0.5872257199236194, 'w8': 0.714828715950226, 'threshold': 0.26}\n"
     ]
    },
    {
     "name": "stderr",
     "output_type": "stream",
     "text": [
      "[I 2023-07-04 16:00:38,550] Trial 47 finished with value: 0.6882855892181396 and parameters: {'w1': 0.8861395511206961, 'w2': 0.5447461724573857, 'w3': 0.9546193890794851, 'w4': 0.36766788142577655, 'w5': 0.513901699576899, 'w6': 0.25444410391971123, 'w7': 0.6679577881526837, 'w8': 0.7048178032244067}. Best is trial 45 with value: 0.6883448958396912.\n"
     ]
    },
    {
     "name": "stdout",
     "output_type": "stream",
     "text": [
      "{'w1': 0.8861395511206961, 'w2': 0.5447461724573857, 'w3': 0.9546193890794851, 'w4': 0.36766788142577655, 'w5': 0.513901699576899, 'w6': 0.25444410391971123, 'w7': 0.6679577881526837, 'w8': 0.7048178032244067, 'threshold': 0.27}\n"
     ]
    },
    {
     "name": "stderr",
     "output_type": "stream",
     "text": [
      "[I 2023-07-04 16:00:38,953] Trial 48 finished with value: 0.6882231831550598 and parameters: {'w1': 0.9005043981555098, 'w2': 0.532090953415479, 'w3': 0.9611445246885115, 'w4': 0.36654493124620485, 'w5': 0.4292254851506027, 'w6': 0.2582747398167342, 'w7': 0.6701172338241337, 'w8': 0.7178001813616897}. Best is trial 45 with value: 0.6883448958396912.\n"
     ]
    },
    {
     "name": "stdout",
     "output_type": "stream",
     "text": [
      "{'w1': 0.9005043981555098, 'w2': 0.532090953415479, 'w3': 0.9611445246885115, 'w4': 0.36654493124620485, 'w5': 0.4292254851506027, 'w6': 0.2582747398167342, 'w7': 0.6701172338241337, 'w8': 0.7178001813616897, 'threshold': 0.24}\n"
     ]
    },
    {
     "name": "stderr",
     "output_type": "stream",
     "text": [
      "[I 2023-07-04 16:00:39,357] Trial 49 finished with value: 0.6881700158119202 and parameters: {'w1': 0.9203668038411235, 'w2': 0.5231959558573402, 'w3': 0.9448545197514441, 'w4': 0.4247652006023478, 'w5': 0.41955575380236076, 'w6': 0.16413218378911243, 'w7': 0.6634624656133414, 'w8': 0.7114747590313716}. Best is trial 45 with value: 0.6883448958396912.\n"
     ]
    },
    {
     "name": "stdout",
     "output_type": "stream",
     "text": [
      "{'w1': 0.9203668038411235, 'w2': 0.5231959558573402, 'w3': 0.9448545197514441, 'w4': 0.4247652006023478, 'w5': 0.41955575380236076, 'w6': 0.16413218378911243, 'w7': 0.6634624656133414, 'w8': 0.7114747590313716, 'threshold': 0.24}\n"
     ]
    },
    {
     "name": "stderr",
     "output_type": "stream",
     "text": [
      "[I 2023-07-04 16:00:39,761] Trial 50 finished with value: 0.6881451606750488 and parameters: {'w1': 0.906818613944001, 'w2': 0.5680832965919685, 'w3': 0.9557718916391642, 'w4': 0.4947991910992688, 'w5': 0.4235987452539006, 'w6': 0.26494446023966817, 'w7': 0.6939614349973268, 'w8': 0.596995103620346}. Best is trial 45 with value: 0.6883448958396912.\n"
     ]
    },
    {
     "name": "stdout",
     "output_type": "stream",
     "text": [
      "{'w1': 0.906818613944001, 'w2': 0.5680832965919685, 'w3': 0.9557718916391642, 'w4': 0.4947991910992688, 'w5': 0.4235987452539006, 'w6': 0.26494446023966817, 'w7': 0.6939614349973268, 'w8': 0.596995103620346, 'threshold': 0.24}\n"
     ]
    },
    {
     "name": "stderr",
     "output_type": "stream",
     "text": [
      "[I 2023-07-04 16:00:40,164] Trial 51 finished with value: 0.6883582472801208 and parameters: {'w1': 0.8572864063059771, 'w2': 0.4933926584135925, 'w3': 0.990821559445065, 'w4': 0.35156262522905846, 'w5': 0.6058443401209228, 'w6': 0.2768487201425063, 'w7': 0.580892158975802, 'w8': 0.632378928720987}. Best is trial 51 with value: 0.6883582472801208.\n"
     ]
    },
    {
     "name": "stdout",
     "output_type": "stream",
     "text": [
      "{'w1': 0.8572864063059771, 'w2': 0.4933926584135925, 'w3': 0.990821559445065, 'w4': 0.35156262522905846, 'w5': 0.6058443401209228, 'w6': 0.2768487201425063, 'w7': 0.580892158975802, 'w8': 0.632378928720987, 'threshold': 0.26}\n"
     ]
    },
    {
     "name": "stderr",
     "output_type": "stream",
     "text": [
      "[I 2023-07-04 16:00:40,568] Trial 52 finished with value: 0.6883445978164673 and parameters: {'w1': 0.8539099695295687, 'w2': 0.4976457334426283, 'w3': 0.9557124859201219, 'w4': 0.36972521876365155, 'w5': 0.5171464857714445, 'w6': 0.2546486249876524, 'w7': 0.5741897658682239, 'w8': 0.6338855783017108}. Best is trial 51 with value: 0.6883582472801208.\n"
     ]
    },
    {
     "name": "stdout",
     "output_type": "stream",
     "text": [
      "{'w1': 0.8539099695295687, 'w2': 0.4976457334426283, 'w3': 0.9557124859201219, 'w4': 0.36972521876365155, 'w5': 0.5171464857714445, 'w6': 0.2546486249876524, 'w7': 0.5741897658682239, 'w8': 0.6338855783017108, 'threshold': 0.26}\n"
     ]
    },
    {
     "name": "stderr",
     "output_type": "stream",
     "text": [
      "[I 2023-07-04 16:00:40,973] Trial 53 finished with value: 0.6883793473243713 and parameters: {'w1': 0.8417155807778234, 'w2': 0.4780040397318134, 'w3': 0.8622476352348618, 'w4': 0.4617347786061091, 'w5': 0.5897527897293746, 'w6': 0.3044126652054861, 'w7': 0.572195110856967, 'w8': 0.6248684342638151}. Best is trial 53 with value: 0.6883793473243713.\n"
     ]
    },
    {
     "name": "stdout",
     "output_type": "stream",
     "text": [
      "{'w1': 0.8417155807778234, 'w2': 0.4780040397318134, 'w3': 0.8622476352348618, 'w4': 0.4617347786061091, 'w5': 0.5897527897293746, 'w6': 0.3044126652054861, 'w7': 0.572195110856967, 'w8': 0.6248684342638151, 'threshold': 0.26}\n"
     ]
    },
    {
     "name": "stderr",
     "output_type": "stream",
     "text": [
      "[I 2023-07-04 16:00:41,377] Trial 54 finished with value: 0.6882637739181519 and parameters: {'w1': 0.9726797944803355, 'w2': 0.4718906512681124, 'w3': 0.8551242823232006, 'w4': 0.44049938850161635, 'w5': 0.5222240538311725, 'w6': 0.2018528553858141, 'w7': 0.5751248221947628, 'w8': 0.6268871639125386}. Best is trial 53 with value: 0.6883793473243713.\n"
     ]
    },
    {
     "name": "stdout",
     "output_type": "stream",
     "text": [
      "{'w1': 0.9726797944803355, 'w2': 0.4718906512681124, 'w3': 0.8551242823232006, 'w4': 0.44049938850161635, 'w5': 0.5222240538311725, 'w6': 0.2018528553858141, 'w7': 0.5751248221947628, 'w8': 0.6268871639125386, 'threshold': 0.27}\n"
     ]
    },
    {
     "name": "stderr",
     "output_type": "stream",
     "text": [
      "[I 2023-07-04 16:00:41,781] Trial 55 finished with value: 0.6881734728813171 and parameters: {'w1': 0.961950227990461, 'w2': 0.4642157451395812, 'w3': 0.8479474008810999, 'w4': 0.44298025555041776, 'w5': 0.586526099790749, 'w6': 0.20203145226738606, 'w7': 0.5916677996959226, 'w8': 0.5283702038986879}. Best is trial 53 with value: 0.6883793473243713.\n"
     ]
    },
    {
     "name": "stdout",
     "output_type": "stream",
     "text": [
      "{'w1': 0.961950227990461, 'w2': 0.4642157451395812, 'w3': 0.8479474008810999, 'w4': 0.44298025555041776, 'w5': 0.586526099790749, 'w6': 0.20203145226738606, 'w7': 0.5916677996959226, 'w8': 0.5283702038986879, 'threshold': 0.26}\n"
     ]
    },
    {
     "name": "stderr",
     "output_type": "stream",
     "text": [
      "[I 2023-07-04 16:00:42,187] Trial 56 finished with value: 0.6881517171859741 and parameters: {'w1': 0.9812060018749154, 'w2': 0.46902726435720865, 'w3': 0.8924706183525204, 'w4': 0.45833467211982526, 'w5': 0.6009515801224056, 'w6': 0.11610358967190074, 'w7': 0.6233258658354767, 'w8': 0.6338914829707876}. Best is trial 53 with value: 0.6883793473243713.\n"
     ]
    },
    {
     "name": "stdout",
     "output_type": "stream",
     "text": [
      "{'w1': 0.9812060018749154, 'w2': 0.46902726435720865, 'w3': 0.8924706183525204, 'w4': 0.45833467211982526, 'w5': 0.6009515801224056, 'w6': 0.11610358967190074, 'w7': 0.6233258658354767, 'w8': 0.6338914829707876, 'threshold': 0.26}\n"
     ]
    },
    {
     "name": "stderr",
     "output_type": "stream",
     "text": [
      "[I 2023-07-04 16:00:42,592] Trial 57 finished with value: 0.6882872581481934 and parameters: {'w1': 0.993828710516544, 'w2': 0.43685739878910024, 'w3': 0.8537138365465239, 'w4': 0.5704228132972986, 'w5': 0.5247370027791657, 'w6': 0.3004872888903172, 'w7': 0.5658644740235235, 'w8': 0.5523215827284118}. Best is trial 53 with value: 0.6883793473243713.\n"
     ]
    },
    {
     "name": "stdout",
     "output_type": "stream",
     "text": [
      "{'w1': 0.993828710516544, 'w2': 0.43685739878910024, 'w3': 0.8537138365465239, 'w4': 0.5704228132972986, 'w5': 0.5247370027791657, 'w6': 0.3004872888903172, 'w7': 0.5658644740235235, 'w8': 0.5523215827284118, 'threshold': 0.24}\n"
     ]
    },
    {
     "name": "stderr",
     "output_type": "stream",
     "text": [
      "[I 2023-07-04 16:00:42,997] Trial 58 finished with value: 0.688263475894928 and parameters: {'w1': 0.8712466426492458, 'w2': 0.40282755562562855, 'w3': 0.7921295020934813, 'w4': 0.5647953893377011, 'w5': 0.6240138880354121, 'w6': 0.30704049900428243, 'w7': 0.5568765435977481, 'w8': 0.5403710194808671}. Best is trial 53 with value: 0.6883793473243713.\n"
     ]
    },
    {
     "name": "stdout",
     "output_type": "stream",
     "text": [
      "{'w1': 0.8712466426492458, 'w2': 0.40282755562562855, 'w3': 0.7921295020934813, 'w4': 0.5647953893377011, 'w5': 0.6240138880354121, 'w6': 0.30704049900428243, 'w7': 0.5568765435977481, 'w8': 0.5403710194808671, 'threshold': 0.26}\n"
     ]
    },
    {
     "name": "stderr",
     "output_type": "stream",
     "text": [
      "[I 2023-07-04 16:00:43,402] Trial 59 finished with value: 0.6882326602935791 and parameters: {'w1': 0.9376805065744147, 'w2': 0.3692536008443028, 'w3': 0.9981274523293187, 'w4': 0.4099309069791991, 'w5': 0.5574094889905435, 'w6': 0.22562109622440996, 'w7': 0.6341118789610973, 'w8': 0.46952337307586134}. Best is trial 53 with value: 0.6883793473243713.\n"
     ]
    },
    {
     "name": "stdout",
     "output_type": "stream",
     "text": [
      "{'w1': 0.9376805065744147, 'w2': 0.3692536008443028, 'w3': 0.9981274523293187, 'w4': 0.4099309069791991, 'w5': 0.5574094889905435, 'w6': 0.22562109622440996, 'w7': 0.6341118789610973, 'w8': 0.46952337307586134, 'threshold': 0.25}\n"
     ]
    },
    {
     "name": "stderr",
     "output_type": "stream",
     "text": [
      "[I 2023-07-04 16:00:43,807] Trial 60 finished with value: 0.6882034540176392 and parameters: {'w1': 0.81374239226733, 'w2': 0.5002351470502373, 'w3': 0.8272208663731805, 'w4': 0.5513684216018035, 'w5': 0.47899813759074283, 'w6': 0.30277048683391794, 'w7': 0.6835721619188377, 'w8': 0.6485082585046741}. Best is trial 53 with value: 0.6883793473243713.\n"
     ]
    },
    {
     "name": "stdout",
     "output_type": "stream",
     "text": [
      "{'w1': 0.81374239226733, 'w2': 0.5002351470502373, 'w3': 0.8272208663731805, 'w4': 0.5513684216018035, 'w5': 0.47899813759074283, 'w6': 0.30277048683391794, 'w7': 0.6835721619188377, 'w8': 0.6485082585046741, 'threshold': 0.26}\n"
     ]
    },
    {
     "name": "stderr",
     "output_type": "stream",
     "text": [
      "[I 2023-07-04 16:00:44,212] Trial 61 finished with value: 0.6882235407829285 and parameters: {'w1': 0.9530955546507348, 'w2': 0.4452184976882666, 'w3': 0.8519837386304703, 'w4': 0.48652581017363605, 'w5': 0.5301671517938221, 'w6': 0.15814354102830508, 'w7': 0.595802641931654, 'w8': 0.5707239697664205}. Best is trial 53 with value: 0.6883793473243713.\n"
     ]
    },
    {
     "name": "stdout",
     "output_type": "stream",
     "text": [
      "{'w1': 0.9530955546507348, 'w2': 0.4452184976882666, 'w3': 0.8519837386304703, 'w4': 0.48652581017363605, 'w5': 0.5301671517938221, 'w6': 0.15814354102830508, 'w7': 0.595802641931654, 'w8': 0.5707239697664205, 'threshold': 0.24}\n"
     ]
    },
    {
     "name": "stderr",
     "output_type": "stream",
     "text": [
      "[I 2023-07-04 16:00:44,617] Trial 62 finished with value: 0.6883175373077393 and parameters: {'w1': 0.9964658506173052, 'w2': 0.5015434737482227, 'w3': 0.8871229337649749, 'w4': 0.3985016723213762, 'w5': 0.5426633702642719, 'w6': 0.2833062615990585, 'w7': 0.5629033141566988, 'w8': 0.6295418061964627}. Best is trial 53 with value: 0.6883793473243713.\n"
     ]
    },
    {
     "name": "stdout",
     "output_type": "stream",
     "text": [
      "{'w1': 0.9964658506173052, 'w2': 0.5015434737482227, 'w3': 0.8871229337649749, 'w4': 0.3985016723213762, 'w5': 0.5426633702642719, 'w6': 0.2833062615990585, 'w7': 0.5629033141566988, 'w8': 0.6295418061964627, 'threshold': 0.26}\n"
     ]
    },
    {
     "name": "stderr",
     "output_type": "stream",
     "text": [
      "[I 2023-07-04 16:00:45,023] Trial 63 finished with value: 0.6884450316429138 and parameters: {'w1': 0.8708836501656666, 'w2': 0.5408480793896895, 'w3': 0.9044314899654305, 'w4': 0.38981920511914187, 'w5': 0.6034506357224817, 'w6': 0.3142585773481953, 'w7': 0.5560935901277702, 'w8': 0.6838351397695454}. Best is trial 63 with value: 0.6884450316429138.\n"
     ]
    },
    {
     "name": "stdout",
     "output_type": "stream",
     "text": [
      "{'w1': 0.8708836501656666, 'w2': 0.5408480793896895, 'w3': 0.9044314899654305, 'w4': 0.38981920511914187, 'w5': 0.6034506357224817, 'w6': 0.3142585773481953, 'w7': 0.5560935901277702, 'w8': 0.6838351397695454, 'threshold': 0.27}\n"
     ]
    },
    {
     "name": "stderr",
     "output_type": "stream",
     "text": [
      "[I 2023-07-04 16:00:45,428] Trial 64 finished with value: 0.6882431507110596 and parameters: {'w1': 0.9939996913683453, 'w2': 0.501752556914596, 'w3': 0.9034166081234245, 'w4': 0.46558380749585443, 'w5': 0.6465853547358615, 'w6': 0.3274890277042916, 'w7': 0.5406445411355227, 'w8': 0.5742477054862716}. Best is trial 63 with value: 0.6884450316429138.\n"
     ]
    },
    {
     "name": "stdout",
     "output_type": "stream",
     "text": [
      "{'w1': 0.9939996913683453, 'w2': 0.501752556914596, 'w3': 0.9034166081234245, 'w4': 0.46558380749585443, 'w5': 0.6465853547358615, 'w6': 0.3274890277042916, 'w7': 0.5406445411355227, 'w8': 0.5742477054862716, 'threshold': 0.23}\n"
     ]
    },
    {
     "name": "stderr",
     "output_type": "stream",
     "text": [
      "[I 2023-07-04 16:00:45,834] Trial 65 finished with value: 0.6883013844490051 and parameters: {'w1': 0.9280740335646763, 'w2': 0.5909190135515089, 'w3': 0.7645473287395604, 'w4': 0.4042551101122756, 'w5': 0.6039157511168022, 'w6': 0.2815736151669435, 'w7': 0.4899387314201446, 'w8': 0.6709658059980748}. Best is trial 63 with value: 0.6884450316429138.\n"
     ]
    },
    {
     "name": "stdout",
     "output_type": "stream",
     "text": [
      "{'w1': 0.9280740335646763, 'w2': 0.5909190135515089, 'w3': 0.7645473287395604, 'w4': 0.4042551101122756, 'w5': 0.6039157511168022, 'w6': 0.2815736151669435, 'w7': 0.4899387314201446, 'w8': 0.6709658059980748, 'threshold': 0.26}\n"
     ]
    },
    {
     "name": "stderr",
     "output_type": "stream",
     "text": [
      "[I 2023-07-04 16:00:46,239] Trial 66 finished with value: 0.688328742980957 and parameters: {'w1': 0.9232151272969797, 'w2': 0.5881381383247701, 'w3': 0.7605023493447963, 'w4': 0.40230351111407237, 'w5': 0.5936739814149985, 'w6': 0.2758229331678812, 'w7': 0.49674941087551766, 'w8': 0.6553695411231892}. Best is trial 63 with value: 0.6884450316429138.\n"
     ]
    },
    {
     "name": "stdout",
     "output_type": "stream",
     "text": [
      "{'w1': 0.9232151272969797, 'w2': 0.5881381383247701, 'w3': 0.7605023493447963, 'w4': 0.40230351111407237, 'w5': 0.5936739814149985, 'w6': 0.2758229331678812, 'w7': 0.49674941087551766, 'w8': 0.6553695411231892, 'threshold': 0.26}\n"
     ]
    },
    {
     "name": "stderr",
     "output_type": "stream",
     "text": [
      "[I 2023-07-04 16:00:46,643] Trial 67 finished with value: 0.688226580619812 and parameters: {'w1': 0.8511345364035325, 'w2': 0.6103521555651072, 'w3': 0.9104886709352527, 'w4': 0.40073883020162826, 'w5': 0.6447267365927064, 'w6': 0.3103063350451921, 'w7': 0.4923300516993909, 'w8': 0.6357478585309739}. Best is trial 63 with value: 0.6884450316429138.\n"
     ]
    },
    {
     "name": "stdout",
     "output_type": "stream",
     "text": [
      "{'w1': 0.8511345364035325, 'w2': 0.6103521555651072, 'w3': 0.9104886709352527, 'w4': 0.40073883020162826, 'w5': 0.6447267365927064, 'w6': 0.3103063350451921, 'w7': 0.4923300516993909, 'w8': 0.6357478585309739, 'threshold': 0.25}\n"
     ]
    },
    {
     "name": "stderr",
     "output_type": "stream",
     "text": [
      "[I 2023-07-04 16:00:47,049] Trial 68 finished with value: 0.6882947683334351 and parameters: {'w1': 0.8762605383422893, 'w2': 0.5091874383105216, 'w3': 0.8817512675022067, 'w4': 0.3356824587685308, 'w5': 0.5461862718735478, 'w6': 0.23506322806704694, 'w7': 0.6357004313436404, 'w8': 0.6892766592400364}. Best is trial 63 with value: 0.6884450316429138.\n"
     ]
    },
    {
     "name": "stdout",
     "output_type": "stream",
     "text": [
      "{'w1': 0.8762605383422893, 'w2': 0.5091874383105216, 'w3': 0.8817512675022067, 'w4': 0.3356824587685308, 'w5': 0.5461862718735478, 'w6': 0.23506322806704694, 'w7': 0.6357004313436404, 'w8': 0.6892766592400364, 'threshold': 0.27}\n"
     ]
    },
    {
     "name": "stderr",
     "output_type": "stream",
     "text": [
      "[I 2023-07-04 16:00:47,454] Trial 69 finished with value: 0.6883285045623779 and parameters: {'w1': 0.8203705357482673, 'w2': 0.5474443866667789, 'w3': 0.6977121118888047, 'w4': 0.47506755537402506, 'w5': 0.6862090440412278, 'w6': 0.32068968250574525, 'w7': 0.5548197548025738, 'w8': 0.6642035073880108}. Best is trial 63 with value: 0.6884450316429138.\n"
     ]
    },
    {
     "name": "stdout",
     "output_type": "stream",
     "text": [
      "{'w1': 0.8203705357482673, 'w2': 0.5474443866667789, 'w3': 0.6977121118888047, 'w4': 0.47506755537402506, 'w5': 0.6862090440412278, 'w6': 0.32068968250574525, 'w7': 0.5548197548025738, 'w8': 0.6642035073880108, 'threshold': 0.28}\n"
     ]
    },
    {
     "name": "stderr",
     "output_type": "stream",
     "text": [
      "[I 2023-07-04 16:00:47,861] Trial 70 finished with value: 0.6883144378662109 and parameters: {'w1': 0.7884629167432501, 'w2': 0.62747963191063, 'w3': 0.6711402698425376, 'w4': 0.5160231900045665, 'w5': 0.6841499972908014, 'w6': 0.32671577421677594, 'w7': 0.6036116418814068, 'w8': 0.6551133452485863}. Best is trial 63 with value: 0.6884450316429138.\n"
     ]
    },
    {
     "name": "stdout",
     "output_type": "stream",
     "text": [
      "{'w1': 0.7884629167432501, 'w2': 0.62747963191063, 'w3': 0.6711402698425376, 'w4': 0.5160231900045665, 'w5': 0.6841499972908014, 'w6': 0.32671577421677594, 'w7': 0.6036116418814068, 'w8': 0.6551133452485863, 'threshold': 0.28}\n"
     ]
    },
    {
     "name": "stderr",
     "output_type": "stream",
     "text": [
      "[I 2023-07-04 16:00:48,266] Trial 71 finished with value: 0.6882701516151428 and parameters: {'w1': 0.8219333460896967, 'w2': 0.5520438851257393, 'w3': 0.9710111071215597, 'w4': 0.46978036729031114, 'w5': 0.5960862160666758, 'w6': 0.2884140052097009, 'w7': 0.5437699517527967, 'w8': 0.6211521016123898}. Best is trial 63 with value: 0.6884450316429138.\n"
     ]
    },
    {
     "name": "stdout",
     "output_type": "stream",
     "text": [
      "{'w1': 0.8219333460896967, 'w2': 0.5520438851257393, 'w3': 0.9710111071215597, 'w4': 0.46978036729031114, 'w5': 0.5960862160666758, 'w6': 0.2884140052097009, 'w7': 0.5437699517527967, 'w8': 0.6211521016123898, 'threshold': 0.26}\n"
     ]
    },
    {
     "name": "stderr",
     "output_type": "stream",
     "text": [
      "[I 2023-07-04 16:00:48,672] Trial 72 finished with value: 0.6884011626243591 and parameters: {'w1': 0.8926379945510967, 'w2': 0.5220978378305067, 'w3': 0.8043063665452458, 'w4': 0.42287473471926385, 'w5': 0.5706108404455259, 'w6': 0.4068707758147335, 'w7': 0.5802052102822653, 'w8': 0.6610458492138529}. Best is trial 63 with value: 0.6884450316429138.\n"
     ]
    },
    {
     "name": "stdout",
     "output_type": "stream",
     "text": [
      "{'w1': 0.8926379945510967, 'w2': 0.5220978378305067, 'w3': 0.8043063665452458, 'w4': 0.42287473471926385, 'w5': 0.5706108404455259, 'w6': 0.4068707758147335, 'w7': 0.5802052102822653, 'w8': 0.6610458492138529, 'threshold': 0.27}\n"
     ]
    },
    {
     "name": "stderr",
     "output_type": "stream",
     "text": [
      "[I 2023-07-04 16:00:49,077] Trial 73 finished with value: 0.6883763074874878 and parameters: {'w1': 0.8881972385698219, 'w2': 0.576005941506119, 'w3': 0.7706980298644669, 'w4': 0.32852746395644467, 'w5': 0.627557379551627, 'w6': 0.4051533190606923, 'w7': 0.5118131635195258, 'w8': 0.6880537792234733}. Best is trial 63 with value: 0.6884450316429138.\n"
     ]
    },
    {
     "name": "stdout",
     "output_type": "stream",
     "text": [
      "{'w1': 0.8881972385698219, 'w2': 0.576005941506119, 'w3': 0.7706980298644669, 'w4': 0.32852746395644467, 'w5': 0.627557379551627, 'w6': 0.4051533190606923, 'w7': 0.5118131635195258, 'w8': 0.6880537792234733, 'threshold': 0.28}\n"
     ]
    },
    {
     "name": "stderr",
     "output_type": "stream",
     "text": [
      "[I 2023-07-04 16:00:49,483] Trial 74 finished with value: 0.6885074377059937 and parameters: {'w1': 0.8925103730824538, 'w2': 0.520797193226653, 'w3': 0.7972309084061778, 'w4': 0.3208311198329906, 'w5': 0.5699540670527697, 'w6': 0.41923357053286275, 'w7': 0.5168787063787417, 'w8': 0.691386817365651}. Best is trial 74 with value: 0.6885074377059937.\n"
     ]
    },
    {
     "name": "stdout",
     "output_type": "stream",
     "text": [
      "{'w1': 0.8925103730824538, 'w2': 0.520797193226653, 'w3': 0.7972309084061778, 'w4': 0.3208311198329906, 'w5': 0.5699540670527697, 'w6': 0.41923357053286275, 'w7': 0.5168787063787417, 'w8': 0.691386817365651, 'threshold': 0.27}\n"
     ]
    },
    {
     "name": "stderr",
     "output_type": "stream",
     "text": [
      "[I 2023-07-04 16:00:49,897] Trial 75 finished with value: 0.6884472370147705 and parameters: {'w1': 0.8721936929984216, 'w2': 0.483089534197937, 'w3': 0.8025618117386963, 'w4': 0.32410322136519376, 'w5': 0.5709652088995879, 'w6': 0.4087819910588812, 'w7': 0.5226791098613304, 'w8': 0.7346386826250715}. Best is trial 74 with value: 0.6885074377059937.\n"
     ]
    },
    {
     "name": "stdout",
     "output_type": "stream",
     "text": [
      "{'w1': 0.8721936929984216, 'w2': 0.483089534197937, 'w3': 0.8025618117386963, 'w4': 0.32410322136519376, 'w5': 0.5709652088995879, 'w6': 0.4087819910588812, 'w7': 0.5226791098613304, 'w8': 0.7346386826250715, 'threshold': 0.28}\n"
     ]
    },
    {
     "name": "stderr",
     "output_type": "stream",
     "text": [
      "[I 2023-07-04 16:00:50,304] Trial 76 finished with value: 0.688461184501648 and parameters: {'w1': 0.8960378253505433, 'w2': 0.5235742525123243, 'w3': 0.7777958370455327, 'w4': 0.3269761834387096, 'w5': 0.6254751915413482, 'w6': 0.4230319044219925, 'w7': 0.5149646450196854, 'w8': 0.736905155502571}. Best is trial 74 with value: 0.6885074377059937.\n"
     ]
    },
    {
     "name": "stdout",
     "output_type": "stream",
     "text": [
      "{'w1': 0.8960378253505433, 'w2': 0.5235742525123243, 'w3': 0.7777958370455327, 'w4': 0.3269761834387096, 'w5': 0.6254751915413482, 'w6': 0.4230319044219925, 'w7': 0.5149646450196854, 'w8': 0.736905155502571, 'threshold': 0.28}\n"
     ]
    },
    {
     "name": "stderr",
     "output_type": "stream",
     "text": [
      "[I 2023-07-04 16:00:50,711] Trial 77 finished with value: 0.688450813293457 and parameters: {'w1': 0.8942297291679518, 'w2': 0.5257262093401058, 'w3': 0.7926219551490695, 'w4': 0.32337394842577694, 'w5': 0.6186113223466518, 'w6': 0.40140719320727186, 'w7': 0.48172031049320485, 'w8': 0.6934175978475225}. Best is trial 74 with value: 0.6885074377059937.\n"
     ]
    },
    {
     "name": "stdout",
     "output_type": "stream",
     "text": [
      "{'w1': 0.8942297291679518, 'w2': 0.5257262093401058, 'w3': 0.7926219551490695, 'w4': 0.32337394842577694, 'w5': 0.6186113223466518, 'w6': 0.40140719320727186, 'w7': 0.48172031049320485, 'w8': 0.6934175978475225, 'threshold': 0.27}\n"
     ]
    },
    {
     "name": "stderr",
     "output_type": "stream",
     "text": [
      "[I 2023-07-04 16:00:51,125] Trial 78 finished with value: 0.6884381771087646 and parameters: {'w1': 0.8967863952268551, 'w2': 0.5322016328895641, 'w3': 0.8002471988509747, 'w4': 0.3326541903296471, 'w5': 0.6513956234170458, 'w6': 0.41285889176538393, 'w7': 0.4815963971935714, 'w8': 0.6909392732724722}. Best is trial 74 with value: 0.6885074377059937.\n"
     ]
    },
    {
     "name": "stdout",
     "output_type": "stream",
     "text": [
      "{'w1': 0.8967863952268551, 'w2': 0.5322016328895641, 'w3': 0.8002471988509747, 'w4': 0.3326541903296471, 'w5': 0.6513956234170458, 'w6': 0.41285889176538393, 'w7': 0.4815963971935714, 'w8': 0.6909392732724722, 'threshold': 0.27}\n"
     ]
    },
    {
     "name": "stderr",
     "output_type": "stream",
     "text": [
      "[I 2023-07-04 16:00:51,533] Trial 79 finished with value: 0.6884742379188538 and parameters: {'w1': 0.9388648573448677, 'w2': 0.5281579316891485, 'w3': 0.7998587953373414, 'w4': 0.2681117276774538, 'w5': 0.6529297018120923, 'w6': 0.4324440247961514, 'w7': 0.47355445987422523, 'w8': 0.7368707177884396}. Best is trial 74 with value: 0.6885074377059937.\n"
     ]
    },
    {
     "name": "stdout",
     "output_type": "stream",
     "text": [
      "{'w1': 0.9388648573448677, 'w2': 0.5281579316891485, 'w3': 0.7998587953373414, 'w4': 0.2681117276774538, 'w5': 0.6529297018120923, 'w6': 0.4324440247961514, 'w7': 0.47355445987422523, 'w8': 0.7368707177884396, 'threshold': 0.28}\n"
     ]
    },
    {
     "name": "stderr",
     "output_type": "stream",
     "text": [
      "[I 2023-07-04 16:00:51,939] Trial 80 finished with value: 0.6885209083557129 and parameters: {'w1': 0.9527815417969564, 'w2': 0.5269587809731096, 'w3': 0.7990806130159811, 'w4': 0.26108028564033103, 'w5': 0.6544662308713612, 'w6': 0.48027265810421604, 'w7': 0.4784884895525443, 'w8': 0.7324098266172236}. Best is trial 80 with value: 0.6885209083557129.\n"
     ]
    },
    {
     "name": "stdout",
     "output_type": "stream",
     "text": [
      "{'w1': 0.9527815417969564, 'w2': 0.5269587809731096, 'w3': 0.7990806130159811, 'w4': 0.26108028564033103, 'w5': 0.6544662308713612, 'w6': 0.48027265810421604, 'w7': 0.4784884895525443, 'w8': 0.7324098266172236, 'threshold': 0.28}\n"
     ]
    },
    {
     "name": "stderr",
     "output_type": "stream",
     "text": [
      "[I 2023-07-04 16:00:52,353] Trial 81 finished with value: 0.6884971857070923 and parameters: {'w1': 0.9470013035381286, 'w2': 0.5291697125555146, 'w3': 0.8060574711439809, 'w4': 0.2555933470568674, 'w5': 0.6564097331448263, 'w6': 0.4784974390813972, 'w7': 0.464325795241136, 'w8': 0.7392440581502018}. Best is trial 80 with value: 0.6885209083557129.\n"
     ]
    },
    {
     "name": "stdout",
     "output_type": "stream",
     "text": [
      "{'w1': 0.9470013035381286, 'w2': 0.5291697125555146, 'w3': 0.8060574711439809, 'w4': 0.2555933470568674, 'w5': 0.6564097331448263, 'w6': 0.4784974390813972, 'w7': 0.464325795241136, 'w8': 0.7392440581502018, 'threshold': 0.28}\n"
     ]
    },
    {
     "name": "stderr",
     "output_type": "stream",
     "text": [
      "[I 2023-07-04 16:00:52,762] Trial 82 finished with value: 0.6884985566139221 and parameters: {'w1': 0.9436097383138362, 'w2': 0.5348473873327227, 'w3': 0.7943313904007068, 'w4': 0.2628694746123031, 'w5': 0.7018966379349346, 'w6': 0.4361521358876563, 'w7': 0.47339334014750944, 'w8': 0.7367460029273665}. Best is trial 80 with value: 0.6885209083557129.\n"
     ]
    },
    {
     "name": "stdout",
     "output_type": "stream",
     "text": [
      "{'w1': 0.9436097383138362, 'w2': 0.5348473873327227, 'w3': 0.7943313904007068, 'w4': 0.2628694746123031, 'w5': 0.7018966379349346, 'w6': 0.4361521358876563, 'w7': 0.47339334014750944, 'w8': 0.7367460029273665, 'threshold': 0.28}\n"
     ]
    },
    {
     "name": "stderr",
     "output_type": "stream",
     "text": [
      "[I 2023-07-04 16:00:53,167] Trial 83 finished with value: 0.6884288787841797 and parameters: {'w1': 0.9482522059252113, 'w2': 0.6118814966869197, 'w3': 0.742263353449896, 'w4': 0.2630045877888177, 'w5': 0.7027560769845894, 'w6': 0.44689611737768126, 'w7': 0.4720018569291367, 'w8': 0.7267698694100532}. Best is trial 80 with value: 0.6885209083557129.\n"
     ]
    },
    {
     "name": "stdout",
     "output_type": "stream",
     "text": [
      "{'w1': 0.9482522059252113, 'w2': 0.6118814966869197, 'w3': 0.742263353449896, 'w4': 0.2630045877888177, 'w5': 0.7027560769845894, 'w6': 0.44689611737768126, 'w7': 0.4720018569291367, 'w8': 0.7267698694100532, 'threshold': 0.28}\n"
     ]
    },
    {
     "name": "stderr",
     "output_type": "stream",
     "text": [
      "[I 2023-07-04 16:00:53,576] Trial 84 finished with value: 0.6884406208992004 and parameters: {'w1': 0.9417822404450178, 'w2': 0.5478321451560352, 'w3': 0.8208094462946076, 'w4': 0.2521321505958391, 'w5': 0.6593777704073679, 'w6': 0.5024007227754477, 'w7': 0.44086619714574, 'w8': 0.7376133944066053}. Best is trial 80 with value: 0.6885209083557129.\n"
     ]
    },
    {
     "name": "stdout",
     "output_type": "stream",
     "text": [
      "{'w1': 0.9417822404450178, 'w2': 0.5478321451560352, 'w3': 0.8208094462946076, 'w4': 0.2521321505958391, 'w5': 0.6593777704073679, 'w6': 0.5024007227754477, 'w7': 0.44086619714574, 'w8': 0.7376133944066053, 'threshold': 0.28}\n"
     ]
    },
    {
     "name": "stderr",
     "output_type": "stream",
     "text": [
      "[I 2023-07-04 16:00:53,983] Trial 85 finished with value: 0.6885988116264343 and parameters: {'w1': 0.9538818118346949, 'w2': 0.44858426012516134, 'w3': 0.7837916680420025, 'w4': 0.28608188150601604, 'w5': 0.7065594778806766, 'w6': 0.4864201157430638, 'w7': 0.4624741788463345, 'w8': 0.7864701204716635}. Best is trial 85 with value: 0.6885988116264343.\n"
     ]
    },
    {
     "name": "stdout",
     "output_type": "stream",
     "text": [
      "{'w1': 0.9538818118346949, 'w2': 0.44858426012516134, 'w3': 0.7837916680420025, 'w4': 0.28608188150601604, 'w5': 0.7065594778806766, 'w6': 0.4864201157430638, 'w7': 0.4624741788463345, 'w8': 0.7864701204716635, 'threshold': 0.27}\n"
     ]
    },
    {
     "name": "stderr",
     "output_type": "stream",
     "text": [
      "[I 2023-07-04 16:00:54,388] Trial 86 finished with value: 0.6885576844215393 and parameters: {'w1': 0.9522096552383957, 'w2': 0.44497315301408213, 'w3': 0.71621959420203, 'w4': 0.2348965352792452, 'w5': 0.7104014297378579, 'w6': 0.4796308268895664, 'w7': 0.409302131219098, 'w8': 0.742368921904688}. Best is trial 85 with value: 0.6885988116264343.\n"
     ]
    },
    {
     "name": "stdout",
     "output_type": "stream",
     "text": [
      "{'w1': 0.9522096552383957, 'w2': 0.44497315301408213, 'w3': 0.71621959420203, 'w4': 0.2348965352792452, 'w5': 0.7104014297378579, 'w6': 0.4796308268895664, 'w7': 0.409302131219098, 'w8': 0.742368921904688, 'threshold': 0.27}\n"
     ]
    },
    {
     "name": "stderr",
     "output_type": "stream",
     "text": [
      "[I 2023-07-04 16:00:54,795] Trial 87 finished with value: 0.688538670539856 and parameters: {'w1': 0.9618992511692568, 'w2': 0.45600018865038894, 'w3': 0.7177307610440963, 'w4': 0.23105747218565426, 'w5': 0.7442894411324191, 'w6': 0.4753855718676879, 'w7': 0.4026370782924832, 'w8': 0.8335825984142757}. Best is trial 85 with value: 0.6885988116264343.\n"
     ]
    },
    {
     "name": "stdout",
     "output_type": "stream",
     "text": [
      "{'w1': 0.9618992511692568, 'w2': 0.45600018865038894, 'w3': 0.7177307610440963, 'w4': 0.23105747218565426, 'w5': 0.7442894411324191, 'w6': 0.4753855718676879, 'w7': 0.4026370782924832, 'w8': 0.8335825984142757, 'threshold': 0.28}\n"
     ]
    },
    {
     "name": "stderr",
     "output_type": "stream",
     "text": [
      "[I 2023-07-04 16:00:55,202] Trial 88 finished with value: 0.6885217428207397 and parameters: {'w1': 0.9669663108813668, 'w2': 0.4362580399097788, 'w3': 0.7074616983599962, 'w4': 0.22344383875330284, 'w5': 0.7332824997344366, 'w6': 0.4770117993000188, 'w7': 0.38884811457797447, 'w8': 0.8317498847151665}. Best is trial 85 with value: 0.6885988116264343.\n"
     ]
    },
    {
     "name": "stdout",
     "output_type": "stream",
     "text": [
      "{'w1': 0.9669663108813668, 'w2': 0.4362580399097788, 'w3': 0.7074616983599962, 'w4': 0.22344383875330284, 'w5': 0.7332824997344366, 'w6': 0.4770117993000188, 'w7': 0.38884811457797447, 'w8': 0.8317498847151665, 'threshold': 0.28}\n"
     ]
    },
    {
     "name": "stderr",
     "output_type": "stream",
     "text": [
      "[I 2023-07-04 16:00:55,612] Trial 89 finished with value: 0.6885570883750916 and parameters: {'w1': 0.9678708398361348, 'w2': 0.44838610397441764, 'w3': 0.7139225382877435, 'w4': 0.2250232155289052, 'w5': 0.7554616768403701, 'w6': 0.4669223043584381, 'w7': 0.38587971006480254, 'w8': 0.8306150881927181}. Best is trial 85 with value: 0.6885988116264343.\n"
     ]
    },
    {
     "name": "stdout",
     "output_type": "stream",
     "text": [
      "{'w1': 0.9678708398361348, 'w2': 0.44838610397441764, 'w3': 0.7139225382877435, 'w4': 0.2250232155289052, 'w5': 0.7554616768403701, 'w6': 0.4669223043584381, 'w7': 0.38587971006480254, 'w8': 0.8306150881927181, 'threshold': 0.28}\n"
     ]
    },
    {
     "name": "stderr",
     "output_type": "stream",
     "text": [
      "[I 2023-07-04 16:00:56,021] Trial 90 finished with value: 0.6885213255882263 and parameters: {'w1': 0.9675169514747206, 'w2': 0.430296225243436, 'w3': 0.712616405004115, 'w4': 0.2379927582051286, 'w5': 0.76207854162699, 'w6': 0.47068366013265306, 'w7': 0.3990936207280563, 'w8': 0.8453873548179617}. Best is trial 85 with value: 0.6885988116264343.\n"
     ]
    },
    {
     "name": "stdout",
     "output_type": "stream",
     "text": [
      "{'w1': 0.9675169514747206, 'w2': 0.430296225243436, 'w3': 0.712616405004115, 'w4': 0.2379927582051286, 'w5': 0.76207854162699, 'w6': 0.47068366013265306, 'w7': 0.3990936207280563, 'w8': 0.8453873548179617, 'threshold': 0.28}\n"
     ]
    },
    {
     "name": "stderr",
     "output_type": "stream",
     "text": [
      "[I 2023-07-04 16:00:56,426] Trial 91 finished with value: 0.6885330677032471 and parameters: {'w1': 0.9714805504427669, 'w2': 0.4401933126315108, 'w3': 0.7228031379636936, 'w4': 0.25303272179576636, 'w5': 0.7635884971446538, 'w6': 0.4780160119463216, 'w7': 0.39213839450345067, 'w8': 0.8346460540301937}. Best is trial 85 with value: 0.6885988116264343.\n"
     ]
    },
    {
     "name": "stdout",
     "output_type": "stream",
     "text": [
      "{'w1': 0.9714805504427669, 'w2': 0.4401933126315108, 'w3': 0.7228031379636936, 'w4': 0.25303272179576636, 'w5': 0.7635884971446538, 'w6': 0.4780160119463216, 'w7': 0.39213839450345067, 'w8': 0.8346460540301937, 'threshold': 0.27}\n"
     ]
    },
    {
     "name": "stderr",
     "output_type": "stream",
     "text": [
      "[I 2023-07-04 16:00:56,830] Trial 92 finished with value: 0.6885119080543518 and parameters: {'w1': 0.9663493838331214, 'w2': 0.39295487494755676, 'w3': 0.7094659023507418, 'w4': 0.23041126707853288, 'w5': 0.7724850482083842, 'w6': 0.5160160617000807, 'w7': 0.39397412387525443, 'w8': 0.8511165740725679}. Best is trial 85 with value: 0.6885988116264343.\n"
     ]
    },
    {
     "name": "stdout",
     "output_type": "stream",
     "text": [
      "{'w1': 0.9663493838331214, 'w2': 0.39295487494755676, 'w3': 0.7094659023507418, 'w4': 0.23041126707853288, 'w5': 0.7724850482083842, 'w6': 0.5160160617000807, 'w7': 0.39397412387525443, 'w8': 0.8511165740725679, 'threshold': 0.27}\n"
     ]
    },
    {
     "name": "stderr",
     "output_type": "stream",
     "text": [
      "[I 2023-07-04 16:00:57,235] Trial 93 finished with value: 0.6884433627128601 and parameters: {'w1': 0.9730751041831972, 'w2': 0.38667287223578795, 'w3': 0.7134192896271927, 'w4': 0.2291051747922832, 'w5': 0.7609125051268337, 'w6': 0.4774330566718223, 'w7': 0.3894177411263373, 'w8': 0.8897010411147932}. Best is trial 85 with value: 0.6885988116264343.\n"
     ]
    },
    {
     "name": "stdout",
     "output_type": "stream",
     "text": [
      "{'w1': 0.9730751041831972, 'w2': 0.38667287223578795, 'w3': 0.7134192896271927, 'w4': 0.2291051747922832, 'w5': 0.7609125051268337, 'w6': 0.4774330566718223, 'w7': 0.3894177411263373, 'w8': 0.8897010411147932, 'threshold': 0.27}\n"
     ]
    },
    {
     "name": "stderr",
     "output_type": "stream",
     "text": [
      "[I 2023-07-04 16:00:57,640] Trial 94 finished with value: 0.6885513067245483 and parameters: {'w1': 0.968387430947925, 'w2': 0.42181543338584687, 'w3': 0.6636103874467933, 'w4': 0.21268671512883086, 'w5': 0.7364510834505164, 'w6': 0.528195118490298, 'w7': 0.3629769597503273, 'w8': 0.8442914855371105}. Best is trial 85 with value: 0.6885988116264343.\n"
     ]
    },
    {
     "name": "stdout",
     "output_type": "stream",
     "text": [
      "{'w1': 0.968387430947925, 'w2': 0.42181543338584687, 'w3': 0.6636103874467933, 'w4': 0.21268671512883086, 'w5': 0.7364510834505164, 'w6': 0.528195118490298, 'w7': 0.3629769597503273, 'w8': 0.8442914855371105, 'threshold': 0.27}\n"
     ]
    },
    {
     "name": "stderr",
     "output_type": "stream",
     "text": [
      "[I 2023-07-04 16:00:58,045] Trial 95 finished with value: 0.6885121464729309 and parameters: {'w1': 0.974689139815012, 'w2': 0.42840146838004756, 'w3': 0.6627072959815555, 'w4': 0.19022146653852012, 'w5': 0.773823476328247, 'w6': 0.5273933362628913, 'w7': 0.3567935280392157, 'w8': 0.8370245957171701}. Best is trial 85 with value: 0.6885988116264343.\n"
     ]
    },
    {
     "name": "stdout",
     "output_type": "stream",
     "text": [
      "{'w1': 0.974689139815012, 'w2': 0.42840146838004756, 'w3': 0.6627072959815555, 'w4': 0.19022146653852012, 'w5': 0.773823476328247, 'w6': 0.5273933362628913, 'w7': 0.3567935280392157, 'w8': 0.8370245957171701, 'threshold': 0.28}\n"
     ]
    },
    {
     "name": "stderr",
     "output_type": "stream",
     "text": [
      "[I 2023-07-04 16:00:58,450] Trial 96 finished with value: 0.6884956955909729 and parameters: {'w1': 0.9167475505217246, 'w2': 0.43372349764460094, 'w3': 0.6498162783566477, 'w4': 0.1876513619393493, 'w5': 0.7338908381150024, 'w6': 0.5459553860124347, 'w7': 0.350809381738168, 'w8': 0.8387203379522327}. Best is trial 85 with value: 0.6885988116264343.\n"
     ]
    },
    {
     "name": "stdout",
     "output_type": "stream",
     "text": [
      "{'w1': 0.9167475505217246, 'w2': 0.43372349764460094, 'w3': 0.6498162783566477, 'w4': 0.1876513619393493, 'w5': 0.7338908381150024, 'w6': 0.5459553860124347, 'w7': 0.350809381738168, 'w8': 0.8387203379522327, 'threshold': 0.27}\n"
     ]
    },
    {
     "name": "stderr",
     "output_type": "stream",
     "text": [
      "[I 2023-07-04 16:00:58,854] Trial 97 finished with value: 0.6884920597076416 and parameters: {'w1': 0.973381464535876, 'w2': 0.36056731596181685, 'w3': 0.6766458062387003, 'w4': 0.1753514373978384, 'w5': 0.789717140833075, 'w6': 0.46765961812097046, 'w7': 0.3609736754596711, 'w8': 0.8735378242531131}. Best is trial 85 with value: 0.6885988116264343.\n"
     ]
    },
    {
     "name": "stdout",
     "output_type": "stream",
     "text": [
      "{'w1': 0.973381464535876, 'w2': 0.36056731596181685, 'w3': 0.6766458062387003, 'w4': 0.1753514373978384, 'w5': 0.789717140833075, 'w6': 0.46765961812097046, 'w7': 0.3609736754596711, 'w8': 0.8735378242531131, 'threshold': 0.28}\n"
     ]
    },
    {
     "name": "stderr",
     "output_type": "stream",
     "text": [
      "[I 2023-07-04 16:00:59,259] Trial 98 finished with value: 0.6885249018669128 and parameters: {'w1': 0.9970757074696789, 'w2': 0.4187864013784526, 'w3': 0.738488450760817, 'w4': 0.20651929749607906, 'w5': 0.7464392851252438, 'w6': 0.49835835864519107, 'w7': 0.4200853904720142, 'w8': 0.8164342905644086}. Best is trial 85 with value: 0.6885988116264343.\n"
     ]
    },
    {
     "name": "stdout",
     "output_type": "stream",
     "text": [
      "{'w1': 0.9970757074696789, 'w2': 0.4187864013784526, 'w3': 0.738488450760817, 'w4': 0.20651929749607906, 'w5': 0.7464392851252438, 'w6': 0.49835835864519107, 'w7': 0.4200853904720142, 'w8': 0.8164342905644086, 'threshold': 0.28}\n"
     ]
    },
    {
     "name": "stderr",
     "output_type": "stream",
     "text": [
      "[I 2023-07-04 16:00:59,663] Trial 99 finished with value: 0.6885248422622681 and parameters: {'w1': 0.9995718338753946, 'w2': 0.46174389059472104, 'w3': 0.7388694371331694, 'w4': 0.21232236064971813, 'w5': 0.7391733151087494, 'w6': 0.5016770190898666, 'w7': 0.42054710890947355, 'w8': 0.8137507572856597}. Best is trial 85 with value: 0.6885988116264343.\n"
     ]
    },
    {
     "name": "stdout",
     "output_type": "stream",
     "text": [
      "{'w1': 0.9995718338753946, 'w2': 0.46174389059472104, 'w3': 0.7388694371331694, 'w4': 0.21232236064971813, 'w5': 0.7391733151087494, 'w6': 0.5016770190898666, 'w7': 0.42054710890947355, 'w8': 0.8137507572856597, 'threshold': 0.28}\n"
     ]
    },
    {
     "name": "stderr",
     "output_type": "stream",
     "text": [
      "[I 2023-07-04 16:01:00,068] Trial 100 finished with value: 0.6885445713996887 and parameters: {'w1': 0.9876360062999613, 'w2': 0.4518359222981216, 'w3': 0.7341447211079302, 'w4': 0.21283453189645277, 'w5': 0.7430330234826601, 'w6': 0.5702680753579125, 'w7': 0.44178178369297116, 'w8': 0.8175360610934815}. Best is trial 85 with value: 0.6885988116264343.\n"
     ]
    },
    {
     "name": "stdout",
     "output_type": "stream",
     "text": [
      "{'w1': 0.9876360062999613, 'w2': 0.4518359222981216, 'w3': 0.7341447211079302, 'w4': 0.21283453189645277, 'w5': 0.7430330234826601, 'w6': 0.5702680753579125, 'w7': 0.44178178369297116, 'w8': 0.8175360610934815, 'threshold': 0.28}\n"
     ]
    },
    {
     "name": "stderr",
     "output_type": "stream",
     "text": [
      "[I 2023-07-04 16:01:00,473] Trial 101 finished with value: 0.6885313987731934 and parameters: {'w1': 0.9961510837972827, 'w2': 0.4243137346991286, 'w3': 0.7362073847930583, 'w4': 0.21507245476218909, 'w5': 0.7437545513026844, 'w6': 0.5776776470162864, 'w7': 0.4140326011585311, 'w8': 0.8143500412027993}. Best is trial 85 with value: 0.6885988116264343.\n"
     ]
    },
    {
     "name": "stdout",
     "output_type": "stream",
     "text": [
      "{'w1': 0.9961510837972827, 'w2': 0.4243137346991286, 'w3': 0.7362073847930583, 'w4': 0.21507245476218909, 'w5': 0.7437545513026844, 'w6': 0.5776776470162864, 'w7': 0.4140326011585311, 'w8': 0.8143500412027993, 'threshold': 0.27}\n"
     ]
    },
    {
     "name": "stderr",
     "output_type": "stream",
     "text": [
      "[I 2023-07-04 16:01:00,878] Trial 102 finished with value: 0.6884846091270447 and parameters: {'w1': 0.9830525993936, 'w2': 0.4510477664759202, 'w3': 0.7329423691509939, 'w4': 0.1663530825908761, 'w5': 0.7130282999721529, 'w6': 0.5752431431509507, 'w7': 0.4245295501543197, 'w8': 0.8202271840510627}. Best is trial 85 with value: 0.6885988116264343.\n"
     ]
    },
    {
     "name": "stdout",
     "output_type": "stream",
     "text": [
      "{'w1': 0.9830525993936, 'w2': 0.4510477664759202, 'w3': 0.7329423691509939, 'w4': 0.1663530825908761, 'w5': 0.7130282999721529, 'w6': 0.5752431431509507, 'w7': 0.4245295501543197, 'w8': 0.8202271840510627, 'threshold': 0.27}\n"
     ]
    },
    {
     "name": "stderr",
     "output_type": "stream",
     "text": [
      "[I 2023-07-04 16:01:01,284] Trial 103 finished with value: 0.6885408759117126 and parameters: {'w1': 0.9953971834346443, 'w2': 0.4179242384936376, 'w3': 0.6895960795681089, 'w4': 0.20448468945112439, 'w5': 0.7393771550869448, 'w6': 0.5044448413678365, 'w7': 0.41601250641368864, 'w8': 0.8062689907870177}. Best is trial 85 with value: 0.6885988116264343.\n"
     ]
    },
    {
     "name": "stdout",
     "output_type": "stream",
     "text": [
      "{'w1': 0.9953971834346443, 'w2': 0.4179242384936376, 'w3': 0.6895960795681089, 'w4': 0.20448468945112439, 'w5': 0.7393771550869448, 'w6': 0.5044448413678365, 'w7': 0.41601250641368864, 'w8': 0.8062689907870177, 'threshold': 0.28}\n"
     ]
    },
    {
     "name": "stderr",
     "output_type": "stream",
     "text": [
      "[I 2023-07-04 16:01:01,690] Trial 104 finished with value: 0.6885345578193665 and parameters: {'w1': 0.9900469480984745, 'w2': 0.4074481160930537, 'w3': 0.7497884754685221, 'w4': 0.2081180317867325, 'w5': 0.7534523176321817, 'w6': 0.5004080499123402, 'w7': 0.42865706183934965, 'w8': 0.8017137212372998}. Best is trial 85 with value: 0.6885988116264343.\n"
     ]
    },
    {
     "name": "stdout",
     "output_type": "stream",
     "text": [
      "{'w1': 0.9900469480984745, 'w2': 0.4074481160930537, 'w3': 0.7497884754685221, 'w4': 0.2081180317867325, 'w5': 0.7534523176321817, 'w6': 0.5004080499123402, 'w7': 0.42865706183934965, 'w8': 0.8017137212372998, 'threshold': 0.28}\n"
     ]
    },
    {
     "name": "stderr",
     "output_type": "stream",
     "text": [
      "[I 2023-07-04 16:01:02,096] Trial 105 finished with value: 0.6883419156074524 and parameters: {'w1': 0.9199801860790099, 'w2': 0.33078624338899104, 'w3': 0.6931886421953739, 'w4': 0.14473577706829593, 'w5': 0.8319238673434876, 'w6': 0.5376204897531356, 'w7': 0.4107365175961355, 'w8': 0.7971653814297225}. Best is trial 85 with value: 0.6885988116264343.\n"
     ]
    },
    {
     "name": "stdout",
     "output_type": "stream",
     "text": [
      "{'w1': 0.9199801860790099, 'w2': 0.33078624338899104, 'w3': 0.6931886421953739, 'w4': 0.14473577706829593, 'w5': 0.8319238673434876, 'w6': 0.5376204897531356, 'w7': 0.4107365175961355, 'w8': 0.7971653814297225, 'threshold': 0.27}\n"
     ]
    },
    {
     "name": "stderr",
     "output_type": "stream",
     "text": [
      "[I 2023-07-04 16:01:02,501] Trial 106 finished with value: 0.6884372234344482 and parameters: {'w1': 0.9914907812093491, 'w2': 0.4138407635045376, 'w3': 0.629807490171232, 'w4': 0.2002175007796215, 'w5': 0.7495376149064281, 'w6': 0.5601178891248568, 'w7': 0.44532811082253443, 'w8': 0.8691724230532569}. Best is trial 85 with value: 0.6885988116264343.\n"
     ]
    },
    {
     "name": "stdout",
     "output_type": "stream",
     "text": [
      "{'w1': 0.9914907812093491, 'w2': 0.4138407635045376, 'w3': 0.629807490171232, 'w4': 0.2002175007796215, 'w5': 0.7495376149064281, 'w6': 0.5601178891248568, 'w7': 0.44532811082253443, 'w8': 0.8691724230532569, 'threshold': 0.28}\n"
     ]
    },
    {
     "name": "stderr",
     "output_type": "stream",
     "text": [
      "[I 2023-07-04 16:01:02,908] Trial 107 finished with value: 0.6885078549385071 and parameters: {'w1': 0.9990301711810989, 'w2': 0.41980243952207946, 'w3': 0.7552815382940631, 'w4': 0.28849916532425746, 'w5': 0.8179333756693162, 'w6': 0.5201011659122385, 'w7': 0.4302894797592659, 'w8': 0.7811381415436219}. Best is trial 85 with value: 0.6885988116264343.\n"
     ]
    },
    {
     "name": "stdout",
     "output_type": "stream",
     "text": [
      "{'w1': 0.9990301711810989, 'w2': 0.41980243952207946, 'w3': 0.7552815382940631, 'w4': 0.28849916532425746, 'w5': 0.8179333756693162, 'w6': 0.5201011659122385, 'w7': 0.4302894797592659, 'w8': 0.7811381415436219, 'threshold': 0.27}\n"
     ]
    },
    {
     "name": "stderr",
     "output_type": "stream",
     "text": [
      "[I 2023-07-04 16:01:03,314] Trial 108 finished with value: 0.6883689761161804 and parameters: {'w1': 0.9217480805548582, 'w2': 0.4550328833372368, 'w3': 0.6900097135048564, 'w4': 0.1271366119707643, 'w5': 0.7302079718763592, 'w6': 0.500897822327317, 'w7': 0.3725451283042756, 'w8': 0.8955390975185168}. Best is trial 85 with value: 0.6885988116264343.\n"
     ]
    },
    {
     "name": "stdout",
     "output_type": "stream",
     "text": [
      "{'w1': 0.9217480805548582, 'w2': 0.4550328833372368, 'w3': 0.6900097135048564, 'w4': 0.1271366119707643, 'w5': 0.7302079718763592, 'w6': 0.500897822327317, 'w7': 0.3725451283042756, 'w8': 0.8955390975185168, 'threshold': 0.28}\n"
     ]
    },
    {
     "name": "stderr",
     "output_type": "stream",
     "text": [
      "[I 2023-07-04 16:01:03,722] Trial 109 finished with value: 0.6884806156158447 and parameters: {'w1': 0.9564040465412779, 'w2': 0.40240539757168126, 'w3': 0.7256278481001662, 'w4': 0.20848024531769116, 'w5': 0.7954646646277213, 'w6': 0.597055160328443, 'w7': 0.3383517938018859, 'w8': 0.800961079541985}. Best is trial 85 with value: 0.6885988116264343.\n"
     ]
    },
    {
     "name": "stdout",
     "output_type": "stream",
     "text": [
      "{'w1': 0.9564040465412779, 'w2': 0.40240539757168126, 'w3': 0.7256278481001662, 'w4': 0.20848024531769116, 'w5': 0.7954646646277213, 'w6': 0.597055160328443, 'w7': 0.3383517938018859, 'w8': 0.800961079541985, 'threshold': 0.27}\n"
     ]
    },
    {
     "name": "stderr",
     "output_type": "stream",
     "text": [
      "[I 2023-07-04 16:01:04,130] Trial 110 finished with value: 0.6884663701057434 and parameters: {'w1': 0.9285320274734034, 'w2': 0.37453362876986807, 'w3': 0.7525239987295467, 'w4': 0.17063663346139613, 'w5': 0.7492193461916116, 'w6': 0.573182557129623, 'w7': 0.3195388541665463, 'w8': 0.8642465059114457}. Best is trial 85 with value: 0.6885988116264343.\n"
     ]
    },
    {
     "name": "stdout",
     "output_type": "stream",
     "text": [
      "{'w1': 0.9285320274734034, 'w2': 0.37453362876986807, 'w3': 0.7525239987295467, 'w4': 0.17063663346139613, 'w5': 0.7492193461916116, 'w6': 0.573182557129623, 'w7': 0.3195388541665463, 'w8': 0.8642465059114457, 'threshold': 0.27}\n"
     ]
    },
    {
     "name": "stderr",
     "output_type": "stream",
     "text": [
      "[I 2023-07-04 16:01:04,540] Trial 111 finished with value: 0.6885486841201782 and parameters: {'w1': 0.9980794885315776, 'w2': 0.460905073844941, 'w3': 0.7427507079946108, 'w4': 0.21521115608558936, 'w5': 0.7856185626671722, 'w6': 0.5053080585002152, 'w7': 0.41726501857534715, 'w8': 0.8147212051912468}. Best is trial 85 with value: 0.6885988116264343.\n"
     ]
    },
    {
     "name": "stdout",
     "output_type": "stream",
     "text": [
      "{'w1': 0.9980794885315776, 'w2': 0.460905073844941, 'w3': 0.7427507079946108, 'w4': 0.21521115608558936, 'w5': 0.7856185626671722, 'w6': 0.5053080585002152, 'w7': 0.41726501857534715, 'w8': 0.8147212051912468, 'threshold': 0.28}\n"
     ]
    },
    {
     "name": "stderr",
     "output_type": "stream",
     "text": [
      "[I 2023-07-04 16:01:04,950] Trial 112 finished with value: 0.6884839534759521 and parameters: {'w1': 0.985946838258422, 'w2': 0.4726145514171906, 'w3': 0.7363163470400257, 'w4': 0.24474134679397627, 'w5': 0.8456895713424395, 'w6': 0.455019793286441, 'w7': 0.3773645279463075, 'w8': 0.814158273501358}. Best is trial 85 with value: 0.6885988116264343.\n"
     ]
    },
    {
     "name": "stdout",
     "output_type": "stream",
     "text": [
      "{'w1': 0.985946838258422, 'w2': 0.4726145514171906, 'w3': 0.7363163470400257, 'w4': 0.24474134679397627, 'w5': 0.8456895713424395, 'w6': 0.455019793286441, 'w7': 0.3773645279463075, 'w8': 0.814158273501358, 'threshold': 0.27}\n"
     ]
    },
    {
     "name": "stderr",
     "output_type": "stream",
     "text": [
      "[I 2023-07-04 16:01:05,357] Trial 113 finished with value: 0.6885012984275818 and parameters: {'w1': 0.9584502853427541, 'w2': 0.41657618030604904, 'w3': 0.7728333647838377, 'w4': 0.2851808828566425, 'w5': 0.7794374735108145, 'w6': 0.4960396575817163, 'w7': 0.41224851287129655, 'w8': 0.7886138532473461}. Best is trial 85 with value: 0.6885988116264343.\n"
     ]
    },
    {
     "name": "stdout",
     "output_type": "stream",
     "text": [
      "{'w1': 0.9584502853427541, 'w2': 0.41657618030604904, 'w3': 0.7728333647838377, 'w4': 0.2851808828566425, 'w5': 0.7794374735108145, 'w6': 0.4960396575817163, 'w7': 0.41224851287129655, 'w8': 0.7886138532473461, 'threshold': 0.27}\n"
     ]
    },
    {
     "name": "stderr",
     "output_type": "stream",
     "text": [
      "[I 2023-07-04 16:01:05,771] Trial 114 finished with value: 0.6884545087814331 and parameters: {'w1': 0.9985112824387108, 'w2': 0.4496339652796383, 'w3': 0.686606047882925, 'w4': 0.20665509559890122, 'w5': 0.7112669344445965, 'w6': 0.54613665944776, 'w7': 0.44708254331970215, 'w8': 0.8977319260949674}. Best is trial 85 with value: 0.6885988116264343.\n"
     ]
    },
    {
     "name": "stdout",
     "output_type": "stream",
     "text": [
      "{'w1': 0.9985112824387108, 'w2': 0.4496339652796383, 'w3': 0.686606047882925, 'w4': 0.20665509559890122, 'w5': 0.7112669344445965, 'w6': 0.54613665944776, 'w7': 0.44708254331970215, 'w8': 0.8977319260949674, 'threshold': 0.28}\n"
     ]
    },
    {
     "name": "stderr",
     "output_type": "stream",
     "text": [
      "[I 2023-07-04 16:01:06,180] Trial 115 finished with value: 0.6885159015655518 and parameters: {'w1': 0.9129074395824397, 'w2': 0.3956752093378118, 'w3': 0.7261112471449084, 'w4': 0.22368135968853242, 'w5': 0.7520085066989631, 'w6': 0.5146832260625993, 'w7': 0.40547971489449086, 'w8': 0.7749645208994298}. Best is trial 85 with value: 0.6885988116264343.\n"
     ]
    },
    {
     "name": "stdout",
     "output_type": "stream",
     "text": [
      "{'w1': 0.9129074395824397, 'w2': 0.3956752093378118, 'w3': 0.7261112471449084, 'w4': 0.22368135968853242, 'w5': 0.7520085066989631, 'w6': 0.5146832260625993, 'w7': 0.40547971489449086, 'w8': 0.7749645208994298, 'threshold': 0.27}\n"
     ]
    },
    {
     "name": "stderr",
     "output_type": "stream",
     "text": [
      "[I 2023-07-04 16:01:06,586] Trial 116 finished with value: 0.6883410215377808 and parameters: {'w1': 0.9342576888748699, 'w2': 0.356384660714062, 'w3': 0.7571988483607611, 'w4': 0.17655639470378368, 'w5': 0.7895673498304987, 'w6': 0.6211156365152953, 'w7': 0.3760429834191006, 'w8': 0.876469615277117}. Best is trial 85 with value: 0.6885988116264343.\n"
     ]
    },
    {
     "name": "stdout",
     "output_type": "stream",
     "text": [
      "{'w1': 0.9342576888748699, 'w2': 0.356384660714062, 'w3': 0.7571988483607611, 'w4': 0.17655639470378368, 'w5': 0.7895673498304987, 'w6': 0.6211156365152953, 'w7': 0.3760429834191006, 'w8': 0.876469615277117, 'threshold': 0.27}\n"
     ]
    },
    {
     "name": "stderr",
     "output_type": "stream",
     "text": [
      "[I 2023-07-04 16:01:06,997] Trial 117 finished with value: 0.6884374022483826 and parameters: {'w1': 0.976254162599661, 'w2': 0.41048537170967114, 'w3': 0.6520502567797725, 'w4': 0.23618425163137252, 'w5': 0.6876188161814591, 'w6': 0.5944312081844916, 'w7': 0.43400967199628215, 'w8': 0.8458857947156251}. Best is trial 85 with value: 0.6885988116264343.\n"
     ]
    },
    {
     "name": "stdout",
     "output_type": "stream",
     "text": [
      "{'w1': 0.976254162599661, 'w2': 0.41048537170967114, 'w3': 0.6520502567797725, 'w4': 0.23618425163137252, 'w5': 0.6876188161814591, 'w6': 0.5944312081844916, 'w7': 0.43400967199628215, 'w8': 0.8458857947156251, 'threshold': 0.28}\n"
     ]
    },
    {
     "name": "stderr",
     "output_type": "stream",
     "text": [
      "[I 2023-07-04 16:01:07,406] Trial 118 finished with value: 0.6884140968322754 and parameters: {'w1': 0.9539590500317321, 'w2': 0.4701103121766297, 'w3': 0.617773768641092, 'w4': 0.1940580347277391, 'w5': 0.7227454661638388, 'w6': 0.568833974012336, 'w7': 0.3380018714135382, 'w8': 0.9094304655127049}. Best is trial 85 with value: 0.6885988116264343.\n"
     ]
    },
    {
     "name": "stdout",
     "output_type": "stream",
     "text": [
      "{'w1': 0.9539590500317321, 'w2': 0.4701103121766297, 'w3': 0.617773768641092, 'w4': 0.1940580347277391, 'w5': 0.7227454661638388, 'w6': 0.568833974012336, 'w7': 0.3380018714135382, 'w8': 0.9094304655127049, 'threshold': 0.27}\n"
     ]
    },
    {
     "name": "stderr",
     "output_type": "stream",
     "text": [
      "[I 2023-07-04 16:01:07,820] Trial 119 finished with value: 0.6884843111038208 and parameters: {'w1': 0.913737344566865, 'w2': 0.4836037717101525, 'w3': 0.6809801195087741, 'w4': 0.1529766479541248, 'w5': 0.8101313877221884, 'w6': 0.5273244267434913, 'w7': 0.40588708395929257, 'w8': 0.8172074316647833}. Best is trial 85 with value: 0.6885988116264343.\n"
     ]
    },
    {
     "name": "stdout",
     "output_type": "stream",
     "text": [
      "{'w1': 0.913737344566865, 'w2': 0.4836037717101525, 'w3': 0.6809801195087741, 'w4': 0.1529766479541248, 'w5': 0.8101313877221884, 'w6': 0.5273244267434913, 'w7': 0.40588708395929257, 'w8': 0.8172074316647833, 'threshold': 0.27}\n"
     ]
    },
    {
     "name": "stderr",
     "output_type": "stream",
     "text": [
      "[I 2023-07-04 16:01:08,242] Trial 120 finished with value: 0.6884124279022217 and parameters: {'w1': 0.936662836284266, 'w2': 0.44792070999720757, 'w3': 0.7057499195754621, 'w4': 0.30061241808948436, 'w5': 0.7684506049533245, 'w6': 0.45720326028353525, 'w7': 0.2948313907759892, 'w8': 0.9271055584220977}. Best is trial 85 with value: 0.6885988116264343.\n"
     ]
    },
    {
     "name": "stdout",
     "output_type": "stream",
     "text": [
      "{'w1': 0.936662836284266, 'w2': 0.44792070999720757, 'w3': 0.7057499195754621, 'w4': 0.30061241808948436, 'w5': 0.7684506049533245, 'w6': 0.45720326028353525, 'w7': 0.2948313907759892, 'w8': 0.9271055584220977, 'threshold': 0.28}\n"
     ]
    },
    {
     "name": "stderr",
     "output_type": "stream",
     "text": [
      "[I 2023-07-04 16:01:08,652] Trial 121 finished with value: 0.688530683517456 and parameters: {'w1': 0.9898827322333841, 'w2': 0.4611096650043504, 'w3': 0.7467268054990653, 'w4': 0.21475219456793782, 'w5': 0.7361359068081836, 'w6': 0.5003448785134035, 'w7': 0.45376745460335804, 'w8': 0.809059176692908}. Best is trial 85 with value: 0.6885988116264343.\n"
     ]
    },
    {
     "name": "stdout",
     "output_type": "stream",
     "text": [
      "{'w1': 0.9898827322333841, 'w2': 0.4611096650043504, 'w3': 0.7467268054990653, 'w4': 0.21475219456793782, 'w5': 0.7361359068081836, 'w6': 0.5003448785134035, 'w7': 0.45376745460335804, 'w8': 0.809059176692908, 'threshold': 0.28}\n"
     ]
    },
    {
     "name": "stderr",
     "output_type": "stream",
     "text": [
      "[I 2023-07-04 16:01:09,060] Trial 122 finished with value: 0.6884165406227112 and parameters: {'w1': 0.9996031430069687, 'w2': 0.38426799494629665, 'w3': 0.7485384261809112, 'w4': 0.20876339295879467, 'w5': 0.7023829507862155, 'w6': 0.4917675006739331, 'w7': 0.45579423899298355, 'w8': 0.8003676825738565}. Best is trial 85 with value: 0.6885988116264343.\n"
     ]
    },
    {
     "name": "stdout",
     "output_type": "stream",
     "text": [
      "{'w1': 0.9996031430069687, 'w2': 0.38426799494629665, 'w3': 0.7485384261809112, 'w4': 0.20876339295879467, 'w5': 0.7023829507862155, 'w6': 0.4917675006739331, 'w7': 0.45579423899298355, 'w8': 0.8003676825738565, 'threshold': 0.28}\n"
     ]
    },
    {
     "name": "stderr",
     "output_type": "stream",
     "text": [
      "[I 2023-07-04 16:01:09,468] Trial 123 finished with value: 0.6885218620300293 and parameters: {'w1': 0.9792804883205403, 'w2': 0.42145361573666396, 'w3': 0.7761483470316191, 'w4': 0.2416601633517273, 'w5': 0.7431656794647682, 'w6': 0.5497788105506511, 'w7': 0.43062678466946924, 'w8': 0.7605045626205159}. Best is trial 85 with value: 0.6885988116264343.\n"
     ]
    },
    {
     "name": "stdout",
     "output_type": "stream",
     "text": [
      "{'w1': 0.9792804883205403, 'w2': 0.42145361573666396, 'w3': 0.7761483470316191, 'w4': 0.2416601633517273, 'w5': 0.7431656794647682, 'w6': 0.5497788105506511, 'w7': 0.43062678466946924, 'w8': 0.7605045626205159, 'threshold': 0.28}\n"
     ]
    },
    {
     "name": "stderr",
     "output_type": "stream",
     "text": [
      "[I 2023-07-04 16:01:09,876] Trial 124 finished with value: 0.688544511795044 and parameters: {'w1': 0.9590422530388177, 'w2': 0.4862182349351007, 'w3': 0.7227028386062604, 'w4': 0.2755495177629023, 'w5': 0.7204683274309135, 'w6': 0.5163264501423189, 'w7': 0.4568509538980081, 'w8': 0.860560536674551}. Best is trial 85 with value: 0.6885988116264343.\n"
     ]
    },
    {
     "name": "stdout",
     "output_type": "stream",
     "text": [
      "{'w1': 0.9590422530388177, 'w2': 0.4862182349351007, 'w3': 0.7227028386062604, 'w4': 0.2755495177629023, 'w5': 0.7204683274309135, 'w6': 0.5163264501423189, 'w7': 0.4568509538980081, 'w8': 0.860560536674551, 'threshold': 0.27}\n"
     ]
    },
    {
     "name": "stderr",
     "output_type": "stream",
     "text": [
      "[I 2023-07-04 16:01:10,284] Trial 125 finished with value: 0.688551127910614 and parameters: {'w1': 0.9574890382288294, 'w2': 0.49102469187695086, 'w3': 0.7167724391291335, 'w4': 0.28361673044268115, 'w5': 0.718655867081804, 'w6': 0.5330181003661402, 'w7': 0.45113258106075504, 'w8': 0.8602521637751597}. Best is trial 85 with value: 0.6885988116264343.\n"
     ]
    },
    {
     "name": "stdout",
     "output_type": "stream",
     "text": [
      "{'w1': 0.9574890382288294, 'w2': 0.49102469187695086, 'w3': 0.7167724391291335, 'w4': 0.28361673044268115, 'w5': 0.718655867081804, 'w6': 0.5330181003661402, 'w7': 0.45113258106075504, 'w8': 0.8602521637751597, 'threshold': 0.27}\n"
     ]
    },
    {
     "name": "stderr",
     "output_type": "stream",
     "text": [
      "[I 2023-07-04 16:01:10,692] Trial 126 finished with value: 0.688495397567749 and parameters: {'w1': 0.9576483551088644, 'w2': 0.4897655383832786, 'w3': 0.6658987270723651, 'w4': 0.28743698406561075, 'w5': 0.6816445740708215, 'w6': 0.5849348748426477, 'w7': 0.3709092911055601, 'w8': 0.882413148696296}. Best is trial 85 with value: 0.6885988116264343.\n"
     ]
    },
    {
     "name": "stdout",
     "output_type": "stream",
     "text": [
      "{'w1': 0.9576483551088644, 'w2': 0.4897655383832786, 'w3': 0.6658987270723651, 'w4': 0.28743698406561075, 'w5': 0.6816445740708215, 'w6': 0.5849348748426477, 'w7': 0.3709092911055601, 'w8': 0.882413148696296, 'threshold': 0.27}\n"
     ]
    },
    {
     "name": "stderr",
     "output_type": "stream",
     "text": [
      "[I 2023-07-04 16:01:11,099] Trial 127 finished with value: 0.6885465383529663 and parameters: {'w1': 0.9394772558080756, 'w2': 0.44726357303210534, 'w3': 0.7194444401123067, 'w4': 0.27034649113189196, 'w5': 0.7188184743345906, 'w6': 0.5343463375727036, 'w7': 0.39503027823443104, 'w8': 0.8463262645991662}. Best is trial 85 with value: 0.6885988116264343.\n"
     ]
    },
    {
     "name": "stdout",
     "output_type": "stream",
     "text": [
      "{'w1': 0.9394772558080756, 'w2': 0.44726357303210534, 'w3': 0.7194444401123067, 'w4': 0.27034649113189196, 'w5': 0.7188184743345906, 'w6': 0.5343463375727036, 'w7': 0.39503027823443104, 'w8': 0.8463262645991662, 'threshold': 0.27}\n"
     ]
    },
    {
     "name": "stderr",
     "output_type": "stream",
     "text": [
      "[I 2023-07-04 16:01:11,508] Trial 128 finished with value: 0.6885698437690735 and parameters: {'w1': 0.940032578695687, 'w2': 0.4425623287530303, 'w3': 0.7030834027950134, 'w4': 0.2695797864259172, 'w5': 0.7171202279420038, 'w6': 0.5284208706616287, 'w7': 0.386892218749637, 'w8': 0.8689879074557112}. Best is trial 85 with value: 0.6885988116264343.\n"
     ]
    },
    {
     "name": "stdout",
     "output_type": "stream",
     "text": [
      "{'w1': 0.940032578695687, 'w2': 0.4425623287530303, 'w3': 0.7030834027950134, 'w4': 0.2695797864259172, 'w5': 0.7171202279420038, 'w6': 0.5284208706616287, 'w7': 0.386892218749637, 'w8': 0.8689879074557112, 'threshold': 0.27}\n"
     ]
    },
    {
     "name": "stderr",
     "output_type": "stream",
     "text": [
      "[I 2023-07-04 16:01:11,916] Trial 129 finished with value: 0.6885221600532532 and parameters: {'w1': 0.9360038540633985, 'w2': 0.48504396477427025, 'w3': 0.698812399497138, 'w4': 0.2792162914934207, 'w5': 0.715354818908917, 'w6': 0.5294150187974662, 'w7': 0.35558126278807045, 'w8': 0.8510612703902011}. Best is trial 85 with value: 0.6885988116264343.\n"
     ]
    },
    {
     "name": "stdout",
     "output_type": "stream",
     "text": [
      "{'w1': 0.9360038540633985, 'w2': 0.48504396477427025, 'w3': 0.698812399497138, 'w4': 0.2792162914934207, 'w5': 0.715354818908917, 'w6': 0.5294150187974662, 'w7': 0.35558126278807045, 'w8': 0.8510612703902011, 'threshold': 0.28}\n"
     ]
    },
    {
     "name": "stderr",
     "output_type": "stream",
     "text": [
      "[I 2023-07-04 16:01:12,324] Trial 130 finished with value: 0.688384473323822 and parameters: {'w1': 0.9089540215734601, 'w2': 0.505722014680463, 'w3': 0.6461625061992889, 'w4': 0.3092981235881717, 'w5': 0.6818848515381493, 'w6': 0.5541856254344776, 'w7': 0.4420524387610209, 'w8': 0.863539090734324}. Best is trial 85 with value: 0.6885988116264343.\n"
     ]
    },
    {
     "name": "stdout",
     "output_type": "stream",
     "text": [
      "{'w1': 0.9089540215734601, 'w2': 0.505722014680463, 'w3': 0.6461625061992889, 'w4': 0.3092981235881717, 'w5': 0.6818848515381493, 'w6': 0.5541856254344776, 'w7': 0.4420524387610209, 'w8': 0.863539090734324, 'threshold': 0.27}\n"
     ]
    },
    {
     "name": "stderr",
     "output_type": "stream",
     "text": [
      "[I 2023-07-04 16:01:12,731] Trial 131 finished with value: 0.6885313391685486 and parameters: {'w1': 0.9582422979039541, 'w2': 0.4474646382475172, 'w3': 0.7142600666750835, 'w4': 0.25516830793812006, 'w5': 0.7836580025581239, 'w6': 0.4631302110108817, 'w7': 0.3832253779615084, 'w8': 0.8410503060463641}. Best is trial 85 with value: 0.6885988116264343.\n"
     ]
    },
    {
     "name": "stdout",
     "output_type": "stream",
     "text": [
      "{'w1': 0.9582422979039541, 'w2': 0.4474646382475172, 'w3': 0.7142600666750835, 'w4': 0.25516830793812006, 'w5': 0.7836580025581239, 'w6': 0.4631302110108817, 'w7': 0.3832253779615084, 'w8': 0.8410503060463641, 'threshold': 0.28}\n"
     ]
    },
    {
     "name": "stderr",
     "output_type": "stream",
     "text": [
      "[I 2023-07-04 16:01:13,138] Trial 132 finished with value: 0.6884076595306396 and parameters: {'w1': 0.9372086746318709, 'w2': 0.4422720467797045, 'w3': 0.6828602314750626, 'w4': 0.2719011455922972, 'w5': 0.717849522084825, 'w6': 0.5226524072092997, 'w7': 0.4564493741229391, 'w8': 0.9373541698128662}. Best is trial 85 with value: 0.6885988116264343.\n"
     ]
    },
    {
     "name": "stdout",
     "output_type": "stream",
     "text": [
      "{'w1': 0.9372086746318709, 'w2': 0.4422720467797045, 'w3': 0.6828602314750626, 'w4': 0.2719011455922972, 'w5': 0.717849522084825, 'w6': 0.5226524072092997, 'w7': 0.4564493741229391, 'w8': 0.9373541698128662, 'threshold': 0.26}\n"
     ]
    },
    {
     "name": "stderr",
     "output_type": "stream",
     "text": [
      "[I 2023-07-04 16:01:13,546] Trial 133 finished with value: 0.6885389089584351 and parameters: {'w1': 0.9089790308583117, 'w2': 0.47292683141561115, 'w3': 0.7185314191382595, 'w4': 0.24677002117368618, 'w5': 0.695742711129869, 'w6': 0.43837733774199733, 'w7': 0.3964671163044811, 'w8': 0.781254535989532}. Best is trial 85 with value: 0.6885988116264343.\n"
     ]
    },
    {
     "name": "stdout",
     "output_type": "stream",
     "text": [
      "{'w1': 0.9089790308583117, 'w2': 0.47292683141561115, 'w3': 0.7185314191382595, 'w4': 0.24677002117368618, 'w5': 0.695742711129869, 'w6': 0.43837733774199733, 'w7': 0.3964671163044811, 'w8': 0.781254535989532, 'threshold': 0.28}\n"
     ]
    },
    {
     "name": "stderr",
     "output_type": "stream",
     "text": [
      "[I 2023-07-04 16:01:13,955] Trial 134 finished with value: 0.6885586380958557 and parameters: {'w1': 0.9061847115417971, 'w2': 0.4801870541622314, 'w3': 0.6092188390982162, 'w4': 0.2983560092058591, 'w5': 0.690700285522886, 'w6': 0.429641875672769, 'w7': 0.39864930207193605, 'w8': 0.7810304316140023}. Best is trial 85 with value: 0.6885988116264343.\n"
     ]
    },
    {
     "name": "stdout",
     "output_type": "stream",
     "text": [
      "{'w1': 0.9061847115417971, 'w2': 0.4801870541622314, 'w3': 0.6092188390982162, 'w4': 0.2983560092058591, 'w5': 0.690700285522886, 'w6': 0.429641875672769, 'w7': 0.39864930207193605, 'w8': 0.7810304316140023, 'threshold': 0.28}\n"
     ]
    },
    {
     "name": "stderr",
     "output_type": "stream",
     "text": [
      "[I 2023-07-04 16:01:14,362] Trial 135 finished with value: 0.6885804533958435 and parameters: {'w1': 0.8769663019067662, 'w2': 0.4790422869184282, 'w3': 0.6701781610982804, 'w4': 0.2963642705991976, 'w5': 0.6958325034365421, 'w6': 0.43906306009040974, 'w7': 0.40130842065471234, 'w8': 0.7665738728262106}. Best is trial 85 with value: 0.6885988116264343.\n"
     ]
    },
    {
     "name": "stdout",
     "output_type": "stream",
     "text": [
      "{'w1': 0.8769663019067662, 'w2': 0.4790422869184282, 'w3': 0.6701781610982804, 'w4': 0.2963642705991976, 'w5': 0.6958325034365421, 'w6': 0.43906306009040974, 'w7': 0.40130842065471234, 'w8': 0.7665738728262106, 'threshold': 0.28}\n"
     ]
    },
    {
     "name": "stderr",
     "output_type": "stream",
     "text": [
      "[I 2023-07-04 16:01:14,769] Trial 136 finished with value: 0.688511848449707 and parameters: {'w1': 0.8756042078594365, 'w2': 0.4810025278716297, 'w3': 0.6082596876553362, 'w4': 0.3061740241527918, 'w5': 0.6936884480818004, 'w6': 0.443950569297575, 'w7': 0.3677383699740832, 'w8': 0.7782771134849447}. Best is trial 85 with value: 0.6885988116264343.\n"
     ]
    },
    {
     "name": "stdout",
     "output_type": "stream",
     "text": [
      "{'w1': 0.8756042078594365, 'w2': 0.4810025278716297, 'w3': 0.6082596876553362, 'w4': 0.3061740241527918, 'w5': 0.6936884480818004, 'w6': 0.443950569297575, 'w7': 0.3677383699740832, 'w8': 0.7782771134849447, 'threshold': 0.28}\n"
     ]
    },
    {
     "name": "stderr",
     "output_type": "stream",
     "text": [
      "[I 2023-07-04 16:01:15,177] Trial 137 finished with value: 0.6884960532188416 and parameters: {'w1': 0.9054388771609516, 'w2': 0.5031736471437176, 'w3': 0.6604019256417133, 'w4': 0.2854120427932981, 'w5': 0.6712013659657785, 'w6': 0.392185115694008, 'w7': 0.3954851264278518, 'w8': 0.7633932266793134}. Best is trial 85 with value: 0.6885988116264343.\n"
     ]
    },
    {
     "name": "stdout",
     "output_type": "stream",
     "text": [
      "{'w1': 0.9054388771609516, 'w2': 0.5031736471437176, 'w3': 0.6604019256417133, 'w4': 0.2854120427932981, 'w5': 0.6712013659657785, 'w6': 0.392185115694008, 'w7': 0.3954851264278518, 'w8': 0.7633932266793134, 'threshold': 0.28}\n"
     ]
    },
    {
     "name": "stderr",
     "output_type": "stream",
     "text": [
      "[I 2023-07-04 16:01:15,584] Trial 138 finished with value: 0.6885173320770264 and parameters: {'w1': 0.8768759113293959, 'w2': 0.4752645399532244, 'w3': 0.6428126317461206, 'w4': 0.2703753812293449, 'w5': 0.7013409180885967, 'w6': 0.4414080593577263, 'w7': 0.34865351328651484, 'w8': 0.7840336216749472}. Best is trial 85 with value: 0.6885988116264343.\n"
     ]
    },
    {
     "name": "stdout",
     "output_type": "stream",
     "text": [
      "{'w1': 0.8768759113293959, 'w2': 0.4752645399532244, 'w3': 0.6428126317461206, 'w4': 0.2703753812293449, 'w5': 0.7013409180885967, 'w6': 0.4414080593577263, 'w7': 0.34865351328651484, 'w8': 0.7840336216749472, 'threshold': 0.28}\n"
     ]
    },
    {
     "name": "stderr",
     "output_type": "stream",
     "text": [
      "[I 2023-07-04 16:01:15,992] Trial 139 finished with value: 0.6884074211120605 and parameters: {'w1': 0.9095324363538284, 'w2': 0.49835328426623665, 'w3': 0.5908939443241883, 'w4': 0.3039674441007375, 'w5': 0.672029663149851, 'w6': 0.42831515326723424, 'w7': 0.49618070223632793, 'w8': 0.8599849223252243}. Best is trial 85 with value: 0.6885988116264343.\n"
     ]
    },
    {
     "name": "stdout",
     "output_type": "stream",
     "text": [
      "{'w1': 0.9095324363538284, 'w2': 0.49835328426623665, 'w3': 0.5908939443241883, 'w4': 0.3039674441007375, 'w5': 0.672029663149851, 'w6': 0.42831515326723424, 'w7': 0.49618070223632793, 'w8': 0.8599849223252243, 'threshold': 0.27}\n"
     ]
    },
    {
     "name": "stderr",
     "output_type": "stream",
     "text": [
      "[I 2023-07-04 16:01:16,399] Trial 140 finished with value: 0.6884550452232361 and parameters: {'w1': 0.9288682912512366, 'w2': 0.4640812271120174, 'w3': 0.673817281087809, 'w4': 0.34218501372680443, 'w5': 0.7119558644794589, 'w6': 0.5470743217723608, 'w7': 0.3384178268046659, 'w8': 0.9019156172010383}. Best is trial 85 with value: 0.6885988116264343.\n"
     ]
    },
    {
     "name": "stdout",
     "output_type": "stream",
     "text": [
      "{'w1': 0.9288682912512366, 'w2': 0.4640812271120174, 'w3': 0.673817281087809, 'w4': 0.34218501372680443, 'w5': 0.7119558644794589, 'w6': 0.5470743217723608, 'w7': 0.3384178268046659, 'w8': 0.9019156172010383, 'threshold': 0.27}\n"
     ]
    },
    {
     "name": "stderr",
     "output_type": "stream",
     "text": [
      "[I 2023-07-04 16:01:16,806] Trial 141 finished with value: 0.6885731816291809 and parameters: {'w1': 0.9521514572841118, 'w2': 0.4581585857819105, 'w3': 0.7051379033601965, 'w4': 0.24257147798594858, 'w5': 0.7247771855623776, 'w6': 0.47960935158947493, 'w7': 0.4029145407080409, 'w8': 0.8374332357930254}. Best is trial 85 with value: 0.6885988116264343.\n"
     ]
    },
    {
     "name": "stdout",
     "output_type": "stream",
     "text": [
      "{'w1': 0.9521514572841118, 'w2': 0.4581585857819105, 'w3': 0.7051379033601965, 'w4': 0.24257147798594858, 'w5': 0.7247771855623776, 'w6': 0.47960935158947493, 'w7': 0.4029145407080409, 'w8': 0.8374332357930254, 'threshold': 0.28}\n"
     ]
    },
    {
     "name": "stderr",
     "output_type": "stream",
     "text": [
      "[I 2023-07-04 16:01:17,213] Trial 142 finished with value: 0.6884769797325134 and parameters: {'w1': 0.9426945122473654, 'w2': 0.43497037655966475, 'w3': 0.6988303022508031, 'w4': 0.2439981058470127, 'w5': 0.7237910505302257, 'w6': 0.458036578386286, 'w7': 0.38531405390414014, 'w8': 0.8832071071547427}. Best is trial 85 with value: 0.6885988116264343.\n"
     ]
    },
    {
     "name": "stdout",
     "output_type": "stream",
     "text": [
      "{'w1': 0.9426945122473654, 'w2': 0.43497037655966475, 'w3': 0.6988303022508031, 'w4': 0.2439981058470127, 'w5': 0.7237910505302257, 'w6': 0.458036578386286, 'w7': 0.38531405390414014, 'w8': 0.8832071071547427, 'threshold': 0.27}\n"
     ]
    },
    {
     "name": "stderr",
     "output_type": "stream",
     "text": [
      "[I 2023-07-04 16:01:17,621] Trial 143 finished with value: 0.6884368062019348 and parameters: {'w1': 0.8958690137832114, 'w2': 0.5086392580524992, 'w3': 0.6650453488571221, 'w4': 0.2746589037758871, 'w5': 0.6919259031459891, 'w6': 0.5194929549253553, 'w7': 0.4296674490253253, 'w8': 0.8311386061605354}. Best is trial 85 with value: 0.6885988116264343.\n"
     ]
    },
    {
     "name": "stdout",
     "output_type": "stream",
     "text": [
      "{'w1': 0.8958690137832114, 'w2': 0.5086392580524992, 'w3': 0.6650453488571221, 'w4': 0.2746589037758871, 'w5': 0.6919259031459891, 'w6': 0.5194929549253553, 'w7': 0.4296674490253253, 'w8': 0.8311386061605354, 'threshold': 0.27}\n"
     ]
    },
    {
     "name": "stderr",
     "output_type": "stream",
     "text": [
      "[I 2023-07-04 16:01:18,030] Trial 144 finished with value: 0.6885924935340881 and parameters: {'w1': 0.9496760892006086, 'w2': 0.4826354874372711, 'w3': 0.6284692869666807, 'w4': 0.2588031008222285, 'w5': 0.6982625003428848, 'w6': 0.5110267709222261, 'w7': 0.4630259904221915, 'w8': 0.7541226178292253}. Best is trial 85 with value: 0.6885988116264343.\n"
     ]
    },
    {
     "name": "stdout",
     "output_type": "stream",
     "text": [
      "{'w1': 0.9496760892006086, 'w2': 0.4826354874372711, 'w3': 0.6284692869666807, 'w4': 0.2588031008222285, 'w5': 0.6982625003428848, 'w6': 0.5110267709222261, 'w7': 0.4630259904221915, 'w8': 0.7541226178292253, 'threshold': 0.28}\n"
     ]
    },
    {
     "name": "stderr",
     "output_type": "stream",
     "text": [
      "[I 2023-07-04 16:01:18,438] Trial 145 finished with value: 0.6885455846786499 and parameters: {'w1': 0.9511278782195826, 'w2': 0.3971569766106606, 'w3': 0.6293683274956315, 'w4': 0.28784046401097385, 'w5': 0.6749947349853883, 'w6': 0.48719584075523814, 'w7': 0.4454226288004334, 'w8': 0.7583279035787012}. Best is trial 85 with value: 0.6885988116264343.\n"
     ]
    },
    {
     "name": "stdout",
     "output_type": "stream",
     "text": [
      "{'w1': 0.9511278782195826, 'w2': 0.3971569766106606, 'w3': 0.6293683274956315, 'w4': 0.28784046401097385, 'w5': 0.6749947349853883, 'w6': 0.48719584075523814, 'w7': 0.4454226288004334, 'w8': 0.7583279035787012, 'threshold': 0.27}\n"
     ]
    },
    {
     "name": "stderr",
     "output_type": "stream",
     "text": [
      "[I 2023-07-04 16:01:18,848] Trial 146 finished with value: 0.6883531808853149 and parameters: {'w1': 0.9501119144569244, 'w2': 0.38283539619219265, 'w3': 0.6258699884476451, 'w4': 0.29316132265651235, 'w5': 0.6669602229988478, 'w6': 0.48328548538837535, 'w7': 0.46180893246601684, 'w8': 0.9485101443875369}. Best is trial 85 with value: 0.6885988116264343.\n"
     ]
    },
    {
     "name": "stdout",
     "output_type": "stream",
     "text": [
      "{'w1': 0.9501119144569244, 'w2': 0.38283539619219265, 'w3': 0.6258699884476451, 'w4': 0.29316132265651235, 'w5': 0.6669602229988478, 'w6': 0.48328548538837535, 'w7': 0.46180893246601684, 'w8': 0.9485101443875369, 'threshold': 0.26}\n"
     ]
    },
    {
     "name": "stderr",
     "output_type": "stream",
     "text": [
      "[I 2023-07-04 16:01:19,256] Trial 147 finished with value: 0.6884739398956299 and parameters: {'w1': 0.9297971833011968, 'w2': 0.48551762164985407, 'w3': 0.5902607632169924, 'w4': 0.31365748920379755, 'w5': 0.642103242086791, 'w6': 0.5434768892875717, 'w7': 0.4716905510474608, 'w8': 0.7654212755378504}. Best is trial 85 with value: 0.6885988116264343.\n"
     ]
    },
    {
     "name": "stdout",
     "output_type": "stream",
     "text": [
      "{'w1': 0.9297971833011968, 'w2': 0.48551762164985407, 'w3': 0.5902607632169924, 'w4': 0.31365748920379755, 'w5': 0.642103242086791, 'w6': 0.5434768892875717, 'w7': 0.4716905510474608, 'w8': 0.7654212755378504, 'threshold': 0.28}\n"
     ]
    },
    {
     "name": "stderr",
     "output_type": "stream",
     "text": [
      "[I 2023-07-04 16:01:19,665] Trial 148 finished with value: 0.688543975353241 and parameters: {'w1': 0.9659702641693965, 'w2': 0.45940111665122535, 'w3': 0.5533351285199484, 'w4': 0.2657263507811081, 'w5': 0.7154436486546584, 'w6': 0.5595261638894614, 'w7': 0.44825448668440604, 'w8': 0.7528076547709547}. Best is trial 85 with value: 0.6885988116264343.\n"
     ]
    },
    {
     "name": "stdout",
     "output_type": "stream",
     "text": [
      "{'w1': 0.9659702641693965, 'w2': 0.45940111665122535, 'w3': 0.5533351285199484, 'w4': 0.2657263507811081, 'w5': 0.7154436486546584, 'w6': 0.5595261638894614, 'w7': 0.44825448668440604, 'w8': 0.7528076547709547, 'threshold': 0.28}\n"
     ]
    },
    {
     "name": "stderr",
     "output_type": "stream",
     "text": [
      "[I 2023-07-04 16:01:20,073] Trial 149 finished with value: 0.6882187128067017 and parameters: {'w1': 0.8537318614036624, 'w2': 0.4381262731994894, 'w3': 0.6414854677227466, 'w4': 0.3469808230040572, 'w5': 0.7658416671792577, 'w6': 0.5314750594642689, 'w7': 0.49534496597234606, 'w8': 0.9155266359367201}. Best is trial 85 with value: 0.6885988116264343.\n"
     ]
    },
    {
     "name": "stdout",
     "output_type": "stream",
     "text": [
      "{'w1': 0.8537318614036624, 'w2': 0.4381262731994894, 'w3': 0.6414854677227466, 'w4': 0.3469808230040572, 'w5': 0.7658416671792577, 'w6': 0.5314750594642689, 'w7': 0.49534496597234606, 'w8': 0.9155266359367201, 'threshold': 0.26}\n"
     ]
    },
    {
     "name": "stderr",
     "output_type": "stream",
     "text": [
      "[I 2023-07-04 16:01:20,480] Trial 150 finished with value: 0.688452422618866 and parameters: {'w1': 0.8827804601411715, 'w2': 0.39581263991887744, 'w3': 0.6182688921384005, 'w4': 0.2903958741370431, 'w5': 0.6676595436984126, 'w6': 0.4631031763614618, 'w7': 0.43551857944612843, 'w8': 0.8569784102569499}. Best is trial 85 with value: 0.6885988116264343.\n"
     ]
    },
    {
     "name": "stdout",
     "output_type": "stream",
     "text": [
      "{'w1': 0.8827804601411715, 'w2': 0.39581263991887744, 'w3': 0.6182688921384005, 'w4': 0.2903958741370431, 'w5': 0.6676595436984126, 'w6': 0.4631031763614618, 'w7': 0.43551857944612843, 'w8': 0.8569784102569499, 'threshold': 0.27}\n"
     ]
    },
    {
     "name": "stderr",
     "output_type": "stream",
     "text": [
      "[I 2023-07-04 16:01:20,887] Trial 151 finished with value: 0.688471257686615 and parameters: {'w1': 0.9676436339355252, 'w2': 0.4622686663241626, 'w3': 0.5985124064242398, 'w4': 0.2620049821827401, 'w5': 0.7190895887133022, 'w6': 0.6097442104218975, 'w7': 0.46199548274786745, 'w8': 0.7528479422031745}. Best is trial 85 with value: 0.6885988116264343.\n"
     ]
    },
    {
     "name": "stdout",
     "output_type": "stream",
     "text": [
      "{'w1': 0.9676436339355252, 'w2': 0.4622686663241626, 'w3': 0.5985124064242398, 'w4': 0.2620049821827401, 'w5': 0.7190895887133022, 'w6': 0.6097442104218975, 'w7': 0.46199548274786745, 'w8': 0.7528479422031745, 'threshold': 0.28}\n"
     ]
    },
    {
     "name": "stderr",
     "output_type": "stream",
     "text": [
      "[I 2023-07-04 16:01:21,298] Trial 152 finished with value: 0.6885424256324768 and parameters: {'w1': 0.9521662425408214, 'w2': 0.45506200099598015, 'w3': 0.6575779395537173, 'w4': 0.2292060330065795, 'w5': 0.6967080504043415, 'w6': 0.5629000177046393, 'w7': 0.4480178243762338, 'w8': 0.7464571193083156}. Best is trial 85 with value: 0.6885988116264343.\n"
     ]
    },
    {
     "name": "stdout",
     "output_type": "stream",
     "text": [
      "{'w1': 0.9521662425408214, 'w2': 0.45506200099598015, 'w3': 0.6575779395537173, 'w4': 0.2292060330065795, 'w5': 0.6967080504043415, 'w6': 0.5629000177046393, 'w7': 0.4480178243762338, 'w8': 0.7464571193083156, 'threshold': 0.27}\n"
     ]
    },
    {
     "name": "stderr",
     "output_type": "stream",
     "text": [
      "[I 2023-07-04 16:01:21,707] Trial 153 finished with value: 0.688452422618866 and parameters: {'w1': 0.9695292558815775, 'w2': 0.49206070240220395, 'w3': 0.5721335726014173, 'w4': 0.2603496770215556, 'w5': 0.7254252198013993, 'w6': 0.6371336827771756, 'w7': 0.4064265859729992, 'w8': 0.7191234815411316}. Best is trial 85 with value: 0.6885988116264343.\n"
     ]
    },
    {
     "name": "stdout",
     "output_type": "stream",
     "text": [
      "{'w1': 0.9695292558815775, 'w2': 0.49206070240220395, 'w3': 0.5721335726014173, 'w4': 0.2603496770215556, 'w5': 0.7254252198013993, 'w6': 0.6371336827771756, 'w7': 0.4064265859729992, 'w8': 0.7191234815411316, 'threshold': 0.28}\n"
     ]
    },
    {
     "name": "stderr",
     "output_type": "stream",
     "text": [
      "[I 2023-07-04 16:01:22,115] Trial 154 finished with value: 0.6884022951126099 and parameters: {'w1': 0.9228094034497912, 'w2': 0.5123651744106438, 'w3': 0.532024228034803, 'w4': 0.2723772999110527, 'w5': 0.7928852956583691, 'w6': 0.49027093927848475, 'w7': 0.37006967930816487, 'w8': 0.781922589897691}. Best is trial 85 with value: 0.6885988116264343.\n"
     ]
    },
    {
     "name": "stdout",
     "output_type": "stream",
     "text": [
      "{'w1': 0.9228094034497912, 'w2': 0.5123651744106438, 'w3': 0.532024228034803, 'w4': 0.2723772999110527, 'w5': 0.7928852956583691, 'w6': 0.49027093927848475, 'w7': 0.37006967930816487, 'w8': 0.781922589897691, 'threshold': 0.27}\n"
     ]
    },
    {
     "name": "stderr",
     "output_type": "stream",
     "text": [
      "[I 2023-07-04 16:01:22,523] Trial 155 finished with value: 0.6883845925331116 and parameters: {'w1': 0.9417835748357272, 'w2': 0.4407126391622995, 'w3': 0.6295416414991851, 'w4': 0.1841992578365521, 'w5': 0.6784446597256216, 'w6': 0.5060972562543016, 'w7': 0.48276022614294106, 'w8': 0.8268894542139354}. Best is trial 85 with value: 0.6885988116264343.\n"
     ]
    },
    {
     "name": "stdout",
     "output_type": "stream",
     "text": [
      "{'w1': 0.9417835748357272, 'w2': 0.4407126391622995, 'w3': 0.6295416414991851, 'w4': 0.1841992578365521, 'w5': 0.6784446597256216, 'w6': 0.5060972562543016, 'w7': 0.48276022614294106, 'w8': 0.8268894542139354, 'threshold': 0.27}\n"
     ]
    },
    {
     "name": "stderr",
     "output_type": "stream",
     "text": [
      "[I 2023-07-04 16:01:22,930] Trial 156 finished with value: 0.6885762810707092 and parameters: {'w1': 0.9727387264008354, 'w2': 0.4699770426375472, 'w3': 0.6816278567352215, 'w4': 0.3157026600876568, 'w5': 0.7693118837888363, 'w6': 0.5344153375346398, 'w7': 0.42297982093996656, 'w8': 0.7625241655600917}. Best is trial 85 with value: 0.6885988116264343.\n"
     ]
    },
    {
     "name": "stdout",
     "output_type": "stream",
     "text": [
      "{'w1': 0.9727387264008354, 'w2': 0.4699770426375472, 'w3': 0.6816278567352215, 'w4': 0.3157026600876568, 'w5': 0.7693118837888363, 'w6': 0.5344153375346398, 'w7': 0.42297982093996656, 'w8': 0.7625241655600917, 'threshold': 0.28}\n"
     ]
    },
    {
     "name": "stderr",
     "output_type": "stream",
     "text": [
      "[I 2023-07-04 16:01:23,338] Trial 157 finished with value: 0.6885514855384827 and parameters: {'w1': 0.975891609985198, 'w2': 0.40322074240688965, 'w3': 0.6824391802414923, 'w4': 0.3200876323254165, 'w5': 0.7710552840695497, 'w6': 0.5193792579780686, 'w7': 0.41915636077445534, 'w8': 0.7918369110279215}. Best is trial 85 with value: 0.6885988116264343.\n"
     ]
    },
    {
     "name": "stdout",
     "output_type": "stream",
     "text": [
      "{'w1': 0.975891609985198, 'w2': 0.40322074240688965, 'w3': 0.6824391802414923, 'w4': 0.3200876323254165, 'w5': 0.7710552840695497, 'w6': 0.5193792579780686, 'w7': 0.41915636077445534, 'w8': 0.7918369110279215, 'threshold': 0.27}\n"
     ]
    },
    {
     "name": "stderr",
     "output_type": "stream",
     "text": [
      "[I 2023-07-04 16:01:23,746] Trial 158 finished with value: 0.6884686946868896 and parameters: {'w1': 0.9754754175110373, 'w2': 0.3594620290951298, 'w3': 0.6764969514231362, 'w4': 0.31369596513883014, 'w5': 0.7677151527351027, 'w6': 0.48172019676027045, 'w7': 0.4200279310400435, 'w8': 0.7925708090473255}. Best is trial 85 with value: 0.6885988116264343.\n"
     ]
    },
    {
     "name": "stdout",
     "output_type": "stream",
     "text": [
      "{'w1': 0.9754754175110373, 'w2': 0.3594620290951298, 'w3': 0.6764969514231362, 'w4': 0.31369596513883014, 'w5': 0.7677151527351027, 'w6': 0.48172019676027045, 'w7': 0.4200279310400435, 'w8': 0.7925708090473255, 'threshold': 0.27}\n"
     ]
    },
    {
     "name": "stderr",
     "output_type": "stream",
     "text": [
      "[I 2023-07-04 16:01:24,154] Trial 159 finished with value: 0.6880705952644348 and parameters: {'w1': 0.7008891365682443, 'w2': 0.3988205843756258, 'w3': 0.693024858710499, 'w4': 0.337473480956991, 'w5': 0.8134490403939109, 'w6': 0.5369278795660667, 'w7': 0.3811327105032539, 'w8': 0.7114628976433395}. Best is trial 85 with value: 0.6885988116264343.\n"
     ]
    },
    {
     "name": "stdout",
     "output_type": "stream",
     "text": [
      "{'w1': 0.7008891365682443, 'w2': 0.3988205843756258, 'w3': 0.693024858710499, 'w4': 0.337473480956991, 'w5': 0.8134490403939109, 'w6': 0.5369278795660667, 'w7': 0.3811327105032539, 'w8': 0.7114628976433395, 'threshold': 0.26}\n"
     ]
    },
    {
     "name": "stderr",
     "output_type": "stream",
     "text": [
      "[I 2023-07-04 16:01:24,565] Trial 160 finished with value: 0.6885423064231873 and parameters: {'w1': 0.9285275044474335, 'w2': 0.4180602242909836, 'w3': 0.6368844544758476, 'w4': 0.2339227414162895, 'w5': 0.7717141158418737, 'w6': 0.46032178749409436, 'w7': 0.40390130096122, 'w8': 0.7605591342398641}. Best is trial 85 with value: 0.6885988116264343.\n"
     ]
    },
    {
     "name": "stdout",
     "output_type": "stream",
     "text": [
      "{'w1': 0.9285275044474335, 'w2': 0.4180602242909836, 'w3': 0.6368844544758476, 'w4': 0.2339227414162895, 'w5': 0.7717141158418737, 'w6': 0.46032178749409436, 'w7': 0.40390130096122, 'w8': 0.7605591342398641, 'threshold': 0.27}\n"
     ]
    },
    {
     "name": "stderr",
     "output_type": "stream",
     "text": [
      "[I 2023-07-04 16:01:24,973] Trial 161 finished with value: 0.688579261302948 and parameters: {'w1': 0.9508399440160239, 'w2': 0.4831142010638103, 'w3': 0.7133171926894013, 'w4': 0.2885395583427346, 'w5': 0.7313934160365332, 'w6': 0.5168301997521689, 'w7': 0.4273284802969351, 'w8': 0.827532162269469}. Best is trial 85 with value: 0.6885988116264343.\n"
     ]
    },
    {
     "name": "stdout",
     "output_type": "stream",
     "text": [
      "{'w1': 0.9508399440160239, 'w2': 0.4831142010638103, 'w3': 0.7133171926894013, 'w4': 0.2885395583427346, 'w5': 0.7313934160365332, 'w6': 0.5168301997521689, 'w7': 0.4273284802969351, 'w8': 0.827532162269469, 'threshold': 0.27}\n"
     ]
    },
    {
     "name": "stderr",
     "output_type": "stream",
     "text": [
      "[I 2023-07-04 16:01:25,383] Trial 162 finished with value: 0.6885702610015869 and parameters: {'w1': 0.9764575866846663, 'w2': 0.47132266009989504, 'w3': 0.6992290115934631, 'w4': 0.3146974556957884, 'w5': 0.7879585094464097, 'w6': 0.5167386397232505, 'w7': 0.425154620042896, 'w8': 0.8284135916256201}. Best is trial 85 with value: 0.6885988116264343.\n"
     ]
    },
    {
     "name": "stdout",
     "output_type": "stream",
     "text": [
      "{'w1': 0.9764575866846663, 'w2': 0.47132266009989504, 'w3': 0.6992290115934631, 'w4': 0.3146974556957884, 'w5': 0.7879585094464097, 'w6': 0.5167386397232505, 'w7': 0.425154620042896, 'w8': 0.8284135916256201, 'threshold': 0.28}\n"
     ]
    },
    {
     "name": "stderr",
     "output_type": "stream",
     "text": [
      "[I 2023-07-04 16:01:25,791] Trial 163 finished with value: 0.6884901523590088 and parameters: {'w1': 0.9475978040147907, 'w2': 0.4321574018794922, 'w3': 0.6983867091687829, 'w4': 0.302245820236702, 'w5': 0.8033524869978991, 'w6': 0.5158754234698887, 'w7': 0.41999336519154146, 'w8': 0.801460701448925}. Best is trial 85 with value: 0.6885988116264343.\n"
     ]
    },
    {
     "name": "stdout",
     "output_type": "stream",
     "text": [
      "{'w1': 0.9475978040147907, 'w2': 0.4321574018794922, 'w3': 0.6983867091687829, 'w4': 0.302245820236702, 'w5': 0.8033524869978991, 'w6': 0.5158754234698887, 'w7': 0.41999336519154146, 'w8': 0.801460701448925, 'threshold': 0.27}\n"
     ]
    },
    {
     "name": "stderr",
     "output_type": "stream",
     "text": [
      "[I 2023-07-04 16:01:26,200] Trial 164 finished with value: 0.6883887648582458 and parameters: {'w1': 0.9022033932873241, 'w2': 0.5112518821889643, 'w3': 0.6625158324606083, 'w4': 0.32643962495783524, 'w5': 0.837835973182556, 'w6': 0.48887828315872944, 'w7': 0.3523512209091192, 'w8': 0.8342309240918091}. Best is trial 85 with value: 0.6885988116264343.\n"
     ]
    },
    {
     "name": "stdout",
     "output_type": "stream",
     "text": [
      "{'w1': 0.9022033932873241, 'w2': 0.5112518821889643, 'w3': 0.6625158324606083, 'w4': 0.32643962495783524, 'w5': 0.837835973182556, 'w6': 0.48887828315872944, 'w7': 0.3523512209091192, 'w8': 0.8342309240918091, 'threshold': 0.28}\n"
     ]
    },
    {
     "name": "stderr",
     "output_type": "stream",
     "text": [
      "[I 2023-07-04 16:01:26,608] Trial 165 finished with value: 0.6879655122756958 and parameters: {'w1': 0.76188147465141, 'w2': 0.37245181728484933, 'w3': 0.6073524227483151, 'w4': 0.373524864671194, 'w5': 0.7588373924984704, 'w6': 0.5292328754183674, 'w7': 0.38609069777188276, 'w8': 0.8812993353725213}. Best is trial 85 with value: 0.6885988116264343.\n"
     ]
    },
    {
     "name": "stdout",
     "output_type": "stream",
     "text": [
      "{'w1': 0.76188147465141, 'w2': 0.37245181728484933, 'w3': 0.6073524227483151, 'w4': 0.373524864671194, 'w5': 0.7588373924984704, 'w6': 0.5292328754183674, 'w7': 0.38609069777188276, 'w8': 0.8812993353725213, 'threshold': 0.26}\n"
     ]
    },
    {
     "name": "stderr",
     "output_type": "stream",
     "text": [
      "[I 2023-07-04 16:01:27,016] Trial 166 finished with value: 0.6884697079658508 and parameters: {'w1': 0.9779582869326326, 'w2': 0.47449312814869465, 'w3': 0.6794510388094623, 'w4': 0.346798291658841, 'w5': 0.7835111722993865, 'w6': 0.47090611694645723, 'w7': 0.3644256949207043, 'w8': 0.7760586021753253}. Best is trial 85 with value: 0.6885988116264343.\n"
     ]
    },
    {
     "name": "stdout",
     "output_type": "stream",
     "text": [
      "{'w1': 0.9779582869326326, 'w2': 0.47449312814869465, 'w3': 0.6794510388094623, 'w4': 0.346798291658841, 'w5': 0.7835111722993865, 'w6': 0.47090611694645723, 'w7': 0.3644256949207043, 'w8': 0.7760586021753253, 'threshold': 0.27}\n"
     ]
    },
    {
     "name": "stderr",
     "output_type": "stream",
     "text": [
      "[I 2023-07-04 16:01:27,424] Trial 167 finished with value: 0.6883173584938049 and parameters: {'w1': 0.9295493038985262, 'w2': 0.40843213614939394, 'w3': 0.7003533786848204, 'w4': 0.29454667868736906, 'w5': 0.6379883209935984, 'w6': 0.5038820703502597, 'w7': 0.4275567984452039, 'w8': 0.9645076501441664}. Best is trial 85 with value: 0.6885988116264343.\n"
     ]
    },
    {
     "name": "stdout",
     "output_type": "stream",
     "text": [
      "{'w1': 0.9295493038985262, 'w2': 0.40843213614939394, 'w3': 0.7003533786848204, 'w4': 0.29454667868736906, 'w5': 0.6379883209935984, 'w6': 0.5038820703502597, 'w7': 0.4275567984452039, 'w8': 0.9645076501441664, 'threshold': 0.26}\n"
     ]
    },
    {
     "name": "stderr",
     "output_type": "stream",
     "text": [
      "[I 2023-07-04 16:01:27,832] Trial 168 finished with value: 0.6883127689361572 and parameters: {'w1': 0.9474284533337219, 'w2': 0.5501483643449998, 'w3': 0.6466472078215932, 'w4': 0.31960601382449755, 'w5': 0.8616548844727276, 'w6': 0.4395853133562893, 'w7': 0.32824046980562416, 'w8': 0.8248615716811682}. Best is trial 85 with value: 0.6885988116264343.\n"
     ]
    },
    {
     "name": "stdout",
     "output_type": "stream",
     "text": [
      "{'w1': 0.9474284533337219, 'w2': 0.5501483643449998, 'w3': 0.6466472078215932, 'w4': 0.31960601382449755, 'w5': 0.8616548844727276, 'w6': 0.4395853133562893, 'w7': 0.32824046980562416, 'w8': 0.8248615716811682, 'threshold': 0.27}\n"
     ]
    },
    {
     "name": "stderr",
     "output_type": "stream",
     "text": [
      "[I 2023-07-04 16:01:28,241] Trial 169 finished with value: 0.6884512901306152 and parameters: {'w1': 0.9149514267956651, 'w2': 0.4302800069165642, 'w3': 0.7102677086148796, 'w4': 0.24745364335407632, 'w5': 0.8200353196679715, 'w6': 0.4858750059347413, 'w7': 0.4073332648279272, 'w8': 0.7890697745258887}. Best is trial 85 with value: 0.6885988116264343.\n"
     ]
    },
    {
     "name": "stdout",
     "output_type": "stream",
     "text": [
      "{'w1': 0.9149514267956651, 'w2': 0.4302800069165642, 'w3': 0.7102677086148796, 'w4': 0.24745364335407632, 'w5': 0.8200353196679715, 'w6': 0.4858750059347413, 'w7': 0.4073332648279272, 'w8': 0.7890697745258887, 'threshold': 0.27}\n"
     ]
    },
    {
     "name": "stderr",
     "output_type": "stream",
     "text": [
      "[I 2023-07-04 16:01:28,650] Trial 170 finished with value: 0.6884151697158813 and parameters: {'w1': 0.8882364995058971, 'w2': 0.4935920026376931, 'w3': 0.6705634204518642, 'w4': 0.291976402561433, 'w5': 0.7940140874352473, 'w6': 0.42383272804528155, 'w7': 0.3180293601195197, 'w8': 0.8483321572896052}. Best is trial 85 with value: 0.6885988116264343.\n"
     ]
    },
    {
     "name": "stdout",
     "output_type": "stream",
     "text": [
      "{'w1': 0.8882364995058971, 'w2': 0.4935920026376931, 'w3': 0.6705634204518642, 'w4': 0.291976402561433, 'w5': 0.7940140874352473, 'w6': 0.42383272804528155, 'w7': 0.3180293601195197, 'w8': 0.8483321572896052, 'threshold': 0.27}\n"
     ]
    },
    {
     "name": "stderr",
     "output_type": "stream",
     "text": [
      "[I 2023-07-04 16:01:29,060] Trial 171 finished with value: 0.6885145902633667 and parameters: {'w1': 0.9782064385313625, 'w2': 0.4510046336334443, 'w3': 0.762410284392241, 'w4': 0.25698168421877393, 'w5': 0.7504014953835038, 'w6': 0.5627853125423631, 'w7': 0.4376045922841331, 'w8': 0.8461751767636079}. Best is trial 85 with value: 0.6885988116264343.\n"
     ]
    },
    {
     "name": "stdout",
     "output_type": "stream",
     "text": [
      "{'w1': 0.9782064385313625, 'w2': 0.4510046336334443, 'w3': 0.762410284392241, 'w4': 0.25698168421877393, 'w5': 0.7504014953835038, 'w6': 0.5627853125423631, 'w7': 0.4376045922841331, 'w8': 0.8461751767636079, 'threshold': 0.27}\n"
     ]
    },
    {
     "name": "stderr",
     "output_type": "stream",
     "text": [
      "[I 2023-07-04 16:01:29,469] Trial 172 finished with value: 0.6885839104652405 and parameters: {'w1': 0.9728227145159998, 'w2': 0.46961880721478727, 'w3': 0.7265160551098354, 'w4': 0.23286564646706015, 'w5': 0.7352354903342634, 'w6': 0.5389934136787616, 'w7': 0.4009075367461992, 'w8': 0.8184276022019614}. Best is trial 85 with value: 0.6885988116264343.\n"
     ]
    },
    {
     "name": "stdout",
     "output_type": "stream",
     "text": [
      "{'w1': 0.9728227145159998, 'w2': 0.46961880721478727, 'w3': 0.7265160551098354, 'w4': 0.23286564646706015, 'w5': 0.7352354903342634, 'w6': 0.5389934136787616, 'w7': 0.4009075367461992, 'w8': 0.8184276022019614, 'threshold': 0.28}\n"
     ]
    },
    {
     "name": "stderr",
     "output_type": "stream",
     "text": [
      "[I 2023-07-04 16:01:29,878] Trial 173 finished with value: 0.6886115074157715 and parameters: {'w1': 0.9630257481980947, 'w2': 0.4682521973103524, 'w3': 0.722453064385612, 'w4': 0.23264030389397194, 'w5': 0.7331856221791504, 'w6': 0.5325142318622207, 'w7': 0.3971434110639964, 'w8': 0.8030040343329135}. Best is trial 173 with value: 0.6886115074157715.\n"
     ]
    },
    {
     "name": "stdout",
     "output_type": "stream",
     "text": [
      "{'w1': 0.9630257481980947, 'w2': 0.4682521973103524, 'w3': 0.722453064385612, 'w4': 0.23264030389397194, 'w5': 0.7331856221791504, 'w6': 0.5325142318622207, 'w7': 0.3971434110639964, 'w8': 0.8030040343329135, 'threshold': 0.28}\n"
     ]
    },
    {
     "name": "stderr",
     "output_type": "stream",
     "text": [
      "[I 2023-07-04 16:01:30,288] Trial 174 finished with value: 0.6885491013526917 and parameters: {'w1': 0.9649103430483297, 'w2': 0.47301615928765717, 'w3': 0.7238943131219999, 'w4': 0.23112700142512022, 'w5': 0.7366373349998478, 'w6': 0.539326805184192, 'w7': 0.38046438651368425, 'w8': 0.8107483611341563}. Best is trial 173 with value: 0.6886115074157715.\n"
     ]
    },
    {
     "name": "stdout",
     "output_type": "stream",
     "text": [
      "{'w1': 0.9649103430483297, 'w2': 0.47301615928765717, 'w3': 0.7238943131219999, 'w4': 0.23112700142512022, 'w5': 0.7366373349998478, 'w6': 0.539326805184192, 'w7': 0.38046438651368425, 'w8': 0.8107483611341563, 'threshold': 0.28}\n"
     ]
    },
    {
     "name": "stderr",
     "output_type": "stream",
     "text": [
      "[I 2023-07-04 16:01:30,696] Trial 175 finished with value: 0.688586413860321 and parameters: {'w1': 0.972749222196093, 'w2': 0.47233851679588035, 'w3': 0.7735716090536557, 'w4': 0.23853699346393187, 'w5': 0.7329231965206776, 'w6': 0.588119428627601, 'w7': 0.37962347707666605, 'w8': 0.8023305770651609}. Best is trial 173 with value: 0.6886115074157715.\n"
     ]
    },
    {
     "name": "stdout",
     "output_type": "stream",
     "text": [
      "{'w1': 0.972749222196093, 'w2': 0.47233851679588035, 'w3': 0.7735716090536557, 'w4': 0.23853699346393187, 'w5': 0.7329231965206776, 'w6': 0.588119428627601, 'w7': 0.37962347707666605, 'w8': 0.8023305770651609, 'threshold': 0.28}\n"
     ]
    },
    {
     "name": "stderr",
     "output_type": "stream",
     "text": [
      "[I 2023-07-04 16:01:31,106] Trial 176 finished with value: 0.6885537505149841 and parameters: {'w1': 0.9651332561604388, 'w2': 0.4736957348148518, 'w3': 0.7774750638876675, 'w4': 0.22826609639494788, 'w5': 0.7310384518405492, 'w6': 0.5842980678847102, 'w7': 0.3631689241097398, 'w8': 0.7950239440238032}. Best is trial 173 with value: 0.6886115074157715.\n"
     ]
    },
    {
     "name": "stdout",
     "output_type": "stream",
     "text": [
      "{'w1': 0.9651332561604388, 'w2': 0.4736957348148518, 'w3': 0.7774750638876675, 'w4': 0.22826609639494788, 'w5': 0.7310384518405492, 'w6': 0.5842980678847102, 'w7': 0.3631689241097398, 'w8': 0.7950239440238032, 'threshold': 0.28}\n"
     ]
    },
    {
     "name": "stderr",
     "output_type": "stream",
     "text": [
      "[I 2023-07-04 16:01:31,514] Trial 177 finished with value: 0.6884906888008118 and parameters: {'w1': 0.9779320140370162, 'w2': 0.5097986895959061, 'w3': 0.777777079513829, 'w4': 0.2483483918353587, 'w5': 0.7611642189432557, 'w6': 0.5917968581454754, 'w7': 0.30099608403859784, 'w8': 0.7881252792886815}. Best is trial 173 with value: 0.6886115074157715.\n"
     ]
    },
    {
     "name": "stdout",
     "output_type": "stream",
     "text": [
      "{'w1': 0.9779320140370162, 'w2': 0.5097986895959061, 'w3': 0.777777079513829, 'w4': 0.2483483918353587, 'w5': 0.7611642189432557, 'w6': 0.5917968581454754, 'w7': 0.30099608403859784, 'w8': 0.7881252792886815, 'threshold': 0.28}\n"
     ]
    },
    {
     "name": "stderr",
     "output_type": "stream",
     "text": [
      "[I 2023-07-04 16:01:31,926] Trial 178 finished with value: 0.6884369850158691 and parameters: {'w1': 0.9140345215704314, 'w2': 0.4872816232706236, 'w3': 0.769499969321683, 'w4': 0.19204521527473079, 'w5': 0.6988263769666553, 'w6': 0.5790876898740501, 'w7': 0.35296678582109814, 'w8': 0.7980361868899795}. Best is trial 173 with value: 0.6886115074157715.\n"
     ]
    },
    {
     "name": "stdout",
     "output_type": "stream",
     "text": [
      "{'w1': 0.9140345215704314, 'w2': 0.4872816232706236, 'w3': 0.769499969321683, 'w4': 0.19204521527473079, 'w5': 0.6988263769666553, 'w6': 0.5790876898740501, 'w7': 0.35296678582109814, 'w8': 0.7980361868899795, 'threshold': 0.27}\n"
     ]
    },
    {
     "name": "stderr",
     "output_type": "stream",
     "text": [
      "[I 2023-07-04 16:01:32,335] Trial 179 finished with value: 0.6885668039321899 and parameters: {'w1': 0.959485781934028, 'w2': 0.4773701356865783, 'w3': 0.6841252559198224, 'w4': 0.23109055928183986, 'w5': 0.7327811013836174, 'w6': 0.5534686269344492, 'w7': 0.3688997726797307, 'w8': 0.7734856744879118}. Best is trial 173 with value: 0.6886115074157715.\n"
     ]
    },
    {
     "name": "stdout",
     "output_type": "stream",
     "text": [
      "{'w1': 0.959485781934028, 'w2': 0.4773701356865783, 'w3': 0.6841252559198224, 'w4': 0.23109055928183986, 'w5': 0.7327811013836174, 'w6': 0.5534686269344492, 'w7': 0.3688997726797307, 'w8': 0.7734856744879118, 'threshold': 0.28}\n"
     ]
    },
    {
     "name": "stderr",
     "output_type": "stream",
     "text": [
      "[I 2023-07-04 16:01:32,744] Trial 180 finished with value: 0.6884957551956177 and parameters: {'w1': 0.93113289353621, 'w2': 0.4724431930002414, 'w3': 0.6823586482185503, 'w4': 0.2295482019647016, 'w5': 0.7348430406550868, 'w6': 0.5919967849028999, 'w7': 0.3630255608925695, 'w8': 0.7744143985398779}. Best is trial 173 with value: 0.6886115074157715.\n"
     ]
    },
    {
     "name": "stdout",
     "output_type": "stream",
     "text": [
      "{'w1': 0.93113289353621, 'w2': 0.4724431930002414, 'w3': 0.6823586482185503, 'w4': 0.2295482019647016, 'w5': 0.7348430406550868, 'w6': 0.5919967849028999, 'w7': 0.3630255608925695, 'w8': 0.7744143985398779, 'threshold': 0.27}\n"
     ]
    },
    {
     "name": "stderr",
     "output_type": "stream",
     "text": [
      "[I 2023-07-04 16:01:33,153] Trial 181 finished with value: 0.688538134098053 and parameters: {'w1': 0.9611551306485375, 'w2': 0.5014133117246863, 'w3': 0.7016120548399365, 'w4': 0.23980808896872313, 'w5': 0.7044420158783754, 'w6': 0.552176916278773, 'w7': 0.33797217596652585, 'w8': 0.8257369970239334}. Best is trial 173 with value: 0.6886115074157715.\n"
     ]
    },
    {
     "name": "stdout",
     "output_type": "stream",
     "text": [
      "{'w1': 0.9611551306485375, 'w2': 0.5014133117246863, 'w3': 0.7016120548399365, 'w4': 0.23980808896872313, 'w5': 0.7044420158783754, 'w6': 0.552176916278773, 'w7': 0.33797217596652585, 'w8': 0.8257369970239334, 'threshold': 0.28}\n"
     ]
    },
    {
     "name": "stderr",
     "output_type": "stream",
     "text": [
      "[I 2023-07-04 16:01:33,562] Trial 182 finished with value: 0.6884132623672485 and parameters: {'w1': 0.9763212499019502, 'w2': 0.5231653271449875, 'w3': 0.7366071242969296, 'w4': 0.1745583176753303, 'w5': 0.7352549931056671, 'w6': 0.5215808518746603, 'w7': 0.37471354412855973, 'w8': 0.7531779640894869}. Best is trial 173 with value: 0.6886115074157715.\n"
     ]
    },
    {
     "name": "stdout",
     "output_type": "stream",
     "text": [
      "{'w1': 0.9763212499019502, 'w2': 0.5231653271449875, 'w3': 0.7366071242969296, 'w4': 0.1745583176753303, 'w5': 0.7352549931056671, 'w6': 0.5215808518746603, 'w7': 0.37471354412855973, 'w8': 0.7531779640894869, 'threshold': 0.29}\n"
     ]
    },
    {
     "name": "stderr",
     "output_type": "stream",
     "text": [
      "[I 2023-07-04 16:01:33,972] Trial 183 finished with value: 0.6885458827018738 and parameters: {'w1': 0.9578704077053193, 'w2': 0.4696404568918962, 'w3': 0.7570258344575904, 'w4': 0.31427670069999086, 'w5': 0.7578005884068919, 'w6': 0.5699076830756986, 'w7': 0.397889230154981, 'w8': 0.8709914830866815}. Best is trial 173 with value: 0.6886115074157715.\n"
     ]
    },
    {
     "name": "stdout",
     "output_type": "stream",
     "text": [
      "{'w1': 0.9578704077053193, 'w2': 0.4696404568918962, 'w3': 0.7570258344575904, 'w4': 0.31427670069999086, 'w5': 0.7578005884068919, 'w6': 0.5699076830756986, 'w7': 0.397889230154981, 'w8': 0.8709914830866815, 'threshold': 0.27}\n"
     ]
    },
    {
     "name": "stderr",
     "output_type": "stream",
     "text": [
      "[I 2023-07-04 16:01:34,382] Trial 184 finished with value: 0.6885645985603333 and parameters: {'w1': 0.9508559788777489, 'w2': 0.4287319941741686, 'w3': 0.7078974817829022, 'w4': 0.2537901773924363, 'w5': 0.776795708817961, 'w6': 0.546873723258498, 'w7': 0.3900443194660774, 'w8': 0.7200926449098684}. Best is trial 173 with value: 0.6886115074157715.\n"
     ]
    },
    {
     "name": "stdout",
     "output_type": "stream",
     "text": [
      "{'w1': 0.9508559788777489, 'w2': 0.4287319941741686, 'w3': 0.7078974817829022, 'w4': 0.2537901773924363, 'w5': 0.776795708817961, 'w6': 0.546873723258498, 'w7': 0.3900443194660774, 'w8': 0.7200926449098684, 'threshold': 0.28}\n"
     ]
    },
    {
     "name": "stderr",
     "output_type": "stream",
     "text": [
      "[I 2023-07-04 16:01:34,791] Trial 185 finished with value: 0.6884904503822327 and parameters: {'w1': 0.9244678000597175, 'w2': 0.4458265435003009, 'w3': 0.6920585390664469, 'w4': 0.22133087733267826, 'w5': 0.7759307362497453, 'w6': 0.6214715159512143, 'w7': 0.36876881284431917, 'w8': 0.723980261623971}. Best is trial 173 with value: 0.6886115074157715.\n"
     ]
    },
    {
     "name": "stdout",
     "output_type": "stream",
     "text": [
      "{'w1': 0.9244678000597175, 'w2': 0.4458265435003009, 'w3': 0.6920585390664469, 'w4': 0.22133087733267826, 'w5': 0.7759307362497453, 'w6': 0.6214715159512143, 'w7': 0.36876881284431917, 'w8': 0.723980261623971, 'threshold': 0.27}\n"
     ]
    },
    {
     "name": "stderr",
     "output_type": "stream",
     "text": [
      "[I 2023-07-04 16:01:35,201] Trial 186 finished with value: 0.6885342001914978 and parameters: {'w1': 0.9803245869284932, 'w2': 0.4256393467117265, 'w3': 0.6612067955234012, 'w4': 0.24709966576306483, 'w5': 0.8010011564705387, 'w6': 0.5521655506446687, 'w7': 0.3959540531275264, 'w8': 0.7720526161062186}. Best is trial 173 with value: 0.6886115074157715.\n"
     ]
    },
    {
     "name": "stdout",
     "output_type": "stream",
     "text": [
      "{'w1': 0.9803245869284932, 'w2': 0.4256393467117265, 'w3': 0.6612067955234012, 'w4': 0.24709966576306483, 'w5': 0.8010011564705387, 'w6': 0.5521655506446687, 'w7': 0.3959540531275264, 'w8': 0.7720526161062186, 'threshold': 0.28}\n"
     ]
    },
    {
     "name": "stderr",
     "output_type": "stream",
     "text": [
      "[I 2023-07-04 16:01:35,609] Trial 187 finished with value: 0.6885286569595337 and parameters: {'w1': 0.9398228168248599, 'w2': 0.46222769845521705, 'w3': 0.682145348452355, 'w4': 0.1858466560390257, 'w5': 0.7513732463126792, 'w6': 0.5115175720597086, 'w7': 0.3455266759509313, 'w8': 0.7984211966439977}. Best is trial 173 with value: 0.6886115074157715.\n"
     ]
    },
    {
     "name": "stdout",
     "output_type": "stream",
     "text": [
      "{'w1': 0.9398228168248599, 'w2': 0.46222769845521705, 'w3': 0.682145348452355, 'w4': 0.1858466560390257, 'w5': 0.7513732463126792, 'w6': 0.5115175720597086, 'w7': 0.3455266759509313, 'w8': 0.7984211966439977, 'threshold': 0.28}\n"
     ]
    },
    {
     "name": "stderr",
     "output_type": "stream",
     "text": [
      "[I 2023-07-04 16:01:36,020] Trial 188 finished with value: 0.6885213851928711 and parameters: {'w1': 0.9029564892962018, 'w2': 0.4380400360597407, 'w3': 0.7858120916044262, 'w4': 0.25664068803657747, 'w5': 0.6988423855327988, 'w6': 0.6463932420919511, 'w7': 0.4150654344284465, 'w8': 0.7423952344992116}. Best is trial 173 with value: 0.6886115074157715.\n"
     ]
    },
    {
     "name": "stdout",
     "output_type": "stream",
     "text": [
      "{'w1': 0.9029564892962018, 'w2': 0.4380400360597407, 'w3': 0.7858120916044262, 'w4': 0.25664068803657747, 'w5': 0.6988423855327988, 'w6': 0.6463932420919511, 'w7': 0.4150654344284465, 'w8': 0.7423952344992116, 'threshold': 0.27}\n"
     ]
    },
    {
     "name": "stderr",
     "output_type": "stream",
     "text": [
      "[I 2023-07-04 16:01:36,429] Trial 189 finished with value: 0.6884403228759766 and parameters: {'w1': 0.8623014796864726, 'w2': 0.41783281136227934, 'w3': 0.7409891351436572, 'w4': 0.16069039862279172, 'w5': 0.7742055763384306, 'w6': 0.5843199824930327, 'w7': 0.3240192632225541, 'w8': 0.7037375023228213}. Best is trial 173 with value: 0.6886115074157715.\n"
     ]
    },
    {
     "name": "stdout",
     "output_type": "stream",
     "text": [
      "{'w1': 0.8623014796864726, 'w2': 0.41783281136227934, 'w3': 0.7409891351436572, 'w4': 0.16069039862279172, 'w5': 0.7742055763384306, 'w6': 0.5843199824930327, 'w7': 0.3240192632225541, 'w8': 0.7037375023228213, 'threshold': 0.27}\n"
     ]
    },
    {
     "name": "stderr",
     "output_type": "stream",
     "text": [
      "[I 2023-07-04 16:01:36,839] Trial 190 finished with value: 0.6885138750076294 and parameters: {'w1': 0.9473439064057506, 'w2': 0.4764468452084221, 'w3': 0.7135538639890939, 'w4': 0.19486605711560576, 'w5': 0.7312577796324865, 'w6': 0.6004718040909224, 'w7': 0.38299107357334555, 'w8': 0.7672972229220538}. Best is trial 173 with value: 0.6886115074157715.\n"
     ]
    },
    {
     "name": "stdout",
     "output_type": "stream",
     "text": [
      "{'w1': 0.9473439064057506, 'w2': 0.4764468452084221, 'w3': 0.7135538639890939, 'w4': 0.19486605711560576, 'w5': 0.7312577796324865, 'w6': 0.6004718040909224, 'w7': 0.38299107357334555, 'w8': 0.7672972229220538, 'threshold': 0.28}\n"
     ]
    },
    {
     "name": "stderr",
     "output_type": "stream",
     "text": [
      "[I 2023-07-04 16:01:37,248] Trial 191 finished with value: 0.688563346862793 and parameters: {'w1': 0.9993950874482354, 'w2': 0.4929933549941476, 'w3': 0.7211401199501881, 'w4': 0.2781983193244191, 'w5': 0.7166716644587425, 'w6': 0.5316139446446799, 'w7': 0.40685752004333203, 'w8': 0.8161615505711862}. Best is trial 173 with value: 0.6886115074157715.\n"
     ]
    },
    {
     "name": "stdout",
     "output_type": "stream",
     "text": [
      "{'w1': 0.9993950874482354, 'w2': 0.4929933549941476, 'w3': 0.7211401199501881, 'w4': 0.2781983193244191, 'w5': 0.7166716644587425, 'w6': 0.5316139446446799, 'w7': 0.40685752004333203, 'w8': 0.8161615505711862, 'threshold': 0.28}\n"
     ]
    },
    {
     "name": "stderr",
     "output_type": "stream",
     "text": [
      "[I 2023-07-04 16:01:37,658] Trial 192 finished with value: 0.688492476940155 and parameters: {'w1': 0.9997706142496512, 'w2': 0.491026795712309, 'w3': 0.8228452511108176, 'w4': 0.27342655804827165, 'w5': 0.711254680558997, 'w6': 0.5436630097023321, 'w7': 0.4098009483401913, 'w8': 0.8209858154018458}. Best is trial 173 with value: 0.6886115074157715.\n"
     ]
    },
    {
     "name": "stdout",
     "output_type": "stream",
     "text": [
      "{'w1': 0.9997706142496512, 'w2': 0.491026795712309, 'w3': 0.8228452511108176, 'w4': 0.27342655804827165, 'w5': 0.711254680558997, 'w6': 0.5436630097023321, 'w7': 0.4098009483401913, 'w8': 0.8209858154018458, 'threshold': 0.27}\n"
     ]
    },
    {
     "name": "stderr",
     "output_type": "stream",
     "text": [
      "[I 2023-07-04 16:01:38,068] Trial 193 finished with value: 0.6885737180709839 and parameters: {'w1': 0.9789287665311623, 'w2': 0.45500103008718973, 'w3': 0.7022802601640226, 'w4': 0.22963132862000618, 'w5': 0.7366982756667708, 'w6': 0.5276640788353225, 'w7': 0.3654706719156066, 'w8': 0.7992411207108555}. Best is trial 173 with value: 0.6886115074157715.\n"
     ]
    },
    {
     "name": "stdout",
     "output_type": "stream",
     "text": [
      "{'w1': 0.9789287665311623, 'w2': 0.45500103008718973, 'w3': 0.7022802601640226, 'w4': 0.22963132862000618, 'w5': 0.7366982756667708, 'w6': 0.5276640788353225, 'w7': 0.3654706719156066, 'w8': 0.7992411207108555, 'threshold': 0.28}\n"
     ]
    },
    {
     "name": "stderr",
     "output_type": "stream",
     "text": [
      "[I 2023-07-04 16:01:38,481] Trial 194 finished with value: 0.6884616613388062 and parameters: {'w1': 0.9796728224407428, 'w2': 0.455113409157886, 'w3': 0.7626807331835713, 'w4': 0.22937270943245447, 'w5': 0.6858796699637301, 'w6': 0.5618963842052881, 'w7': 0.3929589714422029, 'w8': 0.7972516543333944}. Best is trial 173 with value: 0.6886115074157715.\n"
     ]
    },
    {
     "name": "stdout",
     "output_type": "stream",
     "text": [
      "{'w1': 0.9796728224407428, 'w2': 0.455113409157886, 'w3': 0.7626807331835713, 'w4': 0.22937270943245447, 'w5': 0.6858796699637301, 'w6': 0.5618963842052881, 'w7': 0.3929589714422029, 'w8': 0.7972516543333944, 'threshold': 0.27}\n"
     ]
    },
    {
     "name": "stderr",
     "output_type": "stream",
     "text": [
      "[I 2023-07-04 16:01:38,891] Trial 195 finished with value: 0.6885372996330261 and parameters: {'w1': 0.9807723306551235, 'w2': 0.5214033579260993, 'w3': 0.7254614614324154, 'w4': 0.3022113545970348, 'w5': 0.7574731749757485, 'w6': 0.5093247926440261, 'w7': 0.4282640469736481, 'w8': 0.780160183994703}. Best is trial 173 with value: 0.6886115074157715.\n"
     ]
    },
    {
     "name": "stdout",
     "output_type": "stream",
     "text": [
      "{'w1': 0.9807723306551235, 'w2': 0.5214033579260993, 'w3': 0.7254614614324154, 'w4': 0.3022113545970348, 'w5': 0.7574731749757485, 'w6': 0.5093247926440261, 'w7': 0.4282640469736481, 'w8': 0.780160183994703, 'threshold': 0.28}\n"
     ]
    },
    {
     "name": "stderr",
     "output_type": "stream",
     "text": [
      "[I 2023-07-04 16:01:39,300] Trial 196 finished with value: 0.6884745955467224 and parameters: {'w1': 0.8357735889594965, 'w2': 0.5008866608490157, 'w3': 0.7051085243694645, 'w4': 0.2612549239243558, 'w5': 0.7278597321578905, 'w6': 0.4599655270694233, 'w7': 0.3735700990071296, 'w8': 0.7471471555160291}. Best is trial 173 with value: 0.6886115074157715.\n"
     ]
    },
    {
     "name": "stdout",
     "output_type": "stream",
     "text": [
      "{'w1': 0.8357735889594965, 'w2': 0.5008866608490157, 'w3': 0.7051085243694645, 'w4': 0.2612549239243558, 'w5': 0.7278597321578905, 'w6': 0.4599655270694233, 'w7': 0.3735700990071296, 'w8': 0.7471471555160291, 'threshold': 0.28}\n"
     ]
    },
    {
     "name": "stderr",
     "output_type": "stream",
     "text": [
      "[I 2023-07-04 16:01:39,709] Trial 197 finished with value: 0.6885528564453125 and parameters: {'w1': 0.9593082205770237, 'w2': 0.4741380337251029, 'w3': 0.7470507934458527, 'w4': 0.28214098663341636, 'w5': 0.6620637866934492, 'w6': 0.519549332081716, 'w7': 0.4051425639859964, 'w8': 0.8003654820640477}. Best is trial 173 with value: 0.6886115074157715.\n"
     ]
    },
    {
     "name": "stdout",
     "output_type": "stream",
     "text": [
      "{'w1': 0.9593082205770237, 'w2': 0.4741380337251029, 'w3': 0.7470507934458527, 'w4': 0.28214098663341636, 'w5': 0.6620637866934492, 'w6': 0.519549332081716, 'w7': 0.4051425639859964, 'w8': 0.8003654820640477, 'threshold': 0.28}\n"
     ]
    },
    {
     "name": "stderr",
     "output_type": "stream",
     "text": [
      "[I 2023-07-04 16:01:40,116] Trial 198 finished with value: 0.6884953379631042 and parameters: {'w1': 0.9443174766350279, 'w2': 0.4803459235423698, 'w3': 0.7811262958669651, 'w4': 0.2748730726274601, 'w5': 0.6661314634115513, 'w6': 0.490754604366748, 'w7': 0.35470354765703294, 'w8': 0.8137268250507846}. Best is trial 173 with value: 0.6886115074157715.\n"
     ]
    },
    {
     "name": "stdout",
     "output_type": "stream",
     "text": [
      "{'w1': 0.9443174766350279, 'w2': 0.4803459235423698, 'w3': 0.7811262958669651, 'w4': 0.2748730726274601, 'w5': 0.6661314634115513, 'w6': 0.490754604366748, 'w7': 0.35470354765703294, 'w8': 0.8137268250507846, 'threshold': 0.27}\n"
     ]
    },
    {
     "name": "stderr",
     "output_type": "stream",
     "text": [
      "[I 2023-07-04 16:01:40,524] Trial 199 finished with value: 0.6884738206863403 and parameters: {'w1': 0.9996282628508241, 'w2': 0.46006019670833054, 'w3': 0.746877702548172, 'w4': 0.25018933902539064, 'w5': 0.6962715702080057, 'w6': 0.5394739827736721, 'w7': 0.39483426011975614, 'w8': 0.726492974582712}. Best is trial 173 with value: 0.6886115074157715.\n"
     ]
    },
    {
     "name": "stdout",
     "output_type": "stream",
     "text": [
      "{'w1': 0.9996282628508241, 'w2': 0.46006019670833054, 'w3': 0.746877702548172, 'w4': 0.25018933902539064, 'w5': 0.6962715702080057, 'w6': 0.5394739827736721, 'w7': 0.39483426011975614, 'w8': 0.726492974582712, 'threshold': 0.27}\n"
     ]
    },
    {
     "name": "stderr",
     "output_type": "stream",
     "text": [
      "[I 2023-07-04 16:01:40,932] Trial 200 finished with value: 0.6885154843330383 and parameters: {'w1': 0.9240503598467036, 'w2': 0.5122033098499521, 'w3': 0.7286179715635507, 'w4': 0.22485043971122642, 'w5': 0.7054656400434838, 'w6': 0.5581004743309383, 'w7': 0.4077495037940348, 'w8': 0.7689719921775658}. Best is trial 173 with value: 0.6886115074157715.\n"
     ]
    },
    {
     "name": "stdout",
     "output_type": "stream",
     "text": [
      "{'w1': 0.9240503598467036, 'w2': 0.5122033098499521, 'w3': 0.7286179715635507, 'w4': 0.22485043971122642, 'w5': 0.7054656400434838, 'w6': 0.5581004743309383, 'w7': 0.4077495037940348, 'w8': 0.7689719921775658, 'threshold': 0.28}\n"
     ]
    },
    {
     "name": "stderr",
     "output_type": "stream",
     "text": [
      "[I 2023-07-04 16:01:41,342] Trial 201 finished with value: 0.6877864003181458 and parameters: {'w1': 0.5761806551073121, 'w2': 0.44356013492185326, 'w3': 0.6923622371232385, 'w4': 0.29609879357168534, 'w5': 0.7459306853294112, 'w6': 0.5174265832103546, 'w7': 0.42643240931772947, 'w8': 0.7957977128667613}. Best is trial 173 with value: 0.6886115074157715.\n"
     ]
    },
    {
     "name": "stdout",
     "output_type": "stream",
     "text": [
      "{'w1': 0.5761806551073121, 'w2': 0.44356013492185326, 'w3': 0.6923622371232385, 'w4': 0.29609879357168534, 'w5': 0.7459306853294112, 'w6': 0.5174265832103546, 'w7': 0.42643240931772947, 'w8': 0.7957977128667613, 'threshold': 0.29}\n"
     ]
    },
    {
     "name": "stderr",
     "output_type": "stream",
     "text": [
      "[I 2023-07-04 16:01:41,753] Trial 202 finished with value: 0.6886043548583984 and parameters: {'w1': 0.9609747917235967, 'w2': 0.47135059571877225, 'w3': 0.7112121626542346, 'w4': 0.3278015737503909, 'w5': 0.7267728139604315, 'w6': 0.5248520081356446, 'w7': 0.38898461100155535, 'w8': 0.8265174191793886}. Best is trial 173 with value: 0.6886115074157715.\n"
     ]
    },
    {
     "name": "stdout",
     "output_type": "stream",
     "text": [
      "{'w1': 0.9609747917235967, 'w2': 0.47135059571877225, 'w3': 0.7112121626542346, 'w4': 0.3278015737503909, 'w5': 0.7267728139604315, 'w6': 0.5248520081356446, 'w7': 0.38898461100155535, 'w8': 0.8265174191793886, 'threshold': 0.28}\n"
     ]
    },
    {
     "name": "stderr",
     "output_type": "stream",
     "text": [
      "[I 2023-07-04 16:01:42,168] Trial 203 finished with value: 0.6885955333709717 and parameters: {'w1': 0.9599825563047504, 'w2': 0.47419562579765884, 'w3': 0.7525502663685265, 'w4': 0.2795374035373142, 'w5': 0.7204253787267345, 'w6': 0.579624911349099, 'w7': 0.380350859229126, 'w8': 0.8077477424156105}. Best is trial 173 with value: 0.6886115074157715.\n"
     ]
    },
    {
     "name": "stdout",
     "output_type": "stream",
     "text": [
      "{'w1': 0.9599825563047504, 'w2': 0.47419562579765884, 'w3': 0.7525502663685265, 'w4': 0.2795374035373142, 'w5': 0.7204253787267345, 'w6': 0.579624911349099, 'w7': 0.380350859229126, 'w8': 0.8077477424156105, 'threshold': 0.28}\n"
     ]
    },
    {
     "name": "stderr",
     "output_type": "stream",
     "text": [
      "[I 2023-07-04 16:01:42,582] Trial 204 finished with value: 0.6885466575622559 and parameters: {'w1': 0.9576858542501278, 'w2': 0.49194157358060353, 'w3': 0.7105573634972476, 'w4': 0.25107082693431004, 'w5': 0.7184463671723317, 'w6': 0.5770831857085099, 'w7': 0.3774529165901237, 'w8': 0.8371045774829798}. Best is trial 173 with value: 0.6886115074157715.\n"
     ]
    },
    {
     "name": "stdout",
     "output_type": "stream",
     "text": [
      "{'w1': 0.9576858542501278, 'w2': 0.49194157358060353, 'w3': 0.7105573634972476, 'w4': 0.25107082693431004, 'w5': 0.7184463671723317, 'w6': 0.5770831857085099, 'w7': 0.3774529165901237, 'w8': 0.8371045774829798, 'threshold': 0.27}\n"
     ]
    },
    {
     "name": "stderr",
     "output_type": "stream",
     "text": [
      "[I 2023-07-04 16:01:42,995] Trial 205 finished with value: 0.6885085105895996 and parameters: {'w1': 0.9404841274034805, 'w2': 0.46269301173172117, 'w3': 0.7281976879276202, 'w4': 0.2770277790550239, 'w5': 0.7319105202104386, 'w6': 0.6101202559881002, 'w7': 0.3399590296527564, 'w8': 0.829254006344459}. Best is trial 173 with value: 0.6886115074157715.\n"
     ]
    },
    {
     "name": "stdout",
     "output_type": "stream",
     "text": [
      "{'w1': 0.9404841274034805, 'w2': 0.46269301173172117, 'w3': 0.7281976879276202, 'w4': 0.2770277790550239, 'w5': 0.7319105202104386, 'w6': 0.6101202559881002, 'w7': 0.3399590296527564, 'w8': 0.829254006344459, 'threshold': 0.28}\n"
     ]
    },
    {
     "name": "stderr",
     "output_type": "stream",
     "text": [
      "[I 2023-07-04 16:01:43,409] Trial 206 finished with value: 0.6874430179595947 and parameters: {'w1': 0.29421839972704644, 'w2': 0.543108278210807, 'w3': 0.7641556577860849, 'w4': 0.34537002689268265, 'w5': 0.6938858691770668, 'w6': 0.5462350046220444, 'w7': 0.36422502799864176, 'w8': 0.8139898451890819}. Best is trial 173 with value: 0.6886115074157715.\n"
     ]
    },
    {
     "name": "stdout",
     "output_type": "stream",
     "text": [
      "{'w1': 0.29421839972704644, 'w2': 0.543108278210807, 'w3': 0.7641556577860849, 'w4': 0.34537002689268265, 'w5': 0.6938858691770668, 'w6': 0.5462350046220444, 'w7': 0.36422502799864176, 'w8': 0.8139898451890819, 'threshold': 0.25}\n"
     ]
    },
    {
     "name": "stderr",
     "output_type": "stream",
     "text": [
      "[I 2023-07-04 16:01:43,822] Trial 207 finished with value: 0.6885294914245605 and parameters: {'w1': 0.967145047837456, 'w2': 0.4838844865237697, 'w3': 0.7136326054141837, 'w4': 0.23721731663230258, 'w5': 0.7488027984685007, 'w6': 0.576412709960716, 'w7': 0.38643824128529713, 'w8': 0.7495774404886094}. Best is trial 173 with value: 0.6886115074157715.\n"
     ]
    },
    {
     "name": "stdout",
     "output_type": "stream",
     "text": [
      "{'w1': 0.967145047837456, 'w2': 0.4838844865237697, 'w3': 0.7136326054141837, 'w4': 0.23721731663230258, 'w5': 0.7488027984685007, 'w6': 0.576412709960716, 'w7': 0.38643824128529713, 'w8': 0.7495774404886094, 'threshold': 0.28}\n"
     ]
    },
    {
     "name": "stderr",
     "output_type": "stream",
     "text": [
      "[I 2023-07-04 16:01:44,236] Trial 208 finished with value: 0.688234269618988 and parameters: {'w1': 0.7061361041004328, 'w2': 0.43834694597780055, 'w3': 0.6467357791224642, 'w4': 0.30939798438807803, 'w5': 0.7115830357246817, 'w6': 0.46709887803170697, 'w7': 0.28979364403046226, 'w8': 0.7760408839292605}. Best is trial 173 with value: 0.6886115074157715.\n"
     ]
    },
    {
     "name": "stdout",
     "output_type": "stream",
     "text": [
      "{'w1': 0.7061361041004328, 'w2': 0.43834694597780055, 'w3': 0.6467357791224642, 'w4': 0.30939798438807803, 'w5': 0.7115830357246817, 'w6': 0.46709887803170697, 'w7': 0.28979364403046226, 'w8': 0.7760408839292605, 'threshold': 0.26}\n"
     ]
    },
    {
     "name": "stderr",
     "output_type": "stream",
     "text": [
      "[I 2023-07-04 16:01:44,659] Trial 209 finished with value: 0.6883572340011597 and parameters: {'w1': 0.923296487585719, 'w2': 0.5052949400408396, 'w3': 0.4623172796697964, 'w4': 0.20793467717981112, 'w5': 0.7859446192510167, 'w6': 0.49699596843706534, 'w7': 0.3568232881373018, 'w8': 0.8314634379475394}. Best is trial 173 with value: 0.6886115074157715.\n"
     ]
    },
    {
     "name": "stdout",
     "output_type": "stream",
     "text": [
      "{'w1': 0.923296487585719, 'w2': 0.5052949400408396, 'w3': 0.4623172796697964, 'w4': 0.20793467717981112, 'w5': 0.7859446192510167, 'w6': 0.49699596843706534, 'w7': 0.3568232881373018, 'w8': 0.8314634379475394, 'threshold': 0.3}\n"
     ]
    },
    {
     "name": "stderr",
     "output_type": "stream",
     "text": [
      "[I 2023-07-04 16:01:45,074] Trial 210 finished with value: 0.688556432723999 and parameters: {'w1': 0.9993741143346518, 'w2': 0.46689137581605583, 'w3': 0.6974878131965306, 'w4': 0.33058835284516314, 'w5': 0.6815255366259606, 'w6': 0.5371914589399518, 'w7': 0.3884269378442053, 'w8': 0.8582326414659222}. Best is trial 173 with value: 0.6886115074157715.\n"
     ]
    },
    {
     "name": "stdout",
     "output_type": "stream",
     "text": [
      "{'w1': 0.9993741143346518, 'w2': 0.46689137581605583, 'w3': 0.6974878131965306, 'w4': 0.33058835284516314, 'w5': 0.6815255366259606, 'w6': 0.5371914589399518, 'w7': 0.3884269378442053, 'w8': 0.8582326414659222, 'threshold': 0.28}\n"
     ]
    },
    {
     "name": "stderr",
     "output_type": "stream",
     "text": [
      "[I 2023-07-04 16:01:45,486] Trial 211 finished with value: 0.6882757544517517 and parameters: {'w1': 0.8089688703927521, 'w2': 0.4660732660066719, 'w3': 0.6963428607559725, 'w4': 0.3295116498168147, 'w5': 0.7269331131208621, 'w6': 0.5370620366866898, 'w7': 0.3861118385599324, 'w8': 0.859528561897078}. Best is trial 173 with value: 0.6886115074157715.\n"
     ]
    },
    {
     "name": "stdout",
     "output_type": "stream",
     "text": [
      "{'w1': 0.8089688703927521, 'w2': 0.4660732660066719, 'w3': 0.6963428607559725, 'w4': 0.3295116498168147, 'w5': 0.7269331131208621, 'w6': 0.5370620366866898, 'w7': 0.3861118385599324, 'w8': 0.859528561897078, 'threshold': 0.26}\n"
     ]
    },
    {
     "name": "stderr",
     "output_type": "stream",
     "text": [
      "[I 2023-07-04 16:01:45,905] Trial 212 finished with value: 0.6885486245155334 and parameters: {'w1': 0.9845371778022621, 'w2': 0.4528531527349414, 'w3': 0.6683928083020768, 'w4': 0.35958804190321836, 'w5': 0.6830118051996656, 'w6': 0.5547030391663084, 'w7': 0.43073860086603044, 'w8': 0.8141874685270047}. Best is trial 173 with value: 0.6886115074157715.\n"
     ]
    },
    {
     "name": "stdout",
     "output_type": "stream",
     "text": [
      "{'w1': 0.9845371778022621, 'w2': 0.4528531527349414, 'w3': 0.6683928083020768, 'w4': 0.35958804190321836, 'w5': 0.6830118051996656, 'w6': 0.5547030391663084, 'w7': 0.43073860086603044, 'w8': 0.8141874685270047, 'threshold': 0.27}\n"
     ]
    },
    {
     "name": "stderr",
     "output_type": "stream",
     "text": [
      "[I 2023-07-04 16:01:46,317] Trial 213 finished with value: 0.6883952021598816 and parameters: {'w1': 0.9998093098750255, 'w2': 0.4887768044427619, 'w3': 0.7441316220216443, 'w4': 0.26868567789789816, 'w5': 0.9756187175349937, 'w6': 0.5881298048956849, 'w7': 0.4060737867692188, 'w8': 0.884117050819733}. Best is trial 173 with value: 0.6886115074157715.\n"
     ]
    },
    {
     "name": "stdout",
     "output_type": "stream",
     "text": [
      "{'w1': 0.9998093098750255, 'w2': 0.4887768044427619, 'w3': 0.7441316220216443, 'w4': 0.26868567789789816, 'w5': 0.9756187175349937, 'w6': 0.5881298048956849, 'w7': 0.4060737867692188, 'w8': 0.884117050819733, 'threshold': 0.27}\n"
     ]
    },
    {
     "name": "stderr",
     "output_type": "stream",
     "text": [
      "[I 2023-07-04 16:01:46,729] Trial 214 finished with value: 0.6885542273521423 and parameters: {'w1': 0.9581962126325554, 'w2': 0.4343137785034604, 'w3': 0.724721395554879, 'w4': 0.2969775738609715, 'w5': 0.7122833157881104, 'w6': 0.5040299288657886, 'w7': 0.3744169893741336, 'w8': 0.8396961167290639}. Best is trial 173 with value: 0.6886115074157715.\n"
     ]
    },
    {
     "name": "stdout",
     "output_type": "stream",
     "text": [
      "{'w1': 0.9581962126325554, 'w2': 0.4343137785034604, 'w3': 0.724721395554879, 'w4': 0.2969775738609715, 'w5': 0.7122833157881104, 'w6': 0.5040299288657886, 'w7': 0.3744169893741336, 'w8': 0.8396961167290639, 'threshold': 0.27}\n"
     ]
    },
    {
     "name": "stderr",
     "output_type": "stream",
     "text": [
      "[I 2023-07-04 16:01:47,152] Trial 215 finished with value: 0.6885281801223755 and parameters: {'w1': 0.9459490757837131, 'w2': 0.4305566744764866, 'w3': 0.7011176357984982, 'w4': 0.2976040155941727, 'w5': 0.6511064459556317, 'w6': 0.48358169419580843, 'w7': 0.38838573316292874, 'w8': 0.8450410788391878}. Best is trial 173 with value: 0.6886115074157715.\n"
     ]
    },
    {
     "name": "stdout",
     "output_type": "stream",
     "text": [
      "{'w1': 0.9459490757837131, 'w2': 0.4305566744764866, 'w3': 0.7011176357984982, 'w4': 0.2976040155941727, 'w5': 0.6511064459556317, 'w6': 0.48358169419580843, 'w7': 0.38838573316292874, 'w8': 0.8450410788391878, 'threshold': 0.27}\n"
     ]
    },
    {
     "name": "stderr",
     "output_type": "stream",
     "text": [
      "[I 2023-07-04 16:01:47,565] Trial 216 finished with value: 0.6876316070556641 and parameters: {'w1': 0.551027433594141, 'w2': 0.15817418139033879, 'w3': 0.7229621930304424, 'w4': 0.33242639592264966, 'w5': 0.680974201472394, 'w6': 0.5014567887777728, 'w7': 0.4407941744776662, 'w8': 0.8730376492989766}. Best is trial 173 with value: 0.6886115074157715.\n"
     ]
    },
    {
     "name": "stdout",
     "output_type": "stream",
     "text": [
      "{'w1': 0.551027433594141, 'w2': 0.15817418139033879, 'w3': 0.7229621930304424, 'w4': 0.33242639592264966, 'w5': 0.680974201472394, 'w6': 0.5014567887777728, 'w7': 0.4407941744776662, 'w8': 0.8730376492989766, 'threshold': 0.3}\n"
     ]
    },
    {
     "name": "stderr",
     "output_type": "stream",
     "text": [
      "[I 2023-07-04 16:01:47,976] Trial 217 finished with value: 0.688585102558136 and parameters: {'w1': 0.9724032655634148, 'w2': 0.4483593839155967, 'w3': 0.6788331556652376, 'w4': 0.30966568550611834, 'w5': 0.707818037560877, 'w6': 0.5237151929911126, 'w7': 0.40924761041695623, 'w8': 0.8219543628859413}. Best is trial 173 with value: 0.6886115074157715.\n"
     ]
    },
    {
     "name": "stdout",
     "output_type": "stream",
     "text": [
      "{'w1': 0.9724032655634148, 'w2': 0.4483593839155967, 'w3': 0.6788331556652376, 'w4': 0.30966568550611834, 'w5': 0.707818037560877, 'w6': 0.5237151929911126, 'w7': 0.40924761041695623, 'w8': 0.8219543628859413, 'threshold': 0.28}\n"
     ]
    },
    {
     "name": "stderr",
     "output_type": "stream",
     "text": [
      "[I 2023-07-04 16:01:48,398] Trial 218 finished with value: 0.6884754300117493 and parameters: {'w1': 0.9780264513648677, 'w2': 0.4548401354777951, 'w3': 0.6693922227398208, 'w4': 0.3749918383500485, 'w5': 0.7610907715164006, 'w6': 0.5281307000992207, 'w7': 0.4149037310618738, 'w8': 0.8161835788260331}. Best is trial 173 with value: 0.6886115074157715.\n"
     ]
    },
    {
     "name": "stdout",
     "output_type": "stream",
     "text": [
      "{'w1': 0.9780264513648677, 'w2': 0.4548401354777951, 'w3': 0.6693922227398208, 'w4': 0.3749918383500485, 'w5': 0.7610907715164006, 'w6': 0.5281307000992207, 'w7': 0.4149037310618738, 'w8': 0.8161835788260331, 'threshold': 0.27}\n"
     ]
    },
    {
     "name": "stderr",
     "output_type": "stream",
     "text": [
      "[I 2023-07-04 16:01:48,812] Trial 219 finished with value: 0.688572883605957 and parameters: {'w1': 0.935491485733056, 'w2': 0.5172072456584846, 'w3': 0.6848776787358527, 'w4': 0.31566250373021726, 'w5': 0.7043938826621361, 'w6': 0.44338945283678666, 'w7': 0.47385070825513004, 'w8': 0.7659769861666885}. Best is trial 173 with value: 0.6886115074157715.\n"
     ]
    },
    {
     "name": "stdout",
     "output_type": "stream",
     "text": [
      "{'w1': 0.935491485733056, 'w2': 0.5172072456584846, 'w3': 0.6848776787358527, 'w4': 0.31566250373021726, 'w5': 0.7043938826621361, 'w6': 0.44338945283678666, 'w7': 0.47385070825513004, 'w8': 0.7659769861666885, 'threshold': 0.28}\n"
     ]
    },
    {
     "name": "stderr",
     "output_type": "stream",
     "text": [
      "[I 2023-07-04 16:01:49,222] Trial 220 finished with value: 0.6884890794754028 and parameters: {'w1': 0.8967891078900907, 'w2': 0.5232409343136842, 'w3': 0.6816253233300174, 'w4': 0.3136132798227396, 'w5': 0.7444332483210626, 'w6': 0.4460350946716179, 'w7': 0.486800466624285, 'w8': 0.7624750614962809}. Best is trial 173 with value: 0.6886115074157715.\n"
     ]
    },
    {
     "name": "stdout",
     "output_type": "stream",
     "text": [
      "{'w1': 0.8967891078900907, 'w2': 0.5232409343136842, 'w3': 0.6816253233300174, 'w4': 0.3136132798227396, 'w5': 0.7444332483210626, 'w6': 0.4460350946716179, 'w7': 0.486800466624285, 'w8': 0.7624750614962809, 'threshold': 0.28}\n"
     ]
    },
    {
     "name": "stderr",
     "output_type": "stream",
     "text": [
      "[I 2023-07-04 16:01:49,635] Trial 221 finished with value: 0.6885681748390198 and parameters: {'w1': 0.9369605686707716, 'w2': 0.49978750213914236, 'w3': 0.6940117033790585, 'w4': 0.3376817635805345, 'w5': 0.6945953920576059, 'w6': 0.4217178255486118, 'w7': 0.4644022249659555, 'w8': 0.7875057881667813}. Best is trial 173 with value: 0.6886115074157715.\n"
     ]
    },
    {
     "name": "stdout",
     "output_type": "stream",
     "text": [
      "{'w1': 0.9369605686707716, 'w2': 0.49978750213914236, 'w3': 0.6940117033790585, 'w4': 0.3376817635805345, 'w5': 0.6945953920576059, 'w6': 0.4217178255486118, 'w7': 0.4644022249659555, 'w8': 0.7875057881667813, 'threshold': 0.28}\n"
     ]
    },
    {
     "name": "stderr",
     "output_type": "stream",
     "text": [
      "[I 2023-07-04 16:01:50,046] Trial 222 finished with value: 0.6879653334617615 and parameters: {'w1': 0.9382088378682228, 'w2': 0.004992430863429154, 'w3': 0.6587862213346447, 'w4': 0.35192358074123836, 'w5': 0.7060845829005963, 'w6': 0.4322394392972026, 'w7': 0.46802517515739317, 'w8': 0.7816103050069947}. Best is trial 173 with value: 0.6886115074157715.\n"
     ]
    },
    {
     "name": "stdout",
     "output_type": "stream",
     "text": [
      "{'w1': 0.9382088378682228, 'w2': 0.004992430863429154, 'w3': 0.6587862213346447, 'w4': 0.35192358074123836, 'w5': 0.7060845829005963, 'w6': 0.4322394392972026, 'w7': 0.46802517515739317, 'w8': 0.7816103050069947, 'threshold': 0.29}\n"
     ]
    },
    {
     "name": "stderr",
     "output_type": "stream",
     "text": [
      "[I 2023-07-04 16:01:50,458] Trial 223 finished with value: 0.6885483860969543 and parameters: {'w1': 0.9186548906962428, 'w2': 0.4931377919377469, 'w3': 0.6807434150512303, 'w4': 0.2860619528407666, 'w5': 0.7203949835231184, 'w6': 0.42575014821371204, 'w7': 0.4570175280087096, 'w8': 0.7367222188462681}. Best is trial 173 with value: 0.6886115074157715.\n"
     ]
    },
    {
     "name": "stdout",
     "output_type": "stream",
     "text": [
      "{'w1': 0.9186548906962428, 'w2': 0.4931377919377469, 'w3': 0.6807434150512303, 'w4': 0.2860619528407666, 'w5': 0.7203949835231184, 'w6': 0.42575014821371204, 'w7': 0.4570175280087096, 'w8': 0.7367222188462681, 'threshold': 0.28}\n"
     ]
    },
    {
     "name": "stderr",
     "output_type": "stream",
     "text": [
      "[I 2023-07-04 16:01:50,877] Trial 224 finished with value: 0.6880882382392883 and parameters: {'w1': 0.6344572636583163, 'w2': 0.508555413145178, 'w3': 0.646589747966795, 'w4': 0.26101260412872407, 'w5': 0.6950864364840796, 'w6': 0.4515827913458133, 'w7': 0.5061509501601074, 'w8': 0.7651590144125953}. Best is trial 173 with value: 0.6886115074157715.\n"
     ]
    },
    {
     "name": "stdout",
     "output_type": "stream",
     "text": [
      "{'w1': 0.6344572636583163, 'w2': 0.508555413145178, 'w3': 0.646589747966795, 'w4': 0.26101260412872407, 'w5': 0.6950864364840796, 'w6': 0.4515827913458133, 'w7': 0.5061509501601074, 'w8': 0.7651590144125953, 'threshold': 0.24}\n"
     ]
    },
    {
     "name": "stderr",
     "output_type": "stream",
     "text": [
      "[I 2023-07-04 16:01:51,290] Trial 225 finished with value: 0.6884180307388306 and parameters: {'w1': 0.9515954887305328, 'w2': 0.5674596099141637, 'w3': 0.712330205025686, 'w4': 0.30078398604141215, 'w5': 0.739808493924694, 'w6': 0.3893852781795606, 'w7': 0.4348926014805295, 'w8': 0.8017177831157745}. Best is trial 173 with value: 0.6886115074157715.\n"
     ]
    },
    {
     "name": "stdout",
     "output_type": "stream",
     "text": [
      "{'w1': 0.9515954887305328, 'w2': 0.5674596099141637, 'w3': 0.712330205025686, 'w4': 0.30078398604141215, 'w5': 0.739808493924694, 'w6': 0.3893852781795606, 'w7': 0.4348926014805295, 'w8': 0.8017177831157745, 'threshold': 0.27}\n"
     ]
    },
    {
     "name": "stderr",
     "output_type": "stream",
     "text": [
      "[I 2023-07-04 16:01:51,702] Trial 226 finished with value: 0.6877573728561401 and parameters: {'w1': 0.9314706770841935, 'w2': 0.5450407265297339, 'w3': 0.6919310148834371, 'w4': 0.3162536873997029, 'w5': 0.15588711841368175, 'w6': 0.4038443140076078, 'w7': 0.47453890836546875, 'w8': 0.7125243499506226}. Best is trial 173 with value: 0.6886115074157715.\n"
     ]
    },
    {
     "name": "stdout",
     "output_type": "stream",
     "text": [
      "{'w1': 0.9314706770841935, 'w2': 0.5450407265297339, 'w3': 0.6919310148834371, 'w4': 0.3162536873997029, 'w5': 0.15588711841368175, 'w6': 0.4038443140076078, 'w7': 0.47453890836546875, 'w8': 0.7125243499506226, 'threshold': 0.31}\n"
     ]
    },
    {
     "name": "stderr",
     "output_type": "stream",
     "text": [
      "[I 2023-07-04 16:01:52,114] Trial 227 finished with value: 0.6882860064506531 and parameters: {'w1': 0.9671099319186311, 'w2': 0.5280816750258244, 'w3': 0.7366749253376018, 'w4': 0.08196488983908357, 'w5': 0.6619154835436274, 'w6': 0.46683704738731546, 'w7': 0.42148059243016067, 'w8': 0.775589474021474}. Best is trial 173 with value: 0.6886115074157715.\n"
     ]
    },
    {
     "name": "stdout",
     "output_type": "stream",
     "text": [
      "{'w1': 0.9671099319186311, 'w2': 0.5280816750258244, 'w3': 0.7366749253376018, 'w4': 0.08196488983908357, 'w5': 0.6619154835436274, 'w6': 0.46683704738731546, 'w7': 0.42148059243016067, 'w8': 0.775589474021474, 'threshold': 0.28}\n"
     ]
    },
    {
     "name": "stderr",
     "output_type": "stream",
     "text": [
      "[I 2023-07-04 16:01:52,526] Trial 228 finished with value: 0.6885194778442383 and parameters: {'w1': 0.9161114326180025, 'w2': 0.4819261609513167, 'w3': 0.6290530215301904, 'w4': 0.27961071853847613, 'w5': 0.7126139207613755, 'w6': 0.48218006744336434, 'w7': 0.4429748368890256, 'w8': 0.8197911754586661}. Best is trial 173 with value: 0.6886115074157715.\n"
     ]
    },
    {
     "name": "stdout",
     "output_type": "stream",
     "text": [
      "{'w1': 0.9161114326180025, 'w2': 0.4819261609513167, 'w3': 0.6290530215301904, 'w4': 0.27961071853847613, 'w5': 0.7126139207613755, 'w6': 0.48218006744336434, 'w7': 0.4429748368890256, 'w8': 0.8197911754586661, 'threshold': 0.28}\n"
     ]
    },
    {
     "name": "stderr",
     "output_type": "stream",
     "text": [
      "[I 2023-07-04 16:01:52,938] Trial 229 finished with value: 0.6872315406799316 and parameters: {'w1': 0.6693001107812578, 'w2': 0.4530830999618726, 'w3': 0.7079984691381003, 'w4': 0.7615847459123929, 'w5': 0.7528843698795527, 'w6': 0.4137864720733112, 'w7': 0.40372059611121036, 'w8': 0.7885247903009887}. Best is trial 173 with value: 0.6886115074157715.\n"
     ]
    },
    {
     "name": "stdout",
     "output_type": "stream",
     "text": [
      "{'w1': 0.6693001107812578, 'w2': 0.4530830999618726, 'w3': 0.7079984691381003, 'w4': 0.7615847459123929, 'w5': 0.7528843698795527, 'w6': 0.4137864720733112, 'w7': 0.40372059611121036, 'w8': 0.7885247903009887, 'threshold': 0.27}\n"
     ]
    },
    {
     "name": "stderr",
     "output_type": "stream",
     "text": [
      "[I 2023-07-04 16:01:53,350] Trial 230 finished with value: 0.6882891058921814 and parameters: {'w1': 0.7356014282006089, 'w2': 0.5002927723671764, 'w3': 0.6721764421598798, 'w4': 0.24778751012954675, 'w5': 0.6275586937966215, 'w6': 0.5160917938016752, 'w7': 0.4282231063939037, 'w8': 0.7505391262822464}. Best is trial 173 with value: 0.6886115074157715.\n"
     ]
    },
    {
     "name": "stdout",
     "output_type": "stream",
     "text": [
      "{'w1': 0.7356014282006089, 'w2': 0.5002927723671764, 'w3': 0.6721764421598798, 'w4': 0.24778751012954675, 'w5': 0.6275586937966215, 'w6': 0.5160917938016752, 'w7': 0.4282231063939037, 'w8': 0.7505391262822464, 'threshold': 0.27}\n"
     ]
    },
    {
     "name": "stderr",
     "output_type": "stream",
     "text": [
      "[I 2023-07-04 16:01:53,773] Trial 231 finished with value: 0.6883193850517273 and parameters: {'w1': 0.9776922104086201, 'w2': 0.4719099827800988, 'w3': 0.696754136536626, 'w4': 0.33247316864576404, 'w5': 0.6856265915113922, 'w6': 0.5322438435861608, 'w7': 0.3982768931446001, 'w8': 0.45262876226441234}. Best is trial 173 with value: 0.6886115074157715.\n"
     ]
    },
    {
     "name": "stdout",
     "output_type": "stream",
     "text": [
      "{'w1': 0.9776922104086201, 'w2': 0.4719099827800988, 'w3': 0.696754136536626, 'w4': 0.33247316864576404, 'w5': 0.6856265915113922, 'w6': 0.5322438435861608, 'w7': 0.3982768931446001, 'w8': 0.45262876226441234, 'threshold': 0.29}\n"
     ]
    },
    {
     "name": "stderr",
     "output_type": "stream",
     "text": [
      "[I 2023-07-04 16:01:54,191] Trial 232 finished with value: 0.6880793571472168 and parameters: {'w1': 0.9828232331987131, 'w2': 0.465838754485678, 'w3': 0.23953510375051412, 'w4': 0.3401595281329928, 'w5': 0.6804986834842127, 'w6': 0.9209332329141316, 'w7': 0.38568457874069345, 'w8': 0.8278699229914215}. Best is trial 173 with value: 0.6886115074157715.\n"
     ]
    },
    {
     "name": "stdout",
     "output_type": "stream",
     "text": [
      "{'w1': 0.9828232331987131, 'w2': 0.465838754485678, 'w3': 0.23953510375051412, 'w4': 0.3401595281329928, 'w5': 0.6804986834842127, 'w6': 0.9209332329141316, 'w7': 0.38568457874069345, 'w8': 0.8278699229914215, 'threshold': 0.27}\n"
     ]
    },
    {
     "name": "stderr",
     "output_type": "stream",
     "text": [
      "[I 2023-07-04 16:01:54,606] Trial 233 finished with value: 0.6878078579902649 and parameters: {'w1': 0.6102806968210144, 'w2': 0.44487147593645004, 'w3': 0.6874371116466018, 'w4': 0.38313014604405304, 'w5': 0.7263233721736917, 'w6': 0.5599691590280692, 'w7': 0.41049600035447287, 'w8': 0.8502335789073105}. Best is trial 173 with value: 0.6886115074157715.\n"
     ]
    },
    {
     "name": "stdout",
     "output_type": "stream",
     "text": [
      "{'w1': 0.6102806968210144, 'w2': 0.44487147593645004, 'w3': 0.6874371116466018, 'w4': 0.38313014604405304, 'w5': 0.7263233721736917, 'w6': 0.5599691590280692, 'w7': 0.41049600035447287, 'w8': 0.8502335789073105, 'threshold': 0.28}\n"
     ]
    },
    {
     "name": "stderr",
     "output_type": "stream",
     "text": [
      "[I 2023-07-04 16:01:55,028] Trial 234 finished with value: 0.6885597109794617 and parameters: {'w1': 0.9516419666948279, 'w2': 0.48105365273552475, 'w3': 0.7084416959592715, 'w4': 0.32328257200965793, 'w5': 0.7030183968554821, 'w6': 0.5357891582132726, 'w7': 0.4646663764231809, 'w8': 0.7952384023384113}. Best is trial 173 with value: 0.6886115074157715.\n"
     ]
    },
    {
     "name": "stdout",
     "output_type": "stream",
     "text": [
      "{'w1': 0.9516419666948279, 'w2': 0.48105365273552475, 'w3': 0.7084416959592715, 'w4': 0.32328257200965793, 'w5': 0.7030183968554821, 'w6': 0.5357891582132726, 'w7': 0.4646663764231809, 'w8': 0.7952384023384113, 'threshold': 0.27}\n"
     ]
    },
    {
     "name": "stderr",
     "output_type": "stream",
     "text": [
      "[I 2023-07-04 16:01:55,445] Trial 235 finished with value: 0.6885855197906494 and parameters: {'w1': 0.9457024914910751, 'w2': 0.49125574193964056, 'w3': 0.7265023372029578, 'w4': 0.3025822628089517, 'w5': 0.7039500246828929, 'w6': 0.4752643624175929, 'w7': 0.46417529226625776, 'w8': 0.8075960839588766}. Best is trial 173 with value: 0.6886115074157715.\n"
     ]
    },
    {
     "name": "stdout",
     "output_type": "stream",
     "text": [
      "{'w1': 0.9457024914910751, 'w2': 0.49125574193964056, 'w3': 0.7265023372029578, 'w4': 0.3025822628089517, 'w5': 0.7039500246828929, 'w6': 0.4752643624175929, 'w7': 0.46417529226625776, 'w8': 0.8075960839588766, 'threshold': 0.28}\n"
     ]
    },
    {
     "name": "stderr",
     "output_type": "stream",
     "text": [
      "[I 2023-07-04 16:01:55,868] Trial 236 finished with value: 0.6885397434234619 and parameters: {'w1': 0.9409924880499365, 'w2': 0.5093292673591985, 'w3': 0.7461721818919383, 'w4': 0.3523446852305573, 'w5': 0.7007413132987226, 'w6': 0.5130468530384803, 'w7': 0.4702475676552438, 'w8': 0.7981090683448688}. Best is trial 173 with value: 0.6886115074157715.\n"
     ]
    },
    {
     "name": "stdout",
     "output_type": "stream",
     "text": [
      "{'w1': 0.9409924880499365, 'w2': 0.5093292673591985, 'w3': 0.7461721818919383, 'w4': 0.3523446852305573, 'w5': 0.7007413132987226, 'w6': 0.5130468530384803, 'w7': 0.4702475676552438, 'w8': 0.7981090683448688, 'threshold': 0.27}\n"
     ]
    },
    {
     "name": "stderr",
     "output_type": "stream",
     "text": [
      "[I 2023-07-04 16:01:56,281] Trial 237 finished with value: 0.6878284811973572 and parameters: {'w1': 0.5238169627612214, 'w2': 0.4945280628082572, 'w3': 0.7296978258442485, 'w4': 0.3109688900292302, 'w5': 0.4607409998337507, 'w6': 0.38289958329502105, 'w7': 0.4919947349714789, 'w8': 0.784271169885695}. Best is trial 173 with value: 0.6886115074157715.\n"
     ]
    },
    {
     "name": "stdout",
     "output_type": "stream",
     "text": [
      "{'w1': 0.5238169627612214, 'w2': 0.4945280628082572, 'w3': 0.7296978258442485, 'w4': 0.3109688900292302, 'w5': 0.4607409998337507, 'w6': 0.38289958329502105, 'w7': 0.4919947349714789, 'w8': 0.784271169885695, 'threshold': 0.24}\n"
     ]
    },
    {
     "name": "stderr",
     "output_type": "stream",
     "text": [
      "[I 2023-07-04 16:01:56,695] Trial 238 finished with value: 0.6886047124862671 and parameters: {'w1': 0.9520135220786493, 'w2': 0.48264612075949526, 'w3': 0.6576598087958995, 'w4': 0.28699842255104613, 'w5': 0.7073315232706351, 'w6': 0.4851084680780366, 'w7': 0.46038949706777565, 'w8': 0.8029094161491197}. Best is trial 173 with value: 0.6886115074157715.\n"
     ]
    },
    {
     "name": "stdout",
     "output_type": "stream",
     "text": [
      "{'w1': 0.9520135220786493, 'w2': 0.48264612075949526, 'w3': 0.6576598087958995, 'w4': 0.28699842255104613, 'w5': 0.7073315232706351, 'w6': 0.4851084680780366, 'w7': 0.46038949706777565, 'w8': 0.8029094161491197, 'threshold': 0.28}\n"
     ]
    },
    {
     "name": "stderr",
     "output_type": "stream",
     "text": [
      "[I 2023-07-04 16:01:57,110] Trial 239 finished with value: 0.6884180307388306 and parameters: {'w1': 0.8870779964536071, 'w2': 0.5352581822118943, 'w3': 0.6640759968545125, 'w4': 0.28608407565865157, 'w5': 0.7262598224358173, 'w6': 0.3599088276918004, 'w7': 0.45057567606273546, 'w8': 0.7972463649607265}. Best is trial 173 with value: 0.6886115074157715.\n"
     ]
    },
    {
     "name": "stdout",
     "output_type": "stream",
     "text": [
      "{'w1': 0.8870779964536071, 'w2': 0.5352581822118943, 'w3': 0.6640759968545125, 'w4': 0.28608407565865157, 'w5': 0.7262598224358173, 'w6': 0.3599088276918004, 'w7': 0.45057567606273546, 'w8': 0.7972463649607265, 'threshold': 0.28}\n"
     ]
    },
    {
     "name": "stderr",
     "output_type": "stream",
     "text": [
      "[I 2023-07-04 16:01:57,523] Trial 240 finished with value: 0.6884750723838806 and parameters: {'w1': 0.9524283159428171, 'w2': 0.48575059650684344, 'w3': 0.649959966494435, 'w4': 0.31825192938920743, 'w5': 0.6991589392010973, 'w6': 0.4942682842254057, 'w7': 0.5117771383609658, 'w8': 0.8127131566262555}. Best is trial 173 with value: 0.6886115074157715.\n"
     ]
    },
    {
     "name": "stdout",
     "output_type": "stream",
     "text": [
      "{'w1': 0.9524283159428171, 'w2': 0.48575059650684344, 'w3': 0.649959966494435, 'w4': 0.31825192938920743, 'w5': 0.6991589392010973, 'w6': 0.4942682842254057, 'w7': 0.5117771383609658, 'w8': 0.8127131566262555, 'threshold': 0.27}\n"
     ]
    },
    {
     "name": "stderr",
     "output_type": "stream",
     "text": [
      "[I 2023-07-04 16:01:57,945] Trial 241 finished with value: 0.6885853409767151 and parameters: {'w1': 0.9354866823294934, 'w2': 0.47886467422542767, 'w3': 0.7070784177115879, 'w4': 0.29540084304820496, 'w5': 0.7093589686444765, 'w6': 0.4722407126269479, 'w7': 0.466464860717396, 'w8': 0.7709880169829798}. Best is trial 173 with value: 0.6886115074157715.\n"
     ]
    },
    {
     "name": "stdout",
     "output_type": "stream",
     "text": [
      "{'w1': 0.9354866823294934, 'w2': 0.47886467422542767, 'w3': 0.7070784177115879, 'w4': 0.29540084304820496, 'w5': 0.7093589686444765, 'w6': 0.4722407126269479, 'w7': 0.466464860717396, 'w8': 0.7709880169829798, 'threshold': 0.27}\n"
     ]
    },
    {
     "name": "stderr",
     "output_type": "stream",
     "text": [
      "[I 2023-07-04 16:01:58,362] Trial 242 finished with value: 0.6885026693344116 and parameters: {'w1': 0.9321631504419463, 'w2': 0.5123694050730042, 'w3': 0.6153711462493947, 'w4': 0.30244537659334875, 'w5': 0.71151203107067, 'w6': 0.45027370163410596, 'w7': 0.47195942610857616, 'w8': 0.7664733145827436}. Best is trial 173 with value: 0.6886115074157715.\n"
     ]
    },
    {
     "name": "stdout",
     "output_type": "stream",
     "text": [
      "{'w1': 0.9321631504419463, 'w2': 0.5123694050730042, 'w3': 0.6153711462493947, 'w4': 0.30244537659334875, 'w5': 0.71151203107067, 'w6': 0.45027370163410596, 'w7': 0.47195942610857616, 'w8': 0.7664733145827436, 'threshold': 0.28}\n"
     ]
    },
    {
     "name": "stderr",
     "output_type": "stream",
     "text": [
      "[I 2023-07-04 16:01:58,776] Trial 243 finished with value: 0.6885247826576233 and parameters: {'w1': 0.912893133914329, 'w2': 0.48465787067624927, 'w3': 0.7056742845346935, 'w4': 0.2726942678881565, 'w5': 0.7340780385511798, 'w6': 0.47672214064101776, 'w7': 0.4593667486673204, 'w8': 0.8055734568888737}. Best is trial 173 with value: 0.6886115074157715.\n"
     ]
    },
    {
     "name": "stdout",
     "output_type": "stream",
     "text": [
      "{'w1': 0.912893133914329, 'w2': 0.48465787067624927, 'w3': 0.7056742845346935, 'w4': 0.2726942678881565, 'w5': 0.7340780385511798, 'w6': 0.47672214064101776, 'w7': 0.4593667486673204, 'w8': 0.8055734568888737, 'threshold': 0.28}\n"
     ]
    },
    {
     "name": "stderr",
     "output_type": "stream",
     "text": [
      "[I 2023-07-04 16:01:59,190] Trial 244 finished with value: 0.6880805492401123 and parameters: {'w1': 0.9585771162942871, 'w2': 0.9690050467617264, 'w3': 0.6798351283475144, 'w4': 0.2894728017848178, 'w5': 0.6488541519884188, 'w6': 0.5369453823476169, 'w7': 0.4707116345406498, 'w8': 0.7787110687200697}. Best is trial 173 with value: 0.6886115074157715.\n"
     ]
    },
    {
     "name": "stdout",
     "output_type": "stream",
     "text": [
      "{'w1': 0.9585771162942871, 'w2': 0.9690050467617264, 'w3': 0.6798351283475144, 'w4': 0.2894728017848178, 'w5': 0.6488541519884188, 'w6': 0.5369453823476169, 'w7': 0.4707116345406498, 'w8': 0.7787110687200697, 'threshold': 0.26}\n"
     ]
    },
    {
     "name": "stderr",
     "output_type": "stream",
     "text": [
      "[I 2023-07-04 16:01:59,610] Trial 245 finished with value: 0.6885055899620056 and parameters: {'w1': 0.936656381174995, 'w2': 0.47405439243982234, 'w3': 0.757043960026897, 'w4': 0.3161700673397432, 'w5': 0.6722273745518266, 'w6': 0.5104808497761231, 'w7': 0.49165538730981273, 'w8': 0.8223868732413401}. Best is trial 173 with value: 0.6886115074157715.\n"
     ]
    },
    {
     "name": "stdout",
     "output_type": "stream",
     "text": [
      "{'w1': 0.936656381174995, 'w2': 0.47405439243982234, 'w3': 0.757043960026897, 'w4': 0.3161700673397432, 'w5': 0.6722273745518266, 'w6': 0.5104808497761231, 'w7': 0.49165538730981273, 'w8': 0.8223868732413401, 'threshold': 0.27}\n"
     ]
    },
    {
     "name": "stderr",
     "output_type": "stream",
     "text": [
      "[I 2023-07-04 16:02:00,025] Trial 246 finished with value: 0.6885344386100769 and parameters: {'w1': 0.963792888866705, 'w2': 0.4962198530135917, 'w3': 0.7255531896200044, 'w4': 0.2693423670873027, 'w5': 0.6930024297030304, 'w6': 0.5559535022753145, 'w7': 0.5276081273206326, 'w8': 0.7558330247441203}. Best is trial 173 with value: 0.6886115074157715.\n"
     ]
    },
    {
     "name": "stdout",
     "output_type": "stream",
     "text": [
      "{'w1': 0.963792888866705, 'w2': 0.4962198530135917, 'w3': 0.7255531896200044, 'w4': 0.2693423670873027, 'w5': 0.6930024297030304, 'w6': 0.5559535022753145, 'w7': 0.5276081273206326, 'w8': 0.7558330247441203, 'threshold': 0.27}\n"
     ]
    },
    {
     "name": "stderr",
     "output_type": "stream",
     "text": [
      "[I 2023-07-04 16:02:00,438] Trial 247 finished with value: 0.6876438856124878 and parameters: {'w1': 0.4544227573747287, 'w2': 0.46226217566839634, 'w3': 0.6511520073486963, 'w4': 0.29791774900521806, 'w5': 0.7152619292126801, 'w6': 0.526622946481759, 'w7': 0.44767406821666456, 'w8': 0.7871173366557865}. Best is trial 173 with value: 0.6886115074157715.\n"
     ]
    },
    {
     "name": "stdout",
     "output_type": "stream",
     "text": [
      "{'w1': 0.4544227573747287, 'w2': 0.46226217566839634, 'w3': 0.6511520073486963, 'w4': 0.29791774900521806, 'w5': 0.7152619292126801, 'w6': 0.526622946481759, 'w7': 0.44767406821666456, 'w8': 0.7871173366557865, 'threshold': 0.26}\n"
     ]
    },
    {
     "name": "stderr",
     "output_type": "stream",
     "text": [
      "[I 2023-07-04 16:02:00,857] Trial 248 finished with value: 0.6885315775871277 and parameters: {'w1': 0.9145581154653928, 'w2': 0.5164699285251334, 'w3': 0.6881310199335636, 'w4': 0.35781192025282227, 'w5': 0.7389378558498392, 'w6': 0.49504615184217915, 'w7': 0.496771437979559, 'w8': 0.8078387455860134}. Best is trial 173 with value: 0.6886115074157715.\n"
     ]
    },
    {
     "name": "stdout",
     "output_type": "stream",
     "text": [
      "{'w1': 0.9145581154653928, 'w2': 0.5164699285251334, 'w3': 0.6881310199335636, 'w4': 0.35781192025282227, 'w5': 0.7389378558498392, 'w6': 0.49504615184217915, 'w7': 0.496771437979559, 'w8': 0.8078387455860134, 'threshold': 0.28}\n"
     ]
    },
    {
     "name": "stderr",
     "output_type": "stream",
     "text": [
      "[I 2023-07-04 16:02:01,273] Trial 249 finished with value: 0.688209056854248 and parameters: {'w1': 0.945271953075813, 'w2': 0.4807349375289517, 'w3': 0.7095837786110436, 'w4': 0.3296914068227623, 'w5': 0.773951553973707, 'w6': 0.4270035726783442, 'w7': 0.8846334235125926, 'w8': 0.8295889469287098}. Best is trial 173 with value: 0.6886115074157715.\n"
     ]
    },
    {
     "name": "stdout",
     "output_type": "stream",
     "text": [
      "{'w1': 0.945271953075813, 'w2': 0.4807349375289517, 'w3': 0.7095837786110436, 'w4': 0.3296914068227623, 'w5': 0.773951553973707, 'w6': 0.4270035726783442, 'w7': 0.8846334235125926, 'w8': 0.8295889469287098, 'threshold': 0.25}\n"
     ]
    },
    {
     "name": "stderr",
     "output_type": "stream",
     "text": [
      "[I 2023-07-04 16:02:01,688] Trial 250 finished with value: 0.6882859468460083 and parameters: {'w1': 0.7536801837985576, 'w2': 0.45999566342894577, 'w3': 0.6626335373378021, 'w4': 0.25985796687423457, 'w5': 0.6987230444687886, 'w6': 0.463437970585496, 'w7': 0.43398370026846844, 'w8': 0.772697220961976}. Best is trial 173 with value: 0.6886115074157715.\n"
     ]
    },
    {
     "name": "stdout",
     "output_type": "stream",
     "text": [
      "{'w1': 0.7536801837985576, 'w2': 0.45999566342894577, 'w3': 0.6626335373378021, 'w4': 0.25985796687423457, 'w5': 0.6987230444687886, 'w6': 0.463437970585496, 'w7': 0.43398370026846844, 'w8': 0.772697220961976, 'threshold': 0.26}\n"
     ]
    },
    {
     "name": "stderr",
     "output_type": "stream",
     "text": [
      "[I 2023-07-04 16:02:02,108] Trial 251 finished with value: 0.6884996294975281 and parameters: {'w1': 0.9756131895309963, 'w2': 0.49827275509728186, 'w3': 0.73299255184053, 'w4': 0.2829506567819647, 'w5': 0.6643552119361511, 'w6': 0.5433788418379225, 'w7': 0.46577902424295575, 'w8': 0.8034296746217904}. Best is trial 173 with value: 0.6886115074157715.\n"
     ]
    },
    {
     "name": "stdout",
     "output_type": "stream",
     "text": [
      "{'w1': 0.9756131895309963, 'w2': 0.49827275509728186, 'w3': 0.73299255184053, 'w4': 0.2829506567819647, 'w5': 0.6643552119361511, 'w6': 0.5433788418379225, 'w7': 0.46577902424295575, 'w8': 0.8034296746217904, 'threshold': 0.28}\n"
     ]
    },
    {
     "name": "stderr",
     "output_type": "stream",
     "text": [
      "[I 2023-07-04 16:02:02,531] Trial 252 finished with value: 0.6876320242881775 and parameters: {'w1': 0.40108802818973016, 'w2': 0.4333361060855949, 'w3': 0.6825943537450587, 'w4': 0.30848051180409863, 'w5': 0.4910086529262711, 'w6': 0.5644327454747659, 'w7': 0.48102161550054123, 'w8': 0.7264144824364944}. Best is trial 173 with value: 0.6886115074157715.\n"
     ]
    },
    {
     "name": "stdout",
     "output_type": "stream",
     "text": [
      "{'w1': 0.40108802818973016, 'w2': 0.4333361060855949, 'w3': 0.6825943537450587, 'w4': 0.30848051180409863, 'w5': 0.4910086529262711, 'w6': 0.5644327454747659, 'w7': 0.48102161550054123, 'w8': 0.7264144824364944, 'threshold': 0.27}\n"
     ]
    },
    {
     "name": "stderr",
     "output_type": "stream",
     "text": [
      "[I 2023-07-04 16:02:02,947] Trial 253 finished with value: 0.6885568499565125 and parameters: {'w1': 0.892643892598037, 'w2': 0.47682979128618286, 'w3': 0.6376510046479819, 'w4': 0.2557457641578481, 'w5': 0.7268311151267762, 'w6': 0.5137317890715037, 'w7': 0.45146555228122404, 'w8': 0.7458777661026849}. Best is trial 173 with value: 0.6886115074157715.\n"
     ]
    },
    {
     "name": "stdout",
     "output_type": "stream",
     "text": [
      "{'w1': 0.892643892598037, 'w2': 0.47682979128618286, 'w3': 0.6376510046479819, 'w4': 0.2557457641578481, 'w5': 0.7268311151267762, 'w6': 0.5137317890715037, 'w7': 0.45146555228122404, 'w8': 0.7458777661026849, 'threshold': 0.28}\n"
     ]
    },
    {
     "name": "stderr",
     "output_type": "stream",
     "text": [
      "[I 2023-07-04 16:02:03,364] Trial 254 finished with value: 0.6884781718254089 and parameters: {'w1': 0.93248395135396, 'w2': 0.5336519491006286, 'w3': 0.7070214099936241, 'w4': 0.4379371415116714, 'w5': 0.7474812913573813, 'w6': 0.4405117605436256, 'w7': 0.4278794338341508, 'w8': 0.7841342713057096}. Best is trial 173 with value: 0.6886115074157715.\n"
     ]
    },
    {
     "name": "stdout",
     "output_type": "stream",
     "text": [
      "{'w1': 0.93248395135396, 'w2': 0.5336519491006286, 'w3': 0.7070214099936241, 'w4': 0.4379371415116714, 'w5': 0.7474812913573813, 'w6': 0.4405117605436256, 'w7': 0.4278794338341508, 'w8': 0.7841342713057096, 'threshold': 0.27}\n"
     ]
    },
    {
     "name": "stderr",
     "output_type": "stream",
     "text": [
      "[I 2023-07-04 16:02:03,780] Trial 255 finished with value: 0.6868547201156616 and parameters: {'w1': 0.5903599787726851, 'w2': 0.5110511163669625, 'w3': 0.7553352621610474, 'w4': 0.9737664574302296, 'w5': 0.7118740056990959, 'w6': 0.47946658446585066, 'w7': 0.4173658898874278, 'w8': 0.9804429540227165}. Best is trial 173 with value: 0.6886115074157715.\n"
     ]
    },
    {
     "name": "stdout",
     "output_type": "stream",
     "text": [
      "{'w1': 0.5903599787726851, 'w2': 0.5110511163669625, 'w3': 0.7553352621610474, 'w4': 0.9737664574302296, 'w5': 0.7118740056990959, 'w6': 0.47946658446585066, 'w7': 0.4173658898874278, 'w8': 0.9804429540227165, 'threshold': 0.32}\n"
     ]
    },
    {
     "name": "stderr",
     "output_type": "stream",
     "text": [
      "[I 2023-07-04 16:02:04,196] Trial 256 finished with value: 0.6884704232215881 and parameters: {'w1': 0.9603907361227717, 'w2': 0.45075651718248355, 'w3': 0.6762686949103162, 'w4': 0.4967666360894013, 'w5': 0.7608438416505434, 'w6': 0.500979159474113, 'w7': 0.44195130652446574, 'w8': 0.8363376878671194}. Best is trial 173 with value: 0.6886115074157715.\n"
     ]
    },
    {
     "name": "stdout",
     "output_type": "stream",
     "text": [
      "{'w1': 0.9603907361227717, 'w2': 0.45075651718248355, 'w3': 0.6762686949103162, 'w4': 0.4967666360894013, 'w5': 0.7608438416505434, 'w6': 0.500979159474113, 'w7': 0.44195130652446574, 'w8': 0.8363376878671194, 'threshold': 0.27}\n"
     ]
    },
    {
     "name": "stderr",
     "output_type": "stream",
     "text": [
      "[I 2023-07-04 16:02:04,608] Trial 257 finished with value: 0.6884192228317261 and parameters: {'w1': 0.866573220182634, 'w2': 0.5595026636821233, 'w3': 0.7248715941329134, 'w4': 0.334896948734029, 'w5': 0.6845493021076787, 'w6': 0.5253323019721274, 'w7': 0.5083040609840557, 'w8': 0.8128245437975608}. Best is trial 173 with value: 0.6886115074157715.\n"
     ]
    },
    {
     "name": "stdout",
     "output_type": "stream",
     "text": [
      "{'w1': 0.866573220182634, 'w2': 0.5595026636821233, 'w3': 0.7248715941329134, 'w4': 0.334896948734029, 'w5': 0.6845493021076787, 'w6': 0.5253323019721274, 'w7': 0.5083040609840557, 'w8': 0.8128245437975608, 'threshold': 0.28}\n"
     ]
    },
    {
     "name": "stderr",
     "output_type": "stream",
     "text": [
      "[I 2023-07-04 16:02:05,020] Trial 258 finished with value: 0.6885484457015991 and parameters: {'w1': 0.9804823017006553, 'w2': 0.42450256674623216, 'w3': 0.6025537817967197, 'w4': 0.2866756306158164, 'w5': 0.8102835476393522, 'w6': 0.5512217259623037, 'w7': 0.4643597913412897, 'w8': 0.7616466902629575}. Best is trial 173 with value: 0.6886115074157715.\n"
     ]
    },
    {
     "name": "stdout",
     "output_type": "stream",
     "text": [
      "{'w1': 0.9804823017006553, 'w2': 0.42450256674623216, 'w3': 0.6025537817967197, 'w4': 0.2866756306158164, 'w5': 0.8102835476393522, 'w6': 0.5512217259623037, 'w7': 0.4643597913412897, 'w8': 0.7616466902629575, 'threshold': 0.28}\n"
     ]
    },
    {
     "name": "stderr",
     "output_type": "stream",
     "text": [
      "[I 2023-07-04 16:02:05,432] Trial 259 finished with value: 0.6885217428207397 and parameters: {'w1': 0.949887494695778, 'w2': 0.4774422172351014, 'w3': 0.6979643963306217, 'w4': 0.2653445703531215, 'w5': 0.7292838492401237, 'w6': 0.4520901895758949, 'w7': 0.4064303963520901, 'w8': 0.7908102929443969}. Best is trial 173 with value: 0.6886115074157715.\n"
     ]
    },
    {
     "name": "stdout",
     "output_type": "stream",
     "text": [
      "{'w1': 0.949887494695778, 'w2': 0.4774422172351014, 'w3': 0.6979643963306217, 'w4': 0.2653445703531215, 'w5': 0.7292838492401237, 'w6': 0.4520901895758949, 'w7': 0.4064303963520901, 'w8': 0.7908102929443969, 'threshold': 0.27}\n"
     ]
    },
    {
     "name": "stderr",
     "output_type": "stream",
     "text": [
      "[I 2023-07-04 16:02:05,843] Trial 260 finished with value: 0.6882017254829407 and parameters: {'w1': 0.9061115367779161, 'w2': 0.24406147808481027, 'w3': 0.7813609434734528, 'w4': 0.3106033846490406, 'w5': 0.7761107666948285, 'w6': 0.48140483070018236, 'w7': 0.36632454422179034, 'w8': 0.8484923613601612}. Best is trial 173 with value: 0.6886115074157715.\n"
     ]
    },
    {
     "name": "stdout",
     "output_type": "stream",
     "text": [
      "{'w1': 0.9061115367779161, 'w2': 0.24406147808481027, 'w3': 0.7813609434734528, 'w4': 0.3106033846490406, 'w5': 0.7761107666948285, 'w6': 0.48140483070018236, 'w7': 0.36632454422179034, 'w8': 0.8484923613601612, 'threshold': 0.28}\n"
     ]
    },
    {
     "name": "stderr",
     "output_type": "stream",
     "text": [
      "[I 2023-07-04 16:02:06,256] Trial 261 finished with value: 0.6871818900108337 and parameters: {'w1': 0.9278393128295717, 'w2': 0.8703844676349433, 'w3': 0.05523417729870994, 'w4': 0.24194262839310016, 'w5': 0.293649930013057, 'w6': 0.5728709505605779, 'w7': 0.17558947942056402, 'w8': 0.8234117224029158}. Best is trial 173 with value: 0.6886115074157715.\n"
     ]
    },
    {
     "name": "stdout",
     "output_type": "stream",
     "text": [
      "{'w1': 0.9278393128295717, 'w2': 0.8703844676349433, 'w3': 0.05523417729870994, 'w4': 0.24194262839310016, 'w5': 0.293649930013057, 'w6': 0.5728709505605779, 'w7': 0.17558947942056402, 'w8': 0.8234117224029158, 'threshold': 0.28}\n"
     ]
    },
    {
     "name": "stderr",
     "output_type": "stream",
     "text": [
      "[I 2023-07-04 16:02:06,669] Trial 262 finished with value: 0.688359260559082 and parameters: {'w1': 0.9644466618953379, 'w2': 0.49715854351659444, 'w3': 0.7419701135208263, 'w4': 0.3578600575812791, 'w5': 0.7045479074816012, 'w6': 0.417439665386789, 'w7': 0.5340592297511401, 'w8': 0.8991068025208344}. Best is trial 173 with value: 0.6886115074157715.\n"
     ]
    },
    {
     "name": "stdout",
     "output_type": "stream",
     "text": [
      "{'w1': 0.9644466618953379, 'w2': 0.49715854351659444, 'w3': 0.7419701135208263, 'w4': 0.3578600575812791, 'w5': 0.7045479074816012, 'w6': 0.417439665386789, 'w7': 0.5340592297511401, 'w8': 0.8991068025208344, 'threshold': 0.27}\n"
     ]
    },
    {
     "name": "stderr",
     "output_type": "stream",
     "text": [
      "[I 2023-07-04 16:02:07,089] Trial 263 finished with value: 0.6877447962760925 and parameters: {'w1': 0.9449926676937066, 'w2': 0.7381172066471356, 'w3': 0.016934423975481838, 'w4': 0.6177671660530147, 'w5': 0.35162423052380837, 'w6': 0.5258032173765682, 'w7': 0.4323875233561457, 'w8': 0.7697667714533569}. Best is trial 173 with value: 0.6886115074157715.\n"
     ]
    },
    {
     "name": "stdout",
     "output_type": "stream",
     "text": [
      "{'w1': 0.9449926676937066, 'w2': 0.7381172066471356, 'w3': 0.016934423975481838, 'w4': 0.6177671660530147, 'w5': 0.35162423052380837, 'w6': 0.5258032173765682, 'w7': 0.4323875233561457, 'w8': 0.7697667714533569, 'threshold': 0.26}\n"
     ]
    },
    {
     "name": "stderr",
     "output_type": "stream",
     "text": [
      "[I 2023-07-04 16:02:07,501] Trial 264 finished with value: 0.6879868507385254 and parameters: {'w1': 0.9847371660774263, 'w2': 0.4588727020915832, 'w3': 0.7124761626779182, 'w4': 0.018306396784624257, 'w5': 0.7492123700998953, 'w6': 0.6035759014667207, 'w7': 0.4586970780020198, 'w8': 0.053826015005368544}. Best is trial 173 with value: 0.6886115074157715.\n"
     ]
    },
    {
     "name": "stdout",
     "output_type": "stream",
     "text": [
      "{'w1': 0.9847371660774263, 'w2': 0.4588727020915832, 'w3': 0.7124761626779182, 'w4': 0.018306396784624257, 'w5': 0.7492123700998953, 'w6': 0.6035759014667207, 'w7': 0.4586970780020198, 'w8': 0.053826015005368544, 'threshold': 0.27}\n"
     ]
    },
    {
     "name": "stderr",
     "output_type": "stream",
     "text": [
      "[I 2023-07-04 16:02:07,916] Trial 265 finished with value: 0.6885110139846802 and parameters: {'w1': 0.9231758988270965, 'w2': 0.5198604607275404, 'w3': 0.6660193938849779, 'w4': 0.2944181936756425, 'w5': 0.6776174812248944, 'w6': 0.49701845220701674, 'w7': 0.4177668541514945, 'w8': 0.8057325638863786}. Best is trial 173 with value: 0.6886115074157715.\n"
     ]
    },
    {
     "name": "stdout",
     "output_type": "stream",
     "text": [
      "{'w1': 0.9231758988270965, 'w2': 0.5198604607275404, 'w3': 0.6660193938849779, 'w4': 0.2944181936756425, 'w5': 0.6776174812248944, 'w6': 0.49701845220701674, 'w7': 0.4177668541514945, 'w8': 0.8057325638863786, 'threshold': 0.28}\n"
     ]
    },
    {
     "name": "stderr",
     "output_type": "stream",
     "text": [
      "[I 2023-07-04 16:02:08,354] Trial 266 finished with value: 0.6883413195610046 and parameters: {'w1': 0.7660014761463377, 'w2': 0.44266672373574184, 'w3': 0.8201688732963465, 'w4': 0.32907579693975914, 'w5': 0.6104591975575999, 'w6': 0.5466375699061691, 'w7': 0.39782084745670176, 'w8': 0.7409211964674178}. Best is trial 173 with value: 0.6886115074157715.\n"
     ]
    },
    {
     "name": "stdout",
     "output_type": "stream",
     "text": [
      "{'w1': 0.7660014761463377, 'w2': 0.44266672373574184, 'w3': 0.8201688732963465, 'w4': 0.32907579693975914, 'w5': 0.6104591975575999, 'w6': 0.5466375699061691, 'w7': 0.39782084745670176, 'w8': 0.7409211964674178, 'threshold': 0.26}\n"
     ]
    },
    {
     "name": "stderr",
     "output_type": "stream",
     "text": [
      "[I 2023-07-04 16:02:08,772] Trial 267 finished with value: 0.6885584592819214 and parameters: {'w1': 0.9713976899799127, 'w2': 0.4718043151194789, 'w3': 0.6356804792204606, 'w4': 0.3861012101484295, 'w5': 0.7240201248033846, 'w6': 0.4659434166114024, 'w7': 0.4881790103078973, 'w8': 0.7878771424260227}. Best is trial 173 with value: 0.6886115074157715.\n"
     ]
    },
    {
     "name": "stdout",
     "output_type": "stream",
     "text": [
      "{'w1': 0.9713976899799127, 'w2': 0.4718043151194789, 'w3': 0.6356804792204606, 'w4': 0.3861012101484295, 'w5': 0.7240201248033846, 'w6': 0.4659434166114024, 'w7': 0.4881790103078973, 'w8': 0.7878771424260227, 'threshold': 0.27}\n"
     ]
    },
    {
     "name": "stderr",
     "output_type": "stream",
     "text": [
      "[I 2023-07-04 16:02:09,186] Trial 268 finished with value: 0.6882121562957764 and parameters: {'w1': 0.726810210993552, 'w2': 0.49806728721345295, 'w3': 0.6927219724604754, 'w4': 0.272066809769182, 'w5': 0.6415504553818313, 'w6': 0.5094780919382171, 'w7': 0.37453298448869077, 'w8': 0.8694367724514834}. Best is trial 173 with value: 0.6886115074157715.\n"
     ]
    },
    {
     "name": "stdout",
     "output_type": "stream",
     "text": [
      "{'w1': 0.726810210993552, 'w2': 0.49806728721345295, 'w3': 0.6927219724604754, 'w4': 0.272066809769182, 'w5': 0.6415504553818313, 'w6': 0.5094780919382171, 'w7': 0.37453298448869077, 'w8': 0.8694367724514834, 'threshold': 0.25}\n"
     ]
    },
    {
     "name": "stderr",
     "output_type": "stream",
     "text": [
      "[I 2023-07-04 16:02:09,601] Trial 269 finished with value: 0.6876676082611084 and parameters: {'w1': 0.49965116041934365, 'w2': 0.4203755155984781, 'w3': 0.7620765297385175, 'w4': 0.244508506001817, 'w5': 0.6944743928218327, 'w6': 0.4039336922458247, 'w7': 0.44148714618835566, 'w8': 0.8337138401421842}. Best is trial 173 with value: 0.6886115074157715.\n"
     ]
    },
    {
     "name": "stdout",
     "output_type": "stream",
     "text": [
      "{'w1': 0.49965116041934365, 'w2': 0.4203755155984781, 'w3': 0.7620765297385175, 'w4': 0.244508506001817, 'w5': 0.6944743928218327, 'w6': 0.4039336922458247, 'w7': 0.44148714618835566, 'w8': 0.8337138401421842, 'threshold': 0.26}\n"
     ]
    },
    {
     "name": "stderr",
     "output_type": "stream",
     "text": [
      "[I 2023-07-04 16:02:10,019] Trial 270 finished with value: 0.6878449320793152 and parameters: {'w1': 0.5578200545261432, 'w2': 0.48400578390962273, 'w3': 0.7326808840548291, 'w4': 0.2997686360466667, 'w5': 0.7919945190816149, 'w6': 0.5706742152652039, 'w7': 0.48404801070864856, 'w8': 0.7558102317489701}. Best is trial 173 with value: 0.6886115074157715.\n"
     ]
    },
    {
     "name": "stdout",
     "output_type": "stream",
     "text": [
      "{'w1': 0.5578200545261432, 'w2': 0.48400578390962273, 'w3': 0.7326808840548291, 'w4': 0.2997686360466667, 'w5': 0.7919945190816149, 'w6': 0.5706742152652039, 'w7': 0.48404801070864856, 'w8': 0.7558102317489701, 'threshold': 0.24}\n"
     ]
    },
    {
     "name": "stderr",
     "output_type": "stream",
     "text": [
      "[I 2023-07-04 16:02:10,436] Trial 271 finished with value: 0.6885325908660889 and parameters: {'w1': 0.953547078824779, 'w2': 0.4609129129554947, 'w3': 0.6745087129639982, 'w4': 0.2191658356206374, 'w5': 0.7423122176126001, 'w6': 0.5301990302942157, 'w7': 0.34904841392567343, 'w8': 0.8062059896429106}. Best is trial 173 with value: 0.6886115074157715.\n"
     ]
    },
    {
     "name": "stdout",
     "output_type": "stream",
     "text": [
      "{'w1': 0.953547078824779, 'w2': 0.4609129129554947, 'w3': 0.6745087129639982, 'w4': 0.2191658356206374, 'w5': 0.7423122176126001, 'w6': 0.5301990302942157, 'w7': 0.34904841392567343, 'w8': 0.8062059896429106, 'threshold': 0.28}\n"
     ]
    },
    {
     "name": "stderr",
     "output_type": "stream",
     "text": [
      "[I 2023-07-04 16:02:10,856] Trial 272 finished with value: 0.6884357929229736 and parameters: {'w1': 0.9072956205954454, 'w2': 0.4396403340837832, 'w3': 0.6189680075983178, 'w4': 0.5215821791178737, 'w5': 0.6652684791281848, 'w6': 0.49151937115842065, 'w7': 0.4178818772064244, 'w8': 0.6048776199862652}. Best is trial 173 with value: 0.6886115074157715.\n"
     ]
    },
    {
     "name": "stdout",
     "output_type": "stream",
     "text": [
      "{'w1': 0.9072956205954454, 'w2': 0.4396403340837832, 'w3': 0.6189680075983178, 'w4': 0.5215821791178737, 'w5': 0.6652684791281848, 'w6': 0.49151937115842065, 'w7': 0.4178818772064244, 'w8': 0.6048776199862652, 'threshold': 0.26}\n"
     ]
    },
    {
     "name": "stderr",
     "output_type": "stream",
     "text": [
      "[I 2023-07-04 16:02:11,271] Trial 273 finished with value: 0.6880924701690674 and parameters: {'w1': 0.6437945960847073, 'w2': 0.5281365481439871, 'w3': 0.7105145870801725, 'w4': 0.27805452467027947, 'w5': 0.7121744936670349, 'w6': 0.5459412936779081, 'w7': 0.3857450402558505, 'w8': 0.7726397418124702}. Best is trial 173 with value: 0.6886115074157715.\n"
     ]
    },
    {
     "name": "stdout",
     "output_type": "stream",
     "text": [
      "{'w1': 0.6437945960847073, 'w2': 0.5281365481439871, 'w3': 0.7105145870801725, 'w4': 0.27805452467027947, 'w5': 0.7121744936670349, 'w6': 0.5459412936779081, 'w7': 0.3857450402558505, 'w8': 0.7726397418124702, 'threshold': 0.25}\n"
     ]
    },
    {
     "name": "stderr",
     "output_type": "stream",
     "text": [
      "[I 2023-07-04 16:02:11,687] Trial 274 finished with value: 0.6863829493522644 and parameters: {'w1': 0.10153491597975128, 'w2': 0.48110032527987795, 'w3': 0.6517102421291355, 'w4': 0.40773341754887216, 'w5': 0.7677047448895824, 'w6': 0.05194864461316939, 'w7': 0.45683897287393144, 'w8': 0.8555525121875468}. Best is trial 173 with value: 0.6886115074157715.\n"
     ]
    },
    {
     "name": "stdout",
     "output_type": "stream",
     "text": [
      "{'w1': 0.10153491597975128, 'w2': 0.48110032527987795, 'w3': 0.6517102421291355, 'w4': 0.40773341754887216, 'w5': 0.7677047448895824, 'w6': 0.05194864461316939, 'w7': 0.45683897287393144, 'w8': 0.8555525121875468, 'threshold': 0.32}\n"
     ]
    },
    {
     "name": "stderr",
     "output_type": "stream",
     "text": [
      "[I 2023-07-04 16:02:12,105] Trial 275 finished with value: 0.6884346604347229 and parameters: {'w1': 0.9855116821871521, 'w2': 0.5031827082922263, 'w3': 0.5013621735700122, 'w4': 0.31899394454953367, 'w5': 0.7281114279305653, 'w6': 0.434994110361397, 'w7': 0.40302540803518067, 'w8': 0.7223441315714186}. Best is trial 173 with value: 0.6886115074157715.\n"
     ]
    },
    {
     "name": "stdout",
     "output_type": "stream",
     "text": [
      "{'w1': 0.9855116821871521, 'w2': 0.5031827082922263, 'w3': 0.5013621735700122, 'w4': 0.31899394454953367, 'w5': 0.7281114279305653, 'w6': 0.434994110361397, 'w7': 0.40302540803518067, 'w8': 0.7223441315714186, 'threshold': 0.28}\n"
     ]
    },
    {
     "name": "stderr",
     "output_type": "stream",
     "text": [
      "[I 2023-07-04 16:02:12,521] Trial 276 finished with value: 0.6885324120521545 and parameters: {'w1': 0.9385078812194095, 'w2': 0.4514779971311401, 'w3': 0.6930626111836413, 'w4': 0.2529227242367312, 'w5': 0.6894301641747234, 'w6': 0.4706126909743922, 'w7': 0.4284272637174692, 'w8': 0.8281506944451016}. Best is trial 173 with value: 0.6886115074157715.\n"
     ]
    },
    {
     "name": "stdout",
     "output_type": "stream",
     "text": [
      "{'w1': 0.9385078812194095, 'w2': 0.4514779971311401, 'w3': 0.6930626111836413, 'w4': 0.2529227242367312, 'w5': 0.6894301641747234, 'w6': 0.4706126909743922, 'w7': 0.4284272637174692, 'w8': 0.8281506944451016, 'threshold': 0.28}\n"
     ]
    },
    {
     "name": "stderr",
     "output_type": "stream",
     "text": [
      "[I 2023-07-04 16:02:12,934] Trial 277 finished with value: 0.6882534027099609 and parameters: {'w1': 0.827505452847365, 'w2': 0.41663758454700717, 'w3': 0.8405484787720571, 'w4': 0.2980784644944186, 'w5': 0.754823165852968, 'w6': 0.5114638227500539, 'w7': 0.3703530986314717, 'w8': 0.7965939979652967}. Best is trial 173 with value: 0.6886115074157715.\n"
     ]
    },
    {
     "name": "stdout",
     "output_type": "stream",
     "text": [
      "{'w1': 0.827505452847365, 'w2': 0.41663758454700717, 'w3': 0.8405484787720571, 'w4': 0.2980784644944186, 'w5': 0.754823165852968, 'w6': 0.5114638227500539, 'w7': 0.3703530986314717, 'w8': 0.7965939979652967, 'threshold': 0.26}\n"
     ]
    },
    {
     "name": "stderr",
     "output_type": "stream",
     "text": [
      "[I 2023-07-04 16:02:13,348] Trial 278 finished with value: 0.6880431771278381 and parameters: {'w1': 0.999318490918794, 'w2': 0.9117120521922999, 'w3': 0.5790287522496212, 'w4': 0.34149013799447514, 'w5': 0.7095856429480861, 'w6': 0.5645368953251907, 'w7': 0.4734129045080984, 'w8': 0.5105707822278713}. Best is trial 173 with value: 0.6886115074157715.\n"
     ]
    },
    {
     "name": "stdout",
     "output_type": "stream",
     "text": [
      "{'w1': 0.999318490918794, 'w2': 0.9117120521922999, 'w3': 0.5790287522496212, 'w4': 0.34149013799447514, 'w5': 0.7095856429480861, 'w6': 0.5645368953251907, 'w7': 0.4734129045080984, 'w8': 0.5105707822278713, 'threshold': 0.27}\n"
     ]
    },
    {
     "name": "stderr",
     "output_type": "stream",
     "text": [
      "[I 2023-07-04 16:02:13,761] Trial 279 finished with value: 0.6883133053779602 and parameters: {'w1': 0.8736568975722196, 'w2': 0.470740341955671, 'w3': 0.78753639454398, 'w4': 0.23662338189741217, 'w5': 0.5387636829644661, 'w6': 0.3770478107166701, 'w7': 0.5063695428152173, 'w8': 0.8166621806048037}. Best is trial 173 with value: 0.6886115074157715.\n"
     ]
    },
    {
     "name": "stdout",
     "output_type": "stream",
     "text": [
      "{'w1': 0.8736568975722196, 'w2': 0.470740341955671, 'w3': 0.78753639454398, 'w4': 0.23662338189741217, 'w5': 0.5387636829644661, 'w6': 0.3770478107166701, 'w7': 0.5063695428152173, 'w8': 0.8166621806048037, 'threshold': 0.26}\n"
     ]
    },
    {
     "name": "stderr",
     "output_type": "stream",
     "text": [
      "[I 2023-07-04 16:02:14,175] Trial 280 finished with value: 0.6885215640068054 and parameters: {'w1': 0.9641542942752006, 'w2': 0.5153033521121497, 'w3': 0.7445624849827007, 'w4': 0.2670008933279426, 'w5': 0.8470736305612152, 'w6': 0.5315068841195649, 'w7': 0.39874724227133235, 'w8': 0.7825397857704716}. Best is trial 173 with value: 0.6886115074157715.\n"
     ]
    },
    {
     "name": "stdout",
     "output_type": "stream",
     "text": [
      "{'w1': 0.9641542942752006, 'w2': 0.5153033521121497, 'w3': 0.7445624849827007, 'w4': 0.2670008933279426, 'w5': 0.8470736305612152, 'w6': 0.5315068841195649, 'w7': 0.39874724227133235, 'w8': 0.7825397857704716, 'threshold': 0.27}\n"
     ]
    },
    {
     "name": "stderr",
     "output_type": "stream",
     "text": [
      "[I 2023-07-04 16:02:14,590] Trial 281 finished with value: 0.6884744763374329 and parameters: {'w1': 0.9270613232450841, 'w2': 0.43672700904956896, 'w3': 0.7211959388427228, 'w4': 0.3199097540346013, 'w5': 0.7359131819968165, 'w6': 0.4426604229060921, 'w7': 0.44316931605637894, 'w8': 0.6748449799379252}. Best is trial 173 with value: 0.6886115074157715.\n"
     ]
    },
    {
     "name": "stdout",
     "output_type": "stream",
     "text": [
      "{'w1': 0.9270613232450841, 'w2': 0.43672700904956896, 'w3': 0.7211959388427228, 'w4': 0.3199097540346013, 'w5': 0.7359131819968165, 'w6': 0.4426604229060921, 'w7': 0.44316931605637894, 'w8': 0.6748449799379252, 'threshold': 0.27}\n"
     ]
    },
    {
     "name": "stderr",
     "output_type": "stream",
     "text": [
      "[I 2023-07-04 16:02:15,004] Trial 282 finished with value: 0.6882145404815674 and parameters: {'w1': 0.9485012172825665, 'w2': 0.4881876559724486, 'w3': 0.6733436386416336, 'w4': 0.36356446241588325, 'w5': 0.41225207980946166, 'w6': 0.48619747995286783, 'w7': 0.3521579525842073, 'w8': 0.7543108391031144}. Best is trial 173 with value: 0.6886115074157715.\n"
     ]
    },
    {
     "name": "stdout",
     "output_type": "stream",
     "text": [
      "{'w1': 0.9485012172825665, 'w2': 0.4881876559724486, 'w3': 0.6733436386416336, 'w4': 0.36356446241588325, 'w5': 0.41225207980946166, 'w6': 0.48619747995286783, 'w7': 0.3521579525842073, 'w8': 0.7543108391031144, 'threshold': 0.29}\n"
     ]
    },
    {
     "name": "stderr",
     "output_type": "stream",
     "text": [
      "[I 2023-07-04 16:02:15,426] Trial 283 finished with value: 0.6876965761184692 and parameters: {'w1': 0.4844105863576237, 'w2': 0.4614325815845944, 'w3': 0.7695787956533786, 'w4': 0.20547060941417214, 'w5': 0.8256206582697324, 'w6': 0.5940246453738918, 'w7': 0.41865396426423107, 'w8': 0.8440552466925806}. Best is trial 173 with value: 0.6886115074157715.\n"
     ]
    },
    {
     "name": "stdout",
     "output_type": "stream",
     "text": [
      "{'w1': 0.4844105863576237, 'w2': 0.4614325815845944, 'w3': 0.7695787956533786, 'w4': 0.20547060941417214, 'w5': 0.8256206582697324, 'w6': 0.5940246453738918, 'w7': 0.41865396426423107, 'w8': 0.8440552466925806, 'threshold': 0.26}\n"
     ]
    },
    {
     "name": "stderr",
     "output_type": "stream",
     "text": [
      "[I 2023-07-04 16:02:15,841] Trial 284 finished with value: 0.688359797000885 and parameters: {'w1': 0.8987535863872741, 'w2': 0.5488358808509733, 'w3': 0.6978859208956356, 'w4': 0.2923947717328792, 'w5': 0.5796561340313189, 'w6': 0.5144663282305169, 'w7': 0.33277845455409427, 'w8': 0.914863390122039}. Best is trial 173 with value: 0.6886115074157715.\n"
     ]
    },
    {
     "name": "stdout",
     "output_type": "stream",
     "text": [
      "{'w1': 0.8987535863872741, 'w2': 0.5488358808509733, 'w3': 0.6978859208956356, 'w4': 0.2923947717328792, 'w5': 0.5796561340313189, 'w6': 0.5144663282305169, 'w7': 0.33277845455409427, 'w8': 0.914863390122039, 'threshold': 0.28}\n"
     ]
    },
    {
     "name": "stderr",
     "output_type": "stream",
     "text": [
      "[I 2023-07-04 16:02:16,255] Trial 285 finished with value: 0.6883132457733154 and parameters: {'w1': 0.7894559802720811, 'w2': 0.7091914194032463, 'w3': 0.652316484807911, 'w4': 0.2812910493873531, 'w5': 0.6816849871386936, 'w6': 0.6241019557923839, 'w7': 0.3802452542321342, 'w8': 0.796468989127892}. Best is trial 173 with value: 0.6886115074157715.\n"
     ]
    },
    {
     "name": "stdout",
     "output_type": "stream",
     "text": [
      "{'w1': 0.7894559802720811, 'w2': 0.7091914194032463, 'w3': 0.652316484807911, 'w4': 0.2812910493873531, 'w5': 0.6816849871386936, 'w6': 0.6241019557923839, 'w7': 0.3802452542321342, 'w8': 0.796468989127892, 'threshold': 0.25}\n"
     ]
    },
    {
     "name": "stderr",
     "output_type": "stream",
     "text": [
      "[I 2023-07-04 16:02:16,671] Trial 286 finished with value: 0.6882048845291138 and parameters: {'w1': 0.8459601924128801, 'w2': 0.49980402095523613, 'w3': 0.7218230109686652, 'w4': 0.4518500338191104, 'w5': 0.7925677298652635, 'w6': 0.5471379026685037, 'w7': 0.45228744036121793, 'w8': 0.877605237601293}. Best is trial 173 with value: 0.6886115074157715.\n"
     ]
    },
    {
     "name": "stdout",
     "output_type": "stream",
     "text": [
      "{'w1': 0.8459601924128801, 'w2': 0.49980402095523613, 'w3': 0.7218230109686652, 'w4': 0.4518500338191104, 'w5': 0.7925677298652635, 'w6': 0.5471379026685037, 'w7': 0.45228744036121793, 'w8': 0.877605237601293, 'threshold': 0.25}\n"
     ]
    },
    {
     "name": "stderr",
     "output_type": "stream",
     "text": [
      "[I 2023-07-04 16:02:17,083] Trial 287 finished with value: 0.6881309747695923 and parameters: {'w1': 0.691543957524938, 'w2': 0.4063411424717859, 'w3': 0.7498231329365729, 'w4': 0.340865047772132, 'w5': 0.6550776462436967, 'w6': 0.4562708621703057, 'w7': 0.4338050771170773, 'w8': 0.7359229139328586}. Best is trial 173 with value: 0.6886115074157715.\n"
     ]
    },
    {
     "name": "stdout",
     "output_type": "stream",
     "text": [
      "{'w1': 0.691543957524938, 'w2': 0.4063411424717859, 'w3': 0.7498231329365729, 'w4': 0.340865047772132, 'w5': 0.6550776462436967, 'w6': 0.4562708621703057, 'w7': 0.4338050771170773, 'w8': 0.7359229139328586, 'threshold': 0.23}\n"
     ]
    },
    {
     "name": "stderr",
     "output_type": "stream",
     "text": [
      "[I 2023-07-04 16:02:17,497] Trial 288 finished with value: 0.6870425939559937 and parameters: {'w1': 0.010918378564348852, 'w2': 0.4528626312680973, 'w3': 0.6938256604947964, 'w4': 0.2597357887814912, 'w5': 0.7150193555784359, 'w6': 0.4989043495439272, 'w7': 0.39954469359491246, 'w8': 0.571427273266826}. Best is trial 173 with value: 0.6886115074157715.\n"
     ]
    },
    {
     "name": "stdout",
     "output_type": "stream",
     "text": [
      "{'w1': 0.010918378564348852, 'w2': 0.4528626312680973, 'w3': 0.6938256604947964, 'w4': 0.2597357887814912, 'w5': 0.7150193555784359, 'w6': 0.4989043495439272, 'w7': 0.39954469359491246, 'w8': 0.571427273266826, 'threshold': 0.29}\n"
     ]
    },
    {
     "name": "stderr",
     "output_type": "stream",
     "text": [
      "[I 2023-07-04 16:02:17,911] Trial 289 finished with value: 0.6882520318031311 and parameters: {'w1': 0.9741439842352582, 'w2': 0.47641198303724375, 'w3': 0.6770933165442449, 'w4': 0.2280946657525849, 'w5': 0.761899288858426, 'w6': 0.6472467535220339, 'w7': 0.7614384812497212, 'w8': 0.7701824853675541}. Best is trial 173 with value: 0.6886115074157715.\n"
     ]
    },
    {
     "name": "stdout",
     "output_type": "stream",
     "text": [
      "{'w1': 0.9741439842352582, 'w2': 0.47641198303724375, 'w3': 0.6770933165442449, 'w4': 0.2280946657525849, 'w5': 0.761899288858426, 'w6': 0.6472467535220339, 'w7': 0.7614384812497212, 'w8': 0.7701824853675541, 'threshold': 0.26}\n"
     ]
    },
    {
     "name": "stderr",
     "output_type": "stream",
     "text": [
      "[I 2023-07-04 16:02:18,324] Trial 290 finished with value: 0.6885114312171936 and parameters: {'w1': 0.9586796578716156, 'w2': 0.5285842069422643, 'w3': 0.804071615612769, 'w4': 0.3086009797765046, 'w5': 0.7011571369824869, 'w6': 0.4155351064999415, 'w7': 0.4733790311275544, 'w8': 0.820167178109274}. Best is trial 173 with value: 0.6886115074157715.\n"
     ]
    },
    {
     "name": "stdout",
     "output_type": "stream",
     "text": [
      "{'w1': 0.9586796578716156, 'w2': 0.5285842069422643, 'w3': 0.804071615612769, 'w4': 0.3086009797765046, 'w5': 0.7011571369824869, 'w6': 0.4155351064999415, 'w7': 0.4733790311275544, 'w8': 0.820167178109274, 'threshold': 0.28}\n"
     ]
    },
    {
     "name": "stderr",
     "output_type": "stream",
     "text": [
      "[I 2023-07-04 16:02:18,739] Trial 291 finished with value: 0.6884012222290039 and parameters: {'w1': 0.9285874072921099, 'w2': 0.6797252313766713, 'w3': 0.5662697985660595, 'w4': 0.2776851609247061, 'w5': 0.7372311611638591, 'w6': 0.5290511173137945, 'w7': 0.3645504362964213, 'w8': 0.8389206429649414}. Best is trial 173 with value: 0.6886115074157715.\n"
     ]
    },
    {
     "name": "stdout",
     "output_type": "stream",
     "text": [
      "{'w1': 0.9285874072921099, 'w2': 0.6797252313766713, 'w3': 0.5662697985660595, 'w4': 0.2776851609247061, 'w5': 0.7372311611638591, 'w6': 0.5290511173137945, 'w7': 0.3645504362964213, 'w8': 0.8389206429649414, 'threshold': 0.26}\n"
     ]
    },
    {
     "name": "stderr",
     "output_type": "stream",
     "text": [
      "[I 2023-07-04 16:02:19,153] Trial 292 finished with value: 0.6882372498512268 and parameters: {'w1': 0.6777681281174495, 'w2': 0.580234689580332, 'w3': 0.6290206152676822, 'w4': 0.24202174533055593, 'w5': 0.6772041697385411, 'w6': 0.4709172742579228, 'w7': 0.4234935657455933, 'w8': 0.7917062858898568}. Best is trial 173 with value: 0.6886115074157715.\n"
     ]
    },
    {
     "name": "stdout",
     "output_type": "stream",
     "text": [
      "{'w1': 0.6777681281174495, 'w2': 0.580234689580332, 'w3': 0.6290206152676822, 'w4': 0.24202174533055593, 'w5': 0.6772041697385411, 'w6': 0.4709172742579228, 'w7': 0.4234935657455933, 'w8': 0.7917062858898568, 'threshold': 0.25}\n"
     ]
    },
    {
     "name": "stderr",
     "output_type": "stream",
     "text": [
      "[I 2023-07-04 16:02:19,568] Trial 293 finished with value: 0.6884992122650146 and parameters: {'w1': 0.9847727420065838, 'w2': 0.4323496220838417, 'w3': 0.596959282392723, 'w4': 0.32003132105547305, 'w5': 0.7758968933099988, 'w6': 0.5782227747881742, 'w7': 0.3901874215948641, 'w8': 0.8094725762626223}. Best is trial 173 with value: 0.6886115074157715.\n"
     ]
    },
    {
     "name": "stdout",
     "output_type": "stream",
     "text": [
      "{'w1': 0.9847727420065838, 'w2': 0.4323496220838417, 'w3': 0.596959282392723, 'w4': 0.32003132105547305, 'w5': 0.7758968933099988, 'w6': 0.5782227747881742, 'w7': 0.3901874215948641, 'w8': 0.8094725762626223, 'threshold': 0.28}\n"
     ]
    },
    {
     "name": "stderr",
     "output_type": "stream",
     "text": [
      "[I 2023-07-04 16:02:19,984] Trial 294 finished with value: 0.687673032283783 and parameters: {'w1': 0.9507760814006895, 'w2': 0.4967032245998206, 'w3': 0.7117216162693218, 'w4': 0.25888919456897885, 'w5': 0.059156565273960404, 'w6': 0.5540739773750392, 'w7': 0.49392918529322916, 'w8': 0.4668612388014791}. Best is trial 173 with value: 0.6886115074157715.\n"
     ]
    },
    {
     "name": "stdout",
     "output_type": "stream",
     "text": [
      "{'w1': 0.9507760814006895, 'w2': 0.4967032245998206, 'w3': 0.7117216162693218, 'w4': 0.25888919456897885, 'w5': 0.059156565273960404, 'w6': 0.5540739773750392, 'w7': 0.49392918529322916, 'w8': 0.4668612388014791, 'threshold': 0.28}\n"
     ]
    },
    {
     "name": "stderr",
     "output_type": "stream",
     "text": [
      "[I 2023-07-04 16:02:20,399] Trial 295 finished with value: 0.6877286434173584 and parameters: {'w1': 0.9100269655622951, 'w2': 0.4654672354599906, 'w3': 0.7307471505339971, 'w4': 0.9347635363227472, 'w5': 0.7210817394453575, 'w6': 0.5134822195499414, 'w7': 0.994358821891984, 'w8': 0.6909540048514756}. Best is trial 173 with value: 0.6886115074157715.\n"
     ]
    },
    {
     "name": "stdout",
     "output_type": "stream",
     "text": [
      "{'w1': 0.9100269655622951, 'w2': 0.4654672354599906, 'w3': 0.7307471505339971, 'w4': 0.9347635363227472, 'w5': 0.7210817394453575, 'w6': 0.5134822195499414, 'w7': 0.994358821891984, 'w8': 0.6909540048514756, 'threshold': 0.29}\n"
     ]
    },
    {
     "name": "stderr",
     "output_type": "stream",
     "text": [
      "[I 2023-07-04 16:02:20,814] Trial 296 finished with value: 0.6878153681755066 and parameters: {'w1': 0.9690980581037274, 'w2': 0.6457546143052157, 'w3': 0.35883336840054, 'w4': 0.1936768981313254, 'w5': 0.6256647722430506, 'w6': 0.3981533409541192, 'w7': 0.024673932740846727, 'w8': 0.7075905065254908}. Best is trial 173 with value: 0.6886115074157715.\n"
     ]
    },
    {
     "name": "stdout",
     "output_type": "stream",
     "text": [
      "{'w1': 0.9690980581037274, 'w2': 0.6457546143052157, 'w3': 0.35883336840054, 'w4': 0.1936768981313254, 'w5': 0.6256647722430506, 'w6': 0.3981533409541192, 'w7': 0.024673932740846727, 'w8': 0.7075905065254908, 'threshold': 0.26}\n"
     ]
    },
    {
     "name": "stderr",
     "output_type": "stream",
     "text": [
      "[I 2023-07-04 16:02:21,229] Trial 297 finished with value: 0.6883533000946045 and parameters: {'w1': 0.8853345873013061, 'w2': 0.7557643480985081, 'w3': 0.7610468350778994, 'w4': 0.29018261778187626, 'w5': 0.747917481642975, 'w6': 0.4834339854377248, 'w7': 0.4539221669882792, 'w8': 0.7585384011862553}. Best is trial 173 with value: 0.6886115074157715.\n"
     ]
    },
    {
     "name": "stdout",
     "output_type": "stream",
     "text": [
      "{'w1': 0.8853345873013061, 'w2': 0.7557643480985081, 'w3': 0.7610468350778994, 'w4': 0.29018261778187626, 'w5': 0.747917481642975, 'w6': 0.4834339854377248, 'w7': 0.4539221669882792, 'w8': 0.7585384011862553, 'threshold': 0.26}\n"
     ]
    },
    {
     "name": "stderr",
     "output_type": "stream",
     "text": [
      "[I 2023-07-04 16:02:21,644] Trial 298 finished with value: 0.6880691647529602 and parameters: {'w1': 0.9373130718503113, 'w2': 0.5116938552587112, 'w3': 0.6590034777183336, 'w4': 0.3832596228709626, 'w5': 0.695564443538472, 'w6': 0.44932706377124787, 'w7': 0.4088741038300775, 'w8': 0.37291162429299296}. Best is trial 173 with value: 0.6886115074157715.\n"
     ]
    },
    {
     "name": "stdout",
     "output_type": "stream",
     "text": [
      "{'w1': 0.9373130718503113, 'w2': 0.5116938552587112, 'w3': 0.6590034777183336, 'w4': 0.3832596228709626, 'w5': 0.695564443538472, 'w6': 0.44932706377124787, 'w7': 0.4088741038300775, 'w8': 0.37291162429299296, 'threshold': 0.27}\n"
     ]
    },
    {
     "name": "stderr",
     "output_type": "stream",
     "text": [
      "[I 2023-07-04 16:02:22,060] Trial 299 finished with value: 0.6885423064231873 and parameters: {'w1': 0.9978931635480561, 'w2': 0.48174352216575694, 'w3': 0.6884357000827206, 'w4': 0.2225001122998202, 'w5': 0.8091493224951116, 'w6': 0.5363287582895101, 'w7': 0.5168144669820854, 'w8': 0.7756956604602604}. Best is trial 173 with value: 0.6886115074157715.\n"
     ]
    },
    {
     "name": "stdout",
     "output_type": "stream",
     "text": [
      "{'w1': 0.9978931635480561, 'w2': 0.48174352216575694, 'w3': 0.6884357000827206, 'w4': 0.2225001122998202, 'w5': 0.8091493224951116, 'w6': 0.5363287582895101, 'w7': 0.5168144669820854, 'w8': 0.7756956604602604, 'threshold': 0.28}\n"
     ]
    },
    {
     "name": "stderr",
     "output_type": "stream",
     "text": [
      "[I 2023-07-04 16:02:22,475] Trial 300 finished with value: 0.6883705854415894 and parameters: {'w1': 0.9674161135910535, 'w2': 0.4492497787136966, 'w3': 0.7055801583588136, 'w4': 0.33963565492405684, 'w5': 0.5519442229977154, 'w6': 0.4988362109458051, 'w7': 0.3817542099504007, 'w8': 0.8590156065111239}. Best is trial 173 with value: 0.6886115074157715.\n"
     ]
    },
    {
     "name": "stdout",
     "output_type": "stream",
     "text": [
      "{'w1': 0.9674161135910535, 'w2': 0.4492497787136966, 'w3': 0.7055801583588136, 'w4': 0.33963565492405684, 'w5': 0.5519442229977154, 'w6': 0.4988362109458051, 'w7': 0.3817542099504007, 'w8': 0.8590156065111239, 'threshold': 0.28}\n"
     ]
    },
    {
     "name": "stderr",
     "output_type": "stream",
     "text": [
      "[I 2023-07-04 16:02:22,891] Trial 301 finished with value: 0.6883087754249573 and parameters: {'w1': 0.9196857994519567, 'w2': 0.5377873964330295, 'w3': 0.7382233279964423, 'w4': 0.3025939360488671, 'w5': 0.725452228520299, 'w6': 0.5688716414962914, 'w7': 0.6876111476372355, 'w8': 0.7372826352042233}. Best is trial 173 with value: 0.6886115074157715.\n"
     ]
    },
    {
     "name": "stdout",
     "output_type": "stream",
     "text": [
      "{'w1': 0.9196857994519567, 'w2': 0.5377873964330295, 'w3': 0.7382233279964423, 'w4': 0.3025939360488671, 'w5': 0.725452228520299, 'w6': 0.5688716414962914, 'w7': 0.6876111476372355, 'w8': 0.7372826352042233, 'threshold': 0.27}\n"
     ]
    },
    {
     "name": "stderr",
     "output_type": "stream",
     "text": [
      "[I 2023-07-04 16:02:23,306] Trial 302 finished with value: 0.6874576807022095 and parameters: {'w1': 0.35447767887511633, 'w2': 0.8325287311506927, 'w3': 0.6675129054760359, 'w4': 0.26997777508300336, 'w5': 0.9034506478598356, 'w6': 0.42764909212171465, 'w7': 0.4396716011425114, 'w8': 0.8954496323466395}. Best is trial 173 with value: 0.6886115074157715.\n"
     ]
    },
    {
     "name": "stdout",
     "output_type": "stream",
     "text": [
      "{'w1': 0.35447767887511633, 'w2': 0.8325287311506927, 'w3': 0.6675129054760359, 'w4': 0.26997777508300336, 'w5': 0.9034506478598356, 'w6': 0.42764909212171465, 'w7': 0.4396716011425114, 'w8': 0.8954496323466395, 'threshold': 0.25}\n"
     ]
    },
    {
     "name": "stderr",
     "output_type": "stream",
     "text": [
      "[I 2023-07-04 16:02:23,721] Trial 303 finished with value: 0.6877908706665039 and parameters: {'w1': 0.9416547532953776, 'w2': 0.42817290039498784, 'w3': 0.54213533232661, 'w4': 0.3560005440000823, 'w5': 0.23817988134910006, 'w6': 0.5216681703821046, 'w7': 0.3410885605911298, 'w8': 0.8256218863099173}. Best is trial 173 with value: 0.6886115074157715.\n"
     ]
    },
    {
     "name": "stdout",
     "output_type": "stream",
     "text": [
      "{'w1': 0.9416547532953776, 'w2': 0.42817290039498784, 'w3': 0.54213533232661, 'w4': 0.3560005440000823, 'w5': 0.23817988134910006, 'w6': 0.5216681703821046, 'w7': 0.3410885605911298, 'w8': 0.8256218863099173, 'threshold': 0.26}\n"
     ]
    },
    {
     "name": "stderr",
     "output_type": "stream",
     "text": [
      "[I 2023-07-04 16:02:24,137] Trial 304 finished with value: 0.6884432435035706 and parameters: {'w1': 0.9995347177527968, 'w2': 0.48742377988363217, 'w3': 0.6412885260831988, 'w4': 0.2441817295314469, 'w5': 0.7017978756080977, 'w6': 0.46879984535365826, 'w7': 0.5462193425263142, 'w8': 0.7936677211768077}. Best is trial 173 with value: 0.6886115074157715.\n"
     ]
    },
    {
     "name": "stdout",
     "output_type": "stream",
     "text": [
      "{'w1': 0.9995347177527968, 'w2': 0.48742377988363217, 'w3': 0.6412885260831988, 'w4': 0.2441817295314469, 'w5': 0.7017978756080977, 'w6': 0.46879984535365826, 'w7': 0.5462193425263142, 'w8': 0.7936677211768077, 'threshold': 0.28}\n"
     ]
    },
    {
     "name": "stderr",
     "output_type": "stream",
     "text": [
      "[I 2023-07-04 16:02:24,552] Trial 305 finished with value: 0.687555730342865 and parameters: {'w1': 0.46348611522365446, 'w2': 0.46548373212900707, 'w3': 0.7184916066815187, 'w4': 0.32211216275842436, 'w5': 0.6657189035533094, 'w6': 0.5475676842706444, 'w7': 0.47153849125534464, 'w8': 0.9440941633955069}. Best is trial 173 with value: 0.6886115074157715.\n"
     ]
    },
    {
     "name": "stdout",
     "output_type": "stream",
     "text": [
      "{'w1': 0.46348611522365446, 'w2': 0.46548373212900707, 'w3': 0.7184916066815187, 'w4': 0.32211216275842436, 'w5': 0.6657189035533094, 'w6': 0.5475676842706444, 'w7': 0.47153849125534464, 'w8': 0.9440941633955069, 'threshold': 0.28}\n"
     ]
    },
    {
     "name": "stderr",
     "output_type": "stream",
     "text": [
      "[I 2023-07-04 16:02:24,967] Trial 306 finished with value: 0.6878799200057983 and parameters: {'w1': 0.6134536635638148, 'w2': 0.4452102824584108, 'w3': 0.42741098259068233, 'w4': 0.28346304296785185, 'w5': 0.7477726830572229, 'w6': 0.7389107665927672, 'w7': 0.4142932961819345, 'w8': 0.810324596572164}. Best is trial 173 with value: 0.6886115074157715.\n"
     ]
    },
    {
     "name": "stdout",
     "output_type": "stream",
     "text": [
      "{'w1': 0.6134536635638148, 'w2': 0.4452102824584108, 'w3': 0.42741098259068233, 'w4': 0.28346304296785185, 'w5': 0.7477726830572229, 'w6': 0.7389107665927672, 'w7': 0.4142932961819345, 'w8': 0.810324596572164, 'threshold': 0.24}\n"
     ]
    },
    {
     "name": "stderr",
     "output_type": "stream",
     "text": [
      "[I 2023-07-04 16:02:25,382] Trial 307 finished with value: 0.6881591081619263 and parameters: {'w1': 0.8013916291699857, 'w2': 0.5132982330646253, 'w3': 0.680512952403679, 'w4': 0.4297689887932513, 'w5': 0.7168546716643404, 'w6': 0.18967845965104368, 'w7': 0.36689264567555707, 'w8': 0.7792981876347341}. Best is trial 173 with value: 0.6886115074157715.\n"
     ]
    },
    {
     "name": "stdout",
     "output_type": "stream",
     "text": [
      "{'w1': 0.8013916291699857, 'w2': 0.5132982330646253, 'w3': 0.680512952403679, 'w4': 0.4297689887932513, 'w5': 0.7168546716643404, 'w6': 0.18967845965104368, 'w7': 0.36689264567555707, 'w8': 0.7792981876347341, 'threshold': 0.26}\n"
     ]
    },
    {
     "name": "stderr",
     "output_type": "stream",
     "text": [
      "[I 2023-07-04 16:02:25,797] Trial 308 finished with value: 0.6879028081893921 and parameters: {'w1': 0.5929674882914845, 'w2': 0.39875556811964774, 'w3': 0.772529580063253, 'w4': 0.21985313849938448, 'w5': 0.7638084034007568, 'w6': 0.6017265598767725, 'w7': 0.4033920561789406, 'w8': 0.8449968492713487}. Best is trial 173 with value: 0.6886115074157715.\n"
     ]
    },
    {
     "name": "stdout",
     "output_type": "stream",
     "text": [
      "{'w1': 0.5929674882914845, 'w2': 0.39875556811964774, 'w3': 0.772529580063253, 'w4': 0.21985313849938448, 'w5': 0.7638084034007568, 'w6': 0.6017265598767725, 'w7': 0.4033920561789406, 'w8': 0.8449968492713487, 'threshold': 0.25}\n"
     ]
    },
    {
     "name": "stderr",
     "output_type": "stream",
     "text": [
      "[I 2023-07-04 16:02:26,212] Trial 309 finished with value: 0.6885597109794617 and parameters: {'w1': 0.9804414541550337, 'w2': 0.47434640103402015, 'w3': 0.7048169839882862, 'w4': 0.30632995184597556, 'w5': 0.6883510843007646, 'w6': 0.4970984116549498, 'w7': 0.43460027569864557, 'w8': 0.7566740212960101}. Best is trial 173 with value: 0.6886115074157715.\n"
     ]
    },
    {
     "name": "stdout",
     "output_type": "stream",
     "text": [
      "{'w1': 0.9804414541550337, 'w2': 0.47434640103402015, 'w3': 0.7048169839882862, 'w4': 0.30632995184597556, 'w5': 0.6883510843007646, 'w6': 0.4970984116549498, 'w7': 0.43460027569864557, 'w8': 0.7566740212960101, 'threshold': 0.27}\n"
     ]
    },
    {
     "name": "stderr",
     "output_type": "stream",
     "text": [
      "[I 2023-07-04 16:02:26,627] Trial 310 finished with value: 0.6883085370063782 and parameters: {'w1': 0.9767666312926397, 'w2': 0.4647083833638231, 'w3': 0.704788412766605, 'w4': 0.2570147533902988, 'w5': 0.522458307506986, 'w6': 0.5052083239104059, 'w7': 0.4579912662857323, 'w8': 0.7153802852669062}. Best is trial 173 with value: 0.6886115074157715.\n"
     ]
    },
    {
     "name": "stdout",
     "output_type": "stream",
     "text": [
      "{'w1': 0.9767666312926397, 'w2': 0.4647083833638231, 'w3': 0.704788412766605, 'w4': 0.2570147533902988, 'w5': 0.522458307506986, 'w6': 0.5052083239104059, 'w7': 0.4579912662857323, 'w8': 0.7153802852669062, 'threshold': 0.29}\n"
     ]
    },
    {
     "name": "stderr",
     "output_type": "stream",
     "text": [
      "[I 2023-07-04 16:02:27,040] Trial 311 finished with value: 0.6884922981262207 and parameters: {'w1': 0.9821896753101825, 'w2': 0.49553184511288856, 'w3': 0.733431354300097, 'w4': 0.4156665867767292, 'w5': 0.6361254833662805, 'w6': 0.4931011648920571, 'w7': 0.6169561779879459, 'w8': 0.7478259098589053}. Best is trial 173 with value: 0.6886115074157715.\n"
     ]
    },
    {
     "name": "stdout",
     "output_type": "stream",
     "text": [
      "{'w1': 0.9821896753101825, 'w2': 0.49553184511288856, 'w3': 0.733431354300097, 'w4': 0.4156665867767292, 'w5': 0.6361254833662805, 'w6': 0.4931011648920571, 'w7': 0.6169561779879459, 'w8': 0.7478259098589053, 'threshold': 0.28}\n"
     ]
    },
    {
     "name": "stderr",
     "output_type": "stream",
     "text": [
      "[I 2023-07-04 16:02:27,455] Trial 312 finished with value: 0.6873629689216614 and parameters: {'w1': 0.2261999307661159, 'w2': 0.42409805265906786, 'w3': 0.7500848606056846, 'w4': 0.31199669250112605, 'w5': 0.7851006041404981, 'w6': 0.529641190127678, 'w7': 0.4890519899591782, 'w8': 0.7571396249308981}. Best is trial 173 with value: 0.6886115074157715.\n"
     ]
    },
    {
     "name": "stdout",
     "output_type": "stream",
     "text": [
      "{'w1': 0.2261999307661159, 'w2': 0.42409805265906786, 'w3': 0.7500848606056846, 'w4': 0.31199669250112605, 'w5': 0.7851006041404981, 'w6': 0.529641190127678, 'w7': 0.4890519899591782, 'w8': 0.7571396249308981, 'threshold': 0.3}\n"
     ]
    },
    {
     "name": "stderr",
     "output_type": "stream",
     "text": [
      "[I 2023-07-04 16:02:27,869] Trial 313 finished with value: 0.687775731086731 and parameters: {'w1': 0.7788973017231375, 'w2': 0.44709508933292375, 'w3': 0.7897642845523141, 'w4': 0.37148856988740925, 'w5': 0.006542936154053769, 'w6': 0.5621225981611333, 'w7': 0.4423791095050869, 'w8': 0.6065168450914444}. Best is trial 173 with value: 0.6886115074157715.\n"
     ]
    },
    {
     "name": "stdout",
     "output_type": "stream",
     "text": [
      "{'w1': 0.7788973017231375, 'w2': 0.44709508933292375, 'w3': 0.7897642845523141, 'w4': 0.37148856988740925, 'w5': 0.006542936154053769, 'w6': 0.5621225981611333, 'w7': 0.4423791095050869, 'w8': 0.6065168450914444, 'threshold': 0.23}\n"
     ]
    },
    {
     "name": "stderr",
     "output_type": "stream",
     "text": [
      "[I 2023-07-04 16:02:28,282] Trial 314 finished with value: 0.6885672807693481 and parameters: {'w1': 0.9576145374436048, 'w2': 0.47709155941737347, 'w3': 0.6968766201255749, 'w4': 0.3317611510866134, 'w5': 0.7359805198202469, 'w6': 0.519984289894715, 'w7': 0.428645678837292, 'w8': 0.7289168293493758}. Best is trial 173 with value: 0.6886115074157715.\n"
     ]
    },
    {
     "name": "stdout",
     "output_type": "stream",
     "text": [
      "{'w1': 0.9576145374436048, 'w2': 0.47709155941737347, 'w3': 0.6968766201255749, 'w4': 0.3317611510866134, 'w5': 0.7359805198202469, 'w6': 0.519984289894715, 'w7': 0.428645678837292, 'w8': 0.7289168293493758, 'threshold': 0.28}\n"
     ]
    },
    {
     "name": "stderr",
     "output_type": "stream",
     "text": [
      "[I 2023-07-04 16:02:28,698] Trial 315 finished with value: 0.6884972453117371 and parameters: {'w1': 0.9520386901012816, 'w2': 0.517389941373489, 'w3': 0.6930257143081772, 'w4': 0.3429725434294918, 'w5': 0.7380149031797973, 'w6': 0.5823498127134921, 'w7': 0.4221825748593075, 'w8': 0.7235322944405697}. Best is trial 173 with value: 0.6886115074157715.\n"
     ]
    },
    {
     "name": "stdout",
     "output_type": "stream",
     "text": [
      "{'w1': 0.9520386901012816, 'w2': 0.517389941373489, 'w3': 0.6930257143081772, 'w4': 0.3429725434294918, 'w5': 0.7380149031797973, 'w6': 0.5823498127134921, 'w7': 0.4221825748593075, 'w8': 0.7235322944405697, 'threshold': 0.28}\n"
     ]
    },
    {
     "name": "stderr",
     "output_type": "stream",
     "text": [
      "[I 2023-07-04 16:02:29,113] Trial 316 finished with value: 0.6885353922843933 and parameters: {'w1': 0.9441370280390851, 'w2': 0.4915297405411252, 'w3': 0.7251066628073851, 'w4': 0.19341666943314423, 'w5': 0.7606342377350177, 'w6': 0.53910088207977, 'w7': 0.4761948886461735, 'w8': 0.6625255384154453}. Best is trial 173 with value: 0.6886115074157715.\n"
     ]
    },
    {
     "name": "stdout",
     "output_type": "stream",
     "text": [
      "{'w1': 0.9441370280390851, 'w2': 0.4915297405411252, 'w3': 0.7251066628073851, 'w4': 0.19341666943314423, 'w5': 0.7606342377350177, 'w6': 0.53910088207977, 'w7': 0.4761948886461735, 'w8': 0.6625255384154453, 'threshold': 0.28}\n"
     ]
    },
    {
     "name": "stderr",
     "output_type": "stream",
     "text": [
      "[I 2023-07-04 16:02:29,529] Trial 317 finished with value: 0.687910795211792 and parameters: {'w1': 0.5360896897370666, 'w2': 0.5524317005291575, 'w3': 0.8210166399259995, 'w4': 0.3289592136530702, 'w5': 0.7305018471889511, 'w6': 0.5156400705584675, 'w7': 0.38720885820921425, 'w8': 0.680545445664168}. Best is trial 173 with value: 0.6886115074157715.\n"
     ]
    },
    {
     "name": "stdout",
     "output_type": "stream",
     "text": [
      "{'w1': 0.5360896897370666, 'w2': 0.5524317005291575, 'w3': 0.8210166399259995, 'w4': 0.3289592136530702, 'w5': 0.7305018471889511, 'w6': 0.5156400705584675, 'w7': 0.38720885820921425, 'w8': 0.680545445664168, 'threshold': 0.24}\n"
     ]
    },
    {
     "name": "stderr",
     "output_type": "stream",
     "text": [
      "[I 2023-07-04 16:02:29,947] Trial 318 finished with value: 0.6881381273269653 and parameters: {'w1': 0.7508240360211931, 'w2': 0.46090089296839687, 'w3': 0.6783471685549584, 'w4': 0.24040900123932282, 'w5': 0.7107452769967166, 'w6': 0.6872273830039691, 'w7': 0.5231507262886436, 'w8': 0.8705603547942029}. Best is trial 173 with value: 0.6886115074157715.\n"
     ]
    },
    {
     "name": "stdout",
     "output_type": "stream",
     "text": [
      "{'w1': 0.7508240360211931, 'w2': 0.46090089296839687, 'w3': 0.6783471685549584, 'w4': 0.24040900123932282, 'w5': 0.7107452769967166, 'w6': 0.6872273830039691, 'w7': 0.5231507262886436, 'w8': 0.8705603547942029, 'threshold': 0.24}\n"
     ]
    },
    {
     "name": "stderr",
     "output_type": "stream",
     "text": [
      "[I 2023-07-04 16:02:30,362] Trial 319 finished with value: 0.6882175803184509 and parameters: {'w1': 0.958705539602102, 'w2': 0.77586929882131, 'w3': 0.7135361549963153, 'w4': 0.17197581314584415, 'w5': 0.7402421773358151, 'w6': 0.5511008649670381, 'w7': 0.7229483193126813, 'w8': 0.829165786785817}. Best is trial 173 with value: 0.6886115074157715.\n"
     ]
    },
    {
     "name": "stdout",
     "output_type": "stream",
     "text": [
      "{'w1': 0.958705539602102, 'w2': 0.77586929882131, 'w3': 0.7135361549963153, 'w4': 0.17197581314584415, 'w5': 0.7402421773358151, 'w6': 0.5511008649670381, 'w7': 0.7229483193126813, 'w8': 0.829165786785817, 'threshold': 0.26}\n"
     ]
    },
    {
     "name": "stderr",
     "output_type": "stream",
     "text": [
      "[I 2023-07-04 16:02:30,779] Trial 320 finished with value: 0.6882805824279785 and parameters: {'w1': 0.9270500701329346, 'w2': 0.41136463804881296, 'w3': 0.7493133800944551, 'w4': 0.27764238752230413, 'w5': 0.7763736142222036, 'w6': 0.4787566216735637, 'w7': 0.4563877314443347, 'w8': 0.9242265404142342}. Best is trial 173 with value: 0.6886115074157715.\n"
     ]
    },
    {
     "name": "stdout",
     "output_type": "stream",
     "text": [
      "{'w1': 0.9270500701329346, 'w2': 0.41136463804881296, 'w3': 0.7493133800944551, 'w4': 0.27764238752230413, 'w5': 0.7763736142222036, 'w6': 0.4787566216735637, 'w7': 0.4563877314443347, 'w8': 0.9242265404142342, 'threshold': 0.26}\n"
     ]
    },
    {
     "name": "stderr",
     "output_type": "stream",
     "text": [
      "[I 2023-07-04 16:02:31,194] Trial 321 finished with value: 0.6884812712669373 and parameters: {'w1': 0.965669545187401, 'w2': 0.4419443061740106, 'w3': 0.659177541650093, 'w4': 0.14613386818522564, 'w5': 0.7155273305140798, 'w6': 0.5251486013471313, 'w7': 0.35833345508740577, 'w8': 0.702517699139181}. Best is trial 173 with value: 0.6886115074157715.\n"
     ]
    },
    {
     "name": "stdout",
     "output_type": "stream",
     "text": [
      "{'w1': 0.965669545187401, 'w2': 0.4419443061740106, 'w3': 0.659177541650093, 'w4': 0.14613386818522564, 'w5': 0.7155273305140798, 'w6': 0.5251486013471313, 'w7': 0.35833345508740577, 'w8': 0.702517699139181, 'threshold': 0.28}\n"
     ]
    },
    {
     "name": "stderr",
     "output_type": "stream",
     "text": [
      "[I 2023-07-04 16:02:31,609] Trial 322 finished with value: 0.6882070302963257 and parameters: {'w1': 0.944448602365694, 'w2': 0.34003143309823425, 'w3': 0.6883279267527629, 'w4': 0.3701087837176843, 'w5': 0.7544339939815998, 'w6': 0.5103863601836823, 'w7': 0.6501645223144678, 'w8': 0.8086070610907186}. Best is trial 173 with value: 0.6886115074157715.\n"
     ]
    },
    {
     "name": "stdout",
     "output_type": "stream",
     "text": [
      "{'w1': 0.944448602365694, 'w2': 0.34003143309823425, 'w3': 0.6883279267527629, 'w4': 0.3701087837176843, 'w5': 0.7544339939815998, 'w6': 0.5103863601836823, 'w7': 0.6501645223144678, 'w8': 0.8086070610907186, 'threshold': 0.25}\n"
     ]
    },
    {
     "name": "stderr",
     "output_type": "stream",
     "text": [
      "[I 2023-07-04 16:02:32,024] Trial 323 finished with value: 0.6878716349601746 and parameters: {'w1': 0.6290391399174995, 'w2': 0.2663712630936323, 'w3': 0.7352265586865582, 'w4': 0.39976492787638473, 'w5': 0.3950404418311287, 'w6': 0.8248381720159218, 'w7': 0.3170171103281025, 'w8': 0.8478857263216051}. Best is trial 173 with value: 0.6886115074157715.\n"
     ]
    },
    {
     "name": "stdout",
     "output_type": "stream",
     "text": [
      "{'w1': 0.6290391399174995, 'w2': 0.2663712630936323, 'w3': 0.7352265586865582, 'w4': 0.39976492787638473, 'w5': 0.3950404418311287, 'w6': 0.8248381720159218, 'w7': 0.3170171103281025, 'w8': 0.8478857263216051, 'threshold': 0.25}\n"
     ]
    },
    {
     "name": "stderr",
     "output_type": "stream",
     "text": [
      "[I 2023-07-04 16:02:32,439] Trial 324 finished with value: 0.6876674890518188 and parameters: {'w1': 0.42794159341252647, 'w2': 0.3846076082808423, 'w3': 0.7701751054628327, 'w4': 0.21389093774931833, 'w5': 0.6697304671443034, 'w6': 0.3582365535006015, 'w7': 0.4266031644911769, 'w8': 0.7928219394160594}. Best is trial 173 with value: 0.6886115074157715.\n"
     ]
    },
    {
     "name": "stdout",
     "output_type": "stream",
     "text": [
      "{'w1': 0.42794159341252647, 'w2': 0.3846076082808423, 'w3': 0.7701751054628327, 'w4': 0.21389093774931833, 'w5': 0.6697304671443034, 'w6': 0.3582365535006015, 'w7': 0.4266031644911769, 'w8': 0.7928219394160594, 'threshold': 0.26}\n"
     ]
    },
    {
     "name": "stderr",
     "output_type": "stream",
     "text": [
      "[I 2023-07-04 16:02:32,859] Trial 325 finished with value: 0.6879211664199829 and parameters: {'w1': 0.984227310866016, 'w2': 0.5044155249684585, 'w3': 0.23473794209730714, 'w4': 0.2643942769534155, 'w5': 0.8021291120413607, 'w6': 0.5720936605030187, 'w7': 0.5024005868202811, 'w8': 0.9624709399411896}. Best is trial 173 with value: 0.6886115074157715.\n"
     ]
    },
    {
     "name": "stdout",
     "output_type": "stream",
     "text": [
      "{'w1': 0.984227310866016, 'w2': 0.5044155249684585, 'w3': 0.23473794209730714, 'w4': 0.2643942769534155, 'w5': 0.8021291120413607, 'w6': 0.5720936605030187, 'w7': 0.5024005868202811, 'w8': 0.9624709399411896, 'threshold': 0.27}\n"
     ]
    },
    {
     "name": "stderr",
     "output_type": "stream",
     "text": [
      "[I 2023-07-04 16:02:33,280] Trial 326 finished with value: 0.6885049939155579 and parameters: {'w1': 0.8984985770396037, 'w2': 0.4777893786796549, 'w3': 0.7094519294626909, 'w4': 0.2920288676298385, 'w5': 0.7005653037967122, 'w6': 0.5398901694270885, 'w7': 0.40135755000494033, 'w8': 0.8233416209297186}. Best is trial 173 with value: 0.6886115074157715.\n"
     ]
    },
    {
     "name": "stdout",
     "output_type": "stream",
     "text": [
      "{'w1': 0.8984985770396037, 'w2': 0.4777893786796549, 'w3': 0.7094519294626909, 'w4': 0.2920288676298385, 'w5': 0.7005653037967122, 'w6': 0.5398901694270885, 'w7': 0.40135755000494033, 'w8': 0.8233416209297186, 'threshold': 0.27}\n"
     ]
    },
    {
     "name": "stderr",
     "output_type": "stream",
     "text": [
      "[I 2023-07-04 16:02:33,710] Trial 327 finished with value: 0.6882452368736267 and parameters: {'w1': 0.8201281819021246, 'w2': 0.7918419711690423, 'w3': 0.6702704896954915, 'w4': 0.34924109481138776, 'w5': 0.7326975010992699, 'w6': 0.46418421298708096, 'w7': 0.3783538574685351, 'w8': 0.7306282509066515}. Best is trial 173 with value: 0.6886115074157715.\n"
     ]
    },
    {
     "name": "stdout",
     "output_type": "stream",
     "text": [
      "{'w1': 0.8201281819021246, 'w2': 0.7918419711690423, 'w3': 0.6702704896954915, 'w4': 0.34924109481138776, 'w5': 0.7326975010992699, 'w6': 0.46418421298708096, 'w7': 0.3783538574685351, 'w8': 0.7306282509066515, 'threshold': 0.26}\n"
     ]
    },
    {
     "name": "stderr",
     "output_type": "stream",
     "text": [
      "[I 2023-07-04 16:02:34,138] Trial 328 finished with value: 0.6882198452949524 and parameters: {'w1': 0.9604645325839026, 'w2': 0.5284735428870377, 'w3': 0.723124853655592, 'w4': 0.3270000879845152, 'w5': 0.4778037866370057, 'w6': 0.4907075246218392, 'w7': 0.4477848189471593, 'w8': 0.7740872436147587}. Best is trial 173 with value: 0.6886115074157715.\n"
     ]
    },
    {
     "name": "stdout",
     "output_type": "stream",
     "text": [
      "{'w1': 0.9604645325839026, 'w2': 0.5284735428870377, 'w3': 0.723124853655592, 'w4': 0.3270000879845152, 'w5': 0.4778037866370057, 'w6': 0.4907075246218392, 'w7': 0.4477848189471593, 'w8': 0.7740872436147587, 'threshold': 0.26}\n"
     ]
    },
    {
     "name": "stderr",
     "output_type": "stream",
     "text": [
      "[I 2023-07-04 16:02:34,569] Trial 329 finished with value: 0.6883933544158936 and parameters: {'w1': 0.998859407476034, 'w2': 0.45912488163158904, 'w3': 0.6907365568618709, 'w4': 0.23749278372009305, 'w5': 0.6521841704668125, 'w6': 0.5894471084416997, 'w7': 0.4175601676363115, 'w8': 0.886953473442143}. Best is trial 173 with value: 0.6886115074157715.\n"
     ]
    },
    {
     "name": "stdout",
     "output_type": "stream",
     "text": [
      "{'w1': 0.998859407476034, 'w2': 0.45912488163158904, 'w3': 0.6907365568618709, 'w4': 0.23749278372009305, 'w5': 0.6521841704668125, 'w6': 0.5894471084416997, 'w7': 0.4175601676363115, 'w8': 0.886953473442143, 'threshold': 0.28}\n"
     ]
    },
    {
     "name": "stderr",
     "output_type": "stream",
     "text": [
      "[I 2023-07-04 16:02:34,992] Trial 330 finished with value: 0.6881054043769836 and parameters: {'w1': 0.9232814026722929, 'w2': 0.48706717412455164, 'w3': 0.7919385519848189, 'w4': 0.6909399474070774, 'w5': 0.7205556570392253, 'w6': 0.521350674321468, 'w7': 0.4784892577587062, 'w8': 0.652922444610278}. Best is trial 173 with value: 0.6886115074157715.\n"
     ]
    },
    {
     "name": "stdout",
     "output_type": "stream",
     "text": [
      "{'w1': 0.9232814026722929, 'w2': 0.48706717412455164, 'w3': 0.7919385519848189, 'w4': 0.6909399474070774, 'w5': 0.7205556570392253, 'w6': 0.521350674321468, 'w7': 0.4784892577587062, 'w8': 0.652922444610278, 'threshold': 0.27}\n"
     ]
    },
    {
     "name": "stderr",
     "output_type": "stream",
     "text": [
      "[I 2023-07-04 16:02:35,408] Trial 331 finished with value: 0.6883574724197388 and parameters: {'w1': 0.861928353249944, 'w2': 0.4297954561206166, 'w3': 0.6536537185540758, 'w4': 0.25708861549840356, 'w5': 0.7797849155332751, 'w6': 0.5618182308523438, 'w7': 0.3458536068948057, 'w8': 0.5475785694479138}. Best is trial 173 with value: 0.6886115074157715.\n"
     ]
    },
    {
     "name": "stdout",
     "output_type": "stream",
     "text": [
      "{'w1': 0.861928353249944, 'w2': 0.4297954561206166, 'w3': 0.6536537185540758, 'w4': 0.25708861549840356, 'w5': 0.7797849155332751, 'w6': 0.5618182308523438, 'w7': 0.3458536068948057, 'w8': 0.5475785694479138, 'threshold': 0.28}\n"
     ]
    },
    {
     "name": "stderr",
     "output_type": "stream",
     "text": [
      "[I 2023-07-04 16:02:35,824] Trial 332 finished with value: 0.6881617903709412 and parameters: {'w1': 0.9638226338955204, 'w2': 0.11981194254392313, 'w3': 0.7547751781766703, 'w4': 0.3070544718538333, 'w5': 0.7495230055456609, 'w6': 0.5379972810872212, 'w7': 0.46323558757047784, 'w8': 0.8099847770947902}. Best is trial 173 with value: 0.6886115074157715.\n"
     ]
    },
    {
     "name": "stdout",
     "output_type": "stream",
     "text": [
      "{'w1': 0.9638226338955204, 'w2': 0.11981194254392313, 'w3': 0.7547751781766703, 'w4': 0.3070544718538333, 'w5': 0.7495230055456609, 'w6': 0.5379972810872212, 'w7': 0.46323558757047784, 'w8': 0.8099847770947902, 'threshold': 0.28}\n"
     ]
    },
    {
     "name": "stderr",
     "output_type": "stream",
     "text": [
      "[I 2023-07-04 16:02:36,240] Trial 333 finished with value: 0.6884817481040955 and parameters: {'w1': 0.9362456434519845, 'w2': 0.47412327106644453, 'w3': 0.6968925150674339, 'w4': 0.28284652394169596, 'w5': 0.6824041464497903, 'w6': 0.6125915705831101, 'w7': 0.4335537765705646, 'w8': 0.8589822151978558}. Best is trial 173 with value: 0.6886115074157715.\n"
     ]
    },
    {
     "name": "stdout",
     "output_type": "stream",
     "text": [
      "{'w1': 0.9362456434519845, 'w2': 0.47412327106644453, 'w3': 0.6968925150674339, 'w4': 0.28284652394169596, 'w5': 0.6824041464497903, 'w6': 0.6125915705831101, 'w7': 0.4335537765705646, 'w8': 0.8589822151978558, 'threshold': 0.27}\n"
     ]
    },
    {
     "name": "stderr",
     "output_type": "stream",
     "text": [
      "[I 2023-07-04 16:02:36,669] Trial 334 finished with value: 0.6882997155189514 and parameters: {'w1': 0.9778756520912822, 'w2': 0.5670303528707948, 'w3': 0.7326546208869602, 'w4': 0.2119236623060146, 'w5': 0.6052236687332968, 'w6': 0.4495766091908432, 'w7': 0.3965605627886691, 'w8': 0.7882496436858722}. Best is trial 173 with value: 0.6886115074157715.\n"
     ]
    },
    {
     "name": "stdout",
     "output_type": "stream",
     "text": [
      "{'w1': 0.9778756520912822, 'w2': 0.5670303528707948, 'w3': 0.7326546208869602, 'w4': 0.2119236623060146, 'w5': 0.6052236687332968, 'w6': 0.4495766091908432, 'w7': 0.3965605627886691, 'w8': 0.7882496436858722, 'threshold': 0.26}\n"
     ]
    },
    {
     "name": "stderr",
     "output_type": "stream",
     "text": [
      "[I 2023-07-04 16:02:37,088] Trial 335 finished with value: 0.688471257686615 and parameters: {'w1': 0.917498428155297, 'w2': 0.5125232856231052, 'w3': 0.7129149582378312, 'w4': 0.3325369729209914, 'w5': 0.702835931017053, 'w6': 0.4792343860858659, 'w7': 0.37172396669763214, 'w8': 0.8349210225942074}. Best is trial 173 with value: 0.6886115074157715.\n"
     ]
    },
    {
     "name": "stdout",
     "output_type": "stream",
     "text": [
      "{'w1': 0.917498428155297, 'w2': 0.5125232856231052, 'w3': 0.7129149582378312, 'w4': 0.3325369729209914, 'w5': 0.702835931017053, 'w6': 0.4792343860858659, 'w7': 0.37172396669763214, 'w8': 0.8349210225942074, 'threshold': 0.28}\n"
     ]
    },
    {
     "name": "stderr",
     "output_type": "stream",
     "text": [
      "[I 2023-07-04 16:02:37,505] Trial 336 finished with value: 0.688412606716156 and parameters: {'w1': 0.9451573649191177, 'w2': 0.6065355681723711, 'w3': 0.6762917369000547, 'w4': 0.2685136471905072, 'w5': 0.7656765575534201, 'w6': 0.5061548871997542, 'w7': 0.40718930097379097, 'w8': 0.7635671621444241}. Best is trial 173 with value: 0.6886115074157715.\n"
     ]
    },
    {
     "name": "stdout",
     "output_type": "stream",
     "text": [
      "{'w1': 0.9451573649191177, 'w2': 0.6065355681723711, 'w3': 0.6762917369000547, 'w4': 0.2685136471905072, 'w5': 0.7656765575534201, 'w6': 0.5061548871997542, 'w7': 0.40718930097379097, 'w8': 0.7635671621444241, 'threshold': 0.27}\n"
     ]
    },
    {
     "name": "stderr",
     "output_type": "stream",
     "text": [
      "[I 2023-07-04 16:02:37,929] Trial 337 finished with value: 0.6885952353477478 and parameters: {'w1': 0.9643517152048202, 'w2': 0.45704510333409154, 'w3': 0.6427735841779064, 'w4': 0.29283120740792223, 'w5': 0.729735432899455, 'w6': 0.554555573006426, 'w7': 0.44186886012439275, 'w8': 0.7385603872551051}. Best is trial 173 with value: 0.6886115074157715.\n"
     ]
    },
    {
     "name": "stdout",
     "output_type": "stream",
     "text": [
      "{'w1': 0.9643517152048202, 'w2': 0.45704510333409154, 'w3': 0.6427735841779064, 'w4': 0.29283120740792223, 'w5': 0.729735432899455, 'w6': 0.554555573006426, 'w7': 0.44186886012439275, 'w8': 0.7385603872551051, 'threshold': 0.28}\n"
     ]
    },
    {
     "name": "stderr",
     "output_type": "stream",
     "text": [
      "[I 2023-07-04 16:02:38,348] Trial 338 finished with value: 0.6878716945648193 and parameters: {'w1': 0.6514647360709352, 'w2': 0.4123250769573728, 'w3': 0.6218838929975655, 'w4': 0.48923194628451583, 'w5': 0.11725689693169139, 'w6': 0.10944522218857833, 'w7': 0.4252576922940671, 'w8': 0.707102724000462}. Best is trial 173 with value: 0.6886115074157715.\n"
     ]
    },
    {
     "name": "stdout",
     "output_type": "stream",
     "text": [
      "{'w1': 0.6514647360709352, 'w2': 0.4123250769573728, 'w3': 0.6218838929975655, 'w4': 0.48923194628451583, 'w5': 0.11725689693169139, 'w6': 0.10944522218857833, 'w7': 0.4252576922940671, 'w8': 0.707102724000462, 'threshold': 0.27}\n"
     ]
    },
    {
     "name": "stderr",
     "output_type": "stream",
     "text": [
      "[I 2023-07-04 16:02:38,767] Trial 339 finished with value: 0.6884335279464722 and parameters: {'w1': 0.9814051966935897, 'w2': 0.44025042126970815, 'w3': 0.6320561074957667, 'w4': 0.2446779860199147, 'w5': 0.7375866115341342, 'w6': 0.5560488081198477, 'w7': 0.38551841889942867, 'w8': 0.6300076978993168}. Best is trial 173 with value: 0.6886115074157715.\n"
     ]
    },
    {
     "name": "stdout",
     "output_type": "stream",
     "text": [
      "{'w1': 0.9814051966935897, 'w2': 0.44025042126970815, 'w3': 0.6320561074957667, 'w4': 0.2446779860199147, 'w5': 0.7375866115341342, 'w6': 0.5560488081198477, 'w7': 0.38551841889942867, 'w8': 0.6300076978993168, 'threshold': 0.29}\n"
     ]
    },
    {
     "name": "stderr",
     "output_type": "stream",
     "text": [
      "[I 2023-07-04 16:02:39,183] Trial 340 finished with value: 0.6879414319992065 and parameters: {'w1': 0.6545805004635089, 'w2': 0.45359400183072834, 'w3': 0.6339326782293584, 'w4': 0.2905556495988233, 'w5': 0.8296384726313467, 'w6': 0.601188102476862, 'w7': 0.4448612985716792, 'w8': 0.7243241197652762}. Best is trial 173 with value: 0.6886115074157715.\n"
     ]
    },
    {
     "name": "stdout",
     "output_type": "stream",
     "text": [
      "{'w1': 0.6545805004635089, 'w2': 0.45359400183072834, 'w3': 0.6339326782293584, 'w4': 0.2905556495988233, 'w5': 0.8296384726313467, 'w6': 0.601188102476862, 'w7': 0.4448612985716792, 'w8': 0.7243241197652762, 'threshold': 0.27}\n"
     ]
    },
    {
     "name": "stderr",
     "output_type": "stream",
     "text": [
      "[I 2023-07-04 16:02:39,604] Trial 341 finished with value: 0.6880897283554077 and parameters: {'w1': 0.8434703861131564, 'w2': 0.49901529669249917, 'w3': 0.6544331666665295, 'w4': 0.2245112613549916, 'w5': 0.45306320041121917, 'w6': 0.5801265389484523, 'w7': 0.8966305712773516, 'w8': 0.7405526657280739}. Best is trial 173 with value: 0.6886115074157715.\n"
     ]
    },
    {
     "name": "stdout",
     "output_type": "stream",
     "text": [
      "{'w1': 0.8434703861131564, 'w2': 0.49901529669249917, 'w3': 0.6544331666665295, 'w4': 0.2245112613549916, 'w5': 0.45306320041121917, 'w6': 0.5801265389484523, 'w7': 0.8966305712773516, 'w8': 0.7405526657280739, 'threshold': 0.25}\n"
     ]
    },
    {
     "name": "stderr",
     "output_type": "stream",
     "text": [
      "[I 2023-07-04 16:02:40,023] Trial 342 finished with value: 0.688368558883667 and parameters: {'w1': 0.9646235034161144, 'w2': 0.630544156883033, 'w3': 0.9312096232954826, 'w4': 0.4541846966640234, 'w5': 0.7250216141207371, 'w6': 0.6322560680883289, 'w7': 0.334603510999516, 'w8': 0.7444297865356594}. Best is trial 173 with value: 0.6886115074157715.\n"
     ]
    },
    {
     "name": "stdout",
     "output_type": "stream",
     "text": [
      "{'w1': 0.9646235034161144, 'w2': 0.630544156883033, 'w3': 0.9312096232954826, 'w4': 0.4541846966640234, 'w5': 0.7250216141207371, 'w6': 0.6322560680883289, 'w7': 0.334603510999516, 'w8': 0.7444297865356594, 'threshold': 0.27}\n"
     ]
    },
    {
     "name": "stderr",
     "output_type": "stream",
     "text": [
      "[I 2023-07-04 16:02:40,439] Trial 343 finished with value: 0.688159167766571 and parameters: {'w1': 0.8888702327139992, 'w2': 0.9014103604446597, 'w3': 0.6700102780730335, 'w4': 0.26731668903565775, 'w5': 0.7917058947398725, 'w6': 0.5124988335219368, 'w7': 0.41375209129744783, 'w8': 0.697804570483863}. Best is trial 173 with value: 0.6886115074157715.\n"
     ]
    },
    {
     "name": "stdout",
     "output_type": "stream",
     "text": [
      "{'w1': 0.8888702327139992, 'w2': 0.9014103604446597, 'w3': 0.6700102780730335, 'w4': 0.26731668903565775, 'w5': 0.7917058947398725, 'w6': 0.5124988335219368, 'w7': 0.41375209129744783, 'w8': 0.697804570483863, 'threshold': 0.27}\n"
     ]
    },
    {
     "name": "stderr",
     "output_type": "stream",
     "text": [
      "[I 2023-07-04 16:02:40,867] Trial 344 finished with value: 0.6884373426437378 and parameters: {'w1': 0.9367035435910519, 'w2': 0.4613079813446146, 'w3': 0.4511802975894449, 'w4': 0.2936767179822772, 'w5': 0.7499297787043175, 'w6': 0.4547567246641479, 'w7': 0.3671025740790578, 'w8': 0.7696460731468328}. Best is trial 173 with value: 0.6886115074157715.\n"
     ]
    },
    {
     "name": "stdout",
     "output_type": "stream",
     "text": [
      "{'w1': 0.9367035435910519, 'w2': 0.4613079813446146, 'w3': 0.4511802975894449, 'w4': 0.2936767179822772, 'w5': 0.7499297787043175, 'w6': 0.4547567246641479, 'w7': 0.3671025740790578, 'w8': 0.7696460731468328, 'threshold': 0.27}\n"
     ]
    },
    {
     "name": "stderr",
     "output_type": "stream",
     "text": [
      "[I 2023-07-04 16:02:41,285] Trial 345 finished with value: 0.6881958246231079 and parameters: {'w1': 0.9993109562503208, 'w2': 0.4351188434546238, 'w3': 0.7666727694583383, 'w4': 0.25113956444191465, 'w5': 0.4380369021632914, 'w6': 0.5521640065487622, 'w7': 0.39580336903629115, 'w8': 0.8147246735136333}. Best is trial 173 with value: 0.6886115074157715.\n"
     ]
    },
    {
     "name": "stdout",
     "output_type": "stream",
     "text": [
      "{'w1': 0.9993109562503208, 'w2': 0.4351188434546238, 'w3': 0.7666727694583383, 'w4': 0.25113956444191465, 'w5': 0.4380369021632914, 'w6': 0.5521640065487622, 'w7': 0.39580336903629115, 'w8': 0.8147246735136333, 'threshold': 0.28}\n"
     ]
    },
    {
     "name": "stderr",
     "output_type": "stream",
     "text": [
      "[I 2023-07-04 16:02:41,702] Trial 346 finished with value: 0.6875304579734802 and parameters: {'w1': 0.4931107164336423, 'w2': 0.5342302301336527, 'w3': 0.5790350011607666, 'w4': 0.4723270531332889, 'w5': 0.7617137852843303, 'w6': 0.48476828394076543, 'w7': 0.67166053135139, 'w8': 0.847738710440852}. Best is trial 173 with value: 0.6886115074157715.\n"
     ]
    },
    {
     "name": "stdout",
     "output_type": "stream",
     "text": [
      "{'w1': 0.4931107164336423, 'w2': 0.5342302301336527, 'w3': 0.5790350011607666, 'w4': 0.4723270531332889, 'w5': 0.7617137852843303, 'w6': 0.48476828394076543, 'w7': 0.67166053135139, 'w8': 0.847738710440852, 'threshold': 0.26}\n"
     ]
    },
    {
     "name": "stderr",
     "output_type": "stream",
     "text": [
      "[I 2023-07-04 16:02:42,126] Trial 347 finished with value: 0.6879931688308716 and parameters: {'w1': 0.9077850185364584, 'w2': 0.3936488512183877, 'w3': 0.8075741563465877, 'w4': 0.536354030037662, 'w5': 0.7219379717822488, 'w6': 0.3864073323057893, 'w7': 0.9658609283628679, 'w8': 0.9052334419905164}. Best is trial 173 with value: 0.6886115074157715.\n"
     ]
    },
    {
     "name": "stdout",
     "output_type": "stream",
     "text": [
      "{'w1': 0.9077850185364584, 'w2': 0.3936488512183877, 'w3': 0.8075741563465877, 'w4': 0.536354030037662, 'w5': 0.7219379717822488, 'w6': 0.3864073323057893, 'w7': 0.9658609283628679, 'w8': 0.9052334419905164, 'threshold': 0.23}\n"
     ]
    },
    {
     "name": "stderr",
     "output_type": "stream",
     "text": [
      "[I 2023-07-04 16:02:42,543] Trial 348 finished with value: 0.6883441805839539 and parameters: {'w1': 0.9674779090318161, 'w2': 0.47500794384729583, 'w3': 0.5214102514436446, 'w4': 0.3133750272878, 'w5': 0.6886662390082521, 'w6': 0.5259250211382034, 'w7': 0.4368453446592952, 'w8': 0.8703687973766482}. Best is trial 173 with value: 0.6886115074157715.\n"
     ]
    },
    {
     "name": "stdout",
     "output_type": "stream",
     "text": [
      "{'w1': 0.9674779090318161, 'w2': 0.47500794384729583, 'w3': 0.5214102514436446, 'w4': 0.3133750272878, 'w5': 0.6886662390082521, 'w6': 0.5259250211382034, 'w7': 0.4368453446592952, 'w8': 0.8703687973766482, 'threshold': 0.28}\n"
     ]
    },
    {
     "name": "stderr",
     "output_type": "stream",
     "text": [
      "[I 2023-07-04 16:02:42,960] Trial 349 finished with value: 0.6886134147644043 and parameters: {'w1': 0.9523918511642355, 'w2': 0.44974410082629623, 'w3': 0.6870108787554418, 'w4': 0.2786414514679672, 'w5': 0.7394785710916857, 'w6': 0.49681774450074856, 'w7': 0.4875680157607395, 'w8': 0.7471311909621834}. Best is trial 349 with value: 0.6886134147644043.\n"
     ]
    },
    {
     "name": "stdout",
     "output_type": "stream",
     "text": [
      "{'w1': 0.9523918511642355, 'w2': 0.44974410082629623, 'w3': 0.6870108787554418, 'w4': 0.2786414514679672, 'w5': 0.7394785710916857, 'w6': 0.49681774450074856, 'w7': 0.4875680157607395, 'w8': 0.7471311909621834, 'threshold': 0.27}\n"
     ]
    },
    {
     "name": "stderr",
     "output_type": "stream",
     "text": [
      "[I 2023-07-04 16:02:43,376] Trial 350 finished with value: 0.6885370016098022 and parameters: {'w1': 0.930424129189643, 'w2': 0.41690427761867493, 'w3': 0.6503752809849705, 'w4': 0.20529923048070528, 'w5': 0.7805946194607665, 'w6': 0.46979679979748207, 'w7': 0.5082828151833044, 'w8': 0.7470968997404865}. Best is trial 349 with value: 0.6886134147644043.\n"
     ]
    },
    {
     "name": "stdout",
     "output_type": "stream",
     "text": [
      "{'w1': 0.930424129189643, 'w2': 0.41690427761867493, 'w3': 0.6503752809849705, 'w4': 0.20529923048070528, 'w5': 0.7805946194607665, 'w6': 0.46979679979748207, 'w7': 0.5082828151833044, 'w8': 0.7470968997404865, 'threshold': 0.27}\n"
     ]
    },
    {
     "name": "stderr",
     "output_type": "stream",
     "text": [
      "[I 2023-07-04 16:02:43,794] Trial 351 finished with value: 0.6884629726409912 and parameters: {'w1': 0.9468259127903924, 'w2': 0.4456344524694179, 'w3': 0.6762398830072329, 'w4': 0.11815556558498971, 'w5': 0.7462795095919758, 'w6': 0.4961781246073511, 'w7': 0.5373471564640305, 'w8': 0.7228591096950413}. Best is trial 349 with value: 0.6886134147644043.\n"
     ]
    },
    {
     "name": "stdout",
     "output_type": "stream",
     "text": [
      "{'w1': 0.9468259127903924, 'w2': 0.4456344524694179, 'w3': 0.6762398830072329, 'w4': 0.11815556558498971, 'w5': 0.7462795095919758, 'w6': 0.4961781246073511, 'w7': 0.5373471564640305, 'w8': 0.7228591096950413, 'threshold': 0.28}\n"
     ]
    },
    {
     "name": "stderr",
     "output_type": "stream",
     "text": [
      "[I 2023-07-04 16:02:44,214] Trial 352 finished with value: 0.6883918642997742 and parameters: {'w1': 0.8763012988071632, 'w2': 0.4206025401000453, 'w3': 0.6070380848977405, 'w4': 0.23498522767276098, 'w5': 0.8127433384397762, 'w6': 0.4351656734684466, 'w7': 0.4866579205278384, 'w8': 0.7674943828631651}. Best is trial 349 with value: 0.6886134147644043.\n"
     ]
    },
    {
     "name": "stdout",
     "output_type": "stream",
     "text": [
      "{'w1': 0.8763012988071632, 'w2': 0.4206025401000453, 'w3': 0.6070380848977405, 'w4': 0.23498522767276098, 'w5': 0.8127433384397762, 'w6': 0.4351656734684466, 'w7': 0.4866579205278384, 'w8': 0.7674943828631651, 'threshold': 0.26}\n"
     ]
    },
    {
     "name": "stderr",
     "output_type": "stream",
     "text": [
      "[I 2023-07-04 16:02:44,634] Trial 353 finished with value: 0.6883497834205627 and parameters: {'w1': 0.9162367724581374, 'w2': 0.452133906872794, 'w3': 0.47500416688220637, 'w4': 0.5658321677421603, 'w5': 0.7374334716953739, 'w6': 0.4792177305858041, 'w7': 0.4833505134865272, 'w8': 0.5894159688710645}. Best is trial 349 with value: 0.6886134147644043.\n"
     ]
    },
    {
     "name": "stdout",
     "output_type": "stream",
     "text": [
      "{'w1': 0.9162367724581374, 'w2': 0.452133906872794, 'w3': 0.47500416688220637, 'w4': 0.5658321677421603, 'w5': 0.7374334716953739, 'w6': 0.4792177305858041, 'w7': 0.4833505134865272, 'w8': 0.5894159688710645, 'threshold': 0.28}\n"
     ]
    },
    {
     "name": "stderr",
     "output_type": "stream",
     "text": [
      "[I 2023-07-04 16:02:45,052] Trial 354 finished with value: 0.6885770559310913 and parameters: {'w1': 0.9625895483261968, 'w2': 0.4611889708142051, 'w3': 0.6927226132274239, 'w4': 0.30140824151477974, 'w5': 0.7626586091545865, 'w6': 0.5091957580573483, 'w7': 0.4697520890812571, 'w8': 0.7309598561899272}. Best is trial 349 with value: 0.6886134147644043.\n"
     ]
    },
    {
     "name": "stdout",
     "output_type": "stream",
     "text": [
      "{'w1': 0.9625895483261968, 'w2': 0.4611889708142051, 'w3': 0.6927226132274239, 'w4': 0.30140824151477974, 'w5': 0.7626586091545865, 'w6': 0.5091957580573483, 'w7': 0.4697520890812571, 'w8': 0.7309598561899272, 'threshold': 0.28}\n"
     ]
    },
    {
     "name": "stderr",
     "output_type": "stream",
     "text": [
      "[I 2023-07-04 16:02:45,472] Trial 355 finished with value: 0.6882076859474182 and parameters: {'w1': 0.7097216136494329, 'w2': 0.46898567882418596, 'w3': 0.6817061577091258, 'w4': 0.2996112246168905, 'w5': 0.7080987174940409, 'w6': 0.3393182596189429, 'w7': 0.49929771860084193, 'w8': 0.688048771313821}. Best is trial 349 with value: 0.6886134147644043.\n"
     ]
    },
    {
     "name": "stdout",
     "output_type": "stream",
     "text": [
      "{'w1': 0.7097216136494329, 'w2': 0.46898567882418596, 'w3': 0.6817061577091258, 'w4': 0.2996112246168905, 'w5': 0.7080987174940409, 'w6': 0.3393182596189429, 'w7': 0.49929771860084193, 'w8': 0.688048771313821, 'threshold': 0.26}\n"
     ]
    },
    {
     "name": "stderr",
     "output_type": "stream",
     "text": [
      "[I 2023-07-04 16:02:45,893] Trial 356 finished with value: 0.6884539723396301 and parameters: {'w1': 0.9647520385846048, 'w2': 0.49136046548389034, 'w3': 0.8369391206344753, 'w4': 0.316980367015342, 'w5': 0.7647790637717656, 'w6': 0.45787903151090614, 'w7': 0.4626488373330585, 'w8': 0.7358633361256413}. Best is trial 349 with value: 0.6886134147644043.\n"
     ]
    },
    {
     "name": "stdout",
     "output_type": "stream",
     "text": [
      "{'w1': 0.9647520385846048, 'w2': 0.49136046548389034, 'w3': 0.8369391206344753, 'w4': 0.316980367015342, 'w5': 0.7647790637717656, 'w6': 0.45787903151090614, 'w7': 0.4626488373330585, 'w8': 0.7358633361256413, 'threshold': 0.28}\n"
     ]
    },
    {
     "name": "stderr",
     "output_type": "stream",
     "text": [
      "[I 2023-07-04 16:02:46,312] Trial 357 finished with value: 0.6879225969314575 and parameters: {'w1': 0.7062706907778414, 'w2': 0.45996204131259966, 'w3': 0.6446341395129016, 'w4': 0.35001789264156763, 'w5': 0.5170776650992204, 'w6': 0.0071904025534612614, 'w7': 0.5249296999203011, 'w8': 0.4008544475116581}. Best is trial 349 with value: 0.6886134147644043.\n"
     ]
    },
    {
     "name": "stdout",
     "output_type": "stream",
     "text": [
      "{'w1': 0.7062706907778414, 'w2': 0.45996204131259966, 'w3': 0.6446341395129016, 'w4': 0.35001789264156763, 'w5': 0.5170776650992204, 'w6': 0.0071904025534612614, 'w7': 0.5249296999203011, 'w8': 0.4008544475116581, 'threshold': 0.25}\n"
     ]
    },
    {
     "name": "stderr",
     "output_type": "stream",
     "text": [
      "[I 2023-07-04 16:02:46,731] Trial 358 finished with value: 0.6885582804679871 and parameters: {'w1': 0.929426684271651, 'w2': 0.5041688089772498, 'w3': 0.6925493719933378, 'w4': 0.28168638928545364, 'w5': 0.865384136134123, 'w6': 0.5003137552194349, 'w7': 0.47190612397200055, 'w8': 0.7826475267863473}. Best is trial 349 with value: 0.6886134147644043.\n"
     ]
    },
    {
     "name": "stdout",
     "output_type": "stream",
     "text": [
      "{'w1': 0.929426684271651, 'w2': 0.5041688089772498, 'w3': 0.6925493719933378, 'w4': 0.28168638928545364, 'w5': 0.865384136134123, 'w6': 0.5003137552194349, 'w7': 0.47190612397200055, 'w8': 0.7826475267863473, 'threshold': 0.27}\n"
     ]
    },
    {
     "name": "stderr",
     "output_type": "stream",
     "text": [
      "[I 2023-07-04 16:02:47,159] Trial 359 finished with value: 0.68844074010849 and parameters: {'w1': 0.8017776199016918, 'w2': 0.4766376039606089, 'w3': 0.6640993439523661, 'w4': 0.3109911614200094, 'w5': 0.6722372876754645, 'w6': 0.4143869652959088, 'w7': 0.44804037734094404, 'w8': 0.7515515343678111}. Best is trial 349 with value: 0.6886134147644043.\n"
     ]
    },
    {
     "name": "stdout",
     "output_type": "stream",
     "text": [
      "{'w1': 0.8017776199016918, 'w2': 0.4766376039606089, 'w3': 0.6640993439523661, 'w4': 0.3109911614200094, 'w5': 0.6722372876754645, 'w6': 0.4143869652959088, 'w7': 0.44804037734094404, 'w8': 0.7515515343678111, 'threshold': 0.28}\n"
     ]
    },
    {
     "name": "stderr",
     "output_type": "stream",
     "text": [
      "[I 2023-07-04 16:02:47,597] Trial 360 finished with value: 0.687841534614563 and parameters: {'w1': 0.5536943871327527, 'w2': 0.44053269355804814, 'w3': 0.9635429754959114, 'w4': 0.382157067137451, 'w5': 0.7319855194530628, 'w6': 0.5075709572464181, 'w7': 0.4905209103755503, 'w8': 0.7959180973965558}. Best is trial 349 with value: 0.6886134147644043.\n"
     ]
    },
    {
     "name": "stdout",
     "output_type": "stream",
     "text": [
      "{'w1': 0.5536943871327527, 'w2': 0.44053269355804814, 'w3': 0.9635429754959114, 'w4': 0.382157067137451, 'w5': 0.7319855194530628, 'w6': 0.5075709572464181, 'w7': 0.4905209103755503, 'w8': 0.7959180973965558, 'threshold': 0.28}\n"
     ]
    },
    {
     "name": "stderr",
     "output_type": "stream",
     "text": [
      "[I 2023-07-04 16:02:48,032] Trial 361 finished with value: 0.6881274580955505 and parameters: {'w1': 0.7408416096745618, 'w2': 0.4615950193889241, 'w3': 0.6885054039164389, 'w4': 0.330096957317989, 'w5': 0.7504037820597638, 'w6': 0.480183971047314, 'w7': 0.46045096213625175, 'w8': 0.7637717420668507}. Best is trial 349 with value: 0.6886134147644043.\n"
     ]
    },
    {
     "name": "stdout",
     "output_type": "stream",
     "text": [
      "{'w1': 0.7408416096745618, 'w2': 0.4615950193889241, 'w3': 0.6885054039164389, 'w4': 0.330096957317989, 'w5': 0.7504037820597638, 'w6': 0.480183971047314, 'w7': 0.46045096213625175, 'w8': 0.7637717420668507, 'threshold': 0.24}\n"
     ]
    },
    {
     "name": "stderr",
     "output_type": "stream",
     "text": [
      "[I 2023-07-04 16:02:48,465] Trial 362 finished with value: 0.6883759498596191 and parameters: {'w1': 0.9807948108791041, 'w2': 0.48644166798212457, 'w3': 0.7420241190252294, 'w4': 0.27809818982734824, 'w5': 0.6947879951563481, 'w6': 0.516632744444777, 'w7': 0.7822196855836533, 'w8': 0.7111743254628701}. Best is trial 349 with value: 0.6886134147644043.\n"
     ]
    },
    {
     "name": "stdout",
     "output_type": "stream",
     "text": [
      "{'w1': 0.9807948108791041, 'w2': 0.48644166798212457, 'w3': 0.7420241190252294, 'w4': 0.27809818982734824, 'w5': 0.6947879951563481, 'w6': 0.516632744444777, 'w7': 0.7822196855836533, 'w8': 0.7111743254628701, 'threshold': 0.27}\n"
     ]
    },
    {
     "name": "stderr",
     "output_type": "stream",
     "text": [
      "[I 2023-07-04 16:02:48,883] Trial 363 finished with value: 0.6884164810180664 and parameters: {'w1': 0.9527720818489589, 'w2': 0.516583049693276, 'w3': 0.6434055611009435, 'w4': 0.35210452446828394, 'w5': 0.9295788939140032, 'w6': 0.4397320650793431, 'w7': 0.5107667610656673, 'w8': 0.7814924221415507}. Best is trial 349 with value: 0.6886134147644043.\n"
     ]
    },
    {
     "name": "stdout",
     "output_type": "stream",
     "text": [
      "{'w1': 0.9527720818489589, 'w2': 0.516583049693276, 'w3': 0.6434055611009435, 'w4': 0.35210452446828394, 'w5': 0.9295788939140032, 'w6': 0.4397320650793431, 'w7': 0.5107667610656673, 'w8': 0.7814924221415507, 'threshold': 0.27}\n"
     ]
    },
    {
     "name": "stderr",
     "output_type": "stream",
     "text": [
      "[I 2023-07-04 16:02:49,312] Trial 364 finished with value: 0.688125729560852 and parameters: {'w1': 0.90140624979461, 'w2': 0.36832126829564804, 'w3': 0.5121062377423494, 'w4': 0.29809065753350267, 'w5': 0.7239056544460523, 'w6': 0.49244412317611047, 'w7': 0.4802213475513924, 'w8': 0.23148320391591326}. Best is trial 349 with value: 0.6886134147644043.\n"
     ]
    },
    {
     "name": "stdout",
     "output_type": "stream",
     "text": [
      "{'w1': 0.90140624979461, 'w2': 0.36832126829564804, 'w3': 0.5121062377423494, 'w4': 0.29809065753350267, 'w5': 0.7239056544460523, 'w6': 0.49244412317611047, 'w7': 0.4802213475513924, 'w8': 0.23148320391591326, 'threshold': 0.28}\n"
     ]
    },
    {
     "name": "stderr",
     "output_type": "stream",
     "text": [
      "[I 2023-07-04 16:02:49,732] Trial 365 finished with value: 0.6882816553115845 and parameters: {'w1': 0.7759764562699353, 'w2': 0.44598697467674214, 'w3': 0.8604835136956345, 'w4': 0.2633904066125666, 'w5': 0.6384362394711098, 'w6': 0.46774217094268167, 'w7': 0.4357757648678405, 'w8': 0.8266053720881864}. Best is trial 349 with value: 0.6886134147644043.\n"
     ]
    },
    {
     "name": "stdout",
     "output_type": "stream",
     "text": [
      "{'w1': 0.7759764562699353, 'w2': 0.44598697467674214, 'w3': 0.8604835136956345, 'w4': 0.2633904066125666, 'w5': 0.6384362394711098, 'w6': 0.46774217094268167, 'w7': 0.4357757648678405, 'w8': 0.8266053720881864, 'threshold': 0.25}\n"
     ]
    },
    {
     "name": "stderr",
     "output_type": "stream",
     "text": [
      "[I 2023-07-04 16:02:50,151] Trial 366 finished with value: 0.6875657439231873 and parameters: {'w1': 0.9668799483538131, 'w2': 0.5496932500899927, 'w3': 0.6144597573630696, 'w4': 0.19560372623061292, 'w5': 0.19401878346819046, 'w6': 0.9748647525005113, 'w7': 0.4422550410818649, 'w8': 0.9863946426440231}. Best is trial 349 with value: 0.6886134147644043.\n"
     ]
    },
    {
     "name": "stdout",
     "output_type": "stream",
     "text": [
      "{'w1': 0.9668799483538131, 'w2': 0.5496932500899927, 'w3': 0.6144597573630696, 'w4': 0.19560372623061292, 'w5': 0.19401878346819046, 'w6': 0.9748647525005113, 'w7': 0.4422550410818649, 'w8': 0.9863946426440231, 'threshold': 0.27}\n"
     ]
    },
    {
     "name": "stderr",
     "output_type": "stream",
     "text": [
      "[I 2023-07-04 16:02:50,569] Trial 367 finished with value: 0.6882280707359314 and parameters: {'w1': 0.932377472240356, 'w2': 0.8503430690571729, 'w3': 0.9822409485443391, 'w4': 0.30143759451951296, 'w5': 0.7944006664746811, 'w6': 0.5228656960739507, 'w7': 0.5915312747147707, 'w8': 0.7365116689568001}. Best is trial 349 with value: 0.6886134147644043.\n"
     ]
    },
    {
     "name": "stdout",
     "output_type": "stream",
     "text": [
      "{'w1': 0.932377472240356, 'w2': 0.8503430690571729, 'w3': 0.9822409485443391, 'w4': 0.30143759451951296, 'w5': 0.7944006664746811, 'w6': 0.5228656960739507, 'w7': 0.5915312747147707, 'w8': 0.7365116689568001, 'threshold': 0.26}\n"
     ]
    },
    {
     "name": "stderr",
     "output_type": "stream",
     "text": [
      "[I 2023-07-04 16:02:50,987] Trial 368 finished with value: 0.6876754760742188 and parameters: {'w1': 0.9812881786479175, 'w2': 0.9519504983114035, 'w3': 0.38263312930804716, 'w4': 0.17911745238137458, 'w5': 0.4917640063629336, 'w6': 0.5700800072771294, 'w7': 0.46889936371416, 'w8': 0.9295879588505264}. Best is trial 349 with value: 0.6886134147644043.\n"
     ]
    },
    {
     "name": "stdout",
     "output_type": "stream",
     "text": [
      "{'w1': 0.9812881786479175, 'w2': 0.9519504983114035, 'w3': 0.38263312930804716, 'w4': 0.17911745238137458, 'w5': 0.4917640063629336, 'w6': 0.5700800072771294, 'w7': 0.46889936371416, 'w8': 0.9295879588505264, 'threshold': 0.28}\n"
     ]
    },
    {
     "name": "stderr",
     "output_type": "stream",
     "text": [
      "[I 2023-07-04 16:02:51,405] Trial 369 finished with value: 0.6878097653388977 and parameters: {'w1': 0.945769370821558, 'w2': 0.9417215048530364, 'w3': 0.7015735821348983, 'w4': 0.33288643538249996, 'w5': 0.7084506631954156, 'w6': 0.2833461887336304, 'w7': 0.2665020002379773, 'w8': 0.8018421413253548}. Best is trial 349 with value: 0.6886134147644043.\n"
     ]
    },
    {
     "name": "stdout",
     "output_type": "stream",
     "text": [
      "{'w1': 0.945769370821558, 'w2': 0.9417215048530364, 'w3': 0.7015735821348983, 'w4': 0.33288643538249996, 'w5': 0.7084506631954156, 'w6': 0.2833461887336304, 'w7': 0.2665020002379773, 'w8': 0.8018421413253548, 'threshold': 0.25}\n"
     ]
    },
    {
     "name": "stderr",
     "output_type": "stream",
     "text": [
      "[I 2023-07-04 16:02:51,831] Trial 370 finished with value: 0.687170684337616 and parameters: {'w1': 0.18077641869605854, 'w2': 0.47008644912969333, 'w3': 0.6632552062427416, 'w4': 0.36853894980048907, 'w5': 0.8411626554684656, 'w6': 0.5420871728736355, 'w7': 0.45554950112980186, 'w8': 0.7590030734530416}. Best is trial 349 with value: 0.6886134147644043.\n"
     ]
    },
    {
     "name": "stdout",
     "output_type": "stream",
     "text": [
      "{'w1': 0.18077641869605854, 'w2': 0.47008644912969333, 'w3': 0.6632552062427416, 'w4': 0.36853894980048907, 'w5': 0.8411626554684656, 'w6': 0.5420871728736355, 'w7': 0.45554950112980186, 'w8': 0.7590030734530416, 'threshold': 0.3}\n"
     ]
    },
    {
     "name": "stderr",
     "output_type": "stream",
     "text": [
      "[I 2023-07-04 16:02:52,249] Trial 371 finished with value: 0.6882954239845276 and parameters: {'w1': 0.9153500151985887, 'w2': 0.19456763365836904, 'w3': 0.7223453001321636, 'w4': 0.2814154332117559, 'w5': 0.7655773833995142, 'w6': 0.2115721373422218, 'w7': 0.42102978653143924, 'w8': 0.6405145628700655}. Best is trial 349 with value: 0.6886134147644043.\n"
     ]
    },
    {
     "name": "stdout",
     "output_type": "stream",
     "text": [
      "{'w1': 0.9153500151985887, 'w2': 0.19456763365836904, 'w3': 0.7223453001321636, 'w4': 0.2814154332117559, 'w5': 0.7655773833995142, 'w6': 0.2115721373422218, 'w7': 0.42102978653143924, 'w8': 0.6405145628700655, 'threshold': 0.26}\n"
     ]
    },
    {
     "name": "stderr",
     "output_type": "stream",
     "text": [
      "[I 2023-07-04 16:02:52,669] Trial 372 finished with value: 0.6882498264312744 and parameters: {'w1': 0.8344761298244123, 'w2': 0.49675645232781473, 'w3': 0.7833795314439209, 'w4': 0.2279388714369746, 'w5': 0.6639893040319497, 'w6': 0.4987243148150199, 'w7': 0.8072080911473943, 'w8': 0.4953720510324148}. Best is trial 349 with value: 0.6886134147644043.\n"
     ]
    },
    {
     "name": "stdout",
     "output_type": "stream",
     "text": [
      "{'w1': 0.8344761298244123, 'w2': 0.49675645232781473, 'w3': 0.7833795314439209, 'w4': 0.2279388714369746, 'w5': 0.6639893040319497, 'w6': 0.4987243148150199, 'w7': 0.8072080911473943, 'w8': 0.4953720510324148, 'threshold': 0.24}\n"
     ]
    },
    {
     "name": "stderr",
     "output_type": "stream",
     "text": [
      "[I 2023-07-04 16:02:53,088] Trial 373 finished with value: 0.6878542900085449 and parameters: {'w1': 0.9577324573564562, 'w2': 0.08120512999021956, 'w3': 0.6872241349291695, 'w4': 0.5876721529831159, 'w5': 0.738162046007393, 'w6': 0.45267270300638707, 'w7': 0.5739167074259542, 'w8': 0.8315190352998786}. Best is trial 349 with value: 0.6886134147644043.\n"
     ]
    },
    {
     "name": "stdout",
     "output_type": "stream",
     "text": [
      "{'w1': 0.9577324573564562, 'w2': 0.08120512999021956, 'w3': 0.6872241349291695, 'w4': 0.5876721529831159, 'w5': 0.738162046007393, 'w6': 0.45267270300638707, 'w7': 0.5739167074259542, 'w8': 0.8315190352998786, 'threshold': 0.28}\n"
     ]
    },
    {
     "name": "stderr",
     "output_type": "stream",
     "text": [
      "[I 2023-07-04 16:02:53,507] Trial 374 finished with value: 0.6885142922401428 and parameters: {'w1': 0.9807720188961371, 'w2': 0.4280357041812347, 'w3': 0.5731697535647793, 'w4': 0.42831888316311806, 'w5': 0.6862242339368406, 'w6': 0.37374717714325173, 'w7': 0.5497922169439862, 'w8': 0.6731793612147285}. Best is trial 349 with value: 0.6886134147644043.\n"
     ]
    },
    {
     "name": "stdout",
     "output_type": "stream",
     "text": [
      "{'w1': 0.9807720188961371, 'w2': 0.4280357041812347, 'w3': 0.5731697535647793, 'w4': 0.42831888316311806, 'w5': 0.6862242339368406, 'w6': 0.37374717714325173, 'w7': 0.5497922169439862, 'w8': 0.6731793612147285, 'threshold': 0.28}\n"
     ]
    },
    {
     "name": "stderr",
     "output_type": "stream",
     "text": [
      "[I 2023-07-04 16:02:53,926] Trial 375 finished with value: 0.6882730722427368 and parameters: {'w1': 0.8853573509490005, 'w2': 0.5188176926392805, 'w3': 0.7557681452714177, 'w4': 0.25485617115983783, 'w5': 0.5830999750598814, 'w6': 0.5898124778435194, 'w7': 0.6043089960357284, 'w8': 0.857650540508394}. Best is trial 349 with value: 0.6886134147644043.\n"
     ]
    },
    {
     "name": "stdout",
     "output_type": "stream",
     "text": [
      "{'w1': 0.8853573509490005, 'w2': 0.5188176926392805, 'w3': 0.7557681452714177, 'w4': 0.25485617115983783, 'w5': 0.5830999750598814, 'w6': 0.5898124778435194, 'w7': 0.6043089960357284, 'w8': 0.857650540508394, 'threshold': 0.25}\n"
     ]
    },
    {
     "name": "stderr",
     "output_type": "stream",
     "text": [
      "[I 2023-07-04 16:02:54,361] Trial 376 finished with value: 0.6883224844932556 and parameters: {'w1': 0.938041474937021, 'w2': 0.4036808115096307, 'w3': 0.7059404452313957, 'w4': 0.3115792297412395, 'w5': 0.7189199001054594, 'w6': 0.5210675410878295, 'w7': 0.35001809842999304, 'w8': 0.553393047467404}. Best is trial 349 with value: 0.6886134147644043.\n"
     ]
    },
    {
     "name": "stdout",
     "output_type": "stream",
     "text": [
      "{'w1': 0.938041474937021, 'w2': 0.4036808115096307, 'w3': 0.7059404452313957, 'w4': 0.3115792297412395, 'w5': 0.7189199001054594, 'w6': 0.5210675410878295, 'w7': 0.35001809842999304, 'w8': 0.553393047467404, 'threshold': 0.28}\n"
     ]
    },
    {
     "name": "stderr",
     "output_type": "stream",
     "text": [
      "[I 2023-07-04 16:02:54,787] Trial 377 finished with value: 0.6881828308105469 and parameters: {'w1': 0.672415261509271, 'w2': 0.48069316764465886, 'w3': 0.5914835108626211, 'w4': 0.28811085391209407, 'w5': 0.5488856440956219, 'w6': 0.4850887574570025, 'w7': 0.49414988531989235, 'w8': 0.7831518871702957}. Best is trial 349 with value: 0.6886134147644043.\n"
     ]
    },
    {
     "name": "stdout",
     "output_type": "stream",
     "text": [
      "{'w1': 0.672415261509271, 'w2': 0.48069316764465886, 'w3': 0.5914835108626211, 'w4': 0.28811085391209407, 'w5': 0.5488856440956219, 'w6': 0.4850887574570025, 'w7': 0.49414988531989235, 'w8': 0.7831518871702957, 'threshold': 0.25}\n"
     ]
    },
    {
     "name": "stderr",
     "output_type": "stream",
     "text": [
      "[I 2023-07-04 16:02:55,208] Trial 378 finished with value: 0.6875320672988892 and parameters: {'w1': 0.9616695614289122, 'w2': 0.4497615825700826, 'w3': 0.6668249674932057, 'w4': 0.34158659617231113, 'w5': 0.03373852482010209, 'w6': 0.6157795356788089, 'w7': 0.4244236026373626, 'w8': 0.8813262777923119}. Best is trial 349 with value: 0.6886134147644043.\n"
     ]
    },
    {
     "name": "stdout",
     "output_type": "stream",
     "text": [
      "{'w1': 0.9616695614289122, 'w2': 0.4497615825700826, 'w3': 0.6668249674932057, 'w4': 0.34158659617231113, 'w5': 0.03373852482010209, 'w6': 0.6157795356788089, 'w7': 0.4244236026373626, 'w8': 0.8813262777923119, 'threshold': 0.31}\n"
     ]
    },
    {
     "name": "stderr",
     "output_type": "stream",
     "text": [
      "[I 2023-07-04 16:02:55,628] Trial 379 finished with value: 0.6883934736251831 and parameters: {'w1': 0.9137052528839302, 'w2': 0.4988874515781626, 'w3': 0.48644499673790664, 'w4': 0.24714023189439158, 'w5': 0.7557518382357559, 'w6': 0.5591744792112384, 'w7': 0.37673644226745767, 'w8': 0.8047386200486039}. Best is trial 349 with value: 0.6886134147644043.\n"
     ]
    },
    {
     "name": "stdout",
     "output_type": "stream",
     "text": [
      "{'w1': 0.9137052528839302, 'w2': 0.4988874515781626, 'w3': 0.48644499673790664, 'w4': 0.24714023189439158, 'w5': 0.7557518382357559, 'w6': 0.5591744792112384, 'w7': 0.37673644226745767, 'w8': 0.8047386200486039, 'threshold': 0.29}\n"
     ]
    },
    {
     "name": "stderr",
     "output_type": "stream",
     "text": [
      "[I 2023-07-04 16:02:56,047] Trial 380 finished with value: 0.6874554753303528 and parameters: {'w1': 0.32898144923836403, 'w2': 0.46560137454843387, 'w3': 0.7252142683394232, 'w4': 0.266516449666953, 'w5': 0.7006691902620688, 'w6': 0.3228243106452537, 'w7': 0.32303479805194, 'w8': 0.7468021605897313}. Best is trial 349 with value: 0.6886134147644043.\n"
     ]
    },
    {
     "name": "stdout",
     "output_type": "stream",
     "text": [
      "{'w1': 0.32898144923836403, 'w2': 0.46560137454843387, 'w3': 0.7252142683394232, 'w4': 0.266516449666953, 'w5': 0.7006691902620688, 'w6': 0.3228243106452537, 'w7': 0.32303479805194, 'w8': 0.7468021605897313, 'threshold': 0.26}\n"
     ]
    },
    {
     "name": "stderr",
     "output_type": "stream",
     "text": [
      "[I 2023-07-04 16:02:56,466] Trial 381 finished with value: 0.6884296536445618 and parameters: {'w1': 0.9816920395625351, 'w2': 0.4340798915059979, 'w3': 0.8943295282713262, 'w4': 0.3177375373446907, 'w5': 0.7340005969532308, 'w6': 0.6478320108146437, 'w7': 0.45026311874885344, 'w8': 0.8398128127767548}. Best is trial 349 with value: 0.6886134147644043.\n"
     ]
    },
    {
     "name": "stdout",
     "output_type": "stream",
     "text": [
      "{'w1': 0.9816920395625351, 'w2': 0.4340798915059979, 'w3': 0.8943295282713262, 'w4': 0.3177375373446907, 'w5': 0.7340005969532308, 'w6': 0.6478320108146437, 'w7': 0.45026311874885344, 'w8': 0.8398128127767548, 'threshold': 0.26}\n"
     ]
    },
    {
     "name": "stderr",
     "output_type": "stream",
     "text": [
      "[I 2023-07-04 16:02:56,891] Trial 382 finished with value: 0.6880817413330078 and parameters: {'w1': 0.529119248212186, 'w2': 0.5370015219089904, 'w3': 0.7376548627970319, 'w4': 0.3994822985644841, 'w5': 0.304197186669996, 'w6': 0.5355111432019635, 'w7': 0.41025035981121766, 'w8': 0.7736597674187087}. Best is trial 349 with value: 0.6886134147644043.\n"
     ]
    },
    {
     "name": "stdout",
     "output_type": "stream",
     "text": [
      "{'w1': 0.529119248212186, 'w2': 0.5370015219089904, 'w3': 0.7376548627970319, 'w4': 0.3994822985644841, 'w5': 0.304197186669996, 'w6': 0.5355111432019635, 'w7': 0.41025035981121766, 'w8': 0.7736597674187087, 'threshold': 0.24}\n"
     ]
    },
    {
     "name": "stderr",
     "output_type": "stream",
     "text": [
      "[I 2023-07-04 16:02:57,318] Trial 383 finished with value: 0.6883399486541748 and parameters: {'w1': 0.949361863469261, 'w2': 0.47968628403575436, 'w3': 0.6264426118237937, 'w4': 0.22304095106744187, 'w5': 0.612522792764542, 'w6': 0.23012304851972543, 'w7': 0.4766655920392553, 'w8': 0.5770583118523421}. Best is trial 349 with value: 0.6886134147644043.\n"
     ]
    },
    {
     "name": "stdout",
     "output_type": "stream",
     "text": [
      "{'w1': 0.949361863469261, 'w2': 0.47968628403575436, 'w3': 0.6264426118237937, 'w4': 0.22304095106744187, 'w5': 0.612522792764542, 'w6': 0.23012304851972543, 'w7': 0.4766655920392553, 'w8': 0.5770583118523421, 'threshold': 0.27}\n"
     ]
    },
    {
     "name": "stderr",
     "output_type": "stream",
     "text": [
      "[I 2023-07-04 16:02:57,740] Trial 384 finished with value: 0.6878052949905396 and parameters: {'w1': 0.5914943325685289, 'w2': 0.45162305860239643, 'w3': 0.6952527308266541, 'w4': 0.29101468058343977, 'w5': 0.8068613918485086, 'w6': 0.5101494401052674, 'w7': 0.36209361116039807, 'w8': 0.8063831917715366}. Best is trial 349 with value: 0.6886134147644043.\n"
     ]
    },
    {
     "name": "stdout",
     "output_type": "stream",
     "text": [
      "{'w1': 0.5914943325685289, 'w2': 0.45162305860239643, 'w3': 0.6952527308266541, 'w4': 0.29101468058343977, 'w5': 0.8068613918485086, 'w6': 0.5101494401052674, 'w7': 0.36209361116039807, 'w8': 0.8063831917715366, 'threshold': 0.25}\n"
     ]
    },
    {
     "name": "stderr",
     "output_type": "stream",
     "text": [
      "[I 2023-07-04 16:02:58,166] Trial 385 finished with value: 0.6883119940757751 and parameters: {'w1': 0.9986109353792498, 'w2': 0.30967751559222073, 'w3': 0.6770589334654976, 'w4': 0.2713951705428495, 'w5': 0.7791926695049504, 'w6': 0.46868802187289055, 'w7': 0.707550658877127, 'w8': 0.7191735896373624}. Best is trial 349 with value: 0.6886134147644043.\n"
     ]
    },
    {
     "name": "stdout",
     "output_type": "stream",
     "text": [
      "{'w1': 0.9986109353792498, 'w2': 0.30967751559222073, 'w3': 0.6770589334654976, 'w4': 0.2713951705428495, 'w5': 0.7791926695049504, 'w6': 0.46868802187289055, 'w7': 0.707550658877127, 'w8': 0.7191735896373624, 'threshold': 0.26}\n"
     ]
    },
    {
     "name": "stderr",
     "output_type": "stream",
     "text": [
      "[I 2023-07-04 16:02:58,587] Trial 386 finished with value: 0.6877209544181824 and parameters: {'w1': 0.6167319233837206, 'w2': 0.5070548395739424, 'w3': 0.655760381409177, 'w4': 0.36363304899427085, 'w5': 0.4996898099220243, 'w6': 0.4068111557792796, 'w7': 0.5080279829412858, 'w8': 0.9545664237889827}. Best is trial 349 with value: 0.6886134147644043.\n"
     ]
    },
    {
     "name": "stdout",
     "output_type": "stream",
     "text": [
      "{'w1': 0.6167319233837206, 'w2': 0.5070548395739424, 'w3': 0.655760381409177, 'w4': 0.36363304899427085, 'w5': 0.4996898099220243, 'w6': 0.4068111557792796, 'w7': 0.5080279829412858, 'w8': 0.9545664237889827, 'threshold': 0.27}\n"
     ]
    },
    {
     "name": "stderr",
     "output_type": "stream",
     "text": [
      "[I 2023-07-04 16:02:59,008] Trial 387 finished with value: 0.6868332624435425 and parameters: {'w1': 0.42769675838623, 'w2': 0.4659671825807506, 'w3': 0.8141353763919913, 'w4': 0.9346692502089025, 'w5': 0.674749577245048, 'w6': 0.44122819327760077, 'w7': 0.3891760277421125, 'w8': 0.8210493907994761}. Best is trial 349 with value: 0.6886134147644043.\n"
     ]
    },
    {
     "name": "stdout",
     "output_type": "stream",
     "text": [
      "{'w1': 0.42769675838623, 'w2': 0.4659671825807506, 'w3': 0.8141353763919913, 'w4': 0.9346692502089025, 'w5': 0.674749577245048, 'w6': 0.44122819327760077, 'w7': 0.3891760277421125, 'w8': 0.8210493907994761, 'threshold': 0.26}\n"
     ]
    },
    {
     "name": "stderr",
     "output_type": "stream",
     "text": [
      "[I 2023-07-04 16:02:59,429] Trial 388 finished with value: 0.6881566643714905 and parameters: {'w1': 0.9258483772927901, 'w2': 0.5793266857574711, 'w3': 0.19700549385914423, 'w4': 0.3318129089155291, 'w5': 0.7137879654844475, 'w6': 0.4886643797582606, 'w7': 0.21170628642560652, 'w8': 0.7895514600749894}. Best is trial 349 with value: 0.6886134147644043.\n"
     ]
    },
    {
     "name": "stdout",
     "output_type": "stream",
     "text": [
      "{'w1': 0.9258483772927901, 'w2': 0.5793266857574711, 'w3': 0.19700549385914423, 'w4': 0.3318129089155291, 'w5': 0.7137879654844475, 'w6': 0.4886643797582606, 'w7': 0.21170628642560652, 'w8': 0.7895514600749894, 'threshold': 0.27}\n"
     ]
    },
    {
     "name": "stderr",
     "output_type": "stream",
     "text": [
      "[I 2023-07-04 16:02:59,850] Trial 389 finished with value: 0.6883551478385925 and parameters: {'w1': 0.9633340630285644, 'w2': 0.4230456144946655, 'w3': 0.5548848102109882, 'w4': 0.04812101266412239, 'w5': 0.7415613609814865, 'w6': 0.5672002115030116, 'w7': 0.4327562948869662, 'w8': 0.7010162924616891}. Best is trial 349 with value: 0.6886134147644043.\n"
     ]
    },
    {
     "name": "stdout",
     "output_type": "stream",
     "text": [
      "{'w1': 0.9633340630285644, 'w2': 0.4230456144946655, 'w3': 0.5548848102109882, 'w4': 0.04812101266412239, 'w5': 0.7415613609814865, 'w6': 0.5672002115030116, 'w7': 0.4327562948869662, 'w8': 0.7010162924616891, 'threshold': 0.28}\n"
     ]
    },
    {
     "name": "stderr",
     "output_type": "stream",
     "text": [
      "[I 2023-07-04 16:03:00,274] Trial 390 finished with value: 0.6883774399757385 and parameters: {'w1': 0.8557689198642976, 'w2': 0.49051895378197463, 'w3': 0.701883562751978, 'w4': 0.6408182213956375, 'w5': 0.649613431698218, 'w6': 0.5403446258464288, 'w7': 0.4627592992478362, 'w8': 0.7700601166597235}. Best is trial 349 with value: 0.6886134147644043.\n"
     ]
    },
    {
     "name": "stdout",
     "output_type": "stream",
     "text": [
      "{'w1': 0.8557689198642976, 'w2': 0.49051895378197463, 'w3': 0.701883562751978, 'w4': 0.6408182213956375, 'w5': 0.649613431698218, 'w6': 0.5403446258464288, 'w7': 0.4627592992478362, 'w8': 0.7700601166597235, 'threshold': 0.26}\n"
     ]
    },
    {
     "name": "stderr",
     "output_type": "stream",
     "text": [
      "[I 2023-07-04 16:03:00,706] Trial 391 finished with value: 0.6885607242584229 and parameters: {'w1': 0.9478485135901813, 'w2': 0.45174407772937303, 'w3': 0.7724492384042079, 'w4': 0.30366497644149837, 'w5': 0.7592617826531451, 'w6': 0.509408817845481, 'w7': 0.409654230521559, 'w8': 0.7365348697888409}. Best is trial 349 with value: 0.6886134147644043.\n"
     ]
    },
    {
     "name": "stdout",
     "output_type": "stream",
     "text": [
      "{'w1': 0.9478485135901813, 'w2': 0.45174407772937303, 'w3': 0.7724492384042079, 'w4': 0.30366497644149837, 'w5': 0.7592617826531451, 'w6': 0.509408817845481, 'w7': 0.409654230521559, 'w8': 0.7365348697888409, 'threshold': 0.28}\n"
     ]
    },
    {
     "name": "stderr",
     "output_type": "stream",
     "text": [
      "[I 2023-07-04 16:03:01,127] Trial 392 finished with value: 0.6878692507743835 and parameters: {'w1': 0.5692024405944642, 'w2': 0.514052428467113, 'w3': 0.33358686358158646, 'w4': 0.22930735702139463, 'w5': 0.7223339882276382, 'w6': 0.4666798527108712, 'w7': 0.3046805514673027, 'w8': 0.8575280976874737}. Best is trial 349 with value: 0.6886134147644043.\n"
     ]
    },
    {
     "name": "stdout",
     "output_type": "stream",
     "text": [
      "{'w1': 0.5692024405944642, 'w2': 0.514052428467113, 'w3': 0.33358686358158646, 'w4': 0.22930735702139463, 'w5': 0.7223339882276382, 'w6': 0.4666798527108712, 'w7': 0.3046805514673027, 'w8': 0.8575280976874737, 'threshold': 0.26}\n"
     ]
    },
    {
     "name": "stderr",
     "output_type": "stream",
     "text": [
      "[I 2023-07-04 16:03:01,548] Trial 393 finished with value: 0.6882674694061279 and parameters: {'w1': 0.9041300645847936, 'w2': 0.47553309782192366, 'w3': 0.5438091467442923, 'w4': 0.5307318241847605, 'w5': 0.6954468759387255, 'w6': 0.5287542226537376, 'w7': 0.6461540981377534, 'w8': 0.755462778840675}. Best is trial 349 with value: 0.6886134147644043.\n"
     ]
    },
    {
     "name": "stdout",
     "output_type": "stream",
     "text": [
      "{'w1': 0.9041300645847936, 'w2': 0.47553309782192366, 'w3': 0.5438091467442923, 'w4': 0.5307318241847605, 'w5': 0.6954468759387255, 'w6': 0.5287542226537376, 'w7': 0.6461540981377534, 'w8': 0.755462778840675, 'threshold': 0.25}\n"
     ]
    },
    {
     "name": "stderr",
     "output_type": "stream",
     "text": [
      "[I 2023-07-04 16:03:01,976] Trial 394 finished with value: 0.6882798075675964 and parameters: {'w1': 0.7482050779559987, 'w2': 0.41189856668800784, 'w3': 0.5046395573268507, 'w4': 0.20128485805224616, 'w5': 0.7714570354936812, 'w6': 0.5504661186982144, 'w7': 0.3489798071762795, 'w8': 0.8014015617334866}. Best is trial 349 with value: 0.6886134147644043.\n"
     ]
    },
    {
     "name": "stdout",
     "output_type": "stream",
     "text": [
      "{'w1': 0.7482050779559987, 'w2': 0.41189856668800784, 'w3': 0.5046395573268507, 'w4': 0.20128485805224616, 'w5': 0.7714570354936812, 'w6': 0.5504661186982144, 'w7': 0.3489798071762795, 'w8': 0.8014015617334866, 'threshold': 0.26}\n"
     ]
    },
    {
     "name": "stderr",
     "output_type": "stream",
     "text": [
      "[I 2023-07-04 16:03:02,423] Trial 395 finished with value: 0.6882932186126709 and parameters: {'w1': 0.9704766633534425, 'w2': 0.43634297405682954, 'w3': 0.7202592470350416, 'w4': 0.26054505241985804, 'w5': 0.5706471142977972, 'w6': 0.4307069659626138, 'w7': 0.5282246318168174, 'w8': 0.5225859727321949}. Best is trial 349 with value: 0.6886134147644043.\n"
     ]
    },
    {
     "name": "stdout",
     "output_type": "stream",
     "text": [
      "{'w1': 0.9704766633534425, 'w2': 0.43634297405682954, 'w3': 0.7202592470350416, 'w4': 0.26054505241985804, 'w5': 0.5706471142977972, 'w6': 0.4307069659626138, 'w7': 0.5282246318168174, 'w8': 0.5225859727321949, 'threshold': 0.25}\n"
     ]
    },
    {
     "name": "stderr",
     "output_type": "stream",
     "text": [
      "[I 2023-07-04 16:03:02,857] Trial 396 finished with value: 0.6876603960990906 and parameters: {'w1': 0.5146373798310422, 'w2': 0.4901943968786411, 'w3': 0.7482962770991921, 'w4': 0.4754059306344317, 'w5': 0.7453783896808802, 'w6': 0.5839193287269301, 'w7': 0.4447095796242103, 'w8': 0.9076827454694574}. Best is trial 349 with value: 0.6886134147644043.\n"
     ]
    },
    {
     "name": "stdout",
     "output_type": "stream",
     "text": [
      "{'w1': 0.5146373798310422, 'w2': 0.4901943968786411, 'w3': 0.7482962770991921, 'w4': 0.4754059306344317, 'w5': 0.7453783896808802, 'w6': 0.5839193287269301, 'w7': 0.4447095796242103, 'w8': 0.9076827454694574, 'threshold': 0.29}\n"
     ]
    },
    {
     "name": "stderr",
     "output_type": "stream",
     "text": [
      "[I 2023-07-04 16:03:03,289] Trial 397 finished with value: 0.6884163618087769 and parameters: {'w1': 0.9340503192463205, 'w2': 0.5302996766805667, 'w3': 0.6418558061276196, 'w4': 0.2438290137281672, 'w5': 0.6821205866661527, 'w6': 0.4975580204788499, 'w7': 0.3940729181830364, 'w8': 0.8371403193297315}. Best is trial 349 with value: 0.6886134147644043.\n"
     ]
    },
    {
     "name": "stdout",
     "output_type": "stream",
     "text": [
      "{'w1': 0.9340503192463205, 'w2': 0.5302996766805667, 'w3': 0.6418558061276196, 'w4': 0.2438290137281672, 'w5': 0.6821205866661527, 'w6': 0.4975580204788499, 'w7': 0.3940729181830364, 'w8': 0.8371403193297315, 'threshold': 0.28}\n"
     ]
    },
    {
     "name": "stderr",
     "output_type": "stream",
     "text": [
      "[I 2023-07-04 16:03:03,726] Trial 398 finished with value: 0.6877999305725098 and parameters: {'w1': 0.7906330144907604, 'w2': 0.7846547720407, 'w3': 0.2970444479683869, 'w4': 0.28394721567295145, 'w5': 0.9694579152042772, 'w6': 0.15198886144744195, 'w7': 0.4843607541190777, 'w8': 0.8193533682364031}. Best is trial 349 with value: 0.6886134147644043.\n"
     ]
    },
    {
     "name": "stdout",
     "output_type": "stream",
     "text": [
      "{'w1': 0.7906330144907604, 'w2': 0.7846547720407, 'w3': 0.2970444479683869, 'w4': 0.28394721567295145, 'w5': 0.9694579152042772, 'w6': 0.15198886144744195, 'w7': 0.4843607541190777, 'w8': 0.8193533682364031, 'threshold': 0.28}\n"
     ]
    },
    {
     "name": "stderr",
     "output_type": "stream",
     "text": [
      "[I 2023-07-04 16:03:04,152] Trial 399 finished with value: 0.6877487897872925 and parameters: {'w1': 0.3858598562713891, 'w2': 0.38366264057649424, 'w3': 0.6803276684693652, 'w4': 0.3202887234566672, 'w5': 0.4680604686631314, 'w6': 0.519334559094125, 'w7': 0.7307909665702488, 'w8': 0.6447798390559878}. Best is trial 349 with value: 0.6886134147644043.\n"
     ]
    },
    {
     "name": "stdout",
     "output_type": "stream",
     "text": [
      "{'w1': 0.3858598562713891, 'w2': 0.38366264057649424, 'w3': 0.6803276684693652, 'w4': 0.3202887234566672, 'w5': 0.4680604686631314, 'w6': 0.519334559094125, 'w7': 0.7307909665702488, 'w8': 0.6447798390559878, 'threshold': 0.25}\n"
     ]
    },
    {
     "name": "stderr",
     "output_type": "stream",
     "text": [
      "[I 2023-07-04 16:03:04,588] Trial 400 finished with value: 0.6882675290107727 and parameters: {'w1': 0.7208019813493942, 'w2': 0.6462578535545456, 'w3': 0.7147418478905423, 'w4': 0.34780126248588866, 'w5': 0.7101252874130572, 'w6': 0.48565236503847337, 'w7': 0.4242175925683096, 'w8': 0.6142409647993072}. Best is trial 349 with value: 0.6886134147644043.\n"
     ]
    },
    {
     "name": "stdout",
     "output_type": "stream",
     "text": [
      "{'w1': 0.7208019813493942, 'w2': 0.6462578535545456, 'w3': 0.7147418478905423, 'w4': 0.34780126248588866, 'w5': 0.7101252874130572, 'w6': 0.48565236503847337, 'w7': 0.4242175925683096, 'w8': 0.6142409647993072, 'threshold': 0.28}\n"
     ]
    },
    {
     "name": "stderr",
     "output_type": "stream",
     "text": [
      "[I 2023-07-04 16:03:05,010] Trial 401 finished with value: 0.6885164976119995 and parameters: {'w1': 0.9800860827372457, 'w2': 0.4605134622567285, 'w3': 0.7922060404035517, 'w4': 0.16186680694219244, 'w5': 0.7948474851778664, 'w6': 0.4578433488359888, 'w7': 0.36473013451521474, 'w8': 0.8863864790627844}. Best is trial 349 with value: 0.6886134147644043.\n"
     ]
    },
    {
     "name": "stdout",
     "output_type": "stream",
     "text": [
      "{'w1': 0.9800860827372457, 'w2': 0.4605134622567285, 'w3': 0.7922060404035517, 'w4': 0.16186680694219244, 'w5': 0.7948474851778664, 'w6': 0.4578433488359888, 'w7': 0.36473013451521474, 'w8': 0.8863864790627844, 'threshold': 0.28}\n"
     ]
    },
    {
     "name": "stderr",
     "output_type": "stream",
     "text": [
      "[I 2023-07-04 16:03:05,433] Trial 402 finished with value: 0.6880870461463928 and parameters: {'w1': 0.8731409646682436, 'w2': 0.48434000494191914, 'w3': 0.6649804393369069, 'w4': 0.3017828231416608, 'w5': 0.4100611420965252, 'w6': 0.5624240668796112, 'w7': 0.455054158257557, 'w8': 0.7791137831823325}. Best is trial 349 with value: 0.6886134147644043.\n"
     ]
    },
    {
     "name": "stdout",
     "output_type": "stream",
     "text": [
      "{'w1': 0.8731409646682436, 'w2': 0.48434000494191914, 'w3': 0.6649804393369069, 'w4': 0.3017828231416608, 'w5': 0.4100611420965252, 'w6': 0.5624240668796112, 'w7': 0.455054158257557, 'w8': 0.7791137831823325, 'threshold': 0.24}\n"
     ]
    },
    {
     "name": "stderr",
     "output_type": "stream",
     "text": [
      "[I 2023-07-04 16:03:05,854] Trial 403 finished with value: 0.688396155834198 and parameters: {'w1': 0.9561513639011162, 'w2': 0.5034952816625492, 'w3': 0.6943434515437011, 'w4': 0.27613710385316376, 'w5': 0.7271367920425741, 'w6': 0.41112044228650546, 'w7': 0.41398027777245827, 'w8': 0.678211715822588}. Best is trial 349 with value: 0.6886134147644043.\n"
     ]
    },
    {
     "name": "stdout",
     "output_type": "stream",
     "text": [
      "{'w1': 0.9561513639011162, 'w2': 0.5034952816625492, 'w3': 0.6943434515437011, 'w4': 0.27613710385316376, 'w5': 0.7271367920425741, 'w6': 0.41112044228650546, 'w7': 0.41398027777245827, 'w8': 0.678211715822588, 'threshold': 0.26}\n"
     ]
    },
    {
     "name": "stderr",
     "output_type": "stream",
     "text": [
      "[I 2023-07-04 16:03:06,295] Trial 404 finished with value: 0.6884108185768127 and parameters: {'w1': 0.9260758405047738, 'w2': 0.5552453321480669, 'w3': 0.732876168927858, 'w4': 0.24027574077364794, 'w5': 0.6917554035401402, 'w6': 0.5111202379359917, 'w7': 0.3833394508502572, 'w8': 0.7318548061625879}. Best is trial 349 with value: 0.6886134147644043.\n"
     ]
    },
    {
     "name": "stdout",
     "output_type": "stream",
     "text": [
      "{'w1': 0.9260758405047738, 'w2': 0.5552453321480669, 'w3': 0.732876168927858, 'w4': 0.24027574077364794, 'w5': 0.6917554035401402, 'w6': 0.5111202379359917, 'w7': 0.3833394508502572, 'w8': 0.7318548061625879, 'threshold': 0.28}\n"
     ]
    },
    {
     "name": "stderr",
     "output_type": "stream",
     "text": [
      "[I 2023-07-04 16:03:06,721] Trial 405 finished with value: 0.6883524656295776 and parameters: {'w1': 0.9866452708226608, 'w2': 0.4432324326708355, 'w3': 0.7631403313335412, 'w4': 0.5179448165547937, 'w5': 0.8735106888484077, 'w6': 0.5380799978444012, 'w7': 0.5011354338289717, 'w8': 0.794190990199074}. Best is trial 349 with value: 0.6886134147644043.\n"
     ]
    },
    {
     "name": "stdout",
     "output_type": "stream",
     "text": [
      "{'w1': 0.9866452708226608, 'w2': 0.4432324326708355, 'w3': 0.7631403313335412, 'w4': 0.5179448165547937, 'w5': 0.8735106888484077, 'w6': 0.5380799978444012, 'w7': 0.5011354338289717, 'w8': 0.794190990199074, 'threshold': 0.26}\n"
     ]
    },
    {
     "name": "stderr",
     "output_type": "stream",
     "text": [
      "[I 2023-07-04 16:03:07,150] Trial 406 finished with value: 0.6883670091629028 and parameters: {'w1': 0.8992286841751714, 'w2': 0.4707202662582113, 'w3': 0.681006920922879, 'w4': 0.41522905026477336, 'w5': 0.6577651385235399, 'w6': 0.8195427455599477, 'w7': 0.4386529889310209, 'w8': 0.7578940759544919}. Best is trial 349 with value: 0.6886134147644043.\n"
     ]
    },
    {
     "name": "stdout",
     "output_type": "stream",
     "text": [
      "{'w1': 0.8992286841751714, 'w2': 0.4707202662582113, 'w3': 0.681006920922879, 'w4': 0.41522905026477336, 'w5': 0.6577651385235399, 'w6': 0.8195427455599477, 'w7': 0.4386529889310209, 'w8': 0.7578940759544919, 'threshold': 0.25}\n"
     ]
    },
    {
     "name": "stderr",
     "output_type": "stream",
     "text": [
      "[I 2023-07-04 16:03:07,621] Trial 407 finished with value: 0.687125563621521 and parameters: {'w1': 0.29539761549468085, 'w2': 0.987572373939766, 'w3': 0.6406629993373552, 'w4': 0.4404269078626248, 'w5': 0.8224539952937432, 'w6': 0.389976444343382, 'w7': 0.3316600839402299, 'w8': 0.8499231664608972}. Best is trial 349 with value: 0.6886134147644043.\n"
     ]
    },
    {
     "name": "stdout",
     "output_type": "stream",
     "text": [
      "{'w1': 0.29539761549468085, 'w2': 0.987572373939766, 'w3': 0.6406629993373552, 'w4': 0.4404269078626248, 'w5': 0.8224539952937432, 'w6': 0.389976444343382, 'w7': 0.3316600839402299, 'w8': 0.8499231664608972, 'threshold': 0.27}\n"
     ]
    },
    {
     "name": "stderr",
     "output_type": "stream",
     "text": [
      "[I 2023-07-04 16:03:08,067] Trial 408 finished with value: 0.6884135007858276 and parameters: {'w1': 0.9997389238231068, 'w2': 0.45536255821403937, 'w3': 0.5332952934087063, 'w4': 0.2124386278375875, 'w5': 0.854606662965082, 'w6': 0.268941453013142, 'w7': 0.47050982937890534, 'w8': 0.8199154581415934}. Best is trial 349 with value: 0.6886134147644043.\n"
     ]
    },
    {
     "name": "stdout",
     "output_type": "stream",
     "text": [
      "{'w1': 0.9997389238231068, 'w2': 0.45536255821403937, 'w3': 0.5332952934087063, 'w4': 0.2124386278375875, 'w5': 0.854606662965082, 'w6': 0.268941453013142, 'w7': 0.47050982937890534, 'w8': 0.8199154581415934, 'threshold': 0.29}\n"
     ]
    },
    {
     "name": "stderr",
     "output_type": "stream",
     "text": [
      "[I 2023-07-04 16:03:08,499] Trial 409 finished with value: 0.6882978677749634 and parameters: {'w1': 0.9507791711833301, 'w2': 0.4289941373507513, 'w3': 0.7093591670170812, 'w4': 0.3259311819453953, 'w5': 0.7497902782755209, 'w6': 0.2939741660231264, 'w7': 0.4052315533008672, 'w8': 0.986675466810088}. Best is trial 349 with value: 0.6886134147644043.\n"
     ]
    },
    {
     "name": "stdout",
     "output_type": "stream",
     "text": [
      "{'w1': 0.9507791711833301, 'w2': 0.4289941373507513, 'w3': 0.7093591670170812, 'w4': 0.3259311819453953, 'w5': 0.7497902782755209, 'w6': 0.2939741660231264, 'w7': 0.4052315533008672, 'w8': 0.986675466810088, 'threshold': 0.28}\n"
     ]
    },
    {
     "name": "stderr",
     "output_type": "stream",
     "text": [
      "[I 2023-07-04 16:03:08,919] Trial 410 finished with value: 0.6883785724639893 and parameters: {'w1': 0.9673958521636474, 'w2': 0.520274295931686, 'w3': 0.845266624667984, 'w4': 0.4921029106960657, 'w5': 0.7090921222413032, 'w6': 0.596255533974949, 'w7': 0.4234431180443426, 'w8': 0.7892008841342811}. Best is trial 349 with value: 0.6886134147644043.\n"
     ]
    },
    {
     "name": "stdout",
     "output_type": "stream",
     "text": [
      "{'w1': 0.9673958521636474, 'w2': 0.520274295931686, 'w3': 0.845266624667984, 'w4': 0.4921029106960657, 'w5': 0.7090921222413032, 'w6': 0.596255533974949, 'w7': 0.4234431180443426, 'w8': 0.7892008841342811, 'threshold': 0.26}\n"
     ]
    },
    {
     "name": "stderr",
     "output_type": "stream",
     "text": [
      "[I 2023-07-04 16:03:09,341] Trial 411 finished with value: 0.6884714365005493 and parameters: {'w1': 0.9418062366201368, 'w2': 0.49109242061136377, 'w3': 0.6078175201057732, 'w4': 0.29818809779896177, 'w5': 0.7287420838250234, 'w6': 0.47442844383400173, 'w7': 0.38431608528189726, 'w8': 0.8708376055687448}. Best is trial 349 with value: 0.6886134147644043.\n"
     ]
    },
    {
     "name": "stdout",
     "output_type": "stream",
     "text": [
      "{'w1': 0.9418062366201368, 'w2': 0.49109242061136377, 'w3': 0.6078175201057732, 'w4': 0.29818809779896177, 'w5': 0.7287420838250234, 'w6': 0.47442844383400173, 'w7': 0.38431608528189726, 'w8': 0.8708376055687448, 'threshold': 0.28}\n"
     ]
    },
    {
     "name": "stderr",
     "output_type": "stream",
     "text": [
      "[I 2023-07-04 16:03:09,762] Trial 412 finished with value: 0.688428521156311 and parameters: {'w1': 0.9215054505336083, 'w2': 0.4099732164244261, 'w3': 0.7405270988124968, 'w4': 0.25873532059753895, 'w5': 0.7768908700282586, 'w6': 0.4270780693846818, 'w7': 0.4530924262262946, 'w8': 0.7694430600697785}. Best is trial 349 with value: 0.6886134147644043.\n"
     ]
    },
    {
     "name": "stdout",
     "output_type": "stream",
     "text": [
      "{'w1': 0.9215054505336083, 'w2': 0.4099732164244261, 'w3': 0.7405270988124968, 'w4': 0.25873532059753895, 'w5': 0.7768908700282586, 'w6': 0.4270780693846818, 'w7': 0.4530924262262946, 'w8': 0.7694430600697785, 'threshold': 0.27}\n"
     ]
    },
    {
     "name": "stderr",
     "output_type": "stream",
     "text": [
      "[I 2023-07-04 16:03:10,193] Trial 413 finished with value: 0.6882776021957397 and parameters: {'w1': 0.9702201839247873, 'w2': 0.4693822575048168, 'w3': 0.6634502927624802, 'w4': 0.7348714928748226, 'w5': 0.35826635367594706, 'w6': 0.5003836628724803, 'w7': 0.5634652393161366, 'w8': 0.6978708048260045}. Best is trial 349 with value: 0.6886134147644043.\n"
     ]
    },
    {
     "name": "stdout",
     "output_type": "stream",
     "text": [
      "{'w1': 0.9702201839247873, 'w2': 0.4693822575048168, 'w3': 0.6634502927624802, 'w4': 0.7348714928748226, 'w5': 0.35826635367594706, 'w6': 0.5003836628724803, 'w7': 0.5634652393161366, 'w8': 0.6978708048260045, 'threshold': 0.28}\n"
     ]
    },
    {
     "name": "stderr",
     "output_type": "stream",
     "text": [
      "[I 2023-07-04 16:03:10,615] Trial 414 finished with value: 0.6871668696403503 and parameters: {'w1': 0.512715256510327, 'w2': 0.5020116479014594, 'w3': 0.007741771063266123, 'w4': 0.27949548941043156, 'w5': 0.6748561329321328, 'w6': 0.5277221830927362, 'w7': 0.4840226146714796, 'w8': 0.8354467645744884}. Best is trial 349 with value: 0.6886134147644043.\n"
     ]
    },
    {
     "name": "stdout",
     "output_type": "stream",
     "text": [
      "{'w1': 0.512715256510327, 'w2': 0.5020116479014594, 'w3': 0.007741771063266123, 'w4': 0.27949548941043156, 'w5': 0.6748561329321328, 'w6': 0.5277221830927362, 'w7': 0.4840226146714796, 'w8': 0.8354467645744884, 'threshold': 0.25}\n"
     ]
    },
    {
     "name": "stderr",
     "output_type": "stream",
     "text": [
      "[I 2023-07-04 16:03:11,035] Trial 415 finished with value: 0.6879589557647705 and parameters: {'w1': 0.9357246633471334, 'w2': 0.03431640936163738, 'w3': 0.6951628560820323, 'w4': 0.18150535894523373, 'w5': 0.754041838985583, 'w6': 0.4480833341959911, 'w7': 0.6265008898820635, 'w8': 0.8098800015123053}. Best is trial 349 with value: 0.6886134147644043.\n"
     ]
    },
    {
     "name": "stdout",
     "output_type": "stream",
     "text": [
      "{'w1': 0.9357246633471334, 'w2': 0.03431640936163738, 'w3': 0.6951628560820323, 'w4': 0.18150535894523373, 'w5': 0.754041838985583, 'w6': 0.4480833341959911, 'w7': 0.6265008898820635, 'w8': 0.8098800015123053, 'threshold': 0.28}\n"
     ]
    },
    {
     "name": "stderr",
     "output_type": "stream",
     "text": [
      "[I 2023-07-04 16:03:11,458] Trial 416 finished with value: 0.6871869564056396 and parameters: {'w1': 0.4529364131855452, 'w2': 0.6626783163646448, 'w3': 0.7204131220351087, 'w4': 0.5401316666046977, 'w5': 0.8911492844687666, 'w6': 0.5538752764372111, 'w7': 0.3589188704252453, 'w8': 0.7495181211051725}. Best is trial 349 with value: 0.6886134147644043.\n"
     ]
    },
    {
     "name": "stdout",
     "output_type": "stream",
     "text": [
      "{'w1': 0.4529364131855452, 'w2': 0.6626783163646448, 'w3': 0.7204131220351087, 'w4': 0.5401316666046977, 'w5': 0.8911492844687666, 'w6': 0.5538752764372111, 'w7': 0.3589188704252453, 'w8': 0.7495181211051725, 'threshold': 0.31}\n"
     ]
    },
    {
     "name": "stderr",
     "output_type": "stream",
     "text": [
      "[I 2023-07-04 16:03:11,880] Trial 417 finished with value: 0.6875688433647156 and parameters: {'w1': 0.8903958148607278, 'w2': 0.4438165109695135, 'w3': 0.6827365909309173, 'w4': 0.8697788965603808, 'w5': 0.701274676858126, 'w6': 0.5763375259185819, 'w7': 0.43433671467206847, 'w8': 0.7925903881528678}. Best is trial 349 with value: 0.6886134147644043.\n"
     ]
    },
    {
     "name": "stdout",
     "output_type": "stream",
     "text": [
      "{'w1': 0.8903958148607278, 'w2': 0.4438165109695135, 'w3': 0.6827365909309173, 'w4': 0.8697788965603808, 'w5': 0.701274676858126, 'w6': 0.5763375259185819, 'w7': 0.43433671467206847, 'w8': 0.7925903881528678, 'threshold': 0.24}\n"
     ]
    },
    {
     "name": "stderr",
     "output_type": "stream",
     "text": [
      "[I 2023-07-04 16:03:12,313] Trial 418 finished with value: 0.6878953576087952 and parameters: {'w1': 0.6655852668176859, 'w2': 0.9733785338700321, 'w3': 0.7520209908910456, 'w4': 0.3848145431507139, 'w5': 0.6234503493111466, 'w6': 0.47796991272377193, 'w7': 0.39860254950538565, 'w8': 0.7240335333713426}. Best is trial 349 with value: 0.6886134147644043.\n"
     ]
    },
    {
     "name": "stdout",
     "output_type": "stream",
     "text": [
      "{'w1': 0.6655852668176859, 'w2': 0.9733785338700321, 'w3': 0.7520209908910456, 'w4': 0.3848145431507139, 'w5': 0.6234503493111466, 'w6': 0.47796991272377193, 'w7': 0.39860254950538565, 'w8': 0.7240335333713426, 'threshold': 0.26}\n"
     ]
    },
    {
     "name": "stderr",
     "output_type": "stream",
     "text": [
      "[I 2023-07-04 16:03:12,737] Trial 419 finished with value: 0.6882268190383911 and parameters: {'w1': 0.8271195427923395, 'w2': 0.47552103715914706, 'w3': 0.8626797611760693, 'w4': 0.3130584049945626, 'w5': 0.7317805274402188, 'w6': 0.6158353117333972, 'w7': 0.46764119106082375, 'w8': 0.7703153810209581}. Best is trial 349 with value: 0.6886134147644043.\n"
     ]
    },
    {
     "name": "stdout",
     "output_type": "stream",
     "text": [
      "{'w1': 0.8271195427923395, 'w2': 0.47552103715914706, 'w3': 0.8626797611760693, 'w4': 0.3130584049945626, 'w5': 0.7317805274402188, 'w6': 0.6158353117333972, 'w7': 0.46764119106082375, 'w8': 0.7703153810209581, 'threshold': 0.27}\n"
     ]
    },
    {
     "name": "stderr",
     "output_type": "stream",
     "text": [
      "[I 2023-07-04 16:03:13,158] Trial 420 finished with value: 0.6879674196243286 and parameters: {'w1': 0.8095761718489989, 'w2': 0.7362343208631694, 'w3': 0.6285573412054207, 'w4': 0.2535967065756325, 'w5': 0.4281799404162517, 'w6': 0.5071550431478371, 'w7': 0.36977665165520446, 'w8': 0.5846718301301576}. Best is trial 349 with value: 0.6886134147644043.\n"
     ]
    },
    {
     "name": "stdout",
     "output_type": "stream",
     "text": [
      "{'w1': 0.8095761718489989, 'w2': 0.7362343208631694, 'w3': 0.6285573412054207, 'w4': 0.2535967065756325, 'w5': 0.4281799404162517, 'w6': 0.5071550431478371, 'w7': 0.36977665165520446, 'w8': 0.5846718301301576, 'threshold': 0.26}\n"
     ]
    },
    {
     "name": "stderr",
     "output_type": "stream",
     "text": [
      "[I 2023-07-04 16:03:13,585] Trial 421 finished with value: 0.6881933212280273 and parameters: {'w1': 0.9601523617722088, 'w2': 0.537469367924576, 'w3': 0.6609045251173659, 'w4': 0.35466447995946243, 'w5': 0.5404259244454179, 'w6': 0.540128418477686, 'w7': 0.07304568583564897, 'w8': 0.8184618837322688}. Best is trial 349 with value: 0.6886134147644043.\n"
     ]
    },
    {
     "name": "stdout",
     "output_type": "stream",
     "text": [
      "{'w1': 0.9601523617722088, 'w2': 0.537469367924576, 'w3': 0.6609045251173659, 'w4': 0.35466447995946243, 'w5': 0.5404259244454179, 'w6': 0.540128418477686, 'w7': 0.07304568583564897, 'w8': 0.8184618837322688, 'threshold': 0.27}\n"
     ]
    },
    {
     "name": "stderr",
     "output_type": "stream",
     "text": [
      "[I 2023-07-04 16:03:14,008] Trial 422 finished with value: 0.6880854964256287 and parameters: {'w1': 0.6439612061049748, 'w2': 0.7538633364857759, 'w3': 0.7080829365109367, 'w4': 0.29115924922127184, 'w5': 0.713875155958638, 'w6': 0.338129736149395, 'w7': 0.6884960540547133, 'w8': 0.8408648792727551}. Best is trial 349 with value: 0.6886134147644043.\n"
     ]
    },
    {
     "name": "stdout",
     "output_type": "stream",
     "text": [
      "{'w1': 0.6439612061049748, 'w2': 0.7538633364857759, 'w3': 0.7080829365109367, 'w4': 0.29115924922127184, 'w5': 0.713875155958638, 'w6': 0.338129736149395, 'w7': 0.6884960540547133, 'w8': 0.8408648792727551, 'threshold': 0.27}\n"
     ]
    },
    {
     "name": "stderr",
     "output_type": "stream",
     "text": [
      "[I 2023-07-04 16:03:14,428] Trial 423 finished with value: 0.688255786895752 and parameters: {'w1': 0.9150756807139167, 'w2': 0.45809459624034976, 'w3': 0.737497826016633, 'w4': 0.14694078947675263, 'w5': 0.7629154466419739, 'w6': 0.521472595790338, 'w7': 0.7522485668323636, 'w8': 0.7451868862019486}. Best is trial 349 with value: 0.6886134147644043.\n"
     ]
    },
    {
     "name": "stdout",
     "output_type": "stream",
     "text": [
      "{'w1': 0.9150756807139167, 'w2': 0.45809459624034976, 'w3': 0.737497826016633, 'w4': 0.14694078947675263, 'w5': 0.7629154466419739, 'w6': 0.521472595790338, 'w7': 0.7522485668323636, 'w8': 0.7451868862019486, 'threshold': 0.24}\n"
     ]
    },
    {
     "name": "stderr",
     "output_type": "stream",
     "text": [
      "[I 2023-07-04 16:03:14,852] Trial 424 finished with value: 0.6873695850372314 and parameters: {'w1': 0.9837329576395536, 'w2': 0.4292518768873757, 'w3': 0.7803427349926719, 'w4': 0.8146798410200812, 'w5': 0.8382904598044846, 'w6': 0.3619449121283258, 'w7': 0.5148785801428443, 'w8': 0.5532843494589753}. Best is trial 349 with value: 0.6886134147644043.\n"
     ]
    },
    {
     "name": "stdout",
     "output_type": "stream",
     "text": [
      "{'w1': 0.9837329576395536, 'w2': 0.4292518768873757, 'w3': 0.7803427349926719, 'w4': 0.8146798410200812, 'w5': 0.8382904598044846, 'w6': 0.3619449121283258, 'w7': 0.5148785801428443, 'w8': 0.5532843494589753, 'threshold': 0.25}\n"
     ]
    },
    {
     "name": "stderr",
     "output_type": "stream",
     "text": [
      "[I 2023-07-04 16:03:15,281] Trial 425 finished with value: 0.6881097555160522 and parameters: {'w1': 0.9447855396633557, 'w2': 0.3945149865421343, 'w3': 0.5668310885983265, 'w4': 0.23076416730328136, 'w5': 0.44816106226472274, 'w6': 0.4950968228723644, 'w7': 0.42864019733456826, 'w8': 0.9379998016694013}. Best is trial 349 with value: 0.6886134147644043.\n"
     ]
    },
    {
     "name": "stdout",
     "output_type": "stream",
     "text": [
      "{'w1': 0.9447855396633557, 'w2': 0.3945149865421343, 'w3': 0.5668310885983265, 'w4': 0.23076416730328136, 'w5': 0.44816106226472274, 'w6': 0.4950968228723644, 'w7': 0.42864019733456826, 'w8': 0.9379998016694013, 'threshold': 0.28}\n"
     ]
    },
    {
     "name": "stderr",
     "output_type": "stream",
     "text": [
      "[I 2023-07-04 16:03:15,702] Trial 426 finished with value: 0.688016951084137 and parameters: {'w1': 0.9700113415984271, 'w2': 0.48848563972420944, 'w3': 0.16611693306960174, 'w4': 0.33283869413875433, 'w5': 0.7891317551599193, 'w6': 0.4528054760977822, 'w7': 0.3190794501019732, 'w8': 0.8649454934321089}. Best is trial 349 with value: 0.6886134147644043.\n"
     ]
    },
    {
     "name": "stdout",
     "output_type": "stream",
     "text": [
      "{'w1': 0.9700113415984271, 'w2': 0.48848563972420944, 'w3': 0.16611693306960174, 'w4': 0.33283869413875433, 'w5': 0.7891317551599193, 'w6': 0.4528054760977822, 'w7': 0.3190794501019732, 'w8': 0.8649454934321089, 'threshold': 0.29}\n"
     ]
    },
    {
     "name": "stderr",
     "output_type": "stream",
     "text": [
      "[I 2023-07-04 16:03:16,124] Trial 427 finished with value: 0.6880555748939514 and parameters: {'w1': 0.9295656184504858, 'w2': 0.8827953855912114, 'w3': 0.45666605599695237, 'w4': 0.2733179857146103, 'w5': 0.736268477008186, 'w6': 0.5532977558959816, 'w7': 0.2786176726113739, 'w8': 0.8039282461274708}. Best is trial 349 with value: 0.6886134147644043.\n"
     ]
    },
    {
     "name": "stdout",
     "output_type": "stream",
     "text": [
      "{'w1': 0.9295656184504858, 'w2': 0.8827953855912114, 'w3': 0.45666605599695237, 'w4': 0.2733179857146103, 'w5': 0.736268477008186, 'w6': 0.5532977558959816, 'w7': 0.2786176726113739, 'w8': 0.8039282461274708, 'threshold': 0.27}\n"
     ]
    },
    {
     "name": "stderr",
     "output_type": "stream",
     "text": [
      "[I 2023-07-04 16:03:16,544] Trial 428 finished with value: 0.6880645155906677 and parameters: {'w1': 0.999406568098043, 'w2': 0.13416546395799045, 'w3': 0.6957697993314447, 'w4': 0.5069170188919361, 'w5': 0.6875018034113132, 'w6': 0.472688393679231, 'w7': 0.4023790613556003, 'w8': 0.7812521401599065}. Best is trial 349 with value: 0.6886134147644043.\n"
     ]
    },
    {
     "name": "stdout",
     "output_type": "stream",
     "text": [
      "{'w1': 0.999406568098043, 'w2': 0.13416546395799045, 'w3': 0.6957697993314447, 'w4': 0.5069170188919361, 'w5': 0.6875018034113132, 'w6': 0.472688393679231, 'w7': 0.4023790613556003, 'w8': 0.7812521401599065, 'threshold': 0.28}\n"
     ]
    },
    {
     "name": "stderr",
     "output_type": "stream",
     "text": [
      "[I 2023-07-04 16:03:16,965] Trial 429 finished with value: 0.6883864402770996 and parameters: {'w1': 0.9475347425122631, 'w2': 0.5092308893072983, 'w3': 0.8054672784025537, 'w4': 0.307610609390478, 'w5': 0.9310845610298086, 'w6': 0.5829081963421451, 'w7': 0.3403621831969836, 'w8': 0.7583169571337065}. Best is trial 349 with value: 0.6886134147644043.\n"
     ]
    },
    {
     "name": "stdout",
     "output_type": "stream",
     "text": [
      "{'w1': 0.9475347425122631, 'w2': 0.5092308893072983, 'w3': 0.8054672784025537, 'w4': 0.307610609390478, 'w5': 0.9310845610298086, 'w6': 0.5829081963421451, 'w7': 0.3403621831969836, 'w8': 0.7583169571337065, 'threshold': 0.27}\n"
     ]
    },
    {
     "name": "stderr",
     "output_type": "stream",
     "text": [
      "[I 2023-07-04 16:03:17,386] Trial 430 finished with value: 0.6879376769065857 and parameters: {'w1': 0.9766275425536137, 'w2': 0.45984374672506234, 'w3': 0.6471098027348267, 'w4': 0.19711247680694566, 'w5': 0.33891549771868495, 'w6': 0.6475180809843556, 'w7': 0.45099307851203563, 'w8': 0.6550780244612401}. Best is trial 349 with value: 0.6886134147644043.\n"
     ]
    },
    {
     "name": "stdout",
     "output_type": "stream",
     "text": [
      "{'w1': 0.9766275425536137, 'w2': 0.45984374672506234, 'w3': 0.6471098027348267, 'w4': 0.19711247680694566, 'w5': 0.33891549771868495, 'w6': 0.6475180809843556, 'w7': 0.45099307851203563, 'w8': 0.6550780244612401, 'threshold': 0.26}\n"
     ]
    },
    {
     "name": "stderr",
     "output_type": "stream",
     "text": [
      "[I 2023-07-04 16:03:17,807] Trial 431 finished with value: 0.6879205703735352 and parameters: {'w1': 0.8633842865186351, 'w2': 0.47802578964867093, 'w3': 0.7232887619342183, 'w4': 0.25455278474468984, 'w5': 0.2222905711297809, 'w6': 0.5236840629038049, 'w7': 0.3818450075574332, 'w8': 0.706973194544344}. Best is trial 349 with value: 0.6886134147644043.\n"
     ]
    },
    {
     "name": "stdout",
     "output_type": "stream",
     "text": [
      "{'w1': 0.8633842865186351, 'w2': 0.47802578964867093, 'w3': 0.7232887619342183, 'w4': 0.25455278474468984, 'w5': 0.2222905711297809, 'w6': 0.5236840629038049, 'w7': 0.3818450075574332, 'w8': 0.706973194544344, 'threshold': 0.3}\n"
     ]
    },
    {
     "name": "stderr",
     "output_type": "stream",
     "text": [
      "[I 2023-07-04 16:03:18,228] Trial 432 finished with value: 0.6882468461990356 and parameters: {'w1': 0.9023395427196854, 'w2': 0.44463419219178757, 'w3': 0.6737967166730681, 'w4': 0.34241273606185196, 'w5': 0.7131971773920532, 'w6': 0.10800385663767342, 'w7': 0.48123782743349364, 'w8': 0.8333381632588193}. Best is trial 349 with value: 0.6886134147644043.\n"
     ]
    },
    {
     "name": "stdout",
     "output_type": "stream",
     "text": [
      "{'w1': 0.9023395427196854, 'w2': 0.44463419219178757, 'w3': 0.6737967166730681, 'w4': 0.34241273606185196, 'w5': 0.7131971773920532, 'w6': 0.10800385663767342, 'w7': 0.48123782743349364, 'w8': 0.8333381632588193, 'threshold': 0.27}\n"
     ]
    },
    {
     "name": "stderr",
     "output_type": "stream",
     "text": [
      "[I 2023-07-04 16:03:18,649] Trial 433 finished with value: 0.6875481009483337 and parameters: {'w1': 0.731963108173294, 'w2': 0.5205831469629533, 'w3': 0.7044500352050134, 'w4': 0.2934845274349484, 'w5': 0.0030586145312605506, 'w6': 0.5013982146196931, 'w7': 0.4152556520403846, 'w8': 0.7304364666181795}. Best is trial 349 with value: 0.6886134147644043.\n"
     ]
    },
    {
     "name": "stdout",
     "output_type": "stream",
     "text": [
      "{'w1': 0.731963108173294, 'w2': 0.5205831469629533, 'w3': 0.7044500352050134, 'w4': 0.2934845274349484, 'w5': 0.0030586145312605506, 'w6': 0.5013982146196931, 'w7': 0.4152556520403846, 'w8': 0.7304364666181795, 'threshold': 0.29}\n"
     ]
    },
    {
     "name": "stderr",
     "output_type": "stream",
     "text": [
      "[I 2023-07-04 16:03:19,069] Trial 434 finished with value: 0.6869183778762817 and parameters: {'w1': 0.6153779486480029, 'w2': 0.4196564052344895, 'w3': 0.07913921355686182, 'w4': 0.21938725451770427, 'w5': 0.5887457919398341, 'w6': 0.23625106010035302, 'w7': 0.30628181291419915, 'w8': 0.8987875293752747}. Best is trial 349 with value: 0.6886134147644043.\n"
     ]
    },
    {
     "name": "stdout",
     "output_type": "stream",
     "text": [
      "{'w1': 0.6153779486480029, 'w2': 0.4196564052344895, 'w3': 0.07913921355686182, 'w4': 0.21938725451770427, 'w5': 0.5887457919398341, 'w6': 0.23625106010035302, 'w7': 0.30628181291419915, 'w8': 0.8987875293752747, 'threshold': 0.28}\n"
     ]
    },
    {
     "name": "stderr",
     "output_type": "stream",
     "text": [
      "[I 2023-07-04 16:03:19,491] Trial 435 finished with value: 0.6882294416427612 and parameters: {'w1': 0.960888737403092, 'w2': 0.8000660249169603, 'w3': 0.38726616274076, 'w4': 0.31485764167154645, 'w5': 0.6628724983909504, 'w6': 0.3112105018430018, 'w7': 0.5387801367993199, 'w8': 0.8031305135611433}. Best is trial 349 with value: 0.6886134147644043.\n"
     ]
    },
    {
     "name": "stdout",
     "output_type": "stream",
     "text": [
      "{'w1': 0.960888737403092, 'w2': 0.8000660249169603, 'w3': 0.38726616274076, 'w4': 0.31485764167154645, 'w5': 0.6628724983909504, 'w6': 0.3112105018430018, 'w7': 0.5387801367993199, 'w8': 0.8031305135611433, 'threshold': 0.26}\n"
     ]
    },
    {
     "name": "stderr",
     "output_type": "stream",
     "text": [
      "[I 2023-07-04 16:03:19,912] Trial 436 finished with value: 0.6880576014518738 and parameters: {'w1': 0.5796658093412445, 'w2': 0.7311002211408877, 'w3': 0.7585694983535547, 'w4': 0.27039606839675984, 'w5': 0.7446258028134336, 'w6': 0.5374563877110432, 'w7': 0.49700157837489467, 'w8': 0.6093564460575633}. Best is trial 349 with value: 0.6886134147644043.\n"
     ]
    },
    {
     "name": "stdout",
     "output_type": "stream",
     "text": [
      "{'w1': 0.5796658093412445, 'w2': 0.7311002211408877, 'w3': 0.7585694983535547, 'w4': 0.27039606839675984, 'w5': 0.7446258028134336, 'w6': 0.5374563877110432, 'w7': 0.49700157837489467, 'w8': 0.6093564460575633, 'threshold': 0.26}\n"
     ]
    },
    {
     "name": "stderr",
     "output_type": "stream",
     "text": [
      "[I 2023-07-04 16:03:20,336] Trial 437 finished with value: 0.6882115006446838 and parameters: {'w1': 0.9232157318351424, 'w2': 0.491266048696552, 'w3': 0.681409721136749, 'w4': 0.3675701781294692, 'w5': 0.8138371261586529, 'w6': 0.4185853760699815, 'w7': 0.44128978389177187, 'w8': 0.44698009950610074}. Best is trial 349 with value: 0.6886134147644043.\n"
     ]
    },
    {
     "name": "stdout",
     "output_type": "stream",
     "text": [
      "{'w1': 0.9232157318351424, 'w2': 0.491266048696552, 'w3': 0.681409721136749, 'w4': 0.3675701781294692, 'w5': 0.8138371261586529, 'w6': 0.4185853760699815, 'w7': 0.44128978389177187, 'w8': 0.44698009950610074, 'threshold': 0.27}\n"
     ]
    },
    {
     "name": "stderr",
     "output_type": "stream",
     "text": [
      "[I 2023-07-04 16:03:20,758] Trial 438 finished with value: 0.6873239874839783 and parameters: {'w1': 0.2146345932160666, 'w2': 0.17578247800602576, 'w3': 0.7280822338614826, 'w4': 0.11768101352607006, 'w5': 0.7697211337797945, 'w6': 0.5695736863906902, 'w7': 0.8580983812006447, 'w8': 0.7788668819416755}. Best is trial 349 with value: 0.6886134147644043.\n"
     ]
    },
    {
     "name": "stdout",
     "output_type": "stream",
     "text": [
      "{'w1': 0.2146345932160666, 'w2': 0.17578247800602576, 'w3': 0.7280822338614826, 'w4': 0.11768101352607006, 'w5': 0.7697211337797945, 'w6': 0.5695736863906902, 'w7': 0.8580983812006447, 'w8': 0.7788668819416755, 'threshold': 0.25}\n"
     ]
    },
    {
     "name": "stderr",
     "output_type": "stream",
     "text": [
      "[I 2023-07-04 16:03:21,179] Trial 439 finished with value: 0.6882365942001343 and parameters: {'w1': 0.9806939338882837, 'w2': 0.46430101041727895, 'w3': 0.4971098725533655, 'w4': 0.2502918573935944, 'w5': 0.6379293310965632, 'w6': 0.4865311699914006, 'w7': 0.46556684858432484, 'w8': 0.8556158443097823}. Best is trial 349 with value: 0.6886134147644043.\n"
     ]
    },
    {
     "name": "stdout",
     "output_type": "stream",
     "text": [
      "{'w1': 0.9806939338882837, 'w2': 0.46430101041727895, 'w3': 0.4971098725533655, 'w4': 0.2502918573935944, 'w5': 0.6379293310965632, 'w6': 0.4865311699914006, 'w7': 0.46556684858432484, 'w8': 0.8556158443097823, 'threshold': 0.28}\n"
     ]
    },
    {
     "name": "stderr",
     "output_type": "stream",
     "text": [
      "[I 2023-07-04 16:03:21,606] Trial 440 finished with value: 0.6881667971611023 and parameters: {'w1': 0.9487253520847989, 'w2': 0.5570716214754952, 'w3': 0.6508584959442131, 'w4': 0.33175732477917586, 'w5': 0.6953206775905962, 'w6': 0.7729829867845934, 'w7': 0.39552997444297405, 'w8': 0.01868477765670029}. Best is trial 349 with value: 0.6886134147644043.\n"
     ]
    },
    {
     "name": "stdout",
     "output_type": "stream",
     "text": [
      "{'w1': 0.9487253520847989, 'w2': 0.5570716214754952, 'w3': 0.6508584959442131, 'w4': 0.33175732477917586, 'w5': 0.6953206775905962, 'w6': 0.7729829867845934, 'w7': 0.39552997444297405, 'w8': 0.01868477765670029, 'threshold': 0.26}\n"
     ]
    },
    {
     "name": "stderr",
     "output_type": "stream",
     "text": [
      "[I 2023-07-04 16:03:22,056] Trial 441 finished with value: 0.6883360743522644 and parameters: {'w1': 0.9627167687556958, 'w2': 0.44315913613010194, 'w3': 0.8251619985764496, 'w4': 0.28963599049857575, 'w5': 0.7296969757154388, 'w6': 0.5992219434149487, 'w7': 0.6712697099940577, 'w8': 0.8189020317845952}. Best is trial 349 with value: 0.6886134147644043.\n"
     ]
    },
    {
     "name": "stdout",
     "output_type": "stream",
     "text": [
      "{'w1': 0.9627167687556958, 'w2': 0.44315913613010194, 'w3': 0.8251619985764496, 'w4': 0.28963599049857575, 'w5': 0.7296969757154388, 'w6': 0.5992219434149487, 'w7': 0.6712697099940577, 'w8': 0.8189020317845952, 'threshold': 0.26}\n"
     ]
    },
    {
     "name": "stderr",
     "output_type": "stream",
     "text": [
      "[I 2023-07-04 16:03:22,496] Trial 442 finished with value: 0.687634289264679 and parameters: {'w1': 0.9414317234038159, 'w2': 0.47710238205906447, 'w3': 0.6137079826659793, 'w4': 0.4529213595290487, 'w5': 0.12017800336432838, 'w6': 0.2604201014971001, 'w7': 0.36937915157324114, 'w8': 0.7691534294200411}. Best is trial 349 with value: 0.6886134147644043.\n"
     ]
    },
    {
     "name": "stdout",
     "output_type": "stream",
     "text": [
      "{'w1': 0.9414317234038159, 'w2': 0.47710238205906447, 'w3': 0.6137079826659793, 'w4': 0.4529213595290487, 'w5': 0.12017800336432838, 'w6': 0.2604201014971001, 'w7': 0.36937915157324114, 'w8': 0.7691534294200411, 'threshold': 0.25}\n"
     ]
    },
    {
     "name": "stderr",
     "output_type": "stream",
     "text": [
      "[I 2023-07-04 16:03:22,932] Trial 443 finished with value: 0.6878641843795776 and parameters: {'w1': 0.5325326988278105, 'w2': 0.5064732605951746, 'w3': 0.4027406388510728, 'w4': 0.5754719284805269, 'w5': 0.2793825588408064, 'w6': 0.44330643726850516, 'w7': 0.4173002268462093, 'w8': 0.7941468437243953}. Best is trial 349 with value: 0.6886134147644043.\n"
     ]
    },
    {
     "name": "stdout",
     "output_type": "stream",
     "text": [
      "{'w1': 0.5325326988278105, 'w2': 0.5064732605951746, 'w3': 0.4027406388510728, 'w4': 0.5754719284805269, 'w5': 0.2793825588408064, 'w6': 0.44330643726850516, 'w7': 0.4173002268462093, 'w8': 0.7941468437243953, 'threshold': 0.24}\n"
     ]
    },
    {
     "name": "stderr",
     "output_type": "stream",
     "text": [
      "[I 2023-07-04 16:03:23,378] Trial 444 finished with value: 0.6884886026382446 and parameters: {'w1': 0.8782960591556181, 'w2': 0.46035377252613724, 'w3': 0.6943564546399713, 'w4': 0.22724575719931708, 'w5': 0.751257936820088, 'w6': 0.5185735725880406, 'w7': 0.35175090512206986, 'w8': 0.7500938933971573}. Best is trial 349 with value: 0.6886134147644043.\n"
     ]
    },
    {
     "name": "stdout",
     "output_type": "stream",
     "text": [
      "{'w1': 0.8782960591556181, 'w2': 0.46035377252613724, 'w3': 0.6943564546399713, 'w4': 0.22724575719931708, 'w5': 0.751257936820088, 'w6': 0.5185735725880406, 'w7': 0.35175090512206986, 'w8': 0.7500938933971573, 'threshold': 0.27}\n"
     ]
    },
    {
     "name": "stderr",
     "output_type": "stream",
     "text": [
      "[I 2023-07-04 16:03:23,814] Trial 445 finished with value: 0.6879646182060242 and parameters: {'w1': 0.9087697865756951, 'w2': 0.6050655274067815, 'w3': 0.5269318705495527, 'w4': 0.27087976276154657, 'w5': 0.7158098752811701, 'w6': 0.46841975427083293, 'w7': 0.4449874092754303, 'w8': 0.2307031859504337}. Best is trial 349 with value: 0.6886134147644043.\n"
     ]
    },
    {
     "name": "stdout",
     "output_type": "stream",
     "text": [
      "{'w1': 0.9087697865756951, 'w2': 0.6050655274067815, 'w3': 0.5269318705495527, 'w4': 0.27087976276154657, 'w5': 0.7158098752811701, 'w6': 0.46841975427083293, 'w7': 0.4449874092754303, 'w8': 0.2307031859504337, 'threshold': 0.25}\n"
     ]
    },
    {
     "name": "stderr",
     "output_type": "stream",
     "text": [
      "[I 2023-07-04 16:03:24,249] Trial 446 finished with value: 0.6883497834205627 and parameters: {'w1': 0.9997507025375281, 'w2': 0.2266976358593632, 'w3': 0.6673025616864076, 'w4': 0.30534109282690863, 'w5': 0.6771825336220592, 'w6': 0.5500821184811123, 'w7': 0.4607981991095789, 'w8': 0.5031959854005525}. Best is trial 349 with value: 0.6886134147644043.\n"
     ]
    },
    {
     "name": "stdout",
     "output_type": "stream",
     "text": [
      "{'w1': 0.9997507025375281, 'w2': 0.2266976358593632, 'w3': 0.6673025616864076, 'w4': 0.30534109282690863, 'w5': 0.6771825336220592, 'w6': 0.5500821184811123, 'w7': 0.4607981991095789, 'w8': 0.5031959854005525, 'threshold': 0.26}\n"
     ]
    },
    {
     "name": "stderr",
     "output_type": "stream",
     "text": [
      "[I 2023-07-04 16:03:24,683] Trial 447 finished with value: 0.688168466091156 and parameters: {'w1': 0.7789668360406438, 'w2': 0.5311580686243919, 'w3': 0.8718016727476293, 'w4': 0.24097787130904977, 'w5': 0.380286886512896, 'w6': 0.3954469476769936, 'w7': 0.5210546982455944, 'w8': 0.6875364198535725}. Best is trial 349 with value: 0.6886134147644043.\n"
     ]
    },
    {
     "name": "stdout",
     "output_type": "stream",
     "text": [
      "{'w1': 0.7789668360406438, 'w2': 0.5311580686243919, 'w3': 0.8718016727476293, 'w4': 0.24097787130904977, 'w5': 0.380286886512896, 'w6': 0.3954469476769936, 'w7': 0.5210546982455944, 'w8': 0.6875364198535725, 'threshold': 0.24}\n"
     ]
    },
    {
     "name": "stderr",
     "output_type": "stream",
     "text": [
      "[I 2023-07-04 16:03:25,114] Trial 448 finished with value: 0.6882994174957275 and parameters: {'w1': 0.9767642933700654, 'w2': 0.7649932202328336, 'w3': 0.7402607383712695, 'w4': 0.321337846288496, 'w5': 0.7866298082003442, 'w6': 0.49734339169536085, 'w7': 0.6352785547583821, 'w8': 0.9718488371000953}. Best is trial 349 with value: 0.6886134147644043.\n"
     ]
    },
    {
     "name": "stdout",
     "output_type": "stream",
     "text": [
      "{'w1': 0.9767642933700654, 'w2': 0.7649932202328336, 'w3': 0.7402607383712695, 'w4': 0.321337846288496, 'w5': 0.7866298082003442, 'w6': 0.49734339169536085, 'w7': 0.6352785547583821, 'w8': 0.9718488371000953, 'threshold': 0.25}\n"
     ]
    },
    {
     "name": "stderr",
     "output_type": "stream",
     "text": [
      "[I 2023-07-04 16:03:25,537] Trial 449 finished with value: 0.6880260705947876 and parameters: {'w1': 0.8483990057573819, 'w2': 0.8078599669051709, 'w3': 0.44392204512256195, 'w4': 0.21233905138962655, 'w5': 0.6998994762853944, 'w6': 0.5308863376494829, 'w7': 0.3821313810914341, 'w8': 0.9983709687018056}. Best is trial 349 with value: 0.6886134147644043.\n"
     ]
    },
    {
     "name": "stdout",
     "output_type": "stream",
     "text": [
      "{'w1': 0.8483990057573819, 'w2': 0.8078599669051709, 'w3': 0.44392204512256195, 'w4': 0.21233905138962655, 'w5': 0.6998994762853944, 'w6': 0.5308863376494829, 'w7': 0.3821313810914341, 'w8': 0.9983709687018056, 'threshold': 0.27}\n"
     ]
    },
    {
     "name": "stderr",
     "output_type": "stream",
     "text": [
      "[I 2023-07-04 16:03:25,960] Trial 450 finished with value: 0.6881207823753357 and parameters: {'w1': 0.9307861135882051, 'w2': 0.09662037080180197, 'w3': 0.7184097239756779, 'w4': 0.2851058960181262, 'w5': 0.734118245011893, 'w6': 0.5647545265920795, 'w7': 0.4223759292510657, 'w8': 0.8310808333216435}. Best is trial 349 with value: 0.6886134147644043.\n"
     ]
    },
    {
     "name": "stdout",
     "output_type": "stream",
     "text": [
      "{'w1': 0.9307861135882051, 'w2': 0.09662037080180197, 'w3': 0.7184097239756779, 'w4': 0.2851058960181262, 'w5': 0.734118245011893, 'w6': 0.5647545265920795, 'w7': 0.4223759292510657, 'w8': 0.8310808333216435, 'threshold': 0.28}\n"
     ]
    },
    {
     "name": "stderr",
     "output_type": "stream",
     "text": [
      "[I 2023-07-04 16:03:26,382] Trial 451 finished with value: 0.688369870185852 and parameters: {'w1': 0.9568126715155841, 'w2': 0.42789128389673536, 'w3': 0.7816368651967177, 'w4': 0.1828087522469856, 'w5': 0.7604844664014773, 'w6': 0.6580931433486237, 'w7': 0.4823852230762268, 'w8': 0.87346308787945}. Best is trial 349 with value: 0.6886134147644043.\n"
     ]
    },
    {
     "name": "stdout",
     "output_type": "stream",
     "text": [
      "{'w1': 0.9568126715155841, 'w2': 0.42789128389673536, 'w3': 0.7816368651967177, 'w4': 0.1828087522469856, 'w5': 0.7604844664014773, 'w6': 0.6580931433486237, 'w7': 0.4823852230762268, 'w8': 0.87346308787945, 'threshold': 0.27}\n"
     ]
    },
    {
     "name": "stderr",
     "output_type": "stream",
     "text": [
      "[I 2023-07-04 16:03:26,820] Trial 452 finished with value: 0.6884152889251709 and parameters: {'w1': 0.9858585064089506, 'w2': 0.4951315951959165, 'w3': 0.8952532873984829, 'w4': 0.34951271663089634, 'w5': 0.501505261491211, 'w6': 0.5106784386219987, 'w7': 0.4033265446015991, 'w8': 0.6236866051636728}. Best is trial 349 with value: 0.6886134147644043.\n"
     ]
    },
    {
     "name": "stdout",
     "output_type": "stream",
     "text": [
      "{'w1': 0.9858585064089506, 'w2': 0.4951315951959165, 'w3': 0.8952532873984829, 'w4': 0.34951271663089634, 'w5': 0.501505261491211, 'w6': 0.5106784386219987, 'w7': 0.4033265446015991, 'w8': 0.6236866051636728, 'threshold': 0.24}\n"
     ]
    },
    {
     "name": "stderr",
     "output_type": "stream",
     "text": [
      "[I 2023-07-04 16:03:27,252] Trial 453 finished with value: 0.6883344054222107 and parameters: {'w1': 0.7676070918937061, 'w2': 0.5830597937144917, 'w3': 0.7047921681743036, 'w4': 0.2641346779686529, 'w5': 0.7175889730849393, 'w6': 0.46000665368118254, 'w7': 0.43188176186036603, 'w8': 0.7181825570313258}. Best is trial 349 with value: 0.6886134147644043.\n"
     ]
    },
    {
     "name": "stdout",
     "output_type": "stream",
     "text": [
      "{'w1': 0.7676070918937061, 'w2': 0.5830597937144917, 'w3': 0.7047921681743036, 'w4': 0.2641346779686529, 'w5': 0.7175889730849393, 'w6': 0.46000665368118254, 'w7': 0.43188176186036603, 'w8': 0.7181825570313258, 'threshold': 0.27}\n"
     ]
    },
    {
     "name": "stderr",
     "output_type": "stream",
     "text": [
      "[I 2023-07-04 16:03:27,674] Trial 454 finished with value: 0.6871481537818909 and parameters: {'w1': 0.1333289079063512, 'w2': 0.4774429650021044, 'w3': 0.6779398036575548, 'w4': 0.5040978637642965, 'w5': 0.6808285102273783, 'w6': 0.6275687230467988, 'w7': 0.49614085396815233, 'w8': 0.923893128369649}. Best is trial 349 with value: 0.6886134147644043.\n"
     ]
    },
    {
     "name": "stdout",
     "output_type": "stream",
     "text": [
      "{'w1': 0.1333289079063512, 'w2': 0.4774429650021044, 'w3': 0.6779398036575548, 'w4': 0.5040978637642965, 'w5': 0.6808285102273783, 'w6': 0.6275687230467988, 'w7': 0.49614085396815233, 'w8': 0.923893128369649, 'threshold': 0.27}\n"
     ]
    },
    {
     "name": "stderr",
     "output_type": "stream",
     "text": [
      "[I 2023-07-04 16:03:28,101] Trial 455 finished with value: 0.6882095336914062 and parameters: {'w1': 0.9185765463376295, 'w2': 0.2915763067120754, 'w3': 0.9823527666407124, 'w4': 0.6692007072219632, 'w5': 0.6484985238851912, 'w6': 0.4857056402824168, 'w7': 0.33671919781809556, 'w8': 0.8100016845855796}. Best is trial 349 with value: 0.6886134147644043.\n"
     ]
    },
    {
     "name": "stdout",
     "output_type": "stream",
     "text": [
      "{'w1': 0.9185765463376295, 'w2': 0.2915763067120754, 'w3': 0.9823527666407124, 'w4': 0.6692007072219632, 'w5': 0.6484985238851912, 'w6': 0.4857056402824168, 'w7': 0.33671919781809556, 'w8': 0.8100016845855796, 'threshold': 0.26}\n"
     ]
    },
    {
     "name": "stderr",
     "output_type": "stream",
     "text": [
      "[I 2023-07-04 16:03:28,537] Trial 456 finished with value: 0.6873887181282043 and parameters: {'w1': 0.9390844251437916, 'w2': 0.40014039872195767, 'w3': 0.6309107660360205, 'w4': 0.3040702264054923, 'w5': 0.07114315113229752, 'w6': 0.5444804441535207, 'w7': 0.1728656120252472, 'w8': 0.29301552066862135}. Best is trial 349 with value: 0.6886134147644043.\n"
     ]
    },
    {
     "name": "stdout",
     "output_type": "stream",
     "text": [
      "{'w1': 0.9390844251437916, 'w2': 0.40014039872195767, 'w3': 0.6309107660360205, 'w4': 0.3040702264054923, 'w5': 0.07114315113229752, 'w6': 0.5444804441535207, 'w7': 0.1728656120252472, 'w8': 0.29301552066862135, 'threshold': 0.29}\n"
     ]
    },
    {
     "name": "stderr",
     "output_type": "stream",
     "text": [
      "[I 2023-07-04 16:03:28,980] Trial 457 finished with value: 0.6879177689552307 and parameters: {'w1': 0.9658830507996675, 'w2': 0.4545351241964254, 'w3': 0.5814449471829506, 'w4': 0.2833495979902923, 'w5': 0.32790308863809386, 'w6': 0.6045104061014881, 'w7': 0.4530464307922443, 'w8': 0.7830847936635561}. Best is trial 349 with value: 0.6886134147644043.\n"
     ]
    },
    {
     "name": "stdout",
     "output_type": "stream",
     "text": [
      "{'w1': 0.9658830507996675, 'w2': 0.4545351241964254, 'w3': 0.5814449471829506, 'w4': 0.2833495979902923, 'w5': 0.32790308863809386, 'w6': 0.6045104061014881, 'w7': 0.4530464307922443, 'w8': 0.7830847936635561, 'threshold': 0.25}\n"
     ]
    },
    {
     "name": "stderr",
     "output_type": "stream",
     "text": [
      "[I 2023-07-04 16:03:29,419] Trial 458 finished with value: 0.6883453726768494 and parameters: {'w1': 0.8936652503966629, 'w2': 0.5020944830709874, 'w3': 0.41591846474329486, 'w4': 0.24401576594269164, 'w5': 0.7433077065696582, 'w6': 0.4330659096696397, 'w7': 0.3934634440887855, 'w8': 0.5169700074304062}. Best is trial 349 with value: 0.6886134147644043.\n"
     ]
    },
    {
     "name": "stdout",
     "output_type": "stream",
     "text": [
      "{'w1': 0.8936652503966629, 'w2': 0.5020944830709874, 'w3': 0.41591846474329486, 'w4': 0.24401576594269164, 'w5': 0.7433077065696582, 'w6': 0.4330659096696397, 'w7': 0.3934634440887855, 'w8': 0.5169700074304062, 'threshold': 0.29}\n"
     ]
    },
    {
     "name": "stderr",
     "output_type": "stream",
     "text": [
      "[I 2023-07-04 16:03:29,868] Trial 459 finished with value: 0.6881285309791565 and parameters: {'w1': 0.948500088919894, 'w2': 0.43728751087654144, 'w3': 0.7661044464021444, 'w4': 0.38960381062327604, 'w5': 0.9913859538741956, 'w6': 0.520260466601516, 'w7': 0.3729487672999557, 'w8': 0.8473068430614694}. Best is trial 349 with value: 0.6886134147644043.\n"
     ]
    },
    {
     "name": "stdout",
     "output_type": "stream",
     "text": [
      "{'w1': 0.948500088919894, 'w2': 0.43728751087654144, 'w3': 0.7661044464021444, 'w4': 0.38960381062327604, 'w5': 0.9913859538741956, 'w6': 0.520260466601516, 'w7': 0.3729487672999557, 'w8': 0.8473068430614694, 'threshold': 0.27}\n"
     ]
    },
    {
     "name": "stderr",
     "output_type": "stream",
     "text": [
      "[I 2023-07-04 16:03:30,316] Trial 460 finished with value: 0.688454270362854 and parameters: {'w1': 0.9776819038333759, 'w2': 0.4741584614249762, 'w3': 0.6576561528117346, 'w4': 0.32610488381283786, 'w5': 0.7038333782655024, 'w6': 0.5815053893876694, 'w7': 0.47039419592491544, 'w8': 0.5907300884572328}. Best is trial 349 with value: 0.6886134147644043.\n"
     ]
    },
    {
     "name": "stdout",
     "output_type": "stream",
     "text": [
      "{'w1': 0.9776819038333759, 'w2': 0.4741584614249762, 'w3': 0.6576561528117346, 'w4': 0.32610488381283786, 'w5': 0.7038333782655024, 'w6': 0.5815053893876694, 'w7': 0.47039419592491544, 'w8': 0.5907300884572328, 'threshold': 0.28}\n"
     ]
    },
    {
     "name": "stderr",
     "output_type": "stream",
     "text": [
      "[I 2023-07-04 16:03:30,742] Trial 461 finished with value: 0.6869080662727356 and parameters: {'w1': 0.6890701075664507, 'w2': 0.38169959406434273, 'w3': 0.691693165521503, 'w4': 0.46268369979912605, 'w5': 0.7719740456653572, 'w6': 0.48476490501812014, 'w7': 0.4140490419482524, 'w8': 0.06617278509533364}. Best is trial 349 with value: 0.6886134147644043.\n"
     ]
    },
    {
     "name": "stdout",
     "output_type": "stream",
     "text": [
      "{'w1': 0.6890701075664507, 'w2': 0.38169959406434273, 'w3': 0.691693165521503, 'w4': 0.46268369979912605, 'w5': 0.7719740456653572, 'w6': 0.48476490501812014, 'w7': 0.4140490419482524, 'w8': 0.06617278509533364, 'threshold': 0.23}\n"
     ]
    },
    {
     "name": "stderr",
     "output_type": "stream",
     "text": [
      "[I 2023-07-04 16:03:31,166] Trial 462 finished with value: 0.6881366968154907 and parameters: {'w1': 0.9247273304906124, 'w2': 0.1496489060949675, 'w3': 0.7460073613895564, 'w4': 0.16419661449532985, 'w5': 0.7983695719903113, 'w6': 0.5530378802561143, 'w7': 0.4382238070157045, 'w8': 0.7475504048629857}. Best is trial 349 with value: 0.6886134147644043.\n"
     ]
    },
    {
     "name": "stdout",
     "output_type": "stream",
     "text": [
      "{'w1': 0.9247273304906124, 'w2': 0.1496489060949675, 'w3': 0.7460073613895564, 'w4': 0.16419661449532985, 'w5': 0.7983695719903113, 'w6': 0.5530378802561143, 'w7': 0.4382238070157045, 'w8': 0.7475504048629857, 'threshold': 0.23}\n"
     ]
    },
    {
     "name": "stderr",
     "output_type": "stream",
     "text": [
      "[I 2023-07-04 16:03:31,591] Trial 463 finished with value: 0.687655508518219 and parameters: {'w1': 0.500755879485109, 'w2': 0.9979972449477501, 'w3': 0.7197336055511343, 'w4': 0.26550491583627117, 'w5': 0.7216018963157881, 'w6': 0.350861018255875, 'w7': 0.5066880351198993, 'w8': 0.5528168096101813}. Best is trial 349 with value: 0.6886134147644043.\n"
     ]
    },
    {
     "name": "stdout",
     "output_type": "stream",
     "text": [
      "{'w1': 0.500755879485109, 'w2': 0.9979972449477501, 'w3': 0.7197336055511343, 'w4': 0.26550491583627117, 'w5': 0.7216018963157881, 'w6': 0.350861018255875, 'w7': 0.5066880351198993, 'w8': 0.5528168096101813, 'threshold': 0.27}\n"
     ]
    },
    {
     "name": "stderr",
     "output_type": "stream",
     "text": [
      "[I 2023-07-04 16:03:32,016] Trial 464 finished with value: 0.6883771419525146 and parameters: {'w1': 0.9600715737768707, 'w2': 0.5224060136814133, 'w3': 0.6806012796555322, 'w4': 0.30415545636318586, 'w5': 0.60002467248473, 'w6': 0.5119076087690779, 'w7': 0.3564851181982908, 'w8': 0.7644360197414153}. Best is trial 349 with value: 0.6886134147644043.\n"
     ]
    },
    {
     "name": "stdout",
     "output_type": "stream",
     "text": [
      "{'w1': 0.9600715737768707, 'w2': 0.5224060136814133, 'w3': 0.6806012796555322, 'w4': 0.30415545636318586, 'w5': 0.60002467248473, 'w6': 0.5119076087690779, 'w7': 0.3564851181982908, 'w8': 0.7644360197414153, 'threshold': 0.29}\n"
     ]
    },
    {
     "name": "stderr",
     "output_type": "stream",
     "text": [
      "[I 2023-07-04 16:03:32,440] Trial 465 finished with value: 0.6871933937072754 and parameters: {'w1': 0.36693191289818866, 'w2': 0.36637435989041706, 'w3': 0.7061570036952677, 'w4': 0.20433804618345977, 'w5': 0.8220946382595993, 'w6': 0.06722305130577844, 'w7': 0.40865436507066677, 'w8': 0.8063946884428493}. Best is trial 349 with value: 0.6886134147644043.\n"
     ]
    },
    {
     "name": "stdout",
     "output_type": "stream",
     "text": [
      "{'w1': 0.36693191289818866, 'w2': 0.36637435989041706, 'w3': 0.7061570036952677, 'w4': 0.20433804618345977, 'w5': 0.8220946382595993, 'w6': 0.06722305130577844, 'w7': 0.40865436507066677, 'w8': 0.8063946884428493, 'threshold': 0.28}\n"
     ]
    },
    {
     "name": "stderr",
     "output_type": "stream",
     "text": [
      "[I 2023-07-04 16:03:32,866] Trial 466 finished with value: 0.6868624091148376 and parameters: {'w1': 0.4700413215246422, 'w2': 0.41250704026333895, 'w3': 0.1332750011009869, 'w4': 0.36451126920774407, 'w5': 0.5557236779282398, 'w6': 0.46061498946102447, 'w7': 0.6987169916852027, 'w8': 0.8910926568267359}. Best is trial 349 with value: 0.6886134147644043.\n"
     ]
    },
    {
     "name": "stdout",
     "output_type": "stream",
     "text": [
      "{'w1': 0.4700413215246422, 'w2': 0.41250704026333895, 'w3': 0.1332750011009869, 'w4': 0.36451126920774407, 'w5': 0.5557236779282398, 'w6': 0.46061498946102447, 'w7': 0.6987169916852027, 'w8': 0.8910926568267359, 'threshold': 0.24}\n"
     ]
    },
    {
     "name": "stderr",
     "output_type": "stream",
     "text": [
      "[I 2023-07-04 16:03:33,291] Trial 467 finished with value: 0.6877153515815735 and parameters: {'w1': 0.6859001613827846, 'w2': 0.4503809455982747, 'w3': 0.30533843001712696, 'w4': 0.23694718804148016, 'w5': 0.30118684181043526, 'w6': 0.535375516639798, 'w7': 0.5546035834399969, 'w8': 0.733941867096257}. Best is trial 349 with value: 0.6886134147644043.\n"
     ]
    },
    {
     "name": "stdout",
     "output_type": "stream",
     "text": [
      "{'w1': 0.6859001613827846, 'w2': 0.4503809455982747, 'w3': 0.30533843001712696, 'w4': 0.23694718804148016, 'w5': 0.30118684181043526, 'w6': 0.535375516639798, 'w7': 0.5546035834399969, 'w8': 0.733941867096257, 'threshold': 0.26}\n"
     ]
    },
    {
     "name": "stderr",
     "output_type": "stream",
     "text": [
      "[I 2023-07-04 16:03:33,721] Trial 468 finished with value: 0.6875219941139221 and parameters: {'w1': 0.9992490684354228, 'w2': 0.4839057476384431, 'w3': 0.7936955746575539, 'w4': 0.10098775673207616, 'w5': 0.6649128303067912, 'w6': 0.14118623219465443, 'w7': 0.43086539930689904, 'w8': 0.4331895852165498}. Best is trial 349 with value: 0.6886134147644043.\n"
     ]
    },
    {
     "name": "stdout",
     "output_type": "stream",
     "text": [
      "{'w1': 0.9992490684354228, 'w2': 0.4839057476384431, 'w3': 0.7936955746575539, 'w4': 0.10098775673207616, 'w5': 0.6649128303067912, 'w6': 0.14118623219465443, 'w7': 0.43086539930689904, 'w8': 0.4331895852165498, 'threshold': 0.27}\n"
     ]
    },
    {
     "name": "stderr",
     "output_type": "stream",
     "text": [
      "[I 2023-07-04 16:03:34,147] Trial 469 finished with value: 0.6884894371032715 and parameters: {'w1': 0.9398193465701833, 'w2': 0.4997299494715737, 'w3': 0.5925762319617789, 'w4': 0.3464412983325158, 'w5': 0.7521823453046376, 'w6': 0.4204561812920183, 'w7': 0.4597768713837079, 'w8': 0.7939433918441897}. Best is trial 349 with value: 0.6886134147644043.\n"
     ]
    },
    {
     "name": "stdout",
     "output_type": "stream",
     "text": [
      "{'w1': 0.9398193465701833, 'w2': 0.4997299494715737, 'w3': 0.5925762319617789, 'w4': 0.3464412983325158, 'w5': 0.7521823453046376, 'w6': 0.4204561812920183, 'w7': 0.4597768713837079, 'w8': 0.7939433918441897, 'threshold': 0.27}\n"
     ]
    },
    {
     "name": "stderr",
     "output_type": "stream",
     "text": [
      "[I 2023-07-04 16:03:34,571] Trial 470 finished with value: 0.6866945028305054 and parameters: {'w1': 0.011280678719200243, 'w2': 0.45768129746002695, 'w3': 0.4887570652726202, 'w4': 0.04211468334038493, 'w5': 0.6930123514539774, 'w6': 0.49886992585905693, 'w7': 0.3851214290567942, 'w8': 0.8194512078373257}. Best is trial 349 with value: 0.6886134147644043.\n"
     ]
    },
    {
     "name": "stdout",
     "output_type": "stream",
     "text": [
      "{'w1': 0.011280678719200243, 'w2': 0.45768129746002695, 'w3': 0.4887570652726202, 'w4': 0.04211468334038493, 'w5': 0.6930123514539774, 'w6': 0.49886992585905693, 'w7': 0.3851214290567942, 'w8': 0.8194512078373257, 'threshold': 0.27}\n"
     ]
    },
    {
     "name": "stderr",
     "output_type": "stream",
     "text": [
      "[I 2023-07-04 16:03:34,998] Trial 471 finished with value: 0.6880617737770081 and parameters: {'w1': 0.6614963341373086, 'w2': 0.42897348899439813, 'w3': 0.7326060623264435, 'w4': 0.28198113569848215, 'w5': 0.7293607081269479, 'w6': 0.4470144757909602, 'w7': 0.48126346180029583, 'w8': 0.6674231859622468}. Best is trial 349 with value: 0.6886134147644043.\n"
     ]
    },
    {
     "name": "stdout",
     "output_type": "stream",
     "text": [
      "{'w1': 0.6614963341373086, 'w2': 0.42897348899439813, 'w3': 0.7326060623264435, 'w4': 0.28198113569848215, 'w5': 0.7293607081269479, 'w6': 0.4470144757909602, 'w7': 0.48126346180029583, 'w8': 0.6674231859622468, 'threshold': 0.24}\n"
     ]
    },
    {
     "name": "stderr",
     "output_type": "stream",
     "text": [
      "[I 2023-07-04 16:03:35,426] Trial 472 finished with value: 0.6880579590797424 and parameters: {'w1': 0.5678022977476584, 'w2': 0.6209095539464334, 'w3': 0.6430416336736761, 'w4': 0.31818420024741667, 'w5': 0.7106682995674662, 'w6': 0.6844869268441423, 'w7': 0.4447819139284557, 'w8': 0.7737787126714744}. Best is trial 349 with value: 0.6886134147644043.\n"
     ]
    },
    {
     "name": "stdout",
     "output_type": "stream",
     "text": [
      "{'w1': 0.5678022977476584, 'w2': 0.6209095539464334, 'w3': 0.6430416336736761, 'w4': 0.31818420024741667, 'w5': 0.7106682995674662, 'w6': 0.6844869268441423, 'w7': 0.4447819139284557, 'w8': 0.7737787126714744, 'threshold': 0.24}\n"
     ]
    },
    {
     "name": "stderr",
     "output_type": "stream",
     "text": [
      "[I 2023-07-04 16:03:35,851] Trial 473 finished with value: 0.6877486109733582 and parameters: {'w1': 0.9126233876782851, 'w2': 0.545678498205639, 'w3': 0.6598160803399078, 'w4': 0.25697947704774715, 'w5': 0.2642168874900356, 'w6': 0.5618632406185144, 'w7': 0.39914000842411446, 'w8': 0.8431465568665727}. Best is trial 349 with value: 0.6886134147644043.\n"
     ]
    },
    {
     "name": "stdout",
     "output_type": "stream",
     "text": [
      "{'w1': 0.9126233876782851, 'w2': 0.545678498205639, 'w3': 0.6598160803399078, 'w4': 0.25697947704774715, 'w5': 0.2642168874900356, 'w6': 0.5618632406185144, 'w7': 0.39914000842411446, 'w8': 0.8431465568665727, 'threshold': 0.29}\n"
     ]
    },
    {
     "name": "stderr",
     "output_type": "stream",
     "text": [
      "[I 2023-07-04 16:03:36,278] Trial 474 finished with value: 0.6882637143135071 and parameters: {'w1': 0.7108964133193331, 'w2': 0.6840682882198846, 'w3': 0.6927028063060864, 'w4': 0.3009658763305978, 'w5': 0.7688144292169753, 'w6': 0.48094344768375324, 'w7': 0.32130061581802427, 'w8': 0.7874782338858424}. Best is trial 349 with value: 0.6886134147644043.\n"
     ]
    },
    {
     "name": "stdout",
     "output_type": "stream",
     "text": [
      "{'w1': 0.7108964133193331, 'w2': 0.6840682882198846, 'w3': 0.6927028063060864, 'w4': 0.3009658763305978, 'w5': 0.7688144292169753, 'w6': 0.48094344768375324, 'w7': 0.32130061581802427, 'w8': 0.7874782338858424, 'threshold': 0.27}\n"
     ]
    },
    {
     "name": "stderr",
     "output_type": "stream",
     "text": [
      "[I 2023-07-04 16:03:36,703] Trial 475 finished with value: 0.6881953477859497 and parameters: {'w1': 0.9678781251637548, 'w2': 0.9312536222408111, 'w3': 0.7510066669331974, 'w4': 0.4271590429945997, 'w5': 0.7408737069254624, 'w6': 0.5215490043998379, 'w7': 0.903707744407359, 'w8': 0.3251226720776916}. Best is trial 349 with value: 0.6886134147644043.\n"
     ]
    },
    {
     "name": "stdout",
     "output_type": "stream",
     "text": [
      "{'w1': 0.9678781251637548, 'w2': 0.9312536222408111, 'w3': 0.7510066669331974, 'w4': 0.4271590429945997, 'w5': 0.7408737069254624, 'w6': 0.5215490043998379, 'w7': 0.903707744407359, 'w8': 0.3251226720776916, 'threshold': 0.28}\n"
     ]
    },
    {
     "name": "stderr",
     "output_type": "stream",
     "text": [
      "[I 2023-07-04 16:03:37,131] Trial 476 finished with value: 0.6879642605781555 and parameters: {'w1': 0.9859580394252776, 'w2': 0.04074652352501029, 'w3': 0.7215951185028371, 'w4': 0.22998085342112745, 'w5': 0.875467070566302, 'w6': 0.5858456490847408, 'w7': 0.5795833817966348, 'w8': 0.7130987477703148}. Best is trial 349 with value: 0.6886134147644043.\n"
     ]
    },
    {
     "name": "stdout",
     "output_type": "stream",
     "text": [
      "{'w1': 0.9859580394252776, 'w2': 0.04074652352501029, 'w3': 0.7215951185028371, 'w4': 0.22998085342112745, 'w5': 0.875467070566302, 'w6': 0.5858456490847408, 'w7': 0.5795833817966348, 'w8': 0.7130987477703148, 'threshold': 0.3}\n"
     ]
    },
    {
     "name": "stderr",
     "output_type": "stream",
     "text": [
      "[I 2023-07-04 16:03:37,555] Trial 477 finished with value: 0.6875223517417908 and parameters: {'w1': 0.951763670170173, 'w2': 0.296240318008885, 'w3': 0.12341620152825905, 'w4': 0.0188394812886441, 'w5': 0.40768140152659593, 'w6': 0.5344234372085397, 'w7': 0.35812258084293463, 'w8': 0.8249186198736604}. Best is trial 349 with value: 0.6886134147644043.\n"
     ]
    },
    {
     "name": "stdout",
     "output_type": "stream",
     "text": [
      "{'w1': 0.951763670170173, 'w2': 0.296240318008885, 'w3': 0.12341620152825905, 'w4': 0.0188394812886441, 'w5': 0.40768140152659593, 'w6': 0.5344234372085397, 'w7': 0.35812258084293463, 'w8': 0.8249186198736604, 'threshold': 0.3}\n"
     ]
    },
    {
     "name": "stderr",
     "output_type": "stream",
     "text": [
      "[I 2023-07-04 16:03:37,978] Trial 478 finished with value: 0.6881917715072632 and parameters: {'w1': 0.8872390556091142, 'w2': 0.47439785322075545, 'w3': 0.9410491116712117, 'w4': 0.337425979131584, 'w5': 0.6778346439889106, 'w6': 0.47050608840445596, 'w7': 0.9468810647167051, 'w8': 0.7602808688579376}. Best is trial 349 with value: 0.6886134147644043.\n"
     ]
    },
    {
     "name": "stdout",
     "output_type": "stream",
     "text": [
      "{'w1': 0.8872390556091142, 'w2': 0.47439785322075545, 'w3': 0.9410491116712117, 'w4': 0.337425979131584, 'w5': 0.6778346439889106, 'w6': 0.47050608840445596, 'w7': 0.9468810647167051, 'w8': 0.7602808688579376, 'threshold': 0.23}\n"
     ]
    },
    {
     "name": "stderr",
     "output_type": "stream",
     "text": [
      "[I 2023-07-04 16:03:38,402] Trial 479 finished with value: 0.6873494386672974 and parameters: {'w1': 0.41888005022092345, 'w2': 0.9510007107788899, 'w3': 0.5615881558986653, 'w4': 0.5854998175752473, 'w5': 0.3672611395974785, 'w6': 0.49552134401791187, 'w7': 0.4213792519710814, 'w8': 0.9615696699085539}. Best is trial 349 with value: 0.6886134147644043.\n"
     ]
    },
    {
     "name": "stdout",
     "output_type": "stream",
     "text": [
      "{'w1': 0.41888005022092345, 'w2': 0.9510007107788899, 'w3': 0.5615881558986653, 'w4': 0.5854998175752473, 'w5': 0.3672611395974785, 'w6': 0.49552134401791187, 'w7': 0.4213792519710814, 'w8': 0.9615696699085539, 'threshold': 0.27}\n"
     ]
    },
    {
     "name": "stderr",
     "output_type": "stream",
     "text": [
      "[I 2023-07-04 16:03:38,825] Trial 480 finished with value: 0.6878244876861572 and parameters: {'w1': 0.9314560301835867, 'w2': 0.6887229196881467, 'w3': 0.025302714366459034, 'w4': 0.2750436013056133, 'w5': 0.724501551819807, 'w6': 0.5101913944301113, 'w7': 0.8456858145552126, 'w8': 0.8630241772713998}. Best is trial 349 with value: 0.6886134147644043.\n"
     ]
    },
    {
     "name": "stdout",
     "output_type": "stream",
     "text": [
      "{'w1': 0.9314560301835867, 'w2': 0.6887229196881467, 'w3': 0.025302714366459034, 'w4': 0.2750436013056133, 'w5': 0.724501551819807, 'w6': 0.5101913944301113, 'w7': 0.8456858145552126, 'w8': 0.8630241772713998, 'threshold': 0.26}\n"
     ]
    },
    {
     "name": "stderr",
     "output_type": "stream",
     "text": [
      "[I 2023-07-04 16:03:39,249] Trial 481 finished with value: 0.6877679824829102 and parameters: {'w1': 0.4730469412262368, 'w2': 0.2281612250050563, 'w3': 0.6751344960266814, 'w4': 0.2958582571573171, 'w5': 0.44304670316109984, 'w6': 0.3994100483395595, 'w7': 0.37749837424673505, 'w8': 0.7332985898259864}. Best is trial 349 with value: 0.6886134147644043.\n"
     ]
    },
    {
     "name": "stdout",
     "output_type": "stream",
     "text": [
      "{'w1': 0.4730469412262368, 'w2': 0.2281612250050563, 'w3': 0.6751344960266814, 'w4': 0.2958582571573171, 'w5': 0.44304670316109984, 'w6': 0.3994100483395595, 'w7': 0.37749837424673505, 'w8': 0.7332985898259864, 'threshold': 0.27}\n"
     ]
    },
    {
     "name": "stderr",
     "output_type": "stream",
     "text": [
      "[I 2023-07-04 16:03:39,674] Trial 482 finished with value: 0.6884173154830933 and parameters: {'w1': 0.9692032479986659, 'w2': 0.5150455486620062, 'w3': 0.6181619635083575, 'w4': 0.41210376116664754, 'w5': 0.6993716768190584, 'w6': 0.548560258245873, 'w7': 0.47073248254298244, 'w8': 0.536569445913688}. Best is trial 349 with value: 0.6886134147644043.\n"
     ]
    },
    {
     "name": "stdout",
     "output_type": "stream",
     "text": [
      "{'w1': 0.9692032479986659, 'w2': 0.5150455486620062, 'w3': 0.6181619635083575, 'w4': 0.41210376116664754, 'w5': 0.6993716768190584, 'w6': 0.548560258245873, 'w7': 0.47073248254298244, 'w8': 0.536569445913688, 'threshold': 0.28}\n"
     ]
    },
    {
     "name": "stderr",
     "output_type": "stream",
     "text": [
      "[I 2023-07-04 16:03:40,098] Trial 483 finished with value: 0.6883193850517273 and parameters: {'w1': 0.8326588767009622, 'w2': 0.4905313228191474, 'w3': 0.706791768434564, 'w4': 0.25488082077269103, 'w5': 0.7967614420598194, 'w6': 0.6223092587228546, 'w7': 0.502393852082397, 'w8': 0.5299604816607016}. Best is trial 349 with value: 0.6886134147644043.\n"
     ]
    },
    {
     "name": "stdout",
     "output_type": "stream",
     "text": [
      "{'w1': 0.8326588767009622, 'w2': 0.4905313228191474, 'w3': 0.706791768434564, 'w4': 0.25488082077269103, 'w5': 0.7967614420598194, 'w6': 0.6223092587228546, 'w7': 0.502393852082397, 'w8': 0.5299604816607016, 'threshold': 0.26}\n"
     ]
    },
    {
     "name": "stderr",
     "output_type": "stream",
     "text": [
      "[I 2023-07-04 16:03:40,521] Trial 484 finished with value: 0.6878443956375122 and parameters: {'w1': 0.5968434943641258, 'w2': 0.445444413276549, 'w3': 0.735857729048594, 'w4': 0.1986055113777998, 'w5': 0.5270825324896765, 'w6': 0.5671698364019282, 'w7': 0.7107250711648568, 'w8': 0.801916824683482}. Best is trial 349 with value: 0.6886134147644043.\n"
     ]
    },
    {
     "name": "stdout",
     "output_type": "stream",
     "text": [
      "{'w1': 0.5968434943641258, 'w2': 0.445444413276549, 'w3': 0.735857729048594, 'w4': 0.1986055113777998, 'w5': 0.5270825324896765, 'w6': 0.5671698364019282, 'w7': 0.7107250711648568, 'w8': 0.801916824683482, 'threshold': 0.24}\n"
     ]
    },
    {
     "name": "stderr",
     "output_type": "stream",
     "text": [
      "[I 2023-07-04 16:03:40,943] Trial 485 finished with value: 0.6877760291099548 and parameters: {'w1': 0.9519198987294363, 'w2': 0.3548412031403163, 'w3': 0.6866102138003262, 'w4': 0.14510788241735206, 'w5': 0.7514472833075345, 'w6': 0.43475216802982963, 'w7': 0.45080912725609656, 'w8': 0.1602882393728461}. Best is trial 349 with value: 0.6886134147644043.\n"
     ]
    },
    {
     "name": "stdout",
     "output_type": "stream",
     "text": [
      "{'w1': 0.9519198987294363, 'w2': 0.3548412031403163, 'w3': 0.6866102138003262, 'w4': 0.14510788241735206, 'w5': 0.7514472833075345, 'w6': 0.43475216802982963, 'w7': 0.45080912725609656, 'w8': 0.1602882393728461, 'threshold': 0.26}\n"
     ]
    },
    {
     "name": "stderr",
     "output_type": "stream",
     "text": [
      "[I 2023-07-04 16:03:41,367] Trial 486 finished with value: 0.6882167458534241 and parameters: {'w1': 0.9015334228873045, 'w2': 0.4677312258689133, 'w3': 0.912729034296912, 'w4': 0.5500314718770366, 'w5': 0.6568371199559783, 'w6': 0.7215260978055446, 'w7': 0.5229558681716564, 'w8': 0.8360113860768059}. Best is trial 349 with value: 0.6886134147644043.\n"
     ]
    },
    {
     "name": "stdout",
     "output_type": "stream",
     "text": [
      "{'w1': 0.9015334228873045, 'w2': 0.4677312258689133, 'w3': 0.912729034296912, 'w4': 0.5500314718770366, 'w5': 0.6568371199559783, 'w6': 0.7215260978055446, 'w7': 0.5229558681716564, 'w8': 0.8360113860768059, 'threshold': 0.25}\n"
     ]
    },
    {
     "name": "stderr",
     "output_type": "stream",
     "text": [
      "[I 2023-07-04 16:03:41,804] Trial 487 finished with value: 0.6883230805397034 and parameters: {'w1': 0.9836789585196876, 'w2': 0.40791094321605836, 'w3': 0.7619661399128648, 'w4': 0.6139113292601899, 'w5': 0.7278655342397322, 'w6': 0.5291461902639725, 'w7': 0.2910223507993093, 'w8': 0.7835530435171145}. Best is trial 349 with value: 0.6886134147644043.\n"
     ]
    },
    {
     "name": "stdout",
     "output_type": "stream",
     "text": [
      "{'w1': 0.9836789585196876, 'w2': 0.40791094321605836, 'w3': 0.7619661399128648, 'w4': 0.6139113292601899, 'w5': 0.7278655342397322, 'w6': 0.5291461902639725, 'w7': 0.2910223507993093, 'w8': 0.7835530435171145, 'threshold': 0.27}\n"
     ]
    },
    {
     "name": "stderr",
     "output_type": "stream",
     "text": [
      "[I 2023-07-04 16:03:42,229] Trial 488 finished with value: 0.6883414387702942 and parameters: {'w1': 0.9310627385996477, 'w2': 0.4341521353717356, 'w3': 0.4688908556051646, 'w4': 0.3272792119025704, 'w5': 0.6233287338228333, 'w6': 0.6776682749324178, 'w7': 0.4107734566437453, 'w8': 0.7581918889264648}. Best is trial 349 with value: 0.6886134147644043.\n"
     ]
    },
    {
     "name": "stdout",
     "output_type": "stream",
     "text": [
      "{'w1': 0.9310627385996477, 'w2': 0.4341521353717356, 'w3': 0.4688908556051646, 'w4': 0.3272792119025704, 'w5': 0.6233287338228333, 'w6': 0.6776682749324178, 'w7': 0.4107734566437453, 'w8': 0.7581918889264648, 'threshold': 0.27}\n"
     ]
    },
    {
     "name": "stderr",
     "output_type": "stream",
     "text": [
      "[I 2023-07-04 16:03:42,653] Trial 489 finished with value: 0.6882790923118591 and parameters: {'w1': 0.8705676226307164, 'w2': 0.5056078113447953, 'w3': 0.8051863204962981, 'w4': 0.22421931450957094, 'w5': 0.6933754609144215, 'w6': 0.8855005903254215, 'w7': 0.4336586318538803, 'w8': 0.48064397067838105}. Best is trial 349 with value: 0.6886134147644043.\n"
     ]
    },
    {
     "name": "stdout",
     "output_type": "stream",
     "text": [
      "{'w1': 0.8705676226307164, 'w2': 0.5056078113447953, 'w3': 0.8051863204962981, 'w4': 0.22421931450957094, 'w5': 0.6933754609144215, 'w6': 0.8855005903254215, 'w7': 0.4336586318538803, 'w8': 0.48064397067838105, 'threshold': 0.25}\n"
     ]
    },
    {
     "name": "stderr",
     "output_type": "stream",
     "text": [
      "[I 2023-07-04 16:03:43,077] Trial 490 finished with value: 0.6882797479629517 and parameters: {'w1': 0.959240873371435, 'w2': 0.46512032302603656, 'w3': 0.6440874598944015, 'w4': 0.07429373096712322, 'w5': 0.7793152749951311, 'w6': 0.2036285316771017, 'w7': 0.39625586335211754, 'w8': 0.6887384415216979}. Best is trial 349 with value: 0.6886134147644043.\n"
     ]
    },
    {
     "name": "stdout",
     "output_type": "stream",
     "text": [
      "{'w1': 0.959240873371435, 'w2': 0.46512032302603656, 'w3': 0.6440874598944015, 'w4': 0.07429373096712322, 'w5': 0.7793152749951311, 'w6': 0.2036285316771017, 'w7': 0.39625586335211754, 'w8': 0.6887384415216979, 'threshold': 0.27}\n"
     ]
    },
    {
     "name": "stderr",
     "output_type": "stream",
     "text": [
      "[I 2023-07-04 16:03:43,504] Trial 491 finished with value: 0.6881933808326721 and parameters: {'w1': 0.9114760452453907, 'w2': 0.4853342717474799, 'w3': 0.7090591702872736, 'w4': 0.2831492660461993, 'w5': 0.7437724148375233, 'w6': 0.974644835313951, 'w7': 0.4852332761992522, 'w8': 0.8791087889090234}. Best is trial 349 with value: 0.6886134147644043.\n"
     ]
    },
    {
     "name": "stdout",
     "output_type": "stream",
     "text": [
      "{'w1': 0.9114760452453907, 'w2': 0.4853342717474799, 'w3': 0.7090591702872736, 'w4': 0.2831492660461993, 'w5': 0.7437724148375233, 'w6': 0.974644835313951, 'w7': 0.4852332761992522, 'w8': 0.8791087889090234, 'threshold': 0.24}\n"
     ]
    },
    {
     "name": "stderr",
     "output_type": "stream",
     "text": [
      "[I 2023-07-04 16:03:43,930] Trial 492 finished with value: 0.6879443526268005 and parameters: {'w1': 0.9807683436025764, 'w2': 0.8174421941991351, 'w3': 0.6735042941841811, 'w4': 0.373946226552641, 'w5': 0.46407028472939815, 'w6': 0.38318496625565657, 'w7': 0.7637063473151331, 'w8': 0.8051696492315409}. Best is trial 349 with value: 0.6886134147644043.\n"
     ]
    },
    {
     "name": "stdout",
     "output_type": "stream",
     "text": [
      "{'w1': 0.9807683436025764, 'w2': 0.8174421941991351, 'w3': 0.6735042941841811, 'w4': 0.373946226552641, 'w5': 0.46407028472939815, 'w6': 0.38318496625565657, 'w7': 0.7637063473151331, 'w8': 0.8051696492315409, 'threshold': 0.26}\n"
     ]
    },
    {
     "name": "stderr",
     "output_type": "stream",
     "text": [
      "[I 2023-07-04 16:03:44,355] Trial 493 finished with value: 0.6882809400558472 and parameters: {'w1': 0.9352554525384562, 'w2': 0.5274133394502252, 'w3': 0.7734546139708783, 'w4': 0.31262565776802376, 'w5': 0.7116159990767186, 'w6': 0.4988077105859667, 'w7': 0.341908164866894, 'w8': 0.6273873410982249}. Best is trial 349 with value: 0.6886134147644043.\n"
     ]
    },
    {
     "name": "stdout",
     "output_type": "stream",
     "text": [
      "{'w1': 0.9352554525384562, 'w2': 0.5274133394502252, 'w3': 0.7734546139708783, 'w4': 0.31262565776802376, 'w5': 0.7116159990767186, 'w6': 0.4988077105859667, 'w7': 0.341908164866894, 'w8': 0.6273873410982249, 'threshold': 0.25}\n"
     ]
    },
    {
     "name": "stderr",
     "output_type": "stream",
     "text": [
      "[I 2023-07-04 16:03:44,781] Trial 494 finished with value: 0.6875595450401306 and parameters: {'w1': 0.41127088395469436, 'w2': 0.45147658880757924, 'w3': 0.7217994652867956, 'w4': 0.26011850483454335, 'w5': 0.7622788066683872, 'w6': 0.4564004364319584, 'w7': 0.45797523828177356, 'w8': 0.822394668213692}. Best is trial 349 with value: 0.6886134147644043.\n"
     ]
    },
    {
     "name": "stdout",
     "output_type": "stream",
     "text": [
      "{'w1': 0.41127088395469436, 'w2': 0.45147658880757924, 'w3': 0.7217994652867956, 'w4': 0.26011850483454335, 'w5': 0.7622788066683872, 'w6': 0.4564004364319584, 'w7': 0.45797523828177356, 'w8': 0.822394668213692, 'threshold': 0.26}\n"
     ]
    },
    {
     "name": "stderr",
     "output_type": "stream",
     "text": [
      "[I 2023-07-04 16:03:45,206] Trial 495 finished with value: 0.6882961392402649 and parameters: {'w1': 0.753881605674088, 'w2': 0.5716462660957572, 'w3': 0.6581256997113356, 'w4': 0.13258961363686445, 'w5': 0.8331143137123673, 'w6': 0.4821546465789546, 'w7': 0.36736459449092795, 'w8': 0.7417858740732931}. Best is trial 349 with value: 0.6886134147644043.\n"
     ]
    },
    {
     "name": "stdout",
     "output_type": "stream",
     "text": [
      "{'w1': 0.753881605674088, 'w2': 0.5716462660957572, 'w3': 0.6581256997113356, 'w4': 0.13258961363686445, 'w5': 0.8331143137123673, 'w6': 0.4821546465789546, 'w7': 0.36736459449092795, 'w8': 0.7417858740732931, 'threshold': 0.25}\n"
     ]
    },
    {
     "name": "stderr",
     "output_type": "stream",
     "text": [
      "[I 2023-07-04 16:03:45,631] Trial 496 finished with value: 0.6875072717666626 and parameters: {'w1': 0.3914061140547403, 'w2': 0.4886852972299037, 'w3': 0.700513151927967, 'w4': 0.18176699751029413, 'w5': 0.6786890670446069, 'w6': 0.606177903770265, 'w7': 0.5910544325276403, 'w8': 0.9105840845702617}. Best is trial 349 with value: 0.6886134147644043.\n"
     ]
    },
    {
     "name": "stdout",
     "output_type": "stream",
     "text": [
      "{'w1': 0.3914061140547403, 'w2': 0.4886852972299037, 'w3': 0.700513151927967, 'w4': 0.18176699751029413, 'w5': 0.6786890670446069, 'w6': 0.606177903770265, 'w7': 0.5910544325276403, 'w8': 0.9105840845702617, 'threshold': 0.29}\n"
     ]
    },
    {
     "name": "stderr",
     "output_type": "stream",
     "text": [
      "[I 2023-07-04 16:03:46,057] Trial 497 finished with value: 0.6883587837219238 and parameters: {'w1': 0.9547265240881357, 'w2': 0.42814804792058037, 'w3': 0.8381238596895281, 'w4': 0.24115471367741786, 'w5': 0.909717422818807, 'w6': 0.5432272007894254, 'w7': 0.4237938434948376, 'w8': 0.8530819744571818}. Best is trial 349 with value: 0.6886134147644043.\n"
     ]
    },
    {
     "name": "stdout",
     "output_type": "stream",
     "text": [
      "{'w1': 0.9547265240881357, 'w2': 0.42814804792058037, 'w3': 0.8381238596895281, 'w4': 0.24115471367741786, 'w5': 0.909717422818807, 'w6': 0.5432272007894254, 'w7': 0.4237938434948376, 'w8': 0.8530819744571818, 'threshold': 0.26}\n"
     ]
    },
    {
     "name": "stderr",
     "output_type": "stream",
     "text": [
      "[I 2023-07-04 16:03:46,487] Trial 498 finished with value: 0.6884170174598694 and parameters: {'w1': 0.984702572392874, 'w2': 0.46715256767901736, 'w3': 0.44427272277460184, 'w4': 0.48539904982964427, 'w5': 0.7195654847376265, 'w6': 0.5171094853183417, 'w7': 0.39019661974853925, 'w8': 0.7726177351993009}. Best is trial 349 with value: 0.6886134147644043.\n"
     ]
    },
    {
     "name": "stdout",
     "output_type": "stream",
     "text": [
      "{'w1': 0.984702572392874, 'w2': 0.46715256767901736, 'w3': 0.44427272277460184, 'w4': 0.48539904982964427, 'w5': 0.7195654847376265, 'w6': 0.5171094853183417, 'w7': 0.39019661974853925, 'w8': 0.7726177351993009, 'threshold': 0.27}\n"
     ]
    },
    {
     "name": "stderr",
     "output_type": "stream",
     "text": [
      "[I 2023-07-04 16:03:46,913] Trial 499 finished with value: 0.6869679093360901 and parameters: {'w1': 0.26296167457975295, 'w2': 0.2009681902513094, 'w3': 0.748563569603624, 'w4': 0.29478416546903174, 'w5': 0.16108071893064224, 'w6': 0.32939220721319284, 'w7': 0.43948860206124685, 'w8': 0.7878652296578136}. Best is trial 349 with value: 0.6886134147644043.\n"
     ]
    },
    {
     "name": "stdout",
     "output_type": "stream",
     "text": [
      "{'w1': 0.26296167457975295, 'w2': 0.2009681902513094, 'w3': 0.748563569603624, 'w4': 0.29478416546903174, 'w5': 0.16108071893064224, 'w6': 0.32939220721319284, 'w7': 0.43948860206124685, 'w8': 0.7878652296578136, 'threshold': 0.31}\n"
     ]
    },
    {
     "name": "stderr",
     "output_type": "stream",
     "text": [
      "[I 2023-07-04 16:03:47,352] Trial 500 finished with value: 0.6883333325386047 and parameters: {'w1': 0.944062696080666, 'w2': 0.5086436051906255, 'w3': 0.6322525493232756, 'w4': 0.34927991380930257, 'w5': 0.7451492975535711, 'w6': 0.5716979037933454, 'w7': 0.46938248933549703, 'w8': 0.9408045877152297}. Best is trial 349 with value: 0.6886134147644043.\n"
     ]
    },
    {
     "name": "stdout",
     "output_type": "stream",
     "text": [
      "{'w1': 0.944062696080666, 'w2': 0.5086436051906255, 'w3': 0.6322525493232756, 'w4': 0.34927991380930257, 'w5': 0.7451492975535711, 'w6': 0.5716979037933454, 'w7': 0.46938248933549703, 'w8': 0.9408045877152297, 'threshold': 0.26}\n"
     ]
    },
    {
     "name": "stderr",
     "output_type": "stream",
     "text": [
      "[I 2023-07-04 16:03:47,781] Trial 501 finished with value: 0.6880767345428467 and parameters: {'w1': 0.7337197709016503, 'w2': 0.7267634355057053, 'w3': 0.6884560104149938, 'w4': 0.6022990072704975, 'w5': 0.6981525874632709, 'w6': 0.47592796484493616, 'w7': 0.41463520009816796, 'w8': 0.7094365903231467}. Best is trial 349 with value: 0.6886134147644043.\n"
     ]
    },
    {
     "name": "stdout",
     "output_type": "stream",
     "text": [
      "{'w1': 0.7337197709016503, 'w2': 0.7267634355057053, 'w3': 0.6884560104149938, 'w4': 0.6022990072704975, 'w5': 0.6981525874632709, 'w6': 0.47592796484493616, 'w7': 0.41463520009816796, 'w8': 0.7094365903231467, 'threshold': 0.27}\n"
     ]
    },
    {
     "name": "stderr",
     "output_type": "stream",
     "text": [
      "[I 2023-07-04 16:03:48,209] Trial 502 finished with value: 0.68780916929245 and parameters: {'w1': 0.9682571552087826, 'w2': 0.4495126438315074, 'w3': 0.6067085104145005, 'w4': 0.27146898905845684, 'w5': 0.7816099257114058, 'w6': 0.5055838986222163, 'w7': 0.06966402344939682, 'w8': 0.4897596892632926}. Best is trial 349 with value: 0.6886134147644043.\n"
     ]
    },
    {
     "name": "stdout",
     "output_type": "stream",
     "text": [
      "{'w1': 0.9682571552087826, 'w2': 0.4495126438315074, 'w3': 0.6067085104145005, 'w4': 0.27146898905845684, 'w5': 0.7816099257114058, 'w6': 0.5055838986222163, 'w7': 0.06966402344939682, 'w8': 0.4897596892632926, 'threshold': 0.26}\n"
     ]
    },
    {
     "name": "stderr",
     "output_type": "stream",
     "text": [
      "[I 2023-07-04 16:03:48,653] Trial 503 finished with value: 0.6883410215377808 and parameters: {'w1': 0.9991546668174841, 'w2': 0.48444877266477865, 'w3': 0.509658587929833, 'w4': 0.31691767184861125, 'w5': 0.8050696625782698, 'w6': 0.5319987259743454, 'w7': 0.5368392510366036, 'w8': 0.37593496555638195}. Best is trial 349 with value: 0.6886134147644043.\n"
     ]
    },
    {
     "name": "stdout",
     "output_type": "stream",
     "text": [
      "{'w1': 0.9991546668174841, 'w2': 0.48444877266477865, 'w3': 0.509658587929833, 'w4': 0.31691767184861125, 'w5': 0.8050696625782698, 'w6': 0.5319987259743454, 'w7': 0.5368392510366036, 'w8': 0.37593496555638195, 'threshold': 0.29}\n"
     ]
    },
    {
     "name": "stderr",
     "output_type": "stream",
     "text": [
      "[I 2023-07-04 16:03:49,093] Trial 504 finished with value: 0.6882284283638 and parameters: {'w1': 0.7963362056435056, 'w2': 0.41727381882415293, 'w3': 0.7296131443265778, 'w4': 0.20855281823208985, 'w5': 0.845671001906974, 'w6': 0.5558180270970344, 'w7': 0.4905106882813716, 'w8': 0.6535973968033234}. Best is trial 349 with value: 0.6886134147644043.\n"
     ]
    },
    {
     "name": "stdout",
     "output_type": "stream",
     "text": [
      "{'w1': 0.7963362056435056, 'w2': 0.41727381882415293, 'w3': 0.7296131443265778, 'w4': 0.20855281823208985, 'w5': 0.845671001906974, 'w6': 0.5558180270970344, 'w7': 0.4905106882813716, 'w8': 0.6535973968033234, 'threshold': 0.25}\n"
     ]
    },
    {
     "name": "stderr",
     "output_type": "stream",
     "text": [
      "[I 2023-07-04 16:03:49,521] Trial 505 finished with value: 0.6884580254554749 and parameters: {'w1': 0.9136392404410456, 'w2': 0.4680610571851185, 'w3': 0.8737000797871906, 'w4': 0.3992708556753503, 'w5': 0.5811401061740826, 'w6': 0.5933501277556419, 'w7': 0.2586850284311096, 'w8': 0.819173522306219}. Best is trial 349 with value: 0.6886134147644043.\n"
     ]
    },
    {
     "name": "stdout",
     "output_type": "stream",
     "text": [
      "{'w1': 0.9136392404410456, 'w2': 0.4680610571851185, 'w3': 0.8737000797871906, 'w4': 0.3992708556753503, 'w5': 0.5811401061740826, 'w6': 0.5933501277556419, 'w7': 0.2586850284311096, 'w8': 0.819173522306219, 'threshold': 0.27}\n"
     ]
    },
    {
     "name": "stderr",
     "output_type": "stream",
     "text": [
      "[I 2023-07-04 16:03:49,950] Trial 506 finished with value: 0.6873523592948914 and parameters: {'w1': 0.9316191608291493, 'w2': 0.5424276286716045, 'w3': 0.057756692406674026, 'w4': 0.744141312502032, 'w5': 0.7338445770448558, 'w6': 0.25598967214309726, 'w7': 0.9356319096497829, 'w8': 0.7673892028010311}. Best is trial 349 with value: 0.6886134147644043.\n"
     ]
    },
    {
     "name": "stdout",
     "output_type": "stream",
     "text": [
      "{'w1': 0.9316191608291493, 'w2': 0.5424276286716045, 'w3': 0.057756692406674026, 'w4': 0.744141312502032, 'w5': 0.7338445770448558, 'w6': 0.25598967214309726, 'w7': 0.9356319096497829, 'w8': 0.7673892028010311, 'threshold': 0.3}\n"
     ]
    },
    {
     "name": "stderr",
     "output_type": "stream",
     "text": [
      "[I 2023-07-04 16:03:50,378] Trial 507 finished with value: 0.6881504654884338 and parameters: {'w1': 0.8186295600933653, 'w2': 0.5016748847147368, 'w3': 0.662170319204474, 'w4': 0.5661964538260356, 'w5': 0.7075394184770668, 'w6': 0.42319317477163554, 'w7': 0.3754644227805316, 'w8': 0.8410797034533893}. Best is trial 349 with value: 0.6886134147644043.\n"
     ]
    },
    {
     "name": "stdout",
     "output_type": "stream",
     "text": [
      "{'w1': 0.8186295600933653, 'w2': 0.5016748847147368, 'w3': 0.662170319204474, 'w4': 0.5661964538260356, 'w5': 0.7075394184770668, 'w6': 0.42319317477163554, 'w7': 0.3754644227805316, 'w8': 0.8410797034533893, 'threshold': 0.27}\n"
     ]
    },
    {
     "name": "stderr",
     "output_type": "stream",
     "text": [
      "[I 2023-07-04 16:03:50,807] Trial 508 finished with value: 0.6885162591934204 and parameters: {'w1': 0.9641532509017502, 'w2': 0.34196779765863483, 'w3': 0.7089020810725462, 'w4': 0.2869080849073963, 'w5': 0.7602432963757213, 'w6': 0.45379423567565047, 'w7': 0.4442262142517537, 'w8': 0.7404852295245784}. Best is trial 349 with value: 0.6886134147644043.\n"
     ]
    },
    {
     "name": "stdout",
     "output_type": "stream",
     "text": [
      "{'w1': 0.9641532509017502, 'w2': 0.34196779765863483, 'w3': 0.7089020810725462, 'w4': 0.2869080849073963, 'w5': 0.7602432963757213, 'w6': 0.45379423567565047, 'w7': 0.4442262142517537, 'w8': 0.7404852295245784, 'threshold': 0.27}\n"
     ]
    },
    {
     "name": "stderr",
     "output_type": "stream",
     "text": [
      "[I 2023-07-04 16:03:51,237] Trial 509 finished with value: 0.6869045495986938 and parameters: {'w1': 0.6030482449919712, 'w2': 0.8753283008289456, 'w3': 0.3614760530249985, 'w4': 0.24487406002008347, 'w5': 0.043590019413281667, 'w6': 0.49317187384570027, 'w7': 0.3482298536628037, 'w8': 0.7954197500928419}. Best is trial 349 with value: 0.6886134147644043.\n"
     ]
    },
    {
     "name": "stdout",
     "output_type": "stream",
     "text": [
      "{'w1': 0.6030482449919712, 'w2': 0.8753283008289456, 'w3': 0.3614760530249985, 'w4': 0.24487406002008347, 'w5': 0.043590019413281667, 'w6': 0.49317187384570027, 'w7': 0.3482298536628037, 'w8': 0.7954197500928419, 'threshold': 0.33}\n"
     ]
    },
    {
     "name": "stderr",
     "output_type": "stream",
     "text": [
      "[I 2023-07-04 16:03:51,665] Trial 510 finished with value: 0.6883292198181152 and parameters: {'w1': 0.8520943055190396, 'w2': 0.43417203649055053, 'w3': 0.6837800292222799, 'w4': 0.3331150484996166, 'w5': 0.5140323391445862, 'w6': 0.5157799728472062, 'w7': 0.40228454846403455, 'w8': 0.8127557699078918}. Best is trial 349 with value: 0.6886134147644043.\n"
     ]
    },
    {
     "name": "stdout",
     "output_type": "stream",
     "text": [
      "{'w1': 0.8520943055190396, 'w2': 0.43417203649055053, 'w3': 0.6837800292222799, 'w4': 0.3331150484996166, 'w5': 0.5140323391445862, 'w6': 0.5157799728472062, 'w7': 0.40228454846403455, 'w8': 0.8127557699078918, 'threshold': 0.27}\n"
     ]
    },
    {
     "name": "stderr",
     "output_type": "stream",
     "text": [
      "[I 2023-07-04 16:03:52,093] Trial 511 finished with value: 0.6877577304840088 and parameters: {'w1': 0.555519033167497, 'w2': 0.38938831853529277, 'w3': 0.7393523567577406, 'w4': 0.30715960154094757, 'w5': 0.6536800561219126, 'w6': 0.4684432823682719, 'w7': 0.600685268758506, 'w8': 0.870619484584657}. Best is trial 349 with value: 0.6886134147644043.\n"
     ]
    },
    {
     "name": "stdout",
     "output_type": "stream",
     "text": [
      "{'w1': 0.555519033167497, 'w2': 0.38938831853529277, 'w3': 0.7393523567577406, 'w4': 0.30715960154094757, 'w5': 0.6536800561219126, 'w6': 0.4684432823682719, 'w7': 0.600685268758506, 'w8': 0.870619484584657, 'threshold': 0.28}\n"
     ]
    },
    {
     "name": "stderr",
     "output_type": "stream",
     "text": [
      "[I 2023-07-04 16:03:52,521] Trial 512 finished with value: 0.68728107213974 and parameters: {'w1': 0.07943848503090534, 'w2': 0.4522838422675627, 'w3': 0.7815877731721185, 'w4': 0.26397842485243184, 'w5': 0.6853806531845974, 'w6': 0.7364567231629244, 'w7': 0.15347088637133022, 'w8': 0.7569595150177127}. Best is trial 349 with value: 0.6886134147644043.\n"
     ]
    },
    {
     "name": "stdout",
     "output_type": "stream",
     "text": [
      "{'w1': 0.07943848503090534, 'w2': 0.4522838422675627, 'w3': 0.7815877731721185, 'w4': 0.26397842485243184, 'w5': 0.6853806531845974, 'w6': 0.7364567231629244, 'w7': 0.15347088637133022, 'w8': 0.7569595150177127, 'threshold': 0.31}\n"
     ]
    },
    {
     "name": "stderr",
     "output_type": "stream",
     "text": [
      "[I 2023-07-04 16:03:52,956] Trial 513 finished with value: 0.6877528429031372 and parameters: {'w1': 0.8932934301700749, 'w2': 0.5269202541608472, 'w3': 0.47400480721376015, 'w4': 0.7070117626383938, 'w5': 0.7378637843823587, 'w6': 0.5421967761061094, 'w7': 0.3276627143887512, 'w8': 0.7276438680287506}. Best is trial 349 with value: 0.6886134147644043.\n"
     ]
    },
    {
     "name": "stdout",
     "output_type": "stream",
     "text": [
      "{'w1': 0.8932934301700749, 'w2': 0.5269202541608472, 'w3': 0.47400480721376015, 'w4': 0.7070117626383938, 'w5': 0.7378637843823587, 'w6': 0.5421967761061094, 'w7': 0.3276627143887512, 'w8': 0.7276438680287506, 'threshold': 0.27}\n"
     ]
    },
    {
     "name": "stderr",
     "output_type": "stream",
     "text": [
      "[I 2023-07-04 16:03:53,384] Trial 514 finished with value: 0.6878962516784668 and parameters: {'w1': 0.9475240581568682, 'w2': 0.4866733314817665, 'w3': 0.9155396437108535, 'w4': 0.9538629259108212, 'w5': 0.7208443322501867, 'w6': 0.5771653855441232, 'w7': 0.8613312053583603, 'w8': 0.7760316682367143}. Best is trial 349 with value: 0.6886134147644043.\n"
     ]
    },
    {
     "name": "stdout",
     "output_type": "stream",
     "text": [
      "{'w1': 0.9475240581568682, 'w2': 0.4866733314817665, 'w3': 0.9155396437108535, 'w4': 0.9538629259108212, 'w5': 0.7208443322501867, 'w6': 0.5771653855441232, 'w7': 0.8613312053583603, 'w8': 0.7760316682367143, 'threshold': 0.27}\n"
     ]
    },
    {
     "name": "stderr",
     "output_type": "stream",
     "text": [
      "[I 2023-07-04 16:03:53,813] Trial 515 finished with value: 0.6873685121536255 and parameters: {'w1': 0.37144463697570174, 'w2': 0.10801778144647156, 'w3': 0.6699695724517407, 'w4': 0.1640649930497754, 'w5': 0.8663271084005402, 'w6': 0.40919229646844313, 'w7': 0.9982483044085926, 'w8': 0.8018833004594627}. Best is trial 349 with value: 0.6886134147644043.\n"
     ]
    },
    {
     "name": "stdout",
     "output_type": "stream",
     "text": [
      "{'w1': 0.37144463697570174, 'w2': 0.10801778144647156, 'w3': 0.6699695724517407, 'w4': 0.1640649930497754, 'w5': 0.8663271084005402, 'w6': 0.40919229646844313, 'w7': 0.9982483044085926, 'w8': 0.8018833004594627, 'threshold': 0.25}\n"
     ]
    },
    {
     "name": "stderr",
     "output_type": "stream",
     "text": [
      "[I 2023-07-04 16:03:54,240] Trial 516 finished with value: 0.6881690621376038 and parameters: {'w1': 0.7084493136905488, 'w2': 0.4688039756761777, 'w3': 0.7132741714991429, 'w4': 0.22438364329171478, 'w5': 0.6395352459638002, 'w6': 0.43734512784117047, 'w7': 0.4665399521242437, 'w8': 0.83561949590755}. Best is trial 349 with value: 0.6886134147644043.\n"
     ]
    },
    {
     "name": "stdout",
     "output_type": "stream",
     "text": [
      "{'w1': 0.7084493136905488, 'w2': 0.4688039756761777, 'w3': 0.7132741714991429, 'w4': 0.22438364329171478, 'w5': 0.6395352459638002, 'w6': 0.43734512784117047, 'w7': 0.4665399521242437, 'w8': 0.83561949590755, 'threshold': 0.25}\n"
     ]
    },
    {
     "name": "stderr",
     "output_type": "stream",
     "text": [
      "[I 2023-07-04 16:03:54,679] Trial 517 finished with value: 0.6876850128173828 and parameters: {'w1': 0.43364939404010905, 'w2': 0.5094227124056133, 'w3': 0.6967317564655139, 'w4': 0.3555286973533044, 'w5': 0.6689383135630271, 'w6': 0.5015594143689377, 'w7': 0.29838969113447095, 'w8': 0.4821894251999601}. Best is trial 349 with value: 0.6886134147644043.\n"
     ]
    },
    {
     "name": "stdout",
     "output_type": "stream",
     "text": [
      "{'w1': 0.43364939404010905, 'w2': 0.5094227124056133, 'w3': 0.6967317564655139, 'w4': 0.3555286973533044, 'w5': 0.6689383135630271, 'w6': 0.5015594143689377, 'w7': 0.29838969113447095, 'w8': 0.4821894251999601, 'threshold': 0.27}\n"
     ]
    },
    {
     "name": "stderr",
     "output_type": "stream",
     "text": [
      "[I 2023-07-04 16:03:55,107] Trial 518 finished with value: 0.6882641315460205 and parameters: {'w1': 0.9754006392660278, 'w2': 0.44504964965330074, 'w3': 0.8188529386766448, 'w4': 0.2942217454126429, 'w5': 0.47542440954816156, 'w6': 0.5248224672227986, 'w7': 0.42287731617440755, 'w8': 0.7859214348645543}. Best is trial 349 with value: 0.6886134147644043.\n"
     ]
    },
    {
     "name": "stdout",
     "output_type": "stream",
     "text": [
      "{'w1': 0.9754006392660278, 'w2': 0.44504964965330074, 'w3': 0.8188529386766448, 'w4': 0.2942217454126429, 'w5': 0.47542440954816156, 'w6': 0.5248224672227986, 'w7': 0.42287731617440755, 'w8': 0.7859214348645543, 'threshold': 0.27}\n"
     ]
    },
    {
     "name": "stderr",
     "output_type": "stream",
     "text": [
      "[I 2023-07-04 16:03:55,537] Trial 519 finished with value: 0.6867234110832214 and parameters: {'w1': 0.1723206463660032, 'w2': 0.333352149183443, 'w3': 0.240980434217263, 'w4': 0.2714617277285721, 'w5': 0.7619460831532796, 'w6': 0.5612926412625313, 'w7': 0.819790639250336, 'w8': 0.7507307659237463}. Best is trial 349 with value: 0.6886134147644043.\n"
     ]
    },
    {
     "name": "stdout",
     "output_type": "stream",
     "text": [
      "{'w1': 0.1723206463660032, 'w2': 0.333352149183443, 'w3': 0.240980434217263, 'w4': 0.2714617277285721, 'w5': 0.7619460831532796, 'w6': 0.5612926412625313, 'w7': 0.819790639250336, 'w8': 0.7507307659237463, 'threshold': 0.27}\n"
     ]
    },
    {
     "name": "stderr",
     "output_type": "stream",
     "text": [
      "[I 2023-07-04 16:03:55,969] Trial 520 finished with value: 0.6882064938545227 and parameters: {'w1': 0.6501495310750878, 'w2': 0.4835370640771992, 'w3': 0.6278461746881009, 'w4': 0.3276854817282891, 'w5': 0.7081844901773235, 'w6': 0.6677198841892588, 'w7': 0.383118676957588, 'w8': 0.5628817325017391}. Best is trial 349 with value: 0.6886134147644043.\n"
     ]
    },
    {
     "name": "stdout",
     "output_type": "stream",
     "text": [
      "{'w1': 0.6501495310750878, 'w2': 0.4835370640771992, 'w3': 0.6278461746881009, 'w4': 0.3276854817282891, 'w5': 0.7081844901773235, 'w6': 0.6677198841892588, 'w7': 0.383118676957588, 'w8': 0.5628817325017391, 'threshold': 0.25}\n"
     ]
    },
    {
     "name": "stderr",
     "output_type": "stream",
     "text": [
      "[I 2023-07-04 16:03:56,400] Trial 521 finished with value: 0.688266932964325 and parameters: {'w1': 0.9177614332942974, 'w2': 0.41847470942993414, 'w3': 0.7602514206536543, 'w4': 0.2401249961770437, 'w5': 0.9934941915667098, 'w6': 0.4860223947782288, 'w7': 0.45531124375836307, 'w8': 0.8950792536849131}. Best is trial 349 with value: 0.6886134147644043.\n"
     ]
    },
    {
     "name": "stdout",
     "output_type": "stream",
     "text": [
      "{'w1': 0.9177614332942974, 'w2': 0.41847470942993414, 'w3': 0.7602514206536543, 'w4': 0.2401249961770437, 'w5': 0.9934941915667098, 'w6': 0.4860223947782288, 'w7': 0.45531124375836307, 'w8': 0.8950792536849131, 'threshold': 0.25}\n"
     ]
    },
    {
     "name": "stderr",
     "output_type": "stream",
     "text": [
      "[I 2023-07-04 16:03:56,842] Trial 522 finished with value: 0.6884245872497559 and parameters: {'w1': 0.9509557215544856, 'w2': 0.46394283080687654, 'w3': 0.5286643056322532, 'w4': 0.3828090265545629, 'w5': 0.6078359495938052, 'w6': 0.7656922156502602, 'w7': 0.49997865841360356, 'w8': 0.5948400461393886}. Best is trial 349 with value: 0.6886134147644043.\n"
     ]
    },
    {
     "name": "stdout",
     "output_type": "stream",
     "text": [
      "{'w1': 0.9509557215544856, 'w2': 0.46394283080687654, 'w3': 0.5286643056322532, 'w4': 0.3828090265545629, 'w5': 0.6078359495938052, 'w6': 0.7656922156502602, 'w7': 0.49997865841360356, 'w8': 0.5948400461393886, 'threshold': 0.26}\n"
     ]
    },
    {
     "name": "stderr",
     "output_type": "stream",
     "text": [
      "[I 2023-07-04 16:03:57,271] Trial 523 finished with value: 0.6880429983139038 and parameters: {'w1': 0.5242712195500266, 'w2': 0.6006714767644891, 'w3': 0.7291313146250477, 'w4': 0.3029165723721961, 'w5': 0.730410523018942, 'w6': 0.6293969817094816, 'w7': 0.3600085610614119, 'w8': 0.8575068226896031}. Best is trial 349 with value: 0.6886134147644043.\n"
     ]
    },
    {
     "name": "stdout",
     "output_type": "stream",
     "text": [
      "{'w1': 0.5242712195500266, 'w2': 0.6006714767644891, 'w3': 0.7291313146250477, 'w4': 0.3029165723721961, 'w5': 0.730410523018942, 'w6': 0.6293969817094816, 'w7': 0.3600085610614119, 'w8': 0.8575068226896031, 'threshold': 0.23}\n"
     ]
    },
    {
     "name": "stderr",
     "output_type": "stream",
     "text": [
      "[I 2023-07-04 16:03:57,700] Trial 524 finished with value: 0.6880813241004944 and parameters: {'w1': 0.49834604454466064, 'w2': 0.5194991052635647, 'w3': 0.6479560298843807, 'w4': 0.2160047218670612, 'w5': 0.6960462040696813, 'w6': 0.37873338950516433, 'w7': 0.4044535313329212, 'w8': 0.5115938815068726}. Best is trial 349 with value: 0.6886134147644043.\n"
     ]
    },
    {
     "name": "stdout",
     "output_type": "stream",
     "text": [
      "{'w1': 0.49834604454466064, 'w2': 0.5194991052635647, 'w3': 0.6479560298843807, 'w4': 0.2160047218670612, 'w5': 0.6960462040696813, 'w6': 0.37873338950516433, 'w7': 0.4044535313329212, 'w8': 0.5115938815068726, 'threshold': 0.24}\n"
     ]
    },
    {
     "name": "stderr",
     "output_type": "stream",
     "text": [
      "[I 2023-07-04 16:03:58,129] Trial 525 finished with value: 0.6876410245895386 and parameters: {'w1': 0.9996565705289091, 'w2': 0.4412970322786655, 'w3': 0.9889088543355973, 'w4': 0.9106700337850404, 'w5': 0.7829932171697849, 'w6': 0.541646306951695, 'w7': 0.43300608097377224, 'w8': 0.8273718985259791}. Best is trial 349 with value: 0.6886134147644043.\n"
     ]
    },
    {
     "name": "stdout",
     "output_type": "stream",
     "text": [
      "{'w1': 0.9996565705289091, 'w2': 0.4412970322786655, 'w3': 0.9889088543355973, 'w4': 0.9106700337850404, 'w5': 0.7829932171697849, 'w6': 0.541646306951695, 'w7': 0.43300608097377224, 'w8': 0.8273718985259791, 'threshold': 0.24}\n"
     ]
    },
    {
     "name": "stderr",
     "output_type": "stream",
     "text": [
      "[I 2023-07-04 16:03:58,566] Trial 526 finished with value: 0.6883816719055176 and parameters: {'w1': 0.9691539230440639, 'w2': 0.48736737410097275, 'w3': 0.6735582589670862, 'w4': 0.28028771365879923, 'w5': 0.7515033770842335, 'w6': 0.5114229288016336, 'w7': 0.6273256408898664, 'w8': 0.4655576673348921}. Best is trial 349 with value: 0.6886134147644043.\n"
     ]
    },
    {
     "name": "stdout",
     "output_type": "stream",
     "text": [
      "{'w1': 0.9691539230440639, 'w2': 0.48736737410097275, 'w3': 0.6735582589670862, 'w4': 0.28028771365879923, 'w5': 0.7515033770842335, 'w6': 0.5114229288016336, 'w7': 0.6273256408898664, 'w8': 0.4655576673348921, 'threshold': 0.28}\n"
     ]
    },
    {
     "name": "stderr",
     "output_type": "stream",
     "text": [
      "[I 2023-07-04 16:03:59,002] Trial 527 finished with value: 0.6884486675262451 and parameters: {'w1': 0.9307365374950958, 'w2': 0.5528615320722327, 'w3': 0.6917360597669788, 'w4': 0.2536120798145885, 'w5': 0.7203280930991812, 'w6': 0.4739230068660131, 'w7': 0.48259400083911363, 'w8': 0.7053215591906902}. Best is trial 349 with value: 0.6886134147644043.\n"
     ]
    },
    {
     "name": "stdout",
     "output_type": "stream",
     "text": [
      "{'w1': 0.9307365374950958, 'w2': 0.5528615320722327, 'w3': 0.6917360597669788, 'w4': 0.2536120798145885, 'w5': 0.7203280930991812, 'w6': 0.4739230068660131, 'w7': 0.48259400083911363, 'w8': 0.7053215591906902, 'threshold': 0.28}\n"
     ]
    },
    {
     "name": "stderr",
     "output_type": "stream",
     "text": [
      "[I 2023-07-04 16:03:59,430] Trial 528 finished with value: 0.6880013942718506 and parameters: {'w1': 0.9462935193428015, 'w2': 0.46740883983184156, 'w3': 0.7993785414537042, 'w4': 0.31812675467921825, 'w5': 0.32222084093484715, 'w6': 0.85490471779306, 'w7': 0.5157173362267167, 'w8': 0.8088706389520253}. Best is trial 349 with value: 0.6886134147644043.\n"
     ]
    },
    {
     "name": "stdout",
     "output_type": "stream",
     "text": [
      "{'w1': 0.9462935193428015, 'w2': 0.46740883983184156, 'w3': 0.7993785414537042, 'w4': 0.31812675467921825, 'w5': 0.32222084093484715, 'w6': 0.85490471779306, 'w7': 0.5157173362267167, 'w8': 0.8088706389520253, 'threshold': 0.23}\n"
     ]
    },
    {
     "name": "stderr",
     "output_type": "stream",
     "text": [
      "[I 2023-07-04 16:03:59,857] Trial 529 finished with value: 0.6881988644599915 and parameters: {'w1': 0.8759816718295637, 'w2': 0.49746250542043174, 'w3': 0.7127504407427461, 'w4': 0.18489839648610631, 'w5': 0.6812424316204125, 'w6': 0.1853355727516094, 'w7': 0.38105758034132575, 'w8': 0.6697550046495186}. Best is trial 349 with value: 0.6886134147644043.\n"
     ]
    },
    {
     "name": "stdout",
     "output_type": "stream",
     "text": [
      "{'w1': 0.8759816718295637, 'w2': 0.49746250542043174, 'w3': 0.7127504407427461, 'w4': 0.18489839648610631, 'w5': 0.6812424316204125, 'w6': 0.1853355727516094, 'w7': 0.38105758034132575, 'w8': 0.6697550046495186, 'threshold': 0.25}\n"
     ]
    },
    {
     "name": "stderr",
     "output_type": "stream",
     "text": [
      "[I 2023-07-04 16:04:00,284] Trial 530 finished with value: 0.6861269474029541 and parameters: {'w1': 0.03777836360633824, 'w2': 0.14451793374110133, 'w3': 0.7509122944311764, 'w4': 0.5302064424141228, 'w5': 0.819178577506336, 'w6': 0.5268165979424496, 'w7': 0.44649418249137823, 'w8': 0.39783608924536185}. Best is trial 349 with value: 0.6886134147644043.\n"
     ]
    },
    {
     "name": "stdout",
     "output_type": "stream",
     "text": [
      "{'w1': 0.03777836360633824, 'w2': 0.14451793374110133, 'w3': 0.7509122944311764, 'w4': 0.5302064424141228, 'w5': 0.819178577506336, 'w6': 0.5268165979424496, 'w7': 0.44649418249137823, 'w8': 0.39783608924536185, 'threshold': 0.24}\n"
     ]
    },
    {
     "name": "stderr",
     "output_type": "stream",
     "text": [
      "[I 2023-07-04 16:04:00,713] Trial 531 finished with value: 0.6883108019828796 and parameters: {'w1': 0.9810407848628312, 'w2': 0.07115173510707251, 'w3': 0.5864693911648703, 'w4': 0.34131005998267944, 'w5': 0.5701060553090654, 'w6': 0.45272188813085656, 'w7': 0.12491046658325322, 'w8': 0.7666630157718156}. Best is trial 349 with value: 0.6886134147644043.\n"
     ]
    },
    {
     "name": "stdout",
     "output_type": "stream",
     "text": [
      "{'w1': 0.9810407848628312, 'w2': 0.07115173510707251, 'w3': 0.5864693911648703, 'w4': 0.34131005998267944, 'w5': 0.5701060553090654, 'w6': 0.45272188813085656, 'w7': 0.12491046658325322, 'w8': 0.7666630157718156, 'threshold': 0.26}\n"
     ]
    },
    {
     "name": "stderr",
     "output_type": "stream",
     "text": [
      "[I 2023-07-04 16:04:01,141] Trial 532 finished with value: 0.6874874234199524 and parameters: {'w1': 0.32429236722098326, 'w2': 0.4508571374562728, 'w3': 0.6678522703016898, 'w4': 0.28820388722547896, 'w5': 0.7702858211246756, 'w6': 0.5544463743159922, 'w7': 0.41920871334806853, 'w8': 0.7211509079894936}. Best is trial 349 with value: 0.6886134147644043.\n"
     ]
    },
    {
     "name": "stdout",
     "output_type": "stream",
     "text": [
      "{'w1': 0.32429236722098326, 'w2': 0.4508571374562728, 'w3': 0.6678522703016898, 'w4': 0.28820388722547896, 'w5': 0.7702858211246756, 'w6': 0.5544463743159922, 'w7': 0.41920871334806853, 'w8': 0.7211509079894936, 'threshold': 0.29}\n"
     ]
    },
    {
     "name": "stderr",
     "output_type": "stream",
     "text": [
      "[I 2023-07-04 16:04:01,570] Trial 533 finished with value: 0.6873878836631775 and parameters: {'w1': 0.47209935517605833, 'w2': 0.3172320153385152, 'w3': 0.5441933867945741, 'w4': 0.4727467894579255, 'w5': 0.7394381660356758, 'w6': 0.5911576329470061, 'w7': 0.3985863217618391, 'w8': 0.7948890110834326}. Best is trial 349 with value: 0.6886134147644043.\n"
     ]
    },
    {
     "name": "stdout",
     "output_type": "stream",
     "text": [
      "{'w1': 0.47209935517605833, 'w2': 0.3172320153385152, 'w3': 0.5441933867945741, 'w4': 0.4727467894579255, 'w5': 0.7394381660356758, 'w6': 0.5911576329470061, 'w7': 0.3985863217618391, 'w8': 0.7948890110834326, 'threshold': 0.29}\n"
     ]
    },
    {
     "name": "stderr",
     "output_type": "stream",
     "text": [
      "[I 2023-07-04 16:04:02,007] Trial 534 finished with value: 0.6879933476448059 and parameters: {'w1': 0.5748558142326786, 'w2': 0.6676524099200117, 'w3': 0.9575239768846363, 'w4': 0.2599588775947479, 'w5': 0.7053042486872716, 'w6': 0.11990174221344452, 'w7': 0.28786642024109693, 'w8': 0.8490110120482061}. Best is trial 349 with value: 0.6886134147644043.\n"
     ]
    },
    {
     "name": "stdout",
     "output_type": "stream",
     "text": [
      "{'w1': 0.5748558142326786, 'w2': 0.6676524099200117, 'w3': 0.9575239768846363, 'w4': 0.2599588775947479, 'w5': 0.7053042486872716, 'w6': 0.11990174221344452, 'w7': 0.28786642024109693, 'w8': 0.8490110120482061, 'threshold': 0.25}\n"
     ]
    },
    {
     "name": "stderr",
     "output_type": "stream",
     "text": [
      "[I 2023-07-04 16:04:02,453] Trial 535 finished with value: 0.6880825757980347 and parameters: {'w1': 0.7680124040053521, 'w2': 0.4100059464947776, 'w3': 0.4336883130943159, 'w4': 0.3140897873357912, 'w5': 0.7232531965157446, 'w6': 0.4861248950773852, 'w7': 0.9678641007132429, 'w8': 0.7446237160167457}. Best is trial 349 with value: 0.6886134147644043.\n"
     ]
    },
    {
     "name": "stdout",
     "output_type": "stream",
     "text": [
      "{'w1': 0.7680124040053521, 'w2': 0.4100059464947776, 'w3': 0.4336883130943159, 'w4': 0.3140897873357912, 'w5': 0.7232531965157446, 'w6': 0.4861248950773852, 'w7': 0.9678641007132429, 'w8': 0.7446237160167457, 'threshold': 0.24}\n"
     ]
    },
    {
     "name": "stderr",
     "output_type": "stream",
     "text": [
      "[I 2023-07-04 16:04:02,894] Trial 536 finished with value: 0.6880337595939636 and parameters: {'w1': 0.902857692512436, 'w2': 0.2789333657464651, 'w3': 0.6471032508455079, 'w4': 0.3580213424984471, 'w5': 0.35105946886341677, 'w6': 0.005512006432087158, 'w7': 0.47109595196699394, 'w8': 0.8261843961597111}. Best is trial 349 with value: 0.6886134147644043.\n"
     ]
    },
    {
     "name": "stdout",
     "output_type": "stream",
     "text": [
      "{'w1': 0.902857692512436, 'w2': 0.2789333657464651, 'w3': 0.6471032508455079, 'w4': 0.3580213424984471, 'w5': 0.35105946886341677, 'w6': 0.005512006432087158, 'w7': 0.47109595196699394, 'w8': 0.8261843961597111, 'threshold': 0.29}\n"
     ]
    },
    {
     "name": "stderr",
     "output_type": "stream",
     "text": [
      "[I 2023-07-04 16:04:03,333] Trial 537 finished with value: 0.6876698136329651 and parameters: {'w1': 0.43332024936367275, 'w2': 0.47482237646981895, 'w3': 0.6948902004646259, 'w4': 0.23416158994466116, 'w5': 0.794604744904552, 'w6': 0.5062906242962223, 'w7': 0.3598080907452356, 'w8': 0.7804449468895057}. Best is trial 349 with value: 0.6886134147644043.\n"
     ]
    },
    {
     "name": "stdout",
     "output_type": "stream",
     "text": [
      "{'w1': 0.43332024936367275, 'w2': 0.47482237646981895, 'w3': 0.6948902004646259, 'w4': 0.23416158994466116, 'w5': 0.794604744904552, 'w6': 0.5062906242962223, 'w7': 0.3598080907452356, 'w8': 0.7804449468895057, 'threshold': 0.25}\n"
     ]
    },
    {
     "name": "stderr",
     "output_type": "stream",
     "text": [
      "[I 2023-07-04 16:04:03,765] Trial 538 finished with value: 0.687650203704834 and parameters: {'w1': 0.9584488891300323, 'w2': 0.42884564390566093, 'w3': 0.7218003583903806, 'w4': 0.8971227160425321, 'w5': 0.6666382594520016, 'w6': 0.6371477295627828, 'w7': 0.43064577527692904, 'w8': 0.809600462579298}. Best is trial 349 with value: 0.6886134147644043.\n"
     ]
    },
    {
     "name": "stdout",
     "output_type": "stream",
     "text": [
      "{'w1': 0.9584488891300323, 'w2': 0.42884564390566093, 'w3': 0.7218003583903806, 'w4': 0.8971227160425321, 'w5': 0.6666382594520016, 'w6': 0.6371477295627828, 'w7': 0.43064577527692904, 'w8': 0.809600462579298, 'threshold': 0.24}\n"
     ]
    },
    {
     "name": "stderr",
     "output_type": "stream",
     "text": [
      "[I 2023-07-04 16:04:04,193] Trial 539 finished with value: 0.687347412109375 and parameters: {'w1': 0.9298406725199653, 'w2': 0.046662212028373284, 'w3': 0.7787683681322375, 'w4': 0.2799087328316534, 'w5': 0.9384255646784554, 'w6': 0.4642216023279715, 'w7': 0.45359746506184956, 'w8': 0.43723614719369175}. Best is trial 349 with value: 0.6886134147644043.\n"
     ]
    },
    {
     "name": "stdout",
     "output_type": "stream",
     "text": [
      "{'w1': 0.9298406725199653, 'w2': 0.046662212028373284, 'w3': 0.7787683681322375, 'w4': 0.2799087328316534, 'w5': 0.9384255646784554, 'w6': 0.4642216023279715, 'w7': 0.45359746506184956, 'w8': 0.43723614719369175, 'threshold': 0.29}\n"
     ]
    },
    {
     "name": "stderr",
     "output_type": "stream",
     "text": [
      "[I 2023-07-04 16:04:04,620] Trial 540 finished with value: 0.6881340742111206 and parameters: {'w1': 0.9809386738374389, 'w2': 0.5097299717216571, 'w3': 0.7434894769629024, 'w4': 0.5112793997709432, 'w5': 0.8787888589630981, 'w6': 0.573591886300725, 'w7': 0.25148344348111373, 'w8': 0.762531632514076}. Best is trial 349 with value: 0.6886134147644043.\n"
     ]
    },
    {
     "name": "stdout",
     "output_type": "stream",
     "text": [
      "{'w1': 0.9809386738374389, 'w2': 0.5097299717216571, 'w3': 0.7434894769629024, 'w4': 0.5112793997709432, 'w5': 0.8787888589630981, 'w6': 0.573591886300725, 'w7': 0.25148344348111373, 'w8': 0.762531632514076, 'threshold': 0.28}\n"
     ]
    },
    {
     "name": "stderr",
     "output_type": "stream",
     "text": [
      "[I 2023-07-04 16:04:05,047] Trial 541 finished with value: 0.6883364319801331 and parameters: {'w1': 0.9632954817536054, 'w2': 0.3759835691068409, 'w3': 0.684557178637876, 'w4': 0.3005759327186046, 'w5': 0.7523636915374676, 'w6': 0.1748677080094696, 'w7': 0.3932289278078763, 'w8': 0.8817780863447365}. Best is trial 349 with value: 0.6886134147644043.\n"
     ]
    },
    {
     "name": "stdout",
     "output_type": "stream",
     "text": [
      "{'w1': 0.9632954817536054, 'w2': 0.3759835691068409, 'w3': 0.684557178637876, 'w4': 0.3005759327186046, 'w5': 0.7523636915374676, 'w6': 0.1748677080094696, 'w7': 0.3932289278078763, 'w8': 0.8817780863447365, 'threshold': 0.28}\n"
     ]
    },
    {
     "name": "stderr",
     "output_type": "stream",
     "text": [
      "[I 2023-07-04 16:04:05,477] Trial 542 finished with value: 0.6884228587150574 and parameters: {'w1': 0.9207088121423916, 'w2': 0.5333890765316854, 'w3': 0.6031667278687503, 'w4': 0.21167058627908542, 'w5': 0.6913811024373178, 'w6': 0.528573492768651, 'w7': 0.3289090877689639, 'w8': 0.6952212302990795}. Best is trial 349 with value: 0.6886134147644043.\n"
     ]
    },
    {
     "name": "stdout",
     "output_type": "stream",
     "text": [
      "{'w1': 0.9207088121423916, 'w2': 0.5333890765316854, 'w3': 0.6031667278687503, 'w4': 0.21167058627908542, 'w5': 0.6913811024373178, 'w6': 0.528573492768651, 'w7': 0.3289090877689639, 'w8': 0.6952212302990795, 'threshold': 0.28}\n"
     ]
    },
    {
     "name": "stderr",
     "output_type": "stream",
     "text": [
      "[W 2023-07-04 16:04:05,700] Trial 543 failed with parameters: {'w1': 0.9478724475597479, 'w2': 0.46086372579149887, 'w3': 0.7078985535614172, 'w4': 0.3310399786068666, 'w5': 0.02626104453143918, 'w6': 0.7024519175396323, 'w7': 0.41448200390155415, 'w8': 0.26298786093330534} because of the following error: KeyboardInterrupt().\n",
      "Traceback (most recent call last):\n",
      "  File \"/home/rohits/anaconda3/envs/contrail/lib/python3.10/site-packages/optuna/study/_optimize.py\", line 200, in _run_trial\n",
      "    value_or_values = func(trial)\n",
      "  File \"/tmp/ipykernel_3552747/1553004294.py\", line 70, in objective\n",
      "    score, best_threshold  = boost_dice(params, TH=TH)\n",
      "  File \"/tmp/ipykernel_3552747/3778955076.py\", line 34, in boost_dice\n",
      "    score = dice_coef(model_masks, preds1, thr=threshold).cpu().detach().numpy() # get_score(labels, preds)\n",
      "KeyboardInterrupt\n",
      "[W 2023-07-04 16:04:05,702] Trial 543 failed with value None.\n"
     ]
    },
    {
     "ename": "KeyboardInterrupt",
     "evalue": "",
     "output_type": "error",
     "traceback": [
      "\u001b[0;31m---------------------------------------------------------------------------\u001b[0m",
      "\u001b[0;31mKeyboardInterrupt\u001b[0m                         Traceback (most recent call last)",
      "Cell \u001b[0;32mIn[65], line 2\u001b[0m\n\u001b[1;32m      1\u001b[0m study \u001b[38;5;241m=\u001b[39m optuna\u001b[38;5;241m.\u001b[39mcreate_study(direction\u001b[38;5;241m=\u001b[39m\u001b[38;5;124m'\u001b[39m\u001b[38;5;124mmaximize\u001b[39m\u001b[38;5;124m'\u001b[39m)\n\u001b[0;32m----> 2\u001b[0m \u001b[43mstudy\u001b[49m\u001b[38;5;241;43m.\u001b[39;49m\u001b[43moptimize\u001b[49m\u001b[43m(\u001b[49m\u001b[43mobjective\u001b[49m\u001b[43m,\u001b[49m\u001b[43m \u001b[49m\u001b[43mn_trials\u001b[49m\u001b[38;5;241;43m=\u001b[39;49m\u001b[38;5;241;43m1000\u001b[39;49m\u001b[43m)\u001b[49m\n\u001b[1;32m      3\u001b[0m best_params \u001b[38;5;241m=\u001b[39m study\u001b[38;5;241m.\u001b[39mbest_params\n",
      "File \u001b[0;32m~/anaconda3/envs/contrail/lib/python3.10/site-packages/optuna/study/study.py:443\u001b[0m, in \u001b[0;36mStudy.optimize\u001b[0;34m(self, func, n_trials, timeout, n_jobs, catch, callbacks, gc_after_trial, show_progress_bar)\u001b[0m\n\u001b[1;32m    339\u001b[0m \u001b[38;5;28;01mdef\u001b[39;00m \u001b[38;5;21moptimize\u001b[39m(\n\u001b[1;32m    340\u001b[0m     \u001b[38;5;28mself\u001b[39m,\n\u001b[1;32m    341\u001b[0m     func: ObjectiveFuncType,\n\u001b[0;32m   (...)\u001b[0m\n\u001b[1;32m    348\u001b[0m     show_progress_bar: \u001b[38;5;28mbool\u001b[39m \u001b[38;5;241m=\u001b[39m \u001b[38;5;28;01mFalse\u001b[39;00m,\n\u001b[1;32m    349\u001b[0m ) \u001b[38;5;241m-\u001b[39m\u001b[38;5;241m>\u001b[39m \u001b[38;5;28;01mNone\u001b[39;00m:\n\u001b[1;32m    350\u001b[0m \u001b[38;5;250m    \u001b[39m\u001b[38;5;124;03m\"\"\"Optimize an objective function.\u001b[39;00m\n\u001b[1;32m    351\u001b[0m \n\u001b[1;32m    352\u001b[0m \u001b[38;5;124;03m    Optimization is done by choosing a suitable set of hyperparameter values from a given\u001b[39;00m\n\u001b[0;32m   (...)\u001b[0m\n\u001b[1;32m    440\u001b[0m \u001b[38;5;124;03m            If nested invocation of this method occurs.\u001b[39;00m\n\u001b[1;32m    441\u001b[0m \u001b[38;5;124;03m    \"\"\"\u001b[39;00m\n\u001b[0;32m--> 443\u001b[0m     \u001b[43m_optimize\u001b[49m\u001b[43m(\u001b[49m\n\u001b[1;32m    444\u001b[0m \u001b[43m        \u001b[49m\u001b[43mstudy\u001b[49m\u001b[38;5;241;43m=\u001b[39;49m\u001b[38;5;28;43mself\u001b[39;49m\u001b[43m,\u001b[49m\n\u001b[1;32m    445\u001b[0m \u001b[43m        \u001b[49m\u001b[43mfunc\u001b[49m\u001b[38;5;241;43m=\u001b[39;49m\u001b[43mfunc\u001b[49m\u001b[43m,\u001b[49m\n\u001b[1;32m    446\u001b[0m \u001b[43m        \u001b[49m\u001b[43mn_trials\u001b[49m\u001b[38;5;241;43m=\u001b[39;49m\u001b[43mn_trials\u001b[49m\u001b[43m,\u001b[49m\n\u001b[1;32m    447\u001b[0m \u001b[43m        \u001b[49m\u001b[43mtimeout\u001b[49m\u001b[38;5;241;43m=\u001b[39;49m\u001b[43mtimeout\u001b[49m\u001b[43m,\u001b[49m\n\u001b[1;32m    448\u001b[0m \u001b[43m        \u001b[49m\u001b[43mn_jobs\u001b[49m\u001b[38;5;241;43m=\u001b[39;49m\u001b[43mn_jobs\u001b[49m\u001b[43m,\u001b[49m\n\u001b[1;32m    449\u001b[0m \u001b[43m        \u001b[49m\u001b[43mcatch\u001b[49m\u001b[38;5;241;43m=\u001b[39;49m\u001b[38;5;28;43mtuple\u001b[39;49m\u001b[43m(\u001b[49m\u001b[43mcatch\u001b[49m\u001b[43m)\u001b[49m\u001b[43m \u001b[49m\u001b[38;5;28;43;01mif\u001b[39;49;00m\u001b[43m \u001b[49m\u001b[38;5;28;43misinstance\u001b[39;49m\u001b[43m(\u001b[49m\u001b[43mcatch\u001b[49m\u001b[43m,\u001b[49m\u001b[43m \u001b[49m\u001b[43mIterable\u001b[49m\u001b[43m)\u001b[49m\u001b[43m \u001b[49m\u001b[38;5;28;43;01melse\u001b[39;49;00m\u001b[43m \u001b[49m\u001b[43m(\u001b[49m\u001b[43mcatch\u001b[49m\u001b[43m,\u001b[49m\u001b[43m)\u001b[49m\u001b[43m,\u001b[49m\n\u001b[1;32m    450\u001b[0m \u001b[43m        \u001b[49m\u001b[43mcallbacks\u001b[49m\u001b[38;5;241;43m=\u001b[39;49m\u001b[43mcallbacks\u001b[49m\u001b[43m,\u001b[49m\n\u001b[1;32m    451\u001b[0m \u001b[43m        \u001b[49m\u001b[43mgc_after_trial\u001b[49m\u001b[38;5;241;43m=\u001b[39;49m\u001b[43mgc_after_trial\u001b[49m\u001b[43m,\u001b[49m\n\u001b[1;32m    452\u001b[0m \u001b[43m        \u001b[49m\u001b[43mshow_progress_bar\u001b[49m\u001b[38;5;241;43m=\u001b[39;49m\u001b[43mshow_progress_bar\u001b[49m\u001b[43m,\u001b[49m\n\u001b[1;32m    453\u001b[0m \u001b[43m    \u001b[49m\u001b[43m)\u001b[49m\n",
      "File \u001b[0;32m~/anaconda3/envs/contrail/lib/python3.10/site-packages/optuna/study/_optimize.py:66\u001b[0m, in \u001b[0;36m_optimize\u001b[0;34m(study, func, n_trials, timeout, n_jobs, catch, callbacks, gc_after_trial, show_progress_bar)\u001b[0m\n\u001b[1;32m     64\u001b[0m \u001b[38;5;28;01mtry\u001b[39;00m:\n\u001b[1;32m     65\u001b[0m     \u001b[38;5;28;01mif\u001b[39;00m n_jobs \u001b[38;5;241m==\u001b[39m \u001b[38;5;241m1\u001b[39m:\n\u001b[0;32m---> 66\u001b[0m         \u001b[43m_optimize_sequential\u001b[49m\u001b[43m(\u001b[49m\n\u001b[1;32m     67\u001b[0m \u001b[43m            \u001b[49m\u001b[43mstudy\u001b[49m\u001b[43m,\u001b[49m\n\u001b[1;32m     68\u001b[0m \u001b[43m            \u001b[49m\u001b[43mfunc\u001b[49m\u001b[43m,\u001b[49m\n\u001b[1;32m     69\u001b[0m \u001b[43m            \u001b[49m\u001b[43mn_trials\u001b[49m\u001b[43m,\u001b[49m\n\u001b[1;32m     70\u001b[0m \u001b[43m            \u001b[49m\u001b[43mtimeout\u001b[49m\u001b[43m,\u001b[49m\n\u001b[1;32m     71\u001b[0m \u001b[43m            \u001b[49m\u001b[43mcatch\u001b[49m\u001b[43m,\u001b[49m\n\u001b[1;32m     72\u001b[0m \u001b[43m            \u001b[49m\u001b[43mcallbacks\u001b[49m\u001b[43m,\u001b[49m\n\u001b[1;32m     73\u001b[0m \u001b[43m            \u001b[49m\u001b[43mgc_after_trial\u001b[49m\u001b[43m,\u001b[49m\n\u001b[1;32m     74\u001b[0m \u001b[43m            \u001b[49m\u001b[43mreseed_sampler_rng\u001b[49m\u001b[38;5;241;43m=\u001b[39;49m\u001b[38;5;28;43;01mFalse\u001b[39;49;00m\u001b[43m,\u001b[49m\n\u001b[1;32m     75\u001b[0m \u001b[43m            \u001b[49m\u001b[43mtime_start\u001b[49m\u001b[38;5;241;43m=\u001b[39;49m\u001b[38;5;28;43;01mNone\u001b[39;49;00m\u001b[43m,\u001b[49m\n\u001b[1;32m     76\u001b[0m \u001b[43m            \u001b[49m\u001b[43mprogress_bar\u001b[49m\u001b[38;5;241;43m=\u001b[39;49m\u001b[43mprogress_bar\u001b[49m\u001b[43m,\u001b[49m\n\u001b[1;32m     77\u001b[0m \u001b[43m        \u001b[49m\u001b[43m)\u001b[49m\n\u001b[1;32m     78\u001b[0m     \u001b[38;5;28;01melse\u001b[39;00m:\n\u001b[1;32m     79\u001b[0m         \u001b[38;5;28;01mif\u001b[39;00m n_jobs \u001b[38;5;241m==\u001b[39m \u001b[38;5;241m-\u001b[39m\u001b[38;5;241m1\u001b[39m:\n",
      "File \u001b[0;32m~/anaconda3/envs/contrail/lib/python3.10/site-packages/optuna/study/_optimize.py:163\u001b[0m, in \u001b[0;36m_optimize_sequential\u001b[0;34m(study, func, n_trials, timeout, catch, callbacks, gc_after_trial, reseed_sampler_rng, time_start, progress_bar)\u001b[0m\n\u001b[1;32m    160\u001b[0m         \u001b[38;5;28;01mbreak\u001b[39;00m\n\u001b[1;32m    162\u001b[0m \u001b[38;5;28;01mtry\u001b[39;00m:\n\u001b[0;32m--> 163\u001b[0m     frozen_trial \u001b[38;5;241m=\u001b[39m \u001b[43m_run_trial\u001b[49m\u001b[43m(\u001b[49m\u001b[43mstudy\u001b[49m\u001b[43m,\u001b[49m\u001b[43m \u001b[49m\u001b[43mfunc\u001b[49m\u001b[43m,\u001b[49m\u001b[43m \u001b[49m\u001b[43mcatch\u001b[49m\u001b[43m)\u001b[49m\n\u001b[1;32m    164\u001b[0m \u001b[38;5;28;01mfinally\u001b[39;00m:\n\u001b[1;32m    165\u001b[0m     \u001b[38;5;66;03m# The following line mitigates memory problems that can be occurred in some\u001b[39;00m\n\u001b[1;32m    166\u001b[0m     \u001b[38;5;66;03m# environments (e.g., services that use computing containers such as GitHub Actions).\u001b[39;00m\n\u001b[1;32m    167\u001b[0m     \u001b[38;5;66;03m# Please refer to the following PR for further details:\u001b[39;00m\n\u001b[1;32m    168\u001b[0m     \u001b[38;5;66;03m# https://github.com/optuna/optuna/pull/325.\u001b[39;00m\n\u001b[1;32m    169\u001b[0m     \u001b[38;5;28;01mif\u001b[39;00m gc_after_trial:\n",
      "File \u001b[0;32m~/anaconda3/envs/contrail/lib/python3.10/site-packages/optuna/study/_optimize.py:251\u001b[0m, in \u001b[0;36m_run_trial\u001b[0;34m(study, func, catch)\u001b[0m\n\u001b[1;32m    244\u001b[0m         \u001b[38;5;28;01massert\u001b[39;00m \u001b[38;5;28;01mFalse\u001b[39;00m, \u001b[38;5;124m\"\u001b[39m\u001b[38;5;124mShould not reach.\u001b[39m\u001b[38;5;124m\"\u001b[39m\n\u001b[1;32m    246\u001b[0m \u001b[38;5;28;01mif\u001b[39;00m (\n\u001b[1;32m    247\u001b[0m     frozen_trial\u001b[38;5;241m.\u001b[39mstate \u001b[38;5;241m==\u001b[39m TrialState\u001b[38;5;241m.\u001b[39mFAIL\n\u001b[1;32m    248\u001b[0m     \u001b[38;5;129;01mand\u001b[39;00m func_err \u001b[38;5;129;01mis\u001b[39;00m \u001b[38;5;129;01mnot\u001b[39;00m \u001b[38;5;28;01mNone\u001b[39;00m\n\u001b[1;32m    249\u001b[0m     \u001b[38;5;129;01mand\u001b[39;00m \u001b[38;5;129;01mnot\u001b[39;00m \u001b[38;5;28misinstance\u001b[39m(func_err, catch)\n\u001b[1;32m    250\u001b[0m ):\n\u001b[0;32m--> 251\u001b[0m     \u001b[38;5;28;01mraise\u001b[39;00m func_err\n\u001b[1;32m    252\u001b[0m \u001b[38;5;28;01mreturn\u001b[39;00m frozen_trial\n",
      "File \u001b[0;32m~/anaconda3/envs/contrail/lib/python3.10/site-packages/optuna/study/_optimize.py:200\u001b[0m, in \u001b[0;36m_run_trial\u001b[0;34m(study, func, catch)\u001b[0m\n\u001b[1;32m    198\u001b[0m \u001b[38;5;28;01mwith\u001b[39;00m get_heartbeat_thread(trial\u001b[38;5;241m.\u001b[39m_trial_id, study\u001b[38;5;241m.\u001b[39m_storage):\n\u001b[1;32m    199\u001b[0m     \u001b[38;5;28;01mtry\u001b[39;00m:\n\u001b[0;32m--> 200\u001b[0m         value_or_values \u001b[38;5;241m=\u001b[39m \u001b[43mfunc\u001b[49m\u001b[43m(\u001b[49m\u001b[43mtrial\u001b[49m\u001b[43m)\u001b[49m\n\u001b[1;32m    201\u001b[0m     \u001b[38;5;28;01mexcept\u001b[39;00m exceptions\u001b[38;5;241m.\u001b[39mTrialPruned \u001b[38;5;28;01mas\u001b[39;00m e:\n\u001b[1;32m    202\u001b[0m         \u001b[38;5;66;03m# TODO(mamu): Handle multi-objective cases.\u001b[39;00m\n\u001b[1;32m    203\u001b[0m         state \u001b[38;5;241m=\u001b[39m TrialState\u001b[38;5;241m.\u001b[39mPRUNED\n",
      "Cell \u001b[0;32mIn[64], line 70\u001b[0m, in \u001b[0;36mobjective\u001b[0;34m(trial)\u001b[0m\n\u001b[1;32m      7\u001b[0m         params[\u001b[38;5;124mf\u001b[39m\u001b[38;5;124m\"\u001b[39m\u001b[38;5;124mw\u001b[39m\u001b[38;5;132;01m{\u001b[39;00mi\u001b[38;5;241m+\u001b[39m\u001b[38;5;241m1\u001b[39m\u001b[38;5;132;01m}\u001b[39;00m\u001b[38;5;124m\"\u001b[39m] \u001b[38;5;241m=\u001b[39m trial\u001b[38;5;241m.\u001b[39msuggest_float(\u001b[38;5;124mf\u001b[39m\u001b[38;5;124m'\u001b[39m\u001b[38;5;124mw\u001b[39m\u001b[38;5;132;01m{\u001b[39;00mi\u001b[38;5;241m+\u001b[39m\u001b[38;5;241m1\u001b[39m\u001b[38;5;132;01m}\u001b[39;00m\u001b[38;5;124m'\u001b[39m, \u001b[38;5;241m0\u001b[39m, \u001b[38;5;241m1\u001b[39m) \n\u001b[1;32m      9\u001b[0m \u001b[38;5;66;03m#     params['w1'] = 0.012132889171043498\u001b[39;00m\n\u001b[1;32m     10\u001b[0m \u001b[38;5;66;03m# #     params['w1'] = trial.suggest_float(f'w1', 0, 1) \u001b[39;00m\n\u001b[1;32m     11\u001b[0m \n\u001b[0;32m   (...)\u001b[0m\n\u001b[1;32m     66\u001b[0m \u001b[38;5;66;03m#     print(params)\u001b[39;00m\n\u001b[1;32m     67\u001b[0m \u001b[38;5;66;03m#     exit()\u001b[39;00m\n\u001b[0;32m---> 70\u001b[0m     score, best_threshold  \u001b[38;5;241m=\u001b[39m \u001b[43mboost_dice\u001b[49m\u001b[43m(\u001b[49m\u001b[43mparams\u001b[49m\u001b[43m,\u001b[49m\u001b[43m \u001b[49m\u001b[43mTH\u001b[49m\u001b[38;5;241;43m=\u001b[39;49m\u001b[43mTH\u001b[49m\u001b[43m)\u001b[49m\n\u001b[1;32m     71\u001b[0m     params[\u001b[38;5;124m'\u001b[39m\u001b[38;5;124mthreshold\u001b[39m\u001b[38;5;124m'\u001b[39m] \u001b[38;5;241m=\u001b[39m best_threshold\n\u001b[1;32m     72\u001b[0m     \u001b[38;5;28;01mif\u001b[39;00m \u001b[38;5;129;01mnot\u001b[39;00m TH:\n",
      "Cell \u001b[0;32mIn[62], line 34\u001b[0m, in \u001b[0;36mboost_dice\u001b[0;34m(params, TH)\u001b[0m\n\u001b[1;32m     31\u001b[0m \u001b[38;5;66;03m#             preds1 = (nn.Sigmoid()(preds)>threshold).double()    \u001b[39;00m\n\u001b[1;32m     32\u001b[0m             preds1 \u001b[38;5;241m=\u001b[39m ((preds)\u001b[38;5;241m>\u001b[39mthreshold)\u001b[38;5;241m.\u001b[39mdouble()            \n\u001b[0;32m---> 34\u001b[0m             score \u001b[38;5;241m=\u001b[39m \u001b[43mdice_coef\u001b[49m\u001b[43m(\u001b[49m\u001b[43mmodel_masks\u001b[49m\u001b[43m,\u001b[49m\u001b[43m \u001b[49m\u001b[43mpreds1\u001b[49m\u001b[43m,\u001b[49m\u001b[43m \u001b[49m\u001b[43mthr\u001b[49m\u001b[38;5;241;43m=\u001b[39;49m\u001b[43mthreshold\u001b[49m\u001b[43m)\u001b[49m\u001b[38;5;241;43m.\u001b[39;49m\u001b[43mcpu\u001b[49m\u001b[43m(\u001b[49m\u001b[43m)\u001b[49m\u001b[38;5;241m.\u001b[39mdetach()\u001b[38;5;241m.\u001b[39mnumpy() \u001b[38;5;66;03m# get_score(labels, preds) \u001b[39;00m\n\u001b[1;32m     35\u001b[0m             \u001b[38;5;28;01mif\u001b[39;00m score \u001b[38;5;241m>\u001b[39m best_score:\n\u001b[1;32m     36\u001b[0m                 best_score \u001b[38;5;241m=\u001b[39m score\n",
      "\u001b[0;31mKeyboardInterrupt\u001b[0m: "
     ]
    }
   ],
   "source": [
    "study = optuna.create_study(direction='maximize')\n",
    "study.optimize(objective, n_trials=1000)\n",
    "best_params = study.best_params\n"
   ]
  },
  {
   "cell_type": "code",
   "execution_count": 77,
   "id": "a86d92a9",
   "metadata": {},
   "outputs": [
    {
     "data": {
      "text/plain": [
       "{'w1': 0.18401864374824775,\n",
       " 'w2': 0.4146269962151963,\n",
       " 'w3': 0.7192886961555446,\n",
       " 'w4': 0.5539748123446523,\n",
       " 'w5': 0.7004264938392689}"
      ]
     },
     "execution_count": 77,
     "metadata": {},
     "output_type": "execute_result"
    }
   ],
   "source": [
    "best_params # 0.6887625455856323 | 0.04\n",
    "\n",
    "# 0.6895816326141357\n",
    "# {'w1': 0.47086182577836433,\n",
    "#  'w2': 0.47398487134088524,\n",
    "#  'w3': 0.5679779129752309,\n",
    "#  'w4': 0.1252667561239259,\n",
    "#  'w5': 0.968556649618721,\n",
    "#  'w6': 0.8607378728752336,\n",
    "#  'w7': 0.9195324310392224,\n",
    "#  'w8': 0.7835977002050275,\n",
    "#  'w9': 0.2781133693982887,\n",
    "#  'w10': 0.31362551317353027,\n",
    "#  'w11': 0.705090471708246,\n",
    "#  'w12': 0.5674062524856331,\n",
    "#  'w13': 0.9148852628607528,\n",
    "#  'w14': 0.5186468260988354,\n",
    "#  'w15': 0.3069714722265997}"
   ]
  },
  {
   "cell_type": "code",
   "execution_count": 66,
   "id": "e63a6b39",
   "metadata": {},
   "outputs": [],
   "source": [
    "# dice_coef(model_masks, final_preds, thr=0.05).cpu().detach().numpy()\n",
    "\n",
    "\n",
    "best_params = {\n",
    "    'w1': 0.9523918511642355,\n",
    "    'w2': 0.44974410082629623,\n",
    "    'w3': 0.6870108787554418,\n",
    "    'w4': 0.2786414514679672,\n",
    "    'w5': 0.7394785710916857,\n",
    "    'w6': 0.49681774450074856,\n",
    "    'w7': 0.4875680157607395,\n",
    "    'w8': 0.7471311909621834\n",
    "}                                                                               \n",
    "                             \n",
    "    \n",
    "                                                                                \n",
    "                                                                                \n",
    "                                                                                "
   ]
  },
  {
   "cell_type": "code",
   "execution_count": null,
   "id": "8ed33dce",
   "metadata": {},
   "outputs": [],
   "source": []
  },
  {
   "cell_type": "code",
   "execution_count": 1,
   "id": "44a1bdfd",
   "metadata": {},
   "outputs": [
    {
     "ename": "NameError",
     "evalue": "name 'weighted_ensemble' is not defined",
     "output_type": "error",
     "traceback": [
      "\u001b[0;31m---------------------------------------------------------------------------\u001b[0m",
      "\u001b[0;31mNameError\u001b[0m                                 Traceback (most recent call last)",
      "Cell \u001b[0;32mIn[1], line 17\u001b[0m\n\u001b[1;32m      1\u001b[0m \u001b[38;5;66;03m# params = {\u001b[39;00m\n\u001b[1;32m      2\u001b[0m \u001b[38;5;66;03m#  'w1': 0.2250520679228371,\u001b[39;00m\n\u001b[1;32m      3\u001b[0m \u001b[38;5;66;03m#  'w2': 0.2210497672991009,\u001b[39;00m\n\u001b[0;32m   (...)\u001b[0m\n\u001b[1;32m      7\u001b[0m \u001b[38;5;66;03m#  'w6': 0.6396791846489223,\u001b[39;00m\n\u001b[1;32m      8\u001b[0m \u001b[38;5;66;03m#  'w7': 0.26004752411514376}\u001b[39;00m\n\u001b[1;32m     11\u001b[0m params \u001b[38;5;241m=\u001b[39m {\u001b[38;5;124m'\u001b[39m\u001b[38;5;124mw1\u001b[39m\u001b[38;5;124m'\u001b[39m: \u001b[38;5;241m0.012132889171043498\u001b[39m, \u001b[38;5;124m'\u001b[39m\u001b[38;5;124mw2\u001b[39m\u001b[38;5;124m'\u001b[39m: \u001b[38;5;241m0.22910836470987306\u001b[39m, \u001b[38;5;124m'\u001b[39m\u001b[38;5;124mw3\u001b[39m\u001b[38;5;124m'\u001b[39m: \u001b[38;5;241m0.8234913030546002\u001b[39m, \u001b[38;5;124m'\u001b[39m\u001b[38;5;124mw4\u001b[39m\u001b[38;5;124m'\u001b[39m: \u001b[38;5;241m0.7631962618421504\u001b[39m, \u001b[38;5;124m'\u001b[39m\u001b[38;5;124mw5\u001b[39m\u001b[38;5;124m'\u001b[39m: \u001b[38;5;241m0.8427707176332744\u001b[39m, \u001b[38;5;124m'\u001b[39m\u001b[38;5;124mw6\u001b[39m\u001b[38;5;124m'\u001b[39m: \u001b[38;5;241m0.479202185185958\u001b[39m, \u001b[38;5;124m'\u001b[39m\u001b[38;5;124mw7\u001b[39m\u001b[38;5;124m'\u001b[39m: \u001b[38;5;241m0.416350717272335\u001b[39m, \u001b[38;5;124m'\u001b[39m\u001b[38;5;124mw8\u001b[39m\u001b[38;5;124m'\u001b[39m: \u001b[38;5;241m0.8815206035791852\u001b[39m, \u001b[38;5;124m'\u001b[39m\u001b[38;5;124mw9\u001b[39m\u001b[38;5;124m'\u001b[39m: \u001b[38;5;241m0.9217240554494449\u001b[39m, \u001b[38;5;124m'\u001b[39m\u001b[38;5;124mw10\u001b[39m\u001b[38;5;124m'\u001b[39m: \u001b[38;5;241m0.575094040365154\u001b[39m, \u001b[38;5;124m'\u001b[39m\u001b[38;5;124mw11\u001b[39m\u001b[38;5;124m'\u001b[39m: \u001b[38;5;241m0.26646876984640183\u001b[39m, \u001b[38;5;124m'\u001b[39m\u001b[38;5;124mw12\u001b[39m\u001b[38;5;124m'\u001b[39m: \u001b[38;5;241m0.11308087290053014\u001b[39m, \u001b[38;5;124m'\u001b[39m\u001b[38;5;124mw13\u001b[39m\u001b[38;5;124m'\u001b[39m: \u001b[38;5;241m0.45407230561937456\u001b[39m, \u001b[38;5;124m'\u001b[39m\u001b[38;5;124mw14\u001b[39m\u001b[38;5;124m'\u001b[39m: \u001b[38;5;241m0.46687601413910984\u001b[39m, \u001b[38;5;124m'\u001b[39m\u001b[38;5;124mw15\u001b[39m\u001b[38;5;124m'\u001b[39m: \u001b[38;5;241m0.5855103418960851\u001b[39m, \u001b[38;5;124m'\u001b[39m\u001b[38;5;124mw16\u001b[39m\u001b[38;5;124m'\u001b[39m: \u001b[38;5;241m0.6404939370620236\u001b[39m}\n\u001b[0;32m---> 17\u001b[0m final_preds \u001b[38;5;241m=\u001b[39m \u001b[43mweighted_ensemble\u001b[49m(params, final_preds)\n",
      "\u001b[0;31mNameError\u001b[0m: name 'weighted_ensemble' is not defined"
     ]
    }
   ],
   "source": [
    "# params = {\n",
    "#  'w1': 0.2250520679228371,\n",
    "#  'w2': 0.2210497672991009,\n",
    "#  'w3': 0.1953130079653586,\n",
    "#  'w4': 0.6793988070403458,\n",
    "#  'w5': 0.31595425789857745,\n",
    "#  'w6': 0.6396791846489223,\n",
    "#  'w7': 0.26004752411514376}\n",
    "\n",
    "\n",
    "params = {'w1': 0.012132889171043498, 'w2': 0.22910836470987306, 'w3': 0.8234913030546002, 'w4': 0.7631962618421504, 'w5': 0.8427707176332744, 'w6': 0.479202185185958, 'w7': 0.416350717272335, 'w8': 0.8815206035791852, 'w9': 0.9217240554494449, 'w10': 0.575094040365154, 'w11': 0.26646876984640183, 'w12': 0.11308087290053014, 'w13': 0.45407230561937456, 'w14': 0.46687601413910984, 'w15': 0.5855103418960851, 'w16': 0.6404939370620236}\n",
    "\n",
    "\n",
    "\n",
    "\n",
    "\n",
    "final_preds = weighted_ensemble(params, final_preds)\n",
    "# torch.save(final_preds, f\"../../output/final_preds/0.68866974.pt\")"
   ]
  },
  {
   "cell_type": "code",
   "execution_count": 39,
   "id": "1b551fc6",
   "metadata": {},
   "outputs": [
    {
     "name": "stdout",
     "output_type": "stream",
     "text": [
      "0.6889945 0.03\n"
     ]
    }
   ],
   "source": [
    "best_threshold = 0.0\n",
    "best_dice_score = 0.0\n",
    "# for threshold in [i / 100 for i in range(101)] :\n",
    "for threshold in [0.025, 0.028, 0.03, 0.038, 0.039, 0.04, 0.041, 0.042, 0.045, 0.047, 0.049] :\n",
    "#     threshold = 0.5\n",
    "#     score = dice_coef(model_masks, final_preds.sigmoid(), thr=threshold).cpu().detach().numpy() \n",
    "    score = dice_coef(model_masks, final_preds.sigmoid(), thr=threshold).cpu().detach().numpy() \n",
    "    if score > best_dice_score:\n",
    "        best_dice_score = score\n",
    "        best_threshold = threshold\n",
    "print(best_dice_score, best_threshold)"
   ]
  },
  {
   "cell_type": "code",
   "execution_count": 80,
   "id": "79a67f73",
   "metadata": {},
   "outputs": [],
   "source": [
    "# len(final_preds)"
   ]
  },
  {
   "cell_type": "code",
   "execution_count": 29,
   "id": "f07c567e",
   "metadata": {},
   "outputs": [],
   "source": [
    "call_signs1.extend(call_signs2)"
   ]
  },
  {
   "cell_type": "code",
   "execution_count": 69,
   "id": "f792f1f3",
   "metadata": {},
   "outputs": [
    {
     "name": "stdout",
     "output_type": "stream",
     "text": [
      "1 roh_01_tta_sig\n",
      "2 roh_03_tta_sig\n",
      "3 roh_04_tta_sig\n",
      "4 roh_05_tta_sig\n",
      "5 roh_05_sig\n",
      "6 roh_06_tta_sig\n",
      "7 roh_07_tta_sig\n",
      "8 roh_07_sig\n"
     ]
    }
   ],
   "source": [
    "for idx, val in enumerate(call_signs1):\n",
    "    print(idx+1, val)"
   ]
  },
  {
   "cell_type": "code",
   "execution_count": 68,
   "id": "8a69ccdb",
   "metadata": {},
   "outputs": [
    {
     "data": {
      "text/plain": [
       "{'w1': 0.9523918511642355,\n",
       " 'w2': 0.44974410082629623,\n",
       " 'w3': 0.6870108787554418,\n",
       " 'w4': 0.2786414514679672,\n",
       " 'w5': 0.7394785710916857,\n",
       " 'w6': 0.49681774450074856,\n",
       " 'w7': 0.4875680157607395,\n",
       " 'w8': 0.7471311909621834}"
      ]
     },
     "execution_count": 68,
     "metadata": {},
     "output_type": "execute_result"
    }
   ],
   "source": [
    "best_params # roh_01_sig, roh_02_sig, roh_03_sig, roh_04_sig, roh_06_sig, roh_08_tta_sig, roh_08_sig"
   ]
  },
  {
   "cell_type": "code",
   "execution_count": null,
   "id": "c300bbe2",
   "metadata": {},
   "outputs": [],
   "source": [
    "# nir_01_tta, nir_02_tta, nir_03_tta, nir_03\n",
    "# nir_04_tta, roh_03, roh_05_tta\n",
    "# nir_05, nir_07_tta, roh_02_tta, roh_06\n",
    "# nir, nir_08_tta\n",
    "# nir_06_tta, roh_02"
   ]
  }
 ],
 "metadata": {
  "kernelspec": {
   "display_name": "Python 3 (ipykernel)",
   "language": "python",
   "name": "python3"
  },
  "language_info": {
   "codemirror_mode": {
    "name": "ipython",
    "version": 3
   },
   "file_extension": ".py",
   "mimetype": "text/x-python",
   "name": "python",
   "nbconvert_exporter": "python",
   "pygments_lexer": "ipython3",
   "version": "3.10.11"
  }
 },
 "nbformat": 4,
 "nbformat_minor": 5
}
