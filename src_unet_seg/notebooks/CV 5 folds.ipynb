{
 "cells": [
  {
   "cell_type": "code",
   "execution_count": 1,
   "id": "0c125d77",
   "metadata": {},
   "outputs": [],
   "source": [
    "import pandas as pd\n",
    "import ttach as tta"
   ]
  },
  {
   "cell_type": "code",
   "execution_count": 2,
   "id": "e334e81f",
   "metadata": {},
   "outputs": [],
   "source": [
    "import os"
   ]
  },
  {
   "cell_type": "code",
   "execution_count": 4,
   "id": "9e6c7b83",
   "metadata": {},
   "outputs": [
    {
     "data": {
      "text/plain": [
       "9259"
      ]
     },
     "execution_count": 4,
     "metadata": {},
     "output_type": "execute_result"
    }
   ],
   "source": [
    "len(os.listdir(\"/home/rohits/pv1/Contrail_Detection/input/labels_many/train_data\"))"
   ]
  },
  {
   "cell_type": "code",
   "execution_count": null,
   "id": "6535c711",
   "metadata": {},
   "outputs": [],
   "source": []
  },
  {
   "cell_type": "code",
   "execution_count": 14,
   "id": "645a79e3",
   "metadata": {},
   "outputs": [],
   "source": [
    "# !pip install optuna\n",
    "# !pip install --upgrade numpy"
   ]
  },
  {
   "cell_type": "code",
   "execution_count": 15,
   "id": "77e5af39",
   "metadata": {},
   "outputs": [],
   "source": [
    "import os\n",
    "import shutil\n",
    "import pathlib\n",
    "import gc\n",
    "from pathlib import Path\n",
    "from PIL import Image\n",
    "import pandas as pd\n",
    "import numpy as np\n",
    "import cv2 as cv\n",
    "import random\n",
    "import matplotlib.pyplot as plt\n",
    "# from tqdm.auto import tqdm\n",
    "from tqdm.notebook import tqdm\n",
    "import torch\n",
    "import torch.nn as nn\n",
    "import torch.nn.functional as F\n",
    "from torch import optim\n",
    "import torch\n",
    "from torch.utils.data import DataLoader, random_split\n",
    "from torch.utils.data import Dataset\n",
    "\n",
    "import torchvision\n",
    "from torchvision import datasets\n",
    "import cv2\n",
    "from torch.cuda import amp\n",
    "\n",
    "import torchvision.transforms as T\n",
    "from torchvision.transforms import Compose, ToTensor, Resize\n",
    "from torchvision.utils import make_grid\n",
    "import optuna\n",
    "\n",
    "import albumentations as A\n",
    "from albumentations.pytorch import ToTensorV2\n",
    "import segmentation_models_pytorch as smp"
   ]
  },
  {
   "cell_type": "code",
   "execution_count": 16,
   "id": "157ff8d6",
   "metadata": {},
   "outputs": [],
   "source": [
    "def seed_everything(seed=42):\n",
    "    '''Sets the seed of the entire notebook so results are the same every time we run.\n",
    "    This is for REPRODUCIBILITY.'''\n",
    "    np.random.seed(seed)\n",
    "    random.seed(seed)\n",
    "    torch.manual_seed(seed)\n",
    "    torch.cuda.manual_seed(seed)\n",
    "    torch.backends.cudnn.deterministic = True\n",
    "    torch.backends.cudnn.benchmark = False\n",
    "    os.environ['PYTHONHASHSEED'] = str(seed)"
   ]
  },
  {
   "cell_type": "code",
   "execution_count": 17,
   "id": "12e6bf9e",
   "metadata": {},
   "outputs": [],
   "source": [
    "seed_everything(42)"
   ]
  },
  {
   "cell_type": "code",
   "execution_count": 18,
   "id": "c5654e79",
   "metadata": {},
   "outputs": [],
   "source": [
    "CFGS = [           \n",
    "#     {\n",
    "#         'model_name': 'Unet',\n",
    "#         'backbone': 'efficientnet-b7',\n",
    "#         'img_size': [256, 256],\n",
    "#         'num_classes': 1,\n",
    "#         'model_pth': '../../output/exp_01/Unet/efficientnet-b7-256/checkpoint_dice_fold0.pth',\n",
    "#         'threshold': 0.34,\n",
    "#         'tta': True, \n",
    "#     },\n",
    "#     {\n",
    "#         'model_name': 'Unet',\n",
    "#         'backbone': 'efficientnet-b7',\n",
    "#         'img_size': [256, 256],\n",
    "#         'num_classes': 1,\n",
    "#         'model_pth': '../../output/exp_01/Unet/efficientnet-b7-256/checkpoint_dice_fold1.pth',\n",
    "#         'threshold': 0.29,\n",
    "#         'tta': True, \n",
    "#     },\n",
    "#     {\n",
    "#         'model_name': 'Unet',\n",
    "#         'backbone': 'efficientnet-b7',\n",
    "#         'img_size': [256, 256],\n",
    "#         'num_classes': 1,\n",
    "#         'model_pth': '../../output/exp_01/Unet/efficientnet-b7-256/checkpoint_dice_fold2.pth',\n",
    "#         'threshold': 0.4,\n",
    "#         'tta': True, \n",
    "#     },\n",
    "#     {\n",
    "#         'model_name': 'Unet',\n",
    "#         'backbone': 'efficientnet-b7',\n",
    "#         'img_size': [256, 256],\n",
    "#         'num_classes': 1,\n",
    "#         'model_pth': '../../output/exp_01/Unet/efficientnet-b7-256/checkpoint_dice_fold3.pth',\n",
    "#         'threshold': 0.38,\n",
    "#         'tta': True, \n",
    "#     },\n",
    "#     {\n",
    "#         'model_name': 'Unet',\n",
    "#         'backbone': 'efficientnet-b7',\n",
    "#         'img_size': [256, 256],\n",
    "#         'num_classes': 1,\n",
    "#         'model_pth': '../../output/exp_01/Unet/efficientnet-b7-256/checkpoint_dice_fold4.pth',\n",
    "#         'threshold': 0.41,\n",
    "#         'tta': True, \n",
    "#     },\n",
    "    \n",
    "    \n",
    "#     {\n",
    "#         'model_name': 'Unet',\n",
    "#         'backbone': 'efficientnet-b7',\n",
    "#         'img_size': [256, 256],\n",
    "#         'num_classes': 1,\n",
    "#         'model_pth': '../../output/exp_01_s2/Unet/efficientnet-b7-256/checkpoint_dice_fold0.pth',\n",
    "#         'threshold': 0.34,\n",
    "#         'tta': True, \n",
    "#     },\n",
    "# #     {\n",
    "# #         'model_name': 'Unet',\n",
    "# #         'backbone': 'efficientnet-b7',\n",
    "# #         'img_size': [256, 256],\n",
    "# #         'num_classes': 1,\n",
    "# #         'model_pth': '../../output/exp_01_s2/Unet/efficientnet-b7-256/checkpoint_dice_fold1.pth',\n",
    "# #         'threshold': 0.29,\n",
    "# #         'tta': True, \n",
    "# #     },\n",
    "#     {\n",
    "#         'model_name': 'Unet',\n",
    "#         'backbone': 'efficientnet-b7',\n",
    "#         'img_size': [256, 256],\n",
    "#         'num_classes': 1,\n",
    "#         'model_pth': '../../output/exp_01_s2/Unet/efficientnet-b7-256/checkpoint_dice_fold2.pth',\n",
    "#         'threshold': 0.4,\n",
    "#         'tta': True, \n",
    "#     },\n",
    "#     {\n",
    "#         'model_name': 'Unet',\n",
    "#         'backbone': 'efficientnet-b7',\n",
    "#         'img_size': [256, 256],\n",
    "#         'num_classes': 1,\n",
    "#         'model_pth': '../../output/exp_01_s2/Unet/efficientnet-b7-256/checkpoint_dice_fold3.pth',\n",
    "#         'threshold': 0.38,\n",
    "#         'tta': True, \n",
    "#     },\n",
    "# #     {\n",
    "# #         'model_name': 'Unet',\n",
    "# #         'backbone': 'efficientnet-b7',\n",
    "# #         'img_size': [256, 256],\n",
    "# #         'num_classes': 1,\n",
    "# #         'model_pth': '../../output/exp_01_s2/Unet/efficientnet-b7-256/checkpoint_dice_fold4.pth',\n",
    "# #         'threshold': 0.41,\n",
    "# #         'tta': True, \n",
    "# #     },\n",
    "    \n",
    "    \n",
    "    {\n",
    "        'model_name': 'Unet',\n",
    "        'backbone': 'efficientnet-b7',\n",
    "        'img_size': [256, 256],\n",
    "        'num_classes': 1,\n",
    "        'model_pth': '../../output/exp_01_s2/Unet/efficientnet-b7-256/checkpoint_dice_fold0.pth',\n",
    "        'threshold': 0.34,\n",
    "        'trained_by': 'rohit',\n",
    "        'tta': True, \n",
    "    },\n",
    "    \n",
    "    \n",
    "        {\n",
    "        'model_name': 'Unet',\n",
    "        'backbone': 'efficientnet-b7',\n",
    "        'img_size': [256, 256],\n",
    "        'num_classes': 1,\n",
    "        'model_pth': '../../output/exp_01_s2/Unet/efficientnet-b7-256/checkpoint_dice_fold1.pth',\n",
    "        'threshold': 0.34,\n",
    "        'trained_by': 'rohit',\n",
    "        'tta': True, \n",
    "    },\n",
    "    \n",
    "    \n",
    "        {\n",
    "        'model_name': 'Unet',\n",
    "        'backbone': 'efficientnet-b7',\n",
    "        'img_size': [256, 256],\n",
    "        'num_classes': 1,\n",
    "        'model_pth': '../../output/exp_01_s2/Unet/efficientnet-b7-256/checkpoint_dice_fold2.pth',\n",
    "        'threshold': 0.34,\n",
    "        'trained_by': 'rohit',\n",
    "        'tta': True, \n",
    "    },\n",
    "    \n",
    "        {\n",
    "        'model_name': 'Unet',\n",
    "        'backbone': 'efficientnet-b7',\n",
    "        'img_size': [256, 256],\n",
    "        'num_classes': 1,\n",
    "        'model_pth': '../../output/exp_01_s2/Unet/efficientnet-b7-256/checkpoint_dice_fold3.pth',\n",
    "        'threshold': 0.34,\n",
    "        'trained_by': 'rohit',\n",
    "        'tta': True, \n",
    "    },\n",
    "    \n",
    "        {\n",
    "        'model_name': 'Unet',\n",
    "        'backbone': 'efficientnet-b7',\n",
    "        'img_size': [256, 256],\n",
    "        'num_classes': 1,\n",
    "        'model_pth': '../../output/exp_01_s2/Unet/efficientnet-b7-256/checkpoint_dice_fold4.pth',\n",
    "        'threshold': 0.34,\n",
    "        'trained_by': 'rohit',\n",
    "        'tta': True, \n",
    "    },\n",
    "    \n",
    "    \n",
    "#     {\n",
    "#         'model_name': 'Unet',\n",
    "#         'backbone': 'tf_efficientnet_b8',\n",
    "#         'img_size': [512, 512],\n",
    "#         'num_classes': 1,\n",
    "#         'model_pth': '../../output/nirjhar/effb8modelv2fold0_tf_efficientnet_b8_best_epochstage2-00.bin',\n",
    "#         'threshold': 0.34,\n",
    "#         'trained_by': 'nirjhar',\n",
    "#         'tta': True, \n",
    "#     },\n",
    "    \n",
    "    \n",
    "    \n",
    "]"
   ]
  },
  {
   "cell_type": "code",
   "execution_count": 19,
   "id": "2ddaafa6",
   "metadata": {},
   "outputs": [],
   "source": [
    "device = torch.device('cuda' if torch.cuda.is_available() else 'cpu')\n"
   ]
  },
  {
   "cell_type": "code",
   "execution_count": 20,
   "id": "d58a5058",
   "metadata": {},
   "outputs": [],
   "source": [
    "class ContrailDataset:\n",
    "    def __init__(self, df, transform=None):\n",
    "        self.df = df  \n",
    "        self.images = df['image']\n",
    "        self.labels = df['label']\n",
    "        self.transform =transform\n",
    "#         self.tta = tta_count\n",
    "        \n",
    "        \n",
    "    def __len__(self):\n",
    "        return len(self.images)\n",
    "        \n",
    "    def __getitem__(self, idx):\n",
    "        image = np.load(\"../../input/\" + self.images[idx]).astype(float)   \n",
    "        label = np.load(\"../../input/\" + self.labels[idx]).astype(float)\n",
    "        \n",
    "        \n",
    "        if self.transform :\n",
    "            data = self.transform(image=image, mask=label)\n",
    "            image  = data['image']\n",
    "            label  = data['mask']\n",
    "            image = np.transpose(image, (2, 0, 1))\n",
    "            label = np.transpose(label, (2, 0, 1)) \n",
    "            \n",
    "        return torch.tensor(image), torch.tensor(label)"
   ]
  },
  {
   "cell_type": "code",
   "execution_count": 21,
   "id": "985b3de5",
   "metadata": {},
   "outputs": [],
   "source": [
    "class Net(nn.Module):\n",
    "    def __init__(self, cfg):\n",
    "        super().__init__()\n",
    "        self.cfg = cfg\n",
    "        \n",
    "        self.model = smp.Unet(\n",
    "            encoder_name=cfg[\"backbone\"],\n",
    "            encoder_weights=None,    \n",
    "            in_channels=3,            \n",
    "            classes=cfg[\"num_classes\"],     \n",
    "            activation=None\n",
    "        )\n",
    "        \n",
    "    \n",
    "    def forward(self, inputs):\n",
    "        mask = self.model(inputs)\n",
    "        return mask\n",
    "    \n",
    "    \n",
    "    \n",
    "import segmentation_models_pytorch as smp\n",
    "import timm\n",
    "n_blocks = 4\n",
    "\n",
    "class TimmSegModel(nn.Module):\n",
    "    def __init__(self, cfg, segtype='unet', pretrained=True):\n",
    "        super(TimmSegModel, self).__init__()\n",
    "        self.conv1 = nn.Conv2d(3, 6, 3, stride=1, padding=1, bias=False)\n",
    "        self.conv2 = nn.Conv2d(6, 12, 3, stride=1, padding=1, bias=False)\n",
    "        self.conv3 = nn.Conv2d(12, 36, 3, stride=1, padding=1, bias=False)\n",
    "        self.mybn1 = nn.BatchNorm2d(6)\n",
    "        self.mybn2 = nn.BatchNorm2d(12)\n",
    "        self.mybn3 = nn.BatchNorm2d(36)     \n",
    "        self.encoder = timm.create_model(\n",
    "            cfg['backbone'],\n",
    "            in_chans=3,\n",
    "            features_only=True,\n",
    "            drop_rate=0.8,\n",
    "            drop_path_rate=0.5,\n",
    "            pretrained=True\n",
    "        )\n",
    "        self.encoder.conv_stem=nn.Conv2d(6, 72, kernel_size=(3, 3), stride=(2, 2), padding=(1, 1), bias=False)\n",
    "\n",
    "        self.encoder.blocks[5] = nn.Identity()\n",
    "        self.encoder.blocks[6] = nn.Sequential(\n",
    "            nn.Conv2d(self.encoder.blocks[4][2].conv_pwl.out_channels, 320, 1),\n",
    "            nn.BatchNorm2d(320),\n",
    "            nn.ReLU6(),\n",
    "        )\n",
    "        tr = torch.randn(1,6,64,64)\n",
    "        g = self.encoder(tr)\n",
    "        encoder_channels = [1] + [_.shape[1] for _ in g]\n",
    "        decoder_channels = [256, 128, 64, 32, 16]\n",
    "        if segtype == 'unet':\n",
    "            self.decoder = smp.decoders.unetplusplus.decoder.UnetPlusPlusDecoder(\n",
    "                encoder_channels=encoder_channels[:n_blocks+1],\n",
    "                decoder_channels=decoder_channels[:n_blocks],\n",
    "                n_blocks=n_blocks,\n",
    "            )\n",
    "\n",
    "        self.segmentation_head = nn.Conv2d(decoder_channels[n_blocks-1], cfg['num_classes'], kernel_size=(3, 3), stride=(1, 1), padding=(1, 1))\n",
    "\n",
    "    def forward(self,x):\n",
    "        x = F.relu6(self.mybn1(self.conv1(x)))\n",
    "        global_features = [0] + self.encoder(x)[:n_blocks]\n",
    "        seg_features = self.decoder(*global_features)\n",
    "        seg_features = self.segmentation_head(seg_features)\n",
    "        return seg_features\n",
    "    \n",
    "    \n",
    "    \n",
    "def load_model_timmunetplusplus(cfg):\n",
    "    model = TimmSegModel(cfg)\n",
    "    model.load_state_dict(torch.load(cfg['model_pth']))\n",
    "    return model\n",
    "    "
   ]
  },
  {
   "cell_type": "code",
   "execution_count": 22,
   "id": "07bfce0c",
   "metadata": {},
   "outputs": [],
   "source": [
    "def dice_coef(y_true, y_pred, thr=0.5, epsilon=1e-6):\n",
    "    y_true = y_true.to(torch.float32)\n",
    "    y_pred = (y_pred>thr).to(torch.float32)\n",
    "    inter = (y_true*y_pred).sum()\n",
    "    den = y_true.sum() + y_pred.sum()\n",
    "    dice = ((2*inter+epsilon)/(den+epsilon)).mean()\n",
    "    \n",
    "    return dice\n",
    "\n",
    "\n",
    "\n",
    "def get_transform(img_size):\n",
    "    transform = A.Compose([\n",
    "        A.Resize(*img_size, interpolation=cv2.INTER_NEAREST),\n",
    "    ], p=1.0)\n",
    "    return transform"
   ]
  },
  {
   "cell_type": "code",
   "execution_count": 23,
   "id": "646ce6cb",
   "metadata": {},
   "outputs": [],
   "source": [
    "# val_df = pd.read_csv(\"../../input/data_utils/val_df_filled.csv\")\n",
    "# train_df = pd.read_csv(\"../../input/data_utils/train_5_folds.csv\")\n",
    "# val_df = train_df.loc[train_df.fold == 0].reset_index(drop=True)\n",
    "\n",
    "\n",
    "\n",
    "# final_preds = []\n",
    "\n",
    "# for idx, cfg in enumerate(CFGS):\n",
    "#     print(cfg)\n",
    "#     val_transform = get_transform(cfg['img_size'])\n",
    "#     valid_dataset = ContrailDataset(val_df, transform=val_transform)  \n",
    "\n",
    "#     valid_loader = DataLoader(\n",
    "#         valid_dataset, \n",
    "#         batch_size = 32, #32, \n",
    "#         shuffle = False, \n",
    "#         num_workers = 2, \n",
    "#         pin_memory = True, \n",
    "#         drop_last = False\n",
    "#     )\n",
    "\n",
    "#     model = Net(cfg)    \n",
    "#     model = torch.nn.DataParallel(model).cuda()\n",
    "#     model.load_state_dict(torch.load(cfg['model_pth'], map_location=torch.device('cpu'))['model'])\n",
    "#     if cfg['tta']:\n",
    "#         model = tta.SegmentationTTAWrapper(model, tta.aliases.flip_transform(), merge_mode='mean')\n",
    "\n",
    "        \n",
    "#     model.to(device)\n",
    "#     model.eval()\n",
    "    \n",
    "#     preds = []\n",
    "#     masks_ = []\n",
    "    \n",
    "#     for index, (images, masks) in enumerate(tqdm(valid_loader)):  \n",
    "#         images  = images.to(device, dtype=torch.float)\n",
    "#         masks  = masks.to(device, dtype=torch.float)\n",
    "#         if cfg['img_size'][0] != 256:\n",
    "#             masks = torch.nn.functional.interpolate(masks, size=256, mode='nearest')             \n",
    "#         masks_.append(torch.squeeze(masks, dim=1))\n",
    "\n",
    "#         with torch.inference_mode():            \n",
    "#             pred = model(images)                \n",
    "#             pred = pred.sigmoid()\n",
    "        \n",
    "#             if cfg['img_size'][0] != 256:\n",
    "#                 pred = torch.nn.functional.interpolate(pred, size=256, mode='nearest') \n",
    "#             preds.append(torch.squeeze(pred, dim=1))\n",
    "\n",
    "    \n",
    "# #     model_masks = torch.stack(masks_, dim=0)\n",
    "# #     model_preds = torch.stack(preds, dim=0)\n",
    "    \n",
    "#     model_masks = torch.cat(masks_, dim=0)\n",
    "#     model_preds = torch.cat(preds, dim=0)\n",
    "    \n",
    "#     model_masks = torch.flatten(model_masks, start_dim=0, end_dim=1)\n",
    "#     model_preds = torch.flatten(model_preds, start_dim=0, end_dim=1)  \n",
    "#     dice_score = dice_coef(model_masks, model_preds).cpu().detach().numpy() \n",
    "#     dice_score_th = dice_coef(model_masks, model_preds, thr=cfg['threshold']).cpu().detach().numpy() \n",
    "        \n",
    "        \n",
    "        \n",
    "#     best_threshold = 0.0\n",
    "#     best_dice_score = 0.0\n",
    "#     for threshold in [i / 100 for i in range(101)] :        \n",
    "#         score = dice_coef(model_masks, model_preds, thr=threshold).cpu().detach().numpy() \n",
    "#         if score > best_dice_score:\n",
    "#             best_dice_score = score\n",
    "#             best_threshold = threshold\n",
    "    \n",
    "        \n",
    "#     print(best_dice_score, best_threshold)\n",
    "        \n",
    "        \n",
    "# #     print(dice_score, dice_score_th)\n",
    "#     final_preds.append(model_preds)\n",
    "    \n",
    "#     del model\n",
    "#     torch.cuda.empty_cache()\n",
    "#     gc.collect()\n",
    "    "
   ]
  },
  {
   "cell_type": "code",
   "execution_count": 24,
   "id": "7f3a0eb4",
   "metadata": {},
   "outputs": [
    {
     "name": "stdout",
     "output_type": "stream",
     "text": [
      "0 {'model_name': 'Unet', 'backbone': 'efficientnet-b7', 'img_size': [256, 256], 'num_classes': 1, 'model_pth': '../../output/exp_01_s2/Unet/efficientnet-b7-256/checkpoint_dice_fold0.pth', 'threshold': 0.34, 'trained_by': 'rohit', 'tta': True}\n"
     ]
    },
    {
     "data": {
      "application/vnd.jupyter.widget-view+json": {
       "model_id": "52d2828898904d6fabde6fa93962d008",
       "version_major": 2,
       "version_minor": 0
      },
      "text/plain": [
       "  0%|          | 0/58 [00:00<?, ?it/s]"
      ]
     },
     "metadata": {},
     "output_type": "display_data"
    },
    {
     "name": "stdout",
     "output_type": "stream",
     "text": [
      "0.66051435 0.06\n",
      "1 {'model_name': 'Unet', 'backbone': 'efficientnet-b7', 'img_size': [256, 256], 'num_classes': 1, 'model_pth': '../../output/exp_01_s2/Unet/efficientnet-b7-256/checkpoint_dice_fold1.pth', 'threshold': 0.34, 'trained_by': 'rohit', 'tta': True}\n"
     ]
    },
    {
     "data": {
      "application/vnd.jupyter.widget-view+json": {
       "model_id": "82eb4e4a50084c3b8fef7638089ff5ae",
       "version_major": 2,
       "version_minor": 0
      },
      "text/plain": [
       "  0%|          | 0/58 [00:00<?, ?it/s]"
      ]
     },
     "metadata": {},
     "output_type": "display_data"
    },
    {
     "name": "stdout",
     "output_type": "stream",
     "text": [
      "0.6548628 0.1\n",
      "2 {'model_name': 'Unet', 'backbone': 'efficientnet-b7', 'img_size': [256, 256], 'num_classes': 1, 'model_pth': '../../output/exp_01_s2/Unet/efficientnet-b7-256/checkpoint_dice_fold2.pth', 'threshold': 0.34, 'trained_by': 'rohit', 'tta': True}\n"
     ]
    },
    {
     "data": {
      "application/vnd.jupyter.widget-view+json": {
       "model_id": "d8c4532415644aadb7a4e1e8169874e1",
       "version_major": 2,
       "version_minor": 0
      },
      "text/plain": [
       "  0%|          | 0/58 [00:00<?, ?it/s]"
      ]
     },
     "metadata": {},
     "output_type": "display_data"
    },
    {
     "name": "stdout",
     "output_type": "stream",
     "text": [
      "0.65685934 0.17\n",
      "3 {'model_name': 'Unet', 'backbone': 'efficientnet-b7', 'img_size': [256, 256], 'num_classes': 1, 'model_pth': '../../output/exp_01_s2/Unet/efficientnet-b7-256/checkpoint_dice_fold3.pth', 'threshold': 0.34, 'trained_by': 'rohit', 'tta': True}\n"
     ]
    },
    {
     "data": {
      "application/vnd.jupyter.widget-view+json": {
       "model_id": "4b374347976148f8b0a3c8e9e42ae647",
       "version_major": 2,
       "version_minor": 0
      },
      "text/plain": [
       "  0%|          | 0/58 [00:00<?, ?it/s]"
      ]
     },
     "metadata": {},
     "output_type": "display_data"
    },
    {
     "name": "stdout",
     "output_type": "stream",
     "text": [
      "0.6695082 0.09\n",
      "4 {'model_name': 'Unet', 'backbone': 'efficientnet-b7', 'img_size': [256, 256], 'num_classes': 1, 'model_pth': '../../output/exp_01_s2/Unet/efficientnet-b7-256/checkpoint_dice_fold4.pth', 'threshold': 0.34, 'trained_by': 'rohit', 'tta': True}\n"
     ]
    },
    {
     "data": {
      "application/vnd.jupyter.widget-view+json": {
       "model_id": "ba088b25d8254a5d81d4433aef1e694a",
       "version_major": 2,
       "version_minor": 0
      },
      "text/plain": [
       "  0%|          | 0/58 [00:00<?, ?it/s]"
      ]
     },
     "metadata": {},
     "output_type": "display_data"
    },
    {
     "name": "stdout",
     "output_type": "stream",
     "text": [
      "0.6511459 0.08\n"
     ]
    }
   ],
   "source": [
    "val_df = pd.read_csv(\"../../input/data_utils/val_df_filled.csv\")\n",
    "# train_df = pd.read_csv(\"../../input/data_utils/train_5_folds.csv\")\n",
    "# val_df = train_df.loc[train_df.fold == 0].reset_index(drop=True)\n",
    "\n",
    "\n",
    "final_preds = []\n",
    "final_masks = []\n",
    "folds = [0, 1,2,3,4]\n",
    "\n",
    "for idx, cfg in enumerate(CFGS):    \n",
    "    print(idx, cfg) \n",
    "#     val_df = train_df.loc[train_df.fold == folds[idx]].reset_index(drop=True)\n",
    "    val_transform = get_transform(cfg['img_size'])\n",
    "    valid_dataset = ContrailDataset(val_df, transform=val_transform)  \n",
    "\n",
    "    valid_loader = DataLoader(\n",
    "        valid_dataset, \n",
    "        batch_size = 32, #32, \n",
    "        shuffle = False, \n",
    "        num_workers = 2, \n",
    "        pin_memory = True, \n",
    "        drop_last = False\n",
    "    )\n",
    "\n",
    "    \n",
    "    if cfg['trained_by'] == \"nirjhar\":\n",
    "        model = load_model_timmunetplusplus(cfg)\n",
    "        if cfg['tta']: model = tta.SegmentationTTAWrapper(model, tta.aliases.hflip_transform(), merge_mode='mean')\n",
    "    else:\n",
    "        model = Net(cfg)    \n",
    "        model = torch.nn.DataParallel(model).cuda()\n",
    "        model.load_state_dict(torch.load(cfg['model_pth'], map_location=torch.device('cpu'))['model'])\n",
    "        if cfg['tta']: model = tta.SegmentationTTAWrapper(model, tta.aliases.flip_transform(), merge_mode='mean')\n",
    "\n",
    "    \n",
    "    \n",
    "#     if cfg['tta']:\n",
    "# #         model = tta.SegmentationTTAWrapper(model, tta.aliases.flip_transform(), merge_mode='mean')\n",
    "#         model = tta.SegmentationTTAWrapper(model, tta.aliases.hflip_transform(), merge_mode='mean')\n",
    "\n",
    "        \n",
    "    model.to(device)\n",
    "    model.eval()\n",
    "    \n",
    "    preds = []\n",
    "    masks_ = []\n",
    "    \n",
    "    for index, (images, masks) in enumerate(tqdm(valid_loader)):  \n",
    "        images  = images.to(device, dtype=torch.float)\n",
    "        masks  = masks.to(device, dtype=torch.float)\n",
    "        masks = torch.nn.functional.interpolate(masks, size=256, mode='nearest')             \n",
    "        masks_.append(torch.squeeze(masks, dim=1))\n",
    "\n",
    "        with torch.inference_mode():        \n",
    "            images = torch.nn.functional.interpolate(images,size=cfg['img_size'][0], mode='nearest')\n",
    "            pred = model(images)                \n",
    "            pred = torch.nn.functional.interpolate(pred.sigmoid(), size=256, mode='nearest') \n",
    "            preds.append(torch.squeeze(pred, dim=1))\n",
    "\n",
    "    \n",
    "    model_masks = torch.cat(masks_, dim=0)\n",
    "    model_preds = torch.cat(preds, dim=0)\n",
    "    \n",
    "    \n",
    "#     final_preds.append(model_preds)\n",
    "#     final_masks.append(model_masks)\n",
    "    \n",
    "    model_masks = torch.flatten(model_masks, start_dim=0, end_dim=1)\n",
    "    model_preds = torch.flatten(model_preds, start_dim=0, end_dim=1)  \n",
    "    \n",
    "    dice_score = dice_coef(model_masks, model_preds).cpu().detach().numpy() \n",
    "    dice_score_th = dice_coef(model_masks, model_preds, thr=cfg['threshold']).cpu().detach().numpy() \n",
    "        \n",
    "        \n",
    "    best_threshold = 0.0\n",
    "    best_dice_score = 0.0\n",
    "    for threshold in [i / 100 for i in range(101)] :        \n",
    "        score = dice_coef(model_masks, model_preds, thr=threshold).cpu().detach().numpy() \n",
    "        if score > best_dice_score:\n",
    "            best_dice_score = score\n",
    "            best_threshold = threshold\n",
    "    \n",
    "        \n",
    "    print(best_dice_score, best_threshold)\n",
    "                \n",
    "    final_preds.append(model_preds)\n",
    "    \n",
    "    del model\n",
    "    torch.cuda.empty_cache()\n",
    "    gc.collect()"
   ]
  },
  {
   "cell_type": "code",
   "execution_count": 92,
   "id": "003fec1a",
   "metadata": {},
   "outputs": [],
   "source": [
    "# torch.save()\n",
    "\n",
    "# f_preds =  torch.cat(final_preds, dim=0)\n",
    "# f_masks =  torch.cat(final_masks, dim=0)"
   ]
  },
  {
   "cell_type": "code",
   "execution_count": 23,
   "id": "9e6213af",
   "metadata": {},
   "outputs": [
    {
     "name": "stdout",
     "output_type": "stream",
     "text": [
      "torch.Size([3153408, 256]) torch.Size([3153408, 256])\n"
     ]
    }
   ],
   "source": [
    "f_preds = [val.detach().cpu() for val in final_preds]\n",
    "f_masks = [val.detach().cpu() for val in final_masks]\n",
    "\n",
    "f_preds = torch.cat(f_preds, dim=0)\n",
    "f_masks = torch.cat(f_masks, dim=0)\n",
    "\n",
    "f_masks = torch.flatten(f_masks, start_dim=0, end_dim=1)\n",
    "f_preds = torch.flatten(f_preds, start_dim=0, end_dim=1)  \n",
    "    \n",
    "print(f_masks.shape, f_preds.shape)\n",
    "# torch.save(model_preds, f\"../../output/probs/exp_01_s2_preds.pt\")\n",
    "# torch.save(model_preds, f\"../../output/probs/exp_01_s2_masks.pt\")\n",
    "    \n",
    "    "
   ]
  },
  {
   "cell_type": "code",
   "execution_count": null,
   "id": "8ca82b26",
   "metadata": {},
   "outputs": [],
   "source": []
  },
  {
   "cell_type": "code",
   "execution_count": 24,
   "id": "a19eb636",
   "metadata": {},
   "outputs": [
    {
     "name": "stdout",
     "output_type": "stream",
     "text": [
      "0.6966457 0.3\n",
      "0.69670683 0.31\n",
      "0.6967483 0.32\n",
      "0.69675624 0.33\n",
      "0.69678247 0.34\n",
      "0.6968062 0.35\n",
      "0.69682854 0.36\n",
      "0.6968573 0.37\n",
      "0.6968607 0.38\n",
      "0.69684297 0.39\n",
      "0.69684005 0.4\n",
      "0.6968414 0.41\n",
      "0.69683284 0.42\n",
      "0.69681466 0.43\n",
      "0.6967883 0.44\n",
      "0.69675183 0.45\n",
      "0.69672424 0.46\n",
      "0.69664913 0.47\n",
      "0.69659495 0.48\n",
      "0.69658124 0.49\n",
      "0.6965229 0.5\n",
      "0.6964799 0.51\n",
      "0.6964346 0.52\n",
      "0.6963845 0.53\n",
      "0.69632703 0.54\n",
      "0.6962536 0.55\n",
      "0.6961956 0.56\n",
      "0.6961283 0.57\n",
      "0.69606185 0.58\n",
      "0.6959818 0.59\n",
      "0.6958983 0.6\n"
     ]
    }
   ],
   "source": [
    "best_threshold = 0.0\n",
    "best_dice_score = 0.0\n",
    "for threshold in [i / 100 for i in range(101)] : \n",
    "    \n",
    "    if threshold < 0.3 or threshold > 0.6:\n",
    "        continue\n",
    "    score = dice_coef(f_masks, f_preds, thr=threshold).cpu().detach().numpy() \n",
    "    print(score, threshold)\n",
    "    if score > best_dice_score:\n",
    "        best_dice_score = score\n",
    "        best_threshold = threshold"
   ]
  },
  {
   "cell_type": "code",
   "execution_count": 25,
   "id": "eb1b0a05",
   "metadata": {},
   "outputs": [
    {
     "name": "stdout",
     "output_type": "stream",
     "text": [
      "0.6968607 0.38\n"
     ]
    }
   ],
   "source": [
    "# 0.69303155 OOF CV: \n",
    "print(best_dice_score, best_threshold)"
   ]
  },
  {
   "cell_type": "code",
   "execution_count": null,
   "id": "d39a272f",
   "metadata": {},
   "outputs": [],
   "source": []
  },
  {
   "cell_type": "code",
   "execution_count": null,
   "id": "5f0f5840",
   "metadata": {},
   "outputs": [],
   "source": []
  },
  {
   "cell_type": "code",
   "execution_count": null,
   "id": "8d21e1c6",
   "metadata": {},
   "outputs": [],
   "source": []
  },
  {
   "cell_type": "code",
   "execution_count": null,
   "id": "5c74c00d",
   "metadata": {},
   "outputs": [],
   "source": []
  },
  {
   "cell_type": "code",
   "execution_count": null,
   "id": "00291551",
   "metadata": {},
   "outputs": [],
   "source": []
  },
  {
   "cell_type": "code",
   "execution_count": null,
   "id": "58cf6888",
   "metadata": {},
   "outputs": [],
   "source": []
  },
  {
   "cell_type": "code",
   "execution_count": null,
   "id": "5b4eff65",
   "metadata": {},
   "outputs": [],
   "source": []
  },
  {
   "cell_type": "code",
   "execution_count": null,
   "id": "eef7238c",
   "metadata": {},
   "outputs": [],
   "source": []
  },
  {
   "cell_type": "code",
   "execution_count": null,
   "id": "7f313316",
   "metadata": {},
   "outputs": [],
   "source": []
  },
  {
   "cell_type": "code",
   "execution_count": 25,
   "id": "e1d72a60",
   "metadata": {},
   "outputs": [],
   "source": [
    "def boost_dice(params):    \n",
    "    for index, val in enumerate(params.keys()):\n",
    "        if index == 0:\n",
    "            preds = params[val]*final_preds[0]\n",
    "        else:\n",
    "            preds += params[val]*final_preds[index]\n",
    "    \n",
    "    \n",
    "    param_sum = 0\n",
    "    for key, val in params.items():\n",
    "        param_sum += val\n",
    "\n",
    "    preds = preds/param_sum\n",
    "    \n",
    "    \n",
    "#     threshold = 0.2\n",
    "#     preds1 = (nn.Sigmoid()(preds)>threshold).double()            \n",
    "#     score = dice_coef(model_masks, preds1, thr=threshold).cpu().detach().numpy() # get_score(labels, preds) \n",
    "    best_threshold = 0.0\n",
    "    best_score = 0.0\n",
    "    for threshold in [i / 100 for i in range(101)] :\n",
    "#         if threshold < 0.05 and threshold > 0.25:\n",
    "#             continue\n",
    "    \n",
    "        preds1 = (nn.Sigmoid()(preds)>threshold).double()            \n",
    "        score = dice_coef(model_masks, preds1, thr=threshold).cpu().detach().numpy() # get_score(labels, preds) \n",
    "        if score > best_score:\n",
    "            best_score = score\n",
    "            best_threshold = threshold\n",
    "            \n",
    "#     best_score = score\n",
    "#     best_threshold = threshold\n",
    "    return best_score, best_threshold"
   ]
  },
  {
   "cell_type": "code",
   "execution_count": null,
   "id": "8fda1d51",
   "metadata": {},
   "outputs": [
    {
     "name": "stderr",
     "output_type": "stream",
     "text": [
      "[I 2023-06-23 17:23:12,865] A new study created in memory with name: no-name-a83031ff-3635-4947-9787-a73741328b2d\n",
      "[I 2023-06-23 17:23:13,884] Trial 0 finished with value: 0.6728224754333496 and parameters: {'w1': 0.5263489576806384, 'w2': 0.5401070011464193, 'w3': 0.5002588074225209, 'w4': 0.8854920932332829, 'w5': 0.004358138563699043}. Best is trial 0 with value: 0.6728224754333496.\n"
     ]
    },
    {
     "name": "stdout",
     "output_type": "stream",
     "text": [
      "{'w1': 0.5263489576806384, 'w2': 0.5401070011464193, 'w3': 0.5002588074225209, 'w4': 0.8854920932332829, 'w5': 0.004358138563699043, 'threshold': 0.57}\n"
     ]
    },
    {
     "name": "stderr",
     "output_type": "stream",
     "text": [
      "[I 2023-06-23 17:23:14,883] Trial 1 finished with value: 0.6678371429443359 and parameters: {'w1': 0.06518929132044748, 'w2': 0.322500529281845, 'w3': 0.7156410573572994, 'w4': 0.5680411722025713, 'w5': 0.06616602852006515}. Best is trial 0 with value: 0.6728224754333496.\n"
     ]
    },
    {
     "name": "stdout",
     "output_type": "stream",
     "text": [
      "{'w1': 0.06518929132044748, 'w2': 0.322500529281845, 'w3': 0.7156410573572994, 'w4': 0.5680411722025713, 'w5': 0.06616602852006515, 'threshold': 0.57}\n"
     ]
    },
    {
     "name": "stderr",
     "output_type": "stream",
     "text": [
      "[I 2023-06-23 17:23:15,883] Trial 2 finished with value: 0.66880202293396 and parameters: {'w1': 0.6367271099469415, 'w2': 0.2910538986449732, 'w3': 0.2823034120728968, 'w4': 0.12433232862962373, 'w5': 0.3341108878997143}. Best is trial 0 with value: 0.6728224754333496.\n"
     ]
    },
    {
     "name": "stdout",
     "output_type": "stream",
     "text": [
      "{'w1': 0.6367271099469415, 'w2': 0.2910538986449732, 'w3': 0.2823034120728968, 'w4': 0.12433232862962373, 'w5': 0.3341108878997143, 'threshold': 0.56}\n"
     ]
    },
    {
     "name": "stderr",
     "output_type": "stream",
     "text": [
      "[I 2023-06-23 17:23:16,881] Trial 3 finished with value: 0.6691184639930725 and parameters: {'w1': 0.8785340135843975, 'w2': 0.21520946158739618, 'w3': 0.6441881974568047, 'w4': 0.27563765272456964, 'w5': 0.6888049706777576}. Best is trial 0 with value: 0.6728224754333496.\n"
     ]
    },
    {
     "name": "stdout",
     "output_type": "stream",
     "text": [
      "{'w1': 0.8785340135843975, 'w2': 0.21520946158739618, 'w3': 0.6441881974568047, 'w4': 0.27563765272456964, 'w5': 0.6888049706777576, 'threshold': 0.57}\n"
     ]
    },
    {
     "name": "stderr",
     "output_type": "stream",
     "text": [
      "[I 2023-06-23 17:23:17,880] Trial 4 finished with value: 0.6691573858261108 and parameters: {'w1': 0.9393148929581687, 'w2': 0.8772195008714699, 'w3': 0.12165176533779642, 'w4': 0.6648458487745649, 'w5': 0.6832689422126601}. Best is trial 0 with value: 0.6728224754333496.\n"
     ]
    },
    {
     "name": "stdout",
     "output_type": "stream",
     "text": [
      "{'w1': 0.9393148929581687, 'w2': 0.8772195008714699, 'w3': 0.12165176533779642, 'w4': 0.6648458487745649, 'w5': 0.6832689422126601, 'threshold': 0.57}\n"
     ]
    },
    {
     "name": "stderr",
     "output_type": "stream",
     "text": [
      "[I 2023-06-23 17:23:18,879] Trial 5 finished with value: 0.6699059009552002 and parameters: {'w1': 0.15847065980236996, 'w2': 0.2134095793581, 'w3': 0.6038939889078077, 'w4': 0.7318133322939708, 'w5': 0.7544595708533243}. Best is trial 0 with value: 0.6728224754333496.\n"
     ]
    },
    {
     "name": "stdout",
     "output_type": "stream",
     "text": [
      "{'w1': 0.15847065980236996, 'w2': 0.2134095793581, 'w3': 0.6038939889078077, 'w4': 0.7318133322939708, 'w5': 0.7544595708533243, 'threshold': 0.58}\n"
     ]
    },
    {
     "name": "stderr",
     "output_type": "stream",
     "text": [
      "[I 2023-06-23 17:23:19,878] Trial 6 finished with value: 0.6672227382659912 and parameters: {'w1': 0.8694373146648698, 'w2': 0.30510854896173856, 'w3': 0.7508534020963318, 'w4': 0.06239378017377517, 'w5': 0.5311448098305723}. Best is trial 0 with value: 0.6728224754333496.\n"
     ]
    },
    {
     "name": "stdout",
     "output_type": "stream",
     "text": [
      "{'w1': 0.8694373146648698, 'w2': 0.30510854896173856, 'w3': 0.7508534020963318, 'w4': 0.06239378017377517, 'w5': 0.5311448098305723, 'threshold': 0.58}\n"
     ]
    },
    {
     "name": "stderr",
     "output_type": "stream",
     "text": [
      "[I 2023-06-23 17:23:20,877] Trial 7 finished with value: 0.6667138934135437 and parameters: {'w1': 0.3656212686787502, 'w2': 0.32628394964842944, 'w3': 0.058475783970908135, 'w4': 0.2581883417623093, 'w5': 0.6151090617805925}. Best is trial 0 with value: 0.6728224754333496.\n"
     ]
    },
    {
     "name": "stdout",
     "output_type": "stream",
     "text": [
      "{'w1': 0.3656212686787502, 'w2': 0.32628394964842944, 'w3': 0.058475783970908135, 'w4': 0.2581883417623093, 'w5': 0.6151090617805925, 'threshold': 0.56}\n"
     ]
    },
    {
     "name": "stderr",
     "output_type": "stream",
     "text": [
      "[I 2023-06-23 17:23:21,876] Trial 8 finished with value: 0.6685842871665955 and parameters: {'w1': 0.9260054861231746, 'w2': 0.26748202812119315, 'w3': 0.5234465999197315, 'w4': 0.31921229063993206, 'w5': 0.806990513270625}. Best is trial 0 with value: 0.6728224754333496.\n"
     ]
    },
    {
     "name": "stdout",
     "output_type": "stream",
     "text": [
      "{'w1': 0.9260054861231746, 'w2': 0.26748202812119315, 'w3': 0.5234465999197315, 'w4': 0.31921229063993206, 'w5': 0.806990513270625, 'threshold': 0.57}\n"
     ]
    },
    {
     "name": "stderr",
     "output_type": "stream",
     "text": [
      "[I 2023-06-23 17:23:22,875] Trial 9 finished with value: 0.6704791188240051 and parameters: {'w1': 0.7989572158376446, 'w2': 0.2629522692239227, 'w3': 0.41306783602621366, 'w4': 0.4689661772124851, 'w5': 0.5014747048423575}. Best is trial 0 with value: 0.6728224754333496.\n"
     ]
    },
    {
     "name": "stdout",
     "output_type": "stream",
     "text": [
      "{'w1': 0.7989572158376446, 'w2': 0.2629522692239227, 'w3': 0.41306783602621366, 'w4': 0.4689661772124851, 'w5': 0.5014747048423575, 'threshold': 0.58}\n"
     ]
    },
    {
     "name": "stderr",
     "output_type": "stream",
     "text": [
      "[I 2023-06-23 17:23:23,894] Trial 10 finished with value: 0.6717749834060669 and parameters: {'w1': 0.5343475456486646, 'w2': 0.6529615059015657, 'w3': 0.9545578662533978, 'w4': 0.9954027400902911, 'w5': 0.018527048653015292}. Best is trial 0 with value: 0.6728224754333496.\n"
     ]
    },
    {
     "name": "stdout",
     "output_type": "stream",
     "text": [
      "{'w1': 0.5343475456486646, 'w2': 0.6529615059015657, 'w3': 0.9545578662533978, 'w4': 0.9954027400902911, 'w5': 0.018527048653015292, 'threshold': 0.58}\n"
     ]
    },
    {
     "name": "stderr",
     "output_type": "stream",
     "text": [
      "[I 2023-06-23 17:23:24,915] Trial 11 finished with value: 0.6716498136520386 and parameters: {'w1': 0.486701066320933, 'w2': 0.6349329553168969, 'w3': 0.9320897218471246, 'w4': 0.9557639543080503, 'w5': 0.004137382264164824}. Best is trial 0 with value: 0.6728224754333496.\n"
     ]
    },
    {
     "name": "stdout",
     "output_type": "stream",
     "text": [
      "{'w1': 0.486701066320933, 'w2': 0.6349329553168969, 'w3': 0.9320897218471246, 'w4': 0.9557639543080503, 'w5': 0.004137382264164824, 'threshold': 0.58}\n"
     ]
    },
    {
     "name": "stderr",
     "output_type": "stream",
     "text": [
      "[I 2023-06-23 17:23:25,933] Trial 12 finished with value: 0.6715413928031921 and parameters: {'w1': 0.6106247695487523, 'w2': 0.5721064955863526, 'w3': 0.9876692465221311, 'w4': 0.9996661150192468, 'w5': 0.19673053884124647}. Best is trial 0 with value: 0.6728224754333496.\n"
     ]
    },
    {
     "name": "stdout",
     "output_type": "stream",
     "text": [
      "{'w1': 0.6106247695487523, 'w2': 0.5721064955863526, 'w3': 0.9876692465221311, 'w4': 0.9996661150192468, 'w5': 0.19673053884124647, 'threshold': 0.58}\n"
     ]
    },
    {
     "name": "stderr",
     "output_type": "stream",
     "text": [
      "[I 2023-06-23 17:23:26,955] Trial 13 finished with value: 0.6713835000991821 and parameters: {'w1': 0.3635387509122939, 'w2': 0.676374336657261, 'w3': 0.8161854787916403, 'w4': 0.8482626481909359, 'w5': 0.2156223961707403}. Best is trial 0 with value: 0.6728224754333496.\n"
     ]
    },
    {
     "name": "stdout",
     "output_type": "stream",
     "text": [
      "{'w1': 0.3635387509122939, 'w2': 0.676374336657261, 'w3': 0.8161854787916403, 'w4': 0.8482626481909359, 'w5': 0.2156223961707403, 'threshold': 0.58}\n"
     ]
    },
    {
     "name": "stderr",
     "output_type": "stream",
     "text": [
      "[I 2023-06-23 17:23:27,977] Trial 14 finished with value: 0.6708361506462097 and parameters: {'w1': 0.7003260982828039, 'w2': 0.042836416228855145, 'w3': 0.8690994958398816, 'w4': 0.8476751444938744, 'w5': 0.021550986220221377}. Best is trial 0 with value: 0.6728224754333496.\n"
     ]
    },
    {
     "name": "stdout",
     "output_type": "stream",
     "text": [
      "{'w1': 0.7003260982828039, 'w2': 0.042836416228855145, 'w3': 0.8690994958398816, 'w4': 0.8476751444938744, 'w5': 0.021550986220221377, 'threshold': 0.59}\n"
     ]
    },
    {
     "name": "stderr",
     "output_type": "stream",
     "text": [
      "[I 2023-06-23 17:23:29,000] Trial 15 finished with value: 0.6700233221054077 and parameters: {'w1': 0.526082394515193, 'w2': 0.49016893508963305, 'w3': 0.42218253247766097, 'w4': 0.8715323612043882, 'w5': 0.9955829212158906}. Best is trial 0 with value: 0.6728224754333496.\n"
     ]
    },
    {
     "name": "stdout",
     "output_type": "stream",
     "text": [
      "{'w1': 0.526082394515193, 'w2': 0.49016893508963305, 'w3': 0.42218253247766097, 'w4': 0.8715323612043882, 'w5': 0.9955829212158906, 'threshold': 0.56}\n"
     ]
    },
    {
     "name": "stderr",
     "output_type": "stream",
     "text": [
      "[I 2023-06-23 17:23:30,020] Trial 16 finished with value: 0.671535074710846 and parameters: {'w1': 0.7218579150394413, 'w2': 0.7563407611364376, 'w3': 0.9924650482993214, 'w4': 0.9835575817814162, 'w5': 0.3534065663462753}. Best is trial 0 with value: 0.6728224754333496.\n"
     ]
    },
    {
     "name": "stdout",
     "output_type": "stream",
     "text": [
      "{'w1': 0.7218579150394413, 'w2': 0.7563407611364376, 'w3': 0.9924650482993214, 'w4': 0.9835575817814162, 'w5': 0.3534065663462753, 'threshold': 0.58}\n"
     ]
    },
    {
     "name": "stderr",
     "output_type": "stream",
     "text": [
      "[I 2023-06-23 17:23:31,038] Trial 17 finished with value: 0.6707318425178528 and parameters: {'w1': 0.4238929344675051, 'w2': 0.929746682263155, 'w3': 0.7955526476158938, 'w4': 0.7808454626294685, 'w5': 0.12520700710378477}. Best is trial 0 with value: 0.6728224754333496.\n"
     ]
    },
    {
     "name": "stdout",
     "output_type": "stream",
     "text": [
      "{'w1': 0.4238929344675051, 'w2': 0.929746682263155, 'w3': 0.7955526476158938, 'w4': 0.7808454626294685, 'w5': 0.12520700710378477, 'threshold': 0.58}\n"
     ]
    },
    {
     "name": "stderr",
     "output_type": "stream",
     "text": [
      "[I 2023-06-23 17:23:32,059] Trial 18 finished with value: 0.6696289777755737 and parameters: {'w1': 0.27351277299738486, 'w2': 0.5025627706545079, 'w3': 0.8777109669365357, 'w4': 0.6884655309341231, 'w5': 0.14317748426706964}. Best is trial 0 with value: 0.6728224754333496.\n"
     ]
    },
    {
     "name": "stdout",
     "output_type": "stream",
     "text": [
      "{'w1': 0.27351277299738486, 'w2': 0.5025627706545079, 'w3': 0.8777109669365357, 'w4': 0.6884655309341231, 'w5': 0.14317748426706964, 'threshold': 0.59}\n"
     ]
    },
    {
     "name": "stderr",
     "output_type": "stream",
     "text": [
      "[I 2023-06-23 17:23:33,081] Trial 19 finished with value: 0.6721066236495972 and parameters: {'w1': 0.54216303555373, 'w2': 0.7576683253381449, 'w3': 0.6979305182478966, 'w4': 0.917566485686568, 'w5': 0.2710948410653436}. Best is trial 0 with value: 0.6728224754333496.\n"
     ]
    },
    {
     "name": "stdout",
     "output_type": "stream",
     "text": [
      "{'w1': 0.54216303555373, 'w2': 0.7576683253381449, 'w3': 0.6979305182478966, 'w4': 0.917566485686568, 'w5': 0.2710948410653436, 'threshold': 0.57}\n"
     ]
    },
    {
     "name": "stderr",
     "output_type": "stream",
     "text": [
      "[I 2023-06-23 17:23:34,100] Trial 20 finished with value: 0.6704148054122925 and parameters: {'w1': 0.26163617996068456, 'w2': 0.8083210471459752, 'w3': 0.6558987186683923, 'w4': 0.632708543551745, 'w5': 0.2969839589908532}. Best is trial 0 with value: 0.6728224754333496.\n"
     ]
    },
    {
     "name": "stdout",
     "output_type": "stream",
     "text": [
      "{'w1': 0.26163617996068456, 'w2': 0.8083210471459752, 'w3': 0.6558987186683923, 'w4': 0.632708543551745, 'w5': 0.2969839589908532, 'threshold': 0.58}\n"
     ]
    },
    {
     "name": "stderr",
     "output_type": "stream",
     "text": [
      "[I 2023-06-23 17:23:35,118] Trial 21 finished with value: 0.6729365587234497 and parameters: {'w1': 0.5390212423754562, 'w2': 0.7268077016088583, 'w3': 0.5517766520025135, 'w4': 0.9147547252632016, 'w5': 0.0009912804455489712}. Best is trial 21 with value: 0.6729365587234497.\n"
     ]
    },
    {
     "name": "stdout",
     "output_type": "stream",
     "text": [
      "{'w1': 0.5390212423754562, 'w2': 0.7268077016088583, 'w3': 0.5517766520025135, 'w4': 0.9147547252632016, 'w5': 0.0009912804455489712, 'threshold': 0.58}\n"
     ]
    },
    {
     "name": "stderr",
     "output_type": "stream",
     "text": [
      "[I 2023-06-23 17:23:36,136] Trial 22 finished with value: 0.6709456443786621 and parameters: {'w1': 0.5923230151197022, 'w2': 0.9744563872999527, 'w3': 0.5587469262661771, 'w4': 0.7831855402031558, 'w5': 0.11028865335653554}. Best is trial 21 with value: 0.6729365587234497.\n"
     ]
    },
    {
     "name": "stdout",
     "output_type": "stream",
     "text": [
      "{'w1': 0.5923230151197022, 'w2': 0.9744563872999527, 'w3': 0.5587469262661771, 'w4': 0.7831855402031558, 'w5': 0.11028865335653554, 'threshold': 0.59}\n"
     ]
    },
    {
     "name": "stderr",
     "output_type": "stream",
     "text": [
      "[I 2023-06-23 17:23:37,156] Trial 23 finished with value: 0.6723240613937378 and parameters: {'w1': 0.45592553950411596, 'w2': 0.7622658946510479, 'w3': 0.4805629331125542, 'w4': 0.8991061223344147, 'w5': 0.2112196818689349}. Best is trial 21 with value: 0.6729365587234497.\n"
     ]
    },
    {
     "name": "stdout",
     "output_type": "stream",
     "text": [
      "{'w1': 0.45592553950411596, 'w2': 0.7622658946510479, 'w3': 0.4805629331125542, 'w4': 0.8991061223344147, 'w5': 0.2112196818689349, 'threshold': 0.58}\n"
     ]
    },
    {
     "name": "stderr",
     "output_type": "stream",
     "text": [
      "[I 2023-06-23 17:23:38,176] Trial 24 finished with value: 0.6713797450065613 and parameters: {'w1': 0.4334672964297829, 'w2': 0.8668896264059222, 'w3': 0.46295790706987605, 'w4': 0.8513439935475733, 'w5': 0.1022756488868168}. Best is trial 21 with value: 0.6729365587234497.\n"
     ]
    },
    {
     "name": "stdout",
     "output_type": "stream",
     "text": [
      "{'w1': 0.4334672964297829, 'w2': 0.8668896264059222, 'w3': 0.46295790706987605, 'w4': 0.8513439935475733, 'w5': 0.1022756488868168, 'threshold': 0.58}\n"
     ]
    },
    {
     "name": "stderr",
     "output_type": "stream",
     "text": [
      "[I 2023-06-23 17:23:39,196] Trial 25 finished with value: 0.6725461483001709 and parameters: {'w1': 0.4640178287465595, 'w2': 0.7308487321053317, 'w3': 0.5225548644427864, 'w4': 0.9029546022408074, 'w5': 0.1882073490246417}. Best is trial 21 with value: 0.6729365587234497.\n"
     ]
    },
    {
     "name": "stdout",
     "output_type": "stream",
     "text": [
      "{'w1': 0.4640178287465595, 'w2': 0.7308487321053317, 'w3': 0.5225548644427864, 'w4': 0.9029546022408074, 'w5': 0.1882073490246417, 'threshold': 0.58}\n"
     ]
    },
    {
     "name": "stderr",
     "output_type": "stream",
     "text": [
      "[I 2023-06-23 17:23:40,218] Trial 26 finished with value: 0.6725866794586182 and parameters: {'w1': 0.6502990401027561, 'w2': 0.5584858994611754, 'w3': 0.5699597209138655, 'w4': 0.7722061953844653, 'w5': 0.004827425943329332}. Best is trial 21 with value: 0.6729365587234497.\n"
     ]
    },
    {
     "name": "stdout",
     "output_type": "stream",
     "text": [
      "{'w1': 0.6502990401027561, 'w2': 0.5584858994611754, 'w3': 0.5699597209138655, 'w4': 0.7722061953844653, 'w5': 0.004827425943329332, 'threshold': 0.57}\n"
     ]
    },
    {
     "name": "stderr",
     "output_type": "stream",
     "text": [
      "[I 2023-06-23 17:23:41,239] Trial 27 finished with value: 0.6724996566772461 and parameters: {'w1': 0.66820089360704, 'w2': 0.5548974998453253, 'w3': 0.5941521013888458, 'w4': 0.7811136226879674, 'w5': 0.002171733957321842}. Best is trial 21 with value: 0.6729365587234497.\n"
     ]
    },
    {
     "name": "stdout",
     "output_type": "stream",
     "text": [
      "{'w1': 0.66820089360704, 'w2': 0.5548974998453253, 'w3': 0.5941521013888458, 'w4': 0.7811136226879674, 'w5': 0.002171733957321842, 'threshold': 0.57}\n"
     ]
    },
    {
     "name": "stderr",
     "output_type": "stream",
     "text": [
      "[I 2023-06-23 17:23:42,259] Trial 28 finished with value: 0.672466516494751 and parameters: {'w1': 0.745215794354471, 'w2': 0.4828813950262024, 'w3': 0.31552749608237, 'w4': 0.7383379363726639, 'w5': 0.07608608279795526}. Best is trial 21 with value: 0.6729365587234497.\n"
     ]
    },
    {
     "name": "stdout",
     "output_type": "stream",
     "text": [
      "{'w1': 0.745215794354471, 'w2': 0.4828813950262024, 'w3': 0.31552749608237, 'w4': 0.7383379363726639, 'w5': 0.07608608279795526, 'threshold': 0.57}\n"
     ]
    },
    {
     "name": "stderr",
     "output_type": "stream",
     "text": [
      "[I 2023-06-23 17:23:43,279] Trial 29 finished with value: 0.6711280345916748 and parameters: {'w1': 0.5948797560293291, 'w2': 0.44588299977149204, 'w3': 0.6991476093821509, 'w4': 0.5477153591092332, 'w5': 0.06690706630002408}. Best is trial 21 with value: 0.6729365587234497.\n"
     ]
    },
    {
     "name": "stdout",
     "output_type": "stream",
     "text": [
      "{'w1': 0.5948797560293291, 'w2': 0.44588299977149204, 'w3': 0.6991476093821509, 'w4': 0.5477153591092332, 'w5': 0.06690706630002408, 'threshold': 0.58}\n"
     ]
    },
    {
     "name": "stderr",
     "output_type": "stream",
     "text": [
      "[I 2023-06-23 17:23:44,299] Trial 30 finished with value: 0.671148955821991 and parameters: {'w1': 0.7869332586974952, 'w2': 0.6223005748078652, 'w3': 0.5735223810093137, 'w4': 0.613847744017008, 'w5': 0.3982413223037528}. Best is trial 21 with value: 0.6729365587234497.\n"
     ]
    },
    {
     "name": "stdout",
     "output_type": "stream",
     "text": [
      "{'w1': 0.7869332586974952, 'w2': 0.6223005748078652, 'w3': 0.5735223810093137, 'w4': 0.613847744017008, 'w5': 0.3982413223037528, 'threshold': 0.57}\n"
     ]
    },
    {
     "name": "stderr",
     "output_type": "stream",
     "text": [
      "[I 2023-06-23 17:23:45,319] Trial 31 finished with value: 0.6728251576423645 and parameters: {'w1': 0.5637839514026264, 'w2': 0.6975422874924521, 'w3': 0.5158585689685201, 'w4': 0.9211443917378276, 'w5': 0.15748106220183827}. Best is trial 21 with value: 0.6729365587234497.\n"
     ]
    },
    {
     "name": "stdout",
     "output_type": "stream",
     "text": [
      "{'w1': 0.5637839514026264, 'w2': 0.6975422874924521, 'w3': 0.5158585689685201, 'w4': 0.9211443917378276, 'w5': 0.15748106220183827, 'threshold': 0.58}\n"
     ]
    },
    {
     "name": "stderr",
     "output_type": "stream",
     "text": [
      "[I 2023-06-23 17:23:46,340] Trial 32 finished with value: 0.6725139021873474 and parameters: {'w1': 0.6452575604005925, 'w2': 0.7031973191444238, 'w3': 0.6444718834294685, 'w4': 0.9098795445208364, 'w5': 0.06905863793051843}. Best is trial 21 with value: 0.6729365587234497.\n"
     ]
    },
    {
     "name": "stdout",
     "output_type": "stream",
     "text": [
      "{'w1': 0.6452575604005925, 'w2': 0.7031973191444238, 'w3': 0.6444718834294685, 'w4': 0.9098795445208364, 'w5': 0.06905863793051843, 'threshold': 0.57}\n"
     ]
    },
    {
     "name": "stderr",
     "output_type": "stream",
     "text": [
      "[I 2023-06-23 17:23:47,360] Trial 33 finished with value: 0.6729087829589844 and parameters: {'w1': 0.6696599773357337, 'w2': 0.5890589843269359, 'w3': 0.40133171482663776, 'w4': 0.9391271571251928, 'w5': 0.1453125542928886}. Best is trial 21 with value: 0.6729365587234497.\n"
     ]
    },
    {
     "name": "stdout",
     "output_type": "stream",
     "text": [
      "{'w1': 0.6696599773357337, 'w2': 0.5890589843269359, 'w3': 0.40133171482663776, 'w4': 0.9391271571251928, 'w5': 0.1453125542928886, 'threshold': 0.58}\n"
     ]
    },
    {
     "name": "stderr",
     "output_type": "stream",
     "text": [
      "[I 2023-06-23 17:23:48,380] Trial 34 finished with value: 0.6729422807693481 and parameters: {'w1': 0.5603904416609505, 'w2': 0.6021600018503784, 'w3': 0.36100951387133906, 'w4': 0.9478447479109078, 'w5': 0.1445171349030078}. Best is trial 34 with value: 0.6729422807693481.\n"
     ]
    },
    {
     "name": "stdout",
     "output_type": "stream",
     "text": [
      "{'w1': 0.5603904416609505, 'w2': 0.6021600018503784, 'w3': 0.36100951387133906, 'w4': 0.9478447479109078, 'w5': 0.1445171349030078, 'threshold': 0.58}\n"
     ]
    },
    {
     "name": "stderr",
     "output_type": "stream",
     "text": [
      "[I 2023-06-23 17:23:49,399] Trial 35 finished with value: 0.6725573539733887 and parameters: {'w1': 0.576674108811219, 'w2': 0.6792704671025497, 'w3': 0.35047816038145035, 'w4': 0.9401223115453453, 'w5': 0.2608757928682723}. Best is trial 34 with value: 0.6729422807693481.\n"
     ]
    },
    {
     "name": "stdout",
     "output_type": "stream",
     "text": [
      "{'w1': 0.576674108811219, 'w2': 0.6792704671025497, 'w3': 0.35047816038145035, 'w4': 0.9401223115453453, 'w5': 0.2608757928682723, 'threshold': 0.58}\n"
     ]
    },
    {
     "name": "stderr",
     "output_type": "stream",
     "text": [
      "[I 2023-06-23 17:23:50,419] Trial 36 finished with value: 0.6728371977806091 and parameters: {'w1': 0.5500603199174459, 'w2': 0.6014188436823554, 'w3': 0.2254196642840749, 'w4': 0.8313261351453299, 'w5': 0.14375078240769104}. Best is trial 34 with value: 0.6729422807693481.\n"
     ]
    },
    {
     "name": "stdout",
     "output_type": "stream",
     "text": [
      "{'w1': 0.5500603199174459, 'w2': 0.6014188436823554, 'w3': 0.2254196642840749, 'w4': 0.8313261351453299, 'w5': 0.14375078240769104, 'threshold': 0.58}\n"
     ]
    },
    {
     "name": "stderr",
     "output_type": "stream",
     "text": [
      "[I 2023-06-23 17:23:51,439] Trial 37 finished with value: 0.672946035861969 and parameters: {'w1': 0.6645433394066338, 'w2': 0.5859333211113847, 'w3': 0.2472043644883045, 'w4': 0.8237468557511217, 'w5': 0.10215643673037858}. Best is trial 37 with value: 0.672946035861969.\n"
     ]
    },
    {
     "name": "stdout",
     "output_type": "stream",
     "text": [
      "{'w1': 0.6645433394066338, 'w2': 0.5859333211113847, 'w3': 0.2472043644883045, 'w4': 0.8237468557511217, 'w5': 0.10215643673037858, 'threshold': 0.58}\n"
     ]
    },
    {
     "name": "stderr",
     "output_type": "stream",
     "text": [
      "[I 2023-06-23 17:23:52,460] Trial 38 finished with value: 0.6728718280792236 and parameters: {'w1': 0.686001249652137, 'w2': 0.6105909359667744, 'w3': 0.1867052959316917, 'w4': 0.9533990540839643, 'w5': 0.08625375915814881}. Best is trial 37 with value: 0.672946035861969.\n"
     ]
    },
    {
     "name": "stdout",
     "output_type": "stream",
     "text": [
      "{'w1': 0.686001249652137, 'w2': 0.6105909359667744, 'w3': 0.1867052959316917, 'w4': 0.9533990540839643, 'w5': 0.08625375915814881, 'threshold': 0.58}\n"
     ]
    },
    {
     "name": "stderr",
     "output_type": "stream",
     "text": [
      "[I 2023-06-23 17:23:53,481] Trial 39 finished with value: 0.6727620363235474 and parameters: {'w1': 0.6283095743554684, 'w2': 0.42204285233067873, 'w3': 0.37030502593912373, 'w4': 0.8108306102094657, 'w5': 0.23798114368730616}. Best is trial 37 with value: 0.672946035861969.\n"
     ]
    },
    {
     "name": "stdout",
     "output_type": "stream",
     "text": [
      "{'w1': 0.6283095743554684, 'w2': 0.42204285233067873, 'w3': 0.37030502593912373, 'w4': 0.8108306102094657, 'w5': 0.23798114368730616, 'threshold': 0.58}\n"
     ]
    },
    {
     "name": "stderr",
     "output_type": "stream",
     "text": [
      "[I 2023-06-23 17:23:54,501] Trial 40 finished with value: 0.6721886396408081 and parameters: {'w1': 0.764809101329261, 'w2': 0.5351099480999562, 'w3': 0.2809442119694526, 'w4': 0.715904426580207, 'w5': 0.19441267455114183}. Best is trial 37 with value: 0.672946035861969.\n"
     ]
    },
    {
     "name": "stdout",
     "output_type": "stream",
     "text": [
      "{'w1': 0.764809101329261, 'w2': 0.5351099480999562, 'w3': 0.2809442119694526, 'w4': 0.715904426580207, 'w5': 0.19441267455114183, 'threshold': 0.57}\n"
     ]
    },
    {
     "name": "stderr",
     "output_type": "stream",
     "text": [
      "[I 2023-06-23 17:23:55,522] Trial 41 finished with value: 0.6729015111923218 and parameters: {'w1': 0.6952035164824169, 'w2': 0.611407661146381, 'w3': 0.20383428600097914, 'w4': 0.9745195166360723, 'w5': 0.08116917230851249}. Best is trial 37 with value: 0.672946035861969.\n"
     ]
    },
    {
     "name": "stdout",
     "output_type": "stream",
     "text": [
      "{'w1': 0.6952035164824169, 'w2': 0.611407661146381, 'w3': 0.20383428600097914, 'w4': 0.9745195166360723, 'w5': 0.08116917230851249, 'threshold': 0.58}\n"
     ]
    },
    {
     "name": "stderr",
     "output_type": "stream",
     "text": [
      "[I 2023-06-23 17:23:56,542] Trial 42 finished with value: 0.672981858253479 and parameters: {'w1': 0.7054162426105572, 'w2': 0.6069269083720573, 'w3': 0.2555115010351254, 'w4': 0.8793479450364659, 'w5': 0.056629351660541366}. Best is trial 42 with value: 0.672981858253479.\n"
     ]
    },
    {
     "name": "stdout",
     "output_type": "stream",
     "text": [
      "{'w1': 0.7054162426105572, 'w2': 0.6069269083720573, 'w3': 0.2555115010351254, 'w4': 0.8793479450364659, 'w5': 0.056629351660541366, 'threshold': 0.58}\n"
     ]
    },
    {
     "name": "stderr",
     "output_type": "stream",
     "text": [
      "[I 2023-06-23 17:23:57,562] Trial 43 finished with value: 0.6725873351097107 and parameters: {'w1': 0.8215969712824956, 'w2': 0.6664012105311028, 'w3': 0.28323939064576903, 'w4': 0.8715580576986693, 'w5': 0.1663347272149674}. Best is trial 42 with value: 0.672981858253479.\n"
     ]
    },
    {
     "name": "stdout",
     "output_type": "stream",
     "text": [
      "{'w1': 0.8215969712824956, 'w2': 0.6664012105311028, 'w3': 0.28323939064576903, 'w4': 0.8715580576986693, 'w5': 0.1663347272149674, 'threshold': 0.58}\n"
     ]
    },
    {
     "name": "stderr",
     "output_type": "stream",
     "text": [
      "[I 2023-06-23 17:23:58,583] Trial 44 finished with value: 0.6728895902633667 and parameters: {'w1': 0.7192117105847124, 'w2': 0.5803272744578041, 'w3': 0.40458386932775803, 'w4': 0.9437180983675771, 'w5': 0.045736411719993805}. Best is trial 42 with value: 0.672981858253479.\n"
     ]
    },
    {
     "name": "stdout",
     "output_type": "stream",
     "text": [
      "{'w1': 0.7192117105847124, 'w2': 0.5803272744578041, 'w3': 0.40458386932775803, 'w4': 0.9437180983675771, 'w5': 0.045736411719993805, 'threshold': 0.58}\n"
     ]
    },
    {
     "name": "stderr",
     "output_type": "stream",
     "text": [
      "[I 2023-06-23 17:23:59,602] Trial 45 finished with value: 0.6727279424667358 and parameters: {'w1': 0.6337440063353764, 'w2': 0.6254884968920396, 'w3': 0.13810202082082776, 'w4': 0.820000427406755, 'w5': 0.12627685422185767}. Best is trial 42 with value: 0.672981858253479.\n"
     ]
    },
    {
     "name": "stdout",
     "output_type": "stream",
     "text": [
      "{'w1': 0.6337440063353764, 'w2': 0.6254884968920396, 'w3': 0.13810202082082776, 'w4': 0.820000427406755, 'w5': 0.12627685422185767, 'threshold': 0.58}\n"
     ]
    },
    {
     "name": "stderr",
     "output_type": "stream",
     "text": [
      "[I 2023-06-23 17:24:00,624] Trial 46 finished with value: 0.6729149222373962 and parameters: {'w1': 0.5061978217593044, 'w2': 0.6631331955928282, 'w3': 0.45915484037440435, 'w4': 0.9996798265570727, 'w5': 0.049893486990712894}. Best is trial 42 with value: 0.672981858253479.\n"
     ]
    },
    {
     "name": "stdout",
     "output_type": "stream",
     "text": [
      "{'w1': 0.5061978217593044, 'w2': 0.6631331955928282, 'w3': 0.45915484037440435, 'w4': 0.9996798265570727, 'w5': 0.049893486990712894, 'threshold': 0.58}\n"
     ]
    },
    {
     "name": "stderr",
     "output_type": "stream",
     "text": [
      "[I 2023-06-23 17:24:01,644] Trial 47 finished with value: 0.6726832389831543 and parameters: {'w1': 0.525620512543999, 'w2': 0.8055807329359908, 'w3': 0.458128595184901, 'w4': 0.9917996843690182, 'w5': 0.05270364890234633}. Best is trial 42 with value: 0.672981858253479.\n"
     ]
    },
    {
     "name": "stdout",
     "output_type": "stream",
     "text": [
      "{'w1': 0.525620512543999, 'w2': 0.8055807329359908, 'w3': 0.458128595184901, 'w4': 0.9917996843690182, 'w5': 0.05270364890234633, 'threshold': 0.58}\n"
     ]
    },
    {
     "name": "stderr",
     "output_type": "stream",
     "text": [
      "[I 2023-06-23 17:24:02,664] Trial 48 finished with value: 0.6729077100753784 and parameters: {'w1': 0.4914756606171221, 'w2': 0.6586894291523997, 'w3': 0.36375602451321754, 'w4': 0.8798427168756775, 'w5': 0.035049986347464854}. Best is trial 42 with value: 0.672981858253479.\n"
     ]
    },
    {
     "name": "stdout",
     "output_type": "stream",
     "text": [
      "{'w1': 0.4914756606171221, 'w2': 0.6586894291523997, 'w3': 0.36375602451321754, 'w4': 0.8798427168756775, 'w5': 0.035049986347464854, 'threshold': 0.58}\n"
     ]
    },
    {
     "name": "stderr",
     "output_type": "stream",
     "text": [
      "[I 2023-06-23 17:24:03,684] Trial 49 finished with value: 0.6720761656761169 and parameters: {'w1': 0.9871362359123321, 'w2': 0.7064509626794814, 'w3': 0.051193304674574946, 'w4': 0.8726055550707714, 'w5': 0.10487350566000048}. Best is trial 42 with value: 0.672981858253479.\n"
     ]
    },
    {
     "name": "stdout",
     "output_type": "stream",
     "text": [
      "{'w1': 0.9871362359123321, 'w2': 0.7064509626794814, 'w3': 0.051193304674574946, 'w4': 0.8726055550707714, 'w5': 0.10487350566000048, 'threshold': 0.58}\n"
     ]
    },
    {
     "name": "stderr",
     "output_type": "stream",
     "text": [
      "[I 2023-06-23 17:24:04,705] Trial 50 finished with value: 0.6729313135147095 and parameters: {'w1': 0.6032409849170263, 'w2': 0.5392400531764243, 'w3': 0.4410763995319866, 'w4': 0.9620365888649788, 'w5': 0.03605570394001335}. Best is trial 42 with value: 0.672981858253479.\n"
     ]
    },
    {
     "name": "stdout",
     "output_type": "stream",
     "text": [
      "{'w1': 0.6032409849170263, 'w2': 0.5392400531764243, 'w3': 0.4410763995319866, 'w4': 0.9620365888649788, 'w5': 0.03605570394001335, 'threshold': 0.57}\n"
     ]
    },
    {
     "name": "stderr",
     "output_type": "stream",
     "text": [
      "[I 2023-06-23 17:24:05,725] Trial 51 finished with value: 0.6729947924613953 and parameters: {'w1': 0.6044446146020512, 'w2': 0.5298802854752596, 'w3': 0.31920160076293036, 'w4': 0.9620608702072695, 'w5': 0.04119420696166792}. Best is trial 51 with value: 0.6729947924613953.\n"
     ]
    },
    {
     "name": "stdout",
     "output_type": "stream",
     "text": [
      "{'w1': 0.6044446146020512, 'w2': 0.5298802854752596, 'w3': 0.31920160076293036, 'w4': 0.9620608702072695, 'w5': 0.04119420696166792, 'threshold': 0.57}\n"
     ]
    },
    {
     "name": "stderr",
     "output_type": "stream",
     "text": [
      "[I 2023-06-23 17:24:06,745] Trial 52 finished with value: 0.6730123162269592 and parameters: {'w1': 0.5825062944840437, 'w2': 0.5461075317739341, 'w3': 0.3135367536582995, 'w4': 0.962811655341721, 'w5': 0.003576004345166408}. Best is trial 52 with value: 0.6730123162269592.\n"
     ]
    },
    {
     "name": "stdout",
     "output_type": "stream",
     "text": [
      "{'w1': 0.5825062944840437, 'w2': 0.5461075317739341, 'w3': 0.3135367536582995, 'w4': 0.962811655341721, 'w5': 0.003576004345166408, 'threshold': 0.57}\n"
     ]
    },
    {
     "name": "stderr",
     "output_type": "stream",
     "text": [
      "[I 2023-06-23 17:24:07,766] Trial 53 finished with value: 0.6731138825416565 and parameters: {'w1': 0.5675082466443238, 'w2': 0.49762992300769376, 'w3': 0.2528597042938092, 'w4': 0.9072704193369234, 'w5': 0.0035525868607962393}. Best is trial 53 with value: 0.6731138825416565.\n"
     ]
    },
    {
     "name": "stdout",
     "output_type": "stream",
     "text": [
      "{'w1': 0.5675082466443238, 'w2': 0.49762992300769376, 'w3': 0.2528597042938092, 'w4': 0.9072704193369234, 'w5': 0.0035525868607962393, 'threshold': 0.57}\n"
     ]
    },
    {
     "name": "stderr",
     "output_type": "stream",
     "text": [
      "[I 2023-06-23 17:24:08,787] Trial 54 finished with value: 0.6728824377059937 and parameters: {'w1': 0.6120458197456403, 'w2': 0.5181117659030913, 'w3': 0.25259046369340676, 'w4': 0.8280138054851878, 'w5': 0.10159668054250594}. Best is trial 53 with value: 0.6731138825416565.\n"
     ]
    },
    {
     "name": "stdout",
     "output_type": "stream",
     "text": [
      "{'w1': 0.6120458197456403, 'w2': 0.5181117659030913, 'w3': 0.25259046369340676, 'w4': 0.8280138054851878, 'w5': 0.10159668054250594, 'threshold': 0.58}\n"
     ]
    },
    {
     "name": "stderr",
     "output_type": "stream",
     "text": [
      "[I 2023-06-23 17:24:09,808] Trial 55 finished with value: 0.6727771162986755 and parameters: {'w1': 0.7291459350865253, 'w2': 0.5016570394489255, 'w3': 0.31876014851942214, 'w4': 0.8815986988381789, 'w5': 0.043586623820776486}. Best is trial 53 with value: 0.6731138825416565.\n"
     ]
    },
    {
     "name": "stdout",
     "output_type": "stream",
     "text": [
      "{'w1': 0.7291459350865253, 'w2': 0.5016570394489255, 'w3': 0.31876014851942214, 'w4': 0.8815986988381789, 'w5': 0.043586623820776486, 'threshold': 0.58}\n"
     ]
    },
    {
     "name": "stderr",
     "output_type": "stream",
     "text": [
      "[I 2023-06-23 17:24:10,828] Trial 56 finished with value: 0.6725988388061523 and parameters: {'w1': 0.6605351385605873, 'w2': 0.4069074350948253, 'w3': 0.16693451512749866, 'w4': 0.9596200013432395, 'w5': 0.18180573137341277}. Best is trial 53 with value: 0.6731138825416565.\n"
     ]
    },
    {
     "name": "stdout",
     "output_type": "stream",
     "text": [
      "{'w1': 0.6605351385605873, 'w2': 0.4069074350948253, 'w3': 0.16693451512749866, 'w4': 0.9596200013432395, 'w5': 0.18180573137341277, 'threshold': 0.58}\n"
     ]
    },
    {
     "name": "stderr",
     "output_type": "stream",
     "text": [
      "[I 2023-06-23 17:24:11,849] Trial 57 finished with value: 0.6730842590332031 and parameters: {'w1': 0.5728643507528061, 'w2': 0.46256504326784303, 'w3': 0.24695233002947692, 'w4': 0.9256937249440663, 'w5': 0.11133241955921869}. Best is trial 53 with value: 0.6731138825416565.\n"
     ]
    },
    {
     "name": "stdout",
     "output_type": "stream",
     "text": [
      "{'w1': 0.5728643507528061, 'w2': 0.46256504326784303, 'w3': 0.24695233002947692, 'w4': 0.9256937249440663, 'w5': 0.11133241955921869, 'threshold': 0.57}\n"
     ]
    },
    {
     "name": "stderr",
     "output_type": "stream",
     "text": [
      "[I 2023-06-23 17:24:12,869] Trial 58 finished with value: 0.6728268265724182 and parameters: {'w1': 0.5972504070872702, 'w2': 0.46038256047349757, 'w3': 0.23664615477788994, 'w4': 0.8500490977610642, 'w5': 0.10762525020029834}. Best is trial 53 with value: 0.6731138825416565.\n"
     ]
    },
    {
     "name": "stdout",
     "output_type": "stream",
     "text": [
      "{'w1': 0.5972504070872702, 'w2': 0.46038256047349757, 'w3': 0.23664615477788994, 'w4': 0.8500490977610642, 'w5': 0.10762525020029834, 'threshold': 0.57}\n"
     ]
    },
    {
     "name": "stderr",
     "output_type": "stream",
     "text": [
      "[I 2023-06-23 17:24:13,890] Trial 59 finished with value: 0.6725364327430725 and parameters: {'w1': 0.6822780832212516, 'w2': 0.38073597082424765, 'w3': 0.10606342909063818, 'w4': 0.9038895157867322, 'w5': 0.005978896340776849}. Best is trial 53 with value: 0.6731138825416565.\n"
     ]
    },
    {
     "name": "stdout",
     "output_type": "stream",
     "text": [
      "{'w1': 0.6822780832212516, 'w2': 0.38073597082424765, 'w3': 0.10606342909063818, 'w4': 0.9038895157867322, 'w5': 0.005978896340776849, 'threshold': 0.56}\n"
     ]
    },
    {
     "name": "stderr",
     "output_type": "stream",
     "text": [
      "[I 2023-06-23 17:24:14,911] Trial 60 finished with value: 0.6729177236557007 and parameters: {'w1': 0.6300293561173766, 'w2': 0.5337298530558513, 'w3': 0.2758860498122991, 'w4': 0.803908847650022, 'w5': 0.0741200201887819}. Best is trial 53 with value: 0.6731138825416565.\n"
     ]
    },
    {
     "name": "stdout",
     "output_type": "stream",
     "text": [
      "{'w1': 0.6300293561173766, 'w2': 0.5337298530558513, 'w3': 0.2758860498122991, 'w4': 0.803908847650022, 'w5': 0.0741200201887819, 'threshold': 0.58}\n"
     ]
    },
    {
     "name": "stderr",
     "output_type": "stream",
     "text": [
      "[I 2023-06-23 17:24:15,932] Trial 61 finished with value: 0.6728370189666748 and parameters: {'w1': 0.5721519567273322, 'w2': 0.5731680459177508, 'w3': 0.21844057555536317, 'w4': 0.935973317501402, 'w5': 0.12805799846089472}. Best is trial 53 with value: 0.6731138825416565.\n"
     ]
    },
    {
     "name": "stdout",
     "output_type": "stream",
     "text": [
      "{'w1': 0.5721519567273322, 'w2': 0.5731680459177508, 'w3': 0.21844057555536317, 'w4': 0.935973317501402, 'w5': 0.12805799846089472, 'threshold': 0.58}\n"
     ]
    },
    {
     "name": "stderr",
     "output_type": "stream",
     "text": [
      "[I 2023-06-23 17:24:16,954] Trial 62 finished with value: 0.6730915904045105 and parameters: {'w1': 0.5121706260227288, 'w2': 0.4768805611624834, 'w3': 0.31510507034590896, 'w4': 0.9739903614330635, 'w5': 0.03240431160279202}. Best is trial 53 with value: 0.6731138825416565.\n"
     ]
    },
    {
     "name": "stdout",
     "output_type": "stream",
     "text": [
      "{'w1': 0.5121706260227288, 'w2': 0.4768805611624834, 'w3': 0.31510507034590896, 'w4': 0.9739903614330635, 'w5': 0.03240431160279202, 'threshold': 0.57}\n"
     ]
    },
    {
     "name": "stderr",
     "output_type": "stream",
     "text": [
      "[I 2023-06-23 17:24:17,976] Trial 63 finished with value: 0.6731763482093811 and parameters: {'w1': 0.5090743497765091, 'w2': 0.4836058425568112, 'w3': 0.24949671657754893, 'w4': 0.9947977831180004, 'w5': 0.0057537482784357635}. Best is trial 63 with value: 0.6731763482093811.\n"
     ]
    },
    {
     "name": "stdout",
     "output_type": "stream",
     "text": [
      "{'w1': 0.5090743497765091, 'w2': 0.4836058425568112, 'w3': 0.24949671657754893, 'w4': 0.9947977831180004, 'w5': 0.0057537482784357635, 'threshold': 0.57}\n"
     ]
    },
    {
     "name": "stderr",
     "output_type": "stream",
     "text": [
      "[I 2023-06-23 17:24:18,998] Trial 64 finished with value: 0.673212468624115 and parameters: {'w1': 0.501355135550977, 'w2': 0.48707081760011683, 'w3': 0.18478087385278452, 'w4': 0.999277960493952, 'w5': 0.029767189141445993}. Best is trial 64 with value: 0.673212468624115.\n"
     ]
    },
    {
     "name": "stdout",
     "output_type": "stream",
     "text": [
      "{'w1': 0.501355135550977, 'w2': 0.48707081760011683, 'w3': 0.18478087385278452, 'w4': 0.999277960493952, 'w5': 0.029767189141445993, 'threshold': 0.57}\n"
     ]
    },
    {
     "name": "stderr",
     "output_type": "stream",
     "text": [
      "[I 2023-06-23 17:24:20,020] Trial 65 finished with value: 0.6731521487236023 and parameters: {'w1': 0.5078001641097993, 'w2': 0.47231354392671077, 'w3': 0.305324476184902, 'w4': 0.9968218530705569, 'w5': 0.02429634996836709}. Best is trial 64 with value: 0.673212468624115.\n"
     ]
    },
    {
     "name": "stdout",
     "output_type": "stream",
     "text": [
      "{'w1': 0.5078001641097993, 'w2': 0.47231354392671077, 'w3': 0.305324476184902, 'w4': 0.9968218530705569, 'w5': 0.02429634996836709, 'threshold': 0.57}\n"
     ]
    },
    {
     "name": "stderr",
     "output_type": "stream",
     "text": [
      "[I 2023-06-23 17:24:21,042] Trial 66 finished with value: 0.6731658577919006 and parameters: {'w1': 0.5091742260923966, 'w2': 0.46715052024784604, 'w3': 0.18130666462481834, 'w4': 0.9946048046271326, 'w5': 0.00029875954703416363}. Best is trial 64 with value: 0.673212468624115.\n"
     ]
    },
    {
     "name": "stdout",
     "output_type": "stream",
     "text": [
      "{'w1': 0.5091742260923966, 'w2': 0.46715052024784604, 'w3': 0.18130666462481834, 'w4': 0.9946048046271326, 'w5': 0.00029875954703416363, 'threshold': 0.57}\n"
     ]
    },
    {
     "name": "stderr",
     "output_type": "stream",
     "text": [
      "[I 2023-06-23 17:24:22,064] Trial 67 finished with value: 0.6731852889060974 and parameters: {'w1': 0.4737955522409682, 'w2': 0.47335425140506027, 'w3': 0.17595825416893515, 'w4': 0.9899489850730642, 'w5': 0.02665441317727299}. Best is trial 64 with value: 0.673212468624115.\n"
     ]
    },
    {
     "name": "stdout",
     "output_type": "stream",
     "text": [
      "{'w1': 0.4737955522409682, 'w2': 0.47335425140506027, 'w3': 0.17595825416893515, 'w4': 0.9899489850730642, 'w5': 0.02665441317727299, 'threshold': 0.57}\n"
     ]
    },
    {
     "name": "stderr",
     "output_type": "stream",
     "text": [
      "[I 2023-06-23 17:24:23,086] Trial 68 finished with value: 0.673130452632904 and parameters: {'w1': 0.41385150705486795, 'w2': 0.3713031137072253, 'w3': 0.19070893637960112, 'w4': 0.9981271780523415, 'w5': 0.02586928650076837}. Best is trial 64 with value: 0.673212468624115.\n"
     ]
    },
    {
     "name": "stdout",
     "output_type": "stream",
     "text": [
      "{'w1': 0.41385150705486795, 'w2': 0.3713031137072253, 'w3': 0.19070893637960112, 'w4': 0.9981271780523415, 'w5': 0.02586928650076837, 'threshold': 0.56}\n"
     ]
    },
    {
     "name": "stderr",
     "output_type": "stream",
     "text": [
      "[I 2023-06-23 17:24:24,107] Trial 69 finished with value: 0.6732408404350281 and parameters: {'w1': 0.4252586317475999, 'w2': 0.3572060966889454, 'w3': 0.16628128431084677, 'w4': 0.9961031723809848, 'w5': 0.0036874443351655574}. Best is trial 69 with value: 0.6732408404350281.\n"
     ]
    },
    {
     "name": "stdout",
     "output_type": "stream",
     "text": [
      "{'w1': 0.4252586317475999, 'w2': 0.3572060966889454, 'w3': 0.16628128431084677, 'w4': 0.9961031723809848, 'w5': 0.0036874443351655574, 'threshold': 0.56}\n"
     ]
    },
    {
     "name": "stderr",
     "output_type": "stream",
     "text": [
      "[I 2023-06-23 17:24:25,129] Trial 70 finished with value: 0.6729186177253723 and parameters: {'w1': 0.4055349118674433, 'w2': 0.39580327077017075, 'w3': 0.1636938063603957, 'w4': 0.9956722028680922, 'w5': 0.0730417693156841}. Best is trial 69 with value: 0.6732408404350281.\n"
     ]
    },
    {
     "name": "stdout",
     "output_type": "stream",
     "text": [
      "{'w1': 0.4055349118674433, 'w2': 0.39580327077017075, 'w3': 0.1636938063603957, 'w4': 0.9956722028680922, 'w5': 0.0730417693156841, 'threshold': 0.57}\n"
     ]
    },
    {
     "name": "stderr",
     "output_type": "stream",
     "text": [
      "[I 2023-06-23 17:24:26,150] Trial 71 finished with value: 0.6730766892433167 and parameters: {'w1': 0.470033190688123, 'w2': 0.36235702197160824, 'w3': 0.10069765487893875, 'w4': 0.997834168710244, 'w5': 0.00261442897824377}. Best is trial 69 with value: 0.6732408404350281.\n"
     ]
    },
    {
     "name": "stdout",
     "output_type": "stream",
     "text": [
      "{'w1': 0.470033190688123, 'w2': 0.36235702197160824, 'w3': 0.10069765487893875, 'w4': 0.997834168710244, 'w5': 0.00261442897824377, 'threshold': 0.56}\n"
     ]
    },
    {
     "name": "stderr",
     "output_type": "stream",
     "text": [
      "[I 2023-06-23 17:24:27,172] Trial 72 finished with value: 0.6732414364814758 and parameters: {'w1': 0.4370433537362758, 'w2': 0.4373764556564669, 'w3': 0.1976160999946942, 'w4': 0.9146253333679015, 'w5': 0.03667672691093658}. Best is trial 72 with value: 0.6732414364814758.\n"
     ]
    },
    {
     "name": "stdout",
     "output_type": "stream",
     "text": [
      "{'w1': 0.4370433537362758, 'w2': 0.4373764556564669, 'w3': 0.1976160999946942, 'w4': 0.9146253333679015, 'w5': 0.03667672691093658, 'threshold': 0.57}\n"
     ]
    },
    {
     "name": "stderr",
     "output_type": "stream",
     "text": [
      "[I 2023-06-23 17:24:28,194] Trial 73 finished with value: 0.6729997396469116 and parameters: {'w1': 0.3958033840768042, 'w2': 0.4401855345093107, 'w3': 0.19304262288565166, 'w4': 0.9989555788258278, 'w5': 0.02459473161055621}. Best is trial 72 with value: 0.6732414364814758.\n"
     ]
    },
    {
     "name": "stdout",
     "output_type": "stream",
     "text": [
      "{'w1': 0.3958033840768042, 'w2': 0.4401855345093107, 'w3': 0.19304262288565166, 'w4': 0.9989555788258278, 'w5': 0.02459473161055621, 'threshold': 0.57}\n"
     ]
    },
    {
     "name": "stderr",
     "output_type": "stream",
     "text": [
      "[I 2023-06-23 17:24:29,216] Trial 74 finished with value: 0.6728646159172058 and parameters: {'w1': 0.4491246495252323, 'w2': 0.3407079727431953, 'w3': 0.08623087018711262, 'w4': 0.9288210148860876, 'w5': 0.0767881884666645}. Best is trial 72 with value: 0.6732414364814758.\n"
     ]
    },
    {
     "name": "stdout",
     "output_type": "stream",
     "text": [
      "{'w1': 0.4491246495252323, 'w2': 0.3407079727431953, 'w3': 0.08623087018711262, 'w4': 0.9288210148860876, 'w5': 0.0767881884666645, 'threshold': 0.57}\n"
     ]
    },
    {
     "name": "stderr",
     "output_type": "stream",
     "text": [
      "[I 2023-06-23 17:24:30,238] Trial 75 finished with value: 0.6731880903244019 and parameters: {'w1': 0.4774158050954061, 'w2': 0.42238545826992835, 'w3': 0.14044336092611906, 'w4': 0.9742666066687042, 'w5': 0.02823471838840433}. Best is trial 72 with value: 0.6732414364814758.\n"
     ]
    },
    {
     "name": "stdout",
     "output_type": "stream",
     "text": [
      "{'w1': 0.4774158050954061, 'w2': 0.42238545826992835, 'w3': 0.14044336092611906, 'w4': 0.9742666066687042, 'w5': 0.02823471838840433, 'threshold': 0.57}\n"
     ]
    },
    {
     "name": "stderr",
     "output_type": "stream",
     "text": [
      "[I 2023-06-23 17:24:31,260] Trial 76 finished with value: 0.6731350421905518 and parameters: {'w1': 0.49274605289314877, 'w2': 0.4253771167439101, 'w3': 0.1385083678688898, 'w4': 0.9735501105717546, 'w5': 0.05692075839534878}. Best is trial 72 with value: 0.6732414364814758.\n"
     ]
    },
    {
     "name": "stdout",
     "output_type": "stream",
     "text": [
      "{'w1': 0.49274605289314877, 'w2': 0.4253771167439101, 'w3': 0.1385083678688898, 'w4': 0.9735501105717546, 'w5': 0.05692075839534878, 'threshold': 0.57}\n"
     ]
    },
    {
     "name": "stderr",
     "output_type": "stream",
     "text": [
      "[I 2023-06-23 17:24:32,283] Trial 77 finished with value: 0.6730570793151855 and parameters: {'w1': 0.47591669407876036, 'w2': 0.4425653144909016, 'w3': 0.16129523513125898, 'w4': 0.9199178745324481, 'w5': 0.08209702696963998}. Best is trial 72 with value: 0.6732414364814758.\n"
     ]
    },
    {
     "name": "stdout",
     "output_type": "stream",
     "text": [
      "{'w1': 0.47591669407876036, 'w2': 0.4425653144909016, 'w3': 0.16129523513125898, 'w4': 0.9199178745324481, 'w5': 0.08209702696963998, 'threshold': 0.57}\n"
     ]
    },
    {
     "name": "stderr",
     "output_type": "stream",
     "text": [
      "[I 2023-06-23 17:24:33,304] Trial 78 finished with value: 0.6722138524055481 and parameters: {'w1': 0.4364390900626061, 'w2': 0.47432324251835584, 'w3': 0.034817950485130034, 'w4': 0.968572625687485, 'w5': 0.16900464799210854}. Best is trial 72 with value: 0.6732414364814758.\n"
     ]
    },
    {
     "name": "stdout",
     "output_type": "stream",
     "text": [
      "{'w1': 0.4364390900626061, 'w2': 0.47432324251835584, 'w3': 0.034817950485130034, 'w4': 0.968572625687485, 'w5': 0.16900464799210854, 'threshold': 0.57}\n"
     ]
    },
    {
     "name": "stderr",
     "output_type": "stream",
     "text": [
      "[I 2023-06-23 17:24:34,325] Trial 79 finished with value: 0.6725069880485535 and parameters: {'w1': 0.36595016788586804, 'w2': 0.41376087643343934, 'w3': 0.07305174948415098, 'w4': 0.8982417710711921, 'w5': 0.026065818751852907}. Best is trial 72 with value: 0.6732414364814758.\n"
     ]
    },
    {
     "name": "stdout",
     "output_type": "stream",
     "text": [
      "{'w1': 0.36595016788586804, 'w2': 0.41376087643343934, 'w3': 0.07305174948415098, 'w4': 0.8982417710711921, 'w5': 0.026065818751852907, 'threshold': 0.57}\n"
     ]
    },
    {
     "name": "stderr",
     "output_type": "stream",
     "text": [
      "[I 2023-06-23 17:24:35,346] Trial 80 finished with value: 0.6728710532188416 and parameters: {'w1': 0.5353763365826179, 'w2': 0.3053311640002532, 'w3': 0.12821119190677657, 'w4': 0.9375496357727863, 'w5': 0.12552724955242286}. Best is trial 72 with value: 0.6732414364814758.\n"
     ]
    },
    {
     "name": "stdout",
     "output_type": "stream",
     "text": [
      "{'w1': 0.5353763365826179, 'w2': 0.3053311640002532, 'w3': 0.12821119190677657, 'w4': 0.9375496357727863, 'w5': 0.12552724955242286, 'threshold': 0.57}\n"
     ]
    },
    {
     "name": "stderr",
     "output_type": "stream",
     "text": [
      "[I 2023-06-23 17:24:36,368] Trial 81 finished with value: 0.6731690168380737 and parameters: {'w1': 0.5036117389077213, 'w2': 0.42479769871773493, 'w3': 0.14065809652525776, 'w4': 0.9761626086310372, 'w5': 0.05814017555924263}. Best is trial 72 with value: 0.6732414364814758.\n"
     ]
    },
    {
     "name": "stdout",
     "output_type": "stream",
     "text": [
      "{'w1': 0.5036117389077213, 'w2': 0.42479769871773493, 'w3': 0.14065809652525776, 'w4': 0.9761626086310372, 'w5': 0.05814017555924263, 'threshold': 0.57}\n"
     ]
    },
    {
     "name": "stderr",
     "output_type": "stream",
     "text": [
      "[I 2023-06-23 17:24:37,389] Trial 82 finished with value: 0.6731295585632324 and parameters: {'w1': 0.4570413824397803, 'w2': 0.4515537993588546, 'w3': 0.22078683618032213, 'w4': 0.952255935343558, 'w5': 0.05573057745665327}. Best is trial 72 with value: 0.6732414364814758.\n"
     ]
    },
    {
     "name": "stdout",
     "output_type": "stream",
     "text": [
      "{'w1': 0.4570413824397803, 'w2': 0.4515537993588546, 'w3': 0.22078683618032213, 'w4': 0.952255935343558, 'w5': 0.05573057745665327, 'threshold': 0.57}\n"
     ]
    },
    {
     "name": "stderr",
     "output_type": "stream",
     "text": [
      "[I 2023-06-23 17:24:38,409] Trial 83 finished with value: 0.6729578971862793 and parameters: {'w1': 0.497481935033125, 'w2': 0.502721736081425, 'w3': 0.11882281523448748, 'w4': 0.9759678821018488, 'w5': 0.02195028549706702}. Best is trial 72 with value: 0.6732414364814758.\n"
     ]
    },
    {
     "name": "stdout",
     "output_type": "stream",
     "text": [
      "{'w1': 0.497481935033125, 'w2': 0.502721736081425, 'w3': 0.11882281523448748, 'w4': 0.9759678821018488, 'w5': 0.02195028549706702, 'threshold': 0.57}\n"
     ]
    },
    {
     "name": "stderr",
     "output_type": "stream",
     "text": [
      "[I 2023-06-23 17:24:39,431] Trial 84 finished with value: 0.6730911731719971 and parameters: {'w1': 0.4757177401994067, 'w2': 0.4036240142441431, 'w3': 0.1714542849748785, 'w4': 0.9296193399972711, 'w5': 0.0774298964175098}. Best is trial 72 with value: 0.6732414364814758.\n"
     ]
    },
    {
     "name": "stdout",
     "output_type": "stream",
     "text": [
      "{'w1': 0.4757177401994067, 'w2': 0.4036240142441431, 'w3': 0.1714542849748785, 'w4': 0.9296193399972711, 'w5': 0.0774298964175098, 'threshold': 0.57}\n"
     ]
    },
    {
     "name": "stderr",
     "output_type": "stream",
     "text": [
      "[I 2023-06-23 17:24:40,453] Trial 85 finished with value: 0.6728463172912598 and parameters: {'w1': 0.5231906870865672, 'w2': 0.35553261147331616, 'w3': 0.1502694719563149, 'w4': 0.8962336940883838, 'w5': 0.09430538773246458}. Best is trial 72 with value: 0.6732414364814758.\n"
     ]
    },
    {
     "name": "stdout",
     "output_type": "stream",
     "text": [
      "{'w1': 0.5231906870865672, 'w2': 0.35553261147331616, 'w3': 0.1502694719563149, 'w4': 0.8962336940883838, 'w5': 0.09430538773246458, 'threshold': 0.57}\n"
     ]
    },
    {
     "name": "stderr",
     "output_type": "stream",
     "text": [
      "[I 2023-06-23 17:24:41,475] Trial 86 finished with value: 0.6731703877449036 and parameters: {'w1': 0.44089309820075395, 'w2': 0.3846247087758909, 'w3': 0.2031246179515992, 'w4': 0.972472526833349, 'w5': 0.028460391968048237}. Best is trial 72 with value: 0.6732414364814758.\n"
     ]
    },
    {
     "name": "stdout",
     "output_type": "stream",
     "text": [
      "{'w1': 0.44089309820075395, 'w2': 0.3846247087758909, 'w3': 0.2031246179515992, 'w4': 0.972472526833349, 'w5': 0.028460391968048237, 'threshold': 0.57}\n"
     ]
    },
    {
     "name": "stderr",
     "output_type": "stream",
     "text": [
      "[I 2023-06-23 17:24:42,496] Trial 87 finished with value: 0.6731276512145996 and parameters: {'w1': 0.43563350245365184, 'w2': 0.32693551241279717, 'w3': 0.20342024528635555, 'w4': 0.8634926503483672, 'w5': 0.055982776695837254}. Best is trial 72 with value: 0.6732414364814758.\n"
     ]
    },
    {
     "name": "stdout",
     "output_type": "stream",
     "text": [
      "{'w1': 0.43563350245365184, 'w2': 0.32693551241279717, 'w3': 0.20342024528635555, 'w4': 0.8634926503483672, 'w5': 0.055982776695837254, 'threshold': 0.57}\n"
     ]
    },
    {
     "name": "stderr",
     "output_type": "stream",
     "text": [
      "[I 2023-06-23 17:24:43,517] Trial 88 finished with value: 0.6731501221656799 and parameters: {'w1': 0.4536597893432227, 'w2': 0.3793911783920489, 'w3': 0.12105444789247782, 'w4': 0.9491276582294264, 'w5': 0.0004011537601690436}. Best is trial 72 with value: 0.6732414364814758.\n"
     ]
    },
    {
     "name": "stdout",
     "output_type": "stream",
     "text": [
      "{'w1': 0.4536597893432227, 'w2': 0.3793911783920489, 'w3': 0.12105444789247782, 'w4': 0.9491276582294264, 'w5': 0.0004011537601690436, 'threshold': 0.57}\n"
     ]
    },
    {
     "name": "stderr",
     "output_type": "stream",
     "text": [
      "[I 2023-06-23 17:24:44,539] Trial 89 finished with value: 0.6728183627128601 and parameters: {'w1': 0.5371307044870146, 'w2': 0.3860718223650923, 'w3': 0.1783002516908875, 'w4': 0.9713493298605375, 'w5': 0.14046980384918256}. Best is trial 72 with value: 0.6732414364814758.\n"
     ]
    },
    {
     "name": "stdout",
     "output_type": "stream",
     "text": [
      "{'w1': 0.5371307044870146, 'w2': 0.3860718223650923, 'w3': 0.1783002516908875, 'w4': 0.9713493298605375, 'w5': 0.14046980384918256, 'threshold': 0.57}\n"
     ]
    },
    {
     "name": "stderr",
     "output_type": "stream",
     "text": [
      "[I 2023-06-23 17:24:45,561] Trial 90 finished with value: 0.6729291677474976 and parameters: {'w1': 0.38478120938062754, 'w2': 0.42891980340070396, 'w3': 0.14314298105424944, 'w4': 0.9195137453050359, 'w5': 0.09161419305220428}. Best is trial 72 with value: 0.6732414364814758.\n"
     ]
    },
    {
     "name": "stdout",
     "output_type": "stream",
     "text": [
      "{'w1': 0.38478120938062754, 'w2': 0.42891980340070396, 'w3': 0.14314298105424944, 'w4': 0.9195137453050359, 'w5': 0.09161419305220428, 'threshold': 0.57}\n"
     ]
    },
    {
     "name": "stderr",
     "output_type": "stream",
     "text": [
      "[I 2023-06-23 17:24:46,582] Trial 91 finished with value: 0.6731093525886536 and parameters: {'w1': 0.421414652134423, 'w2': 0.469593772250634, 'w3': 0.21560450764838968, 'w4': 0.9821142524683196, 'w5': 0.02682575032285686}. Best is trial 72 with value: 0.6732414364814758.\n"
     ]
    },
    {
     "name": "stdout",
     "output_type": "stream",
     "text": [
      "{'w1': 0.421414652134423, 'w2': 0.469593772250634, 'w3': 0.21560450764838968, 'w4': 0.9821142524683196, 'w5': 0.02682575032285686, 'threshold': 0.57}\n"
     ]
    },
    {
     "name": "stderr",
     "output_type": "stream",
     "text": [
      "[I 2023-06-23 17:24:47,603] Trial 92 finished with value: 0.673230767250061 and parameters: {'w1': 0.5081254117461566, 'w2': 0.4309504247156589, 'w3': 0.19110528940358984, 'w4': 0.9749049927933968, 'w5': 0.04116130557515142}. Best is trial 72 with value: 0.6732414364814758.\n"
     ]
    },
    {
     "name": "stdout",
     "output_type": "stream",
     "text": [
      "{'w1': 0.5081254117461566, 'w2': 0.4309504247156589, 'w3': 0.19110528940358984, 'w4': 0.9749049927933968, 'w5': 0.04116130557515142, 'threshold': 0.57}\n"
     ]
    },
    {
     "name": "stderr",
     "output_type": "stream",
     "text": [
      "[I 2023-06-23 17:24:48,625] Trial 93 finished with value: 0.6731745600700378 and parameters: {'w1': 0.4836650077137639, 'w2': 0.42868691706953554, 'w3': 0.20432711221800606, 'w4': 0.945460963135505, 'w5': 0.061574836996442506}. Best is trial 72 with value: 0.6732414364814758.\n"
     ]
    },
    {
     "name": "stdout",
     "output_type": "stream",
     "text": [
      "{'w1': 0.4836650077137639, 'w2': 0.42868691706953554, 'w3': 0.20432711221800606, 'w4': 0.945460963135505, 'w5': 0.061574836996442506, 'threshold': 0.57}\n"
     ]
    },
    {
     "name": "stderr",
     "output_type": "stream",
     "text": [
      "[I 2023-06-23 17:24:49,647] Trial 94 finished with value: 0.6724614500999451 and parameters: {'w1': 0.4613706210937252, 'w2': 0.42050401108284907, 'w3': 0.005554657116231737, 'w4': 0.8910530058959181, 'w5': 0.05607093043258289}. Best is trial 72 with value: 0.6732414364814758.\n"
     ]
    },
    {
     "name": "stdout",
     "output_type": "stream",
     "text": [
      "{'w1': 0.4613706210937252, 'w2': 0.42050401108284907, 'w3': 0.005554657116231737, 'w4': 0.8910530058959181, 'w5': 0.05607093043258289, 'threshold': 0.57}\n"
     ]
    },
    {
     "name": "stderr",
     "output_type": "stream",
     "text": [
      "[I 2023-06-23 17:24:50,669] Trial 95 finished with value: 0.6729766726493835 and parameters: {'w1': 0.48314141058888005, 'w2': 0.3999094596039142, 'w3': 0.20019442733771414, 'w4': 0.9517095336183781, 'w5': 0.11661761389700105}. Best is trial 72 with value: 0.6732414364814758.\n"
     ]
    },
    {
     "name": "stdout",
     "output_type": "stream",
     "text": [
      "{'w1': 0.48314141058888005, 'w2': 0.3999094596039142, 'w3': 0.20019442733771414, 'w4': 0.9517095336183781, 'w5': 0.11661761389700105, 'threshold': 0.57}\n"
     ]
    },
    {
     "name": "stderr",
     "output_type": "stream",
     "text": [
      "[I 2023-06-23 17:24:51,691] Trial 96 finished with value: 0.6731353402137756 and parameters: {'w1': 0.4324781279559421, 'w2': 0.44189362517709696, 'w3': 0.15654499754990284, 'w4': 0.9135251183845415, 'w5': 0.04570136323495258}. Best is trial 72 with value: 0.6732414364814758.\n"
     ]
    },
    {
     "name": "stdout",
     "output_type": "stream",
     "text": [
      "{'w1': 0.4324781279559421, 'w2': 0.44189362517709696, 'w3': 0.15654499754990284, 'w4': 0.9135251183845415, 'w5': 0.04570136323495258, 'threshold': 0.57}\n"
     ]
    },
    {
     "name": "stderr",
     "output_type": "stream",
     "text": [
      "[I 2023-06-23 17:24:52,713] Trial 97 finished with value: 0.6727954149246216 and parameters: {'w1': 0.5468657262063927, 'w2': 0.35545407858515615, 'w3': 0.09610594393119307, 'w4': 0.8547635954231535, 'w5': 0.09478051033404855}. Best is trial 72 with value: 0.6732414364814758.\n"
     ]
    },
    {
     "name": "stdout",
     "output_type": "stream",
     "text": [
      "{'w1': 0.5468657262063927, 'w2': 0.35545407858515615, 'w3': 0.09610594393119307, 'w4': 0.8547635954231535, 'w5': 0.09478051033404855, 'threshold': 0.57}\n"
     ]
    },
    {
     "name": "stderr",
     "output_type": "stream",
     "text": [
      "[I 2023-06-23 17:24:53,735] Trial 98 finished with value: 0.6729464530944824 and parameters: {'w1': 0.38406308365497194, 'w2': 0.49215835114679424, 'w3': 0.22071897012738587, 'w4': 0.9481882320204366, 'w5': 0.06942466426956641}. Best is trial 72 with value: 0.6732414364814758.\n"
     ]
    },
    {
     "name": "stdout",
     "output_type": "stream",
     "text": [
      "{'w1': 0.38406308365497194, 'w2': 0.49215835114679424, 'w3': 0.22071897012738587, 'w4': 0.9481882320204366, 'w5': 0.06942466426956641, 'threshold': 0.57}\n"
     ]
    },
    {
     "name": "stderr",
     "output_type": "stream",
     "text": [
      "[I 2023-06-23 17:24:54,757] Trial 99 finished with value: 0.672237753868103 and parameters: {'w1': 0.33949559138882435, 'w2': 0.5131372310042863, 'w3': 0.11688079828477757, 'w4': 0.9708121820875831, 'w5': 0.1677134906298246}. Best is trial 72 with value: 0.6732414364814758.\n"
     ]
    },
    {
     "name": "stdout",
     "output_type": "stream",
     "text": [
      "{'w1': 0.33949559138882435, 'w2': 0.5131372310042863, 'w3': 0.11688079828477757, 'w4': 0.9708121820875831, 'w5': 0.1677134906298246, 'threshold': 0.57}\n"
     ]
    },
    {
     "name": "stderr",
     "output_type": "stream",
     "text": [
      "[I 2023-06-23 17:24:55,778] Trial 100 finished with value: 0.6731611490249634 and parameters: {'w1': 0.4824025155251984, 'w2': 0.39285727058389963, 'w3': 0.23396231459661393, 'w4': 0.8897812720126989, 'w5': 0.03745233692933023}. Best is trial 72 with value: 0.6732414364814758.\n"
     ]
    },
    {
     "name": "stdout",
     "output_type": "stream",
     "text": [
      "{'w1': 0.4824025155251984, 'w2': 0.39285727058389963, 'w3': 0.23396231459661393, 'w4': 0.8897812720126989, 'w5': 0.03745233692933023, 'threshold': 0.57}\n"
     ]
    },
    {
     "name": "stderr",
     "output_type": "stream",
     "text": [
      "[I 2023-06-23 17:24:56,800] Trial 101 finished with value: 0.6731738448143005 and parameters: {'w1': 0.5179702699722524, 'w2': 0.447057582707516, 'w3': 0.17366555099051362, 'w4': 0.9766724031963615, 'w5': 0.013881719939445921}. Best is trial 72 with value: 0.6732414364814758.\n"
     ]
    },
    {
     "name": "stdout",
     "output_type": "stream",
     "text": [
      "{'w1': 0.5179702699722524, 'w2': 0.447057582707516, 'w3': 0.17366555099051362, 'w4': 0.9766724031963615, 'w5': 0.013881719939445921, 'threshold': 0.57}\n"
     ]
    },
    {
     "name": "stderr",
     "output_type": "stream",
     "text": [
      "[I 2023-06-23 17:24:57,821] Trial 102 finished with value: 0.673158586025238 and parameters: {'w1': 0.5197864677363616, 'w2': 0.43412695327929696, 'w3': 0.1816359698757318, 'w4': 0.9368521555276995, 'w5': 0.020158283579555014}. Best is trial 72 with value: 0.6732414364814758.\n"
     ]
    },
    {
     "name": "stdout",
     "output_type": "stream",
     "text": [
      "{'w1': 0.5197864677363616, 'w2': 0.43412695327929696, 'w3': 0.1816359698757318, 'w4': 0.9368521555276995, 'w5': 0.020158283579555014, 'threshold': 0.57}\n"
     ]
    },
    {
     "name": "stderr",
     "output_type": "stream",
     "text": [
      "[I 2023-06-23 17:24:58,843] Trial 103 finished with value: 0.6731247305870056 and parameters: {'w1': 0.5510070482272916, 'w2': 0.4125136365687327, 'w3': 0.14236339249265081, 'w4': 0.9735894508430671, 'w5': 0.05370293813098666}. Best is trial 72 with value: 0.6732414364814758.\n"
     ]
    },
    {
     "name": "stdout",
     "output_type": "stream",
     "text": [
      "{'w1': 0.5510070482272916, 'w2': 0.4125136365687327, 'w3': 0.14236339249265081, 'w4': 0.9735894508430671, 'w5': 0.05370293813098666, 'threshold': 0.57}\n"
     ]
    },
    {
     "name": "stderr",
     "output_type": "stream",
     "text": [
      "[I 2023-06-23 17:24:59,865] Trial 104 finished with value: 0.6730991005897522 and parameters: {'w1': 0.4948636404390334, 'w2': 0.4492277810030373, 'w3': 0.19587464070665844, 'w4': 0.954736507657377, 'w5': 0.08906887658686735}. Best is trial 72 with value: 0.6732414364814758.\n"
     ]
    },
    {
     "name": "stdout",
     "output_type": "stream",
     "text": [
      "{'w1': 0.4948636404390334, 'w2': 0.4492277810030373, 'w3': 0.19587464070665844, 'w4': 0.954736507657377, 'w5': 0.08906887658686735, 'threshold': 0.57}\n"
     ]
    },
    {
     "name": "stderr",
     "output_type": "stream",
     "text": [
      "[I 2023-06-23 17:25:00,886] Trial 105 finished with value: 0.6729362607002258 and parameters: {'w1': 0.45608019111688314, 'w2': 0.4954614374517769, 'w3': 0.16141968863579206, 'w4': 0.9137160005106372, 'w5': 0.03817180628285091}. Best is trial 72 with value: 0.6732414364814758.\n"
     ]
    },
    {
     "name": "stdout",
     "output_type": "stream",
     "text": [
      "{'w1': 0.45608019111688314, 'w2': 0.4954614374517769, 'w3': 0.16141968863579206, 'w4': 0.9137160005106372, 'w5': 0.03817180628285091, 'threshold': 0.57}\n"
     ]
    },
    {
     "name": "stderr",
     "output_type": "stream",
     "text": [
      "[I 2023-06-23 17:25:01,908] Trial 106 finished with value: 0.6729504466056824 and parameters: {'w1': 0.5247657451083864, 'w2': 0.34245235755241854, 'w3': 0.2713154517706273, 'w4': 0.9833320972601455, 'w5': 0.06510392468639879}. Best is trial 72 with value: 0.6732414364814758.\n"
     ]
    },
    {
     "name": "stdout",
     "output_type": "stream",
     "text": [
      "{'w1': 0.5247657451083864, 'w2': 0.34245235755241854, 'w3': 0.2713154517706273, 'w4': 0.9833320972601455, 'w5': 0.06510392468639879, 'threshold': 0.57}\n"
     ]
    },
    {
     "name": "stderr",
     "output_type": "stream",
     "text": [
      "[I 2023-06-23 17:25:02,933] Trial 107 finished with value: 0.6731091141700745 and parameters: {'w1': 0.4159489635548846, 'w2': 0.38409966309796073, 'w3': 0.23253703178414306, 'w4': 0.9315086554817263, 'w5': 0.016315255732282763}. Best is trial 72 with value: 0.6732414364814758.\n"
     ]
    },
    {
     "name": "stdout",
     "output_type": "stream",
     "text": [
      "{'w1': 0.4159489635548846, 'w2': 0.38409966309796073, 'w3': 0.23253703178414306, 'w4': 0.9315086554817263, 'w5': 0.016315255732282763, 'threshold': 0.57}\n"
     ]
    },
    {
     "name": "stderr",
     "output_type": "stream",
     "text": [
      "[I 2023-06-23 17:25:03,955] Trial 108 finished with value: 0.6726812720298767 and parameters: {'w1': 0.44282325831750297, 'w2': 0.51215916304621, 'w3': 0.1343981329211562, 'w4': 0.9568444820494612, 'w5': 0.11698130616887123}. Best is trial 72 with value: 0.6732414364814758.\n"
     ]
    },
    {
     "name": "stdout",
     "output_type": "stream",
     "text": [
      "{'w1': 0.44282325831750297, 'w2': 0.51215916304621, 'w3': 0.1343981329211562, 'w4': 0.9568444820494612, 'w5': 0.11698130616887123, 'threshold': 0.57}\n"
     ]
    },
    {
     "name": "stderr",
     "output_type": "stream",
     "text": [
      "[I 2023-06-23 17:25:04,980] Trial 109 finished with value: 0.6731741428375244 and parameters: {'w1': 0.5051591190706539, 'w2': 0.4838220274596363, 'w3': 0.2109703551221726, 'w4': 0.9802079789463033, 'w5': 0.020945479015586646}. Best is trial 72 with value: 0.6732414364814758.\n"
     ]
    },
    {
     "name": "stdout",
     "output_type": "stream",
     "text": [
      "{'w1': 0.5051591190706539, 'w2': 0.4838220274596363, 'w3': 0.2109703551221726, 'w4': 0.9802079789463033, 'w5': 0.020945479015586646, 'threshold': 0.57}\n"
     ]
    },
    {
     "name": "stderr",
     "output_type": "stream",
     "text": [
      "[I 2023-06-23 17:25:06,007] Trial 110 finished with value: 0.6731120944023132 and parameters: {'w1': 0.464330931035131, 'w2': 0.4820499621157601, 'w3': 0.2147378207328519, 'w4': 0.8899456910245885, 'w5': 0.01778549324072767}. Best is trial 72 with value: 0.6732414364814758.\n"
     ]
    },
    {
     "name": "stdout",
     "output_type": "stream",
     "text": [
      "{'w1': 0.464330931035131, 'w2': 0.4820499621157601, 'w3': 0.2147378207328519, 'w4': 0.8899456910245885, 'w5': 0.01778549324072767, 'threshold': 0.57}\n"
     ]
    },
    {
     "name": "stderr",
     "output_type": "stream",
     "text": [
      "[I 2023-06-23 17:25:07,033] Trial 111 finished with value: 0.6731770634651184 and parameters: {'w1': 0.5027392344938241, 'w2': 0.4566207063723596, 'w3': 0.174026422310103, 'w4': 0.9800537286301356, 'w5': 0.04211783562203871}. Best is trial 72 with value: 0.6732414364814758.\n"
     ]
    },
    {
     "name": "stdout",
     "output_type": "stream",
     "text": [
      "{'w1': 0.5027392344938241, 'w2': 0.4566207063723596, 'w3': 0.174026422310103, 'w4': 0.9800537286301356, 'w5': 0.04211783562203871, 'threshold': 0.57}\n"
     ]
    },
    {
     "name": "stderr",
     "output_type": "stream",
     "text": [
      "[I 2023-06-23 17:25:08,067] Trial 112 finished with value: 0.6730113625526428 and parameters: {'w1': 0.4810246641670363, 'w2': 0.5212215723680695, 'w3': 0.1790854503731125, 'w4': 0.985313305365421, 'w5': 0.036926209637179255}. Best is trial 72 with value: 0.6732414364814758.\n"
     ]
    },
    {
     "name": "stdout",
     "output_type": "stream",
     "text": [
      "{'w1': 0.4810246641670363, 'w2': 0.5212215723680695, 'w3': 0.1790854503731125, 'w4': 0.985313305365421, 'w5': 0.036926209637179255, 'threshold': 0.57}\n"
     ]
    },
    {
     "name": "stderr",
     "output_type": "stream",
     "text": [
      "[I 2023-06-23 17:25:09,096] Trial 113 finished with value: 0.6731799244880676 and parameters: {'w1': 0.5532254176466436, 'w2': 0.45754477259920057, 'w3': 0.1989396594165279, 'w4': 0.9998342762535019, 'w5': 0.00029053606391332004}. Best is trial 72 with value: 0.6732414364814758.\n"
     ]
    },
    {
     "name": "stdout",
     "output_type": "stream",
     "text": [
      "{'w1': 0.5532254176466436, 'w2': 0.45754477259920057, 'w3': 0.1989396594165279, 'w4': 0.9998342762535019, 'w5': 0.00029053606391332004, 'threshold': 0.57}\n"
     ]
    },
    {
     "name": "stderr",
     "output_type": "stream",
     "text": [
      "[I 2023-06-23 17:25:10,125] Trial 114 finished with value: 0.6731768250465393 and parameters: {'w1': 0.556896002011415, 'w2': 0.45680989072653644, 'w3': 0.26208386231309533, 'w4': 0.9421490841814804, 'w5': 0.01196713171076541}. Best is trial 72 with value: 0.6732414364814758.\n"
     ]
    },
    {
     "name": "stdout",
     "output_type": "stream",
     "text": [
      "{'w1': 0.556896002011415, 'w2': 0.45680989072653644, 'w3': 0.26208386231309533, 'w4': 0.9421490841814804, 'w5': 0.01196713171076541, 'threshold': 0.57}\n"
     ]
    },
    {
     "name": "stderr",
     "output_type": "stream",
     "text": [
      "[I 2023-06-23 17:25:11,148] Trial 115 finished with value: 0.6729769706726074 and parameters: {'w1': 0.558902571293974, 'w2': 0.5604762791453389, 'w3': 0.249207320591194, 'w4': 0.9356102924713122, 'w5': 0.002139589026756485}. Best is trial 72 with value: 0.6732414364814758.\n"
     ]
    },
    {
     "name": "stdout",
     "output_type": "stream",
     "text": [
      "{'w1': 0.558902571293974, 'w2': 0.5604762791453389, 'w3': 0.249207320591194, 'w4': 0.9356102924713122, 'w5': 0.002139589026756485, 'threshold': 0.57}\n"
     ]
    },
    {
     "name": "stderr",
     "output_type": "stream",
     "text": [
      "[I 2023-06-23 17:25:12,170] Trial 116 finished with value: 0.6731323003768921 and parameters: {'w1': 0.5379278005306356, 'w2': 0.4846107842679062, 'w3': 0.2616127245080445, 'w4': 0.91456295153912, 'w5': 0.07217780154072938}. Best is trial 72 with value: 0.6732414364814758.\n"
     ]
    },
    {
     "name": "stdout",
     "output_type": "stream",
     "text": [
      "{'w1': 0.5379278005306356, 'w2': 0.4846107842679062, 'w3': 0.2616127245080445, 'w4': 0.91456295153912, 'w5': 0.07217780154072938, 'threshold': 0.57}\n"
     ]
    },
    {
     "name": "stderr",
     "output_type": "stream",
     "text": [
      "[I 2023-06-23 17:25:13,192] Trial 117 finished with value: 0.6731569170951843 and parameters: {'w1': 0.5704957818293663, 'w2': 0.4590373623140689, 'w3': 0.2366459567458259, 'w4': 0.99859626409159, 'w5': 0.03967392458752523}. Best is trial 72 with value: 0.6732414364814758.\n"
     ]
    },
    {
     "name": "stdout",
     "output_type": "stream",
     "text": [
      "{'w1': 0.5704957818293663, 'w2': 0.4590373623140689, 'w3': 0.2366459567458259, 'w4': 0.99859626409159, 'w5': 0.03967392458752523, 'threshold': 0.57}\n"
     ]
    },
    {
     "name": "stderr",
     "output_type": "stream",
     "text": [
      "[I 2023-06-23 17:25:14,219] Trial 118 finished with value: 0.6728613376617432 and parameters: {'w1': 0.4979690757693245, 'w2': 0.5412024356549263, 'w3': 0.20365634947683106, 'w4': 0.8702902965383719, 'w5': 0.09603379927854927}. Best is trial 72 with value: 0.6732414364814758.\n"
     ]
    },
    {
     "name": "stdout",
     "output_type": "stream",
     "text": [
      "{'w1': 0.4979690757693245, 'w2': 0.5412024356549263, 'w3': 0.20365634947683106, 'w4': 0.8702902965383719, 'w5': 0.09603379927854927, 'threshold': 0.58}\n"
     ]
    },
    {
     "name": "stderr",
     "output_type": "stream",
     "text": [
      "[I 2023-06-23 17:25:15,250] Trial 119 finished with value: 0.6730567812919617 and parameters: {'w1': 0.58622752970464, 'w2': 0.4850746982260796, 'w3': 0.29033514095547397, 'w4': 0.9480956172545921, 'w5': 0.13401493628420572}. Best is trial 72 with value: 0.6732414364814758.\n"
     ]
    },
    {
     "name": "stdout",
     "output_type": "stream",
     "text": [
      "{'w1': 0.58622752970464, 'w2': 0.4850746982260796, 'w3': 0.29033514095547397, 'w4': 0.9480956172545921, 'w5': 0.13401493628420572, 'threshold': 0.57}\n"
     ]
    },
    {
     "name": "stderr",
     "output_type": "stream",
     "text": [
      "[I 2023-06-23 17:25:16,284] Trial 120 finished with value: 0.6730082631111145 and parameters: {'w1': 0.5398980010448424, 'w2': 0.4098728375419302, 'w3': 0.2657716546475034, 'w4': 0.8384841601368113, 'w5': 0.0668702686560555}. Best is trial 72 with value: 0.6732414364814758.\n"
     ]
    },
    {
     "name": "stdout",
     "output_type": "stream",
     "text": [
      "{'w1': 0.5398980010448424, 'w2': 0.4098728375419302, 'w3': 0.2657716546475034, 'w4': 0.8384841601368113, 'w5': 0.0668702686560555, 'threshold': 0.57}\n"
     ]
    },
    {
     "name": "stderr",
     "output_type": "stream",
     "text": [
      "[I 2023-06-23 17:25:17,306] Trial 121 finished with value: 0.6731773614883423 and parameters: {'w1': 0.5168796409006687, 'w2': 0.45091579978413143, 'w3': 0.18103505408394607, 'w4': 0.9996847131208976, 'w5': 0.014827208178656973}. Best is trial 72 with value: 0.6732414364814758.\n"
     ]
    },
    {
     "name": "stdout",
     "output_type": "stream",
     "text": [
      "{'w1': 0.5168796409006687, 'w2': 0.45091579978413143, 'w3': 0.18103505408394607, 'w4': 0.9996847131208976, 'w5': 0.014827208178656973, 'threshold': 0.57}\n"
     ]
    },
    {
     "name": "stderr",
     "output_type": "stream",
     "text": [
      "[I 2023-06-23 17:25:18,328] Trial 122 finished with value: 0.6731950640678406 and parameters: {'w1': 0.47503716092000303, 'w2': 0.46260897065587736, 'w3': 0.1572758507509871, 'w4': 0.9513059603258753, 'w5': 0.014644940884819454}. Best is trial 72 with value: 0.6732414364814758.\n"
     ]
    },
    {
     "name": "stdout",
     "output_type": "stream",
     "text": [
      "{'w1': 0.47503716092000303, 'w2': 0.46260897065587736, 'w3': 0.1572758507509871, 'w4': 0.9513059603258753, 'w5': 0.014644940884819454, 'threshold': 0.57}\n"
     ]
    },
    {
     "name": "stderr",
     "output_type": "stream",
     "text": [
      "[I 2023-06-23 17:25:19,350] Trial 123 finished with value: 0.6731486320495605 and parameters: {'w1': 0.47250176547181844, 'w2': 0.4607954598502858, 'w3': 0.15968545160752526, 'w4': 0.9543616773807309, 'w5': 0.0008393764648555041}. Best is trial 72 with value: 0.6732414364814758.\n"
     ]
    },
    {
     "name": "stdout",
     "output_type": "stream",
     "text": [
      "{'w1': 0.47250176547181844, 'w2': 0.4607954598502858, 'w3': 0.15968545160752526, 'w4': 0.9543616773807309, 'w5': 0.0008393764648555041, 'threshold': 0.57}\n"
     ]
    },
    {
     "name": "stderr",
     "output_type": "stream",
     "text": [
      "[I 2023-06-23 17:25:20,373] Trial 124 finished with value: 0.6730671525001526 and parameters: {'w1': 0.4889402877128282, 'w2': 0.4287736785784288, 'w3': 0.08850622722796872, 'w4': 0.9987268422279607, 'w5': 0.04652990251362718}. Best is trial 72 with value: 0.6732414364814758.\n"
     ]
    },
    {
     "name": "stdout",
     "output_type": "stream",
     "text": [
      "{'w1': 0.4889402877128282, 'w2': 0.4287736785784288, 'w3': 0.08850622722796872, 'w4': 0.9987268422279607, 'w5': 0.04652990251362718, 'threshold': 0.57}\n"
     ]
    },
    {
     "name": "stderr",
     "output_type": "stream",
     "text": [
      "[I 2023-06-23 17:25:21,395] Trial 125 finished with value: 0.6728553771972656 and parameters: {'w1': 0.5156591974438086, 'w2': 0.5101014038541246, 'w3': 0.10830818015895806, 'w4': 0.9318892744630731, 'w5': 0.08255445079182669}. Best is trial 72 with value: 0.6732414364814758.\n"
     ]
    },
    {
     "name": "stdout",
     "output_type": "stream",
     "text": [
      "{'w1': 0.5156591974438086, 'w2': 0.5101014038541246, 'w3': 0.10830818015895806, 'w4': 0.9318892744630731, 'w5': 0.08255445079182669, 'threshold': 0.57}\n"
     ]
    },
    {
     "name": "stderr",
     "output_type": "stream",
     "text": [
      "[I 2023-06-23 17:25:22,417] Trial 126 finished with value: 0.6730254292488098 and parameters: {'w1': 0.5511831415281249, 'w2': 0.4592880608077379, 'w3': 0.18452870058097148, 'w4': 0.9094517099684352, 'w5': 0.038772955168524914}. Best is trial 72 with value: 0.6732414364814758.\n"
     ]
    },
    {
     "name": "stdout",
     "output_type": "stream",
     "text": [
      "{'w1': 0.5511831415281249, 'w2': 0.4592880608077379, 'w3': 0.18452870058097148, 'w4': 0.9094517099684352, 'w5': 0.038772955168524914, 'threshold': 0.57}\n"
     ]
    },
    {
     "name": "stderr",
     "output_type": "stream",
     "text": [
      "[I 2023-06-23 17:25:23,439] Trial 127 finished with value: 0.6729575395584106 and parameters: {'w1': 0.4225702843076848, 'w2': 0.43691131858988846, 'w3': 0.12452247565801619, 'w4': 0.9612662733225822, 'w5': 0.05915318739792133}. Best is trial 72 with value: 0.6732414364814758.\n"
     ]
    },
    {
     "name": "stdout",
     "output_type": "stream",
     "text": [
      "{'w1': 0.4225702843076848, 'w2': 0.43691131858988846, 'w3': 0.12452247565801619, 'w4': 0.9612662733225822, 'w5': 0.05915318739792133, 'threshold': 0.57}\n"
     ]
    },
    {
     "name": "stderr",
     "output_type": "stream",
     "text": [
      "[I 2023-06-23 17:25:24,461] Trial 128 finished with value: 0.6731616854667664 and parameters: {'w1': 0.4650841639357764, 'w2': 0.410690939788268, 'w3': 0.15605045054521538, 'w4': 0.9377102544590827, 'w5': 0.0001850365963579348}. Best is trial 72 with value: 0.6732414364814758.\n"
     ]
    },
    {
     "name": "stdout",
     "output_type": "stream",
     "text": [
      "{'w1': 0.4650841639357764, 'w2': 0.410690939788268, 'w3': 0.15605045054521538, 'w4': 0.9377102544590827, 'w5': 0.0001850365963579348, 'threshold': 0.57}\n"
     ]
    },
    {
     "name": "stderr",
     "output_type": "stream",
     "text": [
      "[I 2023-06-23 17:25:25,483] Trial 129 finished with value: 0.6729859113693237 and parameters: {'w1': 0.4470931381208106, 'w2': 0.3711141379585796, 'w3': 0.24028496790518247, 'w4': 0.9622428075605973, 'w5': 0.11117372291181375}. Best is trial 72 with value: 0.6732414364814758.\n"
     ]
    },
    {
     "name": "stdout",
     "output_type": "stream",
     "text": [
      "{'w1': 0.4470931381208106, 'w2': 0.3711141379585796, 'w3': 0.24028496790518247, 'w4': 0.9622428075605973, 'w5': 0.11117372291181375, 'threshold': 0.57}\n"
     ]
    },
    {
     "name": "stderr",
     "output_type": "stream",
     "text": [
      "[I 2023-06-23 17:25:26,506] Trial 130 finished with value: 0.6731049418449402 and parameters: {'w1': 0.5881364547337862, 'w2': 0.5200080573048608, 'w3': 0.18541628440963323, 'w4': 0.9998016412920088, 'w5': 0.02101120670522496}. Best is trial 72 with value: 0.6732414364814758.\n"
     ]
    },
    {
     "name": "stdout",
     "output_type": "stream",
     "text": [
      "{'w1': 0.5881364547337862, 'w2': 0.5200080573048608, 'w3': 0.18541628440963323, 'w4': 0.9998016412920088, 'w5': 0.02101120670522496, 'threshold': 0.57}\n"
     ]
    },
    {
     "name": "stderr",
     "output_type": "stream",
     "text": [
      "[I 2023-06-23 17:25:27,529] Trial 131 finished with value: 0.6731634736061096 and parameters: {'w1': 0.508115774537681, 'w2': 0.4756403424869069, 'w3': 0.21453770414564843, 'w4': 0.9688445506325374, 'w5': 0.023700346307024302}. Best is trial 72 with value: 0.6732414364814758.\n"
     ]
    },
    {
     "name": "stdout",
     "output_type": "stream",
     "text": [
      "{'w1': 0.508115774537681, 'w2': 0.4756403424869069, 'w3': 0.21453770414564843, 'w4': 0.9688445506325374, 'w5': 0.023700346307024302, 'threshold': 0.57}\n"
     ]
    },
    {
     "name": "stderr",
     "output_type": "stream",
     "text": [
      "[I 2023-06-23 17:25:28,552] Trial 132 finished with value: 0.6731665730476379 and parameters: {'w1': 0.5290614192479474, 'w2': 0.4920562551623142, 'w3': 0.22298291289684888, 'w4': 0.9816967040534958, 'w5': 0.04032515283629116}. Best is trial 72 with value: 0.6732414364814758.\n"
     ]
    },
    {
     "name": "stdout",
     "output_type": "stream",
     "text": [
      "{'w1': 0.5290614192479474, 'w2': 0.4920562551623142, 'w3': 0.22298291289684888, 'w4': 0.9816967040534958, 'w5': 0.04032515283629116, 'threshold': 0.57}\n"
     ]
    },
    {
     "name": "stderr",
     "output_type": "stream",
     "text": [
      "[I 2023-06-23 17:25:29,575] Trial 133 finished with value: 0.6731632351875305 and parameters: {'w1': 0.495434426919408, 'w2': 0.4353954539572541, 'w3': 0.2035572650261928, 'w4': 0.9241730592427212, 'w5': 0.013919955276881226}. Best is trial 72 with value: 0.6732414364814758.\n"
     ]
    },
    {
     "name": "stdout",
     "output_type": "stream",
     "text": [
      "{'w1': 0.495434426919408, 'w2': 0.4353954539572541, 'w3': 0.2035572650261928, 'w4': 0.9241730592427212, 'w5': 0.013919955276881226, 'threshold': 0.57}\n"
     ]
    },
    {
     "name": "stderr",
     "output_type": "stream",
     "text": [
      "[I 2023-06-23 17:25:30,598] Trial 134 finished with value: 0.6729881167411804 and parameters: {'w1': 0.5571584701672055, 'w2': 0.454803541322232, 'w3': 0.14496931895822712, 'w4': 0.983728855096114, 'w5': 0.0727930635742618}. Best is trial 72 with value: 0.6732414364814758.\n"
     ]
    },
    {
     "name": "stdout",
     "output_type": "stream",
     "text": [
      "{'w1': 0.5571584701672055, 'w2': 0.454803541322232, 'w3': 0.14496931895822712, 'w4': 0.983728855096114, 'w5': 0.0727930635742618, 'threshold': 0.57}\n"
     ]
    },
    {
     "name": "stderr",
     "output_type": "stream",
     "text": [
      "[I 2023-06-23 17:25:31,621] Trial 135 finished with value: 0.6732140183448792 and parameters: {'w1': 0.477685003722193, 'w2': 0.47231370920684246, 'w3': 0.17276390483497803, 'w4': 0.9489192321415645, 'w5': 0.05138728997733266}. Best is trial 72 with value: 0.6732414364814758.\n"
     ]
    },
    {
     "name": "stdout",
     "output_type": "stream",
     "text": [
      "{'w1': 0.477685003722193, 'w2': 0.47231370920684246, 'w3': 0.17276390483497803, 'w4': 0.9489192321415645, 'w5': 0.05138728997733266, 'threshold': 0.57}\n"
     ]
    },
    {
     "name": "stderr",
     "output_type": "stream",
     "text": [
      "[I 2023-06-23 17:25:32,643] Trial 136 finished with value: 0.6731576919555664 and parameters: {'w1': 0.4784013797373061, 'w2': 0.40482983469585737, 'w3': 0.16842275895131392, 'w4': 0.8993444701035639, 'w5': 0.05297335262699027}. Best is trial 72 with value: 0.6732414364814758.\n"
     ]
    },
    {
     "name": "stdout",
     "output_type": "stream",
     "text": [
      "{'w1': 0.4784013797373061, 'w2': 0.40482983469585737, 'w3': 0.16842275895131392, 'w4': 0.8993444701035639, 'w5': 0.05297335262699027, 'threshold': 0.57}\n"
     ]
    },
    {
     "name": "stderr",
     "output_type": "stream",
     "text": [
      "[I 2023-06-23 17:25:33,665] Trial 137 finished with value: 0.672876238822937 and parameters: {'w1': 0.41153006858424196, 'w2': 0.4637552100770877, 'w3': 0.11322641278796566, 'w4': 0.9448320488461822, 'w5': 0.09695654874188306}. Best is trial 72 with value: 0.6732414364814758.\n"
     ]
    },
    {
     "name": "stdout",
     "output_type": "stream",
     "text": [
      "{'w1': 0.41153006858424196, 'w2': 0.4637552100770877, 'w3': 0.11322641278796566, 'w4': 0.9448320488461822, 'w5': 0.09695654874188306, 'threshold': 0.57}\n"
     ]
    },
    {
     "name": "stderr",
     "output_type": "stream",
     "text": [
      "[I 2023-06-23 17:25:34,688] Trial 138 finished with value: 0.6725360751152039 and parameters: {'w1': 0.4348853508958648, 'w2': 0.42476545723612635, 'w3': 0.08100815525158293, 'w4': 0.872980355382074, 'w5': 0.14995105042889117}. Best is trial 72 with value: 0.6732414364814758.\n"
     ]
    },
    {
     "name": "stdout",
     "output_type": "stream",
     "text": [
      "{'w1': 0.4348853508958648, 'w2': 0.42476545723612635, 'w3': 0.08100815525158293, 'w4': 0.872980355382074, 'w5': 0.14995105042889117, 'threshold': 0.57}\n"
     ]
    },
    {
     "name": "stderr",
     "output_type": "stream",
     "text": [
      "[I 2023-06-23 17:25:35,710] Trial 139 finished with value: 0.6727222800254822 and parameters: {'w1': 0.4659210646627705, 'w2': 0.5047912582591352, 'w3': 0.1320711317829709, 'w4': 0.9589269168878822, 'w5': 0.0004052813502660943}. Best is trial 72 with value: 0.6732414364814758.\n"
     ]
    },
    {
     "name": "stdout",
     "output_type": "stream",
     "text": [
      "{'w1': 0.4659210646627705, 'w2': 0.5047912582591352, 'w3': 0.1320711317829709, 'w4': 0.9589269168878822, 'w5': 0.0004052813502660943, 'threshold': 0.57}\n"
     ]
    },
    {
     "name": "stderr",
     "output_type": "stream",
     "text": [
      "[I 2023-06-23 17:25:36,732] Trial 140 finished with value: 0.6731035113334656 and parameters: {'w1': 0.5297934979583983, 'w2': 0.5272168212132449, 'w3': 0.19037598437039047, 'w4': 0.99970711852627, 'w5': 0.08303059915921455}. Best is trial 72 with value: 0.6732414364814758.\n"
     ]
    },
    {
     "name": "stdout",
     "output_type": "stream",
     "text": [
      "{'w1': 0.5297934979583983, 'w2': 0.5272168212132449, 'w3': 0.19037598437039047, 'w4': 0.99970711852627, 'w5': 0.08303059915921455, 'threshold': 0.57}\n"
     ]
    },
    {
     "name": "stderr",
     "output_type": "stream",
     "text": [
      "[I 2023-06-23 17:25:37,755] Trial 141 finished with value: 0.6732190251350403 and parameters: {'w1': 0.5044318508035152, 'w2': 0.4785221280480915, 'w3': 0.16200709785191358, 'w4': 0.9801856881017654, 'w5': 0.029064836516370898}. Best is trial 72 with value: 0.6732414364814758.\n"
     ]
    },
    {
     "name": "stdout",
     "output_type": "stream",
     "text": [
      "{'w1': 0.5044318508035152, 'w2': 0.4785221280480915, 'w3': 0.16200709785191358, 'w4': 0.9801856881017654, 'w5': 0.029064836516370898, 'threshold': 0.57}\n"
     ]
    },
    {
     "name": "stderr",
     "output_type": "stream",
     "text": [
      "[I 2023-06-23 17:25:38,778] Trial 142 finished with value: 0.673209011554718 and parameters: {'w1': 0.482871279630461, 'w2': 0.44789841071150366, 'w3': 0.16227077538480572, 'w4': 0.9269857763658239, 'w5': 0.037839268928373165}. Best is trial 72 with value: 0.6732414364814758.\n"
     ]
    },
    {
     "name": "stdout",
     "output_type": "stream",
     "text": [
      "{'w1': 0.482871279630461, 'w2': 0.44789841071150366, 'w3': 0.16227077538480572, 'w4': 0.9269857763658239, 'w5': 0.037839268928373165, 'threshold': 0.57}\n"
     ]
    },
    {
     "name": "stderr",
     "output_type": "stream",
     "text": [
      "[I 2023-06-23 17:25:39,801] Trial 143 finished with value: 0.6731133460998535 and parameters: {'w1': 0.5148237780053805, 'w2': 0.4728922840925931, 'w3': 0.15104338002619805, 'w4': 0.9231970441103075, 'w5': 0.03146462282063053}. Best is trial 72 with value: 0.6732414364814758.\n"
     ]
    },
    {
     "name": "stdout",
     "output_type": "stream",
     "text": [
      "{'w1': 0.5148237780053805, 'w2': 0.4728922840925931, 'w3': 0.15104338002619805, 'w4': 0.9231970441103075, 'w5': 0.03146462282063053, 'threshold': 0.57}\n"
     ]
    },
    {
     "name": "stderr",
     "output_type": "stream",
     "text": [
      "[I 2023-06-23 17:25:40,824] Trial 144 finished with value: 0.6731336116790771 and parameters: {'w1': 0.44774726318522373, 'w2': 0.453899592637023, 'w3': 0.17267762024320085, 'w4': 0.965139052431322, 'w5': 0.04200719544845731}. Best is trial 72 with value: 0.6732414364814758.\n"
     ]
    },
    {
     "name": "stdout",
     "output_type": "stream",
     "text": [
      "{'w1': 0.44774726318522373, 'w2': 0.453899592637023, 'w3': 0.17267762024320085, 'w4': 0.965139052431322, 'w5': 0.04200719544845731, 'threshold': 0.57}\n"
     ]
    },
    {
     "name": "stderr",
     "output_type": "stream",
     "text": [
      "[I 2023-06-23 17:25:41,847] Trial 145 finished with value: 0.6720171570777893 and parameters: {'w1': 0.5602806694573896, 'w2': 0.5515831128260362, 'w3': 0.106379866915685, 'w4': 0.9032695755886339, 'w5': 0.35701707065107857}. Best is trial 72 with value: 0.6732414364814758.\n"
     ]
    },
    {
     "name": "stdout",
     "output_type": "stream",
     "text": [
      "{'w1': 0.5602806694573896, 'w2': 0.5515831128260362, 'w3': 0.106379866915685, 'w4': 0.9032695755886339, 'w5': 0.35701707065107857, 'threshold': 0.57}\n"
     ]
    },
    {
     "name": "stderr",
     "output_type": "stream",
     "text": [
      "[I 2023-06-23 17:25:42,870] Trial 146 finished with value: 0.6731970906257629 and parameters: {'w1': 0.49726050499246865, 'w2': 0.49841537383677326, 'w3': 0.15273410055069492, 'w4': 0.9786868535730732, 'w5': 0.020115883850461796}. Best is trial 72 with value: 0.6732414364814758.\n"
     ]
    },
    {
     "name": "stdout",
     "output_type": "stream",
     "text": [
      "{'w1': 0.49726050499246865, 'w2': 0.49841537383677326, 'w3': 0.15273410055069492, 'w4': 0.9786868535730732, 'w5': 0.020115883850461796, 'threshold': 0.57}\n"
     ]
    },
    {
     "name": "stderr",
     "output_type": "stream",
     "text": [
      "[I 2023-06-23 17:25:43,894] Trial 147 finished with value: 0.6727876663208008 and parameters: {'w1': 0.4880773773356801, 'w2': 0.5027835196900531, 'w3': 0.13035531192940464, 'w4': 0.6682247324229658, 'w5': 0.0562146469583674}. Best is trial 72 with value: 0.6732414364814758.\n"
     ]
    },
    {
     "name": "stdout",
     "output_type": "stream",
     "text": [
      "{'w1': 0.4880773773356801, 'w2': 0.5027835196900531, 'w3': 0.13035531192940464, 'w4': 0.6682247324229658, 'w5': 0.0562146469583674, 'threshold': 0.58}\n"
     ]
    },
    {
     "name": "stderr",
     "output_type": "stream",
     "text": [
      "[I 2023-06-23 17:25:44,932] Trial 148 finished with value: 0.6731854677200317 and parameters: {'w1': 0.4603305440055196, 'w2': 0.3980349378145648, 'w3': 0.16289966107763912, 'w4': 0.9389803562548571, 'w5': 0.026314981604581726}. Best is trial 72 with value: 0.6732414364814758.\n"
     ]
    },
    {
     "name": "stdout",
     "output_type": "stream",
     "text": [
      "{'w1': 0.4603305440055196, 'w2': 0.3980349378145648, 'w3': 0.16289966107763912, 'w4': 0.9389803562548571, 'w5': 0.026314981604581726, 'threshold': 0.57}\n"
     ]
    },
    {
     "name": "stderr",
     "output_type": "stream",
     "text": [
      "[I 2023-06-23 17:25:45,972] Trial 149 finished with value: 0.6718276143074036 and parameters: {'w1': 0.4052706094147996, 'w2': 0.39222911241719083, 'w3': 0.15008834567401932, 'w4': 0.9844828537809368, 'w5': 0.44511909438352815}. Best is trial 72 with value: 0.6732414364814758.\n"
     ]
    },
    {
     "name": "stdout",
     "output_type": "stream",
     "text": [
      "{'w1': 0.4052706094147996, 'w2': 0.39222911241719083, 'w3': 0.15008834567401932, 'w4': 0.9844828537809368, 'w5': 0.44511909438352815, 'threshold': 0.56}\n"
     ]
    },
    {
     "name": "stderr",
     "output_type": "stream",
     "text": [
      "[I 2023-06-23 17:25:47,017] Trial 150 finished with value: 0.6722601652145386 and parameters: {'w1': 0.45896009408980054, 'w2': 0.4422708244631584, 'w3': 0.09688495004113896, 'w4': 0.922080729338604, 'w5': 0.22644726138022622}. Best is trial 72 with value: 0.6732414364814758.\n"
     ]
    },
    {
     "name": "stdout",
     "output_type": "stream",
     "text": [
      "{'w1': 0.45896009408980054, 'w2': 0.4422708244631584, 'w3': 0.09688495004113896, 'w4': 0.922080729338604, 'w5': 0.22644726138022622, 'threshold': 0.57}\n"
     ]
    },
    {
     "name": "stderr",
     "output_type": "stream",
     "text": [
      "[I 2023-06-23 17:25:48,062] Trial 151 finished with value: 0.6731066703796387 and parameters: {'w1': 0.42746587617280174, 'w2': 0.40806675625276795, 'w3': 0.16775883798590172, 'w4': 0.9447785097302795, 'w5': 0.030259901271263004}. Best is trial 72 with value: 0.6732414364814758.\n"
     ]
    },
    {
     "name": "stdout",
     "output_type": "stream",
     "text": [
      "{'w1': 0.42746587617280174, 'w2': 0.40806675625276795, 'w3': 0.16775883798590172, 'w4': 0.9447785097302795, 'w5': 0.030259901271263004, 'threshold': 0.57}\n"
     ]
    },
    {
     "name": "stderr",
     "output_type": "stream",
     "text": [
      "[I 2023-06-23 17:25:49,107] Trial 152 finished with value: 0.673328161239624 and parameters: {'w1': 0.4763666339158085, 'w2': 0.36319317859029926, 'w3': 0.17497096458403566, 'w4': 0.9625977184534652, 'w5': 0.019893007655351763}. Best is trial 152 with value: 0.673328161239624.\n"
     ]
    },
    {
     "name": "stdout",
     "output_type": "stream",
     "text": [
      "{'w1': 0.4763666339158085, 'w2': 0.36319317859029926, 'w3': 0.17497096458403566, 'w4': 0.9625977184534652, 'w5': 0.019893007655351763, 'threshold': 0.57}\n"
     ]
    }
   ],
   "source": [
    "def objective(trial):\n",
    "    params = {}    \n",
    "    for i in range(len(final_preds)):\n",
    "        params[f\"w{i+1}\"] = trial.suggest_float(f'w{i+1}', 0, 1)  \n",
    "        \n",
    "        \n",
    "    score, best_threshold  = boost_dice(params)\n",
    "    params['threshold'] = best_threshold\n",
    "    print(params)\n",
    "    return score\n",
    "\n",
    "study = optuna.create_study(direction='maximize')\n",
    "# study = optuna.create_study(direction='minimize')\n",
    "\n",
    "study.optimize(objective, n_trials=1500)\n",
    "\n",
    "best_params = study.best_params\n",
    "best_params"
   ]
  },
  {
   "cell_type": "code",
   "execution_count": null,
   "id": "f6f44e04",
   "metadata": {},
   "outputs": [],
   "source": [
    "best_params"
   ]
  },
  {
   "cell_type": "code",
   "execution_count": null,
   "id": "e63a6b39",
   "metadata": {},
   "outputs": [],
   "source": []
  },
  {
   "cell_type": "code",
   "execution_count": 55,
   "id": "7eed6aca",
   "metadata": {},
   "outputs": [],
   "source": [
    "x = torch.ones([32,3,3,256,256])"
   ]
  },
  {
   "cell_type": "code",
   "execution_count": 56,
   "id": "27a3505e",
   "metadata": {},
   "outputs": [
    {
     "data": {
      "text/plain": [
       "torch.Size([32, 3, 3, 256, 256])"
      ]
     },
     "execution_count": 56,
     "metadata": {},
     "output_type": "execute_result"
    }
   ],
   "source": [
    "x.shape"
   ]
  },
  {
   "cell_type": "code",
   "execution_count": 57,
   "id": "831f24ca",
   "metadata": {},
   "outputs": [
    {
     "name": "stdout",
     "output_type": "stream",
     "text": [
      "torch.Size([32, 3, 256, 256])\n",
      "torch.Size([32, 3, 256, 256])\n"
     ]
    }
   ],
   "source": [
    "for a in [x[:, 0,:,:,:], x[:, 1,:,:,:]]:\n",
    "    print(a.shape)"
   ]
  },
  {
   "cell_type": "code",
   "execution_count": null,
   "id": "ccabdc2f",
   "metadata": {},
   "outputs": [],
   "source": [
    "pred = torch.mean(torch.stack(pred_tta), dim=0)            \n"
   ]
  }
 ],
 "metadata": {
  "kernelspec": {
   "display_name": "Python 3 (ipykernel)",
   "language": "python",
   "name": "python3"
  },
  "language_info": {
   "codemirror_mode": {
    "name": "ipython",
    "version": 3
   },
   "file_extension": ".py",
   "mimetype": "text/x-python",
   "name": "python",
   "nbconvert_exporter": "python",
   "pygments_lexer": "ipython3",
   "version": "3.10.11"
  }
 },
 "nbformat": 4,
 "nbformat_minor": 5
}
