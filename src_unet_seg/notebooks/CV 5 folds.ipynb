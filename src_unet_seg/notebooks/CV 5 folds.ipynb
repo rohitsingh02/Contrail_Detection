{
 "cells": [
  {
   "cell_type": "code",
   "execution_count": 80,
   "id": "0c125d77",
   "metadata": {},
   "outputs": [],
   "source": [
    "import pandas as pd\n",
    "import ttach as tta"
   ]
  },
  {
   "cell_type": "code",
   "execution_count": 81,
   "id": "645a79e3",
   "metadata": {},
   "outputs": [],
   "source": [
    "# !pip install optuna\n",
    "# !pip install --upgrade numpy"
   ]
  },
  {
   "cell_type": "code",
   "execution_count": 82,
   "id": "77e5af39",
   "metadata": {},
   "outputs": [],
   "source": [
    "import os\n",
    "import shutil\n",
    "import pathlib\n",
    "import gc\n",
    "from pathlib import Path\n",
    "from PIL import Image\n",
    "import pandas as pd\n",
    "import numpy as np\n",
    "import cv2 as cv\n",
    "import random\n",
    "import matplotlib.pyplot as plt\n",
    "# from tqdm.auto import tqdm\n",
    "from tqdm.notebook import tqdm\n",
    "import torch\n",
    "import torch.nn as nn\n",
    "import torch.nn.functional as F\n",
    "from torch import optim\n",
    "import torch\n",
    "from torch.utils.data import DataLoader, random_split\n",
    "from torch.utils.data import Dataset\n",
    "\n",
    "import torchvision\n",
    "from torchvision import datasets\n",
    "import cv2\n",
    "from torch.cuda import amp\n",
    "\n",
    "import torchvision.transforms as T\n",
    "from torchvision.transforms import Compose, ToTensor, Resize\n",
    "from torchvision.utils import make_grid\n",
    "import optuna\n",
    "\n",
    "import albumentations as A\n",
    "from albumentations.pytorch import ToTensorV2\n",
    "import segmentation_models_pytorch as smp"
   ]
  },
  {
   "cell_type": "code",
   "execution_count": 83,
   "id": "157ff8d6",
   "metadata": {},
   "outputs": [],
   "source": [
    "def seed_everything(seed=42):\n",
    "    '''Sets the seed of the entire notebook so results are the same every time we run.\n",
    "    This is for REPRODUCIBILITY.'''\n",
    "    np.random.seed(seed)\n",
    "    random.seed(seed)\n",
    "    torch.manual_seed(seed)\n",
    "    torch.cuda.manual_seed(seed)\n",
    "    torch.backends.cudnn.deterministic = True\n",
    "    torch.backends.cudnn.benchmark = False\n",
    "    os.environ['PYTHONHASHSEED'] = str(seed)"
   ]
  },
  {
   "cell_type": "code",
   "execution_count": 84,
   "id": "12e6bf9e",
   "metadata": {},
   "outputs": [],
   "source": [
    "seed_everything(42)"
   ]
  },
  {
   "cell_type": "code",
   "execution_count": 85,
   "id": "c5654e79",
   "metadata": {},
   "outputs": [],
   "source": [
    "CFGS = [           \n",
    "#     {\n",
    "#         'model_name': 'Unet',\n",
    "#         'backbone': 'efficientnet-b7',\n",
    "#         'img_size': [256, 256],\n",
    "#         'num_classes': 1,\n",
    "#         'model_pth': '../../output/exp_01/Unet/efficientnet-b7-256/checkpoint_dice_fold0.pth',\n",
    "#         'threshold': 0.34,\n",
    "#         'tta': True, \n",
    "#     },\n",
    "#     {\n",
    "#         'model_name': 'Unet',\n",
    "#         'backbone': 'efficientnet-b7',\n",
    "#         'img_size': [256, 256],\n",
    "#         'num_classes': 1,\n",
    "#         'model_pth': '../../output/exp_01/Unet/efficientnet-b7-256/checkpoint_dice_fold1.pth',\n",
    "#         'threshold': 0.29,\n",
    "#         'tta': True, \n",
    "#     },\n",
    "#     {\n",
    "#         'model_name': 'Unet',\n",
    "#         'backbone': 'efficientnet-b7',\n",
    "#         'img_size': [256, 256],\n",
    "#         'num_classes': 1,\n",
    "#         'model_pth': '../../output/exp_01/Unet/efficientnet-b7-256/checkpoint_dice_fold2.pth',\n",
    "#         'threshold': 0.4,\n",
    "#         'tta': True, \n",
    "#     },\n",
    "#     {\n",
    "#         'model_name': 'Unet',\n",
    "#         'backbone': 'efficientnet-b7',\n",
    "#         'img_size': [256, 256],\n",
    "#         'num_classes': 1,\n",
    "#         'model_pth': '../../output/exp_01/Unet/efficientnet-b7-256/checkpoint_dice_fold3.pth',\n",
    "#         'threshold': 0.38,\n",
    "#         'tta': True, \n",
    "#     },\n",
    "#     {\n",
    "#         'model_name': 'Unet',\n",
    "#         'backbone': 'efficientnet-b7',\n",
    "#         'img_size': [256, 256],\n",
    "#         'num_classes': 1,\n",
    "#         'model_pth': '../../output/exp_01/Unet/efficientnet-b7-256/checkpoint_dice_fold4.pth',\n",
    "#         'threshold': 0.41,\n",
    "#         'tta': True, \n",
    "#     },\n",
    "    \n",
    "    \n",
    "#     {\n",
    "#         'model_name': 'Unet',\n",
    "#         'backbone': 'efficientnet-b7',\n",
    "#         'img_size': [256, 256],\n",
    "#         'num_classes': 1,\n",
    "#         'model_pth': '../../output/exp_01_s2/Unet/efficientnet-b7-256/checkpoint_dice_fold0.pth',\n",
    "#         'threshold': 0.34,\n",
    "#         'tta': True, \n",
    "#     },\n",
    "# #     {\n",
    "# #         'model_name': 'Unet',\n",
    "# #         'backbone': 'efficientnet-b7',\n",
    "# #         'img_size': [256, 256],\n",
    "# #         'num_classes': 1,\n",
    "# #         'model_pth': '../../output/exp_01_s2/Unet/efficientnet-b7-256/checkpoint_dice_fold1.pth',\n",
    "# #         'threshold': 0.29,\n",
    "# #         'tta': True, \n",
    "# #     },\n",
    "#     {\n",
    "#         'model_name': 'Unet',\n",
    "#         'backbone': 'efficientnet-b7',\n",
    "#         'img_size': [256, 256],\n",
    "#         'num_classes': 1,\n",
    "#         'model_pth': '../../output/exp_01_s2/Unet/efficientnet-b7-256/checkpoint_dice_fold2.pth',\n",
    "#         'threshold': 0.4,\n",
    "#         'tta': True, \n",
    "#     },\n",
    "#     {\n",
    "#         'model_name': 'Unet',\n",
    "#         'backbone': 'efficientnet-b7',\n",
    "#         'img_size': [256, 256],\n",
    "#         'num_classes': 1,\n",
    "#         'model_pth': '../../output/exp_01_s2/Unet/efficientnet-b7-256/checkpoint_dice_fold3.pth',\n",
    "#         'threshold': 0.38,\n",
    "#         'tta': True, \n",
    "#     },\n",
    "# #     {\n",
    "# #         'model_name': 'Unet',\n",
    "# #         'backbone': 'efficientnet-b7',\n",
    "# #         'img_size': [256, 256],\n",
    "# #         'num_classes': 1,\n",
    "# #         'model_pth': '../../output/exp_01_s2/Unet/efficientnet-b7-256/checkpoint_dice_fold4.pth',\n",
    "# #         'threshold': 0.41,\n",
    "# #         'tta': True, \n",
    "# #     },\n",
    "    \n",
    "    \n",
    "    {\n",
    "        'model_name': 'Unet',\n",
    "        'backbone': 'efficientnet-b7',\n",
    "        'img_size': [256, 256],\n",
    "        'num_classes': 1,\n",
    "        'model_pth': '../../output/exp_01_s2/Unet/efficientnet-b7-256/checkpoint_dice_fold0.pth',\n",
    "        'threshold': 0.34,\n",
    "        'trained_by': 'rohit',\n",
    "        'tta': True, \n",
    "    },\n",
    "    \n",
    "    \n",
    "    {\n",
    "        'model_name': 'Unet',\n",
    "        'backbone': 'tf_efficientnet_b8',\n",
    "        'img_size': [512, 512],\n",
    "        'num_classes': 1,\n",
    "        'model_pth': '../../output/nirjhar/effb8modelv2fold0_tf_efficientnet_b8_best_epochstage2-00.bin',\n",
    "        'threshold': 0.34,\n",
    "        'trained_by': 'nirjhar',\n",
    "        'tta': True, \n",
    "    },\n",
    "    \n",
    "    \n",
    "    \n",
    "]"
   ]
  },
  {
   "cell_type": "code",
   "execution_count": 86,
   "id": "2ddaafa6",
   "metadata": {},
   "outputs": [],
   "source": [
    "device = torch.device('cuda' if torch.cuda.is_available() else 'cpu')\n"
   ]
  },
  {
   "cell_type": "code",
   "execution_count": 87,
   "id": "d58a5058",
   "metadata": {},
   "outputs": [],
   "source": [
    "class ContrailDataset:\n",
    "    def __init__(self, df, transform=None):\n",
    "        self.df = df  \n",
    "        self.images = df['image']\n",
    "        self.labels = df['label']\n",
    "        self.transform =transform\n",
    "#         self.tta = tta_count\n",
    "        \n",
    "        \n",
    "    def __len__(self):\n",
    "        return len(self.images)\n",
    "        \n",
    "    def __getitem__(self, idx):\n",
    "        image = np.load(\"../../input/\" + self.images[idx]).astype(float)   \n",
    "        label = np.load(\"../../input/\" + self.labels[idx]).astype(float)\n",
    "        \n",
    "        \n",
    "        if self.transform :\n",
    "            data = self.transform(image=image, mask=label)\n",
    "            image  = data['image']\n",
    "            label  = data['mask']\n",
    "            image = np.transpose(image, (2, 0, 1))\n",
    "            label = np.transpose(label, (2, 0, 1)) \n",
    "            \n",
    "        return torch.tensor(image), torch.tensor(label)"
   ]
  },
  {
   "cell_type": "code",
   "execution_count": 88,
   "id": "985b3de5",
   "metadata": {},
   "outputs": [],
   "source": [
    "class Net(nn.Module):\n",
    "    def __init__(self, cfg):\n",
    "        super().__init__()\n",
    "        self.cfg = cfg\n",
    "        \n",
    "        self.model = smp.Unet(\n",
    "            encoder_name=cfg[\"backbone\"],\n",
    "            encoder_weights=None,    \n",
    "            in_channels=3,            \n",
    "            classes=cfg[\"num_classes\"],     \n",
    "            activation=None\n",
    "        )\n",
    "        \n",
    "    \n",
    "    def forward(self, inputs):\n",
    "        mask = self.model(inputs)\n",
    "        return mask\n",
    "    \n",
    "    \n",
    "    \n",
    "import segmentation_models_pytorch as smp\n",
    "import timm\n",
    "n_blocks = 4\n",
    "\n",
    "class TimmSegModel(nn.Module):\n",
    "    def __init__(self, cfg, segtype='unet', pretrained=True):\n",
    "        super(TimmSegModel, self).__init__()\n",
    "        self.conv1 = nn.Conv2d(3, 6, 3, stride=1, padding=1, bias=False)\n",
    "        self.conv2 = nn.Conv2d(6, 12, 3, stride=1, padding=1, bias=False)\n",
    "        self.conv3 = nn.Conv2d(12, 36, 3, stride=1, padding=1, bias=False)\n",
    "        self.mybn1 = nn.BatchNorm2d(6)\n",
    "        self.mybn2 = nn.BatchNorm2d(12)\n",
    "        self.mybn3 = nn.BatchNorm2d(36)     \n",
    "        self.encoder = timm.create_model(\n",
    "            cfg['backbone'],\n",
    "            in_chans=3,\n",
    "            features_only=True,\n",
    "            drop_rate=0.8,\n",
    "            drop_path_rate=0.5,\n",
    "            pretrained=True\n",
    "        )\n",
    "        self.encoder.conv_stem=nn.Conv2d(6, 72, kernel_size=(3, 3), stride=(2, 2), padding=(1, 1), bias=False)\n",
    "\n",
    "        self.encoder.blocks[5] = nn.Identity()\n",
    "        self.encoder.blocks[6] = nn.Sequential(\n",
    "            nn.Conv2d(self.encoder.blocks[4][2].conv_pwl.out_channels, 320, 1),\n",
    "            nn.BatchNorm2d(320),\n",
    "            nn.ReLU6(),\n",
    "        )\n",
    "        tr = torch.randn(1,6,64,64)\n",
    "        g = self.encoder(tr)\n",
    "        encoder_channels = [1] + [_.shape[1] for _ in g]\n",
    "        decoder_channels = [256, 128, 64, 32, 16]\n",
    "        if segtype == 'unet':\n",
    "            self.decoder = smp.decoders.unetplusplus.decoder.UnetPlusPlusDecoder(\n",
    "                encoder_channels=encoder_channels[:n_blocks+1],\n",
    "                decoder_channels=decoder_channels[:n_blocks],\n",
    "                n_blocks=n_blocks,\n",
    "            )\n",
    "\n",
    "        self.segmentation_head = nn.Conv2d(decoder_channels[n_blocks-1], cfg['num_classes'], kernel_size=(3, 3), stride=(1, 1), padding=(1, 1))\n",
    "\n",
    "    def forward(self,x):\n",
    "        x = F.relu6(self.mybn1(self.conv1(x)))\n",
    "        global_features = [0] + self.encoder(x)[:n_blocks]\n",
    "        seg_features = self.decoder(*global_features)\n",
    "        seg_features = self.segmentation_head(seg_features)\n",
    "        return seg_features\n",
    "    \n",
    "    \n",
    "    \n",
    "def load_model_timmunetplusplus(cfg):\n",
    "    model = TimmSegModel(cfg)\n",
    "    model.load_state_dict(torch.load(cfg['model_pth']))\n",
    "    return model\n",
    "    "
   ]
  },
  {
   "cell_type": "code",
   "execution_count": 89,
   "id": "07bfce0c",
   "metadata": {},
   "outputs": [],
   "source": [
    "def dice_coef(y_true, y_pred, thr=0.5, epsilon=1e-6):\n",
    "    y_true = y_true.to(torch.float32)\n",
    "    y_pred = (y_pred>thr).to(torch.float32)\n",
    "    inter = (y_true*y_pred).sum()\n",
    "    den = y_true.sum() + y_pred.sum()\n",
    "    dice = ((2*inter+epsilon)/(den+epsilon)).mean()\n",
    "    \n",
    "    return dice\n",
    "\n",
    "\n",
    "\n",
    "def get_transform(img_size):\n",
    "    transform = A.Compose([\n",
    "        A.Resize(*img_size, interpolation=cv2.INTER_NEAREST),\n",
    "    ], p=1.0)\n",
    "    return transform"
   ]
  },
  {
   "cell_type": "code",
   "execution_count": 90,
   "id": "646ce6cb",
   "metadata": {},
   "outputs": [],
   "source": [
    "# val_df = pd.read_csv(\"../../input/data_utils/val_df_filled.csv\")\n",
    "# train_df = pd.read_csv(\"../../input/data_utils/train_5_folds.csv\")\n",
    "# val_df = train_df.loc[train_df.fold == 0].reset_index(drop=True)\n",
    "\n",
    "\n",
    "\n",
    "# final_preds = []\n",
    "\n",
    "# for idx, cfg in enumerate(CFGS):\n",
    "#     print(cfg)\n",
    "#     val_transform = get_transform(cfg['img_size'])\n",
    "#     valid_dataset = ContrailDataset(val_df, transform=val_transform)  \n",
    "\n",
    "#     valid_loader = DataLoader(\n",
    "#         valid_dataset, \n",
    "#         batch_size = 32, #32, \n",
    "#         shuffle = False, \n",
    "#         num_workers = 2, \n",
    "#         pin_memory = True, \n",
    "#         drop_last = False\n",
    "#     )\n",
    "\n",
    "#     model = Net(cfg)    \n",
    "#     model = torch.nn.DataParallel(model).cuda()\n",
    "#     model.load_state_dict(torch.load(cfg['model_pth'], map_location=torch.device('cpu'))['model'])\n",
    "#     if cfg['tta']:\n",
    "#         model = tta.SegmentationTTAWrapper(model, tta.aliases.flip_transform(), merge_mode='mean')\n",
    "\n",
    "        \n",
    "#     model.to(device)\n",
    "#     model.eval()\n",
    "    \n",
    "#     preds = []\n",
    "#     masks_ = []\n",
    "    \n",
    "#     for index, (images, masks) in enumerate(tqdm(valid_loader)):  \n",
    "#         images  = images.to(device, dtype=torch.float)\n",
    "#         masks  = masks.to(device, dtype=torch.float)\n",
    "#         if cfg['img_size'][0] != 256:\n",
    "#             masks = torch.nn.functional.interpolate(masks, size=256, mode='nearest')             \n",
    "#         masks_.append(torch.squeeze(masks, dim=1))\n",
    "\n",
    "#         with torch.inference_mode():            \n",
    "#             pred = model(images)                \n",
    "#             pred = pred.sigmoid()\n",
    "        \n",
    "#             if cfg['img_size'][0] != 256:\n",
    "#                 pred = torch.nn.functional.interpolate(pred, size=256, mode='nearest') \n",
    "#             preds.append(torch.squeeze(pred, dim=1))\n",
    "\n",
    "    \n",
    "# #     model_masks = torch.stack(masks_, dim=0)\n",
    "# #     model_preds = torch.stack(preds, dim=0)\n",
    "    \n",
    "#     model_masks = torch.cat(masks_, dim=0)\n",
    "#     model_preds = torch.cat(preds, dim=0)\n",
    "    \n",
    "#     model_masks = torch.flatten(model_masks, start_dim=0, end_dim=1)\n",
    "#     model_preds = torch.flatten(model_preds, start_dim=0, end_dim=1)  \n",
    "#     dice_score = dice_coef(model_masks, model_preds).cpu().detach().numpy() \n",
    "#     dice_score_th = dice_coef(model_masks, model_preds, thr=cfg['threshold']).cpu().detach().numpy() \n",
    "        \n",
    "        \n",
    "        \n",
    "#     best_threshold = 0.0\n",
    "#     best_dice_score = 0.0\n",
    "#     for threshold in [i / 100 for i in range(101)] :        \n",
    "#         score = dice_coef(model_masks, model_preds, thr=threshold).cpu().detach().numpy() \n",
    "#         if score > best_dice_score:\n",
    "#             best_dice_score = score\n",
    "#             best_threshold = threshold\n",
    "    \n",
    "        \n",
    "#     print(best_dice_score, best_threshold)\n",
    "        \n",
    "        \n",
    "# #     print(dice_score, dice_score_th)\n",
    "#     final_preds.append(model_preds)\n",
    "    \n",
    "#     del model\n",
    "#     torch.cuda.empty_cache()\n",
    "#     gc.collect()\n",
    "    "
   ]
  },
  {
   "cell_type": "code",
   "execution_count": 91,
   "id": "7f3a0eb4",
   "metadata": {},
   "outputs": [
    {
     "name": "stdout",
     "output_type": "stream",
     "text": [
      "0 {'model_name': 'Unet', 'backbone': 'efficientnet-b7', 'img_size': [256, 256], 'num_classes': 1, 'model_pth': '../../output/exp_01_s2/Unet/efficientnet-b7-256/checkpoint_dice_fold0.pth', 'threshold': 0.34, 'trained_by': 'rohit', 'tta': True}\n"
     ]
    },
    {
     "data": {
      "application/vnd.jupyter.widget-view+json": {
       "model_id": "443e8659a32043219d3da2ce4ee39f86",
       "version_major": 2,
       "version_minor": 0
      },
      "text/plain": [
       "  0%|          | 0/129 [00:00<?, ?it/s]"
      ]
     },
     "metadata": {},
     "output_type": "display_data"
    },
    {
     "name": "stdout",
     "output_type": "stream",
     "text": [
      "0.6962851 0.42\n",
      "1 {'model_name': 'Unet', 'backbone': 'tf_efficientnet_b8', 'img_size': [512, 512], 'num_classes': 1, 'model_pth': '../../output/nirjhar/effb8modelv2fold0_tf_efficientnet_b8_best_epochstage2-00.bin', 'threshold': 0.34, 'trained_by': 'nirjhar', 'tta': True}\n"
     ]
    },
    {
     "data": {
      "application/vnd.jupyter.widget-view+json": {
       "model_id": "bb74bd57b9ad4796bca9f283791b8cb1",
       "version_major": 2,
       "version_minor": 0
      },
      "text/plain": [
       "  0%|          | 0/129 [00:00<?, ?it/s]"
      ]
     },
     "metadata": {},
     "output_type": "display_data"
    },
    {
     "name": "stdout",
     "output_type": "stream",
     "text": [
      "0.70107603 0.79\n"
     ]
    }
   ],
   "source": [
    "val_df = pd.read_csv(\"../../input/data_utils/val_df_filled.csv\")\n",
    "train_df = pd.read_csv(\"../../input/data_utils/train_5_folds.csv\")\n",
    "val_df = train_df.loc[train_df.fold == 0].reset_index(drop=True)\n",
    "\n",
    "\n",
    "final_preds = []\n",
    "final_masks = []\n",
    "folds = [0]\n",
    "\n",
    "for idx, cfg in enumerate(CFGS):    \n",
    "    print(idx, cfg) \n",
    "#     val_df = train_df.loc[train_df.fold == folds[idx]].reset_index(drop=True)\n",
    "    val_transform = get_transform(cfg['img_size'])\n",
    "    valid_dataset = ContrailDataset(val_df, transform=val_transform)  \n",
    "\n",
    "    valid_loader = DataLoader(\n",
    "        valid_dataset, \n",
    "        batch_size = 32, #32, \n",
    "        shuffle = False, \n",
    "        num_workers = 2, \n",
    "        pin_memory = True, \n",
    "        drop_last = False\n",
    "    )\n",
    "\n",
    "    \n",
    "    if cfg['trained_by'] == \"nirjhar\":\n",
    "        model = load_model_timmunetplusplus(cfg)\n",
    "        if cfg['tta']: model = tta.SegmentationTTAWrapper(model, tta.aliases.hflip_transform(), merge_mode='mean')\n",
    "    else:\n",
    "        model = Net(cfg)    \n",
    "        model = torch.nn.DataParallel(model).cuda()\n",
    "        model.load_state_dict(torch.load(cfg['model_pth'], map_location=torch.device('cpu'))['model'])\n",
    "        if cfg['tta']: model = tta.SegmentationTTAWrapper(model, tta.aliases.flip_transform(), merge_mode='mean')\n",
    "\n",
    "    \n",
    "    \n",
    "#     if cfg['tta']:\n",
    "# #         model = tta.SegmentationTTAWrapper(model, tta.aliases.flip_transform(), merge_mode='mean')\n",
    "#         model = tta.SegmentationTTAWrapper(model, tta.aliases.hflip_transform(), merge_mode='mean')\n",
    "\n",
    "        \n",
    "    model.to(device)\n",
    "    model.eval()\n",
    "    \n",
    "    preds = []\n",
    "    masks_ = []\n",
    "    \n",
    "    for index, (images, masks) in enumerate(tqdm(valid_loader)):  \n",
    "        images  = images.to(device, dtype=torch.float)\n",
    "        masks  = masks.to(device, dtype=torch.float)\n",
    "        masks = torch.nn.functional.interpolate(masks, size=256, mode='nearest')             \n",
    "        masks_.append(torch.squeeze(masks, dim=1))\n",
    "\n",
    "        with torch.inference_mode():        \n",
    "            images = torch.nn.functional.interpolate(images,size=cfg['img_size'][0], mode='nearest')\n",
    "            pred = model(images)                \n",
    "            pred = torch.nn.functional.interpolate(pred.sigmoid(), size=256, mode='nearest') \n",
    "            preds.append(torch.squeeze(pred, dim=1))\n",
    "\n",
    "    \n",
    "    model_masks = torch.cat(masks_, dim=0)\n",
    "    model_preds = torch.cat(preds, dim=0)\n",
    "    \n",
    "    \n",
    "#     final_preds.append(model_preds)\n",
    "#     final_masks.append(model_masks)\n",
    "    \n",
    "    model_masks = torch.flatten(model_masks, start_dim=0, end_dim=1)\n",
    "    model_preds = torch.flatten(model_preds, start_dim=0, end_dim=1)  \n",
    "    \n",
    "    dice_score = dice_coef(model_masks, model_preds).cpu().detach().numpy() \n",
    "    dice_score_th = dice_coef(model_masks, model_preds, thr=cfg['threshold']).cpu().detach().numpy() \n",
    "        \n",
    "        \n",
    "    best_threshold = 0.0\n",
    "    best_dice_score = 0.0\n",
    "    for threshold in [i / 100 for i in range(101)] :        \n",
    "        score = dice_coef(model_masks, model_preds, thr=threshold).cpu().detach().numpy() \n",
    "        if score > best_dice_score:\n",
    "            best_dice_score = score\n",
    "            best_threshold = threshold\n",
    "    \n",
    "        \n",
    "    print(best_dice_score, best_threshold)\n",
    "                \n",
    "    final_preds.append(model_preds)\n",
    "    \n",
    "    del model\n",
    "    torch.cuda.empty_cache()\n",
    "    gc.collect()"
   ]
  },
  {
   "cell_type": "code",
   "execution_count": 92,
   "id": "003fec1a",
   "metadata": {},
   "outputs": [],
   "source": [
    "# torch.save()\n",
    "\n",
    "# f_preds =  torch.cat(final_preds, dim=0)\n",
    "# f_masks =  torch.cat(final_masks, dim=0)"
   ]
  },
  {
   "cell_type": "code",
   "execution_count": 23,
   "id": "9e6213af",
   "metadata": {},
   "outputs": [
    {
     "name": "stdout",
     "output_type": "stream",
     "text": [
      "torch.Size([3153408, 256]) torch.Size([3153408, 256])\n"
     ]
    }
   ],
   "source": [
    "f_preds = [val.detach().cpu() for val in final_preds]\n",
    "f_masks = [val.detach().cpu() for val in final_masks]\n",
    "\n",
    "f_preds = torch.cat(f_preds, dim=0)\n",
    "f_masks = torch.cat(f_masks, dim=0)\n",
    "\n",
    "f_masks = torch.flatten(f_masks, start_dim=0, end_dim=1)\n",
    "f_preds = torch.flatten(f_preds, start_dim=0, end_dim=1)  \n",
    "    \n",
    "print(f_masks.shape, f_preds.shape)\n",
    "# torch.save(model_preds, f\"../../output/probs/exp_01_s2_preds.pt\")\n",
    "# torch.save(model_preds, f\"../../output/probs/exp_01_s2_masks.pt\")\n",
    "    \n",
    "    "
   ]
  },
  {
   "cell_type": "code",
   "execution_count": null,
   "id": "8ca82b26",
   "metadata": {},
   "outputs": [],
   "source": []
  },
  {
   "cell_type": "code",
   "execution_count": 24,
   "id": "a19eb636",
   "metadata": {},
   "outputs": [
    {
     "name": "stdout",
     "output_type": "stream",
     "text": [
      "0.6966457 0.3\n",
      "0.69670683 0.31\n",
      "0.6967483 0.32\n",
      "0.69675624 0.33\n",
      "0.69678247 0.34\n",
      "0.6968062 0.35\n",
      "0.69682854 0.36\n",
      "0.6968573 0.37\n",
      "0.6968607 0.38\n",
      "0.69684297 0.39\n",
      "0.69684005 0.4\n",
      "0.6968414 0.41\n",
      "0.69683284 0.42\n",
      "0.69681466 0.43\n",
      "0.6967883 0.44\n",
      "0.69675183 0.45\n",
      "0.69672424 0.46\n",
      "0.69664913 0.47\n",
      "0.69659495 0.48\n",
      "0.69658124 0.49\n",
      "0.6965229 0.5\n",
      "0.6964799 0.51\n",
      "0.6964346 0.52\n",
      "0.6963845 0.53\n",
      "0.69632703 0.54\n",
      "0.6962536 0.55\n",
      "0.6961956 0.56\n",
      "0.6961283 0.57\n",
      "0.69606185 0.58\n",
      "0.6959818 0.59\n",
      "0.6958983 0.6\n"
     ]
    }
   ],
   "source": [
    "best_threshold = 0.0\n",
    "best_dice_score = 0.0\n",
    "for threshold in [i / 100 for i in range(101)] : \n",
    "    \n",
    "    if threshold < 0.3 or threshold > 0.6:\n",
    "        continue\n",
    "    score = dice_coef(f_masks, f_preds, thr=threshold).cpu().detach().numpy() \n",
    "    print(score, threshold)\n",
    "    if score > best_dice_score:\n",
    "        best_dice_score = score\n",
    "        best_threshold = threshold"
   ]
  },
  {
   "cell_type": "code",
   "execution_count": 25,
   "id": "eb1b0a05",
   "metadata": {},
   "outputs": [
    {
     "name": "stdout",
     "output_type": "stream",
     "text": [
      "0.6968607 0.38\n"
     ]
    }
   ],
   "source": [
    "# 0.69303155 OOF CV: \n",
    "print(best_dice_score, best_threshold)"
   ]
  },
  {
   "cell_type": "code",
   "execution_count": null,
   "id": "d39a272f",
   "metadata": {},
   "outputs": [],
   "source": []
  },
  {
   "cell_type": "code",
   "execution_count": null,
   "id": "5f0f5840",
   "metadata": {},
   "outputs": [],
   "source": []
  },
  {
   "cell_type": "code",
   "execution_count": null,
   "id": "8d21e1c6",
   "metadata": {},
   "outputs": [],
   "source": []
  },
  {
   "cell_type": "code",
   "execution_count": null,
   "id": "5c74c00d",
   "metadata": {},
   "outputs": [],
   "source": []
  },
  {
   "cell_type": "code",
   "execution_count": null,
   "id": "00291551",
   "metadata": {},
   "outputs": [],
   "source": []
  },
  {
   "cell_type": "code",
   "execution_count": null,
   "id": "58cf6888",
   "metadata": {},
   "outputs": [],
   "source": []
  },
  {
   "cell_type": "code",
   "execution_count": null,
   "id": "5b4eff65",
   "metadata": {},
   "outputs": [],
   "source": []
  },
  {
   "cell_type": "code",
   "execution_count": null,
   "id": "eef7238c",
   "metadata": {},
   "outputs": [],
   "source": []
  },
  {
   "cell_type": "code",
   "execution_count": null,
   "id": "7f313316",
   "metadata": {},
   "outputs": [],
   "source": []
  },
  {
   "cell_type": "code",
   "execution_count": 93,
   "id": "e1d72a60",
   "metadata": {},
   "outputs": [],
   "source": [
    "def boost_dice(params):    \n",
    "    for index, val in enumerate(params.keys()):\n",
    "        if index == 0:\n",
    "            preds = params[val]*final_preds[0]\n",
    "        else:\n",
    "            preds += params[val]*final_preds[index]\n",
    "    \n",
    "    \n",
    "    param_sum = 0\n",
    "    for key, val in params.items():\n",
    "        param_sum += val\n",
    "\n",
    "    preds = preds/param_sum\n",
    "    \n",
    "    \n",
    "#     threshold = 0.2\n",
    "#     preds1 = (nn.Sigmoid()(preds)>threshold).double()            \n",
    "#     score = dice_coef(model_masks, preds1, thr=threshold).cpu().detach().numpy() # get_score(labels, preds) \n",
    "    best_threshold = 0.0\n",
    "    best_score = 0.0\n",
    "    for threshold in [i / 100 for i in range(101)] :\n",
    "#         if threshold < 0.05 and threshold > 0.25:\n",
    "#             continue\n",
    "    \n",
    "        preds1 = (nn.Sigmoid()(preds)>threshold).double()            \n",
    "        score = dice_coef(model_masks, preds1, thr=threshold).cpu().detach().numpy() # get_score(labels, preds) \n",
    "        if score > best_score:\n",
    "            best_score = score\n",
    "            best_threshold = threshold\n",
    "            \n",
    "#     best_score = score\n",
    "#     best_threshold = threshold\n",
    "    return best_score, best_threshold"
   ]
  },
  {
   "cell_type": "code",
   "execution_count": 94,
   "id": "8fda1d51",
   "metadata": {},
   "outputs": [
    {
     "name": "stderr",
     "output_type": "stream",
     "text": [
      "[I 2023-06-22 15:17:18,249] A new study created in memory with name: no-name-9dbb33f5-2768-42ef-a30c-f9bca1691436\n",
      "[I 2023-06-22 15:17:20,440] Trial 0 finished with value: 0.7030438780784607 and parameters: {'w1': 0.8516034089684172, 'w2': 0.6579994643872162}. Best is trial 0 with value: 0.7030438780784607.\n"
     ]
    },
    {
     "name": "stdout",
     "output_type": "stream",
     "text": [
      "{'w1': 0.8516034089684172, 'w2': 0.6579994643872162, 'threshold': 0.61}\n"
     ]
    },
    {
     "name": "stderr",
     "output_type": "stream",
     "text": [
      "[I 2023-06-22 15:17:22,605] Trial 1 finished with value: 0.7016289830207825 and parameters: {'w1': 0.05165751246826522, 'w2': 0.5906616946492286}. Best is trial 0 with value: 0.7030438780784607.\n"
     ]
    },
    {
     "name": "stdout",
     "output_type": "stream",
     "text": [
      "{'w1': 0.05165751246826522, 'w2': 0.5906616946492286, 'threshold': 0.71}\n"
     ]
    },
    {
     "name": "stderr",
     "output_type": "stream",
     "text": [
      "[I 2023-06-22 15:17:24,772] Trial 2 finished with value: 0.7016319632530212 and parameters: {'w1': 0.19843402528075194, 'w2': 0.12117459200983705}. Best is trial 0 with value: 0.7030438780784607.\n"
     ]
    },
    {
     "name": "stdout",
     "output_type": "stream",
     "text": [
      "{'w1': 0.19843402528075194, 'w2': 0.12117459200983705, 'threshold': 0.6}\n"
     ]
    },
    {
     "name": "stderr",
     "output_type": "stream",
     "text": [
      "[I 2023-06-22 15:17:26,955] Trial 3 finished with value: 0.7019250988960266 and parameters: {'w1': 0.08375820802431777, 'w2': 0.5860866015143381}. Best is trial 0 with value: 0.7030438780784607.\n"
     ]
    },
    {
     "name": "stdout",
     "output_type": "stream",
     "text": [
      "{'w1': 0.08375820802431777, 'w2': 0.5860866015143381, 'threshold': 0.7}\n"
     ]
    },
    {
     "name": "stderr",
     "output_type": "stream",
     "text": [
      "[I 2023-06-22 15:17:29,128] Trial 4 finished with value: 0.6976763010025024 and parameters: {'w1': 0.54394764327581, 'w2': 0.08265852465677093}. Best is trial 0 with value: 0.7030438780784607.\n"
     ]
    },
    {
     "name": "stdout",
     "output_type": "stream",
     "text": [
      "{'w1': 0.54394764327581, 'w2': 0.08265852465677093, 'threshold': 0.59}\n"
     ]
    },
    {
     "name": "stderr",
     "output_type": "stream",
     "text": [
      "[I 2023-06-22 15:17:31,294] Trial 5 finished with value: 0.7016444206237793 and parameters: {'w1': 0.8377857383578525, 'w2': 0.5134247212337762}. Best is trial 0 with value: 0.7030438780784607.\n"
     ]
    },
    {
     "name": "stdout",
     "output_type": "stream",
     "text": [
      "{'w1': 0.8377857383578525, 'w2': 0.5134247212337762, 'threshold': 0.6}\n"
     ]
    },
    {
     "name": "stderr",
     "output_type": "stream",
     "text": [
      "[I 2023-06-22 15:17:33,459] Trial 6 finished with value: 0.7035489082336426 and parameters: {'w1': 0.30893249227510067, 'w2': 0.7520966083111916}. Best is trial 6 with value: 0.7035489082336426.\n"
     ]
    },
    {
     "name": "stdout",
     "output_type": "stream",
     "text": [
      "{'w1': 0.30893249227510067, 'w2': 0.7520966083111916, 'threshold': 0.67}\n"
     ]
    },
    {
     "name": "stderr",
     "output_type": "stream",
     "text": [
      "[I 2023-06-22 15:17:35,627] Trial 7 finished with value: 0.6975135803222656 and parameters: {'w1': 0.8034480550580915, 'w2': 0.10823238064676599}. Best is trial 6 with value: 0.7035489082336426.\n"
     ]
    },
    {
     "name": "stdout",
     "output_type": "stream",
     "text": [
      "{'w1': 0.8034480550580915, 'w2': 0.10823238064676599, 'threshold': 0.6}\n"
     ]
    },
    {
     "name": "stderr",
     "output_type": "stream",
     "text": [
      "[I 2023-06-22 15:17:37,792] Trial 8 finished with value: 0.7036108374595642 and parameters: {'w1': 0.305903165940831, 'w2': 0.930880619273284}. Best is trial 8 with value: 0.7036108374595642.\n"
     ]
    },
    {
     "name": "stdout",
     "output_type": "stream",
     "text": [
      "{'w1': 0.305903165940831, 'w2': 0.930880619273284, 'threshold': 0.68}\n"
     ]
    },
    {
     "name": "stderr",
     "output_type": "stream",
     "text": [
      "[I 2023-06-22 15:17:39,956] Trial 9 finished with value: 0.702785313129425 and parameters: {'w1': 0.4457327564473057, 'w2': 0.9868292617894425}. Best is trial 8 with value: 0.7036108374595642.\n"
     ]
    },
    {
     "name": "stdout",
     "output_type": "stream",
     "text": [
      "{'w1': 0.4457327564473057, 'w2': 0.9868292617894425, 'threshold': 0.66}\n"
     ]
    },
    {
     "name": "stderr",
     "output_type": "stream",
     "text": [
      "[I 2023-06-22 15:17:42,131] Trial 10 finished with value: 0.7029110193252563 and parameters: {'w1': 0.5451419726072505, 'w2': 0.9944540837193797}. Best is trial 8 with value: 0.7036108374595642.\n"
     ]
    },
    {
     "name": "stdout",
     "output_type": "stream",
     "text": [
      "{'w1': 0.5451419726072505, 'w2': 0.9944540837193797, 'threshold': 0.65}\n"
     ]
    },
    {
     "name": "stderr",
     "output_type": "stream",
     "text": [
      "[I 2023-06-22 15:17:44,306] Trial 11 finished with value: 0.7028440833091736 and parameters: {'w1': 0.30698338664782077, 'w2': 0.8032871190975599}. Best is trial 8 with value: 0.7036108374595642.\n"
     ]
    },
    {
     "name": "stdout",
     "output_type": "stream",
     "text": [
      "{'w1': 0.30698338664782077, 'w2': 0.8032871190975599, 'threshold': 0.67}\n"
     ]
    },
    {
     "name": "stderr",
     "output_type": "stream",
     "text": [
      "[I 2023-06-22 15:17:46,479] Trial 12 finished with value: 0.7028647661209106 and parameters: {'w1': 0.30891741578599197, 'w2': 0.8052587123332772}. Best is trial 8 with value: 0.7036108374595642.\n"
     ]
    },
    {
     "name": "stdout",
     "output_type": "stream",
     "text": [
      "{'w1': 0.30891741578599197, 'w2': 0.8052587123332772, 'threshold': 0.67}\n"
     ]
    },
    {
     "name": "stderr",
     "output_type": "stream",
     "text": [
      "[I 2023-06-22 15:17:48,654] Trial 13 finished with value: 0.7029122114181519 and parameters: {'w1': 0.3771173182118991, 'w2': 0.8131627400668111}. Best is trial 8 with value: 0.7036108374595642.\n"
     ]
    },
    {
     "name": "stdout",
     "output_type": "stream",
     "text": [
      "{'w1': 0.3771173182118991, 'w2': 0.8131627400668111, 'threshold': 0.66}\n"
     ]
    },
    {
     "name": "stderr",
     "output_type": "stream",
     "text": [
      "[I 2023-06-22 15:17:50,827] Trial 14 finished with value: 0.7030729651451111 and parameters: {'w1': 0.19187586169555437, 'w2': 0.4012484803881107}. Best is trial 8 with value: 0.7036108374595642.\n"
     ]
    },
    {
     "name": "stdout",
     "output_type": "stream",
     "text": [
      "{'w1': 0.19187586169555437, 'w2': 0.4012484803881107, 'threshold': 0.66}\n"
     ]
    },
    {
     "name": "stderr",
     "output_type": "stream",
     "text": [
      "[I 2023-06-22 15:17:53,000] Trial 15 finished with value: 0.7036162614822388 and parameters: {'w1': 0.6295042651659369, 'w2': 0.880394269379294}. Best is trial 15 with value: 0.7036162614822388.\n"
     ]
    },
    {
     "name": "stdout",
     "output_type": "stream",
     "text": [
      "{'w1': 0.6295042651659369, 'w2': 0.880394269379294, 'threshold': 0.64}\n"
     ]
    },
    {
     "name": "stderr",
     "output_type": "stream",
     "text": [
      "[I 2023-06-22 15:17:55,174] Trial 16 finished with value: 0.7034749984741211 and parameters: {'w1': 0.6493898852779836, 'w2': 0.9248698510585511}. Best is trial 15 with value: 0.7036162614822388.\n"
     ]
    },
    {
     "name": "stdout",
     "output_type": "stream",
     "text": [
      "{'w1': 0.6493898852779836, 'w2': 0.9248698510585511, 'threshold': 0.64}\n"
     ]
    },
    {
     "name": "stderr",
     "output_type": "stream",
     "text": [
      "[I 2023-06-22 15:17:57,351] Trial 17 finished with value: 0.7034604549407959 and parameters: {'w1': 0.6928205362514384, 'w2': 0.8799633045879673}. Best is trial 15 with value: 0.7036162614822388.\n"
     ]
    },
    {
     "name": "stdout",
     "output_type": "stream",
     "text": [
      "{'w1': 0.6928205362514384, 'w2': 0.8799633045879673, 'threshold': 0.64}\n"
     ]
    },
    {
     "name": "stderr",
     "output_type": "stream",
     "text": [
      "[I 2023-06-22 15:17:59,526] Trial 18 finished with value: 0.7039185166358948 and parameters: {'w1': 0.4704518112610744, 'w2': 0.9172521289236875}. Best is trial 18 with value: 0.7039185166358948.\n"
     ]
    },
    {
     "name": "stdout",
     "output_type": "stream",
     "text": [
      "{'w1': 0.4704518112610744, 'w2': 0.9172521289236875, 'threshold': 0.66}\n"
     ]
    },
    {
     "name": "stderr",
     "output_type": "stream",
     "text": [
      "[I 2023-06-22 15:18:01,701] Trial 19 finished with value: 0.702724277973175 and parameters: {'w1': 0.933864095014013, 'w2': 0.7077666656731865}. Best is trial 18 with value: 0.7039185166358948.\n"
     ]
    },
    {
     "name": "stdout",
     "output_type": "stream",
     "text": [
      "{'w1': 0.933864095014013, 'w2': 0.7077666656731865, 'threshold': 0.61}\n"
     ]
    },
    {
     "name": "stderr",
     "output_type": "stream",
     "text": [
      "[I 2023-06-22 15:18:03,877] Trial 20 finished with value: 0.7036097645759583 and parameters: {'w1': 0.6288135429557926, 'w2': 0.8797081351401628}. Best is trial 18 with value: 0.7039185166358948.\n"
     ]
    },
    {
     "name": "stdout",
     "output_type": "stream",
     "text": [
      "{'w1': 0.6288135429557926, 'w2': 0.8797081351401628, 'threshold': 0.64}\n"
     ]
    },
    {
     "name": "stderr",
     "output_type": "stream",
     "text": [
      "[I 2023-06-22 15:18:06,053] Trial 21 finished with value: 0.7033177018165588 and parameters: {'w1': 0.45382788721994277, 'w2': 0.9168140985226856}. Best is trial 18 with value: 0.7039185166358948.\n"
     ]
    },
    {
     "name": "stdout",
     "output_type": "stream",
     "text": [
      "{'w1': 0.45382788721994277, 'w2': 0.9168140985226856, 'threshold': 0.66}\n"
     ]
    },
    {
     "name": "stderr",
     "output_type": "stream",
     "text": [
      "[I 2023-06-22 15:18:08,228] Trial 22 finished with value: 0.7039077877998352 and parameters: {'w1': 0.5081384919399692, 'w2': 0.9903230180495856}. Best is trial 18 with value: 0.7039185166358948.\n"
     ]
    },
    {
     "name": "stdout",
     "output_type": "stream",
     "text": [
      "{'w1': 0.5081384919399692, 'w2': 0.9903230180495856, 'threshold': 0.66}\n"
     ]
    },
    {
     "name": "stderr",
     "output_type": "stream",
     "text": [
      "[I 2023-06-22 15:18:10,404] Trial 23 finished with value: 0.7028892040252686 and parameters: {'w1': 0.5424931941376784, 'w2': 0.9972137959221357}. Best is trial 18 with value: 0.7039185166358948.\n"
     ]
    },
    {
     "name": "stdout",
     "output_type": "stream",
     "text": [
      "{'w1': 0.5424931941376784, 'w2': 0.9972137959221357, 'threshold': 0.65}\n"
     ]
    },
    {
     "name": "stderr",
     "output_type": "stream",
     "text": [
      "[I 2023-06-22 15:18:12,579] Trial 24 finished with value: 0.7041343450546265 and parameters: {'w1': 0.7314474186007524, 'w2': 0.8367121007379377}. Best is trial 24 with value: 0.7041343450546265.\n"
     ]
    },
    {
     "name": "stdout",
     "output_type": "stream",
     "text": [
      "{'w1': 0.7314474186007524, 'w2': 0.8367121007379377, 'threshold': 0.63}\n"
     ]
    },
    {
     "name": "stderr",
     "output_type": "stream",
     "text": [
      "[I 2023-06-22 15:18:14,754] Trial 25 finished with value: 0.7041429877281189 and parameters: {'w1': 0.7747145806944395, 'w2': 0.7584675691343731}. Best is trial 25 with value: 0.7041429877281189.\n"
     ]
    },
    {
     "name": "stdout",
     "output_type": "stream",
     "text": [
      "{'w1': 0.7747145806944395, 'w2': 0.7584675691343731, 'threshold': 0.62}\n"
     ]
    },
    {
     "name": "stderr",
     "output_type": "stream",
     "text": [
      "[I 2023-06-22 15:18:16,928] Trial 26 finished with value: 0.704179048538208 and parameters: {'w1': 0.7959070688968684, 'w2': 0.7315808489228722}. Best is trial 26 with value: 0.704179048538208.\n"
     ]
    },
    {
     "name": "stdout",
     "output_type": "stream",
     "text": [
      "{'w1': 0.7959070688968684, 'w2': 0.7315808489228722, 'threshold': 0.62}\n"
     ]
    },
    {
     "name": "stderr",
     "output_type": "stream",
     "text": [
      "[I 2023-06-22 15:18:19,102] Trial 27 finished with value: 0.7042288780212402 and parameters: {'w1': 0.7492928310862104, 'w2': 0.7273982021151765}. Best is trial 27 with value: 0.7042288780212402.\n"
     ]
    },
    {
     "name": "stdout",
     "output_type": "stream",
     "text": [
      "{'w1': 0.7492928310862104, 'w2': 0.7273982021151765, 'threshold': 0.62}\n"
     ]
    },
    {
     "name": "stderr",
     "output_type": "stream",
     "text": [
      "[I 2023-06-22 15:18:21,277] Trial 28 finished with value: 0.7023243308067322 and parameters: {'w1': 0.9798479211256814, 'w2': 0.7154053335872846}. Best is trial 27 with value: 0.7042288780212402.\n"
     ]
    },
    {
     "name": "stdout",
     "output_type": "stream",
     "text": [
      "{'w1': 0.9798479211256814, 'w2': 0.7154053335872846, 'threshold': 0.61}\n"
     ]
    },
    {
     "name": "stderr",
     "output_type": "stream",
     "text": [
      "[I 2023-06-22 15:18:23,451] Trial 29 finished with value: 0.7029244899749756 and parameters: {'w1': 0.7859736245063383, 'w2': 0.6528107468832458}. Best is trial 27 with value: 0.7042288780212402.\n"
     ]
    },
    {
     "name": "stdout",
     "output_type": "stream",
     "text": [
      "{'w1': 0.7859736245063383, 'w2': 0.6528107468832458, 'threshold': 0.61}\n"
     ]
    },
    {
     "name": "stderr",
     "output_type": "stream",
     "text": [
      "[I 2023-06-22 15:18:25,625] Trial 30 finished with value: 0.7032511830329895 and parameters: {'w1': 0.8838763473436053, 'w2': 0.7579717899626153}. Best is trial 27 with value: 0.7042288780212402.\n"
     ]
    },
    {
     "name": "stdout",
     "output_type": "stream",
     "text": [
      "{'w1': 0.8838763473436053, 'w2': 0.7579717899626153, 'threshold': 0.62}\n"
     ]
    },
    {
     "name": "stderr",
     "output_type": "stream",
     "text": [
      "[I 2023-06-22 15:18:27,799] Trial 31 finished with value: 0.703794538974762 and parameters: {'w1': 0.7393990587825827, 'w2': 0.6651024478629246}. Best is trial 27 with value: 0.7042288780212402.\n"
     ]
    },
    {
     "name": "stdout",
     "output_type": "stream",
     "text": [
      "{'w1': 0.7393990587825827, 'w2': 0.6651024478629246, 'threshold': 0.62}\n"
     ]
    },
    {
     "name": "stderr",
     "output_type": "stream",
     "text": [
      "[I 2023-06-22 15:18:29,975] Trial 32 finished with value: 0.7036994695663452 and parameters: {'w1': 0.7687004308361072, 'w2': 0.8172745204606926}. Best is trial 27 with value: 0.7042288780212402.\n"
     ]
    },
    {
     "name": "stdout",
     "output_type": "stream",
     "text": [
      "{'w1': 0.7687004308361072, 'w2': 0.8172745204606926, 'threshold': 0.63}\n"
     ]
    },
    {
     "name": "stderr",
     "output_type": "stream",
     "text": [
      "[I 2023-06-22 15:18:32,151] Trial 33 finished with value: 0.7027283906936646 and parameters: {'w1': 0.8527530048827079, 'w2': 0.646402951507611}. Best is trial 27 with value: 0.7042288780212402.\n"
     ]
    },
    {
     "name": "stdout",
     "output_type": "stream",
     "text": [
      "{'w1': 0.8527530048827079, 'w2': 0.646402951507611, 'threshold': 0.61}\n"
     ]
    },
    {
     "name": "stderr",
     "output_type": "stream",
     "text": [
      "[I 2023-06-22 15:18:34,328] Trial 34 finished with value: 0.7038388252258301 and parameters: {'w1': 0.7256983021215959, 'w2': 0.752139270523548}. Best is trial 27 with value: 0.7042288780212402.\n"
     ]
    },
    {
     "name": "stdout",
     "output_type": "stream",
     "text": [
      "{'w1': 0.7256983021215959, 'w2': 0.752139270523548, 'threshold': 0.62}\n"
     ]
    },
    {
     "name": "stderr",
     "output_type": "stream",
     "text": [
      "[I 2023-06-22 15:18:36,504] Trial 35 finished with value: 0.7019371390342712 and parameters: {'w1': 0.9077917954495536, 'w2': 0.5752596233432978}. Best is trial 27 with value: 0.7042288780212402.\n"
     ]
    },
    {
     "name": "stdout",
     "output_type": "stream",
     "text": [
      "{'w1': 0.9077917954495536, 'w2': 0.5752596233432978, 'threshold': 0.6}\n"
     ]
    },
    {
     "name": "stderr",
     "output_type": "stream",
     "text": [
      "[I 2023-06-22 15:18:38,679] Trial 36 finished with value: 0.7029311656951904 and parameters: {'w1': 0.8032543814640815, 'w2': 0.6167112189233035}. Best is trial 27 with value: 0.7042288780212402.\n"
     ]
    },
    {
     "name": "stdout",
     "output_type": "stream",
     "text": [
      "{'w1': 0.8032543814640815, 'w2': 0.6167112189233035, 'threshold': 0.61}\n"
     ]
    },
    {
     "name": "stderr",
     "output_type": "stream",
     "text": [
      "[I 2023-06-22 15:18:40,854] Trial 37 finished with value: 0.7029959559440613 and parameters: {'w1': 0.8498093337869576, 'w2': 0.6998192452703195}. Best is trial 27 with value: 0.7042288780212402.\n"
     ]
    },
    {
     "name": "stdout",
     "output_type": "stream",
     "text": [
      "{'w1': 0.8498093337869576, 'w2': 0.6998192452703195, 'threshold': 0.61}\n"
     ]
    },
    {
     "name": "stderr",
     "output_type": "stream",
     "text": [
      "[I 2023-06-22 15:18:43,029] Trial 38 finished with value: 0.7031481862068176 and parameters: {'w1': 0.7021756197443593, 'w2': 0.5458248047362432}. Best is trial 27 with value: 0.7042288780212402.\n"
     ]
    },
    {
     "name": "stdout",
     "output_type": "stream",
     "text": [
      "{'w1': 0.7021756197443593, 'w2': 0.5458248047362432, 'threshold': 0.61}\n"
     ]
    },
    {
     "name": "stderr",
     "output_type": "stream",
     "text": [
      "[I 2023-06-22 15:18:45,208] Trial 39 finished with value: 0.7015957832336426 and parameters: {'w1': 0.9937146396832878, 'w2': 0.4696586783911991}. Best is trial 27 with value: 0.7042288780212402.\n"
     ]
    },
    {
     "name": "stdout",
     "output_type": "stream",
     "text": [
      "{'w1': 0.9937146396832878, 'w2': 0.4696586783911991, 'threshold': 0.58}\n"
     ]
    },
    {
     "name": "stderr",
     "output_type": "stream",
     "text": [
      "[I 2023-06-22 15:18:47,398] Trial 40 finished with value: 0.7028197646141052 and parameters: {'w1': 0.8132498336385643, 'w2': 0.6200475353538815}. Best is trial 27 with value: 0.7042288780212402.\n"
     ]
    },
    {
     "name": "stdout",
     "output_type": "stream",
     "text": [
      "{'w1': 0.8132498336385643, 'w2': 0.6200475353538815, 'threshold': 0.61}\n"
     ]
    },
    {
     "name": "stderr",
     "output_type": "stream",
     "text": [
      "[I 2023-06-22 15:18:49,581] Trial 41 finished with value: 0.7045297622680664 and parameters: {'w1': 0.7586393209320456, 'w2': 0.8525632245480941}. Best is trial 41 with value: 0.7045297622680664.\n"
     ]
    },
    {
     "name": "stdout",
     "output_type": "stream",
     "text": [
      "{'w1': 0.7586393209320456, 'w2': 0.8525632245480941, 'threshold': 0.63}\n"
     ]
    },
    {
     "name": "stderr",
     "output_type": "stream",
     "text": [
      "[I 2023-06-22 15:18:51,756] Trial 42 finished with value: 0.7040992975234985 and parameters: {'w1': 0.7771694579654761, 'w2': 0.7678918321388868}. Best is trial 41 with value: 0.7045297622680664.\n"
     ]
    },
    {
     "name": "stdout",
     "output_type": "stream",
     "text": [
      "{'w1': 0.7771694579654761, 'w2': 0.7678918321388868, 'threshold': 0.62}\n"
     ]
    },
    {
     "name": "stderr",
     "output_type": "stream",
     "text": [
      "[I 2023-06-22 15:18:53,931] Trial 43 finished with value: 0.7046255469322205 and parameters: {'w1': 0.7428695453030104, 'w2': 0.8375414383197233}. Best is trial 43 with value: 0.7046255469322205.\n"
     ]
    },
    {
     "name": "stdout",
     "output_type": "stream",
     "text": [
      "{'w1': 0.7428695453030104, 'w2': 0.8375414383197233, 'threshold': 0.63}\n"
     ]
    },
    {
     "name": "stderr",
     "output_type": "stream",
     "text": [
      "[I 2023-06-22 15:18:56,106] Trial 44 finished with value: 0.7041504383087158 and parameters: {'w1': 0.8609245003248738, 'w2': 0.8409804598238062}. Best is trial 43 with value: 0.7046255469322205.\n"
     ]
    },
    {
     "name": "stdout",
     "output_type": "stream",
     "text": [
      "{'w1': 0.8609245003248738, 'w2': 0.8409804598238062, 'threshold': 0.62}\n"
     ]
    },
    {
     "name": "stderr",
     "output_type": "stream",
     "text": [
      "[I 2023-06-22 15:18:58,280] Trial 45 finished with value: 0.704238772392273 and parameters: {'w1': 0.8733814622897571, 'w2': 0.8468411081446044}. Best is trial 43 with value: 0.7046255469322205.\n"
     ]
    },
    {
     "name": "stdout",
     "output_type": "stream",
     "text": [
      "{'w1': 0.8733814622897571, 'w2': 0.8468411081446044, 'threshold': 0.62}\n"
     ]
    },
    {
     "name": "stderr",
     "output_type": "stream",
     "text": [
      "[I 2023-06-22 15:19:00,455] Trial 46 finished with value: 0.7033743858337402 and parameters: {'w1': 0.9227996675815097, 'w2': 0.8040445715632628}. Best is trial 43 with value: 0.7046255469322205.\n"
     ]
    },
    {
     "name": "stdout",
     "output_type": "stream",
     "text": [
      "{'w1': 0.9227996675815097, 'w2': 0.8040445715632628, 'threshold': 0.62}\n"
     ]
    },
    {
     "name": "stderr",
     "output_type": "stream",
     "text": [
      "[I 2023-06-22 15:19:02,657] Trial 47 finished with value: 0.7039276361465454 and parameters: {'w1': 0.8239966304203004, 'w2': 0.9524598866699019}. Best is trial 43 with value: 0.7046255469322205.\n"
     ]
    },
    {
     "name": "stdout",
     "output_type": "stream",
     "text": [
      "{'w1': 0.8239966304203004, 'w2': 0.9524598866699019, 'threshold': 0.63}\n"
     ]
    },
    {
     "name": "stderr",
     "output_type": "stream",
     "text": [
      "[I 2023-06-22 15:19:04,837] Trial 48 finished with value: 0.7041038274765015 and parameters: {'w1': 0.8848226002283521, 'w2': 0.8722756665854403}. Best is trial 43 with value: 0.7046255469322205.\n"
     ]
    },
    {
     "name": "stdout",
     "output_type": "stream",
     "text": [
      "{'w1': 0.8848226002283521, 'w2': 0.8722756665854403, 'threshold': 0.62}\n"
     ]
    },
    {
     "name": "stderr",
     "output_type": "stream",
     "text": [
      "[I 2023-06-22 15:19:07,019] Trial 49 finished with value: 0.703345000743866 and parameters: {'w1': 0.6783240019153756, 'w2': 0.8516230337473609}. Best is trial 43 with value: 0.7046255469322205.\n"
     ]
    },
    {
     "name": "stdout",
     "output_type": "stream",
     "text": [
      "{'w1': 0.6783240019153756, 'w2': 0.8516230337473609, 'threshold': 0.64}\n"
     ]
    },
    {
     "name": "stderr",
     "output_type": "stream",
     "text": [
      "[I 2023-06-22 15:19:09,193] Trial 50 finished with value: 0.704011082649231 and parameters: {'w1': 0.6008483392179951, 'w2': 0.7883143314610931}. Best is trial 43 with value: 0.7046255469322205.\n"
     ]
    },
    {
     "name": "stdout",
     "output_type": "stream",
     "text": [
      "{'w1': 0.6008483392179951, 'w2': 0.7883143314610931, 'threshold': 0.64}\n"
     ]
    },
    {
     "name": "stderr",
     "output_type": "stream",
     "text": [
      "[I 2023-06-22 15:19:11,369] Trial 51 finished with value: 0.7040534019470215 and parameters: {'w1': 0.8526428738076848, 'w2': 0.8492508370165085}. Best is trial 43 with value: 0.7046255469322205.\n"
     ]
    },
    {
     "name": "stdout",
     "output_type": "stream",
     "text": [
      "{'w1': 0.8526428738076848, 'w2': 0.8492508370165085, 'threshold': 0.62}\n"
     ]
    },
    {
     "name": "stderr",
     "output_type": "stream",
     "text": [
      "[I 2023-06-22 15:19:13,544] Trial 52 finished with value: 0.7043726444244385 and parameters: {'w1': 0.7498987586912456, 'w2': 0.8342053480938828}. Best is trial 43 with value: 0.7046255469322205.\n"
     ]
    },
    {
     "name": "stdout",
     "output_type": "stream",
     "text": [
      "{'w1': 0.7498987586912456, 'w2': 0.8342053480938828, 'threshold': 0.63}\n"
     ]
    },
    {
     "name": "stderr",
     "output_type": "stream",
     "text": [
      "[I 2023-06-22 15:19:15,718] Trial 53 finished with value: 0.7042256593704224 and parameters: {'w1': 0.7451455536819772, 'w2': 0.724227492124816}. Best is trial 43 with value: 0.7046255469322205.\n"
     ]
    },
    {
     "name": "stdout",
     "output_type": "stream",
     "text": [
      "{'w1': 0.7451455536819772, 'w2': 0.724227492124816, 'threshold': 0.62}\n"
     ]
    },
    {
     "name": "stderr",
     "output_type": "stream",
     "text": [
      "[I 2023-06-22 15:19:17,893] Trial 54 finished with value: 0.7037938237190247 and parameters: {'w1': 0.6847894172824498, 'w2': 0.8000629777823568}. Best is trial 43 with value: 0.7046255469322205.\n"
     ]
    },
    {
     "name": "stdout",
     "output_type": "stream",
     "text": [
      "{'w1': 0.6847894172824498, 'w2': 0.8000629777823568, 'threshold': 0.63}\n"
     ]
    },
    {
     "name": "stderr",
     "output_type": "stream",
     "text": [
      "[I 2023-06-22 15:19:20,068] Trial 55 finished with value: 0.7034692764282227 and parameters: {'w1': 0.7424055898222219, 'w2': 0.8990832304966772}. Best is trial 43 with value: 0.7046255469322205.\n"
     ]
    },
    {
     "name": "stdout",
     "output_type": "stream",
     "text": [
      "{'w1': 0.7424055898222219, 'w2': 0.8990832304966772, 'threshold': 0.63}\n"
     ]
    },
    {
     "name": "stderr",
     "output_type": "stream",
     "text": [
      "[I 2023-06-22 15:19:22,242] Trial 56 finished with value: 0.703324556350708 and parameters: {'w1': 0.6558916094198071, 'w2': 0.95114255837022}. Best is trial 43 with value: 0.7046255469322205.\n"
     ]
    },
    {
     "name": "stdout",
     "output_type": "stream",
     "text": [
      "{'w1': 0.6558916094198071, 'w2': 0.95114255837022, 'threshold': 0.64}\n"
     ]
    },
    {
     "name": "stderr",
     "output_type": "stream",
     "text": [
      "[I 2023-06-22 15:19:24,419] Trial 57 finished with value: 0.703819751739502 and parameters: {'w1': 0.7537657662072988, 'w2': 0.8777736582957051}. Best is trial 43 with value: 0.7046255469322205.\n"
     ]
    },
    {
     "name": "stdout",
     "output_type": "stream",
     "text": [
      "{'w1': 0.7537657662072988, 'w2': 0.8777736582957051, 'threshold': 0.63}\n"
     ]
    },
    {
     "name": "stderr",
     "output_type": "stream",
     "text": [
      "[I 2023-06-22 15:19:26,600] Trial 58 finished with value: 0.703713595867157 and parameters: {'w1': 0.7056354195401355, 'w2': 0.8324522034953938}. Best is trial 43 with value: 0.7046255469322205.\n"
     ]
    },
    {
     "name": "stdout",
     "output_type": "stream",
     "text": [
      "{'w1': 0.7056354195401355, 'w2': 0.8324522034953938, 'threshold': 0.63}\n"
     ]
    },
    {
     "name": "stderr",
     "output_type": "stream",
     "text": [
      "[I 2023-06-22 15:19:28,775] Trial 59 finished with value: 0.7037556171417236 and parameters: {'w1': 0.8168684917249946, 'w2': 0.9581376269627572}. Best is trial 43 with value: 0.7046255469322205.\n"
     ]
    },
    {
     "name": "stdout",
     "output_type": "stream",
     "text": [
      "{'w1': 0.8168684917249946, 'w2': 0.9581376269627572, 'threshold': 0.63}\n"
     ]
    },
    {
     "name": "stderr",
     "output_type": "stream",
     "text": [
      "[I 2023-06-22 15:19:30,951] Trial 60 finished with value: 0.7044233679771423 and parameters: {'w1': 0.6141085451827883, 'w2': 0.6858656109521735}. Best is trial 43 with value: 0.7046255469322205.\n"
     ]
    },
    {
     "name": "stdout",
     "output_type": "stream",
     "text": [
      "{'w1': 0.6141085451827883, 'w2': 0.6858656109521735, 'threshold': 0.63}\n"
     ]
    },
    {
     "name": "stderr",
     "output_type": "stream",
     "text": [
      "[I 2023-06-22 15:19:33,126] Trial 61 finished with value: 0.7044179439544678 and parameters: {'w1': 0.6229642506591323, 'w2': 0.6952374564764963}. Best is trial 43 with value: 0.7046255469322205.\n"
     ]
    },
    {
     "name": "stdout",
     "output_type": "stream",
     "text": [
      "{'w1': 0.6229642506591323, 'w2': 0.6952374564764963, 'threshold': 0.63}\n"
     ]
    },
    {
     "name": "stderr",
     "output_type": "stream",
     "text": [
      "[I 2023-06-22 15:19:35,300] Trial 62 finished with value: 0.7040393948554993 and parameters: {'w1': 0.598278775349012, 'w2': 0.6870278982965151}. Best is trial 43 with value: 0.7046255469322205.\n"
     ]
    },
    {
     "name": "stdout",
     "output_type": "stream",
     "text": [
      "{'w1': 0.598278775349012, 'w2': 0.6870278982965151, 'threshold': 0.63}\n"
     ]
    },
    {
     "name": "stderr",
     "output_type": "stream",
     "text": [
      "[I 2023-06-22 15:19:37,475] Trial 63 finished with value: 0.7035236954689026 and parameters: {'w1': 0.6462098714480498, 'w2': 0.7775209350669452}. Best is trial 43 with value: 0.7046255469322205.\n"
     ]
    },
    {
     "name": "stdout",
     "output_type": "stream",
     "text": [
      "{'w1': 0.6462098714480498, 'w2': 0.7775209350669452, 'threshold': 0.63}\n"
     ]
    },
    {
     "name": "stderr",
     "output_type": "stream",
     "text": [
      "[I 2023-06-22 15:19:39,653] Trial 64 finished with value: 0.7040048837661743 and parameters: {'w1': 0.7155500076951654, 'w2': 0.7335428976396537}. Best is trial 43 with value: 0.7046255469322205.\n"
     ]
    },
    {
     "name": "stdout",
     "output_type": "stream",
     "text": [
      "{'w1': 0.7155500076951654, 'w2': 0.7335428976396537, 'threshold': 0.62}\n"
     ]
    },
    {
     "name": "stderr",
     "output_type": "stream",
     "text": [
      "[I 2023-06-22 15:19:41,828] Trial 65 finished with value: 0.7037330269813538 and parameters: {'w1': 0.6640924543435809, 'w2': 0.7816497672944299}. Best is trial 43 with value: 0.7046255469322205.\n"
     ]
    },
    {
     "name": "stdout",
     "output_type": "stream",
     "text": [
      "{'w1': 0.6640924543435809, 'w2': 0.7816497672944299, 'threshold': 0.63}\n"
     ]
    },
    {
     "name": "stderr",
     "output_type": "stream",
     "text": [
      "[I 2023-06-22 15:19:44,003] Trial 66 finished with value: 0.7045530676841736 and parameters: {'w1': 0.610291302798563, 'w2': 0.6861133049671678}. Best is trial 43 with value: 0.7046255469322205.\n"
     ]
    },
    {
     "name": "stdout",
     "output_type": "stream",
     "text": [
      "{'w1': 0.610291302798563, 'w2': 0.6861133049671678, 'threshold': 0.63}\n"
     ]
    },
    {
     "name": "stderr",
     "output_type": "stream",
     "text": [
      "[I 2023-06-22 15:19:46,178] Trial 67 finished with value: 0.7039952874183655 and parameters: {'w1': 0.5897761551772693, 'w2': 0.6788443021107814}. Best is trial 43 with value: 0.7046255469322205.\n"
     ]
    },
    {
     "name": "stdout",
     "output_type": "stream",
     "text": [
      "{'w1': 0.5897761551772693, 'w2': 0.6788443021107814, 'threshold': 0.63}\n"
     ]
    },
    {
     "name": "stderr",
     "output_type": "stream",
     "text": [
      "[I 2023-06-22 15:19:48,363] Trial 68 finished with value: 0.7033085823059082 and parameters: {'w1': 0.633600783352198, 'w2': 0.9207884674220723}. Best is trial 43 with value: 0.7046255469322205.\n"
     ]
    },
    {
     "name": "stdout",
     "output_type": "stream",
     "text": [
      "{'w1': 0.633600783352198, 'w2': 0.9207884674220723, 'threshold': 0.64}\n"
     ]
    },
    {
     "name": "stderr",
     "output_type": "stream",
     "text": [
      "[I 2023-06-22 15:19:50,544] Trial 69 finished with value: 0.703120768070221 and parameters: {'w1': 0.5428200453298235, 'w2': 0.8194826408283705}. Best is trial 43 with value: 0.7046255469322205.\n"
     ]
    },
    {
     "name": "stdout",
     "output_type": "stream",
     "text": [
      "{'w1': 0.5428200453298235, 'w2': 0.8194826408283705, 'threshold': 0.64}\n"
     ]
    },
    {
     "name": "stderr",
     "output_type": "stream",
     "text": [
      "[I 2023-06-22 15:19:52,720] Trial 70 finished with value: 0.7040335536003113 and parameters: {'w1': 0.6874338633385861, 'w2': 0.6953034791157127}. Best is trial 43 with value: 0.7046255469322205.\n"
     ]
    },
    {
     "name": "stdout",
     "output_type": "stream",
     "text": [
      "{'w1': 0.6874338633385861, 'w2': 0.6953034791157127, 'threshold': 0.62}\n"
     ]
    },
    {
     "name": "stderr",
     "output_type": "stream",
     "text": [
      "[I 2023-06-22 15:19:54,895] Trial 71 finished with value: 0.7042269706726074 and parameters: {'w1': 0.7764426636045167, 'w2': 0.7154845533635584}. Best is trial 43 with value: 0.7046255469322205.\n"
     ]
    },
    {
     "name": "stdout",
     "output_type": "stream",
     "text": [
      "{'w1': 0.7764426636045167, 'w2': 0.7154845533635584, 'threshold': 0.62}\n"
     ]
    },
    {
     "name": "stderr",
     "output_type": "stream",
     "text": [
      "[I 2023-06-22 15:19:57,071] Trial 72 finished with value: 0.7040097713470459 and parameters: {'w1': 0.7265879850167082, 'w2': 0.742849788080814}. Best is trial 43 with value: 0.7046255469322205.\n"
     ]
    },
    {
     "name": "stdout",
     "output_type": "stream",
     "text": [
      "{'w1': 0.7265879850167082, 'w2': 0.742849788080814, 'threshold': 0.62}\n"
     ]
    },
    {
     "name": "stderr",
     "output_type": "stream",
     "text": [
      "[I 2023-06-22 15:19:59,246] Trial 73 finished with value: 0.7034527659416199 and parameters: {'w1': 0.6103134402184136, 'w2': 0.7733293971838349}. Best is trial 43 with value: 0.7046255469322205.\n"
     ]
    },
    {
     "name": "stdout",
     "output_type": "stream",
     "text": [
      "{'w1': 0.6103134402184136, 'w2': 0.7733293971838349, 'threshold': 0.64}\n"
     ]
    },
    {
     "name": "stderr",
     "output_type": "stream",
     "text": [
      "[I 2023-06-22 15:20:01,421] Trial 74 finished with value: 0.703749418258667 and parameters: {'w1': 0.5632776092976407, 'w2': 0.661082487413898}. Best is trial 43 with value: 0.7046255469322205.\n"
     ]
    },
    {
     "name": "stdout",
     "output_type": "stream",
     "text": [
      "{'w1': 0.5632776092976407, 'w2': 0.661082487413898, 'threshold': 0.63}\n"
     ]
    },
    {
     "name": "stderr",
     "output_type": "stream",
     "text": [
      "[I 2023-06-22 15:20:03,596] Trial 75 finished with value: 0.7041199803352356 and parameters: {'w1': 0.6800435170618744, 'w2': 0.8986072541961432}. Best is trial 43 with value: 0.7046255469322205.\n"
     ]
    },
    {
     "name": "stdout",
     "output_type": "stream",
     "text": [
      "{'w1': 0.6800435170618744, 'w2': 0.8986072541961432, 'threshold': 0.64}\n"
     ]
    },
    {
     "name": "stderr",
     "output_type": "stream",
     "text": [
      "[I 2023-06-22 15:20:05,772] Trial 76 finished with value: 0.7037962675094604 and parameters: {'w1': 0.629007462225369, 'w2': 0.8177787361567811}. Best is trial 43 with value: 0.7046255469322205.\n"
     ]
    },
    {
     "name": "stdout",
     "output_type": "stream",
     "text": [
      "{'w1': 0.629007462225369, 'w2': 0.8177787361567811, 'threshold': 0.64}\n"
     ]
    },
    {
     "name": "stderr",
     "output_type": "stream",
     "text": [
      "[I 2023-06-22 15:20:07,951] Trial 77 finished with value: 0.7044357061386108 and parameters: {'w1': 0.7958423312366095, 'w2': 0.7405856215404221}. Best is trial 43 with value: 0.7046255469322205.\n"
     ]
    },
    {
     "name": "stdout",
     "output_type": "stream",
     "text": [
      "{'w1': 0.7958423312366095, 'w2': 0.7405856215404221, 'threshold': 0.62}\n"
     ]
    },
    {
     "name": "stderr",
     "output_type": "stream",
     "text": [
      "[I 2023-06-22 15:20:10,126] Trial 78 finished with value: 0.7038102746009827 and parameters: {'w1': 0.792094443357876, 'w2': 0.8509910140554047}. Best is trial 43 with value: 0.7046255469322205.\n"
     ]
    },
    {
     "name": "stdout",
     "output_type": "stream",
     "text": [
      "{'w1': 0.792094443357876, 'w2': 0.8509910140554047, 'threshold': 0.63}\n"
     ]
    },
    {
     "name": "stderr",
     "output_type": "stream",
     "text": [
      "[I 2023-06-22 15:20:12,302] Trial 79 finished with value: 0.7038959264755249 and parameters: {'w1': 0.8296201157872501, 'w2': 0.7508846066731995}. Best is trial 43 with value: 0.7046255469322205.\n"
     ]
    },
    {
     "name": "stdout",
     "output_type": "stream",
     "text": [
      "{'w1': 0.8296201157872501, 'w2': 0.7508846066731995, 'threshold': 0.62}\n"
     ]
    },
    {
     "name": "stderr",
     "output_type": "stream",
     "text": [
      "[I 2023-06-22 15:20:14,478] Trial 80 finished with value: 0.7041649222373962 and parameters: {'w1': 0.7151253360089916, 'w2': 0.7849455380514581}. Best is trial 43 with value: 0.7046255469322205.\n"
     ]
    },
    {
     "name": "stdout",
     "output_type": "stream",
     "text": [
      "{'w1': 0.7151253360089916, 'w2': 0.7849455380514581, 'threshold': 0.63}\n"
     ]
    },
    {
     "name": "stderr",
     "output_type": "stream",
     "text": [
      "[I 2023-06-22 15:20:16,654] Trial 81 finished with value: 0.7043101191520691 and parameters: {'w1': 0.7669274518010885, 'w2': 0.7092126005326999}. Best is trial 43 with value: 0.7046255469322205.\n"
     ]
    },
    {
     "name": "stdout",
     "output_type": "stream",
     "text": [
      "{'w1': 0.7669274518010885, 'w2': 0.7092126005326999, 'threshold': 0.62}\n"
     ]
    },
    {
     "name": "stderr",
     "output_type": "stream",
     "text": [
      "[I 2023-06-22 15:20:18,832] Trial 82 finished with value: 0.703058123588562 and parameters: {'w1': 0.7598501448270544, 'w2': 0.6382281683177602}. Best is trial 43 with value: 0.7046255469322205.\n"
     ]
    },
    {
     "name": "stdout",
     "output_type": "stream",
     "text": [
      "{'w1': 0.7598501448270544, 'w2': 0.6382281683177602, 'threshold': 0.62}\n"
     ]
    },
    {
     "name": "stderr",
     "output_type": "stream",
     "text": [
      "[I 2023-06-22 15:20:21,010] Trial 83 finished with value: 0.7033784985542297 and parameters: {'w1': 0.8004329886635116, 'w2': 0.6965724661576578}. Best is trial 43 with value: 0.7046255469322205.\n"
     ]
    },
    {
     "name": "stdout",
     "output_type": "stream",
     "text": [
      "{'w1': 0.8004329886635116, 'w2': 0.6965724661576578, 'threshold': 0.62}\n"
     ]
    },
    {
     "name": "stderr",
     "output_type": "stream",
     "text": [
      "[I 2023-06-22 15:20:23,186] Trial 84 finished with value: 0.7033663988113403 and parameters: {'w1': 0.7686416562152835, 'w2': 0.6674224844362003}. Best is trial 43 with value: 0.7046255469322205.\n"
     ]
    },
    {
     "name": "stdout",
     "output_type": "stream",
     "text": [
      "{'w1': 0.7686416562152835, 'w2': 0.6674224844362003, 'threshold': 0.62}\n"
     ]
    },
    {
     "name": "stderr",
     "output_type": "stream",
     "text": [
      "[I 2023-06-22 15:20:25,362] Trial 85 finished with value: 0.7040074467658997 and parameters: {'w1': 0.6550775692804954, 'w2': 0.753418807680324}. Best is trial 43 with value: 0.7046255469322205.\n"
     ]
    },
    {
     "name": "stdout",
     "output_type": "stream",
     "text": [
      "{'w1': 0.6550775692804954, 'w2': 0.753418807680324, 'threshold': 0.63}\n"
     ]
    },
    {
     "name": "stderr",
     "output_type": "stream",
     "text": [
      "[I 2023-06-22 15:20:27,537] Trial 86 finished with value: 0.7031581997871399 and parameters: {'w1': 0.8340804670728976, 'w2': 0.7079814328168914}. Best is trial 43 with value: 0.7046255469322205.\n"
     ]
    },
    {
     "name": "stdout",
     "output_type": "stream",
     "text": [
      "{'w1': 0.8340804670728976, 'w2': 0.7079814328168914, 'threshold': 0.62}\n"
     ]
    },
    {
     "name": "stderr",
     "output_type": "stream",
     "text": [
      "[I 2023-06-22 15:20:29,713] Trial 87 finished with value: 0.7042446136474609 and parameters: {'w1': 0.7047911595797607, 'w2': 0.8038192383565276}. Best is trial 43 with value: 0.7046255469322205.\n"
     ]
    },
    {
     "name": "stdout",
     "output_type": "stream",
     "text": [
      "{'w1': 0.7047911595797607, 'w2': 0.8038192383565276, 'threshold': 0.63}\n"
     ]
    },
    {
     "name": "stderr",
     "output_type": "stream",
     "text": [
      "[I 2023-06-22 15:20:31,889] Trial 88 finished with value: 0.7041962146759033 and parameters: {'w1': 0.698992302907532, 'w2': 0.7983502605682741}. Best is trial 43 with value: 0.7046255469322205.\n"
     ]
    },
    {
     "name": "stdout",
     "output_type": "stream",
     "text": [
      "{'w1': 0.698992302907532, 'w2': 0.7983502605682741, 'threshold': 0.63}\n"
     ]
    },
    {
     "name": "stderr",
     "output_type": "stream",
     "text": [
      "[I 2023-06-22 15:20:34,064] Trial 89 finished with value: 0.703281044960022 and parameters: {'w1': 0.7257164693062436, 'w2': 0.6243688558238342}. Best is trial 43 with value: 0.7046255469322205.\n"
     ]
    },
    {
     "name": "stdout",
     "output_type": "stream",
     "text": [
      "{'w1': 0.7257164693062436, 'w2': 0.6243688558238342, 'threshold': 0.62}\n"
     ]
    },
    {
     "name": "stderr",
     "output_type": "stream",
     "text": [
      "[I 2023-06-22 15:20:36,240] Trial 90 finished with value: 0.7036400437355042 and parameters: {'w1': 0.6777035180794461, 'w2': 0.6026327380175082}. Best is trial 43 with value: 0.7046255469322205.\n"
     ]
    },
    {
     "name": "stdout",
     "output_type": "stream",
     "text": [
      "{'w1': 0.6777035180794461, 'w2': 0.6026327380175082, 'threshold': 0.62}\n"
     ]
    },
    {
     "name": "stderr",
     "output_type": "stream",
     "text": [
      "[I 2023-06-22 15:20:38,416] Trial 91 finished with value: 0.7040022611618042 and parameters: {'w1': 0.7450261223717028, 'w2': 0.8571730029763798}. Best is trial 43 with value: 0.7046255469322205.\n"
     ]
    },
    {
     "name": "stdout",
     "output_type": "stream",
     "text": [
      "{'w1': 0.7450261223717028, 'w2': 0.8571730029763798, 'threshold': 0.63}\n"
     ]
    },
    {
     "name": "stderr",
     "output_type": "stream",
     "text": [
      "[I 2023-06-22 15:20:40,593] Trial 92 finished with value: 0.7045367360115051 and parameters: {'w1': 0.7904594248254107, 'w2': 0.7400603586154517}. Best is trial 43 with value: 0.7046255469322205.\n"
     ]
    },
    {
     "name": "stdout",
     "output_type": "stream",
     "text": [
      "{'w1': 0.7904594248254107, 'w2': 0.7400603586154517, 'threshold': 0.62}\n"
     ]
    },
    {
     "name": "stderr",
     "output_type": "stream",
     "text": [
      "[I 2023-06-22 15:20:42,768] Trial 93 finished with value: 0.7036031484603882 and parameters: {'w1': 0.7855899538452475, 'w2': 0.8268250249175839}. Best is trial 43 with value: 0.7046255469322205.\n"
     ]
    },
    {
     "name": "stdout",
     "output_type": "stream",
     "text": [
      "{'w1': 0.7855899538452475, 'w2': 0.8268250249175839, 'threshold': 0.63}\n"
     ]
    },
    {
     "name": "stderr",
     "output_type": "stream",
     "text": [
      "[I 2023-06-22 15:20:44,944] Trial 94 finished with value: 0.7039232850074768 and parameters: {'w1': 0.7078230493625531, 'w2': 0.7311340412894042}. Best is trial 43 with value: 0.7046255469322205.\n"
     ]
    },
    {
     "name": "stdout",
     "output_type": "stream",
     "text": [
      "{'w1': 0.7078230493625531, 'w2': 0.7311340412894042, 'threshold': 0.62}\n"
     ]
    },
    {
     "name": "stderr",
     "output_type": "stream",
     "text": [
      "[I 2023-06-22 15:20:47,120] Trial 95 finished with value: 0.7030347585678101 and parameters: {'w1': 0.8112284847254551, 'w2': 0.6806010868146636}. Best is trial 43 with value: 0.7046255469322205.\n"
     ]
    },
    {
     "name": "stdout",
     "output_type": "stream",
     "text": [
      "{'w1': 0.8112284847254551, 'w2': 0.6806010868146636, 'threshold': 0.62}\n"
     ]
    },
    {
     "name": "stderr",
     "output_type": "stream",
     "text": [
      "[I 2023-06-22 15:20:49,300] Trial 96 finished with value: 0.7040380239486694 and parameters: {'w1': 0.7618398891459934, 'w2': 0.766247851964658}. Best is trial 43 with value: 0.7046255469322205.\n"
     ]
    },
    {
     "name": "stdout",
     "output_type": "stream",
     "text": [
      "{'w1': 0.7618398891459934, 'w2': 0.766247851964658, 'threshold': 0.62}\n"
     ]
    },
    {
     "name": "stderr",
     "output_type": "stream",
     "text": [
      "[I 2023-06-22 15:20:51,477] Trial 97 finished with value: 0.7036910057067871 and parameters: {'w1': 0.6732036704167945, 'w2': 0.7153847782025826}. Best is trial 43 with value: 0.7046255469322205.\n"
     ]
    },
    {
     "name": "stdout",
     "output_type": "stream",
     "text": [
      "{'w1': 0.6732036704167945, 'w2': 0.7153847782025826, 'threshold': 0.63}\n"
     ]
    },
    {
     "name": "stderr",
     "output_type": "stream",
     "text": [
      "[I 2023-06-22 15:20:53,653] Trial 98 finished with value: 0.7041901350021362 and parameters: {'w1': 0.7366992637204319, 'w2': 0.8095946907777012}. Best is trial 43 with value: 0.7046255469322205.\n"
     ]
    },
    {
     "name": "stdout",
     "output_type": "stream",
     "text": [
      "{'w1': 0.7366992637204319, 'w2': 0.8095946907777012, 'threshold': 0.63}\n"
     ]
    },
    {
     "name": "stderr",
     "output_type": "stream",
     "text": [
      "[I 2023-06-22 15:20:55,828] Trial 99 finished with value: 0.7047597765922546 and parameters: {'w1': 0.65026893804022, 'w2': 0.7391503267780573}. Best is trial 99 with value: 0.7047597765922546.\n"
     ]
    },
    {
     "name": "stdout",
     "output_type": "stream",
     "text": [
      "{'w1': 0.65026893804022, 'w2': 0.7391503267780573, 'threshold': 0.63}\n"
     ]
    },
    {
     "name": "stderr",
     "output_type": "stream",
     "text": [
      "[I 2023-06-22 15:20:58,004] Trial 100 finished with value: 0.7034514546394348 and parameters: {'w1': 0.6191790076535357, 'w2': 0.7546578301458357}. Best is trial 99 with value: 0.7047597765922546.\n"
     ]
    },
    {
     "name": "stdout",
     "output_type": "stream",
     "text": [
      "{'w1': 0.6191790076535357, 'w2': 0.7546578301458357, 'threshold': 0.63}\n"
     ]
    },
    {
     "name": "stderr",
     "output_type": "stream",
     "text": [
      "[I 2023-06-22 15:21:00,179] Trial 101 finished with value: 0.703359842300415 and parameters: {'w1': 0.6416569399997859, 'w2': 0.7920395934622179}. Best is trial 99 with value: 0.7047597765922546.\n"
     ]
    },
    {
     "name": "stdout",
     "output_type": "stream",
     "text": [
      "{'w1': 0.6416569399997859, 'w2': 0.7920395934622179, 'threshold': 0.63}\n"
     ]
    },
    {
     "name": "stderr",
     "output_type": "stream",
     "text": [
      "[I 2023-06-22 15:21:02,357] Trial 102 finished with value: 0.7045902013778687 and parameters: {'w1': 0.6562832533069624, 'w2': 0.7387292327607222}. Best is trial 99 with value: 0.7047597765922546.\n"
     ]
    },
    {
     "name": "stdout",
     "output_type": "stream",
     "text": [
      "{'w1': 0.6562832533069624, 'w2': 0.7387292327607222, 'threshold': 0.63}\n"
     ]
    },
    {
     "name": "stderr",
     "output_type": "stream",
     "text": [
      "[I 2023-06-22 15:21:04,534] Trial 103 finished with value: 0.70420241355896 and parameters: {'w1': 0.5870125777412479, 'w2': 0.6457823729979619}. Best is trial 99 with value: 0.7047597765922546.\n"
     ]
    },
    {
     "name": "stdout",
     "output_type": "stream",
     "text": [
      "{'w1': 0.5870125777412479, 'w2': 0.6457823729979619, 'threshold': 0.63}\n"
     ]
    },
    {
     "name": "stderr",
     "output_type": "stream",
     "text": [
      "[I 2023-06-22 15:21:06,711] Trial 104 finished with value: 0.7039333581924438 and parameters: {'w1': 0.6552016147368107, 'w2': 0.676572091517721}. Best is trial 99 with value: 0.7047597765922546.\n"
     ]
    },
    {
     "name": "stdout",
     "output_type": "stream",
     "text": [
      "{'w1': 0.6552016147368107, 'w2': 0.676572091517721, 'threshold': 0.62}\n"
     ]
    },
    {
     "name": "stderr",
     "output_type": "stream",
     "text": [
      "[I 2023-06-22 15:21:08,888] Trial 105 finished with value: 0.7034563422203064 and parameters: {'w1': 0.5719694188904787, 'w2': 0.7262633355524317}. Best is trial 99 with value: 0.7047597765922546.\n"
     ]
    },
    {
     "name": "stdout",
     "output_type": "stream",
     "text": [
      "{'w1': 0.5719694188904787, 'w2': 0.7262633355524317, 'threshold': 0.64}\n"
     ]
    },
    {
     "name": "stderr",
     "output_type": "stream",
     "text": [
      "[I 2023-06-22 15:21:11,065] Trial 106 finished with value: 0.7037308216094971 and parameters: {'w1': 0.6278488747500556, 'w2': 0.7396835775826848}. Best is trial 99 with value: 0.7047597765922546.\n"
     ]
    },
    {
     "name": "stdout",
     "output_type": "stream",
     "text": [
      "{'w1': 0.6278488747500556, 'w2': 0.7396835775826848, 'threshold': 0.63}\n"
     ]
    },
    {
     "name": "stderr",
     "output_type": "stream",
     "text": [
      "[I 2023-06-22 15:21:13,241] Trial 107 finished with value: 0.7033429741859436 and parameters: {'w1': 0.6148740275519605, 'w2': 0.7716161128239111}. Best is trial 99 with value: 0.7047597765922546.\n"
     ]
    },
    {
     "name": "stdout",
     "output_type": "stream",
     "text": [
      "{'w1': 0.6148740275519605, 'w2': 0.7716161128239111, 'threshold': 0.64}\n"
     ]
    },
    {
     "name": "stderr",
     "output_type": "stream",
     "text": [
      "[I 2023-06-22 15:21:15,416] Trial 108 finished with value: 0.7041699290275574 and parameters: {'w1': 0.5240550374746153, 'w2': 0.6946636060753751}. Best is trial 99 with value: 0.7047597765922546.\n"
     ]
    },
    {
     "name": "stdout",
     "output_type": "stream",
     "text": [
      "{'w1': 0.5240550374746153, 'w2': 0.6946636060753751, 'threshold': 0.64}\n"
     ]
    },
    {
     "name": "stderr",
     "output_type": "stream",
     "text": [
      "[I 2023-06-22 15:21:17,592] Trial 109 finished with value: 0.7040939927101135 and parameters: {'w1': 0.6650841602994756, 'w2': 0.6575885406796236}. Best is trial 99 with value: 0.7047597765922546.\n"
     ]
    },
    {
     "name": "stdout",
     "output_type": "stream",
     "text": [
      "{'w1': 0.6650841602994756, 'w2': 0.6575885406796236, 'threshold': 0.62}\n"
     ]
    },
    {
     "name": "stderr",
     "output_type": "stream",
     "text": [
      "[I 2023-06-22 15:21:19,767] Trial 110 finished with value: 0.7037676572799683 and parameters: {'w1': 0.7896018395947135, 'w2': 0.7085781964000462}. Best is trial 99 with value: 0.7047597765922546.\n"
     ]
    },
    {
     "name": "stdout",
     "output_type": "stream",
     "text": [
      "{'w1': 0.7896018395947135, 'w2': 0.7085781964000462, 'threshold': 0.62}\n"
     ]
    },
    {
     "name": "stderr",
     "output_type": "stream",
     "text": [
      "[I 2023-06-22 15:21:21,947] Trial 111 finished with value: 0.7038164734840393 and parameters: {'w1': 0.7079907493121484, 'w2': 0.8248657327362432}. Best is trial 99 with value: 0.7047597765922546.\n"
     ]
    },
    {
     "name": "stdout",
     "output_type": "stream",
     "text": [
      "{'w1': 0.7079907493121484, 'w2': 0.8248657327362432, 'threshold': 0.63}\n"
     ]
    },
    {
     "name": "stderr",
     "output_type": "stream",
     "text": [
      "[I 2023-06-22 15:21:24,138] Trial 112 finished with value: 0.7041588425636292 and parameters: {'w1': 0.6975815953952872, 'w2': 0.7974152113981768}. Best is trial 99 with value: 0.7047597765922546.\n"
     ]
    },
    {
     "name": "stdout",
     "output_type": "stream",
     "text": [
      "{'w1': 0.6975815953952872, 'w2': 0.7974152113981768, 'threshold': 0.63}\n"
     ]
    },
    {
     "name": "stderr",
     "output_type": "stream",
     "text": [
      "[I 2023-06-22 15:21:26,327] Trial 113 finished with value: 0.7040953636169434 and parameters: {'w1': 0.7575024505629916, 'w2': 0.7455809688942298}. Best is trial 99 with value: 0.7047597765922546.\n"
     ]
    },
    {
     "name": "stdout",
     "output_type": "stream",
     "text": [
      "{'w1': 0.7575024505629916, 'w2': 0.7455809688942298, 'threshold': 0.62}\n"
     ]
    },
    {
     "name": "stderr",
     "output_type": "stream",
     "text": [
      "[I 2023-06-22 15:21:28,507] Trial 114 finished with value: 0.7040976285934448 and parameters: {'w1': 0.7759257204617015, 'w2': 0.7677530589727973}. Best is trial 99 with value: 0.7047597765922546.\n"
     ]
    },
    {
     "name": "stdout",
     "output_type": "stream",
     "text": [
      "{'w1': 0.7759257204617015, 'w2': 0.7677530589727973, 'threshold': 0.62}\n"
     ]
    },
    {
     "name": "stderr",
     "output_type": "stream",
     "text": [
      "[I 2023-06-22 15:21:30,695] Trial 115 finished with value: 0.7037787437438965 and parameters: {'w1': 0.7373309252329246, 'w2': 0.8631911418502574}. Best is trial 99 with value: 0.7047597765922546.\n"
     ]
    },
    {
     "name": "stdout",
     "output_type": "stream",
     "text": [
      "{'w1': 0.7373309252329246, 'w2': 0.8631911418502574, 'threshold': 0.63}\n"
     ]
    },
    {
     "name": "stderr",
     "output_type": "stream",
     "text": [
      "[I 2023-06-22 15:21:32,893] Trial 116 finished with value: 0.7033746242523193 and parameters: {'w1': 0.7242894657891399, 'w2': 0.8916847217663013}. Best is trial 99 with value: 0.7047597765922546.\n"
     ]
    },
    {
     "name": "stdout",
     "output_type": "stream",
     "text": [
      "{'w1': 0.7242894657891399, 'w2': 0.8916847217663013, 'threshold': 0.63}\n"
     ]
    },
    {
     "name": "stderr",
     "output_type": "stream",
     "text": [
      "[I 2023-06-22 15:21:35,077] Trial 117 finished with value: 0.7048595547676086 and parameters: {'w1': 0.640870460272283, 'w2': 0.7264857240358027}. Best is trial 117 with value: 0.7048595547676086.\n"
     ]
    },
    {
     "name": "stdout",
     "output_type": "stream",
     "text": [
      "{'w1': 0.640870460272283, 'w2': 0.7264857240358027, 'threshold': 0.63}\n"
     ]
    },
    {
     "name": "stderr",
     "output_type": "stream",
     "text": [
      "[I 2023-06-22 15:21:37,265] Trial 118 finished with value: 0.7035367488861084 and parameters: {'w1': 0.6057074894898171, 'w2': 0.7270814159595232}. Best is trial 117 with value: 0.7048595547676086.\n"
     ]
    },
    {
     "name": "stdout",
     "output_type": "stream",
     "text": [
      "{'w1': 0.6057074894898171, 'w2': 0.7270814159595232, 'threshold': 0.63}\n"
     ]
    },
    {
     "name": "stderr",
     "output_type": "stream",
     "text": [
      "[I 2023-06-22 15:21:39,458] Trial 119 finished with value: 0.7035170197486877 and parameters: {'w1': 0.5688435403768886, 'w2': 0.6848738865040663}. Best is trial 117 with value: 0.7048595547676086.\n"
     ]
    },
    {
     "name": "stdout",
     "output_type": "stream",
     "text": [
      "{'w1': 0.5688435403768886, 'w2': 0.6848738865040663, 'threshold': 0.63}\n"
     ]
    },
    {
     "name": "stderr",
     "output_type": "stream",
     "text": [
      "[I 2023-06-22 15:21:41,637] Trial 120 finished with value: 0.7041955590248108 and parameters: {'w1': 0.6396722394440222, 'w2': 0.7030996966602492}. Best is trial 117 with value: 0.7048595547676086.\n"
     ]
    },
    {
     "name": "stdout",
     "output_type": "stream",
     "text": [
      "{'w1': 0.6396722394440222, 'w2': 0.7030996966602492, 'threshold': 0.63}\n"
     ]
    },
    {
     "name": "stderr",
     "output_type": "stream",
     "text": [
      "[I 2023-06-22 15:21:43,825] Trial 121 finished with value: 0.703822672367096 and parameters: {'w1': 0.6739132294019, 'w2': 0.7838435635422988}. Best is trial 117 with value: 0.7048595547676086.\n"
     ]
    },
    {
     "name": "stdout",
     "output_type": "stream",
     "text": [
      "{'w1': 0.6739132294019, 'w2': 0.7838435635422988, 'threshold': 0.63}\n"
     ]
    },
    {
     "name": "stderr",
     "output_type": "stream",
     "text": [
      "[I 2023-06-22 15:21:46,015] Trial 122 finished with value: 0.7035470604896545 and parameters: {'w1': 0.6526322698892206, 'w2': 0.8353619015740466}. Best is trial 117 with value: 0.7048595547676086.\n"
     ]
    },
    {
     "name": "stdout",
     "output_type": "stream",
     "text": [
      "{'w1': 0.6526322698892206, 'w2': 0.8353619015740466, 'threshold': 0.64}\n"
     ]
    },
    {
     "name": "stderr",
     "output_type": "stream",
     "text": [
      "[I 2023-06-22 15:21:48,207] Trial 123 finished with value: 0.7037723064422607 and parameters: {'w1': 0.6969749347088366, 'w2': 0.7470876932664497}. Best is trial 117 with value: 0.7048595547676086.\n"
     ]
    },
    {
     "name": "stdout",
     "output_type": "stream",
     "text": [
      "{'w1': 0.6969749347088366, 'w2': 0.7470876932664497, 'threshold': 0.63}\n"
     ]
    },
    {
     "name": "stderr",
     "output_type": "stream",
     "text": [
      "[I 2023-06-22 15:21:50,385] Trial 124 finished with value: 0.7037769556045532 and parameters: {'w1': 0.6897455672594188, 'w2': 0.8075699833473998}. Best is trial 117 with value: 0.7048595547676086.\n"
     ]
    },
    {
     "name": "stdout",
     "output_type": "stream",
     "text": [
      "{'w1': 0.6897455672594188, 'w2': 0.8075699833473998, 'threshold': 0.63}\n"
     ]
    },
    {
     "name": "stderr",
     "output_type": "stream",
     "text": [
      "[I 2023-06-22 15:21:52,562] Trial 125 finished with value: 0.7035509943962097 and parameters: {'w1': 0.8145330441417811, 'w2': 0.7189875496682113}. Best is trial 117 with value: 0.7048595547676086.\n"
     ]
    },
    {
     "name": "stdout",
     "output_type": "stream",
     "text": [
      "{'w1': 0.8145330441417811, 'w2': 0.7189875496682113, 'threshold': 0.62}\n"
     ]
    },
    {
     "name": "stderr",
     "output_type": "stream",
     "text": [
      "[I 2023-06-22 15:21:54,737] Trial 126 finished with value: 0.7042108178138733 and parameters: {'w1': 0.7230209010025894, 'w2': 0.6659893785465957}. Best is trial 117 with value: 0.7048595547676086.\n"
     ]
    },
    {
     "name": "stdout",
     "output_type": "stream",
     "text": [
      "{'w1': 0.7230209010025894, 'w2': 0.6659893785465957, 'threshold': 0.62}\n"
     ]
    },
    {
     "name": "stderr",
     "output_type": "stream",
     "text": [
      "[I 2023-06-22 15:21:56,913] Trial 127 finished with value: 0.7040305733680725 and parameters: {'w1': 0.6296644108893426, 'w2': 0.6369641043741137}. Best is trial 117 with value: 0.7048595547676086.\n"
     ]
    },
    {
     "name": "stdout",
     "output_type": "stream",
     "text": [
      "{'w1': 0.6296644108893426, 'w2': 0.6369641043741137, 'threshold': 0.62}\n"
     ]
    },
    {
     "name": "stderr",
     "output_type": "stream",
     "text": [
      "[I 2023-06-22 15:21:59,088] Trial 128 finished with value: 0.7040315866470337 and parameters: {'w1': 0.7537984018753903, 'w2': 0.8658664147568478}. Best is trial 117 with value: 0.7048595547676086.\n"
     ]
    },
    {
     "name": "stdout",
     "output_type": "stream",
     "text": [
      "{'w1': 0.7537984018753903, 'w2': 0.8658664147568478, 'threshold': 0.63}\n"
     ]
    },
    {
     "name": "stderr",
     "output_type": "stream",
     "text": [
      "[I 2023-06-22 15:22:01,264] Trial 129 finished with value: 0.7041540145874023 and parameters: {'w1': 0.5873316128043072, 'w2': 0.777624103472678}. Best is trial 117 with value: 0.7048595547676086.\n"
     ]
    },
    {
     "name": "stdout",
     "output_type": "stream",
     "text": [
      "{'w1': 0.5873316128043072, 'w2': 0.777624103472678, 'threshold': 0.64}\n"
     ]
    },
    {
     "name": "stderr",
     "output_type": "stream",
     "text": [
      "[I 2023-06-22 15:22:03,439] Trial 130 finished with value: 0.7050297856330872 and parameters: {'w1': 0.7930590703216703, 'w2': 0.7573554022083677}. Best is trial 130 with value: 0.7050297856330872.\n"
     ]
    },
    {
     "name": "stdout",
     "output_type": "stream",
     "text": [
      "{'w1': 0.7930590703216703, 'w2': 0.7573554022083677, 'threshold': 0.62}\n"
     ]
    },
    {
     "name": "stderr",
     "output_type": "stream",
     "text": [
      "[I 2023-06-22 15:22:05,615] Trial 131 finished with value: 0.7043091654777527 and parameters: {'w1': 0.79637992429081, 'w2': 0.736418353946992}. Best is trial 130 with value: 0.7050297856330872.\n"
     ]
    },
    {
     "name": "stdout",
     "output_type": "stream",
     "text": [
      "{'w1': 0.79637992429081, 'w2': 0.736418353946992, 'threshold': 0.62}\n"
     ]
    },
    {
     "name": "stderr",
     "output_type": "stream",
     "text": [
      "[I 2023-06-22 15:22:07,795] Trial 132 finished with value: 0.7034674286842346 and parameters: {'w1': 0.7997174931924651, 'w2': 0.701692188385832}. Best is trial 130 with value: 0.7050297856330872.\n"
     ]
    },
    {
     "name": "stdout",
     "output_type": "stream",
     "text": [
      "{'w1': 0.7997174931924651, 'w2': 0.701692188385832, 'threshold': 0.62}\n"
     ]
    },
    {
     "name": "stderr",
     "output_type": "stream",
     "text": [
      "[I 2023-06-22 15:22:09,970] Trial 133 finished with value: 0.7037377953529358 and parameters: {'w1': 0.8290330498045085, 'w2': 0.7422005052982852}. Best is trial 130 with value: 0.7050297856330872.\n"
     ]
    },
    {
     "name": "stdout",
     "output_type": "stream",
     "text": [
      "{'w1': 0.8290330498045085, 'w2': 0.7422005052982852, 'threshold': 0.62}\n"
     ]
    },
    {
     "name": "stderr",
     "output_type": "stream",
     "text": [
      "[I 2023-06-22 15:22:12,146] Trial 134 finished with value: 0.7037754654884338 and parameters: {'w1': 0.846980700771015, 'w2': 0.7610438495748024}. Best is trial 130 with value: 0.7050297856330872.\n"
     ]
    },
    {
     "name": "stdout",
     "output_type": "stream",
     "text": [
      "{'w1': 0.846980700771015, 'w2': 0.7610438495748024, 'threshold': 0.62}\n"
     ]
    },
    {
     "name": "stderr",
     "output_type": "stream",
     "text": [
      "[I 2023-06-22 15:22:14,321] Trial 135 finished with value: 0.7034257054328918 and parameters: {'w1': 0.780424645774988, 'w2': 0.682232828648841}. Best is trial 130 with value: 0.7050297856330872.\n"
     ]
    },
    {
     "name": "stdout",
     "output_type": "stream",
     "text": [
      "{'w1': 0.780424645774988, 'w2': 0.682232828648841, 'threshold': 0.62}\n"
     ]
    },
    {
     "name": "stderr",
     "output_type": "stream",
     "text": [
      "[I 2023-06-22 15:22:16,496] Trial 136 finished with value: 0.7039859294891357 and parameters: {'w1': 0.7989582825179052, 'w2': 0.7278772040075947}. Best is trial 130 with value: 0.7050297856330872.\n"
     ]
    },
    {
     "name": "stdout",
     "output_type": "stream",
     "text": [
      "{'w1': 0.7989582825179052, 'w2': 0.7278772040075947, 'threshold': 0.62}\n"
     ]
    },
    {
     "name": "stderr",
     "output_type": "stream",
     "text": [
      "[I 2023-06-22 15:22:18,676] Trial 137 finished with value: 0.7033244967460632 and parameters: {'w1': 0.7583967728344929, 'w2': 0.6552822109089336}. Best is trial 130 with value: 0.7050297856330872.\n"
     ]
    },
    {
     "name": "stdout",
     "output_type": "stream",
     "text": [
      "{'w1': 0.7583967728344929, 'w2': 0.6552822109089336, 'threshold': 0.62}\n"
     ]
    },
    {
     "name": "stderr",
     "output_type": "stream",
     "text": [
      "[I 2023-06-22 15:22:20,853] Trial 138 finished with value: 0.7040398120880127 and parameters: {'w1': 0.8288706419692987, 'w2': 0.8371269043645708}. Best is trial 130 with value: 0.7050297856330872.\n"
     ]
    },
    {
     "name": "stdout",
     "output_type": "stream",
     "text": [
      "{'w1': 0.8288706419692987, 'w2': 0.8371269043645708, 'threshold': 0.62}\n"
     ]
    },
    {
     "name": "stderr",
     "output_type": "stream",
     "text": [
      "[I 2023-06-22 15:22:23,037] Trial 139 finished with value: 0.7036529183387756 and parameters: {'w1': 0.8598036460171269, 'w2': 0.7653819584559225}. Best is trial 130 with value: 0.7050297856330872.\n"
     ]
    },
    {
     "name": "stdout",
     "output_type": "stream",
     "text": [
      "{'w1': 0.8598036460171269, 'w2': 0.7653819584559225, 'threshold': 0.62}\n"
     ]
    },
    {
     "name": "stderr",
     "output_type": "stream",
     "text": [
      "[I 2023-06-22 15:22:25,230] Trial 140 finished with value: 0.7044658064842224 and parameters: {'w1': 0.7645273686627921, 'w2': 0.7127030829446985}. Best is trial 130 with value: 0.7050297856330872.\n"
     ]
    },
    {
     "name": "stdout",
     "output_type": "stream",
     "text": [
      "{'w1': 0.7645273686627921, 'w2': 0.7127030829446985, 'threshold': 0.62}\n"
     ]
    },
    {
     "name": "stderr",
     "output_type": "stream",
     "text": [
      "[I 2023-06-22 15:22:27,422] Trial 141 finished with value: 0.7039817571640015 and parameters: {'w1': 0.7796939745462597, 'w2': 0.7095955454210603}. Best is trial 130 with value: 0.7050297856330872.\n"
     ]
    },
    {
     "name": "stdout",
     "output_type": "stream",
     "text": [
      "{'w1': 0.7796939745462597, 'w2': 0.7095955454210603, 'threshold': 0.62}\n"
     ]
    },
    {
     "name": "stderr",
     "output_type": "stream",
     "text": [
      "[I 2023-06-22 15:22:29,608] Trial 142 finished with value: 0.7040905952453613 and parameters: {'w1': 0.7414873821362536, 'w2': 0.734129173439995}. Best is trial 130 with value: 0.7050297856330872.\n"
     ]
    },
    {
     "name": "stdout",
     "output_type": "stream",
     "text": [
      "{'w1': 0.7414873821362536, 'w2': 0.734129173439995, 'threshold': 0.62}\n"
     ]
    },
    {
     "name": "stderr",
     "output_type": "stream",
     "text": [
      "[I 2023-06-22 15:22:31,789] Trial 143 finished with value: 0.7037365436553955 and parameters: {'w1': 0.7651777349632091, 'w2': 0.6849451217753311}. Best is trial 130 with value: 0.7050297856330872.\n"
     ]
    },
    {
     "name": "stdout",
     "output_type": "stream",
     "text": [
      "{'w1': 0.7651777349632091, 'w2': 0.6849451217753311, 'threshold': 0.62}\n"
     ]
    },
    {
     "name": "stderr",
     "output_type": "stream",
     "text": [
      "[I 2023-06-22 15:22:33,983] Trial 144 finished with value: 0.7036213874816895 and parameters: {'w1': 0.8127643904099494, 'w2': 0.7208663991117887}. Best is trial 130 with value: 0.7050297856330872.\n"
     ]
    },
    {
     "name": "stdout",
     "output_type": "stream",
     "text": [
      "{'w1': 0.8127643904099494, 'w2': 0.7208663991117887, 'threshold': 0.62}\n"
     ]
    },
    {
     "name": "stderr",
     "output_type": "stream",
     "text": [
      "[I 2023-06-22 15:22:36,165] Trial 145 finished with value: 0.7040704488754272 and parameters: {'w1': 0.7219602111065437, 'w2': 0.7884017163186027}. Best is trial 130 with value: 0.7050297856330872.\n"
     ]
    },
    {
     "name": "stdout",
     "output_type": "stream",
     "text": [
      "{'w1': 0.7219602111065437, 'w2': 0.7884017163186027, 'threshold': 0.63}\n"
     ]
    },
    {
     "name": "stderr",
     "output_type": "stream",
     "text": [
      "[I 2023-06-22 15:22:38,355] Trial 146 finished with value: 0.7033088803291321 and parameters: {'w1': 0.6097414770361242, 'w2': 0.7583715136475813}. Best is trial 130 with value: 0.7050297856330872.\n"
     ]
    },
    {
     "name": "stdout",
     "output_type": "stream",
     "text": [
      "{'w1': 0.6097414770361242, 'w2': 0.7583715136475813, 'threshold': 0.63}\n"
     ]
    },
    {
     "name": "stderr",
     "output_type": "stream",
     "text": [
      "[I 2023-06-22 15:22:40,552] Trial 147 finished with value: 0.7035515308380127 and parameters: {'w1': 0.794926678180414, 'w2': 0.7015477660266243}. Best is trial 130 with value: 0.7050297856330872.\n"
     ]
    },
    {
     "name": "stdout",
     "output_type": "stream",
     "text": [
      "{'w1': 0.794926678180414, 'w2': 0.7015477660266243, 'threshold': 0.62}\n"
     ]
    },
    {
     "name": "stderr",
     "output_type": "stream",
     "text": [
      "[I 2023-06-22 15:22:42,737] Trial 148 finished with value: 0.7031295895576477 and parameters: {'w1': 0.7443035923351504, 'w2': 0.629103717767142}. Best is trial 130 with value: 0.7050297856330872.\n"
     ]
    },
    {
     "name": "stdout",
     "output_type": "stream",
     "text": [
      "{'w1': 0.7443035923351504, 'w2': 0.629103717767142, 'threshold': 0.62}\n"
     ]
    },
    {
     "name": "stderr",
     "output_type": "stream",
     "text": [
      "[I 2023-06-22 15:22:44,918] Trial 149 finished with value: 0.7037904262542725 and parameters: {'w1': 0.6654115623885655, 'w2': 0.5984840644805298}. Best is trial 130 with value: 0.7050297856330872.\n"
     ]
    },
    {
     "name": "stdout",
     "output_type": "stream",
     "text": [
      "{'w1': 0.6654115623885655, 'w2': 0.5984840644805298, 'threshold': 0.62}\n"
     ]
    },
    {
     "name": "stderr",
     "output_type": "stream",
     "text": [
      "[I 2023-06-22 15:22:47,095] Trial 150 finished with value: 0.704458475112915 and parameters: {'w1': 0.5514936728362387, 'w2': 0.7412364303164982}. Best is trial 130 with value: 0.7050297856330872.\n"
     ]
    },
    {
     "name": "stdout",
     "output_type": "stream",
     "text": [
      "{'w1': 0.5514936728362387, 'w2': 0.7412364303164982, 'threshold': 0.64}\n"
     ]
    },
    {
     "name": "stderr",
     "output_type": "stream",
     "text": [
      "[I 2023-06-22 15:22:49,271] Trial 151 finished with value: 0.704716682434082 and parameters: {'w1': 0.5468855252231897, 'w2': 0.739177914504939}. Best is trial 130 with value: 0.7050297856330872.\n"
     ]
    },
    {
     "name": "stdout",
     "output_type": "stream",
     "text": [
      "{'w1': 0.5468855252231897, 'w2': 0.739177914504939, 'threshold': 0.64}\n"
     ]
    },
    {
     "name": "stderr",
     "output_type": "stream",
     "text": [
      "[I 2023-06-22 15:22:51,447] Trial 152 finished with value: 0.7033320665359497 and parameters: {'w1': 0.5493048326036009, 'w2': 0.680603473057282}. Best is trial 130 with value: 0.7050297856330872.\n"
     ]
    },
    {
     "name": "stdout",
     "output_type": "stream",
     "text": [
      "{'w1': 0.5493048326036009, 'w2': 0.680603473057282, 'threshold': 0.63}\n"
     ]
    },
    {
     "name": "stderr",
     "output_type": "stream",
     "text": [
      "[I 2023-06-22 15:22:53,623] Trial 153 finished with value: 0.7040326595306396 and parameters: {'w1': 0.5120519060806378, 'w2': 0.8191724050678622}. Best is trial 130 with value: 0.7050297856330872.\n"
     ]
    },
    {
     "name": "stdout",
     "output_type": "stream",
     "text": [
      "{'w1': 0.5120519060806378, 'w2': 0.8191724050678622, 'threshold': 0.65}\n"
     ]
    },
    {
     "name": "stderr",
     "output_type": "stream",
     "text": [
      "[I 2023-06-22 15:22:55,800] Trial 154 finished with value: 0.7034620642662048 and parameters: {'w1': 0.5922624091318056, 'w2': 0.7525116017053997}. Best is trial 130 with value: 0.7050297856330872.\n"
     ]
    },
    {
     "name": "stdout",
     "output_type": "stream",
     "text": [
      "{'w1': 0.5922624091318056, 'w2': 0.7525116017053997, 'threshold': 0.64}\n"
     ]
    },
    {
     "name": "stderr",
     "output_type": "stream",
     "text": [
      "[I 2023-06-22 15:22:57,993] Trial 155 finished with value: 0.7032764554023743 and parameters: {'w1': 0.4874893732301944, 'w2': 0.7148222690330792}. Best is trial 130 with value: 0.7050297856330872.\n"
     ]
    },
    {
     "name": "stdout",
     "output_type": "stream",
     "text": [
      "{'w1': 0.4874893732301944, 'w2': 0.7148222690330792, 'threshold': 0.64}\n"
     ]
    },
    {
     "name": "stderr",
     "output_type": "stream",
     "text": [
      "[I 2023-06-22 15:23:00,173] Trial 156 finished with value: 0.7039240598678589 and parameters: {'w1': 0.5696231940968475, 'w2': 0.778410452374102}. Best is trial 130 with value: 0.7050297856330872.\n"
     ]
    },
    {
     "name": "stdout",
     "output_type": "stream",
     "text": [
      "{'w1': 0.5696231940968475, 'w2': 0.778410452374102, 'threshold': 0.64}\n"
     ]
    },
    {
     "name": "stderr",
     "output_type": "stream",
     "text": [
      "[I 2023-06-22 15:23:02,351] Trial 157 finished with value: 0.7034022212028503 and parameters: {'w1': 0.5453947873565247, 'w2': 0.6692538638309778}. Best is trial 130 with value: 0.7050297856330872.\n"
     ]
    },
    {
     "name": "stdout",
     "output_type": "stream",
     "text": [
      "{'w1': 0.5453947873565247, 'w2': 0.6692538638309778, 'threshold': 0.63}\n"
     ]
    },
    {
     "name": "stderr",
     "output_type": "stream",
     "text": [
      "[I 2023-06-22 15:23:04,528] Trial 158 finished with value: 0.7033196091651917 and parameters: {'w1': 0.6406594695207225, 'w2': 0.8023782883750592}. Best is trial 130 with value: 0.7050297856330872.\n"
     ]
    },
    {
     "name": "stdout",
     "output_type": "stream",
     "text": [
      "{'w1': 0.6406594695207225, 'w2': 0.8023782883750592, 'threshold': 0.64}\n"
     ]
    },
    {
     "name": "stderr",
     "output_type": "stream",
     "text": [
      "[I 2023-06-22 15:23:06,703] Trial 159 finished with value: 0.7035305500030518 and parameters: {'w1': 0.6157214821040822, 'w2': 0.7398549162105078}. Best is trial 130 with value: 0.7050297856330872.\n"
     ]
    },
    {
     "name": "stdout",
     "output_type": "stream",
     "text": [
      "{'w1': 0.6157214821040822, 'w2': 0.7398549162105078, 'threshold': 0.63}\n"
     ]
    },
    {
     "name": "stderr",
     "output_type": "stream",
     "text": [
      "[I 2023-06-22 15:23:08,879] Trial 160 finished with value: 0.7037317752838135 and parameters: {'w1': 0.595107976046933, 'w2': 0.7008026769566145}. Best is trial 130 with value: 0.7050297856330872.\n"
     ]
    },
    {
     "name": "stdout",
     "output_type": "stream",
     "text": [
      "{'w1': 0.595107976046933, 'w2': 0.7008026769566145, 'threshold': 0.63}\n"
     ]
    },
    {
     "name": "stderr",
     "output_type": "stream",
     "text": [
      "[I 2023-06-22 15:23:11,055] Trial 161 finished with value: 0.7046766877174377 and parameters: {'w1': 0.7744964534172984, 'w2': 0.7317220821858169}. Best is trial 130 with value: 0.7050297856330872.\n"
     ]
    },
    {
     "name": "stdout",
     "output_type": "stream",
     "text": [
      "{'w1': 0.7744964534172984, 'w2': 0.7317220821858169, 'threshold': 0.62}\n"
     ]
    },
    {
     "name": "stderr",
     "output_type": "stream",
     "text": [
      "[I 2023-06-22 15:23:13,231] Trial 162 finished with value: 0.7037631869316101 and parameters: {'w1': 0.5592157322702698, 'w2': 0.7262161255874403}. Best is trial 130 with value: 0.7050297856330872.\n"
     ]
    },
    {
     "name": "stdout",
     "output_type": "stream",
     "text": [
      "{'w1': 0.5592157322702698, 'w2': 0.7262161255874403, 'threshold': 0.64}\n"
     ]
    },
    {
     "name": "stderr",
     "output_type": "stream",
     "text": [
      "[I 2023-06-22 15:23:15,409] Trial 163 finished with value: 0.7039178609848022 and parameters: {'w1': 0.577855139049141, 'w2': 0.7556065043940469}. Best is trial 130 with value: 0.7050297856330872.\n"
     ]
    },
    {
     "name": "stdout",
     "output_type": "stream",
     "text": [
      "{'w1': 0.577855139049141, 'w2': 0.7556065043940469, 'threshold': 0.64}\n"
     ]
    },
    {
     "name": "stderr",
     "output_type": "stream",
     "text": [
      "[I 2023-06-22 15:23:17,586] Trial 164 finished with value: 0.7033910155296326 and parameters: {'w1': 0.5262954181900842, 'w2': 0.8845361634115374}. Best is trial 130 with value: 0.7050297856330872.\n"
     ]
    },
    {
     "name": "stdout",
     "output_type": "stream",
     "text": [
      "{'w1': 0.5262954181900842, 'w2': 0.8845361634115374, 'threshold': 0.65}\n"
     ]
    },
    {
     "name": "stderr",
     "output_type": "stream",
     "text": [
      "[I 2023-06-22 15:23:19,762] Trial 165 finished with value: 0.7039732933044434 and parameters: {'w1': 0.7641011856736398, 'w2': 0.6944660054870887}. Best is trial 130 with value: 0.7050297856330872.\n"
     ]
    },
    {
     "name": "stdout",
     "output_type": "stream",
     "text": [
      "{'w1': 0.7641011856736398, 'w2': 0.6944660054870887, 'threshold': 0.62}\n"
     ]
    },
    {
     "name": "stderr",
     "output_type": "stream",
     "text": [
      "[I 2023-06-22 15:23:21,937] Trial 166 finished with value: 0.7048922777175903 and parameters: {'w1': 0.6849182072215783, 'w2': 0.7766853798408473}. Best is trial 130 with value: 0.7050297856330872.\n"
     ]
    },
    {
     "name": "stdout",
     "output_type": "stream",
     "text": [
      "{'w1': 0.6849182072215783, 'w2': 0.7766853798408473, 'threshold': 0.63}\n"
     ]
    },
    {
     "name": "stderr",
     "output_type": "stream",
     "text": [
      "[I 2023-06-22 15:23:24,112] Trial 167 finished with value: 0.7046566009521484 and parameters: {'w1': 0.6878303952764805, 'w2': 0.7760644159294814}. Best is trial 130 with value: 0.7050297856330872.\n"
     ]
    },
    {
     "name": "stdout",
     "output_type": "stream",
     "text": [
      "{'w1': 0.6878303952764805, 'w2': 0.7760644159294814, 'threshold': 0.63}\n"
     ]
    },
    {
     "name": "stderr",
     "output_type": "stream",
     "text": [
      "[I 2023-06-22 15:23:26,287] Trial 168 finished with value: 0.704103946685791 and parameters: {'w1': 0.6795936307645544, 'w2': 0.7783457652943641}. Best is trial 130 with value: 0.7050297856330872.\n"
     ]
    },
    {
     "name": "stdout",
     "output_type": "stream",
     "text": [
      "{'w1': 0.6795936307645544, 'w2': 0.7783457652943641, 'threshold': 0.63}\n"
     ]
    },
    {
     "name": "stderr",
     "output_type": "stream",
     "text": [
      "[I 2023-06-22 15:23:28,463] Trial 169 finished with value: 0.7034507989883423 and parameters: {'w1': 0.6510954516239622, 'w2': 0.7933696475787628}. Best is trial 130 with value: 0.7050297856330872.\n"
     ]
    },
    {
     "name": "stdout",
     "output_type": "stream",
     "text": [
      "{'w1': 0.6510954516239622, 'w2': 0.7933696475787628, 'threshold': 0.63}\n"
     ]
    },
    {
     "name": "stderr",
     "output_type": "stream",
     "text": [
      "[I 2023-06-22 15:23:30,638] Trial 170 finished with value: 0.7036911249160767 and parameters: {'w1': 0.6399743251520273, 'w2': 0.7564648139397067}. Best is trial 130 with value: 0.7050297856330872.\n"
     ]
    },
    {
     "name": "stdout",
     "output_type": "stream",
     "text": [
      "{'w1': 0.6399743251520273, 'w2': 0.7564648139397067, 'threshold': 0.63}\n"
     ]
    },
    {
     "name": "stderr",
     "output_type": "stream",
     "text": [
      "[I 2023-06-22 15:23:32,815] Trial 171 finished with value: 0.7034761309623718 and parameters: {'w1': 0.6858668719623706, 'w2': 0.8291232719654678}. Best is trial 130 with value: 0.7050297856330872.\n"
     ]
    },
    {
     "name": "stdout",
     "output_type": "stream",
     "text": [
      "{'w1': 0.6858668719623706, 'w2': 0.8291232719654678, 'threshold': 0.63}\n"
     ]
    },
    {
     "name": "stderr",
     "output_type": "stream",
     "text": [
      "[I 2023-06-22 15:23:34,995] Trial 172 finished with value: 0.7036239504814148 and parameters: {'w1': 0.7121975962494211, 'w2': 0.8475506071691876}. Best is trial 130 with value: 0.7050297856330872.\n"
     ]
    },
    {
     "name": "stdout",
     "output_type": "stream",
     "text": [
      "{'w1': 0.7121975962494211, 'w2': 0.8475506071691876, 'threshold': 0.63}\n"
     ]
    },
    {
     "name": "stderr",
     "output_type": "stream",
     "text": [
      "[I 2023-06-22 15:23:37,174] Trial 173 finished with value: 0.7034300565719604 and parameters: {'w1': 0.6106210210654137, 'w2': 0.7728780098360467}. Best is trial 130 with value: 0.7050297856330872.\n"
     ]
    },
    {
     "name": "stdout",
     "output_type": "stream",
     "text": [
      "{'w1': 0.6106210210654137, 'w2': 0.7728780098360467, 'threshold': 0.64}\n"
     ]
    },
    {
     "name": "stderr",
     "output_type": "stream",
     "text": [
      "[I 2023-06-22 15:23:39,358] Trial 174 finished with value: 0.7040470242500305 and parameters: {'w1': 0.6712697238535678, 'w2': 0.7322592250076372}. Best is trial 130 with value: 0.7050297856330872.\n"
     ]
    },
    {
     "name": "stdout",
     "output_type": "stream",
     "text": [
      "{'w1': 0.6712697238535678, 'w2': 0.7322592250076372, 'threshold': 0.63}\n"
     ]
    },
    {
     "name": "stderr",
     "output_type": "stream",
     "text": [
      "[I 2023-06-22 15:23:41,548] Trial 175 finished with value: 0.7036455273628235 and parameters: {'w1': 0.6269670248750167, 'w2': 0.744290362683806}. Best is trial 130 with value: 0.7050297856330872.\n"
     ]
    },
    {
     "name": "stdout",
     "output_type": "stream",
     "text": [
      "{'w1': 0.6269670248750167, 'w2': 0.744290362683806, 'threshold': 0.63}\n"
     ]
    },
    {
     "name": "stderr",
     "output_type": "stream",
     "text": [
      "[I 2023-06-22 15:23:43,729] Trial 176 finished with value: 0.7042086720466614 and parameters: {'w1': 0.7308076762650163, 'w2': 0.8046356438809271}. Best is trial 130 with value: 0.7050297856330872.\n"
     ]
    },
    {
     "name": "stdout",
     "output_type": "stream",
     "text": [
      "{'w1': 0.7308076762650163, 'w2': 0.8046356438809271, 'threshold': 0.63}\n"
     ]
    },
    {
     "name": "stderr",
     "output_type": "stream",
     "text": [
      "[I 2023-06-22 15:23:45,907] Trial 177 finished with value: 0.7042233943939209 and parameters: {'w1': 0.6978703518135274, 'w2': 0.7689531517240022}. Best is trial 130 with value: 0.7050297856330872.\n"
     ]
    },
    {
     "name": "stdout",
     "output_type": "stream",
     "text": [
      "{'w1': 0.6978703518135274, 'w2': 0.7689531517240022, 'threshold': 0.63}\n"
     ]
    },
    {
     "name": "stderr",
     "output_type": "stream",
     "text": [
      "[I 2023-06-22 15:23:48,083] Trial 178 finished with value: 0.7039559483528137 and parameters: {'w1': 0.6610688957766927, 'w2': 0.7172191146779707}. Best is trial 130 with value: 0.7050297856330872.\n"
     ]
    },
    {
     "name": "stdout",
     "output_type": "stream",
     "text": [
      "{'w1': 0.6610688957766927, 'w2': 0.7172191146779707, 'threshold': 0.63}\n"
     ]
    },
    {
     "name": "stderr",
     "output_type": "stream",
     "text": [
      "[I 2023-06-22 15:23:50,259] Trial 179 finished with value: 0.7035951614379883 and parameters: {'w1': 0.5805985175077766, 'w2': 0.8144551851010208}. Best is trial 130 with value: 0.7050297856330872.\n"
     ]
    },
    {
     "name": "stdout",
     "output_type": "stream",
     "text": [
      "{'w1': 0.5805985175077766, 'w2': 0.8144551851010208, 'threshold': 0.64}\n"
     ]
    },
    {
     "name": "stderr",
     "output_type": "stream",
     "text": [
      "[I 2023-06-22 15:23:52,435] Trial 180 finished with value: 0.7043671607971191 and parameters: {'w1': 0.7792739269320375, 'w2': 0.8668163804626736}. Best is trial 130 with value: 0.7050297856330872.\n"
     ]
    },
    {
     "name": "stdout",
     "output_type": "stream",
     "text": [
      "{'w1': 0.7792739269320375, 'w2': 0.8668163804626736, 'threshold': 0.63}\n"
     ]
    },
    {
     "name": "stderr",
     "output_type": "stream",
     "text": [
      "[I 2023-06-22 15:23:54,614] Trial 181 finished with value: 0.7043116688728333 and parameters: {'w1': 0.7764110623476326, 'w2': 0.8598611143935021}. Best is trial 130 with value: 0.7050297856330872.\n"
     ]
    },
    {
     "name": "stdout",
     "output_type": "stream",
     "text": [
      "{'w1': 0.7764110623476326, 'w2': 0.8598611143935021, 'threshold': 0.63}\n"
     ]
    },
    {
     "name": "stderr",
     "output_type": "stream",
     "text": [
      "[I 2023-06-22 15:23:56,795] Trial 182 finished with value: 0.7035303115844727 and parameters: {'w1': 0.7465324213195598, 'w2': 0.8970613986968493}. Best is trial 130 with value: 0.7050297856330872.\n"
     ]
    },
    {
     "name": "stdout",
     "output_type": "stream",
     "text": [
      "{'w1': 0.7465324213195598, 'w2': 0.8970613986968493, 'threshold': 0.63}\n"
     ]
    },
    {
     "name": "stderr",
     "output_type": "stream",
     "text": [
      "[I 2023-06-22 15:23:58,971] Trial 183 finished with value: 0.7037409543991089 and parameters: {'w1': 0.8100232566658413, 'w2': 0.8419401287963508}. Best is trial 130 with value: 0.7050297856330872.\n"
     ]
    },
    {
     "name": "stdout",
     "output_type": "stream",
     "text": [
      "{'w1': 0.8100232566658413, 'w2': 0.8419401287963508, 'threshold': 0.62}\n"
     ]
    },
    {
     "name": "stderr",
     "output_type": "stream",
     "text": [
      "[I 2023-06-22 15:24:01,147] Trial 184 finished with value: 0.7041211128234863 and parameters: {'w1': 0.8368688579340818, 'w2': 0.9168901984338287}. Best is trial 130 with value: 0.7050297856330872.\n"
     ]
    },
    {
     "name": "stdout",
     "output_type": "stream",
     "text": [
      "{'w1': 0.8368688579340818, 'w2': 0.9168901984338287, 'threshold': 0.63}\n"
     ]
    },
    {
     "name": "stderr",
     "output_type": "stream",
     "text": [
      "[I 2023-06-22 15:24:03,323] Trial 185 finished with value: 0.7046618461608887 and parameters: {'w1': 0.7828413484208664, 'w2': 0.7394945420918858}. Best is trial 130 with value: 0.7050297856330872.\n"
     ]
    },
    {
     "name": "stdout",
     "output_type": "stream",
     "text": [
      "{'w1': 0.7828413484208664, 'w2': 0.7394945420918858, 'threshold': 0.62}\n"
     ]
    },
    {
     "name": "stderr",
     "output_type": "stream",
     "text": [
      "[I 2023-06-22 15:24:05,499] Trial 186 finished with value: 0.7036595344543457 and parameters: {'w1': 0.7136220196381045, 'w2': 0.7431971670736316}. Best is trial 130 with value: 0.7050297856330872.\n"
     ]
    },
    {
     "name": "stdout",
     "output_type": "stream",
     "text": [
      "{'w1': 0.7136220196381045, 'w2': 0.7431971670736316, 'threshold': 0.62}\n"
     ]
    },
    {
     "name": "stderr",
     "output_type": "stream",
     "text": [
      "[I 2023-06-22 15:24:07,676] Trial 187 finished with value: 0.7049951553344727 and parameters: {'w1': 0.750281170051758, 'w2': 0.7181380864352436}. Best is trial 130 with value: 0.7050297856330872.\n"
     ]
    },
    {
     "name": "stdout",
     "output_type": "stream",
     "text": [
      "{'w1': 0.750281170051758, 'w2': 0.7181380864352436, 'threshold': 0.62}\n"
     ]
    },
    {
     "name": "stderr",
     "output_type": "stream",
     "text": [
      "[I 2023-06-22 15:24:09,856] Trial 188 finished with value: 0.7041254043579102 and parameters: {'w1': 0.6312888911872988, 'w2': 0.7225321535239961}. Best is trial 130 with value: 0.7050297856330872.\n"
     ]
    },
    {
     "name": "stdout",
     "output_type": "stream",
     "text": [
      "{'w1': 0.6312888911872988, 'w2': 0.7225321535239961, 'threshold': 0.63}\n"
     ]
    },
    {
     "name": "stderr",
     "output_type": "stream",
     "text": [
      "[I 2023-06-22 15:24:12,046] Trial 189 finished with value: 0.7046669721603394 and parameters: {'w1': 0.7332046365067958, 'w2': 0.6924229523929576}. Best is trial 130 with value: 0.7050297856330872.\n"
     ]
    },
    {
     "name": "stdout",
     "output_type": "stream",
     "text": [
      "{'w1': 0.7332046365067958, 'w2': 0.6924229523929576, 'threshold': 0.62}\n"
     ]
    },
    {
     "name": "stderr",
     "output_type": "stream",
     "text": [
      "[I 2023-06-22 15:24:14,229] Trial 190 finished with value: 0.7041823863983154 and parameters: {'w1': 0.7402194925012189, 'w2': 0.6808264617278631}. Best is trial 130 with value: 0.7050297856330872.\n"
     ]
    },
    {
     "name": "stdout",
     "output_type": "stream",
     "text": [
      "{'w1': 0.7402194925012189, 'w2': 0.6808264617278631, 'threshold': 0.62}\n"
     ]
    },
    {
     "name": "stderr",
     "output_type": "stream",
     "text": [
      "[I 2023-06-22 15:24:16,420] Trial 191 finished with value: 0.7041998505592346 and parameters: {'w1': 0.7592152164523509, 'w2': 0.6991350958663893}. Best is trial 130 with value: 0.7050297856330872.\n"
     ]
    },
    {
     "name": "stdout",
     "output_type": "stream",
     "text": [
      "{'w1': 0.7592152164523509, 'w2': 0.6991350958663893, 'threshold': 0.62}\n"
     ]
    },
    {
     "name": "stderr",
     "output_type": "stream",
     "text": [
      "[I 2023-06-22 15:24:18,612] Trial 192 finished with value: 0.7037464380264282 and parameters: {'w1': 0.7223179559525871, 'w2': 0.6471346952086876}. Best is trial 130 with value: 0.7050297856330872.\n"
     ]
    },
    {
     "name": "stdout",
     "output_type": "stream",
     "text": [
      "{'w1': 0.7223179559525871, 'w2': 0.6471346952086876, 'threshold': 0.62}\n"
     ]
    },
    {
     "name": "stderr",
     "output_type": "stream",
     "text": [
      "[I 2023-06-22 15:24:20,801] Trial 193 finished with value: 0.7038223147392273 and parameters: {'w1': 0.7935939865376616, 'w2': 0.7148055470164293}. Best is trial 130 with value: 0.7050297856330872.\n"
     ]
    },
    {
     "name": "stdout",
     "output_type": "stream",
     "text": [
      "{'w1': 0.7935939865376616, 'w2': 0.7148055470164293, 'threshold': 0.62}\n"
     ]
    },
    {
     "name": "stderr",
     "output_type": "stream",
     "text": [
      "[I 2023-06-22 15:24:22,990] Trial 194 finished with value: 0.7043840885162354 and parameters: {'w1': 0.6902567837187678, 'w2': 0.6649141359101597}. Best is trial 130 with value: 0.7050297856330872.\n"
     ]
    },
    {
     "name": "stdout",
     "output_type": "stream",
     "text": [
      "{'w1': 0.6902567837187678, 'w2': 0.6649141359101597, 'threshold': 0.62}\n"
     ]
    },
    {
     "name": "stderr",
     "output_type": "stream",
     "text": [
      "[I 2023-06-22 15:24:25,173] Trial 195 finished with value: 0.704767107963562 and parameters: {'w1': 0.6564244594526991, 'w2': 0.742861044336115}. Best is trial 130 with value: 0.7050297856330872.\n"
     ]
    },
    {
     "name": "stdout",
     "output_type": "stream",
     "text": [
      "{'w1': 0.6564244594526991, 'w2': 0.742861044336115, 'threshold': 0.63}\n"
     ]
    },
    {
     "name": "stderr",
     "output_type": "stream",
     "text": [
      "[I 2023-06-22 15:24:27,350] Trial 196 finished with value: 0.7044484615325928 and parameters: {'w1': 0.6733142260577271, 'w2': 0.7527823976572493}. Best is trial 130 with value: 0.7050297856330872.\n"
     ]
    },
    {
     "name": "stdout",
     "output_type": "stream",
     "text": [
      "{'w1': 0.6733142260577271, 'w2': 0.7527823976572493, 'threshold': 0.63}\n"
     ]
    },
    {
     "name": "stderr",
     "output_type": "stream",
     "text": [
      "[I 2023-06-22 15:24:29,526] Trial 197 finished with value: 0.7042583227157593 and parameters: {'w1': 0.6662492449752022, 'w2': 0.7597338591338213}. Best is trial 130 with value: 0.7050297856330872.\n"
     ]
    },
    {
     "name": "stdout",
     "output_type": "stream",
     "text": [
      "{'w1': 0.6662492449752022, 'w2': 0.7597338591338213, 'threshold': 0.63}\n"
     ]
    },
    {
     "name": "stderr",
     "output_type": "stream",
     "text": [
      "[I 2023-06-22 15:24:31,702] Trial 198 finished with value: 0.7035952210426331 and parameters: {'w1': 0.703423666003602, 'w2': 0.7393506736584855}. Best is trial 130 with value: 0.7050297856330872.\n"
     ]
    },
    {
     "name": "stdout",
     "output_type": "stream",
     "text": [
      "{'w1': 0.703423666003602, 'w2': 0.7393506736584855, 'threshold': 0.63}\n"
     ]
    },
    {
     "name": "stderr",
     "output_type": "stream",
     "text": [
      "[I 2023-06-22 15:24:33,878] Trial 199 finished with value: 0.7036445140838623 and parameters: {'w1': 0.6524248007531618, 'w2': 0.7745740937276286}. Best is trial 130 with value: 0.7050297856330872.\n"
     ]
    },
    {
     "name": "stdout",
     "output_type": "stream",
     "text": [
      "{'w1': 0.6524248007531618, 'w2': 0.7745740937276286, 'threshold': 0.63}\n"
     ]
    },
    {
     "name": "stderr",
     "output_type": "stream",
     "text": [
      "[I 2023-06-22 15:24:36,054] Trial 200 finished with value: 0.7037362456321716 and parameters: {'w1': 0.7378608018269726, 'w2': 0.7880362142521045}. Best is trial 130 with value: 0.7050297856330872.\n"
     ]
    },
    {
     "name": "stdout",
     "output_type": "stream",
     "text": [
      "{'w1': 0.7378608018269726, 'w2': 0.7880362142521045, 'threshold': 0.63}\n"
     ]
    },
    {
     "name": "stderr",
     "output_type": "stream",
     "text": [
      "[I 2023-06-22 15:24:38,236] Trial 201 finished with value: 0.7048767805099487 and parameters: {'w1': 0.7768990842443975, 'w2': 0.7391505457112002}. Best is trial 130 with value: 0.7050297856330872.\n"
     ]
    },
    {
     "name": "stdout",
     "output_type": "stream",
     "text": [
      "{'w1': 0.7768990842443975, 'w2': 0.7391505457112002, 'threshold': 0.62}\n"
     ]
    },
    {
     "name": "stderr",
     "output_type": "stream",
     "text": [
      "[I 2023-06-22 15:24:40,412] Trial 202 finished with value: 0.7042363882064819 and parameters: {'w1': 0.7711656515546633, 'w2': 0.748142608418713}. Best is trial 130 with value: 0.7050297856330872.\n"
     ]
    },
    {
     "name": "stdout",
     "output_type": "stream",
     "text": [
      "{'w1': 0.7711656515546633, 'w2': 0.748142608418713, 'threshold': 0.62}\n"
     ]
    },
    {
     "name": "stderr",
     "output_type": "stream",
     "text": [
      "[I 2023-06-22 15:24:42,589] Trial 203 finished with value: 0.7036271691322327 and parameters: {'w1': 0.8188973822060985, 'w2': 0.7271019534826744}. Best is trial 130 with value: 0.7050297856330872.\n"
     ]
    },
    {
     "name": "stdout",
     "output_type": "stream",
     "text": [
      "{'w1': 0.8188973822060985, 'w2': 0.7271019534826744, 'threshold': 0.62}\n"
     ]
    },
    {
     "name": "stderr",
     "output_type": "stream",
     "text": [
      "[I 2023-06-22 15:24:44,766] Trial 204 finished with value: 0.7044757604598999 and parameters: {'w1': 0.7881432702978901, 'w2': 0.7569420577526546}. Best is trial 130 with value: 0.7050297856330872.\n"
     ]
    },
    {
     "name": "stdout",
     "output_type": "stream",
     "text": [
      "{'w1': 0.7881432702978901, 'w2': 0.7569420577526546, 'threshold': 0.62}\n"
     ]
    },
    {
     "name": "stderr",
     "output_type": "stream",
     "text": [
      "[I 2023-06-22 15:24:46,943] Trial 205 finished with value: 0.7040436267852783 and parameters: {'w1': 0.7559325444139268, 'w2': 0.7626041280886098}. Best is trial 130 with value: 0.7050297856330872.\n"
     ]
    },
    {
     "name": "stdout",
     "output_type": "stream",
     "text": [
      "{'w1': 0.7559325444139268, 'w2': 0.7626041280886098, 'threshold': 0.62}\n"
     ]
    },
    {
     "name": "stderr",
     "output_type": "stream",
     "text": [
      "[I 2023-06-22 15:24:49,119] Trial 206 finished with value: 0.7039455771446228 and parameters: {'w1': 0.6831675027957743, 'w2': 0.7889561637471738}. Best is trial 130 with value: 0.7050297856330872.\n"
     ]
    },
    {
     "name": "stdout",
     "output_type": "stream",
     "text": [
      "{'w1': 0.6831675027957743, 'w2': 0.7889561637471738, 'threshold': 0.63}\n"
     ]
    },
    {
     "name": "stderr",
     "output_type": "stream",
     "text": [
      "[I 2023-06-22 15:24:51,295] Trial 207 finished with value: 0.704296886920929 and parameters: {'w1': 0.7801675217012133, 'w2': 0.720617649287571}. Best is trial 130 with value: 0.7050297856330872.\n"
     ]
    },
    {
     "name": "stdout",
     "output_type": "stream",
     "text": [
      "{'w1': 0.7801675217012133, 'w2': 0.720617649287571, 'threshold': 0.62}\n"
     ]
    },
    {
     "name": "stderr",
     "output_type": "stream",
     "text": [
      "[I 2023-06-22 15:24:53,473] Trial 208 finished with value: 0.7036442756652832 and parameters: {'w1': 0.7256499945862808, 'w2': 0.755951335727153}. Best is trial 130 with value: 0.7050297856330872.\n"
     ]
    },
    {
     "name": "stdout",
     "output_type": "stream",
     "text": [
      "{'w1': 0.7256499945862808, 'w2': 0.755951335727153, 'threshold': 0.62}\n"
     ]
    },
    {
     "name": "stderr",
     "output_type": "stream",
     "text": [
      "[I 2023-06-22 15:24:55,650] Trial 209 finished with value: 0.7038367390632629 and parameters: {'w1': 0.46426390045648935, 'w2': 0.735014194937063}. Best is trial 130 with value: 0.7050297856330872.\n"
     ]
    },
    {
     "name": "stdout",
     "output_type": "stream",
     "text": [
      "{'w1': 0.46426390045648935, 'w2': 0.735014194937063, 'threshold': 0.65}\n"
     ]
    },
    {
     "name": "stderr",
     "output_type": "stream",
     "text": [
      "[I 2023-06-22 15:24:57,832] Trial 210 finished with value: 0.7036491632461548 and parameters: {'w1': 0.7987298801969506, 'w2': 0.7108122755514605}. Best is trial 130 with value: 0.7050297856330872.\n"
     ]
    },
    {
     "name": "stdout",
     "output_type": "stream",
     "text": [
      "{'w1': 0.7987298801969506, 'w2': 0.7108122755514605, 'threshold': 0.62}\n"
     ]
    },
    {
     "name": "stderr",
     "output_type": "stream",
     "text": [
      "[I 2023-06-22 15:25:00,009] Trial 211 finished with value: 0.7049659490585327 and parameters: {'w1': 0.7779783687676873, 'w2': 0.7451402440929679}. Best is trial 130 with value: 0.7050297856330872.\n"
     ]
    },
    {
     "name": "stdout",
     "output_type": "stream",
     "text": [
      "{'w1': 0.7779783687676873, 'w2': 0.7451402440929679, 'threshold': 0.62}\n"
     ]
    },
    {
     "name": "stderr",
     "output_type": "stream",
     "text": [
      "[I 2023-06-22 15:25:02,185] Trial 212 finished with value: 0.7040133476257324 and parameters: {'w1': 0.7532825410886677, 'w2': 0.7675137252111592}. Best is trial 130 with value: 0.7050297856330872.\n"
     ]
    },
    {
     "name": "stdout",
     "output_type": "stream",
     "text": [
      "{'w1': 0.7532825410886677, 'w2': 0.7675137252111592, 'threshold': 0.62}\n"
     ]
    },
    {
     "name": "stderr",
     "output_type": "stream",
     "text": [
      "[I 2023-06-22 15:25:04,361] Trial 213 finished with value: 0.7044283151626587 and parameters: {'w1': 0.7784311276984852, 'w2': 0.7486420106846111}. Best is trial 130 with value: 0.7050297856330872.\n"
     ]
    },
    {
     "name": "stdout",
     "output_type": "stream",
     "text": [
      "{'w1': 0.7784311276984852, 'w2': 0.7486420106846111, 'threshold': 0.62}\n"
     ]
    },
    {
     "name": "stderr",
     "output_type": "stream",
     "text": [
      "[I 2023-06-22 15:25:06,538] Trial 214 finished with value: 0.7041471600532532 and parameters: {'w1': 0.8042545088210749, 'w2': 0.7380326879422271}. Best is trial 130 with value: 0.7050297856330872.\n"
     ]
    },
    {
     "name": "stdout",
     "output_type": "stream",
     "text": [
      "{'w1': 0.8042545088210749, 'w2': 0.7380326879422271, 'threshold': 0.62}\n"
     ]
    },
    {
     "name": "stderr",
     "output_type": "stream",
     "text": [
      "[I 2023-06-22 15:25:08,714] Trial 215 finished with value: 0.7040033340454102 and parameters: {'w1': 0.766100064632505, 'w2': 0.7855248323525461}. Best is trial 130 with value: 0.7050297856330872.\n"
     ]
    },
    {
     "name": "stdout",
     "output_type": "stream",
     "text": [
      "{'w1': 0.766100064632505, 'w2': 0.7855248323525461, 'threshold': 0.62}\n"
     ]
    },
    {
     "name": "stderr",
     "output_type": "stream",
     "text": [
      "[I 2023-06-22 15:25:10,891] Trial 216 finished with value: 0.7020660638809204 and parameters: {'w1': 0.735164126968291, 'w2': 0.5156309007880118}. Best is trial 130 with value: 0.7050297856330872.\n"
     ]
    },
    {
     "name": "stdout",
     "output_type": "stream",
     "text": [
      "{'w1': 0.735164126968291, 'w2': 0.5156309007880118, 'threshold': 0.6}\n"
     ]
    },
    {
     "name": "stderr",
     "output_type": "stream",
     "text": [
      "[I 2023-06-22 15:25:13,067] Trial 217 finished with value: 0.7035840153694153 and parameters: {'w1': 0.49493853129740495, 'w2': 0.695124993180547}. Best is trial 130 with value: 0.7050297856330872.\n"
     ]
    },
    {
     "name": "stdout",
     "output_type": "stream",
     "text": [
      "{'w1': 0.49493853129740495, 'w2': 0.695124993180547, 'threshold': 0.64}\n"
     ]
    },
    {
     "name": "stderr",
     "output_type": "stream",
     "text": [
      "[I 2023-06-22 15:25:15,243] Trial 218 finished with value: 0.7040267586708069 and parameters: {'w1': 0.7079179751455043, 'w2': 0.716474583034551}. Best is trial 130 with value: 0.7050297856330872.\n"
     ]
    },
    {
     "name": "stdout",
     "output_type": "stream",
     "text": [
      "{'w1': 0.7079179751455043, 'w2': 0.716474583034551, 'threshold': 0.62}\n"
     ]
    },
    {
     "name": "stderr",
     "output_type": "stream",
     "text": [
      "[I 2023-06-22 15:25:17,419] Trial 219 finished with value: 0.7035715579986572 and parameters: {'w1': 0.6453993680867568, 'w2': 0.7712313753191725}. Best is trial 130 with value: 0.7050297856330872.\n"
     ]
    },
    {
     "name": "stdout",
     "output_type": "stream",
     "text": [
      "{'w1': 0.6453993680867568, 'w2': 0.7712313753191725, 'threshold': 0.63}\n"
     ]
    },
    {
     "name": "stderr",
     "output_type": "stream",
     "text": [
      "[I 2023-06-22 15:25:19,596] Trial 220 finished with value: 0.7039880156517029 and parameters: {'w1': 0.8269614306825442, 'w2': 0.7536685053405222}. Best is trial 130 with value: 0.7050297856330872.\n"
     ]
    },
    {
     "name": "stdout",
     "output_type": "stream",
     "text": [
      "{'w1': 0.8269614306825442, 'w2': 0.7536685053405222, 'threshold': 0.62}\n"
     ]
    },
    {
     "name": "stderr",
     "output_type": "stream",
     "text": [
      "[I 2023-06-22 15:25:21,772] Trial 221 finished with value: 0.7044874429702759 and parameters: {'w1': 0.784784953733868, 'w2': 0.7324263814162324}. Best is trial 130 with value: 0.7050297856330872.\n"
     ]
    },
    {
     "name": "stdout",
     "output_type": "stream",
     "text": [
      "{'w1': 0.784784953733868, 'w2': 0.7324263814162324, 'threshold': 0.62}\n"
     ]
    },
    {
     "name": "stderr",
     "output_type": "stream",
     "text": [
      "[I 2023-06-22 15:25:23,965] Trial 222 finished with value: 0.7043198943138123 and parameters: {'w1': 0.7896327139037218, 'w2': 0.7304933694003938}. Best is trial 130 with value: 0.7050297856330872.\n"
     ]
    },
    {
     "name": "stdout",
     "output_type": "stream",
     "text": [
      "{'w1': 0.7896327139037218, 'w2': 0.7304933694003938, 'threshold': 0.62}\n"
     ]
    },
    {
     "name": "stderr",
     "output_type": "stream",
     "text": [
      "[I 2023-06-22 15:25:26,151] Trial 223 finished with value: 0.7043434381484985 and parameters: {'w1': 0.7643871699142116, 'w2': 0.7083898860856321}. Best is trial 130 with value: 0.7050297856330872.\n"
     ]
    },
    {
     "name": "stdout",
     "output_type": "stream",
     "text": [
      "{'w1': 0.7643871699142116, 'w2': 0.7083898860856321, 'threshold': 0.62}\n"
     ]
    },
    {
     "name": "stderr",
     "output_type": "stream",
     "text": [
      "[I 2023-06-22 15:25:28,327] Trial 224 finished with value: 0.7042582035064697 and parameters: {'w1': 0.670725701810671, 'w2': 0.7403204027366935}. Best is trial 130 with value: 0.7050297856330872.\n"
     ]
    },
    {
     "name": "stdout",
     "output_type": "stream",
     "text": [
      "{'w1': 0.670725701810671, 'w2': 0.7403204027366935, 'threshold': 0.63}\n"
     ]
    },
    {
     "name": "stderr",
     "output_type": "stream",
     "text": [
      "[I 2023-06-22 15:25:30,504] Trial 225 finished with value: 0.7012408375740051 and parameters: {'w1': 0.8091246974734483, 'w2': 0.3704778293244573}. Best is trial 130 with value: 0.7050297856330872.\n"
     ]
    },
    {
     "name": "stdout",
     "output_type": "stream",
     "text": [
      "{'w1': 0.8091246974734483, 'w2': 0.3704778293244573, 'threshold': 0.58}\n"
     ]
    },
    {
     "name": "stderr",
     "output_type": "stream",
     "text": [
      "[I 2023-06-22 15:25:32,682] Trial 226 finished with value: 0.7033242583274841 and parameters: {'w1': 0.5256480324789463, 'w2': 0.7623371341681845}. Best is trial 130 with value: 0.7050297856330872.\n"
     ]
    },
    {
     "name": "stdout",
     "output_type": "stream",
     "text": [
      "{'w1': 0.5256480324789463, 'w2': 0.7623371341681845, 'threshold': 0.64}\n"
     ]
    },
    {
     "name": "stderr",
     "output_type": "stream",
     "text": [
      "[I 2023-06-22 15:25:34,859] Trial 227 finished with value: 0.7039833068847656 and parameters: {'w1': 0.7822227073509255, 'w2': 0.8049663745221814}. Best is trial 130 with value: 0.7050297856330872.\n"
     ]
    },
    {
     "name": "stdout",
     "output_type": "stream",
     "text": [
      "{'w1': 0.7822227073509255, 'w2': 0.8049663745221814, 'threshold': 0.62}\n"
     ]
    },
    {
     "name": "stderr",
     "output_type": "stream",
     "text": [
      "[I 2023-06-22 15:25:37,037] Trial 228 finished with value: 0.7043142318725586 and parameters: {'w1': 0.7516871221712521, 'w2': 0.7265652389994124}. Best is trial 130 with value: 0.7050297856330872.\n"
     ]
    },
    {
     "name": "stdout",
     "output_type": "stream",
     "text": [
      "{'w1': 0.7516871221712521, 'w2': 0.7265652389994124, 'threshold': 0.62}\n"
     ]
    },
    {
     "name": "stderr",
     "output_type": "stream",
     "text": [
      "[I 2023-06-22 15:25:39,228] Trial 229 finished with value: 0.7034330368041992 and parameters: {'w1': 0.22971408843391827, 'w2': 0.6959044392704165}. Best is trial 130 with value: 0.7050297856330872.\n"
     ]
    },
    {
     "name": "stdout",
     "output_type": "stream",
     "text": [
      "{'w1': 0.22971408843391827, 'w2': 0.6959044392704165, 'threshold': 0.68}\n"
     ]
    },
    {
     "name": "stderr",
     "output_type": "stream",
     "text": [
      "[I 2023-06-22 15:25:41,426] Trial 230 finished with value: 0.7046864032745361 and parameters: {'w1': 0.6924288373698225, 'w2': 0.7819481042146145}. Best is trial 130 with value: 0.7050297856330872.\n"
     ]
    },
    {
     "name": "stdout",
     "output_type": "stream",
     "text": [
      "{'w1': 0.6924288373698225, 'w2': 0.7819481042146145, 'threshold': 0.63}\n"
     ]
    },
    {
     "name": "stderr",
     "output_type": "stream",
     "text": [
      "[I 2023-06-22 15:25:43,625] Trial 231 finished with value: 0.7045215368270874 and parameters: {'w1': 0.6956370998420236, 'w2': 0.7810439194924783}. Best is trial 130 with value: 0.7050297856330872.\n"
     ]
    },
    {
     "name": "stdout",
     "output_type": "stream",
     "text": [
      "{'w1': 0.6956370998420236, 'w2': 0.7810439194924783, 'threshold': 0.63}\n"
     ]
    },
    {
     "name": "stderr",
     "output_type": "stream",
     "text": [
      "[I 2023-06-22 15:25:45,807] Trial 232 finished with value: 0.7043738961219788 and parameters: {'w1': 0.7037080863628197, 'w2': 0.7828670327972931}. Best is trial 130 with value: 0.7050297856330872.\n"
     ]
    },
    {
     "name": "stdout",
     "output_type": "stream",
     "text": [
      "{'w1': 0.7037080863628197, 'w2': 0.7828670327972931, 'threshold': 0.63}\n"
     ]
    },
    {
     "name": "stderr",
     "output_type": "stream",
     "text": [
      "[I 2023-06-22 15:25:47,987] Trial 233 finished with value: 0.7044757008552551 and parameters: {'w1': 0.7265353592839909, 'w2': 0.8130448928621096}. Best is trial 130 with value: 0.7050297856330872.\n"
     ]
    },
    {
     "name": "stdout",
     "output_type": "stream",
     "text": [
      "{'w1': 0.7265353592839909, 'w2': 0.8130448928621096, 'threshold': 0.63}\n"
     ]
    },
    {
     "name": "stderr",
     "output_type": "stream",
     "text": [
      "[I 2023-06-22 15:25:50,169] Trial 234 finished with value: 0.704584002494812 and parameters: {'w1': 0.7256574256414745, 'w2': 0.8166881531616093}. Best is trial 130 with value: 0.7050297856330872.\n"
     ]
    },
    {
     "name": "stdout",
     "output_type": "stream",
     "text": [
      "{'w1': 0.7256574256414745, 'w2': 0.8166881531616093, 'threshold': 0.63}\n"
     ]
    },
    {
     "name": "stderr",
     "output_type": "stream",
     "text": [
      "[I 2023-06-22 15:25:52,347] Trial 235 finished with value: 0.7048267126083374 and parameters: {'w1': 0.7236547802089845, 'w2': 0.8216718530746425}. Best is trial 130 with value: 0.7050297856330872.\n"
     ]
    },
    {
     "name": "stdout",
     "output_type": "stream",
     "text": [
      "{'w1': 0.7236547802089845, 'w2': 0.8216718530746425, 'threshold': 0.63}\n"
     ]
    },
    {
     "name": "stderr",
     "output_type": "stream",
     "text": [
      "[I 2023-06-22 15:25:54,524] Trial 236 finished with value: 0.7037374973297119 and parameters: {'w1': 0.7105027328481829, 'w2': 0.8346750462568371}. Best is trial 130 with value: 0.7050297856330872.\n"
     ]
    },
    {
     "name": "stdout",
     "output_type": "stream",
     "text": [
      "{'w1': 0.7105027328481829, 'w2': 0.8346750462568371, 'threshold': 0.63}\n"
     ]
    },
    {
     "name": "stderr",
     "output_type": "stream",
     "text": [
      "[I 2023-06-22 15:25:56,701] Trial 237 finished with value: 0.7038248181343079 and parameters: {'w1': 0.687909002304897, 'w2': 0.799844665601294}. Best is trial 130 with value: 0.7050297856330872.\n"
     ]
    },
    {
     "name": "stdout",
     "output_type": "stream",
     "text": [
      "{'w1': 0.687909002304897, 'w2': 0.799844665601294, 'threshold': 0.63}\n"
     ]
    },
    {
     "name": "stderr",
     "output_type": "stream",
     "text": [
      "[I 2023-06-22 15:25:58,878] Trial 238 finished with value: 0.7048067450523376 and parameters: {'w1': 0.7247233778090416, 'w2': 0.8207381415003846}. Best is trial 130 with value: 0.7050297856330872.\n"
     ]
    },
    {
     "name": "stdout",
     "output_type": "stream",
     "text": [
      "{'w1': 0.7247233778090416, 'w2': 0.8207381415003846, 'threshold': 0.63}\n"
     ]
    },
    {
     "name": "stderr",
     "output_type": "stream",
     "text": [
      "[I 2023-06-22 15:26:01,056] Trial 239 finished with value: 0.7048222422599792 and parameters: {'w1': 0.737061761300474, 'w2': 0.8350920368865726}. Best is trial 130 with value: 0.7050297856330872.\n"
     ]
    },
    {
     "name": "stdout",
     "output_type": "stream",
     "text": [
      "{'w1': 0.737061761300474, 'w2': 0.8350920368865726, 'threshold': 0.63}\n"
     ]
    },
    {
     "name": "stderr",
     "output_type": "stream",
     "text": [
      "[I 2023-06-22 15:26:03,233] Trial 240 finished with value: 0.7038678526878357 and parameters: {'w1': 0.729682031428366, 'w2': 0.8457225810868698}. Best is trial 130 with value: 0.7050297856330872.\n"
     ]
    },
    {
     "name": "stdout",
     "output_type": "stream",
     "text": [
      "{'w1': 0.729682031428366, 'w2': 0.8457225810868698, 'threshold': 0.63}\n"
     ]
    },
    {
     "name": "stderr",
     "output_type": "stream",
     "text": [
      "[I 2023-06-22 15:26:05,417] Trial 241 finished with value: 0.7036935687065125 and parameters: {'w1': 0.6931010466333585, 'w2': 0.8191225512070246}. Best is trial 130 with value: 0.7050297856330872.\n"
     ]
    },
    {
     "name": "stdout",
     "output_type": "stream",
     "text": [
      "{'w1': 0.6931010466333585, 'w2': 0.8191225512070246, 'threshold': 0.63}\n"
     ]
    },
    {
     "name": "stderr",
     "output_type": "stream",
     "text": [
      "[I 2023-06-22 15:26:07,594] Trial 242 finished with value: 0.7043415307998657 and parameters: {'w1': 0.7423700796344118, 'w2': 0.8241730534685399}. Best is trial 130 with value: 0.7050297856330872.\n"
     ]
    },
    {
     "name": "stdout",
     "output_type": "stream",
     "text": [
      "{'w1': 0.7423700796344118, 'w2': 0.8241730534685399, 'threshold': 0.63}\n"
     ]
    },
    {
     "name": "stderr",
     "output_type": "stream",
     "text": [
      "[I 2023-06-22 15:26:09,773] Trial 243 finished with value: 0.704479455947876 and parameters: {'w1': 0.7173570700235434, 'w2': 0.8029077581462973}. Best is trial 130 with value: 0.7050297856330872.\n"
     ]
    },
    {
     "name": "stdout",
     "output_type": "stream",
     "text": [
      "{'w1': 0.7173570700235434, 'w2': 0.8029077581462973, 'threshold': 0.63}\n"
     ]
    },
    {
     "name": "stderr",
     "output_type": "stream",
     "text": [
      "[I 2023-06-22 15:26:11,954] Trial 244 finished with value: 0.7037431001663208 and parameters: {'w1': 0.7413579596420802, 'w2': 0.8704837734068946}. Best is trial 130 with value: 0.7050297856330872.\n"
     ]
    },
    {
     "name": "stdout",
     "output_type": "stream",
     "text": [
      "{'w1': 0.7413579596420802, 'w2': 0.8704837734068946, 'threshold': 0.63}\n"
     ]
    },
    {
     "name": "stderr",
     "output_type": "stream",
     "text": [
      "[I 2023-06-22 15:26:14,138] Trial 245 finished with value: 0.7034807205200195 and parameters: {'w1': 0.6547561739958625, 'w2': 0.833377593115953}. Best is trial 130 with value: 0.7050297856330872.\n"
     ]
    },
    {
     "name": "stdout",
     "output_type": "stream",
     "text": [
      "{'w1': 0.6547561739958625, 'w2': 0.833377593115953, 'threshold': 0.64}\n"
     ]
    },
    {
     "name": "stderr",
     "output_type": "stream",
     "text": [
      "[I 2023-06-22 15:26:16,316] Trial 246 finished with value: 0.7042950391769409 and parameters: {'w1': 0.6920013774893055, 'w2': 0.7884501032352693}. Best is trial 130 with value: 0.7050297856330872.\n"
     ]
    },
    {
     "name": "stdout",
     "output_type": "stream",
     "text": [
      "{'w1': 0.6920013774893055, 'w2': 0.7884501032352693, 'threshold': 0.63}\n"
     ]
    },
    {
     "name": "stderr",
     "output_type": "stream",
     "text": [
      "[I 2023-06-22 15:26:18,495] Trial 247 finished with value: 0.7040071487426758 and parameters: {'w1': 0.7159205642606689, 'w2': 0.7789864456935331}. Best is trial 130 with value: 0.7050297856330872.\n"
     ]
    },
    {
     "name": "stdout",
     "output_type": "stream",
     "text": [
      "{'w1': 0.7159205642606689, 'w2': 0.7789864456935331, 'threshold': 0.63}\n"
     ]
    },
    {
     "name": "stderr",
     "output_type": "stream",
     "text": [
      "[I 2023-06-22 15:26:20,675] Trial 248 finished with value: 0.7042838335037231 and parameters: {'w1': 0.75149255373044, 'w2': 0.8563133697704182}. Best is trial 130 with value: 0.7050297856330872.\n"
     ]
    },
    {
     "name": "stdout",
     "output_type": "stream",
     "text": [
      "{'w1': 0.75149255373044, 'w2': 0.8563133697704182, 'threshold': 0.63}\n"
     ]
    },
    {
     "name": "stderr",
     "output_type": "stream",
     "text": [
      "[I 2023-06-22 15:26:22,855] Trial 249 finished with value: 0.7033976912498474 and parameters: {'w1': 0.6731917678428813, 'w2': 0.8264477124757174}. Best is trial 130 with value: 0.7050297856330872.\n"
     ]
    },
    {
     "name": "stdout",
     "output_type": "stream",
     "text": [
      "{'w1': 0.6731917678428813, 'w2': 0.8264477124757174, 'threshold': 0.63}\n"
     ]
    },
    {
     "name": "stderr",
     "output_type": "stream",
     "text": [
      "[I 2023-06-22 15:26:25,041] Trial 250 finished with value: 0.7042667865753174 and parameters: {'w1': 0.7295113045781225, 'w2': 0.8055203950811216}. Best is trial 130 with value: 0.7050297856330872.\n"
     ]
    },
    {
     "name": "stdout",
     "output_type": "stream",
     "text": [
      "{'w1': 0.7295113045781225, 'w2': 0.8055203950811216, 'threshold': 0.63}\n"
     ]
    },
    {
     "name": "stderr",
     "output_type": "stream",
     "text": [
      "[I 2023-06-22 15:26:27,233] Trial 251 finished with value: 0.7043123841285706 and parameters: {'w1': 0.6982672631053112, 'w2': 0.7734922986004895}. Best is trial 130 with value: 0.7050297856330872.\n"
     ]
    },
    {
     "name": "stdout",
     "output_type": "stream",
     "text": [
      "{'w1': 0.6982672631053112, 'w2': 0.7734922986004895, 'threshold': 0.63}\n"
     ]
    },
    {
     "name": "stderr",
     "output_type": "stream",
     "text": [
      "[I 2023-06-22 15:26:29,422] Trial 252 finished with value: 0.7039987444877625 and parameters: {'w1': 0.768390573283494, 'w2': 0.7893732319639859}. Best is trial 130 with value: 0.7050297856330872.\n"
     ]
    },
    {
     "name": "stdout",
     "output_type": "stream",
     "text": [
      "{'w1': 0.768390573283494, 'w2': 0.7893732319639859, 'threshold': 0.62}\n"
     ]
    },
    {
     "name": "stderr",
     "output_type": "stream",
     "text": [
      "[I 2023-06-22 15:26:31,612] Trial 253 finished with value: 0.7040131092071533 and parameters: {'w1': 0.6543420079655113, 'w2': 0.858668647388313}. Best is trial 130 with value: 0.7050297856330872.\n"
     ]
    },
    {
     "name": "stdout",
     "output_type": "stream",
     "text": [
      "{'w1': 0.6543420079655113, 'w2': 0.858668647388313, 'threshold': 0.64}\n"
     ]
    },
    {
     "name": "stderr",
     "output_type": "stream",
     "text": [
      "[I 2023-06-22 15:26:33,802] Trial 254 finished with value: 0.7043030261993408 and parameters: {'w1': 0.7408108511013386, 'w2': 0.8196926677518349}. Best is trial 130 with value: 0.7050297856330872.\n"
     ]
    },
    {
     "name": "stdout",
     "output_type": "stream",
     "text": [
      "{'w1': 0.7408108511013386, 'w2': 0.8196926677518349, 'threshold': 0.63}\n"
     ]
    },
    {
     "name": "stderr",
     "output_type": "stream",
     "text": [
      "[I 2023-06-22 15:26:35,985] Trial 255 finished with value: 0.7014015913009644 and parameters: {'w1': 0.059734488462998, 'w2': 0.8807833063789337}. Best is trial 130 with value: 0.7050297856330872.\n"
     ]
    },
    {
     "name": "stdout",
     "output_type": "stream",
     "text": [
      "{'w1': 0.059734488462998, 'w2': 0.8807833063789337, 'threshold': 0.71}\n"
     ]
    },
    {
     "name": "stderr",
     "output_type": "stream",
     "text": [
      "[I 2023-06-22 15:26:38,164] Trial 256 finished with value: 0.7034705281257629 and parameters: {'w1': 0.6356657168315694, 'w2': 0.7696419133306247}. Best is trial 130 with value: 0.7050297856330872.\n"
     ]
    },
    {
     "name": "stdout",
     "output_type": "stream",
     "text": [
      "{'w1': 0.6356657168315694, 'w2': 0.7696419133306247, 'threshold': 0.63}\n"
     ]
    },
    {
     "name": "stderr",
     "output_type": "stream",
     "text": [
      "[I 2023-06-22 15:26:40,344] Trial 257 finished with value: 0.7036837935447693 and parameters: {'w1': 0.7144451785463127, 'w2': 0.8448238475868205}. Best is trial 130 with value: 0.7050297856330872.\n"
     ]
    },
    {
     "name": "stdout",
     "output_type": "stream",
     "text": [
      "{'w1': 0.7144451785463127, 'w2': 0.8448238475868205, 'threshold': 0.63}\n"
     ]
    },
    {
     "name": "stderr",
     "output_type": "stream",
     "text": [
      "[I 2023-06-22 15:26:42,531] Trial 258 finished with value: 0.7038308382034302 and parameters: {'w1': 0.6838028407305832, 'w2': 0.7360846237241166}. Best is trial 130 with value: 0.7050297856330872.\n"
     ]
    },
    {
     "name": "stdout",
     "output_type": "stream",
     "text": [
      "{'w1': 0.6838028407305832, 'w2': 0.7360846237241166, 'threshold': 0.63}\n"
     ]
    },
    {
     "name": "stderr",
     "output_type": "stream",
     "text": [
      "[I 2023-06-22 15:26:44,710] Trial 259 finished with value: 0.7030835151672363 and parameters: {'w1': 0.4234842196223221, 'w2': 0.7945341278706741}. Best is trial 130 with value: 0.7050297856330872.\n"
     ]
    },
    {
     "name": "stdout",
     "output_type": "stream",
     "text": [
      "{'w1': 0.4234842196223221, 'w2': 0.7945341278706741, 'threshold': 0.66}\n"
     ]
    },
    {
     "name": "stderr",
     "output_type": "stream",
     "text": [
      "[I 2023-06-22 15:26:46,887] Trial 260 finished with value: 0.7040403485298157 and parameters: {'w1': 0.7543612932950655, 'w2': 0.7562986511368608}. Best is trial 130 with value: 0.7050297856330872.\n"
     ]
    },
    {
     "name": "stdout",
     "output_type": "stream",
     "text": [
      "{'w1': 0.7543612932950655, 'w2': 0.7562986511368608, 'threshold': 0.62}\n"
     ]
    },
    {
     "name": "stderr",
     "output_type": "stream",
     "text": [
      "[I 2023-06-22 15:26:49,065] Trial 261 finished with value: 0.7025598883628845 and parameters: {'w1': 0.7773979039323716, 'w2': 0.5799355485634676}. Best is trial 130 with value: 0.7050297856330872.\n"
     ]
    },
    {
     "name": "stdout",
     "output_type": "stream",
     "text": [
      "{'w1': 0.7773979039323716, 'w2': 0.5799355485634676, 'threshold': 0.61}\n"
     ]
    },
    {
     "name": "stderr",
     "output_type": "stream",
     "text": [
      "[I 2023-06-22 15:26:51,244] Trial 262 finished with value: 0.7037035822868347 and parameters: {'w1': 0.6185021787100484, 'w2': 0.7302932530381349}. Best is trial 130 with value: 0.7050297856330872.\n"
     ]
    },
    {
     "name": "stdout",
     "output_type": "stream",
     "text": [
      "{'w1': 0.6185021787100484, 'w2': 0.7302932530381349, 'threshold': 0.63}\n"
     ]
    },
    {
     "name": "stderr",
     "output_type": "stream",
     "text": [
      "[I 2023-06-22 15:26:53,423] Trial 263 finished with value: 0.7034235596656799 and parameters: {'w1': 0.659946766988403, 'w2': 0.8083546847784979}. Best is trial 130 with value: 0.7050297856330872.\n"
     ]
    },
    {
     "name": "stdout",
     "output_type": "stream",
     "text": [
      "{'w1': 0.659946766988403, 'w2': 0.8083546847784979, 'threshold': 0.63}\n"
     ]
    },
    {
     "name": "stderr",
     "output_type": "stream",
     "text": [
      "[I 2023-06-22 15:26:55,601] Trial 264 finished with value: 0.7037250995635986 and parameters: {'w1': 0.7225615892841509, 'w2': 0.7710215782087521}. Best is trial 130 with value: 0.7050297856330872.\n"
     ]
    },
    {
     "name": "stdout",
     "output_type": "stream",
     "text": [
      "{'w1': 0.7225615892841509, 'w2': 0.7710215782087521, 'threshold': 0.63}\n"
     ]
    },
    {
     "name": "stderr",
     "output_type": "stream",
     "text": [
      "[I 2023-06-22 15:26:57,778] Trial 265 finished with value: 0.7036187052726746 and parameters: {'w1': 0.6831424003704866, 'w2': 0.7129788566235858}. Best is trial 130 with value: 0.7050297856330872.\n"
     ]
    },
    {
     "name": "stdout",
     "output_type": "stream",
     "text": [
      "{'w1': 0.6831424003704866, 'w2': 0.7129788566235858, 'threshold': 0.62}\n"
     ]
    },
    {
     "name": "stderr",
     "output_type": "stream",
     "text": [
      "[I 2023-06-22 15:26:59,957] Trial 266 finished with value: 0.7040782570838928 and parameters: {'w1': 0.7536717826833886, 'w2': 0.7479612393877509}. Best is trial 130 with value: 0.7050297856330872.\n"
     ]
    },
    {
     "name": "stdout",
     "output_type": "stream",
     "text": [
      "{'w1': 0.7536717826833886, 'w2': 0.7479612393877509, 'threshold': 0.62}\n"
     ]
    },
    {
     "name": "stderr",
     "output_type": "stream",
     "text": [
      "[I 2023-06-22 15:27:02,134] Trial 267 finished with value: 0.703696608543396 and parameters: {'w1': 0.7041094800965666, 'w2': 0.8318341072453239}. Best is trial 130 with value: 0.7050297856330872.\n"
     ]
    },
    {
     "name": "stdout",
     "output_type": "stream",
     "text": [
      "{'w1': 0.7041094800965666, 'w2': 0.8318341072453239, 'threshold': 0.63}\n"
     ]
    },
    {
     "name": "stderr",
     "output_type": "stream",
     "text": [
      "[I 2023-06-22 15:27:04,313] Trial 268 finished with value: 0.7033736109733582 and parameters: {'w1': 0.7318371646665272, 'w2': 0.9011960416362634}. Best is trial 130 with value: 0.7050297856330872.\n"
     ]
    },
    {
     "name": "stdout",
     "output_type": "stream",
     "text": [
      "{'w1': 0.7318371646665272, 'w2': 0.9011960416362634, 'threshold': 0.63}\n"
     ]
    },
    {
     "name": "stderr",
     "output_type": "stream",
     "text": [
      "[I 2023-06-22 15:27:06,491] Trial 269 finished with value: 0.7029154896736145 and parameters: {'w1': 0.8103546336552915, 'w2': 0.67427171197886}. Best is trial 130 with value: 0.7050297856330872.\n"
     ]
    },
    {
     "name": "stdout",
     "output_type": "stream",
     "text": [
      "{'w1': 0.8103546336552915, 'w2': 0.67427171197886, 'threshold': 0.62}\n"
     ]
    },
    {
     "name": "stderr",
     "output_type": "stream",
     "text": [
      "[I 2023-06-22 15:27:08,670] Trial 270 finished with value: 0.7040521502494812 and parameters: {'w1': 0.7880368698225333, 'w2': 0.7877670069696979}. Best is trial 130 with value: 0.7050297856330872.\n"
     ]
    },
    {
     "name": "stdout",
     "output_type": "stream",
     "text": [
      "{'w1': 0.7880368698225333, 'w2': 0.7877670069696979, 'threshold': 0.62}\n"
     ]
    },
    {
     "name": "stderr",
     "output_type": "stream",
     "text": [
      "[I 2023-06-22 15:27:10,850] Trial 271 finished with value: 0.7040737867355347 and parameters: {'w1': 0.6349325301928135, 'w2': 0.7280303090324376}. Best is trial 130 with value: 0.7050297856330872.\n"
     ]
    },
    {
     "name": "stdout",
     "output_type": "stream",
     "text": [
      "{'w1': 0.6349325301928135, 'w2': 0.7280303090324376, 'threshold': 0.63}\n"
     ]
    },
    {
     "name": "stderr",
     "output_type": "stream",
     "text": [
      "[I 2023-06-22 15:27:13,029] Trial 272 finished with value: 0.704102098941803 and parameters: {'w1': 0.767809844513679, 'w2': 0.7562253322989289}. Best is trial 130 with value: 0.7050297856330872.\n"
     ]
    },
    {
     "name": "stdout",
     "output_type": "stream",
     "text": [
      "{'w1': 0.767809844513679, 'w2': 0.7562253322989289, 'threshold': 0.62}\n"
     ]
    },
    {
     "name": "stderr",
     "output_type": "stream",
     "text": [
      "[I 2023-06-22 15:27:15,208] Trial 273 finished with value: 0.7029743790626526 and parameters: {'w1': 0.8435194480645152, 'w2': 0.6968842747845669}. Best is trial 130 with value: 0.7050297856330872.\n"
     ]
    },
    {
     "name": "stdout",
     "output_type": "stream",
     "text": [
      "{'w1': 0.8435194480645152, 'w2': 0.6968842747845669, 'threshold': 0.61}\n"
     ]
    },
    {
     "name": "stderr",
     "output_type": "stream",
     "text": [
      "[I 2023-06-22 15:27:17,386] Trial 274 finished with value: 0.7044790983200073 and parameters: {'w1': 0.6001395691584124, 'w2': 0.80685917709676}. Best is trial 130 with value: 0.7050297856330872.\n"
     ]
    },
    {
     "name": "stdout",
     "output_type": "stream",
     "text": [
      "{'w1': 0.6001395691584124, 'w2': 0.80685917709676, 'threshold': 0.64}\n"
     ]
    },
    {
     "name": "stderr",
     "output_type": "stream",
     "text": [
      "[I 2023-06-22 15:27:19,573] Trial 275 finished with value: 0.7046501636505127 and parameters: {'w1': 0.6817494408617414, 'w2': 0.7690120448420273}. Best is trial 130 with value: 0.7050297856330872.\n"
     ]
    },
    {
     "name": "stdout",
     "output_type": "stream",
     "text": [
      "{'w1': 0.6817494408617414, 'w2': 0.7690120448420273, 'threshold': 0.63}\n"
     ]
    },
    {
     "name": "stderr",
     "output_type": "stream",
     "text": [
      "[I 2023-06-22 15:27:21,754] Trial 276 finished with value: 0.7042901515960693 and parameters: {'w1': 0.677068889601464, 'w2': 0.7714574003093043}. Best is trial 130 with value: 0.7050297856330872.\n"
     ]
    },
    {
     "name": "stdout",
     "output_type": "stream",
     "text": [
      "{'w1': 0.677068889601464, 'w2': 0.7714574003093043, 'threshold': 0.63}\n"
     ]
    },
    {
     "name": "stderr",
     "output_type": "stream",
     "text": [
      "[I 2023-06-22 15:27:23,934] Trial 277 finished with value: 0.7032012939453125 and parameters: {'w1': 0.6570175831304492, 'w2': 0.9749552239654279}. Best is trial 130 with value: 0.7050297856330872.\n"
     ]
    },
    {
     "name": "stdout",
     "output_type": "stream",
     "text": [
      "{'w1': 0.6570175831304492, 'w2': 0.9749552239654279, 'threshold': 0.64}\n"
     ]
    },
    {
     "name": "stderr",
     "output_type": "stream",
     "text": [
      "[I 2023-06-22 15:27:26,114] Trial 278 finished with value: 0.7038446068763733 and parameters: {'w1': 0.7050920561153398, 'w2': 0.8189530741041642}. Best is trial 130 with value: 0.7050297856330872.\n"
     ]
    },
    {
     "name": "stdout",
     "output_type": "stream",
     "text": [
      "{'w1': 0.7050920561153398, 'w2': 0.8189530741041642, 'threshold': 0.63}\n"
     ]
    },
    {
     "name": "stderr",
     "output_type": "stream",
     "text": [
      "[I 2023-06-22 15:27:28,291] Trial 279 finished with value: 0.7040192484855652 and parameters: {'w1': 0.6832115000855511, 'w2': 0.7854391754303416}. Best is trial 130 with value: 0.7050297856330872.\n"
     ]
    },
    {
     "name": "stdout",
     "output_type": "stream",
     "text": [
      "{'w1': 0.6832115000855511, 'w2': 0.7854391754303416, 'threshold': 0.63}\n"
     ]
    },
    {
     "name": "stderr",
     "output_type": "stream",
     "text": [
      "[I 2023-06-22 15:27:30,469] Trial 280 finished with value: 0.7035709023475647 and parameters: {'w1': 0.6641774071373333, 'w2': 0.8518496241493537}. Best is trial 130 with value: 0.7050297856330872.\n"
     ]
    },
    {
     "name": "stdout",
     "output_type": "stream",
     "text": [
      "{'w1': 0.6641774071373333, 'w2': 0.8518496241493537, 'threshold': 0.64}\n"
     ]
    },
    {
     "name": "stderr",
     "output_type": "stream",
     "text": [
      "[I 2023-06-22 15:27:32,647] Trial 281 finished with value: 0.7011228799819946 and parameters: {'w1': 0.01007783416958663, 'w2': 0.7545571388328798}. Best is trial 130 with value: 0.7050297856330872.\n"
     ]
    },
    {
     "name": "stdout",
     "output_type": "stream",
     "text": [
      "{'w1': 0.01007783416958663, 'w2': 0.7545571388328798, 'threshold': 0.69}\n"
     ]
    },
    {
     "name": "stderr",
     "output_type": "stream",
     "text": [
      "[I 2023-06-22 15:27:34,828] Trial 282 finished with value: 0.7041392922401428 and parameters: {'w1': 0.9533634496766717, 'w2': 0.8744430136616756}. Best is trial 130 with value: 0.7050297856330872.\n"
     ]
    },
    {
     "name": "stdout",
     "output_type": "stream",
     "text": [
      "{'w1': 0.9533634496766717, 'w2': 0.8744430136616756, 'threshold': 0.62}\n"
     ]
    },
    {
     "name": "stderr",
     "output_type": "stream",
     "text": [
      "[I 2023-06-22 15:27:37,019] Trial 283 finished with value: 0.704343855381012 and parameters: {'w1': 0.7178567332720529, 'w2': 0.7969850541753163}. Best is trial 130 with value: 0.7050297856330872.\n"
     ]
    },
    {
     "name": "stdout",
     "output_type": "stream",
     "text": [
      "{'w1': 0.7178567332720529, 'w2': 0.7969850541753163, 'threshold': 0.63}\n"
     ]
    },
    {
     "name": "stderr",
     "output_type": "stream",
     "text": [
      "[I 2023-06-22 15:27:39,203] Trial 284 finished with value: 0.7022343277931213 and parameters: {'w1': 0.1261669031956597, 'w2': 0.7698836875394707}. Best is trial 130 with value: 0.7050297856330872.\n"
     ]
    },
    {
     "name": "stdout",
     "output_type": "stream",
     "text": [
      "{'w1': 0.1261669031956597, 'w2': 0.7698836875394707, 'threshold': 0.7}\n"
     ]
    },
    {
     "name": "stderr",
     "output_type": "stream",
     "text": [
      "[I 2023-06-22 15:27:41,381] Trial 285 finished with value: 0.7015430927276611 and parameters: {'w1': 0.7377915454831785, 'w2': 0.4463573441940775}. Best is trial 130 with value: 0.7050297856330872.\n"
     ]
    },
    {
     "name": "stdout",
     "output_type": "stream",
     "text": [
      "{'w1': 0.7377915454831785, 'w2': 0.4463573441940775, 'threshold': 0.6}\n"
     ]
    },
    {
     "name": "stderr",
     "output_type": "stream",
     "text": [
      "[I 2023-06-22 15:27:43,558] Trial 286 finished with value: 0.7040272355079651 and parameters: {'w1': 0.7015280514021752, 'w2': 0.7115696448154387}. Best is trial 130 with value: 0.7050297856330872.\n"
     ]
    },
    {
     "name": "stdout",
     "output_type": "stream",
     "text": [
      "{'w1': 0.7015280514021752, 'w2': 0.7115696448154387, 'threshold': 0.62}\n"
     ]
    },
    {
     "name": "stderr",
     "output_type": "stream",
     "text": [
      "[I 2023-06-22 15:27:45,736] Trial 287 finished with value: 0.6970710754394531 and parameters: {'w1': 0.6446656643065457, 'w2': 0.055143163713543775}. Best is trial 130 with value: 0.7050297856330872.\n"
     ]
    },
    {
     "name": "stdout",
     "output_type": "stream",
     "text": [
      "{'w1': 0.6446656643065457, 'w2': 0.055143163713543775, 'threshold': 0.6}\n"
     ]
    },
    {
     "name": "stderr",
     "output_type": "stream",
     "text": [
      "[I 2023-06-22 15:27:47,914] Trial 288 finished with value: 0.7031837701797485 and parameters: {'w1': 0.8689659586545512, 'w2': 0.7402437035266328}. Best is trial 130 with value: 0.7050297856330872.\n"
     ]
    },
    {
     "name": "stdout",
     "output_type": "stream",
     "text": [
      "{'w1': 0.8689659586545512, 'w2': 0.7402437035266328, 'threshold': 0.62}\n"
     ]
    },
    {
     "name": "stderr",
     "output_type": "stream",
     "text": [
      "[I 2023-06-22 15:27:50,091] Trial 289 finished with value: 0.7044942378997803 and parameters: {'w1': 0.6240007193769983, 'w2': 0.839081519373165}. Best is trial 130 with value: 0.7050297856330872.\n"
     ]
    },
    {
     "name": "stdout",
     "output_type": "stream",
     "text": [
      "{'w1': 0.6240007193769983, 'w2': 0.839081519373165, 'threshold': 0.64}\n"
     ]
    },
    {
     "name": "stderr",
     "output_type": "stream",
     "text": [
      "[I 2023-06-22 15:27:52,286] Trial 290 finished with value: 0.6992784738540649 and parameters: {'w1': 0.693943929855369, 'w2': 0.20330915476090516}. Best is trial 130 with value: 0.7050297856330872.\n"
     ]
    },
    {
     "name": "stdout",
     "output_type": "stream",
     "text": [
      "{'w1': 0.693943929855369, 'w2': 0.20330915476090516, 'threshold': 0.56}\n"
     ]
    },
    {
     "name": "stderr",
     "output_type": "stream",
     "text": [
      "[I 2023-06-22 15:27:54,479] Trial 291 finished with value: 0.7041318416595459 and parameters: {'w1': 0.7531776758584399, 'w2': 0.6907281309575192}. Best is trial 130 with value: 0.7050297856330872.\n"
     ]
    },
    {
     "name": "stdout",
     "output_type": "stream",
     "text": [
      "{'w1': 0.7531776758584399, 'w2': 0.6907281309575192, 'threshold': 0.62}\n"
     ]
    },
    {
     "name": "stderr",
     "output_type": "stream",
     "text": [
      "[I 2023-06-22 15:27:56,672] Trial 292 finished with value: 0.703315019607544 and parameters: {'w1': 0.3373216342750988, 'w2': 0.5735199866714692}. Best is trial 130 with value: 0.7050297856330872.\n"
     ]
    },
    {
     "name": "stdout",
     "output_type": "stream",
     "text": [
      "{'w1': 0.3373216342750988, 'w2': 0.5735199866714692, 'threshold': 0.65}\n"
     ]
    },
    {
     "name": "stderr",
     "output_type": "stream",
     "text": [
      "[I 2023-06-22 15:27:58,864] Trial 293 finished with value: 0.7044941186904907 and parameters: {'w1': 0.7331064777370037, 'w2': 0.8222545632508829}. Best is trial 130 with value: 0.7050297856330872.\n"
     ]
    },
    {
     "name": "stdout",
     "output_type": "stream",
     "text": [
      "{'w1': 0.7331064777370037, 'w2': 0.8222545632508829, 'threshold': 0.63}\n"
     ]
    },
    {
     "name": "stderr",
     "output_type": "stream",
     "text": [
      "[I 2023-06-22 15:28:01,056] Trial 294 finished with value: 0.7044166326522827 and parameters: {'w1': 0.6719427216673362, 'w2': 0.7499140075054795}. Best is trial 130 with value: 0.7050297856330872.\n"
     ]
    },
    {
     "name": "stdout",
     "output_type": "stream",
     "text": [
      "{'w1': 0.6719427216673362, 'w2': 0.7499140075054795, 'threshold': 0.63}\n"
     ]
    },
    {
     "name": "stderr",
     "output_type": "stream",
     "text": [
      "[I 2023-06-22 15:28:03,255] Trial 295 finished with value: 0.7039040327072144 and parameters: {'w1': 0.7191486672556667, 'w2': 0.7774889048799495}. Best is trial 130 with value: 0.7050297856330872.\n"
     ]
    },
    {
     "name": "stdout",
     "output_type": "stream",
     "text": [
      "{'w1': 0.7191486672556667, 'w2': 0.7774889048799495, 'threshold': 0.63}\n"
     ]
    },
    {
     "name": "stderr",
     "output_type": "stream",
     "text": [
      "[I 2023-06-22 15:28:05,453] Trial 296 finished with value: 0.7034244537353516 and parameters: {'w1': 0.5914405923793513, 'w2': 0.7243344106917081}. Best is trial 130 with value: 0.7050297856330872.\n"
     ]
    },
    {
     "name": "stdout",
     "output_type": "stream",
     "text": [
      "{'w1': 0.5914405923793513, 'w2': 0.7243344106917081, 'threshold': 0.63}\n"
     ]
    },
    {
     "name": "stderr",
     "output_type": "stream",
     "text": [
      "[I 2023-06-22 15:28:07,643] Trial 297 finished with value: 0.7040283679962158 and parameters: {'w1': 0.6454911358614415, 'w2': 0.6544050672167366}. Best is trial 130 with value: 0.7050297856330872.\n"
     ]
    },
    {
     "name": "stdout",
     "output_type": "stream",
     "text": [
      "{'w1': 0.6454911358614415, 'w2': 0.6544050672167366, 'threshold': 0.62}\n"
     ]
    },
    {
     "name": "stderr",
     "output_type": "stream",
     "text": [
      "[I 2023-06-22 15:28:09,832] Trial 298 finished with value: 0.7036899328231812 and parameters: {'w1': 0.7702596249037655, 'w2': 0.8015600106808656}. Best is trial 130 with value: 0.7050297856330872.\n"
     ]
    },
    {
     "name": "stdout",
     "output_type": "stream",
     "text": [
      "{'w1': 0.7702596249037655, 'w2': 0.8015600106808656, 'threshold': 0.62}\n"
     ]
    },
    {
     "name": "stderr",
     "output_type": "stream",
     "text": [
      "[I 2023-06-22 15:28:12,020] Trial 299 finished with value: 0.7040547132492065 and parameters: {'w1': 0.555856843217245, 'w2': 0.7565365694664765}. Best is trial 130 with value: 0.7050297856330872.\n"
     ]
    },
    {
     "name": "stdout",
     "output_type": "stream",
     "text": [
      "{'w1': 0.555856843217245, 'w2': 0.7565365694664765, 'threshold': 0.64}\n"
     ]
    },
    {
     "name": "stderr",
     "output_type": "stream",
     "text": [
      "[I 2023-06-22 15:28:14,205] Trial 300 finished with value: 0.703736424446106 and parameters: {'w1': 0.6945024159644629, 'w2': 0.6219845708170356}. Best is trial 130 with value: 0.7050297856330872.\n"
     ]
    },
    {
     "name": "stdout",
     "output_type": "stream",
     "text": [
      "{'w1': 0.6945024159644629, 'w2': 0.6219845708170356, 'threshold': 0.62}\n"
     ]
    },
    {
     "name": "stderr",
     "output_type": "stream",
     "text": [
      "[I 2023-06-22 15:28:16,383] Trial 301 finished with value: 0.7036311030387878 and parameters: {'w1': 0.5045396651416513, 'w2': 0.704111286256428}. Best is trial 130 with value: 0.7050297856330872.\n"
     ]
    },
    {
     "name": "stdout",
     "output_type": "stream",
     "text": [
      "{'w1': 0.5045396651416513, 'w2': 0.704111286256428, 'threshold': 0.64}\n"
     ]
    },
    {
     "name": "stderr",
     "output_type": "stream",
     "text": [
      "[I 2023-06-22 15:28:18,570] Trial 302 finished with value: 0.7032638788223267 and parameters: {'w1': 0.5340078080475243, 'w2': 0.7845278277982008}. Best is trial 130 with value: 0.7050297856330872.\n"
     ]
    },
    {
     "name": "stdout",
     "output_type": "stream",
     "text": [
      "{'w1': 0.5340078080475243, 'w2': 0.7845278277982008, 'threshold': 0.64}\n"
     ]
    },
    {
     "name": "stderr",
     "output_type": "stream",
     "text": [
      "[I 2023-06-22 15:28:20,753] Trial 303 finished with value: 0.7039372324943542 and parameters: {'w1': 0.7461151571055098, 'w2': 0.677067939610163}. Best is trial 130 with value: 0.7050297856330872.\n"
     ]
    },
    {
     "name": "stdout",
     "output_type": "stream",
     "text": [
      "{'w1': 0.7461151571055098, 'w2': 0.677067939610163, 'threshold': 0.62}\n"
     ]
    },
    {
     "name": "stderr",
     "output_type": "stream",
     "text": [
      "[I 2023-06-22 15:28:22,931] Trial 304 finished with value: 0.7037131786346436 and parameters: {'w1': 0.8017163438535525, 'w2': 0.8547840922821408}. Best is trial 130 with value: 0.7050297856330872.\n"
     ]
    },
    {
     "name": "stdout",
     "output_type": "stream",
     "text": [
      "{'w1': 0.8017163438535525, 'w2': 0.8547840922821408, 'threshold': 0.63}\n"
     ]
    },
    {
     "name": "stderr",
     "output_type": "stream",
     "text": [
      "[I 2023-06-22 15:28:25,108] Trial 305 finished with value: 0.7036646604537964 and parameters: {'w1': 0.8261879627393963, 'w2': 0.7358833766377862}. Best is trial 130 with value: 0.7050297856330872.\n"
     ]
    },
    {
     "name": "stdout",
     "output_type": "stream",
     "text": [
      "{'w1': 0.8261879627393963, 'w2': 0.7358833766377862, 'threshold': 0.62}\n"
     ]
    },
    {
     "name": "stderr",
     "output_type": "stream",
     "text": [
      "[I 2023-06-22 15:28:27,286] Trial 306 finished with value: 0.704453706741333 and parameters: {'w1': 0.610275121943908, 'w2': 0.8200286643798904}. Best is trial 130 with value: 0.7050297856330872.\n"
     ]
    },
    {
     "name": "stdout",
     "output_type": "stream",
     "text": [
      "{'w1': 0.610275121943908, 'w2': 0.8200286643798904, 'threshold': 0.64}\n"
     ]
    },
    {
     "name": "stderr",
     "output_type": "stream",
     "text": [
      "[I 2023-06-22 15:28:29,464] Trial 307 finished with value: 0.70374995470047 and parameters: {'w1': 0.7154406117045007, 'w2': 0.7647650288395653}. Best is trial 130 with value: 0.7050297856330872.\n"
     ]
    },
    {
     "name": "stdout",
     "output_type": "stream",
     "text": [
      "{'w1': 0.7154406117045007, 'w2': 0.7647650288395653, 'threshold': 0.63}\n"
     ]
    },
    {
     "name": "stderr",
     "output_type": "stream",
     "text": [
      "[I 2023-06-22 15:28:31,641] Trial 308 finished with value: 0.7035562992095947 and parameters: {'w1': 0.4811639319591849, 'w2': 0.7971657435100761}. Best is trial 130 with value: 0.7050297856330872.\n"
     ]
    },
    {
     "name": "stdout",
     "output_type": "stream",
     "text": [
      "{'w1': 0.4811639319591849, 'w2': 0.7971657435100761, 'threshold': 0.65}\n"
     ]
    },
    {
     "name": "stderr",
     "output_type": "stream",
     "text": [
      "[I 2023-06-22 15:28:33,819] Trial 309 finished with value: 0.7038097381591797 and parameters: {'w1': 0.6611335884243725, 'w2': 0.710417611308005}. Best is trial 130 with value: 0.7050297856330872.\n"
     ]
    },
    {
     "name": "stdout",
     "output_type": "stream",
     "text": [
      "{'w1': 0.6611335884243725, 'w2': 0.710417611308005, 'threshold': 0.63}\n"
     ]
    },
    {
     "name": "stderr",
     "output_type": "stream",
     "text": [
      "[I 2023-06-22 15:28:35,997] Trial 310 finished with value: 0.7038593888282776 and parameters: {'w1': 0.7607043459970708, 'w2': 0.8823858630387045}. Best is trial 130 with value: 0.7050297856330872.\n"
     ]
    },
    {
     "name": "stdout",
     "output_type": "stream",
     "text": [
      "{'w1': 0.7607043459970708, 'w2': 0.8823858630387045, 'threshold': 0.63}\n"
     ]
    },
    {
     "name": "stderr",
     "output_type": "stream",
     "text": [
      "[I 2023-06-22 15:28:38,175] Trial 311 finished with value: 0.7040260434150696 and parameters: {'w1': 0.7339315401166457, 'w2': 0.7429273770428277}. Best is trial 130 with value: 0.7050297856330872.\n"
     ]
    },
    {
     "name": "stdout",
     "output_type": "stream",
     "text": [
      "{'w1': 0.7339315401166457, 'w2': 0.7429273770428277, 'threshold': 0.62}\n"
     ]
    },
    {
     "name": "stderr",
     "output_type": "stream",
     "text": [
      "[I 2023-06-22 15:28:40,353] Trial 312 finished with value: 0.7034085392951965 and parameters: {'w1': 0.6954840199476167, 'w2': 0.6071057081085497}. Best is trial 130 with value: 0.7050297856330872.\n"
     ]
    },
    {
     "name": "stdout",
     "output_type": "stream",
     "text": [
      "{'w1': 0.6954840199476167, 'w2': 0.6071057081085497, 'threshold': 0.62}\n"
     ]
    },
    {
     "name": "stderr",
     "output_type": "stream",
     "text": [
      "[I 2023-06-22 15:28:42,529] Trial 313 finished with value: 0.7043467164039612 and parameters: {'w1': 0.7838135215115914, 'w2': 0.72633305534224}. Best is trial 130 with value: 0.7050297856330872.\n"
     ]
    },
    {
     "name": "stdout",
     "output_type": "stream",
     "text": [
      "{'w1': 0.7838135215115914, 'w2': 0.72633305534224, 'threshold': 0.62}\n"
     ]
    },
    {
     "name": "stderr",
     "output_type": "stream",
     "text": [
      "[I 2023-06-22 15:28:44,706] Trial 314 finished with value: 0.7034302949905396 and parameters: {'w1': 0.6272049990984992, 'w2': 0.7675829882875778}. Best is trial 130 with value: 0.7050297856330872.\n"
     ]
    },
    {
     "name": "stdout",
     "output_type": "stream",
     "text": [
      "{'w1': 0.6272049990984992, 'w2': 0.7675829882875778, 'threshold': 0.63}\n"
     ]
    },
    {
     "name": "stderr",
     "output_type": "stream",
     "text": [
      "[I 2023-06-22 15:28:46,884] Trial 315 finished with value: 0.7033665776252747 and parameters: {'w1': 0.661112769733118, 'w2': 0.8320223806166693}. Best is trial 130 with value: 0.7050297856330872.\n"
     ]
    },
    {
     "name": "stdout",
     "output_type": "stream",
     "text": [
      "{'w1': 0.661112769733118, 'w2': 0.8320223806166693, 'threshold': 0.64}\n"
     ]
    },
    {
     "name": "stderr",
     "output_type": "stream",
     "text": [
      "[I 2023-06-22 15:28:49,062] Trial 316 finished with value: 0.7038769125938416 and parameters: {'w1': 0.6778993041300219, 'w2': 0.7854458688271603}. Best is trial 130 with value: 0.7050297856330872.\n"
     ]
    },
    {
     "name": "stdout",
     "output_type": "stream",
     "text": [
      "{'w1': 0.6778993041300219, 'w2': 0.7854458688271603, 'threshold': 0.63}\n"
     ]
    },
    {
     "name": "stderr",
     "output_type": "stream",
     "text": [
      "[I 2023-06-22 15:28:51,240] Trial 317 finished with value: 0.7038906216621399 and parameters: {'w1': 0.7481473716010786, 'w2': 0.8081376324556875}. Best is trial 130 with value: 0.7050297856330872.\n"
     ]
    },
    {
     "name": "stdout",
     "output_type": "stream",
     "text": [
      "{'w1': 0.7481473716010786, 'w2': 0.8081376324556875, 'threshold': 0.63}\n"
     ]
    },
    {
     "name": "stderr",
     "output_type": "stream",
     "text": [
      "[I 2023-06-22 15:28:53,417] Trial 318 finished with value: 0.7037366628646851 and parameters: {'w1': 0.7124748025681649, 'w2': 0.6380756172629402}. Best is trial 130 with value: 0.7050297856330872.\n"
     ]
    },
    {
     "name": "stdout",
     "output_type": "stream",
     "text": [
      "{'w1': 0.7124748025681649, 'w2': 0.6380756172629402, 'threshold': 0.62}\n"
     ]
    },
    {
     "name": "stderr",
     "output_type": "stream",
     "text": [
      "[I 2023-06-22 15:28:55,595] Trial 319 finished with value: 0.7033019065856934 and parameters: {'w1': 0.5783058975306197, 'w2': 0.984946816062643}. Best is trial 130 with value: 0.7050297856330872.\n"
     ]
    },
    {
     "name": "stdout",
     "output_type": "stream",
     "text": [
      "{'w1': 0.5783058975306197, 'w2': 0.984946816062643, 'threshold': 0.65}\n"
     ]
    },
    {
     "name": "stderr",
     "output_type": "stream",
     "text": [
      "[I 2023-06-22 15:28:57,780] Trial 320 finished with value: 0.7037144899368286 and parameters: {'w1': 0.7663130422759261, 'w2': 0.685176883517953}. Best is trial 130 with value: 0.7050297856330872.\n"
     ]
    },
    {
     "name": "stdout",
     "output_type": "stream",
     "text": [
      "{'w1': 0.7663130422759261, 'w2': 0.685176883517953, 'threshold': 0.62}\n"
     ]
    },
    {
     "name": "stderr",
     "output_type": "stream",
     "text": [
      "[I 2023-06-22 15:28:59,958] Trial 321 finished with value: 0.7042422294616699 and parameters: {'w1': 0.806193203653115, 'w2': 0.7433118411234073}. Best is trial 130 with value: 0.7050297856330872.\n"
     ]
    },
    {
     "name": "stdout",
     "output_type": "stream",
     "text": [
      "{'w1': 0.806193203653115, 'w2': 0.7433118411234073, 'threshold': 0.62}\n"
     ]
    },
    {
     "name": "stderr",
     "output_type": "stream",
     "text": [
      "[I 2023-06-22 15:29:02,135] Trial 322 finished with value: 0.7034836411476135 and parameters: {'w1': 0.645241457151619, 'w2': 0.9180203970795208}. Best is trial 130 with value: 0.7050297856330872.\n"
     ]
    },
    {
     "name": "stdout",
     "output_type": "stream",
     "text": [
      "{'w1': 0.645241457151619, 'w2': 0.9180203970795208, 'threshold': 0.64}\n"
     ]
    },
    {
     "name": "stderr",
     "output_type": "stream",
     "text": [
      "[I 2023-06-22 15:29:04,313] Trial 323 finished with value: 0.7041046023368835 and parameters: {'w1': 0.7279222980441459, 'w2': 0.7158501308073536}. Best is trial 130 with value: 0.7050297856330872.\n"
     ]
    },
    {
     "name": "stdout",
     "output_type": "stream",
     "text": [
      "{'w1': 0.7279222980441459, 'w2': 0.7158501308073536, 'threshold': 0.62}\n"
     ]
    },
    {
     "name": "stderr",
     "output_type": "stream",
     "text": [
      "[I 2023-06-22 15:29:06,492] Trial 324 finished with value: 0.7033070921897888 and parameters: {'w1': 0.6815691917685655, 'w2': 0.8516941463488724}. Best is trial 130 with value: 0.7050297856330872.\n"
     ]
    },
    {
     "name": "stdout",
     "output_type": "stream",
     "text": [
      "{'w1': 0.6815691917685655, 'w2': 0.8516941463488724, 'threshold': 0.64}\n"
     ]
    },
    {
     "name": "stderr",
     "output_type": "stream",
     "text": [
      "[I 2023-06-22 15:29:08,672] Trial 325 finished with value: 0.7040435671806335 and parameters: {'w1': 0.6077787300544847, 'w2': 0.5550464413625603}. Best is trial 130 with value: 0.7050297856330872.\n"
     ]
    },
    {
     "name": "stdout",
     "output_type": "stream",
     "text": [
      "{'w1': 0.6077787300544847, 'w2': 0.5550464413625603, 'threshold': 0.62}\n"
     ]
    },
    {
     "name": "stderr",
     "output_type": "stream",
     "text": [
      "[I 2023-06-22 15:29:10,850] Trial 326 finished with value: 0.7043026089668274 and parameters: {'w1': 0.7916275349004842, 'w2': 0.7654683280408031}. Best is trial 130 with value: 0.7050297856330872.\n"
     ]
    },
    {
     "name": "stdout",
     "output_type": "stream",
     "text": [
      "{'w1': 0.7916275349004842, 'w2': 0.7654683280408031, 'threshold': 0.62}\n"
     ]
    },
    {
     "name": "stderr",
     "output_type": "stream",
     "text": [
      "[I 2023-06-22 15:29:13,028] Trial 327 finished with value: 0.7035998702049255 and parameters: {'w1': 0.7102476043851725, 'w2': 0.7469340074519653}. Best is trial 130 with value: 0.7050297856330872.\n"
     ]
    },
    {
     "name": "stdout",
     "output_type": "stream",
     "text": [
      "{'w1': 0.7102476043851725, 'w2': 0.7469340074519653, 'threshold': 0.63}\n"
     ]
    },
    {
     "name": "stderr",
     "output_type": "stream",
     "text": [
      "[I 2023-06-22 15:29:15,205] Trial 328 finished with value: 0.704035758972168 and parameters: {'w1': 0.7467095018218602, 'w2': 0.813816329001897}. Best is trial 130 with value: 0.7050297856330872.\n"
     ]
    },
    {
     "name": "stdout",
     "output_type": "stream",
     "text": [
      "{'w1': 0.7467095018218602, 'w2': 0.813816329001897, 'threshold': 0.63}\n"
     ]
    },
    {
     "name": "stderr",
     "output_type": "stream",
     "text": [
      "[I 2023-06-22 15:29:17,383] Trial 329 finished with value: 0.7031936049461365 and parameters: {'w1': 0.8480489253644614, 'w2': 0.7238907806042922}. Best is trial 130 with value: 0.7050297856330872.\n"
     ]
    },
    {
     "name": "stdout",
     "output_type": "stream",
     "text": [
      "{'w1': 0.8480489253644614, 'w2': 0.7238907806042922, 'threshold': 0.62}\n"
     ]
    },
    {
     "name": "stderr",
     "output_type": "stream",
     "text": [
      "[I 2023-06-22 15:29:19,560] Trial 330 finished with value: 0.704036295413971 and parameters: {'w1': 0.7755011038092972, 'w2': 0.781441811302168}. Best is trial 130 with value: 0.7050297856330872.\n"
     ]
    },
    {
     "name": "stdout",
     "output_type": "stream",
     "text": [
      "{'w1': 0.7755011038092972, 'w2': 0.781441811302168, 'threshold': 0.62}\n"
     ]
    },
    {
     "name": "stderr",
     "output_type": "stream",
     "text": [
      "[I 2023-06-22 15:29:21,739] Trial 331 finished with value: 0.7037615776062012 and parameters: {'w1': 0.817689041462837, 'w2': 0.6608866538596402}. Best is trial 130 with value: 0.7050297856330872.\n"
     ]
    },
    {
     "name": "stdout",
     "output_type": "stream",
     "text": [
      "{'w1': 0.817689041462837, 'w2': 0.6608866538596402, 'threshold': 0.61}\n"
     ]
    },
    {
     "name": "stderr",
     "output_type": "stream",
     "text": [
      "[I 2023-06-22 15:29:23,916] Trial 332 finished with value: 0.7035238742828369 and parameters: {'w1': 0.6950259744851395, 'w2': 0.8362791498542242}. Best is trial 130 with value: 0.7050297856330872.\n"
     ]
    },
    {
     "name": "stdout",
     "output_type": "stream",
     "text": [
      "{'w1': 0.6950259744851395, 'w2': 0.8362791498542242, 'threshold': 0.63}\n"
     ]
    },
    {
     "name": "stderr",
     "output_type": "stream",
     "text": [
      "[I 2023-06-22 15:29:26,094] Trial 333 finished with value: 0.7041128277778625 and parameters: {'w1': 0.6398661054403937, 'w2': 0.8694209140711889}. Best is trial 130 with value: 0.7050297856330872.\n"
     ]
    },
    {
     "name": "stdout",
     "output_type": "stream",
     "text": [
      "{'w1': 0.6398661054403937, 'w2': 0.8694209140711889, 'threshold': 0.64}\n"
     ]
    },
    {
     "name": "stderr",
     "output_type": "stream",
     "text": [
      "[I 2023-06-22 15:29:28,279] Trial 334 finished with value: 0.703307569026947 and parameters: {'w1': 0.5615282485673181, 'w2': 0.6985231074191532}. Best is trial 130 with value: 0.7050297856330872.\n"
     ]
    },
    {
     "name": "stdout",
     "output_type": "stream",
     "text": [
      "{'w1': 0.5615282485673181, 'w2': 0.6985231074191532, 'threshold': 0.63}\n"
     ]
    },
    {
     "name": "stderr",
     "output_type": "stream",
     "text": [
      "[I 2023-06-22 15:29:30,471] Trial 335 finished with value: 0.7036164402961731 and parameters: {'w1': 0.6700886506346986, 'w2': 0.936798969398585}. Best is trial 130 with value: 0.7050297856330872.\n"
     ]
    },
    {
     "name": "stdout",
     "output_type": "stream",
     "text": [
      "{'w1': 0.6700886506346986, 'w2': 0.936798969398585, 'threshold': 0.64}\n"
     ]
    },
    {
     "name": "stderr",
     "output_type": "stream",
     "text": [
      "[I 2023-06-22 15:29:32,649] Trial 336 finished with value: 0.7039555907249451 and parameters: {'w1': 0.7324172610993952, 'w2': 0.7549401716892282}. Best is trial 130 with value: 0.7050297856330872.\n"
     ]
    },
    {
     "name": "stdout",
     "output_type": "stream",
     "text": [
      "{'w1': 0.7324172610993952, 'w2': 0.7549401716892282, 'threshold': 0.62}\n"
     ]
    },
    {
     "name": "stderr",
     "output_type": "stream",
     "text": [
      "[I 2023-06-22 15:29:34,828] Trial 337 finished with value: 0.7037507891654968 and parameters: {'w1': 0.7616246936589952, 'w2': 0.8937553593805683}. Best is trial 130 with value: 0.7050297856330872.\n"
     ]
    },
    {
     "name": "stdout",
     "output_type": "stream",
     "text": [
      "{'w1': 0.7616246936589952, 'w2': 0.8937553593805683, 'threshold': 0.63}\n"
     ]
    },
    {
     "name": "stderr",
     "output_type": "stream",
     "text": [
      "[I 2023-06-22 15:29:37,006] Trial 338 finished with value: 0.7032167911529541 and parameters: {'w1': 0.5375490851802326, 'w2': 0.794895366395626}. Best is trial 130 with value: 0.7050297856330872.\n"
     ]
    },
    {
     "name": "stdout",
     "output_type": "stream",
     "text": [
      "{'w1': 0.5375490851802326, 'w2': 0.794895366395626, 'threshold': 0.64}\n"
     ]
    },
    {
     "name": "stderr",
     "output_type": "stream",
     "text": [
      "[I 2023-06-22 15:29:39,184] Trial 339 finished with value: 0.7040254473686218 and parameters: {'w1': 0.7136589210632016, 'w2': 0.7223433371012142}. Best is trial 130 with value: 0.7050297856330872.\n"
     ]
    },
    {
     "name": "stdout",
     "output_type": "stream",
     "text": [
      "{'w1': 0.7136589210632016, 'w2': 0.7223433371012142, 'threshold': 0.62}\n"
     ]
    },
    {
     "name": "stderr",
     "output_type": "stream",
     "text": [
      "[I 2023-06-22 15:29:41,372] Trial 340 finished with value: 0.7042262554168701 and parameters: {'w1': 0.795043555047171, 'w2': 0.771944298271221}. Best is trial 130 with value: 0.7050297856330872.\n"
     ]
    },
    {
     "name": "stdout",
     "output_type": "stream",
     "text": [
      "{'w1': 0.795043555047171, 'w2': 0.771944298271221, 'threshold': 0.62}\n"
     ]
    },
    {
     "name": "stderr",
     "output_type": "stream",
     "text": [
      "[I 2023-06-22 15:29:43,569] Trial 341 finished with value: 0.7038844227790833 and parameters: {'w1': 0.6824926369757841, 'w2': 0.7371044259737075}. Best is trial 130 with value: 0.7050297856330872.\n"
     ]
    },
    {
     "name": "stdout",
     "output_type": "stream",
     "text": [
      "{'w1': 0.6824926369757841, 'w2': 0.7371044259737075, 'threshold': 0.63}\n"
     ]
    },
    {
     "name": "stderr",
     "output_type": "stream",
     "text": [
      "[I 2023-06-22 15:29:45,747] Trial 342 finished with value: 0.7031368017196655 and parameters: {'w1': 0.6208099466814111, 'w2': 0.5257509849120348}. Best is trial 130 with value: 0.7050297856330872.\n"
     ]
    },
    {
     "name": "stdout",
     "output_type": "stream",
     "text": [
      "{'w1': 0.6208099466814111, 'w2': 0.5257509849120348, 'threshold': 0.62}\n"
     ]
    },
    {
     "name": "stderr",
     "output_type": "stream",
     "text": [
      "[I 2023-06-22 15:29:47,925] Trial 343 finished with value: 0.7041909098625183 and parameters: {'w1': 0.7449291293380538, 'w2': 0.6855864095156387}. Best is trial 130 with value: 0.7050297856330872.\n"
     ]
    },
    {
     "name": "stdout",
     "output_type": "stream",
     "text": [
      "{'w1': 0.7449291293380538, 'w2': 0.6855864095156387, 'threshold': 0.62}\n"
     ]
    },
    {
     "name": "stderr",
     "output_type": "stream",
     "text": [
      "[I 2023-06-22 15:29:50,103] Trial 344 finished with value: 0.7034088373184204 and parameters: {'w1': 0.6661876842274878, 'w2': 0.8170604108308905}. Best is trial 130 with value: 0.7050297856330872.\n"
     ]
    },
    {
     "name": "stdout",
     "output_type": "stream",
     "text": [
      "{'w1': 0.6661876842274878, 'w2': 0.8170604108308905, 'threshold': 0.63}\n"
     ]
    },
    {
     "name": "stderr",
     "output_type": "stream",
     "text": [
      "[I 2023-06-22 15:29:52,281] Trial 345 finished with value: 0.7032851576805115 and parameters: {'w1': 0.5192927060313486, 'w2': 0.7587718979079827}. Best is trial 130 with value: 0.7050297856330872.\n"
     ]
    },
    {
     "name": "stdout",
     "output_type": "stream",
     "text": [
      "{'w1': 0.5192927060313486, 'w2': 0.7587718979079827, 'threshold': 0.64}\n"
     ]
    },
    {
     "name": "stderr",
     "output_type": "stream",
     "text": [
      "[I 2023-06-22 15:29:54,460] Trial 346 finished with value: 0.7038905620574951 and parameters: {'w1': 0.776415387954021, 'w2': 0.8387737014806241}. Best is trial 130 with value: 0.7050297856330872.\n"
     ]
    },
    {
     "name": "stdout",
     "output_type": "stream",
     "text": [
      "{'w1': 0.776415387954021, 'w2': 0.8387737014806241, 'threshold': 0.63}\n"
     ]
    },
    {
     "name": "stderr",
     "output_type": "stream",
     "text": [
      "[I 2023-06-22 15:29:56,637] Trial 347 finished with value: 0.7042142748832703 and parameters: {'w1': 0.4380688725917986, 'w2': 0.7060022505639443}. Best is trial 130 with value: 0.7050297856330872.\n"
     ]
    },
    {
     "name": "stdout",
     "output_type": "stream",
     "text": [
      "{'w1': 0.4380688725917986, 'w2': 0.7060022505639443, 'threshold': 0.65}\n"
     ]
    },
    {
     "name": "stderr",
     "output_type": "stream",
     "text": [
      "[I 2023-06-22 15:29:58,820] Trial 348 finished with value: 0.7046743631362915 and parameters: {'w1': 0.6950061532469192, 'w2': 0.7846628511757995}. Best is trial 130 with value: 0.7050297856330872.\n"
     ]
    },
    {
     "name": "stdout",
     "output_type": "stream",
     "text": [
      "{'w1': 0.6950061532469192, 'w2': 0.7846628511757995, 'threshold': 0.63}\n"
     ]
    },
    {
     "name": "stderr",
     "output_type": "stream",
     "text": [
      "[I 2023-06-22 15:30:01,009] Trial 349 finished with value: 0.7042336463928223 and parameters: {'w1': 0.5924549063660646, 'w2': 0.8032212989268458}. Best is trial 130 with value: 0.7050297856330872.\n"
     ]
    },
    {
     "name": "stdout",
     "output_type": "stream",
     "text": [
      "{'w1': 0.5924549063660646, 'w2': 0.8032212989268458, 'threshold': 0.64}\n"
     ]
    },
    {
     "name": "stderr",
     "output_type": "stream",
     "text": [
      "[I 2023-06-22 15:30:03,200] Trial 350 finished with value: 0.7040194869041443 and parameters: {'w1': 0.7272285043994692, 'w2': 0.7407034103876484}. Best is trial 130 with value: 0.7050297856330872.\n"
     ]
    },
    {
     "name": "stdout",
     "output_type": "stream",
     "text": [
      "{'w1': 0.7272285043994692, 'w2': 0.7407034103876484, 'threshold': 0.62}\n"
     ]
    },
    {
     "name": "stderr",
     "output_type": "stream",
     "text": [
      "[I 2023-06-22 15:30:05,388] Trial 351 finished with value: 0.7045416831970215 and parameters: {'w1': 0.6529744577167117, 'w2': 0.6117646084741458}. Best is trial 130 with value: 0.7050297856330872.\n"
     ]
    },
    {
     "name": "stdout",
     "output_type": "stream",
     "text": [
      "{'w1': 0.6529744577167117, 'w2': 0.6117646084741458, 'threshold': 0.62}\n"
     ]
    },
    {
     "name": "stderr",
     "output_type": "stream",
     "text": [
      "[I 2023-06-22 15:30:07,566] Trial 352 finished with value: 0.7032750844955444 and parameters: {'w1': 0.6336242476349234, 'w2': 0.5446340581709371}. Best is trial 130 with value: 0.7050297856330872.\n"
     ]
    },
    {
     "name": "stdout",
     "output_type": "stream",
     "text": [
      "{'w1': 0.6336242476349234, 'w2': 0.5446340581709371, 'threshold': 0.62}\n"
     ]
    },
    {
     "name": "stderr",
     "output_type": "stream",
     "text": [
      "[I 2023-06-22 15:30:09,744] Trial 353 finished with value: 0.7038580179214478 and parameters: {'w1': 0.6453468419545033, 'w2': 0.6684259505946494}. Best is trial 130 with value: 0.7050297856330872.\n"
     ]
    },
    {
     "name": "stdout",
     "output_type": "stream",
     "text": [
      "{'w1': 0.6453468419545033, 'w2': 0.6684259505946494, 'threshold': 0.62}\n"
     ]
    },
    {
     "name": "stderr",
     "output_type": "stream",
     "text": [
      "[I 2023-06-22 15:30:11,921] Trial 354 finished with value: 0.7046094536781311 and parameters: {'w1': 0.6565259779606452, 'w2': 0.6296731818371619}. Best is trial 130 with value: 0.7050297856330872.\n"
     ]
    },
    {
     "name": "stdout",
     "output_type": "stream",
     "text": [
      "{'w1': 0.6565259779606452, 'w2': 0.6296731818371619, 'threshold': 0.62}\n"
     ]
    },
    {
     "name": "stderr",
     "output_type": "stream",
     "text": [
      "[I 2023-06-22 15:30:14,099] Trial 355 finished with value: 0.7044448852539062 and parameters: {'w1': 0.6568873849803264, 'w2': 0.6314049442772305}. Best is trial 130 with value: 0.7050297856330872.\n"
     ]
    },
    {
     "name": "stdout",
     "output_type": "stream",
     "text": [
      "{'w1': 0.6568873849803264, 'w2': 0.6314049442772305, 'threshold': 0.62}\n"
     ]
    },
    {
     "name": "stderr",
     "output_type": "stream",
     "text": [
      "[I 2023-06-22 15:30:16,277] Trial 356 finished with value: 0.7037579417228699 and parameters: {'w1': 0.666648996165394, 'w2': 0.5979532204789715}. Best is trial 130 with value: 0.7050297856330872.\n"
     ]
    },
    {
     "name": "stdout",
     "output_type": "stream",
     "text": [
      "{'w1': 0.666648996165394, 'w2': 0.5979532204789715, 'threshold': 0.62}\n"
     ]
    },
    {
     "name": "stderr",
     "output_type": "stream",
     "text": [
      "[I 2023-06-22 15:30:18,454] Trial 357 finished with value: 0.7037744522094727 and parameters: {'w1': 0.6063822970988875, 'w2': 0.6500305150634262}. Best is trial 130 with value: 0.7050297856330872.\n"
     ]
    },
    {
     "name": "stdout",
     "output_type": "stream",
     "text": [
      "{'w1': 0.6063822970988875, 'w2': 0.6500305150634262, 'threshold': 0.63}\n"
     ]
    },
    {
     "name": "stderr",
     "output_type": "stream",
     "text": [
      "[I 2023-06-22 15:30:20,632] Trial 358 finished with value: 0.703774631023407 and parameters: {'w1': 0.6235204582092678, 'w2': 0.6680301989702705}. Best is trial 130 with value: 0.7050297856330872.\n"
     ]
    },
    {
     "name": "stdout",
     "output_type": "stream",
     "text": [
      "{'w1': 0.6235204582092678, 'w2': 0.6680301989702705, 'threshold': 0.63}\n"
     ]
    },
    {
     "name": "stderr",
     "output_type": "stream",
     "text": [
      "[I 2023-06-22 15:30:22,810] Trial 359 finished with value: 0.7040243744850159 and parameters: {'w1': 0.6855880880324507, 'w2': 0.6939756562918257}. Best is trial 130 with value: 0.7050297856330872.\n"
     ]
    },
    {
     "name": "stdout",
     "output_type": "stream",
     "text": [
      "{'w1': 0.6855880880324507, 'w2': 0.6939756562918257, 'threshold': 0.62}\n"
     ]
    },
    {
     "name": "stderr",
     "output_type": "stream",
     "text": [
      "[I 2023-06-22 15:30:24,987] Trial 360 finished with value: 0.7042644619941711 and parameters: {'w1': 0.6414775844415357, 'w2': 0.5918783108577889}. Best is trial 130 with value: 0.7050297856330872.\n"
     ]
    },
    {
     "name": "stdout",
     "output_type": "stream",
     "text": [
      "{'w1': 0.6414775844415357, 'w2': 0.5918783108577889, 'threshold': 0.62}\n"
     ]
    },
    {
     "name": "stderr",
     "output_type": "stream",
     "text": [
      "[I 2023-06-22 15:30:27,165] Trial 361 finished with value: 0.7041065096855164 and parameters: {'w1': 0.6958388161750684, 'w2': 0.6373917665682091}. Best is trial 130 with value: 0.7050297856330872.\n"
     ]
    },
    {
     "name": "stdout",
     "output_type": "stream",
     "text": [
      "{'w1': 0.6958388161750684, 'w2': 0.6373917665682091, 'threshold': 0.62}\n"
     ]
    },
    {
     "name": "stderr",
     "output_type": "stream",
     "text": [
      "[I 2023-06-22 15:30:29,343] Trial 362 finished with value: 0.7036435604095459 and parameters: {'w1': 0.40491895094864283, 'w2': 0.564064981529618}. Best is trial 130 with value: 0.7050297856330872.\n"
     ]
    },
    {
     "name": "stdout",
     "output_type": "stream",
     "text": [
      "{'w1': 0.40491895094864283, 'w2': 0.564064981529618, 'threshold': 0.64}\n"
     ]
    },
    {
     "name": "stderr",
     "output_type": "stream",
     "text": [
      "[I 2023-06-22 15:30:31,521] Trial 363 finished with value: 0.7036706805229187 and parameters: {'w1': 0.4987326508576889, 'w2': 0.5905644826255002}. Best is trial 130 with value: 0.7050297856330872.\n"
     ]
    },
    {
     "name": "stdout",
     "output_type": "stream",
     "text": [
      "{'w1': 0.4987326508576889, 'w2': 0.5905644826255002, 'threshold': 0.63}\n"
     ]
    },
    {
     "name": "stderr",
     "output_type": "stream",
     "text": [
      "[I 2023-06-22 15:30:33,698] Trial 364 finished with value: 0.704160213470459 and parameters: {'w1': 0.6474108394059555, 'w2': 0.6316450125920309}. Best is trial 130 with value: 0.7050297856330872.\n"
     ]
    },
    {
     "name": "stdout",
     "output_type": "stream",
     "text": [
      "{'w1': 0.6474108394059555, 'w2': 0.6316450125920309, 'threshold': 0.62}\n"
     ]
    },
    {
     "name": "stderr",
     "output_type": "stream",
     "text": [
      "[I 2023-06-22 15:30:35,875] Trial 365 finished with value: 0.7037461996078491 and parameters: {'w1': 0.6708914146354499, 'w2': 0.7170005187678883}. Best is trial 130 with value: 0.7050297856330872.\n"
     ]
    },
    {
     "name": "stdout",
     "output_type": "stream",
     "text": [
      "{'w1': 0.6708914146354499, 'w2': 0.7170005187678883, 'threshold': 0.63}\n"
     ]
    },
    {
     "name": "stderr",
     "output_type": "stream",
     "text": [
      "[I 2023-06-22 15:30:38,053] Trial 366 finished with value: 0.7039963603019714 and parameters: {'w1': 0.578751343743086, 'w2': 0.6660294473865811}. Best is trial 130 with value: 0.7050297856330872.\n"
     ]
    },
    {
     "name": "stdout",
     "output_type": "stream",
     "text": [
      "{'w1': 0.578751343743086, 'w2': 0.6660294473865811, 'threshold': 0.63}\n"
     ]
    },
    {
     "name": "stderr",
     "output_type": "stream",
     "text": [
      "[I 2023-06-22 15:30:40,231] Trial 367 finished with value: 0.7020518183708191 and parameters: {'w1': 0.7118444980853356, 'w2': 0.5001291799021061}. Best is trial 130 with value: 0.7050297856330872.\n"
     ]
    },
    {
     "name": "stdout",
     "output_type": "stream",
     "text": [
      "{'w1': 0.7118444980853356, 'w2': 0.5001291799021061, 'threshold': 0.6}\n"
     ]
    },
    {
     "name": "stderr",
     "output_type": "stream",
     "text": [
      "[I 2023-06-22 15:30:42,408] Trial 368 finished with value: 0.7036138772964478 and parameters: {'w1': 0.6583745750101625, 'w2': 0.6877048276998488}. Best is trial 130 with value: 0.7050297856330872.\n"
     ]
    },
    {
     "name": "stdout",
     "output_type": "stream",
     "text": [
      "{'w1': 0.6583745750101625, 'w2': 0.6877048276998488, 'threshold': 0.62}\n"
     ]
    },
    {
     "name": "stderr",
     "output_type": "stream",
     "text": [
      "[I 2023-06-22 15:30:44,585] Trial 369 finished with value: 0.7043024897575378 and parameters: {'w1': 0.6225569452029242, 'w2': 0.6019542791394261}. Best is trial 130 with value: 0.7050297856330872.\n"
     ]
    },
    {
     "name": "stdout",
     "output_type": "stream",
     "text": [
      "{'w1': 0.6225569452029242, 'w2': 0.6019542791394261, 'threshold': 0.62}\n"
     ]
    },
    {
     "name": "stderr",
     "output_type": "stream",
     "text": [
      "[I 2023-06-22 15:30:46,763] Trial 370 finished with value: 0.7036945819854736 and parameters: {'w1': 0.34455883950359495, 'w2': 0.47729805694796623}. Best is trial 130 with value: 0.7050297856330872.\n"
     ]
    },
    {
     "name": "stdout",
     "output_type": "stream",
     "text": [
      "{'w1': 0.34455883950359495, 'w2': 0.47729805694796623, 'threshold': 0.64}\n"
     ]
    },
    {
     "name": "stderr",
     "output_type": "stream",
     "text": [
      "[I 2023-06-22 15:30:48,941] Trial 371 finished with value: 0.7021374702453613 and parameters: {'w1': 0.9358576940232971, 'w2': 0.6507113715765374}. Best is trial 130 with value: 0.7050297856330872.\n"
     ]
    },
    {
     "name": "stdout",
     "output_type": "stream",
     "text": [
      "{'w1': 0.9358576940232971, 'w2': 0.6507113715765374, 'threshold': 0.6}\n"
     ]
    },
    {
     "name": "stderr",
     "output_type": "stream",
     "text": [
      "[I 2023-06-22 15:30:51,119] Trial 372 finished with value: 0.7031608819961548 and parameters: {'w1': 0.8823214733157285, 'w2': 0.718478538167423}. Best is trial 130 with value: 0.7050297856330872.\n"
     ]
    },
    {
     "name": "stdout",
     "output_type": "stream",
     "text": [
      "{'w1': 0.8823214733157285, 'w2': 0.718478538167423, 'threshold': 0.61}\n"
     ]
    },
    {
     "name": "stderr",
     "output_type": "stream",
     "text": [
      "[I 2023-06-22 15:30:53,297] Trial 373 finished with value: 0.7045385241508484 and parameters: {'w1': 0.6820051863206339, 'w2': 0.7666035164683551}. Best is trial 130 with value: 0.7050297856330872.\n"
     ]
    },
    {
     "name": "stdout",
     "output_type": "stream",
     "text": [
      "{'w1': 0.6820051863206339, 'w2': 0.7666035164683551, 'threshold': 0.63}\n"
     ]
    },
    {
     "name": "stderr",
     "output_type": "stream",
     "text": [
      "[I 2023-06-22 15:30:55,474] Trial 374 finished with value: 0.7026227116584778 and parameters: {'w1': 0.7094021206538523, 'w2': 0.5332485858018479}. Best is trial 130 with value: 0.7050297856330872.\n"
     ]
    },
    {
     "name": "stdout",
     "output_type": "stream",
     "text": [
      "{'w1': 0.7094021206538523, 'w2': 0.5332485858018479, 'threshold': 0.61}\n"
     ]
    },
    {
     "name": "stderr",
     "output_type": "stream",
     "text": [
      "[I 2023-06-22 15:30:57,652] Trial 375 finished with value: 0.7039220333099365 and parameters: {'w1': 0.6896877833620122, 'w2': 0.7463343597211743}. Best is trial 130 with value: 0.7050297856330872.\n"
     ]
    },
    {
     "name": "stdout",
     "output_type": "stream",
     "text": [
      "{'w1': 0.6896877833620122, 'w2': 0.7463343597211743, 'threshold': 0.63}\n"
     ]
    },
    {
     "name": "stderr",
     "output_type": "stream",
     "text": [
      "[I 2023-06-22 15:30:59,830] Trial 376 finished with value: 0.703988790512085 and parameters: {'w1': 0.6002038181946656, 'w2': 0.7868350787497104}. Best is trial 130 with value: 0.7050297856330872.\n"
     ]
    },
    {
     "name": "stdout",
     "output_type": "stream",
     "text": [
      "{'w1': 0.6002038181946656, 'w2': 0.7868350787497104, 'threshold': 0.64}\n"
     ]
    },
    {
     "name": "stderr",
     "output_type": "stream",
     "text": [
      "[I 2023-06-22 15:31:02,012] Trial 377 finished with value: 0.7034714221954346 and parameters: {'w1': 0.7288791907244497, 'w2': 0.5783362409329783}. Best is trial 130 with value: 0.7050297856330872.\n"
     ]
    },
    {
     "name": "stdout",
     "output_type": "stream",
     "text": [
      "{'w1': 0.7288791907244497, 'w2': 0.5783362409329783, 'threshold': 0.61}\n"
     ]
    },
    {
     "name": "stderr",
     "output_type": "stream",
     "text": [
      "[I 2023-06-22 15:31:04,197] Trial 378 finished with value: 0.7044951319694519 and parameters: {'w1': 0.6531365810399373, 'w2': 0.6098839575104834}. Best is trial 130 with value: 0.7050297856330872.\n"
     ]
    },
    {
     "name": "stdout",
     "output_type": "stream",
     "text": [
      "{'w1': 0.6531365810399373, 'w2': 0.6098839575104834, 'threshold': 0.62}\n"
     ]
    },
    {
     "name": "stderr",
     "output_type": "stream",
     "text": [
      "[I 2023-06-22 15:31:06,388] Trial 379 finished with value: 0.7034223675727844 and parameters: {'w1': 0.5566500967221929, 'w2': 0.7033732345225314}. Best is trial 130 with value: 0.7050297856330872.\n"
     ]
    },
    {
     "name": "stdout",
     "output_type": "stream",
     "text": [
      "{'w1': 0.5566500967221929, 'w2': 0.7033732345225314, 'threshold': 0.64}\n"
     ]
    },
    {
     "name": "stderr",
     "output_type": "stream",
     "text": [
      "[I 2023-06-22 15:31:08,573] Trial 380 finished with value: 0.7034415602684021 and parameters: {'w1': 0.7014810508328488, 'w2': 0.6139481520453204}. Best is trial 130 with value: 0.7050297856330872.\n"
     ]
    },
    {
     "name": "stdout",
     "output_type": "stream",
     "text": [
      "{'w1': 0.7014810508328488, 'w2': 0.6139481520453204, 'threshold': 0.62}\n"
     ]
    },
    {
     "name": "stderr",
     "output_type": "stream",
     "text": [
      "[I 2023-06-22 15:31:10,751] Trial 381 finished with value: 0.7022755146026611 and parameters: {'w1': 0.1562287255756949, 'w2': 0.7266334244700227}. Best is trial 130 with value: 0.7050297856330872.\n"
     ]
    },
    {
     "name": "stdout",
     "output_type": "stream",
     "text": [
      "{'w1': 0.1562287255756949, 'w2': 0.7266334244700227, 'threshold': 0.69}\n"
     ]
    },
    {
     "name": "stderr",
     "output_type": "stream",
     "text": [
      "[I 2023-06-22 15:31:12,928] Trial 382 finished with value: 0.7035370469093323 and parameters: {'w1': 0.48613471076769954, 'w2': 0.7598710324169011}. Best is trial 130 with value: 0.7050297856330872.\n"
     ]
    },
    {
     "name": "stdout",
     "output_type": "stream",
     "text": [
      "{'w1': 0.48613471076769954, 'w2': 0.7598710324169011, 'threshold': 0.65}\n"
     ]
    },
    {
     "name": "stderr",
     "output_type": "stream",
     "text": [
      "[I 2023-06-22 15:31:15,106] Trial 383 finished with value: 0.703346312046051 and parameters: {'w1': 0.6322976077340836, 'w2': 0.7936517494759986}. Best is trial 130 with value: 0.7050297856330872.\n"
     ]
    },
    {
     "name": "stdout",
     "output_type": "stream",
     "text": [
      "{'w1': 0.6322976077340836, 'w2': 0.7936517494759986, 'threshold': 0.64}\n"
     ]
    },
    {
     "name": "stderr",
     "output_type": "stream",
     "text": [
      "[I 2023-06-22 15:31:17,284] Trial 384 finished with value: 0.7029698491096497 and parameters: {'w1': 0.668711469230625, 'w2': 0.5520063077282543}. Best is trial 130 with value: 0.7050297856330872.\n"
     ]
    },
    {
     "name": "stdout",
     "output_type": "stream",
     "text": [
      "{'w1': 0.668711469230625, 'w2': 0.5520063077282543, 'threshold': 0.61}\n"
     ]
    },
    {
     "name": "stderr",
     "output_type": "stream",
     "text": [
      "[I 2023-06-22 15:31:19,463] Trial 385 finished with value: 0.7022769451141357 and parameters: {'w1': 0.9830571970892131, 'w2': 0.6759187981480125}. Best is trial 130 with value: 0.7050297856330872.\n"
     ]
    },
    {
     "name": "stdout",
     "output_type": "stream",
     "text": [
      "{'w1': 0.9830571970892131, 'w2': 0.6759187981480125, 'threshold': 0.6}\n"
     ]
    },
    {
     "name": "stderr",
     "output_type": "stream",
     "text": [
      "[I 2023-06-22 15:31:21,659] Trial 386 finished with value: 0.7041335105895996 and parameters: {'w1': 0.750925692795717, 'w2': 0.7364145891993237}. Best is trial 130 with value: 0.7050297856330872.\n"
     ]
    },
    {
     "name": "stdout",
     "output_type": "stream",
     "text": [
      "{'w1': 0.750925692795717, 'w2': 0.7364145891993237, 'threshold': 0.62}\n"
     ]
    },
    {
     "name": "stderr",
     "output_type": "stream",
     "text": [
      "[I 2023-06-22 15:31:23,848] Trial 387 finished with value: 0.7043022513389587 and parameters: {'w1': 0.7288479349262045, 'w2': 0.7047861131494703}. Best is trial 130 with value: 0.7050297856330872.\n"
     ]
    },
    {
     "name": "stdout",
     "output_type": "stream",
     "text": [
      "{'w1': 0.7288479349262045, 'w2': 0.7047861131494703, 'threshold': 0.62}\n"
     ]
    },
    {
     "name": "stderr",
     "output_type": "stream",
     "text": [
      "[I 2023-06-22 15:31:26,038] Trial 388 finished with value: 0.7040860652923584 and parameters: {'w1': 0.6764858274420735, 'w2': 0.7754694556007902}. Best is trial 130 with value: 0.7050297856330872.\n"
     ]
    },
    {
     "name": "stdout",
     "output_type": "stream",
     "text": [
      "{'w1': 0.6764858274420735, 'w2': 0.7754694556007902, 'threshold': 0.63}\n"
     ]
    },
    {
     "name": "stderr",
     "output_type": "stream",
     "text": [
      "[I 2023-06-22 15:31:28,225] Trial 389 finished with value: 0.7042335867881775 and parameters: {'w1': 0.8326034543997574, 'w2': 0.8087045358848073}. Best is trial 130 with value: 0.7050297856330872.\n"
     ]
    },
    {
     "name": "stdout",
     "output_type": "stream",
     "text": [
      "{'w1': 0.8326034543997574, 'w2': 0.8087045358848073, 'threshold': 0.62}\n"
     ]
    },
    {
     "name": "stderr",
     "output_type": "stream",
     "text": [
      "[I 2023-06-22 15:31:30,404] Trial 390 finished with value: 0.6979482173919678 and parameters: {'w1': 0.7617857176904542, 'w2': 0.1396813456644307}. Best is trial 130 with value: 0.7050297856330872.\n"
     ]
    },
    {
     "name": "stdout",
     "output_type": "stream",
     "text": [
      "{'w1': 0.7617857176904542, 'w2': 0.1396813456644307, 'threshold': 0.59}\n"
     ]
    },
    {
     "name": "stderr",
     "output_type": "stream",
     "text": [
      "[I 2023-06-22 15:31:32,582] Trial 391 finished with value: 0.7037392854690552 and parameters: {'w1': 0.6413853138494253, 'w2': 0.7544333903500239}. Best is trial 130 with value: 0.7050297856330872.\n"
     ]
    },
    {
     "name": "stdout",
     "output_type": "stream",
     "text": [
      "{'w1': 0.6413853138494253, 'w2': 0.7544333903500239, 'threshold': 0.63}\n"
     ]
    },
    {
     "name": "stderr",
     "output_type": "stream",
     "text": [
      "[I 2023-06-22 15:31:34,761] Trial 392 finished with value: 0.7037827968597412 and parameters: {'w1': 0.7029761644401288, 'w2': 0.8227122918869187}. Best is trial 130 with value: 0.7050297856330872.\n"
     ]
    },
    {
     "name": "stdout",
     "output_type": "stream",
     "text": [
      "{'w1': 0.7029761644401288, 'w2': 0.8227122918869187, 'threshold': 0.63}\n"
     ]
    },
    {
     "name": "stderr",
     "output_type": "stream",
     "text": [
      "[I 2023-06-22 15:31:36,939] Trial 393 finished with value: 0.7041015625 and parameters: {'w1': 0.7404541572691412, 'w2': 0.7291295004613401}. Best is trial 130 with value: 0.7050297856330872.\n"
     ]
    },
    {
     "name": "stdout",
     "output_type": "stream",
     "text": [
      "{'w1': 0.7404541572691412, 'w2': 0.7291295004613401, 'threshold': 0.62}\n"
     ]
    },
    {
     "name": "stderr",
     "output_type": "stream",
     "text": [
      "[I 2023-06-22 15:31:39,117] Trial 394 finished with value: 0.7015789151191711 and parameters: {'w1': 0.6119219761489552, 'w2': 0.3718687964196483}. Best is trial 130 with value: 0.7050297856330872.\n"
     ]
    },
    {
     "name": "stdout",
     "output_type": "stream",
     "text": [
      "{'w1': 0.6119219761489552, 'w2': 0.3718687964196483, 'threshold': 0.6}\n"
     ]
    },
    {
     "name": "stderr",
     "output_type": "stream",
     "text": [
      "[I 2023-06-22 15:31:41,295] Trial 395 finished with value: 0.7031981348991394 and parameters: {'w1': 0.3053132147346815, 'w2': 0.625330284101186}. Best is trial 130 with value: 0.7050297856330872.\n"
     ]
    },
    {
     "name": "stdout",
     "output_type": "stream",
     "text": [
      "{'w1': 0.3053132147346815, 'w2': 0.625330284101186, 'threshold': 0.66}\n"
     ]
    },
    {
     "name": "stderr",
     "output_type": "stream",
     "text": [
      "[I 2023-06-22 15:31:43,473] Trial 396 finished with value: 0.7034617066383362 and parameters: {'w1': 0.505511489977307, 'w2': 0.7866081173515125}. Best is trial 130 with value: 0.7050297856330872.\n"
     ]
    },
    {
     "name": "stdout",
     "output_type": "stream",
     "text": [
      "{'w1': 0.505511489977307, 'w2': 0.7866081173515125, 'threshold': 0.65}\n"
     ]
    },
    {
     "name": "stderr",
     "output_type": "stream",
     "text": [
      "[I 2023-06-22 15:31:45,652] Trial 397 finished with value: 0.7026419639587402 and parameters: {'w1': 0.25180651492644157, 'w2': 0.6958175578404803}. Best is trial 130 with value: 0.7050297856330872.\n"
     ]
    },
    {
     "name": "stdout",
     "output_type": "stream",
     "text": [
      "{'w1': 0.25180651492644157, 'w2': 0.6958175578404803, 'threshold': 0.67}\n"
     ]
    },
    {
     "name": "stderr",
     "output_type": "stream",
     "text": [
      "[I 2023-06-22 15:31:47,831] Trial 398 finished with value: 0.7040997743606567 and parameters: {'w1': 0.6618364026666177, 'w2': 0.6519439151738894}. Best is trial 130 with value: 0.7050297856330872.\n"
     ]
    },
    {
     "name": "stdout",
     "output_type": "stream",
     "text": [
      "{'w1': 0.6618364026666177, 'w2': 0.6519439151738894, 'threshold': 0.62}\n"
     ]
    },
    {
     "name": "stderr",
     "output_type": "stream",
     "text": [
      "[I 2023-06-22 15:31:50,034] Trial 399 finished with value: 0.7034734487533569 and parameters: {'w1': 0.44761252241514604, 'w2': 0.7462518152061092}. Best is trial 130 with value: 0.7050297856330872.\n"
     ]
    },
    {
     "name": "stdout",
     "output_type": "stream",
     "text": [
      "{'w1': 0.44761252241514604, 'w2': 0.7462518152061092, 'threshold': 0.65}\n"
     ]
    },
    {
     "name": "stderr",
     "output_type": "stream",
     "text": [
      "[I 2023-06-22 15:31:52,233] Trial 400 finished with value: 0.7038550972938538 and parameters: {'w1': 0.7143127742774543, 'w2': 0.7699725535849923}. Best is trial 130 with value: 0.7050297856330872.\n"
     ]
    },
    {
     "name": "stdout",
     "output_type": "stream",
     "text": [
      "{'w1': 0.7143127742774543, 'w2': 0.7699725535849923, 'threshold': 0.63}\n"
     ]
    },
    {
     "name": "stderr",
     "output_type": "stream",
     "text": [
      "[I 2023-06-22 15:31:54,437] Trial 401 finished with value: 0.7016524076461792 and parameters: {'w1': 0.5366737623495037, 'w2': 0.3093522843784312}. Best is trial 130 with value: 0.7050297856330872.\n"
     ]
    },
    {
     "name": "stdout",
     "output_type": "stream",
     "text": [
      "{'w1': 0.5366737623495037, 'w2': 0.3093522843784312, 'threshold': 0.59}\n"
     ]
    },
    {
     "name": "stderr",
     "output_type": "stream",
     "text": [
      "[I 2023-06-22 15:31:56,630] Trial 402 finished with value: 0.7030758857727051 and parameters: {'w1': 0.6861880557538134, 'w2': 0.5769203099600337}. Best is trial 130 with value: 0.7050297856330872.\n"
     ]
    },
    {
     "name": "stdout",
     "output_type": "stream",
     "text": [
      "{'w1': 0.6861880557538134, 'w2': 0.5769203099600337, 'threshold': 0.62}\n"
     ]
    },
    {
     "name": "stderr",
     "output_type": "stream",
     "text": [
      "[I 2023-06-22 15:31:58,831] Trial 403 finished with value: 0.7034674882888794 and parameters: {'w1': 0.7759112148644574, 'w2': 0.6811464900194414}. Best is trial 130 with value: 0.7050297856330872.\n"
     ]
    },
    {
     "name": "stdout",
     "output_type": "stream",
     "text": [
      "{'w1': 0.7759112148644574, 'w2': 0.6811464900194414, 'threshold': 0.62}\n"
     ]
    },
    {
     "name": "stderr",
     "output_type": "stream",
     "text": [
      "[I 2023-06-22 15:32:01,028] Trial 404 finished with value: 0.7036237120628357 and parameters: {'w1': 0.8080362240742768, 'w2': 0.716551333138034}. Best is trial 130 with value: 0.7050297856330872.\n"
     ]
    },
    {
     "name": "stdout",
     "output_type": "stream",
     "text": [
      "{'w1': 0.8080362240742768, 'w2': 0.716551333138034, 'threshold': 0.62}\n"
     ]
    },
    {
     "name": "stderr",
     "output_type": "stream",
     "text": [
      "[I 2023-06-22 15:32:03,226] Trial 405 finished with value: 0.7034923434257507 and parameters: {'w1': 0.9126777143667198, 'w2': 0.8027758608740498}. Best is trial 130 with value: 0.7050297856330872.\n"
     ]
    },
    {
     "name": "stdout",
     "output_type": "stream",
     "text": [
      "{'w1': 0.9126777143667198, 'w2': 0.8027758608740498, 'threshold': 0.62}\n"
     ]
    },
    {
     "name": "stderr",
     "output_type": "stream",
     "text": [
      "[I 2023-06-22 15:32:05,412] Trial 406 finished with value: 0.7043472528457642 and parameters: {'w1': 0.6277580818090399, 'w2': 0.840910771539121}. Best is trial 130 with value: 0.7050297856330872.\n"
     ]
    },
    {
     "name": "stdout",
     "output_type": "stream",
     "text": [
      "{'w1': 0.6277580818090399, 'w2': 0.840910771539121, 'threshold': 0.64}\n"
     ]
    },
    {
     "name": "stderr",
     "output_type": "stream",
     "text": [
      "[I 2023-06-22 15:32:07,591] Trial 407 finished with value: 0.7030465006828308 and parameters: {'w1': 0.9014181864958892, 'w2': 0.756719889889784}. Best is trial 130 with value: 0.7050297856330872.\n"
     ]
    },
    {
     "name": "stdout",
     "output_type": "stream",
     "text": [
      "{'w1': 0.9014181864958892, 'w2': 0.756719889889784, 'threshold': 0.62}\n"
     ]
    },
    {
     "name": "stderr",
     "output_type": "stream",
     "text": [
      "[I 2023-06-22 15:32:09,770] Trial 408 finished with value: 0.6968712210655212 and parameters: {'w1': 0.4539333786031595, 'w2': 0.029604828361346702}. Best is trial 130 with value: 0.7050297856330872.\n"
     ]
    },
    {
     "name": "stdout",
     "output_type": "stream",
     "text": [
      "{'w1': 0.4539333786031595, 'w2': 0.029604828361346702, 'threshold': 0.6}\n"
     ]
    },
    {
     "name": "stderr",
     "output_type": "stream",
     "text": [
      "[I 2023-06-22 15:32:11,950] Trial 409 finished with value: 0.7033793330192566 and parameters: {'w1': 0.5851912221415325, 'w2': 0.5092717104667419}. Best is trial 130 with value: 0.7050297856330872.\n"
     ]
    },
    {
     "name": "stdout",
     "output_type": "stream",
     "text": [
      "{'w1': 0.5851912221415325, 'w2': 0.5092717104667419, 'threshold': 0.62}\n"
     ]
    },
    {
     "name": "stderr",
     "output_type": "stream",
     "text": [
      "[I 2023-06-22 15:32:14,129] Trial 410 finished with value: 0.7031503915786743 and parameters: {'w1': 0.724070421738338, 'w2': 0.5628753275287708}. Best is trial 130 with value: 0.7050297856330872.\n"
     ]
    },
    {
     "name": "stdout",
     "output_type": "stream",
     "text": [
      "{'w1': 0.724070421738338, 'w2': 0.5628753275287708, 'threshold': 0.61}\n"
     ]
    },
    {
     "name": "stderr",
     "output_type": "stream",
     "text": [
      "[I 2023-06-22 15:32:16,308] Trial 411 finished with value: 0.7042640447616577 and parameters: {'w1': 0.7563625266401903, 'w2': 0.7325420158119941}. Best is trial 130 with value: 0.7050297856330872.\n"
     ]
    },
    {
     "name": "stdout",
     "output_type": "stream",
     "text": [
      "{'w1': 0.7563625266401903, 'w2': 0.7325420158119941, 'threshold': 0.62}\n"
     ]
    },
    {
     "name": "stderr",
     "output_type": "stream",
     "text": [
      "[I 2023-06-22 15:32:18,487] Trial 412 finished with value: 0.704566240310669 and parameters: {'w1': 0.6965324916068957, 'w2': 0.7835455235089507}. Best is trial 130 with value: 0.7050297856330872.\n"
     ]
    },
    {
     "name": "stdout",
     "output_type": "stream",
     "text": [
      "{'w1': 0.6965324916068957, 'w2': 0.7835455235089507, 'threshold': 0.63}\n"
     ]
    },
    {
     "name": "stderr",
     "output_type": "stream",
     "text": [
      "[I 2023-06-22 15:32:20,666] Trial 413 finished with value: 0.704306423664093 and parameters: {'w1': 0.7060472419698636, 'w2': 0.781014393156045}. Best is trial 130 with value: 0.7050297856330872.\n"
     ]
    },
    {
     "name": "stdout",
     "output_type": "stream",
     "text": [
      "{'w1': 0.7060472419698636, 'w2': 0.781014393156045, 'threshold': 0.63}\n"
     ]
    },
    {
     "name": "stderr",
     "output_type": "stream",
     "text": [
      "[I 2023-06-22 15:32:22,846] Trial 414 finished with value: 0.7043476700782776 and parameters: {'w1': 0.7386786931664981, 'w2': 0.8204668105448434}. Best is trial 130 with value: 0.7050297856330872.\n"
     ]
    },
    {
     "name": "stdout",
     "output_type": "stream",
     "text": [
      "{'w1': 0.7386786931664981, 'w2': 0.8204668105448434, 'threshold': 0.63}\n"
     ]
    },
    {
     "name": "stderr",
     "output_type": "stream",
     "text": [
      "[I 2023-06-22 15:32:25,025] Trial 415 finished with value: 0.7038833498954773 and parameters: {'w1': 0.6863199930653526, 'w2': 0.7948229491510999}. Best is trial 130 with value: 0.7050297856330872.\n"
     ]
    },
    {
     "name": "stdout",
     "output_type": "stream",
     "text": [
      "{'w1': 0.6863199930653526, 'w2': 0.7948229491510999, 'threshold': 0.63}\n"
     ]
    },
    {
     "name": "stderr",
     "output_type": "stream",
     "text": [
      "[I 2023-06-22 15:32:27,205] Trial 416 finished with value: 0.704282820224762 and parameters: {'w1': 0.6962713572720305, 'w2': 0.7696970503305846}. Best is trial 130 with value: 0.7050297856330872.\n"
     ]
    },
    {
     "name": "stdout",
     "output_type": "stream",
     "text": [
      "{'w1': 0.6962713572720305, 'w2': 0.7696970503305846, 'threshold': 0.63}\n"
     ]
    },
    {
     "name": "stderr",
     "output_type": "stream",
     "text": [
      "[I 2023-06-22 15:32:29,387] Trial 417 finished with value: 0.7015405893325806 and parameters: {'w1': 0.7955506000505329, 'w2': 0.46158819147048535}. Best is trial 130 with value: 0.7050297856330872.\n"
     ]
    },
    {
     "name": "stdout",
     "output_type": "stream",
     "text": [
      "{'w1': 0.7955506000505329, 'w2': 0.46158819147048535, 'threshold': 0.59}\n"
     ]
    },
    {
     "name": "stderr",
     "output_type": "stream",
     "text": [
      "[I 2023-06-22 15:32:31,567] Trial 418 finished with value: 0.7040004134178162 and parameters: {'w1': 0.7275089613605756, 'w2': 0.7480059352539266}. Best is trial 130 with value: 0.7050297856330872.\n"
     ]
    },
    {
     "name": "stdout",
     "output_type": "stream",
     "text": [
      "{'w1': 0.7275089613605756, 'w2': 0.7480059352539266, 'threshold': 0.62}\n"
     ]
    },
    {
     "name": "stderr",
     "output_type": "stream",
     "text": [
      "[I 2023-06-22 15:32:33,746] Trial 419 finished with value: 0.7046440243721008 and parameters: {'w1': 0.865658158799629, 'w2': 0.8157022894340293}. Best is trial 130 with value: 0.7050297856330872.\n"
     ]
    },
    {
     "name": "stdout",
     "output_type": "stream",
     "text": [
      "{'w1': 0.865658158799629, 'w2': 0.8157022894340293, 'threshold': 0.62}\n"
     ]
    },
    {
     "name": "stderr",
     "output_type": "stream",
     "text": [
      "[I 2023-06-22 15:32:35,925] Trial 420 finished with value: 0.7047089338302612 and parameters: {'w1': 0.8729251970791706, 'w2': 0.825974386038019}. Best is trial 130 with value: 0.7050297856330872.\n"
     ]
    },
    {
     "name": "stdout",
     "output_type": "stream",
     "text": [
      "{'w1': 0.8729251970791706, 'w2': 0.825974386038019, 'threshold': 0.62}\n"
     ]
    },
    {
     "name": "stderr",
     "output_type": "stream",
     "text": [
      "[I 2023-06-22 15:32:38,106] Trial 421 finished with value: 0.7040534019470215 and parameters: {'w1': 0.857125207984153, 'w2': 0.8567984858764183}. Best is trial 130 with value: 0.7050297856330872.\n"
     ]
    },
    {
     "name": "stdout",
     "output_type": "stream",
     "text": [
      "{'w1': 0.857125207984153, 'w2': 0.8567984858764183, 'threshold': 0.62}\n"
     ]
    },
    {
     "name": "stderr",
     "output_type": "stream",
     "text": [
      "[I 2023-06-22 15:32:40,287] Trial 422 finished with value: 0.7043441534042358 and parameters: {'w1': 0.8641344019257985, 'w2': 0.8340129135762817}. Best is trial 130 with value: 0.7050297856330872.\n"
     ]
    },
    {
     "name": "stdout",
     "output_type": "stream",
     "text": [
      "{'w1': 0.8641344019257985, 'w2': 0.8340129135762817, 'threshold': 0.62}\n"
     ]
    },
    {
     "name": "stderr",
     "output_type": "stream",
     "text": [
      "[I 2023-06-22 15:32:42,479] Trial 423 finished with value: 0.7047127485275269 and parameters: {'w1': 0.8649832373414401, 'w2': 0.8185238126289897}. Best is trial 130 with value: 0.7050297856330872.\n"
     ]
    },
    {
     "name": "stdout",
     "output_type": "stream",
     "text": [
      "{'w1': 0.8649832373414401, 'w2': 0.8185238126289897, 'threshold': 0.62}\n"
     ]
    },
    {
     "name": "stderr",
     "output_type": "stream",
     "text": [
      "[I 2023-06-22 15:32:44,678] Trial 424 finished with value: 0.7040979266166687 and parameters: {'w1': 0.833265620942147, 'w2': 0.8203525913484258}. Best is trial 130 with value: 0.7050297856330872.\n"
     ]
    },
    {
     "name": "stdout",
     "output_type": "stream",
     "text": [
      "{'w1': 0.833265620942147, 'w2': 0.8203525913484258, 'threshold': 0.62}\n"
     ]
    },
    {
     "name": "stderr",
     "output_type": "stream",
     "text": [
      "[I 2023-06-22 15:32:46,861] Trial 425 finished with value: 0.7041022777557373 and parameters: {'w1': 0.8970774771340656, 'w2': 0.8843836472537524}. Best is trial 130 with value: 0.7050297856330872.\n"
     ]
    },
    {
     "name": "stdout",
     "output_type": "stream",
     "text": [
      "{'w1': 0.8970774771340656, 'w2': 0.8843836472537524, 'threshold': 0.62}\n"
     ]
    },
    {
     "name": "stderr",
     "output_type": "stream",
     "text": [
      "[I 2023-06-22 15:32:49,051] Trial 426 finished with value: 0.7046650052070618 and parameters: {'w1': 0.9045941878867315, 'w2': 0.8543166550709029}. Best is trial 130 with value: 0.7050297856330872.\n"
     ]
    },
    {
     "name": "stdout",
     "output_type": "stream",
     "text": [
      "{'w1': 0.9045941878867315, 'w2': 0.8543166550709029, 'threshold': 0.62}\n"
     ]
    },
    {
     "name": "stderr",
     "output_type": "stream",
     "text": [
      "[I 2023-06-22 15:32:51,236] Trial 427 finished with value: 0.704085648059845 and parameters: {'w1': 0.8819423666854117, 'w2': 0.8737065654725042}. Best is trial 130 with value: 0.7050297856330872.\n"
     ]
    },
    {
     "name": "stdout",
     "output_type": "stream",
     "text": [
      "{'w1': 0.8819423666854117, 'w2': 0.8737065654725042, 'threshold': 0.62}\n"
     ]
    },
    {
     "name": "stderr",
     "output_type": "stream",
     "text": [
      "[I 2023-06-22 15:32:53,416] Trial 428 finished with value: 0.7041652798652649 and parameters: {'w1': 0.884069952811802, 'w2': 0.8621996500782408}. Best is trial 130 with value: 0.7050297856330872.\n"
     ]
    },
    {
     "name": "stdout",
     "output_type": "stream",
     "text": [
      "{'w1': 0.884069952811802, 'w2': 0.8621996500782408, 'threshold': 0.62}\n"
     ]
    },
    {
     "name": "stderr",
     "output_type": "stream",
     "text": [
      "[I 2023-06-22 15:32:55,595] Trial 429 finished with value: 0.7042343020439148 and parameters: {'w1': 0.8704753950158678, 'w2': 0.8456555647655656}. Best is trial 130 with value: 0.7050297856330872.\n"
     ]
    },
    {
     "name": "stdout",
     "output_type": "stream",
     "text": [
      "{'w1': 0.8704753950158678, 'w2': 0.8456555647655656, 'threshold': 0.62}\n"
     ]
    },
    {
     "name": "stderr",
     "output_type": "stream",
     "text": [
      "[I 2023-06-22 15:32:57,774] Trial 430 finished with value: 0.70406174659729 and parameters: {'w1': 0.9156916253250962, 'w2': 0.8368126474712199}. Best is trial 130 with value: 0.7050297856330872.\n"
     ]
    },
    {
     "name": "stdout",
     "output_type": "stream",
     "text": [
      "{'w1': 0.9156916253250962, 'w2': 0.8368126474712199, 'threshold': 0.62}\n"
     ]
    },
    {
     "name": "stderr",
     "output_type": "stream",
     "text": [
      "[I 2023-06-22 15:32:59,953] Trial 431 finished with value: 0.7041072845458984 and parameters: {'w1': 0.876151457329288, 'w2': 0.8024315170109378}. Best is trial 130 with value: 0.7050297856330872.\n"
     ]
    },
    {
     "name": "stdout",
     "output_type": "stream",
     "text": [
      "{'w1': 0.876151457329288, 'w2': 0.8024315170109378, 'threshold': 0.62}\n"
     ]
    },
    {
     "name": "stderr",
     "output_type": "stream",
     "text": [
      "[I 2023-06-22 15:33:02,132] Trial 432 finished with value: 0.703467607498169 and parameters: {'w1': 0.9331894703580098, 'w2': 0.8192474202641095}. Best is trial 130 with value: 0.7050297856330872.\n"
     ]
    },
    {
     "name": "stdout",
     "output_type": "stream",
     "text": [
      "{'w1': 0.9331894703580098, 'w2': 0.8192474202641095, 'threshold': 0.62}\n"
     ]
    },
    {
     "name": "stderr",
     "output_type": "stream",
     "text": [
      "[I 2023-06-22 15:33:04,312] Trial 433 finished with value: 0.7041110992431641 and parameters: {'w1': 0.860808317154971, 'w2': 0.9421197314662818}. Best is trial 130 with value: 0.7050297856330872.\n"
     ]
    },
    {
     "name": "stdout",
     "output_type": "stream",
     "text": [
      "{'w1': 0.860808317154971, 'w2': 0.9421197314662818, 'threshold': 0.63}\n"
     ]
    },
    {
     "name": "stderr",
     "output_type": "stream",
     "text": [
      "[I 2023-06-22 15:33:06,494] Trial 434 finished with value: 0.7044568061828613 and parameters: {'w1': 0.9182046972122119, 'w2': 0.8556482862334672}. Best is trial 130 with value: 0.7050297856330872.\n"
     ]
    },
    {
     "name": "stdout",
     "output_type": "stream",
     "text": [
      "{'w1': 0.9182046972122119, 'w2': 0.8556482862334672, 'threshold': 0.62}\n"
     ]
    },
    {
     "name": "stderr",
     "output_type": "stream",
     "text": [
      "[I 2023-06-22 15:33:08,679] Trial 435 finished with value: 0.7044312953948975 and parameters: {'w1': 0.8966605365394267, 'w2': 0.8339540018748977}. Best is trial 130 with value: 0.7050297856330872.\n"
     ]
    },
    {
     "name": "stdout",
     "output_type": "stream",
     "text": [
      "{'w1': 0.8966605365394267, 'w2': 0.8339540018748977, 'threshold': 0.62}\n"
     ]
    },
    {
     "name": "stderr",
     "output_type": "stream",
     "text": [
      "[I 2023-06-22 15:33:10,882] Trial 436 finished with value: 0.7050172090530396 and parameters: {'w1': 0.8438478273107771, 'w2': 0.8073369619621222}. Best is trial 130 with value: 0.7050297856330872.\n"
     ]
    },
    {
     "name": "stdout",
     "output_type": "stream",
     "text": [
      "{'w1': 0.8438478273107771, 'w2': 0.8073369619621222, 'threshold': 0.62}\n"
     ]
    },
    {
     "name": "stderr",
     "output_type": "stream",
     "text": [
      "[I 2023-06-22 15:33:13,077] Trial 437 finished with value: 0.7042653560638428 and parameters: {'w1': 0.8329354863886818, 'w2': 0.8066833658976263}. Best is trial 130 with value: 0.7050297856330872.\n"
     ]
    },
    {
     "name": "stdout",
     "output_type": "stream",
     "text": [
      "{'w1': 0.8329354863886818, 'w2': 0.8066833658976263, 'threshold': 0.62}\n"
     ]
    },
    {
     "name": "stderr",
     "output_type": "stream",
     "text": [
      "[I 2023-06-22 15:33:15,282] Trial 438 finished with value: 0.7039302587509155 and parameters: {'w1': 0.8475843551567598, 'w2': 0.8753591017647514}. Best is trial 130 with value: 0.7050297856330872.\n"
     ]
    },
    {
     "name": "stdout",
     "output_type": "stream",
     "text": [
      "{'w1': 0.8475843551567598, 'w2': 0.8753591017647514, 'threshold': 0.62}\n"
     ]
    },
    {
     "name": "stderr",
     "output_type": "stream",
     "text": [
      "[I 2023-06-22 15:33:17,488] Trial 439 finished with value: 0.7036676406860352 and parameters: {'w1': 0.8504120375772701, 'w2': 0.8997665425054168}. Best is trial 130 with value: 0.7050297856330872.\n"
     ]
    },
    {
     "name": "stdout",
     "output_type": "stream",
     "text": [
      "{'w1': 0.8504120375772701, 'w2': 0.8997665425054168, 'threshold': 0.63}\n"
     ]
    },
    {
     "name": "stderr",
     "output_type": "stream",
     "text": [
      "[I 2023-06-22 15:33:19,691] Trial 440 finished with value: 0.7038209438323975 and parameters: {'w1': 0.8933221266511532, 'w2': 0.9261936646961998}. Best is trial 130 with value: 0.7050297856330872.\n"
     ]
    },
    {
     "name": "stdout",
     "output_type": "stream",
     "text": [
      "{'w1': 0.8933221266511532, 'w2': 0.9261936646961998, 'threshold': 0.62}\n"
     ]
    },
    {
     "name": "stderr",
     "output_type": "stream",
     "text": [
      "[I 2023-06-22 15:33:21,885] Trial 441 finished with value: 0.7036353349685669 and parameters: {'w1': 0.8191304247725013, 'w2': 0.8535606759817582}. Best is trial 130 with value: 0.7050297856330872.\n"
     ]
    },
    {
     "name": "stdout",
     "output_type": "stream",
     "text": [
      "{'w1': 0.8191304247725013, 'w2': 0.8535606759817582, 'threshold': 0.62}\n"
     ]
    },
    {
     "name": "stderr",
     "output_type": "stream",
     "text": [
      "[I 2023-06-22 15:33:24,079] Trial 442 finished with value: 0.704012393951416 and parameters: {'w1': 0.9563641349562491, 'w2': 0.9780931977088301}. Best is trial 130 with value: 0.7050297856330872.\n"
     ]
    },
    {
     "name": "stdout",
     "output_type": "stream",
     "text": [
      "{'w1': 0.9563641349562491, 'w2': 0.9780931977088301, 'threshold': 0.62}\n"
     ]
    },
    {
     "name": "stderr",
     "output_type": "stream",
     "text": [
      "[I 2023-06-22 15:33:26,270] Trial 443 finished with value: 0.7043694853782654 and parameters: {'w1': 0.8561526931898358, 'w2': 0.8254369975337839}. Best is trial 130 with value: 0.7050297856330872.\n"
     ]
    },
    {
     "name": "stdout",
     "output_type": "stream",
     "text": [
      "{'w1': 0.8561526931898358, 'w2': 0.8254369975337839, 'threshold': 0.62}\n"
     ]
    },
    {
     "name": "stderr",
     "output_type": "stream",
     "text": [
      "[I 2023-06-22 15:33:28,451] Trial 444 finished with value: 0.7043467164039612 and parameters: {'w1': 0.8603937319680756, 'w2': 0.7973007474881315}. Best is trial 130 with value: 0.7050297856330872.\n"
     ]
    },
    {
     "name": "stdout",
     "output_type": "stream",
     "text": [
      "{'w1': 0.8603937319680756, 'w2': 0.7973007474881315, 'threshold': 0.62}\n"
     ]
    },
    {
     "name": "stderr",
     "output_type": "stream",
     "text": [
      "[I 2023-06-22 15:33:30,631] Trial 445 finished with value: 0.7043459415435791 and parameters: {'w1': 0.8789711001119743, 'w2': 0.8142636252647867}. Best is trial 130 with value: 0.7050297856330872.\n"
     ]
    },
    {
     "name": "stdout",
     "output_type": "stream",
     "text": [
      "{'w1': 0.8789711001119743, 'w2': 0.8142636252647867, 'threshold': 0.62}\n"
     ]
    },
    {
     "name": "stderr",
     "output_type": "stream",
     "text": [
      "[I 2023-06-22 15:33:32,812] Trial 446 finished with value: 0.7039985060691833 and parameters: {'w1': 0.8177061901676475, 'w2': 0.8400373820117505}. Best is trial 130 with value: 0.7050297856330872.\n"
     ]
    },
    {
     "name": "stdout",
     "output_type": "stream",
     "text": [
      "{'w1': 0.8177061901676475, 'w2': 0.8400373820117505, 'threshold': 0.62}\n"
     ]
    },
    {
     "name": "stderr",
     "output_type": "stream",
     "text": [
      "[I 2023-06-22 15:33:34,996] Trial 447 finished with value: 0.7043724656105042 and parameters: {'w1': 0.84864597527325, 'w2': 0.7873003275839608}. Best is trial 130 with value: 0.7050297856330872.\n"
     ]
    },
    {
     "name": "stdout",
     "output_type": "stream",
     "text": [
      "{'w1': 0.84864597527325, 'w2': 0.7873003275839608, 'threshold': 0.62}\n"
     ]
    },
    {
     "name": "stderr",
     "output_type": "stream",
     "text": [
      "[I 2023-06-22 15:33:37,180] Trial 448 finished with value: 0.7040039896965027 and parameters: {'w1': 0.8853533000761469, 'w2': 0.908206757732165}. Best is trial 130 with value: 0.7050297856330872.\n"
     ]
    },
    {
     "name": "stdout",
     "output_type": "stream",
     "text": [
      "{'w1': 0.8853533000761469, 'w2': 0.908206757732165, 'threshold': 0.62}\n"
     ]
    },
    {
     "name": "stderr",
     "output_type": "stream",
     "text": [
      "[I 2023-06-22 15:33:39,370] Trial 449 finished with value: 0.7035863995552063 and parameters: {'w1': 0.9124904609810351, 'w2': 0.8076714478287438}. Best is trial 130 with value: 0.7050297856330872.\n"
     ]
    },
    {
     "name": "stdout",
     "output_type": "stream",
     "text": [
      "{'w1': 0.9124904609810351, 'w2': 0.8076714478287438, 'threshold': 0.62}\n"
     ]
    },
    {
     "name": "stderr",
     "output_type": "stream",
     "text": [
      "[I 2023-06-22 15:33:41,551] Trial 450 finished with value: 0.7036293148994446 and parameters: {'w1': 0.834919678739165, 'w2': 0.8704781059738227}. Best is trial 130 with value: 0.7050297856330872.\n"
     ]
    },
    {
     "name": "stdout",
     "output_type": "stream",
     "text": [
      "{'w1': 0.834919678739165, 'w2': 0.8704781059738227, 'threshold': 0.62}\n"
     ]
    },
    {
     "name": "stderr",
     "output_type": "stream",
     "text": [
      "[I 2023-06-22 15:33:43,739] Trial 451 finished with value: 0.7049946784973145 and parameters: {'w1': 0.8101555753867261, 'w2': 0.7731684236549929}. Best is trial 130 with value: 0.7050297856330872.\n"
     ]
    },
    {
     "name": "stdout",
     "output_type": "stream",
     "text": [
      "{'w1': 0.8101555753867261, 'w2': 0.7731684236549929, 'threshold': 0.62}\n"
     ]
    },
    {
     "name": "stderr",
     "output_type": "stream",
     "text": [
      "[I 2023-06-22 15:33:45,935] Trial 452 finished with value: 0.7043187022209167 and parameters: {'w1': 0.8146455853388438, 'w2': 0.7870745288366512}. Best is trial 130 with value: 0.7050297856330872.\n"
     ]
    },
    {
     "name": "stdout",
     "output_type": "stream",
     "text": [
      "{'w1': 0.8146455853388438, 'w2': 0.7870745288366512, 'threshold': 0.62}\n"
     ]
    },
    {
     "name": "stderr",
     "output_type": "stream",
     "text": [
      "[I 2023-06-22 15:33:48,130] Trial 453 finished with value: 0.704287588596344 and parameters: {'w1': 0.7977509910224013, 'w2': 0.7716493867196601}. Best is trial 130 with value: 0.7050297856330872.\n"
     ]
    },
    {
     "name": "stdout",
     "output_type": "stream",
     "text": [
      "{'w1': 0.7977509910224013, 'w2': 0.7716493867196601, 'threshold': 0.62}\n"
     ]
    },
    {
     "name": "stderr",
     "output_type": "stream",
     "text": [
      "[I 2023-06-22 15:33:50,325] Trial 454 finished with value: 0.7042796015739441 and parameters: {'w1': 0.8302840159852223, 'w2': 0.7663958559347915}. Best is trial 130 with value: 0.7050297856330872.\n"
     ]
    },
    {
     "name": "stdout",
     "output_type": "stream",
     "text": [
      "{'w1': 0.8302840159852223, 'w2': 0.7663958559347915, 'threshold': 0.62}\n"
     ]
    },
    {
     "name": "stderr",
     "output_type": "stream",
     "text": [
      "[I 2023-06-22 15:33:52,506] Trial 455 finished with value: 0.7042427659034729 and parameters: {'w1': 0.47404508850753646, 'w2': 0.7646797067832201}. Best is trial 130 with value: 0.7050297856330872.\n"
     ]
    },
    {
     "name": "stdout",
     "output_type": "stream",
     "text": [
      "{'w1': 0.47404508850753646, 'w2': 0.7646797067832201, 'threshold': 0.65}\n"
     ]
    },
    {
     "name": "stderr",
     "output_type": "stream",
     "text": [
      "[I 2023-06-22 15:33:54,686] Trial 456 finished with value: 0.7040271759033203 and parameters: {'w1': 0.7834479391516284, 'w2': 0.7974689568852532}. Best is trial 130 with value: 0.7050297856330872.\n"
     ]
    },
    {
     "name": "stdout",
     "output_type": "stream",
     "text": [
      "{'w1': 0.7834479391516284, 'w2': 0.7974689568852532, 'threshold': 0.62}\n"
     ]
    },
    {
     "name": "stderr",
     "output_type": "stream",
     "text": [
      "[I 2023-06-22 15:33:56,867] Trial 457 finished with value: 0.7033001184463501 and parameters: {'w1': 0.8714660940720372, 'w2': 0.7508501577351414}. Best is trial 130 with value: 0.7050297856330872.\n"
     ]
    },
    {
     "name": "stdout",
     "output_type": "stream",
     "text": [
      "{'w1': 0.8714660940720372, 'w2': 0.7508501577351414, 'threshold': 0.62}\n"
     ]
    },
    {
     "name": "stderr",
     "output_type": "stream",
     "text": [
      "[I 2023-06-22 15:33:59,047] Trial 458 finished with value: 0.7042595148086548 and parameters: {'w1': 0.8065621426091225, 'w2': 0.7813252561819364}. Best is trial 130 with value: 0.7050297856330872.\n"
     ]
    },
    {
     "name": "stdout",
     "output_type": "stream",
     "text": [
      "{'w1': 0.8065621426091225, 'w2': 0.7813252561819364, 'threshold': 0.62}\n"
     ]
    },
    {
     "name": "stderr",
     "output_type": "stream",
     "text": [
      "[I 2023-06-22 15:34:01,227] Trial 459 finished with value: 0.7011904120445251 and parameters: {'w1': 0.9000913671241713, 'w2': 0.4106428310147242}. Best is trial 130 with value: 0.7050297856330872.\n"
     ]
    },
    {
     "name": "stdout",
     "output_type": "stream",
     "text": [
      "{'w1': 0.9000913671241713, 'w2': 0.4106428310147242, 'threshold': 0.58}\n"
     ]
    },
    {
     "name": "stderr",
     "output_type": "stream",
     "text": [
      "[I 2023-06-22 15:34:03,407] Trial 460 finished with value: 0.7035951614379883 and parameters: {'w1': 0.7813894272723662, 'w2': 0.8213711670980495}. Best is trial 130 with value: 0.7050297856330872.\n"
     ]
    },
    {
     "name": "stdout",
     "output_type": "stream",
     "text": [
      "{'w1': 0.7813894272723662, 'w2': 0.8213711670980495, 'threshold': 0.63}\n"
     ]
    },
    {
     "name": "stderr",
     "output_type": "stream",
     "text": [
      "[I 2023-06-22 15:34:05,587] Trial 461 finished with value: 0.7033846378326416 and parameters: {'w1': 0.8480008078397275, 'w2': 0.7392445204543059}. Best is trial 130 with value: 0.7050297856330872.\n"
     ]
    },
    {
     "name": "stdout",
     "output_type": "stream",
     "text": [
      "{'w1': 0.8480008078397275, 'w2': 0.7392445204543059, 'threshold': 0.62}\n"
     ]
    },
    {
     "name": "stderr",
     "output_type": "stream",
     "text": [
      "[I 2023-06-22 15:34:07,767] Trial 462 finished with value: 0.7035045027732849 and parameters: {'w1': 0.4033116858721869, 'w2': 0.9609970153404155}. Best is trial 130 with value: 0.7050297856330872.\n"
     ]
    },
    {
     "name": "stdout",
     "output_type": "stream",
     "text": [
      "{'w1': 0.4033116858721869, 'w2': 0.9609970153404155, 'threshold': 0.67}\n"
     ]
    },
    {
     "name": "stderr",
     "output_type": "stream",
     "text": [
      "[I 2023-06-22 15:34:09,946] Trial 463 finished with value: 0.7044659852981567 and parameters: {'w1': 0.8194125461286886, 'w2': 0.7638520269137995}. Best is trial 130 with value: 0.7050297856330872.\n"
     ]
    },
    {
     "name": "stdout",
     "output_type": "stream",
     "text": [
      "{'w1': 0.8194125461286886, 'w2': 0.7638520269137995, 'threshold': 0.62}\n"
     ]
    },
    {
     "name": "stderr",
     "output_type": "stream",
     "text": [
      "[I 2023-06-22 15:34:12,126] Trial 464 finished with value: 0.7034744024276733 and parameters: {'w1': 0.5154047392125327, 'w2': 0.8028261527333591}. Best is trial 130 with value: 0.7050297856330872.\n"
     ]
    },
    {
     "name": "stdout",
     "output_type": "stream",
     "text": [
      "{'w1': 0.5154047392125327, 'w2': 0.8028261527333591, 'threshold': 0.65}\n"
     ]
    },
    {
     "name": "stderr",
     "output_type": "stream",
     "text": [
      "[I 2023-06-22 15:34:14,307] Trial 465 finished with value: 0.702073872089386 and parameters: {'w1': 0.7672544549082961, 'w2': 0.49137444923390067}. Best is trial 130 with value: 0.7050297856330872.\n"
     ]
    },
    {
     "name": "stdout",
     "output_type": "stream",
     "text": [
      "{'w1': 0.7672544549082961, 'w2': 0.49137444923390067, 'threshold': 0.6}\n"
     ]
    },
    {
     "name": "stderr",
     "output_type": "stream",
     "text": [
      "[I 2023-06-22 15:34:16,498] Trial 466 finished with value: 0.7044825553894043 and parameters: {'w1': 0.8386515082075467, 'w2': 0.7825722376173513}. Best is trial 130 with value: 0.7050297856330872.\n"
     ]
    },
    {
     "name": "stdout",
     "output_type": "stream",
     "text": [
      "{'w1': 0.8386515082075467, 'w2': 0.7825722376173513, 'threshold': 0.62}\n"
     ]
    },
    {
     "name": "stderr",
     "output_type": "stream",
     "text": [
      "[I 2023-06-22 15:34:18,679] Trial 467 finished with value: 0.7039658427238464 and parameters: {'w1': 0.7966131144946562, 'w2': 0.7236782827607036}. Best is trial 130 with value: 0.7050297856330872.\n"
     ]
    },
    {
     "name": "stdout",
     "output_type": "stream",
     "text": [
      "{'w1': 0.7966131144946562, 'w2': 0.7236782827607036, 'threshold': 0.62}\n"
     ]
    },
    {
     "name": "stderr",
     "output_type": "stream",
     "text": [
      "[I 2023-06-22 15:34:20,861] Trial 468 finished with value: 0.704323947429657 and parameters: {'w1': 0.7620123434848415, 'w2': 0.8449554906495602}. Best is trial 130 with value: 0.7050297856330872.\n"
     ]
    },
    {
     "name": "stdout",
     "output_type": "stream",
     "text": [
      "{'w1': 0.7620123434848415, 'w2': 0.8449554906495602, 'threshold': 0.63}\n"
     ]
    },
    {
     "name": "stderr",
     "output_type": "stream",
     "text": [
      "[I 2023-06-22 15:34:23,048] Trial 469 finished with value: 0.7031934857368469 and parameters: {'w1': 0.43109465567628535, 'w2': 0.7468611738466336}. Best is trial 130 with value: 0.7050297856330872.\n"
     ]
    },
    {
     "name": "stdout",
     "output_type": "stream",
     "text": [
      "{'w1': 0.43109465567628535, 'w2': 0.7468611738466336, 'threshold': 0.65}\n"
     ]
    },
    {
     "name": "stderr",
     "output_type": "stream",
     "text": [
      "[I 2023-06-22 15:34:25,251] Trial 470 finished with value: 0.7041030526161194 and parameters: {'w1': 0.8994456009157206, 'w2': 0.8233101851594065}. Best is trial 130 with value: 0.7050297856330872.\n"
     ]
    },
    {
     "name": "stdout",
     "output_type": "stream",
     "text": [
      "{'w1': 0.8994456009157206, 'w2': 0.8233101851594065, 'threshold': 0.62}\n"
     ]
    },
    {
     "name": "stderr",
     "output_type": "stream",
     "text": [
      "[I 2023-06-22 15:34:27,437] Trial 471 finished with value: 0.7036005854606628 and parameters: {'w1': 0.4641128448085511, 'w2': 0.7659636053081126}. Best is trial 130 with value: 0.7050297856330872.\n"
     ]
    },
    {
     "name": "stdout",
     "output_type": "stream",
     "text": [
      "{'w1': 0.4641128448085511, 'w2': 0.7659636053081126, 'threshold': 0.65}\n"
     ]
    },
    {
     "name": "stderr",
     "output_type": "stream",
     "text": [
      "[I 2023-06-22 15:34:29,620] Trial 472 finished with value: 0.7044656872749329 and parameters: {'w1': 0.5490810501165739, 'w2': 0.8911080388597693}. Best is trial 130 with value: 0.7050297856330872.\n"
     ]
    },
    {
     "name": "stdout",
     "output_type": "stream",
     "text": [
      "{'w1': 0.5490810501165739, 'w2': 0.8911080388597693, 'threshold': 0.65}\n"
     ]
    },
    {
     "name": "stderr",
     "output_type": "stream",
     "text": [
      "[I 2023-06-22 15:34:31,801] Trial 473 finished with value: 0.699073076248169 and parameters: {'w1': 0.8681984358326851, 'w2': 0.24848254988715734}. Best is trial 130 with value: 0.7050297856330872.\n"
     ]
    },
    {
     "name": "stdout",
     "output_type": "stream",
     "text": [
      "{'w1': 0.8681984358326851, 'w2': 0.24848254988715734, 'threshold': 0.56}\n"
     ]
    },
    {
     "name": "stderr",
     "output_type": "stream",
     "text": [
      "[I 2023-06-22 15:34:33,981] Trial 474 finished with value: 0.7023394703865051 and parameters: {'w1': 0.08603437409322279, 'w2': 0.510952530230042}. Best is trial 130 with value: 0.7050297856330872.\n"
     ]
    },
    {
     "name": "stdout",
     "output_type": "stream",
     "text": [
      "{'w1': 0.08603437409322279, 'w2': 0.510952530230042, 'threshold': 0.7}\n"
     ]
    },
    {
     "name": "stderr",
     "output_type": "stream",
     "text": [
      "[I 2023-06-22 15:34:36,161] Trial 475 finished with value: 0.7013592720031738 and parameters: {'w1': 0.9313436769219869, 'w2': 0.43312918215800467}. Best is trial 130 with value: 0.7050297856330872.\n"
     ]
    },
    {
     "name": "stdout",
     "output_type": "stream",
     "text": [
      "{'w1': 0.9313436769219869, 'w2': 0.43312918215800467, 'threshold': 0.58}\n"
     ]
    },
    {
     "name": "stderr",
     "output_type": "stream",
     "text": [
      "[I 2023-06-22 15:34:38,341] Trial 476 finished with value: 0.703179121017456 and parameters: {'w1': 0.9511772621433039, 'w2': 0.8094390933553257}. Best is trial 130 with value: 0.7050297856330872.\n"
     ]
    },
    {
     "name": "stdout",
     "output_type": "stream",
     "text": [
      "{'w1': 0.9511772621433039, 'w2': 0.8094390933553257, 'threshold': 0.62}\n"
     ]
    },
    {
     "name": "stderr",
     "output_type": "stream",
     "text": [
      "[I 2023-06-22 15:34:40,524] Trial 477 finished with value: 0.6985869407653809 and parameters: {'w1': 0.483936725602757, 'w2': 0.12366276960152967}. Best is trial 130 with value: 0.7050297856330872.\n"
     ]
    },
    {
     "name": "stdout",
     "output_type": "stream",
     "text": [
      "{'w1': 0.483936725602757, 'w2': 0.12366276960152967, 'threshold': 0.59}\n"
     ]
    },
    {
     "name": "stderr",
     "output_type": "stream",
     "text": [
      "[I 2023-06-22 15:34:42,728] Trial 478 finished with value: 0.704315721988678 and parameters: {'w1': 0.8173981542949812, 'w2': 0.790039201515531}. Best is trial 130 with value: 0.7050297856330872.\n"
     ]
    },
    {
     "name": "stdout",
     "output_type": "stream",
     "text": [
      "{'w1': 0.8173981542949812, 'w2': 0.790039201515531, 'threshold': 0.62}\n"
     ]
    },
    {
     "name": "stderr",
     "output_type": "stream",
     "text": [
      "[I 2023-06-22 15:34:44,924] Trial 479 finished with value: 0.7036131024360657 and parameters: {'w1': 0.5695989959701155, 'w2': 0.7331306605754436}. Best is trial 130 with value: 0.7050297856330872.\n"
     ]
    },
    {
     "name": "stdout",
     "output_type": "stream",
     "text": [
      "{'w1': 0.5695989959701155, 'w2': 0.7331306605754436, 'threshold': 0.64}\n"
     ]
    },
    {
     "name": "stderr",
     "output_type": "stream",
     "text": [
      "[I 2023-06-22 15:34:47,119] Trial 480 finished with value: 0.7036446332931519 and parameters: {'w1': 0.3825842334418121, 'w2': 0.7579457841223912}. Best is trial 130 with value: 0.7050297856330872.\n"
     ]
    },
    {
     "name": "stdout",
     "output_type": "stream",
     "text": [
      "{'w1': 0.3825842334418121, 'w2': 0.7579457841223912, 'threshold': 0.66}\n"
     ]
    },
    {
     "name": "stderr",
     "output_type": "stream",
     "text": [
      "[I 2023-06-22 15:34:49,309] Trial 481 finished with value: 0.7037321329116821 and parameters: {'w1': 0.7868191580702877, 'w2': 0.926517030601579}. Best is trial 130 with value: 0.7050297856330872.\n"
     ]
    },
    {
     "name": "stdout",
     "output_type": "stream",
     "text": [
      "{'w1': 0.7868191580702877, 'w2': 0.926517030601579, 'threshold': 0.63}\n"
     ]
    },
    {
     "name": "stderr",
     "output_type": "stream",
     "text": [
      "[I 2023-06-22 15:34:51,506] Trial 482 finished with value: 0.704492449760437 and parameters: {'w1': 0.767385428052733, 'w2': 0.7167390423045086}. Best is trial 130 with value: 0.7050297856330872.\n"
     ]
    },
    {
     "name": "stdout",
     "output_type": "stream",
     "text": [
      "{'w1': 0.767385428052733, 'w2': 0.7167390423045086, 'threshold': 0.62}\n"
     ]
    },
    {
     "name": "stderr",
     "output_type": "stream",
     "text": [
      "[I 2023-06-22 15:34:53,697] Trial 483 finished with value: 0.7043871879577637 and parameters: {'w1': 0.7498172832983016, 'w2': 0.8349732314590109}. Best is trial 130 with value: 0.7050297856330872.\n"
     ]
    },
    {
     "name": "stdout",
     "output_type": "stream",
     "text": [
      "{'w1': 0.7498172832983016, 'w2': 0.8349732314590109, 'threshold': 0.63}\n"
     ]
    },
    {
     "name": "stderr",
     "output_type": "stream",
     "text": [
      "[I 2023-06-22 15:34:55,879] Trial 484 finished with value: 0.7043458223342896 and parameters: {'w1': 0.8408400642904426, 'w2': 0.7789318399338964}. Best is trial 130 with value: 0.7050297856330872.\n"
     ]
    },
    {
     "name": "stdout",
     "output_type": "stream",
     "text": [
      "{'w1': 0.8408400642904426, 'w2': 0.7789318399338964, 'threshold': 0.62}\n"
     ]
    },
    {
     "name": "stderr",
     "output_type": "stream",
     "text": [
      "[I 2023-06-22 15:34:58,060] Trial 485 finished with value: 0.703761637210846 and parameters: {'w1': 0.7363250924525638, 'w2': 0.8631557939873906}. Best is trial 130 with value: 0.7050297856330872.\n"
     ]
    },
    {
     "name": "stdout",
     "output_type": "stream",
     "text": [
      "{'w1': 0.7363250924525638, 'w2': 0.8631557939873906, 'threshold': 0.63}\n"
     ]
    },
    {
     "name": "stderr",
     "output_type": "stream",
     "text": [
      "[I 2023-06-22 15:35:00,241] Trial 486 finished with value: 0.7039675116539001 and parameters: {'w1': 0.8770382014684576, 'w2': 0.7966619151172633}. Best is trial 130 with value: 0.7050297856330872.\n"
     ]
    },
    {
     "name": "stdout",
     "output_type": "stream",
     "text": [
      "{'w1': 0.8770382014684576, 'w2': 0.7966619151172633, 'threshold': 0.62}\n"
     ]
    },
    {
     "name": "stderr",
     "output_type": "stream",
     "text": [
      "[I 2023-06-22 15:35:02,421] Trial 487 finished with value: 0.7043642997741699 and parameters: {'w1': 0.801252809399708, 'w2': 0.7430987809618336}. Best is trial 130 with value: 0.7050297856330872.\n"
     ]
    },
    {
     "name": "stdout",
     "output_type": "stream",
     "text": [
      "{'w1': 0.801252809399708, 'w2': 0.7430987809618336, 'threshold': 0.62}\n"
     ]
    },
    {
     "name": "stderr",
     "output_type": "stream",
     "text": [
      "[I 2023-06-22 15:35:04,601] Trial 488 finished with value: 0.703439474105835 and parameters: {'w1': 0.4979067904936386, 'w2': 0.7121233421966847}. Best is trial 130 with value: 0.7050297856330872.\n"
     ]
    },
    {
     "name": "stdout",
     "output_type": "stream",
     "text": [
      "{'w1': 0.4979067904936386, 'w2': 0.7121233421966847, 'threshold': 0.64}\n"
     ]
    },
    {
     "name": "stderr",
     "output_type": "stream",
     "text": [
      "[I 2023-06-22 15:35:06,781] Trial 489 finished with value: 0.7029862999916077 and parameters: {'w1': 0.4542040907403915, 'w2': 0.8161841031188413}. Best is trial 130 with value: 0.7050297856330872.\n"
     ]
    },
    {
     "name": "stdout",
     "output_type": "stream",
     "text": [
      "{'w1': 0.4542040907403915, 'w2': 0.8161841031188413, 'threshold': 0.65}\n"
     ]
    },
    {
     "name": "stderr",
     "output_type": "stream",
     "text": [
      "[I 2023-06-22 15:35:08,962] Trial 490 finished with value: 0.703291654586792 and parameters: {'w1': 0.24588789286106105, 'w2': 0.3783375602201367}. Best is trial 130 with value: 0.7050297856330872.\n"
     ]
    },
    {
     "name": "stdout",
     "output_type": "stream",
     "text": [
      "{'w1': 0.24588789286106105, 'w2': 0.3783375602201367, 'threshold': 0.65}\n"
     ]
    },
    {
     "name": "stderr",
     "output_type": "stream",
     "text": [
      "[I 2023-06-22 15:35:11,142] Trial 491 finished with value: 0.7037590742111206 and parameters: {'w1': 0.7150471162208409, 'w2': 0.764860229120262}. Best is trial 130 with value: 0.7050297856330872.\n"
     ]
    },
    {
     "name": "stdout",
     "output_type": "stream",
     "text": [
      "{'w1': 0.7150471162208409, 'w2': 0.764860229120262, 'threshold': 0.63}\n"
     ]
    },
    {
     "name": "stderr",
     "output_type": "stream",
     "text": [
      "[I 2023-06-22 15:35:13,322] Trial 492 finished with value: 0.7043845653533936 and parameters: {'w1': 0.913490971021, 'w2': 0.8482043354663161}. Best is trial 130 with value: 0.7050297856330872.\n"
     ]
    },
    {
     "name": "stdout",
     "output_type": "stream",
     "text": [
      "{'w1': 0.913490971021, 'w2': 0.8482043354663161, 'threshold': 0.62}\n"
     ]
    },
    {
     "name": "stderr",
     "output_type": "stream",
     "text": [
      "[I 2023-06-22 15:35:15,503] Trial 493 finished with value: 0.7031856775283813 and parameters: {'w1': 0.8603937417415747, 'w2': 0.7328492167552387}. Best is trial 130 with value: 0.7050297856330872.\n"
     ]
    },
    {
     "name": "stdout",
     "output_type": "stream",
     "text": [
      "{'w1': 0.8603937417415747, 'w2': 0.7328492167552387, 'threshold': 0.62}\n"
     ]
    },
    {
     "name": "stderr",
     "output_type": "stream",
     "text": [
      "[I 2023-06-22 15:35:17,684] Trial 494 finished with value: 0.697516679763794 and parameters: {'w1': 0.7740764872556585, 'w2': 0.10481343661906328}. Best is trial 130 with value: 0.7050297856330872.\n"
     ]
    },
    {
     "name": "stdout",
     "output_type": "stream",
     "text": [
      "{'w1': 0.7740764872556585, 'w2': 0.10481343661906328, 'threshold': 0.6}\n"
     ]
    },
    {
     "name": "stderr",
     "output_type": "stream",
     "text": [
      "[I 2023-06-22 15:35:19,864] Trial 495 finished with value: 0.7050744295120239 and parameters: {'w1': 0.8215670914813088, 'w2': 0.7850187113796308}. Best is trial 495 with value: 0.7050744295120239.\n"
     ]
    },
    {
     "name": "stdout",
     "output_type": "stream",
     "text": [
      "{'w1': 0.8215670914813088, 'w2': 0.7850187113796308, 'threshold': 0.62}\n"
     ]
    },
    {
     "name": "stderr",
     "output_type": "stream",
     "text": [
      "[I 2023-06-22 15:35:22,045] Trial 496 finished with value: 0.7015458941459656 and parameters: {'w1': 0.013042323825510294, 'w2': 0.16018979290208335}. Best is trial 495 with value: 0.7050744295120239.\n"
     ]
    },
    {
     "name": "stdout",
     "output_type": "stream",
     "text": [
      "{'w1': 0.013042323825510294, 'w2': 0.16018979290208335, 'threshold': 0.71}\n"
     ]
    },
    {
     "name": "stderr",
     "output_type": "stream",
     "text": [
      "[I 2023-06-22 15:35:24,225] Trial 497 finished with value: 0.704308271408081 and parameters: {'w1': 0.8035459865051044, 'w2': 0.7768682527920242}. Best is trial 495 with value: 0.7050744295120239.\n"
     ]
    },
    {
     "name": "stdout",
     "output_type": "stream",
     "text": [
      "{'w1': 0.8035459865051044, 'w2': 0.7768682527920242, 'threshold': 0.62}\n"
     ]
    },
    {
     "name": "stderr",
     "output_type": "stream",
     "text": [
      "[I 2023-06-22 15:35:26,412] Trial 498 finished with value: 0.7038583755493164 and parameters: {'w1': 0.8338907143908157, 'w2': 0.752546217739108}. Best is trial 495 with value: 0.7050744295120239.\n"
     ]
    },
    {
     "name": "stdout",
     "output_type": "stream",
     "text": [
      "{'w1': 0.8338907143908157, 'w2': 0.752546217739108, 'threshold': 0.62}\n"
     ]
    },
    {
     "name": "stderr",
     "output_type": "stream",
     "text": [
      "[I 2023-06-22 15:35:28,599] Trial 499 finished with value: 0.7042183876037598 and parameters: {'w1': 0.16162834510175672, 'w2': 0.2605903188869035}. Best is trial 495 with value: 0.7050744295120239.\n"
     ]
    },
    {
     "name": "stdout",
     "output_type": "stream",
     "text": [
      "{'w1': 0.16162834510175672, 'w2': 0.2605903188869035, 'threshold': 0.65}\n"
     ]
    },
    {
     "name": "stderr",
     "output_type": "stream",
     "text": [
      "[I 2023-06-22 15:35:30,792] Trial 500 finished with value: 0.7043235898017883 and parameters: {'w1': 0.8198951846829171, 'w2': 0.791926577024471}. Best is trial 495 with value: 0.7050744295120239.\n"
     ]
    },
    {
     "name": "stdout",
     "output_type": "stream",
     "text": [
      "{'w1': 0.8198951846829171, 'w2': 0.791926577024471, 'threshold': 0.62}\n"
     ]
    },
    {
     "name": "stderr",
     "output_type": "stream",
     "text": [
      "[I 2023-06-22 15:35:32,988] Trial 501 finished with value: 0.7038894891738892 and parameters: {'w1': 0.5372161238792909, 'w2': 0.7013104830525194}. Best is trial 495 with value: 0.7050744295120239.\n"
     ]
    },
    {
     "name": "stdout",
     "output_type": "stream",
     "text": [
      "{'w1': 0.5372161238792909, 'w2': 0.7013104830525194, 'threshold': 0.64}\n"
     ]
    },
    {
     "name": "stderr",
     "output_type": "stream",
     "text": [
      "[I 2023-06-22 15:35:35,181] Trial 502 finished with value: 0.7042374014854431 and parameters: {'w1': 0.7764316527661891, 'w2': 0.7529335203119675}. Best is trial 495 with value: 0.7050744295120239.\n"
     ]
    },
    {
     "name": "stdout",
     "output_type": "stream",
     "text": [
      "{'w1': 0.7764316527661891, 'w2': 0.7529335203119675, 'threshold': 0.62}\n"
     ]
    },
    {
     "name": "stderr",
     "output_type": "stream",
     "text": [
      "[I 2023-06-22 15:35:37,368] Trial 503 finished with value: 0.7039912939071655 and parameters: {'w1': 0.7527975624949068, 'w2': 0.7726479204039292}. Best is trial 495 with value: 0.7050744295120239.\n"
     ]
    },
    {
     "name": "stdout",
     "output_type": "stream",
     "text": [
      "{'w1': 0.7527975624949068, 'w2': 0.7726479204039292, 'threshold': 0.62}\n"
     ]
    },
    {
     "name": "stderr",
     "output_type": "stream",
     "text": [
      "[I 2023-06-22 15:35:39,557] Trial 504 finished with value: 0.6972926259040833 and parameters: {'w1': 0.7935877955335667, 'w2': 0.08846958661794535}. Best is trial 495 with value: 0.7050744295120239.\n"
     ]
    },
    {
     "name": "stdout",
     "output_type": "stream",
     "text": [
      "{'w1': 0.7935877955335667, 'w2': 0.08846958661794535, 'threshold': 0.6}\n"
     ]
    },
    {
     "name": "stderr",
     "output_type": "stream",
     "text": [
      "[I 2023-06-22 15:35:41,746] Trial 505 finished with value: 0.7008894085884094 and parameters: {'w1': 0.7422246665427901, 'w2': 0.33015952167582907}. Best is trial 495 with value: 0.7050744295120239.\n"
     ]
    },
    {
     "name": "stdout",
     "output_type": "stream",
     "text": [
      "{'w1': 0.7422246665427901, 'w2': 0.33015952167582907, 'threshold': 0.58}\n"
     ]
    },
    {
     "name": "stderr",
     "output_type": "stream",
     "text": [
      "[I 2023-06-22 15:35:43,927] Trial 506 finished with value: 0.7037107944488525 and parameters: {'w1': 0.6824414911403373, 'w2': 0.7263892420499154}. Best is trial 495 with value: 0.7050744295120239.\n"
     ]
    },
    {
     "name": "stdout",
     "output_type": "stream",
     "text": [
      "{'w1': 0.6824414911403373, 'w2': 0.7263892420499154, 'threshold': 0.63}\n"
     ]
    },
    {
     "name": "stderr",
     "output_type": "stream",
     "text": [
      "[I 2023-06-22 15:35:46,108] Trial 507 finished with value: 0.703315794467926 and parameters: {'w1': 0.7236413634317169, 'w2': 0.9061822791416951}. Best is trial 495 with value: 0.7050744295120239.\n"
     ]
    },
    {
     "name": "stdout",
     "output_type": "stream",
     "text": [
      "{'w1': 0.7236413634317169, 'w2': 0.9061822791416951, 'threshold': 0.64}\n"
     ]
    },
    {
     "name": "stderr",
     "output_type": "stream",
     "text": [
      "[I 2023-06-22 15:35:48,289] Trial 508 finished with value: 0.7032232284545898 and parameters: {'w1': 0.5208658341360162, 'w2': 0.7964853437207903}. Best is trial 495 with value: 0.7050744295120239.\n"
     ]
    },
    {
     "name": "stdout",
     "output_type": "stream",
     "text": [
      "{'w1': 0.5208658341360162, 'w2': 0.7964853437207903, 'threshold': 0.65}\n"
     ]
    },
    {
     "name": "stderr",
     "output_type": "stream",
     "text": [
      "[I 2023-06-22 15:35:50,470] Trial 509 finished with value: 0.7048556804656982 and parameters: {'w1': 0.7895129256399334, 'w2': 0.7506870706708275}. Best is trial 495 with value: 0.7050744295120239.\n"
     ]
    },
    {
     "name": "stdout",
     "output_type": "stream",
     "text": [
      "{'w1': 0.7895129256399334, 'w2': 0.7506870706708275, 'threshold': 0.62}\n"
     ]
    },
    {
     "name": "stderr",
     "output_type": "stream",
     "text": [
      "[I 2023-06-22 15:35:52,651] Trial 510 finished with value: 0.7020823955535889 and parameters: {'w1': 0.8201538086756054, 'w2': 0.525940315377368}. Best is trial 495 with value: 0.7050744295120239.\n"
     ]
    },
    {
     "name": "stdout",
     "output_type": "stream",
     "text": [
      "{'w1': 0.8201538086756054, 'w2': 0.525940315377368, 'threshold': 0.6}\n"
     ]
    },
    {
     "name": "stderr",
     "output_type": "stream",
     "text": [
      "[I 2023-06-22 15:35:54,832] Trial 511 finished with value: 0.7044932842254639 and parameters: {'w1': 0.7914126533849303, 'w2': 0.739211060679957}. Best is trial 495 with value: 0.7050744295120239.\n"
     ]
    },
    {
     "name": "stdout",
     "output_type": "stream",
     "text": [
      "{'w1': 0.7914126533849303, 'w2': 0.739211060679957, 'threshold': 0.62}\n"
     ]
    },
    {
     "name": "stderr",
     "output_type": "stream",
     "text": [
      "[I 2023-06-22 15:35:57,013] Trial 512 finished with value: 0.7013439536094666 and parameters: {'w1': 0.767227473212002, 'w2': 0.403833936286831}. Best is trial 495 with value: 0.7050744295120239.\n"
     ]
    },
    {
     "name": "stdout",
     "output_type": "stream",
     "text": [
      "{'w1': 0.767227473212002, 'w2': 0.403833936286831, 'threshold': 0.59}\n"
     ]
    },
    {
     "name": "stderr",
     "output_type": "stream",
     "text": [
      "[I 2023-06-22 15:35:59,193] Trial 513 finished with value: 0.7013798356056213 and parameters: {'w1': 0.8001930880487286, 'w2': 0.42290961289711065}. Best is trial 495 with value: 0.7050744295120239.\n"
     ]
    },
    {
     "name": "stdout",
     "output_type": "stream",
     "text": [
      "{'w1': 0.8001930880487286, 'w2': 0.42290961289711065, 'threshold': 0.59}\n"
     ]
    },
    {
     "name": "stderr",
     "output_type": "stream",
     "text": [
      "[I 2023-06-22 15:36:01,374] Trial 514 finished with value: 0.702096700668335 and parameters: {'w1': 0.7832090219194032, 'w2': 0.5471164784872937}. Best is trial 495 with value: 0.7050744295120239.\n"
     ]
    },
    {
     "name": "stdout",
     "output_type": "stream",
     "text": [
      "{'w1': 0.7832090219194032, 'w2': 0.5471164784872937, 'threshold': 0.6}\n"
     ]
    },
    {
     "name": "stderr",
     "output_type": "stream",
     "text": [
      "[I 2023-06-22 15:36:03,555] Trial 515 finished with value: 0.7032474875450134 and parameters: {'w1': 0.8258657215797128, 'w2': 0.708379815642238}. Best is trial 495 with value: 0.7050744295120239.\n"
     ]
    },
    {
     "name": "stdout",
     "output_type": "stream",
     "text": [
      "{'w1': 0.8258657215797128, 'w2': 0.708379815642238, 'threshold': 0.62}\n"
     ]
    },
    {
     "name": "stderr",
     "output_type": "stream",
     "text": [
      "[I 2023-06-22 15:36:05,737] Trial 516 finished with value: 0.7041009068489075 and parameters: {'w1': 0.7589696380017161, 'w2': 0.7473821559988171}. Best is trial 495 with value: 0.7050744295120239.\n"
     ]
    },
    {
     "name": "stdout",
     "output_type": "stream",
     "text": [
      "{'w1': 0.7589696380017161, 'w2': 0.7473821559988171, 'threshold': 0.62}\n"
     ]
    },
    {
     "name": "stderr",
     "output_type": "stream",
     "text": [
      "[I 2023-06-22 15:36:07,918] Trial 517 finished with value: 0.7034511566162109 and parameters: {'w1': 0.5909172397006729, 'w2': 0.7204463193722451}. Best is trial 495 with value: 0.7050744295120239.\n"
     ]
    },
    {
     "name": "stdout",
     "output_type": "stream",
     "text": [
      "{'w1': 0.5909172397006729, 'w2': 0.7204463193722451, 'threshold': 0.63}\n"
     ]
    },
    {
     "name": "stderr",
     "output_type": "stream",
     "text": [
      "[I 2023-06-22 15:36:10,106] Trial 518 finished with value: 0.7020642757415771 and parameters: {'w1': 0.8421637173661572, 'w2': 0.47143442250802947}. Best is trial 495 with value: 0.7050744295120239.\n"
     ]
    },
    {
     "name": "stdout",
     "output_type": "stream",
     "text": [
      "{'w1': 0.8421637173661572, 'w2': 0.47143442250802947, 'threshold': 0.59}\n"
     ]
    },
    {
     "name": "stderr",
     "output_type": "stream",
     "text": [
      "[I 2023-06-22 15:36:12,293] Trial 519 finished with value: 0.6963436603546143 and parameters: {'w1': 0.9767426324591549, 'w2': 0.007766729061819522}. Best is trial 495 with value: 0.7050744295120239.\n"
     ]
    },
    {
     "name": "stdout",
     "output_type": "stream",
     "text": [
      "{'w1': 0.9767426324591549, 'w2': 0.007766729061819522, 'threshold': 0.61}\n"
     ]
    },
    {
     "name": "stderr",
     "output_type": "stream",
     "text": [
      "[I 2023-06-22 15:36:14,475] Trial 520 finished with value: 0.7031218409538269 and parameters: {'w1': 0.4730563675438466, 'w2': 0.8297247422957814}. Best is trial 495 with value: 0.7050744295120239.\n"
     ]
    },
    {
     "name": "stdout",
     "output_type": "stream",
     "text": [
      "{'w1': 0.4730563675438466, 'w2': 0.8297247422957814, 'threshold': 0.65}\n"
     ]
    },
    {
     "name": "stderr",
     "output_type": "stream",
     "text": [
      "[I 2023-06-22 15:36:16,659] Trial 521 finished with value: 0.7039445638656616 and parameters: {'w1': 0.8122689369767574, 'w2': 0.8802408295475561}. Best is trial 495 with value: 0.7050744295120239.\n"
     ]
    },
    {
     "name": "stdout",
     "output_type": "stream",
     "text": [
      "{'w1': 0.8122689369767574, 'w2': 0.8802408295475561, 'threshold': 0.63}\n"
     ]
    },
    {
     "name": "stderr",
     "output_type": "stream",
     "text": [
      "[I 2023-06-22 15:36:18,842] Trial 522 finished with value: 0.7035866975784302 and parameters: {'w1': 0.745667231360566, 'w2': 0.783256934835413}. Best is trial 495 with value: 0.7050744295120239.\n"
     ]
    },
    {
     "name": "stdout",
     "output_type": "stream",
     "text": [
      "{'w1': 0.745667231360566, 'w2': 0.783256934835413, 'threshold': 0.63}\n"
     ]
    },
    {
     "name": "stderr",
     "output_type": "stream",
     "text": [
      "[I 2023-06-22 15:36:21,022] Trial 523 finished with value: 0.7041430473327637 and parameters: {'w1': 0.7722580748435282, 'w2': 0.7540939539216145}. Best is trial 495 with value: 0.7050744295120239.\n"
     ]
    },
    {
     "name": "stdout",
     "output_type": "stream",
     "text": [
      "{'w1': 0.7722580748435282, 'w2': 0.7540939539216145, 'threshold': 0.62}\n"
     ]
    },
    {
     "name": "stderr",
     "output_type": "stream",
     "text": [
      "[I 2023-06-22 15:36:23,203] Trial 524 finished with value: 0.7033061385154724 and parameters: {'w1': 0.3586042182822291, 'w2': 0.4463644051606915}. Best is trial 495 with value: 0.7050744295120239.\n"
     ]
    },
    {
     "name": "stdout",
     "output_type": "stream",
     "text": [
      "{'w1': 0.3586042182822291, 'w2': 0.4463644051606915, 'threshold': 0.63}\n"
     ]
    },
    {
     "name": "stderr",
     "output_type": "stream",
     "text": [
      "[I 2023-06-22 15:36:25,383] Trial 525 finished with value: 0.7036543488502502 and parameters: {'w1': 0.41611088838787136, 'w2': 0.8019117722796716}. Best is trial 495 with value: 0.7050744295120239.\n"
     ]
    },
    {
     "name": "stdout",
     "output_type": "stream",
     "text": [
      "{'w1': 0.41611088838787136, 'w2': 0.8019117722796716, 'threshold': 0.66}\n"
     ]
    },
    {
     "name": "stderr",
     "output_type": "stream",
     "text": [
      "[I 2023-06-22 15:36:27,565] Trial 526 finished with value: 0.7043768763542175 and parameters: {'w1': 0.7125357391933425, 'w2': 0.6867088718791645}. Best is trial 495 with value: 0.7050744295120239.\n"
     ]
    },
    {
     "name": "stdout",
     "output_type": "stream",
     "text": [
      "{'w1': 0.7125357391933425, 'w2': 0.6867088718791645, 'threshold': 0.62}\n"
     ]
    },
    {
     "name": "stderr",
     "output_type": "stream",
     "text": [
      "[I 2023-06-22 15:36:29,746] Trial 527 finished with value: 0.7039659023284912 and parameters: {'w1': 0.8041621801136342, 'w2': 0.7305238006174366}. Best is trial 495 with value: 0.7050744295120239.\n"
     ]
    },
    {
     "name": "stdout",
     "output_type": "stream",
     "text": [
      "{'w1': 0.8041621801136342, 'w2': 0.7305238006174366, 'threshold': 0.62}\n"
     ]
    },
    {
     "name": "stderr",
     "output_type": "stream",
     "text": [
      "[I 2023-06-22 15:36:31,937] Trial 528 finished with value: 0.7038048505783081 and parameters: {'w1': 0.7357667943310174, 'w2': 0.8579192506950364}. Best is trial 495 with value: 0.7050744295120239.\n"
     ]
    },
    {
     "name": "stdout",
     "output_type": "stream",
     "text": [
      "{'w1': 0.7357667943310174, 'w2': 0.8579192506950364, 'threshold': 0.63}\n"
     ]
    },
    {
     "name": "stderr",
     "output_type": "stream",
     "text": [
      "[I 2023-06-22 15:36:34,117] Trial 529 finished with value: 0.704103946685791 and parameters: {'w1': 0.5622580391690237, 'w2': 0.7642316037319076}. Best is trial 495 with value: 0.7050744295120239.\n"
     ]
    },
    {
     "name": "stdout",
     "output_type": "stream",
     "text": [
      "{'w1': 0.5622580391690237, 'w2': 0.7642316037319076, 'threshold': 0.64}\n"
     ]
    },
    {
     "name": "stderr",
     "output_type": "stream",
     "text": [
      "[I 2023-06-22 15:36:36,298] Trial 530 finished with value: 0.7039744257926941 and parameters: {'w1': 0.7860275797457547, 'w2': 0.8091590293432805}. Best is trial 495 with value: 0.7050744295120239.\n"
     ]
    },
    {
     "name": "stdout",
     "output_type": "stream",
     "text": [
      "{'w1': 0.7860275797457547, 'w2': 0.8091590293432805, 'threshold': 0.62}\n"
     ]
    },
    {
     "name": "stderr",
     "output_type": "stream",
     "text": [
      "[I 2023-06-22 15:36:38,489] Trial 531 finished with value: 0.7043678760528564 and parameters: {'w1': 0.7633968956608834, 'w2': 0.7081569761434551}. Best is trial 495 with value: 0.7050744295120239.\n"
     ]
    },
    {
     "name": "stdout",
     "output_type": "stream",
     "text": [
      "{'w1': 0.7633968956608834, 'w2': 0.7081569761434551, 'threshold': 0.62}\n"
     ]
    },
    {
     "name": "stderr",
     "output_type": "stream",
     "text": [
      "[I 2023-06-22 15:36:40,680] Trial 532 finished with value: 0.7028221487998962 and parameters: {'w1': 0.21770035508396424, 'w2': 0.47892303832351213}. Best is trial 495 with value: 0.7050744295120239.\n"
     ]
    },
    {
     "name": "stdout",
     "output_type": "stream",
     "text": [
      "{'w1': 0.21770035508396424, 'w2': 0.47892303832351213, 'threshold': 0.66}\n"
     ]
    },
    {
     "name": "stderr",
     "output_type": "stream",
     "text": [
      "[I 2023-06-22 15:36:42,860] Trial 533 finished with value: 0.7042529582977295 and parameters: {'w1': 0.7022304246008196, 'w2': 0.7748700182671108}. Best is trial 495 with value: 0.7050744295120239.\n"
     ]
    },
    {
     "name": "stdout",
     "output_type": "stream",
     "text": [
      "{'w1': 0.7022304246008196, 'w2': 0.7748700182671108, 'threshold': 0.63}\n"
     ]
    },
    {
     "name": "stderr",
     "output_type": "stream",
     "text": [
      "[I 2023-06-22 15:36:45,041] Trial 534 finished with value: 0.6974003314971924 and parameters: {'w1': 0.43607089115415854, 'w2': 0.053043157342158365}. Best is trial 495 with value: 0.7050744295120239.\n"
     ]
    },
    {
     "name": "stdout",
     "output_type": "stream",
     "text": [
      "{'w1': 0.43607089115415854, 'w2': 0.053043157342158365, 'threshold': 0.6}\n"
     ]
    },
    {
     "name": "stderr",
     "output_type": "stream",
     "text": [
      "[I 2023-06-22 15:36:47,222] Trial 535 finished with value: 0.7037718892097473 and parameters: {'w1': 0.9276329198878321, 'w2': 0.8330075963117715}. Best is trial 495 with value: 0.7050744295120239.\n"
     ]
    },
    {
     "name": "stdout",
     "output_type": "stream",
     "text": [
      "{'w1': 0.9276329198878321, 'w2': 0.8330075963117715, 'threshold': 0.62}\n"
     ]
    },
    {
     "name": "stderr",
     "output_type": "stream",
     "text": [
      "[I 2023-06-22 15:36:49,409] Trial 536 finished with value: 0.7014071941375732 and parameters: {'w1': 0.8505212781894405, 'w2': 0.5046694473648803}. Best is trial 495 with value: 0.7050744295120239.\n"
     ]
    },
    {
     "name": "stdout",
     "output_type": "stream",
     "text": [
      "{'w1': 0.8505212781894405, 'w2': 0.5046694473648803, 'threshold': 0.6}\n"
     ]
    },
    {
     "name": "stderr",
     "output_type": "stream",
     "text": [
      "[I 2023-06-22 15:36:51,590] Trial 537 finished with value: 0.7032920122146606 and parameters: {'w1': 0.7490308720365287, 'w2': 0.934468808732483}. Best is trial 495 with value: 0.7050744295120239.\n"
     ]
    },
    {
     "name": "stdout",
     "output_type": "stream",
     "text": [
      "{'w1': 0.7490308720365287, 'w2': 0.934468808732483, 'threshold': 0.63}\n"
     ]
    },
    {
     "name": "stderr",
     "output_type": "stream",
     "text": [
      "[I 2023-06-22 15:36:53,771] Trial 538 finished with value: 0.7035736441612244 and parameters: {'w1': 0.5759830114769986, 'w2': 0.739150230620569}. Best is trial 495 with value: 0.7050744295120239.\n"
     ]
    },
    {
     "name": "stdout",
     "output_type": "stream",
     "text": [
      "{'w1': 0.5759830114769986, 'w2': 0.739150230620569, 'threshold': 0.64}\n"
     ]
    },
    {
     "name": "stderr",
     "output_type": "stream",
     "text": [
      "[I 2023-06-22 15:36:55,952] Trial 539 finished with value: 0.7036193013191223 and parameters: {'w1': 0.8884558725942683, 'w2': 0.7871707110278534}. Best is trial 495 with value: 0.7050744295120239.\n"
     ]
    },
    {
     "name": "stdout",
     "output_type": "stream",
     "text": [
      "{'w1': 0.8884558725942683, 'w2': 0.7871707110278534, 'threshold': 0.62}\n"
     ]
    },
    {
     "name": "stderr",
     "output_type": "stream",
     "text": [
      "[I 2023-06-22 15:36:58,136] Trial 540 finished with value: 0.7037091851234436 and parameters: {'w1': 0.7258173731772282, 'w2': 0.7549516034154936}. Best is trial 495 with value: 0.7050744295120239.\n"
     ]
    },
    {
     "name": "stdout",
     "output_type": "stream",
     "text": [
      "{'w1': 0.7258173731772282, 'w2': 0.7549516034154936, 'threshold': 0.62}\n"
     ]
    },
    {
     "name": "stderr",
     "output_type": "stream",
     "text": [
      "[I 2023-06-22 15:37:00,331] Trial 541 finished with value: 0.7037484645843506 and parameters: {'w1': 0.37390358387493433, 'w2': 0.7237023295517446}. Best is trial 495 with value: 0.7050744295120239.\n"
     ]
    },
    {
     "name": "stdout",
     "output_type": "stream",
     "text": [
      "{'w1': 0.37390358387493433, 'w2': 0.7237023295517446, 'threshold': 0.66}\n"
     ]
    },
    {
     "name": "stderr",
     "output_type": "stream",
     "text": [
      "[I 2023-06-22 15:37:02,519] Trial 542 finished with value: 0.7014504671096802 and parameters: {'w1': 0.8310860826612883, 'w2': 0.4958519962519826}. Best is trial 495 with value: 0.7050744295120239.\n"
     ]
    },
    {
     "name": "stdout",
     "output_type": "stream",
     "text": [
      "{'w1': 0.8310860826612883, 'w2': 0.4958519962519826, 'threshold': 0.6}\n"
     ]
    },
    {
     "name": "stderr",
     "output_type": "stream",
     "text": [
      "[I 2023-06-22 15:37:04,719] Trial 543 finished with value: 0.7036718130111694 and parameters: {'w1': 0.7817921368158356, 'w2': 0.6968313591802352}. Best is trial 495 with value: 0.7050744295120239.\n"
     ]
    },
    {
     "name": "stdout",
     "output_type": "stream",
     "text": [
      "{'w1': 0.7817921368158356, 'w2': 0.6968313591802352, 'threshold': 0.62}\n"
     ]
    },
    {
     "name": "stderr",
     "output_type": "stream",
     "text": [
      "[I 2023-06-22 15:37:06,905] Trial 544 finished with value: 0.7035844922065735 and parameters: {'w1': 0.6672154358288014, 'w2': 0.5331102522861627}. Best is trial 495 with value: 0.7050744295120239.\n"
     ]
    },
    {
     "name": "stdout",
     "output_type": "stream",
     "text": [
      "{'w1': 0.6672154358288014, 'w2': 0.5331102522861627, 'threshold': 0.61}\n"
     ]
    },
    {
     "name": "stderr",
     "output_type": "stream",
     "text": [
      "[I 2023-06-22 15:37:09,086] Trial 545 finished with value: 0.7040566205978394 and parameters: {'w1': 0.8123610599972655, 'w2': 0.8105215205686599}. Best is trial 495 with value: 0.7050744295120239.\n"
     ]
    },
    {
     "name": "stdout",
     "output_type": "stream",
     "text": [
      "{'w1': 0.8123610599972655, 'w2': 0.8105215205686599, 'threshold': 0.62}\n"
     ]
    },
    {
     "name": "stderr",
     "output_type": "stream",
     "text": [
      "[I 2023-06-22 15:37:11,268] Trial 546 finished with value: 0.7039395570755005 and parameters: {'w1': 0.618493712207063, 'w2': 0.8448757433395497}. Best is trial 495 with value: 0.7050744295120239.\n"
     ]
    },
    {
     "name": "stdout",
     "output_type": "stream",
     "text": [
      "{'w1': 0.618493712207063, 'w2': 0.8448757433395497, 'threshold': 0.64}\n"
     ]
    },
    {
     "name": "stderr",
     "output_type": "stream",
     "text": [
      "[I 2023-06-22 15:37:13,452] Trial 547 finished with value: 0.7032545208930969 and parameters: {'w1': 0.25644630502969507, 'w2': 0.7710650128178342}. Best is trial 495 with value: 0.7050744295120239.\n"
     ]
    },
    {
     "name": "stdout",
     "output_type": "stream",
     "text": [
      "{'w1': 0.25644630502969507, 'w2': 0.7710650128178342, 'threshold': 0.68}\n"
     ]
    },
    {
     "name": "stderr",
     "output_type": "stream",
     "text": [
      "[I 2023-06-22 15:37:15,633] Trial 548 finished with value: 0.704706609249115 and parameters: {'w1': 0.7033336777467172, 'w2': 0.9501276368536572}. Best is trial 495 with value: 0.7050744295120239.\n"
     ]
    },
    {
     "name": "stdout",
     "output_type": "stream",
     "text": [
      "{'w1': 0.7033336777467172, 'w2': 0.9501276368536572, 'threshold': 0.64}\n"
     ]
    },
    {
     "name": "stderr",
     "output_type": "stream",
     "text": [
      "[I 2023-06-22 15:37:17,819] Trial 549 finished with value: 0.703448474407196 and parameters: {'w1': 0.722069564593702, 'w2': 0.8820416396831781}. Best is trial 495 with value: 0.7050744295120239.\n"
     ]
    },
    {
     "name": "stdout",
     "output_type": "stream",
     "text": [
      "{'w1': 0.722069564593702, 'w2': 0.8820416396831781, 'threshold': 0.63}\n"
     ]
    },
    {
     "name": "stderr",
     "output_type": "stream",
     "text": [
      "[I 2023-06-22 15:37:20,011] Trial 550 finished with value: 0.7040393948554993 and parameters: {'w1': 0.7569958061741477, 'w2': 0.9961494845187667}. Best is trial 495 with value: 0.7050744295120239.\n"
     ]
    },
    {
     "name": "stdout",
     "output_type": "stream",
     "text": [
      "{'w1': 0.7569958061741477, 'w2': 0.9961494845187667, 'threshold': 0.64}\n"
     ]
    },
    {
     "name": "stderr",
     "output_type": "stream",
     "text": [
      "[I 2023-06-22 15:37:22,204] Trial 551 finished with value: 0.7044567465782166 and parameters: {'w1': 0.7069680366239115, 'w2': 0.9500083174149578}. Best is trial 495 with value: 0.7050744295120239.\n"
     ]
    },
    {
     "name": "stdout",
     "output_type": "stream",
     "text": [
      "{'w1': 0.7069680366239115, 'w2': 0.9500083174149578, 'threshold': 0.64}\n"
     ]
    },
    {
     "name": "stderr",
     "output_type": "stream",
     "text": [
      "[I 2023-06-22 15:37:24,401] Trial 552 finished with value: 0.7038137316703796 and parameters: {'w1': 0.7924194069204707, 'w2': 0.9233084852751182}. Best is trial 495 with value: 0.7050744295120239.\n"
     ]
    },
    {
     "name": "stdout",
     "output_type": "stream",
     "text": [
      "{'w1': 0.7924194069204707, 'w2': 0.9233084852751182, 'threshold': 0.63}\n"
     ]
    },
    {
     "name": "stderr",
     "output_type": "stream",
     "text": [
      "[I 2023-06-22 15:37:26,588] Trial 553 finished with value: 0.702675998210907 and parameters: {'w1': 0.2708594965263227, 'w2': 0.8948002115141902}. Best is trial 495 with value: 0.7050744295120239.\n"
     ]
    },
    {
     "name": "stdout",
     "output_type": "stream",
     "text": [
      "{'w1': 0.2708594965263227, 'w2': 0.8948002115141902, 'threshold': 0.68}\n"
     ]
    },
    {
     "name": "stderr",
     "output_type": "stream",
     "text": [
      "[I 2023-06-22 15:37:28,769] Trial 554 finished with value: 0.7037708759307861 and parameters: {'w1': 0.5310068343847545, 'w2': 0.8688972964458296}. Best is trial 495 with value: 0.7050744295120239.\n"
     ]
    },
    {
     "name": "stdout",
     "output_type": "stream",
     "text": [
      "{'w1': 0.5310068343847545, 'w2': 0.8688972964458296, 'threshold': 0.65}\n"
     ]
    },
    {
     "name": "stderr",
     "output_type": "stream",
     "text": [
      "[I 2023-06-22 15:37:30,950] Trial 555 finished with value: 0.7018625736236572 and parameters: {'w1': 0.09729382375806428, 'w2': 0.9681849351195322}. Best is trial 495 with value: 0.7050744295120239.\n"
     ]
    },
    {
     "name": "stdout",
     "output_type": "stream",
     "text": [
      "{'w1': 0.09729382375806428, 'w2': 0.9681849351195322, 'threshold': 0.71}\n"
     ]
    },
    {
     "name": "stderr",
     "output_type": "stream",
     "text": [
      "[I 2023-06-22 15:37:33,132] Trial 556 finished with value: 0.7025626301765442 and parameters: {'w1': 0.2735529136623713, 'w2': 0.9284354730019548}. Best is trial 495 with value: 0.7050744295120239.\n"
     ]
    },
    {
     "name": "stdout",
     "output_type": "stream",
     "text": [
      "{'w1': 0.2735529136623713, 'w2': 0.9284354730019548, 'threshold': 0.68}\n"
     ]
    },
    {
     "name": "stderr",
     "output_type": "stream",
     "text": [
      "[I 2023-06-22 15:37:35,314] Trial 557 finished with value: 0.7033372521400452 and parameters: {'w1': 0.4944079996569809, 'w2': 0.9968723783242717}. Best is trial 495 with value: 0.7050744295120239.\n"
     ]
    },
    {
     "name": "stdout",
     "output_type": "stream",
     "text": [
      "{'w1': 0.4944079996569809, 'w2': 0.9968723783242717, 'threshold': 0.66}\n"
     ]
    },
    {
     "name": "stderr",
     "output_type": "stream",
     "text": [
      "[I 2023-06-22 15:37:37,496] Trial 558 finished with value: 0.7035213708877563 and parameters: {'w1': 0.7368853930335706, 'w2': 0.886788757117442}. Best is trial 495 with value: 0.7050744295120239.\n"
     ]
    },
    {
     "name": "stdout",
     "output_type": "stream",
     "text": [
      "{'w1': 0.7368853930335706, 'w2': 0.886788757117442, 'threshold': 0.63}\n"
     ]
    },
    {
     "name": "stderr",
     "output_type": "stream",
     "text": [
      "[I 2023-06-22 15:37:39,678] Trial 559 finished with value: 0.7045978307723999 and parameters: {'w1': 0.8534861712516437, 'w2': 0.9610163049381651}. Best is trial 495 with value: 0.7050744295120239.\n"
     ]
    },
    {
     "name": "stdout",
     "output_type": "stream",
     "text": [
      "{'w1': 0.8534861712516437, 'w2': 0.9610163049381651, 'threshold': 0.63}\n"
     ]
    },
    {
     "name": "stderr",
     "output_type": "stream",
     "text": [
      "[I 2023-06-22 15:37:41,873] Trial 560 finished with value: 0.7049412727355957 and parameters: {'w1': 0.8997970491555037, 'w2': 0.8619533109123689}. Best is trial 495 with value: 0.7050744295120239.\n"
     ]
    },
    {
     "name": "stdout",
     "output_type": "stream",
     "text": [
      "{'w1': 0.8997970491555037, 'w2': 0.8619533109123689, 'threshold': 0.62}\n"
     ]
    },
    {
     "name": "stderr",
     "output_type": "stream",
     "text": [
      "[I 2023-06-22 15:37:44,068] Trial 561 finished with value: 0.7037112712860107 and parameters: {'w1': 0.8890412517544134, 'w2': 0.9463623882065548}. Best is trial 495 with value: 0.7050744295120239.\n"
     ]
    },
    {
     "name": "stdout",
     "output_type": "stream",
     "text": [
      "{'w1': 0.8890412517544134, 'w2': 0.9463623882065548, 'threshold': 0.63}\n"
     ]
    },
    {
     "name": "stderr",
     "output_type": "stream",
     "text": [
      "[I 2023-06-22 15:37:46,262] Trial 562 finished with value: 0.7042912840843201 and parameters: {'w1': 0.9953542438760363, 'w2': 0.962717017858629}. Best is trial 495 with value: 0.7050744295120239.\n"
     ]
    },
    {
     "name": "stdout",
     "output_type": "stream",
     "text": [
      "{'w1': 0.9953542438760363, 'w2': 0.962717017858629, 'threshold': 0.62}\n"
     ]
    },
    {
     "name": "stderr",
     "output_type": "stream",
     "text": [
      "[I 2023-06-22 15:37:48,446] Trial 563 finished with value: 0.7047184705734253 and parameters: {'w1': 0.8783889516667264, 'w2': 0.998698632188507}. Best is trial 495 with value: 0.7050744295120239.\n"
     ]
    },
    {
     "name": "stdout",
     "output_type": "stream",
     "text": [
      "{'w1': 0.8783889516667264, 'w2': 0.998698632188507, 'threshold': 0.63}\n"
     ]
    },
    {
     "name": "stderr",
     "output_type": "stream",
     "text": [
      "[I 2023-06-22 15:37:50,632] Trial 564 finished with value: 0.7041113376617432 and parameters: {'w1': 0.8710793692375327, 'w2': 0.9532511550056215}. Best is trial 495 with value: 0.7050744295120239.\n"
     ]
    },
    {
     "name": "stdout",
     "output_type": "stream",
     "text": [
      "{'w1': 0.8710793692375327, 'w2': 0.9532511550056215, 'threshold': 0.63}\n"
     ]
    },
    {
     "name": "stderr",
     "output_type": "stream",
     "text": [
      "[I 2023-06-22 15:37:52,824] Trial 565 finished with value: 0.7039502859115601 and parameters: {'w1': 0.8968125163310845, 'w2': 0.9725969166752018}. Best is trial 495 with value: 0.7050744295120239.\n"
     ]
    },
    {
     "name": "stdout",
     "output_type": "stream",
     "text": [
      "{'w1': 0.8968125163310845, 'w2': 0.9725969166752018, 'threshold': 0.63}\n"
     ]
    },
    {
     "name": "stderr",
     "output_type": "stream",
     "text": [
      "[I 2023-06-22 15:37:55,016] Trial 566 finished with value: 0.7036106586456299 and parameters: {'w1': 0.9193775186751848, 'w2': 0.9679282639218765}. Best is trial 495 with value: 0.7050744295120239.\n"
     ]
    },
    {
     "name": "stdout",
     "output_type": "stream",
     "text": [
      "{'w1': 0.9193775186751848, 'w2': 0.9679282639218765, 'threshold': 0.63}\n"
     ]
    },
    {
     "name": "stderr",
     "output_type": "stream",
     "text": [
      "[I 2023-06-22 15:37:57,212] Trial 567 finished with value: 0.7040558457374573 and parameters: {'w1': 0.8700771559297273, 'w2': 0.9986230890606034}. Best is trial 495 with value: 0.7050744295120239.\n"
     ]
    },
    {
     "name": "stdout",
     "output_type": "stream",
     "text": [
      "{'w1': 0.8700771559297273, 'w2': 0.9986230890606034, 'threshold': 0.63}\n"
     ]
    },
    {
     "name": "stderr",
     "output_type": "stream",
     "text": [
      "[I 2023-06-22 15:37:59,410] Trial 568 finished with value: 0.7039303779602051 and parameters: {'w1': 0.5998978552806041, 'w2': 0.9768205137398913}. Best is trial 495 with value: 0.7050744295120239.\n"
     ]
    },
    {
     "name": "stdout",
     "output_type": "stream",
     "text": [
      "{'w1': 0.5998978552806041, 'w2': 0.9768205137398913, 'threshold': 0.65}\n"
     ]
    },
    {
     "name": "stderr",
     "output_type": "stream",
     "text": [
      "[I 2023-06-22 15:38:01,613] Trial 569 finished with value: 0.7034102082252502 and parameters: {'w1': 0.4076272832733994, 'w2': 0.9981504927332928}. Best is trial 495 with value: 0.7050744295120239.\n"
     ]
    },
    {
     "name": "stdout",
     "output_type": "stream",
     "text": [
      "{'w1': 0.4076272832733994, 'w2': 0.9981504927332928, 'threshold': 0.67}\n"
     ]
    },
    {
     "name": "stderr",
     "output_type": "stream",
     "text": [
      "[I 2023-06-22 15:38:03,815] Trial 570 finished with value: 0.7024800777435303 and parameters: {'w1': 0.2047761015173284, 'w2': 0.8928996207322183}. Best is trial 495 with value: 0.7050744295120239.\n"
     ]
    },
    {
     "name": "stdout",
     "output_type": "stream",
     "text": [
      "{'w1': 0.2047761015173284, 'w2': 0.8928996207322183, 'threshold': 0.69}\n"
     ]
    },
    {
     "name": "stderr",
     "output_type": "stream",
     "text": [
      "[I 2023-06-22 15:38:06,014] Trial 571 finished with value: 0.703831672668457 and parameters: {'w1': 0.8458412927615009, 'w2': 0.9108278769460085}. Best is trial 495 with value: 0.7050744295120239.\n"
     ]
    },
    {
     "name": "stdout",
     "output_type": "stream",
     "text": [
      "{'w1': 0.8458412927615009, 'w2': 0.9108278769460085, 'threshold': 0.63}\n"
     ]
    },
    {
     "name": "stderr",
     "output_type": "stream",
     "text": [
      "[I 2023-06-22 15:38:08,224] Trial 572 finished with value: 0.7033050656318665 and parameters: {'w1': 0.6773931633508004, 'w2': 0.9854179676860988}. Best is trial 495 with value: 0.7050744295120239.\n"
     ]
    },
    {
     "name": "stdout",
     "output_type": "stream",
     "text": [
      "{'w1': 0.6773931633508004, 'w2': 0.9854179676860988, 'threshold': 0.64}\n"
     ]
    },
    {
     "name": "stderr",
     "output_type": "stream",
     "text": [
      "[I 2023-06-22 15:38:10,437] Trial 573 finished with value: 0.7018859386444092 and parameters: {'w1': 0.13122776012528137, 'w2': 0.9495292122904785}. Best is trial 495 with value: 0.7050744295120239.\n"
     ]
    },
    {
     "name": "stdout",
     "output_type": "stream",
     "text": [
      "{'w1': 0.13122776012528137, 'w2': 0.9495292122904785, 'threshold': 0.7}\n"
     ]
    },
    {
     "name": "stderr",
     "output_type": "stream",
     "text": [
      "[I 2023-06-22 15:38:12,638] Trial 574 finished with value: 0.703709065914154 and parameters: {'w1': 0.831771488834762, 'w2': 0.9817316573779998}. Best is trial 495 with value: 0.7050744295120239.\n"
     ]
    },
    {
     "name": "stdout",
     "output_type": "stream",
     "text": [
      "{'w1': 0.831771488834762, 'w2': 0.9817316573779998, 'threshold': 0.63}\n"
     ]
    },
    {
     "name": "stderr",
     "output_type": "stream",
     "text": [
      "[I 2023-06-22 15:38:14,838] Trial 575 finished with value: 0.7037949562072754 and parameters: {'w1': 0.7001030842029292, 'w2': 0.9101973569832761}. Best is trial 495 with value: 0.7050744295120239.\n"
     ]
    },
    {
     "name": "stdout",
     "output_type": "stream",
     "text": [
      "{'w1': 0.7001030842029292, 'w2': 0.9101973569832761, 'threshold': 0.64}\n"
     ]
    },
    {
     "name": "stderr",
     "output_type": "stream",
     "text": [
      "[I 2023-06-22 15:38:17,029] Trial 576 finished with value: 0.7035959362983704 and parameters: {'w1': 0.8833296087304892, 'w2': 0.9285068977931952}. Best is trial 495 with value: 0.7050744295120239.\n"
     ]
    },
    {
     "name": "stdout",
     "output_type": "stream",
     "text": [
      "{'w1': 0.8833296087304892, 'w2': 0.9285068977931952, 'threshold': 0.63}\n"
     ]
    },
    {
     "name": "stderr",
     "output_type": "stream",
     "text": [
      "[I 2023-06-22 15:38:19,211] Trial 577 finished with value: 0.7035923600196838 and parameters: {'w1': 0.934039459297157, 'w2': 0.8269123205420235}. Best is trial 495 with value: 0.7050744295120239.\n"
     ]
    },
    {
     "name": "stdout",
     "output_type": "stream",
     "text": [
      "{'w1': 0.934039459297157, 'w2': 0.8269123205420235, 'threshold': 0.62}\n"
     ]
    },
    {
     "name": "stderr",
     "output_type": "stream",
     "text": [
      "[I 2023-06-22 15:38:21,393] Trial 578 finished with value: 0.7038428783416748 and parameters: {'w1': 0.9528716514107871, 'w2': 0.8589007062509765}. Best is trial 495 with value: 0.7050744295120239.\n"
     ]
    },
    {
     "name": "stdout",
     "output_type": "stream",
     "text": [
      "{'w1': 0.9528716514107871, 'w2': 0.8589007062509765, 'threshold': 0.62}\n"
     ]
    },
    {
     "name": "stderr",
     "output_type": "stream",
     "text": [
      "[I 2023-06-22 15:38:23,576] Trial 579 finished with value: 0.6983184814453125 and parameters: {'w1': 0.7159536982490616, 'w2': 0.1600969510761605}. Best is trial 495 with value: 0.7050744295120239.\n"
     ]
    },
    {
     "name": "stdout",
     "output_type": "stream",
     "text": [
      "{'w1': 0.7159536982490616, 'w2': 0.1600969510761605, 'threshold': 0.59}\n"
     ]
    },
    {
     "name": "stderr",
     "output_type": "stream",
     "text": [
      "[I 2023-06-22 15:38:25,762] Trial 580 finished with value: 0.7034851908683777 and parameters: {'w1': 0.6379722026840752, 'w2': 0.907208042018626}. Best is trial 495 with value: 0.7050744295120239.\n"
     ]
    },
    {
     "name": "stdout",
     "output_type": "stream",
     "text": [
      "{'w1': 0.6379722026840752, 'w2': 0.907208042018626, 'threshold': 0.64}\n"
     ]
    },
    {
     "name": "stderr",
     "output_type": "stream",
     "text": [
      "[I 2023-06-22 15:38:27,946] Trial 581 finished with value: 0.7034211158752441 and parameters: {'w1': 0.7478276777186021, 'w2': 0.9161267344839751}. Best is trial 495 with value: 0.7050744295120239.\n"
     ]
    },
    {
     "name": "stdout",
     "output_type": "stream",
     "text": [
      "{'w1': 0.7478276777186021, 'w2': 0.9161267344839751, 'threshold': 0.63}\n"
     ]
    },
    {
     "name": "stderr",
     "output_type": "stream",
     "text": [
      "[I 2023-06-22 15:38:30,128] Trial 582 finished with value: 0.7041115164756775 and parameters: {'w1': 0.8541360164031265, 'w2': 0.9348539358915657}. Best is trial 495 with value: 0.7050744295120239.\n"
     ]
    },
    {
     "name": "stdout",
     "output_type": "stream",
     "text": [
      "{'w1': 0.8541360164031265, 'w2': 0.9348539358915657, 'threshold': 0.63}\n"
     ]
    },
    {
     "name": "stderr",
     "output_type": "stream",
     "text": [
      "[I 2023-06-22 15:38:32,309] Trial 583 finished with value: 0.7024266123771667 and parameters: {'w1': 0.18796159175519733, 'w2': 0.6668202275977809}. Best is trial 495 with value: 0.7050744295120239.\n"
     ]
    },
    {
     "name": "stdout",
     "output_type": "stream",
     "text": [
      "{'w1': 0.18796159175519733, 'w2': 0.6668202275977809, 'threshold': 0.68}\n"
     ]
    },
    {
     "name": "stderr",
     "output_type": "stream",
     "text": [
      "[I 2023-06-22 15:38:34,496] Trial 584 finished with value: 0.7037599682807922 and parameters: {'w1': 0.8142881086731447, 'w2': 0.9546627676235657}. Best is trial 495 with value: 0.7050744295120239.\n"
     ]
    },
    {
     "name": "stdout",
     "output_type": "stream",
     "text": [
      "{'w1': 0.8142881086731447, 'w2': 0.9546627676235657, 'threshold': 0.63}\n"
     ]
    },
    {
     "name": "stderr",
     "output_type": "stream",
     "text": [
      "[I 2023-06-22 15:38:36,678] Trial 585 finished with value: 0.7031295895576477 and parameters: {'w1': 0.42242281630671125, 'w2': 0.9916585517108392}. Best is trial 495 with value: 0.7050744295120239.\n"
     ]
    },
    {
     "name": "stdout",
     "output_type": "stream",
     "text": [
      "{'w1': 0.42242281630671125, 'w2': 0.9916585517108392, 'threshold': 0.67}\n"
     ]
    },
    {
     "name": "stderr",
     "output_type": "stream",
     "text": [
      "[I 2023-06-22 15:38:38,860] Trial 586 finished with value: 0.7036042213439941 and parameters: {'w1': 0.6778243680352133, 'w2': 0.9492381911416937}. Best is trial 495 with value: 0.7050744295120239.\n"
     ]
    },
    {
     "name": "stdout",
     "output_type": "stream",
     "text": [
      "{'w1': 0.6778243680352133, 'w2': 0.9492381911416937, 'threshold': 0.64}\n"
     ]
    },
    {
     "name": "stderr",
     "output_type": "stream",
     "text": [
      "[I 2023-06-22 15:38:41,044] Trial 587 finished with value: 0.70399010181427 and parameters: {'w1': 0.6957112315596516, 'w2': 0.801000222329633}. Best is trial 495 with value: 0.7050744295120239.\n"
     ]
    },
    {
     "name": "stdout",
     "output_type": "stream",
     "text": [
      "{'w1': 0.6957112315596516, 'w2': 0.801000222329633, 'threshold': 0.63}\n"
     ]
    },
    {
     "name": "stderr",
     "output_type": "stream",
     "text": [
      "[I 2023-06-22 15:38:43,225] Trial 588 finished with value: 0.7032813429832458 and parameters: {'w1': 0.546083869183178, 'w2': 0.8399002017251309}. Best is trial 495 with value: 0.7050744295120239.\n"
     ]
    },
    {
     "name": "stdout",
     "output_type": "stream",
     "text": [
      "{'w1': 0.546083869183178, 'w2': 0.8399002017251309, 'threshold': 0.65}\n"
     ]
    },
    {
     "name": "stderr",
     "output_type": "stream",
     "text": [
      "[I 2023-06-22 15:38:45,419] Trial 589 finished with value: 0.7014387249946594 and parameters: {'w1': 0.05967067568683826, 'w2': 0.8259299824038031}. Best is trial 495 with value: 0.7050744295120239.\n"
     ]
    },
    {
     "name": "stdout",
     "output_type": "stream",
     "text": [
      "{'w1': 0.05967067568683826, 'w2': 0.8259299824038031, 'threshold': 0.71}\n"
     ]
    },
    {
     "name": "stderr",
     "output_type": "stream",
     "text": [
      "[I 2023-06-22 15:38:47,604] Trial 590 finished with value: 0.7034023404121399 and parameters: {'w1': 0.5177815692380497, 'w2': 0.8686369313030013}. Best is trial 495 with value: 0.7050744295120239.\n"
     ]
    },
    {
     "name": "stdout",
     "output_type": "stream",
     "text": [
      "{'w1': 0.5177815692380497, 'w2': 0.8686369313030013, 'threshold': 0.65}\n"
     ]
    },
    {
     "name": "stderr",
     "output_type": "stream",
     "text": [
      "[I 2023-06-22 15:38:49,785] Trial 591 finished with value: 0.703244686126709 and parameters: {'w1': 0.6521698188969963, 'w2': 0.999150715844359}. Best is trial 495 with value: 0.7050744295120239.\n"
     ]
    },
    {
     "name": "stdout",
     "output_type": "stream",
     "text": [
      "{'w1': 0.6521698188969963, 'w2': 0.999150715844359, 'threshold': 0.65}\n"
     ]
    },
    {
     "name": "stderr",
     "output_type": "stream",
     "text": [
      "[I 2023-06-22 15:38:51,966] Trial 592 finished with value: 0.7038929462432861 and parameters: {'w1': 0.729439037973634, 'w2': 0.7883664619371921}. Best is trial 495 with value: 0.7050744295120239.\n"
     ]
    },
    {
     "name": "stdout",
     "output_type": "stream",
     "text": [
      "{'w1': 0.729439037973634, 'w2': 0.7883664619371921, 'threshold': 0.63}\n"
     ]
    },
    {
     "name": "stderr",
     "output_type": "stream",
     "text": [
      "[I 2023-06-22 15:38:54,149] Trial 593 finished with value: 0.7025753259658813 and parameters: {'w1': 0.3477320869347558, 'w2': 0.9750801355584134}. Best is trial 495 with value: 0.7050744295120239.\n"
     ]
    },
    {
     "name": "stdout",
     "output_type": "stream",
     "text": [
      "{'w1': 0.3477320869347558, 'w2': 0.9750801355584134, 'threshold': 0.67}\n"
     ]
    },
    {
     "name": "stderr",
     "output_type": "stream",
     "text": [
      "[I 2023-06-22 15:38:56,332] Trial 594 finished with value: 0.7024683952331543 and parameters: {'w1': 0.6065315299899967, 'w2': 0.4485692639811548}. Best is trial 495 with value: 0.7050744295120239.\n"
     ]
    },
    {
     "name": "stdout",
     "output_type": "stream",
     "text": [
      "{'w1': 0.6065315299899967, 'w2': 0.4485692639811548, 'threshold': 0.61}\n"
     ]
    },
    {
     "name": "stderr",
     "output_type": "stream",
     "text": [
      "[I 2023-06-22 15:38:58,517] Trial 595 finished with value: 0.7029623985290527 and parameters: {'w1': 0.37954648707623395, 'w2': 0.8102957702178257}. Best is trial 495 with value: 0.7050744295120239.\n"
     ]
    },
    {
     "name": "stdout",
     "output_type": "stream",
     "text": [
      "{'w1': 0.37954648707623395, 'w2': 0.8102957702178257, 'threshold': 0.66}\n"
     ]
    },
    {
     "name": "stderr",
     "output_type": "stream",
     "text": [
      "[I 2023-06-22 15:39:00,698] Trial 596 finished with value: 0.7026681900024414 and parameters: {'w1': 0.5645041343391444, 'w2': 0.37681186414406753}. Best is trial 495 with value: 0.7050744295120239.\n"
     ]
    },
    {
     "name": "stdout",
     "output_type": "stream",
     "text": [
      "{'w1': 0.5645041343391444, 'w2': 0.37681186414406753, 'threshold': 0.6}\n"
     ]
    },
    {
     "name": "stderr",
     "output_type": "stream",
     "text": [
      "[I 2023-06-22 15:39:02,880] Trial 597 finished with value: 0.7040992975234985 and parameters: {'w1': 0.7642554583455378, 'w2': 0.7541403147547199}. Best is trial 495 with value: 0.7050744295120239.\n"
     ]
    },
    {
     "name": "stdout",
     "output_type": "stream",
     "text": [
      "{'w1': 0.7642554583455378, 'w2': 0.7541403147547199, 'threshold': 0.62}\n"
     ]
    },
    {
     "name": "stderr",
     "output_type": "stream",
     "text": [
      "[I 2023-06-22 15:39:05,061] Trial 598 finished with value: 0.7021691799163818 and parameters: {'w1': 0.8624061527597799, 'w2': 0.5562547387326717}. Best is trial 495 with value: 0.7050744295120239.\n"
     ]
    },
    {
     "name": "stdout",
     "output_type": "stream",
     "text": [
      "{'w1': 0.8624061527597799, 'w2': 0.5562547387326717, 'threshold': 0.6}\n"
     ]
    },
    {
     "name": "stderr",
     "output_type": "stream",
     "text": [
      "[I 2023-06-22 15:39:07,243] Trial 599 finished with value: 0.7033727169036865 and parameters: {'w1': 0.8308680720247955, 'w2': 0.7220533257876363}. Best is trial 495 with value: 0.7050744295120239.\n"
     ]
    },
    {
     "name": "stdout",
     "output_type": "stream",
     "text": [
      "{'w1': 0.8308680720247955, 'w2': 0.7220533257876363, 'threshold': 0.62}\n"
     ]
    },
    {
     "name": "stderr",
     "output_type": "stream",
     "text": [
      "[I 2023-06-22 15:39:09,430] Trial 600 finished with value: 0.6983157992362976 and parameters: {'w1': 0.9099734058324189, 'w2': 0.20300221759345705}. Best is trial 495 with value: 0.7050744295120239.\n"
     ]
    },
    {
     "name": "stdout",
     "output_type": "stream",
     "text": [
      "{'w1': 0.9099734058324189, 'w2': 0.20300221759345705, 'threshold': 0.59}\n"
     ]
    },
    {
     "name": "stderr",
     "output_type": "stream",
     "text": [
      "[I 2023-06-22 15:39:11,634] Trial 601 finished with value: 0.7037411332130432 and parameters: {'w1': 0.7991896055437387, 'w2': 0.9387860866349953}. Best is trial 495 with value: 0.7050744295120239.\n"
     ]
    },
    {
     "name": "stdout",
     "output_type": "stream",
     "text": [
      "{'w1': 0.7991896055437387, 'w2': 0.9387860866349953, 'threshold': 0.63}\n"
     ]
    },
    {
     "name": "stderr",
     "output_type": "stream",
     "text": [
      "[I 2023-06-22 15:39:13,842] Trial 602 finished with value: 0.7045331001281738 and parameters: {'w1': 0.7422230581927188, 'w2': 0.6947216700953149}. Best is trial 495 with value: 0.7050744295120239.\n"
     ]
    },
    {
     "name": "stdout",
     "output_type": "stream",
     "text": [
      "{'w1': 0.7422230581927188, 'w2': 0.6947216700953149, 'threshold': 0.62}\n"
     ]
    },
    {
     "name": "stderr",
     "output_type": "stream",
     "text": [
      "[I 2023-06-22 15:39:16,039] Trial 603 finished with value: 0.7031245231628418 and parameters: {'w1': 0.31216517524481924, 'w2': 0.7792531417132936}. Best is trial 495 with value: 0.7050744295120239.\n"
     ]
    },
    {
     "name": "stdout",
     "output_type": "stream",
     "text": [
      "{'w1': 0.31216517524481924, 'w2': 0.7792531417132936, 'threshold': 0.67}\n"
     ]
    },
    {
     "name": "stderr",
     "output_type": "stream",
     "text": [
      "[I 2023-06-22 15:39:18,235] Trial 604 finished with value: 0.7031686305999756 and parameters: {'w1': 0.29881391492703413, 'w2': 0.7427919491904874}. Best is trial 495 with value: 0.7050744295120239.\n"
     ]
    },
    {
     "name": "stdout",
     "output_type": "stream",
     "text": [
      "{'w1': 0.29881391492703413, 'w2': 0.7427919491904874, 'threshold': 0.67}\n"
     ]
    },
    {
     "name": "stderr",
     "output_type": "stream",
     "text": [
      "[I 2023-06-22 15:39:20,419] Trial 605 finished with value: 0.7010194063186646 and parameters: {'w1': 0.7116967602442618, 'w2': 0.35992638289327455}. Best is trial 495 with value: 0.7050744295120239.\n"
     ]
    },
    {
     "name": "stdout",
     "output_type": "stream",
     "text": [
      "{'w1': 0.7116967602442618, 'w2': 0.35992638289327455, 'threshold': 0.59}\n"
     ]
    },
    {
     "name": "stderr",
     "output_type": "stream",
     "text": [
      "[I 2023-06-22 15:39:22,601] Trial 606 finished with value: 0.7039729952812195 and parameters: {'w1': 0.7766523690340217, 'w2': 0.8437907788211999}. Best is trial 495 with value: 0.7050744295120239.\n"
     ]
    },
    {
     "name": "stdout",
     "output_type": "stream",
     "text": [
      "{'w1': 0.7766523690340217, 'w2': 0.8437907788211999, 'threshold': 0.63}\n"
     ]
    },
    {
     "name": "stderr",
     "output_type": "stream",
     "text": [
      "[I 2023-06-22 15:39:24,784] Trial 607 finished with value: 0.7041075229644775 and parameters: {'w1': 0.8872440440870961, 'w2': 0.8124606675766658}. Best is trial 495 with value: 0.7050744295120239.\n"
     ]
    },
    {
     "name": "stdout",
     "output_type": "stream",
     "text": [
      "{'w1': 0.8872440440870961, 'w2': 0.8124606675766658, 'threshold': 0.62}\n"
     ]
    },
    {
     "name": "stderr",
     "output_type": "stream",
     "text": [
      "[I 2023-06-22 15:39:26,970] Trial 608 finished with value: 0.7018306255340576 and parameters: {'w1': 0.10592760932932888, 'w2': 0.7931602733983779}. Best is trial 495 with value: 0.7050744295120239.\n"
     ]
    },
    {
     "name": "stdout",
     "output_type": "stream",
     "text": [
      "{'w1': 0.10592760932932888, 'w2': 0.7931602733983779, 'threshold': 0.7}\n"
     ]
    },
    {
     "name": "stderr",
     "output_type": "stream",
     "text": [
      "[I 2023-06-22 15:39:29,160] Trial 609 finished with value: 0.704006016254425 and parameters: {'w1': 0.6649716689015572, 'w2': 0.678523415028408}. Best is trial 495 with value: 0.7050744295120239.\n"
     ]
    },
    {
     "name": "stdout",
     "output_type": "stream",
     "text": [
      "{'w1': 0.6649716689015572, 'w2': 0.678523415028408, 'threshold': 0.62}\n"
     ]
    },
    {
     "name": "stderr",
     "output_type": "stream",
     "text": [
      "[I 2023-06-22 15:39:31,360] Trial 610 finished with value: 0.7025814652442932 and parameters: {'w1': 0.699553711658924, 'w2': 0.5231646211635917}. Best is trial 495 with value: 0.7050744295120239.\n"
     ]
    },
    {
     "name": "stdout",
     "output_type": "stream",
     "text": [
      "{'w1': 0.699553711658924, 'w2': 0.5231646211635917, 'threshold': 0.61}\n"
     ]
    },
    {
     "name": "stderr",
     "output_type": "stream",
     "text": [
      "[I 2023-06-22 15:39:33,555] Trial 611 finished with value: 0.7037345767021179 and parameters: {'w1': 0.46319522515027023, 'w2': 0.7591257423162427}. Best is trial 495 with value: 0.7050744295120239.\n"
     ]
    },
    {
     "name": "stdout",
     "output_type": "stream",
     "text": [
      "{'w1': 0.46319522515027023, 'w2': 0.7591257423162427, 'threshold': 0.65}\n"
     ]
    },
    {
     "name": "stderr",
     "output_type": "stream",
     "text": [
      "[I 2023-06-22 15:39:35,740] Trial 612 finished with value: 0.7037944793701172 and parameters: {'w1': 0.9765570441180272, 'w2': 0.8786604254805428}. Best is trial 495 with value: 0.7050744295120239.\n"
     ]
    },
    {
     "name": "stdout",
     "output_type": "stream",
     "text": [
      "{'w1': 0.9765570441180272, 'w2': 0.8786604254805428, 'threshold': 0.62}\n"
     ]
    },
    {
     "name": "stderr",
     "output_type": "stream",
     "text": [
      "[I 2023-06-22 15:39:37,923] Trial 613 finished with value: 0.7027312517166138 and parameters: {'w1': 0.17227906136801507, 'w2': 0.7126403281700351}. Best is trial 495 with value: 0.7050744295120239.\n"
     ]
    },
    {
     "name": "stdout",
     "output_type": "stream",
     "text": [
      "{'w1': 0.17227906136801507, 'w2': 0.7126403281700351, 'threshold': 0.69}\n"
     ]
    },
    {
     "name": "stderr",
     "output_type": "stream",
     "text": [
      "[I 2023-06-22 15:39:40,105] Trial 614 finished with value: 0.7035872340202332 and parameters: {'w1': 0.06770817796393014, 'w2': 0.05413478220619483}. Best is trial 495 with value: 0.7050744295120239.\n"
     ]
    },
    {
     "name": "stdout",
     "output_type": "stream",
     "text": [
      "{'w1': 0.06770817796393014, 'w2': 0.05413478220619483, 'threshold': 0.61}\n"
     ]
    },
    {
     "name": "stderr",
     "output_type": "stream",
     "text": [
      "[I 2023-06-22 15:39:42,287] Trial 615 finished with value: 0.701797366142273 and parameters: {'w1': 0.6317816189269667, 'w2': 0.39348027814714964}. Best is trial 495 with value: 0.7050744295120239.\n"
     ]
    },
    {
     "name": "stdout",
     "output_type": "stream",
     "text": [
      "{'w1': 0.6317816189269667, 'w2': 0.39348027814714964, 'threshold': 0.6}\n"
     ]
    },
    {
     "name": "stderr",
     "output_type": "stream",
     "text": [
      "[I 2023-06-22 15:39:44,468] Trial 616 finished with value: 0.7031762003898621 and parameters: {'w1': 0.7553176815780419, 'w2': 0.5887836655629346}. Best is trial 495 with value: 0.7050744295120239.\n"
     ]
    },
    {
     "name": "stdout",
     "output_type": "stream",
     "text": [
      "{'w1': 0.7553176815780419, 'w2': 0.5887836655629346, 'threshold': 0.61}\n"
     ]
    },
    {
     "name": "stderr",
     "output_type": "stream",
     "text": [
      "[I 2023-06-22 15:39:46,650] Trial 617 finished with value: 0.7039312124252319 and parameters: {'w1': 0.8389725298261973, 'w2': 0.9696690549257294}. Best is trial 495 with value: 0.7050744295120239.\n"
     ]
    },
    {
     "name": "stdout",
     "output_type": "stream",
     "text": [
      "{'w1': 0.8389725298261973, 'w2': 0.9696690549257294, 'threshold': 0.63}\n"
     ]
    },
    {
     "name": "stderr",
     "output_type": "stream",
     "text": [
      "[I 2023-06-22 15:39:48,833] Trial 618 finished with value: 0.7015159130096436 and parameters: {'w1': 0.5871624896919464, 'w2': 0.35394636229445053}. Best is trial 495 with value: 0.7050744295120239.\n"
     ]
    },
    {
     "name": "stdout",
     "output_type": "stream",
     "text": [
      "{'w1': 0.5871624896919464, 'w2': 0.35394636229445053, 'threshold': 0.6}\n"
     ]
    },
    {
     "name": "stderr",
     "output_type": "stream",
     "text": [
      "[I 2023-06-22 15:39:51,015] Trial 619 finished with value: 0.7013634443283081 and parameters: {'w1': 0.027410182152790674, 'w2': 0.4343571808272701}. Best is trial 495 with value: 0.7050744295120239.\n"
     ]
    },
    {
     "name": "stdout",
     "output_type": "stream",
     "text": [
      "{'w1': 0.027410182152790674, 'w2': 0.4343571808272701, 'threshold': 0.71}\n"
     ]
    },
    {
     "name": "stderr",
     "output_type": "stream",
     "text": [
      "[I 2023-06-22 15:39:53,200] Trial 620 finished with value: 0.7040116786956787 and parameters: {'w1': 0.8140363931629817, 'w2': 0.8299556553352843}. Best is trial 495 with value: 0.7050744295120239.\n"
     ]
    },
    {
     "name": "stdout",
     "output_type": "stream",
     "text": [
      "{'w1': 0.8140363931629817, 'w2': 0.8299556553352843, 'threshold': 0.62}\n"
     ]
    },
    {
     "name": "stderr",
     "output_type": "stream",
     "text": [
      "[I 2023-06-22 15:39:55,381] Trial 621 finished with value: 0.7040360569953918 and parameters: {'w1': 0.728211843723679, 'w2': 0.7312203296376548}. Best is trial 495 with value: 0.7050744295120239.\n"
     ]
    },
    {
     "name": "stdout",
     "output_type": "stream",
     "text": [
      "{'w1': 0.728211843723679, 'w2': 0.7312203296376548, 'threshold': 0.62}\n"
     ]
    },
    {
     "name": "stderr",
     "output_type": "stream",
     "text": [
      "[I 2023-06-22 15:39:57,564] Trial 622 finished with value: 0.7045797109603882 and parameters: {'w1': 0.6856943345893617, 'w2': 0.7715185860911521}. Best is trial 495 with value: 0.7050744295120239.\n"
     ]
    },
    {
     "name": "stdout",
     "output_type": "stream",
     "text": [
      "{'w1': 0.6856943345893617, 'w2': 0.7715185860911521, 'threshold': 0.63}\n"
     ]
    },
    {
     "name": "stderr",
     "output_type": "stream",
     "text": [
      "[I 2023-06-22 15:39:59,747] Trial 623 finished with value: 0.7032513618469238 and parameters: {'w1': 0.3935904887132555, 'w2': 0.8017419792939114}. Best is trial 495 with value: 0.7050744295120239.\n"
     ]
    },
    {
     "name": "stdout",
     "output_type": "stream",
     "text": [
      "{'w1': 0.3935904887132555, 'w2': 0.8017419792939114, 'threshold': 0.66}\n"
     ]
    },
    {
     "name": "stderr",
     "output_type": "stream",
     "text": [
      "[I 2023-06-22 15:40:01,929] Trial 624 finished with value: 0.7019892334938049 and parameters: {'w1': 0.7703468591527051, 'w2': 0.4905344801117663}. Best is trial 495 with value: 0.7050744295120239.\n"
     ]
    },
    {
     "name": "stdout",
     "output_type": "stream",
     "text": [
      "{'w1': 0.7703468591527051, 'w2': 0.4905344801117663, 'threshold': 0.6}\n"
     ]
    },
    {
     "name": "stderr",
     "output_type": "stream",
     "text": [
      "[I 2023-06-22 15:40:04,112] Trial 625 finished with value: 0.7043012976646423 and parameters: {'w1': 0.7884737714562858, 'w2': 0.8982590660821476}. Best is trial 495 with value: 0.7050744295120239.\n"
     ]
    },
    {
     "name": "stdout",
     "output_type": "stream",
     "text": [
      "{'w1': 0.7884737714562858, 'w2': 0.8982590660821476, 'threshold': 0.63}\n"
     ]
    },
    {
     "name": "stderr",
     "output_type": "stream",
     "text": [
      "[I 2023-06-22 15:40:06,295] Trial 626 finished with value: 0.7043370604515076 and parameters: {'w1': 0.6718649009713062, 'w2': 0.7460296505552702}. Best is trial 495 with value: 0.7050744295120239.\n"
     ]
    },
    {
     "name": "stdout",
     "output_type": "stream",
     "text": [
      "{'w1': 0.6718649009713062, 'w2': 0.7460296505552702, 'threshold': 0.63}\n"
     ]
    },
    {
     "name": "stderr",
     "output_type": "stream",
     "text": [
      "[I 2023-06-22 15:40:08,477] Trial 627 finished with value: 0.7023364901542664 and parameters: {'w1': 0.2143006271290534, 'w2': 0.7811967461093622}. Best is trial 495 with value: 0.7050744295120239.\n"
     ]
    },
    {
     "name": "stdout",
     "output_type": "stream",
     "text": [
      "{'w1': 0.2143006271290534, 'w2': 0.7811967461093622, 'threshold': 0.68}\n"
     ]
    },
    {
     "name": "stderr",
     "output_type": "stream",
     "text": [
      "[I 2023-06-22 15:40:10,659] Trial 628 finished with value: 0.7009899020195007 and parameters: {'w1': 0.18129127778140564, 'w2': 0.09127998691486394}. Best is trial 495 with value: 0.7050744295120239.\n"
     ]
    },
    {
     "name": "stdout",
     "output_type": "stream",
     "text": [
      "{'w1': 0.18129127778140564, 'w2': 0.09127998691486394, 'threshold': 0.59}\n"
     ]
    },
    {
     "name": "stderr",
     "output_type": "stream",
     "text": [
      "[I 2023-06-22 15:40:12,844] Trial 629 finished with value: 0.7040985226631165 and parameters: {'w1': 0.8697644393455896, 'w2': 0.8596929079164187}. Best is trial 495 with value: 0.7050744295120239.\n"
     ]
    },
    {
     "name": "stdout",
     "output_type": "stream",
     "text": [
      "{'w1': 0.8697644393455896, 'w2': 0.8596929079164187, 'threshold': 0.62}\n"
     ]
    },
    {
     "name": "stderr",
     "output_type": "stream",
     "text": [
      "[I 2023-06-22 15:40:15,027] Trial 630 finished with value: 0.7020589113235474 and parameters: {'w1': 0.9079052958141276, 'w2': 0.639946271532726}. Best is trial 495 with value: 0.7050744295120239.\n"
     ]
    },
    {
     "name": "stdout",
     "output_type": "stream",
     "text": [
      "{'w1': 0.9079052958141276, 'w2': 0.639946271532726, 'threshold': 0.61}\n"
     ]
    },
    {
     "name": "stderr",
     "output_type": "stream",
     "text": [
      "[I 2023-06-22 15:40:17,213] Trial 631 finished with value: 0.7039769291877747 and parameters: {'w1': 0.5125228027501493, 'w2': 0.698874560498711}. Best is trial 495 with value: 0.7050744295120239.\n"
     ]
    },
    {
     "name": "stdout",
     "output_type": "stream",
     "text": [
      "{'w1': 0.5125228027501493, 'w2': 0.698874560498711, 'threshold': 0.64}\n"
     ]
    },
    {
     "name": "stderr",
     "output_type": "stream",
     "text": [
      "[I 2023-06-22 15:40:19,401] Trial 632 finished with value: 0.7041263580322266 and parameters: {'w1': 0.3176283225943983, 'w2': 0.31189094383149935}. Best is trial 495 with value: 0.7050744295120239.\n"
     ]
    },
    {
     "name": "stdout",
     "output_type": "stream",
     "text": [
      "{'w1': 0.3176283225943983, 'w2': 0.31189094383149935, 'threshold': 0.62}\n"
     ]
    },
    {
     "name": "stderr",
     "output_type": "stream",
     "text": [
      "[I 2023-06-22 15:40:21,583] Trial 633 finished with value: 0.7040150165557861 and parameters: {'w1': 0.7143234465472293, 'w2': 0.8212628757512013}. Best is trial 495 with value: 0.7050744295120239.\n"
     ]
    },
    {
     "name": "stdout",
     "output_type": "stream",
     "text": [
      "{'w1': 0.7143234465472293, 'w2': 0.8212628757512013, 'threshold': 0.63}\n"
     ]
    },
    {
     "name": "stderr",
     "output_type": "stream",
     "text": [
      "[I 2023-06-22 15:40:23,765] Trial 634 finished with value: 0.70283043384552 and parameters: {'w1': 0.29027115494458294, 'w2': 0.7625914303151551}. Best is trial 495 with value: 0.7050744295120239.\n"
     ]
    },
    {
     "name": "stdout",
     "output_type": "stream",
     "text": [
      "{'w1': 0.29027115494458294, 'w2': 0.7625914303151551, 'threshold': 0.67}\n"
     ]
    },
    {
     "name": "stderr",
     "output_type": "stream",
     "text": [
      "[I 2023-06-22 15:40:25,948] Trial 635 finished with value: 0.7032545208930969 and parameters: {'w1': 0.3230834225546879, 'w2': 0.6118947452290378}. Best is trial 495 with value: 0.7050744295120239.\n"
     ]
    },
    {
     "name": "stdout",
     "output_type": "stream",
     "text": [
      "{'w1': 0.3230834225546879, 'w2': 0.6118947452290378, 'threshold': 0.66}\n"
     ]
    },
    {
     "name": "stderr",
     "output_type": "stream",
     "text": [
      "[I 2023-06-22 15:40:28,131] Trial 636 finished with value: 0.7043490409851074 and parameters: {'w1': 0.7477410059096591, 'w2': 0.7217499002748059}. Best is trial 495 with value: 0.7050744295120239.\n"
     ]
    },
    {
     "name": "stdout",
     "output_type": "stream",
     "text": [
      "{'w1': 0.7477410059096591, 'w2': 0.7217499002748059, 'threshold': 0.62}\n"
     ]
    },
    {
     "name": "stderr",
     "output_type": "stream",
     "text": [
      "[I 2023-06-22 15:40:30,317] Trial 637 finished with value: 0.703494668006897 and parameters: {'w1': 0.622712702605179, 'w2': 0.794292977526379}. Best is trial 495 with value: 0.7050744295120239.\n"
     ]
    },
    {
     "name": "stdout",
     "output_type": "stream",
     "text": [
      "{'w1': 0.622712702605179, 'w2': 0.794292977526379, 'threshold': 0.64}\n"
     ]
    },
    {
     "name": "stderr",
     "output_type": "stream",
     "text": [
      "[I 2023-06-22 15:40:32,501] Trial 638 finished with value: 0.7031002640724182 and parameters: {'w1': 0.47976709597401335, 'w2': 0.8452174455287956}. Best is trial 495 with value: 0.7050744295120239.\n"
     ]
    },
    {
     "name": "stdout",
     "output_type": "stream",
     "text": [
      "{'w1': 0.47976709597401335, 'w2': 0.8452174455287956, 'threshold': 0.65}\n"
     ]
    },
    {
     "name": "stderr",
     "output_type": "stream",
     "text": [
      "[I 2023-06-22 15:40:34,683] Trial 639 finished with value: 0.7012389302253723 and parameters: {'w1': 0.8026458618153917, 'w2': 0.4177047746886611}. Best is trial 495 with value: 0.7050744295120239.\n"
     ]
    },
    {
     "name": "stdout",
     "output_type": "stream",
     "text": [
      "{'w1': 0.8026458618153917, 'w2': 0.4177047746886611, 'threshold': 0.59}\n"
     ]
    },
    {
     "name": "stderr",
     "output_type": "stream",
     "text": [
      "[I 2023-06-22 15:40:36,866] Trial 640 finished with value: 0.7036682367324829 and parameters: {'w1': 0.8325381393575665, 'w2': 0.7417488570611482}. Best is trial 495 with value: 0.7050744295120239.\n"
     ]
    },
    {
     "name": "stdout",
     "output_type": "stream",
     "text": [
      "{'w1': 0.8325381393575665, 'w2': 0.7417488570611482, 'threshold': 0.62}\n"
     ]
    },
    {
     "name": "stderr",
     "output_type": "stream",
     "text": [
      "[I 2023-06-22 15:40:39,056] Trial 641 finished with value: 0.7016309499740601 and parameters: {'w1': 0.43631622306332174, 'w2': 0.26636120447259937}. Best is trial 495 with value: 0.7050744295120239.\n"
     ]
    },
    {
     "name": "stdout",
     "output_type": "stream",
     "text": [
      "{'w1': 0.43631622306332174, 'w2': 0.26636120447259937, 'threshold': 0.6}\n"
     ]
    },
    {
     "name": "stderr",
     "output_type": "stream",
     "text": [
      "[I 2023-06-22 15:40:41,245] Trial 642 finished with value: 0.7033698558807373 and parameters: {'w1': 0.6466025157383524, 'w2': 0.9334981196751215}. Best is trial 495 with value: 0.7050744295120239.\n"
     ]
    },
    {
     "name": "stdout",
     "output_type": "stream",
     "text": [
      "{'w1': 0.6466025157383524, 'w2': 0.9334981196751215, 'threshold': 0.64}\n"
     ]
    },
    {
     "name": "stderr",
     "output_type": "stream",
     "text": [
      "[I 2023-06-22 15:40:43,436] Trial 643 finished with value: 0.7015508413314819 and parameters: {'w1': 0.040843349591976774, 'w2': 0.8209293768191813}. Best is trial 495 with value: 0.7050744295120239.\n"
     ]
    },
    {
     "name": "stdout",
     "output_type": "stream",
     "text": [
      "{'w1': 0.040843349591976774, 'w2': 0.8209293768191813, 'threshold': 0.72}\n"
     ]
    },
    {
     "name": "stderr",
     "output_type": "stream",
     "text": [
      "[I 2023-06-22 15:40:45,632] Trial 644 finished with value: 0.7038665413856506 and parameters: {'w1': 0.5658358845195958, 'w2': 0.6558101037134634}. Best is trial 495 with value: 0.7050744295120239.\n"
     ]
    },
    {
     "name": "stdout",
     "output_type": "stream",
     "text": [
      "{'w1': 0.5658358845195958, 'w2': 0.6558101037134634, 'threshold': 0.63}\n"
     ]
    },
    {
     "name": "stderr",
     "output_type": "stream",
     "text": [
      "[I 2023-06-22 15:40:47,829] Trial 645 finished with value: 0.7035765647888184 and parameters: {'w1': 0.731205267011987, 'w2': 0.766761798292254}. Best is trial 495 with value: 0.7050744295120239.\n"
     ]
    },
    {
     "name": "stdout",
     "output_type": "stream",
     "text": [
      "{'w1': 0.731205267011987, 'w2': 0.766761798292254, 'threshold': 0.62}\n"
     ]
    },
    {
     "name": "stderr",
     "output_type": "stream",
     "text": [
      "[I 2023-06-22 15:40:50,016] Trial 646 finished with value: 0.7034245133399963 and parameters: {'w1': 0.4572749133527257, 'w2': 0.9158711948057868}. Best is trial 495 with value: 0.7050744295120239.\n"
     ]
    },
    {
     "name": "stdout",
     "output_type": "stream",
     "text": [
      "{'w1': 0.4572749133527257, 'w2': 0.9158711948057868, 'threshold': 0.66}\n"
     ]
    },
    {
     "name": "stderr",
     "output_type": "stream",
     "text": [
      "[I 2023-06-22 15:40:52,211] Trial 647 finished with value: 0.7043772339820862 and parameters: {'w1': 0.8551299817223463, 'w2': 0.7935688500410932}. Best is trial 495 with value: 0.7050744295120239.\n"
     ]
    },
    {
     "name": "stdout",
     "output_type": "stream",
     "text": [
      "{'w1': 0.8551299817223463, 'w2': 0.7935688500410932, 'threshold': 0.62}\n"
     ]
    },
    {
     "name": "stderr",
     "output_type": "stream",
     "text": [
      "[I 2023-06-22 15:40:54,394] Trial 648 finished with value: 0.70445716381073 and parameters: {'w1': 0.7628096973267616, 'w2': 0.7109174006519304}. Best is trial 495 with value: 0.7050744295120239.\n"
     ]
    },
    {
     "name": "stdout",
     "output_type": "stream",
     "text": [
      "{'w1': 0.7628096973267616, 'w2': 0.7109174006519304, 'threshold': 0.62}\n"
     ]
    },
    {
     "name": "stderr",
     "output_type": "stream",
     "text": [
      "[I 2023-06-22 15:40:56,577] Trial 649 finished with value: 0.7034726142883301 and parameters: {'w1': 0.2238774861723325, 'w2': 0.6792641987740113}. Best is trial 495 with value: 0.7050744295120239.\n"
     ]
    },
    {
     "name": "stdout",
     "output_type": "stream",
     "text": [
      "{'w1': 0.2238774861723325, 'w2': 0.6792641987740113, 'threshold': 0.68}\n"
     ]
    },
    {
     "name": "stderr",
     "output_type": "stream",
     "text": [
      "[I 2023-06-22 15:40:58,759] Trial 650 finished with value: 0.7034114599227905 and parameters: {'w1': 0.6931890840313726, 'w2': 0.875127083361599}. Best is trial 495 with value: 0.7050744295120239.\n"
     ]
    },
    {
     "name": "stdout",
     "output_type": "stream",
     "text": [
      "{'w1': 0.6931890840313726, 'w2': 0.875127083361599, 'threshold': 0.64}\n"
     ]
    },
    {
     "name": "stderr",
     "output_type": "stream",
     "text": [
      "[I 2023-06-22 15:41:00,943] Trial 651 finished with value: 0.7031459212303162 and parameters: {'w1': 0.9453938398030647, 'w2': 0.734506802914488}. Best is trial 495 with value: 0.7050744295120239.\n"
     ]
    },
    {
     "name": "stdout",
     "output_type": "stream",
     "text": [
      "{'w1': 0.9453938398030647, 'w2': 0.734506802914488, 'threshold': 0.61}\n"
     ]
    },
    {
     "name": "stderr",
     "output_type": "stream",
     "text": [
      "[I 2023-06-22 15:41:03,126] Trial 652 finished with value: 0.703559398651123 and parameters: {'w1': 0.8770726532628171, 'w2': 0.7754393755385208}. Best is trial 495 with value: 0.7050744295120239.\n"
     ]
    },
    {
     "name": "stdout",
     "output_type": "stream",
     "text": [
      "{'w1': 0.8770726532628171, 'w2': 0.7754393755385208, 'threshold': 0.62}\n"
     ]
    },
    {
     "name": "stderr",
     "output_type": "stream",
     "text": [
      "[I 2023-06-22 15:41:05,308] Trial 653 finished with value: 0.7028008699417114 and parameters: {'w1': 0.3653886084103696, 'w2': 0.9656678208250769}. Best is trial 495 with value: 0.7050744295120239.\n"
     ]
    },
    {
     "name": "stdout",
     "output_type": "stream",
     "text": [
      "{'w1': 0.3653886084103696, 'w2': 0.9656678208250769, 'threshold': 0.67}\n"
     ]
    },
    {
     "name": "stderr",
     "output_type": "stream",
     "text": [
      "[I 2023-06-22 15:41:07,492] Trial 654 finished with value: 0.7027788758277893 and parameters: {'w1': 0.14272940831009873, 'w2': 0.46119568469228067}. Best is trial 495 with value: 0.7050744295120239.\n"
     ]
    },
    {
     "name": "stdout",
     "output_type": "stream",
     "text": [
      "{'w1': 0.14272940831009873, 'w2': 0.46119568469228067, 'threshold': 0.68}\n"
     ]
    },
    {
     "name": "stderr",
     "output_type": "stream",
     "text": [
      "[I 2023-06-22 15:41:09,674] Trial 655 finished with value: 0.7043207883834839 and parameters: {'w1': 0.7828747159737205, 'w2': 0.7562419283728592}. Best is trial 495 with value: 0.7050744295120239.\n"
     ]
    },
    {
     "name": "stdout",
     "output_type": "stream",
     "text": [
      "{'w1': 0.7828747159737205, 'w2': 0.7562419283728592, 'threshold': 0.62}\n"
     ]
    },
    {
     "name": "stderr",
     "output_type": "stream",
     "text": [
      "[I 2023-06-22 15:41:11,863] Trial 656 finished with value: 0.7026870846748352 and parameters: {'w1': 0.3590817741396131, 'w2': 0.8146897053232139}. Best is trial 495 with value: 0.7050744295120239.\n"
     ]
    },
    {
     "name": "stdout",
     "output_type": "stream",
     "text": [
      "{'w1': 0.3590817741396131, 'w2': 0.8146897053232139, 'threshold': 0.66}\n"
     ]
    },
    {
     "name": "stderr",
     "output_type": "stream",
     "text": [
      "[I 2023-06-22 15:41:14,046] Trial 657 finished with value: 0.7034124732017517 and parameters: {'w1': 0.5973269576330901, 'w2': 0.857601363200112}. Best is trial 495 with value: 0.7050744295120239.\n"
     ]
    },
    {
     "name": "stdout",
     "output_type": "stream",
     "text": [
      "{'w1': 0.5973269576330901, 'w2': 0.857601363200112, 'threshold': 0.64}\n"
     ]
    },
    {
     "name": "stderr",
     "output_type": "stream",
     "text": [
      "[I 2023-06-22 15:41:16,229] Trial 658 finished with value: 0.7036353349685669 and parameters: {'w1': 0.650678627400243, 'w2': 0.838914967473731}. Best is trial 495 with value: 0.7050744295120239.\n"
     ]
    },
    {
     "name": "stdout",
     "output_type": "stream",
     "text": [
      "{'w1': 0.650678627400243, 'w2': 0.838914967473731, 'threshold': 0.64}\n"
     ]
    },
    {
     "name": "stderr",
     "output_type": "stream",
     "text": [
      "[I 2023-06-22 15:41:18,415] Trial 659 finished with value: 0.7042292952537537 and parameters: {'w1': 0.7147028962253053, 'w2': 0.7880793093600849}. Best is trial 495 with value: 0.7050744295120239.\n"
     ]
    },
    {
     "name": "stdout",
     "output_type": "stream",
     "text": [
      "{'w1': 0.7147028962253053, 'w2': 0.7880793093600849, 'threshold': 0.63}\n"
     ]
    },
    {
     "name": "stderr",
     "output_type": "stream",
     "text": [
      "[I 2023-06-22 15:41:20,613] Trial 660 finished with value: 0.7036531567573547 and parameters: {'w1': 0.8222496322336112, 'w2': 0.7319407479938523}. Best is trial 495 with value: 0.7050744295120239.\n"
     ]
    },
    {
     "name": "stdout",
     "output_type": "stream",
     "text": [
      "{'w1': 0.8222496322336112, 'w2': 0.7319407479938523, 'threshold': 0.62}\n"
     ]
    },
    {
     "name": "stderr",
     "output_type": "stream",
     "text": [
      "[I 2023-06-22 15:41:22,814] Trial 661 finished with value: 0.7036074995994568 and parameters: {'w1': 0.6732316407845352, 'w2': 0.703647648085995}. Best is trial 495 with value: 0.7050744295120239.\n"
     ]
    },
    {
     "name": "stdout",
     "output_type": "stream",
     "text": [
      "{'w1': 0.6732316407845352, 'w2': 0.703647648085995, 'threshold': 0.62}\n"
     ]
    },
    {
     "name": "stderr",
     "output_type": "stream",
     "text": [
      "[I 2023-06-22 15:41:25,017] Trial 662 finished with value: 0.7035025358200073 and parameters: {'w1': 0.9202337858345861, 'w2': 0.8098437692762589}. Best is trial 495 with value: 0.7050744295120239.\n"
     ]
    },
    {
     "name": "stdout",
     "output_type": "stream",
     "text": [
      "{'w1': 0.9202337858345861, 'w2': 0.8098437692762589, 'threshold': 0.62}\n"
     ]
    },
    {
     "name": "stderr",
     "output_type": "stream",
     "text": [
      "[I 2023-06-22 15:41:27,216] Trial 663 finished with value: 0.7013959288597107 and parameters: {'w1': 0.06623327490651687, 'w2': 0.9832075297091538}. Best is trial 495 with value: 0.7050744295120239.\n"
     ]
    },
    {
     "name": "stdout",
     "output_type": "stream",
     "text": [
      "{'w1': 0.06623327490651687, 'w2': 0.9832075297091538, 'threshold': 0.71}\n"
     ]
    },
    {
     "name": "stderr",
     "output_type": "stream",
     "text": [
      "[I 2023-06-22 15:41:29,403] Trial 664 finished with value: 0.7035501003265381 and parameters: {'w1': 0.7451582331207209, 'w2': 0.8926977279020516}. Best is trial 495 with value: 0.7050744295120239.\n"
     ]
    },
    {
     "name": "stdout",
     "output_type": "stream",
     "text": [
      "{'w1': 0.7451582331207209, 'w2': 0.8926977279020516, 'threshold': 0.63}\n"
     ]
    },
    {
     "name": "stderr",
     "output_type": "stream",
     "text": [
      "[I 2023-06-22 15:41:31,600] Trial 665 finished with value: 0.7035861015319824 and parameters: {'w1': 0.39619428815292207, 'w2': 0.9475984112795662}. Best is trial 495 with value: 0.7050744295120239.\n"
     ]
    },
    {
     "name": "stdout",
     "output_type": "stream",
     "text": [
      "{'w1': 0.39619428815292207, 'w2': 0.9475984112795662, 'threshold': 0.67}\n"
     ]
    },
    {
     "name": "stderr",
     "output_type": "stream",
     "text": [
      "[I 2023-06-22 15:41:33,787] Trial 666 finished with value: 0.7044939398765564 and parameters: {'w1': 0.8066574528595606, 'w2': 0.753336145471079}. Best is trial 495 with value: 0.7050744295120239.\n"
     ]
    },
    {
     "name": "stdout",
     "output_type": "stream",
     "text": [
      "{'w1': 0.8066574528595606, 'w2': 0.753336145471079, 'threshold': 0.62}\n"
     ]
    },
    {
     "name": "stderr",
     "output_type": "stream",
     "text": [
      "[I 2023-06-22 15:41:35,969] Trial 667 finished with value: 0.7033848166465759 and parameters: {'w1': 0.8897637989808126, 'w2': 0.7745246831070868}. Best is trial 495 with value: 0.7050744295120239.\n"
     ]
    },
    {
     "name": "stdout",
     "output_type": "stream",
     "text": [
      "{'w1': 0.8897637989808126, 'w2': 0.7745246831070868, 'threshold': 0.62}\n"
     ]
    },
    {
     "name": "stderr",
     "output_type": "stream",
     "text": [
      "[I 2023-06-22 15:41:38,152] Trial 668 finished with value: 0.7035366892814636 and parameters: {'w1': 0.6915336775908967, 'w2': 0.8299416021199248}. Best is trial 495 with value: 0.7050744295120239.\n"
     ]
    },
    {
     "name": "stdout",
     "output_type": "stream",
     "text": [
      "{'w1': 0.6915336775908967, 'w2': 0.8299416021199248, 'threshold': 0.63}\n"
     ]
    },
    {
     "name": "stderr",
     "output_type": "stream",
     "text": [
      "[I 2023-06-22 15:41:40,335] Trial 669 finished with value: 0.7023172378540039 and parameters: {'w1': 0.8461305955302362, 'w2': 0.5502413198816829}. Best is trial 495 with value: 0.7050744295120239.\n"
     ]
    },
    {
     "name": "stdout",
     "output_type": "stream",
     "text": [
      "{'w1': 0.8461305955302362, 'w2': 0.5502413198816829, 'threshold': 0.6}\n"
     ]
    },
    {
     "name": "stderr",
     "output_type": "stream",
     "text": [
      "[I 2023-06-22 15:41:42,520] Trial 670 finished with value: 0.6987868547439575 and parameters: {'w1': 0.7756626763219078, 'w2': 0.2119317288854785}. Best is trial 495 with value: 0.7050744295120239.\n"
     ]
    },
    {
     "name": "stdout",
     "output_type": "stream",
     "text": [
      "{'w1': 0.7756626763219078, 'w2': 0.2119317288854785, 'threshold': 0.56}\n"
     ]
    },
    {
     "name": "stderr",
     "output_type": "stream",
     "text": [
      "[I 2023-06-22 15:41:44,709] Trial 671 finished with value: 0.7031684517860413 and parameters: {'w1': 0.34040111197479395, 'w2': 0.8002824371477872}. Best is trial 495 with value: 0.7050744295120239.\n"
     ]
    },
    {
     "name": "stdout",
     "output_type": "stream",
     "text": [
      "{'w1': 0.34040111197479395, 'w2': 0.8002824371477872, 'threshold': 0.67}\n"
     ]
    },
    {
     "name": "stderr",
     "output_type": "stream",
     "text": [
      "[I 2023-06-22 15:41:46,920] Trial 672 finished with value: 0.7032975554466248 and parameters: {'w1': 0.4929442845920503, 'w2': 0.9987921554878924}. Best is trial 495 with value: 0.7050744295120239.\n"
     ]
    },
    {
     "name": "stdout",
     "output_type": "stream",
     "text": [
      "{'w1': 0.4929442845920503, 'w2': 0.9987921554878924, 'threshold': 0.66}\n"
     ]
    },
    {
     "name": "stderr",
     "output_type": "stream",
     "text": [
      "[I 2023-06-22 15:41:49,125] Trial 673 finished with value: 0.7040995955467224 and parameters: {'w1': 0.7304734454976061, 'w2': 0.7192178242602276}. Best is trial 495 with value: 0.7050744295120239.\n"
     ]
    },
    {
     "name": "stdout",
     "output_type": "stream",
     "text": [
      "{'w1': 0.7304734454976061, 'w2': 0.7192178242602276, 'threshold': 0.62}\n"
     ]
    },
    {
     "name": "stderr",
     "output_type": "stream",
     "text": [
      "[I 2023-06-22 15:41:51,324] Trial 674 finished with value: 0.7023285031318665 and parameters: {'w1': 0.18738524322330408, 'w2': 0.6856462373552683}. Best is trial 495 with value: 0.7050744295120239.\n"
     ]
    },
    {
     "name": "stdout",
     "output_type": "stream",
     "text": [
      "{'w1': 0.18738524322330408, 'w2': 0.6856462373552683, 'threshold': 0.68}\n"
     ]
    },
    {
     "name": "stderr",
     "output_type": "stream",
     "text": [
      "[I 2023-06-22 15:41:53,530] Trial 675 finished with value: 0.7035504579544067 and parameters: {'w1': 0.624594663959252, 'w2': 0.7483710980243189}. Best is trial 495 with value: 0.7050744295120239.\n"
     ]
    },
    {
     "name": "stdout",
     "output_type": "stream",
     "text": [
      "{'w1': 0.624594663959252, 'w2': 0.7483710980243189, 'threshold': 0.63}\n"
     ]
    },
    {
     "name": "stderr",
     "output_type": "stream",
     "text": [
      "[I 2023-06-22 15:41:55,731] Trial 676 finished with value: 0.7020357251167297 and parameters: {'w1': 0.14867974014434004, 'w2': 0.7728078688138907}. Best is trial 495 with value: 0.7050744295120239.\n"
     ]
    },
    {
     "name": "stdout",
     "output_type": "stream",
     "text": [
      "{'w1': 0.14867974014434004, 'w2': 0.7728078688138907, 'threshold': 0.69}\n"
     ]
    },
    {
     "name": "stderr",
     "output_type": "stream",
     "text": [
      "[I 2023-06-22 15:41:57,927] Trial 677 finished with value: 0.7021294236183167 and parameters: {'w1': 0.08812389166610768, 'w2': 0.7371497605432902}. Best is trial 495 with value: 0.7050744295120239.\n"
     ]
    },
    {
     "name": "stdout",
     "output_type": "stream",
     "text": [
      "{'w1': 0.08812389166610768, 'w2': 0.7371497605432902, 'threshold': 0.71}\n"
     ]
    },
    {
     "name": "stderr",
     "output_type": "stream",
     "text": [
      "[I 2023-06-22 15:42:00,125] Trial 678 finished with value: 0.7025132775306702 and parameters: {'w1': 0.20230689581262817, 'w2': 0.8705814116578459}. Best is trial 495 with value: 0.7050744295120239.\n"
     ]
    },
    {
     "name": "stdout",
     "output_type": "stream",
     "text": [
      "{'w1': 0.20230689581262817, 'w2': 0.8705814116578459, 'threshold': 0.69}\n"
     ]
    },
    {
     "name": "stderr",
     "output_type": "stream",
     "text": [
      "[I 2023-06-22 15:42:02,319] Trial 679 finished with value: 0.7035654187202454 and parameters: {'w1': 0.7116194113954226, 'w2': 0.912035712037076}. Best is trial 495 with value: 0.7050744295120239.\n"
     ]
    },
    {
     "name": "stdout",
     "output_type": "stream",
     "text": [
      "{'w1': 0.7116194113954226, 'w2': 0.912035712037076, 'threshold': 0.64}\n"
     ]
    },
    {
     "name": "stderr",
     "output_type": "stream",
     "text": [
      "[I 2023-06-22 15:42:04,521] Trial 680 finished with value: 0.7034376263618469 and parameters: {'w1': 0.9648963668252735, 'w2': 0.8443194096652876}. Best is trial 495 with value: 0.7050744295120239.\n"
     ]
    },
    {
     "name": "stdout",
     "output_type": "stream",
     "text": [
      "{'w1': 0.9648963668252735, 'w2': 0.8443194096652876, 'threshold': 0.62}\n"
     ]
    },
    {
     "name": "stderr",
     "output_type": "stream",
     "text": [
      "[I 2023-06-22 15:42:06,705] Trial 681 finished with value: 0.7036334276199341 and parameters: {'w1': 0.7581081583998155, 'w2': 0.8000719998669692}. Best is trial 495 with value: 0.7050744295120239.\n"
     ]
    },
    {
     "name": "stdout",
     "output_type": "stream",
     "text": [
      "{'w1': 0.7581081583998155, 'w2': 0.8000719998669692, 'threshold': 0.63}\n"
     ]
    },
    {
     "name": "stderr",
     "output_type": "stream",
     "text": [
      "[I 2023-06-22 15:42:08,890] Trial 682 finished with value: 0.7040525078773499 and parameters: {'w1': 0.5780982158644791, 'w2': 0.761289616881284}. Best is trial 495 with value: 0.7050744295120239.\n"
     ]
    },
    {
     "name": "stdout",
     "output_type": "stream",
     "text": [
      "{'w1': 0.5780982158644791, 'w2': 0.761289616881284, 'threshold': 0.64}\n"
     ]
    },
    {
     "name": "stderr",
     "output_type": "stream",
     "text": [
      "[I 2023-06-22 15:42:11,087] Trial 683 finished with value: 0.703561544418335 and parameters: {'w1': 0.9312845300822018, 'w2': 0.8231683595015048}. Best is trial 495 with value: 0.7050744295120239.\n"
     ]
    },
    {
     "name": "stdout",
     "output_type": "stream",
     "text": [
      "{'w1': 0.9312845300822018, 'w2': 0.8231683595015048, 'threshold': 0.62}\n"
     ]
    },
    {
     "name": "stderr",
     "output_type": "stream",
     "text": [
      "[I 2023-06-22 15:42:13,286] Trial 684 finished with value: 0.7025616765022278 and parameters: {'w1': 0.7892419649485365, 'w2': 0.5886991100290152}. Best is trial 495 with value: 0.7050744295120239.\n"
     ]
    },
    {
     "name": "stdout",
     "output_type": "stream",
     "text": [
      "{'w1': 0.7892419649485365, 'w2': 0.5886991100290152, 'threshold': 0.61}\n"
     ]
    },
    {
     "name": "stderr",
     "output_type": "stream",
     "text": [
      "[I 2023-06-22 15:42:15,483] Trial 685 finished with value: 0.703326404094696 and parameters: {'w1': 0.32659641893520786, 'w2': 0.6592085068223151}. Best is trial 495 with value: 0.7050744295120239.\n"
     ]
    },
    {
     "name": "stdout",
     "output_type": "stream",
     "text": [
      "{'w1': 0.32659641893520786, 'w2': 0.6592085068223151, 'threshold': 0.66}\n"
     ]
    },
    {
     "name": "stderr",
     "output_type": "stream",
     "text": [
      "[I 2023-06-22 15:42:17,677] Trial 686 finished with value: 0.7045103311538696 and parameters: {'w1': 0.9997561245398903, 'w2': 0.9596918745420705}. Best is trial 495 with value: 0.7050744295120239.\n"
     ]
    },
    {
     "name": "stdout",
     "output_type": "stream",
     "text": [
      "{'w1': 0.9997561245398903, 'w2': 0.9596918745420705, 'threshold': 0.62}\n"
     ]
    },
    {
     "name": "stderr",
     "output_type": "stream",
     "text": [
      "[I 2023-06-22 15:42:19,874] Trial 687 finished with value: 0.7033204436302185 and parameters: {'w1': 0.4198549039045649, 'w2': 0.7127935211494538}. Best is trial 495 with value: 0.7050744295120239.\n"
     ]
    },
    {
     "name": "stdout",
     "output_type": "stream",
     "text": [
      "{'w1': 0.4198549039045649, 'w2': 0.7127935211494538, 'threshold': 0.65}\n"
     ]
    },
    {
     "name": "stderr",
     "output_type": "stream",
     "text": [
      "[I 2023-06-22 15:42:22,062] Trial 688 finished with value: 0.7035998106002808 and parameters: {'w1': 0.6565620561602931, 'w2': 0.7830879769964963}. Best is trial 495 with value: 0.7050744295120239.\n"
     ]
    },
    {
     "name": "stdout",
     "output_type": "stream",
     "text": [
      "{'w1': 0.6565620561602931, 'w2': 0.7830879769964963, 'threshold': 0.63}\n"
     ]
    },
    {
     "name": "stderr",
     "output_type": "stream",
     "text": [
      "[I 2023-06-22 15:42:24,245] Trial 689 finished with value: 0.6966022849082947 and parameters: {'w1': 0.821845452697013, 'w2': 0.030593145969728286}. Best is trial 495 with value: 0.7050744295120239.\n"
     ]
    },
    {
     "name": "stdout",
     "output_type": "stream",
     "text": [
      "{'w1': 0.821845452697013, 'w2': 0.030593145969728286, 'threshold': 0.6}\n"
     ]
    },
    {
     "name": "stderr",
     "output_type": "stream",
     "text": [
      "[I 2023-06-22 15:42:26,427] Trial 690 finished with value: 0.7037994265556335 and parameters: {'w1': 0.5320553208227233, 'w2': 0.7321647028251189}. Best is trial 495 with value: 0.7050744295120239.\n"
     ]
    },
    {
     "name": "stdout",
     "output_type": "stream",
     "text": [
      "{'w1': 0.5320553208227233, 'w2': 0.7321647028251189, 'threshold': 0.64}\n"
     ]
    },
    {
     "name": "stderr",
     "output_type": "stream",
     "text": [
      "[I 2023-06-22 15:42:28,611] Trial 691 finished with value: 0.7010281682014465 and parameters: {'w1': 0.8671256358779192, 'w2': 0.4145981754523559}. Best is trial 495 with value: 0.7050744295120239.\n"
     ]
    },
    {
     "name": "stdout",
     "output_type": "stream",
     "text": [
      "{'w1': 0.8671256358779192, 'w2': 0.4145981754523559, 'threshold': 0.58}\n"
     ]
    },
    {
     "name": "stderr",
     "output_type": "stream",
     "text": [
      "[I 2023-06-22 15:42:30,799] Trial 692 finished with value: 0.7043599486351013 and parameters: {'w1': 0.6938933488174823, 'w2': 0.9300235313208179}. Best is trial 495 with value: 0.7050744295120239.\n"
     ]
    },
    {
     "name": "stdout",
     "output_type": "stream",
     "text": [
      "{'w1': 0.6938933488174823, 'w2': 0.9300235313208179, 'threshold': 0.64}\n"
     ]
    },
    {
     "name": "stderr",
     "output_type": "stream",
     "text": [
      "[I 2023-06-22 15:42:32,997] Trial 693 finished with value: 0.7040384411811829 and parameters: {'w1': 0.4440506988043447, 'w2': 0.44601770082854125}. Best is trial 495 with value: 0.7050744295120239.\n"
     ]
    },
    {
     "name": "stdout",
     "output_type": "stream",
     "text": [
      "{'w1': 0.4440506988043447, 'w2': 0.44601770082854125, 'threshold': 0.62}\n"
     ]
    },
    {
     "name": "stderr",
     "output_type": "stream",
     "text": [
      "[I 2023-06-22 15:42:35,188] Trial 694 finished with value: 0.70294189453125 and parameters: {'w1': 0.9033286277310463, 'w2': 0.611252284743067}. Best is trial 495 with value: 0.7050744295120239.\n"
     ]
    },
    {
     "name": "stdout",
     "output_type": "stream",
     "text": [
      "{'w1': 0.9033286277310463, 'w2': 0.611252284743067, 'threshold': 0.6}\n"
     ]
    },
    {
     "name": "stderr",
     "output_type": "stream",
     "text": [
      "[I 2023-06-22 15:42:37,377] Trial 695 finished with value: 0.7046759724617004 and parameters: {'w1': 0.6106369842559498, 'w2': 0.5769133804429059}. Best is trial 495 with value: 0.7050744295120239.\n"
     ]
    },
    {
     "name": "stdout",
     "output_type": "stream",
     "text": [
      "{'w1': 0.6106369842559498, 'w2': 0.5769133804429059, 'threshold': 0.62}\n"
     ]
    },
    {
     "name": "stderr",
     "output_type": "stream",
     "text": [
      "[I 2023-06-22 15:42:39,560] Trial 696 finished with value: 0.703325092792511 and parameters: {'w1': 0.544123974395075, 'w2': 0.6747475047176588}. Best is trial 495 with value: 0.7050744295120239.\n"
     ]
    },
    {
     "name": "stdout",
     "output_type": "stream",
     "text": [
      "{'w1': 0.544123974395075, 'w2': 0.6747475047176588, 'threshold': 0.63}\n"
     ]
    },
    {
     "name": "stderr",
     "output_type": "stream",
     "text": [
      "[I 2023-06-22 15:42:41,745] Trial 697 finished with value: 0.7038221955299377 and parameters: {'w1': 0.6322881244733506, 'w2': 0.655526989553584}. Best is trial 495 with value: 0.7050744295120239.\n"
     ]
    },
    {
     "name": "stdout",
     "output_type": "stream",
     "text": [
      "{'w1': 0.6322881244733506, 'w2': 0.655526989553584, 'threshold': 0.62}\n"
     ]
    },
    {
     "name": "stderr",
     "output_type": "stream",
     "text": [
      "[I 2023-06-22 15:42:43,929] Trial 698 finished with value: 0.704646646976471 and parameters: {'w1': 0.5965337938450236, 'w2': 0.5621550816947706}. Best is trial 495 with value: 0.7050744295120239.\n"
     ]
    },
    {
     "name": "stdout",
     "output_type": "stream",
     "text": [
      "{'w1': 0.5965337938450236, 'w2': 0.5621550816947706, 'threshold': 0.62}\n"
     ]
    },
    {
     "name": "stderr",
     "output_type": "stream",
     "text": [
      "[I 2023-06-22 15:42:46,113] Trial 699 finished with value: 0.7033766508102417 and parameters: {'w1': 0.6462924959869063, 'w2': 0.8138010471016786}. Best is trial 495 with value: 0.7050744295120239.\n"
     ]
    },
    {
     "name": "stdout",
     "output_type": "stream",
     "text": [
      "{'w1': 0.6462924959869063, 'w2': 0.8138010471016786, 'threshold': 0.64}\n"
     ]
    },
    {
     "name": "stderr",
     "output_type": "stream",
     "text": [
      "[I 2023-06-22 15:42:48,297] Trial 700 finished with value: 0.7036136388778687 and parameters: {'w1': 0.6132513324774842, 'w2': 0.8575046583321357}. Best is trial 495 with value: 0.7050744295120239.\n"
     ]
    },
    {
     "name": "stdout",
     "output_type": "stream",
     "text": [
      "{'w1': 0.6132513324774842, 'w2': 0.8575046583321357, 'threshold': 0.64}\n"
     ]
    },
    {
     "name": "stderr",
     "output_type": "stream",
     "text": [
      "[I 2023-06-22 15:42:50,481] Trial 701 finished with value: 0.7045239806175232 and parameters: {'w1': 0.6700269307337935, 'w2': 0.6430655263273877}. Best is trial 495 with value: 0.7050744295120239.\n"
     ]
    },
    {
     "name": "stdout",
     "output_type": "stream",
     "text": [
      "{'w1': 0.6700269307337935, 'w2': 0.6430655263273877, 'threshold': 0.62}\n"
     ]
    },
    {
     "name": "stderr",
     "output_type": "stream",
     "text": [
      "[I 2023-06-22 15:42:52,665] Trial 702 finished with value: 0.7045269012451172 and parameters: {'w1': 0.8449349703660791, 'w2': 0.7904246496510732}. Best is trial 495 with value: 0.7050744295120239.\n"
     ]
    },
    {
     "name": "stdout",
     "output_type": "stream",
     "text": [
      "{'w1': 0.8449349703660791, 'w2': 0.7904246496510732, 'threshold': 0.62}\n"
     ]
    },
    {
     "name": "stderr",
     "output_type": "stream",
     "text": [
      "[I 2023-06-22 15:42:54,850] Trial 703 finished with value: 0.7026098966598511 and parameters: {'w1': 0.805238879634986, 'w2': 0.6039310034104481}. Best is trial 495 with value: 0.7050744295120239.\n"
     ]
    },
    {
     "name": "stdout",
     "output_type": "stream",
     "text": [
      "{'w1': 0.805238879634986, 'w2': 0.6039310034104481, 'threshold': 0.61}\n"
     ]
    },
    {
     "name": "stderr",
     "output_type": "stream",
     "text": [
      "[I 2023-06-22 15:42:57,035] Trial 704 finished with value: 0.7014033794403076 and parameters: {'w1': 0.5540443976229932, 'w2': 0.32537426913323886}. Best is trial 495 with value: 0.7050744295120239.\n"
     ]
    },
    {
     "name": "stdout",
     "output_type": "stream",
     "text": [
      "{'w1': 0.5540443976229932, 'w2': 0.32537426913323886, 'threshold': 0.59}\n"
     ]
    },
    {
     "name": "stderr",
     "output_type": "stream",
     "text": [
      "[I 2023-06-22 15:42:59,219] Trial 705 finished with value: 0.7032366394996643 and parameters: {'w1': 0.6146434531351113, 'w2': 0.5266344248166356}. Best is trial 495 with value: 0.7050744295120239.\n"
     ]
    },
    {
     "name": "stdout",
     "output_type": "stream",
     "text": [
      "{'w1': 0.6146434531351113, 'w2': 0.5266344248166356, 'threshold': 0.62}\n"
     ]
    },
    {
     "name": "stderr",
     "output_type": "stream",
     "text": [
      "[I 2023-06-22 15:43:01,413] Trial 706 finished with value: 0.7031340599060059 and parameters: {'w1': 0.6388111374049229, 'w2': 0.5407380142854058}. Best is trial 495 with value: 0.7050744295120239.\n"
     ]
    },
    {
     "name": "stdout",
     "output_type": "stream",
     "text": [
      "{'w1': 0.6388111374049229, 'w2': 0.5407380142854058, 'threshold': 0.62}\n"
     ]
    },
    {
     "name": "stderr",
     "output_type": "stream",
     "text": [
      "[I 2023-06-22 15:43:03,603] Trial 707 finished with value: 0.7033135294914246 and parameters: {'w1': 0.5806854340837042, 'w2': 0.5012807434419193}. Best is trial 495 with value: 0.7050744295120239.\n"
     ]
    },
    {
     "name": "stdout",
     "output_type": "stream",
     "text": [
      "{'w1': 0.5806854340837042, 'w2': 0.5012807434419193, 'threshold': 0.62}\n"
     ]
    },
    {
     "name": "stderr",
     "output_type": "stream",
     "text": [
      "[I 2023-06-22 15:43:05,805] Trial 708 finished with value: 0.702137291431427 and parameters: {'w1': 0.8756748830607259, 'w2': 0.6249980464767017}. Best is trial 495 with value: 0.7050744295120239.\n"
     ]
    },
    {
     "name": "stdout",
     "output_type": "stream",
     "text": [
      "{'w1': 0.8756748830607259, 'w2': 0.6249980464767017, 'threshold': 0.61}\n"
     ]
    },
    {
     "name": "stderr",
     "output_type": "stream",
     "text": [
      "[I 2023-06-22 15:43:08,010] Trial 709 finished with value: 0.7021124362945557 and parameters: {'w1': 0.6635721080859064, 'w2': 0.471527833195019}. Best is trial 495 with value: 0.7050744295120239.\n"
     ]
    },
    {
     "name": "stdout",
     "output_type": "stream",
     "text": [
      "{'w1': 0.6635721080859064, 'w2': 0.471527833195019, 'threshold': 0.61}\n"
     ]
    },
    {
     "name": "stderr",
     "output_type": "stream",
     "text": [
      "[I 2023-06-22 15:43:10,210] Trial 710 finished with value: 0.7039787173271179 and parameters: {'w1': 0.5144582966492223, 'w2': 0.5925465945299163}. Best is trial 495 with value: 0.7050744295120239.\n"
     ]
    },
    {
     "name": "stdout",
     "output_type": "stream",
     "text": [
      "{'w1': 0.5144582966492223, 'w2': 0.5925465945299163, 'threshold': 0.63}\n"
     ]
    },
    {
     "name": "stderr",
     "output_type": "stream",
     "text": [
      "[I 2023-06-22 15:43:12,394] Trial 711 finished with value: 0.7012404203414917 and parameters: {'w1': 0.89595161576864, 'w2': 0.4663629355254203}. Best is trial 495 with value: 0.7050744295120239.\n"
     ]
    },
    {
     "name": "stdout",
     "output_type": "stream",
     "text": [
      "{'w1': 0.89595161576864, 'w2': 0.4663629355254203, 'threshold': 0.59}\n"
     ]
    },
    {
     "name": "stderr",
     "output_type": "stream",
     "text": [
      "[I 2023-06-22 15:43:14,578] Trial 712 finished with value: 0.7043448686599731 and parameters: {'w1': 0.8287753255689145, 'w2': 0.7680200239402174}. Best is trial 495 with value: 0.7050744295120239.\n"
     ]
    },
    {
     "name": "stdout",
     "output_type": "stream",
     "text": [
      "{'w1': 0.8287753255689145, 'w2': 0.7680200239402174, 'threshold': 0.62}\n"
     ]
    },
    {
     "name": "stderr",
     "output_type": "stream",
     "text": [
      "[I 2023-06-22 15:43:16,760] Trial 713 finished with value: 0.7044727206230164 and parameters: {'w1': 0.6761248589160089, 'w2': 0.6306873903702744}. Best is trial 495 with value: 0.7050744295120239.\n"
     ]
    },
    {
     "name": "stdout",
     "output_type": "stream",
     "text": [
      "{'w1': 0.6761248589160089, 'w2': 0.6306873903702744, 'threshold': 0.62}\n"
     ]
    },
    {
     "name": "stderr",
     "output_type": "stream",
     "text": [
      "[I 2023-06-22 15:43:18,947] Trial 714 finished with value: 0.7032470107078552 and parameters: {'w1': 0.9745792809400441, 'w2': 0.8359574905940529}. Best is trial 495 with value: 0.7050744295120239.\n"
     ]
    },
    {
     "name": "stdout",
     "output_type": "stream",
     "text": [
      "{'w1': 0.9745792809400441, 'w2': 0.8359574905940529, 'threshold': 0.62}\n"
     ]
    },
    {
     "name": "stderr",
     "output_type": "stream",
     "text": [
      "[I 2023-06-22 15:43:21,132] Trial 715 finished with value: 0.7029730081558228 and parameters: {'w1': 0.6072724555908461, 'w2': 0.5011948170946815}. Best is trial 495 with value: 0.7050744295120239.\n"
     ]
    },
    {
     "name": "stdout",
     "output_type": "stream",
     "text": [
      "{'w1': 0.6072724555908461, 'w2': 0.5011948170946815, 'threshold': 0.61}\n"
     ]
    },
    {
     "name": "stderr",
     "output_type": "stream",
     "text": [
      "[I 2023-06-22 15:43:23,315] Trial 716 finished with value: 0.7011556625366211 and parameters: {'w1': 0.797167380334834, 'w2': 0.4103855473766791}. Best is trial 495 with value: 0.7050744295120239.\n"
     ]
    },
    {
     "name": "stdout",
     "output_type": "stream",
     "text": [
      "{'w1': 0.797167380334834, 'w2': 0.4103855473766791, 'threshold': 0.59}\n"
     ]
    },
    {
     "name": "stderr",
     "output_type": "stream",
     "text": [
      "[I 2023-06-22 15:43:25,498] Trial 717 finished with value: 0.7036099433898926 and parameters: {'w1': 0.8549476727520684, 'w2': 0.7572461285932481}. Best is trial 495 with value: 0.7050744295120239.\n"
     ]
    },
    {
     "name": "stdout",
     "output_type": "stream",
     "text": [
      "{'w1': 0.8549476727520684, 'w2': 0.7572461285932481, 'threshold': 0.62}\n"
     ]
    },
    {
     "name": "stderr",
     "output_type": "stream",
     "text": [
      "[I 2023-06-22 15:43:27,682] Trial 718 finished with value: 0.7033379077911377 and parameters: {'w1': 0.9325983530844923, 'w2': 0.8071952691663778}. Best is trial 495 with value: 0.7050744295120239.\n"
     ]
    },
    {
     "name": "stdout",
     "output_type": "stream",
     "text": [
      "{'w1': 0.9325983530844923, 'w2': 0.8071952691663778, 'threshold': 0.62}\n"
     ]
    },
    {
     "name": "stderr",
     "output_type": "stream",
     "text": [
      "[I 2023-06-22 15:43:29,869] Trial 719 finished with value: 0.7040417790412903 and parameters: {'w1': 0.7751576241257823, 'w2': 0.7817837636277251}. Best is trial 495 with value: 0.7050744295120239.\n"
     ]
    },
    {
     "name": "stdout",
     "output_type": "stream",
     "text": [
      "{'w1': 0.7751576241257823, 'w2': 0.7817837636277251, 'threshold': 0.62}\n"
     ]
    },
    {
     "name": "stderr",
     "output_type": "stream",
     "text": [
      "[I 2023-06-22 15:43:32,065] Trial 720 finished with value: 0.7009381055831909 and parameters: {'w1': 0.6456058690970804, 'w2': 0.28800740954410875}. Best is trial 495 with value: 0.7050744295120239.\n"
     ]
    },
    {
     "name": "stdout",
     "output_type": "stream",
     "text": [
      "{'w1': 0.6456058690970804, 'w2': 0.28800740954410875, 'threshold': 0.58}\n"
     ]
    },
    {
     "name": "stderr",
     "output_type": "stream",
     "text": [
      "[I 2023-06-22 15:43:34,256] Trial 721 finished with value: 0.7039478421211243 and parameters: {'w1': 0.8185310307219036, 'w2': 0.8878162589028362}. Best is trial 495 with value: 0.7050744295120239.\n"
     ]
    },
    {
     "name": "stdout",
     "output_type": "stream",
     "text": [
      "{'w1': 0.8185310307219036, 'w2': 0.8878162589028362, 'threshold': 0.63}\n"
     ]
    },
    {
     "name": "stderr",
     "output_type": "stream",
     "text": [
      "[I 2023-06-22 15:43:36,455] Trial 722 finished with value: 0.7037125825881958 and parameters: {'w1': 0.7009879709168462, 'w2': 0.7475667440990063}. Best is trial 495 with value: 0.7050744295120239.\n"
     ]
    },
    {
     "name": "stdout",
     "output_type": "stream",
     "text": [
      "{'w1': 0.7009879709168462, 'w2': 0.7475667440990063, 'threshold': 0.63}\n"
     ]
    },
    {
     "name": "stderr",
     "output_type": "stream",
     "text": [
      "[I 2023-06-22 15:43:38,649] Trial 723 finished with value: 0.7041116952896118 and parameters: {'w1': 0.6338660534370487, 'w2': 0.8369586101864709}. Best is trial 495 with value: 0.7050744295120239.\n"
     ]
    },
    {
     "name": "stdout",
     "output_type": "stream",
     "text": [
      "{'w1': 0.6338660534370487, 'w2': 0.8369586101864709, 'threshold': 0.64}\n"
     ]
    },
    {
     "name": "stderr",
     "output_type": "stream",
     "text": [
      "[I 2023-06-22 15:43:40,848] Trial 724 finished with value: 0.7037736177444458 and parameters: {'w1': 0.8875941530345933, 'w2': 0.7974833491833272}. Best is trial 495 with value: 0.7050744295120239.\n"
     ]
    },
    {
     "name": "stdout",
     "output_type": "stream",
     "text": [
      "{'w1': 0.8875941530345933, 'w2': 0.7974833491833272, 'threshold': 0.62}\n"
     ]
    },
    {
     "name": "stderr",
     "output_type": "stream",
     "text": [
      "[I 2023-06-22 15:43:43,044] Trial 725 finished with value: 0.7027044892311096 and parameters: {'w1': 0.2572106751065228, 'w2': 0.6946685693871435}. Best is trial 495 with value: 0.7050744295120239.\n"
     ]
    },
    {
     "name": "stdout",
     "output_type": "stream",
     "text": [
      "{'w1': 0.2572106751065228, 'w2': 0.6946685693871435, 'threshold': 0.67}\n"
     ]
    },
    {
     "name": "stderr",
     "output_type": "stream",
     "text": [
      "[I 2023-06-22 15:43:45,243] Trial 726 finished with value: 0.7022849917411804 and parameters: {'w1': 0.8371659616523052, 'w2': 0.5753842209693005}. Best is trial 495 with value: 0.7050744295120239.\n"
     ]
    },
    {
     "name": "stdout",
     "output_type": "stream",
     "text": [
      "{'w1': 0.8371659616523052, 'w2': 0.5753842209693005, 'threshold': 0.6}\n"
     ]
    },
    {
     "name": "stderr",
     "output_type": "stream",
     "text": [
      "[I 2023-06-22 15:43:47,444] Trial 727 finished with value: 0.7006878852844238 and parameters: {'w1': 0.9463290011616025, 'w2': 0.36511253111161657}. Best is trial 495 with value: 0.7050744295120239.\n"
     ]
    },
    {
     "name": "stdout",
     "output_type": "stream",
     "text": [
      "{'w1': 0.9463290011616025, 'w2': 0.36511253111161657, 'threshold': 0.57}\n"
     ]
    },
    {
     "name": "stderr",
     "output_type": "stream",
     "text": [
      "[I 2023-06-22 15:43:49,641] Trial 728 finished with value: 0.7011759877204895 and parameters: {'w1': 0.6627357897525468, 'w2': 0.3424240714811923}. Best is trial 495 with value: 0.7050744295120239.\n"
     ]
    },
    {
     "name": "stdout",
     "output_type": "stream",
     "text": [
      "{'w1': 0.6627357897525468, 'w2': 0.3424240714811923, 'threshold': 0.59}\n"
     ]
    },
    {
     "name": "stderr",
     "output_type": "stream",
     "text": [
      "[I 2023-06-22 15:43:51,841] Trial 729 finished with value: 0.7033420205116272 and parameters: {'w1': 0.7908626874168532, 'w2': 0.9789752108556506}. Best is trial 495 with value: 0.7050744295120239.\n"
     ]
    },
    {
     "name": "stdout",
     "output_type": "stream",
     "text": [
      "{'w1': 0.7908626874168532, 'w2': 0.9789752108556506, 'threshold': 0.63}\n"
     ]
    },
    {
     "name": "stderr",
     "output_type": "stream",
     "text": [
      "[I 2023-06-22 15:43:54,027] Trial 730 finished with value: 0.7044559717178345 and parameters: {'w1': 0.7547892875486226, 'w2': 0.7253400523339482}. Best is trial 495 with value: 0.7050744295120239.\n"
     ]
    },
    {
     "name": "stdout",
     "output_type": "stream",
     "text": [
      "{'w1': 0.7547892875486226, 'w2': 0.7253400523339482, 'threshold': 0.62}\n"
     ]
    },
    {
     "name": "stderr",
     "output_type": "stream",
     "text": [
      "[I 2023-06-22 15:43:56,211] Trial 731 finished with value: 0.7021117210388184 and parameters: {'w1': 0.681460943129245, 'w2': 0.4750399616960201}. Best is trial 495 with value: 0.7050744295120239.\n"
     ]
    },
    {
     "name": "stdout",
     "output_type": "stream",
     "text": [
      "{'w1': 0.681460943129245, 'w2': 0.4750399616960201, 'threshold': 0.6}\n"
     ]
    },
    {
     "name": "stderr",
     "output_type": "stream",
     "text": [
      "[I 2023-06-22 15:43:58,395] Trial 732 finished with value: 0.7016527056694031 and parameters: {'w1': 0.04293281361263901, 'w2': 0.8219467156802903}. Best is trial 495 with value: 0.7050744295120239.\n"
     ]
    },
    {
     "name": "stdout",
     "output_type": "stream",
     "text": [
      "{'w1': 0.04293281361263901, 'w2': 0.8219467156802903, 'threshold': 0.72}\n"
     ]
    },
    {
     "name": "stderr",
     "output_type": "stream",
     "text": [
      "[I 2023-06-22 15:44:00,579] Trial 733 finished with value: 0.7044824957847595 and parameters: {'w1': 0.5583605405672968, 'w2': 0.5210256496547369}. Best is trial 495 with value: 0.7050744295120239.\n"
     ]
    },
    {
     "name": "stdout",
     "output_type": "stream",
     "text": [
      "{'w1': 0.5583605405672968, 'w2': 0.5210256496547369, 'threshold': 0.62}\n"
     ]
    },
    {
     "name": "stderr",
     "output_type": "stream",
     "text": [
      "[I 2023-06-22 15:44:02,763] Trial 734 finished with value: 0.7012101411819458 and parameters: {'w1': 0.8644102072848618, 'w2': 0.3947753042473346}. Best is trial 495 with value: 0.7050744295120239.\n"
     ]
    },
    {
     "name": "stdout",
     "output_type": "stream",
     "text": [
      "{'w1': 0.8644102072848618, 'w2': 0.3947753042473346, 'threshold': 0.58}\n"
     ]
    },
    {
     "name": "stderr",
     "output_type": "stream",
     "text": [
      "[I 2023-06-22 15:44:04,946] Trial 735 finished with value: 0.702639639377594 and parameters: {'w1': 0.1806043648609621, 'w2': 0.7572569138204803}. Best is trial 495 with value: 0.7050744295120239.\n"
     ]
    },
    {
     "name": "stdout",
     "output_type": "stream",
     "text": [
      "{'w1': 0.1806043648609621, 'w2': 0.7572569138204803, 'threshold': 0.69}\n"
     ]
    },
    {
     "name": "stderr",
     "output_type": "stream",
     "text": [
      "[I 2023-06-22 15:44:07,136] Trial 736 finished with value: 0.7033711075782776 and parameters: {'w1': 0.72818612490147, 'w2': 0.5896683163317139}. Best is trial 495 with value: 0.7050744295120239.\n"
     ]
    },
    {
     "name": "stdout",
     "output_type": "stream",
     "text": [
      "{'w1': 0.72818612490147, 'w2': 0.5896683163317139, 'threshold': 0.61}\n"
     ]
    },
    {
     "name": "stderr",
     "output_type": "stream",
     "text": [
      "[I 2023-06-22 15:44:09,329] Trial 737 finished with value: 0.7044656276702881 and parameters: {'w1': 0.9087910757403383, 'w2': 0.8729894111854057}. Best is trial 495 with value: 0.7050744295120239.\n"
     ]
    },
    {
     "name": "stdout",
     "output_type": "stream",
     "text": [
      "{'w1': 0.9087910757403383, 'w2': 0.8729894111854057, 'threshold': 0.62}\n"
     ]
    },
    {
     "name": "stderr",
     "output_type": "stream",
     "text": [
      "[I 2023-06-22 15:44:11,519] Trial 738 finished with value: 0.7030699849128723 and parameters: {'w1': 0.27422546567396344, 'w2': 0.8529006232041836}. Best is trial 495 with value: 0.7050744295120239.\n"
     ]
    },
    {
     "name": "stdout",
     "output_type": "stream",
     "text": [
      "{'w1': 0.27422546567396344, 'w2': 0.8529006232041836, 'threshold': 0.68}\n"
     ]
    },
    {
     "name": "stderr",
     "output_type": "stream",
     "text": [
      "[I 2023-06-22 15:44:13,721] Trial 739 finished with value: 0.7022401690483093 and parameters: {'w1': 0.5888451422865337, 'w2': 0.4255308133617003}. Best is trial 495 with value: 0.7050744295120239.\n"
     ]
    },
    {
     "name": "stdout",
     "output_type": "stream",
     "text": [
      "{'w1': 0.5888451422865337, 'w2': 0.4255308133617003, 'threshold': 0.61}\n"
     ]
    },
    {
     "name": "stderr",
     "output_type": "stream",
     "text": [
      "[I 2023-06-22 15:44:15,921] Trial 740 finished with value: 0.7004531025886536 and parameters: {'w1': 0.7724177851311782, 'w2': 0.28962336778309933}. Best is trial 495 with value: 0.7050744295120239.\n"
     ]
    },
    {
     "name": "stdout",
     "output_type": "stream",
     "text": [
      "{'w1': 0.7724177851311782, 'w2': 0.28962336778309933, 'threshold': 0.57}\n"
     ]
    },
    {
     "name": "stderr",
     "output_type": "stream",
     "text": [
      "[I 2023-06-22 15:44:18,112] Trial 741 finished with value: 0.7008359432220459 and parameters: {'w1': 0.8018796478483813, 'w2': 0.38727785425645}. Best is trial 495 with value: 0.7050744295120239.\n"
     ]
    },
    {
     "name": "stdout",
     "output_type": "stream",
     "text": [
      "{'w1': 0.8018796478483813, 'w2': 0.38727785425645, 'threshold': 0.58}\n"
     ]
    },
    {
     "name": "stderr",
     "output_type": "stream",
     "text": [
      "[I 2023-06-22 15:44:20,296] Trial 742 finished with value: 0.6976522207260132 and parameters: {'w1': 0.5318793696894915, 'w2': 0.07923200856849699}. Best is trial 495 with value: 0.7050744295120239.\n"
     ]
    },
    {
     "name": "stdout",
     "output_type": "stream",
     "text": [
      "{'w1': 0.5318793696894915, 'w2': 0.07923200856849699, 'threshold': 0.59}\n"
     ]
    },
    {
     "name": "stderr",
     "output_type": "stream",
     "text": [
      "[I 2023-06-22 15:44:22,480] Trial 743 finished with value: 0.7042075991630554 and parameters: {'w1': 0.7101308304400098, 'w2': 0.7818869667144955}. Best is trial 495 with value: 0.7050744295120239.\n"
     ]
    },
    {
     "name": "stdout",
     "output_type": "stream",
     "text": [
      "{'w1': 0.7101308304400098, 'w2': 0.7818869667144955, 'threshold': 0.63}\n"
     ]
    },
    {
     "name": "stderr",
     "output_type": "stream",
     "text": [
      "[I 2023-06-22 15:44:24,663] Trial 744 finished with value: 0.6983113288879395 and parameters: {'w1': 0.7405589928452719, 'w2': 0.16455994123760842}. Best is trial 495 with value: 0.7050744295120239.\n"
     ]
    },
    {
     "name": "stdout",
     "output_type": "stream",
     "text": [
      "{'w1': 0.7405589928452719, 'w2': 0.16455994123760842, 'threshold': 0.59}\n"
     ]
    },
    {
     "name": "stderr",
     "output_type": "stream",
     "text": [
      "[I 2023-06-22 15:44:26,848] Trial 745 finished with value: 0.6998062133789062 and parameters: {'w1': 0.619298265724037, 'w2': 0.21705068201437128}. Best is trial 495 with value: 0.7050744295120239.\n"
     ]
    },
    {
     "name": "stdout",
     "output_type": "stream",
     "text": [
      "{'w1': 0.619298265724037, 'w2': 0.21705068201437128, 'threshold': 0.57}\n"
     ]
    },
    {
     "name": "stderr",
     "output_type": "stream",
     "text": [
      "[I 2023-06-22 15:44:29,033] Trial 746 finished with value: 0.7028296589851379 and parameters: {'w1': 0.20131684236742708, 'w2': 0.441751887736841}. Best is trial 495 with value: 0.7050744295120239.\n"
     ]
    },
    {
     "name": "stdout",
     "output_type": "stream",
     "text": [
      "{'w1': 0.20131684236742708, 'w2': 0.441751887736841, 'threshold': 0.66}\n"
     ]
    },
    {
     "name": "stderr",
     "output_type": "stream",
     "text": [
      "[I 2023-06-22 15:44:31,217] Trial 747 finished with value: 0.7036347389221191 and parameters: {'w1': 0.6861952829451301, 'w2': 0.54960813891285}. Best is trial 495 with value: 0.7050744295120239.\n"
     ]
    },
    {
     "name": "stdout",
     "output_type": "stream",
     "text": [
      "{'w1': 0.6861952829451301, 'w2': 0.54960813891285, 'threshold': 0.61}\n"
     ]
    },
    {
     "name": "stderr",
     "output_type": "stream",
     "text": [
      "[I 2023-06-22 15:44:33,401] Trial 748 finished with value: 0.7020639181137085 and parameters: {'w1': 0.8155304842015085, 'w2': 0.5753560828666655}. Best is trial 495 with value: 0.7050744295120239.\n"
     ]
    },
    {
     "name": "stdout",
     "output_type": "stream",
     "text": [
      "{'w1': 0.8155304842015085, 'w2': 0.5753560828666655, 'threshold': 0.61}\n"
     ]
    },
    {
     "name": "stderr",
     "output_type": "stream",
     "text": [
      "[I 2023-06-22 15:44:35,585] Trial 749 finished with value: 0.7028990387916565 and parameters: {'w1': 0.49662438629159256, 'w2': 0.9090055526873861}. Best is trial 495 with value: 0.7050744295120239.\n"
     ]
    },
    {
     "name": "stdout",
     "output_type": "stream",
     "text": [
      "{'w1': 0.49662438629159256, 'w2': 0.9090055526873861, 'threshold': 0.65}\n"
     ]
    },
    {
     "name": "stderr",
     "output_type": "stream",
     "text": [
      "[I 2023-06-22 15:44:37,768] Trial 750 finished with value: 0.7043785452842712 and parameters: {'w1': 0.8473639265762037, 'w2': 0.9430356328977317}. Best is trial 495 with value: 0.7050744295120239.\n"
     ]
    },
    {
     "name": "stdout",
     "output_type": "stream",
     "text": [
      "{'w1': 0.8473639265762037, 'w2': 0.9430356328977317, 'threshold': 0.63}\n"
     ]
    },
    {
     "name": "stderr",
     "output_type": "stream",
     "text": [
      "[I 2023-06-22 15:44:39,952] Trial 751 finished with value: 0.7032971382141113 and parameters: {'w1': 0.8750636161575616, 'w2': 0.7096132019453425}. Best is trial 495 with value: 0.7050744295120239.\n"
     ]
    },
    {
     "name": "stdout",
     "output_type": "stream",
     "text": [
      "{'w1': 0.8750636161575616, 'w2': 0.7096132019453425, 'threshold': 0.61}\n"
     ]
    },
    {
     "name": "stderr",
     "output_type": "stream",
     "text": [
      "[I 2023-06-22 15:44:42,141] Trial 752 finished with value: 0.7047126889228821 and parameters: {'w1': 0.6552249153827188, 'w2': 0.7402743120249867}. Best is trial 495 with value: 0.7050744295120239.\n"
     ]
    },
    {
     "name": "stdout",
     "output_type": "stream",
     "text": [
      "{'w1': 0.6552249153827188, 'w2': 0.7402743120249867, 'threshold': 0.63}\n"
     ]
    },
    {
     "name": "stderr",
     "output_type": "stream",
     "text": [
      "[I 2023-06-22 15:44:44,325] Trial 753 finished with value: 0.7037425637245178 and parameters: {'w1': 0.6216270998699822, 'w2': 0.7299139057643037}. Best is trial 495 with value: 0.7050744295120239.\n"
     ]
    },
    {
     "name": "stdout",
     "output_type": "stream",
     "text": [
      "{'w1': 0.6216270998699822, 'w2': 0.7299139057643037, 'threshold': 0.63}\n"
     ]
    },
    {
     "name": "stderr",
     "output_type": "stream",
     "text": [
      "[I 2023-06-22 15:44:46,509] Trial 754 finished with value: 0.700360894203186 and parameters: {'w1': 0.651366163503162, 'w2': 0.24138639786487537}. Best is trial 495 with value: 0.7050744295120239.\n"
     ]
    },
    {
     "name": "stdout",
     "output_type": "stream",
     "text": [
      "{'w1': 0.651366163503162, 'w2': 0.24138639786487537, 'threshold': 0.57}\n"
     ]
    },
    {
     "name": "stderr",
     "output_type": "stream",
     "text": [
      "[I 2023-06-22 15:44:48,694] Trial 755 finished with value: 0.7039663195610046 and parameters: {'w1': 0.6398478567218968, 'w2': 0.694959407887156}. Best is trial 495 with value: 0.7050744295120239.\n"
     ]
    },
    {
     "name": "stdout",
     "output_type": "stream",
     "text": [
      "{'w1': 0.6398478567218968, 'w2': 0.694959407887156, 'threshold': 0.63}\n"
     ]
    },
    {
     "name": "stderr",
     "output_type": "stream",
     "text": [
      "[I 2023-06-22 15:44:50,878] Trial 756 finished with value: 0.7048380970954895 and parameters: {'w1': 0.5957453734225092, 'w2': 0.5661746233895615}. Best is trial 495 with value: 0.7050744295120239.\n"
     ]
    },
    {
     "name": "stdout",
     "output_type": "stream",
     "text": [
      "{'w1': 0.5957453734225092, 'w2': 0.5661746233895615, 'threshold': 0.62}\n"
     ]
    },
    {
     "name": "stderr",
     "output_type": "stream",
     "text": [
      "[I 2023-06-22 15:44:53,062] Trial 757 finished with value: 0.7049425840377808 and parameters: {'w1': 0.7784462820029007, 'w2': 0.7456866730998215}. Best is trial 495 with value: 0.7050744295120239.\n"
     ]
    },
    {
     "name": "stdout",
     "output_type": "stream",
     "text": [
      "{'w1': 0.7784462820029007, 'w2': 0.7456866730998215, 'threshold': 0.62}\n"
     ]
    },
    {
     "name": "stderr",
     "output_type": "stream",
     "text": [
      "[I 2023-06-22 15:44:55,246] Trial 758 finished with value: 0.7036082744598389 and parameters: {'w1': 0.5791608041460571, 'w2': 0.7447026398203731}. Best is trial 495 with value: 0.7050744295120239.\n"
     ]
    },
    {
     "name": "stdout",
     "output_type": "stream",
     "text": [
      "{'w1': 0.5791608041460571, 'w2': 0.7447026398203731, 'threshold': 0.64}\n"
     ]
    },
    {
     "name": "stderr",
     "output_type": "stream",
     "text": [
      "[I 2023-06-22 15:44:57,432] Trial 759 finished with value: 0.7013899087905884 and parameters: {'w1': 0.8301020545398633, 'w2': 0.488198788795317}. Best is trial 495 with value: 0.7050744295120239.\n"
     ]
    },
    {
     "name": "stdout",
     "output_type": "stream",
     "text": [
      "{'w1': 0.8301020545398633, 'w2': 0.488198788795317, 'threshold': 0.59}\n"
     ]
    },
    {
     "name": "stderr",
     "output_type": "stream",
     "text": [
      "[I 2023-06-22 15:44:59,616] Trial 760 finished with value: 0.700507640838623 and parameters: {'w1': 0.7839520647557757, 'w2': 0.29708013485159074}. Best is trial 495 with value: 0.7050744295120239.\n"
     ]
    },
    {
     "name": "stdout",
     "output_type": "stream",
     "text": [
      "{'w1': 0.7839520647557757, 'w2': 0.29708013485159074, 'threshold': 0.57}\n"
     ]
    },
    {
     "name": "stderr",
     "output_type": "stream",
     "text": [
      "[I 2023-06-22 15:45:01,800] Trial 761 finished with value: 0.7035606503486633 and parameters: {'w1': 0.5963131107222437, 'w2': 0.76404924716745}. Best is trial 495 with value: 0.7050744295120239.\n"
     ]
    },
    {
     "name": "stdout",
     "output_type": "stream",
     "text": [
      "{'w1': 0.5963131107222437, 'w2': 0.76404924716745, 'threshold': 0.64}\n"
     ]
    },
    {
     "name": "stderr",
     "output_type": "stream",
     "text": [
      "[I 2023-06-22 15:45:03,984] Trial 762 finished with value: 0.6994729042053223 and parameters: {'w1': 0.9151676279213355, 'w2': 0.27467004912426046}. Best is trial 495 with value: 0.7050744295120239.\n"
     ]
    },
    {
     "name": "stdout",
     "output_type": "stream",
     "text": [
      "{'w1': 0.9151676279213355, 'w2': 0.27467004912426046, 'threshold': 0.56}\n"
     ]
    },
    {
     "name": "stderr",
     "output_type": "stream",
     "text": [
      "[I 2023-06-22 15:45:06,168] Trial 763 finished with value: 0.7041350603103638 and parameters: {'w1': 0.7599832218381697, 'w2': 0.7454478864927873}. Best is trial 495 with value: 0.7050744295120239.\n"
     ]
    },
    {
     "name": "stdout",
     "output_type": "stream",
     "text": [
      "{'w1': 0.7599832218381697, 'w2': 0.7454478864927873, 'threshold': 0.62}\n"
     ]
    },
    {
     "name": "stderr",
     "output_type": "stream",
     "text": [
      "[I 2023-06-22 15:45:08,353] Trial 764 finished with value: 0.7009889483451843 and parameters: {'w1': 0.8002084204281031, 'w2': 0.3586936994955884}. Best is trial 495 with value: 0.7050744295120239.\n"
     ]
    },
    {
     "name": "stdout",
     "output_type": "stream",
     "text": [
      "{'w1': 0.8002084204281031, 'w2': 0.3586936994955884, 'threshold': 0.58}\n"
     ]
    },
    {
     "name": "stderr",
     "output_type": "stream",
     "text": [
      "[I 2023-06-22 15:45:10,537] Trial 765 finished with value: 0.703088641166687 and parameters: {'w1': 0.8584302553004712, 'w2': 0.722967658098865}. Best is trial 495 with value: 0.7050744295120239.\n"
     ]
    },
    {
     "name": "stdout",
     "output_type": "stream",
     "text": [
      "{'w1': 0.8584302553004712, 'w2': 0.722967658098865, 'threshold': 0.62}\n"
     ]
    },
    {
     "name": "stderr",
     "output_type": "stream",
     "text": [
      "[I 2023-06-22 15:45:12,730] Trial 766 finished with value: 0.7027625441551208 and parameters: {'w1': 0.14410662456715362, 'w2': 0.3203925864551849}. Best is trial 495 with value: 0.7050744295120239.\n"
     ]
    },
    {
     "name": "stdout",
     "output_type": "stream",
     "text": [
      "{'w1': 0.14410662456715362, 'w2': 0.3203925864551849, 'threshold': 0.66}\n"
     ]
    },
    {
     "name": "stderr",
     "output_type": "stream",
     "text": [
      "[I 2023-06-22 15:45:14,915] Trial 767 finished with value: 0.7030335068702698 and parameters: {'w1': 0.5417161224686715, 'w2': 0.9671505318192863}. Best is trial 495 with value: 0.7050744295120239.\n"
     ]
    },
    {
     "name": "stdout",
     "output_type": "stream",
     "text": [
      "{'w1': 0.5417161224686715, 'w2': 0.9671505318192863, 'threshold': 0.65}\n"
     ]
    },
    {
     "name": "stderr",
     "output_type": "stream",
     "text": [
      "[I 2023-06-22 15:45:17,102] Trial 768 finished with value: 0.7027077078819275 and parameters: {'w1': 0.34238565981269714, 'w2': 0.7693798707419325}. Best is trial 495 with value: 0.7050744295120239.\n"
     ]
    },
    {
     "name": "stdout",
     "output_type": "stream",
     "text": [
      "{'w1': 0.34238565981269714, 'w2': 0.7693798707419325, 'threshold': 0.66}\n"
     ]
    },
    {
     "name": "stderr",
     "output_type": "stream",
     "text": [
      "[I 2023-06-22 15:45:19,290] Trial 769 finished with value: 0.7020773887634277 and parameters: {'w1': 0.9575059629185466, 'w2': 0.67701859031734}. Best is trial 495 with value: 0.7050744295120239.\n"
     ]
    },
    {
     "name": "stdout",
     "output_type": "stream",
     "text": [
      "{'w1': 0.9575059629185466, 'w2': 0.67701859031734, 'threshold': 0.61}\n"
     ]
    },
    {
     "name": "stderr",
     "output_type": "stream",
     "text": [
      "[I 2023-06-22 15:45:21,474] Trial 770 finished with value: 0.7033817172050476 and parameters: {'w1': 0.6602969034040048, 'w2': 0.520620351319252}. Best is trial 495 with value: 0.7050744295120239.\n"
     ]
    },
    {
     "name": "stdout",
     "output_type": "stream",
     "text": [
      "{'w1': 0.6602969034040048, 'w2': 0.520620351319252, 'threshold': 0.61}\n"
     ]
    },
    {
     "name": "stderr",
     "output_type": "stream",
     "text": [
      "[I 2023-06-22 15:45:23,659] Trial 771 finished with value: 0.703633725643158 and parameters: {'w1': 0.8983147591493669, 'w2': 0.798131832541766}. Best is trial 495 with value: 0.7050744295120239.\n"
     ]
    },
    {
     "name": "stdout",
     "output_type": "stream",
     "text": [
      "{'w1': 0.8983147591493669, 'w2': 0.798131832541766, 'threshold': 0.62}\n"
     ]
    },
    {
     "name": "stderr",
     "output_type": "stream",
     "text": [
      "[I 2023-06-22 15:45:25,843] Trial 772 finished with value: 0.702863335609436 and parameters: {'w1': 0.8391423822241539, 'w2': 0.5663266061006629}. Best is trial 495 with value: 0.7050744295120239.\n"
     ]
    },
    {
     "name": "stdout",
     "output_type": "stream",
     "text": [
      "{'w1': 0.8391423822241539, 'w2': 0.5663266061006629, 'threshold': 0.6}\n"
     ]
    },
    {
     "name": "stderr",
     "output_type": "stream",
     "text": [
      "[I 2023-06-22 15:45:28,029] Trial 773 finished with value: 0.7043645977973938 and parameters: {'w1': 0.5625090823489081, 'w2': 0.6254760931516756}. Best is trial 495 with value: 0.7050744295120239.\n"
     ]
    },
    {
     "name": "stdout",
     "output_type": "stream",
     "text": [
      "{'w1': 0.5625090823489081, 'w2': 0.6254760931516756, 'threshold': 0.63}\n"
     ]
    },
    {
     "name": "stderr",
     "output_type": "stream",
     "text": [
      "[I 2023-06-22 15:45:30,213] Trial 774 finished with value: 0.7039057612419128 and parameters: {'w1': 0.8172574785764152, 'w2': 0.7402761913550303}. Best is trial 495 with value: 0.7050744295120239.\n"
     ]
    },
    {
     "name": "stdout",
     "output_type": "stream",
     "text": [
      "{'w1': 0.8172574785764152, 'w2': 0.7402761913550303, 'threshold': 0.62}\n"
     ]
    },
    {
     "name": "stderr",
     "output_type": "stream",
     "text": [
      "[I 2023-06-22 15:45:32,398] Trial 775 finished with value: 0.7037240862846375 and parameters: {'w1': 0.7677430254879047, 'w2': 0.819248103433337}. Best is trial 495 with value: 0.7050744295120239.\n"
     ]
    },
    {
     "name": "stdout",
     "output_type": "stream",
     "text": [
      "{'w1': 0.7677430254879047, 'w2': 0.819248103433337, 'threshold': 0.63}\n"
     ]
    },
    {
     "name": "stderr",
     "output_type": "stream",
     "text": [
      "[I 2023-06-22 15:45:34,582] Trial 776 finished with value: 0.7015256881713867 and parameters: {'w1': 0.7490820640473209, 'w2': 0.35316728246059403}. Best is trial 495 with value: 0.7050744295120239.\n"
     ]
    },
    {
     "name": "stdout",
     "output_type": "stream",
     "text": [
      "{'w1': 0.7490820640473209, 'w2': 0.35316728246059403, 'threshold': 0.58}\n"
     ]
    },
    {
     "name": "stderr",
     "output_type": "stream",
     "text": [
      "[I 2023-06-22 15:45:36,766] Trial 777 finished with value: 0.7048373818397522 and parameters: {'w1': 0.6293827323481904, 'w2': 0.713284407285937}. Best is trial 495 with value: 0.7050744295120239.\n"
     ]
    },
    {
     "name": "stdout",
     "output_type": "stream",
     "text": [
      "{'w1': 0.6293827323481904, 'w2': 0.713284407285937, 'threshold': 0.63}\n"
     ]
    },
    {
     "name": "stderr",
     "output_type": "stream",
     "text": [
      "[I 2023-06-22 15:45:38,951] Trial 778 finished with value: 0.7042796015739441 and parameters: {'w1': 0.6236388988232127, 'w2': 0.7107111597968389}. Best is trial 495 with value: 0.7050744295120239.\n"
     ]
    },
    {
     "name": "stdout",
     "output_type": "stream",
     "text": [
      "{'w1': 0.6236388988232127, 'w2': 0.7107111597968389, 'threshold': 0.63}\n"
     ]
    },
    {
     "name": "stderr",
     "output_type": "stream",
     "text": [
      "[I 2023-06-22 15:45:41,136] Trial 779 finished with value: 0.7040128111839294 and parameters: {'w1': 0.6441672620409178, 'w2': 0.6582589747408778}. Best is trial 495 with value: 0.7050744295120239.\n"
     ]
    },
    {
     "name": "stdout",
     "output_type": "stream",
     "text": [
      "{'w1': 0.6441672620409178, 'w2': 0.6582589747408778, 'threshold': 0.62}\n"
     ]
    },
    {
     "name": "stderr",
     "output_type": "stream",
     "text": [
      "[I 2023-06-22 15:45:43,320] Trial 780 finished with value: 0.7022827863693237 and parameters: {'w1': 0.9849748677843286, 'w2': 0.7148752325609701}. Best is trial 495 with value: 0.7050744295120239.\n"
     ]
    },
    {
     "name": "stdout",
     "output_type": "stream",
     "text": [
      "{'w1': 0.9849748677843286, 'w2': 0.7148752325609701, 'threshold': 0.61}\n"
     ]
    },
    {
     "name": "stderr",
     "output_type": "stream",
     "text": [
      "[I 2023-06-22 15:45:45,507] Trial 781 finished with value: 0.7041032314300537 and parameters: {'w1': 0.6118624850040542, 'w2': 0.7009354995743663}. Best is trial 495 with value: 0.7050744295120239.\n"
     ]
    },
    {
     "name": "stdout",
     "output_type": "stream",
     "text": [
      "{'w1': 0.6118624850040542, 'w2': 0.7009354995743663, 'threshold': 0.63}\n"
     ]
    },
    {
     "name": "stderr",
     "output_type": "stream",
     "text": [
      "[I 2023-06-22 15:45:47,692] Trial 782 finished with value: 0.7033563852310181 and parameters: {'w1': 0.5898245155812094, 'w2': 0.7282694858170742}. Best is trial 495 with value: 0.7050744295120239.\n"
     ]
    },
    {
     "name": "stdout",
     "output_type": "stream",
     "text": [
      "{'w1': 0.5898245155812094, 'w2': 0.7282694858170742, 'threshold': 0.63}\n"
     ]
    },
    {
     "name": "stderr",
     "output_type": "stream",
     "text": [
      "[I 2023-06-22 15:45:49,876] Trial 783 finished with value: 0.7039192318916321 and parameters: {'w1': 0.6244753227166028, 'w2': 0.6755929314433267}. Best is trial 495 with value: 0.7050744295120239.\n"
     ]
    },
    {
     "name": "stdout",
     "output_type": "stream",
     "text": [
      "{'w1': 0.6244753227166028, 'w2': 0.6755929314433267, 'threshold': 0.63}\n"
     ]
    },
    {
     "name": "stderr",
     "output_type": "stream",
     "text": [
      "[I 2023-06-22 15:45:52,063] Trial 784 finished with value: 0.7048772573471069 and parameters: {'w1': 0.8797474222930008, 'w2': 0.9982672656618936}. Best is trial 495 with value: 0.7050744295120239.\n"
     ]
    },
    {
     "name": "stdout",
     "output_type": "stream",
     "text": [
      "{'w1': 0.8797474222930008, 'w2': 0.9982672656618936, 'threshold': 0.63}\n"
     ]
    },
    {
     "name": "stderr",
     "output_type": "stream",
     "text": [
      "[I 2023-06-22 15:45:54,254] Trial 785 finished with value: 0.7041906714439392 and parameters: {'w1': 0.8909853084489191, 'w2': 0.9789765710005972}. Best is trial 495 with value: 0.7050744295120239.\n"
     ]
    },
    {
     "name": "stdout",
     "output_type": "stream",
     "text": [
      "{'w1': 0.8909853084489191, 'w2': 0.9789765710005972, 'threshold': 0.63}\n"
     ]
    },
    {
     "name": "stderr",
     "output_type": "stream",
     "text": [
      "[I 2023-06-22 15:45:56,452] Trial 786 finished with value: 0.7040783166885376 and parameters: {'w1': 0.8720204161817703, 'w2': 0.9997973164203152}. Best is trial 495 with value: 0.7050744295120239.\n"
     ]
    },
    {
     "name": "stdout",
     "output_type": "stream",
     "text": [
      "{'w1': 0.8720204161817703, 'w2': 0.9997973164203152, 'threshold': 0.63}\n"
     ]
    },
    {
     "name": "stderr",
     "output_type": "stream",
     "text": [
      "[I 2023-06-22 15:45:58,645] Trial 787 finished with value: 0.701172411441803 and parameters: {'w1': 0.02294488367519243, 'w2': 0.8981912939413814}. Best is trial 495 with value: 0.7050744295120239.\n"
     ]
    },
    {
     "name": "stdout",
     "output_type": "stream",
     "text": [
      "{'w1': 0.02294488367519243, 'w2': 0.8981912939413814, 'threshold': 0.69}\n"
     ]
    },
    {
     "name": "stderr",
     "output_type": "stream",
     "text": [
      "[I 2023-06-22 15:46:00,847] Trial 788 finished with value: 0.7034435272216797 and parameters: {'w1': 0.8806256566901094, 'w2': 0.6978949251204994}. Best is trial 495 with value: 0.7050744295120239.\n"
     ]
    },
    {
     "name": "stdout",
     "output_type": "stream",
     "text": [
      "{'w1': 0.8806256566901094, 'w2': 0.6978949251204994, 'threshold': 0.61}\n"
     ]
    },
    {
     "name": "stderr",
     "output_type": "stream",
     "text": [
      "[I 2023-06-22 15:46:03,050] Trial 789 finished with value: 0.7037763595581055 and parameters: {'w1': 0.9160132653095663, 'w2': 0.9813595795350575}. Best is trial 495 with value: 0.7050744295120239.\n"
     ]
    },
    {
     "name": "stdout",
     "output_type": "stream",
     "text": [
      "{'w1': 0.9160132653095663, 'w2': 0.9813595795350575, 'threshold': 0.63}\n"
     ]
    },
    {
     "name": "stderr",
     "output_type": "stream",
     "text": [
      "[I 2023-06-22 15:46:05,235] Trial 790 finished with value: 0.7041028738021851 and parameters: {'w1': 0.8622810357188584, 'w2': 0.851130611621961}. Best is trial 495 with value: 0.7050744295120239.\n"
     ]
    },
    {
     "name": "stdout",
     "output_type": "stream",
     "text": [
      "{'w1': 0.8622810357188584, 'w2': 0.851130611621961, 'threshold': 0.62}\n"
     ]
    },
    {
     "name": "stderr",
     "output_type": "stream",
     "text": [
      "[I 2023-06-22 15:46:07,420] Trial 791 finished with value: 0.7033843994140625 and parameters: {'w1': 0.8522454616496677, 'w2': 0.7430059135423588}. Best is trial 495 with value: 0.7050744295120239.\n"
     ]
    },
    {
     "name": "stdout",
     "output_type": "stream",
     "text": [
      "{'w1': 0.8522454616496677, 'w2': 0.7430059135423588, 'threshold': 0.62}\n"
     ]
    },
    {
     "name": "stderr",
     "output_type": "stream",
     "text": [
      "[I 2023-06-22 15:46:09,604] Trial 792 finished with value: 0.7018430233001709 and parameters: {'w1': 0.09065966815664417, 'w2': 0.6703131483343183}. Best is trial 495 with value: 0.7050744295120239.\n"
     ]
    },
    {
     "name": "stdout",
     "output_type": "stream",
     "text": [
      "{'w1': 0.09065966815664417, 'w2': 0.6703131483343183, 'threshold': 0.7}\n"
     ]
    },
    {
     "name": "stderr",
     "output_type": "stream",
     "text": [
      "[I 2023-06-22 15:46:11,790] Trial 793 finished with value: 0.7022861838340759 and parameters: {'w1': 0.8946274652108833, 'w2': 0.6499366982716281}. Best is trial 495 with value: 0.7050744295120239.\n"
     ]
    },
    {
     "name": "stdout",
     "output_type": "stream",
     "text": [
      "{'w1': 0.8946274652108833, 'w2': 0.6499366982716281, 'threshold': 0.61}\n"
     ]
    },
    {
     "name": "stderr",
     "output_type": "stream",
     "text": [
      "[I 2023-06-22 15:46:13,976] Trial 794 finished with value: 0.7027927041053772 and parameters: {'w1': 0.2304383623251901, 'w2': 0.6107286295017834}. Best is trial 495 with value: 0.7050744295120239.\n"
     ]
    },
    {
     "name": "stdout",
     "output_type": "stream",
     "text": [
      "{'w1': 0.2304383623251901, 'w2': 0.6107286295017834, 'threshold': 0.67}\n"
     ]
    },
    {
     "name": "stderr",
     "output_type": "stream",
     "text": [
      "[I 2023-06-22 15:46:16,161] Trial 795 finished with value: 0.6988611221313477 and parameters: {'w1': 0.8383679187009628, 'w2': 0.2321471904686041}. Best is trial 495 with value: 0.7050744295120239.\n"
     ]
    },
    {
     "name": "stdout",
     "output_type": "stream",
     "text": [
      "{'w1': 0.8383679187009628, 'w2': 0.2321471904686041, 'threshold': 0.56}\n"
     ]
    },
    {
     "name": "stderr",
     "output_type": "stream",
     "text": [
      "[I 2023-06-22 15:46:18,346] Trial 796 finished with value: 0.7042322158813477 and parameters: {'w1': 0.8103920445241919, 'w2': 0.9246078167540899}. Best is trial 495 with value: 0.7050744295120239.\n"
     ]
    },
    {
     "name": "stdout",
     "output_type": "stream",
     "text": [
      "{'w1': 0.8103920445241919, 'w2': 0.9246078167540899, 'threshold': 0.63}\n"
     ]
    },
    {
     "name": "stderr",
     "output_type": "stream",
     "text": [
      "[I 2023-06-22 15:46:20,531] Trial 797 finished with value: 0.7039395570755005 and parameters: {'w1': 0.9229857366354159, 'w2': 0.9992658702106081}. Best is trial 495 with value: 0.7050744295120239.\n"
     ]
    },
    {
     "name": "stdout",
     "output_type": "stream",
     "text": [
      "{'w1': 0.9229857366354159, 'w2': 0.9992658702106081, 'threshold': 0.63}\n"
     ]
    },
    {
     "name": "stderr",
     "output_type": "stream",
     "text": [
      "[I 2023-06-22 15:46:22,717] Trial 798 finished with value: 0.7033509016036987 and parameters: {'w1': 0.60206658448434, 'w2': 0.8711172540941844}. Best is trial 495 with value: 0.7050744295120239.\n"
     ]
    },
    {
     "name": "stdout",
     "output_type": "stream",
     "text": [
      "{'w1': 0.60206658448434, 'w2': 0.8711172540941844, 'threshold': 0.64}\n"
     ]
    },
    {
     "name": "stderr",
     "output_type": "stream",
     "text": [
      "[I 2023-06-22 15:46:24,902] Trial 799 finished with value: 0.7035811543464661 and parameters: {'w1': 0.5705051172009885, 'w2': 0.4559590249430413}. Best is trial 495 with value: 0.7050744295120239.\n"
     ]
    },
    {
     "name": "stdout",
     "output_type": "stream",
     "text": [
      "{'w1': 0.5705051172009885, 'w2': 0.4559590249430413, 'threshold': 0.61}\n"
     ]
    },
    {
     "name": "stderr",
     "output_type": "stream",
     "text": [
      "[I 2023-06-22 15:46:27,087] Trial 800 finished with value: 0.7041782736778259 and parameters: {'w1': 0.7824345752051729, 'w2': 0.7191151648982347}. Best is trial 495 with value: 0.7050744295120239.\n"
     ]
    },
    {
     "name": "stdout",
     "output_type": "stream",
     "text": [
      "{'w1': 0.7824345752051729, 'w2': 0.7191151648982347, 'threshold': 0.62}\n"
     ]
    },
    {
     "name": "stderr",
     "output_type": "stream",
     "text": [
      "[I 2023-06-22 15:46:29,272] Trial 801 finished with value: 0.7034415602684021 and parameters: {'w1': 0.8638546400862603, 'w2': 0.7563016638333037}. Best is trial 495 with value: 0.7050744295120239.\n"
     ]
    },
    {
     "name": "stdout",
     "output_type": "stream",
     "text": [
      "{'w1': 0.8638546400862603, 'w2': 0.7563016638333037, 'threshold': 0.62}\n"
     ]
    },
    {
     "name": "stderr",
     "output_type": "stream",
     "text": [
      "[I 2023-06-22 15:46:31,459] Trial 802 finished with value: 0.7024205327033997 and parameters: {'w1': 0.15666822429608562, 'w2': 0.6928320525840066}. Best is trial 495 with value: 0.7050744295120239.\n"
     ]
    },
    {
     "name": "stdout",
     "output_type": "stream",
     "text": [
      "{'w1': 0.15666822429608562, 'w2': 0.6928320525840066, 'threshold': 0.69}\n"
     ]
    },
    {
     "name": "stderr",
     "output_type": "stream",
     "text": [
      "[I 2023-06-22 15:46:33,662] Trial 803 finished with value: 0.6975739002227783 and parameters: {'w1': 0.8258271506526367, 'w2': 0.11603583022102382}. Best is trial 495 with value: 0.7050744295120239.\n"
     ]
    },
    {
     "name": "stdout",
     "output_type": "stream",
     "text": [
      "{'w1': 0.8258271506526367, 'w2': 0.11603583022102382, 'threshold': 0.59}\n"
     ]
    },
    {
     "name": "stderr",
     "output_type": "stream",
     "text": [
      "[I 2023-06-22 15:46:35,865] Trial 804 finished with value: 0.7011977434158325 and parameters: {'w1': 0.030376962225831083, 'w2': 0.9580573013754069}. Best is trial 495 with value: 0.7050744295120239.\n"
     ]
    },
    {
     "name": "stdout",
     "output_type": "stream",
     "text": [
      "{'w1': 0.030376962225831083, 'w2': 0.9580573013754069, 'threshold': 0.69}\n"
     ]
    },
    {
     "name": "stderr",
     "output_type": "stream",
     "text": [
      "[I 2023-06-22 15:46:38,050] Trial 805 finished with value: 0.7031266689300537 and parameters: {'w1': 0.22623113261853367, 'w2': 0.5310559058071938}. Best is trial 495 with value: 0.7050744295120239.\n"
     ]
    },
    {
     "name": "stdout",
     "output_type": "stream",
     "text": [
      "{'w1': 0.22623113261853367, 'w2': 0.5310559058071938, 'threshold': 0.67}\n"
     ]
    },
    {
     "name": "stderr",
     "output_type": "stream",
     "text": [
      "[I 2023-06-22 15:46:40,235] Trial 806 finished with value: 0.7044298052787781 and parameters: {'w1': 0.7925459574596156, 'w2': 0.7370008771321457}. Best is trial 495 with value: 0.7050744295120239.\n"
     ]
    },
    {
     "name": "stdout",
     "output_type": "stream",
     "text": [
      "{'w1': 0.7925459574596156, 'w2': 0.7370008771321457, 'threshold': 0.62}\n"
     ]
    },
    {
     "name": "stderr",
     "output_type": "stream",
     "text": [
      "[I 2023-06-22 15:46:42,423] Trial 807 finished with value: 0.7036364078521729 and parameters: {'w1': 0.94380369532462, 'w2': 0.8385094949834709}. Best is trial 495 with value: 0.7050744295120239.\n"
     ]
    },
    {
     "name": "stdout",
     "output_type": "stream",
     "text": [
      "{'w1': 0.94380369532462, 'w2': 0.8385094949834709, 'threshold': 0.62}\n"
     ]
    },
    {
     "name": "stderr",
     "output_type": "stream",
     "text": [
      "[I 2023-06-22 15:46:44,610] Trial 808 finished with value: 0.703458309173584 and parameters: {'w1': 0.8795906292916781, 'w2': 0.7713534085421971}. Best is trial 495 with value: 0.7050744295120239.\n"
     ]
    },
    {
     "name": "stdout",
     "output_type": "stream",
     "text": [
      "{'w1': 0.8795906292916781, 'w2': 0.7713534085421971, 'threshold': 0.62}\n"
     ]
    },
    {
     "name": "stderr",
     "output_type": "stream",
     "text": [
      "[I 2023-06-22 15:46:46,807] Trial 809 finished with value: 0.7032540440559387 and parameters: {'w1': 0.5134430993415342, 'w2': 0.755739602029941}. Best is trial 495 with value: 0.7050744295120239.\n"
     ]
    },
    {
     "name": "stdout",
     "output_type": "stream",
     "text": [
      "{'w1': 0.5134430993415342, 'w2': 0.755739602029941, 'threshold': 0.64}\n"
     ]
    },
    {
     "name": "stderr",
     "output_type": "stream",
     "text": [
      "[I 2023-06-22 15:46:49,016] Trial 810 finished with value: 0.7002598643302917 and parameters: {'w1': 0.6370046578666879, 'w2': 0.25947818222768326}. Best is trial 495 with value: 0.7050744295120239.\n"
     ]
    },
    {
     "name": "stdout",
     "output_type": "stream",
     "text": [
      "{'w1': 0.6370046578666879, 'w2': 0.25947818222768326, 'threshold': 0.58}\n"
     ]
    },
    {
     "name": "stderr",
     "output_type": "stream",
     "text": [
      "[I 2023-06-22 15:46:51,219] Trial 811 finished with value: 0.7035462856292725 and parameters: {'w1': 0.9069733506418234, 'w2': 0.7229668932463985}. Best is trial 495 with value: 0.7050744295120239.\n"
     ]
    },
    {
     "name": "stdout",
     "output_type": "stream",
     "text": [
      "{'w1': 0.9069733506418234, 'w2': 0.7229668932463985, 'threshold': 0.61}\n"
     ]
    },
    {
     "name": "stderr",
     "output_type": "stream",
     "text": [
      "[I 2023-06-22 15:46:53,412] Trial 812 finished with value: 0.7036376595497131 and parameters: {'w1': 0.8407922827119595, 'w2': 0.8874654275077631}. Best is trial 495 with value: 0.7050744295120239.\n"
     ]
    },
    {
     "name": "stdout",
     "output_type": "stream",
     "text": [
      "{'w1': 0.8407922827119595, 'w2': 0.8874654275077631, 'threshold': 0.63}\n"
     ]
    },
    {
     "name": "stderr",
     "output_type": "stream",
     "text": [
      "[I 2023-06-22 15:46:55,601] Trial 813 finished with value: 0.7035873532295227 and parameters: {'w1': 0.8043812325259101, 'w2': 0.6430496787834549}. Best is trial 495 with value: 0.7050744295120239.\n"
     ]
    },
    {
     "name": "stdout",
     "output_type": "stream",
     "text": [
      "{'w1': 0.8043812325259101, 'w2': 0.6430496787834549, 'threshold': 0.61}\n"
     ]
    },
    {
     "name": "stderr",
     "output_type": "stream",
     "text": [
      "[I 2023-06-22 15:46:57,803] Trial 814 finished with value: 0.7014032006263733 and parameters: {'w1': 0.6342786965804448, 'w2': 0.37597531164167663}. Best is trial 495 with value: 0.7050744295120239.\n"
     ]
    },
    {
     "name": "stdout",
     "output_type": "stream",
     "text": [
      "{'w1': 0.6342786965804448, 'w2': 0.37597531164167663, 'threshold': 0.6}\n"
     ]
    },
    {
     "name": "stderr",
     "output_type": "stream",
     "text": [
      "[I 2023-06-22 15:47:00,002] Trial 815 finished with value: 0.7035227417945862 and parameters: {'w1': 0.2325910150038225, 'w2': 0.2972068952431604}. Best is trial 495 with value: 0.7050744295120239.\n"
     ]
    },
    {
     "name": "stdout",
     "output_type": "stream",
     "text": [
      "{'w1': 0.2325910150038225, 'w2': 0.2972068952431604, 'threshold': 0.64}\n"
     ]
    },
    {
     "name": "stderr",
     "output_type": "stream",
     "text": [
      "[I 2023-06-22 15:47:02,196] Trial 816 finished with value: 0.7028436064720154 and parameters: {'w1': 0.3680201015660419, 'w2': 0.8060926491552035}. Best is trial 495 with value: 0.7050744295120239.\n"
     ]
    },
    {
     "name": "stdout",
     "output_type": "stream",
     "text": [
      "{'w1': 0.3680201015660419, 'w2': 0.8060926491552035, 'threshold': 0.66}\n"
     ]
    },
    {
     "name": "stderr",
     "output_type": "stream",
     "text": [
      "[I 2023-06-22 15:47:04,386] Trial 817 finished with value: 0.7026462554931641 and parameters: {'w1': 0.3143863439353755, 'w2': 0.8649000173362457}. Best is trial 495 with value: 0.7050744295120239.\n"
     ]
    },
    {
     "name": "stdout",
     "output_type": "stream",
     "text": [
      "{'w1': 0.3143863439353755, 'w2': 0.8649000173362457, 'threshold': 0.67}\n"
     ]
    },
    {
     "name": "stderr",
     "output_type": "stream",
     "text": [
      "[I 2023-06-22 15:47:06,578] Trial 818 finished with value: 0.7042197585105896 and parameters: {'w1': 0.9648137340278231, 'w2': 0.9379864096427877}. Best is trial 495 with value: 0.7050744295120239.\n"
     ]
    },
    {
     "name": "stdout",
     "output_type": "stream",
     "text": [
      "{'w1': 0.9648137340278231, 'w2': 0.9379864096427877, 'threshold': 0.62}\n"
     ]
    },
    {
     "name": "stderr",
     "output_type": "stream",
     "text": [
      "[I 2023-06-22 15:47:08,777] Trial 819 finished with value: 0.7025384902954102 and parameters: {'w1': 0.7694740130928125, 'w2': 0.5082876507992902}. Best is trial 495 with value: 0.7050744295120239.\n"
     ]
    },
    {
     "name": "stdout",
     "output_type": "stream",
     "text": [
      "{'w1': 0.7694740130928125, 'w2': 0.5082876507992902, 'threshold': 0.6}\n"
     ]
    },
    {
     "name": "stderr",
     "output_type": "stream",
     "text": [
      "[I 2023-06-22 15:47:10,973] Trial 820 finished with value: 0.7022955417633057 and parameters: {'w1': 0.12981998979897502, 'w2': 0.7790119416724055}. Best is trial 495 with value: 0.7050744295120239.\n"
     ]
    },
    {
     "name": "stdout",
     "output_type": "stream",
     "text": [
      "{'w1': 0.12981998979897502, 'w2': 0.7790119416724055, 'threshold': 0.7}\n"
     ]
    },
    {
     "name": "stderr",
     "output_type": "stream",
     "text": [
      "[I 2023-06-22 15:47:13,160] Trial 821 finished with value: 0.7042957544326782 and parameters: {'w1': 0.6025103804299354, 'w2': 0.686468235689778}. Best is trial 495 with value: 0.7050744295120239.\n"
     ]
    },
    {
     "name": "stdout",
     "output_type": "stream",
     "text": [
      "{'w1': 0.6025103804299354, 'w2': 0.686468235689778, 'threshold': 0.63}\n"
     ]
    },
    {
     "name": "stderr",
     "output_type": "stream",
     "text": [
      "[I 2023-06-22 15:47:15,346] Trial 822 finished with value: 0.7034862637519836 and parameters: {'w1': 0.6559959181398396, 'w2': 0.8352066119713126}. Best is trial 495 with value: 0.7050744295120239.\n"
     ]
    },
    {
     "name": "stdout",
     "output_type": "stream",
     "text": [
      "{'w1': 0.6559959181398396, 'w2': 0.8352066119713126, 'threshold': 0.64}\n"
     ]
    },
    {
     "name": "stderr",
     "output_type": "stream",
     "text": [
      "[I 2023-06-22 15:47:17,554] Trial 823 finished with value: 0.7041838765144348 and parameters: {'w1': 0.4643932051645994, 'w2': 0.4270372688633709}. Best is trial 495 with value: 0.7050744295120239.\n"
     ]
    },
    {
     "name": "stdout",
     "output_type": "stream",
     "text": [
      "{'w1': 0.4643932051645994, 'w2': 0.4270372688633709, 'threshold': 0.62}\n"
     ]
    },
    {
     "name": "stderr",
     "output_type": "stream",
     "text": [
      "[I 2023-06-22 15:47:19,739] Trial 824 finished with value: 0.7037892937660217 and parameters: {'w1': 0.7863012563018331, 'w2': 0.7072041776197844}. Best is trial 495 with value: 0.7050744295120239.\n"
     ]
    },
    {
     "name": "stdout",
     "output_type": "stream",
     "text": [
      "{'w1': 0.7863012563018331, 'w2': 0.7072041776197844, 'threshold': 0.62}\n"
     ]
    },
    {
     "name": "stderr",
     "output_type": "stream",
     "text": [
      "[I 2023-06-22 15:47:21,925] Trial 825 finished with value: 0.7030825614929199 and parameters: {'w1': 0.8824190932638329, 'w2': 0.7424068404110093}. Best is trial 495 with value: 0.7050744295120239.\n"
     ]
    },
    {
     "name": "stdout",
     "output_type": "stream",
     "text": [
      "{'w1': 0.8824190932638329, 'w2': 0.7424068404110093, 'threshold': 0.62}\n"
     ]
    },
    {
     "name": "stderr",
     "output_type": "stream",
     "text": [
      "[I 2023-06-22 15:47:24,123] Trial 826 finished with value: 0.7032263875007629 and parameters: {'w1': 0.5533777688109632, 'w2': 0.8175469769096041}. Best is trial 495 with value: 0.7050744295120239.\n"
     ]
    },
    {
     "name": "stdout",
     "output_type": "stream",
     "text": [
      "{'w1': 0.5533777688109632, 'w2': 0.8175469769096041, 'threshold': 0.64}\n"
     ]
    },
    {
     "name": "stderr",
     "output_type": "stream",
     "text": [
      "[I 2023-06-22 15:47:26,322] Trial 827 finished with value: 0.7036685943603516 and parameters: {'w1': 0.8566273599001266, 'w2': 0.7632484178471445}. Best is trial 495 with value: 0.7050744295120239.\n"
     ]
    },
    {
     "name": "stdout",
     "output_type": "stream",
     "text": [
      "{'w1': 0.8566273599001266, 'w2': 0.7632484178471445, 'threshold': 0.62}\n"
     ]
    },
    {
     "name": "stderr",
     "output_type": "stream",
     "text": [
      "[I 2023-06-22 15:47:28,516] Trial 828 finished with value: 0.7029845714569092 and parameters: {'w1': 0.4317405993508687, 'w2': 0.9179535194478861}. Best is trial 495 with value: 0.7050744295120239.\n"
     ]
    },
    {
     "name": "stdout",
     "output_type": "stream",
     "text": [
      "{'w1': 0.4317405993508687, 'w2': 0.9179535194478861, 'threshold': 0.66}\n"
     ]
    },
    {
     "name": "stderr",
     "output_type": "stream",
     "text": [
      "[I 2023-06-22 15:47:30,710] Trial 829 finished with value: 0.7029539942741394 and parameters: {'w1': 0.15907710280552123, 'w2': 0.3403326124958984}. Best is trial 495 with value: 0.7050744295120239.\n"
     ]
    },
    {
     "name": "stdout",
     "output_type": "stream",
     "text": [
      "{'w1': 0.15907710280552123, 'w2': 0.3403326124958984, 'threshold': 0.66}\n"
     ]
    },
    {
     "name": "stderr",
     "output_type": "stream",
     "text": [
      "[I 2023-06-22 15:47:32,901] Trial 830 finished with value: 0.7044659852981567 and parameters: {'w1': 0.8252176056191999, 'w2': 0.7928666146618099}. Best is trial 495 with value: 0.7050744295120239.\n"
     ]
    },
    {
     "name": "stdout",
     "output_type": "stream",
     "text": [
      "{'w1': 0.8252176056191999, 'w2': 0.7928666146618099, 'threshold': 0.62}\n"
     ]
    },
    {
     "name": "stderr",
     "output_type": "stream",
     "text": [
      "[I 2023-06-22 15:47:35,109] Trial 831 finished with value: 0.7030342221260071 and parameters: {'w1': 0.38287261989063237, 'w2': 0.7167142275523127}. Best is trial 495 with value: 0.7050744295120239.\n"
     ]
    },
    {
     "name": "stdout",
     "output_type": "stream",
     "text": [
      "{'w1': 0.38287261989063237, 'w2': 0.7167142275523127, 'threshold': 0.66}\n"
     ]
    },
    {
     "name": "stderr",
     "output_type": "stream",
     "text": [
      "[I 2023-06-22 15:47:37,317] Trial 832 finished with value: 0.7030358910560608 and parameters: {'w1': 0.5800952246864985, 'w2': 0.486769924179164}. Best is trial 495 with value: 0.7050744295120239.\n"
     ]
    },
    {
     "name": "stdout",
     "output_type": "stream",
     "text": [
      "{'w1': 0.5800952246864985, 'w2': 0.486769924179164, 'threshold': 0.62}\n"
     ]
    },
    {
     "name": "stderr",
     "output_type": "stream",
     "text": [
      "[I 2023-06-22 15:47:39,521] Trial 833 finished with value: 0.701594352722168 and parameters: {'w1': 0.8108386991520642, 'w2': 0.38518951402319446}. Best is trial 495 with value: 0.7050744295120239.\n"
     ]
    },
    {
     "name": "stdout",
     "output_type": "stream",
     "text": [
      "{'w1': 0.8108386991520642, 'w2': 0.38518951402319446, 'threshold': 0.58}\n"
     ]
    },
    {
     "name": "stderr",
     "output_type": "stream",
     "text": [
      "[I 2023-06-22 15:47:41,720] Trial 834 finished with value: 0.703697681427002 and parameters: {'w1': 0.749826786816418, 'w2': 0.606400883037806}. Best is trial 495 with value: 0.7050744295120239.\n"
     ]
    },
    {
     "name": "stdout",
     "output_type": "stream",
     "text": [
      "{'w1': 0.749826786816418, 'w2': 0.606400883037806, 'threshold': 0.61}\n"
     ]
    },
    {
     "name": "stderr",
     "output_type": "stream",
     "text": [
      "[I 2023-06-22 15:47:43,922] Trial 835 finished with value: 0.7016822099685669 and parameters: {'w1': 0.0768011051755183, 'w2': 0.8551293804484436}. Best is trial 495 with value: 0.7050744295120239.\n"
     ]
    },
    {
     "name": "stdout",
     "output_type": "stream",
     "text": [
      "{'w1': 0.0768011051755183, 'w2': 0.8551293804484436, 'threshold': 0.71}\n"
     ]
    },
    {
     "name": "stderr",
     "output_type": "stream",
     "text": [
      "[I 2023-06-22 15:47:46,121] Trial 836 finished with value: 0.703650712966919 and parameters: {'w1': 0.9324820219624189, 'w2': 0.9712495061451941}. Best is trial 495 with value: 0.7050744295120239.\n"
     ]
    },
    {
     "name": "stdout",
     "output_type": "stream",
     "text": [
      "{'w1': 0.9324820219624189, 'w2': 0.9712495061451941, 'threshold': 0.62}\n"
     ]
    },
    {
     "name": "stderr",
     "output_type": "stream",
     "text": [
      "[I 2023-06-22 15:47:48,326] Trial 837 finished with value: 0.7035171985626221 and parameters: {'w1': 0.5222988732858799, 'w2': 0.7393181038199391}. Best is trial 495 with value: 0.7050744295120239.\n"
     ]
    },
    {
     "name": "stdout",
     "output_type": "stream",
     "text": [
      "{'w1': 0.5222988732858799, 'w2': 0.7393181038199391, 'threshold': 0.64}\n"
     ]
    },
    {
     "name": "stderr",
     "output_type": "stream",
     "text": [
      "[I 2023-06-22 15:47:50,533] Trial 838 finished with value: 0.7046670317649841 and parameters: {'w1': 0.8514943886209559, 'w2': 0.8041007573634426}. Best is trial 495 with value: 0.7050744295120239.\n"
     ]
    },
    {
     "name": "stdout",
     "output_type": "stream",
     "text": [
      "{'w1': 0.8514943886209559, 'w2': 0.8041007573634426, 'threshold': 0.62}\n"
     ]
    },
    {
     "name": "stderr",
     "output_type": "stream",
     "text": [
      "[I 2023-06-22 15:47:52,734] Trial 839 finished with value: 0.7033416628837585 and parameters: {'w1': 0.6276548975607072, 'w2': 0.7770544283706617}. Best is trial 495 with value: 0.7050744295120239.\n"
     ]
    },
    {
     "name": "stdout",
     "output_type": "stream",
     "text": [
      "{'w1': 0.6276548975607072, 'w2': 0.7770544283706617, 'threshold': 0.63}\n"
     ]
    },
    {
     "name": "stderr",
     "output_type": "stream",
     "text": [
      "[I 2023-06-22 15:47:54,935] Trial 840 finished with value: 0.7029929161071777 and parameters: {'w1': 0.8980094067500024, 'w2': 0.7511332988679894}. Best is trial 495 with value: 0.7050744295120239.\n"
     ]
    },
    {
     "name": "stdout",
     "output_type": "stream",
     "text": [
      "{'w1': 0.8980094067500024, 'w2': 0.7511332988679894, 'threshold': 0.62}\n"
     ]
    },
    {
     "name": "stderr",
     "output_type": "stream",
     "text": [
      "[I 2023-06-22 15:47:57,138] Trial 841 finished with value: 0.7040135264396667 and parameters: {'w1': 0.767264628449209, 'w2': 0.8822310674775558}. Best is trial 495 with value: 0.7050744295120239.\n"
     ]
    },
    {
     "name": "stdout",
     "output_type": "stream",
     "text": [
      "{'w1': 0.767264628449209, 'w2': 0.8822310674775558, 'threshold': 0.63}\n"
     ]
    },
    {
     "name": "stderr",
     "output_type": "stream",
     "text": [
      "[I 2023-06-22 15:47:59,348] Trial 842 finished with value: 0.7036322355270386 and parameters: {'w1': 0.7901209326451752, 'w2': 0.8334940293804252}. Best is trial 495 with value: 0.7050744295120239.\n"
     ]
    },
    {
     "name": "stdout",
     "output_type": "stream",
     "text": [
      "{'w1': 0.7901209326451752, 'w2': 0.8334940293804252, 'threshold': 0.63}\n"
     ]
    },
    {
     "name": "stderr",
     "output_type": "stream",
     "text": [
      "[I 2023-06-22 15:48:01,556] Trial 843 finished with value: 0.7029939293861389 and parameters: {'w1': 0.6689724461293552, 'w2': 0.5500847032252048}. Best is trial 495 with value: 0.7050744295120239.\n"
     ]
    },
    {
     "name": "stdout",
     "output_type": "stream",
     "text": [
      "{'w1': 0.6689724461293552, 'w2': 0.5500847032252048, 'threshold': 0.61}\n"
     ]
    },
    {
     "name": "stderr",
     "output_type": "stream",
     "text": [
      "[I 2023-06-22 15:48:03,775] Trial 844 finished with value: 0.7029340863227844 and parameters: {'w1': 0.8749675712221822, 'w2': 0.7289740929551609}. Best is trial 495 with value: 0.7050744295120239.\n"
     ]
    },
    {
     "name": "stdout",
     "output_type": "stream",
     "text": [
      "{'w1': 0.8749675712221822, 'w2': 0.7289740929551609, 'threshold': 0.62}\n"
     ]
    },
    {
     "name": "stderr",
     "output_type": "stream",
     "text": [
      "[I 2023-06-22 15:48:05,983] Trial 845 finished with value: 0.7031452655792236 and parameters: {'w1': 0.27141577123996236, 'w2': 0.6763518669957687}. Best is trial 495 with value: 0.7050744295120239.\n"
     ]
    },
    {
     "name": "stdout",
     "output_type": "stream",
     "text": [
      "{'w1': 0.27141577123996236, 'w2': 0.6763518669957687, 'threshold': 0.67}\n"
     ]
    },
    {
     "name": "stderr",
     "output_type": "stream",
     "text": [
      "[I 2023-06-22 15:48:08,181] Trial 846 finished with value: 0.7036608457565308 and parameters: {'w1': 0.6479090761112679, 'w2': 0.9008440966102068}. Best is trial 495 with value: 0.7050744295120239.\n"
     ]
    },
    {
     "name": "stdout",
     "output_type": "stream",
     "text": [
      "{'w1': 0.6479090761112679, 'w2': 0.9008440966102068, 'threshold': 0.64}\n"
     ]
    },
    {
     "name": "stderr",
     "output_type": "stream",
     "text": [
      "[I 2023-06-22 15:48:10,366] Trial 847 finished with value: 0.7038685083389282 and parameters: {'w1': 0.6057036859368923, 'w2': 0.7902325461455103}. Best is trial 495 with value: 0.7050744295120239.\n"
     ]
    },
    {
     "name": "stdout",
     "output_type": "stream",
     "text": [
      "{'w1': 0.6057036859368923, 'w2': 0.7902325461455103, 'threshold': 0.64}\n"
     ]
    },
    {
     "name": "stderr",
     "output_type": "stream",
     "text": [
      "[I 2023-06-22 15:48:12,557] Trial 848 finished with value: 0.7030409574508667 and parameters: {'w1': 0.47502047262668445, 'w2': 0.998488408186612}. Best is trial 495 with value: 0.7050744295120239.\n"
     ]
    },
    {
     "name": "stdout",
     "output_type": "stream",
     "text": [
      "{'w1': 0.47502047262668445, 'w2': 0.998488408186612, 'threshold': 0.66}\n"
     ]
    },
    {
     "name": "stderr",
     "output_type": "stream",
     "text": [
      "[I 2023-06-22 15:48:14,743] Trial 849 finished with value: 0.7006878852844238 and parameters: {'w1': 0.836042585775741, 'w2': 0.32245770511675476}. Best is trial 495 with value: 0.7050744295120239.\n"
     ]
    },
    {
     "name": "stdout",
     "output_type": "stream",
     "text": [
      "{'w1': 0.836042585775741, 'w2': 0.32245770511675476, 'threshold': 0.57}\n"
     ]
    },
    {
     "name": "stderr",
     "output_type": "stream",
     "text": [
      "[I 2023-06-22 15:48:16,928] Trial 850 finished with value: 0.7032454609870911 and parameters: {'w1': 0.8161129246892105, 'w2': 0.6377993879634123}. Best is trial 495 with value: 0.7050744295120239.\n"
     ]
    },
    {
     "name": "stdout",
     "output_type": "stream",
     "text": [
      "{'w1': 0.8161129246892105, 'w2': 0.6377993879634123, 'threshold': 0.61}\n"
     ]
    },
    {
     "name": "stderr",
     "output_type": "stream",
     "text": [
      "[I 2023-06-22 15:48:19,115] Trial 851 finished with value: 0.7044063210487366 and parameters: {'w1': 0.7344791876365414, 'w2': 0.8192048462958821}. Best is trial 495 with value: 0.7050744295120239.\n"
     ]
    },
    {
     "name": "stdout",
     "output_type": "stream",
     "text": [
      "{'w1': 0.7344791876365414, 'w2': 0.8192048462958821, 'threshold': 0.63}\n"
     ]
    },
    {
     "name": "stderr",
     "output_type": "stream",
     "text": [
      "[I 2023-06-22 15:48:21,302] Trial 852 finished with value: 0.7015483975410461 and parameters: {'w1': 0.06274783346416812, 'w2': 0.764776535771815}. Best is trial 495 with value: 0.7050744295120239.\n"
     ]
    },
    {
     "name": "stdout",
     "output_type": "stream",
     "text": [
      "{'w1': 0.06274783346416812, 'w2': 0.764776535771815, 'threshold': 0.71}\n"
     ]
    },
    {
     "name": "stderr",
     "output_type": "stream",
     "text": [
      "[I 2023-06-22 15:48:23,488] Trial 853 finished with value: 0.703904926776886 and parameters: {'w1': 0.35588799841318963, 'w2': 0.6936601387964447}. Best is trial 495 with value: 0.7050744295120239.\n"
     ]
    },
    {
     "name": "stdout",
     "output_type": "stream",
     "text": [
      "{'w1': 0.35588799841318963, 'w2': 0.6936601387964447, 'threshold': 0.66}\n"
     ]
    },
    {
     "name": "stderr",
     "output_type": "stream",
     "text": [
      "[I 2023-06-22 15:48:25,674] Trial 854 finished with value: 0.6977367401123047 and parameters: {'w1': 0.771355987471685, 'w2': 0.12267864566309095}. Best is trial 495 with value: 0.7050744295120239.\n"
     ]
    },
    {
     "name": "stdout",
     "output_type": "stream",
     "text": [
      "{'w1': 0.771355987471685, 'w2': 0.12267864566309095, 'threshold': 0.59}\n"
     ]
    },
    {
     "name": "stderr",
     "output_type": "stream",
     "text": [
      "[I 2023-06-22 15:48:27,865] Trial 855 finished with value: 0.7042509913444519 and parameters: {'w1': 0.5349711224691742, 'w2': 0.7129943878377093}. Best is trial 495 with value: 0.7050744295120239.\n"
     ]
    },
    {
     "name": "stdout",
     "output_type": "stream",
     "text": [
      "{'w1': 0.5349711224691742, 'w2': 0.7129943878377093, 'threshold': 0.64}\n"
     ]
    },
    {
     "name": "stderr",
     "output_type": "stream",
     "text": [
      "[I 2023-06-22 15:48:30,052] Trial 856 finished with value: 0.6967740654945374 and parameters: {'w1': 0.09720535719788148, 'w2': 0.004996744189164515}. Best is trial 495 with value: 0.7050744295120239.\n"
     ]
    },
    {
     "name": "stdout",
     "output_type": "stream",
     "text": [
      "{'w1': 0.09720535719788148, 'w2': 0.004996744189164515, 'threshold': 0.6}\n"
     ]
    },
    {
     "name": "stderr",
     "output_type": "stream",
     "text": [
      "[I 2023-06-22 15:48:32,238] Trial 857 finished with value: 0.703041136264801 and parameters: {'w1': 0.9144827358871822, 'w2': 0.7498768625814076}. Best is trial 495 with value: 0.7050744295120239.\n"
     ]
    },
    {
     "name": "stdout",
     "output_type": "stream",
     "text": [
      "{'w1': 0.9144827358871822, 'w2': 0.7498768625814076, 'threshold': 0.61}\n"
     ]
    },
    {
     "name": "stderr",
     "output_type": "stream",
     "text": [
      "[I 2023-06-22 15:48:34,424] Trial 858 finished with value: 0.698727011680603 and parameters: {'w1': 0.8000846032469386, 'w2': 0.19707909736661078}. Best is trial 495 with value: 0.7050744295120239.\n"
     ]
    },
    {
     "name": "stdout",
     "output_type": "stream",
     "text": [
      "{'w1': 0.8000846032469386, 'w2': 0.19707909736661078, 'threshold': 0.55}\n"
     ]
    },
    {
     "name": "stderr",
     "output_type": "stream",
     "text": [
      "[I 2023-06-22 15:48:36,610] Trial 859 finished with value: 0.7034814953804016 and parameters: {'w1': 0.6642139565172431, 'w2': 0.8454758193917382}. Best is trial 495 with value: 0.7050744295120239.\n"
     ]
    },
    {
     "name": "stdout",
     "output_type": "stream",
     "text": [
      "{'w1': 0.6642139565172431, 'w2': 0.8454758193917382, 'threshold': 0.64}\n"
     ]
    },
    {
     "name": "stderr",
     "output_type": "stream",
     "text": [
      "[I 2023-06-22 15:48:38,805] Trial 860 finished with value: 0.7036759853363037 and parameters: {'w1': 0.5702032366647067, 'w2': 0.9373437019321366}. Best is trial 495 with value: 0.7050744295120239.\n"
     ]
    },
    {
     "name": "stdout",
     "output_type": "stream",
     "text": [
      "{'w1': 0.5702032366647067, 'w2': 0.9373437019321366, 'threshold': 0.65}\n"
     ]
    },
    {
     "name": "stderr",
     "output_type": "stream",
     "text": [
      "[I 2023-06-22 15:48:41,001] Trial 861 finished with value: 0.7031007409095764 and parameters: {'w1': 0.3190035745439304, 'w2': 0.6637009840925627}. Best is trial 495 with value: 0.7050744295120239.\n"
     ]
    },
    {
     "name": "stdout",
     "output_type": "stream",
     "text": [
      "{'w1': 0.3190035745439304, 'w2': 0.6637009840925627, 'threshold': 0.66}\n"
     ]
    },
    {
     "name": "stderr",
     "output_type": "stream",
     "text": [
      "[I 2023-06-22 15:48:43,212] Trial 862 finished with value: 0.7033244967460632 and parameters: {'w1': 0.623176601470332, 'w2': 0.7806017672397063}. Best is trial 495 with value: 0.7050744295120239.\n"
     ]
    },
    {
     "name": "stdout",
     "output_type": "stream",
     "text": [
      "{'w1': 0.623176601470332, 'w2': 0.7806017672397063, 'threshold': 0.64}\n"
     ]
    },
    {
     "name": "stderr",
     "output_type": "stream",
     "text": [
      "[I 2023-06-22 15:48:45,419] Trial 863 finished with value: 0.7043898701667786 and parameters: {'w1': 0.8623568367624883, 'w2': 0.9609121904771595}. Best is trial 495 with value: 0.7050744295120239.\n"
     ]
    },
    {
     "name": "stdout",
     "output_type": "stream",
     "text": [
      "{'w1': 0.8623568367624883, 'w2': 0.9609121904771595, 'threshold': 0.63}\n"
     ]
    },
    {
     "name": "stderr",
     "output_type": "stream",
     "text": [
      "[I 2023-06-22 15:48:47,606] Trial 864 finished with value: 0.7039185762405396 and parameters: {'w1': 0.7490263122040166, 'w2': 0.8103284531821893}. Best is trial 495 with value: 0.7050744295120239.\n"
     ]
    },
    {
     "name": "stdout",
     "output_type": "stream",
     "text": [
      "{'w1': 0.7490263122040166, 'w2': 0.8103284531821893, 'threshold': 0.63}\n"
     ]
    },
    {
     "name": "stderr",
     "output_type": "stream",
     "text": [
      "[I 2023-06-22 15:48:49,793] Trial 865 finished with value: 0.7026822566986084 and parameters: {'w1': 0.1876226803765605, 'w2': 0.7303119176703892}. Best is trial 495 with value: 0.7050744295120239.\n"
     ]
    },
    {
     "name": "stdout",
     "output_type": "stream",
     "text": [
      "{'w1': 0.1876226803765605, 'w2': 0.7303119176703892, 'threshold': 0.69}\n"
     ]
    },
    {
     "name": "stderr",
     "output_type": "stream",
     "text": [
      "[I 2023-06-22 15:48:51,981] Trial 866 finished with value: 0.7029278874397278 and parameters: {'w1': 0.3411336259200604, 'w2': 0.28321891148897543}. Best is trial 495 with value: 0.7050744295120239.\n"
     ]
    },
    {
     "name": "stdout",
     "output_type": "stream",
     "text": [
      "{'w1': 0.3411336259200604, 'w2': 0.28321891148897543, 'threshold': 0.61}\n"
     ]
    },
    {
     "name": "stderr",
     "output_type": "stream",
     "text": [
      "[I 2023-06-22 15:48:54,168] Trial 867 finished with value: 0.7042362093925476 and parameters: {'w1': 0.7831491381804225, 'w2': 0.8636466378451613}. Best is trial 495 with value: 0.7050744295120239.\n"
     ]
    },
    {
     "name": "stdout",
     "output_type": "stream",
     "text": [
      "{'w1': 0.7831491381804225, 'w2': 0.8636466378451613, 'threshold': 0.63}\n"
     ]
    },
    {
     "name": "stderr",
     "output_type": "stream",
     "text": [
      "[I 2023-06-22 15:48:56,358] Trial 868 finished with value: 0.7010267972946167 and parameters: {'w1': 0.8870659294439848, 'w2': 0.4489556415181041}. Best is trial 495 with value: 0.7050744295120239.\n"
     ]
    },
    {
     "name": "stdout",
     "output_type": "stream",
     "text": [
      "{'w1': 0.8870659294439848, 'w2': 0.4489556415181041, 'threshold': 0.59}\n"
     ]
    },
    {
     "name": "stderr",
     "output_type": "stream",
     "text": [
      "[I 2023-06-22 15:48:58,562] Trial 869 finished with value: 0.7041001915931702 and parameters: {'w1': 0.8317061548273076, 'w2': 0.7612367333276537}. Best is trial 495 with value: 0.7050744295120239.\n"
     ]
    },
    {
     "name": "stdout",
     "output_type": "stream",
     "text": [
      "{'w1': 0.8317061548273076, 'w2': 0.7612367333276537, 'threshold': 0.62}\n"
     ]
    },
    {
     "name": "stderr",
     "output_type": "stream",
     "text": [
      "[I 2023-06-22 15:49:00,749] Trial 870 finished with value: 0.7044037580490112 and parameters: {'w1': 0.5871821627894073, 'w2': 0.7955754775844984}. Best is trial 495 with value: 0.7050744295120239.\n"
     ]
    },
    {
     "name": "stdout",
     "output_type": "stream",
     "text": [
      "{'w1': 0.5871821627894073, 'w2': 0.7955754775844984, 'threshold': 0.64}\n"
     ]
    },
    {
     "name": "stderr",
     "output_type": "stream",
     "text": [
      "[I 2023-06-22 15:49:02,941] Trial 871 finished with value: 0.7034845352172852 and parameters: {'w1': 0.6483788566415384, 'w2': 0.8257471027125819}. Best is trial 495 with value: 0.7050744295120239.\n"
     ]
    },
    {
     "name": "stdout",
     "output_type": "stream",
     "text": [
      "{'w1': 0.6483788566415384, 'w2': 0.8257471027125819, 'threshold': 0.64}\n"
     ]
    },
    {
     "name": "stderr",
     "output_type": "stream",
     "text": [
      "[I 2023-06-22 15:49:05,142] Trial 872 finished with value: 0.7031363248825073 and parameters: {'w1': 0.7302160957590959, 'w2': 0.6185336344062451}. Best is trial 495 with value: 0.7050744295120239.\n"
     ]
    },
    {
     "name": "stdout",
     "output_type": "stream",
     "text": [
      "{'w1': 0.7302160957590959, 'w2': 0.6185336344062451, 'threshold': 0.62}\n"
     ]
    },
    {
     "name": "stderr",
     "output_type": "stream",
     "text": [
      "[I 2023-06-22 15:49:07,341] Trial 873 finished with value: 0.7040002346038818 and parameters: {'w1': 0.8504609766363374, 'w2': 0.9785420072846577}. Best is trial 495 with value: 0.7050744295120239.\n"
     ]
    },
    {
     "name": "stdout",
     "output_type": "stream",
     "text": [
      "{'w1': 0.8504609766363374, 'w2': 0.9785420072846577, 'threshold': 0.63}\n"
     ]
    },
    {
     "name": "stderr",
     "output_type": "stream",
     "text": [
      "[I 2023-06-22 15:49:09,527] Trial 874 finished with value: 0.7019304037094116 and parameters: {'w1': 0.07281805228531268, 'w2': 0.7038274695902307}. Best is trial 495 with value: 0.7050744295120239.\n"
     ]
    },
    {
     "name": "stdout",
     "output_type": "stream",
     "text": [
      "{'w1': 0.07281805228531268, 'w2': 0.7038274695902307, 'threshold': 0.71}\n"
     ]
    },
    {
     "name": "stderr",
     "output_type": "stream",
     "text": [
      "[I 2023-06-22 15:49:11,717] Trial 875 finished with value: 0.7034712433815002 and parameters: {'w1': 0.4420040568012672, 'w2': 0.7370312455815758}. Best is trial 495 with value: 0.7050744295120239.\n"
     ]
    },
    {
     "name": "stdout",
     "output_type": "stream",
     "text": [
      "{'w1': 0.4420040568012672, 'w2': 0.7370312455815758, 'threshold': 0.65}\n"
     ]
    },
    {
     "name": "stderr",
     "output_type": "stream",
     "text": [
      "[I 2023-06-22 15:49:13,907] Trial 876 finished with value: 0.7014961242675781 and parameters: {'w1': 0.9407658491336394, 'w2': 0.5480045360172922}. Best is trial 495 with value: 0.7050744295120239.\n"
     ]
    },
    {
     "name": "stdout",
     "output_type": "stream",
     "text": [
      "{'w1': 0.9407658491336394, 'w2': 0.5480045360172922, 'threshold': 0.59}\n"
     ]
    },
    {
     "name": "stderr",
     "output_type": "stream",
     "text": [
      "[I 2023-06-22 15:49:16,094] Trial 877 finished with value: 0.7038851380348206 and parameters: {'w1': 0.4845677598651853, 'w2': 0.7691718802052233}. Best is trial 495 with value: 0.7050744295120239.\n"
     ]
    },
    {
     "name": "stdout",
     "output_type": "stream",
     "text": [
      "{'w1': 0.4845677598651853, 'w2': 0.7691718802052233, 'threshold': 0.65}\n"
     ]
    },
    {
     "name": "stderr",
     "output_type": "stream",
     "text": [
      "[I 2023-06-22 15:49:18,281] Trial 878 finished with value: 0.696821391582489 and parameters: {'w1': 0.758843625114532, 'w2': 0.04411227013247576}. Best is trial 495 with value: 0.7050744295120239.\n"
     ]
    },
    {
     "name": "stdout",
     "output_type": "stream",
     "text": [
      "{'w1': 0.758843625114532, 'w2': 0.04411227013247576, 'threshold': 0.6}\n"
     ]
    },
    {
     "name": "stderr",
     "output_type": "stream",
     "text": [
      "[I 2023-06-22 15:49:20,467] Trial 879 finished with value: 0.7023745179176331 and parameters: {'w1': 0.8060190109628972, 'w2': 0.5913159620972395}. Best is trial 495 with value: 0.7050744295120239.\n"
     ]
    },
    {
     "name": "stdout",
     "output_type": "stream",
     "text": [
      "{'w1': 0.8060190109628972, 'w2': 0.5913159620972395, 'threshold': 0.61}\n"
     ]
    },
    {
     "name": "stderr",
     "output_type": "stream",
     "text": [
      "[I 2023-06-22 15:49:22,654] Trial 880 finished with value: 0.7034406065940857 and parameters: {'w1': 0.546405636216907, 'w2': 0.47838378727543324}. Best is trial 495 with value: 0.7050744295120239.\n"
     ]
    },
    {
     "name": "stdout",
     "output_type": "stream",
     "text": [
      "{'w1': 0.546405636216907, 'w2': 0.47838378727543324, 'threshold': 0.62}\n"
     ]
    },
    {
     "name": "stderr",
     "output_type": "stream",
     "text": [
      "[I 2023-06-22 15:49:24,840] Trial 881 finished with value: 0.7039464116096497 and parameters: {'w1': 0.681576319433746, 'w2': 0.7872033156578349}. Best is trial 495 with value: 0.7050744295120239.\n"
     ]
    },
    {
     "name": "stdout",
     "output_type": "stream",
     "text": [
      "{'w1': 0.681576319433746, 'w2': 0.7872033156578349, 'threshold': 0.63}\n"
     ]
    },
    {
     "name": "stderr",
     "output_type": "stream",
     "text": [
      "[I 2023-06-22 15:49:27,026] Trial 882 finished with value: 0.70322585105896 and parameters: {'w1': 0.26870722891849186, 'w2': 0.41035804118084296}. Best is trial 495 with value: 0.7050744295120239.\n"
     ]
    },
    {
     "name": "stdout",
     "output_type": "stream",
     "text": [
      "{'w1': 0.26870722891849186, 'w2': 0.41035804118084296, 'threshold': 0.65}\n"
     ]
    },
    {
     "name": "stderr",
     "output_type": "stream",
     "text": [
      "[I 2023-06-22 15:49:29,211] Trial 883 finished with value: 0.7031047344207764 and parameters: {'w1': 0.5050151433191238, 'w2': 0.8872659314734472}. Best is trial 495 with value: 0.7050744295120239.\n"
     ]
    },
    {
     "name": "stdout",
     "output_type": "stream",
     "text": [
      "{'w1': 0.5050151433191238, 'w2': 0.8872659314734472, 'threshold': 0.65}\n"
     ]
    },
    {
     "name": "stderr",
     "output_type": "stream",
     "text": [
      "[I 2023-06-22 15:49:31,399] Trial 884 finished with value: 0.6979697346687317 and parameters: {'w1': 0.8960202812992716, 'w2': 0.1658051735499826}. Best is trial 495 with value: 0.7050744295120239.\n"
     ]
    },
    {
     "name": "stdout",
     "output_type": "stream",
     "text": [
      "{'w1': 0.8960202812992716, 'w2': 0.1658051735499826, 'threshold': 0.59}\n"
     ]
    },
    {
     "name": "stderr",
     "output_type": "stream",
     "text": [
      "[I 2023-06-22 15:49:33,593] Trial 885 finished with value: 0.7034534811973572 and parameters: {'w1': 0.6354231022758887, 'w2': 0.9078992921071473}. Best is trial 495 with value: 0.7050744295120239.\n"
     ]
    },
    {
     "name": "stdout",
     "output_type": "stream",
     "text": [
      "{'w1': 0.6354231022758887, 'w2': 0.9078992921071473, 'threshold': 0.64}\n"
     ]
    },
    {
     "name": "stderr",
     "output_type": "stream",
     "text": [
      "[I 2023-06-22 15:49:35,779] Trial 886 finished with value: 0.7015556693077087 and parameters: {'w1': 0.602695257502662, 'w2': 0.3491318027119342}. Best is trial 495 with value: 0.7050744295120239.\n"
     ]
    },
    {
     "name": "stdout",
     "output_type": "stream",
     "text": [
      "{'w1': 0.602695257502662, 'w2': 0.3491318027119342, 'threshold': 0.59}\n"
     ]
    },
    {
     "name": "stderr",
     "output_type": "stream",
     "text": [
      "[I 2023-06-22 15:49:37,966] Trial 887 finished with value: 0.7044573426246643 and parameters: {'w1': 0.7790783681682124, 'w2': 0.7486713382940813}. Best is trial 495 with value: 0.7050744295120239.\n"
     ]
    },
    {
     "name": "stdout",
     "output_type": "stream",
     "text": [
      "{'w1': 0.7790783681682124, 'w2': 0.7486713382940813, 'threshold': 0.62}\n"
     ]
    },
    {
     "name": "stderr",
     "output_type": "stream",
     "text": [
      "[I 2023-06-22 15:49:40,153] Trial 888 finished with value: 0.7021344304084778 and parameters: {'w1': 0.8218816349232274, 'w2': 0.5715908290180971}. Best is trial 495 with value: 0.7050744295120239.\n"
     ]
    },
    {
     "name": "stdout",
     "output_type": "stream",
     "text": [
      "{'w1': 0.8218816349232274, 'w2': 0.5715908290180971, 'threshold': 0.6}\n"
     ]
    },
    {
     "name": "stderr",
     "output_type": "stream",
     "text": [
      "[I 2023-06-22 15:49:42,339] Trial 889 finished with value: 0.7038500308990479 and parameters: {'w1': 0.7169096181566237, 'w2': 0.8322362099960968}. Best is trial 495 with value: 0.7050744295120239.\n"
     ]
    },
    {
     "name": "stdout",
     "output_type": "stream",
     "text": [
      "{'w1': 0.7169096181566237, 'w2': 0.8322362099960968, 'threshold': 0.63}\n"
     ]
    },
    {
     "name": "stderr",
     "output_type": "stream",
     "text": [
      "[I 2023-06-22 15:49:44,530] Trial 890 finished with value: 0.7039842009544373 and parameters: {'w1': 0.6606492660652455, 'w2': 0.7180997569815184}. Best is trial 495 with value: 0.7050744295120239.\n"
     ]
    },
    {
     "name": "stdout",
     "output_type": "stream",
     "text": [
      "{'w1': 0.6606492660652455, 'w2': 0.7180997569815184, 'threshold': 0.63}\n"
     ]
    },
    {
     "name": "stderr",
     "output_type": "stream",
     "text": [
      "[I 2023-06-22 15:49:46,731] Trial 891 finished with value: 0.6966185569763184 and parameters: {'w1': 0.8628608740198256, 'w2': 0.033237949546351064}. Best is trial 495 with value: 0.7050744295120239.\n"
     ]
    },
    {
     "name": "stdout",
     "output_type": "stream",
     "text": [
      "{'w1': 0.8628608740198256, 'w2': 0.033237949546351064, 'threshold': 0.6}\n"
     ]
    },
    {
     "name": "stderr",
     "output_type": "stream",
     "text": [
      "[I 2023-06-22 15:49:48,938] Trial 892 finished with value: 0.7041940093040466 and parameters: {'w1': 0.7527909644957452, 'w2': 0.6930778954040101}. Best is trial 495 with value: 0.7050744295120239.\n"
     ]
    },
    {
     "name": "stdout",
     "output_type": "stream",
     "text": [
      "{'w1': 0.7527909644957452, 'w2': 0.6930778954040101, 'threshold': 0.62}\n"
     ]
    },
    {
     "name": "stderr",
     "output_type": "stream",
     "text": [
      "[I 2023-06-22 15:49:51,124] Trial 893 finished with value: 0.7041928172111511 and parameters: {'w1': 0.9737590697084042, 'w2': 0.9483360013676267}. Best is trial 495 with value: 0.7050744295120239.\n"
     ]
    },
    {
     "name": "stdout",
     "output_type": "stream",
     "text": [
      "{'w1': 0.9737590697084042, 'w2': 0.9483360013676267, 'threshold': 0.62}\n"
     ]
    },
    {
     "name": "stderr",
     "output_type": "stream",
     "text": [
      "[I 2023-06-22 15:49:53,311] Trial 894 finished with value: 0.7040139436721802 and parameters: {'w1': 0.7925406792849489, 'w2': 0.8095574534923435}. Best is trial 495 with value: 0.7050744295120239.\n"
     ]
    },
    {
     "name": "stdout",
     "output_type": "stream",
     "text": [
      "{'w1': 0.7925406792849489, 'w2': 0.8095574534923435, 'threshold': 0.62}\n"
     ]
    },
    {
     "name": "stderr",
     "output_type": "stream",
     "text": [
      "[I 2023-06-22 15:49:55,498] Trial 895 finished with value: 0.7020741701126099 and parameters: {'w1': 0.8350156962515372, 'w2': 0.5347121434807168}. Best is trial 495 with value: 0.7050744295120239.\n"
     ]
    },
    {
     "name": "stdout",
     "output_type": "stream",
     "text": [
      "{'w1': 0.8350156962515372, 'w2': 0.5347121434807168, 'threshold': 0.6}\n"
     ]
    },
    {
     "name": "stderr",
     "output_type": "stream",
     "text": [
      "[I 2023-06-22 15:49:57,684] Trial 896 finished with value: 0.7043083310127258 and parameters: {'w1': 0.8813234407235272, 'w2': 0.8520483593731073}. Best is trial 495 with value: 0.7050744295120239.\n"
     ]
    },
    {
     "name": "stdout",
     "output_type": "stream",
     "text": [
      "{'w1': 0.8813234407235272, 'w2': 0.8520483593731073, 'threshold': 0.62}\n"
     ]
    },
    {
     "name": "stderr",
     "output_type": "stream",
     "text": [
      "[I 2023-06-22 15:49:59,871] Trial 897 finished with value: 0.7029901742935181 and parameters: {'w1': 0.9223686401455585, 'w2': 0.7711264418807094}. Best is trial 495 with value: 0.7050744295120239.\n"
     ]
    },
    {
     "name": "stdout",
     "output_type": "stream",
     "text": [
      "{'w1': 0.9223686401455585, 'w2': 0.7711264418807094, 'threshold': 0.62}\n"
     ]
    },
    {
     "name": "stderr",
     "output_type": "stream",
     "text": [
      "[I 2023-06-22 15:50:02,056] Trial 898 finished with value: 0.7039735913276672 and parameters: {'w1': 0.6714458656551846, 'w2': 0.729390279752189}. Best is trial 495 with value: 0.7050744295120239.\n"
     ]
    },
    {
     "name": "stdout",
     "output_type": "stream",
     "text": [
      "{'w1': 0.6714458656551846, 'w2': 0.729390279752189, 'threshold': 0.63}\n"
     ]
    },
    {
     "name": "stderr",
     "output_type": "stream",
     "text": [
      "[I 2023-06-22 15:50:04,257] Trial 899 finished with value: 0.7030466198921204 and parameters: {'w1': 0.7658598576254839, 'w2': 0.6429640806334569}. Best is trial 495 with value: 0.7050744295120239.\n"
     ]
    },
    {
     "name": "stdout",
     "output_type": "stream",
     "text": [
      "{'w1': 0.7658598576254839, 'w2': 0.6429640806334569, 'threshold': 0.62}\n"
     ]
    },
    {
     "name": "stderr",
     "output_type": "stream",
     "text": [
      "[I 2023-06-22 15:50:06,467] Trial 900 finished with value: 0.7037137746810913 and parameters: {'w1': 0.39571628164620654, 'w2': 0.5121911889621101}. Best is trial 495 with value: 0.7050744295120239.\n"
     ]
    },
    {
     "name": "stdout",
     "output_type": "stream",
     "text": [
      "{'w1': 0.39571628164620654, 'w2': 0.5121911889621101, 'threshold': 0.64}\n"
     ]
    },
    {
     "name": "stderr",
     "output_type": "stream",
     "text": [
      "[I 2023-06-22 15:50:08,662] Trial 901 finished with value: 0.7007644176483154 and parameters: {'w1': 0.6285481516489045, 'w2': 0.2759772902674319}. Best is trial 495 with value: 0.7050744295120239.\n"
     ]
    },
    {
     "name": "stdout",
     "output_type": "stream",
     "text": [
      "{'w1': 0.6285481516489045, 'w2': 0.2759772902674319, 'threshold': 0.58}\n"
     ]
    },
    {
     "name": "stderr",
     "output_type": "stream",
     "text": [
      "[I 2023-06-22 15:50:10,860] Trial 902 finished with value: 0.7032977938652039 and parameters: {'w1': 0.5659109923316823, 'w2': 0.8712066561427424}. Best is trial 495 with value: 0.7050744295120239.\n"
     ]
    },
    {
     "name": "stdout",
     "output_type": "stream",
     "text": [
      "{'w1': 0.5659109923316823, 'w2': 0.8712066561427424, 'threshold': 0.65}\n"
     ]
    },
    {
     "name": "stderr",
     "output_type": "stream",
     "text": [
      "[I 2023-06-22 15:50:13,052] Trial 903 finished with value: 0.7045765519142151 and parameters: {'w1': 0.730775346665588, 'w2': 0.9844509266941731}. Best is trial 495 with value: 0.7050744295120239.\n"
     ]
    },
    {
     "name": "stdout",
     "output_type": "stream",
     "text": [
      "{'w1': 0.730775346665588, 'w2': 0.9844509266941731, 'threshold': 0.64}\n"
     ]
    },
    {
     "name": "stderr",
     "output_type": "stream",
     "text": [
      "[I 2023-06-22 15:50:15,239] Trial 904 finished with value: 0.7029058933258057 and parameters: {'w1': 0.4083238960734215, 'w2': 0.7557836885674784}. Best is trial 495 with value: 0.7050744295120239.\n"
     ]
    },
    {
     "name": "stdout",
     "output_type": "stream",
     "text": [
      "{'w1': 0.4083238960734215, 'w2': 0.7557836885674784, 'threshold': 0.66}\n"
     ]
    },
    {
     "name": "stderr",
     "output_type": "stream",
     "text": [
      "[I 2023-06-22 15:50:17,426] Trial 905 finished with value: 0.7016689777374268 and parameters: {'w1': 0.041823551519232005, 'w2': 0.7966033683427806}. Best is trial 495 with value: 0.7050744295120239.\n"
     ]
    },
    {
     "name": "stdout",
     "output_type": "stream",
     "text": [
      "{'w1': 0.041823551519232005, 'w2': 0.7966033683427806, 'threshold': 0.72}\n"
     ]
    },
    {
     "name": "stderr",
     "output_type": "stream",
     "text": [
      "[I 2023-06-22 15:50:19,612] Trial 906 finished with value: 0.6972074508666992 and parameters: {'w1': 0.8089821912467886, 'w2': 0.08217168420326859}. Best is trial 495 with value: 0.7050744295120239.\n"
     ]
    },
    {
     "name": "stdout",
     "output_type": "stream",
     "text": [
      "{'w1': 0.8089821912467886, 'w2': 0.08217168420326859, 'threshold': 0.59}\n"
     ]
    },
    {
     "name": "stderr",
     "output_type": "stream",
     "text": [
      "[I 2023-06-22 15:50:21,799] Trial 907 finished with value: 0.7039918303489685 and parameters: {'w1': 0.8476007610919106, 'w2': 0.921429788044615}. Best is trial 495 with value: 0.7050744295120239.\n"
     ]
    },
    {
     "name": "stdout",
     "output_type": "stream",
     "text": [
      "{'w1': 0.8476007610919106, 'w2': 0.921429788044615, 'threshold': 0.63}\n"
     ]
    },
    {
     "name": "stderr",
     "output_type": "stream",
     "text": [
      "[I 2023-06-22 15:50:23,986] Trial 908 finished with value: 0.7020632028579712 and parameters: {'w1': 0.619340071495377, 'w2': 0.43699500967025673}. Best is trial 495 with value: 0.7050744295120239.\n"
     ]
    },
    {
     "name": "stdout",
     "output_type": "stream",
     "text": [
      "{'w1': 0.619340071495377, 'w2': 0.43699500967025673, 'threshold': 0.61}\n"
     ]
    },
    {
     "name": "stderr",
     "output_type": "stream",
     "text": [
      "[I 2023-06-22 15:50:26,172] Trial 909 finished with value: 0.7020174860954285 and parameters: {'w1': 0.13577704706075255, 'w2': 0.7108015230588545}. Best is trial 495 with value: 0.7050744295120239.\n"
     ]
    },
    {
     "name": "stdout",
     "output_type": "stream",
     "text": [
      "{'w1': 0.13577704706075255, 'w2': 0.7108015230588545, 'threshold': 0.69}\n"
     ]
    },
    {
     "name": "stderr",
     "output_type": "stream",
     "text": [
      "[I 2023-06-22 15:50:28,359] Trial 910 finished with value: 0.7011588215827942 and parameters: {'w1': 0.9014739039503732, 'w2': 0.4637359439563331}. Best is trial 495 with value: 0.7050744295120239.\n"
     ]
    },
    {
     "name": "stdout",
     "output_type": "stream",
     "text": [
      "{'w1': 0.9014739039503732, 'w2': 0.4637359439563331, 'threshold': 0.59}\n"
     ]
    },
    {
     "name": "stderr",
     "output_type": "stream",
     "text": [
      "[I 2023-06-22 15:50:30,545] Trial 911 finished with value: 0.7026522159576416 and parameters: {'w1': 0.24832918407957338, 'w2': 0.8231705389512626}. Best is trial 495 with value: 0.7050744295120239.\n"
     ]
    },
    {
     "name": "stdout",
     "output_type": "stream",
     "text": [
      "{'w1': 0.24832918407957338, 'w2': 0.8231705389512626, 'threshold': 0.68}\n"
     ]
    },
    {
     "name": "stderr",
     "output_type": "stream",
     "text": [
      "[I 2023-06-22 15:50:32,736] Trial 912 finished with value: 0.7037246823310852 and parameters: {'w1': 0.6434791231671587, 'w2': 0.6690856624517306}. Best is trial 495 with value: 0.7050744295120239.\n"
     ]
    },
    {
     "name": "stdout",
     "output_type": "stream",
     "text": [
      "{'w1': 0.6434791231671587, 'w2': 0.6690856624517306, 'threshold': 0.62}\n"
     ]
    },
    {
     "name": "stderr",
     "output_type": "stream",
     "text": [
      "[I 2023-06-22 15:50:34,932] Trial 913 finished with value: 0.7047345638275146 and parameters: {'w1': 0.7809332395351456, 'w2': 0.7396456755342801}. Best is trial 495 with value: 0.7050744295120239.\n"
     ]
    },
    {
     "name": "stdout",
     "output_type": "stream",
     "text": [
      "{'w1': 0.7809332395351456, 'w2': 0.7396456755342801, 'threshold': 0.62}\n"
     ]
    },
    {
     "name": "stderr",
     "output_type": "stream",
     "text": [
      "[I 2023-06-22 15:50:37,119] Trial 914 finished with value: 0.7046211361885071 and parameters: {'w1': 0.7791730276643768, 'w2': 0.7338593852546919}. Best is trial 495 with value: 0.7050744295120239.\n"
     ]
    },
    {
     "name": "stdout",
     "output_type": "stream",
     "text": [
      "{'w1': 0.7791730276643768, 'w2': 0.7338593852546919, 'threshold': 0.62}\n"
     ]
    },
    {
     "name": "stderr",
     "output_type": "stream",
     "text": [
      "[I 2023-06-22 15:50:39,306] Trial 915 finished with value: 0.7044655680656433 and parameters: {'w1': 0.7951609131865991, 'w2': 0.741323072494917}. Best is trial 495 with value: 0.7050744295120239.\n"
     ]
    },
    {
     "name": "stdout",
     "output_type": "stream",
     "text": [
      "{'w1': 0.7951609131865991, 'w2': 0.741323072494917, 'threshold': 0.62}\n"
     ]
    },
    {
     "name": "stderr",
     "output_type": "stream",
     "text": [
      "[I 2023-06-22 15:50:41,494] Trial 916 finished with value: 0.7037574052810669 and parameters: {'w1': 0.7653408906497032, 'w2': 0.6865958336834609}. Best is trial 495 with value: 0.7050744295120239.\n"
     ]
    },
    {
     "name": "stdout",
     "output_type": "stream",
     "text": [
      "{'w1': 0.7653408906497032, 'w2': 0.6865958336834609, 'threshold': 0.62}\n"
     ]
    },
    {
     "name": "stderr",
     "output_type": "stream",
     "text": [
      "[I 2023-06-22 15:50:43,698] Trial 917 finished with value: 0.7003055214881897 and parameters: {'w1': 0.7377928770977737, 'w2': 0.30366833383975383}. Best is trial 495 with value: 0.7050744295120239.\n"
     ]
    },
    {
     "name": "stdout",
     "output_type": "stream",
     "text": [
      "{'w1': 0.7377928770977737, 'w2': 0.30366833383975383, 'threshold': 0.58}\n"
     ]
    },
    {
     "name": "stderr",
     "output_type": "stream",
     "text": [
      "[I 2023-06-22 15:50:45,885] Trial 918 finished with value: 0.7040191888809204 and parameters: {'w1': 0.7454977606258242, 'w2': 0.7564521013883979}. Best is trial 495 with value: 0.7050744295120239.\n"
     ]
    },
    {
     "name": "stdout",
     "output_type": "stream",
     "text": [
      "{'w1': 0.7454977606258242, 'w2': 0.7564521013883979, 'threshold': 0.62}\n"
     ]
    },
    {
     "name": "stderr",
     "output_type": "stream",
     "text": [
      "[I 2023-06-22 15:50:48,075] Trial 919 finished with value: 0.7043037414550781 and parameters: {'w1': 0.7822159194026781, 'w2': 0.7229885078785744}. Best is trial 495 with value: 0.7050744295120239.\n"
     ]
    },
    {
     "name": "stdout",
     "output_type": "stream",
     "text": [
      "{'w1': 0.7822159194026781, 'w2': 0.7229885078785744, 'threshold': 0.62}\n"
     ]
    },
    {
     "name": "stderr",
     "output_type": "stream",
     "text": [
      "[I 2023-06-22 15:50:50,280] Trial 920 finished with value: 0.704383909702301 and parameters: {'w1': 0.8034112278992183, 'w2': 0.7739620697890686}. Best is trial 495 with value: 0.7050744295120239.\n"
     ]
    },
    {
     "name": "stdout",
     "output_type": "stream",
     "text": [
      "{'w1': 0.8034112278992183, 'w2': 0.7739620697890686, 'threshold': 0.62}\n"
     ]
    },
    {
     "name": "stderr",
     "output_type": "stream",
     "text": [
      "[I 2023-06-22 15:50:52,484] Trial 921 finished with value: 0.703700602054596 and parameters: {'w1': 0.7167705801928513, 'w2': 0.7456809421737955}. Best is trial 495 with value: 0.7050744295120239.\n"
     ]
    },
    {
     "name": "stdout",
     "output_type": "stream",
     "text": [
      "{'w1': 0.7167705801928513, 'w2': 0.7456809421737955, 'threshold': 0.62}\n"
     ]
    },
    {
     "name": "stderr",
     "output_type": "stream",
     "text": [
      "[I 2023-06-22 15:50:54,677] Trial 922 finished with value: 0.7007073760032654 and parameters: {'w1': 0.7590271072333117, 'w2': 0.33142231777443976}. Best is trial 495 with value: 0.7050744295120239.\n"
     ]
    },
    {
     "name": "stdout",
     "output_type": "stream",
     "text": [
      "{'w1': 0.7590271072333117, 'w2': 0.33142231777443976, 'threshold': 0.58}\n"
     ]
    },
    {
     "name": "stderr",
     "output_type": "stream",
     "text": [
      "[I 2023-06-22 15:50:56,889] Trial 923 finished with value: 0.7039344906806946 and parameters: {'w1': 0.6867509314246406, 'w2': 0.7091810720338168}. Best is trial 495 with value: 0.7050744295120239.\n"
     ]
    },
    {
     "name": "stdout",
     "output_type": "stream",
     "text": [
      "{'w1': 0.6867509314246406, 'w2': 0.7091810720338168, 'threshold': 0.62}\n"
     ]
    },
    {
     "name": "stderr",
     "output_type": "stream",
     "text": [
      "[I 2023-06-22 15:50:59,106] Trial 924 finished with value: 0.7010654807090759 and parameters: {'w1': 0.8162042045288537, 'w2': 0.389788908689311}. Best is trial 495 with value: 0.7050744295120239.\n"
     ]
    },
    {
     "name": "stdout",
     "output_type": "stream",
     "text": [
      "{'w1': 0.8162042045288537, 'w2': 0.389788908689311, 'threshold': 0.58}\n"
     ]
    },
    {
     "name": "stderr",
     "output_type": "stream",
     "text": [
      "[I 2023-06-22 15:51:01,315] Trial 925 finished with value: 0.7030174732208252 and parameters: {'w1': 0.9877582193032087, 'w2': 0.7622112033876896}. Best is trial 495 with value: 0.7050744295120239.\n"
     ]
    },
    {
     "name": "stdout",
     "output_type": "stream",
     "text": [
      "{'w1': 0.9877582193032087, 'w2': 0.7622112033876896, 'threshold': 0.61}\n"
     ]
    },
    {
     "name": "stderr",
     "output_type": "stream",
     "text": [
      "[I 2023-06-22 15:51:03,522] Trial 926 finished with value: 0.703397810459137 and parameters: {'w1': 0.5929356242630648, 'w2': 0.7282413142614726}. Best is trial 495 with value: 0.7050744295120239.\n"
     ]
    },
    {
     "name": "stdout",
     "output_type": "stream",
     "text": [
      "{'w1': 0.5929356242630648, 'w2': 0.7282413142614726, 'threshold': 0.63}\n"
     ]
    },
    {
     "name": "stderr",
     "output_type": "stream",
     "text": [
      "[I 2023-06-22 15:51:05,724] Trial 927 finished with value: 0.7036362290382385 and parameters: {'w1': 0.7764493221047982, 'w2': 0.6901120969419242}. Best is trial 495 with value: 0.7050744295120239.\n"
     ]
    },
    {
     "name": "stdout",
     "output_type": "stream",
     "text": [
      "{'w1': 0.7764493221047982, 'w2': 0.6901120969419242, 'threshold': 0.62}\n"
     ]
    },
    {
     "name": "stderr",
     "output_type": "stream",
     "text": [
      "[I 2023-06-22 15:51:07,911] Trial 928 finished with value: 0.7040542960166931 and parameters: {'w1': 0.7901410958961426, 'w2': 0.7883852110900491}. Best is trial 495 with value: 0.7050744295120239.\n"
     ]
    },
    {
     "name": "stdout",
     "output_type": "stream",
     "text": [
      "{'w1': 0.7901410958961426, 'w2': 0.7883852110900491, 'threshold': 0.62}\n"
     ]
    },
    {
     "name": "stderr",
     "output_type": "stream",
     "text": [
      "[I 2023-06-22 15:51:10,098] Trial 929 finished with value: 0.704043447971344 and parameters: {'w1': 0.7455084852308539, 'w2': 0.7476757543633958}. Best is trial 495 with value: 0.7050744295120239.\n"
     ]
    },
    {
     "name": "stdout",
     "output_type": "stream",
     "text": [
      "{'w1': 0.7455084852308539, 'w2': 0.7476757543633958, 'threshold': 0.62}\n"
     ]
    },
    {
     "name": "stderr",
     "output_type": "stream",
     "text": [
      "[I 2023-06-22 15:51:12,286] Trial 930 finished with value: 0.7035368084907532 and parameters: {'w1': 0.7065296477199592, 'w2': 0.5628658057197842}. Best is trial 495 with value: 0.7050744295120239.\n"
     ]
    },
    {
     "name": "stdout",
     "output_type": "stream",
     "text": [
      "{'w1': 0.7065296477199592, 'w2': 0.5628658057197842, 'threshold': 0.61}\n"
     ]
    },
    {
     "name": "stderr",
     "output_type": "stream",
     "text": [
      "[I 2023-06-22 15:51:14,473] Trial 931 finished with value: 0.7050283551216125 and parameters: {'w1': 0.6628333484619868, 'w2': 0.6329801709208716}. Best is trial 495 with value: 0.7050744295120239.\n"
     ]
    },
    {
     "name": "stdout",
     "output_type": "stream",
     "text": [
      "{'w1': 0.6628333484619868, 'w2': 0.6329801709208716, 'threshold': 0.62}\n"
     ]
    },
    {
     "name": "stderr",
     "output_type": "stream",
     "text": [
      "[I 2023-06-22 15:51:16,666] Trial 932 finished with value: 0.7029334306716919 and parameters: {'w1': 0.10907417765386784, 'w2': 0.19812502629759476}. Best is trial 495 with value: 0.7050744295120239.\n"
     ]
    },
    {
     "name": "stdout",
     "output_type": "stream",
     "text": [
      "{'w1': 0.10907417765386784, 'w2': 0.19812502629759476, 'threshold': 0.65}\n"
     ]
    },
    {
     "name": "stderr",
     "output_type": "stream",
     "text": [
      "[I 2023-06-22 15:51:18,854] Trial 933 finished with value: 0.7034735679626465 and parameters: {'w1': 0.5061671534176498, 'w2': 0.6133660305330552}. Best is trial 495 with value: 0.7050744295120239.\n"
     ]
    },
    {
     "name": "stdout",
     "output_type": "stream",
     "text": [
      "{'w1': 0.5061671534176498, 'w2': 0.6133660305330552, 'threshold': 0.63}\n"
     ]
    },
    {
     "name": "stderr",
     "output_type": "stream",
     "text": [
      "[I 2023-06-22 15:51:21,060] Trial 934 finished with value: 0.7038154006004333 and parameters: {'w1': 0.29583953036279903, 'w2': 0.5743491153440815}. Best is trial 495 with value: 0.7050744295120239.\n"
     ]
    },
    {
     "name": "stdout",
     "output_type": "stream",
     "text": [
      "{'w1': 0.29583953036279903, 'w2': 0.5743491153440815, 'threshold': 0.66}\n"
     ]
    },
    {
     "name": "stderr",
     "output_type": "stream",
     "text": [
      "[I 2023-06-22 15:51:23,271] Trial 935 finished with value: 0.6964758038520813 and parameters: {'w1': 0.8215244578769394, 'w2': 0.019168336217459392}. Best is trial 495 with value: 0.7050744295120239.\n"
     ]
    },
    {
     "name": "stdout",
     "output_type": "stream",
     "text": [
      "{'w1': 0.8215244578769394, 'w2': 0.019168336217459392, 'threshold': 0.61}\n"
     ]
    },
    {
     "name": "stderr",
     "output_type": "stream",
     "text": [
      "[I 2023-06-22 15:51:25,458] Trial 936 finished with value: 0.6972005367279053 and parameters: {'w1': 0.6794175862473061, 'w2': 0.06821872436757603}. Best is trial 495 with value: 0.7050744295120239.\n"
     ]
    },
    {
     "name": "stdout",
     "output_type": "stream",
     "text": [
      "{'w1': 0.6794175862473061, 'w2': 0.06821872436757603, 'threshold': 0.6}\n"
     ]
    },
    {
     "name": "stderr",
     "output_type": "stream",
     "text": [
      "[I 2023-06-22 15:51:27,644] Trial 937 finished with value: 0.7029727697372437 and parameters: {'w1': 0.7643614929152025, 'w2': 0.6308646844217668}. Best is trial 495 with value: 0.7050744295120239.\n"
     ]
    },
    {
     "name": "stdout",
     "output_type": "stream",
     "text": [
      "{'w1': 0.7643614929152025, 'w2': 0.6308646844217668, 'threshold': 0.61}\n"
     ]
    },
    {
     "name": "stderr",
     "output_type": "stream",
     "text": [
      "[I 2023-06-22 15:51:29,839] Trial 938 finished with value: 0.6996805667877197 and parameters: {'w1': 0.7250563041132636, 'w2': 0.2487714852131595}. Best is trial 495 with value: 0.7050744295120239.\n"
     ]
    },
    {
     "name": "stdout",
     "output_type": "stream",
     "text": [
      "{'w1': 0.7250563041132636, 'w2': 0.2487714852131595, 'threshold': 0.57}\n"
     ]
    },
    {
     "name": "stderr",
     "output_type": "stream",
     "text": [
      "[I 2023-06-22 15:51:32,026] Trial 939 finished with value: 0.704301655292511 and parameters: {'w1': 0.528867329949289, 'w2': 0.7060639110458141}. Best is trial 495 with value: 0.7050744295120239.\n"
     ]
    },
    {
     "name": "stdout",
     "output_type": "stream",
     "text": [
      "{'w1': 0.528867329949289, 'w2': 0.7060639110458141, 'threshold': 0.64}\n"
     ]
    },
    {
     "name": "stderr",
     "output_type": "stream",
     "text": [
      "[I 2023-06-22 15:51:34,213] Trial 940 finished with value: 0.7034949660301208 and parameters: {'w1': 0.8006682900048742, 'w2': 0.6365973522947396}. Best is trial 495 with value: 0.7050744295120239.\n"
     ]
    },
    {
     "name": "stdout",
     "output_type": "stream",
     "text": [
      "{'w1': 0.8006682900048742, 'w2': 0.6365973522947396, 'threshold': 0.61}\n"
     ]
    },
    {
     "name": "stderr",
     "output_type": "stream",
     "text": [
      "[I 2023-06-22 15:51:36,401] Trial 941 finished with value: 0.7032483816146851 and parameters: {'w1': 0.445375160838844, 'w2': 0.6560790406712391}. Best is trial 495 with value: 0.7050744295120239.\n"
     ]
    },
    {
     "name": "stdout",
     "output_type": "stream",
     "text": [
      "{'w1': 0.445375160838844, 'w2': 0.6560790406712391, 'threshold': 0.64}\n"
     ]
    },
    {
     "name": "stderr",
     "output_type": "stream",
     "text": [
      "[I 2023-06-22 15:51:38,588] Trial 942 finished with value: 0.7022190093994141 and parameters: {'w1': 0.20590922918023236, 'w2': 0.9877082775829449}. Best is trial 495 with value: 0.7050744295120239.\n"
     ]
    },
    {
     "name": "stdout",
     "output_type": "stream",
     "text": [
      "{'w1': 0.20590922918023236, 'w2': 0.9877082775829449, 'threshold': 0.69}\n"
     ]
    },
    {
     "name": "stderr",
     "output_type": "stream",
     "text": [
      "[I 2023-06-22 15:51:40,775] Trial 943 finished with value: 0.7036703824996948 and parameters: {'w1': 0.5757159540813499, 'w2': 0.6812766791007107}. Best is trial 495 with value: 0.7050744295120239.\n"
     ]
    },
    {
     "name": "stdout",
     "output_type": "stream",
     "text": [
      "{'w1': 0.5757159540813499, 'w2': 0.6812766791007107, 'threshold': 0.63}\n"
     ]
    },
    {
     "name": "stderr",
     "output_type": "stream",
     "text": [
      "[I 2023-06-22 15:51:42,962] Trial 944 finished with value: 0.704551637172699 and parameters: {'w1': 0.7016470724370891, 'w2': 0.6578207323751516}. Best is trial 495 with value: 0.7050744295120239.\n"
     ]
    },
    {
     "name": "stdout",
     "output_type": "stream",
     "text": [
      "{'w1': 0.7016470724370891, 'w2': 0.6578207323751516, 'threshold': 0.62}\n"
     ]
    },
    {
     "name": "stderr",
     "output_type": "stream",
     "text": [
      "[I 2023-06-22 15:51:45,150] Trial 945 finished with value: 0.702761173248291 and parameters: {'w1': 0.18580394758596397, 'w2': 0.6022911396208831}. Best is trial 495 with value: 0.7050744295120239.\n"
     ]
    },
    {
     "name": "stdout",
     "output_type": "stream",
     "text": [
      "{'w1': 0.18580394758596397, 'w2': 0.6022911396208831, 'threshold': 0.68}\n"
     ]
    },
    {
     "name": "stderr",
     "output_type": "stream",
     "text": [
      "[I 2023-06-22 15:51:47,337] Trial 946 finished with value: 0.7036636471748352 and parameters: {'w1': 0.6108545740119774, 'w2': 0.5440996998299921}. Best is trial 495 with value: 0.7050744295120239.\n"
     ]
    },
    {
     "name": "stdout",
     "output_type": "stream",
     "text": [
      "{'w1': 0.6108545740119774, 'w2': 0.5440996998299921, 'threshold': 0.62}\n"
     ]
    },
    {
     "name": "stderr",
     "output_type": "stream",
     "text": [
      "[I 2023-06-22 15:51:49,524] Trial 947 finished with value: 0.7024229764938354 and parameters: {'w1': 0.1324108195649889, 'w2': 0.7701532751103064}. Best is trial 495 with value: 0.7050744295120239.\n"
     ]
    },
    {
     "name": "stdout",
     "output_type": "stream",
     "text": [
      "{'w1': 0.1324108195649889, 'w2': 0.7701532751103064, 'threshold': 0.7}\n"
     ]
    },
    {
     "name": "stderr",
     "output_type": "stream",
     "text": [
      "[I 2023-06-22 15:51:51,711] Trial 948 finished with value: 0.7031112909317017 and parameters: {'w1': 0.5488822547676039, 'w2': 0.9638718890450032}. Best is trial 495 with value: 0.7050744295120239.\n"
     ]
    },
    {
     "name": "stdout",
     "output_type": "stream",
     "text": [
      "{'w1': 0.5488822547676039, 'w2': 0.9638718890450032, 'threshold': 0.65}\n"
     ]
    },
    {
     "name": "stderr",
     "output_type": "stream",
     "text": [
      "[I 2023-06-22 15:51:53,899] Trial 949 finished with value: 0.6994728446006775 and parameters: {'w1': 0.6504772678055718, 'w2': 0.2142107958286592}. Best is trial 495 with value: 0.7050744295120239.\n"
     ]
    },
    {
     "name": "stdout",
     "output_type": "stream",
     "text": [
      "{'w1': 0.6504772678055718, 'w2': 0.2142107958286592, 'threshold': 0.57}\n"
     ]
    },
    {
     "name": "stderr",
     "output_type": "stream",
     "text": [
      "[I 2023-06-22 15:51:56,087] Trial 950 finished with value: 0.6997228860855103 and parameters: {'w1': 0.7436093669952121, 'w2': 0.23183034671543368}. Best is trial 495 with value: 0.7050744295120239.\n"
     ]
    },
    {
     "name": "stdout",
     "output_type": "stream",
     "text": [
      "{'w1': 0.7436093669952121, 'w2': 0.23183034671543368, 'threshold': 0.56}\n"
     ]
    },
    {
     "name": "stderr",
     "output_type": "stream",
     "text": [
      "[I 2023-06-22 15:51:58,274] Trial 951 finished with value: 0.7027112245559692 and parameters: {'w1': 0.7876540758105235, 'w2': 0.595985519842708}. Best is trial 495 with value: 0.7050744295120239.\n"
     ]
    },
    {
     "name": "stdout",
     "output_type": "stream",
     "text": [
      "{'w1': 0.7876540758105235, 'w2': 0.595985519842708, 'threshold': 0.61}\n"
     ]
    },
    {
     "name": "stderr",
     "output_type": "stream",
     "text": [
      "[I 2023-06-22 15:52:00,461] Trial 952 finished with value: 0.7038971185684204 and parameters: {'w1': 0.6731666280527877, 'w2': 0.7791711524520204}. Best is trial 495 with value: 0.7050744295120239.\n"
     ]
    },
    {
     "name": "stdout",
     "output_type": "stream",
     "text": [
      "{'w1': 0.6731666280527877, 'w2': 0.7791711524520204, 'threshold': 0.63}\n"
     ]
    },
    {
     "name": "stderr",
     "output_type": "stream",
     "text": [
      "[I 2023-06-22 15:52:02,648] Trial 953 finished with value: 0.7017531394958496 and parameters: {'w1': 0.10059032377152288, 'w2': 0.7999589702907378}. Best is trial 495 with value: 0.7050744295120239.\n"
     ]
    },
    {
     "name": "stdout",
     "output_type": "stream",
     "text": [
      "{'w1': 0.10059032377152288, 'w2': 0.7999589702907378, 'threshold': 0.7}\n"
     ]
    },
    {
     "name": "stderr",
     "output_type": "stream",
     "text": [
      "[I 2023-06-22 15:52:04,836] Trial 954 finished with value: 0.7030976414680481 and parameters: {'w1': 0.33191137915027585, 'w2': 0.5839784346216573}. Best is trial 495 with value: 0.7050744295120239.\n"
     ]
    },
    {
     "name": "stdout",
     "output_type": "stream",
     "text": [
      "{'w1': 0.33191137915027585, 'w2': 0.5839784346216573, 'threshold': 0.65}\n"
     ]
    },
    {
     "name": "stderr",
     "output_type": "stream",
     "text": [
      "[I 2023-06-22 15:52:07,024] Trial 955 finished with value: 0.7022387981414795 and parameters: {'w1': 0.996118943340647, 'w2': 0.719625522585275}. Best is trial 495 with value: 0.7050744295120239.\n"
     ]
    },
    {
     "name": "stdout",
     "output_type": "stream",
     "text": [
      "{'w1': 0.996118943340647, 'w2': 0.719625522585275, 'threshold': 0.61}\n"
     ]
    },
    {
     "name": "stderr",
     "output_type": "stream",
     "text": [
      "[I 2023-06-22 15:52:09,211] Trial 956 finished with value: 0.7032808661460876 and parameters: {'w1': 0.8295940980772589, 'w2': 0.6730289605267857}. Best is trial 495 with value: 0.7050744295120239.\n"
     ]
    },
    {
     "name": "stdout",
     "output_type": "stream",
     "text": [
      "{'w1': 0.8295940980772589, 'w2': 0.6730289605267857, 'threshold': 0.61}\n"
     ]
    },
    {
     "name": "stderr",
     "output_type": "stream",
     "text": [
      "[I 2023-06-22 15:52:11,400] Trial 957 finished with value: 0.7041032910346985 and parameters: {'w1': 0.7666554020269811, 'w2': 0.7554490895757813}. Best is trial 495 with value: 0.7050744295120239.\n"
     ]
    },
    {
     "name": "stdout",
     "output_type": "stream",
     "text": [
      "{'w1': 0.7666554020269811, 'w2': 0.7554490895757813, 'threshold': 0.62}\n"
     ]
    },
    {
     "name": "stderr",
     "output_type": "stream",
     "text": [
      "[I 2023-06-22 15:52:13,591] Trial 958 finished with value: 0.6976832747459412 and parameters: {'w1': 0.9475783652750145, 'w2': 0.1448791540372848}. Best is trial 495 with value: 0.7050744295120239.\n"
     ]
    },
    {
     "name": "stdout",
     "output_type": "stream",
     "text": [
      "{'w1': 0.9475783652750145, 'w2': 0.1448791540372848, 'threshold': 0.59}\n"
     ]
    },
    {
     "name": "stderr",
     "output_type": "stream",
     "text": [
      "[I 2023-06-22 15:52:15,794] Trial 959 finished with value: 0.6965888738632202 and parameters: {'w1': 0.8124312915166647, 'w2': 0.029390236568450523}. Best is trial 495 with value: 0.7050744295120239.\n"
     ]
    },
    {
     "name": "stdout",
     "output_type": "stream",
     "text": [
      "{'w1': 0.8124312915166647, 'w2': 0.029390236568450523, 'threshold': 0.6}\n"
     ]
    },
    {
     "name": "stderr",
     "output_type": "stream",
     "text": [
      "[I 2023-06-22 15:52:17,982] Trial 960 finished with value: 0.7032959461212158 and parameters: {'w1': 0.4641823222089567, 'w2': 0.9406222293658503}. Best is trial 495 with value: 0.7050744295120239.\n"
     ]
    },
    {
     "name": "stdout",
     "output_type": "stream",
     "text": [
      "{'w1': 0.4641823222089567, 'w2': 0.9406222293658503, 'threshold': 0.66}\n"
     ]
    },
    {
     "name": "stderr",
     "output_type": "stream",
     "text": [
      "[I 2023-06-22 15:52:20,171] Trial 961 finished with value: 0.7037045955657959 and parameters: {'w1': 0.6997827412321863, 'w2': 0.625085530592142}. Best is trial 495 with value: 0.7050744295120239.\n"
     ]
    },
    {
     "name": "stdout",
     "output_type": "stream",
     "text": [
      "{'w1': 0.6997827412321863, 'w2': 0.625085530592142, 'threshold': 0.62}\n"
     ]
    },
    {
     "name": "stderr",
     "output_type": "stream",
     "text": [
      "[I 2023-06-22 15:52:22,362] Trial 962 finished with value: 0.7040508389472961 and parameters: {'w1': 0.6342226769453866, 'w2': 0.7280330194610223}. Best is trial 495 with value: 0.7050744295120239.\n"
     ]
    },
    {
     "name": "stdout",
     "output_type": "stream",
     "text": [
      "{'w1': 0.6342226769453866, 'w2': 0.7280330194610223, 'threshold': 0.63}\n"
     ]
    },
    {
     "name": "stderr",
     "output_type": "stream",
     "text": [
      "[I 2023-06-22 15:52:24,550] Trial 963 finished with value: 0.7042756080627441 and parameters: {'w1': 0.7249826120140415, 'w2': 0.7017377295756695}. Best is trial 495 with value: 0.7050744295120239.\n"
     ]
    },
    {
     "name": "stdout",
     "output_type": "stream",
     "text": [
      "{'w1': 0.7249826120140415, 'w2': 0.7017377295756695, 'threshold': 0.62}\n"
     ]
    },
    {
     "name": "stderr",
     "output_type": "stream",
     "text": [
      "[I 2023-06-22 15:52:26,737] Trial 964 finished with value: 0.7036049962043762 and parameters: {'w1': 0.7507971765165412, 'w2': 0.7849161928786658}. Best is trial 495 with value: 0.7050744295120239.\n"
     ]
    },
    {
     "name": "stdout",
     "output_type": "stream",
     "text": [
      "{'w1': 0.7507971765165412, 'w2': 0.7849161928786658, 'threshold': 0.62}\n"
     ]
    },
    {
     "name": "stderr",
     "output_type": "stream",
     "text": [
      "[I 2023-06-22 15:52:28,925] Trial 965 finished with value: 0.7034825086593628 and parameters: {'w1': 0.48277930024763743, 'w2': 0.8043716977012279}. Best is trial 495 with value: 0.7050744295120239.\n"
     ]
    },
    {
     "name": "stdout",
     "output_type": "stream",
     "text": [
      "{'w1': 0.48277930024763743, 'w2': 0.8043716977012279, 'threshold': 0.65}\n"
     ]
    },
    {
     "name": "stderr",
     "output_type": "stream",
     "text": [
      "[I 2023-06-22 15:52:31,118] Trial 966 finished with value: 0.6970630884170532 and parameters: {'w1': 0.6084848997044843, 'w2': 0.05163254766540637}. Best is trial 495 with value: 0.7050744295120239.\n"
     ]
    },
    {
     "name": "stdout",
     "output_type": "stream",
     "text": [
      "{'w1': 0.6084848997044843, 'w2': 0.05163254766540637, 'threshold': 0.6}\n"
     ]
    },
    {
     "name": "stderr",
     "output_type": "stream",
     "text": [
      "[I 2023-06-22 15:52:33,324] Trial 967 finished with value: 0.7039726972579956 and parameters: {'w1': 0.8460636492805695, 'w2': 0.7697148698860363}. Best is trial 495 with value: 0.7050744295120239.\n"
     ]
    },
    {
     "name": "stdout",
     "output_type": "stream",
     "text": [
      "{'w1': 0.8460636492805695, 'w2': 0.7697148698860363, 'threshold': 0.62}\n"
     ]
    },
    {
     "name": "stderr",
     "output_type": "stream",
     "text": [
      "[I 2023-06-22 15:52:35,519] Trial 968 finished with value: 0.7036963105201721 and parameters: {'w1': 0.7723131312977635, 'w2': 0.998964799503495}. Best is trial 495 with value: 0.7050744295120239.\n"
     ]
    },
    {
     "name": "stdout",
     "output_type": "stream",
     "text": [
      "{'w1': 0.7723131312977635, 'w2': 0.998964799503495, 'threshold': 0.64}\n"
     ]
    },
    {
     "name": "stderr",
     "output_type": "stream",
     "text": [
      "[I 2023-06-22 15:52:37,715] Trial 969 finished with value: 0.7033297419548035 and parameters: {'w1': 0.665787122508256, 'w2': 0.9650566555729884}. Best is trial 495 with value: 0.7050744295120239.\n"
     ]
    },
    {
     "name": "stdout",
     "output_type": "stream",
     "text": [
      "{'w1': 0.665787122508256, 'w2': 0.9650566555729884, 'threshold': 0.64}\n"
     ]
    },
    {
     "name": "stderr",
     "output_type": "stream",
     "text": [
      "[I 2023-06-22 15:52:39,907] Trial 970 finished with value: 0.704215943813324 and parameters: {'w1': 0.5619428093185963, 'w2': 0.7468926691217034}. Best is trial 495 with value: 0.7050744295120239.\n"
     ]
    },
    {
     "name": "stdout",
     "output_type": "stream",
     "text": [
      "{'w1': 0.5619428093185963, 'w2': 0.7468926691217034, 'threshold': 0.64}\n"
     ]
    },
    {
     "name": "stderr",
     "output_type": "stream",
     "text": [
      "[I 2023-06-22 15:52:42,095] Trial 971 finished with value: 0.7045463919639587 and parameters: {'w1': 0.7899387660352083, 'w2': 0.8986865544695309}. Best is trial 495 with value: 0.7050744295120239.\n"
     ]
    },
    {
     "name": "stdout",
     "output_type": "stream",
     "text": [
      "{'w1': 0.7899387660352083, 'w2': 0.8986865544695309, 'threshold': 0.63}\n"
     ]
    },
    {
     "name": "stderr",
     "output_type": "stream",
     "text": [
      "[I 2023-06-22 15:52:44,286] Trial 972 finished with value: 0.6995987296104431 and parameters: {'w1': 0.3756527857610912, 'w2': 0.11520311317849252}. Best is trial 495 with value: 0.7050744295120239.\n"
     ]
    },
    {
     "name": "stdout",
     "output_type": "stream",
     "text": [
      "{'w1': 0.3756527857610912, 'w2': 0.11520311317849252, 'threshold': 0.56}\n"
     ]
    },
    {
     "name": "stderr",
     "output_type": "stream",
     "text": [
      "[I 2023-06-22 15:52:46,473] Trial 973 finished with value: 0.7039215564727783 and parameters: {'w1': 0.717112206144083, 'w2': 0.6499069609912851}. Best is trial 495 with value: 0.7050744295120239.\n"
     ]
    },
    {
     "name": "stdout",
     "output_type": "stream",
     "text": [
      "{'w1': 0.717112206144083, 'w2': 0.6499069609912851, 'threshold': 0.62}\n"
     ]
    },
    {
     "name": "stderr",
     "output_type": "stream",
     "text": [
      "[I 2023-06-22 15:52:48,660] Trial 974 finished with value: 0.7027761936187744 and parameters: {'w1': 0.30527121983473693, 'w2': 0.7030180923420047}. Best is trial 495 with value: 0.7050744295120239.\n"
     ]
    },
    {
     "name": "stdout",
     "output_type": "stream",
     "text": [
      "{'w1': 0.30527121983473693, 'w2': 0.7030180923420047, 'threshold': 0.67}\n"
     ]
    },
    {
     "name": "stderr",
     "output_type": "stream",
     "text": [
      "[I 2023-06-22 15:52:50,849] Trial 975 finished with value: 0.703477144241333 and parameters: {'w1': 0.9619326663883343, 'w2': 0.8450121361933663}. Best is trial 495 with value: 0.7050744295120239.\n"
     ]
    },
    {
     "name": "stdout",
     "output_type": "stream",
     "text": [
      "{'w1': 0.9619326663883343, 'w2': 0.8450121361933663, 'threshold': 0.62}\n"
     ]
    },
    {
     "name": "stderr",
     "output_type": "stream",
     "text": [
      "[I 2023-06-22 15:52:53,039] Trial 976 finished with value: 0.703583836555481 and parameters: {'w1': 0.6821730635913824, 'w2': 0.8146067652137}. Best is trial 495 with value: 0.7050744295120239.\n"
     ]
    },
    {
     "name": "stdout",
     "output_type": "stream",
     "text": [
      "{'w1': 0.6821730635913824, 'w2': 0.8146067652137, 'threshold': 0.63}\n"
     ]
    },
    {
     "name": "stderr",
     "output_type": "stream",
     "text": [
      "[I 2023-06-22 15:52:55,226] Trial 977 finished with value: 0.7033146619796753 and parameters: {'w1': 0.2380759519899892, 'w2': 0.7315934850106172}. Best is trial 495 with value: 0.7050744295120239.\n"
     ]
    },
    {
     "name": "stdout",
     "output_type": "stream",
     "text": [
      "{'w1': 0.2380759519899892, 'w2': 0.7315934850106172, 'threshold': 0.68}\n"
     ]
    },
    {
     "name": "stderr",
     "output_type": "stream",
     "text": [
      "[I 2023-06-22 15:52:57,414] Trial 978 finished with value: 0.7044166922569275 and parameters: {'w1': 0.8191591837308637, 'w2': 0.7614574314378901}. Best is trial 495 with value: 0.7050744295120239.\n"
     ]
    },
    {
     "name": "stdout",
     "output_type": "stream",
     "text": [
      "{'w1': 0.8191591837308637, 'w2': 0.7614574314378901, 'threshold': 0.62}\n"
     ]
    },
    {
     "name": "stderr",
     "output_type": "stream",
     "text": [
      "[I 2023-06-22 15:52:59,601] Trial 979 finished with value: 0.7047269940376282 and parameters: {'w1': 0.6507961340078064, 'w2': 0.616155422308436}. Best is trial 495 with value: 0.7050744295120239.\n"
     ]
    },
    {
     "name": "stdout",
     "output_type": "stream",
     "text": [
      "{'w1': 0.6507961340078064, 'w2': 0.616155422308436, 'threshold': 0.62}\n"
     ]
    },
    {
     "name": "stderr",
     "output_type": "stream",
     "text": [
      "[I 2023-06-22 15:53:01,801] Trial 980 finished with value: 0.699245274066925 and parameters: {'w1': 0.6502542513269056, 'w2': 0.19009221098089335}. Best is trial 495 with value: 0.7050744295120239.\n"
     ]
    },
    {
     "name": "stdout",
     "output_type": "stream",
     "text": [
      "{'w1': 0.6502542513269056, 'w2': 0.19009221098089335, 'threshold': 0.56}\n"
     ]
    },
    {
     "name": "stderr",
     "output_type": "stream",
     "text": [
      "[I 2023-06-22 15:53:03,991] Trial 981 finished with value: 0.704146683216095 and parameters: {'w1': 0.6308820618509879, 'w2': 0.6169515053504337}. Best is trial 495 with value: 0.7050744295120239.\n"
     ]
    },
    {
     "name": "stdout",
     "output_type": "stream",
     "text": [
      "{'w1': 0.6308820618509879, 'w2': 0.6169515053504337, 'threshold': 0.62}\n"
     ]
    },
    {
     "name": "stderr",
     "output_type": "stream",
     "text": [
      "[I 2023-06-22 15:53:06,178] Trial 982 finished with value: 0.7043120265007019 and parameters: {'w1': 0.6597481680522954, 'w2': 0.6105227729683187}. Best is trial 495 with value: 0.7050744295120239.\n"
     ]
    },
    {
     "name": "stdout",
     "output_type": "stream",
     "text": [
      "{'w1': 0.6597481680522954, 'w2': 0.6105227729683187, 'threshold': 0.62}\n"
     ]
    },
    {
     "name": "stderr",
     "output_type": "stream",
     "text": [
      "[I 2023-06-22 15:53:08,366] Trial 983 finished with value: 0.7035603523254395 and parameters: {'w1': 0.6412000699549477, 'w2': 0.5666081050593408}. Best is trial 495 with value: 0.7050744295120239.\n"
     ]
    },
    {
     "name": "stdout",
     "output_type": "stream",
     "text": [
      "{'w1': 0.6412000699549477, 'w2': 0.5666081050593408, 'threshold': 0.62}\n"
     ]
    },
    {
     "name": "stderr",
     "output_type": "stream",
     "text": [
      "[I 2023-06-22 15:53:10,553] Trial 984 finished with value: 0.7040407657623291 and parameters: {'w1': 0.6136139755900739, 'w2': 0.6175447399733212}. Best is trial 495 with value: 0.7050744295120239.\n"
     ]
    },
    {
     "name": "stdout",
     "output_type": "stream",
     "text": [
      "{'w1': 0.6136139755900739, 'w2': 0.6175447399733212, 'threshold': 0.62}\n"
     ]
    },
    {
     "name": "stderr",
     "output_type": "stream",
     "text": [
      "[I 2023-06-22 15:53:12,740] Trial 985 finished with value: 0.7044914960861206 and parameters: {'w1': 0.6915653931377472, 'w2': 0.6455765454309615}. Best is trial 495 with value: 0.7050744295120239.\n"
     ]
    },
    {
     "name": "stdout",
     "output_type": "stream",
     "text": [
      "{'w1': 0.6915653931377472, 'w2': 0.6455765454309615, 'threshold': 0.62}\n"
     ]
    },
    {
     "name": "stderr",
     "output_type": "stream",
     "text": [
      "[I 2023-06-22 15:53:14,929] Trial 986 finished with value: 0.7044929265975952 and parameters: {'w1': 0.5908249199422353, 'w2': 0.6617232582203866}. Best is trial 495 with value: 0.7050744295120239.\n"
     ]
    },
    {
     "name": "stdout",
     "output_type": "stream",
     "text": [
      "{'w1': 0.5908249199422353, 'w2': 0.6617232582203866, 'threshold': 0.63}\n"
     ]
    },
    {
     "name": "stderr",
     "output_type": "stream",
     "text": [
      "[I 2023-06-22 15:53:17,117] Trial 987 finished with value: 0.7032973170280457 and parameters: {'w1': 0.6640327922114645, 'w2': 0.5720386176931347}. Best is trial 495 with value: 0.7050744295120239.\n"
     ]
    },
    {
     "name": "stdout",
     "output_type": "stream",
     "text": [
      "{'w1': 0.6640327922114645, 'w2': 0.5720386176931347, 'threshold': 0.62}\n"
     ]
    },
    {
     "name": "stderr",
     "output_type": "stream",
     "text": [
      "[I 2023-06-22 15:53:19,304] Trial 988 finished with value: 0.7026494741439819 and parameters: {'w1': 0.21244166262339337, 'w2': 0.5863883623582438}. Best is trial 495 with value: 0.7050744295120239.\n"
     ]
    },
    {
     "name": "stdout",
     "output_type": "stream",
     "text": [
      "{'w1': 0.21244166262339337, 'w2': 0.5863883623582438, 'threshold': 0.67}\n"
     ]
    },
    {
     "name": "stderr",
     "output_type": "stream",
     "text": [
      "[I 2023-06-22 15:53:21,492] Trial 989 finished with value: 0.7037713527679443 and parameters: {'w1': 0.6332380865596166, 'w2': 0.6786764920254186}. Best is trial 495 with value: 0.7050744295120239.\n"
     ]
    },
    {
     "name": "stdout",
     "output_type": "stream",
     "text": [
      "{'w1': 0.6332380865596166, 'w2': 0.6786764920254186, 'threshold': 0.63}\n"
     ]
    },
    {
     "name": "stderr",
     "output_type": "stream",
     "text": [
      "[I 2023-06-22 15:53:23,682] Trial 990 finished with value: 0.7029096484184265 and parameters: {'w1': 0.6906121650596719, 'w2': 0.5294601131746014}. Best is trial 495 with value: 0.7050744295120239.\n"
     ]
    },
    {
     "name": "stdout",
     "output_type": "stream",
     "text": [
      "{'w1': 0.6906121650596719, 'w2': 0.5294601131746014, 'threshold': 0.61}\n"
     ]
    },
    {
     "name": "stderr",
     "output_type": "stream",
     "text": [
      "[I 2023-06-22 15:53:25,869] Trial 991 finished with value: 0.6973700523376465 and parameters: {'w1': 0.6188936020570642, 'w2': 0.07381317540831012}. Best is trial 495 with value: 0.7050744295120239.\n"
     ]
    },
    {
     "name": "stdout",
     "output_type": "stream",
     "text": [
      "{'w1': 0.6188936020570642, 'w2': 0.07381317540831012, 'threshold': 0.6}\n"
     ]
    },
    {
     "name": "stderr",
     "output_type": "stream",
     "text": [
      "[I 2023-06-22 15:53:28,057] Trial 992 finished with value: 0.7041652202606201 and parameters: {'w1': 0.6464649305526272, 'w2': 0.5937091759473793}. Best is trial 495 with value: 0.7050744295120239.\n"
     ]
    },
    {
     "name": "stdout",
     "output_type": "stream",
     "text": [
      "{'w1': 0.6464649305526272, 'w2': 0.5937091759473793, 'threshold': 0.62}\n"
     ]
    },
    {
     "name": "stderr",
     "output_type": "stream",
     "text": [
      "[I 2023-06-22 15:53:30,247] Trial 993 finished with value: 0.7026580572128296 and parameters: {'w1': 0.73750663669053, 'w2': 0.5560811288489578}. Best is trial 495 with value: 0.7050744295120239.\n"
     ]
    },
    {
     "name": "stdout",
     "output_type": "stream",
     "text": [
      "{'w1': 0.73750663669053, 'w2': 0.5560811288489578, 'threshold': 0.61}\n"
     ]
    },
    {
     "name": "stderr",
     "output_type": "stream",
     "text": [
      "[I 2023-06-22 15:53:32,439] Trial 994 finished with value: 0.7032707929611206 and parameters: {'w1': 0.26067608754089355, 'w2': 0.6430487253691508}. Best is trial 495 with value: 0.7050744295120239.\n"
     ]
    },
    {
     "name": "stdout",
     "output_type": "stream",
     "text": [
      "{'w1': 0.26067608754089355, 'w2': 0.6430487253691508, 'threshold': 0.67}\n"
     ]
    },
    {
     "name": "stderr",
     "output_type": "stream",
     "text": [
      "[I 2023-06-22 15:53:34,629] Trial 995 finished with value: 0.7016394734382629 and parameters: {'w1': 0.29507359326696403, 'w2': 0.18032583769863897}. Best is trial 495 with value: 0.7050744295120239.\n"
     ]
    },
    {
     "name": "stdout",
     "output_type": "stream",
     "text": [
      "{'w1': 0.29507359326696403, 'w2': 0.18032583769863897, 'threshold': 0.6}\n"
     ]
    },
    {
     "name": "stderr",
     "output_type": "stream",
     "text": [
      "[I 2023-06-22 15:53:36,816] Trial 996 finished with value: 0.6988178491592407 and parameters: {'w1': 0.4963243125060167, 'w2': 0.13649568489627628}. Best is trial 495 with value: 0.7050744295120239.\n"
     ]
    },
    {
     "name": "stdout",
     "output_type": "stream",
     "text": [
      "{'w1': 0.4963243125060167, 'w2': 0.13649568489627628, 'threshold': 0.56}\n"
     ]
    },
    {
     "name": "stderr",
     "output_type": "stream",
     "text": [
      "[I 2023-06-22 15:53:39,004] Trial 997 finished with value: 0.7030624151229858 and parameters: {'w1': 0.16682121973838782, 'w2': 0.49811906306638765}. Best is trial 495 with value: 0.7050744295120239.\n"
     ]
    },
    {
     "name": "stdout",
     "output_type": "stream",
     "text": [
      "{'w1': 0.16682121973838782, 'w2': 0.49811906306638765, 'threshold': 0.68}\n"
     ]
    },
    {
     "name": "stderr",
     "output_type": "stream",
     "text": [
      "[I 2023-06-22 15:53:41,192] Trial 998 finished with value: 0.7034772634506226 and parameters: {'w1': 0.4125995483544994, 'w2': 0.6876649147375111}. Best is trial 495 with value: 0.7050744295120239.\n"
     ]
    },
    {
     "name": "stdout",
     "output_type": "stream",
     "text": [
      "{'w1': 0.4125995483544994, 'w2': 0.6876649147375111, 'threshold': 0.65}\n"
     ]
    },
    {
     "name": "stderr",
     "output_type": "stream",
     "text": [
      "[I 2023-06-22 15:53:43,380] Trial 999 finished with value: 0.7025145292282104 and parameters: {'w1': 0.2513381974474881, 'w2': 0.7169543757425113}. Best is trial 495 with value: 0.7050744295120239.\n"
     ]
    },
    {
     "name": "stdout",
     "output_type": "stream",
     "text": [
      "{'w1': 0.2513381974474881, 'w2': 0.7169543757425113, 'threshold': 0.67}\n"
     ]
    },
    {
     "name": "stderr",
     "output_type": "stream",
     "text": [
      "[I 2023-06-22 15:53:45,567] Trial 1000 finished with value: 0.7039204835891724 and parameters: {'w1': 0.6723390585238783, 'w2': 0.6096289063077639}. Best is trial 495 with value: 0.7050744295120239.\n"
     ]
    },
    {
     "name": "stdout",
     "output_type": "stream",
     "text": [
      "{'w1': 0.6723390585238783, 'w2': 0.6096289063077639, 'threshold': 0.62}\n"
     ]
    },
    {
     "name": "stderr",
     "output_type": "stream",
     "text": [
      "[I 2023-06-22 15:53:47,755] Trial 1001 finished with value: 0.7033280730247498 and parameters: {'w1': 0.5896151434749356, 'w2': 0.7307922881638291}. Best is trial 495 with value: 0.7050744295120239.\n"
     ]
    },
    {
     "name": "stdout",
     "output_type": "stream",
     "text": [
      "{'w1': 0.5896151434749356, 'w2': 0.7307922881638291, 'threshold': 0.63}\n"
     ]
    },
    {
     "name": "stderr",
     "output_type": "stream",
     "text": [
      "[I 2023-06-22 15:53:49,943] Trial 1002 finished with value: 0.7034479379653931 and parameters: {'w1': 0.7548191656632979, 'w2': 0.9220758076036665}. Best is trial 495 with value: 0.7050744295120239.\n"
     ]
    },
    {
     "name": "stdout",
     "output_type": "stream",
     "text": [
      "{'w1': 0.7548191656632979, 'w2': 0.9220758076036665, 'threshold': 0.63}\n"
     ]
    },
    {
     "name": "stderr",
     "output_type": "stream",
     "text": [
      "[I 2023-06-22 15:53:52,131] Trial 1003 finished with value: 0.6997559666633606 and parameters: {'w1': 0.7131999486066546, 'w2': 0.24818560304218873}. Best is trial 495 with value: 0.7050744295120239.\n"
     ]
    },
    {
     "name": "stdout",
     "output_type": "stream",
     "text": [
      "{'w1': 0.7131999486066546, 'w2': 0.24818560304218873, 'threshold': 0.57}\n"
     ]
    },
    {
     "name": "stderr",
     "output_type": "stream",
     "text": [
      "[I 2023-06-22 15:53:54,318] Trial 1004 finished with value: 0.702527642250061 and parameters: {'w1': 0.7808200489219334, 'w2': 0.5150033405999644}. Best is trial 495 with value: 0.7050744295120239.\n"
     ]
    },
    {
     "name": "stdout",
     "output_type": "stream",
     "text": [
      "{'w1': 0.7808200489219334, 'w2': 0.5150033405999644, 'threshold': 0.6}\n"
     ]
    },
    {
     "name": "stderr",
     "output_type": "stream",
     "text": [
      "[I 2023-06-22 15:53:56,506] Trial 1005 finished with value: 0.7033535242080688 and parameters: {'w1': 0.5394253033593803, 'w2': 0.6666368069817535}. Best is trial 495 with value: 0.7050744295120239.\n"
     ]
    },
    {
     "name": "stdout",
     "output_type": "stream",
     "text": [
      "{'w1': 0.5394253033593803, 'w2': 0.6666368069817535, 'threshold': 0.63}\n"
     ]
    },
    {
     "name": "stderr",
     "output_type": "stream",
     "text": [
      "[I 2023-06-22 15:53:58,696] Trial 1006 finished with value: 0.7032191753387451 and parameters: {'w1': 0.8030680160530854, 'w2': 0.6267110842059032}. Best is trial 495 with value: 0.7050744295120239.\n"
     ]
    },
    {
     "name": "stdout",
     "output_type": "stream",
     "text": [
      "{'w1': 0.8030680160530854, 'w2': 0.6267110842059032, 'threshold': 0.61}\n"
     ]
    },
    {
     "name": "stderr",
     "output_type": "stream",
     "text": [
      "[I 2023-06-22 15:54:00,886] Trial 1007 finished with value: 0.7034695744514465 and parameters: {'w1': 0.6723035523663701, 'w2': 0.5899921494278816}. Best is trial 495 with value: 0.7050744295120239.\n"
     ]
    },
    {
     "name": "stdout",
     "output_type": "stream",
     "text": [
      "{'w1': 0.6723035523663701, 'w2': 0.5899921494278816, 'threshold': 0.62}\n"
     ]
    },
    {
     "name": "stderr",
     "output_type": "stream",
     "text": [
      "[I 2023-06-22 15:54:03,081] Trial 1008 finished with value: 0.7025182843208313 and parameters: {'w1': 0.2189250458641001, 'w2': 0.9424961545079675}. Best is trial 495 with value: 0.7050744295120239.\n"
     ]
    },
    {
     "name": "stdout",
     "output_type": "stream",
     "text": [
      "{'w1': 0.2189250458641001, 'w2': 0.9424961545079675, 'threshold': 0.69}\n"
     ]
    },
    {
     "name": "stderr",
     "output_type": "stream",
     "text": [
      "[I 2023-06-22 15:54:05,284] Trial 1009 finished with value: 0.704151451587677 and parameters: {'w1': 0.7362473475462823, 'w2': 0.9742657841851315}. Best is trial 495 with value: 0.7050744295120239.\n"
     ]
    },
    {
     "name": "stdout",
     "output_type": "stream",
     "text": [
      "{'w1': 0.7362473475462823, 'w2': 0.9742657841851315, 'threshold': 0.64}\n"
     ]
    },
    {
     "name": "stderr",
     "output_type": "stream",
     "text": [
      "[I 2023-06-22 15:54:07,475] Trial 1010 finished with value: 0.7033702731132507 and parameters: {'w1': 0.37821506143811123, 'w2': 0.5461933134515934}. Best is trial 495 with value: 0.7050744295120239.\n"
     ]
    },
    {
     "name": "stdout",
     "output_type": "stream",
     "text": [
      "{'w1': 0.37821506143811123, 'w2': 0.5461933134515934, 'threshold': 0.64}\n"
     ]
    },
    {
     "name": "stderr",
     "output_type": "stream",
     "text": [
      "[I 2023-06-22 15:54:09,664] Trial 1011 finished with value: 0.7041491866111755 and parameters: {'w1': 0.7649055420521815, 'w2': 0.7017674685443697}. Best is trial 495 with value: 0.7050744295120239.\n"
     ]
    },
    {
     "name": "stdout",
     "output_type": "stream",
     "text": [
      "{'w1': 0.7649055420521815, 'w2': 0.7017674685443697, 'threshold': 0.62}\n"
     ]
    },
    {
     "name": "stderr",
     "output_type": "stream",
     "text": [
      "[I 2023-06-22 15:54:11,855] Trial 1012 finished with value: 0.7033988833427429 and parameters: {'w1': 0.6138445540356304, 'w2': 0.7536778824152615}. Best is trial 495 with value: 0.7050744295120239.\n"
     ]
    },
    {
     "name": "stdout",
     "output_type": "stream",
     "text": [
      "{'w1': 0.6138445540356304, 'w2': 0.7536778824152615, 'threshold': 0.63}\n"
     ]
    },
    {
     "name": "stderr",
     "output_type": "stream",
     "text": [
      "[I 2023-06-22 15:54:14,044] Trial 1013 finished with value: 0.704724133014679 and parameters: {'w1': 0.653240004036931, 'w2': 0.8826489962877946}. Best is trial 495 with value: 0.7050744295120239.\n"
     ]
    },
    {
     "name": "stdout",
     "output_type": "stream",
     "text": [
      "{'w1': 0.653240004036931, 'w2': 0.8826489962877946, 'threshold': 0.64}\n"
     ]
    },
    {
     "name": "stderr",
     "output_type": "stream",
     "text": [
      "[I 2023-06-22 15:54:16,232] Trial 1014 finished with value: 0.7041199207305908 and parameters: {'w1': 0.6549953573861252, 'w2': 0.8897304880210979}. Best is trial 495 with value: 0.7050744295120239.\n"
     ]
    },
    {
     "name": "stdout",
     "output_type": "stream",
     "text": [
      "{'w1': 0.6549953573861252, 'w2': 0.8897304880210979, 'threshold': 0.64}\n"
     ]
    },
    {
     "name": "stderr",
     "output_type": "stream",
     "text": [
      "[I 2023-06-22 15:54:18,421] Trial 1015 finished with value: 0.7037216424942017 and parameters: {'w1': 0.6735289009088371, 'w2': 0.8724150398573877}. Best is trial 495 with value: 0.7050744295120239.\n"
     ]
    },
    {
     "name": "stdout",
     "output_type": "stream",
     "text": [
      "{'w1': 0.6735289009088371, 'w2': 0.8724150398573877, 'threshold': 0.64}\n"
     ]
    },
    {
     "name": "stderr",
     "output_type": "stream",
     "text": [
      "[I 2023-06-22 15:54:20,610] Trial 1016 finished with value: 0.7029541730880737 and parameters: {'w1': 0.28343909836379, 'w2': 0.8899711117994918}. Best is trial 495 with value: 0.7050744295120239.\n"
     ]
    },
    {
     "name": "stdout",
     "output_type": "stream",
     "text": [
      "{'w1': 0.28343909836379, 'w2': 0.8899711117994918, 'threshold': 0.68}\n"
     ]
    },
    {
     "name": "stderr",
     "output_type": "stream",
     "text": [
      "[I 2023-06-22 15:54:22,799] Trial 1017 finished with value: 0.7033566832542419 and parameters: {'w1': 0.6861188281038468, 'w2': 0.862752883344603}. Best is trial 495 with value: 0.7050744295120239.\n"
     ]
    },
    {
     "name": "stdout",
     "output_type": "stream",
     "text": [
      "{'w1': 0.6861188281038468, 'w2': 0.862752883344603, 'threshold': 0.64}\n"
     ]
    },
    {
     "name": "stderr",
     "output_type": "stream",
     "text": [
      "[I 2023-06-22 15:54:24,988] Trial 1018 finished with value: 0.7036625742912292 and parameters: {'w1': 0.6542528187373304, 'w2': 0.90957630272008}. Best is trial 495 with value: 0.7050744295120239.\n"
     ]
    },
    {
     "name": "stdout",
     "output_type": "stream",
     "text": [
      "{'w1': 0.6542528187373304, 'w2': 0.90957630272008, 'threshold': 0.64}\n"
     ]
    },
    {
     "name": "stderr",
     "output_type": "stream",
     "text": [
      "[I 2023-06-22 15:54:27,177] Trial 1019 finished with value: 0.7035509347915649 and parameters: {'w1': 0.6975812140856625, 'w2': 0.8354415033393414}. Best is trial 495 with value: 0.7050744295120239.\n"
     ]
    },
    {
     "name": "stdout",
     "output_type": "stream",
     "text": [
      "{'w1': 0.6975812140856625, 'w2': 0.8354415033393414, 'threshold': 0.63}\n"
     ]
    },
    {
     "name": "stderr",
     "output_type": "stream",
     "text": [
      "[I 2023-06-22 15:54:29,365] Trial 1020 finished with value: 0.7025649547576904 and parameters: {'w1': 0.28261491624464946, 'w2': 0.9575797134784291}. Best is trial 495 with value: 0.7050744295120239.\n"
     ]
    },
    {
     "name": "stdout",
     "output_type": "stream",
     "text": [
      "{'w1': 0.28261491624464946, 'w2': 0.9575797134784291, 'threshold': 0.68}\n"
     ]
    },
    {
     "name": "stderr",
     "output_type": "stream",
     "text": [
      "[I 2023-06-22 15:54:31,557] Trial 1021 finished with value: 0.7046747207641602 and parameters: {'w1': 0.6342458490557803, 'w2': 0.8562506388974049}. Best is trial 495 with value: 0.7050744295120239.\n"
     ]
    },
    {
     "name": "stdout",
     "output_type": "stream",
     "text": [
      "{'w1': 0.6342458490557803, 'w2': 0.8562506388974049, 'threshold': 0.64}\n"
     ]
    },
    {
     "name": "stderr",
     "output_type": "stream",
     "text": [
      "[I 2023-06-22 15:54:33,754] Trial 1022 finished with value: 0.7029339671134949 and parameters: {'w1': 0.04590782660228976, 'w2': 0.1181585727624852}. Best is trial 495 with value: 0.7050744295120239.\n"
     ]
    },
    {
     "name": "stdout",
     "output_type": "stream",
     "text": [
      "{'w1': 0.04590782660228976, 'w2': 0.1181585727624852, 'threshold': 0.67}\n"
     ]
    },
    {
     "name": "stderr",
     "output_type": "stream",
     "text": [
      "[I 2023-06-22 15:54:35,974] Trial 1023 finished with value: 0.7015165686607361 and parameters: {'w1': 0.048440847003493936, 'w2': 0.9992318534952974}. Best is trial 495 with value: 0.7050744295120239.\n"
     ]
    },
    {
     "name": "stdout",
     "output_type": "stream",
     "text": [
      "{'w1': 0.048440847003493936, 'w2': 0.9992318534952974, 'threshold': 0.72}\n"
     ]
    },
    {
     "name": "stderr",
     "output_type": "stream",
     "text": [
      "[I 2023-06-22 15:54:38,166] Trial 1024 finished with value: 0.7036186456680298 and parameters: {'w1': 0.7083757521314145, 'w2': 0.9120578432094606}. Best is trial 495 with value: 0.7050744295120239.\n"
     ]
    },
    {
     "name": "stdout",
     "output_type": "stream",
     "text": [
      "{'w1': 0.7083757521314145, 'w2': 0.9120578432094606, 'threshold': 0.64}\n"
     ]
    },
    {
     "name": "stderr",
     "output_type": "stream",
     "text": [
      "[I 2023-06-22 15:54:40,365] Trial 1025 finished with value: 0.6990872025489807 and parameters: {'w1': 0.6555894882211264, 'w2': 0.1879868015760664}. Best is trial 495 with value: 0.7050744295120239.\n"
     ]
    },
    {
     "name": "stdout",
     "output_type": "stream",
     "text": [
      "{'w1': 0.6555894882211264, 'w2': 0.1879868015760664, 'threshold': 0.56}\n"
     ]
    },
    {
     "name": "stderr",
     "output_type": "stream",
     "text": [
      "[I 2023-06-22 15:54:42,568] Trial 1026 finished with value: 0.7040058970451355 and parameters: {'w1': 0.3620974393416211, 'w2': 0.8750739470786972}. Best is trial 495 with value: 0.7050744295120239.\n"
     ]
    },
    {
     "name": "stdout",
     "output_type": "stream",
     "text": [
      "{'w1': 0.3620974393416211, 'w2': 0.8750739470786972, 'threshold': 0.67}\n"
     ]
    },
    {
     "name": "stderr",
     "output_type": "stream",
     "text": [
      "[I 2023-06-22 15:54:44,766] Trial 1027 finished with value: 0.6991018652915955 and parameters: {'w1': 0.630659203050722, 'w2': 0.18106429473086016}. Best is trial 495 with value: 0.7050744295120239.\n"
     ]
    },
    {
     "name": "stdout",
     "output_type": "stream",
     "text": [
      "{'w1': 0.630659203050722, 'w2': 0.18106429473086016, 'threshold': 0.56}\n"
     ]
    },
    {
     "name": "stderr",
     "output_type": "stream",
     "text": [
      "[I 2023-06-22 15:54:46,962] Trial 1028 finished with value: 0.6976430416107178 and parameters: {'w1': 0.6891227086923037, 'w2': 0.1019706314473412}. Best is trial 495 with value: 0.7050744295120239.\n"
     ]
    },
    {
     "name": "stdout",
     "output_type": "stream",
     "text": [
      "{'w1': 0.6891227086923037, 'w2': 0.1019706314473412, 'threshold': 0.59}\n"
     ]
    },
    {
     "name": "stderr",
     "output_type": "stream",
     "text": [
      "[I 2023-06-22 15:54:49,154] Trial 1029 finished with value: 0.7035437822341919 and parameters: {'w1': 0.7242031800231847, 'w2': 0.926681056607008}. Best is trial 495 with value: 0.7050744295120239.\n"
     ]
    },
    {
     "name": "stdout",
     "output_type": "stream",
     "text": [
      "{'w1': 0.7242031800231847, 'w2': 0.926681056607008, 'threshold': 0.64}\n"
     ]
    },
    {
     "name": "stderr",
     "output_type": "stream",
     "text": [
      "[I 2023-06-22 15:54:51,356] Trial 1030 finished with value: 0.7033016681671143 and parameters: {'w1': 0.462554645766709, 'w2': 0.7876104709848434}. Best is trial 495 with value: 0.7050744295120239.\n"
     ]
    },
    {
     "name": "stdout",
     "output_type": "stream",
     "text": [
      "{'w1': 0.462554645766709, 'w2': 0.7876104709848434, 'threshold': 0.65}\n"
     ]
    },
    {
     "name": "stderr",
     "output_type": "stream",
     "text": [
      "[I 2023-06-22 15:54:53,557] Trial 1031 finished with value: 0.7033458352088928 and parameters: {'w1': 0.6733716653283561, 'w2': 0.8448654205038875}. Best is trial 495 with value: 0.7050744295120239.\n"
     ]
    },
    {
     "name": "stdout",
     "output_type": "stream",
     "text": [
      "{'w1': 0.6733716653283561, 'w2': 0.8448654205038875, 'threshold': 0.64}\n"
     ]
    },
    {
     "name": "stderr",
     "output_type": "stream",
     "text": [
      "[I 2023-06-22 15:54:55,756] Trial 1032 finished with value: 0.7044394016265869 and parameters: {'w1': 0.4324255776512768, 'w2': 0.5807373460997654}. Best is trial 495 with value: 0.7050744295120239.\n"
     ]
    },
    {
     "name": "stdout",
     "output_type": "stream",
     "text": [
      "{'w1': 0.4324255776512768, 'w2': 0.5807373460997654, 'threshold': 0.64}\n"
     ]
    },
    {
     "name": "stderr",
     "output_type": "stream",
     "text": [
      "[I 2023-06-22 15:54:57,952] Trial 1033 finished with value: 0.70358806848526 and parameters: {'w1': 0.6516598061351134, 'w2': 0.7780080348727514}. Best is trial 495 with value: 0.7050744295120239.\n"
     ]
    },
    {
     "name": "stdout",
     "output_type": "stream",
     "text": [
      "{'w1': 0.6516598061351134, 'w2': 0.7780080348727514, 'threshold': 0.63}\n"
     ]
    },
    {
     "name": "stderr",
     "output_type": "stream",
     "text": [
      "[I 2023-06-22 15:55:00,142] Trial 1034 finished with value: 0.7040433883666992 and parameters: {'w1': 0.7948325646457445, 'w2': 0.8020014942470447}. Best is trial 495 with value: 0.7050744295120239.\n"
     ]
    },
    {
     "name": "stdout",
     "output_type": "stream",
     "text": [
      "{'w1': 0.7948325646457445, 'w2': 0.8020014942470447, 'threshold': 0.62}\n"
     ]
    },
    {
     "name": "stderr",
     "output_type": "stream",
     "text": [
      "[I 2023-06-22 15:55:02,330] Trial 1035 finished with value: 0.7032074928283691 and parameters: {'w1': 0.3961797930954894, 'w2': 0.9818051176148483}. Best is trial 495 with value: 0.7050744295120239.\n"
     ]
    },
    {
     "name": "stdout",
     "output_type": "stream",
     "text": [
      "{'w1': 0.3961797930954894, 'w2': 0.9818051176148483, 'threshold': 0.67}\n"
     ]
    },
    {
     "name": "stderr",
     "output_type": "stream",
     "text": [
      "[I 2023-06-22 15:55:04,523] Trial 1036 finished with value: 0.7030969262123108 and parameters: {'w1': 0.7495155534661853, 'w2': 0.6323109205530562}. Best is trial 495 with value: 0.7050744295120239.\n"
     ]
    },
    {
     "name": "stdout",
     "output_type": "stream",
     "text": [
      "{'w1': 0.7495155534661853, 'w2': 0.6323109205530562, 'threshold': 0.62}\n"
     ]
    },
    {
     "name": "stderr",
     "output_type": "stream",
     "text": [
      "[I 2023-06-22 15:55:06,724] Trial 1037 finished with value: 0.7007057666778564 and parameters: {'w1': 0.7046582243057762, 'w2': 0.3076282123529088}. Best is trial 495 with value: 0.7050744295120239.\n"
     ]
    },
    {
     "name": "stdout",
     "output_type": "stream",
     "text": [
      "{'w1': 0.7046582243057762, 'w2': 0.3076282123529088, 'threshold': 0.58}\n"
     ]
    },
    {
     "name": "stderr",
     "output_type": "stream",
     "text": [
      "[I 2023-06-22 15:55:08,924] Trial 1038 finished with value: 0.7038989067077637 and parameters: {'w1': 0.6367616433809015, 'w2': 0.8717699957991215}. Best is trial 495 with value: 0.7050744295120239.\n"
     ]
    },
    {
     "name": "stdout",
     "output_type": "stream",
     "text": [
      "{'w1': 0.6367616433809015, 'w2': 0.8717699957991215, 'threshold': 0.64}\n"
     ]
    },
    {
     "name": "stderr",
     "output_type": "stream",
     "text": [
      "[I 2023-06-22 15:55:11,116] Trial 1039 finished with value: 0.7034932971000671 and parameters: {'w1': 0.7782756754502302, 'w2': 0.9392533179876601}. Best is trial 495 with value: 0.7050744295120239.\n"
     ]
    },
    {
     "name": "stdout",
     "output_type": "stream",
     "text": [
      "{'w1': 0.7782756754502302, 'w2': 0.9392533179876601, 'threshold': 0.63}\n"
     ]
    },
    {
     "name": "stderr",
     "output_type": "stream",
     "text": [
      "[I 2023-06-22 15:55:13,319] Trial 1040 finished with value: 0.7030014395713806 and parameters: {'w1': 0.6666837454007203, 'w2': 0.5578787325845609}. Best is trial 495 with value: 0.7050744295120239.\n"
     ]
    },
    {
     "name": "stdout",
     "output_type": "stream",
     "text": [
      "{'w1': 0.6666837454007203, 'w2': 0.5578787325845609, 'threshold': 0.62}\n"
     ]
    },
    {
     "name": "stderr",
     "output_type": "stream",
     "text": [
      "[I 2023-06-22 15:55:15,509] Trial 1041 finished with value: 0.702069103717804 and parameters: {'w1': 0.738934693748327, 'w2': 0.5218490226059748}. Best is trial 495 with value: 0.7050744295120239.\n"
     ]
    },
    {
     "name": "stdout",
     "output_type": "stream",
     "text": [
      "{'w1': 0.738934693748327, 'w2': 0.5218490226059748, 'threshold': 0.61}\n"
     ]
    },
    {
     "name": "stderr",
     "output_type": "stream",
     "text": [
      "[I 2023-06-22 15:55:17,699] Trial 1042 finished with value: 0.7038047909736633 and parameters: {'w1': 0.7181346717964483, 'w2': 0.744788511779306}. Best is trial 495 with value: 0.7050744295120239.\n"
     ]
    },
    {
     "name": "stdout",
     "output_type": "stream",
     "text": [
      "{'w1': 0.7181346717964483, 'w2': 0.744788511779306, 'threshold': 0.62}\n"
     ]
    },
    {
     "name": "stderr",
     "output_type": "stream",
     "text": [
      "[I 2023-06-22 15:55:19,897] Trial 1043 finished with value: 0.7039507627487183 and parameters: {'w1': 0.7620162637317861, 'w2': 0.8264003704290996}. Best is trial 495 with value: 0.7050744295120239.\n"
     ]
    },
    {
     "name": "stdout",
     "output_type": "stream",
     "text": [
      "{'w1': 0.7620162637317861, 'w2': 0.8264003704290996, 'threshold': 0.63}\n"
     ]
    },
    {
     "name": "stderr",
     "output_type": "stream",
     "text": [
      "[I 2023-06-22 15:55:22,102] Trial 1044 finished with value: 0.7045435905456543 and parameters: {'w1': 0.6817950645090619, 'w2': 0.7664159080279228}. Best is trial 495 with value: 0.7050744295120239.\n"
     ]
    },
    {
     "name": "stdout",
     "output_type": "stream",
     "text": [
      "{'w1': 0.6817950645090619, 'w2': 0.7664159080279228, 'threshold': 0.63}\n"
     ]
    },
    {
     "name": "stderr",
     "output_type": "stream",
     "text": [
      "[I 2023-06-22 15:55:24,294] Trial 1045 finished with value: 0.704301655292511 and parameters: {'w1': 0.6206310970472594, 'w2': 0.6868581805851818}. Best is trial 495 with value: 0.7050744295120239.\n"
     ]
    },
    {
     "name": "stdout",
     "output_type": "stream",
     "text": [
      "{'w1': 0.6206310970472594, 'w2': 0.6868581805851818, 'threshold': 0.63}\n"
     ]
    },
    {
     "name": "stderr",
     "output_type": "stream",
     "text": [
      "[I 2023-06-22 15:55:26,482] Trial 1046 finished with value: 0.7011987566947937 and parameters: {'w1': 0.01921662086714737, 'w2': 0.5954308506363246}. Best is trial 495 with value: 0.7050744295120239.\n"
     ]
    },
    {
     "name": "stdout",
     "output_type": "stream",
     "text": [
      "{'w1': 0.01921662086714737, 'w2': 0.5954308506363246, 'threshold': 0.69}\n"
     ]
    },
    {
     "name": "stderr",
     "output_type": "stream",
     "text": [
      "[I 2023-06-22 15:55:28,671] Trial 1047 finished with value: 0.7019731402397156 and parameters: {'w1': 0.13962516333695707, 'w2': 0.9532383491922449}. Best is trial 495 with value: 0.7050744295120239.\n"
     ]
    },
    {
     "name": "stdout",
     "output_type": "stream",
     "text": [
      "{'w1': 0.13962516333695707, 'w2': 0.9532383491922449, 'threshold': 0.7}\n"
     ]
    },
    {
     "name": "stderr",
     "output_type": "stream",
     "text": [
      "[I 2023-06-22 15:55:30,863] Trial 1048 finished with value: 0.7035664916038513 and parameters: {'w1': 0.812069531946593, 'w2': 0.7182539160942126}. Best is trial 495 with value: 0.7050744295120239.\n"
     ]
    },
    {
     "name": "stdout",
     "output_type": "stream",
     "text": [
      "{'w1': 0.812069531946593, 'w2': 0.7182539160942126, 'threshold': 0.62}\n"
     ]
    },
    {
     "name": "stderr",
     "output_type": "stream",
     "text": [
      "[I 2023-06-22 15:55:33,053] Trial 1049 finished with value: 0.702847957611084 and parameters: {'w1': 0.7926453930756182, 'w2': 0.5346052226262625}. Best is trial 495 with value: 0.7050744295120239.\n"
     ]
    },
    {
     "name": "stdout",
     "output_type": "stream",
     "text": [
      "{'w1': 0.7926453930756182, 'w2': 0.5346052226262625, 'threshold': 0.6}\n"
     ]
    },
    {
     "name": "stderr",
     "output_type": "stream",
     "text": [
      "[I 2023-06-22 15:55:35,241] Trial 1050 finished with value: 0.7034499049186707 and parameters: {'w1': 0.6490091120174094, 'w2': 0.7908067068280085}. Best is trial 495 with value: 0.7050744295120239.\n"
     ]
    },
    {
     "name": "stdout",
     "output_type": "stream",
     "text": [
      "{'w1': 0.6490091120174094, 'w2': 0.7908067068280085, 'threshold': 0.63}\n"
     ]
    },
    {
     "name": "stderr",
     "output_type": "stream",
     "text": [
      "[I 2023-06-22 15:55:37,430] Trial 1051 finished with value: 0.7014726996421814 and parameters: {'w1': 0.7711892767742405, 'w2': 0.41067628370541587}. Best is trial 495 with value: 0.7050744295120239.\n"
     ]
    },
    {
     "name": "stdout",
     "output_type": "stream",
     "text": [
      "{'w1': 0.7711892767742405, 'w2': 0.41067628370541587, 'threshold': 0.59}\n"
     ]
    },
    {
     "name": "stderr",
     "output_type": "stream",
     "text": [
      "[I 2023-06-22 15:55:39,620] Trial 1052 finished with value: 0.7036300301551819 and parameters: {'w1': 0.8284180563971824, 'w2': 0.6633863925310953}. Best is trial 495 with value: 0.7050744295120239.\n"
     ]
    },
    {
     "name": "stdout",
     "output_type": "stream",
     "text": [
      "{'w1': 0.8284180563971824, 'w2': 0.6633863925310953, 'threshold': 0.61}\n"
     ]
    },
    {
     "name": "stderr",
     "output_type": "stream",
     "text": [
      "[I 2023-06-22 15:55:41,808] Trial 1053 finished with value: 0.6972772479057312 and parameters: {'w1': 0.7238244523828075, 'w2': 0.07976394948903698}. Best is trial 495 with value: 0.7050744295120239.\n"
     ]
    },
    {
     "name": "stdout",
     "output_type": "stream",
     "text": [
      "{'w1': 0.7238244523828075, 'w2': 0.07976394948903698, 'threshold': 0.6}\n"
     ]
    },
    {
     "name": "stderr",
     "output_type": "stream",
     "text": [
      "[I 2023-06-22 15:55:43,996] Trial 1054 finished with value: 0.7044485211372375 and parameters: {'w1': 0.9241327252228748, 'w2': 0.8881840096647464}. Best is trial 495 with value: 0.7050744295120239.\n"
     ]
    },
    {
     "name": "stdout",
     "output_type": "stream",
     "text": [
      "{'w1': 0.9241327252228748, 'w2': 0.8881840096647464, 'threshold': 0.62}\n"
     ]
    },
    {
     "name": "stderr",
     "output_type": "stream",
     "text": [
      "[I 2023-06-22 15:55:46,185] Trial 1055 finished with value: 0.7036026120185852 and parameters: {'w1': 0.6058140279749734, 'w2': 0.8493740193796894}. Best is trial 495 with value: 0.7050744295120239.\n"
     ]
    },
    {
     "name": "stdout",
     "output_type": "stream",
     "text": [
      "{'w1': 0.6058140279749734, 'w2': 0.8493740193796894, 'threshold': 0.64}\n"
     ]
    },
    {
     "name": "stderr",
     "output_type": "stream",
     "text": [
      "[I 2023-06-22 15:55:48,375] Trial 1056 finished with value: 0.7022884488105774 and parameters: {'w1': 0.6681077395221885, 'w2': 0.48511779091874485}. Best is trial 495 with value: 0.7050744295120239.\n"
     ]
    },
    {
     "name": "stdout",
     "output_type": "stream",
     "text": [
      "{'w1': 0.6681077395221885, 'w2': 0.48511779091874485, 'threshold': 0.61}\n"
     ]
    },
    {
     "name": "stderr",
     "output_type": "stream",
     "text": [
      "[I 2023-06-22 15:55:50,563] Trial 1057 finished with value: 0.7039524912834167 and parameters: {'w1': 0.6411336465647189, 'w2': 0.7397820319339903}. Best is trial 495 with value: 0.7050744295120239.\n"
     ]
    },
    {
     "name": "stdout",
     "output_type": "stream",
     "text": [
      "{'w1': 0.6411336465647189, 'w2': 0.7397820319339903, 'threshold': 0.63}\n"
     ]
    },
    {
     "name": "stderr",
     "output_type": "stream",
     "text": [
      "[I 2023-06-22 15:55:52,752] Trial 1058 finished with value: 0.7016052603721619 and parameters: {'w1': 0.050026949927861386, 'w2': 0.974754128688681}. Best is trial 495 with value: 0.7050744295120239.\n"
     ]
    },
    {
     "name": "stdout",
     "output_type": "stream",
     "text": [
      "{'w1': 0.050026949927861386, 'w2': 0.974754128688681, 'threshold': 0.72}\n"
     ]
    },
    {
     "name": "stderr",
     "output_type": "stream",
     "text": [
      "[I 2023-06-22 15:55:54,941] Trial 1059 finished with value: 0.6962836980819702 and parameters: {'w1': 0.6976555817345178, 'w2': 0.0018069867910223136}. Best is trial 495 with value: 0.7050744295120239.\n"
     ]
    },
    {
     "name": "stdout",
     "output_type": "stream",
     "text": [
      "{'w1': 0.6976555817345178, 'w2': 0.0018069867910223136, 'threshold': 0.6}\n"
     ]
    },
    {
     "name": "stderr",
     "output_type": "stream",
     "text": [
      "[I 2023-06-22 15:55:57,130] Trial 1060 finished with value: 0.7005378603935242 and parameters: {'w1': 0.7482819495499509, 'w2': 0.2844174817709964}. Best is trial 495 with value: 0.7050744295120239.\n"
     ]
    },
    {
     "name": "stdout",
     "output_type": "stream",
     "text": [
      "{'w1': 0.7482819495499509, 'w2': 0.2844174817709964, 'threshold': 0.57}\n"
     ]
    },
    {
     "name": "stderr",
     "output_type": "stream",
     "text": [
      "[I 2023-06-22 15:55:59,318] Trial 1061 finished with value: 0.7033634185791016 and parameters: {'w1': 0.8092557694016272, 'w2': 0.998760513530038}. Best is trial 495 with value: 0.7050744295120239.\n"
     ]
    },
    {
     "name": "stdout",
     "output_type": "stream",
     "text": [
      "{'w1': 0.8092557694016272, 'w2': 0.998760513530038, 'threshold': 0.63}\n"
     ]
    },
    {
     "name": "stderr",
     "output_type": "stream",
     "text": [
      "[I 2023-06-22 15:56:01,507] Trial 1062 finished with value: 0.7038230299949646 and parameters: {'w1': 0.7830448214229547, 'w2': 0.8118154680066099}. Best is trial 495 with value: 0.7050744295120239.\n"
     ]
    },
    {
     "name": "stdout",
     "output_type": "stream",
     "text": [
      "{'w1': 0.7830448214229547, 'w2': 0.8118154680066099, 'threshold': 0.62}\n"
     ]
    },
    {
     "name": "stderr",
     "output_type": "stream",
     "text": [
      "[I 2023-06-22 15:56:03,696] Trial 1063 finished with value: 0.7028784155845642 and parameters: {'w1': 0.4137865051730527, 'w2': 0.7649019081901828}. Best is trial 495 with value: 0.7050744295120239.\n"
     ]
    },
    {
     "name": "stdout",
     "output_type": "stream",
     "text": [
      "{'w1': 0.4137865051730527, 'w2': 0.7649019081901828, 'threshold': 0.66}\n"
     ]
    },
    {
     "name": "stderr",
     "output_type": "stream",
     "text": [
      "[I 2023-06-22 15:56:05,884] Trial 1064 finished with value: 0.70399010181427 and parameters: {'w1': 0.6863441669948579, 'w2': 0.6253931984350976}. Best is trial 495 with value: 0.7050744295120239.\n"
     ]
    },
    {
     "name": "stdout",
     "output_type": "stream",
     "text": [
      "{'w1': 0.6863441669948579, 'w2': 0.6253931984350976, 'threshold': 0.62}\n"
     ]
    },
    {
     "name": "stderr",
     "output_type": "stream",
     "text": [
      "[I 2023-06-22 15:56:08,073] Trial 1065 finished with value: 0.7031872272491455 and parameters: {'w1': 0.8411063898141652, 'w2': 0.7162104271973001}. Best is trial 495 with value: 0.7050744295120239.\n"
     ]
    },
    {
     "name": "stdout",
     "output_type": "stream",
     "text": [
      "{'w1': 0.8411063898141652, 'w2': 0.7162104271973001, 'threshold': 0.62}\n"
     ]
    },
    {
     "name": "stderr",
     "output_type": "stream",
     "text": [
      "[I 2023-06-22 15:56:10,261] Trial 1066 finished with value: 0.696549654006958 and parameters: {'w1': 0.1719410521108068, 'w2': 0.005234043526104681}. Best is trial 495 with value: 0.7050744295120239.\n"
     ]
    },
    {
     "name": "stdout",
     "output_type": "stream",
     "text": [
      "{'w1': 0.1719410521108068, 'w2': 0.005234043526104681, 'threshold': 0.6}\n"
     ]
    },
    {
     "name": "stderr",
     "output_type": "stream",
     "text": [
      "[I 2023-06-22 15:56:12,449] Trial 1067 finished with value: 0.7020124197006226 and parameters: {'w1': 0.09736106919082954, 'w2': 0.6504963312558619}. Best is trial 495 with value: 0.7050744295120239.\n"
     ]
    },
    {
     "name": "stdout",
     "output_type": "stream",
     "text": [
      "{'w1': 0.09736106919082954, 'w2': 0.6504963312558619, 'threshold': 0.7}\n"
     ]
    },
    {
     "name": "stderr",
     "output_type": "stream",
     "text": [
      "[I 2023-06-22 15:56:14,637] Trial 1068 finished with value: 0.703306257724762 and parameters: {'w1': 0.6226407044435298, 'w2': 0.7782157390941723}. Best is trial 495 with value: 0.7050744295120239.\n"
     ]
    },
    {
     "name": "stdout",
     "output_type": "stream",
     "text": [
      "{'w1': 0.6226407044435298, 'w2': 0.7782157390941723, 'threshold': 0.64}\n"
     ]
    },
    {
     "name": "stderr",
     "output_type": "stream",
     "text": [
      "[I 2023-06-22 15:56:16,826] Trial 1069 finished with value: 0.7047320008277893 and parameters: {'w1': 0.7346325363398688, 'w2': 0.6959099892486598}. Best is trial 495 with value: 0.7050744295120239.\n"
     ]
    },
    {
     "name": "stdout",
     "output_type": "stream",
     "text": [
      "{'w1': 0.7346325363398688, 'w2': 0.6959099892486598, 'threshold': 0.62}\n"
     ]
    },
    {
     "name": "stderr",
     "output_type": "stream",
     "text": [
      "[I 2023-06-22 15:56:19,015] Trial 1070 finished with value: 0.7044236660003662 and parameters: {'w1': 0.724220962955173, 'w2': 0.6967396628348628}. Best is trial 495 with value: 0.7050744295120239.\n"
     ]
    },
    {
     "name": "stdout",
     "output_type": "stream",
     "text": [
      "{'w1': 0.724220962955173, 'w2': 0.6967396628348628, 'threshold': 0.62}\n"
     ]
    },
    {
     "name": "stderr",
     "output_type": "stream",
     "text": [
      "[I 2023-06-22 15:56:21,203] Trial 1071 finished with value: 0.7013428211212158 and parameters: {'w1': 0.028200240220049855, 'w2': 0.6757687900842302}. Best is trial 495 with value: 0.7050744295120239.\n"
     ]
    },
    {
     "name": "stdout",
     "output_type": "stream",
     "text": [
      "{'w1': 0.028200240220049855, 'w2': 0.6757687900842302, 'threshold': 0.72}\n"
     ]
    },
    {
     "name": "stderr",
     "output_type": "stream",
     "text": [
      "[I 2023-06-22 15:56:23,392] Trial 1072 finished with value: 0.7007464170455933 and parameters: {'w1': 0.7498455638499402, 'w2': 0.3285383277333469}. Best is trial 495 with value: 0.7050744295120239.\n"
     ]
    },
    {
     "name": "stdout",
     "output_type": "stream",
     "text": [
      "{'w1': 0.7498455638499402, 'w2': 0.3285383277333469, 'threshold': 0.58}\n"
     ]
    },
    {
     "name": "stderr",
     "output_type": "stream",
     "text": [
      "[I 2023-06-22 15:56:25,581] Trial 1073 finished with value: 0.7042903900146484 and parameters: {'w1': 0.7305029992249774, 'w2': 0.7065437487369759}. Best is trial 495 with value: 0.7050744295120239.\n"
     ]
    },
    {
     "name": "stdout",
     "output_type": "stream",
     "text": [
      "{'w1': 0.7305029992249774, 'w2': 0.7065437487369759, 'threshold': 0.62}\n"
     ]
    },
    {
     "name": "stderr",
     "output_type": "stream",
     "text": [
      "[I 2023-06-22 15:56:27,769] Trial 1074 finished with value: 0.7049991488456726 and parameters: {'w1': 0.7643363192068569, 'w2': 0.7295149793268964}. Best is trial 495 with value: 0.7050744295120239.\n"
     ]
    },
    {
     "name": "stdout",
     "output_type": "stream",
     "text": [
      "{'w1': 0.7643363192068569, 'w2': 0.7295149793268964, 'threshold': 0.62}\n"
     ]
    },
    {
     "name": "stderr",
     "output_type": "stream",
     "text": [
      "[I 2023-06-22 15:56:29,958] Trial 1075 finished with value: 0.7048698663711548 and parameters: {'w1': 0.7704359269075789, 'w2': 0.7328385095231197}. Best is trial 495 with value: 0.7050744295120239.\n"
     ]
    },
    {
     "name": "stdout",
     "output_type": "stream",
     "text": [
      "{'w1': 0.7704359269075789, 'w2': 0.7328385095231197, 'threshold': 0.62}\n"
     ]
    },
    {
     "name": "stderr",
     "output_type": "stream",
     "text": [
      "[I 2023-06-22 15:56:32,150] Trial 1076 finished with value: 0.7044664621353149 and parameters: {'w1': 0.7756754093370625, 'w2': 0.7230669686168006}. Best is trial 495 with value: 0.7050744295120239.\n"
     ]
    },
    {
     "name": "stdout",
     "output_type": "stream",
     "text": [
      "{'w1': 0.7756754093370625, 'w2': 0.7230669686168006, 'threshold': 0.62}\n"
     ]
    },
    {
     "name": "stderr",
     "output_type": "stream",
     "text": [
      "[I 2023-06-22 15:56:34,355] Trial 1077 finished with value: 0.7045167088508606 and parameters: {'w1': 0.761018614084642, 'w2': 0.73043185266957}. Best is trial 495 with value: 0.7050744295120239.\n"
     ]
    },
    {
     "name": "stdout",
     "output_type": "stream",
     "text": [
      "{'w1': 0.761018614084642, 'w2': 0.73043185266957, 'threshold': 0.62}\n"
     ]
    },
    {
     "name": "stderr",
     "output_type": "stream",
     "text": [
      "[I 2023-06-22 15:56:36,564] Trial 1078 finished with value: 0.7044115662574768 and parameters: {'w1': 0.7547055906262398, 'w2': 0.7013209580411295}. Best is trial 495 with value: 0.7050744295120239.\n"
     ]
    },
    {
     "name": "stdout",
     "output_type": "stream",
     "text": [
      "{'w1': 0.7547055906262398, 'w2': 0.7013209580411295, 'threshold': 0.62}\n"
     ]
    },
    {
     "name": "stderr",
     "output_type": "stream",
     "text": [
      "[I 2023-06-22 15:56:38,764] Trial 1079 finished with value: 0.7040531635284424 and parameters: {'w1': 0.7433385957953098, 'w2': 0.7436286289952327}. Best is trial 495 with value: 0.7050744295120239.\n"
     ]
    },
    {
     "name": "stdout",
     "output_type": "stream",
     "text": [
      "{'w1': 0.7433385957953098, 'w2': 0.7436286289952327, 'threshold': 0.62}\n"
     ]
    },
    {
     "name": "stderr",
     "output_type": "stream",
     "text": [
      "[I 2023-06-22 15:56:40,970] Trial 1080 finished with value: 0.6974801421165466 and parameters: {'w1': 0.7708170840621169, 'w2': 0.1016785267344642}. Best is trial 495 with value: 0.7050744295120239.\n"
     ]
    },
    {
     "name": "stdout",
     "output_type": "stream",
     "text": [
      "{'w1': 0.7708170840621169, 'w2': 0.1016785267344642, 'threshold': 0.6}\n"
     ]
    },
    {
     "name": "stderr",
     "output_type": "stream",
     "text": [
      "[I 2023-06-22 15:56:43,159] Trial 1081 finished with value: 0.7041805386543274 and parameters: {'w1': 0.7834845279583278, 'w2': 0.7205962435494505}. Best is trial 495 with value: 0.7050744295120239.\n"
     ]
    },
    {
     "name": "stdout",
     "output_type": "stream",
     "text": [
      "{'w1': 0.7834845279583278, 'w2': 0.7205962435494505, 'threshold': 0.62}\n"
     ]
    },
    {
     "name": "stderr",
     "output_type": "stream",
     "text": [
      "[I 2023-06-22 15:56:45,350] Trial 1082 finished with value: 0.7040334343910217 and parameters: {'w1': 0.7403280729333195, 'w2': 0.7456554995190562}. Best is trial 495 with value: 0.7050744295120239.\n"
     ]
    },
    {
     "name": "stdout",
     "output_type": "stream",
     "text": [
      "{'w1': 0.7403280729333195, 'w2': 0.7456554995190562, 'threshold': 0.62}\n"
     ]
    },
    {
     "name": "stderr",
     "output_type": "stream",
     "text": [
      "[I 2023-06-22 15:56:47,539] Trial 1083 finished with value: 0.7039738297462463 and parameters: {'w1': 0.7622107607696229, 'w2': 0.6926061427922895}. Best is trial 495 with value: 0.7050744295120239.\n"
     ]
    },
    {
     "name": "stdout",
     "output_type": "stream",
     "text": [
      "{'w1': 0.7622107607696229, 'w2': 0.6926061427922895, 'threshold': 0.62}\n"
     ]
    },
    {
     "name": "stderr",
     "output_type": "stream",
     "text": [
      "[I 2023-06-22 15:56:49,733] Trial 1084 finished with value: 0.7039765119552612 and parameters: {'w1': 0.7878575475123235, 'w2': 0.7166260749033511}. Best is trial 495 with value: 0.7050744295120239.\n"
     ]
    },
    {
     "name": "stdout",
     "output_type": "stream",
     "text": [
      "{'w1': 0.7878575475123235, 'w2': 0.7166260749033511, 'threshold': 0.62}\n"
     ]
    },
    {
     "name": "stderr",
     "output_type": "stream",
     "text": [
      "[I 2023-06-22 15:56:51,922] Trial 1085 finished with value: 0.704126238822937 and parameters: {'w1': 0.7993691332473178, 'w2': 0.7329902013899127}. Best is trial 495 with value: 0.7050744295120239.\n"
     ]
    },
    {
     "name": "stdout",
     "output_type": "stream",
     "text": [
      "{'w1': 0.7993691332473178, 'w2': 0.7329902013899127, 'threshold': 0.62}\n"
     ]
    },
    {
     "name": "stderr",
     "output_type": "stream",
     "text": [
      "[I 2023-06-22 15:56:54,110] Trial 1086 finished with value: 0.7040008902549744 and parameters: {'w1': 0.737958080684623, 'w2': 0.7552147099860896}. Best is trial 495 with value: 0.7050744295120239.\n"
     ]
    },
    {
     "name": "stdout",
     "output_type": "stream",
     "text": [
      "{'w1': 0.737958080684623, 'w2': 0.7552147099860896, 'threshold': 0.62}\n"
     ]
    },
    {
     "name": "stderr",
     "output_type": "stream",
     "text": [
      "[I 2023-06-22 15:56:56,299] Trial 1087 finished with value: 0.7044318318367004 and parameters: {'w1': 0.7669976765922927, 'w2': 0.713852726221872}. Best is trial 495 with value: 0.7050744295120239.\n"
     ]
    },
    {
     "name": "stdout",
     "output_type": "stream",
     "text": [
      "{'w1': 0.7669976765922927, 'w2': 0.713852726221872, 'threshold': 0.62}\n"
     ]
    },
    {
     "name": "stderr",
     "output_type": "stream",
     "text": [
      "[I 2023-06-22 15:56:58,489] Trial 1088 finished with value: 0.7036184668540955 and parameters: {'w1': 0.7205733572862986, 'w2': 0.7523658783485409}. Best is trial 495 with value: 0.7050744295120239.\n"
     ]
    },
    {
     "name": "stdout",
     "output_type": "stream",
     "text": [
      "{'w1': 0.7205733572862986, 'w2': 0.7523658783485409, 'threshold': 0.62}\n"
     ]
    },
    {
     "name": "stderr",
     "output_type": "stream",
     "text": [
      "[I 2023-06-22 15:57:00,681] Trial 1089 finished with value: 0.7038120627403259 and parameters: {'w1': 0.7595099450674577, 'w2': 0.6839275188054031}. Best is trial 495 with value: 0.7050744295120239.\n"
     ]
    },
    {
     "name": "stdout",
     "output_type": "stream",
     "text": [
      "{'w1': 0.7595099450674577, 'w2': 0.6839275188054031, 'threshold': 0.62}\n"
     ]
    },
    {
     "name": "stderr",
     "output_type": "stream",
     "text": [
      "[I 2023-06-22 15:57:02,869] Trial 1090 finished with value: 0.7042810320854187 and parameters: {'w1': 0.79824410979448, 'w2': 0.7369486002398731}. Best is trial 495 with value: 0.7050744295120239.\n"
     ]
    },
    {
     "name": "stdout",
     "output_type": "stream",
     "text": [
      "{'w1': 0.79824410979448, 'w2': 0.7369486002398731, 'threshold': 0.62}\n"
     ]
    },
    {
     "name": "stderr",
     "output_type": "stream",
     "text": [
      "[I 2023-06-22 15:57:05,060] Trial 1091 finished with value: 0.7039889693260193 and parameters: {'w1': 0.7366395727892132, 'w2': 0.7564506272541822}. Best is trial 495 with value: 0.7050744295120239.\n"
     ]
    },
    {
     "name": "stdout",
     "output_type": "stream",
     "text": [
      "{'w1': 0.7366395727892132, 'w2': 0.7564506272541822, 'threshold': 0.62}\n"
     ]
    },
    {
     "name": "stderr",
     "output_type": "stream",
     "text": [
      "[I 2023-06-22 15:57:07,249] Trial 1092 finished with value: 0.7037848830223083 and parameters: {'w1': 0.7785611940615857, 'w2': 0.7001177700729605}. Best is trial 495 with value: 0.7050744295120239.\n"
     ]
    },
    {
     "name": "stdout",
     "output_type": "stream",
     "text": [
      "{'w1': 0.7785611940615857, 'w2': 0.7001177700729605, 'threshold': 0.62}\n"
     ]
    },
    {
     "name": "stderr",
     "output_type": "stream",
     "text": [
      "[I 2023-06-22 15:57:09,438] Trial 1093 finished with value: 0.7040163278579712 and parameters: {'w1': 0.7151977893184324, 'w2': 0.7316183829965477}. Best is trial 495 with value: 0.7050744295120239.\n"
     ]
    },
    {
     "name": "stdout",
     "output_type": "stream",
     "text": [
      "{'w1': 0.7151977893184324, 'w2': 0.7316183829965477, 'threshold': 0.62}\n"
     ]
    },
    {
     "name": "stderr",
     "output_type": "stream",
     "text": [
      "[I 2023-06-22 15:57:11,627] Trial 1094 finished with value: 0.7050524950027466 and parameters: {'w1': 0.8035432614975154, 'w2': 0.7682603311664709}. Best is trial 495 with value: 0.7050744295120239.\n"
     ]
    },
    {
     "name": "stdout",
     "output_type": "stream",
     "text": [
      "{'w1': 0.8035432614975154, 'w2': 0.7682603311664709, 'threshold': 0.62}\n"
     ]
    },
    {
     "name": "stderr",
     "output_type": "stream",
     "text": [
      "[I 2023-06-22 15:57:13,823] Trial 1095 finished with value: 0.7046679258346558 and parameters: {'w1': 0.8220748106137725, 'w2': 0.7760031016298929}. Best is trial 495 with value: 0.7050744295120239.\n"
     ]
    },
    {
     "name": "stdout",
     "output_type": "stream",
     "text": [
      "{'w1': 0.8220748106137725, 'w2': 0.7760031016298929, 'threshold': 0.62}\n"
     ]
    },
    {
     "name": "stderr",
     "output_type": "stream",
     "text": [
      "[I 2023-06-22 15:57:16,013] Trial 1096 finished with value: 0.6979454755783081 and parameters: {'w1': 0.8057063732865286, 'w2': 0.14655615263692434}. Best is trial 495 with value: 0.7050744295120239.\n"
     ]
    },
    {
     "name": "stdout",
     "output_type": "stream",
     "text": [
      "{'w1': 0.8057063732865286, 'w2': 0.14655615263692434, 'threshold': 0.59}\n"
     ]
    },
    {
     "name": "stderr",
     "output_type": "stream",
     "text": [
      "[I 2023-06-22 15:57:18,202] Trial 1097 finished with value: 0.7042009234428406 and parameters: {'w1': 0.8052176402156301, 'w2': 0.7834551089996898}. Best is trial 495 with value: 0.7050744295120239.\n"
     ]
    },
    {
     "name": "stdout",
     "output_type": "stream",
     "text": [
      "{'w1': 0.8052176402156301, 'w2': 0.7834551089996898, 'threshold': 0.62}\n"
     ]
    },
    {
     "name": "stderr",
     "output_type": "stream",
     "text": [
      "[I 2023-06-22 15:57:20,397] Trial 1098 finished with value: 0.7043454051017761 and parameters: {'w1': 0.7902479153997793, 'w2': 0.7627241200468885}. Best is trial 495 with value: 0.7050744295120239.\n"
     ]
    },
    {
     "name": "stdout",
     "output_type": "stream",
     "text": [
      "{'w1': 0.7902479153997793, 'w2': 0.7627241200468885, 'threshold': 0.62}\n"
     ]
    },
    {
     "name": "stderr",
     "output_type": "stream",
     "text": [
      "[I 2023-06-22 15:57:22,586] Trial 1099 finished with value: 0.7040409445762634 and parameters: {'w1': 0.7949145115773076, 'w2': 0.7970558743748885}. Best is trial 495 with value: 0.7050744295120239.\n"
     ]
    },
    {
     "name": "stdout",
     "output_type": "stream",
     "text": [
      "{'w1': 0.7949145115773076, 'w2': 0.7970558743748885, 'threshold': 0.62}\n"
     ]
    },
    {
     "name": "stderr",
     "output_type": "stream",
     "text": [
      "[I 2023-06-22 15:57:24,775] Trial 1100 finished with value: 0.7043488025665283 and parameters: {'w1': 0.823340318129644, 'w2': 0.7631211157353358}. Best is trial 495 with value: 0.7050744295120239.\n"
     ]
    },
    {
     "name": "stdout",
     "output_type": "stream",
     "text": [
      "{'w1': 0.823340318129644, 'w2': 0.7631211157353358, 'threshold': 0.62}\n"
     ]
    },
    {
     "name": "stderr",
     "output_type": "stream",
     "text": [
      "[I 2023-06-22 15:57:26,964] Trial 1101 finished with value: 0.7040154337882996 and parameters: {'w1': 0.7681355747314701, 'w2': 0.7847974327925674}. Best is trial 495 with value: 0.7050744295120239.\n"
     ]
    },
    {
     "name": "stdout",
     "output_type": "stream",
     "text": [
      "{'w1': 0.7681355747314701, 'w2': 0.7847974327925674, 'threshold': 0.62}\n"
     ]
    },
    {
     "name": "stderr",
     "output_type": "stream",
     "text": [
      "[I 2023-06-22 15:57:29,153] Trial 1102 finished with value: 0.7018248438835144 and parameters: {'w1': 0.10628666439314305, 'w2': 0.8035793652197455}. Best is trial 495 with value: 0.7050744295120239.\n"
     ]
    },
    {
     "name": "stdout",
     "output_type": "stream",
     "text": [
      "{'w1': 0.10628666439314305, 'w2': 0.8035793652197455, 'threshold': 0.7}\n"
     ]
    },
    {
     "name": "stderr",
     "output_type": "stream",
     "text": [
      "[I 2023-06-22 15:57:31,342] Trial 1103 finished with value: 0.7045243382453918 and parameters: {'w1': 0.8245551060943275, 'w2': 0.7714915210833497}. Best is trial 495 with value: 0.7050744295120239.\n"
     ]
    },
    {
     "name": "stdout",
     "output_type": "stream",
     "text": [
      "{'w1': 0.8245551060943275, 'w2': 0.7714915210833497, 'threshold': 0.62}\n"
     ]
    },
    {
     "name": "stderr",
     "output_type": "stream",
     "text": [
      "[I 2023-06-22 15:57:33,530] Trial 1104 finished with value: 0.7050584554672241 and parameters: {'w1': 0.7807186333563372, 'w2': 0.7457485646403178}. Best is trial 495 with value: 0.7050744295120239.\n"
     ]
    },
    {
     "name": "stdout",
     "output_type": "stream",
     "text": [
      "{'w1': 0.7807186333563372, 'w2': 0.7457485646403178, 'threshold': 0.62}\n"
     ]
    },
    {
     "name": "stderr",
     "output_type": "stream",
     "text": [
      "[I 2023-06-22 15:57:35,721] Trial 1105 finished with value: 0.7029288411140442 and parameters: {'w1': 0.24026596740937123, 'w2': 0.7567354116314106}. Best is trial 495 with value: 0.7050744295120239.\n"
     ]
    },
    {
     "name": "stdout",
     "output_type": "stream",
     "text": [
      "{'w1': 0.24026596740937123, 'w2': 0.7567354116314106, 'threshold': 0.68}\n"
     ]
    },
    {
     "name": "stderr",
     "output_type": "stream",
     "text": [
      "[I 2023-06-22 15:57:37,910] Trial 1106 finished with value: 0.7042125463485718 and parameters: {'w1': 0.8055139236056577, 'w2': 0.7834635726743652}. Best is trial 495 with value: 0.7050744295120239.\n"
     ]
    },
    {
     "name": "stdout",
     "output_type": "stream",
     "text": [
      "{'w1': 0.8055139236056577, 'w2': 0.7834635726743652, 'threshold': 0.62}\n"
     ]
    },
    {
     "name": "stderr",
     "output_type": "stream",
     "text": [
      "[I 2023-06-22 15:57:40,100] Trial 1107 finished with value: 0.6979983448982239 and parameters: {'w1': 0.7822234187300866, 'w2': 0.1480020258842577}. Best is trial 495 with value: 0.7050744295120239.\n"
     ]
    },
    {
     "name": "stdout",
     "output_type": "stream",
     "text": [
      "{'w1': 0.7822234187300866, 'w2': 0.1480020258842577, 'threshold': 0.59}\n"
     ]
    },
    {
     "name": "stderr",
     "output_type": "stream",
     "text": [
      "[I 2023-06-22 15:57:42,289] Trial 1108 finished with value: 0.6985583901405334 and parameters: {'w1': 0.20424241315760772, 'w2': 0.051734008256430375}. Best is trial 495 with value: 0.7050744295120239.\n"
     ]
    },
    {
     "name": "stdout",
     "output_type": "stream",
     "text": [
      "{'w1': 0.20424241315760772, 'w2': 0.051734008256430375, 'threshold': 0.59}\n"
     ]
    },
    {
     "name": "stderr",
     "output_type": "stream",
     "text": [
      "[I 2023-06-22 15:57:44,478] Trial 1109 finished with value: 0.7024217844009399 and parameters: {'w1': 0.16867219788315446, 'w2': 0.7458395606717814}. Best is trial 495 with value: 0.7050744295120239.\n"
     ]
    },
    {
     "name": "stdout",
     "output_type": "stream",
     "text": [
      "{'w1': 0.16867219788315446, 'w2': 0.7458395606717814, 'threshold': 0.69}\n"
     ]
    },
    {
     "name": "stderr",
     "output_type": "stream",
     "text": [
      "[I 2023-06-22 15:57:46,667] Trial 1110 finished with value: 0.7037825584411621 and parameters: {'w1': 0.7586923638801345, 'w2': 0.8140940113505883}. Best is trial 495 with value: 0.7050744295120239.\n"
     ]
    },
    {
     "name": "stdout",
     "output_type": "stream",
     "text": [
      "{'w1': 0.7586923638801345, 'w2': 0.8140940113505883, 'threshold': 0.63}\n"
     ]
    },
    {
     "name": "stderr",
     "output_type": "stream",
     "text": [
      "[I 2023-06-22 15:57:48,856] Trial 1111 finished with value: 0.7049424648284912 and parameters: {'w1': 0.8138608051428329, 'w2': 0.7752728714555841}. Best is trial 495 with value: 0.7050744295120239.\n"
     ]
    },
    {
     "name": "stdout",
     "output_type": "stream",
     "text": [
      "{'w1': 0.8138608051428329, 'w2': 0.7752728714555841, 'threshold': 0.62}\n"
     ]
    },
    {
     "name": "stderr",
     "output_type": "stream",
     "text": [
      "[I 2023-06-22 15:57:51,046] Trial 1112 finished with value: 0.7043266296386719 and parameters: {'w1': 0.8354047156135392, 'w2': 0.8067808634234781}. Best is trial 495 with value: 0.7050744295120239.\n"
     ]
    },
    {
     "name": "stdout",
     "output_type": "stream",
     "text": [
      "{'w1': 0.8354047156135392, 'w2': 0.8067808634234781, 'threshold': 0.62}\n"
     ]
    },
    {
     "name": "stderr",
     "output_type": "stream",
     "text": [
      "[I 2023-06-22 15:57:53,235] Trial 1113 finished with value: 0.7041987180709839 and parameters: {'w1': 0.8145116649202495, 'w2': 0.7931123175163461}. Best is trial 495 with value: 0.7050744295120239.\n"
     ]
    },
    {
     "name": "stdout",
     "output_type": "stream",
     "text": [
      "{'w1': 0.8145116649202495, 'w2': 0.7931123175163461, 'threshold': 0.62}\n"
     ]
    },
    {
     "name": "stderr",
     "output_type": "stream",
     "text": [
      "[I 2023-06-22 15:57:55,425] Trial 1114 finished with value: 0.7050734758377075 and parameters: {'w1': 0.8052251355402238, 'w2': 0.7695545384643265}. Best is trial 495 with value: 0.7050744295120239.\n"
     ]
    },
    {
     "name": "stdout",
     "output_type": "stream",
     "text": [
      "{'w1': 0.8052251355402238, 'w2': 0.7695545384643265, 'threshold': 0.62}\n"
     ]
    },
    {
     "name": "stderr",
     "output_type": "stream",
     "text": [
      "[I 2023-06-22 15:57:57,620] Trial 1115 finished with value: 0.7050700187683105 and parameters: {'w1': 0.8160693845715349, 'w2': 0.7797979467737534}. Best is trial 495 with value: 0.7050744295120239.\n"
     ]
    },
    {
     "name": "stdout",
     "output_type": "stream",
     "text": [
      "{'w1': 0.8160693845715349, 'w2': 0.7797979467737534, 'threshold': 0.62}\n"
     ]
    },
    {
     "name": "stderr",
     "output_type": "stream",
     "text": [
      "[I 2023-06-22 15:57:59,810] Trial 1116 finished with value: 0.7045140266418457 and parameters: {'w1': 0.8314352545554131, 'w2': 0.7775760511894536}. Best is trial 495 with value: 0.7050744295120239.\n"
     ]
    },
    {
     "name": "stdout",
     "output_type": "stream",
     "text": [
      "{'w1': 0.8314352545554131, 'w2': 0.7775760511894536, 'threshold': 0.62}\n"
     ]
    },
    {
     "name": "stderr",
     "output_type": "stream",
     "text": [
      "[I 2023-06-22 15:58:01,999] Trial 1117 finished with value: 0.7047690153121948 and parameters: {'w1': 0.8172686548116617, 'w2': 0.7753702917884865}. Best is trial 495 with value: 0.7050744295120239.\n"
     ]
    },
    {
     "name": "stdout",
     "output_type": "stream",
     "text": [
      "{'w1': 0.8172686548116617, 'w2': 0.7753702917884865, 'threshold': 0.62}\n"
     ]
    },
    {
     "name": "stderr",
     "output_type": "stream",
     "text": [
      "[I 2023-06-22 15:58:04,189] Trial 1118 finished with value: 0.7049753665924072 and parameters: {'w1': 0.8039159888849836, 'w2': 0.7668732155906974}. Best is trial 495 with value: 0.7050744295120239.\n"
     ]
    },
    {
     "name": "stdout",
     "output_type": "stream",
     "text": [
      "{'w1': 0.8039159888849836, 'w2': 0.7668732155906974, 'threshold': 0.62}\n"
     ]
    },
    {
     "name": "stderr",
     "output_type": "stream",
     "text": [
      "[I 2023-06-22 15:58:06,382] Trial 1119 finished with value: 0.7047563195228577 and parameters: {'w1': 0.8075389940069564, 'w2': 0.7656115919909708}. Best is trial 495 with value: 0.7050744295120239.\n"
     ]
    },
    {
     "name": "stdout",
     "output_type": "stream",
     "text": [
      "{'w1': 0.8075389940069564, 'w2': 0.7656115919909708, 'threshold': 0.62}\n"
     ]
    },
    {
     "name": "stderr",
     "output_type": "stream",
     "text": [
      "[I 2023-06-22 15:58:08,572] Trial 1120 finished with value: 0.7041769623756409 and parameters: {'w1': 0.8303348124313839, 'w2': 0.7631287659158045}. Best is trial 495 with value: 0.7050744295120239.\n"
     ]
    },
    {
     "name": "stdout",
     "output_type": "stream",
     "text": [
      "{'w1': 0.8303348124313839, 'w2': 0.7631287659158045, 'threshold': 0.62}\n"
     ]
    },
    {
     "name": "stderr",
     "output_type": "stream",
     "text": [
      "[I 2023-06-22 15:58:10,762] Trial 1121 finished with value: 0.7041223049163818 and parameters: {'w1': 0.8029030115940105, 'w2': 0.7884370138957028}. Best is trial 495 with value: 0.7050744295120239.\n"
     ]
    },
    {
     "name": "stdout",
     "output_type": "stream",
     "text": [
      "{'w1': 0.8029030115940105, 'w2': 0.7884370138957028, 'threshold': 0.62}\n"
     ]
    },
    {
     "name": "stderr",
     "output_type": "stream",
     "text": [
      "[I 2023-06-22 15:58:12,957] Trial 1122 finished with value: 0.7040683627128601 and parameters: {'w1': 0.8338713455530059, 'w2': 0.7622326721020283}. Best is trial 495 with value: 0.7050744295120239.\n"
     ]
    },
    {
     "name": "stdout",
     "output_type": "stream",
     "text": [
      "{'w1': 0.8338713455530059, 'w2': 0.7622326721020283, 'threshold': 0.62}\n"
     ]
    },
    {
     "name": "stderr",
     "output_type": "stream",
     "text": [
      "[I 2023-06-22 15:58:15,147] Trial 1123 finished with value: 0.704181969165802 and parameters: {'w1': 0.8148816994324354, 'w2': 0.749091165659142}. Best is trial 495 with value: 0.7050744295120239.\n"
     ]
    },
    {
     "name": "stdout",
     "output_type": "stream",
     "text": [
      "{'w1': 0.8148816994324354, 'w2': 0.749091165659142, 'threshold': 0.62}\n"
     ]
    },
    {
     "name": "stderr",
     "output_type": "stream",
     "text": [
      "[I 2023-06-22 15:58:17,335] Trial 1124 finished with value: 0.7020890116691589 and parameters: {'w1': 0.12213468871854383, 'w2': 0.7854579815261824}. Best is trial 495 with value: 0.7050744295120239.\n"
     ]
    },
    {
     "name": "stdout",
     "output_type": "stream",
     "text": [
      "{'w1': 0.12213468871854383, 'w2': 0.7854579815261824, 'threshold': 0.7}\n"
     ]
    },
    {
     "name": "stderr",
     "output_type": "stream",
     "text": [
      "[I 2023-06-22 15:58:19,524] Trial 1125 finished with value: 0.7036504745483398 and parameters: {'w1': 0.8460141473940931, 'w2': 0.752663925080429}. Best is trial 495 with value: 0.7050744295120239.\n"
     ]
    },
    {
     "name": "stdout",
     "output_type": "stream",
     "text": [
      "{'w1': 0.8460141473940931, 'w2': 0.752663925080429, 'threshold': 0.62}\n"
     ]
    },
    {
     "name": "stderr",
     "output_type": "stream",
     "text": [
      "[I 2023-06-22 15:58:21,714] Trial 1126 finished with value: 0.699664294719696 and parameters: {'w1': 0.7981704491346703, 'w2': 0.2476397171261595}. Best is trial 495 with value: 0.7050744295120239.\n"
     ]
    },
    {
     "name": "stdout",
     "output_type": "stream",
     "text": [
      "{'w1': 0.7981704491346703, 'w2': 0.2476397171261595, 'threshold': 0.56}\n"
     ]
    },
    {
     "name": "stderr",
     "output_type": "stream",
     "text": [
      "[I 2023-06-22 15:58:23,903] Trial 1127 finished with value: 0.7042096257209778 and parameters: {'w1': 0.8469382088815092, 'w2': 0.7800970432833698}. Best is trial 495 with value: 0.7050744295120239.\n"
     ]
    },
    {
     "name": "stdout",
     "output_type": "stream",
     "text": [
      "{'w1': 0.8469382088815092, 'w2': 0.7800970432833698, 'threshold': 0.62}\n"
     ]
    },
    {
     "name": "stderr",
     "output_type": "stream",
     "text": [
      "[I 2023-06-22 15:58:26,096] Trial 1128 finished with value: 0.7041919231414795 and parameters: {'w1': 0.8171245129517344, 'w2': 0.7957609283780025}. Best is trial 495 with value: 0.7050744295120239.\n"
     ]
    },
    {
     "name": "stdout",
     "output_type": "stream",
     "text": [
      "{'w1': 0.8171245129517344, 'w2': 0.7957609283780025, 'threshold': 0.62}\n"
     ]
    },
    {
     "name": "stderr",
     "output_type": "stream",
     "text": [
      "[I 2023-06-22 15:58:28,287] Trial 1129 finished with value: 0.7011395692825317 and parameters: {'w1': 0.792233022933005, 'w2': 0.35925525997531477}. Best is trial 495 with value: 0.7050744295120239.\n"
     ]
    },
    {
     "name": "stdout",
     "output_type": "stream",
     "text": [
      "{'w1': 0.792233022933005, 'w2': 0.35925525997531477, 'threshold': 0.58}\n"
     ]
    },
    {
     "name": "stderr",
     "output_type": "stream",
     "text": [
      "[I 2023-06-22 15:58:30,476] Trial 1130 finished with value: 0.7041998505592346 and parameters: {'w1': 0.7895909324989385, 'w2': 0.7688182379667821}. Best is trial 495 with value: 0.7050744295120239.\n"
     ]
    },
    {
     "name": "stdout",
     "output_type": "stream",
     "text": [
      "{'w1': 0.7895909324989385, 'w2': 0.7688182379667821, 'threshold': 0.62}\n"
     ]
    },
    {
     "name": "stderr",
     "output_type": "stream",
     "text": [
      "[I 2023-06-22 15:58:32,665] Trial 1131 finished with value: 0.7011016607284546 and parameters: {'w1': 0.004097084031908782, 'w2': 0.735133676832918}. Best is trial 495 with value: 0.7050744295120239.\n"
     ]
    },
    {
     "name": "stdout",
     "output_type": "stream",
     "text": [
      "{'w1': 0.004097084031908782, 'w2': 0.735133676832918, 'threshold': 0.69}\n"
     ]
    },
    {
     "name": "stderr",
     "output_type": "stream",
     "text": [
      "[I 2023-06-22 15:58:34,854] Trial 1132 finished with value: 0.7040707468986511 and parameters: {'w1': 0.8209799033954552, 'w2': 0.750709715149824}. Best is trial 495 with value: 0.7050744295120239.\n"
     ]
    },
    {
     "name": "stdout",
     "output_type": "stream",
     "text": [
      "{'w1': 0.8209799033954552, 'w2': 0.750709715149824, 'threshold': 0.62}\n"
     ]
    },
    {
     "name": "stderr",
     "output_type": "stream",
     "text": [
      "[I 2023-06-22 15:58:37,055] Trial 1133 finished with value: 0.7047845125198364 and parameters: {'w1': 0.8395997060938769, 'w2': 0.7969380495595837}. Best is trial 495 with value: 0.7050744295120239.\n"
     ]
    },
    {
     "name": "stdout",
     "output_type": "stream",
     "text": [
      "{'w1': 0.8395997060938769, 'w2': 0.7969380495595837, 'threshold': 0.62}\n"
     ]
    },
    {
     "name": "stderr",
     "output_type": "stream",
     "text": [
      "[I 2023-06-22 15:58:39,258] Trial 1134 finished with value: 0.7014802694320679 and parameters: {'w1': 0.8028495939115201, 'w2': 0.46843661899318334}. Best is trial 495 with value: 0.7050744295120239.\n"
     ]
    },
    {
     "name": "stdout",
     "output_type": "stream",
     "text": [
      "{'w1': 0.8028495939115201, 'w2': 0.46843661899318334, 'threshold': 0.59}\n"
     ]
    },
    {
     "name": "stderr",
     "output_type": "stream",
     "text": [
      "[I 2023-06-22 15:58:41,464] Trial 1135 finished with value: 0.7027102112770081 and parameters: {'w1': 0.3235267599138078, 'w2': 0.7266165096170708}. Best is trial 495 with value: 0.7050744295120239.\n"
     ]
    },
    {
     "name": "stdout",
     "output_type": "stream",
     "text": [
      "{'w1': 0.3235267599138078, 'w2': 0.7266165096170708, 'threshold': 0.66}\n"
     ]
    },
    {
     "name": "stderr",
     "output_type": "stream",
     "text": [
      "[I 2023-06-22 15:58:43,656] Trial 1136 finished with value: 0.7041916251182556 and parameters: {'w1': 0.7899164708325791, 'w2': 0.7693214041428973}. Best is trial 495 with value: 0.7050744295120239.\n"
     ]
    },
    {
     "name": "stdout",
     "output_type": "stream",
     "text": [
      "{'w1': 0.7899164708325791, 'w2': 0.7693214041428973, 'threshold': 0.62}\n"
     ]
    },
    {
     "name": "stderr",
     "output_type": "stream",
     "text": [
      "[I 2023-06-22 15:58:45,860] Trial 1137 finished with value: 0.6966286897659302 and parameters: {'w1': 0.818780739104786, 'w2': 0.032086893169409936}. Best is trial 495 with value: 0.7050744295120239.\n"
     ]
    },
    {
     "name": "stdout",
     "output_type": "stream",
     "text": [
      "{'w1': 0.818780739104786, 'w2': 0.032086893169409936, 'threshold': 0.6}\n"
     ]
    },
    {
     "name": "stderr",
     "output_type": "stream",
     "text": [
      "[I 2023-06-22 15:58:48,049] Trial 1138 finished with value: 0.7035186886787415 and parameters: {'w1': 0.8432284321450852, 'w2': 0.7425319544466618}. Best is trial 495 with value: 0.7050744295120239.\n"
     ]
    },
    {
     "name": "stdout",
     "output_type": "stream",
     "text": [
      "{'w1': 0.8432284321450852, 'w2': 0.7425319544466618, 'threshold': 0.62}\n"
     ]
    },
    {
     "name": "stderr",
     "output_type": "stream",
     "text": [
      "[I 2023-06-22 15:58:50,238] Trial 1139 finished with value: 0.7017807960510254 and parameters: {'w1': 0.07457056393209638, 'w2': 0.7722488991365702}. Best is trial 495 with value: 0.7050744295120239.\n"
     ]
    },
    {
     "name": "stdout",
     "output_type": "stream",
     "text": [
      "{'w1': 0.07457056393209638, 'w2': 0.7722488991365702, 'threshold': 0.71}\n"
     ]
    },
    {
     "name": "stderr",
     "output_type": "stream",
     "text": [
      "[I 2023-06-22 15:58:52,427] Trial 1140 finished with value: 0.7022572159767151 and parameters: {'w1': 0.780105589797534, 'w2': 0.5060879669309787}. Best is trial 495 with value: 0.7050744295120239.\n"
     ]
    },
    {
     "name": "stdout",
     "output_type": "stream",
     "text": [
      "{'w1': 0.780105589797534, 'w2': 0.5060879669309787, 'threshold': 0.6}\n"
     ]
    },
    {
     "name": "stderr",
     "output_type": "stream",
     "text": [
      "[I 2023-06-22 15:58:54,616] Trial 1141 finished with value: 0.7040344476699829 and parameters: {'w1': 0.8051980714045964, 'w2': 0.8081469886947178}. Best is trial 495 with value: 0.7050744295120239.\n"
     ]
    },
    {
     "name": "stdout",
     "output_type": "stream",
     "text": [
      "{'w1': 0.8051980714045964, 'w2': 0.8081469886947178, 'threshold': 0.62}\n"
     ]
    },
    {
     "name": "stderr",
     "output_type": "stream",
     "text": [
      "[I 2023-06-22 15:58:56,806] Trial 1142 finished with value: 0.7043184041976929 and parameters: {'w1': 0.77709654250478, 'w2': 0.7189567819819305}. Best is trial 495 with value: 0.7050744295120239.\n"
     ]
    },
    {
     "name": "stdout",
     "output_type": "stream",
     "text": [
      "{'w1': 0.77709654250478, 'w2': 0.7189567819819305, 'threshold': 0.62}\n"
     ]
    },
    {
     "name": "stderr",
     "output_type": "stream",
     "text": [
      "[I 2023-06-22 15:58:58,996] Trial 1143 finished with value: 0.7035529613494873 and parameters: {'w1': 0.8569474416347158, 'w2': 0.756395431809236}. Best is trial 495 with value: 0.7050744295120239.\n"
     ]
    },
    {
     "name": "stdout",
     "output_type": "stream",
     "text": [
      "{'w1': 0.8569474416347158, 'w2': 0.756395431809236, 'threshold': 0.62}\n"
     ]
    },
    {
     "name": "stderr",
     "output_type": "stream",
     "text": [
      "[I 2023-06-22 15:59:01,187] Trial 1144 finished with value: 0.7047918438911438 and parameters: {'w1': 0.8282094319643317, 'w2': 0.7864625555518314}. Best is trial 495 with value: 0.7050744295120239.\n"
     ]
    },
    {
     "name": "stdout",
     "output_type": "stream",
     "text": [
      "{'w1': 0.8282094319643317, 'w2': 0.7864625555518314, 'threshold': 0.62}\n"
     ]
    },
    {
     "name": "stderr",
     "output_type": "stream",
     "text": [
      "[I 2023-06-22 15:59:03,377] Trial 1145 finished with value: 0.7041239142417908 and parameters: {'w1': 0.8048199106453714, 'w2': 0.7377976805036189}. Best is trial 495 with value: 0.7050744295120239.\n"
     ]
    },
    {
     "name": "stdout",
     "output_type": "stream",
     "text": [
      "{'w1': 0.8048199106453714, 'w2': 0.7377976805036189, 'threshold': 0.62}\n"
     ]
    },
    {
     "name": "stderr",
     "output_type": "stream",
     "text": [
      "[I 2023-06-22 15:59:05,567] Trial 1146 finished with value: 0.7028627991676331 and parameters: {'w1': 0.29385500980444373, 'w2': 0.7670943383106397}. Best is trial 495 with value: 0.7050744295120239.\n"
     ]
    },
    {
     "name": "stdout",
     "output_type": "stream",
     "text": [
      "{'w1': 0.29385500980444373, 'w2': 0.7670943383106397, 'threshold': 0.67}\n"
     ]
    },
    {
     "name": "stderr",
     "output_type": "stream",
     "text": [
      "[I 2023-06-22 15:59:07,757] Trial 1147 finished with value: 0.7040294408798218 and parameters: {'w1': 0.7874552454853756, 'w2': 0.7985187296677397}. Best is trial 495 with value: 0.7050744295120239.\n"
     ]
    },
    {
     "name": "stdout",
     "output_type": "stream",
     "text": [
      "{'w1': 0.7874552454853756, 'w2': 0.7985187296677397, 'threshold': 0.62}\n"
     ]
    },
    {
     "name": "stderr",
     "output_type": "stream",
     "text": [
      "[I 2023-06-22 15:59:09,948] Trial 1148 finished with value: 0.6985985636711121 and parameters: {'w1': 0.8581741363499661, 'w2': 0.22126113277628934}. Best is trial 495 with value: 0.7050744295120239.\n"
     ]
    },
    {
     "name": "stdout",
     "output_type": "stream",
     "text": [
      "{'w1': 0.8581741363499661, 'w2': 0.22126113277628934, 'threshold': 0.59}\n"
     ]
    },
    {
     "name": "stderr",
     "output_type": "stream",
     "text": [
      "[I 2023-06-22 15:59:12,138] Trial 1149 finished with value: 0.6987513303756714 and parameters: {'w1': 0.8145292382143801, 'w2': 0.22052546854867117}. Best is trial 495 with value: 0.7050744295120239.\n"
     ]
    },
    {
     "name": "stdout",
     "output_type": "stream",
     "text": [
      "{'w1': 0.8145292382143801, 'w2': 0.22052546854867117, 'threshold': 0.56}\n"
     ]
    },
    {
     "name": "stderr",
     "output_type": "stream",
     "text": [
      "[I 2023-06-22 15:59:14,327] Trial 1150 finished with value: 0.6974998116493225 and parameters: {'w1': 0.779518978954488, 'w2': 0.10409639702253692}. Best is trial 495 with value: 0.7050744295120239.\n"
     ]
    },
    {
     "name": "stdout",
     "output_type": "stream",
     "text": [
      "{'w1': 0.779518978954488, 'w2': 0.10409639702253692, 'threshold': 0.6}\n"
     ]
    },
    {
     "name": "stderr",
     "output_type": "stream",
     "text": [
      "[I 2023-06-22 15:59:16,518] Trial 1151 finished with value: 0.7032814621925354 and parameters: {'w1': 0.8327170380597099, 'w2': 0.7164362969743533}. Best is trial 495 with value: 0.7050744295120239.\n"
     ]
    },
    {
     "name": "stdout",
     "output_type": "stream",
     "text": [
      "{'w1': 0.8327170380597099, 'w2': 0.7164362969743533, 'threshold': 0.62}\n"
     ]
    },
    {
     "name": "stderr",
     "output_type": "stream",
     "text": [
      "[I 2023-06-22 15:59:18,712] Trial 1152 finished with value: 0.7036398649215698 and parameters: {'w1': 0.45479652974402224, 'w2': 0.749094770797689}. Best is trial 495 with value: 0.7050744295120239.\n"
     ]
    },
    {
     "name": "stdout",
     "output_type": "stream",
     "text": [
      "{'w1': 0.45479652974402224, 'w2': 0.749094770797689, 'threshold': 0.65}\n"
     ]
    },
    {
     "name": "stderr",
     "output_type": "stream",
     "text": [
      "[I 2023-06-22 15:59:20,909] Trial 1153 finished with value: 0.7041482925415039 and parameters: {'w1': 0.7953703861931002, 'w2': 0.7776653549934212}. Best is trial 495 with value: 0.7050744295120239.\n"
     ]
    },
    {
     "name": "stdout",
     "output_type": "stream",
     "text": [
      "{'w1': 0.7953703861931002, 'w2': 0.7776653549934212, 'threshold': 0.62}\n"
     ]
    },
    {
     "name": "stderr",
     "output_type": "stream",
     "text": [
      "[I 2023-06-22 15:59:23,098] Trial 1154 finished with value: 0.7036278247833252 and parameters: {'w1': 0.821461885503901, 'w2': 0.7295661464270853}. Best is trial 495 with value: 0.7050744295120239.\n"
     ]
    },
    {
     "name": "stdout",
     "output_type": "stream",
     "text": [
      "{'w1': 0.821461885503901, 'w2': 0.7295661464270853, 'threshold': 0.62}\n"
     ]
    },
    {
     "name": "stderr",
     "output_type": "stream",
     "text": [
      "[I 2023-06-22 15:59:25,288] Trial 1155 finished with value: 0.7050597667694092 and parameters: {'w1': 0.8465906132090876, 'w2': 0.8091969314370269}. Best is trial 495 with value: 0.7050744295120239.\n"
     ]
    },
    {
     "name": "stdout",
     "output_type": "stream",
     "text": [
      "{'w1': 0.8465906132090876, 'w2': 0.8091969314370269, 'threshold': 0.62}\n"
     ]
    },
    {
     "name": "stderr",
     "output_type": "stream",
     "text": [
      "[I 2023-06-22 15:59:27,477] Trial 1156 finished with value: 0.7009645700454712 and parameters: {'w1': 0.8550445604982169, 'w2': 0.4281310534942398}. Best is trial 495 with value: 0.7050744295120239.\n"
     ]
    },
    {
     "name": "stdout",
     "output_type": "stream",
     "text": [
      "{'w1': 0.8550445604982169, 'w2': 0.4281310534942398, 'threshold': 0.59}\n"
     ]
    },
    {
     "name": "stderr",
     "output_type": "stream",
     "text": [
      "[I 2023-06-22 15:59:29,668] Trial 1157 finished with value: 0.7038592100143433 and parameters: {'w1': 0.8415013329973738, 'w2': 0.7593402572369746}. Best is trial 495 with value: 0.7050744295120239.\n"
     ]
    },
    {
     "name": "stdout",
     "output_type": "stream",
     "text": [
      "{'w1': 0.8415013329973738, 'w2': 0.7593402572369746, 'threshold': 0.62}\n"
     ]
    },
    {
     "name": "stderr",
     "output_type": "stream",
     "text": [
      "[I 2023-06-22 15:59:31,858] Trial 1158 finished with value: 0.7043148279190063 and parameters: {'w1': 0.8591904028986947, 'w2': 0.7952442840464011}. Best is trial 495 with value: 0.7050744295120239.\n"
     ]
    },
    {
     "name": "stdout",
     "output_type": "stream",
     "text": [
      "{'w1': 0.8591904028986947, 'w2': 0.7952442840464011, 'threshold': 0.62}\n"
     ]
    },
    {
     "name": "stderr",
     "output_type": "stream",
     "text": [
      "[I 2023-06-22 15:59:34,048] Trial 1159 finished with value: 0.7031295895576477 and parameters: {'w1': 0.8722927784401174, 'w2': 0.7373443247912702}. Best is trial 495 with value: 0.7050744295120239.\n"
     ]
    },
    {
     "name": "stdout",
     "output_type": "stream",
     "text": [
      "{'w1': 0.8722927784401174, 'w2': 0.7373443247912702, 'threshold': 0.62}\n"
     ]
    },
    {
     "name": "stderr",
     "output_type": "stream",
     "text": [
      "[I 2023-06-22 15:59:36,238] Trial 1160 finished with value: 0.7031373381614685 and parameters: {'w1': 0.8379281360364875, 'w2': 0.7091769161943046}. Best is trial 495 with value: 0.7050744295120239.\n"
     ]
    },
    {
     "name": "stdout",
     "output_type": "stream",
     "text": [
      "{'w1': 0.8379281360364875, 'w2': 0.7091769161943046, 'threshold': 0.62}\n"
     ]
    },
    {
     "name": "stderr",
     "output_type": "stream",
     "text": [
      "[I 2023-06-22 15:59:38,609] Trial 1161 finished with value: 0.702974259853363 and parameters: {'w1': 0.8160908019083029, 'w2': 0.6734458047304059}. Best is trial 495 with value: 0.7050744295120239.\n"
     ]
    },
    {
     "name": "stdout",
     "output_type": "stream",
     "text": [
      "{'w1': 0.8160908019083029, 'w2': 0.6734458047304059, 'threshold': 0.61}\n"
     ]
    },
    {
     "name": "stderr",
     "output_type": "stream",
     "text": [
      "[I 2023-06-22 15:59:40,800] Trial 1162 finished with value: 0.7043145298957825 and parameters: {'w1': 0.7969683529061689, 'w2': 0.7703147176672444}. Best is trial 495 with value: 0.7050744295120239.\n"
     ]
    },
    {
     "name": "stdout",
     "output_type": "stream",
     "text": [
      "{'w1': 0.7969683529061689, 'w2': 0.7703147176672444, 'threshold': 0.62}\n"
     ]
    },
    {
     "name": "stderr",
     "output_type": "stream",
     "text": [
      "[I 2023-06-22 15:59:42,990] Trial 1163 finished with value: 0.7016242742538452 and parameters: {'w1': 0.8364498681285887, 'w2': 0.4509146854852531}. Best is trial 495 with value: 0.7050744295120239.\n"
     ]
    },
    {
     "name": "stdout",
     "output_type": "stream",
     "text": [
      "{'w1': 0.8364498681285887, 'w2': 0.4509146854852531, 'threshold': 0.59}\n"
     ]
    },
    {
     "name": "stderr",
     "output_type": "stream",
     "text": [
      "[I 2023-06-22 15:59:45,180] Trial 1164 finished with value: 0.7045544981956482 and parameters: {'w1': 0.8617895397747498, 'w2': 0.8087288277113795}. Best is trial 495 with value: 0.7050744295120239.\n"
     ]
    },
    {
     "name": "stdout",
     "output_type": "stream",
     "text": [
      "{'w1': 0.8617895397747498, 'w2': 0.8087288277113795, 'threshold': 0.62}\n"
     ]
    },
    {
     "name": "stderr",
     "output_type": "stream",
     "text": [
      "[I 2023-06-22 15:59:47,370] Trial 1165 finished with value: 0.704547643661499 and parameters: {'w1': 0.8130892517132684, 'w2': 0.9250258943103065}. Best is trial 495 with value: 0.7050744295120239.\n"
     ]
    },
    {
     "name": "stdout",
     "output_type": "stream",
     "text": [
      "{'w1': 0.8130892517132684, 'w2': 0.9250258943103065, 'threshold': 0.63}\n"
     ]
    },
    {
     "name": "stderr",
     "output_type": "stream",
     "text": [
      "[I 2023-06-22 15:59:49,559] Trial 1166 finished with value: 0.7010477781295776 and parameters: {'w1': 0.777626760437083, 'w2': 0.37158521921340476}. Best is trial 495 with value: 0.7050744295120239.\n"
     ]
    },
    {
     "name": "stdout",
     "output_type": "stream",
     "text": [
      "{'w1': 0.777626760437083, 'w2': 0.37158521921340476, 'threshold': 0.58}\n"
     ]
    },
    {
     "name": "stderr",
     "output_type": "stream",
     "text": [
      "[I 2023-06-22 15:59:51,751] Trial 1167 finished with value: 0.6997188925743103 and parameters: {'w1': 0.8199921629523373, 'w2': 0.28389658596296563}. Best is trial 495 with value: 0.7050744295120239.\n"
     ]
    },
    {
     "name": "stdout",
     "output_type": "stream",
     "text": [
      "{'w1': 0.8199921629523373, 'w2': 0.28389658596296563, 'threshold': 0.57}\n"
     ]
    },
    {
     "name": "stderr",
     "output_type": "stream",
     "text": [
      "[I 2023-06-22 15:59:53,951] Trial 1168 finished with value: 0.704409122467041 and parameters: {'w1': 0.8006853497726478, 'w2': 0.7439281489933512}. Best is trial 495 with value: 0.7050744295120239.\n"
     ]
    },
    {
     "name": "stdout",
     "output_type": "stream",
     "text": [
      "{'w1': 0.8006853497726478, 'w2': 0.7439281489933512, 'threshold': 0.62}\n"
     ]
    },
    {
     "name": "stderr",
     "output_type": "stream",
     "text": [
      "[I 2023-06-22 15:59:56,156] Trial 1169 finished with value: 0.7043986916542053 and parameters: {'w1': 0.8463881079289114, 'w2': 0.7861260941535446}. Best is trial 495 with value: 0.7050744295120239.\n"
     ]
    },
    {
     "name": "stdout",
     "output_type": "stream",
     "text": [
      "{'w1': 0.8463881079289114, 'w2': 0.7861260941535446, 'threshold': 0.62}\n"
     ]
    },
    {
     "name": "stderr",
     "output_type": "stream",
     "text": [
      "[I 2023-06-22 15:59:58,366] Trial 1170 finished with value: 0.6981479525566101 and parameters: {'w1': 0.7724059410002619, 'w2': 0.1578930780687927}. Best is trial 495 with value: 0.7050744295120239.\n"
     ]
    },
    {
     "name": "stdout",
     "output_type": "stream",
     "text": [
      "{'w1': 0.7724059410002619, 'w2': 0.1578930780687927, 'threshold': 0.59}\n"
     ]
    },
    {
     "name": "stderr",
     "output_type": "stream",
     "text": [
      "[I 2023-06-22 16:00:00,570] Trial 1171 finished with value: 0.7036421895027161 and parameters: {'w1': 0.519333107170537, 'w2': 0.7235206437682592}. Best is trial 495 with value: 0.7050744295120239.\n"
     ]
    },
    {
     "name": "stdout",
     "output_type": "stream",
     "text": [
      "{'w1': 0.519333107170537, 'w2': 0.7235206437682592, 'threshold': 0.64}\n"
     ]
    },
    {
     "name": "stderr",
     "output_type": "stream",
     "text": [
      "[I 2023-06-22 16:00:02,770] Trial 1172 finished with value: 0.6964467167854309 and parameters: {'w1': 0.831159553207549, 'w2': 0.01626525716405003}. Best is trial 495 with value: 0.7050744295120239.\n"
     ]
    },
    {
     "name": "stdout",
     "output_type": "stream",
     "text": [
      "{'w1': 0.831159553207549, 'w2': 0.01626525716405003, 'threshold': 0.61}\n"
     ]
    },
    {
     "name": "stderr",
     "output_type": "stream",
     "text": [
      "[I 2023-06-22 16:00:04,961] Trial 1173 finished with value: 0.7011774182319641 and parameters: {'w1': 0.8754395067274889, 'w2': 0.39906011374870953}. Best is trial 495 with value: 0.7050744295120239.\n"
     ]
    },
    {
     "name": "stdout",
     "output_type": "stream",
     "text": [
      "{'w1': 0.8754395067274889, 'w2': 0.39906011374870953, 'threshold': 0.58}\n"
     ]
    },
    {
     "name": "stderr",
     "output_type": "stream",
     "text": [
      "[I 2023-06-22 16:00:07,152] Trial 1174 finished with value: 0.7015711665153503 and parameters: {'w1': 0.7937394929383975, 'w2': 0.48193835532863816}. Best is trial 495 with value: 0.7050744295120239.\n"
     ]
    },
    {
     "name": "stdout",
     "output_type": "stream",
     "text": [
      "{'w1': 0.7937394929383975, 'w2': 0.48193835532863816, 'threshold': 0.6}\n"
     ]
    },
    {
     "name": "stderr",
     "output_type": "stream",
     "text": [
      "[I 2023-06-22 16:00:09,343] Trial 1175 finished with value: 0.7046283483505249 and parameters: {'w1': 0.8012273051490414, 'w2': 0.7547599589298442}. Best is trial 495 with value: 0.7050744295120239.\n"
     ]
    },
    {
     "name": "stdout",
     "output_type": "stream",
     "text": [
      "{'w1': 0.8012273051490414, 'w2': 0.7547599589298442, 'threshold': 0.62}\n"
     ]
    },
    {
     "name": "stderr",
     "output_type": "stream",
     "text": [
      "[I 2023-06-22 16:00:11,536] Trial 1176 finished with value: 0.7008079886436462 and parameters: {'w1': 0.7698441411517076, 'w2': 0.33998217114857293}. Best is trial 495 with value: 0.7050744295120239.\n"
     ]
    },
    {
     "name": "stdout",
     "output_type": "stream",
     "text": [
      "{'w1': 0.7698441411517076, 'w2': 0.33998217114857293, 'threshold': 0.58}\n"
     ]
    },
    {
     "name": "stderr",
     "output_type": "stream",
     "text": [
      "[I 2023-06-22 16:00:13,733] Trial 1177 finished with value: 0.7023135423660278 and parameters: {'w1': 0.8238499436620675, 'w2': 0.5356211288706104}. Best is trial 495 with value: 0.7050744295120239.\n"
     ]
    },
    {
     "name": "stdout",
     "output_type": "stream",
     "text": [
      "{'w1': 0.8238499436620675, 'w2': 0.5356211288706104, 'threshold': 0.6}\n"
     ]
    },
    {
     "name": "stderr",
     "output_type": "stream",
     "text": [
      "[I 2023-06-22 16:00:15,928] Trial 1178 finished with value: 0.7038567662239075 and parameters: {'w1': 0.8528735678471371, 'w2': 0.7691979164423693}. Best is trial 495 with value: 0.7050744295120239.\n"
     ]
    },
    {
     "name": "stdout",
     "output_type": "stream",
     "text": [
      "{'w1': 0.8528735678471371, 'w2': 0.7691979164423693, 'threshold': 0.62}\n"
     ]
    },
    {
     "name": "stderr",
     "output_type": "stream",
     "text": [
      "[I 2023-06-22 16:00:18,135] Trial 1179 finished with value: 0.6983084678649902 and parameters: {'w1': 0.9035223649954317, 'w2': 0.20072425426978657}. Best is trial 495 with value: 0.7050744295120239.\n"
     ]
    },
    {
     "name": "stdout",
     "output_type": "stream",
     "text": [
      "{'w1': 0.9035223649954317, 'w2': 0.20072425426978657, 'threshold': 0.59}\n"
     ]
    },
    {
     "name": "stderr",
     "output_type": "stream",
     "text": [
      "[I 2023-06-22 16:00:20,333] Trial 1180 finished with value: 0.7039960026741028 and parameters: {'w1': 0.8041507654749479, 'w2': 0.8262172757168846}. Best is trial 495 with value: 0.7050744295120239.\n"
     ]
    },
    {
     "name": "stdout",
     "output_type": "stream",
     "text": [
      "{'w1': 0.8041507654749479, 'w2': 0.8262172757168846, 'threshold': 0.62}\n"
     ]
    },
    {
     "name": "stderr",
     "output_type": "stream",
     "text": [
      "[I 2023-06-22 16:00:22,524] Trial 1181 finished with value: 0.7035883069038391 and parameters: {'w1': 0.780693270385439, 'w2': 0.6910422877104913}. Best is trial 495 with value: 0.7050744295120239.\n"
     ]
    },
    {
     "name": "stdout",
     "output_type": "stream",
     "text": [
      "{'w1': 0.780693270385439, 'w2': 0.6910422877104913, 'threshold': 0.62}\n"
     ]
    },
    {
     "name": "stderr",
     "output_type": "stream",
     "text": [
      "[I 2023-06-22 16:00:24,716] Trial 1182 finished with value: 0.6979973912239075 and parameters: {'w1': 0.938034877575763, 'w2': 0.17780908077694668}. Best is trial 495 with value: 0.7050744295120239.\n"
     ]
    },
    {
     "name": "stdout",
     "output_type": "stream",
     "text": [
      "{'w1': 0.938034877575763, 'w2': 0.17780908077694668, 'threshold': 0.59}\n"
     ]
    },
    {
     "name": "stderr",
     "output_type": "stream",
     "text": [
      "[I 2023-06-22 16:00:26,919] Trial 1183 finished with value: 0.7037675976753235 and parameters: {'w1': 0.8762728421160728, 'w2': 0.7863228771336537}. Best is trial 495 with value: 0.7050744295120239.\n"
     ]
    },
    {
     "name": "stdout",
     "output_type": "stream",
     "text": [
      "{'w1': 0.8762728421160728, 'w2': 0.7863228771336537, 'threshold': 0.62}\n"
     ]
    },
    {
     "name": "stderr",
     "output_type": "stream",
     "text": [
      "[I 2023-06-22 16:00:29,110] Trial 1184 finished with value: 0.7031830549240112 and parameters: {'w1': 0.8401550733787041, 'w2': 0.7156833662515448}. Best is trial 495 with value: 0.7050744295120239.\n"
     ]
    },
    {
     "name": "stdout",
     "output_type": "stream",
     "text": [
      "{'w1': 0.8401550733787041, 'w2': 0.7156833662515448, 'threshold': 0.62}\n"
     ]
    },
    {
     "name": "stderr",
     "output_type": "stream",
     "text": [
      "[W 2023-06-22 16:00:31,024] Trial 1185 failed with parameters: {'w1': 0.7601440754959752, 'w2': 0.8107765958921429} because of the following error: KeyboardInterrupt().\n",
      "Traceback (most recent call last):\n",
      "  File \"/home/rohits/anaconda3/envs/contrail/lib/python3.10/site-packages/optuna/study/_optimize.py\", line 200, in _run_trial\n",
      "    value_or_values = func(trial)\n",
      "  File \"/tmp/ipykernel_1650285/331993901.py\", line 7, in objective\n",
      "    score, best_threshold  = boost_dice(params)\n",
      "  File \"/tmp/ipykernel_1650285/298769755.py\", line 26, in boost_dice\n",
      "    score = dice_coef(model_masks, preds1, thr=threshold).cpu().detach().numpy() # get_score(labels, preds)\n",
      "KeyboardInterrupt\n",
      "[W 2023-06-22 16:00:31,025] Trial 1185 failed with value None.\n"
     ]
    },
    {
     "ename": "KeyboardInterrupt",
     "evalue": "",
     "output_type": "error",
     "traceback": [
      "\u001b[0;31m---------------------------------------------------------------------------\u001b[0m",
      "\u001b[0;31mKeyboardInterrupt\u001b[0m                         Traceback (most recent call last)",
      "Cell \u001b[0;32mIn[94], line 15\u001b[0m\n\u001b[1;32m     12\u001b[0m study \u001b[38;5;241m=\u001b[39m optuna\u001b[38;5;241m.\u001b[39mcreate_study(direction\u001b[38;5;241m=\u001b[39m\u001b[38;5;124m'\u001b[39m\u001b[38;5;124mmaximize\u001b[39m\u001b[38;5;124m'\u001b[39m)\n\u001b[1;32m     13\u001b[0m \u001b[38;5;66;03m# study = optuna.create_study(direction='minimize')\u001b[39;00m\n\u001b[0;32m---> 15\u001b[0m \u001b[43mstudy\u001b[49m\u001b[38;5;241;43m.\u001b[39;49m\u001b[43moptimize\u001b[49m\u001b[43m(\u001b[49m\u001b[43mobjective\u001b[49m\u001b[43m,\u001b[49m\u001b[43m \u001b[49m\u001b[43mn_trials\u001b[49m\u001b[38;5;241;43m=\u001b[39;49m\u001b[38;5;241;43m1500\u001b[39;49m\u001b[43m)\u001b[49m\n\u001b[1;32m     17\u001b[0m best_params \u001b[38;5;241m=\u001b[39m study\u001b[38;5;241m.\u001b[39mbest_params\n\u001b[1;32m     18\u001b[0m best_params\n",
      "File \u001b[0;32m~/anaconda3/envs/contrail/lib/python3.10/site-packages/optuna/study/study.py:443\u001b[0m, in \u001b[0;36mStudy.optimize\u001b[0;34m(self, func, n_trials, timeout, n_jobs, catch, callbacks, gc_after_trial, show_progress_bar)\u001b[0m\n\u001b[1;32m    339\u001b[0m \u001b[38;5;28;01mdef\u001b[39;00m \u001b[38;5;21moptimize\u001b[39m(\n\u001b[1;32m    340\u001b[0m     \u001b[38;5;28mself\u001b[39m,\n\u001b[1;32m    341\u001b[0m     func: ObjectiveFuncType,\n\u001b[0;32m   (...)\u001b[0m\n\u001b[1;32m    348\u001b[0m     show_progress_bar: \u001b[38;5;28mbool\u001b[39m \u001b[38;5;241m=\u001b[39m \u001b[38;5;28;01mFalse\u001b[39;00m,\n\u001b[1;32m    349\u001b[0m ) \u001b[38;5;241m-\u001b[39m\u001b[38;5;241m>\u001b[39m \u001b[38;5;28;01mNone\u001b[39;00m:\n\u001b[1;32m    350\u001b[0m \u001b[38;5;250m    \u001b[39m\u001b[38;5;124;03m\"\"\"Optimize an objective function.\u001b[39;00m\n\u001b[1;32m    351\u001b[0m \n\u001b[1;32m    352\u001b[0m \u001b[38;5;124;03m    Optimization is done by choosing a suitable set of hyperparameter values from a given\u001b[39;00m\n\u001b[0;32m   (...)\u001b[0m\n\u001b[1;32m    440\u001b[0m \u001b[38;5;124;03m            If nested invocation of this method occurs.\u001b[39;00m\n\u001b[1;32m    441\u001b[0m \u001b[38;5;124;03m    \"\"\"\u001b[39;00m\n\u001b[0;32m--> 443\u001b[0m     \u001b[43m_optimize\u001b[49m\u001b[43m(\u001b[49m\n\u001b[1;32m    444\u001b[0m \u001b[43m        \u001b[49m\u001b[43mstudy\u001b[49m\u001b[38;5;241;43m=\u001b[39;49m\u001b[38;5;28;43mself\u001b[39;49m\u001b[43m,\u001b[49m\n\u001b[1;32m    445\u001b[0m \u001b[43m        \u001b[49m\u001b[43mfunc\u001b[49m\u001b[38;5;241;43m=\u001b[39;49m\u001b[43mfunc\u001b[49m\u001b[43m,\u001b[49m\n\u001b[1;32m    446\u001b[0m \u001b[43m        \u001b[49m\u001b[43mn_trials\u001b[49m\u001b[38;5;241;43m=\u001b[39;49m\u001b[43mn_trials\u001b[49m\u001b[43m,\u001b[49m\n\u001b[1;32m    447\u001b[0m \u001b[43m        \u001b[49m\u001b[43mtimeout\u001b[49m\u001b[38;5;241;43m=\u001b[39;49m\u001b[43mtimeout\u001b[49m\u001b[43m,\u001b[49m\n\u001b[1;32m    448\u001b[0m \u001b[43m        \u001b[49m\u001b[43mn_jobs\u001b[49m\u001b[38;5;241;43m=\u001b[39;49m\u001b[43mn_jobs\u001b[49m\u001b[43m,\u001b[49m\n\u001b[1;32m    449\u001b[0m \u001b[43m        \u001b[49m\u001b[43mcatch\u001b[49m\u001b[38;5;241;43m=\u001b[39;49m\u001b[38;5;28;43mtuple\u001b[39;49m\u001b[43m(\u001b[49m\u001b[43mcatch\u001b[49m\u001b[43m)\u001b[49m\u001b[43m \u001b[49m\u001b[38;5;28;43;01mif\u001b[39;49;00m\u001b[43m \u001b[49m\u001b[38;5;28;43misinstance\u001b[39;49m\u001b[43m(\u001b[49m\u001b[43mcatch\u001b[49m\u001b[43m,\u001b[49m\u001b[43m \u001b[49m\u001b[43mIterable\u001b[49m\u001b[43m)\u001b[49m\u001b[43m \u001b[49m\u001b[38;5;28;43;01melse\u001b[39;49;00m\u001b[43m \u001b[49m\u001b[43m(\u001b[49m\u001b[43mcatch\u001b[49m\u001b[43m,\u001b[49m\u001b[43m)\u001b[49m\u001b[43m,\u001b[49m\n\u001b[1;32m    450\u001b[0m \u001b[43m        \u001b[49m\u001b[43mcallbacks\u001b[49m\u001b[38;5;241;43m=\u001b[39;49m\u001b[43mcallbacks\u001b[49m\u001b[43m,\u001b[49m\n\u001b[1;32m    451\u001b[0m \u001b[43m        \u001b[49m\u001b[43mgc_after_trial\u001b[49m\u001b[38;5;241;43m=\u001b[39;49m\u001b[43mgc_after_trial\u001b[49m\u001b[43m,\u001b[49m\n\u001b[1;32m    452\u001b[0m \u001b[43m        \u001b[49m\u001b[43mshow_progress_bar\u001b[49m\u001b[38;5;241;43m=\u001b[39;49m\u001b[43mshow_progress_bar\u001b[49m\u001b[43m,\u001b[49m\n\u001b[1;32m    453\u001b[0m \u001b[43m    \u001b[49m\u001b[43m)\u001b[49m\n",
      "File \u001b[0;32m~/anaconda3/envs/contrail/lib/python3.10/site-packages/optuna/study/_optimize.py:66\u001b[0m, in \u001b[0;36m_optimize\u001b[0;34m(study, func, n_trials, timeout, n_jobs, catch, callbacks, gc_after_trial, show_progress_bar)\u001b[0m\n\u001b[1;32m     64\u001b[0m \u001b[38;5;28;01mtry\u001b[39;00m:\n\u001b[1;32m     65\u001b[0m     \u001b[38;5;28;01mif\u001b[39;00m n_jobs \u001b[38;5;241m==\u001b[39m \u001b[38;5;241m1\u001b[39m:\n\u001b[0;32m---> 66\u001b[0m         \u001b[43m_optimize_sequential\u001b[49m\u001b[43m(\u001b[49m\n\u001b[1;32m     67\u001b[0m \u001b[43m            \u001b[49m\u001b[43mstudy\u001b[49m\u001b[43m,\u001b[49m\n\u001b[1;32m     68\u001b[0m \u001b[43m            \u001b[49m\u001b[43mfunc\u001b[49m\u001b[43m,\u001b[49m\n\u001b[1;32m     69\u001b[0m \u001b[43m            \u001b[49m\u001b[43mn_trials\u001b[49m\u001b[43m,\u001b[49m\n\u001b[1;32m     70\u001b[0m \u001b[43m            \u001b[49m\u001b[43mtimeout\u001b[49m\u001b[43m,\u001b[49m\n\u001b[1;32m     71\u001b[0m \u001b[43m            \u001b[49m\u001b[43mcatch\u001b[49m\u001b[43m,\u001b[49m\n\u001b[1;32m     72\u001b[0m \u001b[43m            \u001b[49m\u001b[43mcallbacks\u001b[49m\u001b[43m,\u001b[49m\n\u001b[1;32m     73\u001b[0m \u001b[43m            \u001b[49m\u001b[43mgc_after_trial\u001b[49m\u001b[43m,\u001b[49m\n\u001b[1;32m     74\u001b[0m \u001b[43m            \u001b[49m\u001b[43mreseed_sampler_rng\u001b[49m\u001b[38;5;241;43m=\u001b[39;49m\u001b[38;5;28;43;01mFalse\u001b[39;49;00m\u001b[43m,\u001b[49m\n\u001b[1;32m     75\u001b[0m \u001b[43m            \u001b[49m\u001b[43mtime_start\u001b[49m\u001b[38;5;241;43m=\u001b[39;49m\u001b[38;5;28;43;01mNone\u001b[39;49;00m\u001b[43m,\u001b[49m\n\u001b[1;32m     76\u001b[0m \u001b[43m            \u001b[49m\u001b[43mprogress_bar\u001b[49m\u001b[38;5;241;43m=\u001b[39;49m\u001b[43mprogress_bar\u001b[49m\u001b[43m,\u001b[49m\n\u001b[1;32m     77\u001b[0m \u001b[43m        \u001b[49m\u001b[43m)\u001b[49m\n\u001b[1;32m     78\u001b[0m     \u001b[38;5;28;01melse\u001b[39;00m:\n\u001b[1;32m     79\u001b[0m         \u001b[38;5;28;01mif\u001b[39;00m n_jobs \u001b[38;5;241m==\u001b[39m \u001b[38;5;241m-\u001b[39m\u001b[38;5;241m1\u001b[39m:\n",
      "File \u001b[0;32m~/anaconda3/envs/contrail/lib/python3.10/site-packages/optuna/study/_optimize.py:163\u001b[0m, in \u001b[0;36m_optimize_sequential\u001b[0;34m(study, func, n_trials, timeout, catch, callbacks, gc_after_trial, reseed_sampler_rng, time_start, progress_bar)\u001b[0m\n\u001b[1;32m    160\u001b[0m         \u001b[38;5;28;01mbreak\u001b[39;00m\n\u001b[1;32m    162\u001b[0m \u001b[38;5;28;01mtry\u001b[39;00m:\n\u001b[0;32m--> 163\u001b[0m     frozen_trial \u001b[38;5;241m=\u001b[39m \u001b[43m_run_trial\u001b[49m\u001b[43m(\u001b[49m\u001b[43mstudy\u001b[49m\u001b[43m,\u001b[49m\u001b[43m \u001b[49m\u001b[43mfunc\u001b[49m\u001b[43m,\u001b[49m\u001b[43m \u001b[49m\u001b[43mcatch\u001b[49m\u001b[43m)\u001b[49m\n\u001b[1;32m    164\u001b[0m \u001b[38;5;28;01mfinally\u001b[39;00m:\n\u001b[1;32m    165\u001b[0m     \u001b[38;5;66;03m# The following line mitigates memory problems that can be occurred in some\u001b[39;00m\n\u001b[1;32m    166\u001b[0m     \u001b[38;5;66;03m# environments (e.g., services that use computing containers such as GitHub Actions).\u001b[39;00m\n\u001b[1;32m    167\u001b[0m     \u001b[38;5;66;03m# Please refer to the following PR for further details:\u001b[39;00m\n\u001b[1;32m    168\u001b[0m     \u001b[38;5;66;03m# https://github.com/optuna/optuna/pull/325.\u001b[39;00m\n\u001b[1;32m    169\u001b[0m     \u001b[38;5;28;01mif\u001b[39;00m gc_after_trial:\n",
      "File \u001b[0;32m~/anaconda3/envs/contrail/lib/python3.10/site-packages/optuna/study/_optimize.py:251\u001b[0m, in \u001b[0;36m_run_trial\u001b[0;34m(study, func, catch)\u001b[0m\n\u001b[1;32m    244\u001b[0m         \u001b[38;5;28;01massert\u001b[39;00m \u001b[38;5;28;01mFalse\u001b[39;00m, \u001b[38;5;124m\"\u001b[39m\u001b[38;5;124mShould not reach.\u001b[39m\u001b[38;5;124m\"\u001b[39m\n\u001b[1;32m    246\u001b[0m \u001b[38;5;28;01mif\u001b[39;00m (\n\u001b[1;32m    247\u001b[0m     frozen_trial\u001b[38;5;241m.\u001b[39mstate \u001b[38;5;241m==\u001b[39m TrialState\u001b[38;5;241m.\u001b[39mFAIL\n\u001b[1;32m    248\u001b[0m     \u001b[38;5;129;01mand\u001b[39;00m func_err \u001b[38;5;129;01mis\u001b[39;00m \u001b[38;5;129;01mnot\u001b[39;00m \u001b[38;5;28;01mNone\u001b[39;00m\n\u001b[1;32m    249\u001b[0m     \u001b[38;5;129;01mand\u001b[39;00m \u001b[38;5;129;01mnot\u001b[39;00m \u001b[38;5;28misinstance\u001b[39m(func_err, catch)\n\u001b[1;32m    250\u001b[0m ):\n\u001b[0;32m--> 251\u001b[0m     \u001b[38;5;28;01mraise\u001b[39;00m func_err\n\u001b[1;32m    252\u001b[0m \u001b[38;5;28;01mreturn\u001b[39;00m frozen_trial\n",
      "File \u001b[0;32m~/anaconda3/envs/contrail/lib/python3.10/site-packages/optuna/study/_optimize.py:200\u001b[0m, in \u001b[0;36m_run_trial\u001b[0;34m(study, func, catch)\u001b[0m\n\u001b[1;32m    198\u001b[0m \u001b[38;5;28;01mwith\u001b[39;00m get_heartbeat_thread(trial\u001b[38;5;241m.\u001b[39m_trial_id, study\u001b[38;5;241m.\u001b[39m_storage):\n\u001b[1;32m    199\u001b[0m     \u001b[38;5;28;01mtry\u001b[39;00m:\n\u001b[0;32m--> 200\u001b[0m         value_or_values \u001b[38;5;241m=\u001b[39m \u001b[43mfunc\u001b[49m\u001b[43m(\u001b[49m\u001b[43mtrial\u001b[49m\u001b[43m)\u001b[49m\n\u001b[1;32m    201\u001b[0m     \u001b[38;5;28;01mexcept\u001b[39;00m exceptions\u001b[38;5;241m.\u001b[39mTrialPruned \u001b[38;5;28;01mas\u001b[39;00m e:\n\u001b[1;32m    202\u001b[0m         \u001b[38;5;66;03m# TODO(mamu): Handle multi-objective cases.\u001b[39;00m\n\u001b[1;32m    203\u001b[0m         state \u001b[38;5;241m=\u001b[39m TrialState\u001b[38;5;241m.\u001b[39mPRUNED\n",
      "Cell \u001b[0;32mIn[94], line 7\u001b[0m, in \u001b[0;36mobjective\u001b[0;34m(trial)\u001b[0m\n\u001b[1;32m      3\u001b[0m \u001b[38;5;28;01mfor\u001b[39;00m i \u001b[38;5;129;01min\u001b[39;00m \u001b[38;5;28mrange\u001b[39m(\u001b[38;5;28mlen\u001b[39m(final_preds)):\n\u001b[1;32m      4\u001b[0m     params[\u001b[38;5;124mf\u001b[39m\u001b[38;5;124m\"\u001b[39m\u001b[38;5;124mw\u001b[39m\u001b[38;5;132;01m{\u001b[39;00mi\u001b[38;5;241m+\u001b[39m\u001b[38;5;241m1\u001b[39m\u001b[38;5;132;01m}\u001b[39;00m\u001b[38;5;124m\"\u001b[39m] \u001b[38;5;241m=\u001b[39m trial\u001b[38;5;241m.\u001b[39msuggest_float(\u001b[38;5;124mf\u001b[39m\u001b[38;5;124m'\u001b[39m\u001b[38;5;124mw\u001b[39m\u001b[38;5;132;01m{\u001b[39;00mi\u001b[38;5;241m+\u001b[39m\u001b[38;5;241m1\u001b[39m\u001b[38;5;132;01m}\u001b[39;00m\u001b[38;5;124m'\u001b[39m, \u001b[38;5;241m0\u001b[39m, \u001b[38;5;241m1\u001b[39m)  \n\u001b[0;32m----> 7\u001b[0m score, best_threshold  \u001b[38;5;241m=\u001b[39m \u001b[43mboost_dice\u001b[49m\u001b[43m(\u001b[49m\u001b[43mparams\u001b[49m\u001b[43m)\u001b[49m\n\u001b[1;32m      8\u001b[0m params[\u001b[38;5;124m'\u001b[39m\u001b[38;5;124mthreshold\u001b[39m\u001b[38;5;124m'\u001b[39m] \u001b[38;5;241m=\u001b[39m best_threshold\n\u001b[1;32m      9\u001b[0m \u001b[38;5;28mprint\u001b[39m(params)\n",
      "Cell \u001b[0;32mIn[93], line 26\u001b[0m, in \u001b[0;36mboost_dice\u001b[0;34m(params)\u001b[0m\n\u001b[1;32m     21\u001b[0m     \u001b[38;5;28;01mfor\u001b[39;00m threshold \u001b[38;5;129;01min\u001b[39;00m [i \u001b[38;5;241m/\u001b[39m \u001b[38;5;241m100\u001b[39m \u001b[38;5;28;01mfor\u001b[39;00m i \u001b[38;5;129;01min\u001b[39;00m \u001b[38;5;28mrange\u001b[39m(\u001b[38;5;241m101\u001b[39m)] :\n\u001b[1;32m     22\u001b[0m \u001b[38;5;66;03m#         if threshold < 0.05 and threshold > 0.25:\u001b[39;00m\n\u001b[1;32m     23\u001b[0m \u001b[38;5;66;03m#             continue\u001b[39;00m\n\u001b[1;32m     25\u001b[0m         preds1 \u001b[38;5;241m=\u001b[39m (nn\u001b[38;5;241m.\u001b[39mSigmoid()(preds)\u001b[38;5;241m>\u001b[39mthreshold)\u001b[38;5;241m.\u001b[39mdouble()            \n\u001b[0;32m---> 26\u001b[0m         score \u001b[38;5;241m=\u001b[39m \u001b[43mdice_coef\u001b[49m\u001b[43m(\u001b[49m\u001b[43mmodel_masks\u001b[49m\u001b[43m,\u001b[49m\u001b[43m \u001b[49m\u001b[43mpreds1\u001b[49m\u001b[43m,\u001b[49m\u001b[43m \u001b[49m\u001b[43mthr\u001b[49m\u001b[38;5;241;43m=\u001b[39;49m\u001b[43mthreshold\u001b[49m\u001b[43m)\u001b[49m\u001b[38;5;241;43m.\u001b[39;49m\u001b[43mcpu\u001b[49m\u001b[43m(\u001b[49m\u001b[43m)\u001b[49m\u001b[38;5;241m.\u001b[39mdetach()\u001b[38;5;241m.\u001b[39mnumpy() \u001b[38;5;66;03m# get_score(labels, preds) \u001b[39;00m\n\u001b[1;32m     27\u001b[0m         \u001b[38;5;28;01mif\u001b[39;00m score \u001b[38;5;241m>\u001b[39m best_score:\n\u001b[1;32m     28\u001b[0m             best_score \u001b[38;5;241m=\u001b[39m score\n",
      "\u001b[0;31mKeyboardInterrupt\u001b[0m: "
     ]
    }
   ],
   "source": [
    "def objective(trial):\n",
    "    params = {}    \n",
    "    for i in range(len(final_preds)):\n",
    "        params[f\"w{i+1}\"] = trial.suggest_float(f'w{i+1}', 0, 1)  \n",
    "        \n",
    "        \n",
    "    score, best_threshold  = boost_dice(params)\n",
    "    params['threshold'] = best_threshold\n",
    "    print(params)\n",
    "    return score\n",
    "\n",
    "study = optuna.create_study(direction='maximize')\n",
    "# study = optuna.create_study(direction='minimize')\n",
    "\n",
    "study.optimize(objective, n_trials=1500)\n",
    "\n",
    "best_params = study.best_params\n",
    "best_params"
   ]
  },
  {
   "cell_type": "code",
   "execution_count": null,
   "id": "f6f44e04",
   "metadata": {},
   "outputs": [],
   "source": [
    "best_params"
   ]
  },
  {
   "cell_type": "code",
   "execution_count": null,
   "id": "e63a6b39",
   "metadata": {},
   "outputs": [],
   "source": []
  },
  {
   "cell_type": "code",
   "execution_count": 55,
   "id": "7eed6aca",
   "metadata": {},
   "outputs": [],
   "source": [
    "x = torch.ones([32,3,3,256,256])"
   ]
  },
  {
   "cell_type": "code",
   "execution_count": 56,
   "id": "27a3505e",
   "metadata": {},
   "outputs": [
    {
     "data": {
      "text/plain": [
       "torch.Size([32, 3, 3, 256, 256])"
      ]
     },
     "execution_count": 56,
     "metadata": {},
     "output_type": "execute_result"
    }
   ],
   "source": [
    "x.shape"
   ]
  },
  {
   "cell_type": "code",
   "execution_count": 57,
   "id": "831f24ca",
   "metadata": {},
   "outputs": [
    {
     "name": "stdout",
     "output_type": "stream",
     "text": [
      "torch.Size([32, 3, 256, 256])\n",
      "torch.Size([32, 3, 256, 256])\n"
     ]
    }
   ],
   "source": [
    "for a in [x[:, 0,:,:,:], x[:, 1,:,:,:]]:\n",
    "    print(a.shape)"
   ]
  },
  {
   "cell_type": "code",
   "execution_count": null,
   "id": "ccabdc2f",
   "metadata": {},
   "outputs": [],
   "source": [
    "pred = torch.mean(torch.stack(pred_tta), dim=0)            \n"
   ]
  }
 ],
 "metadata": {
  "kernelspec": {
   "display_name": "Python 3 (ipykernel)",
   "language": "python",
   "name": "python3"
  },
  "language_info": {
   "codemirror_mode": {
    "name": "ipython",
    "version": 3
   },
   "file_extension": ".py",
   "mimetype": "text/x-python",
   "name": "python",
   "nbconvert_exporter": "python",
   "pygments_lexer": "ipython3",
   "version": "3.10.11"
  }
 },
 "nbformat": 4,
 "nbformat_minor": 5
}
