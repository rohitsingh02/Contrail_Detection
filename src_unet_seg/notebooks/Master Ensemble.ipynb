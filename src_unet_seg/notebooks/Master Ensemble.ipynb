{
 "cells": [
  {
   "cell_type": "code",
   "execution_count": 1,
   "id": "041ac14f",
   "metadata": {},
   "outputs": [],
   "source": [
    "# import os\n",
    "# os.environ['CUDA_VISIBLE_DEVICES'] = '1'\n"
   ]
  },
  {
   "cell_type": "code",
   "execution_count": 2,
   "id": "77e5af39",
   "metadata": {},
   "outputs": [],
   "source": [
    "import os\n",
    "import shutil\n",
    "import pathlib\n",
    "import gc\n",
    "import pandas as pd\n",
    "import ttach as tta\n",
    "from pathlib import Path\n",
    "from PIL import Image\n",
    "import numpy as np\n",
    "import cv2 as cv\n",
    "import random\n",
    "import matplotlib.pyplot as plt\n",
    "# from tqdm.auto import tqdm\n",
    "from tqdm.notebook import tqdm\n",
    "import torch\n",
    "import torch.nn as nn\n",
    "import torch.nn.functional as F\n",
    "from torch import optim\n",
    "import torch\n",
    "from torch.utils.data import DataLoader, random_split\n",
    "from torch.utils.data import Dataset\n",
    "\n",
    "import torchvision\n",
    "from torchvision import datasets\n",
    "import cv2\n",
    "from torch.cuda import amp\n",
    "\n",
    "import torchvision.transforms as T\n",
    "from torchvision.transforms import Compose, ToTensor, Resize\n",
    "from torchvision.utils import make_grid\n",
    "import optuna\n",
    "\n",
    "import albumentations as A\n",
    "from albumentations.pytorch import ToTensorV2\n",
    "import segmentation_models_pytorch as smp\n",
    "import timm"
   ]
  },
  {
   "cell_type": "code",
   "execution_count": 3,
   "id": "157ff8d6",
   "metadata": {},
   "outputs": [],
   "source": [
    "def seed_everything(seed=42):\n",
    "    '''Sets the seed of the entire notebook so results are the same every time we run.\n",
    "    This is for REPRODUCIBILITY.'''\n",
    "    np.random.seed(seed)\n",
    "    random.seed(seed)\n",
    "    torch.manual_seed(seed)\n",
    "    torch.cuda.manual_seed(seed)\n",
    "    torch.backends.cudnn.deterministic = True\n",
    "    torch.backends.cudnn.benchmark = False\n",
    "    os.environ['PYTHONHASHSEED'] = str(seed)"
   ]
  },
  {
   "cell_type": "code",
   "execution_count": 4,
   "id": "12e6bf9e",
   "metadata": {},
   "outputs": [],
   "source": [
    "seed_everything(42)"
   ]
  },
  {
   "cell_type": "code",
   "execution_count": null,
   "id": "ddb77d81",
   "metadata": {},
   "outputs": [],
   "source": []
  },
  {
   "cell_type": "code",
   "execution_count": 5,
   "id": "c5654e79",
   "metadata": {},
   "outputs": [],
   "source": [
    "CFGS = [ \n",
    "    {\n",
    "        'model_name': 'Unet++',\n",
    "        'backbone': 'tf_efficientnet_b7_ns',\n",
    "        'img_size': [512, 512],\n",
    "        'num_classes': 1,\n",
    "        'model_pth':  '/home/rohits/pv1/contrail_01/output/nirjhar/qishentrialv2fpn512_tf_efficientnet_b7_ns_best_epochcv650lb675-00.bin',\n",
    "        'threshold': 0.62, #0.24,\n",
    "        'call_sign': \"nir_01\",\n",
    "        'tta': True\n",
    "    },\n",
    "\n",
    "    {\n",
    "        'model_name': 'Unet++',\n",
    "        'backbone': 'tf_efficientnet_b7_ns',\n",
    "        'img_size': [512, 512],\n",
    "        'num_classes': 1,\n",
    "        'model_pth':  '/home/rohits/pv1/contrail_01/output/nirjhar/qishentrialv512unetplus_tf_efficientnet_b7_ns_best_epochstage2cv669-00.bin',\n",
    "        'threshold': 0.62, #0.24,\n",
    "        'call_sign': \"nir_02\", \n",
    "        'tta': True\n",
    "    },\n",
    "    {\n",
    "        'model_name': 'Unet',\n",
    "        'backbone': 'eca_nfnet_l1',\n",
    "        'img_size': [512, 512],\n",
    "        'num_classes': 1,\n",
    "        'model_pth':  '/home/rohits/pv1/contrail_01/output/nirjhar/unetplusecarnf01_eca_nfnet_l1_best_epochstage2cv656-00.bin',\n",
    "        'threshold': 0.62, #0.24,\n",
    "        'call_sign': \"nir_03\",\n",
    "        'tta': True\n",
    "    },\n",
    "    {\n",
    "    'model_name': 'Unet++',\n",
    "        'backbone': 'tf_efficientnet_b8',\n",
    "        'img_size': [512, 512],\n",
    "        'num_classes': 1,\n",
    "        'model_pth':  '/home/rohits/pv1/Contrail_Detection/output/nirjhar/effb8modelv2fold0_tf_efficientnet_b8_best_epochstage2-00.bin',\n",
    "        'threshold': 0.79,\n",
    "        'call_sign': \"nir_04\", \n",
    "        'tta': True\n",
    "    }, \n",
    "    \n",
    "    {\n",
    "        'model_name': 'Unet',\n",
    "        'backbone': 'efficientnet-b7',\n",
    "        'img_size': [256, 256],\n",
    "        'num_classes': 1,\n",
    "        'model_pth':  '/home/rohits/pv1/Contrail_Detection/output/exp_02_pl_687lb_fulltrain/Unet/efficientnet-b7-256/checkpoint_dice_ctrl_fold0.pth',\n",
    "        'threshold': 0.24, #0.24,\n",
    "        'call_sign': \"roh_01\",\n",
    "        'normalize': True,\n",
    "        'tta': True\n",
    "    }, \n",
    "    {\n",
    "        'model_name': 'Unet',\n",
    "        'backbone': 'efficientnet-b7',\n",
    "        'img_size': [256, 256],\n",
    "        'num_classes': 1,\n",
    "        'model_pth':  '/home/rohits/pv1/Contrail_Detection/output/exp_01_s2/Unet/efficientnet-b7-256/checkpoint_dice_ctrl_fold3.pth',\n",
    "        'threshold': 0.24, #0.24,\n",
    "        'call_sign': \"roh_02\",\n",
    "        'tta': True\n",
    "    }, \n",
    "    {\n",
    "        'model_name': 'Unet',\n",
    "        'backbone': 'efficientnet-b7',\n",
    "        'img_size': [256, 256],\n",
    "        'num_classes': 1,\n",
    "        'model_pth':  '/home/rohits/pv1/Contrail_Detection/output/exp_01_pl/Unet/efficientnet-b7-256/checkpoint_dice_ctrl_fold0.pth',\n",
    "        'threshold': 0.24, #0.24,\n",
    "        'call_sign': \"roh_03\",\n",
    "        'tta': True\n",
    "    }, \n",
    "    {\n",
    "        'model_name': 'Unet',\n",
    "        'backbone': 'efficientnet-b7',\n",
    "        'img_size': [384, 384],\n",
    "        'num_classes': 1,\n",
    "        'model_pth':  '/home/rohits/pv1/Contrail_Detection/output/exp_01_pl_687lb/Unet/efficientnet-b7-384/checkpoint_dice_ctrl_fold0.pth',\n",
    "        'threshold': 0.24, #0.24,\n",
    "        'call_sign': \"roh_04\",\n",
    "        'tta': True\n",
    "    },\n",
    "    \n",
    "    \n",
    "    \n",
    "    \n",
    "    \n",
    "    \n",
    "    \n",
    "    \n",
    "    \n",
    "    \n",
    "    \n",
    "    \n",
    "    \n",
    "    \n",
    "    {\n",
    "        'model_name': 'Unet',\n",
    "        'backbone': 'efficientnet-b7',\n",
    "        'img_size': [256, 256],\n",
    "        'num_classes': 1,\n",
    "        'model_pth':  '/home/rohits/pv1/Contrail_Detection/output/exp_01/Unet/efficientnet-b7-256/checkpoint_dice_fold3.pth',\n",
    "        'threshold': 0.24, #0.24,\n",
    "        'call_sign': \"roh_05\",\n",
    "        'tta': True\n",
    "    },  # 0\n",
    "    \n",
    "    {\n",
    "        'model_name': 'Unet',\n",
    "        'backbone': 'efficientnet-b7',\n",
    "        'img_size': [256, 256],\n",
    "        'num_classes': 1,\n",
    "        'model_pth':  '/home/rohits/pv1/Contrail_Detection/output/exp_01_s2/Unet/efficientnet-b7-256/checkpoint_dice_fold0.pth',\n",
    "        'threshold': 0.24, #0.24,\n",
    "        'call_sign': \"roh_06\",\n",
    "        'tta': True\n",
    "    }, # 1    \n",
    "    {\n",
    "        'model_name': 'Unet',\n",
    "        'backbone': 'efficientnet-b7',\n",
    "        'img_size': [256, 256],\n",
    "        'num_classes': 1,\n",
    "        'model_pth':  '/home/rohits/pv1/Contrail_Detection/output/exp_01_pl_s2/Unet/efficientnet-b7-256/checkpoint_dice_fold3.pth',\n",
    "        'threshold': 0.24, #0.24,\n",
    "        'call_sign': \"roh_07\",\n",
    "        'tta': True\n",
    "    }, # 2    \n",
    "    {\n",
    "        'model_name': 'Unet',\n",
    "        'backbone': 'efficientnet-b7',\n",
    "        'img_size': [256, 256],\n",
    "        'num_classes': 1,\n",
    "        'model_pth':  '/home/rohits/pv1/Contrail_Detection/output/exp_01_pl_687lb/Unet/efficientnet-b7-256/checkpoint_dice_ctrl_fold0.pth',\n",
    "        'threshold': 0.24, #0.24,\n",
    "        'call_sign': \"roh_08\",\n",
    "        'tta': True\n",
    "    }, # 3\n",
    "    \n",
    "    {\n",
    "        'model_name': 'Unet',\n",
    "        'backbone': 'efficientnet-b7',\n",
    "        'img_size': [256, 256],\n",
    "        'num_classes': 1,\n",
    "        'model_pth':  '/home/rohits/pv1/Contrail_Detection/output/exp_01_pl_687lb/Unet/efficientnet-b7-256/checkpoint_dice_fold0.pth',\n",
    "        'threshold': 0.24, #0.24,\n",
    "        'call_sign': \"roh_09\",\n",
    "        'tta': True\n",
    "    }, # 4\n",
    "    \n",
    "    \n",
    "    {\n",
    "        'model_name': 'Unet',\n",
    "        'backbone': 'efficientnet-b7',\n",
    "        'img_size': [256, 256],\n",
    "        'num_classes': 1,\n",
    "        'model_pth':  '/home/rohits/pv1/Contrail_Detection/output/exp_01_pl_687lb/Unet/efficientnet-b7-256/checkpoint_dice_ctrl_fold3.pth',\n",
    "        'threshold': 0.24, #0.24,\n",
    "        'call_sign': \"roh_10\",\n",
    "        'tta': True\n",
    "    }, # 5\n",
    "    \n",
    "    {\n",
    "        'model_name': 'Unet',\n",
    "        'backbone': 'efficientnet-b7',\n",
    "        'img_size': [256, 256],\n",
    "        'num_classes': 1,\n",
    "        'model_pth':  '/home/rohits/pv1/Contrail_Detection/output/exp_01_pl_687lb/Unet/efficientnet-b7-256/checkpoint_dice_fold3.pth',\n",
    "        'threshold': 0.24, #0.24,\n",
    "        'call_sign': \"roh_11\",\n",
    "        'tta': True\n",
    "    }, # 6\n",
    "    \n",
    "    \n",
    "    \n",
    "    \n",
    "    {\n",
    "        'model_name': 'Unet',\n",
    "        'backbone': 'efficientnet-b7',\n",
    "        'img_size': [256, 256],\n",
    "        'num_classes': 1,\n",
    "        'model_pth':  '/home/rohits/pv1/Contrail_Detection/output/exp_01_pl_687lb_s2/Unet/efficientnet-b7-256/checkpoint_dice_ctrl_fold0.pth',\n",
    "        'threshold': 0.24, #0.24,\n",
    "        'call_sign': \"roh_12\",\n",
    "        'tta': True\n",
    "    }, # 7\n",
    "    \n",
    "    {\n",
    "        'model_name': 'Unet',\n",
    "        'backbone': 'efficientnet-b7',\n",
    "        'img_size': [256, 256],\n",
    "        'num_classes': 1,\n",
    "        'model_pth':  '/home/rohits/pv1/Contrail_Detection/output/exp_01_pl_687lb_s2/Unet/efficientnet-b7-256/checkpoint_dice_fold0.pth',\n",
    "        'threshold': 0.24, #0.24,\n",
    "        'call_sign': \"roh_13\",\n",
    "        'tta': True\n",
    "    }, # 8\n",
    "    \n",
    "    \n",
    "    {\n",
    "        'model_name': 'Unet',\n",
    "        'backbone': 'efficientnet-b7',\n",
    "        'img_size': [256, 256],\n",
    "        'num_classes': 1,\n",
    "        'model_pth':  '/home/rohits/pv1/Contrail_Detection/output/exp_01_pl_687lb_s2/Unet/efficientnet-b7-256/checkpoint_dice_ctrl_fold3.pth',\n",
    "        'threshold': 0.24, #0.24,\n",
    "        'call_sign': \"roh_14\",\n",
    "        'tta': True\n",
    "    }, #9\n",
    "    \n",
    "    {\n",
    "        'model_name': 'Unet',\n",
    "        'backbone': 'efficientnet-b7',\n",
    "        'img_size': [256, 256],\n",
    "        'num_classes': 1,\n",
    "        'model_pth':  '/home/rohits/pv1/Contrail_Detection/output/exp_01_pl_687lb_s2/Unet/efficientnet-b7-256/checkpoint_dice_fold3.pth',\n",
    "        'threshold': 0.24, #0.24,\n",
    "        'call_sign': \"roh_15\",\n",
    "        'tta': True\n",
    "    }, # 10\n",
    "    {\n",
    "        'model_name': 'Unet',\n",
    "        'backbone': 'efficientnet-b7',\n",
    "        'img_size': [384, 384],\n",
    "        'num_classes': 1,\n",
    "        'model_pth':  '/home/rohits/pv1/Contrail_Detection/output/exp_01_pl_687lb/Unet/efficientnet-b7-384/checkpoint_dice_fold0.pth',\n",
    "        'threshold': 0.24, #0.24,\n",
    "        'call_sign': \"roh_16\",\n",
    "        'tta': True\n",
    "    }, # 11\n",
    "    \n",
    "    \n",
    "    ### final 686 LB above that\n",
    "    {\n",
    "        'model_name': 'Unet',\n",
    "        'backbone': 'efficientnet-b6',\n",
    "        'img_size': [256, 256],\n",
    "        'num_classes': 1,\n",
    "        'model_pth':  '/home/rohits/pv1/Contrail_Detection/output/exp_01_pl_687lb/Unet/efficientnet-b6-256/checkpoint_dice_ctrl_fold0.pth',\n",
    "        'threshold': 0.24, #0.24,\n",
    "        'call_sign': \"roh_17\",\n",
    "        'normalize': True,\n",
    "        'tta': True\n",
    "    },\n",
    "    \n",
    "        {\n",
    "        'model_name': 'Unet',\n",
    "        'backbone': 'efficientnet-b6',\n",
    "        'img_size': [256, 256],\n",
    "        'num_classes': 1,\n",
    "        'model_pth':  '/home/rohits/pv1/Contrail_Detection/output/exp_01_pl_687lb/Unet/efficientnet-b6-256/checkpoint_dice_fold0.pth',\n",
    "        'threshold': 0.24, #0.24,\n",
    "        'call_sign': \"roh_18\",\n",
    "        'normalize': True,\n",
    "        'tta': True\n",
    "    },\n",
    "    \n",
    "        {\n",
    "        'model_name': 'Unet',\n",
    "        'backbone': 'efficientnet-b6',\n",
    "        'img_size': [256, 256],\n",
    "        'num_classes': 1,\n",
    "        'model_pth':  '/home/rohits/pv1/Contrail_Detection/output/exp_01_pl_687lb/Unet/efficientnet-b6-256/checkpoint_dice_ctrl_fold3.pth',\n",
    "        'threshold': 0.24, #0.24,\n",
    "        'call_sign': \"roh_19\",\n",
    "        'normalize': True,\n",
    "        'tta': True\n",
    "    },\n",
    "    \n",
    "        {\n",
    "        'model_name': 'Unet',\n",
    "        'backbone': 'efficientnet-b6',\n",
    "        'img_size': [256, 256],\n",
    "        'num_classes': 1,\n",
    "        'model_pth':  '/home/rohits/pv1/Contrail_Detection/output/exp_01_pl_687lb/Unet/efficientnet-b6-256/checkpoint_dice_fold0.pth',\n",
    "        'threshold': 0.24, #0.24,\n",
    "        'call_sign': \"roh_20\",\n",
    "        'normalize': True,\n",
    "        'tta': True\n",
    "    },    \n",
    "]\n",
    "\n",
    "\n",
    "ensemple_type = \"No\" #\"No\" #\"mine\""
   ]
  },
  {
   "cell_type": "code",
   "execution_count": 6,
   "id": "2ddaafa6",
   "metadata": {},
   "outputs": [],
   "source": [
    "device = torch.device('cuda' if torch.cuda.is_available() else 'cpu')\n"
   ]
  },
  {
   "cell_type": "code",
   "execution_count": 7,
   "id": "d58a5058",
   "metadata": {},
   "outputs": [],
   "source": [
    "import torchvision.transforms as T\n",
    "\n",
    "\n",
    "class ContrailDataset:\n",
    "    def __init__(self, df, transform=None, normalize=False):\n",
    "        self.df = df  \n",
    "        self.images = df['image']\n",
    "        self.labels = df['label']\n",
    "        self.transform =transform\n",
    "        self.normalize_image = T.Normalize((0.485, 0.456, 0.406), (0.229, 0.224, 0.225))\n",
    "        self.normalize=normalize\n",
    "        \n",
    "        \n",
    "    def __len__(self):\n",
    "        return len(self.images)\n",
    "        \n",
    "    def __getitem__(self, idx):\n",
    "        image = np.load(\"../../input/\" + self.images[idx]).astype(float)   \n",
    "        label = np.load(\"../../input/\" + self.labels[idx]).astype(float)\n",
    "        \n",
    "        \n",
    "        # label_cls = 1 if label.sum() > 0 else 0\n",
    "        if self.transform :\n",
    "            data = self.transform(image=image, mask=label)\n",
    "            image  = data['image']\n",
    "            label  = data['mask']\n",
    "            image = np.transpose(image, (2, 0, 1))\n",
    "            label = np.transpose(label, (2, 0, 1))    \n",
    "            \n",
    "            \n",
    "#         return torch.tensor(image), torch.tensor(label)\n",
    "    \n",
    "        if self.normalize:\n",
    "            image = self.normalize_image(torch.tensor(image))\n",
    "            return image, torch.tensor(label)\n",
    "        else:\n",
    "            return torch.tensor(image), torch.tensor(label)\n",
    "    \n",
    "    "
   ]
  },
  {
   "cell_type": "code",
   "execution_count": null,
   "id": "6467d004",
   "metadata": {},
   "outputs": [],
   "source": []
  },
  {
   "cell_type": "code",
   "execution_count": 8,
   "id": "ad837733",
   "metadata": {},
   "outputs": [],
   "source": [
    "import segmentation_models_pytorch as smp\n",
    "import timm\n",
    "n_blocks = 4\n",
    "\n",
    "class TimmSegModel(nn.Module):\n",
    "    def __init__(self, cfg, segtype='unet', pretrained=True):\n",
    "        super(TimmSegModel, self).__init__()\n",
    "        self.conv1 = nn.Conv2d(3, 6, 3, stride=1, padding=1, bias=False)\n",
    "        self.conv2 = nn.Conv2d(6, 12, 3, stride=1, padding=1, bias=False)\n",
    "        self.conv3 = nn.Conv2d(12, 36, 3, stride=1, padding=1, bias=False)\n",
    "        self.mybn1 = nn.BatchNorm2d(6)\n",
    "        self.mybn2 = nn.BatchNorm2d(12)\n",
    "        self.mybn3 = nn.BatchNorm2d(36)     \n",
    "        self.encoder = timm.create_model(\n",
    "            cfg[\"backbone\"],\n",
    "            in_chans=3,\n",
    "            features_only=True,\n",
    "            drop_rate=0.8,\n",
    "            drop_path_rate=0.5,\n",
    "            pretrained=False\n",
    "        )\n",
    "        self.encoder.conv_stem=nn.Conv2d(6, 72, kernel_size=(3, 3), stride=(2, 2), padding=(1, 1), bias=False)\n",
    "\n",
    "        self.encoder.blocks[5] = nn.Identity()\n",
    "        self.encoder.blocks[6] = nn.Sequential(\n",
    "            nn.Conv2d(self.encoder.blocks[4][2].conv_pwl.out_channels, 320, 1),\n",
    "            nn.BatchNorm2d(320),\n",
    "            nn.ReLU6(),\n",
    "        )\n",
    "        tr = torch.randn(1,6,64,64)\n",
    "        g = self.encoder(tr)\n",
    "        encoder_channels = [1] + [_.shape[1] for _ in g]\n",
    "        decoder_channels = [256, 128, 64, 32, 16]\n",
    "        if segtype == 'unet':\n",
    "            self.decoder = smp.decoders.unetplusplus.decoder.UnetPlusPlusDecoder(\n",
    "                encoder_channels=encoder_channels[:n_blocks+1],\n",
    "                decoder_channels=decoder_channels[:n_blocks],\n",
    "                n_blocks=n_blocks,\n",
    "            )\n",
    "\n",
    "        self.segmentation_head = nn.Conv2d(decoder_channels[n_blocks-1], cfg['num_classes'], kernel_size=(3, 3), stride=(1, 1), padding=(1, 1))\n",
    "\n",
    "    def forward(self,x):\n",
    "        x = F.relu6(self.mybn1(self.conv1(x)))\n",
    "        global_features = [0] + self.encoder(x)[:n_blocks]\n",
    "        seg_features = self.decoder(*global_features)\n",
    "        seg_features = self.segmentation_head(seg_features)\n",
    "        return seg_features\n",
    "    \n",
    "    \n",
    "    \n",
    "def load_model_timmunetplusplus(cfg):\n",
    "    model = TimmSegModel(cfg)\n",
    "    model.load_state_dict(torch.load(cfg['model_pth']))\n",
    "    return model"
   ]
  },
  {
   "cell_type": "code",
   "execution_count": null,
   "id": "c621dc34",
   "metadata": {},
   "outputs": [],
   "source": []
  },
  {
   "cell_type": "code",
   "execution_count": null,
   "id": "fff7d898",
   "metadata": {},
   "outputs": [],
   "source": []
  },
  {
   "cell_type": "code",
   "execution_count": 9,
   "id": "985b3de5",
   "metadata": {},
   "outputs": [],
   "source": [
    "###TImmunetplusplus model Nirjhar\n",
    "\n",
    "n_blocks = 4\n",
    "\n",
    "class TimmSegModel(nn.Module):\n",
    "    def __init__(self, backbone, cfg, segtype='unet', pretrained=True):\n",
    "        super(TimmSegModel, self).__init__()\n",
    "        self.conv1 = nn.Conv2d(3, 6, 3, stride=1, padding=1, bias=False)\n",
    "        self.conv2 = nn.Conv2d(6, 12, 3, stride=1, padding=1, bias=False)\n",
    "        self.conv3 = nn.Conv2d(12, 36, 3, stride=1, padding=1, bias=False)\n",
    "        self.mybn1 = nn.BatchNorm2d(6)\n",
    "        self.mybn2 = nn.BatchNorm2d(12)\n",
    "        self.mybn3 = nn.BatchNorm2d(36)     \n",
    "        self.encoder = timm.create_model(\n",
    "            backbone,\n",
    "            in_chans=3,\n",
    "            features_only=True,\n",
    "            drop_rate=0.8,\n",
    "            drop_path_rate=0.5,\n",
    "            pretrained=False\n",
    "        )\n",
    "        self.encoder.conv_stem=nn.Conv2d(6, 64, kernel_size=(3, 3), stride=(2, 2), padding=(1, 1), bias=False)\n",
    "\n",
    "        self.encoder.blocks[5] = nn.Identity()\n",
    "        self.encoder.blocks[6] = nn.Sequential(\n",
    "            nn.Conv2d(self.encoder.blocks[4][2].conv_pwl.out_channels, 320, 1),\n",
    "            nn.BatchNorm2d(320),\n",
    "            nn.ReLU6(),\n",
    "        )\n",
    "        tr = torch.randn(1,6,64,64)\n",
    "        g = self.encoder(tr)\n",
    "        encoder_channels = [1] + [_.shape[1] for _ in g]\n",
    "        decoder_channels = [256, 128, 64, 32, 16]\n",
    "        if segtype == 'unet':\n",
    "            self.decoder = smp.decoders.unetplusplus.decoder.UnetPlusPlusDecoder(\n",
    "                encoder_channels=encoder_channels[:n_blocks+1],\n",
    "                decoder_channels=decoder_channels[:n_blocks],\n",
    "                n_blocks=n_blocks,\n",
    "            )\n",
    "\n",
    "        self.segmentation_head = nn.Conv2d(\n",
    "            decoder_channels[n_blocks-1],\n",
    "            cfg[\"num_classes\"], \n",
    "            kernel_size=(3, 3),\n",
    "            stride=(1, 1), \n",
    "            padding=(1, 1)\n",
    "        )\n",
    "\n",
    "    def forward(self,x):\n",
    "        x = F.relu6(self.mybn1(self.conv1(x)))\n",
    "        global_features = [0] + self.encoder(x)[:n_blocks]\n",
    "        seg_features = self.decoder(*global_features)\n",
    "        seg_features = self.segmentation_head(seg_features)\n",
    "        return seg_features\n",
    "    \n",
    "\n",
    "#path='./exp/baselinev2/qishentrialv2_tf_efficientnet_b7_ns_last_epoch-00.bin'\n",
    "\n",
    "def build_model_timmunetplus(backbone, cfg):\n",
    "    model = TimmSegModel(backbone, cfg)\n",
    "    return model\n",
    "\n",
    "def load_model_timmunetplus(path, backbone, cfg):\n",
    "    model = build_model_timmunetplus(backbone, cfg)\n",
    "    model.load_state_dict(torch.load(path))\n",
    "    return model\n",
    "\n",
    "\n",
    "#### Model 2 Nirjhar\n",
    "\n",
    "n_blocks =4\n",
    "class TimmSegModel2(nn.Module):\n",
    "    def __init__(self, backbone, segtype='unet', pretrained=True):\n",
    "        super(TimmSegModel2, self).__init__()\n",
    "\n",
    "        self.encoder = timm.create_model(\n",
    "            backbone,\n",
    "            in_chans=3,\n",
    "            features_only=True,\n",
    "            drop_rate=0.5,\n",
    "            pretrained=False\n",
    "        )\n",
    "        g = self.encoder(torch.rand(1, 3, 128, 128))\n",
    "        encoder_channels = [1] + [_.shape[1] for _ in g]\n",
    "        decoder_channels = [256, 128, 64, 32, 16]\n",
    "        if segtype == 'unet':\n",
    "            self.decoder = smp.decoders.unetplusplus.decoder.UnetPlusPlusDecoder(\n",
    "                encoder_channels=encoder_channels[:n_blocks+1],\n",
    "                decoder_channels=decoder_channels[:n_blocks],\n",
    "                n_blocks=n_blocks,\n",
    "            )\n",
    "\n",
    "        self.segmentation_head = nn.Sequential(\n",
    "            nn.Conv2d(decoder_channels[n_blocks-1], 1, kernel_size=(3, 3), stride=(1, 1), padding=(1, 1)),\n",
    "            nn.UpsamplingBilinear2d(scale_factor=1))\n",
    "\n",
    "    def forward(self,x):\n",
    "        global_features = [0] + self.encoder(x)[:n_blocks]\n",
    "        seg_features = self.decoder(*global_features)\n",
    "        seg_features = self.segmentation_head(seg_features)\n",
    "        return seg_features\n",
    "    \n",
    "\n",
    "\n",
    "def build_model(backbone):\n",
    "    model = TimmSegModel2(backbone, segtype='unet')\n",
    "    return model\n",
    "\n",
    "def load_model(path,backbone):\n",
    "    model = build_model(backbone)\n",
    "    model.load_state_dict(torch.load(path))\n",
    "    return model\n",
    "\n",
    "\n",
    "##################\n",
    "\n",
    "n_blocks = 4\n",
    "\n",
    "class TimmSegModel3(nn.Module):\n",
    "    def __init__(self, cfg, segtype='unet', pretrained=True):\n",
    "        super(TimmSegModel3, self).__init__()\n",
    "        self.conv1 = nn.Conv2d(3, 6, 3, stride=1, padding=1, bias=False)\n",
    "        self.conv2 = nn.Conv2d(6, 12, 3, stride=1, padding=1, bias=False)\n",
    "        self.conv3 = nn.Conv2d(12, 36, 3, stride=1, padding=1, bias=False)\n",
    "        self.mybn1 = nn.BatchNorm2d(6)\n",
    "        self.mybn2 = nn.BatchNorm2d(12)\n",
    "        self.mybn3 = nn.BatchNorm2d(36)     \n",
    "        self.encoder = timm.create_model(\n",
    "            cfg[\"backbone\"],\n",
    "            in_chans=3,\n",
    "            features_only=True,\n",
    "            drop_rate=0.8,\n",
    "            drop_path_rate=0.5,\n",
    "            pretrained=False\n",
    "        )\n",
    "        self.encoder.conv_stem=nn.Conv2d(6, 72, kernel_size=(3, 3), stride=(2, 2), padding=(1, 1), bias=False)\n",
    "\n",
    "        self.encoder.blocks[5] = nn.Identity()\n",
    "        self.encoder.blocks[6] = nn.Sequential(\n",
    "            nn.Conv2d(self.encoder.blocks[4][2].conv_pwl.out_channels, 320, 1),\n",
    "            nn.BatchNorm2d(320),\n",
    "            nn.ReLU6(),\n",
    "        )\n",
    "        tr = torch.randn(1,6,64,64)\n",
    "        g = self.encoder(tr)\n",
    "        encoder_channels = [1] + [_.shape[1] for _ in g]\n",
    "        decoder_channels = [256, 128, 64, 32, 16]\n",
    "        if segtype == 'unet':\n",
    "            self.decoder = smp.decoders.unetplusplus.decoder.UnetPlusPlusDecoder(\n",
    "                encoder_channels=encoder_channels[:n_blocks+1],\n",
    "                decoder_channels=decoder_channels[:n_blocks],\n",
    "                n_blocks=n_blocks,\n",
    "            )\n",
    "\n",
    "        self.segmentation_head = nn.Conv2d(decoder_channels[n_blocks-1], cfg['num_classes'], kernel_size=(3, 3), stride=(1, 1), padding=(1, 1))\n",
    "\n",
    "    def forward(self,x):\n",
    "        x = F.relu6(self.mybn1(self.conv1(x)))\n",
    "        global_features = [0] + self.encoder(x)[:n_blocks]\n",
    "        seg_features = self.decoder(*global_features)\n",
    "        seg_features = self.segmentation_head(seg_features)\n",
    "        return seg_features\n",
    "    \n",
    "    \n",
    "    \n",
    "def load_model3(cfg):\n",
    "    model = TimmSegModel3(cfg)\n",
    "    model.load_state_dict(torch.load(cfg['model_pth']))\n",
    "    return model\n",
    "\n",
    "\n",
    "\n",
    "## Rohit Model \n",
    "class Net(nn.Module):\n",
    "    def __init__(self, cfg):\n",
    "        super().__init__()\n",
    "        self.cfg = cfg\n",
    "        \n",
    "        self.model = smp.Unet(\n",
    "            encoder_name=cfg[\"backbone\"],     \n",
    "            encoder_weights=None,   \n",
    "            in_channels=3,  \n",
    "            classes=cfg[\"num_classes\"],\n",
    "            activation=None\n",
    "        )\n",
    "        \n",
    "    \n",
    "    def forward(self, inputs):\n",
    "        mask = self.model(inputs)\n",
    "        return mask"
   ]
  },
  {
   "cell_type": "code",
   "execution_count": 10,
   "id": "07bfce0c",
   "metadata": {},
   "outputs": [],
   "source": [
    "def dice_coef(y_true, y_pred, thr=0.5, epsilon=1e-6):\n",
    "    y_true = y_true.to(torch.float32)\n",
    "    y_pred = (y_pred>thr).to(torch.float32)\n",
    "    inter = (y_true*y_pred).sum()\n",
    "    den = y_true.sum() + y_pred.sum()\n",
    "    dice = ((2*inter+epsilon)/(den+epsilon)).mean()\n",
    "    \n",
    "    return dice\n",
    "\n",
    "\n",
    "def get_transform(img_size):\n",
    "    transform = A.Compose([\n",
    "        A.Resize(*img_size, interpolation=cv2.INTER_NEAREST),\n",
    "    ], p=1.0)\n",
    "    return transform"
   ]
  },
  {
   "cell_type": "code",
   "execution_count": 11,
   "id": "01378f87",
   "metadata": {},
   "outputs": [],
   "source": [
    "val_df =pd.read_csv(\"../../input/data_utils/val_df_filled.csv\")"
   ]
  },
  {
   "cell_type": "code",
   "execution_count": 12,
   "id": "aea14014",
   "metadata": {},
   "outputs": [
    {
     "data": {
      "text/plain": [
       "24"
      ]
     },
     "execution_count": 12,
     "metadata": {},
     "output_type": "execute_result"
    }
   ],
   "source": [
    "len(CFGS)"
   ]
  },
  {
   "cell_type": "code",
   "execution_count": 25,
   "id": "646ce6cb",
   "metadata": {},
   "outputs": [
    {
     "name": "stdout",
     "output_type": "stream",
     "text": [
      "{'model_name': 'Unet', 'backbone': 'efficientnet-b6', 'img_size': [256, 256], 'num_classes': 1, 'model_pth': '/home/rohits/pv1/Contrail_Detection/output/exp_01_pl_687lb/Unet/efficientnet-b6-256/checkpoint_dice_ctrl_fold0.pth', 'threshold': 0.24, 'call_sign': 'roh_17', 'normalize': True, 'tta': True}\n"
     ]
    },
    {
     "data": {
      "application/vnd.jupyter.widget-view+json": {
       "model_id": "f0990789d2054e5784179e989004aca5",
       "version_major": 2,
       "version_minor": 0
      },
      "text/plain": [
       "  0%|          | 0/58 [00:00<?, ?it/s]"
      ]
     },
     "metadata": {},
     "output_type": "display_data"
    },
    {
     "name": "stdout",
     "output_type": "stream",
     "text": [
      "0.6571406 0.17\n",
      "{'model_name': 'Unet', 'backbone': 'efficientnet-b6', 'img_size': [256, 256], 'num_classes': 1, 'model_pth': '/home/rohits/pv1/Contrail_Detection/output/exp_01_pl_687lb/Unet/efficientnet-b6-256/checkpoint_dice_fold0.pth', 'threshold': 0.24, 'call_sign': 'roh_18', 'normalize': True, 'tta': True}\n"
     ]
    },
    {
     "data": {
      "application/vnd.jupyter.widget-view+json": {
       "model_id": "70f43bda2c994c809ccb5dd8a8caadb4",
       "version_major": 2,
       "version_minor": 0
      },
      "text/plain": [
       "  0%|          | 0/58 [00:00<?, ?it/s]"
      ]
     },
     "metadata": {},
     "output_type": "display_data"
    },
    {
     "name": "stdout",
     "output_type": "stream",
     "text": [
      "0.6554997 0.12\n",
      "{'model_name': 'Unet', 'backbone': 'efficientnet-b6', 'img_size': [256, 256], 'num_classes': 1, 'model_pth': '/home/rohits/pv1/Contrail_Detection/output/exp_01_pl_687lb/Unet/efficientnet-b6-256/checkpoint_dice_ctrl_fold3.pth', 'threshold': 0.24, 'call_sign': 'roh_19', 'normalize': True, 'tta': True}\n"
     ]
    },
    {
     "data": {
      "application/vnd.jupyter.widget-view+json": {
       "model_id": "d7e0df7ee7f24ce5b14827598290229d",
       "version_major": 2,
       "version_minor": 0
      },
      "text/plain": [
       "  0%|          | 0/58 [00:00<?, ?it/s]"
      ]
     },
     "metadata": {},
     "output_type": "display_data"
    },
    {
     "name": "stdout",
     "output_type": "stream",
     "text": [
      "0.65630525 0.11\n",
      "{'model_name': 'Unet', 'backbone': 'efficientnet-b6', 'img_size': [256, 256], 'num_classes': 1, 'model_pth': '/home/rohits/pv1/Contrail_Detection/output/exp_01_pl_687lb/Unet/efficientnet-b6-256/checkpoint_dice_fold0.pth', 'threshold': 0.24, 'call_sign': 'roh_20', 'normalize': True, 'tta': True}\n"
     ]
    },
    {
     "data": {
      "application/vnd.jupyter.widget-view+json": {
       "model_id": "d4e6a7a9d73c49b0887749aaf5fd040c",
       "version_major": 2,
       "version_minor": 0
      },
      "text/plain": [
       "  0%|          | 0/58 [00:00<?, ?it/s]"
      ]
     },
     "metadata": {},
     "output_type": "display_data"
    },
    {
     "name": "stdout",
     "output_type": "stream",
     "text": [
      "0.6554997 0.12\n"
     ]
    }
   ],
   "source": [
    "final_preds = []\n",
    "\n",
    "for idx, cfg in enumerate(CFGS):   \n",
    "#     if idx <= 7:\n",
    "#         continue\n",
    "\n",
    "    if idx <= 19:\n",
    "        continue\n",
    "    \n",
    "    print(cfg)\n",
    "    val_transform = get_transform(cfg['img_size'])\n",
    "    valid_dataset = ContrailDataset(val_df, transform=val_transform, normalize=False)  \n",
    "    valid_dataset2 = ContrailDataset(val_df, transform=val_transform, normalize=True)  \n",
    "\n",
    "    \n",
    "    valid_loader = DataLoader(\n",
    "        valid_dataset, \n",
    "        batch_size = 32, #32, \n",
    "        shuffle = False, \n",
    "        num_workers = 2, \n",
    "        pin_memory = True, \n",
    "        drop_last = False\n",
    "    )\n",
    "    \n",
    "    \n",
    "    valid_loader2 = DataLoader(\n",
    "        valid_dataset2, \n",
    "        batch_size = 32, #32, \n",
    "        shuffle = False, \n",
    "        num_workers = 2, \n",
    "        pin_memory = True, \n",
    "        drop_last = False\n",
    "    )\n",
    "\n",
    "    \n",
    "\n",
    "    if ensemple_type == \"mine\":\n",
    "        model = Net(cfg)    \n",
    "        model = torch.nn.DataParallel(model).cuda()\n",
    "        model.load_state_dict(torch.load(cfg['model_pth'], map_location=torch.device('cpu'))['model'])\n",
    "    else:\n",
    "        if idx <= 1:\n",
    "            model = load_model_timmunetplus(cfg['model_pth'], cfg['backbone'], cfg)\n",
    "        elif idx == 2:\n",
    "            model = load_model(cfg['model_pth'], cfg['backbone'])\n",
    "        elif idx == 3:\n",
    "            model = load_model3(cfg)\n",
    "        else:\n",
    "            model = Net(cfg)    \n",
    "            model = torch.nn.DataParallel(model).cuda()\n",
    "            model.load_state_dict(torch.load(cfg['model_pth'], map_location=torch.device('cpu'))['model'])\n",
    "\n",
    "    if cfg['tta']:\n",
    "        if ensemple_type == \"mine\":\n",
    "            model = tta.SegmentationTTAWrapper(model, tta.aliases.flip_transform(), merge_mode='mean')\n",
    "        else:\n",
    "            if idx <= 3:\n",
    "                model = tta.SegmentationTTAWrapper(model, tta.aliases.hflip_transform(), merge_mode='mean')\n",
    "            else:\n",
    "                model = tta.SegmentationTTAWrapper(model, tta.aliases.flip_transform(), merge_mode='mean')\n",
    "\n",
    "    \n",
    "    \n",
    "    model.to(device)\n",
    "    model.eval()\n",
    "    \n",
    "    preds = []\n",
    "    masks_ = []      \n",
    "            \n",
    "    if \"normalize\" in cfg and cfg['normalize']:\n",
    "        \n",
    "        for index, (images, masks) in enumerate(tqdm(valid_loader2)):  \n",
    "            images  = images.to(device, dtype=torch.float)\n",
    "            masks  = masks.to(device, dtype=torch.float)\n",
    "            if cfg['img_size'][0] != 256:\n",
    "                masks = torch.nn.functional.interpolate(masks, size=256, mode='nearest') \n",
    "\n",
    "            masks_.append(torch.squeeze(masks, dim=1))\n",
    "\n",
    "            with torch.inference_mode():\n",
    "                images = torch.nn.functional.interpolate(images, size=cfg['img_size'][0], mode='nearest')\n",
    "                pred = model(images)           \n",
    "                pred = torch.nn.functional.interpolate(pred, size=256, mode='nearest') \n",
    "                preds.append(torch.squeeze(pred, dim=1))\n",
    "                \n",
    "                \n",
    "    else:\n",
    "        for index, (images, masks) in enumerate(tqdm(valid_loader)):  \n",
    "            images  = images.to(device, dtype=torch.float)\n",
    "            masks  = masks.to(device, dtype=torch.float)\n",
    "            if cfg['img_size'][0] != 256:\n",
    "                masks = torch.nn.functional.interpolate(masks, size=256, mode='nearest') \n",
    "\n",
    "            masks_.append(torch.squeeze(masks, dim=1))\n",
    "\n",
    "            with torch.inference_mode():\n",
    "                images = torch.nn.functional.interpolate(images, size=cfg['img_size'][0], mode='nearest')\n",
    "                pred = model(images)           \n",
    "                pred = torch.nn.functional.interpolate(pred, size=256, mode='nearest') \n",
    "                preds.append(torch.squeeze(pred, dim=1))\n",
    "        \n",
    "            \n",
    "            \n",
    "    model_masks = torch.cat(masks_, dim=0)\n",
    "    model_preds = torch.cat(preds, dim=0)\n",
    "        \n",
    "    model_masks = torch.flatten(model_masks, start_dim=0, end_dim=1)\n",
    "    model_preds = torch.flatten(model_preds, start_dim=0, end_dim=1)  \n",
    "    \n",
    "#     # save\n",
    "    torch.save(model_preds, f\"../../output/final_preds/{cfg['call_sign']}.pt\")    \n",
    "#     if idx == 6:\n",
    "#         torch.save(model_masks, f'../../output/final_preds/val_masks.pt')\n",
    "\n",
    "    \n",
    "    best_threshold = 0.0\n",
    "    best_dice_score = 0.0\n",
    "    for threshold in [i / 100 for i in range(101)] :\n",
    "        score = dice_coef(model_masks, model_preds.sigmoid(), thr=threshold).cpu().detach().numpy() \n",
    "        if score > best_dice_score:\n",
    "            best_dice_score = score\n",
    "            best_threshold = threshold\n",
    "    \n",
    "        \n",
    "    print(best_dice_score, best_threshold)\n",
    "    final_preds.append(model_preds)\n",
    "    \n",
    "    del model\n",
    "    torch.cuda.empty_cache()\n",
    "    gc.collect()"
   ]
  },
  {
   "cell_type": "code",
   "execution_count": 64,
   "id": "0d3df7d8",
   "metadata": {},
   "outputs": [
    {
     "data": {
      "application/vnd.jupyter.widget-view+json": {
       "model_id": "20f88356733e46ae82c22e78ec08e85b",
       "version_major": 2,
       "version_minor": 0
      },
      "text/plain": [
       "  0%|          | 0/7 [00:00<?, ?it/s]"
      ]
     },
     "metadata": {},
     "output_type": "display_data"
    },
    {
     "data": {
      "application/vnd.jupyter.widget-view+json": {
       "model_id": "c05b23b68cbb4cbea7689a1d57d66398",
       "version_major": 2,
       "version_minor": 0
      },
      "text/plain": [
       "  0%|          | 0/5 [00:00<?, ?it/s]"
      ]
     },
     "metadata": {},
     "output_type": "display_data"
    }
   ],
   "source": [
    "def weighted_ensemble(params, final_preds):    \n",
    "    for index, val in enumerate(params.keys()):\n",
    "        if index == 0:\n",
    "            preds = params[val]*final_preds[0]\n",
    "        else:\n",
    "            preds += params[val]*final_preds[index]\n",
    "    \n",
    "    param_sum = 0\n",
    "    for key, val in params.items():\n",
    "        param_sum += val\n",
    "\n",
    "    preds = preds/param_sum\n",
    "    return preds\n",
    "\n",
    "\n",
    "\n",
    "# # ### Load presaved predictions\n",
    "call_signs = [\n",
    "    \"nir_02\", \"nir_03\", \"nir_04\", \"roh_01\", \"roh_02\", \"roh_03\", \"roh_04\"\n",
    "]\n",
    "\n",
    "params = {\n",
    " 'w1': 0.1965566146320522,\n",
    " 'w2': 0.3096235663113352,\n",
    " 'w3': 0.19460796969896493,\n",
    " 'w4': 0.7270978416557768,\n",
    " 'w5': 0.001799350961082219,\n",
    " 'w6': 0.23711141549386655,\n",
    " 'w7': 0.8481861548984848\n",
    "}\n",
    "\n",
    "\n",
    "\n",
    "call_signs2 = [ \n",
    "    \"roh_05\",  \"roh_08\",  \"roh_12\",  \"roh_14\", \n",
    "    \"roh_16\"\n",
    "]\n",
    "\n",
    "params2 = {\n",
    " 'w1': 0.2899597612410049,\n",
    " 'w2': 0.15730857091380931,\n",
    " 'w3': 0.7212233791522253,\n",
    " 'w4': 0.7632434560815267,\n",
    " 'w5': 0.20310304654905162\n",
    "}\n",
    "\n",
    "\n",
    "model_masks = torch.load(f\"/home/rohits/pv1/Contrail_Detection/output/final_preds/val_masks.pt\")\n",
    "\n",
    "saved_preds = []\n",
    "for sign in tqdm(call_signs):\n",
    "    wt = torch.load(f\"/home/rohits/pv1/Contrail_Detection/output/final_preds/{sign}.pt\")\n",
    "    saved_preds.append(wt)\n",
    "    \n",
    "    \n",
    "    \n",
    "saved_preds2 = []\n",
    "for sign in tqdm(call_signs2):\n",
    "    wt = torch.load(f\"/home/rohits/pv1/Contrail_Detection/output/final_preds/{sign}.pt\")\n",
    "    saved_preds2.append(wt)\n",
    "    \n",
    "    \n",
    "    \n",
    "preds1 = weighted_ensemble(params, saved_preds)\n",
    "\n",
    "\n",
    "\n",
    "preds2 = weighted_ensemble(params2, saved_preds2)\n",
    "    \n",
    "    \n",
    "    \n",
    "\n",
    "    \n",
    "#     best_threshold = 0.0\n",
    "#     best_dice_score = 0.0\n",
    "#     for threshold in [i / 100 for i in range(101)] :\n",
    "#         score = dice_coef(model_masks, wt.sigmoid(), thr=threshold).cpu().detach().numpy() \n",
    "#         if score > best_dice_score:\n",
    "#             best_dice_score = score\n",
    "#             best_threshold = threshold\n",
    "#     print(best_dice_score, best_threshold)"
   ]
  },
  {
   "cell_type": "code",
   "execution_count": 65,
   "id": "cc425fbd",
   "metadata": {},
   "outputs": [],
   "source": [
    "# x = saved_preds\n"
   ]
  },
  {
   "cell_type": "code",
   "execution_count": null,
   "id": "f8efd063",
   "metadata": {},
   "outputs": [],
   "source": []
  },
  {
   "cell_type": "code",
   "execution_count": null,
   "id": "cb225a03",
   "metadata": {},
   "outputs": [],
   "source": []
  },
  {
   "cell_type": "code",
   "execution_count": null,
   "id": "ae550256",
   "metadata": {},
   "outputs": [],
   "source": []
  },
  {
   "cell_type": "code",
   "execution_count": 66,
   "id": "d0fc9fa7",
   "metadata": {},
   "outputs": [],
   "source": [
    "# if len(final_preds) > 0:\n",
    "#     saved_preds.extend(final_preds)\n",
    "#     final_preds = saved_preds\n",
    "# else:\n",
    "#     final_preds = saved_preds"
   ]
  },
  {
   "cell_type": "code",
   "execution_count": 67,
   "id": "228c59e4",
   "metadata": {},
   "outputs": [],
   "source": [
    "# final_preds = saved_preds\n"
   ]
  },
  {
   "cell_type": "code",
   "execution_count": null,
   "id": "81173b0e",
   "metadata": {},
   "outputs": [],
   "source": []
  },
  {
   "cell_type": "code",
   "execution_count": 68,
   "id": "190a8772",
   "metadata": {},
   "outputs": [],
   "source": [
    "# x_preds = final_preds #x_preds has 24 preds"
   ]
  },
  {
   "cell_type": "code",
   "execution_count": 69,
   "id": "4fa57271",
   "metadata": {},
   "outputs": [],
   "source": [
    "# final_preds = [x_preds[-1], x_preds[2]]"
   ]
  },
  {
   "cell_type": "code",
   "execution_count": 70,
   "id": "20796948",
   "metadata": {},
   "outputs": [],
   "source": [
    "# len(final_preds)"
   ]
  },
  {
   "cell_type": "code",
   "execution_count": 71,
   "id": "6791b46b",
   "metadata": {},
   "outputs": [],
   "source": [
    "# \"normalize\" in CFGS[-1]"
   ]
  },
  {
   "cell_type": "code",
   "execution_count": null,
   "id": "bef6bed7",
   "metadata": {},
   "outputs": [],
   "source": []
  },
  {
   "cell_type": "code",
   "execution_count": null,
   "id": "9d97b75d",
   "metadata": {},
   "outputs": [],
   "source": []
  },
  {
   "cell_type": "code",
   "execution_count": null,
   "id": "e1d72a60",
   "metadata": {},
   "outputs": [],
   "source": [
    "def boost_dice(params, TH=None):    \n",
    "    \n",
    "    for index, val in enumerate(params.keys()):\n",
    "        if index == 0:            \n",
    "            preds = params[val]*final_preds[0]\n",
    "        else:\n",
    "            preds += params[val]*final_preds[index]\n",
    "    \n",
    "    param_sum = 0\n",
    "    for key, val in params.items():\n",
    "        param_sum += val\n",
    "\n",
    "    preds = preds/param_sum\n",
    "    \n",
    "    \n",
    "    if TH:\n",
    "        best_threshold = TH\n",
    "        preds1 = (preds.sigmoid()).double()\n",
    "#         preds1 = (preds).double()\n",
    "        best_score = dice_coef(model_masks, preds1, thr=best_threshold).cpu().detach().numpy() # get_score(labels, preds) \n",
    "    else:\n",
    "        best_threshold = 0.0\n",
    "        best_score = 0.0\n",
    "        for threshold in [i / 100 for i in range(101)] :  \n",
    "            if threshold > 0.5:\n",
    "                continue\n",
    "            \n",
    "#             preds1 = (nn.Sigmoid()(preds)>threshold).double()    \n",
    "            preds1 = ((preds)>threshold).double()            \n",
    "\n",
    "            score = dice_coef(model_masks, preds1, thr=threshold).cpu().detach().numpy() # get_score(labels, preds) \n",
    "            if score > best_score:\n",
    "                best_score = score\n",
    "                best_threshold = threshold\n",
    "            \n",
    "#     best_score = score\n",
    "#     best_threshold = threshold\n",
    "    return best_score, best_threshold"
   ]
  },
  {
   "cell_type": "code",
   "execution_count": null,
   "id": "08e547dd",
   "metadata": {},
   "outputs": [],
   "source": []
  },
  {
   "cell_type": "code",
   "execution_count": null,
   "id": "8fda1d51",
   "metadata": {},
   "outputs": [],
   "source": [
    "def objective(trial):\n",
    "    TH = None\n",
    "    \n",
    "    params = {}    \n",
    "    for i in range(len(final_preds)):\n",
    "#         if i == 0:\n",
    "#             params[\"w1\"] = 0.0\n",
    "\n",
    "        \n",
    "#         else:\n",
    "        params[f\"w{i+1}\"] = trial.suggest_float(f'w{i+1}', 0, 1) \n",
    "        \n",
    "        \n",
    "#     params['w1'] = 0.0\n",
    "#     params['w6'] = 0.0\n",
    "#     params['w9'] = 0.0\n",
    "#     params['w13'] = 0.0\n",
    "    \n",
    "        \n",
    "    score, best_threshold  = boost_dice(params, TH=TH)\n",
    "    params['threshold'] = best_threshold\n",
    "    if not TH:\n",
    "        print(params)\n",
    "        \n",
    "    return score\n"
   ]
  },
  {
   "cell_type": "code",
   "execution_count": null,
   "id": "890d8c5e",
   "metadata": {},
   "outputs": [],
   "source": [
    "\n",
    "# print(study.best_trial.value) \n",
    "# len(x_preds)\n",
    "\n",
    "# for i in tqdm(range(24)):\n",
    "#     print(i)"
   ]
  },
  {
   "cell_type": "code",
   "execution_count": null,
   "id": "5e5242c8",
   "metadata": {},
   "outputs": [],
   "source": [
    "# best_value = 0\n",
    "# best_idx = 0\n",
    "\n",
    "# for i in tqdm(range(len(x))):\n",
    "#     if i in [3, 9, 0, 11]:\n",
    "#         continue\n",
    "    \n",
    "    \n",
    "#     5, 8, 12, 14, 16\n",
    "#     final_preds = [x[3], x[9], x[0], x[11], x[7]]\n",
    "\n",
    "#     study = optuna.create_study(direction='maximize')\n",
    "#     study.optimize(objective, n_trials=100)\n",
    "#     best_params = study.best_params\n",
    "    \n",
    "#     if study.best_trial.value > best_value:\n",
    "#         best_idx = i\n",
    "#         best_value = study.best_trial.value\n",
    "        \n",
    "#     print(f\"Current : {i}, {best_value}, {best_idx}\")\n",
    "#     print(\"*\"*100)\n",
    "    "
   ]
  },
  {
   "cell_type": "code",
   "execution_count": 88,
   "id": "0b12e7f5",
   "metadata": {},
   "outputs": [],
   "source": [
    "# print(best_value, best_idx)\n",
    "\n",
    "# x = final_preds\n",
    "\n",
    "# final_preds = x[1:]\n",
    "\n",
    "# final_preds = [x[1], x[2], x[3], x[5], x[6], x[7], x[9]]"
   ]
  },
  {
   "cell_type": "code",
   "execution_count": 109,
   "id": "8b68058c",
   "metadata": {},
   "outputs": [
    {
     "name": "stdout",
     "output_type": "stream",
     "text": [
      "0.6855003 0.07\n"
     ]
    }
   ],
   "source": [
    "final_preds1 = nn.Sigmoid()(preds1) # 0.05\n",
    "final_preds2 = nn.Sigmoid()(preds2) # 0.06\n",
    "\n",
    "final_preds = 0.96*final_preds1 + 0.04*final_preds2\n",
    "\n",
    "\n",
    "\n",
    "best_threshold = 0.0\n",
    "best_dice_score = 0.0\n",
    "for threshold in [i / 100 for i in range(101)] :\n",
    "    score = dice_coef(model_masks, final_preds, thr=threshold).cpu().detach().numpy() \n",
    "    if score > best_dice_score:\n",
    "        best_dice_score = score\n",
    "        best_threshold = threshold\n",
    "print(best_dice_score, best_threshold)\n",
    "\n",
    "\n",
    "# dice_coef(model_masks, final_preds2, thr=0.06).cpu().detach().numpy()"
   ]
  },
  {
   "cell_type": "code",
   "execution_count": null,
   "id": "9eb688fd",
   "metadata": {},
   "outputs": [],
   "source": [
    "#0.6854916 0.07\n",
    "# 0.6855003 0.07\n"
   ]
  },
  {
   "cell_type": "code",
   "execution_count": null,
   "id": "62ae925c",
   "metadata": {},
   "outputs": [],
   "source": []
  },
  {
   "cell_type": "code",
   "execution_count": null,
   "id": "10ad5e19",
   "metadata": {},
   "outputs": [],
   "source": []
  },
  {
   "cell_type": "code",
   "execution_count": 90,
   "id": "4b40fd07",
   "metadata": {},
   "outputs": [
    {
     "name": "stderr",
     "output_type": "stream",
     "text": [
      "[I 2023-06-28 19:53:58,009] A new study created in memory with name: no-name-8c5deda7-0a73-4a30-9cad-9335394c7e80\n",
      "[I 2023-06-28 19:53:58,548] Trial 0 finished with value: 0.6826614737510681 and parameters: {'w1': 0.6819514923460488, 'w2': 0.5134967866365887}. Best is trial 0 with value: 0.6826614737510681.\n"
     ]
    },
    {
     "name": "stdout",
     "output_type": "stream",
     "text": [
      "{'w1': 0.6819514923460488, 'w2': 0.5134967866365887, 'threshold': 0.5}\n"
     ]
    },
    {
     "name": "stderr",
     "output_type": "stream",
     "text": [
      "[I 2023-06-28 19:53:59,059] Trial 1 finished with value: 0.6826614737510681 and parameters: {'w1': 0.505393000296361, 'w2': 0.642394165801762}. Best is trial 0 with value: 0.6826614737510681.\n"
     ]
    },
    {
     "name": "stdout",
     "output_type": "stream",
     "text": [
      "{'w1': 0.505393000296361, 'w2': 0.642394165801762, 'threshold': 0.5}\n"
     ]
    },
    {
     "name": "stderr",
     "output_type": "stream",
     "text": [
      "[I 2023-06-28 19:53:59,570] Trial 2 finished with value: 0.6826614737510681 and parameters: {'w1': 0.5309692128142107, 'w2': 0.3985827468047545}. Best is trial 0 with value: 0.6826614737510681.\n"
     ]
    },
    {
     "name": "stdout",
     "output_type": "stream",
     "text": [
      "{'w1': 0.5309692128142107, 'w2': 0.3985827468047545, 'threshold': 0.5}\n"
     ]
    },
    {
     "name": "stderr",
     "output_type": "stream",
     "text": [
      "[I 2023-06-28 19:54:00,081] Trial 3 finished with value: 0.6826614737510681 and parameters: {'w1': 0.6272221360918051, 'w2': 0.6569376631624027}. Best is trial 0 with value: 0.6826614737510681.\n"
     ]
    },
    {
     "name": "stdout",
     "output_type": "stream",
     "text": [
      "{'w1': 0.6272221360918051, 'w2': 0.6569376631624027, 'threshold': 0.5}\n"
     ]
    },
    {
     "name": "stderr",
     "output_type": "stream",
     "text": [
      "[I 2023-06-28 19:54:00,592] Trial 4 finished with value: 0.6826614737510681 and parameters: {'w1': 0.7717574986460285, 'w2': 0.6544700854530343}. Best is trial 0 with value: 0.6826614737510681.\n"
     ]
    },
    {
     "name": "stdout",
     "output_type": "stream",
     "text": [
      "{'w1': 0.7717574986460285, 'w2': 0.6544700854530343, 'threshold': 0.5}\n"
     ]
    },
    {
     "name": "stderr",
     "output_type": "stream",
     "text": [
      "[I 2023-06-28 19:54:01,109] Trial 5 finished with value: 0.6826614737510681 and parameters: {'w1': 0.7851659930202428, 'w2': 0.7280986614565348}. Best is trial 0 with value: 0.6826614737510681.\n"
     ]
    },
    {
     "name": "stdout",
     "output_type": "stream",
     "text": [
      "{'w1': 0.7851659930202428, 'w2': 0.7280986614565348, 'threshold': 0.5}\n"
     ]
    },
    {
     "name": "stderr",
     "output_type": "stream",
     "text": [
      "[I 2023-06-28 19:54:01,619] Trial 6 finished with value: 0.6826614737510681 and parameters: {'w1': 0.13284088344561273, 'w2': 0.7305300834167942}. Best is trial 0 with value: 0.6826614737510681.\n"
     ]
    },
    {
     "name": "stdout",
     "output_type": "stream",
     "text": [
      "{'w1': 0.13284088344561273, 'w2': 0.7305300834167942, 'threshold': 0.5}\n"
     ]
    },
    {
     "name": "stderr",
     "output_type": "stream",
     "text": [
      "[I 2023-06-28 19:54:02,130] Trial 7 finished with value: 0.6826614737510681 and parameters: {'w1': 0.7701235659385484, 'w2': 0.04413245226742968}. Best is trial 0 with value: 0.6826614737510681.\n"
     ]
    },
    {
     "name": "stdout",
     "output_type": "stream",
     "text": [
      "{'w1': 0.7701235659385484, 'w2': 0.04413245226742968, 'threshold': 0.5}\n"
     ]
    },
    {
     "name": "stderr",
     "output_type": "stream",
     "text": [
      "[I 2023-06-28 19:54:02,638] Trial 8 finished with value: 0.6826614737510681 and parameters: {'w1': 0.3357791701015671, 'w2': 0.46040768719823977}. Best is trial 0 with value: 0.6826614737510681.\n"
     ]
    },
    {
     "name": "stdout",
     "output_type": "stream",
     "text": [
      "{'w1': 0.3357791701015671, 'w2': 0.46040768719823977, 'threshold': 0.5}\n"
     ]
    },
    {
     "name": "stderr",
     "output_type": "stream",
     "text": [
      "[I 2023-06-28 19:54:03,147] Trial 9 finished with value: 0.6826614737510681 and parameters: {'w1': 0.3485513259525166, 'w2': 0.4404631269004404}. Best is trial 0 with value: 0.6826614737510681.\n"
     ]
    },
    {
     "name": "stdout",
     "output_type": "stream",
     "text": [
      "{'w1': 0.3485513259525166, 'w2': 0.4404631269004404, 'threshold': 0.5}\n"
     ]
    },
    {
     "name": "stderr",
     "output_type": "stream",
     "text": [
      "[I 2023-06-28 19:54:03,671] Trial 10 finished with value: 0.6826614737510681 and parameters: {'w1': 0.9545822470857325, 'w2': 0.9060582300777009}. Best is trial 0 with value: 0.6826614737510681.\n"
     ]
    },
    {
     "name": "stdout",
     "output_type": "stream",
     "text": [
      "{'w1': 0.9545822470857325, 'w2': 0.9060582300777009, 'threshold': 0.5}\n"
     ]
    },
    {
     "name": "stderr",
     "output_type": "stream",
     "text": [
      "[I 2023-06-28 19:54:04,203] Trial 11 finished with value: 0.6826614737510681 and parameters: {'w1': 0.4716550543889523, 'w2': 0.2703054118228855}. Best is trial 0 with value: 0.6826614737510681.\n"
     ]
    },
    {
     "name": "stdout",
     "output_type": "stream",
     "text": [
      "{'w1': 0.4716550543889523, 'w2': 0.2703054118228855, 'threshold': 0.5}\n"
     ]
    },
    {
     "name": "stderr",
     "output_type": "stream",
     "text": [
      "[I 2023-06-28 19:54:04,733] Trial 12 finished with value: 0.6826614737510681 and parameters: {'w1': 0.6010340620532852, 'w2': 0.5644007722458761}. Best is trial 0 with value: 0.6826614737510681.\n"
     ]
    },
    {
     "name": "stdout",
     "output_type": "stream",
     "text": [
      "{'w1': 0.6010340620532852, 'w2': 0.5644007722458761, 'threshold': 0.5}\n"
     ]
    },
    {
     "name": "stderr",
     "output_type": "stream",
     "text": [
      "[I 2023-06-28 19:54:05,256] Trial 13 finished with value: 0.6826614737510681 and parameters: {'w1': 0.4612496610345776, 'w2': 0.8115795299240512}. Best is trial 0 with value: 0.6826614737510681.\n"
     ]
    },
    {
     "name": "stdout",
     "output_type": "stream",
     "text": [
      "{'w1': 0.4612496610345776, 'w2': 0.8115795299240512, 'threshold': 0.5}\n"
     ]
    },
    {
     "name": "stderr",
     "output_type": "stream",
     "text": [
      "[I 2023-06-28 19:54:05,777] Trial 14 finished with value: 0.6826614737510681 and parameters: {'w1': 0.03190908048867758, 'w2': 0.9988609524003766}. Best is trial 0 with value: 0.6826614737510681.\n"
     ]
    },
    {
     "name": "stdout",
     "output_type": "stream",
     "text": [
      "{'w1': 0.03190908048867758, 'w2': 0.9988609524003766, 'threshold': 0.5}\n"
     ]
    },
    {
     "name": "stderr",
     "output_type": "stream",
     "text": [
      "[I 2023-06-28 19:54:06,295] Trial 15 finished with value: 0.6826614737510681 and parameters: {'w1': 0.6761777629242984, 'w2': 0.5941605285822894}. Best is trial 0 with value: 0.6826614737510681.\n"
     ]
    },
    {
     "name": "stdout",
     "output_type": "stream",
     "text": [
      "{'w1': 0.6761777629242984, 'w2': 0.5941605285822894, 'threshold': 0.5}\n"
     ]
    },
    {
     "name": "stderr",
     "output_type": "stream",
     "text": [
      "[I 2023-06-28 19:54:06,816] Trial 16 finished with value: 0.6826614737510681 and parameters: {'w1': 0.9442402738873558, 'w2': 0.5243875053498095}. Best is trial 0 with value: 0.6826614737510681.\n"
     ]
    },
    {
     "name": "stdout",
     "output_type": "stream",
     "text": [
      "{'w1': 0.9442402738873558, 'w2': 0.5243875053498095, 'threshold': 0.5}\n"
     ]
    },
    {
     "name": "stderr",
     "output_type": "stream",
     "text": [
      "[I 2023-06-28 19:54:07,344] Trial 17 finished with value: 0.6826614737510681 and parameters: {'w1': 0.36532688608387875, 'w2': 0.33117171051421257}. Best is trial 0 with value: 0.6826614737510681.\n"
     ]
    },
    {
     "name": "stdout",
     "output_type": "stream",
     "text": [
      "{'w1': 0.36532688608387875, 'w2': 0.33117171051421257, 'threshold': 0.5}\n"
     ]
    },
    {
     "name": "stderr",
     "output_type": "stream",
     "text": [
      "[I 2023-06-28 19:54:07,871] Trial 18 finished with value: 0.6826614737510681 and parameters: {'w1': 0.6825105743996454, 'w2': 0.8080236101092053}. Best is trial 0 with value: 0.6826614737510681.\n"
     ]
    },
    {
     "name": "stdout",
     "output_type": "stream",
     "text": [
      "{'w1': 0.6825105743996454, 'w2': 0.8080236101092053, 'threshold': 0.5}\n"
     ]
    },
    {
     "name": "stderr",
     "output_type": "stream",
     "text": [
      "[I 2023-06-28 19:54:08,386] Trial 19 finished with value: 0.6826614737510681 and parameters: {'w1': 0.5328404265100051, 'w2': 0.5293638434395588}. Best is trial 0 with value: 0.6826614737510681.\n"
     ]
    },
    {
     "name": "stdout",
     "output_type": "stream",
     "text": [
      "{'w1': 0.5328404265100051, 'w2': 0.5293638434395588, 'threshold': 0.5}\n"
     ]
    },
    {
     "name": "stderr",
     "output_type": "stream",
     "text": [
      "[I 2023-06-28 19:54:08,902] Trial 20 finished with value: 0.6826614737510681 and parameters: {'w1': 0.24081606842881365, 'w2': 0.2866980977936449}. Best is trial 0 with value: 0.6826614737510681.\n"
     ]
    },
    {
     "name": "stdout",
     "output_type": "stream",
     "text": [
      "{'w1': 0.24081606842881365, 'w2': 0.2866980977936449, 'threshold': 0.5}\n"
     ]
    },
    {
     "name": "stderr",
     "output_type": "stream",
     "text": [
      "[I 2023-06-28 19:54:09,417] Trial 21 finished with value: 0.6826614737510681 and parameters: {'w1': 0.5585882007315613, 'w2': 0.46369986700353105}. Best is trial 0 with value: 0.6826614737510681.\n"
     ]
    },
    {
     "name": "stdout",
     "output_type": "stream",
     "text": [
      "{'w1': 0.5585882007315613, 'w2': 0.46369986700353105, 'threshold': 0.5}\n"
     ]
    },
    {
     "name": "stderr",
     "output_type": "stream",
     "text": [
      "[I 2023-06-28 19:54:09,933] Trial 22 finished with value: 0.6826614737510681 and parameters: {'w1': 0.46312862399891314, 'w2': 0.39380729336202264}. Best is trial 0 with value: 0.6826614737510681.\n"
     ]
    },
    {
     "name": "stdout",
     "output_type": "stream",
     "text": [
      "{'w1': 0.46312862399891314, 'w2': 0.39380729336202264, 'threshold': 0.5}\n"
     ]
    },
    {
     "name": "stderr",
     "output_type": "stream",
     "text": [
      "[I 2023-06-28 19:54:10,448] Trial 23 finished with value: 0.6826614737510681 and parameters: {'w1': 0.5532745824250341, 'w2': 0.38097660081817264}. Best is trial 0 with value: 0.6826614737510681.\n"
     ]
    },
    {
     "name": "stdout",
     "output_type": "stream",
     "text": [
      "{'w1': 0.5532745824250341, 'w2': 0.38097660081817264, 'threshold': 0.5}\n"
     ]
    },
    {
     "name": "stderr",
     "output_type": "stream",
     "text": [
      "[I 2023-06-28 19:54:10,961] Trial 24 finished with value: 0.6826614737510681 and parameters: {'w1': 0.425282403754383, 'w2': 0.5711024876713884}. Best is trial 0 with value: 0.6826614737510681.\n"
     ]
    },
    {
     "name": "stdout",
     "output_type": "stream",
     "text": [
      "{'w1': 0.425282403754383, 'w2': 0.5711024876713884, 'threshold': 0.5}\n"
     ]
    },
    {
     "name": "stderr",
     "output_type": "stream",
     "text": [
      "[I 2023-06-28 19:54:11,479] Trial 25 finished with value: 0.6826614737510681 and parameters: {'w1': 0.530960898577172, 'w2': 0.6303614442863893}. Best is trial 0 with value: 0.6826614737510681.\n"
     ]
    },
    {
     "name": "stdout",
     "output_type": "stream",
     "text": [
      "{'w1': 0.530960898577172, 'w2': 0.6303614442863893, 'threshold': 0.5}\n"
     ]
    },
    {
     "name": "stderr",
     "output_type": "stream",
     "text": [
      "[I 2023-06-28 19:54:12,000] Trial 26 finished with value: 0.6826614737510681 and parameters: {'w1': 0.6431443617798158, 'w2': 0.4741428589304951}. Best is trial 0 with value: 0.6826614737510681.\n"
     ]
    },
    {
     "name": "stdout",
     "output_type": "stream",
     "text": [
      "{'w1': 0.6431443617798158, 'w2': 0.4741428589304951, 'threshold': 0.5}\n"
     ]
    },
    {
     "name": "stderr",
     "output_type": "stream",
     "text": [
      "[I 2023-06-28 19:54:12,521] Trial 27 finished with value: 0.6826614737510681 and parameters: {'w1': 0.3933773401627476, 'w2': 0.21871344406266202}. Best is trial 0 with value: 0.6826614737510681.\n"
     ]
    },
    {
     "name": "stdout",
     "output_type": "stream",
     "text": [
      "{'w1': 0.3933773401627476, 'w2': 0.21871344406266202, 'threshold': 0.5}\n"
     ]
    },
    {
     "name": "stderr",
     "output_type": "stream",
     "text": [
      "[I 2023-06-28 19:54:13,039] Trial 28 finished with value: 0.6826614737510681 and parameters: {'w1': 0.2849412573195411, 'w2': 0.5052149815450662}. Best is trial 0 with value: 0.6826614737510681.\n"
     ]
    },
    {
     "name": "stdout",
     "output_type": "stream",
     "text": [
      "{'w1': 0.2849412573195411, 'w2': 0.5052149815450662, 'threshold': 0.5}\n"
     ]
    },
    {
     "name": "stderr",
     "output_type": "stream",
     "text": [
      "[I 2023-06-28 19:54:13,561] Trial 29 finished with value: 0.6826614737510681 and parameters: {'w1': 0.6105472211043731, 'w2': 0.6240037963821166}. Best is trial 0 with value: 0.6826614737510681.\n"
     ]
    },
    {
     "name": "stdout",
     "output_type": "stream",
     "text": [
      "{'w1': 0.6105472211043731, 'w2': 0.6240037963821166, 'threshold': 0.5}\n"
     ]
    },
    {
     "name": "stderr",
     "output_type": "stream",
     "text": [
      "[I 2023-06-28 19:54:14,088] Trial 30 finished with value: 0.6826614737510681 and parameters: {'w1': 0.5203536938426062, 'w2': 0.6842891406294682}. Best is trial 0 with value: 0.6826614737510681.\n"
     ]
    },
    {
     "name": "stdout",
     "output_type": "stream",
     "text": [
      "{'w1': 0.5203536938426062, 'w2': 0.6842891406294682, 'threshold': 0.5}\n"
     ]
    },
    {
     "name": "stderr",
     "output_type": "stream",
     "text": [
      "[I 2023-06-28 19:54:14,606] Trial 31 finished with value: 0.6826614737510681 and parameters: {'w1': 0.7068508518633229, 'w2': 0.6821562351864572}. Best is trial 0 with value: 0.6826614737510681.\n"
     ]
    },
    {
     "name": "stdout",
     "output_type": "stream",
     "text": [
      "{'w1': 0.7068508518633229, 'w2': 0.6821562351864572, 'threshold': 0.5}\n"
     ]
    },
    {
     "name": "stderr",
     "output_type": "stream",
     "text": [
      "[I 2023-06-28 19:54:15,126] Trial 32 finished with value: 0.6826614737510681 and parameters: {'w1': 0.6053024309498583, 'w2': 0.5996476982126591}. Best is trial 0 with value: 0.6826614737510681.\n"
     ]
    },
    {
     "name": "stdout",
     "output_type": "stream",
     "text": [
      "{'w1': 0.6053024309498583, 'w2': 0.5996476982126591, 'threshold': 0.5}\n"
     ]
    },
    {
     "name": "stderr",
     "output_type": "stream",
     "text": [
      "[I 2023-06-28 19:54:15,646] Trial 33 finished with value: 0.6826614737510681 and parameters: {'w1': 0.7450184894162555, 'w2': 0.6756115840550724}. Best is trial 0 with value: 0.6826614737510681.\n"
     ]
    },
    {
     "name": "stdout",
     "output_type": "stream",
     "text": [
      "{'w1': 0.7450184894162555, 'w2': 0.6756115840550724, 'threshold': 0.5}\n"
     ]
    },
    {
     "name": "stderr",
     "output_type": "stream",
     "text": [
      "[I 2023-06-28 19:54:16,163] Trial 34 finished with value: 0.6826614737510681 and parameters: {'w1': 0.8008959258084934, 'w2': 0.7438425290117439}. Best is trial 0 with value: 0.6826614737510681.\n"
     ]
    },
    {
     "name": "stdout",
     "output_type": "stream",
     "text": [
      "{'w1': 0.8008959258084934, 'w2': 0.7438425290117439, 'threshold': 0.5}\n"
     ]
    },
    {
     "name": "stderr",
     "output_type": "stream",
     "text": [
      "[I 2023-06-28 19:54:16,687] Trial 35 finished with value: 0.6826614737510681 and parameters: {'w1': 0.49763163443374775, 'w2': 0.6441606680927012}. Best is trial 0 with value: 0.6826614737510681.\n"
     ]
    },
    {
     "name": "stdout",
     "output_type": "stream",
     "text": [
      "{'w1': 0.49763163443374775, 'w2': 0.6441606680927012, 'threshold': 0.5}\n"
     ]
    },
    {
     "name": "stderr",
     "output_type": "stream",
     "text": [
      "[I 2023-06-28 19:54:17,205] Trial 36 finished with value: 0.6826614737510681 and parameters: {'w1': 0.6078651749103484, 'w2': 0.5627715141298264}. Best is trial 0 with value: 0.6826614737510681.\n"
     ]
    },
    {
     "name": "stdout",
     "output_type": "stream",
     "text": [
      "{'w1': 0.6078651749103484, 'w2': 0.5627715141298264, 'threshold': 0.5}\n"
     ]
    },
    {
     "name": "stderr",
     "output_type": "stream",
     "text": [
      "[I 2023-06-28 19:54:17,733] Trial 37 finished with value: 0.6826614737510681 and parameters: {'w1': 0.7422652236197789, 'w2': 0.5371770416375845}. Best is trial 0 with value: 0.6826614737510681.\n"
     ]
    },
    {
     "name": "stdout",
     "output_type": "stream",
     "text": [
      "{'w1': 0.7422652236197789, 'w2': 0.5371770416375845, 'threshold': 0.5}\n"
     ]
    },
    {
     "name": "stderr",
     "output_type": "stream",
     "text": [
      "[I 2023-06-28 19:54:18,255] Trial 38 finished with value: 0.6826614737510681 and parameters: {'w1': 0.4312991964773901, 'w2': 0.39465178190364936}. Best is trial 0 with value: 0.6826614737510681.\n"
     ]
    },
    {
     "name": "stdout",
     "output_type": "stream",
     "text": [
      "{'w1': 0.4312991964773901, 'w2': 0.39465178190364936, 'threshold': 0.5}\n"
     ]
    },
    {
     "name": "stderr",
     "output_type": "stream",
     "text": [
      "[I 2023-06-28 19:54:18,770] Trial 39 finished with value: 0.6826614737510681 and parameters: {'w1': 0.7950306843937818, 'w2': 0.49672310224672234}. Best is trial 0 with value: 0.6826614737510681.\n"
     ]
    },
    {
     "name": "stdout",
     "output_type": "stream",
     "text": [
      "{'w1': 0.7950306843937818, 'w2': 0.49672310224672234, 'threshold': 0.5}\n"
     ]
    },
    {
     "name": "stderr",
     "output_type": "stream",
     "text": [
      "[I 2023-06-28 19:54:19,288] Trial 40 finished with value: 0.6826614737510681 and parameters: {'w1': 0.575691016325541, 'w2': 0.7190369514962092}. Best is trial 0 with value: 0.6826614737510681.\n"
     ]
    },
    {
     "name": "stdout",
     "output_type": "stream",
     "text": [
      "{'w1': 0.575691016325541, 'w2': 0.7190369514962092, 'threshold': 0.5}\n"
     ]
    },
    {
     "name": "stderr",
     "output_type": "stream",
     "text": [
      "[I 2023-06-28 19:54:19,813] Trial 41 finished with value: 0.6826614737510681 and parameters: {'w1': 0.6459012179319776, 'w2': 0.746581521805073}. Best is trial 0 with value: 0.6826614737510681.\n"
     ]
    },
    {
     "name": "stdout",
     "output_type": "stream",
     "text": [
      "{'w1': 0.6459012179319776, 'w2': 0.746581521805073, 'threshold': 0.5}\n"
     ]
    },
    {
     "name": "stderr",
     "output_type": "stream",
     "text": [
      "[I 2023-06-28 19:54:20,332] Trial 42 finished with value: 0.6826614737510681 and parameters: {'w1': 0.4972528746330716, 'w2': 0.6007276991022704}. Best is trial 0 with value: 0.6826614737510681.\n"
     ]
    },
    {
     "name": "stdout",
     "output_type": "stream",
     "text": [
      "{'w1': 0.4972528746330716, 'w2': 0.6007276991022704, 'threshold': 0.5}\n"
     ]
    },
    {
     "name": "stderr",
     "output_type": "stream",
     "text": [
      "[I 2023-06-28 19:54:20,856] Trial 43 finished with value: 0.6826614737510681 and parameters: {'w1': 0.8421513628676899, 'w2': 0.6474022330482789}. Best is trial 0 with value: 0.6826614737510681.\n"
     ]
    },
    {
     "name": "stdout",
     "output_type": "stream",
     "text": [
      "{'w1': 0.8421513628676899, 'w2': 0.6474022330482789, 'threshold': 0.5}\n"
     ]
    },
    {
     "name": "stderr",
     "output_type": "stream",
     "text": [
      "[I 2023-06-28 19:54:21,379] Trial 44 finished with value: 0.6826614737510681 and parameters: {'w1': 0.6617974837421402, 'w2': 0.5704671500271115}. Best is trial 0 with value: 0.6826614737510681.\n"
     ]
    },
    {
     "name": "stdout",
     "output_type": "stream",
     "text": [
      "{'w1': 0.6617974837421402, 'w2': 0.5704671500271115, 'threshold': 0.5}\n"
     ]
    },
    {
     "name": "stderr",
     "output_type": "stream",
     "text": [
      "[I 2023-06-28 19:54:21,897] Trial 45 finished with value: 0.6826614737510681 and parameters: {'w1': 0.7076860843747347, 'w2': 0.43902493375195006}. Best is trial 0 with value: 0.6826614737510681.\n"
     ]
    },
    {
     "name": "stdout",
     "output_type": "stream",
     "text": [
      "{'w1': 0.7076860843747347, 'w2': 0.43902493375195006, 'threshold': 0.5}\n"
     ]
    },
    {
     "name": "stderr",
     "output_type": "stream",
     "text": [
      "[I 2023-06-28 19:54:22,416] Trial 46 finished with value: 0.6826614737510681 and parameters: {'w1': 0.8484809973007909, 'w2': 0.7945410159311375}. Best is trial 0 with value: 0.6826614737510681.\n"
     ]
    },
    {
     "name": "stdout",
     "output_type": "stream",
     "text": [
      "{'w1': 0.8484809973007909, 'w2': 0.7945410159311375, 'threshold': 0.5}\n"
     ]
    },
    {
     "name": "stderr",
     "output_type": "stream",
     "text": [
      "[I 2023-06-28 19:54:22,935] Trial 47 finished with value: 0.6826614737510681 and parameters: {'w1': 0.5789913032344298, 'w2': 0.5453663345762673}. Best is trial 0 with value: 0.6826614737510681.\n"
     ]
    },
    {
     "name": "stdout",
     "output_type": "stream",
     "text": [
      "{'w1': 0.5789913032344298, 'w2': 0.5453663345762673, 'threshold': 0.5}\n"
     ]
    },
    {
     "name": "stderr",
     "output_type": "stream",
     "text": [
      "[I 2023-06-28 19:54:23,455] Trial 48 finished with value: 0.6826614737510681 and parameters: {'w1': 0.6251575557758136, 'w2': 0.8523431947311341}. Best is trial 0 with value: 0.6826614737510681.\n"
     ]
    },
    {
     "name": "stdout",
     "output_type": "stream",
     "text": [
      "{'w1': 0.6251575557758136, 'w2': 0.8523431947311341, 'threshold': 0.5}\n"
     ]
    },
    {
     "name": "stderr",
     "output_type": "stream",
     "text": [
      "[I 2023-06-28 19:54:23,970] Trial 49 finished with value: 0.6826614737510681 and parameters: {'w1': 0.6924415569783815, 'w2': 0.6991320961026829}. Best is trial 0 with value: 0.6826614737510681.\n"
     ]
    },
    {
     "name": "stdout",
     "output_type": "stream",
     "text": [
      "{'w1': 0.6924415569783815, 'w2': 0.6991320961026829, 'threshold': 0.5}\n"
     ]
    },
    {
     "name": "stderr",
     "output_type": "stream",
     "text": [
      "[I 2023-06-28 19:54:24,488] Trial 50 finished with value: 0.6826614737510681 and parameters: {'w1': 0.5579115858328648, 'w2': 0.6499112830841056}. Best is trial 0 with value: 0.6826614737510681.\n"
     ]
    },
    {
     "name": "stdout",
     "output_type": "stream",
     "text": [
      "{'w1': 0.5579115858328648, 'w2': 0.6499112830841056, 'threshold': 0.5}\n"
     ]
    },
    {
     "name": "stderr",
     "output_type": "stream",
     "text": [
      "[I 2023-06-28 19:54:25,008] Trial 51 finished with value: 0.6826614737510681 and parameters: {'w1': 0.7453776401612886, 'w2': 0.7503813416644676}. Best is trial 0 with value: 0.6826614737510681.\n"
     ]
    },
    {
     "name": "stdout",
     "output_type": "stream",
     "text": [
      "{'w1': 0.7453776401612886, 'w2': 0.7503813416644676, 'threshold': 0.5}\n"
     ]
    },
    {
     "name": "stderr",
     "output_type": "stream",
     "text": [
      "[I 2023-06-28 19:54:25,526] Trial 52 finished with value: 0.6826614737510681 and parameters: {'w1': 0.6473796197485333, 'w2': 0.6045681118642035}. Best is trial 0 with value: 0.6826614737510681.\n"
     ]
    },
    {
     "name": "stdout",
     "output_type": "stream",
     "text": [
      "{'w1': 0.6473796197485333, 'w2': 0.6045681118642035, 'threshold': 0.5}\n"
     ]
    },
    {
     "name": "stderr",
     "output_type": "stream",
     "text": [
      "[I 2023-06-28 19:54:26,044] Trial 53 finished with value: 0.6826614737510681 and parameters: {'w1': 0.8846198849999932, 'w2': 0.7084008065141429}. Best is trial 0 with value: 0.6826614737510681.\n"
     ]
    },
    {
     "name": "stdout",
     "output_type": "stream",
     "text": [
      "{'w1': 0.8846198849999932, 'w2': 0.7084008065141429, 'threshold': 0.5}\n"
     ]
    },
    {
     "name": "stderr",
     "output_type": "stream",
     "text": [
      "[I 2023-06-28 19:54:26,558] Trial 54 finished with value: 0.6826614737510681 and parameters: {'w1': 0.6872013781684675, 'w2': 0.7886978823128407}. Best is trial 0 with value: 0.6826614737510681.\n"
     ]
    },
    {
     "name": "stdout",
     "output_type": "stream",
     "text": [
      "{'w1': 0.6872013781684675, 'w2': 0.7886978823128407, 'threshold': 0.5}\n"
     ]
    },
    {
     "name": "stderr",
     "output_type": "stream",
     "text": [
      "[I 2023-06-28 19:54:27,073] Trial 55 finished with value: 0.6826614737510681 and parameters: {'w1': 0.7702936084597305, 'w2': 0.5129092601755344}. Best is trial 0 with value: 0.6826614737510681.\n"
     ]
    },
    {
     "name": "stdout",
     "output_type": "stream",
     "text": [
      "{'w1': 0.7702936084597305, 'w2': 0.5129092601755344, 'threshold': 0.5}\n"
     ]
    },
    {
     "name": "stderr",
     "output_type": "stream",
     "text": [
      "[I 2023-06-28 19:54:27,588] Trial 56 finished with value: 0.6826614737510681 and parameters: {'w1': 0.47050747642907054, 'w2': 0.6714120445620947}. Best is trial 0 with value: 0.6826614737510681.\n"
     ]
    },
    {
     "name": "stdout",
     "output_type": "stream",
     "text": [
      "{'w1': 0.47050747642907054, 'w2': 0.6714120445620947, 'threshold': 0.5}\n"
     ]
    },
    {
     "name": "stderr",
     "output_type": "stream",
     "text": [
      "[I 2023-06-28 19:54:28,103] Trial 57 finished with value: 0.6826614737510681 and parameters: {'w1': 0.5857810958959375, 'w2': 0.5841879735834441}. Best is trial 0 with value: 0.6826614737510681.\n"
     ]
    },
    {
     "name": "stdout",
     "output_type": "stream",
     "text": [
      "{'w1': 0.5857810958959375, 'w2': 0.5841879735834441, 'threshold': 0.5}\n"
     ]
    },
    {
     "name": "stderr",
     "output_type": "stream",
     "text": [
      "[I 2023-06-28 19:54:28,619] Trial 58 finished with value: 0.6826614737510681 and parameters: {'w1': 0.5271619137857106, 'w2': 0.6143815753548172}. Best is trial 0 with value: 0.6826614737510681.\n"
     ]
    },
    {
     "name": "stdout",
     "output_type": "stream",
     "text": [
      "{'w1': 0.5271619137857106, 'w2': 0.6143815753548172, 'threshold': 0.5}\n"
     ]
    },
    {
     "name": "stderr",
     "output_type": "stream",
     "text": [
      "[I 2023-06-28 19:54:29,134] Trial 59 finished with value: 0.6826614737510681 and parameters: {'w1': 0.9806981534697078, 'w2': 0.4666323753563568}. Best is trial 0 with value: 0.6826614737510681.\n"
     ]
    },
    {
     "name": "stdout",
     "output_type": "stream",
     "text": [
      "{'w1': 0.9806981534697078, 'w2': 0.4666323753563568, 'threshold': 0.5}\n"
     ]
    },
    {
     "name": "stderr",
     "output_type": "stream",
     "text": [
      "[I 2023-06-28 19:54:29,648] Trial 60 finished with value: 0.6826614737510681 and parameters: {'w1': 0.7184855379506324, 'w2': 0.8486691264560826}. Best is trial 0 with value: 0.6826614737510681.\n"
     ]
    },
    {
     "name": "stdout",
     "output_type": "stream",
     "text": [
      "{'w1': 0.7184855379506324, 'w2': 0.8486691264560826, 'threshold': 0.5}\n"
     ]
    },
    {
     "name": "stderr",
     "output_type": "stream",
     "text": [
      "[I 2023-06-28 19:54:30,165] Trial 61 finished with value: 0.6826614737510681 and parameters: {'w1': 0.6585618380032534, 'w2': 0.727273977548671}. Best is trial 0 with value: 0.6826614737510681.\n"
     ]
    },
    {
     "name": "stdout",
     "output_type": "stream",
     "text": [
      "{'w1': 0.6585618380032534, 'w2': 0.727273977548671, 'threshold': 0.5}\n"
     ]
    },
    {
     "name": "stderr",
     "output_type": "stream",
     "text": [
      "[I 2023-06-28 19:54:30,680] Trial 62 finished with value: 0.6826614737510681 and parameters: {'w1': 0.06730663190802844, 'w2': 0.7675911024865447}. Best is trial 0 with value: 0.6826614737510681.\n"
     ]
    },
    {
     "name": "stdout",
     "output_type": "stream",
     "text": [
      "{'w1': 0.06730663190802844, 'w2': 0.7675911024865447, 'threshold': 0.5}\n"
     ]
    },
    {
     "name": "stderr",
     "output_type": "stream",
     "text": [
      "[I 2023-06-28 19:54:31,195] Trial 63 finished with value: 0.6826614737510681 and parameters: {'w1': 0.6211227638666871, 'w2': 0.7096529721576207}. Best is trial 0 with value: 0.6826614737510681.\n"
     ]
    },
    {
     "name": "stdout",
     "output_type": "stream",
     "text": [
      "{'w1': 0.6211227638666871, 'w2': 0.7096529721576207, 'threshold': 0.5}\n"
     ]
    },
    {
     "name": "stderr",
     "output_type": "stream",
     "text": [
      "[I 2023-06-28 19:54:31,710] Trial 64 finished with value: 0.6826614737510681 and parameters: {'w1': 0.3669098576571239, 'w2': 0.6642819811804874}. Best is trial 0 with value: 0.6826614737510681.\n"
     ]
    },
    {
     "name": "stdout",
     "output_type": "stream",
     "text": [
      "{'w1': 0.3669098576571239, 'w2': 0.6642819811804874, 'threshold': 0.5}\n"
     ]
    },
    {
     "name": "stderr",
     "output_type": "stream",
     "text": [
      "[I 2023-06-28 19:54:32,225] Trial 65 finished with value: 0.6826614737510681 and parameters: {'w1': 0.5497365713104971, 'w2': 0.6277066583719295}. Best is trial 0 with value: 0.6826614737510681.\n"
     ]
    },
    {
     "name": "stdout",
     "output_type": "stream",
     "text": [
      "{'w1': 0.5497365713104971, 'w2': 0.6277066583719295, 'threshold': 0.5}\n"
     ]
    },
    {
     "name": "stderr",
     "output_type": "stream",
     "text": [
      "[I 2023-06-28 19:54:32,740] Trial 66 finished with value: 0.6826614737510681 and parameters: {'w1': 0.4960645089625536, 'w2': 0.5455185233271487}. Best is trial 0 with value: 0.6826614737510681.\n"
     ]
    },
    {
     "name": "stdout",
     "output_type": "stream",
     "text": [
      "{'w1': 0.4960645089625536, 'w2': 0.5455185233271487, 'threshold': 0.5}\n"
     ]
    },
    {
     "name": "stderr",
     "output_type": "stream",
     "text": [
      "[I 2023-06-28 19:54:33,255] Trial 67 finished with value: 0.6826614737510681 and parameters: {'w1': 0.438760669259599, 'w2': 0.6899357301821418}. Best is trial 0 with value: 0.6826614737510681.\n"
     ]
    },
    {
     "name": "stdout",
     "output_type": "stream",
     "text": [
      "{'w1': 0.438760669259599, 'w2': 0.6899357301821418, 'threshold': 0.5}\n"
     ]
    },
    {
     "name": "stderr",
     "output_type": "stream",
     "text": [
      "[I 2023-06-28 19:54:33,769] Trial 68 finished with value: 0.6826614737510681 and parameters: {'w1': 0.6730919812987612, 'w2': 0.6446746931710574}. Best is trial 0 with value: 0.6826614737510681.\n"
     ]
    },
    {
     "name": "stdout",
     "output_type": "stream",
     "text": [
      "{'w1': 0.6730919812987612, 'w2': 0.6446746931710574, 'threshold': 0.5}\n"
     ]
    },
    {
     "name": "stderr",
     "output_type": "stream",
     "text": [
      "[I 2023-06-28 19:54:34,284] Trial 69 finished with value: 0.6826614737510681 and parameters: {'w1': 0.5865096979312713, 'w2': 0.7303034915830304}. Best is trial 0 with value: 0.6826614737510681.\n"
     ]
    },
    {
     "name": "stdout",
     "output_type": "stream",
     "text": [
      "{'w1': 0.5865096979312713, 'w2': 0.7303034915830304, 'threshold': 0.5}\n"
     ]
    },
    {
     "name": "stderr",
     "output_type": "stream",
     "text": [
      "[I 2023-06-28 19:54:34,798] Trial 70 finished with value: 0.6826614737510681 and parameters: {'w1': 0.5228575841151812, 'w2': 0.5822972892538638}. Best is trial 0 with value: 0.6826614737510681.\n"
     ]
    },
    {
     "name": "stdout",
     "output_type": "stream",
     "text": [
      "{'w1': 0.5228575841151812, 'w2': 0.5822972892538638, 'threshold': 0.5}\n"
     ]
    },
    {
     "name": "stderr",
     "output_type": "stream",
     "text": [
      "[I 2023-06-28 19:54:35,313] Trial 71 finished with value: 0.6826614737510681 and parameters: {'w1': 0.7318490035001767, 'w2': 0.009919662296804743}. Best is trial 0 with value: 0.6826614737510681.\n"
     ]
    },
    {
     "name": "stdout",
     "output_type": "stream",
     "text": [
      "{'w1': 0.7318490035001767, 'w2': 0.009919662296804743, 'threshold': 0.5}\n"
     ]
    },
    {
     "name": "stderr",
     "output_type": "stream",
     "text": [
      "[I 2023-06-28 19:54:35,828] Trial 72 finished with value: 0.6826614737510681 and parameters: {'w1': 0.7715349661829227, 'w2': 0.2498838079985043}. Best is trial 0 with value: 0.6826614737510681.\n"
     ]
    },
    {
     "name": "stdout",
     "output_type": "stream",
     "text": [
      "{'w1': 0.7715349661829227, 'w2': 0.2498838079985043, 'threshold': 0.5}\n"
     ]
    },
    {
     "name": "stderr",
     "output_type": "stream",
     "text": [
      "[I 2023-06-28 19:54:36,343] Trial 73 finished with value: 0.6826614737510681 and parameters: {'w1': 0.7001988982604695, 'w2': 0.6703236280634265}. Best is trial 0 with value: 0.6826614737510681.\n"
     ]
    },
    {
     "name": "stdout",
     "output_type": "stream",
     "text": [
      "{'w1': 0.7001988982604695, 'w2': 0.6703236280634265, 'threshold': 0.5}\n"
     ]
    },
    {
     "name": "stderr",
     "output_type": "stream",
     "text": [
      "[I 2023-06-28 19:54:36,857] Trial 74 finished with value: 0.6826614737510681 and parameters: {'w1': 0.6238513274138966, 'w2': 0.6255341588862767}. Best is trial 0 with value: 0.6826614737510681.\n"
     ]
    },
    {
     "name": "stdout",
     "output_type": "stream",
     "text": [
      "{'w1': 0.6238513274138966, 'w2': 0.6255341588862767, 'threshold': 0.5}\n"
     ]
    },
    {
     "name": "stderr",
     "output_type": "stream",
     "text": [
      "[I 2023-06-28 19:54:37,371] Trial 75 finished with value: 0.6826614737510681 and parameters: {'w1': 0.3975516935762484, 'w2': 0.42983768375450704}. Best is trial 0 with value: 0.6826614737510681.\n"
     ]
    },
    {
     "name": "stdout",
     "output_type": "stream",
     "text": [
      "{'w1': 0.3975516935762484, 'w2': 0.42983768375450704, 'threshold': 0.5}\n"
     ]
    },
    {
     "name": "stderr",
     "output_type": "stream",
     "text": [
      "[I 2023-06-28 19:54:37,886] Trial 76 finished with value: 0.6826614737510681 and parameters: {'w1': 0.7651047338866142, 'w2': 0.5044628755361918}. Best is trial 0 with value: 0.6826614737510681.\n"
     ]
    },
    {
     "name": "stdout",
     "output_type": "stream",
     "text": [
      "{'w1': 0.7651047338866142, 'w2': 0.5044628755361918, 'threshold': 0.5}\n"
     ]
    },
    {
     "name": "stderr",
     "output_type": "stream",
     "text": [
      "[I 2023-06-28 19:54:38,401] Trial 77 finished with value: 0.6826614737510681 and parameters: {'w1': 0.8120852649601304, 'w2': 0.3433308506014626}. Best is trial 0 with value: 0.6826614737510681.\n"
     ]
    },
    {
     "name": "stdout",
     "output_type": "stream",
     "text": [
      "{'w1': 0.8120852649601304, 'w2': 0.3433308506014626, 'threshold': 0.5}\n"
     ]
    },
    {
     "name": "stderr",
     "output_type": "stream",
     "text": [
      "[I 2023-06-28 19:54:38,918] Trial 78 finished with value: 0.6826614737510681 and parameters: {'w1': 0.6829324403415841, 'w2': 0.7664641593377749}. Best is trial 0 with value: 0.6826614737510681.\n"
     ]
    },
    {
     "name": "stdout",
     "output_type": "stream",
     "text": [
      "{'w1': 0.6829324403415841, 'w2': 0.7664641593377749, 'threshold': 0.5}\n"
     ]
    },
    {
     "name": "stderr",
     "output_type": "stream",
     "text": [
      "[I 2023-06-28 19:54:39,435] Trial 79 finished with value: 0.6826614737510681 and parameters: {'w1': 0.7256569036622057, 'w2': 0.6928315712109319}. Best is trial 0 with value: 0.6826614737510681.\n"
     ]
    },
    {
     "name": "stdout",
     "output_type": "stream",
     "text": [
      "{'w1': 0.7256569036622057, 'w2': 0.6928315712109319, 'threshold': 0.5}\n"
     ]
    },
    {
     "name": "stderr",
     "output_type": "stream",
     "text": [
      "[I 2023-06-28 19:54:39,953] Trial 80 finished with value: 0.6826614737510681 and parameters: {'w1': 0.6377080078444098, 'w2': 0.5590641887207938}. Best is trial 0 with value: 0.6826614737510681.\n"
     ]
    },
    {
     "name": "stdout",
     "output_type": "stream",
     "text": [
      "{'w1': 0.6377080078444098, 'w2': 0.5590641887207938, 'threshold': 0.5}\n"
     ]
    },
    {
     "name": "stderr",
     "output_type": "stream",
     "text": [
      "[I 2023-06-28 19:54:40,472] Trial 81 finished with value: 0.6826614737510681 and parameters: {'w1': 0.21894217669764185, 'w2': 0.5376195831780254}. Best is trial 0 with value: 0.6826614737510681.\n"
     ]
    },
    {
     "name": "stdout",
     "output_type": "stream",
     "text": [
      "{'w1': 0.21894217669764185, 'w2': 0.5376195831780254, 'threshold': 0.5}\n"
     ]
    },
    {
     "name": "stderr",
     "output_type": "stream",
     "text": [
      "[I 2023-06-28 19:54:40,988] Trial 82 finished with value: 0.6826614737510681 and parameters: {'w1': 0.31968206518563624, 'w2': 0.4979812676889075}. Best is trial 0 with value: 0.6826614737510681.\n"
     ]
    },
    {
     "name": "stdout",
     "output_type": "stream",
     "text": [
      "{'w1': 0.31968206518563624, 'w2': 0.4979812676889075, 'threshold': 0.5}\n"
     ]
    },
    {
     "name": "stderr",
     "output_type": "stream",
     "text": [
      "[I 2023-06-28 19:54:41,504] Trial 83 finished with value: 0.6826614737510681 and parameters: {'w1': 0.490427386487269, 'w2': 0.4193702559698023}. Best is trial 0 with value: 0.6826614737510681.\n"
     ]
    },
    {
     "name": "stdout",
     "output_type": "stream",
     "text": [
      "{'w1': 0.490427386487269, 'w2': 0.4193702559698023, 'threshold': 0.5}\n"
     ]
    },
    {
     "name": "stderr",
     "output_type": "stream",
     "text": [
      "[I 2023-06-28 19:54:42,020] Trial 84 finished with value: 0.6826614737510681 and parameters: {'w1': 0.46229037731544254, 'w2': 0.4851836918470137}. Best is trial 0 with value: 0.6826614737510681.\n"
     ]
    },
    {
     "name": "stdout",
     "output_type": "stream",
     "text": [
      "{'w1': 0.46229037731544254, 'w2': 0.4851836918470137, 'threshold': 0.5}\n"
     ]
    },
    {
     "name": "stderr",
     "output_type": "stream",
     "text": [
      "[I 2023-06-28 19:54:42,535] Trial 85 finished with value: 0.6826614737510681 and parameters: {'w1': 0.5537385384809171, 'w2': 0.46247112053982026}. Best is trial 0 with value: 0.6826614737510681.\n"
     ]
    },
    {
     "name": "stdout",
     "output_type": "stream",
     "text": [
      "{'w1': 0.5537385384809171, 'w2': 0.46247112053982026, 'threshold': 0.5}\n"
     ]
    },
    {
     "name": "stderr",
     "output_type": "stream",
     "text": [
      "[I 2023-06-28 19:54:43,051] Trial 86 finished with value: 0.6826614737510681 and parameters: {'w1': 0.6732158867808679, 'w2': 0.6082363317729429}. Best is trial 0 with value: 0.6826614737510681.\n"
     ]
    },
    {
     "name": "stdout",
     "output_type": "stream",
     "text": [
      "{'w1': 0.6732158867808679, 'w2': 0.6082363317729429, 'threshold': 0.5}\n"
     ]
    },
    {
     "name": "stderr",
     "output_type": "stream",
     "text": [
      "[I 2023-06-28 19:54:43,566] Trial 87 finished with value: 0.6826614737510681 and parameters: {'w1': 0.5933996911954332, 'w2': 0.6571203493038217}. Best is trial 0 with value: 0.6826614737510681.\n"
     ]
    },
    {
     "name": "stdout",
     "output_type": "stream",
     "text": [
      "{'w1': 0.5933996911954332, 'w2': 0.6571203493038217, 'threshold': 0.5}\n"
     ]
    },
    {
     "name": "stderr",
     "output_type": "stream",
     "text": [
      "[I 2023-06-28 19:54:44,082] Trial 88 finished with value: 0.6826614737510681 and parameters: {'w1': 0.7513778908784196, 'w2': 0.5216519777049766}. Best is trial 0 with value: 0.6826614737510681.\n"
     ]
    },
    {
     "name": "stdout",
     "output_type": "stream",
     "text": [
      "{'w1': 0.7513778908784196, 'w2': 0.5216519777049766, 'threshold': 0.5}\n"
     ]
    },
    {
     "name": "stderr",
     "output_type": "stream",
     "text": [
      "[I 2023-06-28 19:54:44,597] Trial 89 finished with value: 0.6826614737510681 and parameters: {'w1': 0.7120059734093099, 'w2': 0.583316096745584}. Best is trial 0 with value: 0.6826614737510681.\n"
     ]
    },
    {
     "name": "stdout",
     "output_type": "stream",
     "text": [
      "{'w1': 0.7120059734093099, 'w2': 0.583316096745584, 'threshold': 0.5}\n"
     ]
    },
    {
     "name": "stderr",
     "output_type": "stream",
     "text": [
      "[I 2023-06-28 19:54:45,112] Trial 90 finished with value: 0.6826614737510681 and parameters: {'w1': 0.782313420764719, 'w2': 0.7185075844893989}. Best is trial 0 with value: 0.6826614737510681.\n"
     ]
    },
    {
     "name": "stdout",
     "output_type": "stream",
     "text": [
      "{'w1': 0.782313420764719, 'w2': 0.7185075844893989, 'threshold': 0.5}\n"
     ]
    },
    {
     "name": "stderr",
     "output_type": "stream",
     "text": [
      "[I 2023-06-28 19:54:45,627] Trial 91 finished with value: 0.6826614737510681 and parameters: {'w1': 0.5048333491983021, 'w2': 0.45030009128635373}. Best is trial 0 with value: 0.6826614737510681.\n"
     ]
    },
    {
     "name": "stdout",
     "output_type": "stream",
     "text": [
      "{'w1': 0.5048333491983021, 'w2': 0.45030009128635373, 'threshold': 0.5}\n"
     ]
    },
    {
     "name": "stderr",
     "output_type": "stream",
     "text": [
      "[I 2023-06-28 19:54:46,143] Trial 92 finished with value: 0.6826614737510681 and parameters: {'w1': 0.4517813975729615, 'w2': 0.41001954656182105}. Best is trial 0 with value: 0.6826614737510681.\n"
     ]
    },
    {
     "name": "stdout",
     "output_type": "stream",
     "text": [
      "{'w1': 0.4517813975729615, 'w2': 0.41001954656182105, 'threshold': 0.5}\n"
     ]
    },
    {
     "name": "stderr",
     "output_type": "stream",
     "text": [
      "[I 2023-06-28 19:54:46,659] Trial 93 finished with value: 0.6826614737510681 and parameters: {'w1': 0.5366560875992488, 'w2': 0.4785672599043628}. Best is trial 0 with value: 0.6826614737510681.\n"
     ]
    },
    {
     "name": "stdout",
     "output_type": "stream",
     "text": [
      "{'w1': 0.5366560875992488, 'w2': 0.4785672599043628, 'threshold': 0.5}\n"
     ]
    },
    {
     "name": "stderr",
     "output_type": "stream",
     "text": [
      "[I 2023-06-28 19:54:47,175] Trial 94 finished with value: 0.6826614737510681 and parameters: {'w1': 0.41864109220206724, 'w2': 0.35797552112011827}. Best is trial 0 with value: 0.6826614737510681.\n"
     ]
    },
    {
     "name": "stdout",
     "output_type": "stream",
     "text": [
      "{'w1': 0.41864109220206724, 'w2': 0.35797552112011827, 'threshold': 0.5}\n"
     ]
    },
    {
     "name": "stderr",
     "output_type": "stream",
     "text": [
      "[I 2023-06-28 19:54:47,690] Trial 95 finished with value: 0.6826614737510681 and parameters: {'w1': 0.4806017985791031, 'w2': 0.3847115460651524}. Best is trial 0 with value: 0.6826614737510681.\n"
     ]
    },
    {
     "name": "stdout",
     "output_type": "stream",
     "text": [
      "{'w1': 0.4806017985791031, 'w2': 0.3847115460651524, 'threshold': 0.5}\n"
     ]
    },
    {
     "name": "stderr",
     "output_type": "stream",
     "text": [
      "[I 2023-06-28 19:54:48,206] Trial 96 finished with value: 0.6826614737510681 and parameters: {'w1': 0.5742469216150379, 'w2': 0.4455764230924851}. Best is trial 0 with value: 0.6826614737510681.\n"
     ]
    },
    {
     "name": "stdout",
     "output_type": "stream",
     "text": [
      "{'w1': 0.5742469216150379, 'w2': 0.4455764230924851, 'threshold': 0.5}\n"
     ]
    },
    {
     "name": "stderr",
     "output_type": "stream",
     "text": [
      "[I 2023-06-28 19:54:48,721] Trial 97 finished with value: 0.6826614737510681 and parameters: {'w1': 0.8076543513598392, 'w2': 0.6319586379376922}. Best is trial 0 with value: 0.6826614737510681.\n"
     ]
    },
    {
     "name": "stdout",
     "output_type": "stream",
     "text": [
      "{'w1': 0.8076543513598392, 'w2': 0.6319586379376922, 'threshold': 0.5}\n"
     ]
    },
    {
     "name": "stderr",
     "output_type": "stream",
     "text": [
      "[I 2023-06-28 19:54:49,236] Trial 98 finished with value: 0.6826614737510681 and parameters: {'w1': 0.21936473723056277, 'w2': 0.31938916611542323}. Best is trial 0 with value: 0.6826614737510681.\n"
     ]
    },
    {
     "name": "stdout",
     "output_type": "stream",
     "text": [
      "{'w1': 0.21936473723056277, 'w2': 0.31938916611542323, 'threshold': 0.5}\n"
     ]
    },
    {
     "name": "stderr",
     "output_type": "stream",
     "text": [
      "[I 2023-06-28 19:54:49,752] Trial 99 finished with value: 0.6826614737510681 and parameters: {'w1': 0.6130045367563082, 'w2': 0.5211281778581908}. Best is trial 0 with value: 0.6826614737510681.\n"
     ]
    },
    {
     "name": "stdout",
     "output_type": "stream",
     "text": [
      "{'w1': 0.6130045367563082, 'w2': 0.5211281778581908, 'threshold': 0.5}\n"
     ]
    },
    {
     "name": "stderr",
     "output_type": "stream",
     "text": [
      "[I 2023-06-28 19:54:50,267] Trial 100 finished with value: 0.6826614737510681 and parameters: {'w1': 0.6580697151794496, 'w2': 0.4028021170525257}. Best is trial 0 with value: 0.6826614737510681.\n"
     ]
    },
    {
     "name": "stdout",
     "output_type": "stream",
     "text": [
      "{'w1': 0.6580697151794496, 'w2': 0.4028021170525257, 'threshold': 0.5}\n"
     ]
    },
    {
     "name": "stderr",
     "output_type": "stream",
     "text": [
      "[I 2023-06-28 19:54:50,783] Trial 101 finished with value: 0.6826614737510681 and parameters: {'w1': 0.8993068024589277, 'w2': 0.8887266751660148}. Best is trial 0 with value: 0.6826614737510681.\n"
     ]
    },
    {
     "name": "stdout",
     "output_type": "stream",
     "text": [
      "{'w1': 0.8993068024589277, 'w2': 0.8887266751660148, 'threshold': 0.5}\n"
     ]
    },
    {
     "name": "stderr",
     "output_type": "stream",
     "text": [
      "[I 2023-06-28 19:54:51,299] Trial 102 finished with value: 0.6826614737510681 and parameters: {'w1': 0.8200562189737979, 'w2': 0.5615714390064661}. Best is trial 0 with value: 0.6826614737510681.\n"
     ]
    },
    {
     "name": "stdout",
     "output_type": "stream",
     "text": [
      "{'w1': 0.8200562189737979, 'w2': 0.5615714390064661, 'threshold': 0.5}\n"
     ]
    },
    {
     "name": "stderr",
     "output_type": "stream",
     "text": [
      "[I 2023-06-28 19:54:51,814] Trial 103 finished with value: 0.6826614737510681 and parameters: {'w1': 0.7337845166173522, 'w2': 0.6753423564594084}. Best is trial 0 with value: 0.6826614737510681.\n"
     ]
    },
    {
     "name": "stdout",
     "output_type": "stream",
     "text": [
      "{'w1': 0.7337845166173522, 'w2': 0.6753423564594084, 'threshold': 0.5}\n"
     ]
    },
    {
     "name": "stderr",
     "output_type": "stream",
     "text": [
      "[I 2023-06-28 19:54:52,329] Trial 104 finished with value: 0.6826614737510681 and parameters: {'w1': 0.8801689511418446, 'w2': 0.7350514423016588}. Best is trial 0 with value: 0.6826614737510681.\n"
     ]
    },
    {
     "name": "stdout",
     "output_type": "stream",
     "text": [
      "{'w1': 0.8801689511418446, 'w2': 0.7350514423016588, 'threshold': 0.5}\n"
     ]
    },
    {
     "name": "stderr",
     "output_type": "stream",
     "text": [
      "[I 2023-06-28 19:54:52,844] Trial 105 finished with value: 0.6826614737510681 and parameters: {'w1': 0.8332102382312554, 'w2': 0.5991495440243935}. Best is trial 0 with value: 0.6826614737510681.\n"
     ]
    },
    {
     "name": "stdout",
     "output_type": "stream",
     "text": [
      "{'w1': 0.8332102382312554, 'w2': 0.5991495440243935, 'threshold': 0.5}\n"
     ]
    },
    {
     "name": "stderr",
     "output_type": "stream",
     "text": [
      "[I 2023-06-28 19:54:53,360] Trial 106 finished with value: 0.6826614737510681 and parameters: {'w1': 0.7850321038132688, 'w2': 0.7100398566281082}. Best is trial 0 with value: 0.6826614737510681.\n"
     ]
    },
    {
     "name": "stdout",
     "output_type": "stream",
     "text": [
      "{'w1': 0.7850321038132688, 'w2': 0.7100398566281082, 'threshold': 0.5}\n"
     ]
    },
    {
     "name": "stderr",
     "output_type": "stream",
     "text": [
      "[I 2023-06-28 19:54:53,876] Trial 107 finished with value: 0.6826614737510681 and parameters: {'w1': 0.7018696653694908, 'w2': 0.6467166843357385}. Best is trial 0 with value: 0.6826614737510681.\n"
     ]
    },
    {
     "name": "stdout",
     "output_type": "stream",
     "text": [
      "{'w1': 0.7018696653694908, 'w2': 0.6467166843357385, 'threshold': 0.5}\n"
     ]
    },
    {
     "name": "stderr",
     "output_type": "stream",
     "text": [
      "[I 2023-06-28 19:54:54,392] Trial 108 finished with value: 0.6826614737510681 and parameters: {'w1': 0.7522940384538807, 'w2': 0.6896678290867437}. Best is trial 0 with value: 0.6826614737510681.\n"
     ]
    },
    {
     "name": "stdout",
     "output_type": "stream",
     "text": [
      "{'w1': 0.7522940384538807, 'w2': 0.6896678290867437, 'threshold': 0.5}\n"
     ]
    },
    {
     "name": "stderr",
     "output_type": "stream",
     "text": [
      "[I 2023-06-28 19:54:54,908] Trial 109 finished with value: 0.6826614737510681 and parameters: {'w1': 0.793952160723134, 'w2': 0.4285094145157319}. Best is trial 0 with value: 0.6826614737510681.\n"
     ]
    },
    {
     "name": "stdout",
     "output_type": "stream",
     "text": [
      "{'w1': 0.793952160723134, 'w2': 0.4285094145157319, 'threshold': 0.5}\n"
     ]
    },
    {
     "name": "stderr",
     "output_type": "stream",
     "text": [
      "[I 2023-06-28 19:54:55,425] Trial 110 finished with value: 0.6826614737510681 and parameters: {'w1': 0.6354203270605037, 'w2': 0.610207768050628}. Best is trial 0 with value: 0.6826614737510681.\n"
     ]
    },
    {
     "name": "stdout",
     "output_type": "stream",
     "text": [
      "{'w1': 0.6354203270605037, 'w2': 0.610207768050628, 'threshold': 0.5}\n"
     ]
    },
    {
     "name": "stderr",
     "output_type": "stream",
     "text": [
      "[I 2023-06-28 19:54:55,942] Trial 111 finished with value: 0.6826614737510681 and parameters: {'w1': 0.5325759368645316, 'w2': 0.3709929924471053}. Best is trial 0 with value: 0.6826614737510681.\n"
     ]
    },
    {
     "name": "stdout",
     "output_type": "stream",
     "text": [
      "{'w1': 0.5325759368645316, 'w2': 0.3709929924471053, 'threshold': 0.5}\n"
     ]
    },
    {
     "name": "stderr",
     "output_type": "stream",
     "text": [
      "[I 2023-06-28 19:54:56,457] Trial 112 finished with value: 0.6826614737510681 and parameters: {'w1': 0.5073410314679767, 'w2': 0.46742050532178603}. Best is trial 0 with value: 0.6826614737510681.\n"
     ]
    },
    {
     "name": "stdout",
     "output_type": "stream",
     "text": [
      "{'w1': 0.5073410314679767, 'w2': 0.46742050532178603, 'threshold': 0.5}\n"
     ]
    },
    {
     "name": "stderr",
     "output_type": "stream",
     "text": [
      "[I 2023-06-28 19:54:56,974] Trial 113 finished with value: 0.6826614737510681 and parameters: {'w1': 0.5671655711897826, 'w2': 0.4140378607691371}. Best is trial 0 with value: 0.6826614737510681.\n"
     ]
    },
    {
     "name": "stdout",
     "output_type": "stream",
     "text": [
      "{'w1': 0.5671655711897826, 'w2': 0.4140378607691371, 'threshold': 0.5}\n"
     ]
    },
    {
     "name": "stderr",
     "output_type": "stream",
     "text": [
      "[I 2023-06-28 19:54:57,491] Trial 114 finished with value: 0.6826614737510681 and parameters: {'w1': 0.4705677540095706, 'w2': 0.5441758084065016}. Best is trial 0 with value: 0.6826614737510681.\n"
     ]
    },
    {
     "name": "stdout",
     "output_type": "stream",
     "text": [
      "{'w1': 0.4705677540095706, 'w2': 0.5441758084065016, 'threshold': 0.5}\n"
     ]
    },
    {
     "name": "stderr",
     "output_type": "stream",
     "text": [
      "[I 2023-06-28 19:54:58,008] Trial 115 finished with value: 0.6826614737510681 and parameters: {'w1': 0.9728091380707908, 'w2': 0.4962812659046338}. Best is trial 0 with value: 0.6826614737510681.\n"
     ]
    },
    {
     "name": "stdout",
     "output_type": "stream",
     "text": [
      "{'w1': 0.9728091380707908, 'w2': 0.4962812659046338, 'threshold': 0.5}\n"
     ]
    },
    {
     "name": "stderr",
     "output_type": "stream",
     "text": [
      "[I 2023-06-28 19:54:58,525] Trial 116 finished with value: 0.6826614737510681 and parameters: {'w1': 0.6110986127983665, 'w2': 0.3873045173093801}. Best is trial 0 with value: 0.6826614737510681.\n"
     ]
    },
    {
     "name": "stdout",
     "output_type": "stream",
     "text": [
      "{'w1': 0.6110986127983665, 'w2': 0.3873045173093801, 'threshold': 0.5}\n"
     ]
    },
    {
     "name": "stderr",
     "output_type": "stream",
     "text": [
      "[I 2023-06-28 19:54:59,043] Trial 117 finished with value: 0.6826614737510681 and parameters: {'w1': 0.5929809694062455, 'w2': 0.1502800231483974}. Best is trial 0 with value: 0.6826614737510681.\n"
     ]
    },
    {
     "name": "stdout",
     "output_type": "stream",
     "text": [
      "{'w1': 0.5929809694062455, 'w2': 0.1502800231483974, 'threshold': 0.5}\n"
     ]
    },
    {
     "name": "stderr",
     "output_type": "stream",
     "text": [
      "[I 2023-06-28 19:54:59,561] Trial 118 finished with value: 0.6826614737510681 and parameters: {'w1': 0.9999414420359832, 'w2': 0.5782070330680301}. Best is trial 0 with value: 0.6826614737510681.\n"
     ]
    },
    {
     "name": "stdout",
     "output_type": "stream",
     "text": [
      "{'w1': 0.9999414420359832, 'w2': 0.5782070330680301, 'threshold': 0.5}\n"
     ]
    },
    {
     "name": "stderr",
     "output_type": "stream",
     "text": [
      "[I 2023-06-28 19:55:00,077] Trial 119 finished with value: 0.6826614737510681 and parameters: {'w1': 0.4359323380642603, 'w2': 0.45819927358091833}. Best is trial 0 with value: 0.6826614737510681.\n"
     ]
    },
    {
     "name": "stdout",
     "output_type": "stream",
     "text": [
      "{'w1': 0.4359323380642603, 'w2': 0.45819927358091833, 'threshold': 0.5}\n"
     ]
    },
    {
     "name": "stderr",
     "output_type": "stream",
     "text": [
      "[I 2023-06-28 19:55:00,593] Trial 120 finished with value: 0.6826614737510681 and parameters: {'w1': 0.6818659271245823, 'w2': 0.47936073628720866}. Best is trial 0 with value: 0.6826614737510681.\n"
     ]
    },
    {
     "name": "stdout",
     "output_type": "stream",
     "text": [
      "{'w1': 0.6818659271245823, 'w2': 0.47936073628720866, 'threshold': 0.5}\n"
     ]
    },
    {
     "name": "stderr",
     "output_type": "stream",
     "text": [
      "[I 2023-06-28 19:55:01,108] Trial 121 finished with value: 0.6826614737510681 and parameters: {'w1': 0.5403744368625462, 'w2': 0.5212820601863855}. Best is trial 0 with value: 0.6826614737510681.\n"
     ]
    },
    {
     "name": "stdout",
     "output_type": "stream",
     "text": [
      "{'w1': 0.5403744368625462, 'w2': 0.5212820601863855, 'threshold': 0.5}\n"
     ]
    },
    {
     "name": "stderr",
     "output_type": "stream",
     "text": [
      "[I 2023-06-28 19:55:01,624] Trial 122 finished with value: 0.6826614737510681 and parameters: {'w1': 0.5687257600993227, 'w2': 0.5539406465958059}. Best is trial 0 with value: 0.6826614737510681.\n"
     ]
    },
    {
     "name": "stdout",
     "output_type": "stream",
     "text": [
      "{'w1': 0.5687257600993227, 'w2': 0.5539406465958059, 'threshold': 0.5}\n"
     ]
    },
    {
     "name": "stderr",
     "output_type": "stream",
     "text": [
      "[I 2023-06-28 19:55:02,140] Trial 123 finished with value: 0.6826614737510681 and parameters: {'w1': 0.5127651873381527, 'w2': 0.6247471559946058}. Best is trial 0 with value: 0.6826614737510681.\n"
     ]
    },
    {
     "name": "stdout",
     "output_type": "stream",
     "text": [
      "{'w1': 0.5127651873381527, 'w2': 0.6247471559946058, 'threshold': 0.5}\n"
     ]
    },
    {
     "name": "stderr",
     "output_type": "stream",
     "text": [
      "[I 2023-06-28 19:55:02,655] Trial 124 finished with value: 0.6826614737510681 and parameters: {'w1': 0.6477527640996217, 'w2': 0.4417462741111086}. Best is trial 0 with value: 0.6826614737510681.\n"
     ]
    },
    {
     "name": "stdout",
     "output_type": "stream",
     "text": [
      "{'w1': 0.6477527640996217, 'w2': 0.4417462741111086, 'threshold': 0.5}\n"
     ]
    },
    {
     "name": "stderr",
     "output_type": "stream",
     "text": [
      "[I 2023-06-28 19:55:03,171] Trial 125 finished with value: 0.6826614737510681 and parameters: {'w1': 0.35067456388042967, 'w2': 0.5901824988830542}. Best is trial 0 with value: 0.6826614737510681.\n"
     ]
    },
    {
     "name": "stdout",
     "output_type": "stream",
     "text": [
      "{'w1': 0.35067456388042967, 'w2': 0.5901824988830542, 'threshold': 0.5}\n"
     ]
    },
    {
     "name": "stderr",
     "output_type": "stream",
     "text": [
      "[I 2023-06-28 19:55:03,686] Trial 126 finished with value: 0.6826614737510681 and parameters: {'w1': 0.5978419840865772, 'w2': 0.5088420426680358}. Best is trial 0 with value: 0.6826614737510681.\n"
     ]
    },
    {
     "name": "stdout",
     "output_type": "stream",
     "text": [
      "{'w1': 0.5978419840865772, 'w2': 0.5088420426680358, 'threshold': 0.5}\n"
     ]
    },
    {
     "name": "stderr",
     "output_type": "stream",
     "text": [
      "[I 2023-06-28 19:55:04,202] Trial 127 finished with value: 0.6826614737510681 and parameters: {'w1': 0.5537726558699728, 'w2': 0.6562655298890382}. Best is trial 0 with value: 0.6826614737510681.\n"
     ]
    },
    {
     "name": "stdout",
     "output_type": "stream",
     "text": [
      "{'w1': 0.5537726558699728, 'w2': 0.6562655298890382, 'threshold': 0.5}\n"
     ]
    },
    {
     "name": "stderr",
     "output_type": "stream",
     "text": [
      "[I 2023-06-28 19:55:04,717] Trial 128 finished with value: 0.6826614737510681 and parameters: {'w1': 0.6279102912726221, 'w2': 0.5332557486569288}. Best is trial 0 with value: 0.6826614737510681.\n"
     ]
    },
    {
     "name": "stdout",
     "output_type": "stream",
     "text": [
      "{'w1': 0.6279102912726221, 'w2': 0.5332557486569288, 'threshold': 0.5}\n"
     ]
    },
    {
     "name": "stderr",
     "output_type": "stream",
     "text": [
      "[I 2023-06-28 19:55:05,232] Trial 129 finished with value: 0.6826614737510681 and parameters: {'w1': 0.7614435898864463, 'w2': 0.7514922175734889}. Best is trial 0 with value: 0.6826614737510681.\n"
     ]
    },
    {
     "name": "stdout",
     "output_type": "stream",
     "text": [
      "{'w1': 0.7614435898864463, 'w2': 0.7514922175734889, 'threshold': 0.5}\n"
     ]
    },
    {
     "name": "stderr",
     "output_type": "stream",
     "text": [
      "[I 2023-06-28 19:55:05,748] Trial 130 finished with value: 0.6826614737510681 and parameters: {'w1': 0.7229154241330968, 'w2': 0.6821463701731015}. Best is trial 0 with value: 0.6826614737510681.\n"
     ]
    },
    {
     "name": "stdout",
     "output_type": "stream",
     "text": [
      "{'w1': 0.7229154241330968, 'w2': 0.6821463701731015, 'threshold': 0.5}\n"
     ]
    },
    {
     "name": "stderr",
     "output_type": "stream",
     "text": [
      "[I 2023-06-28 19:55:06,264] Trial 131 finished with value: 0.6826614737510681 and parameters: {'w1': 0.4673473589950495, 'w2': 0.7965776713378536}. Best is trial 0 with value: 0.6826614737510681.\n"
     ]
    },
    {
     "name": "stdout",
     "output_type": "stream",
     "text": [
      "{'w1': 0.4673473589950495, 'w2': 0.7965776713378536, 'threshold': 0.5}\n"
     ]
    },
    {
     "name": "stderr",
     "output_type": "stream",
     "text": [
      "[I 2023-06-28 19:55:06,783] Trial 132 finished with value: 0.6826614737510681 and parameters: {'w1': 0.8497751386328096, 'w2': 0.6971005433730174}. Best is trial 0 with value: 0.6826614737510681.\n"
     ]
    },
    {
     "name": "stdout",
     "output_type": "stream",
     "text": [
      "{'w1': 0.8497751386328096, 'w2': 0.6971005433730174, 'threshold': 0.5}\n"
     ]
    },
    {
     "name": "stderr",
     "output_type": "stream",
     "text": [
      "[I 2023-06-28 19:55:07,300] Trial 133 finished with value: 0.6826614737510681 and parameters: {'w1': 0.4862428457739217, 'w2': 0.3044506691116607}. Best is trial 0 with value: 0.6826614737510681.\n"
     ]
    },
    {
     "name": "stdout",
     "output_type": "stream",
     "text": [
      "{'w1': 0.4862428457739217, 'w2': 0.3044506691116607, 'threshold': 0.5}\n"
     ]
    },
    {
     "name": "stderr",
     "output_type": "stream",
     "text": [
      "[I 2023-06-28 19:55:07,817] Trial 134 finished with value: 0.6826614737510681 and parameters: {'w1': 0.4215193099274661, 'w2': 0.8370402018389639}. Best is trial 0 with value: 0.6826614737510681.\n"
     ]
    },
    {
     "name": "stdout",
     "output_type": "stream",
     "text": [
      "{'w1': 0.4215193099274661, 'w2': 0.8370402018389639, 'threshold': 0.5}\n"
     ]
    },
    {
     "name": "stderr",
     "output_type": "stream",
     "text": [
      "[I 2023-06-28 19:55:08,336] Trial 135 finished with value: 0.6826614737510681 and parameters: {'w1': 0.5155543058376028, 'w2': 0.36459169640974376}. Best is trial 0 with value: 0.6826614737510681.\n"
     ]
    },
    {
     "name": "stdout",
     "output_type": "stream",
     "text": [
      "{'w1': 0.5155543058376028, 'w2': 0.36459169640974376, 'threshold': 0.5}\n"
     ]
    },
    {
     "name": "stderr",
     "output_type": "stream",
     "text": [
      "[I 2023-06-28 19:55:08,854] Trial 136 finished with value: 0.6826614737510681 and parameters: {'w1': 0.45306054639932725, 'w2': 0.7759919072877715}. Best is trial 0 with value: 0.6826614737510681.\n"
     ]
    },
    {
     "name": "stdout",
     "output_type": "stream",
     "text": [
      "{'w1': 0.45306054639932725, 'w2': 0.7759919072877715, 'threshold': 0.5}\n"
     ]
    },
    {
     "name": "stderr",
     "output_type": "stream",
     "text": [
      "[I 2023-06-28 19:55:09,375] Trial 137 finished with value: 0.6826614737510681 and parameters: {'w1': 0.9251426010918654, 'w2': 0.2676386814522015}. Best is trial 0 with value: 0.6826614737510681.\n"
     ]
    },
    {
     "name": "stdout",
     "output_type": "stream",
     "text": [
      "{'w1': 0.9251426010918654, 'w2': 0.2676386814522015, 'threshold': 0.5}\n"
     ]
    },
    {
     "name": "stderr",
     "output_type": "stream",
     "text": [
      "[I 2023-06-28 19:55:09,897] Trial 138 finished with value: 0.6826614737510681 and parameters: {'w1': 0.2904607096100667, 'w2': 0.7215451520085736}. Best is trial 0 with value: 0.6826614737510681.\n"
     ]
    },
    {
     "name": "stdout",
     "output_type": "stream",
     "text": [
      "{'w1': 0.2904607096100667, 'w2': 0.7215451520085736, 'threshold': 0.5}\n"
     ]
    },
    {
     "name": "stderr",
     "output_type": "stream",
     "text": [
      "[I 2023-06-28 19:55:10,415] Trial 139 finished with value: 0.6826614737510681 and parameters: {'w1': 0.6985939179710134, 'w2': 0.9075061760634654}. Best is trial 0 with value: 0.6826614737510681.\n"
     ]
    },
    {
     "name": "stdout",
     "output_type": "stream",
     "text": [
      "{'w1': 0.6985939179710134, 'w2': 0.9075061760634654, 'threshold': 0.5}\n"
     ]
    },
    {
     "name": "stderr",
     "output_type": "stream",
     "text": [
      "[I 2023-06-28 19:55:10,936] Trial 140 finished with value: 0.6826614737510681 and parameters: {'w1': 0.39815028769055016, 'w2': 0.755536845350669}. Best is trial 0 with value: 0.6826614737510681.\n"
     ]
    },
    {
     "name": "stdout",
     "output_type": "stream",
     "text": [
      "{'w1': 0.39815028769055016, 'w2': 0.755536845350669, 'threshold': 0.5}\n"
     ]
    },
    {
     "name": "stderr",
     "output_type": "stream",
     "text": [
      "[I 2023-06-28 19:55:11,458] Trial 141 finished with value: 0.6826614737510681 and parameters: {'w1': 0.007434235401317876, 'w2': 0.820681291969212}. Best is trial 0 with value: 0.6826614737510681.\n"
     ]
    },
    {
     "name": "stdout",
     "output_type": "stream",
     "text": [
      "{'w1': 0.007434235401317876, 'w2': 0.820681291969212, 'threshold': 0.5}\n"
     ]
    },
    {
     "name": "stderr",
     "output_type": "stream",
     "text": [
      "[I 2023-06-28 19:55:11,977] Trial 142 finished with value: 0.6826614737510681 and parameters: {'w1': 0.1681329556012711, 'w2': 0.9440243366488406}. Best is trial 0 with value: 0.6826614737510681.\n"
     ]
    },
    {
     "name": "stdout",
     "output_type": "stream",
     "text": [
      "{'w1': 0.1681329556012711, 'w2': 0.9440243366488406, 'threshold': 0.5}\n"
     ]
    },
    {
     "name": "stderr",
     "output_type": "stream",
     "text": [
      "[I 2023-06-28 19:55:12,498] Trial 143 finished with value: 0.6826614737510681 and parameters: {'w1': 0.4901774412304073, 'w2': 0.9537705654411367}. Best is trial 0 with value: 0.6826614737510681.\n"
     ]
    },
    {
     "name": "stdout",
     "output_type": "stream",
     "text": [
      "{'w1': 0.4901774412304073, 'w2': 0.9537705654411367, 'threshold': 0.5}\n"
     ]
    },
    {
     "name": "stderr",
     "output_type": "stream",
     "text": [
      "[I 2023-06-28 19:55:13,024] Trial 144 finished with value: 0.6826614737510681 and parameters: {'w1': 0.6636437525223976, 'w2': 0.7794953367419964}. Best is trial 0 with value: 0.6826614737510681.\n"
     ]
    },
    {
     "name": "stdout",
     "output_type": "stream",
     "text": [
      "{'w1': 0.6636437525223976, 'w2': 0.7794953367419964, 'threshold': 0.5}\n"
     ]
    },
    {
     "name": "stderr",
     "output_type": "stream",
     "text": [
      "[I 2023-06-28 19:55:13,549] Trial 145 finished with value: 0.6826614737510681 and parameters: {'w1': 0.3772682267096771, 'w2': 0.9683320657584075}. Best is trial 0 with value: 0.6826614737510681.\n"
     ]
    },
    {
     "name": "stdout",
     "output_type": "stream",
     "text": [
      "{'w1': 0.3772682267096771, 'w2': 0.9683320657584075, 'threshold': 0.5}\n"
     ]
    },
    {
     "name": "stderr",
     "output_type": "stream",
     "text": [
      "[I 2023-06-28 19:55:14,073] Trial 146 finished with value: 0.6826614737510681 and parameters: {'w1': 0.446355102108394, 'w2': 0.984029953325527}. Best is trial 0 with value: 0.6826614737510681.\n"
     ]
    },
    {
     "name": "stdout",
     "output_type": "stream",
     "text": [
      "{'w1': 0.446355102108394, 'w2': 0.984029953325527, 'threshold': 0.5}\n"
     ]
    },
    {
     "name": "stderr",
     "output_type": "stream",
     "text": [
      "[I 2023-06-28 19:55:14,596] Trial 147 finished with value: 0.6826614737510681 and parameters: {'w1': 0.5319789366884753, 'w2': 0.7347014834530488}. Best is trial 0 with value: 0.6826614737510681.\n"
     ]
    },
    {
     "name": "stdout",
     "output_type": "stream",
     "text": [
      "{'w1': 0.5319789366884753, 'w2': 0.7347014834530488, 'threshold': 0.5}\n"
     ]
    },
    {
     "name": "stderr",
     "output_type": "stream",
     "text": [
      "[I 2023-06-28 19:55:15,117] Trial 148 finished with value: 0.6826614737510681 and parameters: {'w1': 0.7765215734955545, 'w2': 0.8152946724667318}. Best is trial 0 with value: 0.6826614737510681.\n"
     ]
    },
    {
     "name": "stdout",
     "output_type": "stream",
     "text": [
      "{'w1': 0.7765215734955545, 'w2': 0.8152946724667318, 'threshold': 0.5}\n"
     ]
    },
    {
     "name": "stderr",
     "output_type": "stream",
     "text": [
      "[I 2023-06-28 19:55:15,644] Trial 149 finished with value: 0.6826614737510681 and parameters: {'w1': 0.7425253872255535, 'w2': 0.9998671685518262}. Best is trial 0 with value: 0.6826614737510681.\n"
     ]
    },
    {
     "name": "stdout",
     "output_type": "stream",
     "text": [
      "{'w1': 0.7425253872255535, 'w2': 0.9998671685518262, 'threshold': 0.5}\n"
     ]
    },
    {
     "name": "stderr",
     "output_type": "stream",
     "text": [
      "[I 2023-06-28 19:55:16,174] Trial 150 finished with value: 0.6826614737510681 and parameters: {'w1': 0.41779120537593195, 'w2': 0.6661566998691307}. Best is trial 0 with value: 0.6826614737510681.\n"
     ]
    },
    {
     "name": "stdout",
     "output_type": "stream",
     "text": [
      "{'w1': 0.41779120537593195, 'w2': 0.6661566998691307, 'threshold': 0.5}\n"
     ]
    },
    {
     "name": "stderr",
     "output_type": "stream",
     "text": [
      "[I 2023-06-28 19:55:16,696] Trial 151 finished with value: 0.6826614737510681 and parameters: {'w1': 0.648569937894292, 'w2': 0.6416068808836034}. Best is trial 0 with value: 0.6826614737510681.\n"
     ]
    },
    {
     "name": "stdout",
     "output_type": "stream",
     "text": [
      "{'w1': 0.648569937894292, 'w2': 0.6416068808836034, 'threshold': 0.5}\n"
     ]
    },
    {
     "name": "stderr",
     "output_type": "stream",
     "text": [
      "[I 2023-06-28 19:55:17,217] Trial 152 finished with value: 0.6826614737510681 and parameters: {'w1': 0.6788289713693529, 'w2': 0.6170961880353192}. Best is trial 0 with value: 0.6826614737510681.\n"
     ]
    },
    {
     "name": "stdout",
     "output_type": "stream",
     "text": [
      "{'w1': 0.6788289713693529, 'w2': 0.6170961880353192, 'threshold': 0.5}\n"
     ]
    },
    {
     "name": "stderr",
     "output_type": "stream",
     "text": [
      "[I 2023-06-28 19:55:17,736] Trial 153 finished with value: 0.6826614737510681 and parameters: {'w1': 0.712711131604357, 'w2': 0.567253165413566}. Best is trial 0 with value: 0.6826614737510681.\n"
     ]
    },
    {
     "name": "stdout",
     "output_type": "stream",
     "text": [
      "{'w1': 0.712711131604357, 'w2': 0.567253165413566, 'threshold': 0.5}\n"
     ]
    },
    {
     "name": "stderr",
     "output_type": "stream",
     "text": [
      "[I 2023-06-28 19:55:18,260] Trial 154 finished with value: 0.6826614737510681 and parameters: {'w1': 0.6114248770624506, 'w2': 0.12718927642605382}. Best is trial 0 with value: 0.6826614737510681.\n"
     ]
    },
    {
     "name": "stdout",
     "output_type": "stream",
     "text": [
      "{'w1': 0.6114248770624506, 'w2': 0.12718927642605382, 'threshold': 0.5}\n"
     ]
    },
    {
     "name": "stderr",
     "output_type": "stream",
     "text": [
      "[I 2023-06-28 19:55:18,778] Trial 155 finished with value: 0.6826614737510681 and parameters: {'w1': 0.5687911610533259, 'w2': 0.4011939851295816}. Best is trial 0 with value: 0.6826614737510681.\n"
     ]
    },
    {
     "name": "stdout",
     "output_type": "stream",
     "text": [
      "{'w1': 0.5687911610533259, 'w2': 0.4011939851295816, 'threshold': 0.5}\n"
     ]
    },
    {
     "name": "stderr",
     "output_type": "stream",
     "text": [
      "[I 2023-06-28 19:55:19,297] Trial 156 finished with value: 0.6826614737510681 and parameters: {'w1': 0.5916507719390145, 'w2': 0.5966793311585133}. Best is trial 0 with value: 0.6826614737510681.\n"
     ]
    },
    {
     "name": "stdout",
     "output_type": "stream",
     "text": [
      "{'w1': 0.5916507719390145, 'w2': 0.5966793311585133, 'threshold': 0.5}\n"
     ]
    },
    {
     "name": "stderr",
     "output_type": "stream",
     "text": [
      "[W 2023-06-28 19:55:19,710] Trial 157 failed with parameters: {'w1': 0.3499610530770681, 'w2': 0.3413231886044482} because of the following error: KeyboardInterrupt().\n",
      "Traceback (most recent call last):\n",
      "  File \"/home/rohits/anaconda3/envs/contrail/lib/python3.10/site-packages/optuna/study/_optimize.py\", line 200, in _run_trial\n",
      "    value_or_values = func(trial)\n",
      "  File \"/tmp/ipykernel_453698/242003368.py\", line 20, in objective\n",
      "    score, best_threshold  = boost_dice(params, TH=TH)\n",
      "  File \"/tmp/ipykernel_453698/2370788995.py\", line 31, in boost_dice\n",
      "    score = dice_coef(model_masks, preds1, thr=threshold).cpu().detach().numpy() # get_score(labels, preds)\n",
      "KeyboardInterrupt\n",
      "[W 2023-06-28 19:55:19,711] Trial 157 failed with value None.\n"
     ]
    },
    {
     "ename": "KeyboardInterrupt",
     "evalue": "",
     "output_type": "error",
     "traceback": [
      "\u001b[0;31m---------------------------------------------------------------------------\u001b[0m",
      "\u001b[0;31mKeyboardInterrupt\u001b[0m                         Traceback (most recent call last)",
      "Cell \u001b[0;32mIn[90], line 6\u001b[0m\n\u001b[1;32m      3\u001b[0m final_preds \u001b[38;5;241m=\u001b[39m [nn\u001b[38;5;241m.\u001b[39mSigmoid()(preds1)\u001b[38;5;241m>\u001b[39m\u001b[38;5;241m0.05\u001b[39m, nn\u001b[38;5;241m.\u001b[39mSigmoid()(preds2)\u001b[38;5;241m>\u001b[39m\u001b[38;5;241m0.06\u001b[39m]\n\u001b[1;32m      5\u001b[0m study \u001b[38;5;241m=\u001b[39m optuna\u001b[38;5;241m.\u001b[39mcreate_study(direction\u001b[38;5;241m=\u001b[39m\u001b[38;5;124m'\u001b[39m\u001b[38;5;124mmaximize\u001b[39m\u001b[38;5;124m'\u001b[39m)\n\u001b[0;32m----> 6\u001b[0m \u001b[43mstudy\u001b[49m\u001b[38;5;241;43m.\u001b[39;49m\u001b[43moptimize\u001b[49m\u001b[43m(\u001b[49m\u001b[43mobjective\u001b[49m\u001b[43m,\u001b[49m\u001b[43m \u001b[49m\u001b[43mn_trials\u001b[49m\u001b[38;5;241;43m=\u001b[39;49m\u001b[38;5;241;43m1500\u001b[39;49m\u001b[43m)\u001b[49m\n\u001b[1;32m      7\u001b[0m best_params \u001b[38;5;241m=\u001b[39m study\u001b[38;5;241m.\u001b[39mbest_params\n",
      "File \u001b[0;32m~/anaconda3/envs/contrail/lib/python3.10/site-packages/optuna/study/study.py:443\u001b[0m, in \u001b[0;36mStudy.optimize\u001b[0;34m(self, func, n_trials, timeout, n_jobs, catch, callbacks, gc_after_trial, show_progress_bar)\u001b[0m\n\u001b[1;32m    339\u001b[0m \u001b[38;5;28;01mdef\u001b[39;00m \u001b[38;5;21moptimize\u001b[39m(\n\u001b[1;32m    340\u001b[0m     \u001b[38;5;28mself\u001b[39m,\n\u001b[1;32m    341\u001b[0m     func: ObjectiveFuncType,\n\u001b[0;32m   (...)\u001b[0m\n\u001b[1;32m    348\u001b[0m     show_progress_bar: \u001b[38;5;28mbool\u001b[39m \u001b[38;5;241m=\u001b[39m \u001b[38;5;28;01mFalse\u001b[39;00m,\n\u001b[1;32m    349\u001b[0m ) \u001b[38;5;241m-\u001b[39m\u001b[38;5;241m>\u001b[39m \u001b[38;5;28;01mNone\u001b[39;00m:\n\u001b[1;32m    350\u001b[0m \u001b[38;5;250m    \u001b[39m\u001b[38;5;124;03m\"\"\"Optimize an objective function.\u001b[39;00m\n\u001b[1;32m    351\u001b[0m \n\u001b[1;32m    352\u001b[0m \u001b[38;5;124;03m    Optimization is done by choosing a suitable set of hyperparameter values from a given\u001b[39;00m\n\u001b[0;32m   (...)\u001b[0m\n\u001b[1;32m    440\u001b[0m \u001b[38;5;124;03m            If nested invocation of this method occurs.\u001b[39;00m\n\u001b[1;32m    441\u001b[0m \u001b[38;5;124;03m    \"\"\"\u001b[39;00m\n\u001b[0;32m--> 443\u001b[0m     \u001b[43m_optimize\u001b[49m\u001b[43m(\u001b[49m\n\u001b[1;32m    444\u001b[0m \u001b[43m        \u001b[49m\u001b[43mstudy\u001b[49m\u001b[38;5;241;43m=\u001b[39;49m\u001b[38;5;28;43mself\u001b[39;49m\u001b[43m,\u001b[49m\n\u001b[1;32m    445\u001b[0m \u001b[43m        \u001b[49m\u001b[43mfunc\u001b[49m\u001b[38;5;241;43m=\u001b[39;49m\u001b[43mfunc\u001b[49m\u001b[43m,\u001b[49m\n\u001b[1;32m    446\u001b[0m \u001b[43m        \u001b[49m\u001b[43mn_trials\u001b[49m\u001b[38;5;241;43m=\u001b[39;49m\u001b[43mn_trials\u001b[49m\u001b[43m,\u001b[49m\n\u001b[1;32m    447\u001b[0m \u001b[43m        \u001b[49m\u001b[43mtimeout\u001b[49m\u001b[38;5;241;43m=\u001b[39;49m\u001b[43mtimeout\u001b[49m\u001b[43m,\u001b[49m\n\u001b[1;32m    448\u001b[0m \u001b[43m        \u001b[49m\u001b[43mn_jobs\u001b[49m\u001b[38;5;241;43m=\u001b[39;49m\u001b[43mn_jobs\u001b[49m\u001b[43m,\u001b[49m\n\u001b[1;32m    449\u001b[0m \u001b[43m        \u001b[49m\u001b[43mcatch\u001b[49m\u001b[38;5;241;43m=\u001b[39;49m\u001b[38;5;28;43mtuple\u001b[39;49m\u001b[43m(\u001b[49m\u001b[43mcatch\u001b[49m\u001b[43m)\u001b[49m\u001b[43m \u001b[49m\u001b[38;5;28;43;01mif\u001b[39;49;00m\u001b[43m \u001b[49m\u001b[38;5;28;43misinstance\u001b[39;49m\u001b[43m(\u001b[49m\u001b[43mcatch\u001b[49m\u001b[43m,\u001b[49m\u001b[43m \u001b[49m\u001b[43mIterable\u001b[49m\u001b[43m)\u001b[49m\u001b[43m \u001b[49m\u001b[38;5;28;43;01melse\u001b[39;49;00m\u001b[43m \u001b[49m\u001b[43m(\u001b[49m\u001b[43mcatch\u001b[49m\u001b[43m,\u001b[49m\u001b[43m)\u001b[49m\u001b[43m,\u001b[49m\n\u001b[1;32m    450\u001b[0m \u001b[43m        \u001b[49m\u001b[43mcallbacks\u001b[49m\u001b[38;5;241;43m=\u001b[39;49m\u001b[43mcallbacks\u001b[49m\u001b[43m,\u001b[49m\n\u001b[1;32m    451\u001b[0m \u001b[43m        \u001b[49m\u001b[43mgc_after_trial\u001b[49m\u001b[38;5;241;43m=\u001b[39;49m\u001b[43mgc_after_trial\u001b[49m\u001b[43m,\u001b[49m\n\u001b[1;32m    452\u001b[0m \u001b[43m        \u001b[49m\u001b[43mshow_progress_bar\u001b[49m\u001b[38;5;241;43m=\u001b[39;49m\u001b[43mshow_progress_bar\u001b[49m\u001b[43m,\u001b[49m\n\u001b[1;32m    453\u001b[0m \u001b[43m    \u001b[49m\u001b[43m)\u001b[49m\n",
      "File \u001b[0;32m~/anaconda3/envs/contrail/lib/python3.10/site-packages/optuna/study/_optimize.py:66\u001b[0m, in \u001b[0;36m_optimize\u001b[0;34m(study, func, n_trials, timeout, n_jobs, catch, callbacks, gc_after_trial, show_progress_bar)\u001b[0m\n\u001b[1;32m     64\u001b[0m \u001b[38;5;28;01mtry\u001b[39;00m:\n\u001b[1;32m     65\u001b[0m     \u001b[38;5;28;01mif\u001b[39;00m n_jobs \u001b[38;5;241m==\u001b[39m \u001b[38;5;241m1\u001b[39m:\n\u001b[0;32m---> 66\u001b[0m         \u001b[43m_optimize_sequential\u001b[49m\u001b[43m(\u001b[49m\n\u001b[1;32m     67\u001b[0m \u001b[43m            \u001b[49m\u001b[43mstudy\u001b[49m\u001b[43m,\u001b[49m\n\u001b[1;32m     68\u001b[0m \u001b[43m            \u001b[49m\u001b[43mfunc\u001b[49m\u001b[43m,\u001b[49m\n\u001b[1;32m     69\u001b[0m \u001b[43m            \u001b[49m\u001b[43mn_trials\u001b[49m\u001b[43m,\u001b[49m\n\u001b[1;32m     70\u001b[0m \u001b[43m            \u001b[49m\u001b[43mtimeout\u001b[49m\u001b[43m,\u001b[49m\n\u001b[1;32m     71\u001b[0m \u001b[43m            \u001b[49m\u001b[43mcatch\u001b[49m\u001b[43m,\u001b[49m\n\u001b[1;32m     72\u001b[0m \u001b[43m            \u001b[49m\u001b[43mcallbacks\u001b[49m\u001b[43m,\u001b[49m\n\u001b[1;32m     73\u001b[0m \u001b[43m            \u001b[49m\u001b[43mgc_after_trial\u001b[49m\u001b[43m,\u001b[49m\n\u001b[1;32m     74\u001b[0m \u001b[43m            \u001b[49m\u001b[43mreseed_sampler_rng\u001b[49m\u001b[38;5;241;43m=\u001b[39;49m\u001b[38;5;28;43;01mFalse\u001b[39;49;00m\u001b[43m,\u001b[49m\n\u001b[1;32m     75\u001b[0m \u001b[43m            \u001b[49m\u001b[43mtime_start\u001b[49m\u001b[38;5;241;43m=\u001b[39;49m\u001b[38;5;28;43;01mNone\u001b[39;49;00m\u001b[43m,\u001b[49m\n\u001b[1;32m     76\u001b[0m \u001b[43m            \u001b[49m\u001b[43mprogress_bar\u001b[49m\u001b[38;5;241;43m=\u001b[39;49m\u001b[43mprogress_bar\u001b[49m\u001b[43m,\u001b[49m\n\u001b[1;32m     77\u001b[0m \u001b[43m        \u001b[49m\u001b[43m)\u001b[49m\n\u001b[1;32m     78\u001b[0m     \u001b[38;5;28;01melse\u001b[39;00m:\n\u001b[1;32m     79\u001b[0m         \u001b[38;5;28;01mif\u001b[39;00m n_jobs \u001b[38;5;241m==\u001b[39m \u001b[38;5;241m-\u001b[39m\u001b[38;5;241m1\u001b[39m:\n",
      "File \u001b[0;32m~/anaconda3/envs/contrail/lib/python3.10/site-packages/optuna/study/_optimize.py:163\u001b[0m, in \u001b[0;36m_optimize_sequential\u001b[0;34m(study, func, n_trials, timeout, catch, callbacks, gc_after_trial, reseed_sampler_rng, time_start, progress_bar)\u001b[0m\n\u001b[1;32m    160\u001b[0m         \u001b[38;5;28;01mbreak\u001b[39;00m\n\u001b[1;32m    162\u001b[0m \u001b[38;5;28;01mtry\u001b[39;00m:\n\u001b[0;32m--> 163\u001b[0m     frozen_trial \u001b[38;5;241m=\u001b[39m \u001b[43m_run_trial\u001b[49m\u001b[43m(\u001b[49m\u001b[43mstudy\u001b[49m\u001b[43m,\u001b[49m\u001b[43m \u001b[49m\u001b[43mfunc\u001b[49m\u001b[43m,\u001b[49m\u001b[43m \u001b[49m\u001b[43mcatch\u001b[49m\u001b[43m)\u001b[49m\n\u001b[1;32m    164\u001b[0m \u001b[38;5;28;01mfinally\u001b[39;00m:\n\u001b[1;32m    165\u001b[0m     \u001b[38;5;66;03m# The following line mitigates memory problems that can be occurred in some\u001b[39;00m\n\u001b[1;32m    166\u001b[0m     \u001b[38;5;66;03m# environments (e.g., services that use computing containers such as GitHub Actions).\u001b[39;00m\n\u001b[1;32m    167\u001b[0m     \u001b[38;5;66;03m# Please refer to the following PR for further details:\u001b[39;00m\n\u001b[1;32m    168\u001b[0m     \u001b[38;5;66;03m# https://github.com/optuna/optuna/pull/325.\u001b[39;00m\n\u001b[1;32m    169\u001b[0m     \u001b[38;5;28;01mif\u001b[39;00m gc_after_trial:\n",
      "File \u001b[0;32m~/anaconda3/envs/contrail/lib/python3.10/site-packages/optuna/study/_optimize.py:251\u001b[0m, in \u001b[0;36m_run_trial\u001b[0;34m(study, func, catch)\u001b[0m\n\u001b[1;32m    244\u001b[0m         \u001b[38;5;28;01massert\u001b[39;00m \u001b[38;5;28;01mFalse\u001b[39;00m, \u001b[38;5;124m\"\u001b[39m\u001b[38;5;124mShould not reach.\u001b[39m\u001b[38;5;124m\"\u001b[39m\n\u001b[1;32m    246\u001b[0m \u001b[38;5;28;01mif\u001b[39;00m (\n\u001b[1;32m    247\u001b[0m     frozen_trial\u001b[38;5;241m.\u001b[39mstate \u001b[38;5;241m==\u001b[39m TrialState\u001b[38;5;241m.\u001b[39mFAIL\n\u001b[1;32m    248\u001b[0m     \u001b[38;5;129;01mand\u001b[39;00m func_err \u001b[38;5;129;01mis\u001b[39;00m \u001b[38;5;129;01mnot\u001b[39;00m \u001b[38;5;28;01mNone\u001b[39;00m\n\u001b[1;32m    249\u001b[0m     \u001b[38;5;129;01mand\u001b[39;00m \u001b[38;5;129;01mnot\u001b[39;00m \u001b[38;5;28misinstance\u001b[39m(func_err, catch)\n\u001b[1;32m    250\u001b[0m ):\n\u001b[0;32m--> 251\u001b[0m     \u001b[38;5;28;01mraise\u001b[39;00m func_err\n\u001b[1;32m    252\u001b[0m \u001b[38;5;28;01mreturn\u001b[39;00m frozen_trial\n",
      "File \u001b[0;32m~/anaconda3/envs/contrail/lib/python3.10/site-packages/optuna/study/_optimize.py:200\u001b[0m, in \u001b[0;36m_run_trial\u001b[0;34m(study, func, catch)\u001b[0m\n\u001b[1;32m    198\u001b[0m \u001b[38;5;28;01mwith\u001b[39;00m get_heartbeat_thread(trial\u001b[38;5;241m.\u001b[39m_trial_id, study\u001b[38;5;241m.\u001b[39m_storage):\n\u001b[1;32m    199\u001b[0m     \u001b[38;5;28;01mtry\u001b[39;00m:\n\u001b[0;32m--> 200\u001b[0m         value_or_values \u001b[38;5;241m=\u001b[39m \u001b[43mfunc\u001b[49m\u001b[43m(\u001b[49m\u001b[43mtrial\u001b[49m\u001b[43m)\u001b[49m\n\u001b[1;32m    201\u001b[0m     \u001b[38;5;28;01mexcept\u001b[39;00m exceptions\u001b[38;5;241m.\u001b[39mTrialPruned \u001b[38;5;28;01mas\u001b[39;00m e:\n\u001b[1;32m    202\u001b[0m         \u001b[38;5;66;03m# TODO(mamu): Handle multi-objective cases.\u001b[39;00m\n\u001b[1;32m    203\u001b[0m         state \u001b[38;5;241m=\u001b[39m TrialState\u001b[38;5;241m.\u001b[39mPRUNED\n",
      "Cell \u001b[0;32mIn[79], line 20\u001b[0m, in \u001b[0;36mobjective\u001b[0;34m(trial)\u001b[0m\n\u001b[1;32m     11\u001b[0m         params[\u001b[38;5;124mf\u001b[39m\u001b[38;5;124m\"\u001b[39m\u001b[38;5;124mw\u001b[39m\u001b[38;5;132;01m{\u001b[39;00mi\u001b[38;5;241m+\u001b[39m\u001b[38;5;241m1\u001b[39m\u001b[38;5;132;01m}\u001b[39;00m\u001b[38;5;124m\"\u001b[39m] \u001b[38;5;241m=\u001b[39m trial\u001b[38;5;241m.\u001b[39msuggest_float(\u001b[38;5;124mf\u001b[39m\u001b[38;5;124m'\u001b[39m\u001b[38;5;124mw\u001b[39m\u001b[38;5;132;01m{\u001b[39;00mi\u001b[38;5;241m+\u001b[39m\u001b[38;5;241m1\u001b[39m\u001b[38;5;132;01m}\u001b[39;00m\u001b[38;5;124m'\u001b[39m, \u001b[38;5;241m0\u001b[39m, \u001b[38;5;241m1\u001b[39m) \n\u001b[1;32m     14\u001b[0m \u001b[38;5;66;03m#     params['w1'] = 0.0\u001b[39;00m\n\u001b[1;32m     15\u001b[0m \u001b[38;5;66;03m#     params['w6'] = 0.0\u001b[39;00m\n\u001b[1;32m     16\u001b[0m \u001b[38;5;66;03m#     params['w9'] = 0.0\u001b[39;00m\n\u001b[1;32m     17\u001b[0m \u001b[38;5;66;03m#     params['w13'] = 0.0\u001b[39;00m\n\u001b[0;32m---> 20\u001b[0m     score, best_threshold  \u001b[38;5;241m=\u001b[39m \u001b[43mboost_dice\u001b[49m\u001b[43m(\u001b[49m\u001b[43mparams\u001b[49m\u001b[43m,\u001b[49m\u001b[43m \u001b[49m\u001b[43mTH\u001b[49m\u001b[38;5;241;43m=\u001b[39;49m\u001b[43mTH\u001b[49m\u001b[43m)\u001b[49m\n\u001b[1;32m     21\u001b[0m     params[\u001b[38;5;124m'\u001b[39m\u001b[38;5;124mthreshold\u001b[39m\u001b[38;5;124m'\u001b[39m] \u001b[38;5;241m=\u001b[39m best_threshold\n\u001b[1;32m     22\u001b[0m     \u001b[38;5;28;01mif\u001b[39;00m \u001b[38;5;129;01mnot\u001b[39;00m TH:\n",
      "Cell \u001b[0;32mIn[78], line 31\u001b[0m, in \u001b[0;36mboost_dice\u001b[0;34m(params, TH)\u001b[0m\n\u001b[1;32m     28\u001b[0m             preds1 \u001b[38;5;241m=\u001b[39m (nn\u001b[38;5;241m.\u001b[39mSigmoid()(preds)\u001b[38;5;241m>\u001b[39mthreshold)\u001b[38;5;241m.\u001b[39mdouble()    \n\u001b[1;32m     29\u001b[0m \u001b[38;5;66;03m#             preds1 = ((preds)>threshold).double()            \u001b[39;00m\n\u001b[0;32m---> 31\u001b[0m             score \u001b[38;5;241m=\u001b[39m \u001b[43mdice_coef\u001b[49m\u001b[43m(\u001b[49m\u001b[43mmodel_masks\u001b[49m\u001b[43m,\u001b[49m\u001b[43m \u001b[49m\u001b[43mpreds1\u001b[49m\u001b[43m,\u001b[49m\u001b[43m \u001b[49m\u001b[43mthr\u001b[49m\u001b[38;5;241;43m=\u001b[39;49m\u001b[43mthreshold\u001b[49m\u001b[43m)\u001b[49m\u001b[38;5;241;43m.\u001b[39;49m\u001b[43mcpu\u001b[49m\u001b[43m(\u001b[49m\u001b[43m)\u001b[49m\u001b[38;5;241m.\u001b[39mdetach()\u001b[38;5;241m.\u001b[39mnumpy() \u001b[38;5;66;03m# get_score(labels, preds) \u001b[39;00m\n\u001b[1;32m     32\u001b[0m             \u001b[38;5;28;01mif\u001b[39;00m score \u001b[38;5;241m>\u001b[39m best_score:\n\u001b[1;32m     33\u001b[0m                 best_score \u001b[38;5;241m=\u001b[39m score\n",
      "\u001b[0;31mKeyboardInterrupt\u001b[0m: "
     ]
    }
   ],
   "source": [
    "# final_preds = [x_preds[-1], x_preds[3], x_preds[1],  x_preds[6], x_preds[17], x_preds[2], x_preds[7], x_preds[22]]\n",
    "\n",
    "final_preds = [nn.Sigmoid()(preds1)>0.05, nn.Sigmoid()(preds2)>0.06]\n",
    "\n",
    "study = optuna.create_study(direction='maximize')\n",
    "study.optimize(objective, n_trials=1500)\n",
    "best_params = study.best_params\n",
    "\n",
    "\n",
    "\n",
    "# print(f\"Current : {i}, {best_value}, {best_idx}\")\n",
    "# print(\"*\"*100)"
   ]
  },
  {
   "cell_type": "code",
   "execution_count": 63,
   "id": "a86d92a9",
   "metadata": {},
   "outputs": [
    {
     "data": {
      "text/plain": [
       "{'w1': 0.2899597612410049,\n",
       " 'w2': 0.15730857091380931,\n",
       " 'w3': 0.7212233791522253,\n",
       " 'w4': 0.7632434560815267,\n",
       " 'w5': 0.20310304654905162}"
      ]
     },
     "execution_count": 63,
     "metadata": {},
     "output_type": "execute_result"
    }
   ],
   "source": [
    "best_params # 0.68751 | 0.054"
   ]
  },
  {
   "cell_type": "code",
   "execution_count": 137,
   "id": "4e1433e2",
   "metadata": {},
   "outputs": [
    {
     "data": {
      "text/plain": [
       "{'w1': 0.1965566146320522,\n",
       " 'w2': 0.3096235663113352,\n",
       " 'w3': 0.19460796969896493,\n",
       " 'w4': 0.7270978416557768,\n",
       " 'w5': 0.001799350961082219,\n",
       " 'w6': 0.23711141549386655,\n",
       " 'w7': 0.8481861548984848}"
      ]
     },
     "execution_count": 137,
     "metadata": {},
     "output_type": "execute_result"
    }
   ],
   "source": [
    "best_params # 0.05"
   ]
  },
  {
   "cell_type": "code",
   "execution_count": 26,
   "id": "55a2c9fa",
   "metadata": {},
   "outputs": [],
   "source": [
    "# 0.6874998807907104 \n",
    "\n",
    "\n",
    "# {'w1': 0.018399595515547564,\n",
    "#  'w2': 0.2744052005730189,\n",
    "#  'w3': 0.5739636954755405,\n",
    "#  'w4': 0.4163320754168918,\n",
    "#  'w5': 0.03397189429348848,\n",
    "#  'w6': 0.9988224405362167,\n",
    "#  'w7': 0.2730245682562074,\n",
    "#  'w8': 0.6140200024775736,\n",
    "#  'w9': 0.05068516742060951,\n",
    "#  'w10': 0.7003287155169173}\n",
    "\n",
    "\n",
    "# 6843, 3 |  [-1, 1]\n",
    "\n",
    "# 6, 9, 13\n",
    "# 0.6854285001754761\n",
    "\n",
    "# 0.07  | 0.6867978572845459\n",
    "\n",
    "# {'w1': 0.016317844357604507,\n",
    "#  'w2': 0.6005070573463515,\n",
    "#  'w3': 0.8884213063888375,\n",
    "#  'w4': 0.8445783880445076,\n",
    "#  'w5': 0.7824862548087729,\n",
    "#  'w6': 0.3806519186701453,\n",
    "#  'w7': 0.9035265302704656,\n",
    "#  'w8': 0.08253718959316077,\n",
    "#  'w9': 0.0004444689861428028,\n",
    "#  'w10': 0.7504741339256384,\n",
    "#  'w11': 0.09067268463097893,\n",
    "#  'w12': 0.4023912301444379,\n",
    "#  'w13': 0.633424864342325,\n",
    "#  'w14': 0.3843453836216373,\n",
    "#  'w15': 0.3728444352239571,\n",
    "#  'w16': 0.6751700901471811,\n",
    "#  'w17': 0.8749158303582384,\n",
    "#  'w18': 0.8134873047533169,\n",
    "#  'w19': 0.7017477761116374}\n",
    "\n",
    "\n",
    "\n",
    "# 0.06 | 0.6852949857711792\n",
    "# {'w1': 0.05677570626120725,\n",
    "#  'w2': 0.32912941583958427,\n",
    "#  'w3': 0.7888415507883061,\n",
    "#  'w4': 0.2699208875955819,\n",
    "#  'w5': 0.68686827622187,\n",
    "#  'w6': 0.22082314427422578,\n",
    "#  'w7': 0.8455848214484524,\n",
    "#  'w8': 0.17961926443823645,\n",
    "#  'w9': 0.15386702893860843}\n",
    "\n",
    "\n",
    "# [I 2023-06-16 19:56:17,542] | TH:0.11 | Trial 2772 finished with value: 0.685997724533081 and parameters: {'w1': 0.2728695549458137, 'w2': 0.32228366602907965, 'w3': 0.5198602860436105, 'w4': 0.3645111903670712, 'w5': 0.9222454111482654, 'w6': 0.513409920082969, 'w7': 0.8675021234700891, 'w8': 0.0722146925058941, 'w9': 0.09988548514924554, 'w10': 0.04023375737773327}. Best is trial 2772 with value: 0.685997724533081.\n",
    "\n",
    "#  th:0.10 | Best is trial 665 with value: 0.686022162437439.\n",
    "# {'w1': 0.07249514832914417,\n",
    "#  'w2': 0.3044527524365949,\n",
    "#  'w3': 0.46339624897419424,\n",
    "#  'w4': 0.30916961792390085,\n",
    "#  'w5': 0.9820263596044505,\n",
    "#  'w6': 0.13629275856955803,\n",
    "#  'w7': 0.9819243920033219,\n",
    "#  'w8': 0.10786742006569568,\n",
    "#  'w9': 0.017963370847088496,\n",
    "#  'w10': 0.2269773365337288}\n",
    "\n",
    "\n",
    "\n",
    "\n",
    "# th:0.09 Trial 599 finished with value: 0.6861019730567932 and parameters: {'w1': 0.08411983424429813, 'w2': 0.2397144985551996, 'w3': 0.565597681400598, 'w4': 0.27365134829998194, 'w5': 0.8519007002554051, 'w6': 0.0034467714906157854, 'w7': 0.9632070992690323, 'w8': 0.036223969967080535, 'w9': 0.1408041912398369, 'w10': 0.0808046168343181}. Best is trial 599 with value: 0.6861019730567932.\n",
    "\n",
    "\n",
    "\n",
    "\n",
    "\n",
    "\n",
    "# Best is trial 979 th:0.08 | with value: 0.6860898733139038.\n",
    "# {'w1': 0.04219070925378117,\n",
    "#  'w2': 0.2814610861485835,\n",
    "#  'w3': 0.45306132583945036,\n",
    "#  'w4': 0.08300507686599938,\n",
    "#  'w5': 0.9689922153717234,\n",
    "#  'w6': 0.5832699926479489,\n",
    "#  'w7': 0.8380073187640669,\n",
    "#  'w8': 0.00027139503974531664,\n",
    "#  'w9': 0.08843006287891712,\n",
    "#  'w10': 0.2639847795838674}\n",
    "\n",
    "\n",
    "\n",
    "\n",
    "# 0.6835659742355347 and parameters: {'w1': 0.012511663696378001, 'w2': 0.7308678705489249, 'w3': 0.7309363859834449, 'w4': 0.8998292052691779, 'w5': 0.9377896156028775}. Best is trial 183 with value: 0.6835659742355347.\n",
    "# TH: 0.1\n",
    "\n",
    "# pl3_round2_s2 included at last\n",
    "# Trial 177 finished with value: 0.6850342154502869 and parameters: \n",
    "#{'w1': 0.1976000599839957, 'w2': 0.4126970697935236, 'w3': 0.0010400328806771247, 'w4': 0.13358923329787326, 'w5': 0.6293367385421876, 'w6': 0.8157294847307331}. Best is trial 1286 with value: 0.6850342154502869.\n",
    "#TH:0.19\n",
    "\n",
    "\n",
    "# 0.6850342154502869\n",
    "# {'w1': 0.1976000599839957,\n",
    "#  'w2': 0.4126970697935236,\n",
    "#  'w3': 0.0010400328806771247,\n",
    "#  'w4': 0.13358923329787326,\n",
    "#  'w5': 0.6293367385421876,\n",
    "#  'w6': 0.8157294847307331}\n",
    "\n",
    "\n",
    "\n",
    "#  0.6864011883735657 and parameters: \n",
    "# {'w1': 0.0037528376744131176, 'w2': 0.1968372043477828, 'w3': 0.324173594919189,\n",
    "#  'w4': 0.08069037545373889, 'w5': 0.666119680919894, 'w6': 0.23792233503063126, 'w7': 0.6474738231385013, \n",
    "#  }\n",
    "#. Best is trial 301 with value: 0.6864011883735657.\n",
    "# TH: 0.11\n",
    "\n",
    "\n",
    "\n",
    "#th: 0.2\n",
    "# {'w1': 0.9118427143017789, 'w2': 0.07722806128805348, 'w3': 0.3483576258941602}\n",
    "\n",
    "\n",
    "# 0.6802493929862976\n",
    "# {'w1': 0.901456237984701,\n",
    "#  'w2': 0.03333500127663481,\n",
    "#  'w3': 0.1012744451767772,\n",
    "#  'w4': 0.3315684160625839}\n",
    "\n",
    "\n",
    "# 0.6802645325660706\n",
    "# {'w1': 0.9423043059931125,\n",
    "#  'w2': 0.12999481950972483,\n",
    "#  'w3': 0.34096541343299724}\n",
    "\n",
    "\n",
    "\n",
    "\n",
    "# 0.6753096580505371\n",
    "# {'w1': 0.8191544364616984,\n",
    "#  'w2': 0.2172873170900641,\n",
    "#  'w3': 0.9872223348463418,\n",
    "#  'w4': 0.34763898831692425,\n",
    "#  'w5': 0.6106201134139329}\n"
   ]
  },
  {
   "cell_type": "code",
   "execution_count": null,
   "id": "e63a6b39",
   "metadata": {},
   "outputs": [],
   "source": []
  },
  {
   "cell_type": "code",
   "execution_count": null,
   "id": "8ed33dce",
   "metadata": {},
   "outputs": [],
   "source": []
  },
  {
   "cell_type": "code",
   "execution_count": null,
   "id": "44a1bdfd",
   "metadata": {},
   "outputs": [],
   "source": []
  }
 ],
 "metadata": {
  "kernelspec": {
   "display_name": "Python 3 (ipykernel)",
   "language": "python",
   "name": "python3"
  },
  "language_info": {
   "codemirror_mode": {
    "name": "ipython",
    "version": 3
   },
   "file_extension": ".py",
   "mimetype": "text/x-python",
   "name": "python",
   "nbconvert_exporter": "python",
   "pygments_lexer": "ipython3",
   "version": "3.10.11"
  }
 },
 "nbformat": 4,
 "nbformat_minor": 5
}
