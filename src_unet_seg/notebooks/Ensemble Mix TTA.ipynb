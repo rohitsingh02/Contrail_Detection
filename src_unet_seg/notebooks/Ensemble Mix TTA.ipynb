{
 "cells": [
  {
   "cell_type": "code",
   "execution_count": 15,
   "id": "77e5af39",
   "metadata": {},
   "outputs": [],
   "source": [
    "import os\n",
    "import shutil\n",
    "import pathlib\n",
    "import gc\n",
    "import pandas as pd\n",
    "import ttach as tta\n",
    "from pathlib import Path\n",
    "from PIL import Image\n",
    "import numpy as np\n",
    "import cv2 as cv\n",
    "import random\n",
    "import matplotlib.pyplot as plt\n",
    "# from tqdm.auto import tqdm\n",
    "from tqdm.notebook import tqdm\n",
    "import torch\n",
    "import torch.nn as nn\n",
    "import torch.nn.functional as F\n",
    "from torch import optim\n",
    "import torch\n",
    "from torch.utils.data import DataLoader, random_split\n",
    "from torch.utils.data import Dataset\n",
    "from torch.optim.swa_utils import AveragedModel, SWALR\n",
    "\n",
    "import torchvision\n",
    "from torchvision import datasets\n",
    "import cv2\n",
    "from torch.cuda import amp\n",
    "\n",
    "import torchvision.transforms as T\n",
    "from torchvision.transforms import Compose, ToTensor, Resize\n",
    "from torchvision.utils import make_grid\n",
    "import optuna\n",
    "\n",
    "import albumentations as A\n",
    "from albumentations.pytorch import ToTensorV2\n",
    "import segmentation_models_pytorch as smp\n",
    "import timm"
   ]
  },
  {
   "cell_type": "code",
   "execution_count": 16,
   "id": "157ff8d6",
   "metadata": {},
   "outputs": [],
   "source": [
    "def seed_everything(seed=42):\n",
    "    '''Sets the seed of the entire notebook so results are the same every time we run.\n",
    "    This is for REPRODUCIBILITY.'''\n",
    "    np.random.seed(seed)\n",
    "    random.seed(seed)\n",
    "    torch.manual_seed(seed)\n",
    "    torch.cuda.manual_seed(seed)\n",
    "    torch.backends.cudnn.deterministic = True\n",
    "    torch.backends.cudnn.benchmark = False\n",
    "    os.environ['PYTHONHASHSEED'] = str(seed)"
   ]
  },
  {
   "cell_type": "code",
   "execution_count": 17,
   "id": "12e6bf9e",
   "metadata": {},
   "outputs": [],
   "source": [
    "seed_everything(42)"
   ]
  },
  {
   "cell_type": "code",
   "execution_count": null,
   "id": "ddb77d81",
   "metadata": {},
   "outputs": [],
   "source": []
  },
  {
   "cell_type": "code",
   "execution_count": 18,
   "id": "c5654e79",
   "metadata": {},
   "outputs": [],
   "source": [
    "ensemple_type = \"No\" #\"No\" #\"mine\""
   ]
  },
  {
   "cell_type": "code",
   "execution_count": 19,
   "id": "2ddaafa6",
   "metadata": {},
   "outputs": [],
   "source": [
    "device = torch.device('cuda' if torch.cuda.is_available() else 'cpu')\n"
   ]
  },
  {
   "cell_type": "code",
   "execution_count": 20,
   "id": "d58a5058",
   "metadata": {},
   "outputs": [],
   "source": [
    "import torchvision.transforms as T\n",
    "\n",
    "\n",
    "class ContrailDataset:\n",
    "    def __init__(self, df, transform=None, normalize=False):\n",
    "        self.df = df  \n",
    "        self.images = df['image']\n",
    "        self.labels = df['label']\n",
    "        self.transform =transform\n",
    "        self.normalize_image = T.Normalize((0.485, 0.456, 0.406), (0.229, 0.224, 0.225))\n",
    "        self.normalize=normalize\n",
    "        \n",
    "        \n",
    "    def __len__(self):\n",
    "        return len(self.images)\n",
    "        \n",
    "    def __getitem__(self, idx):\n",
    "        image = np.load(\"../../input/\" + self.images[idx]).astype(float)   \n",
    "        label = np.load(\"../../input/\" + self.labels[idx]).astype(float)\n",
    "        \n",
    "\n",
    "        # label_cls = 1 if label.sum() > 0 else 0\n",
    "        if self.transform :\n",
    "            data = self.transform(image=image, mask=label)\n",
    "            image  = data['image']\n",
    "            label  = data['mask']\n",
    "            image = np.transpose(image, (2, 0, 1))\n",
    "            label = np.transpose(label, (2, 0, 1))    \n",
    "            \n",
    "            \n",
    "#         return torch.tensor(image), torch.tensor(label)\n",
    "    \n",
    "        if self.normalize:\n",
    "            image = self.normalize_image(torch.tensor(image))\n",
    "            return image, torch.tensor(label)\n",
    "        else:\n",
    "            return torch.tensor(image), torch.tensor(label)\n",
    "    \n",
    "    "
   ]
  },
  {
   "cell_type": "code",
   "execution_count": 21,
   "id": "985b3de5",
   "metadata": {},
   "outputs": [],
   "source": [
    "###TImmunetplusplus model Nirjhar\n",
    "\n",
    "n_blocks = 4\n",
    "\n",
    "class TimmSegModel(nn.Module):\n",
    "    def __init__(self, cfg, segtype='unet', pretrained=True):\n",
    "        super(TimmSegModel, self).__init__()\n",
    "        self.conv1 = nn.Conv2d(3, 6, 3, stride=1, padding=1, bias=False)\n",
    "        self.conv2 = nn.Conv2d(6, 12, 3, stride=1, padding=1, bias=False)\n",
    "        self.conv3 = nn.Conv2d(12, 36, 3, stride=1, padding=1, bias=False)\n",
    "        self.mybn1 = nn.BatchNorm2d(6)\n",
    "        self.mybn2 = nn.BatchNorm2d(12)\n",
    "        self.mybn3 = nn.BatchNorm2d(36)     \n",
    "        self.encoder = timm.create_model(\n",
    "            cfg['backbone'],\n",
    "            in_chans=3,\n",
    "            features_only=True,\n",
    "            drop_rate=0.8,\n",
    "            drop_path_rate=0.5,\n",
    "            pretrained=False\n",
    "        )\n",
    "        self.encoder.conv_stem=nn.Conv2d(6, 64, kernel_size=(3, 3), stride=(2, 2), padding=(1, 1), bias=False)\n",
    "\n",
    "        self.encoder.blocks[5] = nn.Identity()\n",
    "        self.encoder.blocks[6] = nn.Sequential(\n",
    "            nn.Conv2d(self.encoder.blocks[4][2].conv_pwl.out_channels, 320, 1),\n",
    "            nn.BatchNorm2d(320),\n",
    "            nn.ReLU6(),\n",
    "        )\n",
    "        tr = torch.randn(1,6,64,64)\n",
    "        g = self.encoder(tr)\n",
    "        encoder_channels = [1] + [_.shape[1] for _ in g]\n",
    "        decoder_channels = [256, 128, 64, 32, 16]\n",
    "        if segtype == 'unet':\n",
    "            self.decoder = smp.decoders.unetplusplus.decoder.UnetPlusPlusDecoder(\n",
    "                encoder_channels=encoder_channels[:n_blocks+1],\n",
    "                decoder_channels=decoder_channels[:n_blocks],\n",
    "                n_blocks=n_blocks,\n",
    "            )\n",
    "\n",
    "        self.segmentation_head = nn.Conv2d(\n",
    "            decoder_channels[n_blocks-1],\n",
    "            cfg[\"num_classes\"], \n",
    "            kernel_size=(3, 3),\n",
    "            stride=(1, 1), \n",
    "            padding=(1, 1)\n",
    "        )\n",
    "\n",
    "    def forward(self,x):\n",
    "        x = F.relu6(self.mybn1(self.conv1(x)))\n",
    "        global_features = [0] + self.encoder(x)[:n_blocks]\n",
    "        seg_features = self.decoder(*global_features)\n",
    "        seg_features = self.segmentation_head(seg_features)\n",
    "        return seg_features\n",
    "    \n",
    "\n",
    "def load_model1(cfg):\n",
    "    model = TimmSegModel(cfg)\n",
    "    model.load_state_dict(torch.load(cfg['model_pth']))\n",
    "    return model\n",
    "\n",
    "\n",
    "#### Model 2 Nirjhar\n",
    "\n",
    "n_blocks =4\n",
    "class TimmSegModel2(nn.Module):\n",
    "    def __init__(self, cfg, segtype='unet', pretrained=True):\n",
    "        super(TimmSegModel2, self).__init__()\n",
    "\n",
    "        self.encoder = timm.create_model(\n",
    "            cfg['backbone'],\n",
    "            in_chans=3,\n",
    "            features_only=True,\n",
    "            drop_rate=0.5,\n",
    "            pretrained=False\n",
    "        )\n",
    "        g = self.encoder(torch.rand(1, 3, 128, 128))\n",
    "        encoder_channels = [1] + [_.shape[1] for _ in g]\n",
    "        decoder_channels = [256, 128, 64, 32, 16]\n",
    "        if segtype == 'unet':\n",
    "            self.decoder = smp.decoders.unetplusplus.decoder.UnetPlusPlusDecoder(\n",
    "                encoder_channels=encoder_channels[:n_blocks+1],\n",
    "                decoder_channels=decoder_channels[:n_blocks],\n",
    "                n_blocks=n_blocks,\n",
    "            )\n",
    "\n",
    "        self.segmentation_head = nn.Sequential(\n",
    "            nn.Conv2d(decoder_channels[n_blocks-1], 1, kernel_size=(3, 3), stride=(1, 1), padding=(1, 1)),\n",
    "            nn.UpsamplingBilinear2d(scale_factor=1))\n",
    "\n",
    "    def forward(self,x):\n",
    "        global_features = [0] + self.encoder(x)[:n_blocks]\n",
    "        seg_features = self.decoder(*global_features)\n",
    "        seg_features = self.segmentation_head(seg_features)\n",
    "        return seg_features\n",
    "    \n",
    "\n",
    "def load_model2(cfg):\n",
    "    model = TimmSegModel2(cfg)\n",
    "    model.load_state_dict(torch.load(cfg['model_pth']))\n",
    "    return model\n",
    "\n",
    "\n",
    "##################\n",
    "\n",
    "n_blocks = 4\n",
    "\n",
    "class TimmSegModel3(nn.Module):\n",
    "    def __init__(self, cfg, segtype='unet', pretrained=True):\n",
    "        super(TimmSegModel3, self).__init__()\n",
    "        self.conv1 = nn.Conv2d(3, 6, 3, stride=1, padding=1, bias=False)\n",
    "        self.conv2 = nn.Conv2d(6, 12, 3, stride=1, padding=1, bias=False)\n",
    "        self.conv3 = nn.Conv2d(12, 36, 3, stride=1, padding=1, bias=False)\n",
    "        self.mybn1 = nn.BatchNorm2d(6)\n",
    "        self.mybn2 = nn.BatchNorm2d(12)\n",
    "        self.mybn3 = nn.BatchNorm2d(36)     \n",
    "        self.encoder = timm.create_model(\n",
    "            cfg[\"backbone\"],\n",
    "            in_chans=3,\n",
    "            features_only=True,\n",
    "            drop_rate=0.8,\n",
    "            drop_path_rate=0.5,\n",
    "            pretrained=False\n",
    "        )\n",
    "        self.encoder.conv_stem=nn.Conv2d(6, 72, kernel_size=(3, 3), stride=(2, 2), padding=(1, 1), bias=False)\n",
    "\n",
    "        self.encoder.blocks[5] = nn.Identity()\n",
    "        self.encoder.blocks[6] = nn.Sequential(\n",
    "            nn.Conv2d(self.encoder.blocks[4][2].conv_pwl.out_channels, 320, 1),\n",
    "            nn.BatchNorm2d(320),\n",
    "            nn.ReLU6(),\n",
    "        )\n",
    "        tr = torch.randn(1,6,64,64)\n",
    "        g = self.encoder(tr)\n",
    "        encoder_channels = [1] + [_.shape[1] for _ in g]\n",
    "        decoder_channels = [256, 128, 64, 32, 16]\n",
    "        if segtype == 'unet':\n",
    "            self.decoder = smp.decoders.unetplusplus.decoder.UnetPlusPlusDecoder(\n",
    "                encoder_channels=encoder_channels[:n_blocks+1],\n",
    "                decoder_channels=decoder_channels[:n_blocks],\n",
    "                n_blocks=n_blocks,\n",
    "            )\n",
    "\n",
    "        self.segmentation_head = nn.Conv2d(decoder_channels[n_blocks-1], cfg['num_classes'], kernel_size=(3, 3), stride=(1, 1), padding=(1, 1))\n",
    "\n",
    "    def forward(self,x):\n",
    "        x = F.relu6(self.mybn1(self.conv1(x)))\n",
    "        global_features = [0] + self.encoder(x)[:n_blocks]\n",
    "        seg_features = self.decoder(*global_features)\n",
    "        seg_features = self.segmentation_head(seg_features)\n",
    "        return seg_features\n",
    "    \n",
    "    \n",
    "    \n",
    "def load_model3(cfg):\n",
    "    model = TimmSegModel3(cfg)\n",
    "    model.load_state_dict(torch.load(cfg['model_pth']))\n",
    "    return model\n",
    "\n",
    "\n",
    "\n",
    "class TimmSegModel4(nn.Module):\n",
    "    def __init__(self, cfg, segtype='unet', pretrained=True):\n",
    "        super(TimmSegModel4, self).__init__()\n",
    "\n",
    "        self.encoder = timm.create_model(\n",
    "            cfg[\"backbone\"],\n",
    "            in_chans=3,\n",
    "            features_only=True,\n",
    "            drop_rate=0.5,\n",
    "            pretrained=False\n",
    "        )\n",
    "        g = self.encoder(torch.rand(1, 3, 512, 512))\n",
    "        encoder_channels = [1] + [_.shape[1] for _ in g]\n",
    "        decoder_channels = [256, 128, 64, 32, 16]\n",
    "        if segtype == 'unet':\n",
    "            self.decoder = smp.decoders.unetplusplus.decoder.UnetPlusPlusDecoder(\n",
    "                encoder_channels=encoder_channels[:n_blocks+1],\n",
    "                decoder_channels=decoder_channels[:n_blocks],\n",
    "                n_blocks=n_blocks,\n",
    "            )\n",
    "\n",
    "        self.segmentation_head = nn.Sequential(\n",
    "            nn.Conv2d(decoder_channels[n_blocks-1], 1, kernel_size=(3, 3), stride=(1, 1), padding=(1, 1)),\n",
    "            nn.UpsamplingBilinear2d(scale_factor=1))\n",
    "\n",
    "    def forward(self,x):\n",
    "        global_features = [0] + self.encoder(x)[:n_blocks]\n",
    "        seg_features = self.decoder(*global_features)\n",
    "        seg_features = self.segmentation_head(seg_features)\n",
    "        return seg_features\n",
    "    \n",
    "    \n",
    "def load_model4(cfg):\n",
    "    model = TimmSegModel4(cfg)\n",
    "    model.load_state_dict(torch.load(cfg['model_pth']))\n",
    "    return model\n",
    "\n",
    "\n",
    "\n",
    "\n",
    "n_blocks_1 = 5\n",
    "class TimmSegModel5(nn.Module):\n",
    "    def __init__(self, cfg, segtype='unet', pretrained=True):\n",
    "        super(TimmSegModel5, self).__init__()\n",
    "\n",
    "        self.encoder = timm.create_model(\n",
    "            cfg[\"backbone\"],\n",
    "            in_chans=3,\n",
    "            features_only=True,\n",
    "            drop_rate=0.5,\n",
    "            pretrained=False\n",
    "        )\n",
    "        g = self.encoder(torch.rand(1, 3, 512, 512))\n",
    "        encoder_channels = [1] + [_.shape[1] for _ in g]\n",
    "        decoder_channels = [256, 128, 64, 32, 16]\n",
    "        if segtype == 'unet':\n",
    "            self.decoder = smp.decoders.unetplusplus.decoder.UnetPlusPlusDecoder(\n",
    "                encoder_channels=encoder_channels[:n_blocks_1+1],\n",
    "                decoder_channels=decoder_channels[:n_blocks_1],\n",
    "                n_blocks=n_blocks_1,\n",
    "            )\n",
    "\n",
    "        self.segmentation_head = nn.Sequential(\n",
    "            nn.Conv2d(decoder_channels[n_blocks_1-1], 1, kernel_size=(3, 3), stride=(1, 1), padding=(1, 1)),\n",
    "            nn.UpsamplingBilinear2d(scale_factor=1))\n",
    "\n",
    "    def forward(self,x):\n",
    "        global_features = [0] + self.encoder(x)[:n_blocks_1]\n",
    "        seg_features = self.decoder(*global_features)\n",
    "        seg_features = self.segmentation_head(seg_features)\n",
    "        return seg_features\n",
    "    \n",
    "    \n",
    "def load_model5(cfg):\n",
    "    model = TimmSegModel5(cfg)\n",
    "    model.load_state_dict(torch.load(cfg['model_pth']))\n",
    "    return model\n",
    "\n",
    "\n",
    "\n",
    "\n",
    "## Rohit Model \n",
    "class Net_R(nn.Module):\n",
    "    def __init__(self, cfg):\n",
    "        super().__init__()\n",
    "        self.cfg = cfg\n",
    "        \n",
    "        if cfg['model_name'] == 'Unet':\n",
    "            self.model = smp.Unet(\n",
    "                encoder_name=cfg[\"backbone\"],     \n",
    "                encoder_weights=None,   \n",
    "                in_channels=3,  \n",
    "                classes=cfg[\"num_classes\"],\n",
    "                activation=None\n",
    "            )\n",
    "            \n",
    "        elif cfg['model_name'] == 'FPN':\n",
    "            self.model = smp.FPN(\n",
    "                encoder_name=cfg[\"backbone\"],     \n",
    "                encoder_weights=None,   \n",
    "                in_channels=3,  \n",
    "                classes=cfg[\"num_classes\"],\n",
    "                activation=None\n",
    "            )\n",
    "        \n",
    "    \n",
    "    def forward(self, inputs):\n",
    "        mask = self.model(inputs)\n",
    "        return mask\n",
    "    \n",
    "    \n",
    "def load_modelr1(cfg):\n",
    "    model = Net_R(cfg)\n",
    "    model = torch.nn.DataParallel(model).cuda()\n",
    "    model.load_state_dict(torch.load(cfg['model_pth'], map_location=torch.device('cpu'))['model'])\n",
    "    return model\n",
    "\n",
    "\n",
    "def load_modelr1(cfg):\n",
    "    model = Net_R(cfg)\n",
    "    model = torch.nn.DataParallel(model).cuda()\n",
    "    model.load_state_dict(torch.load(cfg['model_pth'], map_location=torch.device('cpu'))['model'])\n",
    "    return model\n",
    "\n",
    "\n",
    "# def load_modelr3(cfg):\n",
    "# #     weight = f\"{cfg.architecture.pretrained_weights}\"\n",
    "#     model = Net_R(cfg)\n",
    "#     model = torch.nn.DataParallel(model).cuda()\n",
    "    \n",
    "#     d =  torch.load(cfg['model_pth'], map_location=\"cpu\")\n",
    "#     if \"model\" in d:\n",
    "#         model_weights = d[\"model\"]\n",
    "#     else:\n",
    "#         model_weights = d\n",
    "#     try:\n",
    "#         model.load_state_dict(model_weights, strict=True)\n",
    "#     except Exception as e:\n",
    "#         print(\"removing unused pretrained layers\")\n",
    "#         for layer_name in re.findall(\"size mismatch for (.*?):\", str(e)):\n",
    "#             model_weights.pop(layer_name, None)\n",
    "#         model.load_state_dict(model_weights, strict=False)\n",
    "\n",
    "#     print(f\"Weights loaded from: {cfg.architecture.pretrained_weights}\")\n",
    "\n",
    "\n",
    "\n",
    "#     if idx in [11, 12]:\n",
    "#         model = TimmSegModelR1(cfg)\n",
    "#         model = torch.nn.DataParallel(model).cuda()\n",
    "#         model.load_state_dict(torch.load(cfg['model_pth'], map_location=torch.device('cpu'))['model'])\n",
    "#     else:\n",
    "#         model = Net(cfg)    \n",
    "#         model = torch.nn.DataParallel(model).cuda()\n",
    "#         model.load_state_dict(torch.load(cfg['model_pth'], map_location=torch.device('cpu'))['model'])\n",
    "\n",
    "class TimmSegModelR1(nn.Module):\n",
    "    def __init__(self, cfg, segtype='unet', pretrained=True):\n",
    "        super(TimmSegModelR1, self).__init__()\n",
    "\n",
    "        self.n_blocks = 4\n",
    "        self.encoder = timm.create_model(\n",
    "            cfg['backbone'],\n",
    "            in_chans=3,\n",
    "            features_only=True,\n",
    "            drop_rate=0.5,\n",
    "            pretrained=False\n",
    "        )\n",
    "        g = self.encoder(torch.rand(1, 3, 128, 128))\n",
    "        encoder_channels = [1] + [_.shape[1] for _ in g]\n",
    "        decoder_channels = [256, 128, 64, 32, 16]\n",
    "        if segtype == 'unet':\n",
    "            self.decoder = smp.decoders.unetplusplus.decoder.UnetPlusPlusDecoder(\n",
    "                encoder_channels=encoder_channels[:self.n_blocks+1],\n",
    "                decoder_channels=decoder_channels[:self.n_blocks],\n",
    "                n_blocks=self.n_blocks,\n",
    "            )\n",
    "\n",
    "        self.segmentation_head = nn.Sequential(\n",
    "            nn.Conv2d(decoder_channels[self.n_blocks-1], \n",
    "                      cfg['num_classes'],\n",
    "                      kernel_size=(3, 3),\n",
    "                      stride=(1, 1),\n",
    "                      padding=(1, 1)\n",
    "            ),\n",
    "            nn.UpsamplingBilinear2d(scale_factor=1)\n",
    "        )\n",
    "\n",
    "    def forward(self,x):\n",
    "        global_features = [0] + self.encoder(x)[:self.n_blocks]\n",
    "        seg_features = self.decoder(*global_features)\n",
    "        seg_features = self.segmentation_head(seg_features)\n",
    "        return seg_features\n",
    "\n",
    "\n",
    "    \n",
    "def load_modelr2(cfg):\n",
    "    model = TimmSegModelR1(cfg)\n",
    "    model = torch.nn.DataParallel(model).cuda()\n",
    "    model.load_state_dict(torch.load(cfg['model_pth'], map_location=torch.device('cpu'))['model'])\n",
    "    return model"
   ]
  },
  {
   "cell_type": "markdown",
   "id": "b3c5aebd",
   "metadata": {},
   "source": [
    "### Ioannis"
   ]
  },
  {
   "cell_type": "code",
   "execution_count": null,
   "id": "c35da6d2",
   "metadata": {},
   "outputs": [],
   "source": []
  },
  {
   "cell_type": "code",
   "execution_count": 22,
   "id": "07bfce0c",
   "metadata": {},
   "outputs": [],
   "source": [
    "def dice_coef(y_true, y_pred, thr=0.5, epsilon=1e-6):\n",
    "    y_true = y_true.to(torch.float32)\n",
    "    y_pred = (y_pred>thr).to(torch.float32)\n",
    "    inter = (y_true*y_pred).sum()\n",
    "    den = y_true.sum() + y_pred.sum()\n",
    "    dice = ((2*inter+epsilon)/(den+epsilon)).mean()\n",
    "    \n",
    "    return dice\n",
    "\n",
    "\n",
    "def get_transform(img_size):\n",
    "    transform = A.Compose([\n",
    "        A.Resize(*img_size, interpolation=cv2.INTER_NEAREST),\n",
    "    ], p=1.0)\n",
    "    return transform\n",
    "\n",
    "def get_transform2(img_size):\n",
    "    transform = A.Compose([\n",
    "        A.Resize(*img_size, interpolation=cv2.INTER_LINEAR),\n",
    "    ], p=1.0)\n",
    "    return transform\n",
    "\n",
    "\n"
   ]
  },
  {
   "cell_type": "code",
   "execution_count": 23,
   "id": "01378f87",
   "metadata": {},
   "outputs": [],
   "source": [
    "val_df = pd.read_csv(\"../../input/data_utils/val_df_filled.csv\")\n",
    "val_df_full = val_df.copy()\n",
    "\n",
    "# val_df = val_df.loc[val_df['class'] == 1].reset_index(drop=True)\n",
    "val_dups = np.load(\"../../input/data_utils/dups_val.npy\")\n",
    "\n",
    "val_dups = [int(val_id) for val_id in val_dups]"
   ]
  },
  {
   "cell_type": "code",
   "execution_count": 24,
   "id": "aea14014",
   "metadata": {},
   "outputs": [
    {
     "name": "stdout",
     "output_type": "stream",
     "text": [
      "(1856, 4) (1856, 4)\n"
     ]
    }
   ],
   "source": [
    "# val_df = val_df.loc[~val_df['id'].isin(val_dups)].reset_index(drop=True)\n",
    "print(val_df.shape, val_df_full.shape)"
   ]
  },
  {
   "cell_type": "code",
   "execution_count": 25,
   "id": "89baeb62",
   "metadata": {},
   "outputs": [],
   "source": [
    "# val_df.to_csv(f\"../../output/final_preds/val_df_pos.csv\", index=False)"
   ]
  },
  {
   "cell_type": "code",
   "execution_count": 26,
   "id": "2aa5dc84",
   "metadata": {},
   "outputs": [],
   "source": [
    "CFGS1 = [\n",
    "    {\n",
    "        'model_name': 'Unet',\n",
    "        'backbone': 'efficientnet-b7',\n",
    "        'img_size': [512, 512],\n",
    "        'num_classes': 1,\n",
    "        'model_pth':  '/home/rohits/pv1/Contrail_Detection/output3/exp_10_s1_full/Unet/efficientnet-b7-512/checkpoint_dice_ctrl_fold0.pth',\n",
    "        'threshold': 0.24, #0.24,\n",
    "        'call_sign': \"roh_10_tta_flip\",\n",
    "        'model_func': load_modelr1,\n",
    "        'tta': True,\n",
    "        'normalize': False\n",
    "    },\n",
    "    \n",
    "]"
   ]
  },
  {
   "cell_type": "code",
   "execution_count": 14,
   "id": "f00f9b3f",
   "metadata": {},
   "outputs": [
    {
     "name": "stdout",
     "output_type": "stream",
     "text": [
      "{'model_name': 'Unet', 'backbone': 'efficientnet-b7', 'img_size': [512, 512], 'num_classes': 1, 'model_pth': '/home/rohits/pv1/Contrail_Detection/output3/exp_10_s1_full/Unet/efficientnet-b7-512/checkpoint_dice_ctrl_fold0.pth', 'threshold': 0.24, 'call_sign': 'roh_10_tta_flip', 'model_func': <function load_modelr1 at 0x7faa1ef835b0>, 'tta': True, 'normalize': False}\n"
     ]
    },
    {
     "data": {
      "application/vnd.jupyter.widget-view+json": {
       "model_id": "d64c84f9739b4ebfbd7a6933744829ca",
       "version_major": 2,
       "version_minor": 0
      },
      "text/plain": [
       "  0%|          | 0/58 [00:00<?, ?it/s]"
      ]
     },
     "metadata": {},
     "output_type": "display_data"
    },
    {
     "name": "stdout",
     "output_type": "stream",
     "text": [
      "torch.Size([1856, 256, 256])\n",
      "0.67817783 0.19\n"
     ]
    }
   ],
   "source": [
    "final_preds1 = []\n",
    "\n",
    "for idx, cfg in enumerate(CFGS1):   \n",
    "\n",
    "#     if idx <= 10:\n",
    "#         continue\n",
    "        \n",
    "    print(cfg)\n",
    "    val_transform = get_transform(cfg['img_size'])\n",
    "    val_transform2 = get_transform2(cfg['img_size'])\n",
    "\n",
    "    valid_dataset = ContrailDataset(val_df, transform=val_transform, normalize=False)  \n",
    "    if cfg['normalize'] and (\"ioa_\" in cfg['call_sign']):\n",
    "        valid_dataset = ContrailDataset(val_df, transform=val_transform2, normalize=True)  \n",
    "#         valid_dataset = ContrailDataset(val_df, transform=val_transform, normalize=True)  \n",
    "\n",
    "\n",
    "    \n",
    "    valid_loader = DataLoader(\n",
    "        valid_dataset, \n",
    "        batch_size = 32, #32, \n",
    "        shuffle = False, \n",
    "        num_workers = 2, \n",
    "        pin_memory = True, \n",
    "        drop_last = False\n",
    "    )\n",
    "    \n",
    "    \n",
    "    model = cfg['model_func'](cfg)        \n",
    "      \n",
    "    if cfg['tta']:\n",
    "        if \"roh_\" in cfg['call_sign']:\n",
    "\n",
    "            model = tta.SegmentationTTAWrapper(model, tta.aliases.flip_transform(), merge_mode='mean')\n",
    "#             model = tta.SegmentationTTAWrapper(model, tta.aliases.d4_transform(), merge_mode='mean')\n",
    "#             model3 = tta.SegmentationTTAWrapper(model, tta.aliases.hflip_transform(), merge_mode='mean')\n",
    "\n",
    "        else:\n",
    "            model = tta.SegmentationTTAWrapper(model, tta.aliases.hflip_transform(), merge_mode='mean')\n",
    "#             model = tta.SegmentationTTAWrapper(model, tta.aliases.flip_transform(), merge_mode='mean')\n",
    "#             model = tta.SegmentationTTAWrapper(model, tta.aliases.d4_transform(), merge_mode='mean')\n",
    "\n",
    "\n",
    "    \n",
    "#     model1.to(device)\n",
    "#     model2.to(device)\n",
    "#     model3.to(device)\n",
    "#     model1.eval()\n",
    "#     model2.eval()\n",
    "#     model3.eval()\n",
    "    \n",
    "    \n",
    "    model.to(device)\n",
    "    model.eval()\n",
    "    \n",
    "    \n",
    "    preds = []\n",
    "    masks_ = []      \n",
    "        \n",
    "    for index, (images, masks) in enumerate(tqdm(valid_loader)):  \n",
    "        images  = images.to(device, dtype=torch.float)\n",
    "        masks  = masks.to(device, dtype=torch.float)\n",
    "        if cfg['img_size'][0] != 256:\n",
    "            masks = torch.nn.functional.interpolate(masks, size=256, mode='nearest') \n",
    "\n",
    "        masks_.append(torch.squeeze(masks, dim=1))\n",
    "        with torch.inference_mode():\n",
    "            images = torch.nn.functional.interpolate(images, size=cfg['img_size'][0], mode='nearest')\n",
    "            pred = model(images).sigmoid() \n",
    "#             pred2 = model2(images).sigmoid() \n",
    "#             pred3 = model3(images).sigmoid() \n",
    "            \n",
    "#             pred = (pred1 + pred2 + pred3) / 3\n",
    "                \n",
    "            pred = torch.nn.functional.interpolate(pred, size=256, mode='nearest')\n",
    "            preds.append(torch.squeeze(pred, dim=1))\n",
    "        \n",
    "            \n",
    "            \n",
    "    model_masks = torch.cat(masks_, dim=0)\n",
    "    model_preds = torch.cat(preds, dim=0)\n",
    "        \n",
    "    print(model_preds.shape)\n",
    "\n",
    "    np.save(f\"../../output/final_preds/{cfg['call_sign']}\", model_preds.detach().cpu().numpy())\n",
    "#     if idx == 0:\n",
    "#         np.save(f\"../../output/final_preds/val_masks\", model_masks.detach().cpu().numpy())\n",
    "\n",
    "    \n",
    "    best_threshold = 0.0\n",
    "    best_dice_score = 0.0\n",
    "    for threshold in [i / 100 for i in range(101)] :\n",
    "        score = dice_coef(model_masks, model_preds, thr=threshold).cpu().detach().numpy() \n",
    "        if score > best_dice_score:\n",
    "            best_dice_score = score\n",
    "            best_threshold = threshold\n",
    "    \n",
    "        \n",
    "    print(best_dice_score, best_threshold)\n",
    "    final_preds1.append(model_preds)\n",
    "    \n",
    "#     del model1, model2, model3\n",
    "    del model\n",
    "    torch.cuda.empty_cache()\n",
    "    gc.collect()"
   ]
  },
  {
   "cell_type": "code",
   "execution_count": 17,
   "id": "dcf615bb",
   "metadata": {},
   "outputs": [],
   "source": [
    "### 0.67995                                                                                                           "
   ]
  },
  {
   "cell_type": "code",
   "execution_count": 84,
   "id": "4939840c",
   "metadata": {},
   "outputs": [],
   "source": [
    "def get_small_area(wt, wt_all, mask):\n",
    "    best_threshold = 0.0\n",
    "    best_dice_score = 0.0\n",
    "    best_area = 0.0\n",
    "    for i in range(500):\n",
    "#         wt1 = wt\n",
    "#         for idx, val in enumerate(wt1):\n",
    "#             if val.sum() <= i:\n",
    "#                 wt1[idx, :, :] = 0\n",
    "                \n",
    "        wt1 = wt\n",
    "        for idx, val in enumerate(wt_all):\n",
    "            if val.sum() <= i:\n",
    "                wt1[idx, :, :] = 0\n",
    "                \n",
    "        wt1 = wt1.cuda()\n",
    "        for threshold in [i / 100 for i in range(101)] :\n",
    "            score = dice_coef(model_masks, wt1, thr=threshold).cpu().detach().numpy() \n",
    "            if score > best_dice_score:\n",
    "                best_dice_score = score\n",
    "                best_threshold = threshold\n",
    "                best_area = i\n",
    "        print(best_dice_score, best_threshold, best_area)\n",
    "                \n",
    "    print(best_dice_score, best_threshold, best_area)    \n",
    "    \n",
    "    \n",
    "    "
   ]
  },
  {
   "cell_type": "code",
   "execution_count": 115,
   "id": "5773bd64",
   "metadata": {},
   "outputs": [
    {
     "data": {
      "application/vnd.jupyter.widget-view+json": {
       "model_id": "ec6d6734b1b44bc7b91e8916fa1bb656",
       "version_major": 2,
       "version_minor": 0
      },
      "text/plain": [
       "  0%|          | 0/10 [00:00<?, ?it/s]"
      ]
     },
     "metadata": {},
     "output_type": "display_data"
    },
    {
     "name": "stdout",
     "output_type": "stream",
     "text": [
      "0.6838827\n",
      "0.67202777\n",
      "0.67855626\n",
      "0.68252563\n",
      "0.6752145\n",
      "0.68600667\n",
      "0.68670255\n",
      "0.6707117\n",
      "0.6730113\n",
      "0.6578587\n",
      "Mean Ensemble CV 0.69696844\n"
     ]
    }
   ],
   "source": [
    "\n",
    "# call_signs1 = [  \n",
    "# #     \"roh_02_tta\",\n",
    "# #     \"roh_11_tta\",\n",
    "# #     \"nir_05_tta\",\n",
    "#     \"roh_11_tta\", # 12527945585979453\n",
    "#     \"nir_06_tta\", # 4274708716604963\n",
    "#     \"nir_09_tta\", # 60359403891758\n",
    "#     \"121_tta\", # 598088267045536\n",
    "#     \"162_tta\", # 8735733730972042\n",
    "#     \"166_tta\", # 2509448081151351\n",
    "# #     \"125_tta\", \n",
    "# #     \"196_tta\",\n",
    "# #     \"204\",\n",
    "#     \"229_tta\",  # 4990068077158164\n",
    "#     \"235_tta\", # 9475873953049087\n",
    "#     \"ioa_exp55_tta\", # 5673029916578154\n",
    "\n",
    "# #     \"242_tta\"\n",
    "    \n",
    "# ] \n",
    "\n",
    "# call_signs1 = [\n",
    "# #     \"roh_10_tta_flip\",\n",
    "#     \"roh_11_tta\", # d4\n",
    "#     \"nir_05\",\n",
    "#     \"nir_06_tta\",\n",
    "#     \"nir_09\",\n",
    "    \n",
    "#     \"121_tta\",\n",
    "#     \"162_tta\",\n",
    "#     \"166_tta\",\n",
    "#     \"125\",\n",
    "#     \"196\",\n",
    "# #     \"127\",\n",
    "    \n",
    "    \n",
    "#     \"229_tta\",\n",
    "#     \"235_tta\",\n",
    "#     \"ioa_exp55_tta\"\n",
    "# ]\n",
    "\n",
    "# call_signs1 = [\n",
    "# #     \"roh_10_tta_flip\",\n",
    "#     \"roh_11_tta\", # d4\n",
    "#     \"nir_05\",\n",
    "#     \"nir_09\",\n",
    "    \n",
    "#     \"121_tta\",\n",
    "#     \"162_tta\",\n",
    "#     \"166_tta\",\n",
    "#     \"125\",\n",
    "#     \"196\",\n",
    "# #     \"127\",\n",
    "    \n",
    "# #     \"229_tta\",\n",
    "# #     \"235_tta\",\n",
    "#     \"ioa_exp55_tta\",\n",
    "# #     \"nir_06_tta\",\n",
    "\n",
    "# ]\n",
    "\n",
    "\n",
    "call_signs1 = [\n",
    "    \"235_tta\", \"nir_09_tta\", \"166_tta\", \"127_tta\", \"nir_06_tta\", \"121_tta\", \"roh_05_tta\", \n",
    "    \"121\", \"162\", \"nir_01\"\n",
    "]\n",
    "\n",
    "\n",
    "model_masks = torch.from_numpy(np.load(f\"/home/rohits/pv1/Contrail_Detection/output/final_preds/val_masks.npy\")).cuda() #.flatten().cuda() \n",
    "\n",
    "preds = []\n",
    "for idx, sign in tqdm(enumerate(call_signs1), total=len(call_signs1)):\n",
    "    wt = torch.from_numpy(np.load(f\"/home/rohits/pv1/Contrail_Detection/output/oofs/{sign}.npy\")).cuda() \n",
    "    preds.append(wt)    \n",
    "    score = dice_coef(model_masks, wt, thr=0.5).cpu().detach().numpy() \n",
    "    print(score)\n",
    "#     best_threshold = 0.0\n",
    "#     best_dice_score = 0.0\n",
    "#     for threshold in [i / 100 for i in range(101)] :\n",
    "#         score = dice_coef(model_masks, wt, thr=threshold).cpu().detach().numpy() \n",
    "#         if score > best_dice_score:\n",
    "#             best_dice_score = score\n",
    "#             best_threshold = threshold\n",
    "#     print(best_dice_score, best_threshold)\n",
    "    \n",
    "    \n",
    "    \n",
    "final_preds = torch.stack(preds).mean(dim=0)\n",
    "score = dice_coef(model_masks, final_preds, thr=0.5).cpu().detach().numpy() \n",
    "print(\"Mean Ensemble CV\", score)\n"
   ]
  },
  {
   "cell_type": "code",
   "execution_count": 116,
   "id": "0256452a",
   "metadata": {},
   "outputs": [
    {
     "name": "stdout",
     "output_type": "stream",
     "text": [
      "0.5 TH Score:  0.69696844\n",
      "0.6990131 0.41\n"
     ]
    }
   ],
   "source": [
    "final_preds = preds\n",
    "final_preds = torch.stack(final_preds).mean(dim=0)\n",
    "score = dice_coef(model_masks, final_preds, thr=0.5).cpu().detach().numpy() \n",
    "\n",
    "print(\"0.5 TH Score: \", score)\n",
    "\n",
    "\n",
    "best_threshold = 0.0\n",
    "best_dice_score = 0.0\n",
    "for threshold in [i / 100 for i in range(101)] :\n",
    "    if threshold < 0.35 or threshold > 0.51:\n",
    "        continue\n",
    "    \n",
    "    score = dice_coef(model_masks, final_preds, thr=threshold).cpu().detach().numpy() \n",
    "    if score > best_dice_score:\n",
    "        best_dice_score = score\n",
    "        best_threshold = threshold\n",
    "        \n",
    "print(best_dice_score, best_threshold)"
   ]
  },
  {
   "cell_type": "code",
   "execution_count": null,
   "id": "5b96ac13",
   "metadata": {},
   "outputs": [],
   "source": []
  },
  {
   "cell_type": "code",
   "execution_count": 114,
   "id": "d21fd788",
   "metadata": {},
   "outputs": [
    {
     "data": {
      "application/vnd.jupyter.widget-view+json": {
       "model_id": "79add8bc85f94682aae36b42bf95db59",
       "version_major": 2,
       "version_minor": 0
      },
      "text/plain": [
       "0it [00:00, ?it/s]"
      ]
     },
     "metadata": {},
     "output_type": "display_data"
    }
   ],
   "source": [
    "call_signs2 = [\n",
    "#     \"roh_12_2_tta\"\n",
    "#     \"roh_05_tta\",\n",
    "#     \"roh_12_2_tta\"\n",
    "    \n",
    "#     \"roh_10_tta_flip\",\n",
    "#     \"roh_10_tta\",\n",
    "#     \"roh_11_tta\", # d4\n",
    "#     \"nir_05_tta\",\n",
    "#     \"121_tta\",\n",
    "#     \"162_tta\",\n",
    "#     \"125_tta\",\n",
    "#     \"196_tta\",\n",
    "#     \"229_tta\",\n",
    "#     \"235_tta\",\n",
    "#     \"ioa_exp55_tta\",\n",
    "    \n",
    "#     \"127\",\n",
    "#     \"162\",\n",
    "#     \"125\",\n",
    "#     \"196\"\n",
    "    \n",
    "]\n",
    "\n",
    "preds2 = []\n",
    "for idx, sign in tqdm(enumerate(call_signs2), total=len(call_signs2)):\n",
    "    wt = torch.from_numpy(np.load(f\"/home/rohits/pv1/Contrail_Detection/output/oofs/{sign}.npy\")).cuda() \n",
    "    wt = preds + [wt]\n",
    "    \n",
    "    final_preds = torch.stack(wt).mean(dim=0)\n",
    "    score = dice_coef(model_masks, final_preds, thr=0.5).cpu().detach().numpy() \n",
    "    print(idx, score)"
   ]
  },
  {
   "cell_type": "code",
   "execution_count": null,
   "id": "7848a33e",
   "metadata": {},
   "outputs": [],
   "source": [
    "# 0.69445986\n",
    "\n",
    "final_preds = preds\n",
    "final_preds = torch.stack(final_preds).mean(dim=0)\n",
    "score = dice_coef(model_masks, final_preds, thr=0.5).cpu().detach().numpy() \n",
    "\n",
    "print(\"0.5 TH Score: \", score)"
   ]
  },
  {
   "cell_type": "code",
   "execution_count": null,
   "id": "51968e20",
   "metadata": {},
   "outputs": [],
   "source": []
  },
  {
   "cell_type": "code",
   "execution_count": null,
   "id": "df4ad8d9",
   "metadata": {},
   "outputs": [],
   "source": []
  },
  {
   "cell_type": "code",
   "execution_count": 85,
   "id": "4ad6efbb",
   "metadata": {},
   "outputs": [
    {
     "data": {
      "application/vnd.jupyter.widget-view+json": {
       "model_id": "e5e318536a6c465f8c2847c7147fc5da",
       "version_major": 2,
       "version_minor": 0
      },
      "text/plain": [
       "  0%|          | 0/9 [00:00<?, ?it/s]"
      ]
     },
     "metadata": {},
     "output_type": "display_data"
    },
    {
     "name": "stdout",
     "output_type": "stream",
     "text": [
      "0.6448363 0.77\n",
      "0.67100537 0.91\n",
      "0.6681824 0.94\n",
      "0.6868992 0.44\n",
      "0.6853779 0.37\n",
      "0.678758 0.46\n",
      "0.65278506 0.58\n",
      "0.6745524 0.41\n",
      "0.6665687 0.3\n"
     ]
    }
   ],
   "source": [
    "\n",
    "# # call_signs1 = [  \n",
    "# # #     \"roh_02_tta\",\n",
    "# # #     \"roh_11_tta\",\n",
    "# # #     \"nir_05_tta\",\n",
    "# #     \"roh_11_tta\", # 12527945585979453\n",
    "# #     \"nir_06_tta\", # 4274708716604963\n",
    "# #     \"nir_09_tta\", # 60359403891758\n",
    "# #     \"121_tta\", # 598088267045536\n",
    "# #     \"162_tta\", # 8735733730972042\n",
    "# #     \"166_tta\", # 2509448081151351\n",
    "# # #     \"125_tta\", \n",
    "# # #     \"196_tta\",\n",
    "# # #     \"204\",\n",
    "# #     \"229_tta\",  # 4990068077158164\n",
    "# #     \"235_tta\", # 9475873953049087\n",
    "# #     \"ioa_exp55_tta\", # 5673029916578154\n",
    "\n",
    "# # #     \"242_tta\"\n",
    "    \n",
    "# # ] \n",
    "\n",
    "# # call_signs1 = [\n",
    "# # #     \"roh_10_tta_flip\",\n",
    "# #     \"roh_11_tta\", # d4\n",
    "# #     \"nir_05\",\n",
    "# #     \"nir_06_tta\",\n",
    "# #     \"nir_09\",\n",
    "    \n",
    "# #     \"121_tta\",\n",
    "# #     \"162_tta\",\n",
    "# #     \"166_tta\",\n",
    "# #     \"125\",\n",
    "# #     \"196\",\n",
    "# # #     \"127\",\n",
    "    \n",
    "    \n",
    "# #     \"229_tta\",\n",
    "# #     \"235_tta\",\n",
    "# #     \"ioa_exp55_tta\"\n",
    "# # ]\n",
    "\n",
    "# call_signs1 = [\n",
    "# #     \"roh_10_tta_flip\",\n",
    "#     \"roh_11_tta\", # d4\n",
    "#     \"nir_05\",\n",
    "#     \"nir_09\",\n",
    "    \n",
    "#     \"121_tta\",\n",
    "#     \"162_tta\",\n",
    "#     \"166_tta\",\n",
    "#     \"125\",\n",
    "#     \"196\",\n",
    "# #     \"127\",\n",
    "    \n",
    "# #     \"229_tta\",\n",
    "# #     \"235_tta\",\n",
    "#     \"ioa_exp55_tta\",\n",
    "# #     \"nir_06_tta\",\n",
    "\n",
    "# ]\n",
    "\n",
    "\n",
    "\n",
    "\n",
    "# # 198, 195, 184, 174, 150, 138\n",
    "\n",
    "# thresholds = [\n",
    "#     0.35, 0.51, 0.44, 0.37, 0.46\n",
    "# ]\n",
    "\n",
    "\n",
    "# model_masks = torch.from_numpy(np.load(f\"/home/rohits/pv1/Contrail_Detection/output/final_preds/val_masks.npy\")).cuda() #.flatten().cuda() \n",
    "\n",
    "# preds = []\n",
    "\n",
    "# sharp = 0.55\n",
    "# areas = [31, 15, 22, 31, 8, 10, 42, 13]\n",
    "\n",
    "# for idx, sign in tqdm(enumerate(call_signs1), total=len(call_signs1)):\n",
    "# #     if idx == 0:\n",
    "# #         wt = torch.from_numpy(np.load(f\"/home/rohits/pv1/Contrail_Detection/output/final_preds/{sign}.npy\")).cuda()\n",
    "# #     else:\n",
    "\n",
    "    \n",
    "#     wt = torch.from_numpy(np.load(f\"/home/rohits/pv1/Contrail_Detection/output/oofs/{sign}.npy\")).cuda() \n",
    "    \n",
    "# #     if idx == 9:\n",
    "# #         wt = wt.flatten()\n",
    "    \n",
    "# #     for i, val in enumerate(wt):\n",
    "# #         if val.sum() <= areas[idx]:\n",
    "# #             wt[i, :, :] = 0\n",
    "    \n",
    "    \n",
    "# #     for i, val in enumerate(wt):\n",
    "# #         if val.sum() <= areas[idx]:\n",
    "# #             wt[i, :, :] = 0\n",
    "    \n",
    "    \n",
    "# #     wt1 = (wt + t3_preds + t5_preds) / 3\n",
    "    \n",
    "# #     get_small_area(wt, wt1, model_masks)\n",
    "    \n",
    "    \n",
    "# #     wt = wt.flatten().cuda()\n",
    "    \n",
    "    \n",
    "# #     wt = torch.from_numpy(np.load(f\"/home/rohits/pv1/Contrail_Detection/output/final_preds/{sign}.npy\")).flatten().cuda()\n",
    "# #     if idx in [0, 3]:\n",
    "# #     wt = wt**sharp\n",
    "# #     wt = torch.where(wt <= thresholds[idx], 0.0, wt)\n",
    "\n",
    "# #     print(wt.shape)\n",
    "\n",
    "#     preds.append(wt)    \n",
    "#     score = dice_coef(model_masks, wt, thr=0.5).cpu().detach().numpy() \n",
    "# #     print(score)\n",
    "#     best_threshold = 0.0\n",
    "#     best_dice_score = 0.0\n",
    "#     for threshold in [i / 100 for i in range(101)] :\n",
    "#         score = dice_coef(model_masks, wt, thr=threshold).cpu().detach().numpy() \n",
    "#         if score > best_dice_score:\n",
    "#             best_dice_score = score\n",
    "#             best_threshold = threshold\n",
    "#     print(best_dice_score, best_threshold)\n",
    "    \n",
    "    \n",
    "    \n",
    "    \n",
    "# #     print(score)\n",
    "    \n",
    "    \n",
    "# # # preds1.append(preds2)\n",
    "    \n",
    "# final_preds = preds\n",
    "# final_preds = torch.stack(final_preds).mean(dim=0)\n",
    "# score = dice_coef(model_masks, final_preds, thr=0.5).cpu().detach().numpy() \n",
    "\n",
    "# print(\"0.5 TH Score: \", score)\n",
    "\n",
    "\n",
    "# best_threshold = 0.0\n",
    "# best_dice_score = 0.0\n",
    "# for threshold in [i / 100 for i in range(101)] :\n",
    "#     if threshold < 0.35 or threshold > 0.51:\n",
    "#         continue\n",
    "    \n",
    "#     score = dice_coef(model_masks, final_preds, thr=threshold).cpu().detach().numpy() \n",
    "#     if score > best_dice_score:\n",
    "#         best_dice_score = score\n",
    "#         best_threshold = threshold\n",
    "        \n",
    "# print(best_dice_score, best_threshold)"
   ]
  },
  {
   "cell_type": "code",
   "execution_count": 86,
   "id": "007deb96",
   "metadata": {},
   "outputs": [],
   "source": [
    "def boost_dice(params, TH=None):    \n",
    "    \n",
    "    for index, val in enumerate(params.keys()):\n",
    "        if index == 0:            \n",
    "            preds = params[val]*final_preds[0]\n",
    "        else:\n",
    "            preds += params[val]*final_preds[index]\n",
    "    \n",
    "    param_sum = 0\n",
    "    for key, val in params.items():\n",
    "        param_sum += val\n",
    "\n",
    "    preds = preds/param_sum\n",
    "    \n",
    "    \n",
    "    \n",
    "#     for i, val in enumerate(preds):\n",
    "#         if val.sum() <= 28:\n",
    "#             preds[i, :, :] = 0\n",
    "    \n",
    "#     print(preds.shape, model_masks.shape)\n",
    "\n",
    "\n",
    "#     wt1 = (preds)\n",
    "    get_small_area(preds, preds, model_masks)\n",
    "#     print(preds.shape)    \n",
    "    \n",
    "    \n",
    "    if TH:\n",
    "        best_threshold = TH\n",
    "        preds1 = (preds).double()\n",
    "        best_score = dice_coef(model_masks, preds1, thr=TH).cpu().detach().numpy() # get_score(labels, preds) \n",
    "    else:\n",
    "        best_threshold = 0.0\n",
    "        best_score = 0.0\n",
    "        for threshold in [i / 100 for i in range(101)] :              \n",
    "            if threshold < 0.33 or threshold > 0.45:\n",
    "                continue\n",
    "#         for threshold in [0.37, 0.38, 0.39, 0.4]:              \n",
    "\n",
    "            preds1 = ((preds)>threshold).double()            \n",
    "            score = dice_coef(model_masks, preds1, thr=threshold).cpu().detach().numpy() # get_score(labels, preds) \n",
    "            if score > best_score:\n",
    "                best_score = score\n",
    "                best_threshold = threshold\n",
    "            \n",
    "#     best_score = score\n",
    "#     best_threshold = threshold\n",
    "    return best_score, best_threshold"
   ]
  },
  {
   "cell_type": "code",
   "execution_count": 87,
   "id": "9c3e2bfd",
   "metadata": {},
   "outputs": [],
   "source": [
    "def objective(trial):\n",
    "    TH = 0.4 #0.38 #0.38 #0.38 #0.39\n",
    "    \n",
    "        \n",
    "    params = {}    \n",
    "#     for i in range(len(final_preds)):\n",
    "#         params[f\"w{i+1}\"] = trial.suggest_float(f'w{i+1}', 0, 1)\n",
    "\n",
    "    \n",
    "    \n",
    "    \n",
    "    params[f\"w1\"] = 0.38479116100428423\n",
    "#     params[f\"w1\"] = trial.suggest_float(f'w1', 0, 1)\n",
    "    params[f\"w2\"] = 0.21230927974890823\n",
    "#     params[f\"w2\"] = trial.suggest_float(f'w2', 0, 1)\n",
    "    params[f\"w3\"] = 0.5382785001584371\n",
    "#     params[f\"w3\"] = trial.suggest_float(f'w3', 0, 1)\n",
    "\n",
    "    params[f\"w4\"] = 0.42671162938028734\n",
    "#     params[f\"w4\"] = trial.suggest_float(f'w4', 0, 1)\n",
    "\n",
    "    params[f\"w5\"] = 0.652154140303207\n",
    "#     params[f\"w5\"] = trial.suggest_float(f'w5', 0, 1)\n",
    "    params[f\"w6\"] = 0.5657679697544893\n",
    "#     params[f\"w6\"] = trial.suggest_float(f'w6', 0, 1)\n",
    "    params[f\"w7\"] = 0.27094684341070685\n",
    "#     params[f\"w7\"] = trial.suggest_float(f'w7', 0, 1)\n",
    "\n",
    "    params[f\"w8\"] = 0.6632976852863441\n",
    "#     params[f\"w8\"] = trial.suggest_float(f'w8', 0, 1)\n",
    "\n",
    "    params[f\"w9\"] = 0.24664856457602563\n",
    "#     params[f\"w9\"] = trial.suggest_float(f'w9', 0, 1)\n",
    "#     params[f\"w10\"] = 0.02079886272699696\n",
    "#     params[f\"w10\"] = trial.suggest_float(f'w10', 0, 1)\n",
    "#     params[f\"w11\"] = 0.958547203069201\n",
    "#     params[f\"w11\"] = trial.suggest_float(f'w11', 0, 1)\n",
    "#     params[f\"w12\"] = 0.580634539865007\n",
    "#     params[f\"w12\"] = trial.suggest_float(f'w12', 0, 1)\n",
    "\n",
    "\n",
    "    \n",
    "    \n",
    "    score, best_threshold  = boost_dice(params, TH=TH)\n",
    "    params['threshold'] = best_threshold\n",
    "    if not TH:\n",
    "        print(params)\n",
    "        \n",
    "    return score"
   ]
  },
  {
   "cell_type": "code",
   "execution_count": 88,
   "id": "549b962a",
   "metadata": {},
   "outputs": [
    {
     "name": "stderr",
     "output_type": "stream",
     "text": [
      "[I 2023-08-07 23:26:46,063] A new study created in memory with name: no-name-bd53d5d8-945a-41b7-9aa1-4bb64dc8ca6e\n"
     ]
    },
    {
     "name": "stdout",
     "output_type": "stream",
     "text": [
      "0.7011266 0.4 0\n",
      "0.7011266 0.4 0\n",
      "0.7011266 0.4 0\n",
      "0.7011266 0.4 0\n",
      "0.7011266 0.4 0\n",
      "0.7011266 0.4 0\n",
      "0.7011266 0.4 0\n",
      "0.7011266 0.4 0\n",
      "0.7011266 0.4 0\n",
      "0.7011266 0.4 0\n",
      "0.7011281 0.4 10\n",
      "0.7011281 0.4 10\n",
      "0.7011281 0.4 10\n",
      "0.7011281 0.4 10\n",
      "0.7011281 0.4 10\n",
      "0.7011281 0.4 10\n",
      "0.7011281 0.4 10\n",
      "0.7011281 0.4 10\n",
      "0.7011281 0.4 10\n",
      "0.7011281 0.4 10\n",
      "0.7011281 0.4 10\n",
      "0.7011281 0.4 10\n",
      "0.7011448 0.4 22\n",
      "0.7011448 0.4 22\n",
      "0.70117724 0.4 24\n",
      "0.70120746 0.4 25\n",
      "0.70120746 0.4 25\n",
      "0.70120746 0.4 25\n",
      "0.70120746 0.4 25\n",
      "0.70120746 0.4 25\n",
      "0.701284 0.4 30\n",
      "0.7013285 0.4 31\n",
      "0.7013285 0.4 31\n",
      "0.7013285 0.4 31\n",
      "0.7013285 0.4 31\n",
      "0.7013285 0.4 31\n",
      "0.7013285 0.4 31\n",
      "0.7013285 0.4 31\n",
      "0.7013285 0.4 31\n",
      "0.7013285 0.4 31\n",
      "0.7013285 0.4 31\n",
      "0.7013285 0.4 31\n",
      "0.7013285 0.4 31\n",
      "0.7013285 0.4 31\n",
      "0.7013285 0.4 31\n",
      "0.7013285 0.4 31\n",
      "0.7013285 0.4 31\n",
      "0.7013285 0.4 31\n",
      "0.7013285 0.4 31\n",
      "0.7013285 0.4 31\n",
      "0.7013285 0.4 31\n",
      "0.7013285 0.4 31\n",
      "0.7013285 0.4 31\n",
      "0.7013285 0.4 31\n",
      "0.7013285 0.4 31\n",
      "0.7013285 0.4 31\n",
      "0.7013285 0.4 31\n"
     ]
    },
    {
     "name": "stderr",
     "output_type": "stream",
     "text": [
      "[W 2023-08-07 23:27:24,214] Trial 0 failed with parameters: {} because of the following error: KeyboardInterrupt().\n",
      "Traceback (most recent call last):\n",
      "  File \"/home/rohits/anaconda3/envs/contrail/lib/python3.10/site-packages/optuna/study/_optimize.py\", line 200, in _run_trial\n",
      "    value_or_values = func(trial)\n",
      "  File \"/tmp/ipykernel_434984/2601949994.py\", line 44, in objective\n",
      "    score, best_threshold  = boost_dice(params, TH=TH)\n",
      "  File \"/tmp/ipykernel_434984/1828043191.py\", line 25, in boost_dice\n",
      "    get_small_area(preds, preds, model_masks)\n",
      "  File \"/tmp/ipykernel_434984/3300256640.py\", line 18, in get_small_area\n",
      "    score = dice_coef(model_masks, wt1, thr=threshold).cpu().detach().numpy()\n",
      "KeyboardInterrupt\n",
      "[W 2023-08-07 23:27:24,215] Trial 0 failed with value None.\n"
     ]
    },
    {
     "ename": "KeyboardInterrupt",
     "evalue": "",
     "output_type": "error",
     "traceback": [
      "\u001b[0;31m---------------------------------------------------------------------------\u001b[0m",
      "\u001b[0;31mKeyboardInterrupt\u001b[0m                         Traceback (most recent call last)",
      "Cell \u001b[0;32mIn[88], line 2\u001b[0m\n\u001b[1;32m      1\u001b[0m study \u001b[38;5;241m=\u001b[39m optuna\u001b[38;5;241m.\u001b[39mcreate_study(direction\u001b[38;5;241m=\u001b[39m\u001b[38;5;124m'\u001b[39m\u001b[38;5;124mmaximize\u001b[39m\u001b[38;5;124m'\u001b[39m) \u001b[38;5;66;03m#0.7013314962387085\u001b[39;00m\n\u001b[0;32m----> 2\u001b[0m \u001b[43mstudy\u001b[49m\u001b[38;5;241;43m.\u001b[39;49m\u001b[43moptimize\u001b[49m\u001b[43m(\u001b[49m\u001b[43mobjective\u001b[49m\u001b[43m,\u001b[49m\u001b[43m \u001b[49m\u001b[43mn_trials\u001b[49m\u001b[38;5;241;43m=\u001b[39;49m\u001b[38;5;241;43m300\u001b[39;49m\u001b[43m)\u001b[49m\n\u001b[1;32m      3\u001b[0m best_params \u001b[38;5;241m=\u001b[39m study\u001b[38;5;241m.\u001b[39mbest_params\n",
      "File \u001b[0;32m~/anaconda3/envs/contrail/lib/python3.10/site-packages/optuna/study/study.py:443\u001b[0m, in \u001b[0;36mStudy.optimize\u001b[0;34m(self, func, n_trials, timeout, n_jobs, catch, callbacks, gc_after_trial, show_progress_bar)\u001b[0m\n\u001b[1;32m    339\u001b[0m \u001b[38;5;28;01mdef\u001b[39;00m \u001b[38;5;21moptimize\u001b[39m(\n\u001b[1;32m    340\u001b[0m     \u001b[38;5;28mself\u001b[39m,\n\u001b[1;32m    341\u001b[0m     func: ObjectiveFuncType,\n\u001b[0;32m   (...)\u001b[0m\n\u001b[1;32m    348\u001b[0m     show_progress_bar: \u001b[38;5;28mbool\u001b[39m \u001b[38;5;241m=\u001b[39m \u001b[38;5;28;01mFalse\u001b[39;00m,\n\u001b[1;32m    349\u001b[0m ) \u001b[38;5;241m-\u001b[39m\u001b[38;5;241m>\u001b[39m \u001b[38;5;28;01mNone\u001b[39;00m:\n\u001b[1;32m    350\u001b[0m \u001b[38;5;250m    \u001b[39m\u001b[38;5;124;03m\"\"\"Optimize an objective function.\u001b[39;00m\n\u001b[1;32m    351\u001b[0m \n\u001b[1;32m    352\u001b[0m \u001b[38;5;124;03m    Optimization is done by choosing a suitable set of hyperparameter values from a given\u001b[39;00m\n\u001b[0;32m   (...)\u001b[0m\n\u001b[1;32m    440\u001b[0m \u001b[38;5;124;03m            If nested invocation of this method occurs.\u001b[39;00m\n\u001b[1;32m    441\u001b[0m \u001b[38;5;124;03m    \"\"\"\u001b[39;00m\n\u001b[0;32m--> 443\u001b[0m     \u001b[43m_optimize\u001b[49m\u001b[43m(\u001b[49m\n\u001b[1;32m    444\u001b[0m \u001b[43m        \u001b[49m\u001b[43mstudy\u001b[49m\u001b[38;5;241;43m=\u001b[39;49m\u001b[38;5;28;43mself\u001b[39;49m\u001b[43m,\u001b[49m\n\u001b[1;32m    445\u001b[0m \u001b[43m        \u001b[49m\u001b[43mfunc\u001b[49m\u001b[38;5;241;43m=\u001b[39;49m\u001b[43mfunc\u001b[49m\u001b[43m,\u001b[49m\n\u001b[1;32m    446\u001b[0m \u001b[43m        \u001b[49m\u001b[43mn_trials\u001b[49m\u001b[38;5;241;43m=\u001b[39;49m\u001b[43mn_trials\u001b[49m\u001b[43m,\u001b[49m\n\u001b[1;32m    447\u001b[0m \u001b[43m        \u001b[49m\u001b[43mtimeout\u001b[49m\u001b[38;5;241;43m=\u001b[39;49m\u001b[43mtimeout\u001b[49m\u001b[43m,\u001b[49m\n\u001b[1;32m    448\u001b[0m \u001b[43m        \u001b[49m\u001b[43mn_jobs\u001b[49m\u001b[38;5;241;43m=\u001b[39;49m\u001b[43mn_jobs\u001b[49m\u001b[43m,\u001b[49m\n\u001b[1;32m    449\u001b[0m \u001b[43m        \u001b[49m\u001b[43mcatch\u001b[49m\u001b[38;5;241;43m=\u001b[39;49m\u001b[38;5;28;43mtuple\u001b[39;49m\u001b[43m(\u001b[49m\u001b[43mcatch\u001b[49m\u001b[43m)\u001b[49m\u001b[43m \u001b[49m\u001b[38;5;28;43;01mif\u001b[39;49;00m\u001b[43m \u001b[49m\u001b[38;5;28;43misinstance\u001b[39;49m\u001b[43m(\u001b[49m\u001b[43mcatch\u001b[49m\u001b[43m,\u001b[49m\u001b[43m \u001b[49m\u001b[43mIterable\u001b[49m\u001b[43m)\u001b[49m\u001b[43m \u001b[49m\u001b[38;5;28;43;01melse\u001b[39;49;00m\u001b[43m \u001b[49m\u001b[43m(\u001b[49m\u001b[43mcatch\u001b[49m\u001b[43m,\u001b[49m\u001b[43m)\u001b[49m\u001b[43m,\u001b[49m\n\u001b[1;32m    450\u001b[0m \u001b[43m        \u001b[49m\u001b[43mcallbacks\u001b[49m\u001b[38;5;241;43m=\u001b[39;49m\u001b[43mcallbacks\u001b[49m\u001b[43m,\u001b[49m\n\u001b[1;32m    451\u001b[0m \u001b[43m        \u001b[49m\u001b[43mgc_after_trial\u001b[49m\u001b[38;5;241;43m=\u001b[39;49m\u001b[43mgc_after_trial\u001b[49m\u001b[43m,\u001b[49m\n\u001b[1;32m    452\u001b[0m \u001b[43m        \u001b[49m\u001b[43mshow_progress_bar\u001b[49m\u001b[38;5;241;43m=\u001b[39;49m\u001b[43mshow_progress_bar\u001b[49m\u001b[43m,\u001b[49m\n\u001b[1;32m    453\u001b[0m \u001b[43m    \u001b[49m\u001b[43m)\u001b[49m\n",
      "File \u001b[0;32m~/anaconda3/envs/contrail/lib/python3.10/site-packages/optuna/study/_optimize.py:66\u001b[0m, in \u001b[0;36m_optimize\u001b[0;34m(study, func, n_trials, timeout, n_jobs, catch, callbacks, gc_after_trial, show_progress_bar)\u001b[0m\n\u001b[1;32m     64\u001b[0m \u001b[38;5;28;01mtry\u001b[39;00m:\n\u001b[1;32m     65\u001b[0m     \u001b[38;5;28;01mif\u001b[39;00m n_jobs \u001b[38;5;241m==\u001b[39m \u001b[38;5;241m1\u001b[39m:\n\u001b[0;32m---> 66\u001b[0m         \u001b[43m_optimize_sequential\u001b[49m\u001b[43m(\u001b[49m\n\u001b[1;32m     67\u001b[0m \u001b[43m            \u001b[49m\u001b[43mstudy\u001b[49m\u001b[43m,\u001b[49m\n\u001b[1;32m     68\u001b[0m \u001b[43m            \u001b[49m\u001b[43mfunc\u001b[49m\u001b[43m,\u001b[49m\n\u001b[1;32m     69\u001b[0m \u001b[43m            \u001b[49m\u001b[43mn_trials\u001b[49m\u001b[43m,\u001b[49m\n\u001b[1;32m     70\u001b[0m \u001b[43m            \u001b[49m\u001b[43mtimeout\u001b[49m\u001b[43m,\u001b[49m\n\u001b[1;32m     71\u001b[0m \u001b[43m            \u001b[49m\u001b[43mcatch\u001b[49m\u001b[43m,\u001b[49m\n\u001b[1;32m     72\u001b[0m \u001b[43m            \u001b[49m\u001b[43mcallbacks\u001b[49m\u001b[43m,\u001b[49m\n\u001b[1;32m     73\u001b[0m \u001b[43m            \u001b[49m\u001b[43mgc_after_trial\u001b[49m\u001b[43m,\u001b[49m\n\u001b[1;32m     74\u001b[0m \u001b[43m            \u001b[49m\u001b[43mreseed_sampler_rng\u001b[49m\u001b[38;5;241;43m=\u001b[39;49m\u001b[38;5;28;43;01mFalse\u001b[39;49;00m\u001b[43m,\u001b[49m\n\u001b[1;32m     75\u001b[0m \u001b[43m            \u001b[49m\u001b[43mtime_start\u001b[49m\u001b[38;5;241;43m=\u001b[39;49m\u001b[38;5;28;43;01mNone\u001b[39;49;00m\u001b[43m,\u001b[49m\n\u001b[1;32m     76\u001b[0m \u001b[43m            \u001b[49m\u001b[43mprogress_bar\u001b[49m\u001b[38;5;241;43m=\u001b[39;49m\u001b[43mprogress_bar\u001b[49m\u001b[43m,\u001b[49m\n\u001b[1;32m     77\u001b[0m \u001b[43m        \u001b[49m\u001b[43m)\u001b[49m\n\u001b[1;32m     78\u001b[0m     \u001b[38;5;28;01melse\u001b[39;00m:\n\u001b[1;32m     79\u001b[0m         \u001b[38;5;28;01mif\u001b[39;00m n_jobs \u001b[38;5;241m==\u001b[39m \u001b[38;5;241m-\u001b[39m\u001b[38;5;241m1\u001b[39m:\n",
      "File \u001b[0;32m~/anaconda3/envs/contrail/lib/python3.10/site-packages/optuna/study/_optimize.py:163\u001b[0m, in \u001b[0;36m_optimize_sequential\u001b[0;34m(study, func, n_trials, timeout, catch, callbacks, gc_after_trial, reseed_sampler_rng, time_start, progress_bar)\u001b[0m\n\u001b[1;32m    160\u001b[0m         \u001b[38;5;28;01mbreak\u001b[39;00m\n\u001b[1;32m    162\u001b[0m \u001b[38;5;28;01mtry\u001b[39;00m:\n\u001b[0;32m--> 163\u001b[0m     frozen_trial \u001b[38;5;241m=\u001b[39m \u001b[43m_run_trial\u001b[49m\u001b[43m(\u001b[49m\u001b[43mstudy\u001b[49m\u001b[43m,\u001b[49m\u001b[43m \u001b[49m\u001b[43mfunc\u001b[49m\u001b[43m,\u001b[49m\u001b[43m \u001b[49m\u001b[43mcatch\u001b[49m\u001b[43m)\u001b[49m\n\u001b[1;32m    164\u001b[0m \u001b[38;5;28;01mfinally\u001b[39;00m:\n\u001b[1;32m    165\u001b[0m     \u001b[38;5;66;03m# The following line mitigates memory problems that can be occurred in some\u001b[39;00m\n\u001b[1;32m    166\u001b[0m     \u001b[38;5;66;03m# environments (e.g., services that use computing containers such as GitHub Actions).\u001b[39;00m\n\u001b[1;32m    167\u001b[0m     \u001b[38;5;66;03m# Please refer to the following PR for further details:\u001b[39;00m\n\u001b[1;32m    168\u001b[0m     \u001b[38;5;66;03m# https://github.com/optuna/optuna/pull/325.\u001b[39;00m\n\u001b[1;32m    169\u001b[0m     \u001b[38;5;28;01mif\u001b[39;00m gc_after_trial:\n",
      "File \u001b[0;32m~/anaconda3/envs/contrail/lib/python3.10/site-packages/optuna/study/_optimize.py:251\u001b[0m, in \u001b[0;36m_run_trial\u001b[0;34m(study, func, catch)\u001b[0m\n\u001b[1;32m    244\u001b[0m         \u001b[38;5;28;01massert\u001b[39;00m \u001b[38;5;28;01mFalse\u001b[39;00m, \u001b[38;5;124m\"\u001b[39m\u001b[38;5;124mShould not reach.\u001b[39m\u001b[38;5;124m\"\u001b[39m\n\u001b[1;32m    246\u001b[0m \u001b[38;5;28;01mif\u001b[39;00m (\n\u001b[1;32m    247\u001b[0m     frozen_trial\u001b[38;5;241m.\u001b[39mstate \u001b[38;5;241m==\u001b[39m TrialState\u001b[38;5;241m.\u001b[39mFAIL\n\u001b[1;32m    248\u001b[0m     \u001b[38;5;129;01mand\u001b[39;00m func_err \u001b[38;5;129;01mis\u001b[39;00m \u001b[38;5;129;01mnot\u001b[39;00m \u001b[38;5;28;01mNone\u001b[39;00m\n\u001b[1;32m    249\u001b[0m     \u001b[38;5;129;01mand\u001b[39;00m \u001b[38;5;129;01mnot\u001b[39;00m \u001b[38;5;28misinstance\u001b[39m(func_err, catch)\n\u001b[1;32m    250\u001b[0m ):\n\u001b[0;32m--> 251\u001b[0m     \u001b[38;5;28;01mraise\u001b[39;00m func_err\n\u001b[1;32m    252\u001b[0m \u001b[38;5;28;01mreturn\u001b[39;00m frozen_trial\n",
      "File \u001b[0;32m~/anaconda3/envs/contrail/lib/python3.10/site-packages/optuna/study/_optimize.py:200\u001b[0m, in \u001b[0;36m_run_trial\u001b[0;34m(study, func, catch)\u001b[0m\n\u001b[1;32m    198\u001b[0m \u001b[38;5;28;01mwith\u001b[39;00m get_heartbeat_thread(trial\u001b[38;5;241m.\u001b[39m_trial_id, study\u001b[38;5;241m.\u001b[39m_storage):\n\u001b[1;32m    199\u001b[0m     \u001b[38;5;28;01mtry\u001b[39;00m:\n\u001b[0;32m--> 200\u001b[0m         value_or_values \u001b[38;5;241m=\u001b[39m \u001b[43mfunc\u001b[49m\u001b[43m(\u001b[49m\u001b[43mtrial\u001b[49m\u001b[43m)\u001b[49m\n\u001b[1;32m    201\u001b[0m     \u001b[38;5;28;01mexcept\u001b[39;00m exceptions\u001b[38;5;241m.\u001b[39mTrialPruned \u001b[38;5;28;01mas\u001b[39;00m e:\n\u001b[1;32m    202\u001b[0m         \u001b[38;5;66;03m# TODO(mamu): Handle multi-objective cases.\u001b[39;00m\n\u001b[1;32m    203\u001b[0m         state \u001b[38;5;241m=\u001b[39m TrialState\u001b[38;5;241m.\u001b[39mPRUNED\n",
      "Cell \u001b[0;32mIn[87], line 44\u001b[0m, in \u001b[0;36mobjective\u001b[0;34m(trial)\u001b[0m\n\u001b[1;32m     32\u001b[0m     params[\u001b[38;5;124mf\u001b[39m\u001b[38;5;124m\"\u001b[39m\u001b[38;5;124mw9\u001b[39m\u001b[38;5;124m\"\u001b[39m] \u001b[38;5;241m=\u001b[39m \u001b[38;5;241m0.24664856457602563\u001b[39m\n\u001b[1;32m     33\u001b[0m \u001b[38;5;66;03m#     params[f\"w9\"] = trial.suggest_float(f'w9', 0, 1)\u001b[39;00m\n\u001b[1;32m     34\u001b[0m \u001b[38;5;66;03m#     params[f\"w10\"] = 0.02079886272699696\u001b[39;00m\n\u001b[1;32m     35\u001b[0m \u001b[38;5;66;03m#     params[f\"w10\"] = trial.suggest_float(f'w10', 0, 1)\u001b[39;00m\n\u001b[0;32m   (...)\u001b[0m\n\u001b[1;32m     38\u001b[0m \u001b[38;5;66;03m#     params[f\"w12\"] = 0.580634539865007\u001b[39;00m\n\u001b[1;32m     39\u001b[0m \u001b[38;5;66;03m#     params[f\"w12\"] = trial.suggest_float(f'w12', 0, 1)\u001b[39;00m\n\u001b[0;32m---> 44\u001b[0m     score, best_threshold  \u001b[38;5;241m=\u001b[39m \u001b[43mboost_dice\u001b[49m\u001b[43m(\u001b[49m\u001b[43mparams\u001b[49m\u001b[43m,\u001b[49m\u001b[43m \u001b[49m\u001b[43mTH\u001b[49m\u001b[38;5;241;43m=\u001b[39;49m\u001b[43mTH\u001b[49m\u001b[43m)\u001b[49m\n\u001b[1;32m     45\u001b[0m     params[\u001b[38;5;124m'\u001b[39m\u001b[38;5;124mthreshold\u001b[39m\u001b[38;5;124m'\u001b[39m] \u001b[38;5;241m=\u001b[39m best_threshold\n\u001b[1;32m     46\u001b[0m     \u001b[38;5;28;01mif\u001b[39;00m \u001b[38;5;129;01mnot\u001b[39;00m TH:\n",
      "Cell \u001b[0;32mIn[86], line 25\u001b[0m, in \u001b[0;36mboost_dice\u001b[0;34m(params, TH)\u001b[0m\n\u001b[1;32m     13\u001b[0m     preds \u001b[38;5;241m=\u001b[39m preds\u001b[38;5;241m/\u001b[39mparam_sum\n\u001b[1;32m     17\u001b[0m \u001b[38;5;66;03m#     for i, val in enumerate(preds):\u001b[39;00m\n\u001b[1;32m     18\u001b[0m \u001b[38;5;66;03m#         if val.sum() <= 28:\u001b[39;00m\n\u001b[1;32m     19\u001b[0m \u001b[38;5;66;03m#             preds[i, :, :] = 0\u001b[39;00m\n\u001b[0;32m   (...)\u001b[0m\n\u001b[1;32m     23\u001b[0m \n\u001b[1;32m     24\u001b[0m \u001b[38;5;66;03m#     wt1 = (preds)\u001b[39;00m\n\u001b[0;32m---> 25\u001b[0m     \u001b[43mget_small_area\u001b[49m\u001b[43m(\u001b[49m\u001b[43mpreds\u001b[49m\u001b[43m,\u001b[49m\u001b[43m \u001b[49m\u001b[43mpreds\u001b[49m\u001b[43m,\u001b[49m\u001b[43m \u001b[49m\u001b[43mmodel_masks\u001b[49m\u001b[43m)\u001b[49m\n\u001b[1;32m     26\u001b[0m \u001b[38;5;66;03m#     print(preds.shape)    \u001b[39;00m\n\u001b[1;32m     29\u001b[0m     \u001b[38;5;28;01mif\u001b[39;00m TH:\n",
      "Cell \u001b[0;32mIn[84], line 18\u001b[0m, in \u001b[0;36mget_small_area\u001b[0;34m(wt, wt_all, mask)\u001b[0m\n\u001b[1;32m     16\u001b[0m wt1 \u001b[38;5;241m=\u001b[39m wt1\u001b[38;5;241m.\u001b[39mcuda()\n\u001b[1;32m     17\u001b[0m \u001b[38;5;28;01mfor\u001b[39;00m threshold \u001b[38;5;129;01min\u001b[39;00m [i \u001b[38;5;241m/\u001b[39m \u001b[38;5;241m100\u001b[39m \u001b[38;5;28;01mfor\u001b[39;00m i \u001b[38;5;129;01min\u001b[39;00m \u001b[38;5;28mrange\u001b[39m(\u001b[38;5;241m101\u001b[39m)] :\n\u001b[0;32m---> 18\u001b[0m     score \u001b[38;5;241m=\u001b[39m \u001b[43mdice_coef\u001b[49m\u001b[43m(\u001b[49m\u001b[43mmodel_masks\u001b[49m\u001b[43m,\u001b[49m\u001b[43m \u001b[49m\u001b[43mwt1\u001b[49m\u001b[43m,\u001b[49m\u001b[43m \u001b[49m\u001b[43mthr\u001b[49m\u001b[38;5;241;43m=\u001b[39;49m\u001b[43mthreshold\u001b[49m\u001b[43m)\u001b[49m\u001b[38;5;241;43m.\u001b[39;49m\u001b[43mcpu\u001b[49m\u001b[43m(\u001b[49m\u001b[43m)\u001b[49m\u001b[38;5;241m.\u001b[39mdetach()\u001b[38;5;241m.\u001b[39mnumpy() \n\u001b[1;32m     19\u001b[0m     \u001b[38;5;28;01mif\u001b[39;00m score \u001b[38;5;241m>\u001b[39m best_dice_score:\n\u001b[1;32m     20\u001b[0m         best_dice_score \u001b[38;5;241m=\u001b[39m score\n",
      "\u001b[0;31mKeyboardInterrupt\u001b[0m: "
     ]
    }
   ],
   "source": [
    "study = optuna.create_study(direction='maximize') #0.7013314962387085\n",
    "study.optimize(objective, n_trials=300)\n",
    "best_params = study.best_params"
   ]
  },
  {
   "cell_type": "code",
   "execution_count": 89,
   "id": "131714a7",
   "metadata": {},
   "outputs": [
    {
     "data": {
      "text/plain": [
       "{'w1': 0.38479116100428423,\n",
       " 'w2': 0.21230927974890823,\n",
       " 'w3': 0.5382785001584371,\n",
       " 'w4': 0.42671162938028734,\n",
       " 'w5': 0.652154140303207,\n",
       " 'w6': 0.5657679697544893,\n",
       " 'w7': 0.27094684341070685,\n",
       " 'w8': 0.6632976852863441,\n",
       " 'w9': 0.24664856457602563}"
      ]
     },
     "execution_count": 89,
     "metadata": {},
     "output_type": "execute_result"
    }
   ],
   "source": [
    "# 0.7015675\n",
    "\n",
    "best_params # 0.0.0.7011265754699707\n",
    "\n",
    "# # {'w1': 0.2223815786205381, 'w2': 0.1460101485299246, 'w3': 0.26070970307361535, 'w4': 0.4027457337153253, 'w5': 0.6526582421453944, 'w6': 0.2822502717916394}\n",
    "\n",
    "\n",
    "# # params\n",
    "\n",
    "# {'w1': 0.4274708716604963,\n",
    "#  'w2': 0.5950793403696619,\n",
    "#  'w3': 0.5981031818823078,\n",
    "#  'w4': 0.9052807157209483,\n",
    "#  'w5': 0.24903814629277216,\n",
    "#  'w6': 0.5675462825594632,\n",
    "#  'w7': 0.49869913358097817,\n",
    "#  'w8': 0.9473968763799567,\n",
    "#  'w9': 0.02603252721027552,\n",
    "#  'w10': 0.11450732040441257}\n",
    "\n",
    "params = {}\n",
    "params[f\"w1\"] = 0.38479116100428423\n",
    "#     params[f\"w1\"] = trial.suggest_float(f'w1', 0, 1)\n",
    "params[f\"w2\"] = 0.21230927974890823\n",
    "#     params[f\"w2\"] = trial.suggest_float(f'w2', 0, 1)\n",
    "params[f\"w3\"] = 0.5382785001584371\n",
    "#     params[f\"w3\"] = trial.suggest_float(f'w3', 0, 1)\n",
    "\n",
    "params[f\"w4\"] = 0.42671162938028734\n",
    "#     params[f\"w4\"] = trial.suggest_float(f'w4', 0, 1)\n",
    "\n",
    "params[f\"w5\"] = 0.652154140303207\n",
    "#     params[f\"w5\"] = trial.suggest_float(f'w5', 0, 1)\n",
    "params[f\"w6\"] = 0.5657679697544893\n",
    "#     params[f\"w6\"] = trial.suggest_float(f'w6', 0, 1)\n",
    "params[f\"w7\"] = 0.27094684341070685\n",
    "#     params[f\"w7\"] = trial.suggest_float(f'w7', 0, 1)\n",
    "\n",
    "params[f\"w8\"] = 0.6632976852863441\n",
    "#     params[f\"w8\"] = trial.suggest_float(f'w8', 0, 1)\n",
    "\n",
    "params[f\"w9\"] = 0.24664856457602563\n",
    "params"
   ]
  },
  {
   "cell_type": "code",
   "execution_count": null,
   "id": "2ee47f83",
   "metadata": {},
   "outputs": [],
   "source": []
  },
  {
   "cell_type": "code",
   "execution_count": 102,
   "id": "335e6be8",
   "metadata": {},
   "outputs": [],
   "source": [
    "params = {}\n",
    "params[f\"w1\"] = 0.48892826876637613\n",
    "#     params[f\"w1\"] = trial.suggest_float(f'w1', 0, 1)\n",
    "params[f\"w2\"] = 0.39725111951465825\n",
    "#     params[f\"w2\"] = trial.suggest_float(f'w2', 0, 1)\n",
    "params[f\"w3\"] = 0.24460012359742106\n",
    "#     params[f\"w3\"] = trial.suggest_float(f'w3', 0, 1)\n",
    "params[f\"w4\"] = 0.7451789378499236\n",
    "#     params[f\"w4\"] = trial.suggest_float(f'w4', 0, 1)\n",
    "params[f\"w5\"] = 0.6134586590507985\n",
    "#     params[f\"w5\"] = trial.suggest_float(f'w5', 0, 1)\n",
    "params[f\"w6\"] = 0.688514109363038\n",
    "#     params[f\"w6\"] = trial.suggest_float(f'w6', 0, 1)\n",
    "params[f\"w7\"] = 0.38473516786706907\n",
    "#     params[f\"w7\"] = trial.suggest_float(f'w7', 0, 1)\n",
    "params[f\"w8\"] = 0.6643243522283139\n",
    "#     params[f\"w8\"] = trial.suggest_float(f'w8', 0, 1)\n",
    "params[f\"w9\"] = 0.8006651429446084\n",
    "#     params[f\"w9\"] = trial.suggest_float(f'w9', 0, 1)\n",
    "params[f\"w10\"] = 0.6461977860980533\n",
    "#     params[f\"w10\"] = trial.suggest_float(f'w10', 0, 1)\n",
    "params[f\"w11\"] = 0.958547203069201\n",
    "#     params[f\"w11\"] = trial.suggest_float(f'w11', 0, 1)\n",
    "params[f\"w12\"] = 0.580634539865007\n",
    "#     params[f\"w12\"] = trial.suggest_float(f'w12', 0, 1)"
   ]
  },
  {
   "cell_type": "code",
   "execution_count": 103,
   "id": "0cdcb120",
   "metadata": {},
   "outputs": [
    {
     "data": {
      "text/plain": [
       "{'w1': 0.48892826876637613,\n",
       " 'w2': 0.39725111951465825,\n",
       " 'w3': 0.24460012359742106,\n",
       " 'w4': 0.7451789378499236,\n",
       " 'w5': 0.6134586590507985,\n",
       " 'w6': 0.688514109363038,\n",
       " 'w7': 0.38473516786706907,\n",
       " 'w8': 0.6643243522283139,\n",
       " 'w9': 0.8006651429446084,\n",
       " 'w10': 0.6461977860980533,\n",
       " 'w11': 0.958547203069201,\n",
       " 'w12': 0.580634539865007}"
      ]
     },
     "execution_count": 103,
     "metadata": {},
     "output_type": "execute_result"
    }
   ],
   "source": [
    "params"
   ]
  },
  {
   "cell_type": "code",
   "execution_count": null,
   "id": "7d4b2c50",
   "metadata": {},
   "outputs": [],
   "source": []
  },
  {
   "cell_type": "code",
   "execution_count": 167,
   "id": "00d8f174",
   "metadata": {},
   "outputs": [
    {
     "data": {
      "text/plain": [
       "{'w1': 0.17983155241560006,\n",
       " 'w2': 0.3921968863625922,\n",
       " 'w3': 0.5467899983419907,\n",
       " 'w4': 0.770948318764219,\n",
       " 'w5': 0.9994494733078347,\n",
       " 'w6': 0.6290244452681286,\n",
       " 'w7': 0.48637848861057426,\n",
       " 'w8': 0.19103711312728738,\n",
       " 'w9': 0.6303399534920496}"
      ]
     },
     "execution_count": 167,
     "metadata": {},
     "output_type": "execute_result"
    }
   ],
   "source": [
    "params = {}    \n",
    "#     for i in range(len(final_preds)):\n",
    "#         params[f\"w{i+1}\"] = trial.suggest_float(f'w{i+1}', 0, 1)\n",
    "\n",
    "params[f\"w1\"] = 0.17983155241560006\n",
    "#     params[f\"w1\"] = trial.suggest_float(f'w1', 0, 1)\n",
    "params[f\"w2\"] = 0.3921968863625922\n",
    "#     params[f\"w2\"] = trial.suggest_float(f'w2', 0, 1)\n",
    "params[f\"w3\"] = 0.5467899983419907\n",
    "#     params[f\"w3\"] = trial.suggest_float(f'w3', 0, 1)\n",
    "params[f\"w4\"] = 0.770948318764219\n",
    "#     params[f\"w4\"] = trial.suggest_float(f'w4', 0, 1)\n",
    "params[f\"w5\"] = 0.9994494733078347\n",
    "#     params[f\"w5\"] = trial.suggest_float(f'w5', 0, 1)\n",
    "params[f\"w6\"] = 0.6290244452681286\n",
    "#     params[f\"w6\"] = trial.suggest_float(f'w6', 0, 1)\n",
    "params[f\"w7\"] = 0.48637848861057426\n",
    "#     params[f\"w7\"] = trial.suggest_float(f'w7', 0, 1)\n",
    "params[f\"w8\"] = 0.19103711312728738\n",
    "#     params[f\"w8\"] = trial.suggest_float(f'w8', 0, 1)\n",
    "params[f\"w9\"] = 0.6303399534920496\n",
    "#     params[f\"w9\"] = trial.suggest_float(f'w9', 0, 1)\n",
    "params"
   ]
  },
  {
   "cell_type": "code",
   "execution_count": 72,
   "id": "14313d48",
   "metadata": {},
   "outputs": [
    {
     "data": {
      "text/plain": [
       "{'w1': 0.24573090810759818,\n",
       " 'w2': 0.07968599547857583,\n",
       " 'w3': 0.3988612609534191,\n",
       " 'w4': 0.05807376299716156,\n",
       " 'w5': 0.8609716669901828,\n",
       " 'w6': 0.7386570274001879,\n",
       " 'w7': 0.9788696721148743,\n",
       " 'w8': 0.8270723521215965,\n",
       " 'w9': 0.5590153126204409,\n",
       " 'w10': 0.7265498790207406,\n",
       " 'w11': 0.41216752969852644,\n",
       " 'w12': 0.5864404449549478}"
      ]
     },
     "execution_count": 72,
     "metadata": {},
     "output_type": "execute_result"
    }
   ],
   "source": [
    "# 0.37\n",
    "\n",
    "# {'w1': 0.839014852140699, 'w2': 0.5011350487644706, 'w3': 0.5425134900557348, 'w4': 0.5452545452276221, 'w5': 0.6026139561761139, 'w6': 0.9831197346233449, 'w7': 0.8036481597462362, 'w8': 0.5819171235801198}\n",
    "# 0.7003488540649414\n",
    "\n",
    "\n",
    "# Trial 1 finished with value: 0.6991791129112244 and parameters: {'w1': 0.2047525215621725}. Best is trial 1 with value:\n",
    "# 0.0.6996479034423828\n",
    "# 0.36\n",
    "# {\n",
    "# 'w1': 0.36485377740463365,\n",
    "# 'w2': 0.5716506827395362,\n",
    "# 'w3': 0.84301760289886,\n",
    "# 'w4': 0.5944703175254541,\n",
    "# 'w5': 0.8096022495041699\n",
    "# }. Best is trial 202 with value: 0.698759913444519.\n",
    "\n",
    "\n",
    "params = {}    \n",
    "#     for i in range(len(final_preds)):\n",
    "#         params[f\"w{i+1}\"] = trial.suggest_float(f'w{i+1}', 0, 1)\n",
    "\n",
    "params[f\"w1\"] = 0.24573090810759818\n",
    "#     params[f\"w1\"] = trial.suggest_float(f'w1', 0, 1)\n",
    "\n",
    "params[f\"w2\"] = 0.07968599547857583\n",
    "#     params[f\"w2\"] = trial.suggest_float(f'w2', 0, 1)\n",
    "\n",
    "params[f\"w3\"] = 0.3988612609534191\n",
    "#     params[f\"w3\"] = trial.suggest_float(f'w3', 0, 1)\n",
    "\n",
    "params[f\"w4\"] = 0.05807376299716156\n",
    "#     params[f\"w4\"] = trial.suggest_float(f'w4', 0, 1)\n",
    "\n",
    "params[f\"w5\"] = 0.8609716669901828\n",
    "#     params[f\"w5\"] = trial.suggest_float(f'w5', 0, 1)\n",
    "params[f\"w6\"] = 0.7386570274001879\n",
    "#     params[f\"w6\"] = trial.suggest_float(f'w6', 0, 1)\n",
    "\n",
    "params[f\"w7\"] = 0.9788696721148743\n",
    "#     params[f\"w7\"] = trial.suggest_float(f'w7', 0, 1)\n",
    "params[f\"w8\"] = 0.8270723521215965\n",
    "#     params[f\"w8\"] = trial.suggest_float(f'w8', 0, 1)\n",
    "params[f\"w9\"] = 0.5590153126204409\n",
    "#     params[f\"w9\"] = trial.suggest_float(f'w9', 0, 1)\n",
    "params[f\"w10\"] = 0.7265498790207406\n",
    "#     params[f\"w10\"] = trial.suggest_float(f'w10', 0, 1)\n",
    "params[f\"w11\"] = 0.41216752969852644\n",
    "#     params[f\"w11\"] = trial.suggest_float(f'w11', 0, 1)\n",
    "params[f\"w12\"] = 0.5864404449549478\n",
    "#     params[f\"w12\"] = trial.suggest_float(f'w12', 0, 1)\n",
    "\n",
    "params"
   ]
  },
  {
   "cell_type": "code",
   "execution_count": 135,
   "id": "4c33076b",
   "metadata": {},
   "outputs": [],
   "source": [
    "# {\n",
    "#     'w1': 0.7458107541498612,\n",
    "#     'w2': 0.2900793805943048,\n",
    "#     'w3': 0.40430935291387626,\n",
    "#     'w4': 0.12087058264990641,\n",
    "#     'w5': 0.5101955071950133,\n",
    "#     'w6': 0.28429946034177606,\n",
    "#     'w7': 0.364869611492901,\n",
    "#     'w8': 0.10441135348615381,\n",
    "#     'w9': 0.48784730233361917,\n",
    "#     'w10': 0.9105341528815705\n",
    "# }\n",
    "\n",
    " # . Best is trial 289 with value: 0.6934514045715332.\n",
    "\n",
    "\n",
    "# roh_01_tta roh_02_tta, roh_07_tta, roh_06, roh_07, \n",
    "# roh_03_tta, roh_06_tta, roh_03, roh_05, nir_06_tta, nir_01, nir_02\n",
    "# roh_04_tta, roh_01, nir_02_tta, 131\n",
    "# roh_02, nir_03_tta, nir_04_tta, nir_05_tta, nir_06, 160\n",
    "# roh_04, 166\n",
    "# nir_04, 160_tta\n",
    "# nir_03, 127"
   ]
  },
  {
   "cell_type": "code",
   "execution_count": 53,
   "id": "bcd88d3a",
   "metadata": {},
   "outputs": [],
   "source": [
    "# params_pos = {\n",
    "#  'w1': 0.655195343067219,\n",
    "#  'w2': 0.2394705943310217,\n",
    "#  'w3': 0.2927163844564814,\n",
    "#  'w4': 0.4880033823349387,\n",
    "#  'w5': 0.8387396842282611,\n",
    "#  'w6': 0.9530480302035045,\n",
    "#  'w7': 0.9573363671729265,\n",
    "#  'w8': 0.6251416370174683,\n",
    "#  'w9': 0.5371852737978187,\n",
    "#  'w10': 0.4593912556686621,\n",
    "#  'w11': 0.0,\n",
    "#  'w12': 0.0\n",
    "# }\n",
    "\n",
    "\n",
    "# params_pos = {\n",
    "#  'w1': 0.0,\n",
    "#  'w2': 0.0,\n",
    "#  'w3': 0.0,\n",
    "#  'w4': 0.3074762360451622,\n",
    "#  'w5': 0.0,\n",
    "#  'w6': 0.12305169260913107,\n",
    "#  'w7': 0.5363904743468609,\n",
    "#  'w8': 0.0,\n",
    "#  'w9': 0.8717967389387182,\n",
    "#  'w10': 0.0,\n",
    "#  'w11': 0.9798424243827817,\n",
    "#  'w12': 0.7060773818241292\n",
    "# }\n",
    "\n",
    "params_pos = {\n",
    " 'w1': 1.3387089493909258e-05,\n",
    " 'w2': 0.7832907921668216,\n",
    " 'w3': 0.1644769178230628,\n",
    " 'w4': 0.00055845444967733,\n",
    " 'w5': 0.2303089374666643,\n",
    " 'w6': 0.05687648005878053,\n",
    " 'w7': 0.5300038291077748,\n",
    " 'w8': 0.24812342792556633,\n",
    " 'w9': 0.06386465242721732,\n",
    " 'w10': 0.2985146430301337,\n",
    " 'w11': 0.9845085492621458,\n",
    " 'w12': 0.5463258184950742\n",
    "}\n",
    "\n",
    "\n",
    "\n",
    "# params_all = {\n",
    "#  'w1': 0.3154856556313033,\n",
    "#  'w2': 0.2350959121391397,\n",
    "#  'w3': 0.27103628342691727,\n",
    "#  'w4': 0.6492473698434531,\n",
    "#  'w5': 0.8397641633442563,\n",
    "#  'w6': 0.8477025966292081,\n",
    "#  'w7': 0.8096714084748394,\n",
    "#  'w8': 0.4026009341206447,\n",
    "#  'w9': 0.9969765714831549,\n",
    "#  'w10': 0.39361450317658253,\n",
    "#  'w11': 0.0,\n",
    "#  'w12': 0.0\n",
    "# }\n",
    "\n",
    "params_all =  {\n",
    " 'w1': 0.03644385570565463,\n",
    " 'w2': 0.2254980335743082,\n",
    " 'w3': 0.15865020296782992,\n",
    " 'w4': 0.19357382597848447,\n",
    " 'w5': 0.49930822369312966,\n",
    " 'w6': 0.5592562127174933,\n",
    " 'w7': 0.9150150266829656,\n",
    " 'w8': 0.4294644367585147,\n",
    " 'w9': 0.11137152838536817,\n",
    " 'w10': 0.3808669569832525,\n",
    " 'w11': 0.3506406085711101,\n",
    " 'w12': 0.30010922179305505\n",
    "}\n",
    "\n",
    "\n",
    "model_masks = torch.from_numpy(np.load(f\"/home/rohits/pv1/Contrail_Detection/output/final_preds/val_masks.npy\")).cuda() #.flatten().cuda() \n"
   ]
  },
  {
   "cell_type": "code",
   "execution_count": 54,
   "id": "5329625e",
   "metadata": {},
   "outputs": [],
   "source": [
    "len(final_preds)\n",
    "\n",
    "\n",
    "def weighted_ensemble(params, final_preds):    \n",
    "    for index, val in enumerate(params.keys()):\n",
    "        if index == 0:\n",
    "            preds = params[val]*final_preds[0]\n",
    "        else:\n",
    "            preds += params[val]*final_preds[index]\n",
    "    \n",
    "    \n",
    "    param_sum = 0\n",
    "    for key, val in params.items():\n",
    "        param_sum += val\n",
    "\n",
    "    preds = preds/param_sum\n",
    "    return preds"
   ]
  },
  {
   "cell_type": "code",
   "execution_count": null,
   "id": "7c218602",
   "metadata": {},
   "outputs": [],
   "source": []
  },
  {
   "cell_type": "code",
   "execution_count": 61,
   "id": "5805565f",
   "metadata": {},
   "outputs": [
    {
     "name": "stdout",
     "output_type": "stream",
     "text": [
      "0 0.69992656 0.37\n",
      "10 0.6999279 0.37\n",
      "20 0.6999333 0.37\n",
      "30 0.6999667 0.37\n",
      "40 0.69994384 0.37\n",
      "50 0.69993037 0.37\n",
      "60 0.69992834 0.37\n",
      "70 0.69993585 0.38\n",
      "80 0.69991124 0.38\n",
      "90 0.6998961 0.38\n",
      "100 0.69989496 0.38\n",
      "110 0.69997627 0.38\n",
      "120 0.6999885 0.38\n",
      "130 0.70000225 0.38\n",
      "140 0.7000122 0.38\n",
      "150 0.7000219 0.38\n",
      "160 0.7000002 0.38\n",
      "170 0.70003974 0.38\n",
      "180 0.7000359 0.38\n",
      "190 0.70004225 0.38\n",
      "200 0.7000551 0.38\n",
      "210 0.70004904 0.38\n",
      "220 0.70005196 0.38\n",
      "230 0.70004743 0.38\n",
      "240 0.7000549 0.38\n",
      "250 0.70004654 0.38\n",
      "260 0.7000391 0.38\n",
      "270 0.700033 0.38\n",
      "280 0.7000319 0.38\n",
      "290 0.700026 0.38\n"
     ]
    }
   ],
   "source": [
    "# 0.70111567\n",
    "for i in range(0, 300, 10): # 645\n",
    "    preds_final = final_preds[0]\n",
    "\n",
    "    for idx in range(final_preds[0].shape[0]):\n",
    "        preds = [val[idx] for val in final_preds]\n",
    "        a = weighted_ensemble(params_all, preds)\n",
    "        if a.sum() > i:\n",
    "            a = 0.9*a + 0.1*weighted_ensemble(params_pos, preds)\n",
    "        preds_final[idx] = a\n",
    "\n",
    "    preds_final = preds_final\n",
    "\n",
    "\n",
    "    score = dice_coef(model_masks, preds_final, thr=0.5).cpu().detach().numpy() \n",
    "#     print(i, score)\n",
    "    best_threshold = 0.0\n",
    "    best_dice_score = 0.0\n",
    "    for threshold in [i / 100 for i in range(101)] :\n",
    "        score = dice_coef(model_masks, preds_final, thr=threshold).cpu().detach().numpy() \n",
    "        if score > best_dice_score:\n",
    "            best_dice_score = score\n",
    "            best_threshold = threshold\n",
    "    print(i, best_dice_score, best_threshold)"
   ]
  },
  {
   "cell_type": "code",
   "execution_count": null,
   "id": "b9a2385c",
   "metadata": {},
   "outputs": [],
   "source": [
    "len(final_preds)"
   ]
  },
  {
   "cell_type": "code",
   "execution_count": 51,
   "id": "35c3d375",
   "metadata": {},
   "outputs": [],
   "source": [
    "x = np.ones(final_preds[0].shape)"
   ]
  },
  {
   "cell_type": "code",
   "execution_count": null,
   "id": "bec039f2",
   "metadata": {},
   "outputs": [],
   "source": []
  },
  {
   "cell_type": "code",
   "execution_count": null,
   "id": "00998c75",
   "metadata": {},
   "outputs": [],
   "source": []
  },
  {
   "cell_type": "code",
   "execution_count": 44,
   "id": "9497f87f",
   "metadata": {},
   "outputs": [
    {
     "name": "stdout",
     "output_type": "stream",
     "text": [
      "1 nir_01_tta\n",
      "2 nir_05\n",
      "3 121\n",
      "4 122\n",
      "5 125\n",
      "6 162\n",
      "7 162_tta\n",
      "8 166_tta\n",
      "9 121_tta\n"
     ]
    }
   ],
   "source": [
    "for idx, val in enumerate(call_signs1):\n",
    "    print(idx+1, val)"
   ]
  },
  {
   "cell_type": "code",
   "execution_count": 93,
   "id": "0e894c8e",
   "metadata": {},
   "outputs": [
    {
     "data": {
      "text/plain": [
       "{'w1': 0.2559174030552294,\n",
       " 'w2': 0.17464567024483976,\n",
       " 'w3': 0.2901265133088786,\n",
       " 'w4': 0.5116453708319416,\n",
       " 'w5': 0.7560514736860692,\n",
       " 'w6': 0.2927534853839116}"
      ]
     },
     "execution_count": 93,
     "metadata": {},
     "output_type": "execute_result"
    }
   ],
   "source": [
    "params = {}    \n",
    "#     for i in range(len(final_preds)):\n",
    "#         params[f\"w{i+1}\"] = trial.suggest_float(f'w{i+1}', 0, 1)\n",
    "\n",
    "#     params[f\"w1\"] = trial.suggest_float(f'w1', 0, 1)\n",
    "params[f\"w1\"] = 0.2559174030552294\n",
    "#     params[f\"w2\"] = trial.suggest_float(f'w2', 0, 1)\n",
    "params[f\"w2\"] = 0.17464567024483976\n",
    "#     params[f\"w3\"] = trial.suggest_float(f'w3', 0, 1)\n",
    "params[f\"w3\"] = 0.2901265133088786\n",
    "#     params[f\"w4\"] = trial.suggest_float(f'w4', 0, 1)\n",
    "params[f\"w4\"] = 0.5116453708319416\n",
    "#     params[f\"w5\"] = trial.suggest_float(f'w5', 0, 1)\n",
    "params[f\"w5\"] = 0.7560514736860692\n",
    "#     params[f\"w6\"] = trial.suggest_float(f'w6', 0, 1)\n",
    "params[f\"w6\"] = 0.2927534853839116\n",
    "params"
   ]
  },
  {
   "cell_type": "code",
   "execution_count": null,
   "id": "4a99b02c",
   "metadata": {},
   "outputs": [],
   "source": []
  },
  {
   "cell_type": "code",
   "execution_count": null,
   "id": "baa0ed9b",
   "metadata": {},
   "outputs": [],
   "source": [
    "# Trial 145 finished with value: 0.6954816579818726 and parameters: \n",
    "# {'w1': 0.3800712934060794, 'w2': 0.19827057881403873, 'w3': 0.8639190435791337, 'w4': 0.8183765509720466, 'w5': 0.17899313642679757, 'w6': 0.024590770644496746, 'w7': 0.7862484916619368, 'w8': 0.992834740398046, 'w9': 0.3995791428881191}. \n",
    "# Best is trial 145 with value: 0.6954816579818726. # 0.4"
   ]
  },
  {
   "cell_type": "code",
   "execution_count": null,
   "id": "84dcdae3",
   "metadata": {},
   "outputs": [],
   "source": [
    "# [I 2023-07-16 19:49:38,527] Trial 258 finished with value: 0.6955569982528687 and parameters: \n",
    "# {'w1': 0.35630544690551724, 'w2': 0.3882333167896021, 'w3': 0.793029020160463, 'w4': 0.589733873322586, 'w5': 0.1238533606039253, 'w6': 0.3136224869358406, 'w7': 0.7445672749651168, 'w8': 0.9585857088778065, 'w9': 0.3523881046014743}. Best is trial 258 with value: 0.6955569982528687.\n",
    "# 0.41"
   ]
  },
  {
   "cell_type": "code",
   "execution_count": null,
   "id": "d33d0981",
   "metadata": {},
   "outputs": [],
   "source": [
    "# [I 2023-07-16 20:01:35,463] Trial 231 finished with value: 0.6953996419906616 and parameters: {'w1': 0.03615687143100031, 'w2': 0.45224010503148204, 'w3': 0.663721473024527, 'w4': 0.6371224751418889, 'w5': 0.03698106916893698, 'w6': 0.15052361112796397, 'w7': 0.5701940304803765, 'w8': 0.910815487921195, 'w9': 0.47052561326641523}. Best is trial 231 with value: 0.6953996419906616.\n",
    "# 0.42"
   ]
  },
  {
   "cell_type": "code",
   "execution_count": null,
   "id": "ea2b5489",
   "metadata": {},
   "outputs": [],
   "source": []
  },
  {
   "cell_type": "code",
   "execution_count": null,
   "id": "5afc450a",
   "metadata": {},
   "outputs": [],
   "source": []
  },
  {
   "cell_type": "code",
   "execution_count": null,
   "id": "f9b3a421",
   "metadata": {},
   "outputs": [],
   "source": []
  },
  {
   "cell_type": "code",
   "execution_count": null,
   "id": "2290774d",
   "metadata": {},
   "outputs": [],
   "source": [
    "# CFGS1 = [   \n",
    "    \n",
    "#     {\n",
    "#         'model_name': 'Unet',\n",
    "#         'backbone': 'gluon_senet154',\n",
    "#         'img_size': [512, 512],\n",
    "#         'num_classes': 1,\n",
    "#         'threshold': 0.5, #0.24,\n",
    "#         'model_func': load_model_exp28,\n",
    "#         'model_pth': '/home/rohits/pv1/Contrail_Detection/output/ioannis/Unet-gluon_senet154_fold-1.ckpt',\n",
    "#         'call_sign': \"ioa_01\",\n",
    "#         'tta': True, #False, #True\n",
    "#         'normalize': True\n",
    "#     }, \n",
    "    \n",
    "#     {\n",
    "#         'model_name': 'Unet',\n",
    "#         'backbone': 'gluon_senet154',\n",
    "#         'img_size': [512, 512],\n",
    "#         'num_classes': 1,\n",
    "#         'threshold': 0.5, #0.24,\n",
    "#         'call_sign': \"ioa_02\",\n",
    "#         'model_func': load_model_exp28_snapshot,\n",
    "#         'tta': False, #True\n",
    "#         'normalize': True,\n",
    "#         'model_pth': [\n",
    "#             ######## full train.csv \n",
    "#             '/home/rohits/pv1/Contrail_Detection/output/ioannis/Unet-gluon_senet154_fold-1.ckpt',\n",
    "#             '/home/rohits/pv1/Contrail_Detection/output/ioannis/Unet-gluon_senet154_fold-1-v1.ckpt',\n",
    "#             '/home/rohits/pv1/Contrail_Detection/output/ioannis/Unet-gluon_senet154_fold-1-v2.ckpt',\n",
    "#             ######### 4-skf split \n",
    "#         ]\n",
    "#     }, \n",
    "    \n",
    "    \n",
    "#     {\n",
    "#         'model_name': 'Unet',\n",
    "#         'backbone': 'gluon_senet154',\n",
    "#         'img_size': [512, 512],\n",
    "#         'num_classes': 1,\n",
    "#         'threshold': 0.5, #0.24,\n",
    "#         'call_sign': \"roh_02\",\n",
    "#         'model_func': load_model_exp28_snapshot,        \n",
    "#         'model_pth': '/home/rohits/pv1/Contrail_Detection/output/ioannis/Unet-gluon_senet154_fold-1.ckpt',\n",
    "#         'tta': False, #True\n",
    "#     }, \n",
    "    \n",
    "#     {\n",
    "#         'model_name': 'Unet',\n",
    "#         'backbone': 'gluon_senet154',\n",
    "#         'img_size': [512, 512],\n",
    "#         'num_classes': 1,\n",
    "#         'threshold': 0.5, #0.24,\n",
    "#         'call_sign': \"roh_03\",\n",
    "#         'model_func': load_model_exp28_snapshot,        \n",
    "#         'model_pth': '/home/rohits/pv1/Contrail_Detection/output/ioannis/Unet-gluon_senet154_fold-1-v1.ckpt',\n",
    "#         'tta': False, #True\n",
    "#     }, \n",
    "    \n",
    "#     {\n",
    "#         'model_name': 'Unet',\n",
    "#         'backbone': 'gluon_senet154',\n",
    "#         'img_size': [512, 512],\n",
    "#         'num_classes': 1,\n",
    "#         'threshold': 0.5, #0.24,\n",
    "#         'call_sign': \"roh_04\",\n",
    "#         'model_func': load_model_exp28_snapshot,        \n",
    "#         'model_pth': '/home/rohits/pv1/Contrail_Detection/output/ioannis/Unet-gluon_senet154_fold-1-v2.ckpt',\n",
    "#         'tta': False, #True\n",
    "#     }, \n",
    "    \n",
    "#         {\n",
    "#         'model_name': 'Unet',\n",
    "#         'backbone': 'gluon_senet154',\n",
    "#         'img_size': [512, 512],\n",
    "#         'num_classes': 1,\n",
    "#         'threshold': 0.5, #0.24,\n",
    "#         'call_sign': \"ioa_02\",\n",
    "#         'model_func': load_model_exp28_snapshot,\n",
    "#         'tta': False, #True\n",
    "#         'normalize': True,\n",
    "#         'model_pth': [\n",
    "#             ######## full train.csv \n",
    "#             '/home/rohits/pv1/Contrail_Detection/output/ioannis/Unet-gluon_senet154_fold-1.ckpt',\n",
    "#             '/home/rohits/pv1/Contrail_Detection/output/ioannis/Unet-gluon_senet154_fold-1-v1.ckpt',\n",
    "#             '/home/rohits/pv1/Contrail_Detection/output/ioannis/Unet-gluon_senet154_fold-1-v2.ckpt',\n",
    "#             ######### 4-skf split \n",
    "#             #     '/kaggle/input/contrails-exp28b-senet154-512/Unet-gluon_senet154_fold0.ckpt',\n",
    "#             #     '/kaggle/input/contrails-exp28b-senet154-512/Unet-gluon_senet154_fold0-v1.ckpt',\n",
    "#             #     '/kaggle/input/contrails-exp28b-senet154-512/Unet-gluon_senet154_fold0-v2.ckpt',\n",
    "#             #     '/kaggle/input/contrails-exp28b-senet154-512/Unet-gluon_senet154_fold0-v3.ckpt',\n",
    "#             #     '/kaggle/input/contrails-exp28b-senet154-512/Unet-gluon_senet154_fold0-v4.ckpt',\n",
    "#             #     '/kaggle/input/contrails-exp28b-senet154-512/Unet-gluon_senet154_fold0-v5.ckpt'\n",
    "#         ]\n",
    "#     }, \n",
    "    \n",
    "    \n",
    "#     {\n",
    "#         'model_name': 'Unet',\n",
    "#         'backbone': 'gluon_senet154',\n",
    "#         'img_size': [512, 512],\n",
    "#         'num_classes': 1,\n",
    "#         'threshold': 0.5, #0.24,\n",
    "#         'call_sign': \"ioa_02_tta\",\n",
    "#         'model_func': load_model_exp28_snapshot,\n",
    "#         'tta': True, #True\n",
    "#         'normalize': True,\n",
    "#         'model_pth': [\n",
    "#             ######## full train.csv \n",
    "#             '/home/rohits/pv1/Contrail_Detection/output/ioannis/Unet-gluon_senet154_fold-1.ckpt',\n",
    "#             '/home/rohits/pv1/Contrail_Detection/output/ioannis/Unet-gluon_senet154_fold-1-v1.ckpt',\n",
    "#             '/home/rohits/pv1/Contrail_Detection/output/ioannis/Unet-gluon_senet154_fold-1-v2.ckpt',\n",
    "#             ######### 4-skf split \n",
    "#             #     '/kaggle/input/contrails-exp28b-senet154-512/Unet-gluon_senet154_fold0.ckpt',\n",
    "#             #     '/kaggle/input/contrails-exp28b-senet154-512/Unet-gluon_senet154_fold0-v1.ckpt',\n",
    "#             #     '/kaggle/input/contrails-exp28b-senet154-512/Unet-gluon_senet154_fold0-v2.ckpt',\n",
    "#             #     '/kaggle/input/contrails-exp28b-senet154-512/Unet-gluon_senet154_fold0-v3.ckpt',\n",
    "#             #     '/kaggle/input/contrails-exp28b-senet154-512/Unet-gluon_senet154_fold0-v4.ckpt',\n",
    "#             #     '/kaggle/input/contrails-exp28b-senet154-512/Unet-gluon_senet154_fold0-v5.ckpt'\n",
    "#         ]\n",
    "#     }, \n",
    "    \n",
    "    \n",
    "#     {\n",
    "#         'model_name': 'Unet',\n",
    "#         'backbone': 'efficientnet-b7',\n",
    "#         'img_size': [256, 256],\n",
    "#         'num_classes': 1,\n",
    "#         'model_pth':  '/home/rohits/pv1/Contrail_Detection/output/exp_01_s2/Unet/efficientnet-b7-256/checkpoint_dice_fold0.pth',\n",
    "#         'threshold': 0.24, #0.24,\n",
    "#         'call_sign': \"roh_01_tta\",\n",
    "#         'model_func': load_modelr1,\n",
    "#         'tta': True\n",
    "#     }, \n",
    "    \n",
    "#     {\n",
    "#         'model_name': 'Unet',\n",
    "#         'backbone': 'efficientnet-b7',\n",
    "#         'img_size': [256, 256],\n",
    "#         'num_classes': 1,\n",
    "#         'model_pth':  '/home/rohits/pv1/Contrail_Detection/output/exp_01_s2/Unet/efficientnet-b7-256/checkpoint_dice_fold0.pth',\n",
    "#         'threshold': 0.24, #0.24,\n",
    "#         'call_sign': \"roh_01\",\n",
    "#         'model_func': load_modelr1,\n",
    "#         'tta': False\n",
    "#     }, \n",
    "    \n",
    "    \n",
    "#     {\n",
    "#         'model_name': 'Unet',\n",
    "#         'backbone': 'cs3darknet_l',\n",
    "#         'img_size': [512, 512],\n",
    "#         'num_classes': 1,\n",
    "#         'model_pth':  '/home/rohits/pv1/Contrail_Detection/output/exp_01_s2/Unet/cs3darknet_l-512/checkpoint_dice_ctrl_fold0.pth',\n",
    "#         'threshold': 0.24, #0.24,\n",
    "#         'call_sign': \"roh_02_tta\",\n",
    "#         'model_func': load_modelr2,\n",
    "#         'tta': True\n",
    "#     }, \n",
    "    \n",
    "#         {\n",
    "#         'model_name': 'Unet',\n",
    "#         'backbone': 'cs3edgenet_x',\n",
    "#         'img_size': [512, 512],\n",
    "#         'num_classes': 1,\n",
    "#         'model_pth':  '/home/rohits/pv1/Contrail_Detection/output/exp_01_s2/Unet/cs3edgenet_x-512/checkpoint_dice_ctrl_fold0.pth',\n",
    "#         'threshold': 0.24, #0.24,\n",
    "#         'call_sign': \"roh_03_tta\",\n",
    "#         'model_func': load_modelr2,\n",
    "#         'tta': True\n",
    "#     }, \n",
    "    \n",
    "#     {\n",
    "#         'model_name': 'Unet',\n",
    "#         'backbone': 'cs3sedarknet_l',\n",
    "#         'img_size': [512, 512],\n",
    "#         'num_classes': 1,\n",
    "#         'model_pth':  '/home/rohits/pv1/Contrail_Detection/output/exp_01_s2/Unet/cs3sedarknet_l-512/checkpoint_dice_ctrl_fold0.pth',\n",
    "#         'threshold': 0.24, #0.24,\n",
    "#         'call_sign': \"roh_04_tta\",\n",
    "#         'model_func': load_modelr2,\n",
    "#         'tta': True\n",
    "#     }, \n",
    "    \n",
    "#     {\n",
    "#         'model_name': 'Unet',\n",
    "#         'backbone': 'ecaresnet101d',\n",
    "#         'img_size': [512, 512],\n",
    "#         'num_classes': 1,\n",
    "#         'model_pth':  '/home/rohits/pv1/Contrail_Detection/output/exp_01_s2/Unet/ecaresnet101d-512/checkpoint_dice_ctrl_fold0.pth',\n",
    "#         'threshold': 0.24, #0.24,\n",
    "#         'call_sign': \"roh_05_tta\",\n",
    "#         'model_func': load_modelr2,\n",
    "#         'tta': True\n",
    "#     }, \n",
    "    \n",
    "#     {\n",
    "#         'model_name': 'Unet',\n",
    "#         'backbone': 'ecaresnet269d',\n",
    "#         'img_size': [512, 512],\n",
    "#         'num_classes': 1,\n",
    "#         'model_pth':  '/home/rohits/pv1/Contrail_Detection/output/exp_01_s2/Unet/ecaresnet269d-512/checkpoint_dice_ctrl_fold0.pth',\n",
    "#         'threshold': 0.24, #0.24,\n",
    "#         'call_sign': \"roh_06_tta\",\n",
    "#         'model_func': load_modelr2,\n",
    "#         'tta': True\n",
    "#     }, \n",
    "    \n",
    "#     {\n",
    "#         'model_name': 'Unet',\n",
    "#         'backbone': 'fbnetv3_g',\n",
    "#         'img_size': [512, 512],\n",
    "#         'num_classes': 1,\n",
    "#         'model_pth':  '/home/rohits/pv1/Contrail_Detection/output/exp_01_s2/Unet/fbnetv3_g-512/checkpoint_dice_ctrl_fold0.pth',\n",
    "#         'threshold': 0.24, #0.24,\n",
    "#         'call_sign': \"roh_07_tta\",\n",
    "#         'model_func': load_modelr2,\n",
    "#         'tta': True\n",
    "#     }, \n",
    "    \n",
    "        \n",
    "#     {\n",
    "#         'model_name': 'Unet',\n",
    "#         'backbone': 'tf_mixnet_l',\n",
    "#         'img_size': [512, 512],\n",
    "#         'num_classes': 1,\n",
    "#         'model_pth':  '/home/rohits/pv1/Contrail_Detection/output/exp_01_s2/Unet/tf_mixnet_l-512/checkpoint_dice_ctrl_fold0.pth',\n",
    "#         'threshold': 0.24, #0.24,\n",
    "#         'call_sign': \"roh_08_tta\",\n",
    "#         'model_func': load_modelr2,\n",
    "#         'tta': True\n",
    "#     }, \n",
    "    \n",
    "    \n",
    "\n",
    "#     {\n",
    "#         'model_name': 'Unet',\n",
    "#         'backbone': 'maxvit_small_tf_512',\n",
    "#         'img_size': [512, 512],\n",
    "#         'num_classes': 1,\n",
    "#         'model_pth':  '/home/rohits/pv1/Contrail_Detection/output/nirjhar/maxvitfold0mix_maxvit_small_tf_512_best_epochstage2oof685cv657-00.bin',\n",
    "#         'threshold': 0.62, #0.24,\n",
    "#         'call_sign': \"nir_01_tta\",\n",
    "#         'model_func': load_model4,\n",
    "#         'tta': True\n",
    "#     },\n",
    "    \n",
    "    \n",
    "#     {\n",
    "#         'model_name': 'Unet',\n",
    "#         'backbone': 'eca_nfnet_l1',\n",
    "#         'img_size': [512, 512],\n",
    "#         'num_classes': 1,\n",
    "#         'model_pth':  '/home/rohits/pv1/Contrail_Detection/output/nirjhar/ecanfnetl1v2fold0_eca_nfnet_l1_best_epochstage2-00.bin',\n",
    "#         'threshold': 0.62, #0.24,\n",
    "#         'call_sign': \"nir_02_tta\",\n",
    "#         'model_func': load_model2,\n",
    "#         'tta': True\n",
    "#     },\n",
    "#     {\n",
    "#         'model_name': 'Unet++',\n",
    "#         'backbone': 'tf_efficientnet_b8',\n",
    "#         'img_size': [512, 512],\n",
    "#         'num_classes': 1,\n",
    "#         'model_pth':  '/home/rohits/pv1/Contrail_Detection/output/nirjhar/effb8modelv2fold0_tf_efficientnet_b8_best_epochstage2-00.bin',\n",
    "#         'threshold': 0.79,\n",
    "#         'call_sign': \"nir_03_tta\", \n",
    "#         'model_func': load_model3,\n",
    "#         'tta': True\n",
    "#     },\n",
    "#     {\n",
    "#         'model_name': 'Unet++',\n",
    "#         'backbone': 'tf_efficientnet_b7_ns',\n",
    "#         'img_size': [512, 512],\n",
    "#         'num_classes': 1,\n",
    "#         'model_pth':  '/home/rohits/pv1/contrail_01/output/nirjhar/qishentrialv2fpn512_tf_efficientnet_b7_ns_best_epochcv650lb675-00.bin',\n",
    "#         'threshold': 0.62, #0.24,\n",
    "#         'call_sign': \"nir_04_tta\", \n",
    "#         'model_func': load_model1,\n",
    "#         'tta': True\n",
    "#     }, \n",
    "    \n",
    "    \n",
    "    \n",
    "#         {\n",
    "#         'model_name': 'Unet',\n",
    "#         'backbone': 'eca_nfnet_l2',\n",
    "#         'img_size': [512, 512],\n",
    "#         'num_classes': 1,\n",
    "#         'model_pth':  '/home/rohits/pv1/Contrail_Detection/output/nirjhar/ecanfnetl2v2fold0_eca_nfnet_l2_best_epochstage2-00.bin',\n",
    "#         'threshold': 0.62, #0.24,\n",
    "#         'call_sign': \"nir_05_tta\",\n",
    "#         'model_func': load_model2,\n",
    "#         'tta': True\n",
    "#     },\n",
    "#     {\n",
    "#     'model_name': 'Unet++',\n",
    "#         'backbone': 'densenetblur121d',\n",
    "#         'img_size': [512, 512],\n",
    "#         'num_classes': 1,\n",
    "#         'model_pth':  '/home/rohits/pv1/Contrail_Detection/output/nirjhar/ecanfnetl2v2fold0_densenetblur121d_best_epochstage2-00.bin',\n",
    "#         'threshold': 0.79,\n",
    "#         'call_sign': \"nir_06_tta\", \n",
    "#         'model_func': load_model2,\n",
    "#         'tta': True\n",
    "#     },\n",
    "    \n",
    "#     {\n",
    "#     'model_name': 'Unet++',\n",
    "#         'backbone': 'convnextv2_base',\n",
    "#         'img_size': [512, 512],\n",
    "#         'num_classes': 1,\n",
    "#         'model_pth':  '/home/rohits/pv1/Contrail_Detection/output/nirjhar/convnextfold0_convnextv2_base_best_epochstage2-00.bin',\n",
    "#         'threshold': 0.79,\n",
    "#         'call_sign': \"nir_07_tta\", \n",
    "#         'model_func': load_model2,\n",
    "#         'tta': True\n",
    "#     },\n",
    "    \n",
    "#     {\n",
    "#         'model_name': 'Unet',\n",
    "#         'backbone': 'maxvit_small_tf_512',\n",
    "#         'img_size': [512, 512],\n",
    "#         'num_classes': 1,\n",
    "#         'model_pth':  '/home/rohits/pv1/Contrail_Detection/output/nirjhar/maxvitfold0mix_maxvit_small_tf_512_best_epochstage2oof685cv657-00.bin',\n",
    "#         'threshold': 0.62, #0.24,\n",
    "#         'call_sign': \"nir_01\",\n",
    "#         'model_func': load_model4,\n",
    "#         'tta': False\n",
    "#     },\n",
    "    \n",
    "    \n",
    "#     {\n",
    "#         'model_name': 'Unet',\n",
    "#         'backbone': 'eca_nfnet_l1',\n",
    "#         'img_size': [512, 512],\n",
    "#         'num_classes': 1,\n",
    "#         'model_pth':  '/home/rohits/pv1/Contrail_Detection/output/nirjhar/ecanfnetl1v2fold0_eca_nfnet_l1_best_epochstage2-00.bin',\n",
    "#         'threshold': 0.62, #0.24,\n",
    "#         'call_sign': \"nir_02\",\n",
    "#         'model_func': load_model2,\n",
    "#         'tta': False\n",
    "#     },\n",
    "#     {\n",
    "#         'model_name': 'Unet++',\n",
    "#         'backbone': 'tf_efficientnet_b8',\n",
    "#         'img_size': [512, 512],\n",
    "#         'num_classes': 1,\n",
    "#         'model_pth':  '/home/rohits/pv1/Contrail_Detection/output/nirjhar/effb8modelv2fold0_tf_efficientnet_b8_best_epochstage2-00.bin',\n",
    "#         'threshold': 0.79,\n",
    "#         'call_sign': \"nir_03\", \n",
    "#         'model_func': load_model3,\n",
    "#         'tta': False\n",
    "#     },\n",
    "#     {\n",
    "#         'model_name': 'Unet++',\n",
    "#         'backbone': 'tf_efficientnet_b7_ns',\n",
    "#         'img_size': [512, 512],\n",
    "#         'num_classes': 1,\n",
    "#         'model_pth':  '/home/rohits/pv1/contrail_01/output/nirjhar/qishentrialv2fpn512_tf_efficientnet_b7_ns_best_epochcv650lb675-00.bin',\n",
    "#         'threshold': 0.62, #0.24,\n",
    "#         'call_sign': \"nir_04\", \n",
    "#         'model_func': load_model1,\n",
    "#         'tta': False\n",
    "#     }, \n",
    "    \n",
    "#         {\n",
    "#         'model_name': 'Unet',\n",
    "#         'backbone': 'eca_nfnet_l2',\n",
    "#         'img_size': [512, 512],\n",
    "#         'num_classes': 1,\n",
    "#         'model_pth':  '/home/rohits/pv1/Contrail_Detection/output/nirjhar/ecanfnetl2v2fold0_eca_nfnet_l2_best_epochstage2-00.bin',\n",
    "#         'threshold': 0.62, #0.24,\n",
    "#         'call_sign': \"nir_05\",\n",
    "#         'model_func': load_model2,\n",
    "#         'tta': False\n",
    "#     },\n",
    "#     {\n",
    "#     'model_name': 'Unet++',\n",
    "#         'backbone': 'densenetblur121d',\n",
    "#         'img_size': [512, 512],\n",
    "#         'num_classes': 1,\n",
    "#         'model_pth':  '/home/rohits/pv1/Contrail_Detection/output/nirjhar/ecanfnetl2v2fold0_densenetblur121d_best_epochstage2-00.bin',\n",
    "#         'threshold': 0.79,\n",
    "#         'call_sign': \"nir_06\", \n",
    "#         'model_func': load_model2,\n",
    "#         'tta': False\n",
    "#     },\n",
    "    \n",
    "#     {\n",
    "#     'model_name': 'Unet++',\n",
    "#         'backbone': 'convnextv2_base',\n",
    "#         'img_size': [512, 512],\n",
    "#         'num_classes': 1,\n",
    "#         'model_pth':  '/home/rohits/pv1/Contrail_Detection/output/nirjhar/convnextfold0_convnextv2_base_best_epochstage2-00.bin',\n",
    "#         'threshold': 0.79,\n",
    "#         'call_sign': \"nir_07\", \n",
    "#         'model_func': load_model2,\n",
    "#         'tta': False\n",
    "#     },\n",
    "    \n",
    "    \n",
    "    \n",
    "    \n",
    "    \n",
    "# ]"
   ]
  },
  {
   "cell_type": "code",
   "execution_count": null,
   "id": "6d4ed84b",
   "metadata": {},
   "outputs": [],
   "source": []
  },
  {
   "cell_type": "code",
   "execution_count": null,
   "id": "5553fd31",
   "metadata": {},
   "outputs": [],
   "source": []
  },
  {
   "cell_type": "code",
   "execution_count": null,
   "id": "da33a41c",
   "metadata": {},
   "outputs": [],
   "source": []
  },
  {
   "cell_type": "code",
   "execution_count": null,
   "id": "32ba4414",
   "metadata": {},
   "outputs": [],
   "source": []
  },
  {
   "cell_type": "code",
   "execution_count": 29,
   "id": "a3a64f79",
   "metadata": {},
   "outputs": [
    {
     "data": {
      "application/vnd.jupyter.widget-view+json": {
       "model_id": "0b08875b51004cd280c540b1f1ac29c5",
       "version_major": 2,
       "version_minor": 0
      },
      "text/plain": [
       "  0%|          | 0/1 [00:00<?, ?it/s]"
      ]
     },
     "metadata": {},
     "output_type": "display_data"
    }
   ],
   "source": [
    "cfg = [       \n",
    "    \"roh_02_tta\", \n",
    "] \n",
    "\n",
    "\n",
    "# model_masks = torch.from_numpy(np.load(f\"/home/rohits/pv1/Contrail_Detection/output/final_preds/val_masks.npy\")).flatten().cuda() \n",
    "model_masks = torch.from_numpy(np.load(f\"/home/rohits/pv1/Contrail_Detection/output/final_preds/val_masks.npy\")).flatten().cuda() \n",
    "\n",
    "\n",
    "preds = []\n",
    "\n",
    "for idx, sign in tqdm(enumerate(cfg), total=len(cfg)):\n",
    "    wt = torch.from_numpy(np.load(f\"/home/rohits/pv1/Contrail_Detection/output/oofs/{sign}.npy\"))\n",
    "    \n",
    "    \n",
    "#     wt = torch.from_numpy(np.load(f\"/home/rohits/pv1/Contrail_Detection/output/oofs/{sign}.npy\")).flatten().cuda()  \n",
    "    \n",
    "    "
   ]
  },
  {
   "cell_type": "code",
   "execution_count": 24,
   "id": "4908b212",
   "metadata": {},
   "outputs": [
    {
     "data": {
      "text/plain": [
       "torch.Size([1856, 256, 256])"
      ]
     },
     "execution_count": 24,
     "metadata": {},
     "output_type": "execute_result"
    }
   ],
   "source": [
    "wt.shape"
   ]
  },
  {
   "cell_type": "code",
   "execution_count": null,
   "id": "3ec399e0",
   "metadata": {},
   "outputs": [
    {
     "name": "stderr",
     "output_type": "stream",
     "text": [
      "Exception ignored in: <function tqdm.__del__ at 0x7f0e633e88b0>\n",
      "Traceback (most recent call last):\n",
      "  File \"/home/rohits/anaconda3/envs/contrail/lib/python3.10/site-packages/tqdm/std.py\", line 1144, in __del__\n",
      "    def __del__(self):\n",
      "KeyboardInterrupt: \n"
     ]
    }
   ],
   "source": [
    "for idx, val in enumerate(wt):\n",
    "#     print(val.sum() <= 10)\n",
    "    if val.sum() <= 10:\n",
    "        wt[idx, :, :] = 0\n",
    "    \n",
    "# print(\"mhsdbc\")"
   ]
  },
  {
   "cell_type": "code",
   "execution_count": 26,
   "id": "9289f13c",
   "metadata": {},
   "outputs": [],
   "source": [
    "# np.sum(val)"
   ]
  },
  {
   "cell_type": "code",
   "execution_count": null,
   "id": "5bb8091d",
   "metadata": {},
   "outputs": [],
   "source": []
  },
  {
   "cell_type": "code",
   "execution_count": null,
   "id": "a08d3170",
   "metadata": {},
   "outputs": [],
   "source": [
    "wt = wt.flatten().cuda()\n",
    "score = dice_coef(model_masks, wt, thr=0.5).cpu().detach().numpy() \n",
    "print(\"0.5 TH Score: \", score)\n",
    "\n",
    "best_threshold = 0.0\n",
    "best_dice_score = 0.0\n",
    "for threshold in [i / 100 for i in range(101)] :\n",
    "    score = dice_coef(model_masks, wt, thr=threshold).cpu().detach().numpy() \n",
    "    if score > best_dice_score:\n",
    "        best_dice_score = score\n",
    "        best_threshold = threshold\n",
    "print(best_dice_score, best_threshold)"
   ]
  },
  {
   "cell_type": "code",
   "execution_count": null,
   "id": "28def6c0",
   "metadata": {},
   "outputs": [],
   "source": [
    "# 0.67922837"
   ]
  },
  {
   "cell_type": "code",
   "execution_count": null,
   "id": "2f6d1ad4",
   "metadata": {},
   "outputs": [],
   "source": []
  },
  {
   "cell_type": "code",
   "execution_count": 42,
   "id": "f4699530",
   "metadata": {},
   "outputs": [],
   "source": [
    "def boost_dice(params, TH=None):    \n",
    "    \n",
    "    for index, val in enumerate(params.keys()):\n",
    "        if index == 0:            \n",
    "            preds = params[val]*final_preds[0]\n",
    "        else:\n",
    "            preds += params[val]*final_preds[index]\n",
    "    \n",
    "    param_sum = 0\n",
    "    for key, val in params.items():\n",
    "        param_sum += val\n",
    "\n",
    "    preds = preds/param_sum\n",
    "    \n",
    "    \n",
    "    \n",
    "#     for i, val in enumerate(preds):\n",
    "#         if val.sum() <= 26:\n",
    "#             preds[i, :, :] = 0\n",
    "    \n",
    "#     print(preds.shape, model_masks.shape)\n",
    "#     get_small_area(preds, model_masks)\n",
    "#     print(preds.shape)    \n",
    "    \n",
    "    \n",
    "    if TH:\n",
    "        best_threshold = TH\n",
    "        preds1 = (preds).double()\n",
    "        best_score = dice_coef(model_masks, preds1, thr=TH).cpu().detach().numpy() # get_score(labels, preds) \n",
    "    else:\n",
    "        best_threshold = 0.0\n",
    "        best_score = 0.0\n",
    "        for threshold in [i / 100 for i in range(101)] :              \n",
    "            if threshold < 0.3 or threshold > 0.65:\n",
    "                continue\n",
    "\n",
    "            preds1 = ((preds)>threshold).double()            \n",
    "            score = dice_coef(model_masks, preds1, thr=threshold).cpu().detach().numpy() # get_score(labels, preds) \n",
    "            if score > best_score:\n",
    "                best_score = score\n",
    "                best_threshold = threshold\n",
    "            \n",
    "#     best_score = score\n",
    "#     best_threshold = threshold\n",
    "    return best_score, best_threshold"
   ]
  },
  {
   "cell_type": "code",
   "execution_count": 176,
   "id": "74c09a88",
   "metadata": {},
   "outputs": [
    {
     "data": {
      "application/vnd.jupyter.widget-view+json": {
       "model_id": "a05cb510dbbf48379534e408fdaf543c",
       "version_major": 2,
       "version_minor": 0
      },
      "text/plain": [
       "  0%|          | 0/14 [00:00<?, ?it/s]"
      ]
     },
     "metadata": {},
     "output_type": "display_data"
    },
    {
     "name": "stdout",
     "output_type": "stream",
     "text": [
      "0.6919633\n",
      "0.6930453 0.23\n",
      "0.68611187\n",
      "0.6876079 0.17\n",
      "0.6951875\n",
      "0.6969542 0.27\n",
      "0.68547714\n",
      "0.6856808 0.26\n",
      "0.6857713\n",
      "0.6858334 0.47\n",
      "0.6802031\n",
      "0.6809007 0.04\n",
      "0.69100106\n",
      "0.69290924 0.33\n",
      "0.68723655\n",
      "0.6917759 0.34\n",
      "0.6870522\n",
      "0.68754715 0.45\n",
      "0.6658337\n",
      "0.6699166 0.23\n",
      "0.6490005\n",
      "0.6866923 0.39\n",
      "0.69341856\n",
      "0.6979238 0.34\n",
      "0.67109334\n",
      "0.6762293 0.25\n",
      "0.67154294\n",
      "0.67987764 0.22\n"
     ]
    }
   ],
   "source": [
    "call_signs1 = [    \n",
    "    \"roh_10_tta\",\n",
    "#     \"roh_02_tta\", \n",
    "    \"nir_05\",\n",
    "    \"nir_06_tta\",\n",
    "    \"nir_09\",\n",
    "    \"121_tta\",\n",
    "    \"162_tta\",\n",
    "    \"166_tta\",\n",
    "    \"125\", \n",
    "    \"196\",\n",
    "    \"127\",\n",
    "    \n",
    "    \"204\",\n",
    "    \"roh_11_tta_full\",\n",
    "    \"roh_12_tta\"\n",
    "    \n",
    "    # above this \n",
    "    \n",
    "#     \"195\",\n",
    "#     \"198\",\n",
    "#     \"184\", # 1\n",
    "#     \"174\",\n",
    "#     \"150\",\n",
    "#     \"138\"    \n",
    "    \n",
    "        \n",
    "#     \"195_tta\",\n",
    "#     \"198_tta\",\n",
    "#     \"184_tta\",\n",
    "#     \"174_tta\",\n",
    "#     \"150_tta\",\n",
    "#     \"138_tta\"\n",
    "    \n",
    "    \n",
    "] \n",
    "\n",
    "# \n",
    "\n",
    "# call_signs1 = [        \n",
    "#     \"roh_10_tta\",\n",
    "# #     \"roh_02_tta\", \n",
    "#     \"roh_11_tta_full\",\n",
    "\n",
    "    \n",
    "#     \"nir_05\",\n",
    "#     \"nir_06_tta\",\n",
    "#     \"nir_09\",\n",
    "#     \"121_tta\",\n",
    "#     \"162_tta\",\n",
    "#     \"166_tta\",\n",
    "#     \"125\", \n",
    "#     \"196\",\n",
    "#     \"127\",\n",
    "    \n",
    "#     \"204\",\n",
    "    \n",
    "# ]\n",
    "\n",
    "call_signs1 = [    \n",
    "#     \"roh_10_tta\",\n",
    "#     \"roh_02_tta\", \n",
    "    \"roh_12_tta\",\n",
    "    \"roh_02_tta\",\n",
    "    \"roh_11_tta\",\n",
    "    \"nir_05_tta\",\n",
    "    \"nir_06_tta\",\n",
    "    \"nir_09_tta\",\n",
    "    \"121_tta\",\n",
    "    \"162_tta\",\n",
    "    \"166_tta\",\n",
    "    \"125_tta\", \n",
    "    \"196_tta\",\n",
    "#     \"127_tta\",\n",
    "    \"204\", # tta\n",
    "    \n",
    "    \"Unetpp-convnext_base_preds_tta_06638\",\n",
    "    \"230_tta\"\n",
    "    \n",
    "#     \"Unet-tf_efficientnet_l2_ns_tta_06570\"\n",
    "    # above this \n",
    "    \n",
    "#     \"nir_09\"\n",
    "    \n",
    "#     \"195_tta\",\n",
    "#     \"198_tta\",\n",
    "#     \"184_tta\",\n",
    "#     \"174_tta\",\n",
    "#     \"150_tta\",\n",
    "#     \"138_tta\"\n",
    "] \n",
    "\n",
    "\n",
    "\n",
    "val_df = pd.read_csv(\"../../input/data_utils/val_df_filled.csv\")\n",
    "\n",
    "ix = val_df.loc[val_df['class'] == 1].index.values\n",
    "\n",
    "model_masks = torch.from_numpy(np.load(f\"/home/rohits/pv1/Contrail_Detection/output/final_preds/val_masks.npy\")).cuda() #.flatten().cuda() \n",
    "model_masks = model_masks[ix]\n",
    "preds = []\n",
    "\n",
    "sharp = 0.55\n",
    "areas = [31, 15, 22, 31, 8, 10, 42, 13]\n",
    "\n",
    "for idx, sign in tqdm(enumerate(call_signs1), total=len(call_signs1)):\n",
    "#     if idx == 0:\n",
    "#         wt = torch.from_numpy(np.load(f\"/home/rohits/pv1/Contrail_Detection/output/final_preds/{sign}.npy\")).cuda()\n",
    "#     else:\n",
    "    wt = torch.from_numpy(np.load(f\"/home/rohits/pv1/Contrail_Detection/output/oofs/{sign}.npy\")).cuda() \n",
    "\n",
    "    wt = wt[ix]\n",
    "    preds.append(wt)    \n",
    "    score = dice_coef(model_masks, wt, thr=0.5).cpu().detach().numpy() \n",
    "    print(score)\n",
    "    best_threshold = 0.0\n",
    "    best_dice_score = 0.0\n",
    "    for threshold in [i / 100 for i in range(101)] :\n",
    "        score = dice_coef(model_masks, wt, thr=threshold).cpu().detach().numpy() \n",
    "        if score > best_dice_score:\n",
    "            best_dice_score = score\n",
    "            best_threshold = threshold\n",
    "    print(best_dice_score, best_threshold)\n",
    "    \n",
    "final_preds = preds\n"
   ]
  },
  {
   "cell_type": "code",
   "execution_count": 177,
   "id": "8d71777b",
   "metadata": {},
   "outputs": [],
   "source": [
    "def objective(trial):\n",
    "    TH = None #0.38 # None #0.39 # None #0.39\n",
    "    \n",
    "    params = {}    \n",
    "    for i in range(len(final_preds)):\n",
    "        params[f\"w{i+1}\"] = trial.suggest_float(f'w{i+1}', 0, 1)\n",
    "\n",
    "    score, best_threshold  = boost_dice(params, TH=TH)\n",
    "    params['threshold'] = best_threshold\n",
    "    if not TH:\n",
    "        print(params)\n",
    "        \n",
    "    return score"
   ]
  },
  {
   "cell_type": "code",
   "execution_count": 178,
   "id": "89aaf86e",
   "metadata": {},
   "outputs": [
    {
     "name": "stderr",
     "output_type": "stream",
     "text": [
      "[I 2023-08-06 00:50:17,733] A new study created in memory with name: no-name-6cc276e5-735b-443c-a91d-e6e96d7f0b78\n",
      "[I 2023-08-06 00:50:17,812] Trial 0 finished with value: 0.7041952013969421 and parameters: {'w1': 0.9516440463846043, 'w2': 0.18536023186023476, 'w3': 0.2659322405435598, 'w4': 0.019524292847678648, 'w5': 0.3909675398134319, 'w6': 0.8755558032429971, 'w7': 0.2656580207775051, 'w8': 0.8437076999949501, 'w9': 0.20910231204265783, 'w10': 0.8196981673292376, 'w11': 0.8633740779703943, 'w12': 0.36222679040795336, 'w13': 0.8964159797671869, 'w14': 0.06434233306361858}. Best is trial 0 with value: 0.7041952013969421.\n",
      "[I 2023-08-06 00:50:17,888] Trial 1 finished with value: 0.7067200541496277 and parameters: {'w1': 0.1741329627814514, 'w2': 0.3637229687358404, 'w3': 0.5163241380739675, 'w4': 0.25159357839765917, 'w5': 0.223388175226386, 'w6': 0.1792371883365298, 'w7': 0.7123641757129227, 'w8': 0.861405854635238, 'w9': 0.22036829269649172, 'w10': 0.0520023719783812, 'w11': 0.2418886440736363, 'w12': 0.6563978389327186, 'w13': 0.31539302070193875, 'w14': 0.10562828566345861}. Best is trial 1 with value: 0.7067200541496277.\n",
      "[I 2023-08-06 00:50:17,964] Trial 2 finished with value: 0.7034597396850586 and parameters: {'w1': 0.7640414502974435, 'w2': 0.9355669885918019, 'w3': 0.7960278775309649, 'w4': 0.5914886111784843, 'w5': 0.878135190260129, 'w6': 0.6452693538117582, 'w7': 0.6057069363449151, 'w8': 0.42865869799597756, 'w9': 0.2690751119606898, 'w10': 0.1714835272636882, 'w11': 0.34969659444403933, 'w12': 0.7740665511392604, 'w13': 0.25582506973120156, 'w14': 0.406552421193797}. Best is trial 1 with value: 0.7067200541496277.\n"
     ]
    },
    {
     "name": "stdout",
     "output_type": "stream",
     "text": [
      "{'w1': 0.9516440463846043, 'w2': 0.18536023186023476, 'w3': 0.2659322405435598, 'w4': 0.019524292847678648, 'w5': 0.3909675398134319, 'w6': 0.8755558032429971, 'w7': 0.2656580207775051, 'w8': 0.8437076999949501, 'w9': 0.20910231204265783, 'w10': 0.8196981673292376, 'w11': 0.8633740779703943, 'w12': 0.36222679040795336, 'w13': 0.8964159797671869, 'w14': 0.06434233306361858, 'threshold': 0.33}\n",
      "{'w1': 0.1741329627814514, 'w2': 0.3637229687358404, 'w3': 0.5163241380739675, 'w4': 0.25159357839765917, 'w5': 0.223388175226386, 'w6': 0.1792371883365298, 'w7': 0.7123641757129227, 'w8': 0.861405854635238, 'w9': 0.22036829269649172, 'w10': 0.0520023719783812, 'w11': 0.2418886440736363, 'w12': 0.6563978389327186, 'w13': 0.31539302070193875, 'w14': 0.10562828566345861, 'threshold': 0.34}\n",
      "{'w1': 0.7640414502974435, 'w2': 0.9355669885918019, 'w3': 0.7960278775309649, 'w4': 0.5914886111784843, 'w5': 0.878135190260129, 'w6': 0.6452693538117582, 'w7': 0.6057069363449151, 'w8': 0.42865869799597756, 'w9': 0.2690751119606898, 'w10': 0.1714835272636882, 'w11': 0.34969659444403933, 'w12': 0.7740665511392604, 'w13': 0.25582506973120156, 'w14': 0.406552421193797, 'threshold': 0.33}\n"
     ]
    },
    {
     "name": "stderr",
     "output_type": "stream",
     "text": [
      "[I 2023-08-06 00:50:18,040] Trial 3 finished with value: 0.7048695087432861 and parameters: {'w1': 0.42560695185276753, 'w2': 0.6303487917280433, 'w3': 0.9149503531618902, 'w4': 0.6398841768357301, 'w5': 0.8826218110663334, 'w6': 0.6351741021228395, 'w7': 0.31278460931348695, 'w8': 0.51524658790212, 'w9': 0.8584181627265611, 'w10': 0.4051499424854753, 'w11': 0.6921540131641452, 'w12': 0.6047915903013135, 'w13': 0.24493770804634873, 'w14': 0.3718339560275391}. Best is trial 1 with value: 0.7067200541496277.\n",
      "[I 2023-08-06 00:50:18,108] Trial 4 finished with value: 0.7043448090553284 and parameters: {'w1': 0.27042788755397085, 'w2': 0.15264930691119682, 'w3': 0.9049677062052287, 'w4': 0.5852928217627424, 'w5': 0.16280702993128027, 'w6': 0.7731232297240248, 'w7': 0.00724631397813591, 'w8': 0.6772622825884901, 'w9': 0.3966647169723333, 'w10': 0.001721973944338595, 'w11': 0.5224824258522838, 'w12': 0.06238627325413015, 'w13': 0.5848480699564877, 'w14': 0.6340903868655331}. Best is trial 1 with value: 0.7067200541496277.\n",
      "[I 2023-08-06 00:50:18,177] Trial 5 finished with value: 0.7055209875106812 and parameters: {'w1': 0.9110713186870055, 'w2': 0.5733035364367786, 'w3': 0.7486294181216968, 'w4': 0.05290369506212278, 'w5': 0.47829872764921466, 'w6': 0.246948196008421, 'w7': 0.6827470461322497, 'w8': 0.7144172807803135, 'w9': 0.971231652066608, 'w10': 0.6285286869049707, 'w11': 0.21965296167411563, 'w12': 0.9555016616368777, 'w13': 0.9206477880854118, 'w14': 0.9296343221708989}. Best is trial 1 with value: 0.7067200541496277.\n"
     ]
    },
    {
     "name": "stdout",
     "output_type": "stream",
     "text": [
      "{'w1': 0.42560695185276753, 'w2': 0.6303487917280433, 'w3': 0.9149503531618902, 'w4': 0.6398841768357301, 'w5': 0.8826218110663334, 'w6': 0.6351741021228395, 'w7': 0.31278460931348695, 'w8': 0.51524658790212, 'w9': 0.8584181627265611, 'w10': 0.4051499424854753, 'w11': 0.6921540131641452, 'w12': 0.6047915903013135, 'w13': 0.24493770804634873, 'w14': 0.3718339560275391, 'threshold': 0.33}\n",
      "{'w1': 0.27042788755397085, 'w2': 0.15264930691119682, 'w3': 0.9049677062052287, 'w4': 0.5852928217627424, 'w5': 0.16280702993128027, 'w6': 0.7731232297240248, 'w7': 0.00724631397813591, 'w8': 0.6772622825884901, 'w9': 0.3966647169723333, 'w10': 0.001721973944338595, 'w11': 0.5224824258522838, 'w12': 0.06238627325413015, 'w13': 0.5848480699564877, 'w14': 0.6340903868655331, 'threshold': 0.33}\n",
      "{'w1': 0.9110713186870055, 'w2': 0.5733035364367786, 'w3': 0.7486294181216968, 'w4': 0.05290369506212278, 'w5': 0.47829872764921466, 'w6': 0.246948196008421, 'w7': 0.6827470461322497, 'w8': 0.7144172807803135, 'w9': 0.971231652066608, 'w10': 0.6285286869049707, 'w11': 0.21965296167411563, 'w12': 0.9555016616368777, 'w13': 0.9206477880854118, 'w14': 0.9296343221708989, 'threshold': 0.33}\n"
     ]
    },
    {
     "name": "stderr",
     "output_type": "stream",
     "text": [
      "[I 2023-08-06 00:50:18,245] Trial 6 finished with value: 0.7045413255691528 and parameters: {'w1': 0.13818434034095894, 'w2': 0.5938108511442584, 'w3': 0.676536563800303, 'w4': 0.27024207167542713, 'w5': 0.1990450094881494, 'w6': 0.20621488280150635, 'w7': 0.32134266667049205, 'w8': 0.7785048360027191, 'w9': 0.08819379587515219, 'w10': 0.7320394818518283, 'w11': 0.11667728159215807, 'w12': 0.407815727664, 'w13': 0.12219011079426023, 'w14': 0.01206877715985144}. Best is trial 1 with value: 0.7067200541496277.\n",
      "[I 2023-08-06 00:50:18,313] Trial 7 finished with value: 0.7044281363487244 and parameters: {'w1': 0.19044344431951787, 'w2': 0.13954847204018417, 'w3': 0.3480526139669389, 'w4': 0.7682962674000697, 'w5': 0.5456920199193035, 'w6': 0.012845082580896783, 'w7': 0.21492220267716522, 'w8': 0.582828686124472, 'w9': 0.67045704128292, 'w10': 0.89645628046281, 'w11': 0.03199632970931077, 'w12': 0.908827535376485, 'w13': 0.11512614458826576, 'w14': 0.9970404563284099}. Best is trial 1 with value: 0.7067200541496277.\n",
      "[I 2023-08-06 00:50:18,381] Trial 8 finished with value: 0.7061315178871155 and parameters: {'w1': 0.2609759637139317, 'w2': 0.7138740573448451, 'w3': 0.818293223680608, 'w4': 0.4576045108278326, 'w5': 0.17003859263270993, 'w6': 0.08984736976587393, 'w7': 0.9234589432490732, 'w8': 0.7693891016673747, 'w9': 0.5247644151922375, 'w10': 0.6850076172152048, 'w11': 0.9960044470166236, 'w12': 0.42667964442628925, 'w13': 0.6044486464918021, 'w14': 0.06155134129725526}. Best is trial 1 with value: 0.7067200541496277.\n"
     ]
    },
    {
     "name": "stdout",
     "output_type": "stream",
     "text": [
      "{'w1': 0.13818434034095894, 'w2': 0.5938108511442584, 'w3': 0.676536563800303, 'w4': 0.27024207167542713, 'w5': 0.1990450094881494, 'w6': 0.20621488280150635, 'w7': 0.32134266667049205, 'w8': 0.7785048360027191, 'w9': 0.08819379587515219, 'w10': 0.7320394818518283, 'w11': 0.11667728159215807, 'w12': 0.407815727664, 'w13': 0.12219011079426023, 'w14': 0.01206877715985144, 'threshold': 0.35}\n",
      "{'w1': 0.19044344431951787, 'w2': 0.13954847204018417, 'w3': 0.3480526139669389, 'w4': 0.7682962674000697, 'w5': 0.5456920199193035, 'w6': 0.012845082580896783, 'w7': 0.21492220267716522, 'w8': 0.582828686124472, 'w9': 0.67045704128292, 'w10': 0.89645628046281, 'w11': 0.03199632970931077, 'w12': 0.908827535376485, 'w13': 0.11512614458826576, 'w14': 0.9970404563284099, 'threshold': 0.35}\n",
      "{'w1': 0.2609759637139317, 'w2': 0.7138740573448451, 'w3': 0.818293223680608, 'w4': 0.4576045108278326, 'w5': 0.17003859263270993, 'w6': 0.08984736976587393, 'w7': 0.9234589432490732, 'w8': 0.7693891016673747, 'w9': 0.5247644151922375, 'w10': 0.6850076172152048, 'w11': 0.9960044470166236, 'w12': 0.42667964442628925, 'w13': 0.6044486464918021, 'w14': 0.06155134129725526, 'threshold': 0.34}\n"
     ]
    },
    {
     "name": "stderr",
     "output_type": "stream",
     "text": [
      "[I 2023-08-06 00:50:18,449] Trial 9 finished with value: 0.7061957716941833 and parameters: {'w1': 0.19988805393970122, 'w2': 0.4040058757296223, 'w3': 0.9609465750074556, 'w4': 0.21673387720091009, 'w5': 0.02589371707361343, 'w6': 0.19584428585815372, 'w7': 0.7671127747621412, 'w8': 0.22846226451639606, 'w9': 0.7410251174133552, 'w10': 0.03799014782315657, 'w11': 0.27664412066498767, 'w12': 0.39784128180844003, 'w13': 0.9650806984088736, 'w14': 0.5816427518672364}. Best is trial 1 with value: 0.7067200541496277.\n",
      "[I 2023-08-06 00:50:18,567] Trial 10 finished with value: 0.7044466137886047 and parameters: {'w1': 0.018992181017210397, 'w2': 0.3381408189957821, 'w3': 0.0048736408729328495, 'w4': 0.9607965584106084, 'w5': 0.6425149931440977, 'w6': 0.38723288216743357, 'w7': 0.9871083213009603, 'w8': 0.9808168225965487, 'w9': 0.0455282708193023, 'w10': 0.3503794169770065, 'w11': 0.42302163368081663, 'w12': 0.6818503584214239, 'w13': 0.3909306758426182, 'w14': 0.23359851941677323}. Best is trial 1 with value: 0.7067200541496277.\n"
     ]
    },
    {
     "name": "stdout",
     "output_type": "stream",
     "text": [
      "{'w1': 0.19988805393970122, 'w2': 0.4040058757296223, 'w3': 0.9609465750074556, 'w4': 0.21673387720091009, 'w5': 0.02589371707361343, 'w6': 0.19584428585815372, 'w7': 0.7671127747621412, 'w8': 0.22846226451639606, 'w9': 0.7410251174133552, 'w10': 0.03799014782315657, 'w11': 0.27664412066498767, 'w12': 0.39784128180844003, 'w13': 0.9650806984088736, 'w14': 0.5816427518672364, 'threshold': 0.36}\n",
      "{'w1': 0.018992181017210397, 'w2': 0.3381408189957821, 'w3': 0.0048736408729328495, 'w4': 0.9607965584106084, 'w5': 0.6425149931440977, 'w6': 0.38723288216743357, 'w7': 0.9871083213009603, 'w8': 0.9808168225965487, 'w9': 0.0455282708193023, 'w10': 0.3503794169770065, 'w11': 0.42302163368081663, 'w12': 0.6818503584214239, 'w13': 0.3909306758426182, 'w14': 0.23359851941677323, 'threshold': 0.33}\n"
     ]
    },
    {
     "name": "stderr",
     "output_type": "stream",
     "text": [
      "[I 2023-08-06 00:50:18,699] Trial 11 finished with value: 0.7059502601623535 and parameters: {'w1': 0.4590082954963637, 'w2': 0.38361605648914654, 'w3': 0.5685989794568405, 'w4': 0.25859741042959006, 'w5': 0.026431868154076915, 'w6': 0.3665077458139215, 'w7': 0.7392869474714776, 'w8': 0.230237494863479, 'w9': 0.6459989851761809, 'w10': 0.010070985169070443, 'w11': 0.24961823599304084, 'w12': 0.5603062598307678, 'w13': 0.6676103693855489, 'w14': 0.5989508034472476}. Best is trial 1 with value: 0.7067200541496277.\n",
      "[I 2023-08-06 00:50:18,817] Trial 12 finished with value: 0.705541729927063 and parameters: {'w1': 0.05833543980512218, 'w2': 0.38756775934617443, 'w3': 0.9597305623601456, 'w4': 0.2957079914942279, 'w5': 0.004695201684249972, 'w6': 0.12961291432790606, 'w7': 0.7908861186638729, 'w8': 0.011731107629953247, 'w9': 0.38930720908933425, 'w10': 0.18499737807108718, 'w11': 0.2025014562590384, 'w12': 0.25918270748323796, 'w13': 0.9900761855601501, 'w14': 0.25651827618121825}. Best is trial 1 with value: 0.7067200541496277.\n"
     ]
    },
    {
     "name": "stdout",
     "output_type": "stream",
     "text": [
      "{'w1': 0.4590082954963637, 'w2': 0.38361605648914654, 'w3': 0.5685989794568405, 'w4': 0.25859741042959006, 'w5': 0.026431868154076915, 'w6': 0.3665077458139215, 'w7': 0.7392869474714776, 'w8': 0.230237494863479, 'w9': 0.6459989851761809, 'w10': 0.010070985169070443, 'w11': 0.24961823599304084, 'w12': 0.5603062598307678, 'w13': 0.6676103693855489, 'w14': 0.5989508034472476, 'threshold': 0.35}\n",
      "{'w1': 0.05833543980512218, 'w2': 0.38756775934617443, 'w3': 0.9597305623601456, 'w4': 0.2957079914942279, 'w5': 0.004695201684249972, 'w6': 0.12961291432790606, 'w7': 0.7908861186638729, 'w8': 0.011731107629953247, 'w9': 0.38930720908933425, 'w10': 0.18499737807108718, 'w11': 0.2025014562590384, 'w12': 0.25918270748323796, 'w13': 0.9900761855601501, 'w14': 0.25651827618121825, 'threshold': 0.36}\n"
     ]
    },
    {
     "name": "stderr",
     "output_type": "stream",
     "text": [
      "[I 2023-08-06 00:50:18,940] Trial 13 finished with value: 0.706728994846344 and parameters: {'w1': 0.33543006634292283, 'w2': 0.29378687245060414, 'w3': 0.9978355004760577, 'w4': 0.20349446454657943, 'w5': 0.24144709701070755, 'w6': 0.27788408085001914, 'w7': 0.5442147301560967, 'w8': 0.3625812362947136, 'w9': 0.7350165547264877, 'w10': 0.20564019850933124, 'w11': 0.008232695732178441, 'w12': 0.7399459485810851, 'w13': 0.7889660020566883, 'w14': 0.5844629606535631}. Best is trial 13 with value: 0.706728994846344.\n",
      "[I 2023-08-06 00:50:19,063] Trial 14 finished with value: 0.7069216966629028 and parameters: {'w1': 0.343268420186816, 'w2': 0.02852328900197454, 'w3': 0.6107117564434071, 'w4': 0.399457562336593, 'w5': 0.31862124437008593, 'w6': 0.35780414417331374, 'w7': 0.5203193479073218, 'w8': 0.9984669838921897, 'w9': 0.5216045961796018, 'w10': 0.22908602032565917, 'w11': 0.09631087670128, 'w12': 0.771666893018129, 'w13': 0.4514828926099548, 'w14': 0.7490969718974013}. Best is trial 14 with value: 0.7069216966629028.\n"
     ]
    },
    {
     "name": "stdout",
     "output_type": "stream",
     "text": [
      "{'w1': 0.33543006634292283, 'w2': 0.29378687245060414, 'w3': 0.9978355004760577, 'w4': 0.20349446454657943, 'w5': 0.24144709701070755, 'w6': 0.27788408085001914, 'w7': 0.5442147301560967, 'w8': 0.3625812362947136, 'w9': 0.7350165547264877, 'w10': 0.20564019850933124, 'w11': 0.008232695732178441, 'w12': 0.7399459485810851, 'w13': 0.7889660020566883, 'w14': 0.5844629606535631, 'threshold': 0.33}\n",
      "{'w1': 0.343268420186816, 'w2': 0.02852328900197454, 'w3': 0.6107117564434071, 'w4': 0.399457562336593, 'w5': 0.31862124437008593, 'w6': 0.35780414417331374, 'w7': 0.5203193479073218, 'w8': 0.9984669838921897, 'w9': 0.5216045961796018, 'w10': 0.22908602032565917, 'w11': 0.09631087670128, 'w12': 0.771666893018129, 'w13': 0.4514828926099548, 'w14': 0.7490969718974013, 'threshold': 0.33}\n"
     ]
    },
    {
     "name": "stderr",
     "output_type": "stream",
     "text": [
      "[I 2023-08-06 00:50:19,186] Trial 15 finished with value: 0.7067404985427856 and parameters: {'w1': 0.5931103411603795, 'w2': 0.015272321006168188, 'w3': 0.6645783095758584, 'w4': 0.41128413811951436, 'w5': 0.3474087450602857, 'w6': 0.42778355479732033, 'w7': 0.5088369253208218, 'w8': 0.9739717859272493, 'w9': 0.5440620046252342, 'w10': 0.32583019140264236, 'w11': 0.0182651167008396, 'w12': 0.817025513589208, 'w13': 0.7682233385926422, 'w14': 0.7597876868960229}. Best is trial 14 with value: 0.7069216966629028.\n",
      "[I 2023-08-06 00:50:19,308] Trial 16 finished with value: 0.7066640257835388 and parameters: {'w1': 0.6201493053139173, 'w2': 0.009616284348734053, 'w3': 0.6432167759799299, 'w4': 0.41837610474817644, 'w5': 0.35769332739254245, 'w6': 0.4739688055369628, 'w7': 0.4429008218780296, 'w8': 0.9699756590312585, 'w9': 0.5379409022196993, 'w10': 0.5152906971780051, 'w11': 0.11379975275898291, 'w12': 0.8362042843470237, 'w13': 0.46201098515082606, 'w14': 0.771188550820034}. Best is trial 14 with value: 0.7069216966629028.\n"
     ]
    },
    {
     "name": "stdout",
     "output_type": "stream",
     "text": [
      "{'w1': 0.5931103411603795, 'w2': 0.015272321006168188, 'w3': 0.6645783095758584, 'w4': 0.41128413811951436, 'w5': 0.3474087450602857, 'w6': 0.42778355479732033, 'w7': 0.5088369253208218, 'w8': 0.9739717859272493, 'w9': 0.5440620046252342, 'w10': 0.32583019140264236, 'w11': 0.0182651167008396, 'w12': 0.817025513589208, 'w13': 0.7682233385926422, 'w14': 0.7597876868960229, 'threshold': 0.34}\n",
      "{'w1': 0.6201493053139173, 'w2': 0.009616284348734053, 'w3': 0.6432167759799299, 'w4': 0.41837610474817644, 'w5': 0.35769332739254245, 'w6': 0.4739688055369628, 'w7': 0.4429008218780296, 'w8': 0.9699756590312585, 'w9': 0.5379409022196993, 'w10': 0.5152906971780051, 'w11': 0.11379975275898291, 'w12': 0.8362042843470237, 'w13': 0.46201098515082606, 'w14': 0.771188550820034, 'threshold': 0.34}\n"
     ]
    },
    {
     "name": "stderr",
     "output_type": "stream",
     "text": [
      "[I 2023-08-06 00:50:19,431] Trial 17 finished with value: 0.7065747976303101 and parameters: {'w1': 0.5851544206872653, 'w2': 0.018001873236073284, 'w3': 0.4491846783674489, 'w4': 0.3850548068721799, 'w5': 0.3409661693219229, 'w6': 0.49280374598332866, 'w7': 0.46084782188101825, 'w8': 0.9733952012511214, 'w9': 0.48513265438023306, 'w10': 0.3702362177841853, 'w11': 0.10013703810112207, 'w12': 0.8493314195725988, 'w13': 0.7254553849266271, 'w14': 0.7714987789724597}. Best is trial 14 with value: 0.7069216966629028.\n",
      "[I 2023-08-06 00:50:19,553] Trial 18 finished with value: 0.7067211270332336 and parameters: {'w1': 0.3781181792143814, 'w2': 0.03410754673169935, 'w3': 0.6464954886741615, 'w4': 0.48150142043753696, 'w5': 0.6239095715911744, 'w6': 0.34396804386645247, 'w7': 0.5647443008121726, 'w8': 0.8869863666494971, 'w9': 0.5881755011773152, 'w10': 0.28031330055614323, 'w11': 0.039374787124375005, 'w12': 0.9999253240947523, 'w13': 0.48874638905230516, 'w14': 0.8067403227758828}. Best is trial 14 with value: 0.7069216966629028.\n"
     ]
    },
    {
     "name": "stdout",
     "output_type": "stream",
     "text": [
      "{'w1': 0.5851544206872653, 'w2': 0.018001873236073284, 'w3': 0.4491846783674489, 'w4': 0.3850548068721799, 'w5': 0.3409661693219229, 'w6': 0.49280374598332866, 'w7': 0.46084782188101825, 'w8': 0.9733952012511214, 'w9': 0.48513265438023306, 'w10': 0.3702362177841853, 'w11': 0.10013703810112207, 'w12': 0.8493314195725988, 'w13': 0.7254553849266271, 'w14': 0.7714987789724597, 'threshold': 0.37}\n",
      "{'w1': 0.3781181792143814, 'w2': 0.03410754673169935, 'w3': 0.6464954886741615, 'w4': 0.48150142043753696, 'w5': 0.6239095715911744, 'w6': 0.34396804386645247, 'w7': 0.5647443008121726, 'w8': 0.8869863666494971, 'w9': 0.5881755011773152, 'w10': 0.28031330055614323, 'w11': 0.039374787124375005, 'w12': 0.9999253240947523, 'w13': 0.48874638905230516, 'w14': 0.8067403227758828, 'threshold': 0.33}\n"
     ]
    },
    {
     "name": "stderr",
     "output_type": "stream",
     "text": [
      "[I 2023-08-06 00:50:19,678] Trial 19 finished with value: 0.7061628699302673 and parameters: {'w1': 0.5380805995358304, 'w2': 0.24833669713713624, 'w3': 0.7009838638861279, 'w4': 0.3885800699875521, 'w5': 0.4510185125044384, 'w6': 0.5629997747346941, 'w7': 0.4188090949717341, 'w8': 0.6173180689068078, 'w9': 0.43613035932664207, 'w10': 0.4261762585951012, 'w11': 0.5112744435534131, 'w12': 0.7396214198919456, 'w13': 0.7974415975357885, 'w14': 0.7047976768910027}. Best is trial 14 with value: 0.7069216966629028.\n",
      "[I 2023-08-06 00:50:19,798] Trial 20 finished with value: 0.706112265586853 and parameters: {'w1': 0.6474375797695836, 'w2': 0.10215742256138335, 'w3': 0.5606159043868888, 'w4': 0.11635175777075868, 'w5': 0.29663316156515357, 'w6': 0.9906854209345983, 'w7': 0.6096782334514201, 'w8': 0.8766394495894878, 'w9': 0.3238801367367697, 'w10': 0.5059941206970828, 'w11': 0.007377765516576221, 'w12': 0.8735578354524528, 'w13': 0.5615284085423086, 'w14': 0.869094394061703}. Best is trial 14 with value: 0.7069216966629028.\n"
     ]
    },
    {
     "name": "stdout",
     "output_type": "stream",
     "text": [
      "{'w1': 0.5380805995358304, 'w2': 0.24833669713713624, 'w3': 0.7009838638861279, 'w4': 0.3885800699875521, 'w5': 0.4510185125044384, 'w6': 0.5629997747346941, 'w7': 0.4188090949717341, 'w8': 0.6173180689068078, 'w9': 0.43613035932664207, 'w10': 0.4261762585951012, 'w11': 0.5112744435534131, 'w12': 0.7396214198919456, 'w13': 0.7974415975357885, 'w14': 0.7047976768910027, 'threshold': 0.36}\n",
      "{'w1': 0.6474375797695836, 'w2': 0.10215742256138335, 'w3': 0.5606159043868888, 'w4': 0.11635175777075868, 'w5': 0.29663316156515357, 'w6': 0.9906854209345983, 'w7': 0.6096782334514201, 'w8': 0.8766394495894878, 'w9': 0.3238801367367697, 'w10': 0.5059941206970828, 'w11': 0.007377765516576221, 'w12': 0.8735578354524528, 'w13': 0.5615284085423086, 'w14': 0.869094394061703, 'threshold': 0.34}\n"
     ]
    },
    {
     "name": "stderr",
     "output_type": "stream",
     "text": [
      "[I 2023-08-06 00:50:19,921] Trial 21 finished with value: 0.7068614363670349 and parameters: {'w1': 0.35849554430775377, 'w2': 0.24615463063917248, 'w3': 0.8378790321892726, 'w4': 0.14792229146121116, 'w5': 0.29947971007671015, 'w6': 0.29385061412573144, 'w7': 0.5186162104913699, 'w8': 0.9912097617097341, 'w9': 0.7503602565266794, 'w10': 0.27723145418254425, 'w11': 0.0005041813163063008, 'w12': 0.7327409177920777, 'w13': 0.7861306282265974, 'w14': 0.6617809780573498}. Best is trial 14 with value: 0.7069216966629028.\n",
      "[I 2023-08-06 00:50:20,044] Trial 22 finished with value: 0.7068800330162048 and parameters: {'w1': 0.4905260374765923, 'w2': 0.21459513013252865, 'w3': 0.830235040319197, 'w4': 0.13164344326434663, 'w5': 0.4196959885358786, 'w6': 0.42401925598621937, 'w7': 0.5008257463509511, 'w8': 0.991905024632813, 'w9': 0.6430818872805825, 'w10': 0.2626558763787494, 'w11': 0.1341513718217591, 'w12': 0.8059726385818036, 'w13': 0.6933482305513963, 'w14': 0.6806966289944879}. Best is trial 14 with value: 0.7069216966629028.\n"
     ]
    },
    {
     "name": "stdout",
     "output_type": "stream",
     "text": [
      "{'w1': 0.35849554430775377, 'w2': 0.24615463063917248, 'w3': 0.8378790321892726, 'w4': 0.14792229146121116, 'w5': 0.29947971007671015, 'w6': 0.29385061412573144, 'w7': 0.5186162104913699, 'w8': 0.9912097617097341, 'w9': 0.7503602565266794, 'w10': 0.27723145418254425, 'w11': 0.0005041813163063008, 'w12': 0.7327409177920777, 'w13': 0.7861306282265974, 'w14': 0.6617809780573498, 'threshold': 0.33}\n",
      "{'w1': 0.4905260374765923, 'w2': 0.21459513013252865, 'w3': 0.830235040319197, 'w4': 0.13164344326434663, 'w5': 0.4196959885358786, 'w6': 0.42401925598621937, 'w7': 0.5008257463509511, 'w8': 0.991905024632813, 'w9': 0.6430818872805825, 'w10': 0.2626558763787494, 'w11': 0.1341513718217591, 'w12': 0.8059726385818036, 'w13': 0.6933482305513963, 'w14': 0.6806966289944879, 'threshold': 0.33}\n"
     ]
    },
    {
     "name": "stderr",
     "output_type": "stream",
     "text": [
      "[I 2023-08-06 00:50:20,168] Trial 23 finished with value: 0.7067344188690186 and parameters: {'w1': 0.45524698868737096, 'w2': 0.249478653182246, 'w3': 0.8250180663247263, 'w4': 0.17148946394527848, 'w5': 0.4247408393776994, 'w6': 0.3025817296794164, 'w7': 0.6313026862055591, 'w8': 0.9916387028703554, 'w9': 0.7878007750060512, 'w10': 0.2343814874342645, 'w11': 0.15507619344178564, 'w12': 0.6997948555833093, 'w13': 0.6677442393288309, 'w14': 0.6853916531105968}. Best is trial 14 with value: 0.7069216966629028.\n",
      "[I 2023-08-06 00:50:20,289] Trial 24 finished with value: 0.7069754004478455 and parameters: {'w1': 0.34771528509706773, 'w2': 0.21833718673758976, 'w3': 0.859208965164762, 'w4': 0.10500615327566622, 'w5': 0.27332802612649115, 'w6': 0.3973692991476466, 'w7': 0.3944523508682035, 'w8': 0.9055076090657441, 'w9': 0.6276135890292813, 'w10': 0.1511306952275913, 'w11': 0.1666943529444988, 'w12': 0.5914749046427641, 'w13': 0.8621900540556543, 'w14': 0.5103961522333806}. Best is trial 24 with value: 0.7069754004478455.\n"
     ]
    },
    {
     "name": "stdout",
     "output_type": "stream",
     "text": [
      "{'w1': 0.45524698868737096, 'w2': 0.249478653182246, 'w3': 0.8250180663247263, 'w4': 0.17148946394527848, 'w5': 0.4247408393776994, 'w6': 0.3025817296794164, 'w7': 0.6313026862055591, 'w8': 0.9916387028703554, 'w9': 0.7878007750060512, 'w10': 0.2343814874342645, 'w11': 0.15507619344178564, 'w12': 0.6997948555833093, 'w13': 0.6677442393288309, 'w14': 0.6853916531105968, 'threshold': 0.37}\n",
      "{'w1': 0.34771528509706773, 'w2': 0.21833718673758976, 'w3': 0.859208965164762, 'w4': 0.10500615327566622, 'w5': 0.27332802612649115, 'w6': 0.3973692991476466, 'w7': 0.3944523508682035, 'w8': 0.9055076090657441, 'w9': 0.6276135890292813, 'w10': 0.1511306952275913, 'w11': 0.1666943529444988, 'w12': 0.5914749046427641, 'w13': 0.8621900540556543, 'w14': 0.5103961522333806, 'threshold': 0.33}\n"
     ]
    },
    {
     "name": "stderr",
     "output_type": "stream",
     "text": [
      "[I 2023-08-06 00:50:20,413] Trial 25 finished with value: 0.7066159844398499 and parameters: {'w1': 0.5036381837242666, 'w2': 0.13053187378185324, 'w3': 0.7717464239182691, 'w4': 0.020897537417575288, 'w5': 0.512235127491966, 'w6': 0.41946349574929476, 'w7': 0.4099727412755796, 'w8': 0.7792829388710687, 'w9': 0.6230723389275696, 'w10': 0.12362004126344217, 'w11': 0.1607731037168228, 'w12': 0.6128568825239038, 'w13': 0.8698273941456646, 'w14': 0.4954908891283498}. Best is trial 24 with value: 0.7069754004478455.\n",
      "[I 2023-08-06 00:50:20,535] Trial 26 finished with value: 0.7069046497344971 and parameters: {'w1': 0.2954616160308213, 'w2': 0.08885352676976163, 'w3': 0.8692414954372039, 'w4': 0.1119559659732205, 'w5': 0.4235483395424196, 'w6': 0.5397185207640295, 'w7': 0.3881584418199988, 'w8': 0.8639274219255888, 'w9': 0.5760420556813183, 'w10': 0.09502343017934425, 'w11': 0.314336167836743, 'w12': 0.5097658369828784, 'w13': 0.8694870831098928, 'w14': 0.5236443969673408}. Best is trial 24 with value: 0.7069754004478455.\n"
     ]
    },
    {
     "name": "stdout",
     "output_type": "stream",
     "text": [
      "{'w1': 0.5036381837242666, 'w2': 0.13053187378185324, 'w3': 0.7717464239182691, 'w4': 0.020897537417575288, 'w5': 0.512235127491966, 'w6': 0.41946349574929476, 'w7': 0.4099727412755796, 'w8': 0.7792829388710687, 'w9': 0.6230723389275696, 'w10': 0.12362004126344217, 'w11': 0.1607731037168228, 'w12': 0.6128568825239038, 'w13': 0.8698273941456646, 'w14': 0.4954908891283498, 'threshold': 0.34}\n",
      "{'w1': 0.2954616160308213, 'w2': 0.08885352676976163, 'w3': 0.8692414954372039, 'w4': 0.1119559659732205, 'w5': 0.4235483395424196, 'w6': 0.5397185207640295, 'w7': 0.3881584418199988, 'w8': 0.8639274219255888, 'w9': 0.5760420556813183, 'w10': 0.09502343017934425, 'w11': 0.314336167836743, 'w12': 0.5097658369828784, 'w13': 0.8694870831098928, 'w14': 0.5236443969673408, 'threshold': 0.33}\n"
     ]
    },
    {
     "name": "stderr",
     "output_type": "stream",
     "text": [
      "[I 2023-08-06 00:50:20,657] Trial 27 finished with value: 0.7069936990737915 and parameters: {'w1': 0.2905606590221672, 'w2': 0.0941490574330671, 'w3': 0.8917401309962641, 'w4': 0.32067601279108127, 'w5': 0.1230621931696324, 'w6': 0.5663164152150678, 'w7': 0.37010235145563275, 'w8': 0.8904241999442132, 'w9': 0.4740177291909724, 'w10': 0.12144187075244267, 'w11': 0.3159404051285228, 'w12': 0.5323783264166837, 'w13': 0.8534223195518101, 'w14': 0.4447254063142291}. Best is trial 27 with value: 0.7069936990737915.\n",
      "[I 2023-08-06 00:50:20,781] Trial 28 finished with value: 0.7068790793418884 and parameters: {'w1': 0.393801258046596, 'w2': 0.08178332583291431, 'w3': 0.7386066082378443, 'w4': 0.30806235800368564, 'w5': 0.11375324143039278, 'w6': 0.5586135200772091, 'w7': 0.18578853115597416, 'w8': 0.7259827480314456, 'w9': 0.5010931526982207, 'w10': 0.13258073791624453, 'w11': 0.35921300194577166, 'w12': 0.5602869344264823, 'w13': 0.5517116137075668, 'w14': 0.48313901310951174}. Best is trial 27 with value: 0.7069936990737915.\n"
     ]
    },
    {
     "name": "stdout",
     "output_type": "stream",
     "text": [
      "{'w1': 0.2905606590221672, 'w2': 0.0941490574330671, 'w3': 0.8917401309962641, 'w4': 0.32067601279108127, 'w5': 0.1230621931696324, 'w6': 0.5663164152150678, 'w7': 0.37010235145563275, 'w8': 0.8904241999442132, 'w9': 0.4740177291909724, 'w10': 0.12144187075244267, 'w11': 0.3159404051285228, 'w12': 0.5323783264166837, 'w13': 0.8534223195518101, 'w14': 0.4447254063142291, 'threshold': 0.33}\n",
      "{'w1': 0.393801258046596, 'w2': 0.08178332583291431, 'w3': 0.7386066082378443, 'w4': 0.30806235800368564, 'w5': 0.11375324143039278, 'w6': 0.5586135200772091, 'w7': 0.18578853115597416, 'w8': 0.7259827480314456, 'w9': 0.5010931526982207, 'w10': 0.13258073791624453, 'w11': 0.35921300194577166, 'w12': 0.5602869344264823, 'w13': 0.5517116137075668, 'w14': 0.48313901310951174, 'threshold': 0.34}\n"
     ]
    },
    {
     "name": "stderr",
     "output_type": "stream",
     "text": [
      "[I 2023-08-06 00:50:20,904] Trial 29 finished with value: 0.7067274451255798 and parameters: {'w1': 0.32129438410883887, 'w2': 0.1798015894121055, 'w3': 0.8961986602702494, 'w4': 0.3225052752384963, 'w5': 0.1205666600015654, 'w6': 0.34176866796707556, 'w7': 0.3534552280804625, 'w8': 0.8255980314596935, 'w9': 0.3359122312711058, 'w10': 0.10457498687940425, 'w11': 0.19850804565545044, 'w12': 0.4801422501538355, 'w13': 0.8587809815487687, 'w14': 0.4241804694655251}. Best is trial 27 with value: 0.7069936990737915.\n",
      "[I 2023-08-06 00:50:21,028] Trial 30 finished with value: 0.7070403695106506 and parameters: {'w1': 0.24596620184925652, 'w2': 0.16222788957976153, 'w3': 0.7457870993166201, 'w4': 0.009848968203009165, 'w5': 0.26600231047521816, 'w6': 0.6475177582083129, 'w7': 0.2254604213935794, 'w8': 0.8986726292808309, 'w9': 0.4378915489501558, 'w10': 0.1890135131191688, 'w11': 0.29354543021807467, 'w12': 0.6510346040840982, 'w13': 0.9299747355439589, 'w14': 0.35465233221959264}. Best is trial 30 with value: 0.7070403695106506.\n"
     ]
    },
    {
     "name": "stdout",
     "output_type": "stream",
     "text": [
      "{'w1': 0.32129438410883887, 'w2': 0.1798015894121055, 'w3': 0.8961986602702494, 'w4': 0.3225052752384963, 'w5': 0.1205666600015654, 'w6': 0.34176866796707556, 'w7': 0.3534552280804625, 'w8': 0.8255980314596935, 'w9': 0.3359122312711058, 'w10': 0.10457498687940425, 'w11': 0.19850804565545044, 'w12': 0.4801422501538355, 'w13': 0.8587809815487687, 'w14': 0.4241804694655251, 'threshold': 0.35}\n",
      "{'w1': 0.24596620184925652, 'w2': 0.16222788957976153, 'w3': 0.7457870993166201, 'w4': 0.009848968203009165, 'w5': 0.26600231047521816, 'w6': 0.6475177582083129, 'w7': 0.2254604213935794, 'w8': 0.8986726292808309, 'w9': 0.4378915489501558, 'w10': 0.1890135131191688, 'w11': 0.29354543021807467, 'w12': 0.6510346040840982, 'w13': 0.9299747355439589, 'w14': 0.35465233221959264, 'threshold': 0.35}\n"
     ]
    },
    {
     "name": "stderr",
     "output_type": "stream",
     "text": [
      "[I 2023-08-06 00:50:21,152] Trial 31 finished with value: 0.7068539261817932 and parameters: {'w1': 0.23912281918236056, 'w2': 0.18614616250072627, 'w3': 0.753554008798328, 'w4': 0.05715259846304107, 'w5': 0.2704073311594264, 'w6': 0.6572341210064901, 'w7': 0.2969201550103062, 'w8': 0.8928055547154473, 'w9': 0.47275861664243846, 'w10': 0.17937526558263114, 'w11': 0.31651099658138765, 'w12': 0.6452693223566812, 'w13': 0.9923842490163503, 'w14': 0.5304739852001806}. Best is trial 30 with value: 0.7070403695106506.\n",
      "[I 2023-08-06 00:50:21,277] Trial 32 finished with value: 0.7070044875144958 and parameters: {'w1': 0.33585727248887576, 'w2': 0.08120778054957101, 'w3': 0.877857015590236, 'w4': 0.011155187916605965, 'w5': 0.2506421561210143, 'w6': 0.7451766714019668, 'w7': 0.23180972310715342, 'w8': 0.9123105682066759, 'w9': 0.437361641401593, 'w10': 0.08239454820110678, 'w11': 0.4153266734901124, 'w12': 0.6634882930438778, 'w13': 0.932718290216927, 'w14': 0.3328955289183408}. Best is trial 30 with value: 0.7070403695106506.\n"
     ]
    },
    {
     "name": "stdout",
     "output_type": "stream",
     "text": [
      "{'w1': 0.23912281918236056, 'w2': 0.18614616250072627, 'w3': 0.753554008798328, 'w4': 0.05715259846304107, 'w5': 0.2704073311594264, 'w6': 0.6572341210064901, 'w7': 0.2969201550103062, 'w8': 0.8928055547154473, 'w9': 0.47275861664243846, 'w10': 0.17937526558263114, 'w11': 0.31651099658138765, 'w12': 0.6452693223566812, 'w13': 0.9923842490163503, 'w14': 0.5304739852001806, 'threshold': 0.34}\n",
      "{'w1': 0.33585727248887576, 'w2': 0.08120778054957101, 'w3': 0.877857015590236, 'w4': 0.011155187916605965, 'w5': 0.2506421561210143, 'w6': 0.7451766714019668, 'w7': 0.23180972310715342, 'w8': 0.9123105682066759, 'w9': 0.437361641401593, 'w10': 0.08239454820110678, 'w11': 0.4153266734901124, 'w12': 0.6634882930438778, 'w13': 0.932718290216927, 'w14': 0.3328955289183408, 'threshold': 0.35}\n"
     ]
    },
    {
     "name": "stderr",
     "output_type": "stream",
     "text": [
      "[I 2023-08-06 00:50:21,402] Trial 33 finished with value: 0.7073235511779785 and parameters: {'w1': 0.11563961032834622, 'w2': 0.09090752589757503, 'w3': 0.8784810645101538, 'w4': 0.01366440070353056, 'w5': 0.2140386394034904, 'w6': 0.7528834454749369, 'w7': 0.24703421828876065, 'w8': 0.9197979466735031, 'w9': 0.4351268860780982, 'w10': 0.0714307064966005, 'w11': 0.42024032832744584, 'w12': 0.6363528309082421, 'w13': 0.9151541764368823, 'w14': 0.37943266292692074}. Best is trial 33 with value: 0.7073235511779785.\n",
      "[I 2023-08-06 00:50:21,526] Trial 34 finished with value: 0.7073619365692139 and parameters: {'w1': 0.12169567917540819, 'w2': 0.07508847991615483, 'w3': 0.9344942203382097, 'w4': 0.00035712439985395757, 'w5': 0.22192586395413547, 'w6': 0.7470880489215286, 'w7': 0.2378861340616329, 'w8': 0.8306872532608356, 'w9': 0.42634732852411444, 'w10': 0.07665123636868681, 'w11': 0.42603362126874733, 'w12': 0.689252680221992, 'w13': 0.9164469892483363, 'w14': 0.3254374144742239}. Best is trial 34 with value: 0.7073619365692139.\n"
     ]
    },
    {
     "name": "stdout",
     "output_type": "stream",
     "text": [
      "{'w1': 0.11563961032834622, 'w2': 0.09090752589757503, 'w3': 0.8784810645101538, 'w4': 0.01366440070353056, 'w5': 0.2140386394034904, 'w6': 0.7528834454749369, 'w7': 0.24703421828876065, 'w8': 0.9197979466735031, 'w9': 0.4351268860780982, 'w10': 0.0714307064966005, 'w11': 0.42024032832744584, 'w12': 0.6363528309082421, 'w13': 0.9151541764368823, 'w14': 0.37943266292692074, 'threshold': 0.36}\n",
      "{'w1': 0.12169567917540819, 'w2': 0.07508847991615483, 'w3': 0.9344942203382097, 'w4': 0.00035712439985395757, 'w5': 0.22192586395413547, 'w6': 0.7470880489215286, 'w7': 0.2378861340616329, 'w8': 0.8306872532608356, 'w9': 0.42634732852411444, 'w10': 0.07665123636868681, 'w11': 0.42603362126874733, 'w12': 0.689252680221992, 'w13': 0.9164469892483363, 'w14': 0.3254374144742239, 'threshold': 0.36}\n"
     ]
    },
    {
     "name": "stderr",
     "output_type": "stream",
     "text": [
      "[I 2023-08-06 00:50:21,651] Trial 35 finished with value: 0.7068157196044922 and parameters: {'w1': 0.10403818582281663, 'w2': 0.17039414525128838, 'w3': 0.9450954752909086, 'w4': 0.020471193552128453, 'w5': 0.22421288310141185, 'w6': 0.7714488896192101, 'w7': 0.2459139883332448, 'w8': 0.8176889482099797, 'w9': 0.27117280833672075, 'w10': 0.06993111888247805, 'w11': 0.42551907404560807, 'w12': 0.6635049710981328, 'w13': 0.9286608132067488, 'w14': 0.35115396866978277}. Best is trial 34 with value: 0.7073619365692139.\n",
      "[I 2023-08-06 00:50:21,775] Trial 36 finished with value: 0.7072436809539795 and parameters: {'w1': 0.14161909711150875, 'w2': 0.07536280796147389, 'w3': 0.797991564991147, 'w4': 0.007072926459626732, 'w5': 0.21589900138570126, 'w6': 0.7646428405415471, 'w7': 0.15138888524223204, 'w8': 0.8277022881359264, 'w9': 0.4234295542675911, 'w10': 0.07212589502047968, 'w11': 0.5418326945138019, 'w12': 0.6382203167722676, 'w13': 0.9302611186616289, 'w14': 0.33185021450458796}. Best is trial 34 with value: 0.7073619365692139.\n"
     ]
    },
    {
     "name": "stdout",
     "output_type": "stream",
     "text": [
      "{'w1': 0.10403818582281663, 'w2': 0.17039414525128838, 'w3': 0.9450954752909086, 'w4': 0.020471193552128453, 'w5': 0.22421288310141185, 'w6': 0.7714488896192101, 'w7': 0.2459139883332448, 'w8': 0.8176889482099797, 'w9': 0.27117280833672075, 'w10': 0.06993111888247805, 'w11': 0.42551907404560807, 'w12': 0.6635049710981328, 'w13': 0.9286608132067488, 'w14': 0.35115396866978277, 'threshold': 0.36}\n",
      "{'w1': 0.14161909711150875, 'w2': 0.07536280796147389, 'w3': 0.797991564991147, 'w4': 0.007072926459626732, 'w5': 0.21589900138570126, 'w6': 0.7646428405415471, 'w7': 0.15138888524223204, 'w8': 0.8277022881359264, 'w9': 0.4234295542675911, 'w10': 0.07212589502047968, 'w11': 0.5418326945138019, 'w12': 0.6382203167722676, 'w13': 0.9302611186616289, 'w14': 0.33185021450458796, 'threshold': 0.36}\n"
     ]
    },
    {
     "name": "stderr",
     "output_type": "stream",
     "text": [
      "[I 2023-08-06 00:50:21,900] Trial 37 finished with value: 0.7066706418991089 and parameters: {'w1': 0.12424844436755851, 'w2': 0.13279383530200187, 'w3': 0.9858096283922275, 'w4': 0.07002367538069863, 'w5': 0.19899666257468446, 'w6': 0.8341082657758182, 'w7': 0.1427540041836708, 'w8': 0.8226646919919355, 'w9': 0.3725065204405368, 'w10': 0.008085610595700357, 'w11': 0.5745998890679612, 'w12': 0.6159628854622168, 'w13': 0.9407840265371257, 'w14': 0.2892568494205285}. Best is trial 34 with value: 0.7073619365692139.\n",
      "[I 2023-08-06 00:50:22,024] Trial 38 finished with value: 0.7067553400993347 and parameters: {'w1': 0.0685242133690589, 'w2': 0.2937566543500821, 'w3': 0.7658072739503021, 'w4': 0.00750233817781183, 'w5': 0.0953998919600246, 'w6': 0.716556770233649, 'w7': 0.10815991781539316, 'w8': 0.6906647087496794, 'w9': 0.24641893465570047, 'w10': 0.056219717015797505, 'w11': 0.5988261396488148, 'w12': 0.691911303292144, 'w13': 0.9972764563453755, 'w14': 0.18894859498729497}. Best is trial 34 with value: 0.7073619365692139.\n"
     ]
    },
    {
     "name": "stdout",
     "output_type": "stream",
     "text": [
      "{'w1': 0.12424844436755851, 'w2': 0.13279383530200187, 'w3': 0.9858096283922275, 'w4': 0.07002367538069863, 'w5': 0.19899666257468446, 'w6': 0.8341082657758182, 'w7': 0.1427540041836708, 'w8': 0.8226646919919355, 'w9': 0.3725065204405368, 'w10': 0.008085610595700357, 'w11': 0.5745998890679612, 'w12': 0.6159628854622168, 'w13': 0.9407840265371257, 'w14': 0.2892568494205285, 'threshold': 0.34}\n",
      "{'w1': 0.0685242133690589, 'w2': 0.2937566543500821, 'w3': 0.7658072739503021, 'w4': 0.00750233817781183, 'w5': 0.0953998919600246, 'w6': 0.716556770233649, 'w7': 0.10815991781539316, 'w8': 0.6906647087496794, 'w9': 0.24641893465570047, 'w10': 0.056219717015797505, 'w11': 0.5988261396488148, 'w12': 0.691911303292144, 'w13': 0.9972764563453755, 'w14': 0.18894859498729497, 'threshold': 0.35}\n"
     ]
    },
    {
     "name": "stderr",
     "output_type": "stream",
     "text": [
      "[I 2023-08-06 00:50:22,149] Trial 39 finished with value: 0.7067992687225342 and parameters: {'w1': 0.16884533565065044, 'w2': 0.17113732517696903, 'w3': 0.9303522832152652, 'w4': 0.07949082768350636, 'w5': 0.19437339150164937, 'w6': 0.8318276824749816, 'w7': 0.28500417062140504, 'w8': 0.766581114814821, 'w9': 0.1706628342019612, 'w10': 0.175101528583349, 'w11': 0.46414407463784557, 'w12': 0.787789334610746, 'w13': 0.923705711206993, 'w14': 0.1720722202001328}. Best is trial 34 with value: 0.7073619365692139.\n",
      "[I 2023-08-06 00:50:22,274] Trial 40 finished with value: 0.707374632358551 and parameters: {'w1': 0.015051467181777384, 'w2': 0.05807955037148367, 'w3': 0.8045730027359601, 'w4': 0.16716143202026706, 'w5': 0.3765474172039459, 'w6': 0.648262868342472, 'w7': 0.06385337514324163, 'w8': 0.6362068967549483, 'w9': 0.42452483607483527, 'w10': 0.04420286290056732, 'w11': 0.6910443584802648, 'w12': 0.6299606294116732, 'w13': 0.8212919901451083, 'w14': 0.3750799923851398}. Best is trial 40 with value: 0.707374632358551.\n"
     ]
    },
    {
     "name": "stdout",
     "output_type": "stream",
     "text": [
      "{'w1': 0.16884533565065044, 'w2': 0.17113732517696903, 'w3': 0.9303522832152652, 'w4': 0.07949082768350636, 'w5': 0.19437339150164937, 'w6': 0.8318276824749816, 'w7': 0.28500417062140504, 'w8': 0.766581114814821, 'w9': 0.1706628342019612, 'w10': 0.175101528583349, 'w11': 0.46414407463784557, 'w12': 0.787789334610746, 'w13': 0.923705711206993, 'w14': 0.1720722202001328, 'threshold': 0.33}\n",
      "{'w1': 0.015051467181777384, 'w2': 0.05807955037148367, 'w3': 0.8045730027359601, 'w4': 0.16716143202026706, 'w5': 0.3765474172039459, 'w6': 0.648262868342472, 'w7': 0.06385337514324163, 'w8': 0.6362068967549483, 'w9': 0.42452483607483527, 'w10': 0.04420286290056732, 'w11': 0.6910443584802648, 'w12': 0.6299606294116732, 'w13': 0.8212919901451083, 'w14': 0.3750799923851398, 'threshold': 0.34}\n"
     ]
    },
    {
     "name": "stderr",
     "output_type": "stream",
     "text": [
      "[I 2023-08-06 00:50:22,400] Trial 41 finished with value: 0.7072007060050964 and parameters: {'w1': 0.02046447919609544, 'w2': 0.06360691636840043, 'w3': 0.8014074943212361, 'w4': 0.0629759480226661, 'w5': 0.37967640680932285, 'w6': 0.6878444143740035, 'w7': 0.056189303836268606, 'w8': 0.6453278236484455, 'w9': 0.42821315752902206, 'w10': 0.05312523661440566, 'w11': 0.6775951342595291, 'w12': 0.6293465957097341, 'w13': 0.9082747430821451, 'w14': 0.3928769148285636}. Best is trial 40 with value: 0.707374632358551.\n",
      "[I 2023-08-06 00:50:22,524] Trial 42 finished with value: 0.7069995999336243 and parameters: {'w1': 0.013075716196814077, 'w2': 0.06040196219483308, 'w3': 0.818436262277624, 'w4': 0.06806227860520128, 'w5': 0.3634918644190328, 'w6': 0.6981262821341623, 'w7': 0.024579193710663888, 'w8': 0.6680353471945415, 'w9': 0.3450799249668029, 'w10': 0.056570196136407465, 'w11': 0.6957598608642264, 'w12': 0.5986594099306543, 'w13': 0.8319626953061906, 'w14': 0.42818103629142146}. Best is trial 40 with value: 0.707374632358551.\n"
     ]
    },
    {
     "name": "stdout",
     "output_type": "stream",
     "text": [
      "{'w1': 0.02046447919609544, 'w2': 0.06360691636840043, 'w3': 0.8014074943212361, 'w4': 0.0629759480226661, 'w5': 0.37967640680932285, 'w6': 0.6878444143740035, 'w7': 0.056189303836268606, 'w8': 0.6453278236484455, 'w9': 0.42821315752902206, 'w10': 0.05312523661440566, 'w11': 0.6775951342595291, 'w12': 0.6293465957097341, 'w13': 0.9082747430821451, 'w14': 0.3928769148285636, 'threshold': 0.35}\n",
      "{'w1': 0.013075716196814077, 'w2': 0.06040196219483308, 'w3': 0.818436262277624, 'w4': 0.06806227860520128, 'w5': 0.3634918644190328, 'w6': 0.6981262821341623, 'w7': 0.024579193710663888, 'w8': 0.6680353471945415, 'w9': 0.3450799249668029, 'w10': 0.056570196136407465, 'w11': 0.6957598608642264, 'w12': 0.5986594099306543, 'w13': 0.8319626953061906, 'w14': 0.42818103629142146, 'threshold': 0.35}\n"
     ]
    },
    {
     "name": "stderr",
     "output_type": "stream",
     "text": [
      "[I 2023-08-06 00:50:22,649] Trial 43 finished with value: 0.7074788808822632 and parameters: {'w1': 0.08494995287329248, 'w2': 0.05773485734286623, 'w3': 0.9227380035515421, 'w4': 0.16995673299268688, 'w5': 0.17935988724287946, 'w6': 0.7040089753354632, 'w7': 0.06301847754530825, 'w8': 0.7349552326083559, 'w9': 0.411414695464202, 'w10': 0.01819800707884771, 'w11': 0.6827819286134651, 'w12': 0.7178422845226023, 'w13': 0.886728478853241, 'w14': 0.3776914911611587}. Best is trial 43 with value: 0.7074788808822632.\n",
      "[I 2023-08-06 00:50:22,774] Trial 44 finished with value: 0.7074230313301086 and parameters: {'w1': 0.08864050725272914, 'w2': 0.12672080993832663, 'w3': 0.9249520045179644, 'w4': 0.185777885579461, 'w5': 0.15428295829382785, 'w6': 0.6156944890698888, 'w7': 0.10441709850183932, 'w8': 0.7251289359880023, 'w9': 0.2908971791563256, 'w10': 0.09956862325069307, 'w11': 0.5582456037419322, 'w12': 0.7108486221619836, 'w13': 0.8883142947986221, 'w14': 0.3063390897976378}. Best is trial 43 with value: 0.7074788808822632.\n"
     ]
    },
    {
     "name": "stdout",
     "output_type": "stream",
     "text": [
      "{'w1': 0.08494995287329248, 'w2': 0.05773485734286623, 'w3': 0.9227380035515421, 'w4': 0.16995673299268688, 'w5': 0.17935988724287946, 'w6': 0.7040089753354632, 'w7': 0.06301847754530825, 'w8': 0.7349552326083559, 'w9': 0.411414695464202, 'w10': 0.01819800707884771, 'w11': 0.6827819286134651, 'w12': 0.7178422845226023, 'w13': 0.886728478853241, 'w14': 0.3776914911611587, 'threshold': 0.34}\n",
      "{'w1': 0.08864050725272914, 'w2': 0.12672080993832663, 'w3': 0.9249520045179644, 'w4': 0.185777885579461, 'w5': 0.15428295829382785, 'w6': 0.6156944890698888, 'w7': 0.10441709850183932, 'w8': 0.7251289359880023, 'w9': 0.2908971791563256, 'w10': 0.09956862325069307, 'w11': 0.5582456037419322, 'w12': 0.7108486221619836, 'w13': 0.8883142947986221, 'w14': 0.3063390897976378, 'threshold': 0.33}\n"
     ]
    },
    {
     "name": "stderr",
     "output_type": "stream",
     "text": [
      "[I 2023-08-06 00:50:22,900] Trial 45 finished with value: 0.7074946761131287 and parameters: {'w1': 0.07370578645395624, 'w2': 0.11932373544039798, 'w3': 0.9299351292873567, 'w4': 0.18510778766238217, 'w5': 0.16628359112760183, 'w6': 0.6298516694872325, 'w7': 0.08040361654187142, 'w8': 0.7383703733373427, 'w9': 0.3038132976560206, 'w10': 0.010081440435033229, 'w11': 0.6507237099792759, 'w12': 0.7121298820975162, 'w13': 0.8339182261962674, 'w14': 0.28932957781879703}. Best is trial 45 with value: 0.7074946761131287.\n",
      "[I 2023-08-06 00:50:23,025] Trial 46 finished with value: 0.7075762152671814 and parameters: {'w1': 0.07028373534037015, 'w2': 0.1294372313984723, 'w3': 0.9355396648816653, 'w4': 0.21549350497111458, 'w5': 0.15295761214926756, 'w6': 0.6049289489750663, 'w7': 0.07868485494969833, 'w8': 0.576423142836031, 'w9': 0.298656253031661, 'w10': 0.003771970914156035, 'w11': 0.7338206853264791, 'w12': 0.7146171942827841, 'w13': 0.8372673169170914, 'w14': 0.2895657565778749}. Best is trial 46 with value: 0.7075762152671814.\n"
     ]
    },
    {
     "name": "stdout",
     "output_type": "stream",
     "text": [
      "{'w1': 0.07370578645395624, 'w2': 0.11932373544039798, 'w3': 0.9299351292873567, 'w4': 0.18510778766238217, 'w5': 0.16628359112760183, 'w6': 0.6298516694872325, 'w7': 0.08040361654187142, 'w8': 0.7383703733373427, 'w9': 0.3038132976560206, 'w10': 0.010081440435033229, 'w11': 0.6507237099792759, 'w12': 0.7121298820975162, 'w13': 0.8339182261962674, 'w14': 0.28932957781879703, 'threshold': 0.34}\n",
      "{'w1': 0.07028373534037015, 'w2': 0.1294372313984723, 'w3': 0.9355396648816653, 'w4': 0.21549350497111458, 'w5': 0.15295761214926756, 'w6': 0.6049289489750663, 'w7': 0.07868485494969833, 'w8': 0.576423142836031, 'w9': 0.298656253031661, 'w10': 0.003771970914156035, 'w11': 0.7338206853264791, 'w12': 0.7146171942827841, 'w13': 0.8372673169170914, 'w14': 0.2895657565778749, 'threshold': 0.34}\n"
     ]
    },
    {
     "name": "stderr",
     "output_type": "stream",
     "text": [
      "[I 2023-08-06 00:50:23,150] Trial 47 finished with value: 0.7082192897796631 and parameters: {'w1': 0.0660388436243729, 'w2': 0.0016445312726705574, 'w3': 0.9819761968563574, 'w4': 0.20848426520509322, 'w5': 0.15761528098970623, 'w6': 0.5911403945885186, 'w7': 0.07789999365747713, 'w8': 0.5694295623809643, 'w9': 0.2991810417272466, 'w10': 0.0031330835920966235, 'w11': 0.7633626663296857, 'w12': 0.7352429659518424, 'w13': 0.7389684994307897, 'w14': 0.29107831375109783}. Best is trial 47 with value: 0.7082192897796631.\n",
      "[I 2023-08-06 00:50:23,274] Trial 48 finished with value: 0.707838237285614 and parameters: {'w1': 0.0747176779960891, 'w2': 0.12911135128582524, 'w3': 0.9675644630662619, 'w4': 0.22852930204310515, 'w5': 0.1577828814940457, 'w6': 0.6086182527444539, 'w7': 0.005365863034112114, 'w8': 0.575895247129935, 'w9': 0.2819433645180069, 'w10': 0.02530363152375977, 'w11': 0.7934251085303954, 'w12': 0.7763704438233288, 'w13': 0.7443700598686053, 'w14': 0.2855450942459742}. Best is trial 47 with value: 0.7082192897796631.\n"
     ]
    },
    {
     "name": "stdout",
     "output_type": "stream",
     "text": [
      "{'w1': 0.0660388436243729, 'w2': 0.0016445312726705574, 'w3': 0.9819761968563574, 'w4': 0.20848426520509322, 'w5': 0.15761528098970623, 'w6': 0.5911403945885186, 'w7': 0.07789999365747713, 'w8': 0.5694295623809643, 'w9': 0.2991810417272466, 'w10': 0.0031330835920966235, 'w11': 0.7633626663296857, 'w12': 0.7352429659518424, 'w13': 0.7389684994307897, 'w14': 0.29107831375109783, 'threshold': 0.35}\n",
      "{'w1': 0.0747176779960891, 'w2': 0.12911135128582524, 'w3': 0.9675644630662619, 'w4': 0.22852930204310515, 'w5': 0.1577828814940457, 'w6': 0.6086182527444539, 'w7': 0.005365863034112114, 'w8': 0.575895247129935, 'w9': 0.2819433645180069, 'w10': 0.02530363152375977, 'w11': 0.7934251085303954, 'w12': 0.7763704438233288, 'w13': 0.7443700598686053, 'w14': 0.2855450942459742, 'threshold': 0.34}\n"
     ]
    },
    {
     "name": "stderr",
     "output_type": "stream",
     "text": [
      "[I 2023-08-06 00:50:23,401] Trial 49 finished with value: 0.7080997228622437 and parameters: {'w1': 0.06369793330933693, 'w2': 0.005959414873361858, 'w3': 0.9913634423023999, 'w4': 0.24256252098843772, 'w5': 0.07435401824136349, 'w6': 0.579394355121691, 'w7': 0.019755186945320052, 'w8': 0.5549081470019258, 'w9': 0.2213380421375055, 'w10': 0.011756795459638618, 'w11': 0.7950653804622502, 'w12': 0.7547459351139908, 'w13': 0.7571156576972546, 'w14': 0.2694000498224422}. Best is trial 47 with value: 0.7082192897796631.\n",
      "[I 2023-08-06 00:50:23,526] Trial 50 finished with value: 0.7081419229507446 and parameters: {'w1': 0.1902057258238566, 'w2': 0.020388990377332016, 'w3': 0.998207756352598, 'w4': 0.22133009600256676, 'w5': 0.06448138887925214, 'w6': 0.5994652716609411, 'w7': 0.009709992848386098, 'w8': 0.5300895634914825, 'w9': 0.18413960881814265, 'w10': 0.005286446221988551, 'w11': 0.812200734513606, 'w12': 0.8905031620754964, 'w13': 0.7617477632922719, 'w14': 0.28735221719065795}. Best is trial 47 with value: 0.7082192897796631.\n"
     ]
    },
    {
     "name": "stdout",
     "output_type": "stream",
     "text": [
      "{'w1': 0.06369793330933693, 'w2': 0.005959414873361858, 'w3': 0.9913634423023999, 'w4': 0.24256252098843772, 'w5': 0.07435401824136349, 'w6': 0.579394355121691, 'w7': 0.019755186945320052, 'w8': 0.5549081470019258, 'w9': 0.2213380421375055, 'w10': 0.011756795459638618, 'w11': 0.7950653804622502, 'w12': 0.7547459351139908, 'w13': 0.7571156576972546, 'w14': 0.2694000498224422, 'threshold': 0.33}\n",
      "{'w1': 0.1902057258238566, 'w2': 0.020388990377332016, 'w3': 0.998207756352598, 'w4': 0.22133009600256676, 'w5': 0.06448138887925214, 'w6': 0.5994652716609411, 'w7': 0.009709992848386098, 'w8': 0.5300895634914825, 'w9': 0.18413960881814265, 'w10': 0.005286446221988551, 'w11': 0.812200734513606, 'w12': 0.8905031620754964, 'w13': 0.7617477632922719, 'w14': 0.28735221719065795, 'threshold': 0.34}\n"
     ]
    },
    {
     "name": "stderr",
     "output_type": "stream",
     "text": [
      "[I 2023-08-06 00:50:23,653] Trial 51 finished with value: 0.7082614302635193 and parameters: {'w1': 0.1836459140930099, 'w2': 0.011496027479467874, 'w3': 0.9709338286991278, 'w4': 0.22831207759734423, 'w5': 0.06711756156257431, 'w6': 0.6003071890022387, 'w7': 0.008489547594000807, 'w8': 0.5540115996351275, 'w9': 0.1779460186988758, 'w10': 0.00828239186419269, 'w11': 0.8235344591669289, 'w12': 0.9095199792446685, 'w13': 0.7470429317651807, 'w14': 0.2749509920265103}. Best is trial 51 with value: 0.7082614302635193.\n",
      "[I 2023-08-06 00:50:23,779] Trial 52 finished with value: 0.7083145976066589 and parameters: {'w1': 0.19556237726802228, 'w2': 0.004126738713094942, 'w3': 0.986801542686102, 'w4': 0.2369206601177631, 'w5': 0.06377994512630597, 'w6': 0.608950300739759, 'w7': 0.030328577570105764, 'w8': 0.5575362246102059, 'w9': 0.1972050194858639, 'w10': 0.004204587076536138, 'w11': 0.794248957200054, 'w12': 0.9036201720352949, 'w13': 0.7326568753251957, 'w14': 0.24023126403661393}. Best is trial 52 with value: 0.7083145976066589.\n"
     ]
    },
    {
     "name": "stdout",
     "output_type": "stream",
     "text": [
      "{'w1': 0.1836459140930099, 'w2': 0.011496027479467874, 'w3': 0.9709338286991278, 'w4': 0.22831207759734423, 'w5': 0.06711756156257431, 'w6': 0.6003071890022387, 'w7': 0.008489547594000807, 'w8': 0.5540115996351275, 'w9': 0.1779460186988758, 'w10': 0.00828239186419269, 'w11': 0.8235344591669289, 'w12': 0.9095199792446685, 'w13': 0.7470429317651807, 'w14': 0.2749509920265103, 'threshold': 0.33}\n",
      "{'w1': 0.19556237726802228, 'w2': 0.004126738713094942, 'w3': 0.986801542686102, 'w4': 0.2369206601177631, 'w5': 0.06377994512630597, 'w6': 0.608950300739759, 'w7': 0.030328577570105764, 'w8': 0.5575362246102059, 'w9': 0.1972050194858639, 'w10': 0.004204587076536138, 'w11': 0.794248957200054, 'w12': 0.9036201720352949, 'w13': 0.7326568753251957, 'w14': 0.24023126403661393, 'threshold': 0.35}\n"
     ]
    },
    {
     "name": "stderr",
     "output_type": "stream",
     "text": [
      "[I 2023-08-06 00:50:23,906] Trial 53 finished with value: 0.708357036113739 and parameters: {'w1': 0.21832480073210914, 'w2': 0.019550560852449727, 'w3': 0.9971650708278093, 'w4': 0.2302245933557232, 'w5': 0.07507533398757871, 'w6': 0.5283002971490979, 'w7': 0.0007961034347294671, 'w8': 0.48942276657554573, 'w9': 0.1893588854050592, 'w10': 0.002698508258543359, 'w11': 0.8161198694202418, 'w12': 0.906597378853101, 'w13': 0.7562868032341367, 'w14': 0.21626785187161252}. Best is trial 53 with value: 0.708357036113739.\n",
      "[I 2023-08-06 00:50:24,032] Trial 54 finished with value: 0.708358108997345 and parameters: {'w1': 0.19362697170170318, 'w2': 0.0012958510281839836, 'w3': 0.9789127307960299, 'w4': 0.2509191859784429, 'w5': 0.0520802944056543, 'w6': 0.5137022225277852, 'w7': 0.00040922296968272376, 'w8': 0.5041073208254386, 'w9': 0.14655180470207751, 'w10': 0.14208864712811273, 'w11': 0.874449419422338, 'w12': 0.9060414549891269, 'w13': 0.7223947899144565, 'w14': 0.2262110205547841}. Best is trial 54 with value: 0.708358108997345.\n"
     ]
    },
    {
     "name": "stdout",
     "output_type": "stream",
     "text": [
      "{'w1': 0.21832480073210914, 'w2': 0.019550560852449727, 'w3': 0.9971650708278093, 'w4': 0.2302245933557232, 'w5': 0.07507533398757871, 'w6': 0.5283002971490979, 'w7': 0.0007961034347294671, 'w8': 0.48942276657554573, 'w9': 0.1893588854050592, 'w10': 0.002698508258543359, 'w11': 0.8161198694202418, 'w12': 0.906597378853101, 'w13': 0.7562868032341367, 'w14': 0.21626785187161252, 'threshold': 0.34}\n",
      "{'w1': 0.19362697170170318, 'w2': 0.0012958510281839836, 'w3': 0.9789127307960299, 'w4': 0.2509191859784429, 'w5': 0.0520802944056543, 'w6': 0.5137022225277852, 'w7': 0.00040922296968272376, 'w8': 0.5041073208254386, 'w9': 0.14655180470207751, 'w10': 0.14208864712811273, 'w11': 0.874449419422338, 'w12': 0.9060414549891269, 'w13': 0.7223947899144565, 'w14': 0.2262110205547841, 'threshold': 0.35}\n"
     ]
    },
    {
     "name": "stderr",
     "output_type": "stream",
     "text": [
      "[I 2023-08-06 00:50:24,159] Trial 55 finished with value: 0.7083364129066467 and parameters: {'w1': 0.20421755951486553, 'w2': 0.009518846964491092, 'w3': 0.989557405165062, 'w4': 0.2683507880736365, 'w5': 0.0513347111909902, 'w6': 0.5259696773820545, 'w7': 0.0014361617234486812, 'w8': 0.49375571119819067, 'w9': 0.18902684696042654, 'w10': 0.14104309420989353, 'w11': 0.8960407073355023, 'w12': 0.915883788913054, 'w13': 0.7174853568962293, 'w14': 0.22560207050319764}. Best is trial 54 with value: 0.708358108997345.\n",
      "[I 2023-08-06 00:50:24,284] Trial 56 finished with value: 0.7083607912063599 and parameters: {'w1': 0.2300112989269327, 'w2': 0.005514881440526469, 'w3': 0.9702747489228146, 'w4': 0.2743893930006101, 'w5': 0.031244475159626472, 'w6': 0.5184180373651665, 'w7': 0.04609547259882804, 'w8': 0.47733850110155845, 'w9': 0.12481893353493148, 'w10': 0.1447506558305639, 'w11': 0.9110220230434731, 'w12': 0.9155352513244159, 'w13': 0.6295918877105858, 'w14': 0.21669022837667912}. Best is trial 56 with value: 0.7083607912063599.\n"
     ]
    },
    {
     "name": "stdout",
     "output_type": "stream",
     "text": [
      "{'w1': 0.20421755951486553, 'w2': 0.009518846964491092, 'w3': 0.989557405165062, 'w4': 0.2683507880736365, 'w5': 0.0513347111909902, 'w6': 0.5259696773820545, 'w7': 0.0014361617234486812, 'w8': 0.49375571119819067, 'w9': 0.18902684696042654, 'w10': 0.14104309420989353, 'w11': 0.8960407073355023, 'w12': 0.915883788913054, 'w13': 0.7174853568962293, 'w14': 0.22560207050319764, 'threshold': 0.34}\n",
      "{'w1': 0.2300112989269327, 'w2': 0.005514881440526469, 'w3': 0.9702747489228146, 'w4': 0.2743893930006101, 'w5': 0.031244475159626472, 'w6': 0.5184180373651665, 'w7': 0.04609547259882804, 'w8': 0.47733850110155845, 'w9': 0.12481893353493148, 'w10': 0.1447506558305639, 'w11': 0.9110220230434731, 'w12': 0.9155352513244159, 'w13': 0.6295918877105858, 'w14': 0.21669022837667912, 'threshold': 0.33}\n"
     ]
    },
    {
     "name": "stderr",
     "output_type": "stream",
     "text": [
      "[I 2023-08-06 00:50:24,412] Trial 57 finished with value: 0.7084811329841614 and parameters: {'w1': 0.20530642552109613, 'w2': 0.02995574270798153, 'w3': 0.9516991994823407, 'w4': 0.27234208491560796, 'w5': 0.02590356256120921, 'w6': 0.510671375517135, 'w7': 0.039999153843387814, 'w8': 0.47674400818686913, 'w9': 0.10541342770821632, 'w10': 0.14173679911580248, 'w11': 0.9020283753021763, 'w12': 0.9333258676256032, 'w13': 0.6293450120707995, 'w14': 0.13263809701551993}. Best is trial 57 with value: 0.7084811329841614.\n",
      "[I 2023-08-06 00:50:24,538] Trial 58 finished with value: 0.7085465788841248 and parameters: {'w1': 0.22535520165514147, 'w2': 0.026583620337179835, 'w3': 0.8990140102426969, 'w4': 0.2682681123352222, 'w5': 0.0013733131368021262, 'w6': 0.5124543815189464, 'w7': 0.04437037715768262, 'w8': 0.4720405067463874, 'w9': 0.11621431080408645, 'w10': 0.15354597114902824, 'w11': 0.898920604569676, 'w12': 0.9392615948473075, 'w13': 0.626070216072716, 'w14': 0.10796212858604932}. Best is trial 58 with value: 0.7085465788841248.\n"
     ]
    },
    {
     "name": "stdout",
     "output_type": "stream",
     "text": [
      "{'w1': 0.20530642552109613, 'w2': 0.02995574270798153, 'w3': 0.9516991994823407, 'w4': 0.27234208491560796, 'w5': 0.02590356256120921, 'w6': 0.510671375517135, 'w7': 0.039999153843387814, 'w8': 0.47674400818686913, 'w9': 0.10541342770821632, 'w10': 0.14173679911580248, 'w11': 0.9020283753021763, 'w12': 0.9333258676256032, 'w13': 0.6293450120707995, 'w14': 0.13263809701551993, 'threshold': 0.35}\n",
      "{'w1': 0.22535520165514147, 'w2': 0.026583620337179835, 'w3': 0.8990140102426969, 'w4': 0.2682681123352222, 'w5': 0.0013733131368021262, 'w6': 0.5124543815189464, 'w7': 0.04437037715768262, 'w8': 0.4720405067463874, 'w9': 0.11621431080408645, 'w10': 0.15354597114902824, 'w11': 0.898920604569676, 'w12': 0.9392615948473075, 'w13': 0.626070216072716, 'w14': 0.10796212858604932, 'threshold': 0.33}\n"
     ]
    },
    {
     "name": "stderr",
     "output_type": "stream",
     "text": [
      "[I 2023-08-06 00:50:24,665] Trial 59 finished with value: 0.7084737420082092 and parameters: {'w1': 0.2433918081864681, 'w2': 0.05744070004872944, 'w3': 0.9042089015230197, 'w4': 0.2724777331593852, 'w5': 0.03055133855821031, 'w6': 0.48571307145221554, 'w7': 0.12895616495284867, 'w8': 0.48428857872787157, 'w9': 0.118582591658551, 'w10': 0.15166291163420864, 'w11': 0.9255044377949027, 'w12': 0.9509534038929176, 'w13': 0.6265750033183992, 'w14': 0.10123753746259523}. Best is trial 58 with value: 0.7085465788841248.\n",
      "[I 2023-08-06 00:50:24,791] Trial 60 finished with value: 0.7084649801254272 and parameters: {'w1': 0.24977918147932246, 'w2': 0.04748684095527028, 'w3': 0.8455773579525858, 'w4': 0.35351167430775055, 'w5': 0.010072846494503546, 'w6': 0.4707790206913105, 'w7': 0.13509324273886264, 'w8': 0.4526225691371156, 'w9': 0.11547422277353378, 'w10': 0.23860542234771448, 'w11': 0.9193684536268603, 'w12': 0.9757658473895132, 'w13': 0.6419621774393359, 'w14': 0.07219181894977811}. Best is trial 58 with value: 0.7085465788841248.\n"
     ]
    },
    {
     "name": "stdout",
     "output_type": "stream",
     "text": [
      "{'w1': 0.2433918081864681, 'w2': 0.05744070004872944, 'w3': 0.9042089015230197, 'w4': 0.2724777331593852, 'w5': 0.03055133855821031, 'w6': 0.48571307145221554, 'w7': 0.12895616495284867, 'w8': 0.48428857872787157, 'w9': 0.118582591658551, 'w10': 0.15166291163420864, 'w11': 0.9255044377949027, 'w12': 0.9509534038929176, 'w13': 0.6265750033183992, 'w14': 0.10123753746259523, 'threshold': 0.35}\n",
      "{'w1': 0.24977918147932246, 'w2': 0.04748684095527028, 'w3': 0.8455773579525858, 'w4': 0.35351167430775055, 'w5': 0.010072846494503546, 'w6': 0.4707790206913105, 'w7': 0.13509324273886264, 'w8': 0.4526225691371156, 'w9': 0.11547422277353378, 'w10': 0.23860542234771448, 'w11': 0.9193684536268603, 'w12': 0.9757658473895132, 'w13': 0.6419621774393359, 'w14': 0.07219181894977811, 'threshold': 0.34}\n"
     ]
    },
    {
     "name": "stderr",
     "output_type": "stream",
     "text": [
      "[I 2023-08-06 00:50:24,919] Trial 61 finished with value: 0.7086334824562073 and parameters: {'w1': 0.2320693793394995, 'w2': 0.04079454298483669, 'w3': 0.8541356332869052, 'w4': 0.34622956799214266, 'w5': 0.00481515476132317, 'w6': 0.4557026286822162, 'w7': 0.12580019804985731, 'w8': 0.4710034150709721, 'w9': 0.12378161848311092, 'w10': 0.154360005398192, 'w11': 0.9209558682141571, 'w12': 0.957209637133925, 'w13': 0.6397458252295598, 'w14': 0.10950992766275792}. Best is trial 61 with value: 0.7086334824562073.\n",
      "[I 2023-08-06 00:50:25,044] Trial 62 finished with value: 0.7084681391716003 and parameters: {'w1': 0.2633755780496535, 'w2': 0.04483760944177307, 'w3': 0.8582852932805405, 'w4': 0.3542917705307423, 'w5': 0.01163565646014868, 'w6': 0.4704123354226839, 'w7': 0.11926815848049736, 'w8': 0.4491452033726482, 'w9': 0.11514799728165499, 'w10': 0.2152932164446828, 'w11': 0.9293263285480581, 'w12': 0.9738845972008742, 'w13': 0.6289791985230538, 'w14': 0.09936324072003838}. Best is trial 61 with value: 0.7086334824562073.\n"
     ]
    },
    {
     "name": "stdout",
     "output_type": "stream",
     "text": [
      "{'w1': 0.2320693793394995, 'w2': 0.04079454298483669, 'w3': 0.8541356332869052, 'w4': 0.34622956799214266, 'w5': 0.00481515476132317, 'w6': 0.4557026286822162, 'w7': 0.12580019804985731, 'w8': 0.4710034150709721, 'w9': 0.12378161848311092, 'w10': 0.154360005398192, 'w11': 0.9209558682141571, 'w12': 0.957209637133925, 'w13': 0.6397458252295598, 'w14': 0.10950992766275792, 'threshold': 0.34}\n",
      "{'w1': 0.2633755780496535, 'w2': 0.04483760944177307, 'w3': 0.8582852932805405, 'w4': 0.3542917705307423, 'w5': 0.01163565646014868, 'w6': 0.4704123354226839, 'w7': 0.11926815848049736, 'w8': 0.4491452033726482, 'w9': 0.11514799728165499, 'w10': 0.2152932164446828, 'w11': 0.9293263285480581, 'w12': 0.9738845972008742, 'w13': 0.6289791985230538, 'w14': 0.09936324072003838, 'threshold': 0.34}\n"
     ]
    },
    {
     "name": "stderr",
     "output_type": "stream",
     "text": [
      "[I 2023-08-06 00:50:25,170] Trial 63 finished with value: 0.7083604335784912 and parameters: {'w1': 0.27004111278065945, 'w2': 0.05436981361075973, 'w3': 0.8596078730727803, 'w4': 0.330136286542891, 'w5': 0.0011526667831199054, 'w6': 0.4625008474916886, 'w7': 0.18693875077378155, 'w8': 0.4606971558087452, 'w9': 0.07548365017687762, 'w10': 0.22726724845335827, 'w11': 0.9368938948392673, 'w12': 0.9684581346449789, 'w13': 0.6421133910852916, 'w14': 0.08236506020672557}. Best is trial 61 with value: 0.7086334824562073.\n",
      "[I 2023-08-06 00:50:25,296] Trial 64 finished with value: 0.7082943320274353 and parameters: {'w1': 0.2367167838460667, 'w2': 0.04847585231426261, 'w3': 0.8447256509574455, 'w4': 0.3582001943760405, 'w5': 0.02240481955736332, 'w6': 0.46631893283768777, 'w7': 0.12422449061128527, 'w8': 0.42203922756439055, 'w9': 0.1102635669756671, 'w10': 0.21076941812432137, 'w11': 0.9900570129506788, 'w12': 0.8500225762685412, 'w13': 0.6091457772827364, 'w14': 0.03032297801449514}. Best is trial 61 with value: 0.7086334824562073.\n"
     ]
    },
    {
     "name": "stdout",
     "output_type": "stream",
     "text": [
      "{'w1': 0.27004111278065945, 'w2': 0.05436981361075973, 'w3': 0.8596078730727803, 'w4': 0.330136286542891, 'w5': 0.0011526667831199054, 'w6': 0.4625008474916886, 'w7': 0.18693875077378155, 'w8': 0.4606971558087452, 'w9': 0.07548365017687762, 'w10': 0.22726724845335827, 'w11': 0.9368938948392673, 'w12': 0.9684581346449789, 'w13': 0.6421133910852916, 'w14': 0.08236506020672557, 'threshold': 0.34}\n",
      "{'w1': 0.2367167838460667, 'w2': 0.04847585231426261, 'w3': 0.8447256509574455, 'w4': 0.3582001943760405, 'w5': 0.02240481955736332, 'w6': 0.46631893283768777, 'w7': 0.12422449061128527, 'w8': 0.42203922756439055, 'w9': 0.1102635669756671, 'w10': 0.21076941812432137, 'w11': 0.9900570129506788, 'w12': 0.8500225762685412, 'w13': 0.6091457772827364, 'w14': 0.03032297801449514, 'threshold': 0.34}\n"
     ]
    },
    {
     "name": "stderr",
     "output_type": "stream",
     "text": [
      "[I 2023-08-06 00:50:25,422] Trial 65 finished with value: 0.7081587910652161 and parameters: {'w1': 0.29697723872673876, 'w2': 0.04824270450975452, 'w3': 0.9113258451564596, 'w4': 0.2850960716250169, 'w5': 0.003424135794857789, 'w6': 0.48692767117966484, 'w7': 0.18671272914211956, 'w8': 0.40669678681017757, 'w9': 0.005653190562848659, 'w10': 0.2520060919836979, 'w11': 0.9110173703923571, 'w12': 0.9545035552884954, 'w13': 0.6295028892972635, 'w14': 0.1250092785116227}. Best is trial 61 with value: 0.7086334824562073.\n",
      "[I 2023-08-06 00:50:25,547] Trial 66 finished with value: 0.7084888219833374 and parameters: {'w1': 0.25979147544283904, 'w2': 0.10407655916338805, 'w3': 0.8996864767890075, 'w4': 0.3555620431705052, 'w5': 0.02931055641531411, 'w6': 0.4353218299080718, 'w7': 0.15822222246732912, 'w8': 0.46235044010476645, 'w9': 0.11270850924890985, 'w10': 0.16620205660777781, 'w11': 0.8563821507817014, 'w12': 0.9925823801667959, 'w13': 0.5867769490242288, 'w14': 0.1213823614232932}. Best is trial 61 with value: 0.7086334824562073.\n"
     ]
    },
    {
     "name": "stdout",
     "output_type": "stream",
     "text": [
      "{'w1': 0.29697723872673876, 'w2': 0.04824270450975452, 'w3': 0.9113258451564596, 'w4': 0.2850960716250169, 'w5': 0.003424135794857789, 'w6': 0.48692767117966484, 'w7': 0.18671272914211956, 'w8': 0.40669678681017757, 'w9': 0.005653190562848659, 'w10': 0.2520060919836979, 'w11': 0.9110173703923571, 'w12': 0.9545035552884954, 'w13': 0.6295028892972635, 'w14': 0.1250092785116227, 'threshold': 0.33}\n",
      "{'w1': 0.25979147544283904, 'w2': 0.10407655916338805, 'w3': 0.8996864767890075, 'w4': 0.3555620431705052, 'w5': 0.02931055641531411, 'w6': 0.4353218299080718, 'w7': 0.15822222246732912, 'w8': 0.46235044010476645, 'w9': 0.11270850924890985, 'w10': 0.16620205660777781, 'w11': 0.8563821507817014, 'w12': 0.9925823801667959, 'w13': 0.5867769490242288, 'w14': 0.1213823614232932, 'threshold': 0.33}\n"
     ]
    },
    {
     "name": "stderr",
     "output_type": "stream",
     "text": [
      "[I 2023-08-06 00:50:25,673] Trial 67 finished with value: 0.7084298729896545 and parameters: {'w1': 0.2690844806461551, 'w2': 0.10096475968144804, 'w3': 0.8956683794611607, 'w4': 0.36317593449505686, 'w5': 0.03223262760558724, 'w6': 0.44607654308536676, 'w7': 0.1461414242045333, 'w8': 0.46230786149312264, 'w9': 0.06116228202438944, 'w10': 0.19711715326274987, 'w11': 0.8539862662233461, 'w12': 0.9928794946711494, 'w13': 0.5541076974617606, 'w14': 0.009582535559799946}. Best is trial 61 with value: 0.7086334824562073.\n",
      "[I 2023-08-06 00:50:25,799] Trial 68 finished with value: 0.7079718112945557 and parameters: {'w1': 0.2603458870066088, 'w2': 0.10733280005110554, 'w3': 0.8418777143026014, 'w4': 0.43624919018557906, 'w5': 0.10808619244558335, 'w6': 0.3919916113329156, 'w7': 0.10071842583916056, 'w8': 0.38752431941184934, 'w9': 0.09774771576656585, 'w10': 0.31385111142153793, 'w11': 0.9579813896152332, 'w12': 0.9477819146956075, 'w13': 0.5857010311785797, 'w14': 0.1209542943061547}. Best is trial 61 with value: 0.7086334824562073.\n"
     ]
    },
    {
     "name": "stdout",
     "output_type": "stream",
     "text": [
      "{'w1': 0.2690844806461551, 'w2': 0.10096475968144804, 'w3': 0.8956683794611607, 'w4': 0.36317593449505686, 'w5': 0.03223262760558724, 'w6': 0.44607654308536676, 'w7': 0.1461414242045333, 'w8': 0.46230786149312264, 'w9': 0.06116228202438944, 'w10': 0.19711715326274987, 'w11': 0.8539862662233461, 'w12': 0.9928794946711494, 'w13': 0.5541076974617606, 'w14': 0.009582535559799946, 'threshold': 0.33}\n",
      "{'w1': 0.2603458870066088, 'w2': 0.10733280005110554, 'w3': 0.8418777143026014, 'w4': 0.43624919018557906, 'w5': 0.10808619244558335, 'w6': 0.3919916113329156, 'w7': 0.10071842583916056, 'w8': 0.38752431941184934, 'w9': 0.09774771576656585, 'w10': 0.31385111142153793, 'w11': 0.9579813896152332, 'w12': 0.9477819146956075, 'w13': 0.5857010311785797, 'w14': 0.1209542943061547, 'threshold': 0.33}\n"
     ]
    },
    {
     "name": "stderr",
     "output_type": "stream",
     "text": [
      "[I 2023-08-06 00:50:25,926] Trial 69 finished with value: 0.7085953950881958 and parameters: {'w1': 0.15403969397823086, 'w2': 0.04520721385523028, 'w3': 0.884002450609406, 'w4': 0.3531089328619052, 'w5': 0.0013708954102534133, 'w6': 0.4877274282632128, 'w7': 0.1664043113026313, 'w8': 0.4395856020183245, 'w9': 0.03666068407935165, 'w10': 0.16636002994851762, 'w11': 0.9491963981366076, 'w12': 0.998043048732874, 'w13': 0.6798791668719555, 'w14': 0.05280665215616589}. Best is trial 61 with value: 0.7086334824562073.\n",
      "[I 2023-08-06 00:50:26,053] Trial 70 finished with value: 0.708518922328949 and parameters: {'w1': 0.15342694708939608, 'w2': 0.15319139266324366, 'w3': 0.8873986628414603, 'w4': 0.2997428136472447, 'w5': 0.03862298583842667, 'w6': 0.43122310414623194, 'w7': 0.17996070835498856, 'w8': 0.3626723406277676, 'w9': 0.03916957843173287, 'w10': 0.166036491124055, 'w11': 0.9540037158134455, 'w12': 0.9975949971383105, 'w13': 0.6930694372739025, 'w14': 0.04666017726386653}. Best is trial 61 with value: 0.7086334824562073.\n"
     ]
    },
    {
     "name": "stdout",
     "output_type": "stream",
     "text": [
      "{'w1': 0.15403969397823086, 'w2': 0.04520721385523028, 'w3': 0.884002450609406, 'w4': 0.3531089328619052, 'w5': 0.0013708954102534133, 'w6': 0.4877274282632128, 'w7': 0.1664043113026313, 'w8': 0.4395856020183245, 'w9': 0.03666068407935165, 'w10': 0.16636002994851762, 'w11': 0.9491963981366076, 'w12': 0.998043048732874, 'w13': 0.6798791668719555, 'w14': 0.05280665215616589, 'threshold': 0.35}\n",
      "{'w1': 0.15342694708939608, 'w2': 0.15319139266324366, 'w3': 0.8873986628414603, 'w4': 0.2997428136472447, 'w5': 0.03862298583842667, 'w6': 0.43122310414623194, 'w7': 0.17996070835498856, 'w8': 0.3626723406277676, 'w9': 0.03916957843173287, 'w10': 0.166036491124055, 'w11': 0.9540037158134455, 'w12': 0.9975949971383105, 'w13': 0.6930694372739025, 'w14': 0.04666017726386653, 'threshold': 0.34}\n"
     ]
    },
    {
     "name": "stderr",
     "output_type": "stream",
     "text": [
      "[I 2023-08-06 00:50:26,179] Trial 71 finished with value: 0.7084866166114807 and parameters: {'w1': 0.15020220954300034, 'w2': 0.14362904924504263, 'w3': 0.888570410433733, 'w4': 0.3036357632280657, 'w5': 0.03460109626071068, 'w6': 0.4346668521425064, 'w7': 0.16950675199318443, 'w8': 0.36240208762671, 'w9': 0.02335466519553686, 'w10': 0.16495770800946374, 'w11': 0.9562978127465223, 'w12': 0.9949711512691073, 'w13': 0.6982689538256527, 'w14': 0.04198785532823453}. Best is trial 61 with value: 0.7086334824562073.\n",
      "[I 2023-08-06 00:50:26,305] Trial 72 finished with value: 0.7082507014274597 and parameters: {'w1': 0.14235492162951185, 'w2': 0.15062375850282286, 'w3': 0.8881441148264524, 'w4': 0.2975455431408289, 'w5': 0.09076625870605975, 'w6': 0.4428112859529052, 'w7': 0.19820788756206648, 'w8': 0.3539697999408524, 'w9': 0.017606653878037493, 'w10': 0.16909352107362394, 'w11': 0.9683090139891697, 'w12': 0.9400999281034482, 'w13': 0.6862781245597787, 'w14': 0.04644978765223741}. Best is trial 61 with value: 0.7086334824562073.\n"
     ]
    },
    {
     "name": "stdout",
     "output_type": "stream",
     "text": [
      "{'w1': 0.15020220954300034, 'w2': 0.14362904924504263, 'w3': 0.888570410433733, 'w4': 0.3036357632280657, 'w5': 0.03460109626071068, 'w6': 0.4346668521425064, 'w7': 0.16950675199318443, 'w8': 0.36240208762671, 'w9': 0.02335466519553686, 'w10': 0.16495770800946374, 'w11': 0.9562978127465223, 'w12': 0.9949711512691073, 'w13': 0.6982689538256527, 'w14': 0.04198785532823453, 'threshold': 0.34}\n",
      "{'w1': 0.14235492162951185, 'w2': 0.15062375850282286, 'w3': 0.8881441148264524, 'w4': 0.2975455431408289, 'w5': 0.09076625870605975, 'w6': 0.4428112859529052, 'w7': 0.19820788756206648, 'w8': 0.3539697999408524, 'w9': 0.017606653878037493, 'w10': 0.16909352107362394, 'w11': 0.9683090139891697, 'w12': 0.9400999281034482, 'w13': 0.6862781245597787, 'w14': 0.04644978765223741, 'threshold': 0.33}\n"
     ]
    },
    {
     "name": "stderr",
     "output_type": "stream",
     "text": [
      "[I 2023-08-06 00:50:26,432] Trial 73 finished with value: 0.7086009979248047 and parameters: {'w1': 0.15072516365134975, 'w2': 0.10130179319949101, 'w3': 0.8947415834927201, 'w4': 0.39033046487991296, 'w5': 0.047010378494775726, 'w6': 0.4203906398175866, 'w7': 0.159955787946494, 'w8': 0.3512758149281523, 'w9': 0.03247762213300498, 'w10': 0.16451049115598387, 'w11': 0.8779165171807232, 'w12': 0.9951662957253751, 'w13': 0.6700197491065503, 'w14': 0.030011997550292754}. Best is trial 61 with value: 0.7086334824562073.\n",
      "[I 2023-08-06 00:50:26,557] Trial 74 finished with value: 0.7085116505622864 and parameters: {'w1': 0.15867997191921926, 'w2': 0.14842382810355143, 'w3': 0.787393751225673, 'w4': 0.4039733930012218, 'w5': 0.04447702345397443, 'w6': 0.4175269159713933, 'w7': 0.15708208991898331, 'w8': 0.3439545476720496, 'w9': 0.035929068472861356, 'w10': 0.10940481358992704, 'w11': 0.8768522517892122, 'w12': 0.9979732508283979, 'w13': 0.6801621232318037, 'w14': 0.00593837837098217}. Best is trial 61 with value: 0.7086334824562073.\n"
     ]
    },
    {
     "name": "stdout",
     "output_type": "stream",
     "text": [
      "{'w1': 0.15072516365134975, 'w2': 0.10130179319949101, 'w3': 0.8947415834927201, 'w4': 0.39033046487991296, 'w5': 0.047010378494775726, 'w6': 0.4203906398175866, 'w7': 0.159955787946494, 'w8': 0.3512758149281523, 'w9': 0.03247762213300498, 'w10': 0.16451049115598387, 'w11': 0.8779165171807232, 'w12': 0.9951662957253751, 'w13': 0.6700197491065503, 'w14': 0.030011997550292754, 'threshold': 0.34}\n",
      "{'w1': 0.15867997191921926, 'w2': 0.14842382810355143, 'w3': 0.787393751225673, 'w4': 0.4039733930012218, 'w5': 0.04447702345397443, 'w6': 0.4175269159713933, 'w7': 0.15708208991898331, 'w8': 0.3439545476720496, 'w9': 0.035929068472861356, 'w10': 0.10940481358992704, 'w11': 0.8768522517892122, 'w12': 0.9979732508283979, 'w13': 0.6801621232318037, 'w14': 0.00593837837098217, 'threshold': 0.34}\n"
     ]
    },
    {
     "name": "stderr",
     "output_type": "stream",
     "text": [
      "[I 2023-08-06 00:50:26,683] Trial 75 finished with value: 0.7082401514053345 and parameters: {'w1': 0.15398685744509144, 'w2': 0.19196072790071622, 'w3': 0.7878862576868662, 'w4': 0.4108255317136485, 'w5': 0.1254826004933583, 'w6': 0.4118338566406201, 'w7': 0.2699076109535288, 'w8': 0.3416149591362959, 'w9': 0.026841367120874884, 'w10': 0.10520885581072333, 'w11': 0.9920533989295045, 'w12': 0.9831769869734778, 'w13': 0.6794410310494118, 'w14': 0.0017071018243206837}. Best is trial 61 with value: 0.7086334824562073.\n",
      "[I 2023-08-06 00:50:26,810] Trial 76 finished with value: 0.7082895040512085 and parameters: {'w1': 0.1565330017344626, 'w2': 0.15856398841909028, 'w3': 0.7103858493873099, 'w4': 0.44837137094849744, 'w5': 0.09171687952627808, 'w6': 0.3797298272621741, 'w7': 0.17141372422628062, 'w8': 0.3236360526738696, 'w9': 0.0471929529955491, 'w10': 0.1773636696664941, 'w11': 0.8659613085995654, 'w12': 0.9867878248016106, 'w13': 0.7016118801557909, 'w14': 0.039801941753585965}. Best is trial 61 with value: 0.7086334824562073.\n"
     ]
    },
    {
     "name": "stdout",
     "output_type": "stream",
     "text": [
      "{'w1': 0.15398685744509144, 'w2': 0.19196072790071622, 'w3': 0.7878862576868662, 'w4': 0.4108255317136485, 'w5': 0.1254826004933583, 'w6': 0.4118338566406201, 'w7': 0.2699076109535288, 'w8': 0.3416149591362959, 'w9': 0.026841367120874884, 'w10': 0.10520885581072333, 'w11': 0.9920533989295045, 'w12': 0.9831769869734778, 'w13': 0.6794410310494118, 'w14': 0.0017071018243206837, 'threshold': 0.33}\n",
      "{'w1': 0.1565330017344626, 'w2': 0.15856398841909028, 'w3': 0.7103858493873099, 'w4': 0.44837137094849744, 'w5': 0.09171687952627808, 'w6': 0.3797298272621741, 'w7': 0.17141372422628062, 'w8': 0.3236360526738696, 'w9': 0.0471929529955491, 'w10': 0.1773636696664941, 'w11': 0.8659613085995654, 'w12': 0.9867878248016106, 'w13': 0.7016118801557909, 'w14': 0.039801941753585965, 'threshold': 0.34}\n"
     ]
    },
    {
     "name": "stderr",
     "output_type": "stream",
     "text": [
      "[I 2023-08-06 00:50:26,937] Trial 77 finished with value: 0.7084452509880066 and parameters: {'w1': 0.16082364231588314, 'w2': 0.21607236627450777, 'w3': 0.8703086743225418, 'w4': 0.3918034039932192, 'w5': 0.04783628497027321, 'w6': 0.3595689850857978, 'w7': 0.16428037489000197, 'w8': 0.3812991199932607, 'w9': 0.06920218955256985, 'w10': 0.11175243932596488, 'w11': 0.953687811692558, 'w12': 0.9977035993802982, 'w13': 0.6621209766976764, 'w14': 0.05693184768092446}. Best is trial 61 with value: 0.7086334824562073.\n",
      "[I 2023-08-06 00:50:27,065] Trial 78 finished with value: 0.7083256244659424 and parameters: {'w1': 0.1319286108174677, 'w2': 0.09721272546853761, 'w3': 0.8188354616441955, 'w4': 0.32736226293482956, 'w5': 0.0012071139150497063, 'w6': 0.41625279484624506, 'w7': 0.21980141714856338, 'w8': 0.30925157439128603, 'w9': 0.028396925912304395, 'w10': 0.28199359467240737, 'w11': 0.8604702698465666, 'w12': 0.8675826959792036, 'w13': 0.7091629820635005, 'w14': 0.019474722548637705}. Best is trial 61 with value: 0.7086334824562073.\n"
     ]
    },
    {
     "name": "stdout",
     "output_type": "stream",
     "text": [
      "{'w1': 0.16082364231588314, 'w2': 0.21607236627450777, 'w3': 0.8703086743225418, 'w4': 0.3918034039932192, 'w5': 0.04783628497027321, 'w6': 0.3595689850857978, 'w7': 0.16428037489000197, 'w8': 0.3812991199932607, 'w9': 0.06920218955256985, 'w10': 0.11175243932596488, 'w11': 0.953687811692558, 'w12': 0.9977035993802982, 'w13': 0.6621209766976764, 'w14': 0.05693184768092446, 'threshold': 0.34}\n",
      "{'w1': 0.1319286108174677, 'w2': 0.09721272546853761, 'w3': 0.8188354616441955, 'w4': 0.32736226293482956, 'w5': 0.0012071139150497063, 'w6': 0.41625279484624506, 'w7': 0.21980141714856338, 'w8': 0.30925157439128603, 'w9': 0.028396925912304395, 'w10': 0.28199359467240737, 'w11': 0.8604702698465666, 'w12': 0.8675826959792036, 'w13': 0.7091629820635005, 'w14': 0.019474722548637705, 'threshold': 0.35}\n"
     ]
    },
    {
     "name": "stderr",
     "output_type": "stream",
     "text": [
      "[I 2023-08-06 00:50:27,191] Trial 79 finished with value: 0.7080740928649902 and parameters: {'w1': 0.10485735166178789, 'w2': 0.19348362303181904, 'w3': 0.7735212949094729, 'w4': 0.47911082380145803, 'w5': 0.04595506879481091, 'w6': 0.43768358228344817, 'w7': 0.20827196194131595, 'w8': 0.4330247614747584, 'w9': 0.003260809977850679, 'w10': 0.20512806794061278, 'w11': 0.9667884464297484, 'w12': 0.9568741391085975, 'w13': 0.6677235907717263, 'w14': 0.07252434827692424}. Best is trial 61 with value: 0.7086334824562073.\n",
      "[I 2023-08-06 00:50:27,319] Trial 80 finished with value: 0.7083842158317566 and parameters: {'w1': 0.2202931321655402, 'w2': 0.1544787409365646, 'w3': 0.904756350073094, 'w4': 0.4282385946634041, 'w5': 0.09435006316157317, 'w6': 0.32664894954621015, 'w7': 0.165793378550327, 'w8': 0.29485047749693716, 'w9': 0.08348855399815779, 'w10': 0.12081348627116702, 'w11': 0.8905915510408668, 'w12': 0.9996965405968001, 'w13': 0.587238616559779, 'w14': 0.03782372288322916}. Best is trial 61 with value: 0.7086334824562073.\n"
     ]
    },
    {
     "name": "stdout",
     "output_type": "stream",
     "text": [
      "{'w1': 0.10485735166178789, 'w2': 0.19348362303181904, 'w3': 0.7735212949094729, 'w4': 0.47911082380145803, 'w5': 0.04595506879481091, 'w6': 0.43768358228344817, 'w7': 0.20827196194131595, 'w8': 0.4330247614747584, 'w9': 0.003260809977850679, 'w10': 0.20512806794061278, 'w11': 0.9667884464297484, 'w12': 0.9568741391085975, 'w13': 0.6677235907717263, 'w14': 0.07252434827692424, 'threshold': 0.34}\n",
      "{'w1': 0.2202931321655402, 'w2': 0.1544787409365646, 'w3': 0.904756350073094, 'w4': 0.4282385946634041, 'w5': 0.09435006316157317, 'w6': 0.32664894954621015, 'w7': 0.165793378550327, 'w8': 0.29485047749693716, 'w9': 0.08348855399815779, 'w10': 0.12081348627116702, 'w11': 0.8905915510408668, 'w12': 0.9996965405968001, 'w13': 0.587238616559779, 'w14': 0.03782372288322916, 'threshold': 0.34}\n"
     ]
    },
    {
     "name": "stderr",
     "output_type": "stream",
     "text": [
      "[I 2023-08-06 00:50:27,447] Trial 81 finished with value: 0.7085250020027161 and parameters: {'w1': 0.17208352392903772, 'w2': 0.10792516989667589, 'w3': 0.9398273920899738, 'w4': 0.3015885505766447, 'w5': 0.02897319730730643, 'w6': 0.3896141618368377, 'w7': 0.1014299156375957, 'w8': 0.4086603315601298, 'w9': 0.046310183856438786, 'w10': 0.15766170841707433, 'w11': 0.8440887684653408, 'w12': 0.9424966777953814, 'w13': 0.5362498503876987, 'w14': 0.13489942625770412}. Best is trial 61 with value: 0.7086334824562073.\n",
      "[I 2023-08-06 00:50:27,573] Trial 82 finished with value: 0.7085349559783936 and parameters: {'w1': 0.13490592182026212, 'w2': 0.11083093280836867, 'w3': 0.8772736695496874, 'w4': 0.380932093441258, 'w5': 0.04800463420050255, 'w6': 0.39150812525417367, 'w7': 0.15383051911412124, 'w8': 0.4044466081636092, 'w9': 0.053554679750129036, 'w10': 0.16810071088359127, 'w11': 0.8412200220511169, 'w12': 0.9361274605373158, 'w13': 0.5237614895552363, 'w14': 0.1569019615875616}. Best is trial 61 with value: 0.7086334824562073.\n"
     ]
    },
    {
     "name": "stdout",
     "output_type": "stream",
     "text": [
      "{'w1': 0.17208352392903772, 'w2': 0.10792516989667589, 'w3': 0.9398273920899738, 'w4': 0.3015885505766447, 'w5': 0.02897319730730643, 'w6': 0.3896141618368377, 'w7': 0.1014299156375957, 'w8': 0.4086603315601298, 'w9': 0.046310183856438786, 'w10': 0.15766170841707433, 'w11': 0.8440887684653408, 'w12': 0.9424966777953814, 'w13': 0.5362498503876987, 'w14': 0.13489942625770412, 'threshold': 0.34}\n",
      "{'w1': 0.13490592182026212, 'w2': 0.11083093280836867, 'w3': 0.8772736695496874, 'w4': 0.380932093441258, 'w5': 0.04800463420050255, 'w6': 0.39150812525417367, 'w7': 0.15383051911412124, 'w8': 0.4044466081636092, 'w9': 0.053554679750129036, 'w10': 0.16810071088359127, 'w11': 0.8412200220511169, 'w12': 0.9361274605373158, 'w13': 0.5237614895552363, 'w14': 0.1569019615875616, 'threshold': 0.34}\n"
     ]
    },
    {
     "name": "stderr",
     "output_type": "stream",
     "text": [
      "[I 2023-08-06 00:50:27,701] Trial 83 finished with value: 0.7083033323287964 and parameters: {'w1': 0.17737975427881494, 'w2': 0.09482134085224365, 'w3': 0.9489175527700986, 'w4': 0.38364754640005316, 'w5': 0.13007162866601896, 'w6': 0.38494855189501376, 'w7': 0.10523122328602597, 'w8': 0.4112150309633003, 'w9': 0.05432565892386324, 'w10': 0.19848858224988397, 'w11': 0.8391968654084528, 'w12': 0.9336430690757572, 'w13': 0.5294309279686636, 'w14': 0.15060518755638566}. Best is trial 61 with value: 0.7086334824562073.\n",
      "[I 2023-08-06 00:50:27,829] Trial 84 finished with value: 0.7084036469459534 and parameters: {'w1': 0.17063897104492443, 'w2': 0.11172091786991256, 'w3': 0.8343133604779235, 'w4': 0.33639624434937376, 'w5': 0.07982343547864501, 'w6': 0.4028945655165161, 'w7': 0.20119095759669342, 'w8': 0.39530629717599103, 'w9': 0.04418400019745625, 'w10': 0.09270277483201321, 'w11': 0.8824467517234853, 'w12': 0.8793269960986146, 'w13': 0.5055742086064076, 'w14': 0.0896864078987297}. Best is trial 61 with value: 0.7086334824562073.\n"
     ]
    },
    {
     "name": "stdout",
     "output_type": "stream",
     "text": [
      "{'w1': 0.17737975427881494, 'w2': 0.09482134085224365, 'w3': 0.9489175527700986, 'w4': 0.38364754640005316, 'w5': 0.13007162866601896, 'w6': 0.38494855189501376, 'w7': 0.10523122328602597, 'w8': 0.4112150309633003, 'w9': 0.05432565892386324, 'w10': 0.19848858224988397, 'w11': 0.8391968654084528, 'w12': 0.9336430690757572, 'w13': 0.5294309279686636, 'w14': 0.15060518755638566, 'threshold': 0.33}\n",
      "{'w1': 0.17063897104492443, 'w2': 0.11172091786991256, 'w3': 0.8343133604779235, 'w4': 0.33639624434937376, 'w5': 0.07982343547864501, 'w6': 0.4028945655165161, 'w7': 0.20119095759669342, 'w8': 0.39530629717599103, 'w9': 0.04418400019745625, 'w10': 0.09270277483201321, 'w11': 0.8824467517234853, 'w12': 0.8793269960986146, 'w13': 0.5055742086064076, 'w14': 0.0896864078987297, 'threshold': 0.33}\n"
     ]
    },
    {
     "name": "stderr",
     "output_type": "stream",
     "text": [
      "[I 2023-08-06 00:50:27,958] Trial 85 finished with value: 0.7086369395256042 and parameters: {'w1': 0.11075174537867825, 'w2': 0.08135613983771423, 'w3': 0.8681180335248078, 'w4': 0.410438600880222, 'w5': 0.054620381445247446, 'w6': 0.3687692955934234, 'w7': 0.0874047914884575, 'w8': 0.43901015662582266, 'w9': 0.07665812119842577, 'w10': 0.17237746120447495, 'w11': 0.8409456611631843, 'w12': 0.9343003599728887, 'w13': 0.5726425133622542, 'w14': 0.16209617234060186}. Best is trial 85 with value: 0.7086369395256042.\n",
      "[I 2023-08-06 00:50:28,086] Trial 86 finished with value: 0.7083616852760315 and parameters: {'w1': 0.1225330214629553, 'w2': 0.07758295614137553, 'w3': 0.8687041817939714, 'w4': 0.413726089851629, 'w5': 0.10928708699646537, 'w6': 0.3617943250028976, 'w7': 0.07075053017245143, 'w8': 0.43160060957351026, 'w9': 0.08131534503307225, 'w10': 0.11854275153812506, 'w11': 0.8802361960756259, 'w12': 0.8303564908590637, 'w13': 0.5713259161464951, 'w14': 0.15841573848418045}. Best is trial 85 with value: 0.7086369395256042.\n"
     ]
    },
    {
     "name": "stdout",
     "output_type": "stream",
     "text": [
      "{'w1': 0.11075174537867825, 'w2': 0.08135613983771423, 'w3': 0.8681180335248078, 'w4': 0.410438600880222, 'w5': 0.054620381445247446, 'w6': 0.3687692955934234, 'w7': 0.0874047914884575, 'w8': 0.43901015662582266, 'w9': 0.07665812119842577, 'w10': 0.17237746120447495, 'w11': 0.8409456611631843, 'w12': 0.9343003599728887, 'w13': 0.5726425133622542, 'w14': 0.16209617234060186, 'threshold': 0.34}\n",
      "{'w1': 0.1225330214629553, 'w2': 0.07758295614137553, 'w3': 0.8687041817939714, 'w4': 0.413726089851629, 'w5': 0.10928708699646537, 'w6': 0.3617943250028976, 'w7': 0.07075053017245143, 'w8': 0.43160060957351026, 'w9': 0.08131534503307225, 'w10': 0.11854275153812506, 'w11': 0.8802361960756259, 'w12': 0.8303564908590637, 'w13': 0.5713259161464951, 'w14': 0.15841573848418045, 'threshold': 0.34}\n"
     ]
    },
    {
     "name": "stderr",
     "output_type": "stream",
     "text": [
      "[I 2023-08-06 00:50:28,214] Trial 87 finished with value: 0.7087701559066772 and parameters: {'w1': 0.044918901970299005, 'w2': 0.14330023570135816, 'w3': 0.796288203306721, 'w4': 0.38018213875294693, 'w5': 0.058982829630180506, 'w6': 0.3217384532704499, 'w7': 0.09694971771501693, 'w8': 0.37719581773364314, 'w9': 0.14114141140334313, 'w10': 0.2184632452030023, 'w11': 0.8382057404663144, 'w12': 0.9276158202133553, 'w13': 0.5330118919995683, 'w14': 0.05843862886515829}. Best is trial 87 with value: 0.7087701559066772.\n",
      "[I 2023-08-06 00:50:28,343] Trial 88 finished with value: 0.7086255550384521 and parameters: {'w1': 0.03827815361763838, 'w2': 0.0800636051315771, 'w3': 0.8226546629363136, 'w4': 0.3791578890571242, 'w5': 0.06548477258428974, 'w6': 0.33926296772222, 'w7': 0.08366512094239122, 'w8': 0.3761436881868685, 'w9': 0.14638892045631233, 'w10': 0.2520726253473974, 'w11': 0.9287137515824505, 'w12': 0.8610081489941105, 'w13': 0.5279615768215924, 'w14': 0.06785008649968208}. Best is trial 87 with value: 0.7087701559066772.\n"
     ]
    },
    {
     "name": "stdout",
     "output_type": "stream",
     "text": [
      "{'w1': 0.044918901970299005, 'w2': 0.14330023570135816, 'w3': 0.796288203306721, 'w4': 0.38018213875294693, 'w5': 0.058982829630180506, 'w6': 0.3217384532704499, 'w7': 0.09694971771501693, 'w8': 0.37719581773364314, 'w9': 0.14114141140334313, 'w10': 0.2184632452030023, 'w11': 0.8382057404663144, 'w12': 0.9276158202133553, 'w13': 0.5330118919995683, 'w14': 0.05843862886515829, 'threshold': 0.34}\n",
      "{'w1': 0.03827815361763838, 'w2': 0.0800636051315771, 'w3': 0.8226546629363136, 'w4': 0.3791578890571242, 'w5': 0.06548477258428974, 'w6': 0.33926296772222, 'w7': 0.08366512094239122, 'w8': 0.3761436881868685, 'w9': 0.14638892045631233, 'w10': 0.2520726253473974, 'w11': 0.9287137515824505, 'w12': 0.8610081489941105, 'w13': 0.5279615768215924, 'w14': 0.06785008649968208, 'threshold': 0.33}\n"
     ]
    },
    {
     "name": "stderr",
     "output_type": "stream",
     "text": [
      "[I 2023-08-06 00:50:28,470] Trial 89 finished with value: 0.708299458026886 and parameters: {'w1': 0.03685798019887035, 'w2': 0.03549984525317407, 'w3': 0.818538309613944, 'w4': 0.5197843670798663, 'w5': 0.13672639948124699, 'w6': 0.3241313741672709, 'w7': 0.0966343526791777, 'w8': 0.42604495793166736, 'w9': 0.14729525301291038, 'w10': 0.25093386734102524, 'w11': 0.8398800167726318, 'w12': 0.8706018293974028, 'w13': 0.4929716291487245, 'w14': 0.19176452398191418}. Best is trial 87 with value: 0.7087701559066772.\n",
      "[I 2023-08-06 00:50:28,598] Trial 90 finished with value: 0.7088056802749634 and parameters: {'w1': 0.05343421034361319, 'w2': 0.08291136324694043, 'w3': 0.9184005303546868, 'w4': 0.3817319927148781, 'w5': 0.06955173605225384, 'w6': 0.30817184468009634, 'w7': 0.03930553525072211, 'w8': 0.5161322907324795, 'w9': 0.14384494419321306, 'w10': 0.187095677877525, 'w11': 0.9023030514408336, 'w12': 0.9313752831070073, 'w13': 0.536314799526482, 'w14': 0.09596790720288584}. Best is trial 90 with value: 0.7088056802749634.\n"
     ]
    },
    {
     "name": "stdout",
     "output_type": "stream",
     "text": [
      "{'w1': 0.03685798019887035, 'w2': 0.03549984525317407, 'w3': 0.818538309613944, 'w4': 0.5197843670798663, 'w5': 0.13672639948124699, 'w6': 0.3241313741672709, 'w7': 0.0966343526791777, 'w8': 0.42604495793166736, 'w9': 0.14729525301291038, 'w10': 0.25093386734102524, 'w11': 0.8398800167726318, 'w12': 0.8706018293974028, 'w13': 0.4929716291487245, 'w14': 0.19176452398191418, 'threshold': 0.33}\n",
      "{'w1': 0.05343421034361319, 'w2': 0.08291136324694043, 'w3': 0.9184005303546868, 'w4': 0.3817319927148781, 'w5': 0.06955173605225384, 'w6': 0.30817184468009634, 'w7': 0.03930553525072211, 'w8': 0.5161322907324795, 'w9': 0.14384494419321306, 'w10': 0.187095677877525, 'w11': 0.9023030514408336, 'w12': 0.9313752831070073, 'w13': 0.536314799526482, 'w14': 0.09596790720288584, 'threshold': 0.33}\n"
     ]
    },
    {
     "name": "stderr",
     "output_type": "stream",
     "text": [
      "[I 2023-08-06 00:50:28,726] Trial 91 finished with value: 0.7087047100067139 and parameters: {'w1': 0.036479272427363936, 'w2': 0.08002997883282378, 'w3': 0.9211360419551148, 'w4': 0.381417510865803, 'w5': 0.077190333344453, 'w6': 0.25423532110498226, 'w7': 0.05136602393315171, 'w8': 0.5300719247403906, 'w9': 0.14719332837018737, 'w10': 0.22910266960419395, 'w11': 0.9342107040697352, 'w12': 0.9234159227305, 'w13': 0.5303631778970835, 'w14': 0.07098471207026397}. Best is trial 90 with value: 0.7088056802749634.\n",
      "[I 2023-08-06 00:50:28,856] Trial 92 finished with value: 0.7086446285247803 and parameters: {'w1': 0.04813105481225324, 'w2': 0.07754018676498681, 'w3': 0.854612834705805, 'w4': 0.37802058364984986, 'w5': 0.07454574634209502, 'w6': 0.2553017402241229, 'w7': 0.053030168441731654, 'w8': 0.5236344549035123, 'w9': 0.1480688892386001, 'w10': 0.2317085432604049, 'w11': 0.8967532116664454, 'w12': 0.8521178453389952, 'w13': 0.46143685041848026, 'w14': 0.07547031815074383}. Best is trial 90 with value: 0.7088056802749634.\n"
     ]
    },
    {
     "name": "stdout",
     "output_type": "stream",
     "text": [
      "{'w1': 0.036479272427363936, 'w2': 0.08002997883282378, 'w3': 0.9211360419551148, 'w4': 0.381417510865803, 'w5': 0.077190333344453, 'w6': 0.25423532110498226, 'w7': 0.05136602393315171, 'w8': 0.5300719247403906, 'w9': 0.14719332837018737, 'w10': 0.22910266960419395, 'w11': 0.9342107040697352, 'w12': 0.9234159227305, 'w13': 0.5303631778970835, 'w14': 0.07098471207026397, 'threshold': 0.33}\n",
      "{'w1': 0.04813105481225324, 'w2': 0.07754018676498681, 'w3': 0.854612834705805, 'w4': 0.37802058364984986, 'w5': 0.07454574634209502, 'w6': 0.2553017402241229, 'w7': 0.053030168441731654, 'w8': 0.5236344549035123, 'w9': 0.1480688892386001, 'w10': 0.2317085432604049, 'w11': 0.8967532116664454, 'w12': 0.8521178453389952, 'w13': 0.46143685041848026, 'w14': 0.07547031815074383, 'threshold': 0.34}\n"
     ]
    },
    {
     "name": "stderr",
     "output_type": "stream",
     "text": [
      "[I 2023-08-06 00:50:28,984] Trial 93 finished with value: 0.7084410786628723 and parameters: {'w1': 0.04262012468030534, 'w2': 0.07464587002861306, 'w3': 0.9163712807739056, 'w4': 0.4559196256065569, 'w5': 0.08675218627786063, 'w6': 0.2547747364119263, 'w7': 0.05329963981919733, 'w8': 0.52717352612188, 'w9': 0.14707463523589784, 'w10': 0.2713315889393837, 'w11': 0.9353352520786951, 'w12': 0.8511723224237806, 'w13': 0.48534725500100556, 'w14': 0.068395214543768}. Best is trial 90 with value: 0.7088056802749634.\n",
      "[I 2023-08-06 00:50:29,112] Trial 94 finished with value: 0.7087303996086121 and parameters: {'w1': 0.040935317119618085, 'w2': 0.03159319515800112, 'w3': 0.8555827871468604, 'w4': 0.37108327651142353, 'w5': 0.07628204994138738, 'w6': 0.2822939973099737, 'w7': 0.037103518636800475, 'w8': 0.5074294359003213, 'w9': 0.22341104070591333, 'w10': 0.2253492642916899, 'w11': 0.8991050255158384, 'w12': 0.8126538011083435, 'w13': 0.416622249249769, 'w14': 0.08716294805840605}. Best is trial 90 with value: 0.7088056802749634.\n"
     ]
    },
    {
     "name": "stdout",
     "output_type": "stream",
     "text": [
      "{'w1': 0.04262012468030534, 'w2': 0.07464587002861306, 'w3': 0.9163712807739056, 'w4': 0.4559196256065569, 'w5': 0.08675218627786063, 'w6': 0.2547747364119263, 'w7': 0.05329963981919733, 'w8': 0.52717352612188, 'w9': 0.14707463523589784, 'w10': 0.2713315889393837, 'w11': 0.9353352520786951, 'w12': 0.8511723224237806, 'w13': 0.48534725500100556, 'w14': 0.068395214543768, 'threshold': 0.34}\n",
      "{'w1': 0.040935317119618085, 'w2': 0.03159319515800112, 'w3': 0.8555827871468604, 'w4': 0.37108327651142353, 'w5': 0.07628204994138738, 'w6': 0.2822939973099737, 'w7': 0.037103518636800475, 'w8': 0.5074294359003213, 'w9': 0.22341104070591333, 'w10': 0.2253492642916899, 'w11': 0.8991050255158384, 'w12': 0.8126538011083435, 'w13': 0.416622249249769, 'w14': 0.08716294805840605, 'threshold': 0.33}\n"
     ]
    },
    {
     "name": "stderr",
     "output_type": "stream",
     "text": [
      "[I 2023-08-06 00:50:29,240] Trial 95 finished with value: 0.7086446285247803 and parameters: {'w1': 0.002141911458351395, 'w2': 0.07396884814108276, 'w3': 0.8097660712737953, 'w4': 0.37564606582001936, 'w5': 0.07365948754529819, 'w6': 0.27279035556883524, 'w7': 0.08556732578017924, 'w8': 0.5136450937787285, 'w9': 0.22000085704702427, 'w10': 0.22113486146682917, 'w11': 0.9193686888868184, 'w12': 0.8163705716105838, 'w13': 0.4557073077344881, 'w14': 0.08155257975172356}. Best is trial 90 with value: 0.7088056802749634.\n",
      "[I 2023-08-06 00:50:29,369] Trial 96 finished with value: 0.7082354426383972 and parameters: {'w1': 0.04160919177450395, 'w2': 0.1309059779756187, 'w3': 0.8061318595060333, 'w4': 0.4236711052016483, 'w5': 0.1428819537417179, 'w6': 0.2742568618448485, 'w7': 0.03207520459977143, 'w8': 0.5157195037189676, 'w9': 0.21674922073220423, 'w10': 0.23563323503083086, 'w11': 0.9140660307014223, 'w12': 0.8161682272904512, 'w13': 0.4459688888270256, 'w14': 0.09162072307197458}. Best is trial 90 with value: 0.7088056802749634.\n"
     ]
    },
    {
     "name": "stdout",
     "output_type": "stream",
     "text": [
      "{'w1': 0.002141911458351395, 'w2': 0.07396884814108276, 'w3': 0.8097660712737953, 'w4': 0.37564606582001936, 'w5': 0.07365948754529819, 'w6': 0.27279035556883524, 'w7': 0.08556732578017924, 'w8': 0.5136450937787285, 'w9': 0.22000085704702427, 'w10': 0.22113486146682917, 'w11': 0.9193686888868184, 'w12': 0.8163705716105838, 'w13': 0.4557073077344881, 'w14': 0.08155257975172356, 'threshold': 0.33}\n",
      "{'w1': 0.04160919177450395, 'w2': 0.1309059779756187, 'w3': 0.8061318595060333, 'w4': 0.4236711052016483, 'w5': 0.1428819537417179, 'w6': 0.2742568618448485, 'w7': 0.03207520459977143, 'w8': 0.5157195037189676, 'w9': 0.21674922073220423, 'w10': 0.23563323503083086, 'w11': 0.9140660307014223, 'w12': 0.8161682272904512, 'w13': 0.4459688888270256, 'w14': 0.09162072307197458, 'threshold': 0.34}\n"
     ]
    },
    {
     "name": "stderr",
     "output_type": "stream",
     "text": [
      "[I 2023-08-06 00:50:29,498] Trial 97 finished with value: 0.7086489796638489 and parameters: {'w1': 0.0012233297714590446, 'w2': 0.07617956752022394, 'w3': 0.7383686375219074, 'w4': 0.37361917023706637, 'w5': 0.12410952817065193, 'w6': 0.21824860793275302, 'w7': 0.0802705110157432, 'w8': 0.512007963520954, 'w9': 0.1583371293819122, 'w10': 0.22064503077424105, 'w11': 0.984642549124022, 'w12': 0.8872121533118273, 'w13': 0.432519764836869, 'w14': 0.07706148495963738}. Best is trial 90 with value: 0.7088056802749634.\n",
      "[I 2023-08-06 00:50:29,626] Trial 98 finished with value: 0.7084519267082214 and parameters: {'w1': 0.0064036788106699265, 'w2': 0.06870521283827292, 'w3': 0.7393809460748512, 'w4': 0.3754251625521393, 'w5': 0.11378045548430232, 'w6': 0.2253948292286687, 'w7': 0.08183717986345349, 'w8': 0.5335206435089643, 'w9': 0.2387225249385496, 'w10': 0.29370444821086483, 'w11': 0.9988998841547151, 'w12': 0.7941371259962404, 'w13': 0.4369913280809696, 'w14': 0.07492145698055143}. Best is trial 90 with value: 0.7088056802749634.\n"
     ]
    },
    {
     "name": "stdout",
     "output_type": "stream",
     "text": [
      "{'w1': 0.0012233297714590446, 'w2': 0.07617956752022394, 'w3': 0.7383686375219074, 'w4': 0.37361917023706637, 'w5': 0.12410952817065193, 'w6': 0.21824860793275302, 'w7': 0.0802705110157432, 'w8': 0.512007963520954, 'w9': 0.1583371293819122, 'w10': 0.22064503077424105, 'w11': 0.984642549124022, 'w12': 0.8872121533118273, 'w13': 0.432519764836869, 'w14': 0.07706148495963738, 'threshold': 0.33}\n",
      "{'w1': 0.0064036788106699265, 'w2': 0.06870521283827292, 'w3': 0.7393809460748512, 'w4': 0.3754251625521393, 'w5': 0.11378045548430232, 'w6': 0.2253948292286687, 'w7': 0.08183717986345349, 'w8': 0.5335206435089643, 'w9': 0.2387225249385496, 'w10': 0.29370444821086483, 'w11': 0.9988998841547151, 'w12': 0.7941371259962404, 'w13': 0.4369913280809696, 'w14': 0.07492145698055143, 'threshold': 0.33}\n"
     ]
    },
    {
     "name": "stderr",
     "output_type": "stream",
     "text": [
      "[I 2023-08-06 00:50:29,754] Trial 99 finished with value: 0.7085866928100586 and parameters: {'w1': 0.0005965817331100645, 'w2': 0.08079906036932018, 'w3': 0.7640940098170925, 'w4': 0.3321415422321775, 'w5': 0.06687906208868882, 'w6': 0.2904192569836144, 'w7': 0.05705162782120883, 'w8': 0.511814066848975, 'w9': 0.15577457872361522, 'w10': 0.2583873952906053, 'w11': 0.9785499747143964, 'w12': 0.8376685116500046, 'w13': 0.4240364759023847, 'w14': 0.10909589161663594}. Best is trial 90 with value: 0.7088056802749634.\n",
      "[I 2023-08-06 00:50:29,882] Trial 100 finished with value: 0.7085261344909668 and parameters: {'w1': 0.03976981014701852, 'w2': 0.07721969725294307, 'w3': 0.8354716007352454, 'w4': 0.43957125150158205, 'w5': 0.18296768245953576, 'w6': 0.18544037081090942, 'w7': 0.030362950121037645, 'w8': 0.5871654084855049, 'w9': 0.20536769522864834, 'w10': 0.21818632224770276, 'w11': 0.9373106945030851, 'w12': 0.8786266450977799, 'w13': 0.40119302146941477, 'w14': 0.08907980711451215}. Best is trial 90 with value: 0.7088056802749634.\n"
     ]
    },
    {
     "name": "stdout",
     "output_type": "stream",
     "text": [
      "{'w1': 0.0005965817331100645, 'w2': 0.08079906036932018, 'w3': 0.7640940098170925, 'w4': 0.3321415422321775, 'w5': 0.06687906208868882, 'w6': 0.2904192569836144, 'w7': 0.05705162782120883, 'w8': 0.511814066848975, 'w9': 0.15577457872361522, 'w10': 0.2583873952906053, 'w11': 0.9785499747143964, 'w12': 0.8376685116500046, 'w13': 0.4240364759023847, 'w14': 0.10909589161663594, 'threshold': 0.33}\n",
      "{'w1': 0.03976981014701852, 'w2': 0.07721969725294307, 'w3': 0.8354716007352454, 'w4': 0.43957125150158205, 'w5': 0.18296768245953576, 'w6': 0.18544037081090942, 'w7': 0.030362950121037645, 'w8': 0.5871654084855049, 'w9': 0.20536769522864834, 'w10': 0.21818632224770276, 'w11': 0.9373106945030851, 'w12': 0.8786266450977799, 'w13': 0.40119302146941477, 'w14': 0.08907980711451215, 'threshold': 0.34}\n"
     ]
    },
    {
     "name": "stderr",
     "output_type": "stream",
     "text": [
      "[I 2023-08-06 00:50:30,011] Trial 101 finished with value: 0.708577036857605 and parameters: {'w1': 0.09479650376962895, 'w2': 0.1245215859016171, 'w3': 0.8545171820081917, 'w4': 0.40529198894873686, 'w5': 0.10341477045675022, 'w6': 0.22040323273946566, 'w7': 0.08755554459698962, 'w8': 0.49634126908096, 'w9': 0.16408243602284198, 'w10': 0.19025910010054997, 'w11': 0.9014874077224672, 'w12': 0.8918737521925076, 'w13': 0.47438287326524486, 'w14': 0.024496335157584384}. Best is trial 90 with value: 0.7088056802749634.\n",
      "[I 2023-08-06 00:50:30,140] Trial 102 finished with value: 0.7084686160087585 and parameters: {'w1': 0.02672462354329528, 'w2': 0.09036491620781857, 'w3': 0.7955563543192419, 'w4': 0.377974704995999, 'w5': 0.07172387706070478, 'w6': 0.3078278018823431, 'w7': 0.06423846965791813, 'w8': 0.5300061479430026, 'w9': 0.14520757135397136, 'w10': 0.2317533157357407, 'w11': 0.9727852774026131, 'w12': 0.8122635029506924, 'w13': 0.5089545891373952, 'w14': 0.055432172077678296}. Best is trial 90 with value: 0.7088056802749634.\n"
     ]
    },
    {
     "name": "stdout",
     "output_type": "stream",
     "text": [
      "{'w1': 0.09479650376962895, 'w2': 0.1245215859016171, 'w3': 0.8545171820081917, 'w4': 0.40529198894873686, 'w5': 0.10341477045675022, 'w6': 0.22040323273946566, 'w7': 0.08755554459698962, 'w8': 0.49634126908096, 'w9': 0.16408243602284198, 'w10': 0.19025910010054997, 'w11': 0.9014874077224672, 'w12': 0.8918737521925076, 'w13': 0.47438287326524486, 'w14': 0.024496335157584384, 'threshold': 0.34}\n",
      "{'w1': 0.02672462354329528, 'w2': 0.09036491620781857, 'w3': 0.7955563543192419, 'w4': 0.377974704995999, 'w5': 0.07172387706070478, 'w6': 0.3078278018823431, 'w7': 0.06423846965791813, 'w8': 0.5300061479430026, 'w9': 0.14520757135397136, 'w10': 0.2317533157357407, 'w11': 0.9727852774026131, 'w12': 0.8122635029506924, 'w13': 0.5089545891373952, 'w14': 0.055432172077678296, 'threshold': 0.34}\n"
     ]
    },
    {
     "name": "stderr",
     "output_type": "stream",
     "text": [
      "[I 2023-08-06 00:50:30,269] Trial 103 finished with value: 0.7087171077728271 and parameters: {'w1': 0.054767735973705746, 'w2': 0.0657331116800597, 'w3': 0.8265804867241022, 'w4': 0.3967749720437086, 'w5': 0.13609750098675466, 'w6': 0.26481289484930026, 'w7': 0.1285154794385803, 'w8': 0.5026644299416397, 'w9': 0.16649287100320548, 'w10': 0.2134757596885707, 'w11': 0.9225458733655213, 'w12': 0.8941322356591499, 'w13': 0.45703149489438505, 'w14': 0.1097639696631623}. Best is trial 90 with value: 0.7088056802749634.\n",
      "[I 2023-08-06 00:50:30,398] Trial 104 finished with value: 0.7085239291191101 and parameters: {'w1': 0.047211637867458245, 'w2': 0.03076949240470428, 'w3': 0.8241879816341418, 'w4': 0.4733717229601343, 'w5': 0.13174378966058276, 'w6': 0.26661788980763157, 'w7': 0.12474548567844124, 'w8': 0.5030447077604503, 'w9': 0.24851255904264147, 'w10': 0.2967732525944409, 'w11': 0.9231492080874238, 'w12': 0.8609602967844029, 'w13': 0.46551783120141693, 'w14': 0.13421022700363078}. Best is trial 90 with value: 0.7088056802749634.\n"
     ]
    },
    {
     "name": "stdout",
     "output_type": "stream",
     "text": [
      "{'w1': 0.054767735973705746, 'w2': 0.0657331116800597, 'w3': 0.8265804867241022, 'w4': 0.3967749720437086, 'w5': 0.13609750098675466, 'w6': 0.26481289484930026, 'w7': 0.1285154794385803, 'w8': 0.5026644299416397, 'w9': 0.16649287100320548, 'w10': 0.2134757596885707, 'w11': 0.9225458733655213, 'w12': 0.8941322356591499, 'w13': 0.45703149489438505, 'w14': 0.1097639696631623, 'threshold': 0.33}\n",
      "{'w1': 0.047211637867458245, 'w2': 0.03076949240470428, 'w3': 0.8241879816341418, 'w4': 0.4733717229601343, 'w5': 0.13174378966058276, 'w6': 0.26661788980763157, 'w7': 0.12474548567844124, 'w8': 0.5030447077604503, 'w9': 0.24851255904264147, 'w10': 0.2967732525944409, 'w11': 0.9231492080874238, 'w12': 0.8609602967844029, 'w13': 0.46551783120141693, 'w14': 0.13421022700363078, 'threshold': 0.33}\n"
     ]
    },
    {
     "name": "stderr",
     "output_type": "stream",
     "text": [
      "[W 2023-08-06 00:50:30,513] Trial 105 failed with parameters: {'w1': 0.057939296261058607, 'w2': 0.03899101317102122, 'w3': 0.7710923187971663, 'w4': 0.3408263867786405, 'w5': 0.0797882141702656, 'w6': 0.2588073974545686, 'w7': 0.08170499168291678, 'w8': 0.592748451450337, 'w9': 0.17560452538845325, 'w10': 0.25956200865738227, 'w11': 0.9397620930468926, 'w12': 0.8915036107518929, 'w13': 0.46049588392217744, 'w14': 0.11004003485238993} because of the following error: KeyboardInterrupt().\n",
      "Traceback (most recent call last):\n",
      "  File \"/home/rohits/anaconda3/envs/contrail/lib/python3.10/site-packages/optuna/study/_optimize.py\", line 200, in _run_trial\n",
      "    value_or_values = func(trial)\n",
      "  File \"/tmp/ipykernel_3368091/798499834.py\", line 8, in objective\n",
      "    score, best_threshold  = boost_dice(params, TH=TH)\n",
      "  File \"/tmp/ipykernel_3368091/3617302815.py\", line 40, in boost_dice\n",
      "    preds1 = ((preds)>threshold).double()\n",
      "KeyboardInterrupt\n",
      "[W 2023-08-06 00:50:30,514] Trial 105 failed with value None.\n"
     ]
    },
    {
     "ename": "KeyboardInterrupt",
     "evalue": "",
     "output_type": "error",
     "traceback": [
      "\u001b[0;31m---------------------------------------------------------------------------\u001b[0m",
      "\u001b[0;31mKeyboardInterrupt\u001b[0m                         Traceback (most recent call last)",
      "Cell \u001b[0;32mIn[178], line 2\u001b[0m\n\u001b[1;32m      1\u001b[0m study \u001b[38;5;241m=\u001b[39m optuna\u001b[38;5;241m.\u001b[39mcreate_study(direction\u001b[38;5;241m=\u001b[39m\u001b[38;5;124m'\u001b[39m\u001b[38;5;124mmaximize\u001b[39m\u001b[38;5;124m'\u001b[39m)\n\u001b[0;32m----> 2\u001b[0m \u001b[43mstudy\u001b[49m\u001b[38;5;241;43m.\u001b[39;49m\u001b[43moptimize\u001b[49m\u001b[43m(\u001b[49m\u001b[43mobjective\u001b[49m\u001b[43m,\u001b[49m\u001b[43m \u001b[49m\u001b[43mn_trials\u001b[49m\u001b[38;5;241;43m=\u001b[39;49m\u001b[38;5;241;43m500\u001b[39;49m\u001b[43m)\u001b[49m\n\u001b[1;32m      3\u001b[0m best_params \u001b[38;5;241m=\u001b[39m study\u001b[38;5;241m.\u001b[39mbest_params\n",
      "File \u001b[0;32m~/anaconda3/envs/contrail/lib/python3.10/site-packages/optuna/study/study.py:443\u001b[0m, in \u001b[0;36mStudy.optimize\u001b[0;34m(self, func, n_trials, timeout, n_jobs, catch, callbacks, gc_after_trial, show_progress_bar)\u001b[0m\n\u001b[1;32m    339\u001b[0m \u001b[38;5;28;01mdef\u001b[39;00m \u001b[38;5;21moptimize\u001b[39m(\n\u001b[1;32m    340\u001b[0m     \u001b[38;5;28mself\u001b[39m,\n\u001b[1;32m    341\u001b[0m     func: ObjectiveFuncType,\n\u001b[0;32m   (...)\u001b[0m\n\u001b[1;32m    348\u001b[0m     show_progress_bar: \u001b[38;5;28mbool\u001b[39m \u001b[38;5;241m=\u001b[39m \u001b[38;5;28;01mFalse\u001b[39;00m,\n\u001b[1;32m    349\u001b[0m ) \u001b[38;5;241m-\u001b[39m\u001b[38;5;241m>\u001b[39m \u001b[38;5;28;01mNone\u001b[39;00m:\n\u001b[1;32m    350\u001b[0m \u001b[38;5;250m    \u001b[39m\u001b[38;5;124;03m\"\"\"Optimize an objective function.\u001b[39;00m\n\u001b[1;32m    351\u001b[0m \n\u001b[1;32m    352\u001b[0m \u001b[38;5;124;03m    Optimization is done by choosing a suitable set of hyperparameter values from a given\u001b[39;00m\n\u001b[0;32m   (...)\u001b[0m\n\u001b[1;32m    440\u001b[0m \u001b[38;5;124;03m            If nested invocation of this method occurs.\u001b[39;00m\n\u001b[1;32m    441\u001b[0m \u001b[38;5;124;03m    \"\"\"\u001b[39;00m\n\u001b[0;32m--> 443\u001b[0m     \u001b[43m_optimize\u001b[49m\u001b[43m(\u001b[49m\n\u001b[1;32m    444\u001b[0m \u001b[43m        \u001b[49m\u001b[43mstudy\u001b[49m\u001b[38;5;241;43m=\u001b[39;49m\u001b[38;5;28;43mself\u001b[39;49m\u001b[43m,\u001b[49m\n\u001b[1;32m    445\u001b[0m \u001b[43m        \u001b[49m\u001b[43mfunc\u001b[49m\u001b[38;5;241;43m=\u001b[39;49m\u001b[43mfunc\u001b[49m\u001b[43m,\u001b[49m\n\u001b[1;32m    446\u001b[0m \u001b[43m        \u001b[49m\u001b[43mn_trials\u001b[49m\u001b[38;5;241;43m=\u001b[39;49m\u001b[43mn_trials\u001b[49m\u001b[43m,\u001b[49m\n\u001b[1;32m    447\u001b[0m \u001b[43m        \u001b[49m\u001b[43mtimeout\u001b[49m\u001b[38;5;241;43m=\u001b[39;49m\u001b[43mtimeout\u001b[49m\u001b[43m,\u001b[49m\n\u001b[1;32m    448\u001b[0m \u001b[43m        \u001b[49m\u001b[43mn_jobs\u001b[49m\u001b[38;5;241;43m=\u001b[39;49m\u001b[43mn_jobs\u001b[49m\u001b[43m,\u001b[49m\n\u001b[1;32m    449\u001b[0m \u001b[43m        \u001b[49m\u001b[43mcatch\u001b[49m\u001b[38;5;241;43m=\u001b[39;49m\u001b[38;5;28;43mtuple\u001b[39;49m\u001b[43m(\u001b[49m\u001b[43mcatch\u001b[49m\u001b[43m)\u001b[49m\u001b[43m \u001b[49m\u001b[38;5;28;43;01mif\u001b[39;49;00m\u001b[43m \u001b[49m\u001b[38;5;28;43misinstance\u001b[39;49m\u001b[43m(\u001b[49m\u001b[43mcatch\u001b[49m\u001b[43m,\u001b[49m\u001b[43m \u001b[49m\u001b[43mIterable\u001b[49m\u001b[43m)\u001b[49m\u001b[43m \u001b[49m\u001b[38;5;28;43;01melse\u001b[39;49;00m\u001b[43m \u001b[49m\u001b[43m(\u001b[49m\u001b[43mcatch\u001b[49m\u001b[43m,\u001b[49m\u001b[43m)\u001b[49m\u001b[43m,\u001b[49m\n\u001b[1;32m    450\u001b[0m \u001b[43m        \u001b[49m\u001b[43mcallbacks\u001b[49m\u001b[38;5;241;43m=\u001b[39;49m\u001b[43mcallbacks\u001b[49m\u001b[43m,\u001b[49m\n\u001b[1;32m    451\u001b[0m \u001b[43m        \u001b[49m\u001b[43mgc_after_trial\u001b[49m\u001b[38;5;241;43m=\u001b[39;49m\u001b[43mgc_after_trial\u001b[49m\u001b[43m,\u001b[49m\n\u001b[1;32m    452\u001b[0m \u001b[43m        \u001b[49m\u001b[43mshow_progress_bar\u001b[49m\u001b[38;5;241;43m=\u001b[39;49m\u001b[43mshow_progress_bar\u001b[49m\u001b[43m,\u001b[49m\n\u001b[1;32m    453\u001b[0m \u001b[43m    \u001b[49m\u001b[43m)\u001b[49m\n",
      "File \u001b[0;32m~/anaconda3/envs/contrail/lib/python3.10/site-packages/optuna/study/_optimize.py:66\u001b[0m, in \u001b[0;36m_optimize\u001b[0;34m(study, func, n_trials, timeout, n_jobs, catch, callbacks, gc_after_trial, show_progress_bar)\u001b[0m\n\u001b[1;32m     64\u001b[0m \u001b[38;5;28;01mtry\u001b[39;00m:\n\u001b[1;32m     65\u001b[0m     \u001b[38;5;28;01mif\u001b[39;00m n_jobs \u001b[38;5;241m==\u001b[39m \u001b[38;5;241m1\u001b[39m:\n\u001b[0;32m---> 66\u001b[0m         \u001b[43m_optimize_sequential\u001b[49m\u001b[43m(\u001b[49m\n\u001b[1;32m     67\u001b[0m \u001b[43m            \u001b[49m\u001b[43mstudy\u001b[49m\u001b[43m,\u001b[49m\n\u001b[1;32m     68\u001b[0m \u001b[43m            \u001b[49m\u001b[43mfunc\u001b[49m\u001b[43m,\u001b[49m\n\u001b[1;32m     69\u001b[0m \u001b[43m            \u001b[49m\u001b[43mn_trials\u001b[49m\u001b[43m,\u001b[49m\n\u001b[1;32m     70\u001b[0m \u001b[43m            \u001b[49m\u001b[43mtimeout\u001b[49m\u001b[43m,\u001b[49m\n\u001b[1;32m     71\u001b[0m \u001b[43m            \u001b[49m\u001b[43mcatch\u001b[49m\u001b[43m,\u001b[49m\n\u001b[1;32m     72\u001b[0m \u001b[43m            \u001b[49m\u001b[43mcallbacks\u001b[49m\u001b[43m,\u001b[49m\n\u001b[1;32m     73\u001b[0m \u001b[43m            \u001b[49m\u001b[43mgc_after_trial\u001b[49m\u001b[43m,\u001b[49m\n\u001b[1;32m     74\u001b[0m \u001b[43m            \u001b[49m\u001b[43mreseed_sampler_rng\u001b[49m\u001b[38;5;241;43m=\u001b[39;49m\u001b[38;5;28;43;01mFalse\u001b[39;49;00m\u001b[43m,\u001b[49m\n\u001b[1;32m     75\u001b[0m \u001b[43m            \u001b[49m\u001b[43mtime_start\u001b[49m\u001b[38;5;241;43m=\u001b[39;49m\u001b[38;5;28;43;01mNone\u001b[39;49;00m\u001b[43m,\u001b[49m\n\u001b[1;32m     76\u001b[0m \u001b[43m            \u001b[49m\u001b[43mprogress_bar\u001b[49m\u001b[38;5;241;43m=\u001b[39;49m\u001b[43mprogress_bar\u001b[49m\u001b[43m,\u001b[49m\n\u001b[1;32m     77\u001b[0m \u001b[43m        \u001b[49m\u001b[43m)\u001b[49m\n\u001b[1;32m     78\u001b[0m     \u001b[38;5;28;01melse\u001b[39;00m:\n\u001b[1;32m     79\u001b[0m         \u001b[38;5;28;01mif\u001b[39;00m n_jobs \u001b[38;5;241m==\u001b[39m \u001b[38;5;241m-\u001b[39m\u001b[38;5;241m1\u001b[39m:\n",
      "File \u001b[0;32m~/anaconda3/envs/contrail/lib/python3.10/site-packages/optuna/study/_optimize.py:163\u001b[0m, in \u001b[0;36m_optimize_sequential\u001b[0;34m(study, func, n_trials, timeout, catch, callbacks, gc_after_trial, reseed_sampler_rng, time_start, progress_bar)\u001b[0m\n\u001b[1;32m    160\u001b[0m         \u001b[38;5;28;01mbreak\u001b[39;00m\n\u001b[1;32m    162\u001b[0m \u001b[38;5;28;01mtry\u001b[39;00m:\n\u001b[0;32m--> 163\u001b[0m     frozen_trial \u001b[38;5;241m=\u001b[39m \u001b[43m_run_trial\u001b[49m\u001b[43m(\u001b[49m\u001b[43mstudy\u001b[49m\u001b[43m,\u001b[49m\u001b[43m \u001b[49m\u001b[43mfunc\u001b[49m\u001b[43m,\u001b[49m\u001b[43m \u001b[49m\u001b[43mcatch\u001b[49m\u001b[43m)\u001b[49m\n\u001b[1;32m    164\u001b[0m \u001b[38;5;28;01mfinally\u001b[39;00m:\n\u001b[1;32m    165\u001b[0m     \u001b[38;5;66;03m# The following line mitigates memory problems that can be occurred in some\u001b[39;00m\n\u001b[1;32m    166\u001b[0m     \u001b[38;5;66;03m# environments (e.g., services that use computing containers such as GitHub Actions).\u001b[39;00m\n\u001b[1;32m    167\u001b[0m     \u001b[38;5;66;03m# Please refer to the following PR for further details:\u001b[39;00m\n\u001b[1;32m    168\u001b[0m     \u001b[38;5;66;03m# https://github.com/optuna/optuna/pull/325.\u001b[39;00m\n\u001b[1;32m    169\u001b[0m     \u001b[38;5;28;01mif\u001b[39;00m gc_after_trial:\n",
      "File \u001b[0;32m~/anaconda3/envs/contrail/lib/python3.10/site-packages/optuna/study/_optimize.py:251\u001b[0m, in \u001b[0;36m_run_trial\u001b[0;34m(study, func, catch)\u001b[0m\n\u001b[1;32m    244\u001b[0m         \u001b[38;5;28;01massert\u001b[39;00m \u001b[38;5;28;01mFalse\u001b[39;00m, \u001b[38;5;124m\"\u001b[39m\u001b[38;5;124mShould not reach.\u001b[39m\u001b[38;5;124m\"\u001b[39m\n\u001b[1;32m    246\u001b[0m \u001b[38;5;28;01mif\u001b[39;00m (\n\u001b[1;32m    247\u001b[0m     frozen_trial\u001b[38;5;241m.\u001b[39mstate \u001b[38;5;241m==\u001b[39m TrialState\u001b[38;5;241m.\u001b[39mFAIL\n\u001b[1;32m    248\u001b[0m     \u001b[38;5;129;01mand\u001b[39;00m func_err \u001b[38;5;129;01mis\u001b[39;00m \u001b[38;5;129;01mnot\u001b[39;00m \u001b[38;5;28;01mNone\u001b[39;00m\n\u001b[1;32m    249\u001b[0m     \u001b[38;5;129;01mand\u001b[39;00m \u001b[38;5;129;01mnot\u001b[39;00m \u001b[38;5;28misinstance\u001b[39m(func_err, catch)\n\u001b[1;32m    250\u001b[0m ):\n\u001b[0;32m--> 251\u001b[0m     \u001b[38;5;28;01mraise\u001b[39;00m func_err\n\u001b[1;32m    252\u001b[0m \u001b[38;5;28;01mreturn\u001b[39;00m frozen_trial\n",
      "File \u001b[0;32m~/anaconda3/envs/contrail/lib/python3.10/site-packages/optuna/study/_optimize.py:200\u001b[0m, in \u001b[0;36m_run_trial\u001b[0;34m(study, func, catch)\u001b[0m\n\u001b[1;32m    198\u001b[0m \u001b[38;5;28;01mwith\u001b[39;00m get_heartbeat_thread(trial\u001b[38;5;241m.\u001b[39m_trial_id, study\u001b[38;5;241m.\u001b[39m_storage):\n\u001b[1;32m    199\u001b[0m     \u001b[38;5;28;01mtry\u001b[39;00m:\n\u001b[0;32m--> 200\u001b[0m         value_or_values \u001b[38;5;241m=\u001b[39m \u001b[43mfunc\u001b[49m\u001b[43m(\u001b[49m\u001b[43mtrial\u001b[49m\u001b[43m)\u001b[49m\n\u001b[1;32m    201\u001b[0m     \u001b[38;5;28;01mexcept\u001b[39;00m exceptions\u001b[38;5;241m.\u001b[39mTrialPruned \u001b[38;5;28;01mas\u001b[39;00m e:\n\u001b[1;32m    202\u001b[0m         \u001b[38;5;66;03m# TODO(mamu): Handle multi-objective cases.\u001b[39;00m\n\u001b[1;32m    203\u001b[0m         state \u001b[38;5;241m=\u001b[39m TrialState\u001b[38;5;241m.\u001b[39mPRUNED\n",
      "Cell \u001b[0;32mIn[177], line 8\u001b[0m, in \u001b[0;36mobjective\u001b[0;34m(trial)\u001b[0m\n\u001b[1;32m      5\u001b[0m \u001b[38;5;28;01mfor\u001b[39;00m i \u001b[38;5;129;01min\u001b[39;00m \u001b[38;5;28mrange\u001b[39m(\u001b[38;5;28mlen\u001b[39m(final_preds)):\n\u001b[1;32m      6\u001b[0m     params[\u001b[38;5;124mf\u001b[39m\u001b[38;5;124m\"\u001b[39m\u001b[38;5;124mw\u001b[39m\u001b[38;5;132;01m{\u001b[39;00mi\u001b[38;5;241m+\u001b[39m\u001b[38;5;241m1\u001b[39m\u001b[38;5;132;01m}\u001b[39;00m\u001b[38;5;124m\"\u001b[39m] \u001b[38;5;241m=\u001b[39m trial\u001b[38;5;241m.\u001b[39msuggest_float(\u001b[38;5;124mf\u001b[39m\u001b[38;5;124m'\u001b[39m\u001b[38;5;124mw\u001b[39m\u001b[38;5;132;01m{\u001b[39;00mi\u001b[38;5;241m+\u001b[39m\u001b[38;5;241m1\u001b[39m\u001b[38;5;132;01m}\u001b[39;00m\u001b[38;5;124m'\u001b[39m, \u001b[38;5;241m0\u001b[39m, \u001b[38;5;241m1\u001b[39m)\n\u001b[0;32m----> 8\u001b[0m score, best_threshold  \u001b[38;5;241m=\u001b[39m \u001b[43mboost_dice\u001b[49m\u001b[43m(\u001b[49m\u001b[43mparams\u001b[49m\u001b[43m,\u001b[49m\u001b[43m \u001b[49m\u001b[43mTH\u001b[49m\u001b[38;5;241;43m=\u001b[39;49m\u001b[43mTH\u001b[49m\u001b[43m)\u001b[49m\n\u001b[1;32m      9\u001b[0m params[\u001b[38;5;124m'\u001b[39m\u001b[38;5;124mthreshold\u001b[39m\u001b[38;5;124m'\u001b[39m] \u001b[38;5;241m=\u001b[39m best_threshold\n\u001b[1;32m     10\u001b[0m \u001b[38;5;28;01mif\u001b[39;00m \u001b[38;5;129;01mnot\u001b[39;00m TH:\n",
      "Cell \u001b[0;32mIn[172], line 40\u001b[0m, in \u001b[0;36mboost_dice\u001b[0;34m(params, TH)\u001b[0m\n\u001b[1;32m     37\u001b[0m                 \u001b[38;5;28;01mcontinue\u001b[39;00m\n\u001b[1;32m     38\u001b[0m \u001b[38;5;66;03m#         for threshold in [0.37, 0.38, 0.39, 0.4]:              \u001b[39;00m\n\u001b[0;32m---> 40\u001b[0m             preds1 \u001b[38;5;241m=\u001b[39m \u001b[43m(\u001b[49m\u001b[43m(\u001b[49m\u001b[43mpreds\u001b[49m\u001b[43m)\u001b[49m\u001b[38;5;241;43m>\u001b[39;49m\u001b[43mthreshold\u001b[49m\u001b[43m)\u001b[49m\u001b[38;5;241;43m.\u001b[39;49m\u001b[43mdouble\u001b[49m\u001b[43m(\u001b[49m\u001b[43m)\u001b[49m            \n\u001b[1;32m     41\u001b[0m             score \u001b[38;5;241m=\u001b[39m dice_coef(model_masks, preds1, thr\u001b[38;5;241m=\u001b[39mthreshold)\u001b[38;5;241m.\u001b[39mcpu()\u001b[38;5;241m.\u001b[39mdetach()\u001b[38;5;241m.\u001b[39mnumpy() \u001b[38;5;66;03m# get_score(labels, preds) \u001b[39;00m\n\u001b[1;32m     42\u001b[0m             \u001b[38;5;28;01mif\u001b[39;00m score \u001b[38;5;241m>\u001b[39m best_score:\n",
      "\u001b[0;31mKeyboardInterrupt\u001b[0m: "
     ]
    }
   ],
   "source": [
    "study = optuna.create_study(direction='maximize')\n",
    "study.optimize(objective, n_trials=500)\n",
    "best_params = study.best_params"
   ]
  },
  {
   "cell_type": "code",
   "execution_count": 47,
   "id": "7974c8d1",
   "metadata": {},
   "outputs": [
    {
     "data": {
      "text/plain": [
       "{'w1': 1.3387089493909258e-05,\n",
       " 'w2': 0.7832907921668216,\n",
       " 'w3': 0.1644769178230628,\n",
       " 'w4': 0.00055845444967733,\n",
       " 'w5': 0.2303089374666643,\n",
       " 'w6': 0.05687648005878053,\n",
       " 'w7': 0.5300038291077748,\n",
       " 'w8': 0.24812342792556633,\n",
       " 'w9': 0.06386465242721732,\n",
       " 'w10': 0.2985146430301337,\n",
       " 'w11': 0.9845085492621458,\n",
       " 'w12': 0.5463258184950742}"
      ]
     },
     "execution_count": 47,
     "metadata": {},
     "output_type": "execute_result"
    }
   ],
   "source": [
    "best_params # 0.36 | 0.710804283618927"
   ]
  },
  {
   "cell_type": "code",
   "execution_count": 19,
   "id": "4729669f",
   "metadata": {},
   "outputs": [
    {
     "data": {
      "application/vnd.jupyter.widget-view+json": {
       "model_id": "bb463a1763f54ce5bdb883d1d91c3715",
       "version_major": 2,
       "version_minor": 0
      },
      "text/plain": [
       "  0%|          | 0/3 [00:00<?, ?it/s]"
      ]
     },
     "metadata": {},
     "output_type": "display_data"
    }
   ],
   "source": [
    "call_signs1 = [\n",
    "    \"/home/rohits/pv1/Contrail_Detection/output/pseudo_preds/roh_10_tta_3.pt\",\n",
    "    \"/home/rohits/pv1/Contrail_Detection/output/pseudo_preds/roh_10_tta_4.npy\",\n",
    "    \"/home/rohits/pv1/Contrail_Detection/output/pseudo_preds/roh_10_tta_5.pt\"\n",
    "]\n",
    "\n",
    "model_masks = torch.from_numpy(np.load(f\"/home/rohits/pv1/Contrail_Detection/output/final_preds/val_masks.npy\")).cuda() #.flatten().cuda() \n",
    "\n",
    "\n",
    "preds = []\n",
    "for idx, sign in tqdm(enumerate(call_signs1), total=len(call_signs1)):\n",
    "    if idx != 1:\n",
    "        wt = torch.load(sign).cuda()\n",
    "    else:\n",
    "        wt = torch.from_numpy(np.load(sign)).cuda()\n",
    "        \n",
    "    preds.append(wt)"
   ]
  },
  {
   "cell_type": "code",
   "execution_count": 20,
   "id": "90ff3625",
   "metadata": {},
   "outputs": [
    {
     "data": {
      "text/plain": [
       "(torch.Size([1856, 256, 256]), torch.Size([1856, 256, 256]))"
      ]
     },
     "execution_count": 20,
     "metadata": {},
     "output_type": "execute_result"
    }
   ],
   "source": [
    "model_masks.shape, preds[0].shape"
   ]
  },
  {
   "cell_type": "code",
   "execution_count": 21,
   "id": "69ca35fb",
   "metadata": {},
   "outputs": [
    {
     "name": "stdout",
     "output_type": "stream",
     "text": [
      "0.13172013\n",
      "0.14183973 0.01\n",
      "0.675066\n",
      "0.67817783 0.19\n",
      "0.12852824\n",
      "0.13934006 0.01\n"
     ]
    }
   ],
   "source": [
    "for pred in preds:\n",
    "    score = dice_coef(model_masks, pred, thr=0.5).cpu().detach().numpy() \n",
    "    print(score)\n",
    "    best_threshold = 0.0\n",
    "    best_dice_score = 0.0\n",
    "    for threshold in [i / 100 for i in range(101)] :\n",
    "        score = dice_coef(model_masks, pred, thr=threshold).cpu().detach().numpy() \n",
    "        if score > best_dice_score:\n",
    "            best_dice_score = score\n",
    "            best_threshold = threshold\n",
    "    print(best_dice_score, best_threshold)"
   ]
  },
  {
   "cell_type": "code",
   "execution_count": 63,
   "id": "eb8fe727",
   "metadata": {},
   "outputs": [],
   "source": [
    "x1 = (preds[0] > 0.19).double()\n",
    "x2 = (preds[1] > 0.19).double()\n",
    "x3 = (preds[2] > 0.19).double()"
   ]
  },
  {
   "cell_type": "code",
   "execution_count": 64,
   "id": "b8a599d4",
   "metadata": {},
   "outputs": [],
   "source": [
    "sum1 = []\n",
    "for a in x1:\n",
    "    sum1.append(a.sum().cpu().numpy().item())\n",
    "    \n",
    "    \n",
    "sum2 = []\n",
    "for a in x2:\n",
    "    sum2.append(a.sum().cpu().numpy().item())\n",
    "    \n",
    "    \n",
    "    \n",
    "sum3 = []\n",
    "for a in x3:\n",
    "    sum3.append(a.sum().cpu().numpy().item())\n",
    "    \n",
    "    \n",
    "sum4 = []\n",
    "for a in model_masks:\n",
    "    sum4.append(a.sum().cpu().numpy().item())"
   ]
  },
  {
   "cell_type": "code",
   "execution_count": 65,
   "id": "35db0332",
   "metadata": {},
   "outputs": [
    {
     "name": "stdout",
     "output_type": "stream",
     "text": [
      "0.0 0.0 0.0 0.0\n",
      "260.0 312.0 274.0 367.0\n",
      "0.0 0.0 0.0 0.0\n"
     ]
    }
   ],
   "source": [
    "fps = []\n",
    "for idx, (a, b, c, d) in enumerate(zip(sum1, sum2, sum3, sum4)):\n",
    "    print(a, b, c, d)\n",
    "    if idx > 1:\n",
    "        break\n",
    "    \n",
    "    if a == b == c == 0 and d != 0:\n",
    "        fps.append(d)\n",
    "    "
   ]
  },
  {
   "cell_type": "code",
   "execution_count": 66,
   "id": "d654ccff",
   "metadata": {},
   "outputs": [
    {
     "data": {
      "text/plain": [
       "0"
      ]
     },
     "execution_count": 66,
     "metadata": {},
     "output_type": "execute_result"
    }
   ],
   "source": [
    "len(fps)"
   ]
  },
  {
   "cell_type": "code",
   "execution_count": 67,
   "id": "9101be64",
   "metadata": {},
   "outputs": [],
   "source": [
    "x1 = x1 #.flatten()\n",
    "x2 = x2 #.flatten()\n",
    "x3 = x3 #.flatten()"
   ]
  },
  {
   "cell_type": "code",
   "execution_count": 68,
   "id": "f9190be9",
   "metadata": {},
   "outputs": [],
   "source": [
    "x = (x1 + x2 + x3)\n",
    "    \n",
    "    \n",
    "x = (x >= 1) == 1"
   ]
  },
  {
   "cell_type": "code",
   "execution_count": 70,
   "id": "f17af87a",
   "metadata": {},
   "outputs": [
    {
     "data": {
      "text/plain": [
       "array(0.39960405, dtype=float32)"
      ]
     },
     "execution_count": 70,
     "metadata": {},
     "output_type": "execute_result"
    }
   ],
   "source": [
    "score = dice_coef(model_masks, x, thr=0.5).cpu().detach().numpy() \n",
    "score"
   ]
  },
  {
   "cell_type": "code",
   "execution_count": 62,
   "id": "0fae9849",
   "metadata": {},
   "outputs": [
    {
     "data": {
      "text/plain": [
       "(tensor(0., device='cuda:0', dtype=torch.float64),\n",
       " tensor(0., device='cuda:0', dtype=torch.float64),\n",
       " tensor(0., device='cuda:0', dtype=torch.float64))"
      ]
     },
     "execution_count": 62,
     "metadata": {},
     "output_type": "execute_result"
    }
   ],
   "source": [
    "x1[2], x2[2], x3[2]"
   ]
  },
  {
   "cell_type": "code",
   "execution_count": null,
   "id": "78f13f97",
   "metadata": {},
   "outputs": [],
   "source": []
  },
  {
   "cell_type": "code",
   "execution_count": 89,
   "id": "9f82ec47",
   "metadata": {},
   "outputs": [],
   "source": [
    "# model_masks\n",
    "\n",
    "import numpy as np\n",
    "\n",
    "# def merge_predictions(mask_t_minus_1, mask_t, mask_t_plus_1, time_shift):\n",
    "#     # Ensure all three masks have the same dimensions (256x256)\n",
    "#     assert mask_t_minus_1.shape == mask_t.shape == mask_t_plus_1.shape == (256, 256), \"All masks must have size 256x256\"\n",
    "\n",
    "#     # Create an empty merged mask with zeros\n",
    "#     merged_mask = np.zeros((256, 256))\n",
    "\n",
    "#     # Time shift should be within the bounds of the mask dimensions\n",
    "#     time_shift = max(-1, min(1, time_shift))\n",
    "\n",
    "#     # Calculate the shift directions for t-1, t, and t+1 masks\n",
    "#     shift_t_minus_1 = (0, 0) if time_shift == 1 else (time_shift, time_shift)\n",
    "#     shift_t_plus_1 = (0, 0) if time_shift == -1 else (-time_shift, -time_shift)\n",
    "\n",
    "#     # Merge the predictions while considering the time shift\n",
    "#     merged_mask = np.logical_or(merged_mask, np.roll(mask_t_minus_1, shift_t_minus_1, axis=(0, 1)))\n",
    "#     merged_mask = np.logical_or(merged_mask, mask_t)\n",
    "#     merged_mask = np.logical_or(merged_mask, np.roll(mask_t_plus_1, shift_t_plus_1, axis=(0, 1)))\n",
    "\n",
    "#     return merged_mask\n",
    "\n",
    "# Example usage:\n",
    "# Assume mask_t_minus_1, mask_t, mask_t_plus_1 are numpy arrays representing the masks\n",
    "# time_shift is an integer representing the time shift (-1, 0, or 1)\n",
    "# merged_mask = merge_predictions(mask_t_minus_1, mask_t, mask_t_plus_1, time_shift)\n",
    "\n",
    "\n",
    "def merge_predictions(mask_t_minus_1, mask_t, mask_t_plus_1, time_shift):\n",
    "    # Ensure all three masks have the same dimensions (1856, 256, 256)\n",
    "    assert mask_t_minus_1.shape == mask_t.shape == mask_t_plus_1.shape == (1856, 256, 256), \"All masks must have shape (1856, 256, 256)\"\n",
    "\n",
    "    # Create an empty merged mask with zeros\n",
    "    merged_mask = np.zeros((1856, 256, 256))\n",
    "\n",
    "    # Time shift should be within the bounds of the mask dimensions\n",
    "    time_shift = max(-1, min(1, time_shift))\n",
    "\n",
    "    # Calculate the shift directions for t-1, t, and t+1 masks\n",
    "    shift_t_minus_1 = (0, 0) if time_shift == 1 else (time_shift, time_shift)\n",
    "    shift_t_plus_1 = (0, 0) if time_shift == -1 else (-time_shift, -time_shift)\n",
    "\n",
    "    # Merge the predictions while considering the time shift for each frame\n",
    "    for i in range(1856):\n",
    "        merged_mask[i] = np.logical_or(merged_mask[i], np.roll(mask_t_minus_1[i], shift_t_minus_1, axis=(0, 1)))\n",
    "        merged_mask[i] = np.logical_or(merged_mask[i], mask_t[i])\n",
    "        merged_mask[i] = np.logical_or(merged_mask[i], np.roll(mask_t_plus_1[i], shift_t_plus_1, axis=(0, 1)))\n",
    "\n",
    "    return merged_mask\n",
    "\n",
    "\n"
   ]
  },
  {
   "cell_type": "code",
   "execution_count": 91,
   "id": "825189cd",
   "metadata": {},
   "outputs": [
    {
     "name": "stdout",
     "output_type": "stream",
     "text": [
      "1.7464229e-12\n",
      "0.39960405 0.0\n",
      "1.7643748e-12\n",
      "0.4031229 0.0\n",
      "1.7643748e-12\n",
      "0.4031229 0.0\n",
      "1.7643748e-12\n",
      "0.4031229 0.0\n",
      "1.7643748e-12\n",
      "0.4031229 0.0\n",
      "1.7643748e-12\n",
      "0.4031229 0.0\n",
      "1.7643748e-12\n",
      "0.4031229 0.0\n",
      "1.7643748e-12\n",
      "0.4031229 0.0\n",
      "1.7643748e-12\n",
      "0.4031229 0.0\n",
      "1.7643748e-12\n",
      "0.4031229 0.0\n",
      "1.7643748e-12\n",
      "0.4031229 0.0\n",
      "1.7643748e-12\n",
      "0.4031229 0.0\n",
      "1.7643748e-12\n",
      "0.4031229 0.0\n",
      "1.7643748e-12\n",
      "0.4031229 0.0\n",
      "1.7643748e-12\n",
      "0.4031229 0.0\n",
      "1.7643748e-12\n",
      "0.4031229 0.0\n",
      "1.7643748e-12\n",
      "0.4031229 0.0\n",
      "1.7643748e-12\n",
      "0.4031229 0.0\n",
      "1.7643748e-12\n",
      "0.4031229 0.0\n",
      "1.7643748e-12\n",
      "0.4031229 0.0\n",
      "1.7643748e-12\n",
      "0.4031229 0.0\n",
      "1.7643748e-12\n",
      "0.4031229 0.0\n",
      "1.7643748e-12\n",
      "0.4031229 0.0\n",
      "1.7643748e-12\n",
      "0.4031229 0.0\n",
      "1.7643748e-12\n",
      "0.4031229 0.0\n",
      "1.7643748e-12\n",
      "0.4031229 0.0\n",
      "1.7643748e-12\n",
      "0.4031229 0.0\n",
      "1.7643748e-12\n",
      "0.4031229 0.0\n",
      "1.7643748e-12\n",
      "0.4031229 0.0\n",
      "1.7643748e-12\n",
      "0.4031229 0.0\n",
      "1.7643748e-12\n",
      "0.4031229 0.0\n",
      "1.7643748e-12\n",
      "0.4031229 0.0\n",
      "1.7643748e-12\n",
      "0.4031229 0.0\n",
      "1.7643748e-12\n",
      "0.4031229 0.0\n",
      "1.7643748e-12\n",
      "0.4031229 0.0\n",
      "1.7643748e-12\n",
      "0.4031229 0.0\n",
      "1.7643748e-12\n",
      "0.4031229 0.0\n",
      "1.7643748e-12\n",
      "0.4031229 0.0\n",
      "1.7643748e-12\n",
      "0.4031229 0.0\n",
      "1.7643748e-12\n",
      "0.4031229 0.0\n",
      "1.7643748e-12\n",
      "0.4031229 0.0\n",
      "1.7643748e-12\n",
      "0.4031229 0.0\n",
      "1.7643748e-12\n",
      "0.4031229 0.0\n",
      "1.7643748e-12\n",
      "0.4031229 0.0\n",
      "1.7643748e-12\n",
      "0.4031229 0.0\n",
      "1.7643748e-12\n",
      "0.4031229 0.0\n",
      "1.7643748e-12\n",
      "0.4031229 0.0\n",
      "1.7643748e-12\n",
      "0.4031229 0.0\n",
      "1.7643748e-12\n",
      "0.4031229 0.0\n",
      "1.7643748e-12\n",
      "0.4031229 0.0\n",
      "1.7643748e-12\n",
      "0.4031229 0.0\n",
      "1.7643748e-12\n",
      "0.4031229 0.0\n",
      "1.7643748e-12\n",
      "0.4031229 0.0\n",
      "1.7643748e-12\n",
      "0.4031229 0.0\n",
      "1.7643748e-12\n",
      "0.4031229 0.0\n",
      "1.7643748e-12\n",
      "0.4031229 0.0\n",
      "1.7643748e-12\n",
      "0.4031229 0.0\n",
      "1.7643748e-12\n",
      "0.4031229 0.0\n",
      "1.7643748e-12\n",
      "0.4031229 0.0\n",
      "1.7643748e-12\n",
      "0.4031229 0.0\n",
      "1.7643748e-12\n",
      "0.4031229 0.0\n",
      "1.7643748e-12\n",
      "0.4031229 0.0\n",
      "1.7643748e-12\n",
      "0.4031229 0.0\n",
      "1.7643748e-12\n",
      "0.4031229 0.0\n",
      "1.7643748e-12\n",
      "0.4031229 0.0\n",
      "1.7643748e-12\n",
      "0.4031229 0.0\n",
      "1.7643748e-12\n",
      "0.4031229 0.0\n",
      "1.7643748e-12\n",
      "0.4031229 0.0\n",
      "1.7643748e-12\n",
      "0.4031229 0.0\n",
      "1.7643748e-12\n",
      "0.4031229 0.0\n",
      "1.7643748e-12\n",
      "0.4031229 0.0\n",
      "1.7643748e-12\n",
      "0.4031229 0.0\n",
      "1.7643748e-12\n",
      "0.4031229 0.0\n",
      "1.7643748e-12\n",
      "0.4031229 0.0\n",
      "1.7643748e-12\n",
      "0.4031229 0.0\n",
      "1.7643748e-12\n",
      "0.4031229 0.0\n",
      "1.7643748e-12\n",
      "0.4031229 0.0\n",
      "1.7643748e-12\n",
      "0.4031229 0.0\n",
      "1.7643748e-12\n",
      "0.4031229 0.0\n",
      "1.7643748e-12\n",
      "0.4031229 0.0\n",
      "1.7643748e-12\n",
      "0.4031229 0.0\n",
      "1.7643748e-12\n",
      "0.4031229 0.0\n",
      "1.7643748e-12\n",
      "0.4031229 0.0\n",
      "1.7643748e-12\n",
      "0.4031229 0.0\n",
      "1.7643748e-12\n",
      "0.4031229 0.0\n",
      "1.7643748e-12\n",
      "0.4031229 0.0\n",
      "1.7643748e-12\n",
      "0.4031229 0.0\n",
      "1.7643748e-12\n",
      "0.4031229 0.0\n",
      "1.7643748e-12\n",
      "0.4031229 0.0\n",
      "1.7643748e-12\n",
      "0.4031229 0.0\n",
      "1.7643748e-12\n",
      "0.4031229 0.0\n",
      "1.7643748e-12\n",
      "0.4031229 0.0\n",
      "1.7643748e-12\n",
      "0.4031229 0.0\n",
      "1.7643748e-12\n",
      "0.4031229 0.0\n",
      "1.7643748e-12\n",
      "0.4031229 0.0\n",
      "1.7643748e-12\n",
      "0.4031229 0.0\n",
      "1.7643748e-12\n",
      "0.4031229 0.0\n",
      "1.7643748e-12\n",
      "0.4031229 0.0\n",
      "1.7643748e-12\n",
      "0.4031229 0.0\n",
      "1.7643748e-12\n",
      "0.4031229 0.0\n",
      "1.7643748e-12\n",
      "0.4031229 0.0\n",
      "1.7643748e-12\n",
      "0.4031229 0.0\n",
      "1.7643748e-12\n",
      "0.4031229 0.0\n",
      "1.7643748e-12\n",
      "0.4031229 0.0\n",
      "1.7643748e-12\n",
      "0.4031229 0.0\n",
      "1.7643748e-12\n",
      "0.4031229 0.0\n",
      "1.7643748e-12\n",
      "0.4031229 0.0\n",
      "1.7643748e-12\n",
      "0.4031229 0.0\n",
      "1.7643748e-12\n",
      "0.4031229 0.0\n",
      "1.7643748e-12\n",
      "0.4031229 0.0\n",
      "1.7643748e-12\n",
      "0.4031229 0.0\n",
      "1.7643748e-12\n",
      "0.4031229 0.0\n",
      "1.7643748e-12\n",
      "0.4031229 0.0\n",
      "1.7643748e-12\n",
      "0.4031229 0.0\n",
      "1.7643748e-12\n",
      "0.4031229 0.0\n",
      "1.7643748e-12\n",
      "0.4031229 0.0\n",
      "1.7643748e-12\n",
      "0.4031229 0.0\n",
      "1.7643748e-12\n",
      "0.4031229 0.0\n",
      "1.7643748e-12\n",
      "0.4031229 0.0\n",
      "1.7643748e-12\n",
      "0.4031229 0.0\n",
      "1.7643748e-12\n",
      "0.4031229 0.0\n",
      "1.7643748e-12\n",
      "0.4031229 0.0\n",
      "1.7643748e-12\n",
      "0.4031229 0.0\n",
      "1.7643748e-12\n",
      "0.4031229 0.0\n",
      "1.7643748e-12\n",
      "0.4031229 0.0\n",
      "1.7643748e-12\n",
      "0.4031229 0.0\n",
      "1.7643748e-12\n",
      "0.4031229 0.0\n",
      "1.7643748e-12\n",
      "0.4031229 0.0\n",
      "1.7643748e-12\n",
      "0.4031229 0.0\n",
      "1.7643748e-12\n",
      "0.4031229 0.0\n",
      "1.7643748e-12\n",
      "0.4031229 0.0\n",
      "1.7643748e-12\n",
      "0.4031229 0.0\n",
      "1.7643748e-12\n",
      "0.4031229 0.0\n",
      "1.7643748e-12\n",
      "0.4031229 0.0\n",
      "1.7643748e-12\n",
      "0.4031229 0.0\n",
      "1.7643748e-12\n",
      "0.4031229 0.0\n",
      "1.7643748e-12\n",
      "0.4031229 0.0\n",
      "1.7643748e-12\n",
      "0.4031229 0.0\n",
      "1.7643748e-12\n",
      "0.4031229 0.0\n",
      "1.7643748e-12\n",
      "0.4031229 0.0\n",
      "1.7643748e-12\n",
      "0.4031229 0.0\n",
      "1.7643748e-12\n",
      "0.4031229 0.0\n",
      "1.7643748e-12\n",
      "0.4031229 0.0\n",
      "1.7643748e-12\n",
      "0.4031229 0.0\n",
      "1.7643748e-12\n",
      "0.4031229 0.0\n",
      "1.7643748e-12\n",
      "0.4031229 0.0\n",
      "1.7643748e-12\n",
      "0.4031229 0.0\n",
      "1.7643748e-12\n",
      "0.4031229 0.0\n",
      "1.7643748e-12\n",
      "0.4031229 0.0\n",
      "1.7643748e-12\n",
      "0.4031229 0.0\n",
      "1.7643748e-12\n",
      "0.4031229 0.0\n",
      "1.7643748e-12\n",
      "0.4031229 0.0\n",
      "1.7643748e-12\n",
      "0.4031229 0.0\n",
      "1.7643748e-12\n",
      "0.4031229 0.0\n",
      "1.7643748e-12\n",
      "0.4031229 0.0\n",
      "1.7643748e-12\n",
      "0.4031229 0.0\n",
      "1.7643748e-12\n",
      "0.4031229 0.0\n",
      "1.7643748e-12\n",
      "0.4031229 0.0\n",
      "1.7643748e-12\n",
      "0.4031229 0.0\n",
      "1.7643748e-12\n",
      "0.4031229 0.0\n",
      "1.7643748e-12\n",
      "0.4031229 0.0\n",
      "1.7643748e-12\n",
      "0.4031229 0.0\n",
      "1.7643748e-12\n",
      "0.4031229 0.0\n",
      "1.7643748e-12\n",
      "0.4031229 0.0\n",
      "1.7643748e-12\n",
      "0.4031229 0.0\n",
      "1.7643748e-12\n",
      "0.4031229 0.0\n",
      "1.7643748e-12\n",
      "0.4031229 0.0\n",
      "1.7643748e-12\n",
      "0.4031229 0.0\n",
      "1.7643748e-12\n",
      "0.4031229 0.0\n",
      "1.7643748e-12\n",
      "0.4031229 0.0\n",
      "1.7643748e-12\n",
      "0.4031229 0.0\n",
      "1.7643748e-12\n",
      "0.4031229 0.0\n",
      "1.7643748e-12\n",
      "0.4031229 0.0\n",
      "1.7643748e-12\n",
      "0.4031229 0.0\n",
      "1.7643748e-12\n",
      "0.4031229 0.0\n",
      "1.7643748e-12\n",
      "0.4031229 0.0\n",
      "1.7643748e-12\n",
      "0.4031229 0.0\n",
      "1.7643748e-12\n",
      "0.4031229 0.0\n",
      "1.7643748e-12\n",
      "0.4031229 0.0\n",
      "1.7643748e-12\n",
      "0.4031229 0.0\n",
      "1.7643748e-12\n",
      "0.4031229 0.0\n",
      "1.7643748e-12\n",
      "0.4031229 0.0\n",
      "1.7643748e-12\n",
      "0.4031229 0.0\n",
      "1.7643748e-12\n",
      "0.4031229 0.0\n",
      "1.7643748e-12\n",
      "0.4031229 0.0\n",
      "1.7643748e-12\n",
      "0.4031229 0.0\n",
      "1.7643748e-12\n",
      "0.4031229 0.0\n",
      "1.7643748e-12\n",
      "0.4031229 0.0\n",
      "1.7643748e-12\n",
      "0.4031229 0.0\n",
      "1.7643748e-12\n",
      "0.4031229 0.0\n",
      "1.7643748e-12\n",
      "0.4031229 0.0\n",
      "1.7643748e-12\n",
      "0.4031229 0.0\n",
      "1.7643748e-12\n",
      "0.4031229 0.0\n",
      "1.7643748e-12\n",
      "0.4031229 0.0\n",
      "1.7643748e-12\n",
      "0.4031229 0.0\n",
      "1.7643748e-12\n",
      "0.4031229 0.0\n",
      "1.7643748e-12\n",
      "0.4031229 0.0\n",
      "1.7643748e-12\n",
      "0.4031229 0.0\n",
      "1.7643748e-12\n",
      "0.4031229 0.0\n",
      "1.7643748e-12\n",
      "0.4031229 0.0\n",
      "1.7643748e-12\n",
      "0.4031229 0.0\n",
      "1.7643748e-12\n",
      "0.4031229 0.0\n",
      "1.7643748e-12\n",
      "0.4031229 0.0\n",
      "1.7643748e-12\n",
      "0.4031229 0.0\n",
      "1.7643748e-12\n",
      "0.4031229 0.0\n",
      "1.7643748e-12\n",
      "0.4031229 0.0\n",
      "1.7643748e-12\n",
      "0.4031229 0.0\n",
      "1.7643748e-12\n",
      "0.4031229 0.0\n",
      "1.7643748e-12\n",
      "0.4031229 0.0\n",
      "1.7643748e-12\n",
      "0.4031229 0.0\n",
      "1.7643748e-12\n",
      "0.4031229 0.0\n",
      "1.7643748e-12\n",
      "0.4031229 0.0\n",
      "1.7643748e-12\n",
      "0.4031229 0.0\n",
      "1.7643748e-12\n",
      "0.4031229 0.0\n",
      "1.7643748e-12\n",
      "0.4031229 0.0\n",
      "1.7643748e-12\n",
      "0.4031229 0.0\n",
      "1.7643748e-12\n",
      "0.4031229 0.0\n",
      "1.7643748e-12\n",
      "0.4031229 0.0\n",
      "1.7643748e-12\n",
      "0.4031229 0.0\n",
      "1.7643748e-12\n",
      "0.4031229 0.0\n",
      "1.7643748e-12\n",
      "0.4031229 0.0\n",
      "1.7643748e-12\n",
      "0.4031229 0.0\n",
      "1.7643748e-12\n",
      "0.4031229 0.0\n",
      "1.7643748e-12\n",
      "0.4031229 0.0\n",
      "1.7643748e-12\n",
      "0.4031229 0.0\n",
      "1.7643748e-12\n",
      "0.4031229 0.0\n",
      "1.7643748e-12\n",
      "0.4031229 0.0\n",
      "1.7643748e-12\n",
      "0.4031229 0.0\n",
      "1.7643748e-12\n",
      "0.4031229 0.0\n",
      "1.7643748e-12\n",
      "0.4031229 0.0\n",
      "1.7643748e-12\n",
      "0.4031229 0.0\n",
      "1.7643748e-12\n",
      "0.4031229 0.0\n",
      "1.7643748e-12\n",
      "0.4031229 0.0\n",
      "1.7643748e-12\n",
      "0.4031229 0.0\n",
      "1.7643748e-12\n",
      "0.4031229 0.0\n",
      "1.7643748e-12\n",
      "0.4031229 0.0\n",
      "1.7643748e-12\n",
      "0.4031229 0.0\n",
      "1.7643748e-12\n",
      "0.4031229 0.0\n",
      "1.7643748e-12\n",
      "0.4031229 0.0\n",
      "1.7643748e-12\n",
      "0.4031229 0.0\n",
      "1.7643748e-12\n",
      "0.4031229 0.0\n",
      "1.7643748e-12\n",
      "0.4031229 0.0\n",
      "1.7643748e-12\n",
      "0.4031229 0.0\n",
      "1.7643748e-12\n",
      "0.4031229 0.0\n",
      "1.7643748e-12\n",
      "0.4031229 0.0\n",
      "1.7643748e-12\n",
      "0.4031229 0.0\n",
      "1.7643748e-12\n",
      "0.4031229 0.0\n",
      "1.7643748e-12\n",
      "0.4031229 0.0\n",
      "1.7643748e-12\n",
      "0.4031229 0.0\n",
      "1.7643748e-12\n",
      "0.4031229 0.0\n",
      "1.7643748e-12\n",
      "0.4031229 0.0\n",
      "1.7643748e-12\n",
      "0.4031229 0.0\n",
      "1.7643748e-12\n",
      "0.4031229 0.0\n",
      "1.7643748e-12\n",
      "0.4031229 0.0\n",
      "1.7643748e-12\n",
      "0.4031229 0.0\n",
      "1.7643748e-12\n",
      "0.4031229 0.0\n"
     ]
    }
   ],
   "source": [
    "for time_shift in range(256):\n",
    "    x = torch.from_numpy(merge_predictions(x1.cpu().numpy(),x2.cpu().numpy(),x3.cpu().numpy(), time_shift)).cuda()\n",
    "\n",
    "    score = dice_coef(model_masks[idx], x, thr=0.5).cpu().detach().numpy() \n",
    "    print(score)\n",
    "    best_threshold = 0.0\n",
    "    best_dice_score = 0.0\n",
    "    for threshold in [i / 100 for i in range(101)] :\n",
    "        score = dice_coef(model_masks, x, thr=threshold).cpu().detach().numpy() \n",
    "        if score > best_dice_score:\n",
    "            best_dice_score = score\n",
    "            best_threshold = threshold\n",
    "    print(best_dice_score, best_threshold)\n",
    "        "
   ]
  },
  {
   "cell_type": "code",
   "execution_count": 83,
   "id": "37b21cb1",
   "metadata": {},
   "outputs": [
    {
     "data": {
      "text/plain": [
       "tensor([[0., 0., 0.,  ..., 0., 0., 0.],\n",
       "        [0., 0., 0.,  ..., 0., 0., 0.],\n",
       "        [0., 0., 0.,  ..., 0., 0., 0.],\n",
       "        ...,\n",
       "        [0., 0., 0.,  ..., 0., 0., 0.],\n",
       "        [0., 0., 0.,  ..., 0., 0., 0.],\n",
       "        [0., 0., 0.,  ..., 0., 0., 0.]], device='cuda:0')"
      ]
     },
     "execution_count": 83,
     "metadata": {},
     "output_type": "execute_result"
    }
   ],
   "source": [
    "model_masks[0]"
   ]
  },
  {
   "cell_type": "code",
   "execution_count": 85,
   "id": "c65c2e09",
   "metadata": {},
   "outputs": [
    {
     "data": {
      "text/plain": [
       "torch.Size([1856, 256, 256])"
      ]
     },
     "execution_count": 85,
     "metadata": {},
     "output_type": "execute_result"
    }
   ],
   "source": [
    "x1.shape"
   ]
  },
  {
   "cell_type": "code",
   "execution_count": null,
   "id": "4c59fffd",
   "metadata": {},
   "outputs": [],
   "source": []
  }
 ],
 "metadata": {
  "kernelspec": {
   "display_name": "Python 3 (ipykernel)",
   "language": "python",
   "name": "python3"
  },
  "language_info": {
   "codemirror_mode": {
    "name": "ipython",
    "version": 3
   },
   "file_extension": ".py",
   "mimetype": "text/x-python",
   "name": "python",
   "nbconvert_exporter": "python",
   "pygments_lexer": "ipython3",
   "version": "3.10.11"
  }
 },
 "nbformat": 4,
 "nbformat_minor": 5
}
