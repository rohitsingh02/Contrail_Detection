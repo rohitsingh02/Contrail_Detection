{
 "cells": [
  {
   "cell_type": "code",
   "execution_count": 1,
   "id": "b0de7637",
   "metadata": {},
   "outputs": [],
   "source": [
    "#!pip install efficientnet_pytorch timm pretrainedmodels segmentation_models_pytorch pandas albumentations matplotlib colorama"
   ]
  },
  {
   "cell_type": "code",
   "execution_count": 2,
   "id": "83ed5744",
   "metadata": {},
   "outputs": [],
   "source": [
    "import os\n",
    "import shutil\n",
    "import pathlib\n",
    "\n",
    "from PIL import Image\n",
    "import pandas as pd\n",
    "import numpy as np\n",
    "import cv2 as cv\n",
    "import random\n",
    "import matplotlib.pyplot as plt\n",
    "from tqdm.auto import tqdm\n",
    "\n",
    "import torch\n",
    "import torch.nn as nn\n",
    "import torch.nn.functional as F\n",
    "from torch import optim\n",
    "\n",
    "from torch.utils.data import DataLoader, random_split\n",
    "from torch.utils.data import Dataset\n",
    "\n",
    "import torchvision\n",
    "from torchvision import datasets\n",
    "import cv2\n",
    "from torch.cuda import amp\n",
    "\n",
    "import torchvision.transforms as T\n",
    "from torchvision.transforms import Compose, ToTensor, Resize\n",
    "from torchvision.utils import make_grid\n",
    "\n",
    "try:\n",
    "    import albumentations as A\n",
    "    from albumentations.pytorch import ToTensorV2\n",
    "    import segmentation_models_pytorch as smp\n",
    "except:\n",
    "    !pip install -q -U segmentation-models-pytorch albumentations > /dev/null\n",
    "    import albumentations as A\n",
    "    import segmentation_models_pytorch as smp\n",
    "    from albumentations.pytorch import ToTensorV2\n"
   ]
  },
  {
   "cell_type": "code",
   "execution_count": 3,
   "id": "575272a5",
   "metadata": {},
   "outputs": [],
   "source": [
    "#timm.list_models('*efficient*')"
   ]
  },
  {
   "cell_type": "code",
   "execution_count": 4,
   "id": "7a411c37",
   "metadata": {},
   "outputs": [
    {
     "data": {
      "text/plain": [
       "device(type='cuda')"
      ]
     },
     "execution_count": 4,
     "metadata": {},
     "output_type": "execute_result"
    }
   ],
   "source": [
    "# device = torch.device('cpu')\n",
    "if torch.cuda.is_available():\n",
    "    device = torch.device('cuda')\n",
    "else:\n",
    "    device = torch.device('cpu')\n",
    "\n",
    "device"
   ]
  },
  {
   "cell_type": "code",
   "execution_count": 5,
   "id": "c6805e68",
   "metadata": {},
   "outputs": [
    {
     "name": "stdout",
     "output_type": "stream",
     "text": [
      "20530\n",
      "1857\n"
     ]
    }
   ],
   "source": [
    "! ls -l ./contraildata/train/data_train/kaggle/working/data/ | wc -l\n",
    "# Count of val records\n",
    "! ls -l ./contraildata/validation/data_valid/kaggle/working/data_valid/ | wc -l"
   ]
  },
  {
   "cell_type": "code",
   "execution_count": 6,
   "id": "135857c4",
   "metadata": {},
   "outputs": [],
   "source": [
    "class CFG:\n",
    "    seed          = 101\n",
    "    debug         = False # set debug=False for Full Training\n",
    "    exp_name      = 'effb8modelv2fold0'\n",
    "    comment       = 'unet-effb0-256x256-aug2-split2'\n",
    "    model_name    = 'Unet'\n",
    "    backbone      = 'tf_efficientnet_b8','efficientnet--r','efficientnet-b5'\n",
    "    train_bs      = 16\n",
    "    valid_bs      = train_bs\n",
    "    img_size      = [512, 512]\n",
    "    epochs        = 100\n",
    "    lr            = 1e-3\n",
    "    scheduler     = 'CosineAnnealingLR'\n",
    "    min_lr        = 1e-6\n",
    "    T_max         = int(30000/train_bs*epochs)+50\n",
    "    T_0           = 25\n",
    "    warmup_epochs = 0\n",
    "    wd            = 1e-6\n",
    "    n_accumulate  = max(1, 32//train_bs)\n",
    "    n_fold        = 5\n",
    "    num_classes   = 1\n",
    "    p_mixup         =0.8\n",
    "    device        = torch.device(\"cuda:0\" if torch.cuda.is_available() else \"cpu\")"
   ]
  },
  {
   "cell_type": "code",
   "execution_count": 7,
   "id": "beb2b4e8",
   "metadata": {},
   "outputs": [
    {
     "name": "stdout",
     "output_type": "stream",
     "text": [
      "> SEEDING DONE\n"
     ]
    }
   ],
   "source": [
    "def set_seed(seed = 42):\n",
    "    '''Sets the seed of the entire notebook so results are the same every time we run.\n",
    "    This is for REPRODUCIBILITY.'''\n",
    "    np.random.seed(seed)\n",
    "    random.seed(seed)\n",
    "    torch.manual_seed(seed)\n",
    "    torch.cuda.manual_seed(seed)\n",
    "    # When running on the CuDNN backend, two further options must be set\n",
    "    torch.backends.cudnn.deterministic = True\n",
    "    torch.backends.cudnn.benchmark = False\n",
    "    # Set a fixed value for the hash seed\n",
    "    \n",
    "    os.environ['PYTHONHASHSEED'] = str(seed)\n",
    "    print('> SEEDING DONE')\n",
    "    \n",
    "set_seed(CFG.seed)"
   ]
  },
  {
   "cell_type": "code",
   "execution_count": 8,
   "id": "9d9125ea",
   "metadata": {},
   "outputs": [],
   "source": [
    "data_transforms = {\n",
    "    \"train\": A.Compose([\n",
    "        A.Resize(*CFG.img_size, interpolation=cv2.INTER_NEAREST),\n",
    "        A.HorizontalFlip(p=0.3),\n",
    "#         A.VerticalFlip(p=0.5),\n",
    "        A.ShiftScaleRotate(shift_limit=0.0625, scale_limit=0.05, rotate_limit=10, p=0.5),\n",
    "#        A.OneOf([\n",
    "#            A.GridDistortion(num_steps=5, distort_limit=0.05, p=1.0),\n",
    "# #             A.OpticalDistortion(distort_limit=0.05, shift_limit=0.05, p=1.0),\n",
    "#            A.ElasticTransform(alpha=1, sigma=50, alpha_affine=50, p=1.0)\n",
    "#        ], p=0.25),\n",
    "#        A.CoarseDropout(max_holes=8, max_height=CFG.img_size[0]//20, max_width=CFG.img_size[1]//20,\n",
    "#                         min_holes=5, fill_value=0, mask_fill_value=0, p=0.5),\n",
    "        A.OneOf([\n",
    "            A.GridDistortion(num_steps=5, distort_limit=0.05, p=1.0),\n",
    " #             A.OpticalDistortion(distort_limit=0.05, shift_limit=0.05, p=1.0),\n",
    "            A.ElasticTransform(alpha=1, sigma=50, alpha_affine=50, p=1.0)\n",
    "        ], p=0.25),\n",
    "        A.OneOf([\n",
    "         #   A.HueSaturationValue(hue_shift_limit=0.5, sat_shift_limit=0.5, val_shift_limit=0.5, always_apply=False, p=1.0),\n",
    "            A.Downscale(interpolation=cv2.INTER_NEAREST,p=1.0),\n",
    "            A.Sharpen(p=1.0)\n",
    "           # A.ChannelShuffle(p=1.0)\n",
    "        ],\n",
    "        p=0.5),\n",
    "        A.CoarseDropout(max_holes=8, max_height=CFG.img_size[0]//10, max_width=CFG.img_size[1]//50,\n",
    "                         min_holes=1, fill_value=0.35, mask_fill_value=0.35, p=0.6),\n",
    "        ], p=1.0),\n",
    "    \n",
    "\n",
    "    \n",
    "    \"valid\": A.Compose([\n",
    "        A.Resize(*CFG.img_size, interpolation=cv2.INTER_NEAREST),\n",
    "        ], p=1.0)\n",
    "}\n",
    "\n",
    "\n",
    "hard_data_transforms = {\n",
    "    \"train\": A.Compose([\n",
    "        A.Resize(*CFG.img_size, interpolation=cv2.INTER_NEAREST),\n",
    "        A.HorizontalFlip(p=0.5),\n",
    "        A.VerticalFlip(p=0.5),\n",
    "        A.ShiftScaleRotate(shift_limit=0.0625, scale_limit=0.05, rotate_limit=10, p=0.5),\n",
    "        A.OneOf([\n",
    "            A.GridDistortion(num_steps=5, distort_limit=0.05, p=1.0),\n",
    "            A.OpticalDistortion(distort_limit=0.05, shift_limit=0.05, p=1.0),\n",
    "            A.ElasticTransform(alpha=1, sigma=50, alpha_affine=50, p=1.0)\n",
    "        ], p=0.25),\n",
    "        A.CoarseDropout(max_holes=8, max_height=CFG.img_size[0]//20, max_width=CFG.img_size[1]//20,\n",
    "                         min_holes=5, fill_value=0, mask_fill_value=0, p=0.5),\n",
    "        ], p=1.0),\n",
    "    \n",
    "    \"valid\": A.Compose([\n",
    "        A.Resize(*CFG.img_size, interpolation=cv2.INTER_NEAREST),\n",
    "        ], p=1.0)\n",
    "}"
   ]
  },
  {
   "cell_type": "code",
   "execution_count": 9,
   "id": "69f02164",
   "metadata": {},
   "outputs": [],
   "source": [
    "class Dataset:\n",
    "    def __init__(self,mode,fold,transform =None,is_inference=True):\n",
    "        \n",
    "        self.is_infer = is_inference\n",
    "        self.fold =fold\n",
    "        ROOT_PATH = './contraildata/'\n",
    "\n",
    "        df = pd.read_csv(f\"{ROOT_PATH}/train_data_nir_folds.csv\")\n",
    "\n",
    "        \n",
    "        if mode == 'train':\n",
    "            ROOT_PATH = './contraildata/'\n",
    "            DATA_PATH = './contraildata/train/data_train/kaggle/working/data/'\n",
    "            df =df.loc[df.fold != self.fold].copy().reset_index()\n",
    "            \n",
    "        elif mode =='valid':\n",
    "            ROOT_PATH = './contraildata/'\n",
    "            DATA_PATH = './contraildata/validation/data_valid/kaggle/working/data_valid/'\n",
    "            df =df.loc[df.fold == self.fold].copy().reset_index()\n",
    "        else :\n",
    "            ROOT_PATH = './contraildata/'\n",
    "            DATA_PATH = './contraildata/validation/data_valid/kaggle/working/data_valid/'\n",
    "\n",
    "        self.images = df['image']\n",
    "        self.labels = df['label']\n",
    "        self.transform =transform\n",
    "        \n",
    "    def __getitem__(self, idx):\n",
    "        image = np.load(self.images[idx]).astype(float)\n",
    "        if not self.is_infer : \n",
    "            \n",
    "            label = np.load(self.labels[idx]).astype(float)\n",
    "            \n",
    "            if  self.transform :\n",
    "                data = self.transform(image=image, mask=label)\n",
    "                image  = data['image']\n",
    "                label  = data['mask']\n",
    "                image = np.transpose(image, (2, 0, 1))\n",
    "                label = np.transpose(label, (2, 0, 1))                \n",
    "            return torch.tensor(image), torch.tensor(label)\n",
    "        else :\n",
    "\n",
    "            if  self.transform :\n",
    "                data = self.transform(image=image)\n",
    "                image  = data['image']\n",
    "                image = np.transpose(image, (2, 0, 1))\n",
    "            return torch.tensor(image)\n",
    "    \n",
    "    def __len__(self):\n",
    "        return len(self.images)\n",
    "    \n",
    "train_dataset = Dataset('train',fold=0,transform =data_transforms['train'],is_inference=False)    \n",
    "val_dataset = Dataset('valid',fold=0,transform =data_transforms['valid'],is_inference=False)    \n",
    "test_dataset = Dataset('test',fold=0,transform =data_transforms['valid'],is_inference=True)    \n"
   ]
  },
  {
   "cell_type": "code",
   "execution_count": null,
   "id": "60eb2500",
   "metadata": {},
   "outputs": [],
   "source": []
  },
  {
   "cell_type": "code",
   "execution_count": 10,
   "id": "82b25eb4",
   "metadata": {},
   "outputs": [
    {
     "data": {
      "text/plain": [
       "(16423, 4106, 20529)"
      ]
     },
     "execution_count": 10,
     "metadata": {},
     "output_type": "execute_result"
    }
   ],
   "source": [
    "len(train_dataset), len(val_dataset), len(test_dataset)"
   ]
  },
  {
   "cell_type": "code",
   "execution_count": 11,
   "id": "f922d2f2",
   "metadata": {},
   "outputs": [],
   "source": [
    "train_loader = DataLoader(train_dataset, batch_size=CFG.train_bs , \n",
    "                              num_workers=4, shuffle=True, pin_memory=True, drop_last=False)\n",
    "valid_loader = DataLoader(val_dataset, batch_size=2 , \n",
    "                              num_workers=4, shuffle=False, pin_memory=True)\n",
    "test_loader = DataLoader(test_dataset, batch_size=CFG.valid_bs, \n",
    "                              num_workers=4, shuffle=False, pin_memory=True)"
   ]
  },
  {
   "cell_type": "code",
   "execution_count": 12,
   "id": "e83dac4a",
   "metadata": {},
   "outputs": [
    {
     "data": {
      "text/plain": [
       "(torch.Size([2, 3, 512, 512]), torch.Size([2, 1, 512, 512]))"
      ]
     },
     "execution_count": 12,
     "metadata": {},
     "output_type": "execute_result"
    }
   ],
   "source": [
    "imgs, msks = next(iter(valid_loader))\n",
    "imgs.size(), msks.size()"
   ]
  },
  {
   "cell_type": "code",
   "execution_count": 13,
   "id": "5c0c04aa",
   "metadata": {},
   "outputs": [
    {
     "data": {
      "text/plain": [
       "<matplotlib.image.AxesImage at 0x7f955fffb7f0>"
      ]
     },
     "execution_count": 13,
     "metadata": {},
     "output_type": "execute_result"
    },
    {
     "data": {
      "image/png": "[encoded data removed]",
      "text/plain": [
       "<Figure size 640x480 with 1 Axes>"
      ]
     },
     "metadata": {},
     "output_type": "display_data"
    }
   ],
   "source": [
    "def show_img(img, mask=None):\n",
    "    clahe = cv2.createCLAHE(clipLimit=2.0, tileGridSize=(8,8))\n",
    "    plt.imshow(img)\n",
    "    \n",
    "    if mask is not None:\n",
    "        plt.imshow(mask, alpha=0.9)\n",
    "\n",
    "    plt.axis('off')\n",
    "\n",
    "plt.imshow(imgs[0,].permute((1, 2, 0)).numpy())\n",
    "plt.imshow(msks[0].permute((1, 2, 0)).numpy(), alpha=0.5)"
   ]
  },
  {
   "cell_type": "code",
   "execution_count": 14,
   "id": "0a66dc28",
   "metadata": {},
   "outputs": [],
   "source": [
    "import timm as timm\n",
    "def plot_batch(imgs, msks, size=5):\n",
    "    plt.figure(figsize=(5*5, 5))\n",
    "    for idx in range(size):\n",
    "        plt.subplot(1, 5, idx+1)\n",
    "        img = imgs[idx,].permute((1, 2, 0)).numpy()\n",
    "        #img = img.astype('uint8')\n",
    "        msk = msks[idx,].permute((1, 2, 0)).numpy()\n",
    "        show_img(img, msk)\n",
    "    plt.tight_layout()\n",
    "    plt.show()\n",
    "    \n"
   ]
  },
  {
   "cell_type": "code",
   "execution_count": 15,
   "id": "4e3c02b8",
   "metadata": {},
   "outputs": [],
   "source": [
    "#timm.list_models(\"*efficientnet*\")"
   ]
  },
  {
   "cell_type": "code",
   "execution_count": 16,
   "id": "8a225b1d",
   "metadata": {},
   "outputs": [],
   "source": [
    "#plot_batch(imgs,msks)"
   ]
  },
  {
   "cell_type": "code",
   "execution_count": 17,
   "id": "71a2726f",
   "metadata": {},
   "outputs": [],
   "source": [
    "#encoder"
   ]
  },
  {
   "cell_type": "code",
   "execution_count": 18,
   "id": "a28a5dd6",
   "metadata": {},
   "outputs": [],
   "source": [
    "import segmentation_models_pytorch as smp\n",
    "import timm\n",
    "n_blocks = 4\n",
    "\n",
    "class TimmSegModel(nn.Module):\n",
    "    def __init__(self, backbone, segtype='unet', pretrained=True):\n",
    "        super(TimmSegModel, self).__init__()\n",
    "        self.conv1 = nn.Conv2d(3, 6, 3, stride=1, padding=1, bias=False)\n",
    "        self.conv2 = nn.Conv2d(6, 12, 3, stride=1, padding=1, bias=False)\n",
    "        self.conv3 = nn.Conv2d(12, 36, 3, stride=1, padding=1, bias=False)\n",
    "        self.mybn1 = nn.BatchNorm2d(6)\n",
    "        self.mybn2 = nn.BatchNorm2d(12)\n",
    "        self.mybn3 = nn.BatchNorm2d(36)     \n",
    "        self.encoder = timm.create_model(\n",
    "            backbone,\n",
    "            in_chans=3,\n",
    "            features_only=True,\n",
    "            drop_rate=0.8,\n",
    "            drop_path_rate=0.5,\n",
    "            pretrained=True\n",
    "        )\n",
    "#        self.encoder.conv_stem.weight = nn.Parameter(self.encoder.conv_stem.weight.repeat(1, 6, 1, 1))\n",
    "        self.encoder.conv_stem=nn.Conv2d(6, 72, kernel_size=(3, 3), stride=(2, 2), padding=(1, 1), bias=False)\n",
    "\n",
    "        self.encoder.blocks[5] = nn.Identity()\n",
    "        self.encoder.blocks[6] = nn.Sequential(\n",
    "            nn.Conv2d(self.encoder.blocks[4][2].conv_pwl.out_channels, 320, 1),\n",
    "            nn.BatchNorm2d(320),\n",
    "            nn.ReLU6(),\n",
    "        )\n",
    "        tr = torch.randn(1,6,64,64)\n",
    "        g = self.encoder(tr)\n",
    "        encoder_channels = [1] + [_.shape[1] for _ in g]\n",
    "        decoder_channels = [256, 128, 64, 32, 16]\n",
    "        if segtype == 'unet':\n",
    "            self.decoder = smp.decoders.unetplusplus.decoder.UnetPlusPlusDecoder(\n",
    "                encoder_channels=encoder_channels[:n_blocks+1],\n",
    "                decoder_channels=decoder_channels[:n_blocks],\n",
    "                n_blocks=n_blocks,\n",
    "            )\n",
    "\n",
    "        self.segmentation_head = nn.Conv2d(decoder_channels[n_blocks-1], CFG.num_classes, kernel_size=(3, 3), stride=(1, 1), padding=(1, 1))\n",
    "\n",
    "    def forward(self,x):\n",
    "        #print(x.shape)\n",
    "\n",
    "        x = F.relu6(self.mybn1(self.conv1(x)))\n",
    "#        x = F.relu6(self.mybn2(self.conv2(x)))\n",
    "#        x = F.relu6(self.mybn3(self.conv3(x)))\n",
    "        global_features = [0] + self.encoder(x)[:n_blocks]\n",
    "        seg_features = self.decoder(*global_features)\n",
    "        seg_features = self.segmentation_head(seg_features)\n",
    "        return seg_features\n",
    "\n",
    "#path='./exp/baselinev2/qishentrialv2_tf_efficientnet_b7_ns_last_epoch-00.bin'\n",
    "\n",
    "\n",
    "def build_model(backbone):\n",
    "    model = TimmSegModel(backbone,segtype='unet')\n",
    "    model.to(CFG.device)\n",
    "    return model\n",
    "\n",
    "def load_model(path,backbone):\n",
    "    model = build_model(backbone)\n",
    "    model.load_state_dict(torch.load(path))\n",
    "    model.eval()\n",
    "    return model"
   ]
  },
  {
   "cell_type": "code",
   "execution_count": 19,
   "id": "6944f85a",
   "metadata": {},
   "outputs": [],
   "source": [
    "\n",
    "##########################Anotha Banguh###########################\n",
    "import segmentation_models_pytorch as smp\n",
    "import timm\n",
    "n_blocks = 4\n",
    "\n",
    "n_blocks =4\n",
    "class TimmSegModel(nn.Module):\n",
    "    def __init__(self, backbone, segtype='unet', pretrained=True):\n",
    "        super(TimmSegModel, self).__init__()\n",
    "\n",
    "        self.encoder = timm.create_model(\n",
    "            backbone,\n",
    "            in_chans=3,\n",
    "            features_only=True,\n",
    "            drop_rate=0.5,\n",
    "           # drop_path_rate=0.0,\n",
    "            pretrained=pretrained\n",
    "        )\n",
    "        g = self.encoder(torch.rand(1, 3, 128, 128))\n",
    "        encoder_channels = [1] + [_.shape[1] for _ in g]\n",
    "        decoder_channels = [256, 128, 64, 32, 16]\n",
    "        if segtype == 'unet':\n",
    "            self.decoder = smp.decoders.unetplusplus.decoder.UnetPlusPlusDecoder(\n",
    "                encoder_channels=encoder_channels[:n_blocks+1],\n",
    "                decoder_channels=decoder_channels[:n_blocks],\n",
    "                n_blocks=n_blocks,\n",
    "            )\n",
    "\n",
    "        self.segmentation_head = nn.Sequential(\n",
    "            nn.Conv2d(decoder_channels[n_blocks-1], 1, kernel_size=(3, 3), stride=(1, 1), padding=(1, 1)),\n",
    "            nn.UpsamplingBilinear2d(scale_factor=1))\n",
    "\n",
    "    def forward(self,x):\n",
    "        global_features = [0] + self.encoder(x)[:n_blocks]\n",
    "        seg_features = self.decoder(*global_features)\n",
    "        seg_features = self.segmentation_head(seg_features)\n",
    "        return seg_features\n",
    "    \n",
    "#path='./exp/baselinev2/qishentrialv2_tf_efficientnet_b7_ns_last_epoch-00.bin'\n",
    "\n",
    "\n",
    "def build_model(backbone):\n",
    "    model = TimmSegModel(backbone,segtype='unet')\n",
    "    model.to(CFG.device)\n",
    "    return model\n",
    "\n",
    "def load_model(path,backbone):\n",
    "    model = build_model(backbone)\n",
    "    model.load_state_dict(torch.load(path))\n",
    "    model.eval()\n",
    "    return model"
   ]
  },
  {
   "cell_type": "code",
   "execution_count": 20,
   "id": "f38ad064",
   "metadata": {},
   "outputs": [],
   "source": [
    "#import timm\n",
    "#timm.list_models('*efficientnet*')"
   ]
  },
  {
   "cell_type": "code",
   "execution_count": 21,
   "id": "08a6d572",
   "metadata": {},
   "outputs": [],
   "source": [
    "JaccardLoss = smp.losses.JaccardLoss(mode='binary')\n",
    "DiceLoss    = smp.losses.DiceLoss(mode='binary')\n",
    "BCELoss     = smp.losses.SoftBCEWithLogitsLoss()\n",
    "LovaszLoss  = smp.losses.LovaszLoss(mode='binary', per_image=True)\n",
    "TverskyLoss = smp.losses.TverskyLoss(mode='binary', log_loss=False)\n",
    "\n",
    "epsilon = 1e-5\n",
    "smooth = 1\n",
    "#DiceLoss=smp.utils.losses.DiceLoss()\n",
    "\n",
    "def tversky(y_pred, y_true):\n",
    "    y_true_pos = torch.flatten(y_true)\n",
    "    y_pred_pos = torch.flatten(y_pred)\n",
    "    true_pos = torch.sum(y_true_pos * y_pred_pos)\n",
    "    false_neg = torch.sum(y_true_pos * (1-y_pred_pos))\n",
    "    false_pos = torch.sum((1-y_true_pos)*y_pred_pos)\n",
    "    alpha = 0.7\n",
    "    return (true_pos + smooth)/(true_pos + alpha*false_neg + (1-alpha)*false_pos + smooth)\n",
    "\n",
    "#def tversky_loss( y_pred,y_true):\n",
    "#    return 1 - tversky(y_true,y_pred)\n",
    "\n",
    "def focal_tversky(y_pred,y_true):\n",
    "    pt_1 = tversky(y_pred,y_true)\n",
    "    gamma = 0.75\n",
    "    return torch.pow((1-pt_1), gamma)\n",
    "class Focal_Tversky():\n",
    "    def __init__(self, eps=1.0, activation=None, ignore_channels=None, **kwargs):\n",
    "        super().__init__(**kwargs)\n",
    "        self.eps = eps\n",
    "        #self.activation = Activation(activation)\n",
    "        self.ignore_channels = ignore_channels\n",
    "\n",
    "    def forward(self, y_pr, y_gt):\n",
    "        #y_pr = self.activation(y_pr)\n",
    "        return 1.0*focal_tversky(y_pr,y_gt)\n",
    "    \n",
    "def dice_coef(y_true, y_pred, thr=0.5, dim=(2,3), epsilon=0.001):\n",
    "    y_true = y_true.to(torch.float32)\n",
    "    y_pred = (y_pred>thr).to(torch.float32)\n",
    "    inter = (y_true*y_pred).sum(dim=dim)\n",
    "    den = y_true.sum(dim=dim) + y_pred.sum(dim=dim)\n",
    "    dice = ((2*inter+epsilon)/(den+epsilon)).mean(dim=(1,0))\n",
    "        \n",
    "    return dice\n",
    "\n",
    "def dice_score(y_true, y_pred, smooth=1e-6):\n",
    "    y_true = y_true.to(torch.float32)\n",
    "    y_pred = (y_pred>0.5).to(torch.float32)\n",
    "    i = torch.sum(y_pred * y_true, dim=(2, 3))\n",
    "    u = torch.sum(y_pred, dim=(2, 3)) + torch.sum(y_true, dim=(2, 3))\n",
    "    score = (2 * i + smooth)/(u + smooth)\n",
    "    return torch.mean(score)\n",
    "\n",
    "def dice_all(y_true, y_pred, smooth=1e-6):\n",
    "    y_true = y_true.to(torch.float32)\n",
    "    y_pred = (y_pred).to(torch.float32)\n",
    "    i = torch.sum(y_pred * y_true)\n",
    "    u = torch.sum(y_pred) + torch.sum(y_true)\n",
    "    score = (2 * i + smooth)/(u + smooth)\n",
    "    return score\n",
    "\n",
    "def iou_coef(y_true, y_pred, thr=0.5, dim=(2,3), epsilon=0.001):\n",
    "    y_true = y_true.to(torch.float32)\n",
    "    y_pred = (y_pred>thr).to(torch.float32)\n",
    "    inter = (y_true*y_pred).sum(dim=dim)\n",
    "    union = (y_true + y_pred - y_true*y_pred).sum(dim=dim)\n",
    "    iou = ((inter+epsilon)/(union+epsilon)).mean(dim=(1,0))\n",
    "    return iou\n",
    "\n",
    "def criterion(y_pred, y_true):\n",
    "    return 0.5*BCELoss(y_pred, y_true) + 0.5*TverskyLoss(y_pred, y_true)\n",
    "\n",
    "def criterion2(y_pred, y_true):\n",
    "    return LovaszLoss(y_pred, y_true)"
   ]
  },
  {
   "cell_type": "code",
   "execution_count": 22,
   "id": "3ca99108",
   "metadata": {},
   "outputs": [],
   "source": [
    "def mixup(input, truth, clip=[0, 1]):\n",
    "    indices = torch.randperm(input.size(0))\n",
    "    shuffled_input = input[indices]\n",
    "    shuffled_labels = truth[indices]\n",
    "\n",
    "    lam = np.random.uniform(clip[0], clip[1])\n",
    "    input = input * lam + shuffled_input * (1 - lam)\n",
    "    return input, truth, shuffled_labels, lam\n",
    "\n",
    "def rand_bbox(size, lam):\n",
    "    W = size[2]\n",
    "    H = size[3]\n",
    "    cut_rat = np.sqrt(1. - lam)\n",
    "    cut_w = np.int(W * cut_rat)\n",
    "    cut_h = np.int(H * cut_rat)\n",
    "\n",
    "    # uniform\n",
    "    cx = np.random.randint(W)\n",
    "    cy = np.random.randint(H)\n",
    "\n",
    "    bbx1 = np.clip(cx - cut_w // 2, 0, W)\n",
    "    bby1 = np.clip(cy - cut_h // 2, 0, H)\n",
    "    bbx2 = np.clip(cx + cut_w // 2, 0, W)\n",
    "    bby2 = np.clip(cy + cut_h // 2, 0, H)\n",
    "    return bbx1, bby1, bbx2, bby2\n",
    "\n",
    "def cutmix(data, target, alpha=1.):\n",
    "    indices = torch.randperm(data.size(0))\n",
    "    shuffled_data = data[indices]\n",
    "    shuffled_target = target[indices]\n",
    "\n",
    "    lam = np.clip(np.random.beta(alpha, alpha),0.3,0.4)\n",
    "    bbx1, bby1, bbx2, bby2 = rand_bbox(data.size(), lam)\n",
    "    new_data = data.clone()\n",
    "    new_data[:, :, bby1:bby2, bbx1:bbx2] = data[indices, :, bby1:bby2, bbx1:bbx2]\n",
    "    # adjust lambda to exactly match pixel ratio\n",
    "    lam = 1 - ((bbx2 - bbx1) * (bby2 - bby1) / (data.size()[-1] * data.size()[-2]))\n",
    "    targets = (target, shuffled_target, lam)\n",
    "\n",
    "    return new_data,target,shuffled_target,lam\n",
    "\n",
    "def fmix(data, targets, alpha, decay_power, shape, max_soft=0.0, reformulate=False):\n",
    "    lam, mask = sample_mask(alpha, decay_power, shape, max_soft, reformulate)\n",
    "    #mask =torch.tensor(mask, device=device).float()\n",
    "    indices = torch.randperm(data.size(0))\n",
    "    shuffled_data = data[indices]\n",
    "    shuffled_targets = targets[indices]\n",
    "    x1 = torch.from_numpy(mask).to(device)*data\n",
    "    x2 = torch.from_numpy(1-mask).to(device)*shuffled_data\n",
    "    targets=(targets, shuffled_targets, lam)\n",
    "    \n",
    "    return (x1+x2), targets\n",
    "\n",
    "\n",
    "def train_one_epoch(model, optimizer, scheduler, dataloader, device, epoch):\n",
    "    model.train()\n",
    "    scaler = amp.GradScaler()\n",
    "    \n",
    "    dataset_size = 0\n",
    "    running_loss = 0.0\n",
    "    \n",
    "    pbar = tqdm(enumerate(dataloader), total=len(dataloader), desc='Train ')\n",
    "    for step, (images, masks) in pbar:\n",
    "        images = images.to(device, dtype=torch.float)\n",
    "        masks  = masks.to(device, dtype=torch.float)\n",
    "        #masks = torch.nn.functional.interpolate(masks,size=256, mode='nearest')\n",
    "        \n",
    "        do_mixup = False\n",
    "        mixing = random.random()\n",
    "        #print(f\"MIXING Value {mixing}\")\n",
    "        if mixing < 0.25:\n",
    "            do_mixup = True\n",
    "            images, masks, masks_sfl, lam = mixup(images, masks)\n",
    "        do_cutmix = False\n",
    "        if (mixing>0.25) and (mixing <0.5) :\n",
    "            do_cutmix = True\n",
    "            images, masks, masks_sfl, lam = cutmix(images, masks)  \n",
    "            \n",
    "        batch_size = images.size(0)\n",
    "        \n",
    "        with amp.autocast(enabled=True):\n",
    "            y_pred = model(images) \n",
    "            loss   = criterion(y_pred, masks) \n",
    "            loss   = loss / CFG.n_accumulate \n",
    "            if do_mixup: \n",
    "                loss2 = criterion(y_pred, masks_sfl) \n",
    "                loss = loss * lam  + loss2 * (1 - lam) \n",
    "            if do_cutmix: \n",
    "                loss2 = criterion(y_pred, masks_sfl) \n",
    "                loss = loss * lam  + loss2 * (1 - lam) \n",
    "            \n",
    "        scaler.scale(loss).backward()\n",
    "    \n",
    "        if (step + 1) % CFG.n_accumulate == 0:\n",
    "            scaler.step(optimizer)\n",
    "            scaler.update()\n",
    "\n",
    "            # zero the parameter gradients\n",
    "            optimizer.zero_grad()\n",
    "\n",
    "            if scheduler is not None:\n",
    "                scheduler.step()\n",
    "                \n",
    "        running_loss += (loss.item() * batch_size)\n",
    "        dataset_size += batch_size\n",
    "        \n",
    "        epoch_loss = running_loss / dataset_size\n",
    "        \n",
    "        mem = torch.cuda.memory_reserved() / 1E9 if torch.cuda.is_available() else 0\n",
    "        current_lr = optimizer.param_groups[0]['lr']\n",
    "        pbar.set_postfix(train_loss=f'{epoch_loss:0.4f}',\n",
    "                        lr=f'{current_lr:0.5f}',\n",
    "                        gpu_mem=f'{mem:0.2f} GB')\n",
    "    torch.cuda.empty_cache()\n",
    "    gc.collect()\n",
    "    \n",
    "    return epoch_loss"
   ]
  },
  {
   "cell_type": "code",
   "execution_count": 23,
   "id": "96169f59",
   "metadata": {},
   "outputs": [],
   "source": [
    "@torch.no_grad()\n",
    "def valid_one_epoch(model, dataloader, device, epoch):\n",
    "    model.eval()\n",
    "    \n",
    "    dataset_size = 0\n",
    "    running_loss = 0.0\n",
    "    \n",
    "    val_scores = []\n",
    "    masks_all =[]\n",
    "    preds_all =[]\n",
    "    pbar = tqdm(enumerate(dataloader), total=len(dataloader), desc='Valid ')\n",
    "    for step, (images, masks) in pbar:        \n",
    "        images  = images.to(device, dtype=torch.float)\n",
    "        masks   = masks.to(device, dtype=torch.float)\n",
    "       # masks = torch.nn.functional.interpolate(masks,size=256, mode='nearest')\n",
    "        masks_all.append(masks)\n",
    "        \n",
    "        batch_size = images.size(0)\n",
    "        \n",
    "        y_pred  = model(images)\n",
    "        loss    = criterion(y_pred, masks)\n",
    "        \n",
    "        running_loss += (loss.item() * batch_size)\n",
    "        dataset_size += batch_size\n",
    "        \n",
    "        epoch_loss = running_loss / dataset_size\n",
    "        \n",
    "        y_pred = nn.Sigmoid()(y_pred)\n",
    "        preds_all.append(y_pred)\n",
    "        val_dice = dice_coef(masks, y_pred).cpu().detach().numpy()\n",
    "        val_jaccard = iou_coef(masks, y_pred).cpu().detach().numpy()\n",
    "        val_dice_mod = dice_score(masks, y_pred).cpu().detach().numpy()\n",
    "\n",
    "        val_scores.append([val_dice, val_jaccard,val_dice_mod])\n",
    "        \n",
    "        mem = torch.cuda.memory_reserved() / 1E9 if torch.cuda.is_available() else 0\n",
    "        current_lr = optimizer.param_groups[0]['lr']\n",
    "        pbar.set_postfix(valid_loss=f'{epoch_loss:0.4f}',\n",
    "                        lr=f'{current_lr:0.5f}',\n",
    "                        gpu_memory=f'{mem:0.2f} GB')\n",
    "\n",
    "    predictions = torch.flatten(torch.stack(preds_all))\n",
    "    ground_truth = torch.flatten(torch.stack(masks_all))\n",
    "\n",
    "    val_corret_dice =dice_all(ground_truth,predictions).cpu().detach().numpy()\n",
    "    val_scores  = np.mean(val_scores, axis=0)\n",
    "    \n",
    "    print(val_corret_dice)\n",
    "    \n",
    "    torch.cuda.empty_cache()\n",
    "    gc.collect()\n",
    "    \n",
    "    return epoch_loss, val_scores,val_corret_dice"
   ]
  },
  {
   "cell_type": "code",
   "execution_count": 24,
   "id": "78c3bc52",
   "metadata": {},
   "outputs": [],
   "source": [
    "# For colored terminal text\n",
    "from colorama import Fore, Back, Style\n",
    "c_  = Fore.GREEN\n",
    "sr_ = Style.RESET_ALL"
   ]
  },
  {
   "cell_type": "code",
   "execution_count": 25,
   "id": "f4328151",
   "metadata": {},
   "outputs": [],
   "source": [
    "def run_training(model,backbone, optimizer, scheduler, device, num_epochs):\n",
    "    # To automatically log gradients\n",
    "   # wandb.watch(model, log_freq=100)\n",
    "    fold =0\n",
    "    if torch.cuda.is_available():\n",
    "        print(\"cuda: {}\\n\".format(torch.cuda.get_device_name()))\n",
    "        \n",
    "    print(f\"Start Training for Backbone ====> {backbone}\")\n",
    "    \n",
    "    start = time.time()\n",
    "    best_model_wts = copy.deepcopy(model.state_dict())\n",
    "    best_dice      = -np.inf\n",
    "    best_epoch     = -1\n",
    "    history = defaultdict(list)\n",
    "    \n",
    "    for epoch in range(1, num_epochs + 1): \n",
    "        gc.collect()\n",
    "        print(f'Epoch {epoch}/{num_epochs}', end='')\n",
    "        train_loss = train_one_epoch(model, optimizer, scheduler, \n",
    "                                           dataloader=train_loader, \n",
    "                                           device=CFG.device, epoch=epoch)\n",
    "        \n",
    "        val_loss, val_scores,val_correct_dice = valid_one_epoch(model, valid_loader, \n",
    "                                                 device=CFG.device, \n",
    "                                                 epoch=epoch)\n",
    "        val_dice, val_jaccard,val_dice_mod = val_scores\n",
    "    \n",
    "        history['Train Loss'].append(train_loss)\n",
    "        history['Valid Loss'].append(val_loss)\n",
    "        history['Valid Dice'].append(val_correct_dice)\n",
    "        history['Valid Jaccard'].append(val_jaccard)\n",
    "        history['Valid Dice Mod'].append(val_dice_mod)\n",
    "\n",
    "        \n",
    "        # Log the metrics\n",
    " #       wandb.log({\"Train Loss\": train_loss, \n",
    " #                  \"Valid Loss\": val_loss,\n",
    " #                  \"Valid Dice\": val_dice,\n",
    " #                  \"Valid Jaccard\": val_jaccard,\n",
    " #                  \"LR\":scheduler.get_last_lr()[0]})\n",
    "        \n",
    "        print(f'Valid Dice: {val_dice:0.4f} | Valid Jaccard: {val_jaccard:0.4f} | Valid Dice Mod: {val_dice_mod:0.4f}')\n",
    "        \n",
    "        # deep copy the model\n",
    "        if val_correct_dice >= best_dice:\n",
    "            print(f\"{c_}Valid Score Improved ({best_dice:0.4f} ---> {val_correct_dice:0.4f})\")\n",
    "            best_dice    = val_correct_dice\n",
    "            best_jaccard = val_jaccard\n",
    "            best_epoch   = epoch\n",
    "            #run.summary[\"Best Dice\"]    = best_dice\n",
    "            #run.summary[\"Best Jaccard\"] = best_jaccard\n",
    "            #run.summary[\"Best Epoch\"]   = best_epoch\n",
    "            best_model_wts = copy.deepcopy(model.state_dict())\n",
    "            PATH = f\"{CFG.exp_name}_{backbone}_best_epoch-{fold:02d}.bin\"\n",
    "            torch.save(model.state_dict(), PATH)\n",
    "            # Save a model file from the current directory\n",
    "            #wandb.save(PATH)\n",
    "            print(f\"Model Saved{sr_}\")\n",
    "            \n",
    "        last_model_wts = copy.deepcopy(model.state_dict())\n",
    "        PATH = f\"{CFG.exp_name}_{backbone}_last_epoch-{fold:02d}.bin\"\n",
    "        torch.save(model.state_dict(), PATH)\n",
    "            \n",
    "        print(); print()\n",
    "    \n",
    "    end = time.time()\n",
    "    time_elapsed = end - start\n",
    "    print('Training complete in {:.0f}h {:.0f}m {:.0f}s'.format(\n",
    "        time_elapsed // 3600, (time_elapsed % 3600) // 60, (time_elapsed % 3600) % 60))\n",
    "    print(\"Best Score: {:.4f}\".format(best_jaccard))\n",
    "    \n",
    "    # load best model weights\n",
    "    model.load_state_dict(best_model_wts)\n",
    "    \n",
    "    return model, history"
   ]
  },
  {
   "cell_type": "code",
   "execution_count": 26,
   "id": "418b1af7",
   "metadata": {},
   "outputs": [],
   "source": [
    "from torch.optim import lr_scheduler\n",
    "\n",
    "def fetch_scheduler(optimizer):\n",
    "    if CFG.scheduler == 'CosineAnnealingLR':\n",
    "        scheduler = lr_scheduler.CosineAnnealingLR(optimizer,T_max=CFG.T_max, \n",
    "                                                   eta_min=CFG.min_lr)\n",
    "    elif CFG.scheduler == 'CosineAnnealingWarmRestarts':\n",
    "        scheduler = lr_scheduler.CosineAnnealingWarmRestarts(optimizer,T_0=CFG.T_0, \n",
    "                                                             eta_min=CFG.min_lr)\n",
    "    elif CFG.scheduler == 'ReduceLROnPlateau':\n",
    "        scheduler = lr_scheduler.ReduceLROnPlateau(optimizer,\n",
    "                                                   mode='min',\n",
    "                                                   factor=0.1,\n",
    "                                                   patience=7,\n",
    "                                                   threshold=0.0001,\n",
    "                                                   min_lr=CFG.min_lr,)\n",
    "    elif CFG.scheduer == 'ExponentialLR':\n",
    "        scheduler = lr_scheduler.ExponentialLR(optimizer, gamma=0.85)\n",
    "    elif CFG.scheduler == None:\n",
    "        return None\n",
    "        \n",
    "    return scheduler"
   ]
  },
  {
   "cell_type": "code",
   "execution_count": 27,
   "id": "7b71b2cb",
   "metadata": {},
   "outputs": [],
   "source": [
    "def rle_encode(x, fg_val=1):\n",
    "    \"\"\"\n",
    "    Args:\n",
    "        x:  numpy array of shape (height, width), 1 - mask, 0 - background\n",
    "    Returns: run length encoding as list\n",
    "    \"\"\"\n",
    "\n",
    "    dots = np.where(\n",
    "        x.T.flatten() == fg_val)[0]  # .T sets Fortran order down-then-right\n",
    "    run_lengths = []\n",
    "    prev = -2\n",
    "    for b in dots:\n",
    "        if b > prev + 1:\n",
    "            run_lengths.extend((b + 1, 0))\n",
    "        run_lengths[-1] += 1\n",
    "        prev = b\n",
    "    return run_lengths\n",
    "\n",
    "\n",
    "def list_to_string(x):\n",
    "    \"\"\"\n",
    "    Converts list to a string representation\n",
    "    Empty list returns '-'\n",
    "    \"\"\"\n",
    "    if x: # non-empty list\n",
    "        s = str(x).replace(\"[\", \"\").replace(\"]\", \"\").replace(\",\", \"\")\n",
    "    else:\n",
    "        s = '-'\n",
    "    return s\n",
    "\n",
    "\n",
    "def rle_decode(mask_rle, shape=(256, 256)):\n",
    "    '''\n",
    "    mask_rle: run-length as string formatted (start length)\n",
    "              empty predictions need to be encoded with '-'\n",
    "    shape: (height, width) of array to return \n",
    "    Returns numpy array, 1 - mask, 0 - background\n",
    "    '''\n",
    "\n",
    "    img = np.zeros(shape[0]*shape[1], dtype=np.uint8)\n",
    "    if mask_rle != '-': \n",
    "        s = mask_rle.split()\n",
    "        starts, lengths = [np.asarray(x, dtype=int) for x in (s[0:][::2], s[1:][::2])]\n",
    "        starts -= 1\n",
    "        ends = starts + lengths\n",
    "        for lo, hi in zip(starts, ends):\n",
    "            img[lo:hi] = 1\n",
    "    return img.reshape(shape, order='F') "
   ]
  },
  {
   "cell_type": "code",
   "execution_count": 28,
   "id": "dd03161f",
   "metadata": {},
   "outputs": [
    {
     "name": "stdout",
     "output_type": "stream",
     "text": [
      "tf_efficientnet_b8\n",
      "cuda: NVIDIA A40\n",
      "\n",
      "Start Training for Backbone ====> tf_efficientnet_b8\n",
      "Epoch 1/100"
     ]
    },
    {
     "name": "stderr",
     "output_type": "stream",
     "text": [
      "Train :   0%|          | 4/1027 [00:07<21:28,  1.26s/it, gpu_mem=34.25 GB, lr=0.00100, train_loss=0.4402]  /tmp/ipykernel_1911/579482191.py:14: DeprecationWarning: `np.int` is a deprecated alias for the builtin `int`. To silence this warning, use `int` by itself. Doing this will not modify any behavior and is safe. When replacing `np.int`, you may wish to use e.g. `np.int64` or `np.int32` to specify the precision. If you wish to review your current use, check the release note link for additional information.\n",
      "Deprecated in NumPy 1.20; for more details and guidance: https://numpy.org/devdocs/release/1.20.0-notes.html#deprecations\n",
      "  cut_w = np.int(W * cut_rat)\n",
      "/tmp/ipykernel_1911/579482191.py:15: DeprecationWarning: `np.int` is a deprecated alias for the builtin `int`. To silence this warning, use `int` by itself. Doing this will not modify any behavior and is safe. When replacing `np.int`, you may wish to use e.g. `np.int64` or `np.int32` to specify the precision. If you wish to review your current use, check the release note link for additional information.\n",
      "Deprecated in NumPy 1.20; for more details and guidance: https://numpy.org/devdocs/release/1.20.0-notes.html#deprecations\n",
      "  cut_h = np.int(H * cut_rat)\n",
      "Train : 100%|██████████| 1027/1027 [10:08<00:00,  1.69it/s, gpu_mem=34.25 GB, lr=0.00100, train_loss=0.2069]\n",
      "Valid : 100%|██████████| 2053/2053 [01:43<00:00, 19.79it/s, gpu_memory=10.87 GB, lr=0.00100, valid_loss=0.1902]\n"
     ]
    },
    {
     "name": "stdout",
     "output_type": "stream",
     "text": [
      "0.58100957\n",
      "Valid Dice: 0.6876 | Valid Jaccard: 0.6261 | Valid Dice Mod: 0.6876\n",
      "\u001b[32mValid Score Improved (-inf ---> 0.5810)\n",
      "Model Saved\u001b[0m\n",
      "\n",
      "\n",
      "Epoch 2/100"
     ]
    },
    {
     "name": "stderr",
     "output_type": "stream",
     "text": [
      "Train : 100%|██████████| 1027/1027 [10:08<00:00,  1.69it/s, gpu_mem=35.60 GB, lr=0.00100, train_loss=0.1901]\n",
      "Valid : 100%|██████████| 2053/2053 [01:44<00:00, 19.73it/s, gpu_memory=11.20 GB, lr=0.00100, valid_loss=0.1870]\n"
     ]
    },
    {
     "name": "stdout",
     "output_type": "stream",
     "text": [
      "0.5847422\n",
      "Valid Dice: 0.6791 | Valid Jaccard: 0.6168 | Valid Dice Mod: 0.6791\n",
      "\u001b[32mValid Score Improved (0.5810 ---> 0.5847)\n",
      "Model Saved\u001b[0m\n",
      "\n",
      "\n",
      "Epoch 3/100"
     ]
    },
    {
     "name": "stderr",
     "output_type": "stream",
     "text": [
      "Train : 100%|██████████| 1027/1027 [10:08<00:00,  1.69it/s, gpu_mem=36.72 GB, lr=0.00100, train_loss=0.1864]\n",
      "Valid : 100%|██████████| 2053/2053 [01:43<00:00, 19.77it/s, gpu_memory=11.21 GB, lr=0.00100, valid_loss=0.1807]\n"
     ]
    },
    {
     "name": "stdout",
     "output_type": "stream",
     "text": [
      "0.6173657\n",
      "Valid Dice: 0.7351 | Valid Jaccard: 0.6756 | Valid Dice Mod: 0.7351\n",
      "\u001b[32mValid Score Improved (0.5847 ---> 0.6174)\n",
      "Model Saved\u001b[0m\n",
      "\n",
      "\n",
      "Epoch 4/100"
     ]
    },
    {
     "name": "stderr",
     "output_type": "stream",
     "text": [
      "Train : 100%|██████████| 1027/1027 [10:08<00:00,  1.69it/s, gpu_mem=35.59 GB, lr=0.00100, train_loss=0.1832]\n",
      "Valid : 100%|██████████| 2053/2053 [01:44<00:00, 19.67it/s, gpu_memory=11.08 GB, lr=0.00100, valid_loss=0.1749]\n"
     ]
    },
    {
     "name": "stdout",
     "output_type": "stream",
     "text": [
      "0.5993653\n",
      "Valid Dice: 0.6927 | Valid Jaccard: 0.6284 | Valid Dice Mod: 0.6927\n",
      "\n",
      "\n",
      "Epoch 5/100"
     ]
    },
    {
     "name": "stderr",
     "output_type": "stream",
     "text": [
      "Train : 100%|██████████| 1027/1027 [10:10<00:00,  1.68it/s, gpu_mem=36.36 GB, lr=0.00100, train_loss=0.1804]\n",
      "Valid : 100%|██████████| 2053/2053 [01:43<00:00, 19.84it/s, gpu_memory=11.19 GB, lr=0.00100, valid_loss=0.1790]\n"
     ]
    },
    {
     "name": "stdout",
     "output_type": "stream",
     "text": [
      "0.63422644\n",
      "Valid Dice: 0.7538 | Valid Jaccard: 0.6962 | Valid Dice Mod: 0.7538\n",
      "\u001b[32mValid Score Improved (0.6174 ---> 0.6342)\n",
      "Model Saved\u001b[0m\n",
      "\n",
      "\n",
      "Epoch 6/100"
     ]
    },
    {
     "name": "stderr",
     "output_type": "stream",
     "text": [
      "Train : 100%|██████████| 1027/1027 [10:08<00:00,  1.69it/s, gpu_mem=35.58 GB, lr=0.00100, train_loss=0.1786]\n",
      "Valid : 100%|██████████| 2053/2053 [01:54<00:00, 17.97it/s, gpu_memory=11.20 GB, lr=0.00100, valid_loss=0.1690]\n"
     ]
    },
    {
     "name": "stdout",
     "output_type": "stream",
     "text": [
      "0.63240725\n",
      "Valid Dice: 0.7312 | Valid Jaccard: 0.6693 | Valid Dice Mod: 0.7312\n",
      "\n",
      "\n",
      "Epoch 7/100"
     ]
    },
    {
     "name": "stderr",
     "output_type": "stream",
     "text": [
      "Train : 100%|██████████| 1027/1027 [10:17<00:00,  1.66it/s, gpu_mem=36.51 GB, lr=0.00100, train_loss=0.1786]\n",
      "Valid :  85%|████████▌ | 1748/2053 [01:28<00:15, 19.84it/s, gpu_memory=9.84 GB, lr=0.00100, valid_loss=0.1654]IOPub message rate exceeded.\n",
      "The notebook server will temporarily stop sending output\n",
      "to the client in order to avoid crashing it.\n",
      "To change this limit, set the config variable\n",
      "`--NotebookApp.iopub_msg_rate_limit`.\n",
      "\n",
      "Current values:\n",
      "NotebookApp.iopub_msg_rate_limit=1000.0 (msgs/sec)\n",
      "NotebookApp.rate_limit_window=3.0 (secs)\n",
      "\n",
      "Valid : 100%|██████████| 2053/2053 [01:43<00:00, 19.87it/s, gpu_memory=11.07 GB, lr=0.00100, valid_loss=0.1673]\n"
     ]
    },
    {
     "name": "stdout",
     "output_type": "stream",
     "text": [
      "0.6242709\n",
      "Valid Dice: 0.7402 | Valid Jaccard: 0.6779 | Valid Dice Mod: 0.7402\n",
      "\n",
      "\n",
      "Epoch 9/100"
     ]
    },
    {
     "name": "stderr",
     "output_type": "stream",
     "text": [
      "Train :  70%|███████   | 723/1027 [07:11<03:09,  1.60it/s, gpu_mem=36.38 GB, lr=0.00100, train_loss=0.1787]IOPub message rate exceeded.\n",
      "The notebook server will temporarily stop sending output\n",
      "to the client in order to avoid crashing it.\n",
      "To change this limit, set the config variable\n",
      "`--NotebookApp.iopub_msg_rate_limit`.\n",
      "\n",
      "Current values:\n",
      "NotebookApp.iopub_msg_rate_limit=1000.0 (msgs/sec)\n",
      "NotebookApp.rate_limit_window=3.0 (secs)\n",
      "\n",
      "Train : 100%|██████████| 1027/1027 [10:12<00:00,  1.68it/s, gpu_mem=36.51 GB, lr=0.00100, train_loss=0.1762]\n",
      "Valid : 100%|██████████| 2053/2053 [01:43<00:00, 19.90it/s, gpu_memory=10.96 GB, lr=0.00100, valid_loss=0.1671]\n"
     ]
    },
    {
     "name": "stdout",
     "output_type": "stream",
     "text": [
      "0.6330404\n",
      "Valid Dice: 0.7250 | Valid Jaccard: 0.6622 | Valid Dice Mod: 0.7250\n",
      "\n",
      "\n",
      "Epoch 16/100"
     ]
    },
    {
     "name": "stderr",
     "output_type": "stream",
     "text": [
      "Train : 100%|██████████| 1027/1027 [10:09<00:00,  1.68it/s, gpu_mem=36.71 GB, lr=0.00100, train_loss=0.1787]\n",
      "Valid : 100%|██████████| 2053/2053 [01:43<00:00, 19.87it/s, gpu_memory=11.23 GB, lr=0.00100, valid_loss=0.1594]\n"
     ]
    },
    {
     "name": "stdout",
     "output_type": "stream",
     "text": [
      "0.64743567\n",
      "Valid Dice: 0.7232 | Valid Jaccard: 0.6597 | Valid Dice Mod: 0.7232\n",
      "\u001b[32mValid Score Improved (0.6432 ---> 0.6474)\n",
      "Model Saved\u001b[0m\n",
      "\n",
      "\n",
      "Epoch 17/100"
     ]
    },
    {
     "name": "stderr",
     "output_type": "stream",
     "text": [
      "Train : 100%|██████████| 1027/1027 [10:11<00:00,  1.68it/s, gpu_mem=36.47 GB, lr=0.00099, train_loss=0.1773]\n",
      "Valid : 100%|██████████| 2053/2053 [01:43<00:00, 19.91it/s, gpu_memory=11.25 GB, lr=0.00099, valid_loss=0.1602]\n"
     ]
    },
    {
     "name": "stdout",
     "output_type": "stream",
     "text": [
      "0.645896\n",
      "Valid Dice: 0.7373 | Valid Jaccard: 0.6739 | Valid Dice Mod: 0.7373\n",
      "\n",
      "\n",
      "Epoch 18/100"
     ]
    },
    {
     "name": "stderr",
     "output_type": "stream",
     "text": [
      "Valid : 100%|██████████| 2053/2053 [01:42<00:00, 20.05it/s, gpu_memory=11.25 GB, lr=0.00098, valid_loss=0.1560]\n"
     ]
    },
    {
     "name": "stdout",
     "output_type": "stream",
     "text": [
      "0.657739\n",
      "Valid Dice: 0.7398 | Valid Jaccard: 0.6767 | Valid Dice Mod: 0.7398\n",
      "\n",
      "\n",
      "Epoch 31/100"
     ]
    },
    {
     "name": "stderr",
     "output_type": "stream",
     "text": [
      "Train : 100%|██████████| 1027/1027 [09:57<00:00,  1.72it/s, gpu_mem=36.44 GB, lr=0.00098, train_loss=0.1713]\n",
      "Valid :  49%|████▉     | 1008/2053 [00:50<00:51, 20.14it/s, gpu_memory=6.61 GB, lr=0.00098, valid_loss=0.1580]IOPub message rate exceeded.\n",
      "The notebook server will temporarily stop sending output\n",
      "to the client in order to avoid crashing it.\n",
      "To change this limit, set the config variable\n",
      "`--NotebookApp.iopub_msg_rate_limit`.\n",
      "\n",
      "Current values:\n",
      "NotebookApp.iopub_msg_rate_limit=1000.0 (msgs/sec)\n",
      "NotebookApp.rate_limit_window=3.0 (secs)\n",
      "\n",
      "Train : 100%|██████████| 1027/1027 [09:55<00:00,  1.72it/s, gpu_mem=36.72 GB, lr=0.00098, train_loss=0.1727]\n",
      "Valid : 100%|██████████| 2053/2053 [01:42<00:00, 20.04it/s, gpu_memory=11.25 GB, lr=0.00098, valid_loss=0.1628]\n"
     ]
    },
    {
     "name": "stdout",
     "output_type": "stream",
     "text": [
      "0.6283959\n",
      "Valid Dice: 0.7211 | Valid Jaccard: 0.6568 | Valid Dice Mod: 0.7211\n",
      "\n",
      "\n",
      "Epoch 34/100"
     ]
    },
    {
     "name": "stderr",
     "output_type": "stream",
     "text": [
      "Train :  11%|█         | 111/1027 [01:06<08:35,  1.78it/s, gpu_mem=36.77 GB, lr=0.00098, train_loss=0.1722]IOPub message rate exceeded.\n",
      "The notebook server will temporarily stop sending output\n",
      "to the client in order to avoid crashing it.\n",
      "To change this limit, set the config variable\n",
      "`--NotebookApp.iopub_msg_rate_limit`.\n",
      "\n",
      "Current values:\n",
      "NotebookApp.iopub_msg_rate_limit=1000.0 (msgs/sec)\n",
      "NotebookApp.rate_limit_window=3.0 (secs)\n",
      "\n",
      "Valid : 100%|██████████| 2053/2053 [01:42<00:00, 20.03it/s, gpu_memory=11.28 GB, lr=0.00098, valid_loss=0.1549]\n"
     ]
    },
    {
     "name": "stdout",
     "output_type": "stream",
     "text": [
      "0.6532287\n",
      "Valid Dice: 0.7176 | Valid Jaccard: 0.6535 | Valid Dice Mod: 0.7176\n",
      "\n",
      "\n",
      "Epoch 36/100"
     ]
    },
    {
     "name": "stderr",
     "output_type": "stream",
     "text": [
      "Train :  78%|███████▊  | 803/1027 [07:43<02:09,  1.72it/s, gpu_mem=36.83 GB, lr=0.00098, train_loss=0.1748]IOPub message rate exceeded.\n",
      "The notebook server will temporarily stop sending output\n",
      "to the client in order to avoid crashing it.\n",
      "To change this limit, set the config variable\n",
      "`--NotebookApp.iopub_msg_rate_limit`.\n",
      "\n",
      "Current values:\n",
      "NotebookApp.iopub_msg_rate_limit=1000.0 (msgs/sec)\n",
      "NotebookApp.rate_limit_window=3.0 (secs)\n",
      "\n",
      "Train : 100%|██████████| 1027/1027 [10:12<00:00,  1.68it/s, gpu_mem=36.53 GB, lr=0.00097, train_loss=0.1696]\n",
      "Valid :  52%|█████▏    | 1059/2053 [00:52<00:48, 20.32it/s, gpu_memory=6.83 GB, lr=0.00097, valid_loss=0.1560]IOPub message rate exceeded.\n",
      "The notebook server will temporarily stop sending output\n",
      "to the client in order to avoid crashing it.\n",
      "To change this limit, set the config variable\n",
      "`--NotebookApp.iopub_msg_rate_limit`.\n",
      "\n",
      "Current values:\n",
      "NotebookApp.iopub_msg_rate_limit=1000.0 (msgs/sec)\n",
      "NotebookApp.rate_limit_window=3.0 (secs)\n",
      "\n",
      "Train : 100%|██████████| 1027/1027 [10:12<00:00,  1.68it/s, gpu_mem=36.52 GB, lr=0.00097, train_loss=0.1730]\n",
      "Valid :  95%|█████████▍| 1947/2053 [01:36<00:05, 20.02it/s, gpu_memory=10.79 GB, lr=0.00097, valid_loss=0.1561]IOPub message rate exceeded.\n",
      "The notebook server will temporarily stop sending output\n",
      "to the client in order to avoid crashing it.\n",
      "To change this limit, set the config variable\n",
      "`--NotebookApp.iopub_msg_rate_limit`.\n",
      "\n",
      "Current values:\n",
      "NotebookApp.iopub_msg_rate_limit=1000.0 (msgs/sec)\n",
      "NotebookApp.rate_limit_window=3.0 (secs)\n",
      "\n",
      "Valid : 100%|██████████| 2053/2053 [01:42<00:00, 20.08it/s, gpu_memory=11.27 GB, lr=0.00097, valid_loss=0.1556]\n"
     ]
    },
    {
     "name": "stdout",
     "output_type": "stream",
     "text": [
      "0.6596516\n",
      "Valid Dice: 0.7444 | Valid Jaccard: 0.6815 | Valid Dice Mod: 0.7444\n",
      "\n",
      "\n",
      "Epoch 43/100"
     ]
    },
    {
     "name": "stderr",
     "output_type": "stream",
     "text": [
      "Train :  85%|████████▍ | 872/1027 [08:40<01:34,  1.64it/s, gpu_mem=36.80 GB, lr=0.00097, train_loss=0.1746]IOPub message rate exceeded.\n",
      "The notebook server will temporarily stop sending output\n",
      "to the client in order to avoid crashing it.\n",
      "To change this limit, set the config variable\n",
      "`--NotebookApp.iopub_msg_rate_limit`.\n",
      "\n",
      "Current values:\n",
      "NotebookApp.iopub_msg_rate_limit=1000.0 (msgs/sec)\n",
      "NotebookApp.rate_limit_window=3.0 (secs)\n",
      "\n",
      "Valid : 100%|██████████| 2053/2053 [01:42<00:00, 20.12it/s, gpu_memory=11.27 GB, lr=0.00096, valid_loss=0.1519]\n"
     ]
    },
    {
     "name": "stdout",
     "output_type": "stream",
     "text": [
      "0.66346514\n",
      "Valid Dice: 0.7570 | Valid Jaccard: 0.6939 | Valid Dice Mod: 0.7570\n",
      "\n",
      "\n",
      "Epoch 45/100"
     ]
    },
    {
     "name": "stderr",
     "output_type": "stream",
     "text": [
      "Train : 100%|██████████| 1027/1027 [10:12<00:00,  1.68it/s, gpu_mem=36.53 GB, lr=0.00096, train_loss=0.1698]\n",
      "Valid : 100%|██████████| 2053/2053 [01:42<00:00, 20.10it/s, gpu_memory=11.25 GB, lr=0.00096, valid_loss=0.1549]\n"
     ]
    },
    {
     "name": "stdout",
     "output_type": "stream",
     "text": [
      "0.65506864\n",
      "Valid Dice: 0.7365 | Valid Jaccard: 0.6734 | Valid Dice Mod: 0.7365\n",
      "\n",
      "\n",
      "Epoch 46/100"
     ]
    },
    {
     "name": "stderr",
     "output_type": "stream",
     "text": [
      "Train : 100%|██████████| 1027/1027 [10:08<00:00,  1.69it/s, gpu_mem=36.77 GB, lr=0.00096, train_loss=0.1729]\n",
      "Valid : 100%|██████████| 2053/2053 [01:42<00:00, 20.07it/s, gpu_memory=11.30 GB, lr=0.00096, valid_loss=0.1505]\n"
     ]
    },
    {
     "name": "stdout",
     "output_type": "stream",
     "text": [
      "0.67010915\n",
      "Valid Dice: 0.7632 | Valid Jaccard: 0.7008 | Valid Dice Mod: 0.7632\n",
      "\u001b[32mValid Score Improved (0.6672 ---> 0.6701)\n",
      "Model Saved\u001b[0m\n",
      "\n",
      "\n",
      "Epoch 47/100"
     ]
    },
    {
     "name": "stderr",
     "output_type": "stream",
     "text": [
      "Train : 100%|██████████| 1027/1027 [09:53<00:00,  1.73it/s, gpu_mem=36.84 GB, lr=0.00096, train_loss=0.1692]\n",
      "Valid : 100%|██████████| 2053/2053 [01:42<00:00, 20.07it/s, gpu_memory=11.30 GB, lr=0.00096, valid_loss=0.1562]\n"
     ]
    },
    {
     "name": "stdout",
     "output_type": "stream",
     "text": [
      "0.65360004\n",
      "Valid Dice: 0.7428 | Valid Jaccard: 0.6798 | Valid Dice Mod: 0.7428\n",
      "\n",
      "\n",
      "Epoch 48/100"
     ]
    },
    {
     "name": "stderr",
     "output_type": "stream",
     "text": [
      "Train : 100%|██████████| 1027/1027 [09:56<00:00,  1.72it/s, gpu_mem=36.48 GB, lr=0.00096, train_loss=0.1699]\n",
      "Valid : 100%|██████████| 2053/2053 [01:42<00:00, 20.08it/s, gpu_memory=11.33 GB, lr=0.00096, valid_loss=0.1554]\n"
     ]
    },
    {
     "name": "stdout",
     "output_type": "stream",
     "text": [
      "0.66360825\n",
      "Valid Dice: 0.7601 | Valid Jaccard: 0.6983 | Valid Dice Mod: 0.7601\n",
      "\n",
      "\n",
      "Epoch 49/100"
     ]
    },
    {
     "name": "stderr",
     "output_type": "stream",
     "text": [
      "Train : 100%|██████████| 1027/1027 [09:58<00:00,  1.72it/s, gpu_mem=36.53 GB, lr=0.00096, train_loss=0.1738]\n",
      "Valid : 100%|██████████| 2053/2053 [01:42<00:00, 20.06it/s, gpu_memory=11.29 GB, lr=0.00096, valid_loss=0.1528]\n"
     ]
    },
    {
     "name": "stdout",
     "output_type": "stream",
     "text": [
      "0.6601843\n",
      "Valid Dice: 0.7496 | Valid Jaccard: 0.6861 | Valid Dice Mod: 0.7496\n",
      "\n",
      "\n",
      "Epoch 50/100"
     ]
    },
    {
     "name": "stderr",
     "output_type": "stream",
     "text": [
      "Train : 100%|██████████| 1027/1027 [09:51<00:00,  1.74it/s, gpu_mem=36.84 GB, lr=0.00095, train_loss=0.1749]\n",
      "Valid : 100%|██████████| 2053/2053 [01:42<00:00, 20.05it/s, gpu_memory=11.31 GB, lr=0.00095, valid_loss=0.1536]\n"
     ]
    },
    {
     "name": "stdout",
     "output_type": "stream",
     "text": [
      "0.66094744\n",
      "Valid Dice: 0.7585 | Valid Jaccard: 0.6957 | Valid Dice Mod: 0.7585\n",
      "\n",
      "\n",
      "Epoch 51/100"
     ]
    },
    {
     "name": "stderr",
     "output_type": "stream",
     "text": [
      "Train : 100%|██████████| 1027/1027 [09:50<00:00,  1.74it/s, gpu_mem=36.54 GB, lr=0.00095, train_loss=0.1710]\n",
      "Valid : 100%|██████████| 2053/2053 [01:42<00:00, 20.03it/s, gpu_memory=11.28 GB, lr=0.00095, valid_loss=0.1579]\n"
     ]
    },
    {
     "name": "stdout",
     "output_type": "stream",
     "text": [
      "0.66228837\n",
      "Valid Dice: 0.7672 | Valid Jaccard: 0.7065 | Valid Dice Mod: 0.7672\n",
      "\n",
      "\n",
      "Epoch 52/100"
     ]
    },
    {
     "name": "stderr",
     "output_type": "stream",
     "text": [
      "Train : 100%|██████████| 1027/1027 [09:51<00:00,  1.74it/s, gpu_mem=36.49 GB, lr=0.00095, train_loss=0.1723]\n",
      "Valid : 100%|██████████| 2053/2053 [01:42<00:00, 20.05it/s, gpu_memory=11.28 GB, lr=0.00095, valid_loss=0.1536]\n"
     ]
    },
    {
     "name": "stdout",
     "output_type": "stream",
     "text": [
      "0.6701313\n",
      "Valid Dice: 0.7649 | Valid Jaccard: 0.7032 | Valid Dice Mod: 0.7649\n",
      "\u001b[32mValid Score Improved (0.6701 ---> 0.6701)\n",
      "Model Saved\u001b[0m\n",
      "\n",
      "\n",
      "Epoch 53/100"
     ]
    },
    {
     "name": "stderr",
     "output_type": "stream",
     "text": [
      "Train : 100%|██████████| 1027/1027 [10:09<00:00,  1.68it/s, gpu_mem=36.51 GB, lr=0.00095, train_loss=0.1742]\n",
      "Valid : 100%|██████████| 2053/2053 [01:42<00:00, 20.03it/s, gpu_memory=11.26 GB, lr=0.00095, valid_loss=0.1543]\n"
     ]
    },
    {
     "name": "stdout",
     "output_type": "stream",
     "text": [
      "0.661068\n",
      "Valid Dice: 0.7606 | Valid Jaccard: 0.6985 | Valid Dice Mod: 0.7606\n",
      "\n",
      "\n",
      "Epoch 54/100"
     ]
    },
    {
     "name": "stderr",
     "output_type": "stream",
     "text": [
      "Train : 100%|██████████| 1027/1027 [10:05<00:00,  1.70it/s, gpu_mem=36.50 GB, lr=0.00095, train_loss=0.1720]\n",
      "Valid : 100%|██████████| 2053/2053 [01:42<00:00, 20.09it/s, gpu_memory=11.30 GB, lr=0.00095, valid_loss=0.1546]\n"
     ]
    },
    {
     "name": "stdout",
     "output_type": "stream",
     "text": [
      "0.6621682\n",
      "Valid Dice: 0.7659 | Valid Jaccard: 0.7036 | Valid Dice Mod: 0.7659\n",
      "\n",
      "\n",
      "Epoch 55/100"
     ]
    },
    {
     "name": "stderr",
     "output_type": "stream",
     "text": [
      "Train : 100%|██████████| 1027/1027 [10:08<00:00,  1.69it/s, gpu_mem=36.50 GB, lr=0.00095, train_loss=0.1724]\n",
      "Valid : 100%|██████████| 2053/2053 [01:42<00:00, 20.07it/s, gpu_memory=11.31 GB, lr=0.00095, valid_loss=0.1507]\n"
     ]
    },
    {
     "name": "stdout",
     "output_type": "stream",
     "text": [
      "0.6692767\n",
      "Valid Dice: 0.7620 | Valid Jaccard: 0.6997 | Valid Dice Mod: 0.7620\n",
      "\n",
      "\n",
      "Epoch 56/100"
     ]
    },
    {
     "name": "stderr",
     "output_type": "stream",
     "text": [
      "Train : 100%|██████████| 1027/1027 [10:11<00:00,  1.68it/s, gpu_mem=36.85 GB, lr=0.00094, train_loss=0.1762]\n",
      "Valid : 100%|██████████| 2053/2053 [01:42<00:00, 20.04it/s, gpu_memory=11.26 GB, lr=0.00094, valid_loss=0.1518]\n"
     ]
    },
    {
     "name": "stdout",
     "output_type": "stream",
     "text": [
      "0.66634125\n",
      "Valid Dice: 0.7575 | Valid Jaccard: 0.6952 | Valid Dice Mod: 0.7575\n",
      "\n",
      "\n",
      "Epoch 57/100"
     ]
    },
    {
     "name": "stderr",
     "output_type": "stream",
     "text": [
      "Train : 100%|██████████| 1027/1027 [10:07<00:00,  1.69it/s, gpu_mem=36.80 GB, lr=0.00094, train_loss=0.1725]\n",
      "Valid : 100%|██████████| 2053/2053 [01:42<00:00, 20.05it/s, gpu_memory=11.28 GB, lr=0.00094, valid_loss=0.1534]\n"
     ]
    },
    {
     "name": "stdout",
     "output_type": "stream",
     "text": [
      "0.6639529\n",
      "Valid Dice: 0.7524 | Valid Jaccard: 0.6901 | Valid Dice Mod: 0.7524\n",
      "\n",
      "\n",
      "Epoch 58/100"
     ]
    },
    {
     "name": "stderr",
     "output_type": "stream",
     "text": [
      "Train : 100%|██████████| 1027/1027 [09:49<00:00,  1.74it/s, gpu_mem=36.60 GB, lr=0.00094, train_loss=0.1744]\n",
      "Valid : 100%|██████████| 2053/2053 [01:42<00:00, 20.03it/s, gpu_memory=11.27 GB, lr=0.00094, valid_loss=0.1560]\n"
     ]
    },
    {
     "name": "stdout",
     "output_type": "stream",
     "text": [
      "0.6602569\n",
      "Valid Dice: 0.7700 | Valid Jaccard: 0.7083 | Valid Dice Mod: 0.7700\n",
      "\n",
      "\n",
      "Epoch 59/100"
     ]
    },
    {
     "name": "stderr",
     "output_type": "stream",
     "text": [
      "Train : 100%|██████████| 1027/1027 [10:08<00:00,  1.69it/s, gpu_mem=36.53 GB, lr=0.00094, train_loss=0.1719]\n",
      "Valid : 100%|██████████| 2053/2053 [01:42<00:00, 20.08it/s, gpu_memory=11.29 GB, lr=0.00094, valid_loss=0.1506]\n"
     ]
    },
    {
     "name": "stdout",
     "output_type": "stream",
     "text": [
      "0.6724789\n",
      "Valid Dice: 0.7667 | Valid Jaccard: 0.7045 | Valid Dice Mod: 0.7667\n",
      "\u001b[32mValid Score Improved (0.6701 ---> 0.6725)\n",
      "Model Saved\u001b[0m\n",
      "\n",
      "\n",
      "Epoch 60/100"
     ]
    },
    {
     "name": "stderr",
     "output_type": "stream",
     "text": [
      "Train : 100%|██████████| 1027/1027 [09:58<00:00,  1.72it/s, gpu_mem=36.89 GB, lr=0.00094, train_loss=0.1725]\n",
      "Valid : 100%|██████████| 2053/2053 [01:42<00:00, 20.09it/s, gpu_memory=11.30 GB, lr=0.00094, valid_loss=0.1570]\n"
     ]
    },
    {
     "name": "stdout",
     "output_type": "stream",
     "text": [
      "0.667571\n",
      "Valid Dice: 0.7679 | Valid Jaccard: 0.7075 | Valid Dice Mod: 0.7679\n",
      "\n",
      "\n",
      "Epoch 61/100"
     ]
    },
    {
     "name": "stderr",
     "output_type": "stream",
     "text": [
      "Train : 100%|██████████| 1027/1027 [09:54<00:00,  1.73it/s, gpu_mem=36.55 GB, lr=0.00093, train_loss=0.1681]\n",
      "Valid : 100%|██████████| 2053/2053 [01:42<00:00, 20.07it/s, gpu_memory=11.30 GB, lr=0.00093, valid_loss=0.1502]\n"
     ]
    },
    {
     "name": "stdout",
     "output_type": "stream",
     "text": [
      "0.67315364\n",
      "Valid Dice: 0.7702 | Valid Jaccard: 0.7081 | Valid Dice Mod: 0.7702\n",
      "\u001b[32mValid Score Improved (0.6725 ---> 0.6732)\n",
      "Model Saved\u001b[0m\n",
      "\n",
      "\n",
      "Epoch 62/100"
     ]
    },
    {
     "name": "stderr",
     "output_type": "stream",
     "text": [
      "Train : 100%|██████████| 1027/1027 [09:53<00:00,  1.73it/s, gpu_mem=36.89 GB, lr=0.00093, train_loss=0.1714]\n",
      "Valid : 100%|██████████| 2053/2053 [01:42<00:00, 20.08it/s, gpu_memory=11.26 GB, lr=0.00093, valid_loss=0.1576]\n"
     ]
    },
    {
     "name": "stdout",
     "output_type": "stream",
     "text": [
      "0.66156095\n",
      "Valid Dice: 0.7721 | Valid Jaccard: 0.7114 | Valid Dice Mod: 0.7721\n",
      "\n",
      "\n",
      "Epoch 63/100"
     ]
    },
    {
     "name": "stderr",
     "output_type": "stream",
     "text": [
      "Train : 100%|██████████| 1027/1027 [09:53<00:00,  1.73it/s, gpu_mem=36.51 GB, lr=0.00093, train_loss=0.1720]\n",
      "Valid : 100%|██████████| 2053/2053 [01:42<00:00, 20.06it/s, gpu_memory=11.19 GB, lr=0.00093, valid_loss=0.1528]\n"
     ]
    },
    {
     "name": "stdout",
     "output_type": "stream",
     "text": [
      "0.6694834\n",
      "Valid Dice: 0.7688 | Valid Jaccard: 0.7068 | Valid Dice Mod: 0.7688\n",
      "\n",
      "\n",
      "Epoch 64/100"
     ]
    },
    {
     "name": "stderr",
     "output_type": "stream",
     "text": [
      "Train : 100%|██████████| 1027/1027 [09:55<00:00,  1.73it/s, gpu_mem=36.67 GB, lr=0.00093, train_loss=0.1739]\n",
      "Valid : 100%|██████████| 2053/2053 [01:42<00:00, 20.05it/s, gpu_memory=11.28 GB, lr=0.00093, valid_loss=0.1534]\n"
     ]
    },
    {
     "name": "stdout",
     "output_type": "stream",
     "text": [
      "0.65653765\n",
      "Valid Dice: 0.7376 | Valid Jaccard: 0.6739 | Valid Dice Mod: 0.7376\n",
      "\n",
      "\n",
      "Epoch 65/100"
     ]
    },
    {
     "name": "stderr",
     "output_type": "stream",
     "text": [
      "Train : 100%|██████████| 1027/1027 [09:55<00:00,  1.72it/s, gpu_mem=36.84 GB, lr=0.00092, train_loss=0.1732]\n",
      "Valid : 100%|██████████| 2053/2053 [01:42<00:00, 20.07it/s, gpu_memory=11.24 GB, lr=0.00092, valid_loss=0.1510]\n"
     ]
    },
    {
     "name": "stdout",
     "output_type": "stream",
     "text": [
      "0.6726141\n",
      "Valid Dice: 0.7612 | Valid Jaccard: 0.6990 | Valid Dice Mod: 0.7612\n",
      "\n",
      "\n",
      "Epoch 66/100"
     ]
    },
    {
     "name": "stderr",
     "output_type": "stream",
     "text": [
      "Train : 100%|██████████| 1027/1027 [09:50<00:00,  1.74it/s, gpu_mem=36.69 GB, lr=0.00092, train_loss=0.1701]\n",
      "Valid : 100%|██████████| 2053/2053 [01:42<00:00, 20.06it/s, gpu_memory=11.30 GB, lr=0.00092, valid_loss=0.1510]\n"
     ]
    },
    {
     "name": "stdout",
     "output_type": "stream",
     "text": [
      "0.66935164\n",
      "Valid Dice: 0.7635 | Valid Jaccard: 0.7013 | Valid Dice Mod: 0.7635\n",
      "\n",
      "\n",
      "Epoch 67/100"
     ]
    },
    {
     "name": "stderr",
     "output_type": "stream",
     "text": [
      "Train : 100%|██████████| 1027/1027 [09:53<00:00,  1.73it/s, gpu_mem=36.60 GB, lr=0.00092, train_loss=0.1718]\n",
      "Valid : 100%|██████████| 2053/2053 [01:42<00:00, 20.09it/s, gpu_memory=11.27 GB, lr=0.00092, valid_loss=0.1560]\n"
     ]
    },
    {
     "name": "stdout",
     "output_type": "stream",
     "text": [
      "0.66069925\n",
      "Valid Dice: 0.7628 | Valid Jaccard: 0.7013 | Valid Dice Mod: 0.7628\n",
      "\n",
      "\n",
      "Epoch 68/100"
     ]
    },
    {
     "name": "stderr",
     "output_type": "stream",
     "text": [
      "Train : 100%|██████████| 1027/1027 [09:55<00:00,  1.72it/s, gpu_mem=36.65 GB, lr=0.00092, train_loss=0.1676]\n",
      "Valid : 100%|██████████| 2053/2053 [01:42<00:00, 20.06it/s, gpu_memory=11.27 GB, lr=0.00092, valid_loss=0.1522]\n"
     ]
    },
    {
     "name": "stdout",
     "output_type": "stream",
     "text": [
      "0.6738042\n",
      "Valid Dice: 0.7628 | Valid Jaccard: 0.7010 | Valid Dice Mod: 0.7628\n",
      "\u001b[32mValid Score Improved (0.6732 ---> 0.6738)\n",
      "Model Saved\u001b[0m\n",
      "\n",
      "\n",
      "Epoch 69/100"
     ]
    },
    {
     "name": "stderr",
     "output_type": "stream",
     "text": [
      "Train : 100%|██████████| 1027/1027 [10:11<00:00,  1.68it/s, gpu_mem=36.61 GB, lr=0.00091, train_loss=0.1674]\n",
      "Valid : 100%|██████████| 2053/2053 [01:42<00:00, 20.07it/s, gpu_memory=11.28 GB, lr=0.00091, valid_loss=0.1519]\n"
     ]
    },
    {
     "name": "stdout",
     "output_type": "stream",
     "text": [
      "0.67138165\n",
      "Valid Dice: 0.7635 | Valid Jaccard: 0.7016 | Valid Dice Mod: 0.7635\n",
      "\n",
      "\n",
      "Epoch 70/100"
     ]
    },
    {
     "name": "stderr",
     "output_type": "stream",
     "text": [
      "Train : 100%|██████████| 1027/1027 [10:06<00:00,  1.69it/s, gpu_mem=36.56 GB, lr=0.00091, train_loss=0.1711]\n",
      "Valid : 100%|██████████| 2053/2053 [01:42<00:00, 20.04it/s, gpu_memory=11.28 GB, lr=0.00091, valid_loss=0.1527]\n"
     ]
    },
    {
     "name": "stdout",
     "output_type": "stream",
     "text": [
      "0.6749798\n",
      "Valid Dice: 0.7707 | Valid Jaccard: 0.7095 | Valid Dice Mod: 0.7707\n",
      "\u001b[32mValid Score Improved (0.6738 ---> 0.6750)\n",
      "Model Saved\u001b[0m\n",
      "\n",
      "\n",
      "Epoch 71/100"
     ]
    },
    {
     "name": "stderr",
     "output_type": "stream",
     "text": [
      "Train : 100%|██████████| 1027/1027 [10:06<00:00,  1.69it/s, gpu_mem=36.56 GB, lr=0.00091, train_loss=0.1707]\n",
      "Valid : 100%|██████████| 2053/2053 [01:42<00:00, 20.08it/s, gpu_memory=11.24 GB, lr=0.00091, valid_loss=0.1566]\n"
     ]
    },
    {
     "name": "stdout",
     "output_type": "stream",
     "text": [
      "0.6601381\n",
      "Valid Dice: 0.7675 | Valid Jaccard: 0.7057 | Valid Dice Mod: 0.7675\n",
      "\n",
      "\n",
      "Epoch 72/100"
     ]
    },
    {
     "name": "stderr",
     "output_type": "stream",
     "text": [
      "Train : 100%|██████████| 1027/1027 [10:07<00:00,  1.69it/s, gpu_mem=37.01 GB, lr=0.00091, train_loss=0.1680]\n",
      "Valid : 100%|██████████| 2053/2053 [01:42<00:00, 20.12it/s, gpu_memory=11.27 GB, lr=0.00091, valid_loss=0.1520]\n"
     ]
    },
    {
     "name": "stdout",
     "output_type": "stream",
     "text": [
      "0.66697264\n",
      "Valid Dice: 0.7589 | Valid Jaccard: 0.6958 | Valid Dice Mod: 0.7589\n",
      "\n",
      "\n",
      "Epoch 73/100"
     ]
    },
    {
     "name": "stderr",
     "output_type": "stream",
     "text": [
      "Train : 100%|██████████| 1027/1027 [10:09<00:00,  1.69it/s, gpu_mem=36.59 GB, lr=0.00090, train_loss=0.1697]\n",
      "Valid : 100%|██████████| 2053/2053 [01:42<00:00, 20.09it/s, gpu_memory=11.19 GB, lr=0.00090, valid_loss=0.1517]\n"
     ]
    },
    {
     "name": "stdout",
     "output_type": "stream",
     "text": [
      "0.66904765\n",
      "Valid Dice: 0.7537 | Valid Jaccard: 0.6913 | Valid Dice Mod: 0.7537\n",
      "\n",
      "\n",
      "Epoch 74/100"
     ]
    },
    {
     "name": "stderr",
     "output_type": "stream",
     "text": [
      "Train : 100%|██████████| 1027/1027 [10:10<00:00,  1.68it/s, gpu_mem=36.62 GB, lr=0.00090, train_loss=0.1678]\n",
      "Valid : 100%|██████████| 2053/2053 [01:42<00:00, 20.09it/s, gpu_memory=11.32 GB, lr=0.00090, valid_loss=0.1533]\n"
     ]
    },
    {
     "name": "stdout",
     "output_type": "stream",
     "text": [
      "0.67105544\n",
      "Valid Dice: 0.7683 | Valid Jaccard: 0.7072 | Valid Dice Mod: 0.7683\n",
      "\n",
      "\n",
      "Epoch 75/100"
     ]
    },
    {
     "name": "stderr",
     "output_type": "stream",
     "text": [
      "Train : 100%|██████████| 1027/1027 [10:07<00:00,  1.69it/s, gpu_mem=36.64 GB, lr=0.00090, train_loss=0.1672]\n",
      "Valid : 100%|██████████| 2053/2053 [01:42<00:00, 20.05it/s, gpu_memory=11.28 GB, lr=0.00090, valid_loss=0.1539]\n"
     ]
    },
    {
     "name": "stdout",
     "output_type": "stream",
     "text": [
      "0.6670395\n",
      "Valid Dice: 0.7606 | Valid Jaccard: 0.6987 | Valid Dice Mod: 0.7606\n",
      "\n",
      "\n",
      "Epoch 76/100"
     ]
    },
    {
     "name": "stderr",
     "output_type": "stream",
     "text": [
      "Train : 100%|██████████| 1027/1027 [09:49<00:00,  1.74it/s, gpu_mem=36.97 GB, lr=0.00090, train_loss=0.1718]\n",
      "Valid : 100%|██████████| 2053/2053 [01:42<00:00, 20.07it/s, gpu_memory=11.30 GB, lr=0.00090, valid_loss=0.1581]\n"
     ]
    },
    {
     "name": "stdout",
     "output_type": "stream",
     "text": [
      "0.67014015\n",
      "Valid Dice: 0.7801 | Valid Jaccard: 0.7201 | Valid Dice Mod: 0.7801\n",
      "\n",
      "\n",
      "Epoch 77/100"
     ]
    },
    {
     "name": "stderr",
     "output_type": "stream",
     "text": [
      "Train : 100%|██████████| 1027/1027 [09:53<00:00,  1.73it/s, gpu_mem=36.62 GB, lr=0.00089, train_loss=0.1679]\n",
      "Valid : 100%|██████████| 2053/2053 [01:42<00:00, 20.10it/s, gpu_memory=11.26 GB, lr=0.00089, valid_loss=0.1517]\n"
     ]
    },
    {
     "name": "stdout",
     "output_type": "stream",
     "text": [
      "0.66490686\n",
      "Valid Dice: 0.7421 | Valid Jaccard: 0.6789 | Valid Dice Mod: 0.7421\n",
      "\n",
      "\n",
      "Epoch 78/100"
     ]
    },
    {
     "name": "stderr",
     "output_type": "stream",
     "text": [
      "Train : 100%|██████████| 1027/1027 [10:09<00:00,  1.69it/s, gpu_mem=36.73 GB, lr=0.00089, train_loss=0.1691]\n",
      "Valid : 100%|██████████| 2053/2053 [01:42<00:00, 20.10it/s, gpu_memory=11.26 GB, lr=0.00089, valid_loss=0.1534]\n"
     ]
    },
    {
     "name": "stdout",
     "output_type": "stream",
     "text": [
      "0.6746121\n",
      "Valid Dice: 0.7784 | Valid Jaccard: 0.7178 | Valid Dice Mod: 0.7784\n",
      "\n",
      "\n",
      "Epoch 79/100"
     ]
    },
    {
     "name": "stderr",
     "output_type": "stream",
     "text": [
      "Train : 100%|██████████| 1027/1027 [10:11<00:00,  1.68it/s, gpu_mem=36.69 GB, lr=0.00089, train_loss=0.1706]\n",
      "Valid : 100%|██████████| 2053/2053 [01:42<00:00, 20.08it/s, gpu_memory=11.30 GB, lr=0.00089, valid_loss=0.1567]\n"
     ]
    },
    {
     "name": "stdout",
     "output_type": "stream",
     "text": [
      "0.6662531\n",
      "Valid Dice: 0.7696 | Valid Jaccard: 0.7090 | Valid Dice Mod: 0.7696\n",
      "\n",
      "\n",
      "Epoch 80/100"
     ]
    },
    {
     "name": "stderr",
     "output_type": "stream",
     "text": [
      "Train : 100%|██████████| 1027/1027 [10:09<00:00,  1.69it/s, gpu_mem=36.67 GB, lr=0.00089, train_loss=0.1712]\n",
      "Valid : 100%|██████████| 2053/2053 [01:42<00:00, 20.11it/s, gpu_memory=11.30 GB, lr=0.00089, valid_loss=0.1540]\n"
     ]
    },
    {
     "name": "stdout",
     "output_type": "stream",
     "text": [
      "0.6651756\n",
      "Valid Dice: 0.7627 | Valid Jaccard: 0.7002 | Valid Dice Mod: 0.7627\n",
      "\n",
      "\n",
      "Epoch 81/100"
     ]
    },
    {
     "name": "stderr",
     "output_type": "stream",
     "text": [
      "Train : 100%|██████████| 1027/1027 [09:52<00:00,  1.73it/s, gpu_mem=36.66 GB, lr=0.00088, train_loss=0.1652]\n",
      "Valid : 100%|██████████| 2053/2053 [01:42<00:00, 20.13it/s, gpu_memory=11.24 GB, lr=0.00088, valid_loss=0.1497]\n"
     ]
    },
    {
     "name": "stdout",
     "output_type": "stream",
     "text": [
      "0.6765421\n",
      "Valid Dice: 0.7704 | Valid Jaccard: 0.7080 | Valid Dice Mod: 0.7704\n",
      "\u001b[32mValid Score Improved (0.6750 ---> 0.6765)\n",
      "Model Saved\u001b[0m\n",
      "\n",
      "\n",
      "Epoch 82/100"
     ]
    },
    {
     "name": "stderr",
     "output_type": "stream",
     "text": [
      "Train : 100%|██████████| 1027/1027 [10:08<00:00,  1.69it/s, gpu_mem=36.63 GB, lr=0.00088, train_loss=0.1701]\n",
      "Valid : 100%|██████████| 2053/2053 [01:42<00:00, 20.09it/s, gpu_memory=11.28 GB, lr=0.00088, valid_loss=0.1495]\n"
     ]
    },
    {
     "name": "stdout",
     "output_type": "stream",
     "text": [
      "0.6646461\n",
      "Valid Dice: 0.7346 | Valid Jaccard: 0.6708 | Valid Dice Mod: 0.7346\n",
      "\n",
      "\n",
      "Epoch 83/100"
     ]
    },
    {
     "name": "stderr",
     "output_type": "stream",
     "text": [
      "Train : 100%|██████████| 1027/1027 [10:06<00:00,  1.69it/s, gpu_mem=36.56 GB, lr=0.00088, train_loss=0.1721]\n",
      "Valid : 100%|██████████| 2053/2053 [01:42<00:00, 20.08it/s, gpu_memory=11.27 GB, lr=0.00088, valid_loss=0.1514]\n"
     ]
    },
    {
     "name": "stdout",
     "output_type": "stream",
     "text": [
      "0.6684699\n",
      "Valid Dice: 0.7538 | Valid Jaccard: 0.6913 | Valid Dice Mod: 0.7538\n",
      "\n",
      "\n",
      "Epoch 84/100"
     ]
    },
    {
     "name": "stderr",
     "output_type": "stream",
     "text": [
      "Train : 100%|██████████| 1027/1027 [10:11<00:00,  1.68it/s, gpu_mem=36.61 GB, lr=0.00088, train_loss=0.1713]\n",
      "Valid : 100%|██████████| 2053/2053 [01:42<00:00, 20.05it/s, gpu_memory=11.30 GB, lr=0.00088, valid_loss=0.1556]\n"
     ]
    },
    {
     "name": "stdout",
     "output_type": "stream",
     "text": [
      "0.6546029\n",
      "Valid Dice: 0.7557 | Valid Jaccard: 0.6927 | Valid Dice Mod: 0.7557\n",
      "\n",
      "\n",
      "Epoch 85/100"
     ]
    },
    {
     "name": "stderr",
     "output_type": "stream",
     "text": [
      "Train : 100%|██████████| 1027/1027 [10:11<00:00,  1.68it/s, gpu_mem=36.87 GB, lr=0.00087, train_loss=0.1666]\n",
      "Train : 100%|██████████| 1027/1027 [10:07<00:00,  1.69it/s, gpu_mem=36.63 GB, lr=0.00087, train_loss=0.1692]]\n",
      "Valid : 100%|██████████| 2053/2053 [01:42<00:00, 20.05it/s, gpu_memory=11.26 GB, lr=0.00087, valid_loss=0.1542]\n"
     ]
    },
    {
     "name": "stdout",
     "output_type": "stream",
     "text": [
      "0.6584199\n",
      "Valid Dice: 0.7623 | Valid Jaccard: 0.6992 | Valid Dice Mod: 0.7623\n",
      "\n",
      "\n",
      "Epoch 87/100"
     ]
    },
    {
     "name": "stderr",
     "output_type": "stream",
     "text": [
      "Train : 100%|██████████| 1027/1027 [10:08<00:00,  1.69it/s, gpu_mem=36.56 GB, lr=0.00087, train_loss=0.1710]\n",
      "Valid : 100%|██████████| 2053/2053 [01:41<00:00, 20.13it/s, gpu_memory=11.25 GB, lr=0.00087, valid_loss=0.1496]\n"
     ]
    },
    {
     "name": "stdout",
     "output_type": "stream",
     "text": [
      "0.6700772\n",
      "Valid Dice: 0.7581 | Valid Jaccard: 0.6949 | Valid Dice Mod: 0.7581\n",
      "\n",
      "\n",
      "Epoch 88/100"
     ]
    },
    {
     "name": "stderr",
     "output_type": "stream",
     "text": [
      "Train :  28%|██▊       | 291/1027 [02:51<07:00,  1.75it/s, gpu_mem=36.59 GB, lr=0.00087, train_loss=0.1652]IOPub message rate exceeded.\n",
      "The notebook server will temporarily stop sending output\n",
      "to the client in order to avoid crashing it.\n",
      "To change this limit, set the config variable\n",
      "`--NotebookApp.iopub_msg_rate_limit`.\n",
      "\n",
      "Current values:\n",
      "NotebookApp.iopub_msg_rate_limit=1000.0 (msgs/sec)\n",
      "NotebookApp.rate_limit_window=3.0 (secs)\n",
      "\n",
      "Valid : 100%|██████████| 2053/2053 [01:42<00:00, 20.07it/s, gpu_memory=11.27 GB, lr=0.00086, valid_loss=0.1562]\n"
     ]
    },
    {
     "name": "stdout",
     "output_type": "stream",
     "text": [
      "0.6691851\n",
      "Valid Dice: 0.7650 | Valid Jaccard: 0.7044 | Valid Dice Mod: 0.7650\n",
      "\n",
      "\n",
      "Epoch 89/100"
     ]
    },
    {
     "name": "stderr",
     "output_type": "stream",
     "text": [
      "Train :  32%|███▏      | 326/1027 [03:15<06:48,  1.72it/s, gpu_mem=36.51 GB, lr=0.00086, train_loss=0.1719]IOPub message rate exceeded.\n",
      "The notebook server will temporarily stop sending output\n",
      "to the client in order to avoid crashing it.\n",
      "To change this limit, set the config variable\n",
      "`--NotebookApp.iopub_msg_rate_limit`.\n",
      "\n",
      "Current values:\n",
      "NotebookApp.iopub_msg_rate_limit=1000.0 (msgs/sec)\n",
      "NotebookApp.rate_limit_window=3.0 (secs)\n",
      "\n",
      "Valid : 100%|██████████| 2053/2053 [01:42<00:00, 20.11it/s, gpu_memory=11.32 GB, lr=0.00086, valid_loss=0.1503]\n"
     ]
    },
    {
     "name": "stdout",
     "output_type": "stream",
     "text": [
      "0.6732957\n",
      "Valid Dice: 0.7724 | Valid Jaccard: 0.7106 | Valid Dice Mod: 0.7724\n",
      "\n",
      "\n",
      "Epoch 90/100"
     ]
    },
    {
     "name": "stderr",
     "output_type": "stream",
     "text": [
      "Train :  17%|█▋        | 173/1027 [01:43<08:23,  1.70it/s, gpu_mem=36.60 GB, lr=0.00086, train_loss=0.1724]IOPub message rate exceeded.\n",
      "The notebook server will temporarily stop sending output\n",
      "to the client in order to avoid crashing it.\n",
      "To change this limit, set the config variable\n",
      "`--NotebookApp.iopub_msg_rate_limit`.\n",
      "\n",
      "Current values:\n",
      "NotebookApp.iopub_msg_rate_limit=1000.0 (msgs/sec)\n",
      "NotebookApp.rate_limit_window=3.0 (secs)\n",
      "\n",
      "Train : 100%|██████████| 1027/1027 [09:56<00:00,  1.72it/s, gpu_mem=36.60 GB, lr=0.00086, train_loss=0.1697]\n",
      "Valid : 100%|██████████| 2053/2053 [01:42<00:00, 20.05it/s, gpu_memory=11.27 GB, lr=0.00086, valid_loss=0.1506]\n"
     ]
    },
    {
     "name": "stdout",
     "output_type": "stream",
     "text": [
      "0.66943246\n",
      "Valid Dice: 0.7617 | Valid Jaccard: 0.6993 | Valid Dice Mod: 0.7617\n",
      "\n",
      "\n",
      "Epoch 91/100"
     ]
    },
    {
     "name": "stderr",
     "output_type": "stream",
     "text": [
      "Train : 100%|██████████| 1027/1027 [10:08<00:00,  1.69it/s, gpu_mem=36.58 GB, lr=0.00085, train_loss=0.1674]\n",
      "Valid : 100%|██████████| 2053/2053 [01:42<00:00, 20.07it/s, gpu_memory=11.26 GB, lr=0.00085, valid_loss=0.1524]\n"
     ]
    },
    {
     "name": "stdout",
     "output_type": "stream",
     "text": [
      "0.66717726\n",
      "Valid Dice: 0.7688 | Valid Jaccard: 0.7068 | Valid Dice Mod: 0.7688\n",
      "\n",
      "\n",
      "Epoch 92/100"
     ]
    },
    {
     "name": "stderr",
     "output_type": "stream",
     "text": [
      "Train : 100%|██████████| 1027/1027 [10:05<00:00,  1.69it/s, gpu_mem=36.62 GB, lr=0.00085, train_loss=0.1671]\n",
      "Valid : 100%|██████████| 2053/2053 [01:42<00:00, 20.08it/s, gpu_memory=11.26 GB, lr=0.00085, valid_loss=0.1496]\n"
     ]
    },
    {
     "name": "stdout",
     "output_type": "stream",
     "text": [
      "0.6701124\n",
      "Valid Dice: 0.7427 | Valid Jaccard: 0.6800 | Valid Dice Mod: 0.7427\n",
      "\n",
      "\n",
      "Epoch 93/100"
     ]
    },
    {
     "name": "stderr",
     "output_type": "stream",
     "text": [
      "Train : 100%|██████████| 1027/1027 [10:07<00:00,  1.69it/s, gpu_mem=36.60 GB, lr=0.00085, train_loss=0.1679]\n",
      "Valid : 100%|██████████| 2053/2053 [01:42<00:00, 20.06it/s, gpu_memory=11.30 GB, lr=0.00085, valid_loss=0.1547]\n"
     ]
    },
    {
     "name": "stdout",
     "output_type": "stream",
     "text": [
      "0.653198\n",
      "Valid Dice: 0.7577 | Valid Jaccard: 0.6949 | Valid Dice Mod: 0.7577\n",
      "\n",
      "\n",
      "Epoch 94/100"
     ]
    },
    {
     "name": "stderr",
     "output_type": "stream",
     "text": [
      "Train : 100%|██████████| 1027/1027 [10:01<00:00,  1.71it/s, gpu_mem=36.59 GB, lr=0.00085, train_loss=0.1660]\n",
      "Valid :  85%|████████▍ | 1743/2053 [01:26<00:15, 20.17it/s, gpu_memory=9.94 GB, lr=0.00085, valid_loss=0.1564]IOPub message rate exceeded.\n",
      "The notebook server will temporarily stop sending output\n",
      "to the client in order to avoid crashing it.\n",
      "To change this limit, set the config variable\n",
      "`--NotebookApp.iopub_msg_rate_limit`.\n",
      "\n",
      "Current values:\n",
      "NotebookApp.iopub_msg_rate_limit=1000.0 (msgs/sec)\n",
      "NotebookApp.rate_limit_window=3.0 (secs)\n",
      "\n",
      "Train : 100%|██████████| 1027/1027 [10:09<00:00,  1.69it/s, gpu_mem=36.61 GB, lr=0.00084, train_loss=0.1684]\n",
      "Valid : 100%|██████████| 2053/2053 [01:42<00:00, 20.01it/s, gpu_memory=11.30 GB, lr=0.00084, valid_loss=0.1523]\n"
     ]
    },
    {
     "name": "stdout",
     "output_type": "stream",
     "text": [
      "0.67012036\n",
      "Valid Dice: 0.7620 | Valid Jaccard: 0.7001 | Valid Dice Mod: 0.7620\n",
      "\n",
      "\n",
      "Epoch 96/100"
     ]
    },
    {
     "name": "stderr",
     "output_type": "stream",
     "text": [
      "Train : 100%|██████████| 1027/1027 [09:56<00:00,  1.72it/s, gpu_mem=36.62 GB, lr=0.00084, train_loss=0.1712]\n",
      "Valid : 100%|██████████| 2053/2053 [01:42<00:00, 20.01it/s, gpu_memory=11.26 GB, lr=0.00084, valid_loss=0.1506]\n"
     ]
    },
    {
     "name": "stdout",
     "output_type": "stream",
     "text": [
      "0.66561073\n",
      "Valid Dice: 0.7594 | Valid Jaccard: 0.6966 | Valid Dice Mod: 0.7594\n",
      "\n",
      "\n",
      "Epoch 97/100"
     ]
    },
    {
     "name": "stderr",
     "output_type": "stream",
     "text": [
      "Train : 100%|██████████| 1027/1027 [10:06<00:00,  1.69it/s, gpu_mem=36.57 GB, lr=0.00084, train_loss=0.1695]\n",
      "Valid : 100%|██████████| 2053/2053 [01:42<00:00, 20.04it/s, gpu_memory=11.25 GB, lr=0.00084, valid_loss=0.1600]\n"
     ]
    },
    {
     "name": "stdout",
     "output_type": "stream",
     "text": [
      "0.6403095\n",
      "Valid Dice: 0.7450 | Valid Jaccard: 0.6818 | Valid Dice Mod: 0.7450\n",
      "\n",
      "\n",
      "Epoch 98/100"
     ]
    },
    {
     "name": "stderr",
     "output_type": "stream",
     "text": [
      "Train : 100%|██████████| 1027/1027 [10:07<00:00,  1.69it/s, gpu_mem=36.63 GB, lr=0.00083, train_loss=0.1671]\n",
      "Valid : 100%|██████████| 2053/2053 [01:42<00:00, 20.04it/s, gpu_memory=11.32 GB, lr=0.00083, valid_loss=0.1513]\n"
     ]
    },
    {
     "name": "stdout",
     "output_type": "stream",
     "text": [
      "0.67262924\n",
      "Valid Dice: 0.7616 | Valid Jaccard: 0.6994 | Valid Dice Mod: 0.7616\n",
      "\n",
      "\n",
      "Epoch 99/100"
     ]
    },
    {
     "name": "stderr",
     "output_type": "stream",
     "text": [
      "Train : 100%|██████████| 1027/1027 [10:04<00:00,  1.70it/s, gpu_mem=36.61 GB, lr=0.00083, train_loss=0.1661]\n",
      "Valid : 100%|██████████| 2053/2053 [01:42<00:00, 20.01it/s, gpu_memory=11.26 GB, lr=0.00083, valid_loss=0.1550]\n"
     ]
    },
    {
     "name": "stdout",
     "output_type": "stream",
     "text": [
      "0.670622\n",
      "Valid Dice: 0.7714 | Valid Jaccard: 0.7106 | Valid Dice Mod: 0.7714\n",
      "\n",
      "\n",
      "Epoch 100/100"
     ]
    },
    {
     "name": "stderr",
     "output_type": "stream",
     "text": [
      "Train : 100%|██████████| 1027/1027 [10:08<00:00,  1.69it/s, gpu_mem=36.64 GB, lr=0.00083, train_loss=0.1663]\n",
      "Valid : 100%|██████████| 2053/2053 [01:42<00:00, 20.04it/s, gpu_memory=11.31 GB, lr=0.00083, valid_loss=0.1521]\n"
     ]
    },
    {
     "name": "stdout",
     "output_type": "stream",
     "text": [
      "0.665519\n",
      "Valid Dice: 0.7601 | Valid Jaccard: 0.6979 | Valid Dice Mod: 0.7601\n",
      "\n",
      "\n",
      "Training complete in 19h 41m 48s\n",
      "Best Score: 0.7080\n",
      "efficientnet--r\n"
     ]
    },
    {
     "ename": "RuntimeError",
     "evalue": "Unknown model (efficientnet--r)",
     "output_type": "error",
     "traceback": [
      "\u001b[0;31m---------------------------------------------------------------------------\u001b[0m",
      "\u001b[0;31mRuntimeError\u001b[0m                              Traceback (most recent call last)",
      "Cell \u001b[0;32mIn[28], line 11\u001b[0m\n\u001b[1;32m      9\u001b[0m \u001b[38;5;28;01mfor\u001b[39;00m backbone \u001b[38;5;129;01min\u001b[39;00m CFG\u001b[38;5;241m.\u001b[39mbackbone :\n\u001b[1;32m     10\u001b[0m     \u001b[38;5;28mprint\u001b[39m(backbone)\n\u001b[0;32m---> 11\u001b[0m     model     \u001b[38;5;241m=\u001b[39m \u001b[43mbuild_model\u001b[49m\u001b[43m(\u001b[49m\u001b[43mbackbone\u001b[49m\u001b[43m)\u001b[49m\n\u001b[1;32m     13\u001b[0m     optimizer \u001b[38;5;241m=\u001b[39m optim\u001b[38;5;241m.\u001b[39mAdam(model\u001b[38;5;241m.\u001b[39mparameters(), lr\u001b[38;5;241m=\u001b[39mCFG\u001b[38;5;241m.\u001b[39mlr, weight_decay\u001b[38;5;241m=\u001b[39mCFG\u001b[38;5;241m.\u001b[39mwd)\n\u001b[1;32m     14\u001b[0m     scheduler \u001b[38;5;241m=\u001b[39m fetch_scheduler(optimizer)\n",
      "Cell \u001b[0;32mIn[19], line 43\u001b[0m, in \u001b[0;36mbuild_model\u001b[0;34m(backbone)\u001b[0m\n\u001b[1;32m     42\u001b[0m \u001b[38;5;28;01mdef\u001b[39;00m \u001b[38;5;21mbuild_model\u001b[39m(backbone):\n\u001b[0;32m---> 43\u001b[0m     model \u001b[38;5;241m=\u001b[39m \u001b[43mTimmSegModel\u001b[49m\u001b[43m(\u001b[49m\u001b[43mbackbone\u001b[49m\u001b[43m,\u001b[49m\u001b[43msegtype\u001b[49m\u001b[38;5;241;43m=\u001b[39;49m\u001b[38;5;124;43m'\u001b[39;49m\u001b[38;5;124;43munet\u001b[39;49m\u001b[38;5;124;43m'\u001b[39;49m\u001b[43m)\u001b[49m\n\u001b[1;32m     44\u001b[0m     model\u001b[38;5;241m.\u001b[39mto(CFG\u001b[38;5;241m.\u001b[39mdevice)\n\u001b[1;32m     45\u001b[0m     \u001b[38;5;28;01mreturn\u001b[39;00m model\n",
      "Cell \u001b[0;32mIn[19], line 11\u001b[0m, in \u001b[0;36mTimmSegModel.__init__\u001b[0;34m(self, backbone, segtype, pretrained)\u001b[0m\n\u001b[1;32m      8\u001b[0m \u001b[38;5;28;01mdef\u001b[39;00m \u001b[38;5;21m__init__\u001b[39m(\u001b[38;5;28mself\u001b[39m, backbone, segtype\u001b[38;5;241m=\u001b[39m\u001b[38;5;124m'\u001b[39m\u001b[38;5;124munet\u001b[39m\u001b[38;5;124m'\u001b[39m, pretrained\u001b[38;5;241m=\u001b[39m\u001b[38;5;28;01mTrue\u001b[39;00m):\n\u001b[1;32m      9\u001b[0m     \u001b[38;5;28msuper\u001b[39m(TimmSegModel, \u001b[38;5;28mself\u001b[39m)\u001b[38;5;241m.\u001b[39m\u001b[38;5;21m__init__\u001b[39m()\n\u001b[0;32m---> 11\u001b[0m     \u001b[38;5;28mself\u001b[39m\u001b[38;5;241m.\u001b[39mencoder \u001b[38;5;241m=\u001b[39m \u001b[43mtimm\u001b[49m\u001b[38;5;241;43m.\u001b[39;49m\u001b[43mcreate_model\u001b[49m\u001b[43m(\u001b[49m\n\u001b[1;32m     12\u001b[0m \u001b[43m        \u001b[49m\u001b[43mbackbone\u001b[49m\u001b[43m,\u001b[49m\n\u001b[1;32m     13\u001b[0m \u001b[43m        \u001b[49m\u001b[43min_chans\u001b[49m\u001b[38;5;241;43m=\u001b[39;49m\u001b[38;5;241;43m3\u001b[39;49m\u001b[43m,\u001b[49m\n\u001b[1;32m     14\u001b[0m \u001b[43m        \u001b[49m\u001b[43mfeatures_only\u001b[49m\u001b[38;5;241;43m=\u001b[39;49m\u001b[38;5;28;43;01mTrue\u001b[39;49;00m\u001b[43m,\u001b[49m\n\u001b[1;32m     15\u001b[0m \u001b[43m        \u001b[49m\u001b[43mdrop_rate\u001b[49m\u001b[38;5;241;43m=\u001b[39;49m\u001b[38;5;241;43m0.5\u001b[39;49m\u001b[43m,\u001b[49m\n\u001b[1;32m     16\u001b[0m \u001b[43m       \u001b[49m\u001b[38;5;66;43;03m# drop_path_rate=0.0,\u001b[39;49;00m\n\u001b[1;32m     17\u001b[0m \u001b[43m        \u001b[49m\u001b[43mpretrained\u001b[49m\u001b[38;5;241;43m=\u001b[39;49m\u001b[43mpretrained\u001b[49m\n\u001b[1;32m     18\u001b[0m \u001b[43m    \u001b[49m\u001b[43m)\u001b[49m\n\u001b[1;32m     19\u001b[0m     g \u001b[38;5;241m=\u001b[39m \u001b[38;5;28mself\u001b[39m\u001b[38;5;241m.\u001b[39mencoder(torch\u001b[38;5;241m.\u001b[39mrand(\u001b[38;5;241m1\u001b[39m, \u001b[38;5;241m3\u001b[39m, \u001b[38;5;241m128\u001b[39m, \u001b[38;5;241m128\u001b[39m))\n\u001b[1;32m     20\u001b[0m     encoder_channels \u001b[38;5;241m=\u001b[39m [\u001b[38;5;241m1\u001b[39m] \u001b[38;5;241m+\u001b[39m [_\u001b[38;5;241m.\u001b[39mshape[\u001b[38;5;241m1\u001b[39m] \u001b[38;5;28;01mfor\u001b[39;00m _ \u001b[38;5;129;01min\u001b[39;00m g]\n",
      "File \u001b[0;32m/usr/local/lib/python3.8/dist-packages/timm/models/_factory.py:110\u001b[0m, in \u001b[0;36mcreate_model\u001b[0;34m(model_name, pretrained, pretrained_cfg, pretrained_cfg_overlay, checkpoint_path, scriptable, exportable, no_jit, **kwargs)\u001b[0m\n\u001b[1;32m    107\u001b[0m         pretrained_cfg \u001b[38;5;241m=\u001b[39m pretrained_tag\n\u001b[1;32m    109\u001b[0m \u001b[38;5;28;01mif\u001b[39;00m \u001b[38;5;129;01mnot\u001b[39;00m is_model(model_name):\n\u001b[0;32m--> 110\u001b[0m     \u001b[38;5;28;01mraise\u001b[39;00m \u001b[38;5;167;01mRuntimeError\u001b[39;00m(\u001b[38;5;124m'\u001b[39m\u001b[38;5;124mUnknown model (\u001b[39m\u001b[38;5;132;01m%s\u001b[39;00m\u001b[38;5;124m)\u001b[39m\u001b[38;5;124m'\u001b[39m \u001b[38;5;241m%\u001b[39m model_name)\n\u001b[1;32m    112\u001b[0m create_fn \u001b[38;5;241m=\u001b[39m model_entrypoint(model_name)\n\u001b[1;32m    113\u001b[0m \u001b[38;5;28;01mwith\u001b[39;00m set_layer_config(scriptable\u001b[38;5;241m=\u001b[39mscriptable, exportable\u001b[38;5;241m=\u001b[39mexportable, no_jit\u001b[38;5;241m=\u001b[39mno_jit):\n",
      "\u001b[0;31mRuntimeError\u001b[0m: Unknown model (efficientnet--r)"
     ]
    }
   ],
   "source": [
    "fold =0\n",
    "from tqdm import tqdm\n",
    "import time\n",
    "import copy\n",
    "import joblib\n",
    "from collections import defaultdict\n",
    "import gc\n",
    "from IPython import display as ipd\n",
    "for backbone in CFG.backbone :\n",
    "    print(backbone)\n",
    "    model     = build_model(backbone)\n",
    "    \n",
    "    optimizer = optim.Adam(model.parameters(), lr=CFG.lr, weight_decay=CFG.wd)\n",
    "    scheduler = fetch_scheduler(optimizer)\n",
    "    model, history = run_training(model,backbone, optimizer, scheduler,\n",
    "                                  device=CFG.device,\n",
    "                                  num_epochs=CFG.epochs)\n",
    "    \n",
    "    \n",
    "#run.finish()"
   ]
  },
  {
   "cell_type": "code",
   "execution_count": null,
   "id": "9be9b193",
   "metadata": {},
   "outputs": [],
   "source": [
    "bla"
   ]
  },
  {
   "cell_type": "code",
   "execution_count": null,
   "id": "b5a1c115",
   "metadata": {},
   "outputs": [],
   "source": []
  },
  {
   "cell_type": "code",
   "execution_count": null,
   "id": "b818ba8e",
   "metadata": {},
   "outputs": [],
   "source": []
  },
  {
   "cell_type": "code",
   "execution_count": 29,
   "id": "46fb7490",
   "metadata": {},
   "outputs": [],
   "source": [
    "class CFG:\n",
    "    seed          = 101\n",
    "    debug         = False # set debug=False for Full Training\n",
    "    exp_name      = 'effb8modelv3fold0'\n",
    "    comment       = 'unet-effb0-256x256-aug2-split2'\n",
    "    model_name    = 'Unet'\n",
    "    backbone      = 'tf_efficientnet_b8','efficientnet--r','efficientnet-b5'\n",
    "    train_bs      = 16\n",
    "    valid_bs      = train_bs\n",
    "    img_size      = [512, 512]\n",
    "    epochs        = 100\n",
    "    lr            = 1e-4\n",
    "    scheduler     = 'CosineAnnealingLR'\n",
    "    min_lr        = 1e-6\n",
    "    T_max         = int(30000/train_bs*epochs)+50\n",
    "    T_0           = 25\n",
    "    warmup_epochs = 0\n",
    "    wd            = 1e-6\n",
    "    n_accumulate  = max(1, 32//train_bs)\n",
    "    n_fold        = 5\n",
    "    num_classes   = 1\n",
    "    p_mixup         =0.0\n",
    "    device        = torch.device(\"cuda:0\" if torch.cuda.is_available() else \"cpu\")"
   ]
  },
  {
   "cell_type": "code",
   "execution_count": 30,
   "id": "ee0ed27f",
   "metadata": {},
   "outputs": [],
   "source": [
    "###Stage2 :\n",
    "def mixup(input, truth, clip=[0, 1]):\n",
    "    indices = torch.randperm(input.size(0))\n",
    "    shuffled_input = input[indices]\n",
    "    shuffled_labels = truth[indices]\n",
    "\n",
    "    lam = np.random.uniform(clip[0], clip[1])\n",
    "    input = input * lam + shuffled_input * (1 - lam)\n",
    "    return input, truth, shuffled_labels, lam\n",
    "\n",
    "\n",
    "def train_one_epochstage2(model, optimizer, scheduler, dataloader, device, epoch):\n",
    "    model.train()\n",
    "    scaler = amp.GradScaler()\n",
    "    \n",
    "    dataset_size = 0\n",
    "    running_loss = 0.0\n",
    "    \n",
    "    pbar = tqdm(enumerate(dataloader), total=len(dataloader), desc='Train ')\n",
    "    for step, (images, masks) in pbar:         \n",
    "        images = images.to(device, dtype=torch.float)\n",
    "        masks  = masks.to(device, dtype=torch.float)\n",
    "        \n",
    "        do_mixup = False\n",
    "        if random.random() < CFG.p_mixup:\n",
    "            do_mixup = True\n",
    "            images, masks, masks_sfl, lam = mixup(images, masks)\n",
    "        \n",
    "        batch_size = images.size(0)\n",
    "        \n",
    "        with amp.autocast(enabled=True):\n",
    "            y_pred = model(images)\n",
    "            loss   = criterion2(y_pred, masks)\n",
    "            loss   = loss / CFG.n_accumulate\n",
    "            if do_mixup:\n",
    "                loss2 = criterion(y_pred, masks_sfl)\n",
    "                loss = loss * lam  + loss2 * (1 - lam)\n",
    "            \n",
    "        scaler.scale(loss).backward()\n",
    "    \n",
    "        if (step + 1) % CFG.n_accumulate == 0:\n",
    "            scaler.step(optimizer)\n",
    "            scaler.update()\n",
    "\n",
    "            # zero the parameter gradients\n",
    "            optimizer.zero_grad()\n",
    "\n",
    "            if scheduler is not None:\n",
    "                scheduler.step()\n",
    "                \n",
    "        running_loss += (loss.item() * batch_size)\n",
    "        dataset_size += batch_size\n",
    "        \n",
    "        epoch_loss = running_loss / dataset_size\n",
    "        \n",
    "        mem = torch.cuda.memory_reserved() / 1E9 if torch.cuda.is_available() else 0\n",
    "        current_lr = optimizer.param_groups[0]['lr']\n",
    "        pbar.set_postfix(train_loss=f'{epoch_loss:0.4f}',\n",
    "                        lr=f'{current_lr:0.5f}',\n",
    "                        gpu_mem=f'{mem:0.2f} GB')\n",
    "    torch.cuda.empty_cache()\n",
    "    gc.collect()\n",
    "    \n",
    "    return epoch_loss\n"
   ]
  },
  {
   "cell_type": "code",
   "execution_count": 31,
   "id": "c2534d99",
   "metadata": {},
   "outputs": [],
   "source": [
    "def criterion2(y_pred, y_true):\n",
    "    return DiceLoss(y_pred, y_true)"
   ]
  },
  {
   "cell_type": "code",
   "execution_count": 32,
   "id": "d0dcebcc",
   "metadata": {},
   "outputs": [],
   "source": [
    "def run_trainingstage2(model,backbone, optimizer, scheduler, device, num_epochs):\n",
    "    # To automatically log gradients\n",
    "   # wandb.watch(model, log_freq=100)\n",
    "    fold =0\n",
    "    if torch.cuda.is_available():\n",
    "        print(\"cuda: {}\\n\".format(torch.cuda.get_device_name()))\n",
    "        \n",
    "    print(f\"Start Training for Backbone ====> {backbone}\")\n",
    "    \n",
    "    start = time.time()\n",
    "    best_model_wts = copy.deepcopy(model.state_dict())\n",
    "    best_dice      = -np.inf\n",
    "    best_epoch     = -1\n",
    "    history = defaultdict(list)\n",
    "    \n",
    "    for epoch in range(1, num_epochs + 1): \n",
    "        gc.collect()\n",
    "        print(f'Epoch {epoch}/{num_epochs}', end='')\n",
    "        train_loss = train_one_epochstage2(model, optimizer, scheduler, \n",
    "                                           dataloader=train_loader, \n",
    "                                           device=CFG.device, epoch=epoch)\n",
    "        \n",
    "        val_loss, val_scores,val_correct_dice = valid_one_epoch(model, valid_loader, \n",
    "                                                 device=CFG.device, \n",
    "                                                 epoch=epoch)\n",
    "        val_dice, val_jaccard,val_dice_mod = val_scores\n",
    "    \n",
    "        history['Train Loss'].append(train_loss)\n",
    "        history['Valid Loss'].append(val_loss)\n",
    "        history['Valid Dice'].append(val_correct_dice)\n",
    "        history['Valid Jaccard'].append(val_jaccard)\n",
    "        history['Valid Dice Mod'].append(val_dice_mod)\n",
    "\n",
    "        \n",
    "        # Log the metrics\n",
    " #       wandb.log({\"Train Loss\": train_loss, \n",
    " #                  \"Valid Loss\": val_loss,\n",
    " #                  \"Valid Dice\": val_dice,\n",
    " #                  \"Valid Jaccard\": val_jaccard,\n",
    " #                  \"LR\":scheduler.get_last_lr()[0]})\n",
    "        \n",
    "        print(f'Valid Dice: {val_correct_dice:0.4f} | Valid Jaccard: {val_jaccard:0.4f} | Valid Dice Mod: {val_dice_mod:0.4f}')\n",
    "        \n",
    "        # deep copy the model\n",
    "        if val_correct_dice >= best_dice:\n",
    "            print(f\"{c_}Valid Score Improved ({best_dice:0.4f} ---> {val_correct_dice:0.4f})\")\n",
    "            best_dice    = val_correct_dice\n",
    "            best_jaccard = val_jaccard\n",
    "            best_epoch   = epoch\n",
    "            #run.summary[\"Best Dice\"]    = best_dice\n",
    "            #run.summary[\"Best Jaccard\"] = best_jaccard\n",
    "            #run.summary[\"Best Epoch\"]   = best_epoch\n",
    "            best_model_wts = copy.deepcopy(model.state_dict())\n",
    "            PATH = f\"{CFG.exp_name}_{backbone}_best_epochstage2-{fold:02d}.bin\"\n",
    "            torch.save(model.state_dict(), PATH)\n",
    "            # Save a model file from the current directory\n",
    "            #wandb.save(PATH)\n",
    "            print(f\"Model Saved{sr_}\")\n",
    "            \n",
    "        last_model_wts = copy.deepcopy(model.state_dict())\n",
    "        PATH = f\"{CFG.exp_name}_{backbone}_last_epochstage2-{fold:02d}.bin\"\n",
    "        torch.save(model.state_dict(), PATH)\n",
    "            \n",
    "        print(); print()\n",
    "    \n",
    "    end = time.time()\n",
    "    time_elapsed = end - start\n",
    "    print('Training complete in {:.0f}h {:.0f}m {:.0f}s'.format(\n",
    "        time_elapsed // 3600, (time_elapsed % 3600) // 60, (time_elapsed % 3600) % 60))\n",
    "    print(\"Best Score: {:.4f}\".format(best_jaccard))\n",
    "    \n",
    "    # load best model weights\n",
    "    model.load_state_dict(best_model_wts)\n",
    "    \n",
    "    return model, history"
   ]
  },
  {
   "cell_type": "code",
   "execution_count": null,
   "id": "a453c391",
   "metadata": {},
   "outputs": [
    {
     "name": "stdout",
     "output_type": "stream",
     "text": [
      "tf_efficientnet_b8\n",
      "cuda: NVIDIA A40\n",
      "\n",
      "Start Training for Backbone ====> tf_efficientnet_b8\n",
      "Epoch 1/100"
     ]
    },
    {
     "name": "stderr",
     "output_type": "stream",
     "text": [
      "Train : 100%|██████████| 1027/1027 [09:50<00:00,  1.74it/s, gpu_mem=36.49 GB, lr=0.00010, train_loss=0.1902]\n",
      "Valid : 100%|██████████| 2053/2053 [01:42<00:00, 20.02it/s, gpu_memory=10.88 GB, lr=0.00010, valid_loss=0.1518]\n"
     ]
    },
    {
     "name": "stdout",
     "output_type": "stream",
     "text": [
      "0.6919087\n",
      "Valid Dice: 0.6919 | Valid Jaccard: 0.7214 | Valid Dice Mod: 0.7831\n",
      "\u001b[32mValid Score Improved (-inf ---> 0.6919)\n",
      "Model Saved\u001b[0m\n",
      "\n",
      "\n",
      "Epoch 2/100"
     ]
    },
    {
     "name": "stderr",
     "output_type": "stream",
     "text": [
      "Train : 100%|██████████| 1027/1027 [09:53<00:00,  1.73it/s, gpu_mem=36.66 GB, lr=0.00010, train_loss=0.1882]\n",
      "Valid : 100%|██████████| 2053/2053 [01:42<00:00, 19.97it/s, gpu_memory=11.17 GB, lr=0.00010, valid_loss=0.1528]\n"
     ]
    },
    {
     "name": "stdout",
     "output_type": "stream",
     "text": [
      "0.6934504\n",
      "Valid Dice: 0.6935 | Valid Jaccard: 0.7163 | Valid Dice Mod: 0.7780\n",
      "\u001b[32mValid Score Improved (0.6919 ---> 0.6935)\n",
      "Model Saved\u001b[0m\n",
      "\n",
      "\n",
      "Epoch 3/100"
     ]
    },
    {
     "name": "stderr",
     "output_type": "stream",
     "text": [
      "Train : 100%|██████████| 1027/1027 [09:51<00:00,  1.74it/s, gpu_mem=36.30 GB, lr=0.00010, train_loss=0.1879]\n",
      "Valid : 100%|██████████| 2053/2053 [01:42<00:00, 20.00it/s, gpu_memory=11.24 GB, lr=0.00010, valid_loss=0.1536]\n"
     ]
    },
    {
     "name": "stdout",
     "output_type": "stream",
     "text": [
      "0.6937175\n",
      "Valid Dice: 0.6937 | Valid Jaccard: 0.7205 | Valid Dice Mod: 0.7818\n",
      "\u001b[32mValid Score Improved (0.6935 ---> 0.6937)\n",
      "Model Saved\u001b[0m\n",
      "\n",
      "\n",
      "Epoch 4/100"
     ]
    },
    {
     "name": "stderr",
     "output_type": "stream",
     "text": [
      "Train : 100%|██████████| 1027/1027 [09:55<00:00,  1.72it/s, gpu_mem=35.56 GB, lr=0.00010, train_loss=0.1874]\n",
      "Valid :  84%|████████▍ | 1727/2053 [01:26<00:16, 20.01it/s, gpu_memory=9.70 GB, lr=0.00010, valid_loss=0.1562]IOPub message rate exceeded.\n",
      "The notebook server will temporarily stop sending output\n",
      "to the client in order to avoid crashing it.\n",
      "To change this limit, set the config variable\n",
      "`--NotebookApp.iopub_msg_rate_limit`.\n",
      "\n",
      "Current values:\n",
      "NotebookApp.iopub_msg_rate_limit=1000.0 (msgs/sec)\n",
      "NotebookApp.rate_limit_window=3.0 (secs)\n",
      "\n",
      "Train : 100%|██████████| 1027/1027 [09:47<00:00,  1.75it/s, gpu_mem=35.53 GB, lr=0.00010, train_loss=0.1869]\n",
      "Valid : 100%|██████████| 2053/2053 [01:42<00:00, 19.96it/s, gpu_memory=10.89 GB, lr=0.00010, valid_loss=0.1571]\n"
     ]
    },
    {
     "name": "stdout",
     "output_type": "stream",
     "text": [
      "0.69366133\n",
      "Valid Dice: 0.6937 | Valid Jaccard: 0.7209 | Valid Dice Mod: 0.7825\n",
      "\n",
      "\n",
      "Epoch 6/100"
     ]
    },
    {
     "name": "stderr",
     "output_type": "stream",
     "text": [
      "Train : 100%|██████████| 1027/1027 [09:55<00:00,  1.73it/s, gpu_mem=35.52 GB, lr=0.00010, train_loss=0.1877]\n",
      "Valid : 100%|██████████| 2053/2053 [01:42<00:00, 20.02it/s, gpu_memory=11.31 GB, lr=0.00010, valid_loss=0.1589]\n"
     ]
    },
    {
     "name": "stdout",
     "output_type": "stream",
     "text": [
      "0.6932687\n",
      "Valid Dice: 0.6933 | Valid Jaccard: 0.7268 | Valid Dice Mod: 0.7876\n",
      "\n",
      "\n",
      "Epoch 7/100"
     ]
    },
    {
     "name": "stderr",
     "output_type": "stream",
     "text": [
      "Train : 100%|██████████| 1027/1027 [09:53<00:00,  1.73it/s, gpu_mem=36.48 GB, lr=0.00010, train_loss=0.1867]\n",
      "Valid : 100%|██████████| 2053/2053 [01:42<00:00, 20.01it/s, gpu_memory=11.10 GB, lr=0.00010, valid_loss=0.1568]\n"
     ]
    },
    {
     "name": "stdout",
     "output_type": "stream",
     "text": [
      "0.6939057\n",
      "Valid Dice: 0.6939 | Valid Jaccard: 0.7171 | Valid Dice Mod: 0.7788\n",
      "\n",
      "\n",
      "Epoch 8/100"
     ]
    },
    {
     "name": "stderr",
     "output_type": "stream",
     "text": [
      "Train : 100%|██████████| 1027/1027 [10:44<00:00,  1.59it/s, gpu_mem=35.51 GB, lr=0.00010, train_loss=0.1874]\n",
      "Valid : 100%|██████████| 2053/2053 [01:42<00:00, 19.99it/s, gpu_memory=11.17 GB, lr=0.00010, valid_loss=0.1589]\n"
     ]
    },
    {
     "name": "stdout",
     "output_type": "stream",
     "text": [
      "0.6939078\n",
      "Valid Dice: 0.6939 | Valid Jaccard: 0.7228 | Valid Dice Mod: 0.7840\n",
      "\n",
      "\n",
      "Epoch 9/100"
     ]
    },
    {
     "name": "stderr",
     "output_type": "stream",
     "text": [
      "Train : 100%|██████████| 1027/1027 [09:46<00:00,  1.75it/s, gpu_mem=35.57 GB, lr=0.00010, train_loss=0.1866]\n",
      "Valid : 100%|██████████| 2053/2053 [01:42<00:00, 20.00it/s, gpu_memory=11.16 GB, lr=0.00010, valid_loss=0.1602]\n"
     ]
    },
    {
     "name": "stdout",
     "output_type": "stream",
     "text": [
      "0.6943686\n",
      "Valid Dice: 0.6944 | Valid Jaccard: 0.7222 | Valid Dice Mod: 0.7836\n",
      "\u001b[32mValid Score Improved (0.6940 ---> 0.6944)\n",
      "Model Saved\u001b[0m\n",
      "\n",
      "\n",
      "Epoch 10/100"
     ]
    },
    {
     "name": "stderr",
     "output_type": "stream",
     "text": [
      "Train : 100%|██████████| 1027/1027 [11:08<00:00,  1.54it/s, gpu_mem=36.66 GB, lr=0.00010, train_loss=0.1865]\n",
      "Valid : 100%|██████████| 2053/2053 [01:42<00:00, 20.01it/s, gpu_memory=11.23 GB, lr=0.00010, valid_loss=0.1600]\n"
     ]
    },
    {
     "name": "stdout",
     "output_type": "stream",
     "text": [
      "0.6933353\n",
      "Valid Dice: 0.6933 | Valid Jaccard: 0.7203 | Valid Dice Mod: 0.7818\n",
      "\n",
      "\n",
      "Epoch 11/100"
     ]
    },
    {
     "name": "stderr",
     "output_type": "stream",
     "text": [
      "Train : 100%|██████████| 1027/1027 [09:56<00:00,  1.72it/s, gpu_mem=36.73 GB, lr=0.00010, train_loss=0.1857]\n",
      "Valid : 100%|██████████| 2053/2053 [01:42<00:00, 19.99it/s, gpu_memory=11.18 GB, lr=0.00010, valid_loss=0.1578]\n"
     ]
    },
    {
     "name": "stdout",
     "output_type": "stream",
     "text": [
      "0.6949684\n",
      "Valid Dice: 0.6950 | Valid Jaccard: 0.7211 | Valid Dice Mod: 0.7823\n",
      "\u001b[32mValid Score Improved (0.6944 ---> 0.6950)\n",
      "Model Saved\u001b[0m\n",
      "\n",
      "\n",
      "Epoch 12/100"
     ]
    },
    {
     "name": "stderr",
     "output_type": "stream",
     "text": [
      "Train : 100%|██████████| 1027/1027 [10:40<00:00,  1.60it/s, gpu_mem=35.60 GB, lr=0.00010, train_loss=0.1854]\n",
      "Valid : 100%|██████████| 2053/2053 [01:42<00:00, 19.93it/s, gpu_memory=11.11 GB, lr=0.00010, valid_loss=0.1605]\n"
     ]
    },
    {
     "name": "stdout",
     "output_type": "stream",
     "text": [
      "0.69277436\n",
      "Valid Dice: 0.6928 | Valid Jaccard: 0.7152 | Valid Dice Mod: 0.7770\n",
      "\n",
      "\n",
      "Epoch 13/100"
     ]
    },
    {
     "name": "stderr",
     "output_type": "stream",
     "text": [
      "Train :  78%|███████▊  | 801/1027 [07:49<02:05,  1.79it/s, gpu_mem=36.68 GB, lr=0.00010, train_loss=0.1850]"
     ]
    }
   ],
   "source": [
    "train_loader = DataLoader(train_dataset, batch_size=16, \n",
    "                              num_workers=4, shuffle=True, pin_memory=True, drop_last=False)\n",
    "valid_loader = DataLoader(val_dataset, batch_size=2 , \n",
    "                              num_workers=4, shuffle=False, pin_memory=True)\n",
    "test_loader = DataLoader(test_dataset, batch_size=CFG.valid_bs//2, \n",
    "                              num_workers=4, shuffle=False, pin_memory=True)\n",
    "\n",
    "fold =0\n",
    "from tqdm import tqdm\n",
    "import time\n",
    "import copy\n",
    "import joblib\n",
    "from collections import defaultdict\n",
    "import gc\n",
    "from IPython import display as ipd\n",
    "path='./effb8modelv2fold0_tf_efficientnet_b8_best_epoch-00.bin'\n",
    "\n",
    "for backbone in CFG.backbone :\n",
    "    print(backbone)\n",
    "    model     = build_model(backbone)\n",
    "    model =load_model(path,backbone)\n",
    "    model.train()\n",
    "    optimizer = optim.Adam(model.parameters(), lr=1e-4, weight_decay=CFG.wd)\n",
    "    scheduler = fetch_scheduler(optimizer)\n",
    "    model, history = run_trainingstage2(model,backbone, optimizer, scheduler,\n",
    "                                  device=CFG.device,\n",
    "                                  num_epochs=CFG.epochs)"
   ]
  },
  {
   "cell_type": "code",
   "execution_count": null,
   "id": "87b06fb2",
   "metadata": {},
   "outputs": [],
   "source": []
  },
  {
   "cell_type": "code",
   "execution_count": null,
   "id": "de2abfed",
   "metadata": {},
   "outputs": [],
   "source": []
  },
  {
   "cell_type": "code",
   "execution_count": null,
   "id": "81bbc742",
   "metadata": {},
   "outputs": [],
   "source": []
  },
  {
   "cell_type": "code",
   "execution_count": null,
   "id": "7c34331b",
   "metadata": {},
   "outputs": [],
   "source": []
  },
  {
   "cell_type": "code",
   "execution_count": null,
   "id": "557e8d34",
   "metadata": {},
   "outputs": [],
   "source": [
    "train_loader = DataLoader(train_dataset, batch_size=16, \n",
    "                              num_workers=4, shuffle=True, pin_memory=True, drop_last=False)\n",
    "valid_loader = DataLoader(val_dataset, batch_size=16 , \n",
    "                              num_workers=4, shuffle=False, pin_memory=True)\n",
    "test_loader = DataLoader(test_dataset, batch_size=CFG.valid_bs//2, \n",
    "                              num_workers=4, shuffle=False, pin_memory=True)\n",
    "\n",
    "fold =0\n",
    "from tqdm import tqdm\n",
    "import time\n",
    "import copy;\n",
    "import joblib\n",
    "from collections import defaultdict\n",
    "import gc\n",
    "from IPython import display as ipd\n",
    "path='./exp/effb8modelv2_tf_efficientnet_b8_best_epochstage2-00cv675.bin'\n",
    "\n",
    "for backbone in CFG.backbone :\n",
    "    print(backbone)\n",
    "    model     = build_model(backbone)\n",
    "    model =load_model(path,backbone)\n",
    "    model.train()\n",
    "    optimizer = optim.Adam(model.parameters(), lr=1e-5, weight_decay=CFG.wd)\n",
    "    scheduler = fetch_scheduler(optimizer)\n",
    "    model, history = run_trainingstage2(model,backbone, optimizer, scheduler,\n",
    "                                  device=CFG.device,\n",
    "                                  num_epochs=CFG.epochs)"
   ]
  },
  {
   "cell_type": "code",
   "execution_count": null,
   "id": "84fce5d2",
   "metadata": {},
   "outputs": [],
   "source": [
    "####STAGE 3 "
   ]
  },
  {
   "cell_type": "code",
   "execution_count": null,
   "id": "6c6a8370",
   "metadata": {},
   "outputs": [],
   "source": [
    "class CFG:\n",
    "    seed          = 101\n",
    "    debug         = False # set debug=False for Full Training\n",
    "    exp_name      = 'qishentrialv384unetplus'\n",
    "    comment       = 'unet-effb0-256x256-aug2-split2'\n",
    "    model_name    = 'Unet'\n",
    "    backbone      = 'tf_efficientnet_b7_ns','efficientnet--r','efficientnet-b5'\n",
    "    train_bs      = 12\n",
    "    valid_bs      = train_bs\n",
    "    img_size      = [384, 384]\n",
    "    epochs        = 1\n",
    "    lr            = 1e-3\n",
    "    scheduler     = 'CosineAnnealingLR'\n",
    "    min_lr        = 1e-6\n",
    "    T_max         = int(30000/train_bs*epochs)+50\n",
    "    T_0           = 25\n",
    "    warmup_epochs = 0\n",
    "    wd            = 1e-6\n",
    "    n_accumulate  = max(1, 32//train_bs)\n",
    "    n_fold        = 5\n",
    "    num_classes   = 1\n",
    "    p_mixup         =0.0\n",
    "    device        = torch.device(\"cuda:0\" if torch.cuda.is_available() else \"cpu\")"
   ]
  },
  {
   "cell_type": "code",
   "execution_count": null,
   "id": "f37609fa",
   "metadata": {},
   "outputs": [],
   "source": [
    "###Stage2 :\n",
    "def mixup(input, truth, clip=[0, 1]):\n",
    "    indices = torch.randperm(input.size(0))\n",
    "    shuffled_input = input[indices]\n",
    "    shuffled_labels = truth[indices]\n",
    "\n",
    "    lam = np.random.uniform(clip[0], clip[1])\n",
    "    input = input * lam + shuffled_input * (1 - lam)\n",
    "    return input, truth, shuffled_labels, lam\n",
    "\n",
    "\n",
    "def train_one_epochstage3(model, optimizer, scheduler, dataloader, device, epoch):\n",
    "    model.train()\n",
    "    scaler = amp.GradScaler()\n",
    "    \n",
    "    dataset_size = 0\n",
    "    running_loss = 0.0\n",
    "    \n",
    "    pbar = tqdm(enumerate(dataloader), total=len(dataloader), desc='Train ')\n",
    "    for step, (images, masks) in pbar:         \n",
    "        images = images.to(device, dtype=torch.float)\n",
    "        masks  = masks.to(device, dtype=torch.float)\n",
    "        \n",
    "        do_mixup = False\n",
    "        if random.random() < CFG.p_mixup:\n",
    "            do_mixup = True\n",
    "            images, masks, masks_sfl, lam = mixup(images, masks)\n",
    "        \n",
    "        batch_size = images.size(0)\n",
    "        \n",
    "        with amp.autocast(enabled=True):\n",
    "            y_pred = model(images)\n",
    "            loss   = criterion2(y_pred, masks)\n",
    "            loss   = loss / CFG.n_accumulate\n",
    "            if do_mixup:\n",
    "                loss2 = criterion(y_pred, masks_sfl)\n",
    "                loss = loss * lam  + loss2 * (1 - lam)\n",
    "            \n",
    "        scaler.scale(loss).backward()\n",
    "    \n",
    "        if (step + 1) % CFG.n_accumulate == 0:\n",
    "            scaler.step(optimizer)\n",
    "            scaler.update()\n",
    "\n",
    "            # zero the parameter gradients\n",
    "            optimizer.zero_grad()\n",
    "\n",
    "            if scheduler is not None:\n",
    "                scheduler.step()\n",
    "                \n",
    "        running_loss += (loss.item() * batch_size)\n",
    "        dataset_size += batch_size\n",
    "        \n",
    "        epoch_loss = running_loss / dataset_size\n",
    "        \n",
    "        mem = torch.cuda.memory_reserved() / 1E9 if torch.cuda.is_available() else 0\n",
    "        current_lr = optimizer.param_groups[0]['lr']\n",
    "        pbar.set_postfix(train_loss=f'{epoch_loss:0.4f}',\n",
    "                        lr=f'{current_lr:0.5f}',\n",
    "                        gpu_mem=f'{mem:0.2f} GB')\n",
    "    torch.cuda.empty_cache()\n",
    "    gc.collect()\n",
    "    \n",
    "    return epoch_loss\n"
   ]
  },
  {
   "cell_type": "code",
   "execution_count": null,
   "id": "2f2f3543",
   "metadata": {},
   "outputs": [],
   "source": [
    "def train_csv(x,path):\n",
    "    y= x.replace(\"/kaggle/working/data/\",f\"{path}\")\n",
    "    return y\n",
    "\n",
    "class Dataset:\n",
    "    def __init__(self,mode,transform =None,is_inference=True):\n",
    "        \n",
    "        self.is_infer = is_inference\n",
    "\n",
    "        \n",
    "        if mode == 'train':\n",
    "            ROOT_PATH = './contraildata/train'\n",
    "            DATA_PATH = './contraildata/train/data_train/kaggle/working/data/'\n",
    "        elif mode =='valid':\n",
    "            ROOT_PATH = './contraildata/'\n",
    "            DATA_PATH = './contraildata/validation/data_valid/kaggle/working/data_valid/'\n",
    "        elif mode == 'all' :\n",
    "            ROOT_PATH = './contraildata/all'\n",
    "            DATA_PATH = './contraildata/all/'\n",
    "            \n",
    "        else :\n",
    "            ROOT_PATH = './contraildata/'\n",
    "            DATA_PATH = './contraildata/validation/data_valid/kaggle/working/data_valid/'\n",
    "            \n",
    "        if mode =='all':\n",
    "            \n",
    "            df = pd.read_csv(f\"{ROOT_PATH}/data_all.csv\")\n",
    "            \n",
    "        else:\n",
    "\n",
    "            df = pd.read_csv(f\"{ROOT_PATH}/data.csv\")\n",
    "        \n",
    "            df[\"image\"]=df[\"image\"].apply(lambda x: train_csv(x,DATA_PATH))\n",
    "        \n",
    "            if not (self.is_infer):\n",
    "                df[\"label\"]=df[\"label\"].apply(lambda x:train_csv(x,DATA_PATH))\n",
    "\n",
    "        self.images = df['image']\n",
    "        self.labels = df['label']\n",
    "        self.transform =transform\n",
    "    def __getitem__(self, idx):\n",
    "        image = np.load(self.images[idx]).astype(float)\n",
    "        if not self.is_infer : \n",
    "            \n",
    "            label = np.load(self.labels[idx]).astype(float)\n",
    "            \n",
    "            if  self.transform :\n",
    "                data = self.transform(image=image, mask=label)\n",
    "                image  = data['image']\n",
    "                label  = data['mask']\n",
    "                image = np.transpose(image, (2, 0, 1))\n",
    "                label = np.transpose(label, (2, 0, 1))                \n",
    "            return torch.tensor(image), torch.tensor(label)\n",
    "        else :\n",
    "\n",
    "            if  self.transform :\n",
    "                data = self.transform(image=image)\n",
    "                image  = data['image']\n",
    "                image = np.transpose(image, (2, 0, 1))\n",
    "            return torch.tensor(image)\n",
    "    \n",
    "    def __len__(self):\n",
    "        return len(self.images)\n",
    "    \n",
    "train_dataset = Dataset('train',transform =data_transforms['train'],is_inference=False)    \n",
    "val_dataset = Dataset('valid',transform =data_transforms['valid'],is_inference=False)    \n",
    "all_dataset = Dataset('all',transform =data_transforms['train'],is_inference=False)    \n",
    "\n",
    "test_dataset = Dataset('test',transform =data_transforms['valid'],is_inference=True)    \n",
    "\n",
    "train_loader = DataLoader(train_dataset, batch_size=CFG.train_bs , \n",
    "                              num_workers=4, shuffle=True, pin_memory=True, drop_last=False)\n",
    "\n",
    "all_loader = DataLoader(all_dataset, batch_size=8 , \n",
    "                              num_workers=4, shuffle=True, pin_memory=True, drop_last=False)\n",
    "valid_loader = DataLoader(val_dataset, batch_size=4 , \n",
    "                              num_workers=4, shuffle=False, pin_memory=True)\n",
    "test_loader = DataLoader(test_dataset, batch_size=CFG.valid_bs, \n",
    "                              num_workers=4, shuffle=False, pin_memory=True)"
   ]
  },
  {
   "cell_type": "code",
   "execution_count": null,
   "id": "972b05eb",
   "metadata": {},
   "outputs": [],
   "source": [
    "def run_trainingstage3(model,backbone, optimizer, scheduler, device, num_epochs):\n",
    "    # To automatically log gradients\n",
    "   # wandb.watch(model, log_freq=100)\n",
    "    fold =0\n",
    "    if torch.cuda.is_available():\n",
    "        print(\"cuda: {}\\n\".format(torch.cuda.get_device_name()))\n",
    "        \n",
    "    print(f\"Start Training for Backbone ====> {backbone}\")\n",
    "    \n",
    "    start = time.time()\n",
    "    best_model_wts = copy.deepcopy(model.state_dict())\n",
    "    best_dice      = -np.inf\n",
    "    best_epoch     = -1\n",
    "    history = defaultdict(list)\n",
    "    \n",
    "    for epoch in range(1, num_epochs + 1): \n",
    "        gc.collect()\n",
    "        print(f'Epoch {epoch}/{num_epochs}', end='')\n",
    "        train_loss = train_one_epochstage3(model, optimizer, scheduler, \n",
    "                                           dataloader=all_loader, \n",
    "                                           device=CFG.device, epoch=epoch)\n",
    "        \n",
    "        val_loss, val_scores,val_correct_dice = valid_one_epoch(model, valid_loader, \n",
    "                                                 device=CFG.device, \n",
    "                                                 epoch=epoch)\n",
    "        val_dice, val_jaccard,val_dice_mod = val_scores\n",
    "    \n",
    "        history['Train Loss'].append(train_loss)\n",
    "        history['Valid Loss'].append(val_loss)\n",
    "        history['Valid Dice'].append(val_correct_dice)\n",
    "        history['Valid Jaccard'].append(val_jaccard)\n",
    "        history['Valid Dice Mod'].append(val_dice_mod)\n",
    "\n",
    "        \n",
    "        # Log the metrics\n",
    " #       wandb.log({\"Train Loss\": train_loss, \n",
    " #                  \"Valid Loss\": val_loss,\n",
    " #                  \"Valid Dice\": val_dice,\n",
    " #                  \"Valid Jaccard\": val_jaccard,\n",
    " #                  \"LR\":scheduler.get_last_lr()[0]})\n",
    "        \n",
    "        print(f'Valid Dice: {val_correct_dice:0.4f} | Valid Jaccard: {val_jaccard:0.4f} | Valid Dice Mod: {val_dice_mod:0.4f}')\n",
    "        \n",
    "        # deep copy the model\n",
    "        if val_correct_dice >= best_dice:\n",
    "            print(f\"{c_}Valid Score Improved ({best_dice:0.4f} ---> {val_correct_dice:0.4f})\")\n",
    "            best_dice    = val_correct_dice\n",
    "            best_jaccard = val_jaccard\n",
    "            best_epoch   = epoch\n",
    "            #run.summary[\"Best Dice\"]    = best_dice\n",
    "            #run.summary[\"Best Jaccard\"] = best_jaccard\n",
    "            #run.summary[\"Best Epoch\"]   = best_epoch\n",
    "            best_model_wts = copy.deepcopy(model.state_dict())\n",
    "            PATH = f\"{CFG.exp_name}_{backbone}_best_epochstage3-{fold:02d}.bin\"\n",
    "            torch.save(model.state_dict(), PATH)\n",
    "            # Save a model file from the current directory\n",
    "            #wandb.save(PATH)\n",
    "            print(f\"Model Saved{sr_}\")\n",
    "            \n",
    "        last_model_wts = copy.deepcopy(model.state_dict())\n",
    "        PATH = f\"{CFG.exp_name}_{backbone}_last_epochstage3-{fold:02d}.bin\"\n",
    "        torch.save(model.state_dict(), PATH)\n",
    "            \n",
    "        print(); print()\n",
    "    \n",
    "    end = time.time()\n",
    "    time_elapsed = end - start\n",
    "    print('Training complete in {:.0f}h {:.0f}m {:.0f}s'.format(\n",
    "        time_elapsed // 3600, (time_elapsed % 3600) // 60, (time_elapsed % 3600) % 60))\n",
    "    print(\"Best Score: {:.4f}\".format(best_jaccard))\n",
    "    \n",
    "    # load best model weights\n",
    "    model.load_state_dict(best_model_wts)\n",
    "    \n",
    "    return model, history"
   ]
  },
  {
   "cell_type": "code",
   "execution_count": null,
   "id": "7e898b8c",
   "metadata": {},
   "outputs": [],
   "source": [
    "fold =0\n",
    "from tqdm import tqdm\n",
    "import time\n",
    "import copy\n",
    "import joblib\n",
    "from collections import defaultdict\n",
    "import gc\n",
    "from IPython import display as ipd\n",
    "path='./qishentrialv384unetplus_tf_efficientnet_b7_ns_best_epochstage2-00.bin'\n",
    "\n",
    "for backbone in CFG.backbone :\n",
    "    print(backbone)\n",
    "    model     = build_model(backbone)\n",
    "    model =load_model(path,backbone)\n",
    "    model.train()\n",
    "    optimizer = optim.Adam(model.parameters(), lr=1e-5, weight_decay=CFG.wd)\n",
    "    scheduler = fetch_scheduler(optimizer)\n",
    "    model, history = run_trainingstage3(model,backbone, optimizer, scheduler,\n",
    "                                  device=CFG.device,\n",
    "                                  num_epochs=CFG.epochs)"
   ]
  },
  {
   "cell_type": "code",
   "execution_count": null,
   "id": "3405bcdb",
   "metadata": {},
   "outputs": [],
   "source": [
    "backbones =['efficientnet_b0']\n"
   ]
  },
  {
   "cell_type": "code",
   "execution_count": null,
   "id": "2d98314b",
   "metadata": {},
   "outputs": [],
   "source": [
    "%%time\n",
    "out_rle=[]\n",
    "\n",
    "preds = []\n",
    "truth= []\n",
    "preds_all =[]\n",
    "truth_all =[]\n",
    "preds_new=[]\n",
    "for index,(imgs,msks) in enumerate(valid_loader):\n",
    "        imgs = imgs.to(CFG.device, dtype=torch.float)\n",
    "        msks = msks.to(CFG.device, dtype=torch.float)\n",
    "        pred_bb=0\n",
    "        for backbone in backbones:\n",
    "            model = load_model(\"qishentrial_efficientnet-b0_best_epoch-00.bin\",backbone)\n",
    "            with torch.no_grad():\n",
    "                pred = model(imgs)\n",
    "                pred_bb+=pred\n",
    "        pred = (nn.Sigmoid()(pred_bb/len(backbones))>0.5).double()\n",
    "        preds.append(pred)\n",
    "        preds_new.append(pred.cpu().detach())\n",
    "imgs  = imgs.cpu().detach()\n",
    "msks  =msks.cpu().detach()\n",
    "\n",
    "preds_new = torch.mean(torch.stack(preds, dim=0), dim=0).cpu().detach()\n",
    "#truth = torch.mean(torch.stack(msks, dim=0), dim=0).cpu().detach()\n",
    "\n",
    "\n",
    "#out_reversed = np.array([o.cpu().permute(1,2,0).numpy() for o in preds])\n",
    "#for e in out_reversed:\n",
    "#    out_rle.append(e)"
   ]
  },
  {
   "cell_type": "code",
   "execution_count": null,
   "id": "cbfef36e",
   "metadata": {},
   "outputs": [],
   "source": [
    "pred_bb =torch.randn(64,1,512,512)\n",
    "\n",
    "cv2.resize(pred_bb[0].numpy().reshape(512,512),(256,256),interpolation=cv2.INTER_NEAREST).shape"
   ]
  },
  {
   "cell_type": "code",
   "execution_count": null,
   "id": "c7ea7ce9",
   "metadata": {},
   "outputs": [],
   "source": [
    "backbone=['efficientnet_b0']\n",
    "imgs,msks = next(iter(valid_loader))\n",
    "imgs = imgs.to(CFG.device, dtype=torch.float)\n",
    "out_rle=[]\n",
    "\n",
    "preds = []\n",
    "for fold in range(1):\n",
    "    \n",
    "    for bb in backbone:\n",
    "        \n",
    "        model = load_model(f\"qishentrial_efficientnet-b0_best_epoch-00.bin\",bb)\n",
    "        with torch.no_grad():\n",
    "            pred_tmp = model(imgs)\n",
    "            pred+=pred_tmp\n",
    "    pred = (nn.Sigmoid()(pred)>0.5).double()\n",
    "    preds.append(pred)\n",
    "    \n",
    "imgs  = imgs.cpu().detach()\n",
    "preds = torch.mean(torch.stack(preds, dim=0), dim=0).cpu().detach()\n",
    "\n",
    "out_reversed = np.array([o.cpu().permute(1,2,0).numpy() for o in preds])\n",
    "for e in out_reversed:\n",
    "    out_rle.append(e)"
   ]
  },
  {
   "cell_type": "code",
   "execution_count": null,
   "id": "b2883d8c",
   "metadata": {},
   "outputs": [],
   "source": [
    "def resizeMask(mask, w, h):\n",
    "    \n",
    "    resmask = np.zeros((h, w, mask.shape[2]))\n",
    "    for i in range(mask.shape[2]):\n",
    "        resmask[...,i] = cv2.resize(mask[...,i], (w,h))\n",
    "        \n",
    "    return resmask"
   ]
  },
  {
   "cell_type": "code",
   "execution_count": null,
   "id": "e924b987",
   "metadata": {},
   "outputs": [],
   "source": [
    "b,c,h,w =preds.shape\n",
    "\n",
    "def np_resize(img, input_shape):\n",
    "    \"\"\"\n",
    "    Reshape a numpy array, which is input_shape=(height, width), \n",
    "    as opposed to input_shape=(width, height) for cv2\n",
    "    \"\"\"\n",
    "    height, width = input_shape\n",
    "    return cv2.resize(img, (width, height))"
   ]
  },
  {
   "cell_type": "code",
   "execution_count": null,
   "id": "d840488e",
   "metadata": {},
   "outputs": [],
   "source": [
    "msks"
   ]
  },
  {
   "cell_type": "code",
   "execution_count": null,
   "id": "8f8640b8",
   "metadata": {},
   "outputs": [],
   "source": [
    "plot_batch(imgs, preds, size=2)"
   ]
  },
  {
   "cell_type": "code",
   "execution_count": null,
   "id": "d5a41498",
   "metadata": {},
   "outputs": [],
   "source": [
    "plot_batch(imgs, msks, size=5)"
   ]
  },
  {
   "cell_type": "code",
   "execution_count": null,
   "id": "82ad4a40",
   "metadata": {},
   "outputs": [],
   "source": []
  },
  {
   "cell_type": "code",
   "execution_count": null,
   "id": "7aac5e96",
   "metadata": {},
   "outputs": [],
   "source": []
  },
  {
   "cell_type": "code",
   "execution_count": null,
   "id": "6c00ac3b",
   "metadata": {},
   "outputs": [],
   "source": []
  }
 ],
 "metadata": {
  "kernelspec": {
   "display_name": "Python 3 (ipykernel)",
   "language": "python",
   "name": "python3"
  },
  "language_info": {
   "codemirror_mode": {
    "name": "ipython",
    "version": 3
   },
   "file_extension": ".py",
   "mimetype": "text/x-python",
   "name": "python",
   "nbconvert_exporter": "python",
   "pygments_lexer": "ipython3",
   "version": "3.10.11"
  }
 },
 "nbformat": 4,
 "nbformat_minor": 5
}
