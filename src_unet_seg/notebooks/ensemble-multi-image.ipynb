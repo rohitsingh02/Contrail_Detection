{
 "cells": [
  {
   "cell_type": "code",
   "execution_count": 6,
   "id": "0c125d77",
   "metadata": {},
   "outputs": [],
   "source": [
    "import pandas as pd\n",
    "import ttach as tta"
   ]
  },
  {
   "cell_type": "code",
   "execution_count": 7,
   "id": "645a79e3",
   "metadata": {},
   "outputs": [],
   "source": [
    "# !pip install optuna"
   ]
  },
  {
   "cell_type": "code",
   "execution_count": 8,
   "id": "77e5af39",
   "metadata": {},
   "outputs": [],
   "source": [
    "import os\n",
    "import shutil\n",
    "import pathlib\n",
    "import gc\n",
    "from pathlib import Path\n",
    "from PIL import Image\n",
    "import pandas as pd\n",
    "import numpy as np\n",
    "import cv2 as cv\n",
    "import random\n",
    "import matplotlib.pyplot as plt\n",
    "# from tqdm.auto import tqdm\n",
    "from tqdm.notebook import tqdm\n",
    "import torch\n",
    "import torch.nn as nn\n",
    "import torch.nn.functional as F\n",
    "from torch import optim\n",
    "import torch\n",
    "from torch.utils.data import DataLoader, random_split\n",
    "from torch.utils.data import Dataset\n",
    "\n",
    "import torchvision\n",
    "from torchvision import datasets\n",
    "import cv2\n",
    "from torch.cuda import amp\n",
    "\n",
    "import torchvision.transforms as T\n",
    "from torchvision.transforms import Compose, ToTensor, Resize\n",
    "from torchvision.utils import make_grid\n",
    "import optuna\n",
    "\n",
    "import albumentations as A\n",
    "from albumentations.pytorch import ToTensorV2\n",
    "import segmentation_models_pytorch as smp"
   ]
  },
  {
   "cell_type": "code",
   "execution_count": 9,
   "id": "157ff8d6",
   "metadata": {},
   "outputs": [],
   "source": [
    "def seed_everything(seed=42):\n",
    "    '''Sets the seed of the entire notebook so results are the same every time we run.\n",
    "    This is for REPRODUCIBILITY.'''\n",
    "    np.random.seed(seed)\n",
    "    random.seed(seed)\n",
    "    torch.manual_seed(seed)\n",
    "    torch.cuda.manual_seed(seed)\n",
    "    torch.backends.cudnn.deterministic = True\n",
    "    torch.backends.cudnn.benchmark = False\n",
    "    os.environ['PYTHONHASHSEED'] = str(seed)"
   ]
  },
  {
   "cell_type": "code",
   "execution_count": 10,
   "id": "12e6bf9e",
   "metadata": {},
   "outputs": [],
   "source": [
    "seed_everything(42)"
   ]
  },
  {
   "cell_type": "code",
   "execution_count": 11,
   "id": "ddb77d81",
   "metadata": {},
   "outputs": [],
   "source": [
    "# CFGS = [       \n",
    "    \n",
    "#     {\n",
    "#         'model_name': 'Unet',\n",
    "#         'backbone': 'efficientnet-b7',\n",
    "#         'img_size': [256, 256],\n",
    "#         'num_classes': 1,\n",
    "#         'model_pth':  '../../output/exp_s1_pl_02/Unet/efficientnet-b7-256/checkpoint_dice.pth',\n",
    "#         'threshold': 0.12,\n",
    "#         'tta': True\n",
    "#     }, \n",
    "\n",
    "#     ### below final\n",
    "    \n",
    "#     {\n",
    "#         'model_name': 'Unet',\n",
    "#         'backbone': 'timm-efficientnet-b8',\n",
    "#         'img_size': [256, 256],\n",
    "#         'num_classes': 1,\n",
    "#         'model_pth':  '../../output/exp_s1_01/Unet/timm-efficientnet-b8/checkpoint_dice.pth',\n",
    "#         'threshold': 0.3,\n",
    "#         'tta': True\n",
    "#     }, \n",
    "    \n",
    "#     {\n",
    "#     'model_name': 'Unet',\n",
    "#         'backbone': 'efficientnet-b7',\n",
    "#         'img_size': [512, 512],\n",
    "#         'num_classes': 1,\n",
    "#         'model_pth':  '../../output/contrail_exp_b7/efficientnet-b7-512/checkpoint_dice.pth',\n",
    "#         'threshold': 0.1,\n",
    "#         'tta': True\n",
    "#     }, \n",
    "#     {\n",
    "#     'model_name': 'Unet',\n",
    "#         'backbone': 'efficientnet-b7',\n",
    "#         'img_size': [384, 384],\n",
    "#         'num_classes': 1,\n",
    "#         'model_pth':  '../../output/contrail_exp_b7/efficientnet-b7-384/checkpoint_dice.pth',\n",
    "#         'threshold': 0.16,\n",
    "#         'tta': True\n",
    "#     }, \n",
    "# #     {\n",
    "# #     'model_name': 'Unet',\n",
    "# #         'backbone': 'efficientnet-b7',\n",
    "# #         'img_size': [256, 256],\n",
    "# #         'num_classes': 1,\n",
    "# #         'model_pth':  '../../output/contrail_exp_b7/efficientnet-b7-256-100-epochs/checkpoint_dice.pth',\n",
    "# #         'threshold': 0.04,\n",
    "# #         'tta': True\n",
    "# #     },\n",
    "# #     {\n",
    "# #     'model_name': 'Unet',\n",
    "# #         'backbone': 'efficientnet-b7',\n",
    "# #         'img_size': [256, 256],\n",
    "# #         'num_classes': 1,\n",
    "# #         'model_pth':  '../../output/contrail_exp_b7/efficientnet-b7-256-bce-train_2/checkpoint_dice.pth',\n",
    "# #         'threshold': 0.32,\n",
    "# #         'tta': False\n",
    "# #     },\n",
    "#     {\n",
    "#     'model_name': 'Unet',\n",
    "#         'backbone': 'efficientnet-b7',\n",
    "#         'img_size': [256, 256],\n",
    "#         'num_classes': 1,\n",
    "#         'model_pth':  '../../output/contrail_exp_b7/efficientnet-b7-256-train_2/checkpoint_dice.pth',\n",
    "#         'threshold': 0.32,\n",
    "#         'tta': False\n",
    "#     },\n",
    "    \n",
    "    \n",
    "\n",
    "# ]\n",
    "\n",
    "\n",
    "# CFGS = [       \n",
    "#     {\n",
    "#         'model_name': 'Unet',\n",
    "#         'backbone': 'efficientnet-b7',\n",
    "#         'img_size': [256, 256],\n",
    "#         'num_classes': 1,\n",
    "#         'model_pth':  '../../output/exp_s1_pl_02/Unet/efficientnet-b7-256/checkpoint_dice.pth',\n",
    "#         'threshold': 0.12,\n",
    "#         'tta': False #True\n",
    "#     }, \n",
    "# ]\n",
    "\n",
    "# CFGS = [       \n",
    "    \n",
    "    \n",
    "    \n",
    "    \n",
    "#     {\n",
    "#         'model_name': 'Unet',\n",
    "#         'backbone': 'efficientnet-b7',\n",
    "#         'img_size': [256, 256],\n",
    "#         'num_classes': 1,\n",
    "#         'model_pth':  '/home/rohits/pv1/contrail/output/exp_s1_pl_03_s2/Unet/efficientnet-b7-256/checkpoint_dice.pth',\n",
    "#         'threshold': 0.24,\n",
    "#         'tta': True\n",
    "#     }, \n",
    "    \n",
    "# #     {\n",
    "# #         'model_name': 'Unet',\n",
    "# #         'backbone': 'efficientnet-b7',\n",
    "# #         'img_size': [256, 256],\n",
    "# #         'num_classes': 1,\n",
    "# #         'model_pth':  '../../output/exp_s1_pl_02/Unet/efficientnet-b7-256/checkpoint_dice.pth',\n",
    "# #         'threshold': 0.12,\n",
    "# #         'tta': False\n",
    "# #     }, \n",
    "    \n",
    "# #     {\n",
    "# #         'model_name': 'Unet',\n",
    "# #         'backbone': 'efficientnet-b7',\n",
    "# #         'img_size': [512, 512],\n",
    "# #         'num_classes': 1,\n",
    "# #         'model_pth':  '/home/rohits/pv1/contrail/output/exp_s1_pl_02/Unet/efficientnet-b7/checkpoint_dice.pth',\n",
    "# #         'threshold': 0.19,\n",
    "# #         'tta': True\n",
    "# #     }, \n",
    "\n",
    "    \n",
    "#     {\n",
    "#         'model_name': 'Unet',\n",
    "#         'backbone': 'efficientnet-b7',\n",
    "#         'img_size': [384, 384],\n",
    "#         'num_classes': 1,\n",
    "#         'model_pth':  '/home/rohits/pv1/contrail/output/exp_s1_pl_01/Unet/efficientnet-b7-384/checkpoint_dice.pth',\n",
    "#         'threshold': 0.46,\n",
    "#         'tta': True\n",
    "#     }, \n",
    "    \n",
    "    \n",
    "# #     {\n",
    "# #         'model_name': 'Unet',\n",
    "# #         'backbone': 'efficientnet-b7',\n",
    "# #         'img_size': [256, 256],\n",
    "# #         'num_classes': 1,\n",
    "# #         'model_pth':  '/home/rohits/pv1/contrail/output/exp_s1_pl_01/Unet/efficientnet-b7/checkpoint_dice.pth',\n",
    "# #         'threshold': 0.33,\n",
    "# #         'tta': True\n",
    "# #     }, \n",
    "    \n",
    "    \n",
    "#     ### below final\n",
    "    \n",
    "#     {\n",
    "#         'model_name': 'Unet',\n",
    "#         'backbone': 'timm-efficientnet-b8',\n",
    "#         'img_size': [256, 256],\n",
    "#         'num_classes': 1,\n",
    "#         'model_pth':  '../../output/exp_s1_01/Unet/timm-efficientnet-b8/checkpoint_dice.pth',\n",
    "#         'threshold': 0.3,\n",
    "#         'tta': True\n",
    "#     }, \n",
    "    \n",
    "#     {\n",
    "#     'model_name': 'Unet',\n",
    "#         'backbone': 'efficientnet-b7',\n",
    "#         'img_size': [512, 512],\n",
    "#         'num_classes': 1,\n",
    "#         'model_pth':  '../../output/contrail_exp_b7/efficientnet-b7-512/checkpoint_dice.pth',\n",
    "#         'threshold': 0.1,\n",
    "#         'tta': True\n",
    "#     }, \n",
    "# #     {\n",
    "# #     'model_name': 'Unet',\n",
    "# #         'backbone': 'efficientnet-b7',\n",
    "# #         'img_size': [384, 384],\n",
    "# #         'num_classes': 1,\n",
    "# #         'model_pth':  '../../output/contrail_exp_b7/efficientnet-b7-384/checkpoint_dice.pth',\n",
    "# #         'threshold': 0.16,\n",
    "# #         'tta': True\n",
    "# #     }, \n",
    "# #     {\n",
    "# #     'model_name': 'Unet',\n",
    "# #         'backbone': 'efficientnet-b7',\n",
    "# #         'img_size': [256, 256],\n",
    "# #         'num_classes': 1,\n",
    "# #         'model_pth':  '../../output/contrail_exp_b7/efficientnet-b7-256-100-epochs/checkpoint_dice.pth',\n",
    "# #         'threshold': 0.04,\n",
    "# #         'tta': True\n",
    "# #     },\n",
    "# #     {\n",
    "# #     'model_name': 'Unet',\n",
    "# #         'backbone': 'efficientnet-b7',\n",
    "# #         'img_size': [256, 256],\n",
    "# #         'num_classes': 1,\n",
    "# #         'model_pth':  '../../output/contrail_exp_b7/efficientnet-b7-256-bce-train_2/checkpoint_dice.pth',\n",
    "# #         'threshold': 0.32,\n",
    "# #         'tta': False\n",
    "# #     },\n",
    "#     {\n",
    "#     'model_name': 'Unet',\n",
    "#         'backbone': 'efficientnet-b7',\n",
    "#         'img_size': [256, 256],\n",
    "#         'num_classes': 1,\n",
    "#         'model_pth':  '../../output/contrail_exp_b7/efficientnet-b7-256-train_2/checkpoint_dice.pth',\n",
    "#         'threshold': 0.32,\n",
    "#         'tta': False\n",
    "#     },\n",
    "    \n",
    "    \n",
    "\n",
    "# ]"
   ]
  },
  {
   "cell_type": "code",
   "execution_count": 12,
   "id": "c5654e79",
   "metadata": {},
   "outputs": [],
   "source": [
    "CFGS = [           \n",
    "    {\n",
    "        'model_name': 'Unet',\n",
    "        'backbone': 'efficientnet-b7',\n",
    "        'img_size': [256, 256],\n",
    "        'num_classes': 1,\n",
    "        'model_pth':  '/home/rohits/pv1/contrail/output/exp_s1_pl_03/pl_round1/efficientnet-b7-256-s2/checkpoint_dice.pth',\n",
    "        'threshold': 0.62, #0.24,\n",
    "        'tta': True\n",
    "    },     \n",
    "    {\n",
    "        'model_name': 'Unet',\n",
    "        'backbone': 'efficientnet-b7',\n",
    "        'img_size': [256, 256],\n",
    "        'num_classes': 1,\n",
    "        'model_pth':  '/home/rohits/pv1/contrail/output/exp_s1_pl_03/pl_round2/efficientnet-b7-256-s2/checkpoint_dice.pth',\n",
    "        'threshold': 0.62, #0.24,\n",
    "        'tta': True\n",
    "    }, \n",
    "    \n",
    "    {\n",
    "        'model_name': 'Unet',\n",
    "        'backbone': 'efficientnet-b7',\n",
    "        'img_size': [256, 256],\n",
    "        'num_classes': 1,\n",
    "        'model_pth':  '/home/rohits/pv1/contrail/output/exp_s1_pl_03/pl_round2_2/efficientnet-b7-256/checkpoint_dice.pth',\n",
    "        'threshold': 0.62, #0.24,\n",
    "        'tta': True\n",
    "    }, \n",
    "    \n",
    "    {\n",
    "        'model_name': 'Unet',\n",
    "        'backbone': 'efficientnet-b7',\n",
    "        'img_size': [256, 256],\n",
    "        'num_classes': 1,\n",
    "        'model_pth':  '/home/rohits/pv1/contrail/output/exp_s1_pl_03/pl_round2_2/efficientnet-b7-256-s2/checkpoint_dice.pth',\n",
    "        'threshold': 0.62, #0.24,\n",
    "        'tta': True\n",
    "    }, \n",
    "    \n",
    "    \n",
    "    {\n",
    "        'model_name': 'Unet',\n",
    "        'backbone': 'efficientnet-b7',\n",
    "        'img_size': [256, 256],\n",
    "        'num_classes': 1,\n",
    "        'model_pth':  '/home/rohits/pv1/contrail/output/exp_s1_pl_03/pl_round2_2/efficientnet-b7-256-s2/checkpoint_dice.pth',\n",
    "        'threshold': 0.62, #0.24,\n",
    "        'tta': True\n",
    "    },\n",
    "    \n",
    "#         {\n",
    "#         'model_name': 'Unet',\n",
    "#         'backbone': 'efficientnet-b7',\n",
    "#         'img_size': [256, 256],\n",
    "#         'num_classes': 1,\n",
    "#         'model_pth':  '/home/rohits/pv1/contrail/output/exp_02_pl1/Unet/efficientnet-b7-256/checkpoint_dice.pth',\n",
    "#         'threshold': 0.62, #0.24,\n",
    "#         'tta': True\n",
    "#     },\n",
    "    \n",
    "    {\n",
    "        'model_name': 'Unet',\n",
    "        'backbone': 'efficientnet-b7',\n",
    "        'img_size': [512, 512],\n",
    "        'num_classes': 1,\n",
    "        'model_pth':  '/home/rohits/pv1/contrail/output/exp_02_pl1/Unet/efficientnet-b7-512/checkpoint_dice.pth',\n",
    "        'threshold': 0.62, #0.24,\n",
    "        'tta': True\n",
    "    },\n",
    "    \n",
    "    \n",
    "    {\n",
    "        'model_name': 'Unet',\n",
    "        'backbone': 'efficientnet-b7',\n",
    "        'img_size': [128, 128],\n",
    "        'num_classes': 1,\n",
    "        'model_pth':  '/home/rohits/pv1/contrail/output/exp_fulfit_01/Unet/efficientnet-b7-128/checkpoint_dice.pth',\n",
    "        'threshold': 0.62, #0.24,\n",
    "        'tta': True\n",
    "    },\n",
    "    \n",
    "    \n",
    "    \n",
    "    \n",
    "    \n",
    "    \n",
    "\n",
    "]"
   ]
  },
  {
   "cell_type": "code",
   "execution_count": 13,
   "id": "2ddaafa6",
   "metadata": {},
   "outputs": [],
   "source": [
    "device = torch.device('cuda' if torch.cuda.is_available() else 'cpu')\n"
   ]
  },
  {
   "cell_type": "code",
   "execution_count": 14,
   "id": "d58a5058",
   "metadata": {},
   "outputs": [],
   "source": [
    "class Dataset:\n",
    "    def __init__(self, df, transform=None):   \n",
    "        self.images = df['image']\n",
    "        self.labels = df['label']\n",
    "        self.transform =transform\n",
    "        \n",
    "    def __len__(self):\n",
    "        return len(self.images)\n",
    "        \n",
    "    def __getitem__(self, idx):\n",
    "        image = np.load(self.images[idx]).astype(float)\n",
    "        if  self.transform :\n",
    "            data = self.transform(image=image)\n",
    "            image  = data['image']\n",
    "            image = np.transpose(image, (2, 0, 1))\n",
    "        return torch.tensor(image)\n",
    "    \n",
    "    \n",
    "    \n",
    "class ContrailDataset:\n",
    "    def __init__(self, df, transform=None):\n",
    "        self.df = df  \n",
    "        self.images = df['image']\n",
    "        self.labels = df['label']\n",
    "        self.transform =transform\n",
    "        \n",
    "        \n",
    "    def __len__(self):\n",
    "        return len(self.images)\n",
    "        \n",
    "    def __getitem__(self, idx):\n",
    "        image = np.load(\"../../input/\" + self.images[idx]).astype(float)   \n",
    "        label = np.load(\"../../input/\" + self.labels[idx]).astype(float)\n",
    "        \n",
    "        # label_cls = 1 if label.sum() > 0 else 0\n",
    "        if self.transform :\n",
    "            data = self.transform(image=image, mask=label)\n",
    "            image  = data['image']\n",
    "            label  = data['mask']\n",
    "            image = np.transpose(image, (2, 0, 1))\n",
    "            label = np.transpose(label, (2, 0, 1))    \n",
    "            \n",
    "        return torch.tensor(image), torch.tensor(label)"
   ]
  },
  {
   "cell_type": "code",
   "execution_count": 15,
   "id": "985b3de5",
   "metadata": {},
   "outputs": [],
   "source": [
    "class Net(nn.Module):\n",
    "    def __init__(self, cfg):\n",
    "        super().__init__()\n",
    "        self.cfg = cfg\n",
    "        \n",
    "        self.model = smp.Unet(\n",
    "            encoder_name=cfg[\"backbone\"],      # choose encoder, e.g. mobilenet_v2 or efficientnet-b7\n",
    "            encoder_weights=None,     # use `imagenet` pre-trained weights for encoder initialization\n",
    "            in_channels=3,                  # model input channels (1 for gray-scale images, 3 for RGB, etc.)\n",
    "            classes=cfg[\"num_classes\"],        # model output channels (number of classes in your dataset)\n",
    "            activation=None\n",
    "        )\n",
    "        \n",
    "    \n",
    "    def forward(self, inputs):\n",
    "        mask = self.model(inputs)\n",
    "        return mask"
   ]
  },
  {
   "cell_type": "code",
   "execution_count": 16,
   "id": "b13dbb4e",
   "metadata": {},
   "outputs": [],
   "source": [
    "import torch\n",
    "import torch.nn as nn\n",
    "\n",
    "\n",
    "class Dice(nn.Module):\n",
    "    def __init__(self):\n",
    "        super().__init__()\n",
    "\n",
    "    def forward(self, pred_masks: torch.Tensor, gt_masks: torch.Tensor, smooth=1e-5):\n",
    "        \"\"\"\n",
    "        This method expect boolean pred and gt masks in the shape of (B, C, H, W).\n",
    "        In this competition, we are dealing with semantic segmentation and I choose to use \n",
    "        one channel with two values: 0 for background, 1 for mask.\n",
    "        \"\"\"\n",
    "        batch_size = pred_masks.shape[0]\n",
    "        pred_masks = pred_masks.view(batch_size, -1)\n",
    "        gt_masks = gt_masks.view(batch_size, -1)\n",
    "\n",
    "        intersection = (pred_masks * gt_masks).sum(1)\n",
    "        dice = (2. * intersection) / (pred_masks.sum(1) + gt_masks.sum(1) + smooth)\n",
    "\n",
    "        dice = dice.mean()\n",
    "\n",
    "        return dice"
   ]
  },
  {
   "cell_type": "code",
   "execution_count": 17,
   "id": "07bfce0c",
   "metadata": {},
   "outputs": [],
   "source": [
    "def dice_coef(y_true, y_pred, thr=0.5, epsilon=1e-6):\n",
    "    y_true = y_true.to(torch.float32)\n",
    "    y_pred = (y_pred>thr).to(torch.float32)\n",
    "    inter = (y_true*y_pred).sum()\n",
    "    den = y_true.sum() + y_pred.sum()\n",
    "    dice = ((2*inter+epsilon)/(den+epsilon)).mean()\n",
    "    \n",
    "    return dice\n",
    "\n",
    "\n",
    "def get_transform(img_size):\n",
    "    transform = A.Compose([\n",
    "        A.Resize(*img_size, interpolation=cv2.INTER_NEAREST),\n",
    "    ], p=1.0)\n",
    "    return transform\n"
   ]
  },
  {
   "cell_type": "code",
   "execution_count": 18,
   "id": "646ce6cb",
   "metadata": {},
   "outputs": [
    {
     "name": "stdout",
     "output_type": "stream",
     "text": [
      "{'model_name': 'Unet', 'backbone': 'efficientnet-b7', 'img_size': [256, 256], 'num_classes': 1, 'model_pth': '/home/rohits/pv1/contrail/output/exp_s1_pl_03/pl_round1/efficientnet-b7-256-s2/checkpoint_dice.pth', 'threshold': 0.62, 'tta': True}\n"
     ]
    },
    {
     "data": {
      "application/vnd.jupyter.widget-view+json": {
       "model_id": "841832c9759b4b8eaf534ecea96b6e2a",
       "version_major": 2,
       "version_minor": 0
      },
      "text/plain": [
       "  0%|          | 0/58 [00:00<?, ?it/s]"
      ]
     },
     "metadata": {},
     "output_type": "display_data"
    },
    {
     "name": "stdout",
     "output_type": "stream",
     "text": [
      "0.6775598 0.16\n",
      "{'model_name': 'Unet', 'backbone': 'efficientnet-b7', 'img_size': [256, 256], 'num_classes': 1, 'model_pth': '/home/rohits/pv1/contrail/output/exp_s1_pl_03/pl_round2/efficientnet-b7-256-s2/checkpoint_dice.pth', 'threshold': 0.62, 'tta': True}\n"
     ]
    },
    {
     "data": {
      "application/vnd.jupyter.widget-view+json": {
       "model_id": "211456b1d0bb43cf8767eb9a7b51e6ec",
       "version_major": 2,
       "version_minor": 0
      },
      "text/plain": [
       "  0%|          | 0/58 [00:00<?, ?it/s]"
      ]
     },
     "metadata": {},
     "output_type": "display_data"
    },
    {
     "name": "stdout",
     "output_type": "stream",
     "text": [
      "0.67928106 0.49\n",
      "{'model_name': 'Unet', 'backbone': 'efficientnet-b7', 'img_size': [256, 256], 'num_classes': 1, 'model_pth': '/home/rohits/pv1/contrail/output/exp_s1_pl_03/pl_round2_2/efficientnet-b7-256/checkpoint_dice.pth', 'threshold': 0.62, 'tta': True}\n"
     ]
    },
    {
     "data": {
      "application/vnd.jupyter.widget-view+json": {
       "model_id": "9c48e9249ea94377bc48fa0d44eb8118",
       "version_major": 2,
       "version_minor": 0
      },
      "text/plain": [
       "  0%|          | 0/58 [00:00<?, ?it/s]"
      ]
     },
     "metadata": {},
     "output_type": "display_data"
    },
    {
     "name": "stdout",
     "output_type": "stream",
     "text": [
      "0.67800456 0.6\n",
      "{'model_name': 'Unet', 'backbone': 'efficientnet-b7', 'img_size': [256, 256], 'num_classes': 1, 'model_pth': '/home/rohits/pv1/contrail/output/exp_s1_pl_03/pl_round2_2/efficientnet-b7-256-s2/checkpoint_dice.pth', 'threshold': 0.62, 'tta': True}\n"
     ]
    },
    {
     "data": {
      "application/vnd.jupyter.widget-view+json": {
       "model_id": "1b86fdcee07c4901b349fc00d27b8cb3",
       "version_major": 2,
       "version_minor": 0
      },
      "text/plain": [
       "  0%|          | 0/58 [00:00<?, ?it/s]"
      ]
     },
     "metadata": {},
     "output_type": "display_data"
    },
    {
     "name": "stdout",
     "output_type": "stream",
     "text": [
      "0.6778432 0.57\n",
      "{'model_name': 'Unet', 'backbone': 'efficientnet-b7', 'img_size': [256, 256], 'num_classes': 1, 'model_pth': '/home/rohits/pv1/contrail/output/exp_s1_pl_03/pl_round2_2/efficientnet-b7-256-s2/checkpoint_dice.pth', 'threshold': 0.62, 'tta': True}\n"
     ]
    },
    {
     "data": {
      "application/vnd.jupyter.widget-view+json": {
       "model_id": "89d3592fdf3a415197ce70435bee2c43",
       "version_major": 2,
       "version_minor": 0
      },
      "text/plain": [
       "  0%|          | 0/58 [00:00<?, ?it/s]"
      ]
     },
     "metadata": {},
     "output_type": "display_data"
    },
    {
     "name": "stdout",
     "output_type": "stream",
     "text": [
      "0.6778432 0.57\n",
      "{'model_name': 'Unet', 'backbone': 'efficientnet-b7', 'img_size': [256, 256], 'num_classes': 1, 'model_pth': '/home/rohits/pv1/contrail/output/exp_02_pl1/Unet/efficientnet-b7-256/checkpoint_dice.pth', 'threshold': 0.62, 'tta': True}\n"
     ]
    },
    {
     "data": {
      "application/vnd.jupyter.widget-view+json": {
       "model_id": "ac51b15fe8c9497b8f252edcd7e6c085",
       "version_major": 2,
       "version_minor": 0
      },
      "text/plain": [
       "  0%|          | 0/58 [00:00<?, ?it/s]"
      ]
     },
     "metadata": {},
     "output_type": "display_data"
    },
    {
     "name": "stdout",
     "output_type": "stream",
     "text": [
      "0.66881436 0.27\n",
      "{'model_name': 'Unet', 'backbone': 'efficientnet-b7', 'img_size': [256, 256], 'num_classes': 1, 'model_pth': '/home/rohits/pv1/contrail/output/exp_02_pl1/Unet/efficientnet-b7-512/checkpoint_dice.pth', 'threshold': 0.62, 'tta': True}\n"
     ]
    },
    {
     "data": {
      "application/vnd.jupyter.widget-view+json": {
       "model_id": "e0b07dc004214c3595c08c705993a297",
       "version_major": 2,
       "version_minor": 0
      },
      "text/plain": [
       "  0%|          | 0/58 [00:00<?, ?it/s]"
      ]
     },
     "metadata": {},
     "output_type": "display_data"
    },
    {
     "name": "stdout",
     "output_type": "stream",
     "text": [
      "0.518573 0.88\n"
     ]
    }
   ],
   "source": [
    "val_df =pd.read_csv(\"../../input/val_df_filled.csv\")\n",
    "# val_df = val_df.loc[val_df['class'] == 1].reset_index(drop=True)\n",
    "# val_df = val_df.loc[val_df['class'] == 0].reset_index(drop=True)\n",
    "\n",
    "\n",
    "final_preds = []\n",
    "\n",
    "for idx, cfg in enumerate(CFGS):\n",
    "    print(cfg)\n",
    "    val_transform = get_transform(cfg['img_size'])\n",
    "    valid_dataset = ContrailDataset(val_df, transform=val_transform)  \n",
    "\n",
    "    valid_loader = DataLoader(\n",
    "        valid_dataset, \n",
    "        batch_size = 32, #32, \n",
    "        shuffle = False, \n",
    "        num_workers = 2, \n",
    "        pin_memory = True, \n",
    "        drop_last = False\n",
    "    )\n",
    "\n",
    "\n",
    "    model = Net(cfg)    \n",
    "    model = torch.nn.DataParallel(model).cuda()\n",
    "    model.load_state_dict(torch.load(cfg['model_pth'], map_location=torch.device('cpu'))['model'])\n",
    "    if cfg['tta']:\n",
    "        model = tta.SegmentationTTAWrapper(model, tta.aliases.flip_transform(), merge_mode='mean')\n",
    "    \n",
    "    \n",
    "    model.to(device)\n",
    "    model.eval()\n",
    "    preds = []\n",
    "    masks_ = []\n",
    "    \n",
    "    for index, (images, masks) in enumerate(tqdm(valid_loader)):  \n",
    "        images  = images.to(device, dtype=torch.float)\n",
    "        masks  = masks.to(device, dtype=torch.float)\n",
    "        if cfg['img_size'][0] != 256:\n",
    "            masks = torch.nn.functional.interpolate(masks, size=256, mode='nearest') \n",
    "        masks_.append(torch.squeeze(masks, dim=1))\n",
    "\n",
    "        with torch.inference_mode():\n",
    "            pred = model(images)             \n",
    "#             pred = pred.sigmoid()\n",
    "        \n",
    "            if cfg['img_size'][0] != 256:\n",
    "                pred = torch.nn.functional.interpolate(pred, size=256, mode='nearest') \n",
    "#                 masks = torch.nn.functional.interpolate(masks, size=256, mode='bilinear') \n",
    "            preds.append(torch.squeeze(pred, dim=1))\n",
    "\n",
    "    \n",
    "\n",
    "    model_masks = torch.cat(masks_, dim=0)\n",
    "    model_preds = torch.cat(preds, dim=0)\n",
    "    \n",
    "    model_masks = torch.flatten(model_masks, start_dim=0, end_dim=1)\n",
    "    model_preds = torch.flatten(model_preds, start_dim=0, end_dim=1)  \n",
    "    \n",
    "    \n",
    "    best_threshold = 0.0\n",
    "    best_dice_score = 0.0\n",
    "    for threshold in [i / 100 for i in range(101)] :\n",
    "#         if threshold > 0.55:\n",
    "#             continue\n",
    "        \n",
    "        score = dice_coef(model_masks, model_preds.sigmoid(), thr=threshold).cpu().detach().numpy() \n",
    "        if score > best_dice_score:\n",
    "            best_dice_score = score\n",
    "            best_threshold = threshold\n",
    "    \n",
    "        \n",
    "    print(best_dice_score, best_threshold)\n",
    "    final_preds.append(model_preds)\n",
    "    \n",
    "    del model\n",
    "    torch.cuda.empty_cache()\n",
    "    gc.collect()\n",
    "    \n",
    "    # 0.65424037"
   ]
  },
  {
   "cell_type": "code",
   "execution_count": 20,
   "id": "0d3df7d8",
   "metadata": {},
   "outputs": [],
   "source": [
    "# score = dice_coef(model_masks, final_preds[0], thr=0.5).cpu().detach().numpy() # get_score(labels, preds) \n",
    "# score"
   ]
  },
  {
   "cell_type": "code",
   "execution_count": 21,
   "id": "e1d72a60",
   "metadata": {},
   "outputs": [],
   "source": [
    "def boost_dice(params):    \n",
    "    for index, val in enumerate(params.keys()):\n",
    "        if index == 0:\n",
    "            preds = params[val]*final_preds[0]\n",
    "        else:\n",
    "            preds += params[val]*final_preds[index]\n",
    "    \n",
    "    \n",
    "    param_sum = 0\n",
    "    for key, val in params.items():\n",
    "        param_sum += val\n",
    "\n",
    "    preds = preds/param_sum\n",
    "    \n",
    "    \n",
    "#     threshold = 0.9\n",
    "# #     preds1 = (nn.Sigmoid()(preds)>threshold).double()     \n",
    "#     preds1 = (nn.Sigmoid()(preds)>threshold).double()            \n",
    "#     score = dice_coef(model_masks, preds1, thr=threshold).cpu().detach().numpy() # get_score(labels, preds) \n",
    "\n",
    "    best_threshold = 0.0\n",
    "    best_score = 0.0\n",
    "    for threshold in [i / 100 for i in range(101)] :\n",
    "#         if threshold < 0.05 and threshold > 0.25:\n",
    "#             continue\n",
    "#         if threshold > 0.2:\n",
    "#             continue\n",
    "    \n",
    "        preds1 = (nn.Sigmoid()(preds)>threshold).double()            \n",
    "        score = dice_coef(model_masks, preds1, thr=threshold).cpu().detach().numpy() # get_score(labels, preds) \n",
    "        if score > best_score:\n",
    "            best_score = score\n",
    "            best_threshold = threshold\n",
    "            \n",
    "#     best_score = score\n",
    "#     best_threshold = threshold\n",
    "    return best_score, best_threshold"
   ]
  },
  {
   "cell_type": "code",
   "execution_count": 22,
   "id": "8fda1d51",
   "metadata": {},
   "outputs": [
    {
     "name": "stderr",
     "output_type": "stream",
     "text": [
      "[I 2023-06-14 21:26:54,070] A new study created in memory with name: no-name-17ed6d22-502b-4786-ba3d-c90d8d95073b\n",
      "[I 2023-06-14 21:26:55,100] Trial 0 finished with value: 0.6784290671348572 and parameters: {'w1': 0.5706063659455468, 'w2': 0.37449946739876316, 'w3': 0.4802928225523282, 'w4': 0.23580989528145513, 'w5': 0.49912656163819646, 'w6': 0.7358340649809313, 'w7': 0.45656904437576296}. Best is trial 0 with value: 0.6784290671348572.\n"
     ]
    },
    {
     "name": "stdout",
     "output_type": "stream",
     "text": [
      "{'w1': 0.5706063659455468, 'w2': 0.37449946739876316, 'w3': 0.4802928225523282, 'w4': 0.23580989528145513, 'w5': 0.49912656163819646, 'w6': 0.7358340649809313, 'w7': 0.45656904437576296, 'threshold': 0.36}\n"
     ]
    },
    {
     "name": "stderr",
     "output_type": "stream",
     "text": [
      "[I 2023-06-14 21:26:56,108] Trial 1 finished with value: 0.6787629127502441 and parameters: {'w1': 0.27429701487565494, 'w2': 0.6516481394948331, 'w3': 0.9658670674155136, 'w4': 0.7654322524824011, 'w5': 0.4870144347570854, 'w6': 0.6677452342232499, 'w7': 0.44074245046086713}. Best is trial 1 with value: 0.6787629127502441.\n"
     ]
    },
    {
     "name": "stdout",
     "output_type": "stream",
     "text": [
      "{'w1': 0.27429701487565494, 'w2': 0.6516481394948331, 'w3': 0.9658670674155136, 'w4': 0.7654322524824011, 'w5': 0.4870144347570854, 'w6': 0.6677452342232499, 'w7': 0.44074245046086713, 'threshold': 0.36}\n"
     ]
    },
    {
     "name": "stderr",
     "output_type": "stream",
     "text": [
      "[I 2023-06-14 21:26:57,117] Trial 2 finished with value: 0.6784324049949646 and parameters: {'w1': 0.0731874383797455, 'w2': 0.3645760976119339, 'w3': 0.7074812096788984, 'w4': 0.12338715821109947, 'w5': 0.37901325450763657, 'w6': 0.9522286032818058, 'w7': 0.14316065935685518}. Best is trial 1 with value: 0.6787629127502441.\n"
     ]
    },
    {
     "name": "stdout",
     "output_type": "stream",
     "text": [
      "{'w1': 0.0731874383797455, 'w2': 0.3645760976119339, 'w3': 0.7074812096788984, 'w4': 0.12338715821109947, 'w5': 0.37901325450763657, 'w6': 0.9522286032818058, 'w7': 0.14316065935685518, 'threshold': 0.37}\n"
     ]
    },
    {
     "name": "stderr",
     "output_type": "stream",
     "text": [
      "[I 2023-06-14 21:26:58,125] Trial 3 finished with value: 0.6797734498977661 and parameters: {'w1': 0.5976066654201795, 'w2': 0.9880420477098473, 'w3': 0.7661367962222561, 'w4': 0.6162469075277254, 'w5': 0.36232318606252567, 'w6': 0.22291649531855462, 'w7': 0.008885947551997675}. Best is trial 3 with value: 0.6797734498977661.\n"
     ]
    },
    {
     "name": "stdout",
     "output_type": "stream",
     "text": [
      "{'w1': 0.5976066654201795, 'w2': 0.9880420477098473, 'w3': 0.7661367962222561, 'w4': 0.6162469075277254, 'w5': 0.36232318606252567, 'w6': 0.22291649531855462, 'w7': 0.008885947551997675, 'threshold': 0.36}\n"
     ]
    },
    {
     "name": "stderr",
     "output_type": "stream",
     "text": [
      "[I 2023-06-14 21:26:59,133] Trial 4 finished with value: 0.6783869862556458 and parameters: {'w1': 0.9660612923706603, 'w2': 0.5344005842970229, 'w3': 0.3279335601985268, 'w4': 0.37042149876670927, 'w5': 0.8938968194363768, 'w6': 0.765452697570711, 'w7': 0.8632813605594777}. Best is trial 3 with value: 0.6797734498977661.\n"
     ]
    },
    {
     "name": "stdout",
     "output_type": "stream",
     "text": [
      "{'w1': 0.9660612923706603, 'w2': 0.5344005842970229, 'w3': 0.3279335601985268, 'w4': 0.37042149876670927, 'w5': 0.8938968194363768, 'w6': 0.765452697570711, 'w7': 0.8632813605594777, 'threshold': 0.36}\n"
     ]
    },
    {
     "name": "stderr",
     "output_type": "stream",
     "text": [
      "[I 2023-06-14 21:27:00,142] Trial 5 finished with value: 0.677855908870697 and parameters: {'w1': 0.8046211917946877, 'w2': 0.1815552684184778, 'w3': 0.902668938420083, 'w4': 0.6905653572367079, 'w5': 0.8911842698087248, 'w6': 0.0015904375785256164, 'w7': 0.9393592877357526}. Best is trial 3 with value: 0.6797734498977661.\n"
     ]
    },
    {
     "name": "stdout",
     "output_type": "stream",
     "text": [
      "{'w1': 0.8046211917946877, 'w2': 0.1815552684184778, 'w3': 0.902668938420083, 'w4': 0.6905653572367079, 'w5': 0.8911842698087248, 'w6': 0.0015904375785256164, 'w7': 0.9393592877357526, 'threshold': 0.3}\n"
     ]
    },
    {
     "name": "stderr",
     "output_type": "stream",
     "text": [
      "[I 2023-06-14 21:27:01,151] Trial 6 finished with value: 0.6776329874992371 and parameters: {'w1': 0.3497185310896581, 'w2': 0.5133689479479682, 'w3': 0.2713827398391573, 'w4': 0.23938326935837617, 'w5': 0.7390477415439267, 'w6': 0.924542854593536, 'w7': 0.8187928723718987}. Best is trial 3 with value: 0.6797734498977661.\n"
     ]
    },
    {
     "name": "stdout",
     "output_type": "stream",
     "text": [
      "{'w1': 0.3497185310896581, 'w2': 0.5133689479479682, 'w3': 0.2713827398391573, 'w4': 0.23938326935837617, 'w5': 0.7390477415439267, 'w6': 0.924542854593536, 'w7': 0.8187928723718987, 'threshold': 0.34}\n"
     ]
    },
    {
     "name": "stderr",
     "output_type": "stream",
     "text": [
      "[I 2023-06-14 21:27:02,160] Trial 7 finished with value: 0.6785978078842163 and parameters: {'w1': 0.8327285380488632, 'w2': 0.3965955016178435, 'w3': 0.4482186356586483, 'w4': 0.3785014088320463, 'w5': 0.6467737009421376, 'w6': 0.9332140553327551, 'w7': 0.46542794078630323}. Best is trial 3 with value: 0.6797734498977661.\n"
     ]
    },
    {
     "name": "stdout",
     "output_type": "stream",
     "text": [
      "{'w1': 0.8327285380488632, 'w2': 0.3965955016178435, 'w3': 0.4482186356586483, 'w4': 0.3785014088320463, 'w5': 0.6467737009421376, 'w6': 0.9332140553327551, 'w7': 0.46542794078630323, 'threshold': 0.34}\n"
     ]
    },
    {
     "name": "stderr",
     "output_type": "stream",
     "text": [
      "[I 2023-06-14 21:27:03,168] Trial 8 finished with value: 0.6790560483932495 and parameters: {'w1': 0.17711511189284201, 'w2': 0.46787657681853967, 'w3': 0.6683098402867013, 'w4': 0.5681791341649831, 'w5': 0.30803031891950217, 'w6': 0.8834936725489785, 'w7': 0.02398513933934332}. Best is trial 3 with value: 0.6797734498977661.\n"
     ]
    },
    {
     "name": "stdout",
     "output_type": "stream",
     "text": [
      "{'w1': 0.17711511189284201, 'w2': 0.46787657681853967, 'w3': 0.6683098402867013, 'w4': 0.5681791341649831, 'w5': 0.30803031891950217, 'w6': 0.8834936725489785, 'w7': 0.02398513933934332, 'threshold': 0.34}\n"
     ]
    },
    {
     "name": "stderr",
     "output_type": "stream",
     "text": [
      "[I 2023-06-14 21:27:04,177] Trial 9 finished with value: 0.6785278916358948 and parameters: {'w1': 0.4761045670984655, 'w2': 0.5591652060085454, 'w3': 0.46645717161934397, 'w4': 0.5714662020358158, 'w5': 0.7811286346264884, 'w6': 0.0885805331129893, 'w7': 0.7119159653783477}. Best is trial 3 with value: 0.6797734498977661.\n"
     ]
    },
    {
     "name": "stdout",
     "output_type": "stream",
     "text": [
      "{'w1': 0.4761045670984655, 'w2': 0.5591652060085454, 'w3': 0.46645717161934397, 'w4': 0.5714662020358158, 'w5': 0.7811286346264884, 'w6': 0.0885805331129893, 'w7': 0.7119159653783477, 'threshold': 0.37}\n"
     ]
    },
    {
     "name": "stderr",
     "output_type": "stream",
     "text": [
      "[I 2023-06-14 21:27:05,217] Trial 10 finished with value: 0.6800898909568787 and parameters: {'w1': 0.6111108488844131, 'w2': 0.9599351410423675, 'w3': 0.040649173377332315, 'w4': 0.9211461736906013, 'w5': 0.034819852817275954, 'w6': 0.3174492031696546, 'w7': 0.28243011192819084}. Best is trial 10 with value: 0.6800898909568787.\n"
     ]
    },
    {
     "name": "stdout",
     "output_type": "stream",
     "text": [
      "{'w1': 0.6111108488844131, 'w2': 0.9599351410423675, 'w3': 0.040649173377332315, 'w4': 0.9211461736906013, 'w5': 0.034819852817275954, 'w6': 0.3174492031696546, 'w7': 0.28243011192819084, 'threshold': 0.29}\n"
     ]
    },
    {
     "name": "stderr",
     "output_type": "stream",
     "text": [
      "[I 2023-06-14 21:27:06,255] Trial 11 finished with value: 0.6801436543464661 and parameters: {'w1': 0.5834520116651458, 'w2': 0.9865795319270961, 'w3': 0.012651973292939538, 'w4': 0.9646609570820001, 'w5': 0.03115764051057905, 'w6': 0.28919471873845576, 'w7': 0.23117626010691986}. Best is trial 11 with value: 0.6801436543464661.\n"
     ]
    },
    {
     "name": "stdout",
     "output_type": "stream",
     "text": [
      "{'w1': 0.5834520116651458, 'w2': 0.9865795319270961, 'w3': 0.012651973292939538, 'w4': 0.9646609570820001, 'w5': 0.03115764051057905, 'w6': 0.28919471873845576, 'w7': 0.23117626010691986, 'threshold': 0.32}\n"
     ]
    },
    {
     "name": "stderr",
     "output_type": "stream",
     "text": [
      "[I 2023-06-14 21:27:07,296] Trial 12 finished with value: 0.6800797581672668 and parameters: {'w1': 0.6086086404837114, 'w2': 0.9870720823915217, 'w3': 0.03783272356129786, 'w4': 0.9996998478179839, 'w5': 0.00962692049867122, 'w6': 0.36973164608610326, 'w7': 0.28893246539612155}. Best is trial 11 with value: 0.6801436543464661.\n"
     ]
    },
    {
     "name": "stdout",
     "output_type": "stream",
     "text": [
      "{'w1': 0.6086086404837114, 'w2': 0.9870720823915217, 'w3': 0.03783272356129786, 'w4': 0.9996998478179839, 'w5': 0.00962692049867122, 'w6': 0.36973164608610326, 'w7': 0.28893246539612155, 'threshold': 0.36}\n"
     ]
    },
    {
     "name": "stderr",
     "output_type": "stream",
     "text": [
      "[I 2023-06-14 21:27:08,332] Trial 13 finished with value: 0.6798505783081055 and parameters: {'w1': 0.43448854850636903, 'w2': 0.813489127111773, 'w3': 0.10888561839237587, 'w4': 0.9902600523798747, 'w5': 0.0010035717908351144, 'w6': 0.4413505747217155, 'w7': 0.26067107276632195}. Best is trial 11 with value: 0.6801436543464661.\n"
     ]
    },
    {
     "name": "stdout",
     "output_type": "stream",
     "text": [
      "{'w1': 0.43448854850636903, 'w2': 0.813489127111773, 'w3': 0.10888561839237587, 'w4': 0.9902600523798747, 'w5': 0.0010035717908351144, 'w6': 0.4413505747217155, 'w7': 0.26067107276632195, 'threshold': 0.32}\n"
     ]
    },
    {
     "name": "stderr",
     "output_type": "stream",
     "text": [
      "[I 2023-06-14 21:27:09,372] Trial 14 finished with value: 0.6799767017364502 and parameters: {'w1': 0.7217935654695652, 'w2': 0.8225815324204404, 'w3': 0.010638002876359742, 'w4': 0.8272401715925123, 'w5': 0.14691783033236133, 'w6': 0.3091773495581002, 'w7': 0.2810152414977348}. Best is trial 11 with value: 0.6801436543464661.\n"
     ]
    },
    {
     "name": "stdout",
     "output_type": "stream",
     "text": [
      "{'w1': 0.7217935654695652, 'w2': 0.8225815324204404, 'w3': 0.010638002876359742, 'w4': 0.8272401715925123, 'w5': 0.14691783033236133, 'w6': 0.3091773495581002, 'w7': 0.2810152414977348, 'threshold': 0.29}\n"
     ]
    },
    {
     "name": "stderr",
     "output_type": "stream",
     "text": [
      "[I 2023-06-14 21:27:10,408] Trial 15 finished with value: 0.6791774034500122 and parameters: {'w1': 0.6743768686665628, 'w2': 0.840042136189077, 'w3': 0.18179211147880747, 'w4': 0.860366894198652, 'w5': 0.15591034415811722, 'w6': 0.5576287209327533, 'w7': 0.6102481747648524}. Best is trial 11 with value: 0.6801436543464661.\n"
     ]
    },
    {
     "name": "stdout",
     "output_type": "stream",
     "text": [
      "{'w1': 0.6743768686665628, 'w2': 0.840042136189077, 'w3': 0.18179211147880747, 'w4': 0.860366894198652, 'w5': 0.15591034415811722, 'w6': 0.5576287209327533, 'w7': 0.6102481747648524, 'threshold': 0.26}\n"
     ]
    },
    {
     "name": "stderr",
     "output_type": "stream",
     "text": [
      "[I 2023-06-14 21:27:11,444] Trial 16 finished with value: 0.6796906590461731 and parameters: {'w1': 0.3928054782294087, 'w2': 0.7161912014051197, 'w3': 0.15064461460258005, 'w4': 0.9053488527465844, 'w5': 0.1345221334475067, 'w6': 0.2227779542552467, 'w7': 0.35622003625458787}. Best is trial 11 with value: 0.6801436543464661.\n"
     ]
    },
    {
     "name": "stdout",
     "output_type": "stream",
     "text": [
      "{'w1': 0.3928054782294087, 'w2': 0.7161912014051197, 'w3': 0.15064461460258005, 'w4': 0.9053488527465844, 'w5': 0.1345221334475067, 'w6': 0.2227779542552467, 'w7': 0.35622003625458787, 'threshold': 0.3}\n"
     ]
    },
    {
     "name": "stderr",
     "output_type": "stream",
     "text": [
      "[I 2023-06-14 21:27:12,485] Trial 17 finished with value: 0.6800556778907776 and parameters: {'w1': 0.5063115622990267, 'w2': 0.9873879482317965, 'w3': 0.00680983632113541, 'w4': 0.7352566746762216, 'w5': 0.22857075526464316, 'w6': 0.5186568438539693, 'w7': 0.15808580642677872}. Best is trial 11 with value: 0.6801436543464661.\n"
     ]
    },
    {
     "name": "stdout",
     "output_type": "stream",
     "text": [
      "{'w1': 0.5063115622990267, 'w2': 0.9873879482317965, 'w3': 0.00680983632113541, 'w4': 0.7352566746762216, 'w5': 0.22857075526464316, 'w6': 0.5186568438539693, 'w7': 0.15808580642677872, 'threshold': 0.33}\n"
     ]
    },
    {
     "name": "stderr",
     "output_type": "stream",
     "text": [
      "[I 2023-06-14 21:27:13,526] Trial 18 finished with value: 0.6793186664581299 and parameters: {'w1': 0.5256080025074923, 'w2': 0.885400578523126, 'w3': 0.2473402839110183, 'w4': 0.8782787061491765, 'w5': 0.06701070574917445, 'w6': 0.3971345865685775, 'w7': 0.6261541735914652}. Best is trial 11 with value: 0.6801436543464661.\n"
     ]
    },
    {
     "name": "stdout",
     "output_type": "stream",
     "text": [
      "{'w1': 0.5256080025074923, 'w2': 0.885400578523126, 'w3': 0.2473402839110183, 'w4': 0.8782787061491765, 'w5': 0.06701070574917445, 'w6': 0.3971345865685775, 'w7': 0.6261541735914652, 'threshold': 0.24}\n"
     ]
    },
    {
     "name": "stderr",
     "output_type": "stream",
     "text": [
      "[I 2023-06-14 21:27:14,566] Trial 19 finished with value: 0.6795749068260193 and parameters: {'w1': 0.7027362701293349, 'w2': 0.7059000504774375, 'w3': 0.33853217127943064, 'w4': 0.6997855121216693, 'w5': 0.27940089671451224, 'w6': 0.22833415684389707, 'w7': 0.37782649171350013}. Best is trial 11 with value: 0.6801436543464661.\n"
     ]
    },
    {
     "name": "stdout",
     "output_type": "stream",
     "text": [
      "{'w1': 0.7027362701293349, 'w2': 0.7059000504774375, 'w3': 0.33853217127943064, 'w4': 0.6997855121216693, 'w5': 0.27940089671451224, 'w6': 0.22833415684389707, 'w7': 0.37782649171350013, 'threshold': 0.26}\n"
     ]
    },
    {
     "name": "stderr",
     "output_type": "stream",
     "text": [
      "[I 2023-06-14 21:27:15,606] Trial 20 finished with value: 0.6796339750289917 and parameters: {'w1': 0.3207221640699356, 'w2': 0.9006925562362313, 'w3': 0.10533735182082582, 'w4': 0.9471140308792316, 'w5': 0.10221367303386937, 'w6': 0.31350575525831464, 'w7': 0.5357638656706569}. Best is trial 11 with value: 0.6801436543464661.\n"
     ]
    },
    {
     "name": "stdout",
     "output_type": "stream",
     "text": [
      "{'w1': 0.3207221640699356, 'w2': 0.9006925562362313, 'w3': 0.10533735182082582, 'w4': 0.9471140308792316, 'w5': 0.10221367303386937, 'w6': 0.31350575525831464, 'w7': 0.5357638656706569, 'threshold': 0.32}\n"
     ]
    },
    {
     "name": "stderr",
     "output_type": "stream",
     "text": [
      "[I 2023-06-14 21:27:16,649] Trial 21 finished with value: 0.6800855994224548 and parameters: {'w1': 0.6044947191961197, 'w2': 0.9888374481714117, 'w3': 0.032473578737292064, 'w4': 0.9844102655883591, 'w5': 0.013425059914104406, 'w6': 0.41211740378623374, 'w7': 0.23268145117156047}. Best is trial 11 with value: 0.6801436543464661.\n"
     ]
    },
    {
     "name": "stdout",
     "output_type": "stream",
     "text": [
      "{'w1': 0.6044947191961197, 'w2': 0.9888374481714117, 'w3': 0.032473578737292064, 'w4': 0.9844102655883591, 'w5': 0.013425059914104406, 'w6': 0.41211740378623374, 'w7': 0.23268145117156047, 'threshold': 0.33}\n"
     ]
    },
    {
     "name": "stderr",
     "output_type": "stream",
     "text": [
      "[I 2023-06-14 21:27:17,688] Trial 22 finished with value: 0.6800540685653687 and parameters: {'w1': 0.4761584804995928, 'w2': 0.9165597881775138, 'w3': 0.09060889337648678, 'w4': 0.8191336808620285, 'w5': 0.0019008885843523268, 'w6': 0.4735750683779028, 'w7': 0.18511236533041545}. Best is trial 11 with value: 0.6801436543464661.\n"
     ]
    },
    {
     "name": "stdout",
     "output_type": "stream",
     "text": [
      "{'w1': 0.4761584804995928, 'w2': 0.9165597881775138, 'w3': 0.09060889337648678, 'w4': 0.8191336808620285, 'w5': 0.0019008885843523268, 'w6': 0.4735750683779028, 'w7': 0.18511236533041545, 'threshold': 0.32}\n"
     ]
    },
    {
     "name": "stderr",
     "output_type": "stream",
     "text": [
      "[I 2023-06-14 21:27:18,725] Trial 23 finished with value: 0.6797834038734436 and parameters: {'w1': 0.6408764701449413, 'w2': 0.7849194063320708, 'w3': 0.15840089953423436, 'w4': 0.9368027416041689, 'w5': 0.16691582822332818, 'w6': 0.536251827745766, 'w7': 0.21646366927311436}. Best is trial 11 with value: 0.6801436543464661.\n"
     ]
    },
    {
     "name": "stdout",
     "output_type": "stream",
     "text": [
      "{'w1': 0.6408764701449413, 'w2': 0.7849194063320708, 'w3': 0.15840089953423436, 'w4': 0.9368027416041689, 'w5': 0.16691582822332818, 'w6': 0.536251827745766, 'w7': 0.21646366927311436, 'threshold': 0.25}\n"
     ]
    },
    {
     "name": "stderr",
     "output_type": "stream",
     "text": [
      "[I 2023-06-14 21:27:19,761] Trial 24 finished with value: 0.6800084710121155 and parameters: {'w1': 0.554647463076985, 'w2': 0.9287546953785224, 'w3': 0.0004481543251807288, 'w4': 0.8889655103478781, 'w5': 0.21463330266374264, 'w6': 0.42260356595962095, 'w7': 0.10673415603912917}. Best is trial 11 with value: 0.6801436543464661.\n"
     ]
    },
    {
     "name": "stdout",
     "output_type": "stream",
     "text": [
      "{'w1': 0.554647463076985, 'w2': 0.9287546953785224, 'w3': 0.0004481543251807288, 'w4': 0.8889655103478781, 'w5': 0.21463330266374264, 'w6': 0.42260356595962095, 'w7': 0.10673415603912917, 'threshold': 0.24}\n"
     ]
    },
    {
     "name": "stderr",
     "output_type": "stream",
     "text": [
      "[I 2023-06-14 21:27:20,797] Trial 25 finished with value: 0.6797022223472595 and parameters: {'w1': 0.4212144150166953, 'w2': 0.7596725251297279, 'w3': 0.22126545045807308, 'w4': 0.8012706031677093, 'w5': 0.07311454727167514, 'w6': 0.32905096282520235, 'w7': 0.3437955794648338}. Best is trial 11 with value: 0.6801436543464661.\n"
     ]
    },
    {
     "name": "stdout",
     "output_type": "stream",
     "text": [
      "{'w1': 0.4212144150166953, 'w2': 0.7596725251297279, 'w3': 0.22126545045807308, 'w4': 0.8012706031677093, 'w5': 0.07311454727167514, 'w6': 0.32905096282520235, 'w7': 0.3437955794648338, 'threshold': 0.27}\n"
     ]
    },
    {
     "name": "stderr",
     "output_type": "stream",
     "text": [
      "[I 2023-06-14 21:27:21,832] Trial 26 finished with value: 0.6800982356071472 and parameters: {'w1': 0.7546416802972284, 'w2': 0.8850637280611631, 'w3': 0.09259401584645784, 'w4': 0.9969097136735715, 'w5': 0.08171262412983715, 'w6': 0.15225825140779298, 'w7': 0.2529707133439359}. Best is trial 11 with value: 0.6801436543464661.\n"
     ]
    },
    {
     "name": "stdout",
     "output_type": "stream",
     "text": [
      "{'w1': 0.7546416802972284, 'w2': 0.8850637280611631, 'w3': 0.09259401584645784, 'w4': 0.9969097136735715, 'w5': 0.08171262412983715, 'w6': 0.15225825140779298, 'w7': 0.2529707133439359, 'threshold': 0.32}\n"
     ]
    },
    {
     "name": "stderr",
     "output_type": "stream",
     "text": [
      "[I 2023-06-14 21:27:22,869] Trial 27 finished with value: 0.6801081895828247 and parameters: {'w1': 0.7418865612517428, 'w2': 0.8695487061313362, 'w3': 0.11803102978174909, 'w4': 0.8814941312224098, 'w5': 0.09104420834336202, 'w6': 0.15498906139201002, 'w7': 0.0966870940181464}. Best is trial 11 with value: 0.6801436543464661.\n"
     ]
    },
    {
     "name": "stdout",
     "output_type": "stream",
     "text": [
      "{'w1': 0.7418865612517428, 'w2': 0.8695487061313362, 'w3': 0.11803102978174909, 'w4': 0.8814941312224098, 'w5': 0.09104420834336202, 'w6': 0.15498906139201002, 'w7': 0.0966870940181464, 'threshold': 0.27}\n"
     ]
    },
    {
     "name": "stderr",
     "output_type": "stream",
     "text": [
      "[I 2023-06-14 21:27:23,905] Trial 28 finished with value: 0.6801624298095703 and parameters: {'w1': 0.7777897482546304, 'w2': 0.882594042099166, 'w3': 0.18123463139768559, 'w4': 0.7804102539582771, 'w5': 0.09270157610745496, 'w6': 0.14864782174796345, 'w7': 0.08224429386140622}. Best is trial 28 with value: 0.6801624298095703.\n"
     ]
    },
    {
     "name": "stdout",
     "output_type": "stream",
     "text": [
      "{'w1': 0.7777897482546304, 'w2': 0.882594042099166, 'w3': 0.18123463139768559, 'w4': 0.7804102539582771, 'w5': 0.09270157610745496, 'w6': 0.14864782174796345, 'w7': 0.08224429386140622, 'threshold': 0.26}\n"
     ]
    },
    {
     "name": "stderr",
     "output_type": "stream",
     "text": [
      "[I 2023-06-14 21:27:24,942] Trial 29 finished with value: 0.6800363659858704 and parameters: {'w1': 0.867312634649454, 'w2': 0.8520985285126272, 'w3': 0.1740303982219052, 'w4': 0.778055210709307, 'w5': 0.21899542785517467, 'w6': 0.12261481822404721, 'w7': 0.08688038896733442}. Best is trial 28 with value: 0.6801624298095703.\n"
     ]
    },
    {
     "name": "stdout",
     "output_type": "stream",
     "text": [
      "{'w1': 0.867312634649454, 'w2': 0.8520985285126272, 'w3': 0.1740303982219052, 'w4': 0.778055210709307, 'w5': 0.21899542785517467, 'w6': 0.12261481822404721, 'w7': 0.08688038896733442, 'threshold': 0.25}\n"
     ]
    },
    {
     "name": "stderr",
     "output_type": "stream",
     "text": [
      "[I 2023-06-14 21:27:25,979] Trial 30 finished with value: 0.6798816919326782 and parameters: {'w1': 0.7634495509159012, 'w2': 0.6346304605827331, 'w3': 0.30058068579807273, 'w4': 0.8366981516317455, 'w5': 0.0982244762380405, 'w6': 0.014931049583092965, 'w7': 0.0827425132902159}. Best is trial 28 with value: 0.6801624298095703.\n"
     ]
    },
    {
     "name": "stdout",
     "output_type": "stream",
     "text": [
      "{'w1': 0.7634495509159012, 'w2': 0.6346304605827331, 'w3': 0.30058068579807273, 'w4': 0.8366981516317455, 'w5': 0.0982244762380405, 'w6': 0.014931049583092965, 'w7': 0.0827425132902159, 'threshold': 0.34}\n"
     ]
    },
    {
     "name": "stderr",
     "output_type": "stream",
     "text": [
      "[I 2023-06-14 21:27:27,016] Trial 31 finished with value: 0.6801410913467407 and parameters: {'w1': 0.7647238223400571, 'w2': 0.8782711563780011, 'w3': 0.09940373005661603, 'w4': 0.9138167539861305, 'w5': 0.07832272611503405, 'w6': 0.1177643749268128, 'w7': 0.18774140723172156}. Best is trial 28 with value: 0.6801624298095703.\n"
     ]
    },
    {
     "name": "stdout",
     "output_type": "stream",
     "text": [
      "{'w1': 0.7647238223400571, 'w2': 0.8782711563780011, 'w3': 0.09940373005661603, 'w4': 0.9138167539861305, 'w5': 0.07832272611503405, 'w6': 0.1177643749268128, 'w7': 0.18774140723172156, 'threshold': 0.32}\n"
     ]
    },
    {
     "name": "stderr",
     "output_type": "stream",
     "text": [
      "[I 2023-06-14 21:27:28,054] Trial 32 finished with value: 0.6799541115760803 and parameters: {'w1': 0.677424746434806, 'w2': 0.7804018476387483, 'w3': 0.22806985294370002, 'w4': 0.8767224846660638, 'w5': 0.16757087673406845, 'w6': 0.07942250019083899, 'w7': 0.1656066650076763}. Best is trial 28 with value: 0.6801624298095703.\n"
     ]
    },
    {
     "name": "stdout",
     "output_type": "stream",
     "text": [
      "{'w1': 0.677424746434806, 'w2': 0.7804018476387483, 'w3': 0.22806985294370002, 'w4': 0.8767224846660638, 'w5': 0.16757087673406845, 'w6': 0.07942250019083899, 'w7': 0.1656066650076763, 'threshold': 0.3}\n"
     ]
    },
    {
     "name": "stderr",
     "output_type": "stream",
     "text": [
      "[I 2023-06-14 21:27:29,091] Trial 33 finished with value: 0.6801663041114807 and parameters: {'w1': 0.8621242058439512, 'w2': 0.9080468781509606, 'w3': 0.10378811208002531, 'w4': 0.742937775180863, 'w5': 0.08014199778170275, 'w6': 0.17644032878295587, 'w7': 0.049462453634239525}. Best is trial 33 with value: 0.6801663041114807.\n"
     ]
    },
    {
     "name": "stdout",
     "output_type": "stream",
     "text": [
      "{'w1': 0.8621242058439512, 'w2': 0.9080468781509606, 'w3': 0.10378811208002531, 'w4': 0.742937775180863, 'w5': 0.08014199778170275, 'w6': 0.17644032878295587, 'w7': 0.049462453634239525, 'threshold': 0.29}\n"
     ]
    },
    {
     "name": "stderr",
     "output_type": "stream",
     "text": [
      "[I 2023-06-14 21:27:30,129] Trial 34 finished with value: 0.6800552010536194 and parameters: {'w1': 0.9013557456232932, 'w2': 0.9419515303230566, 'w3': 0.06501383663959209, 'w4': 0.7567823536974717, 'w5': 0.405027752630838, 'w6': 0.20117089964793822, 'w7': 0.0004035988583388772}. Best is trial 33 with value: 0.6801663041114807.\n"
     ]
    },
    {
     "name": "stdout",
     "output_type": "stream",
     "text": [
      "{'w1': 0.9013557456232932, 'w2': 0.9419515303230566, 'w3': 0.06501383663959209, 'w4': 0.7567823536974717, 'w5': 0.405027752630838, 'w6': 0.20117089964793822, 'w7': 0.0004035988583388772, 'threshold': 0.27}\n"
     ]
    },
    {
     "name": "stderr",
     "output_type": "stream",
     "text": [
      "[I 2023-06-14 21:27:31,167] Trial 35 finished with value: 0.6800838112831116 and parameters: {'w1': 0.9947644758156188, 'w2': 0.903834249636535, 'w3': 0.1995183938352959, 'w4': 0.678653285154695, 'w5': 0.26803408947837143, 'w6': 0.26187034386076347, 'w7': 0.14453795064457794}. Best is trial 33 with value: 0.6801663041114807.\n"
     ]
    },
    {
     "name": "stdout",
     "output_type": "stream",
     "text": [
      "{'w1': 0.9947644758156188, 'w2': 0.903834249636535, 'w3': 0.1995183938352959, 'w4': 0.678653285154695, 'w5': 0.26803408947837143, 'w6': 0.26187034386076347, 'w7': 0.14453795064457794, 'threshold': 0.27}\n"
     ]
    },
    {
     "name": "stderr",
     "output_type": "stream",
     "text": [
      "[I 2023-06-14 21:27:32,205] Trial 36 finished with value: 0.6801379323005676 and parameters: {'w1': 0.8030315629929897, 'w2': 0.8398037342930738, 'w3': 0.144147840025121, 'w4': 0.7448212375651495, 'w5': 0.20182428781610917, 'w6': 0.17968177548484046, 'w7': 0.05250957846619056}. Best is trial 33 with value: 0.6801663041114807.\n"
     ]
    },
    {
     "name": "stdout",
     "output_type": "stream",
     "text": [
      "{'w1': 0.8030315629929897, 'w2': 0.8398037342930738, 'w3': 0.144147840025121, 'w4': 0.7448212375651495, 'w5': 0.20182428781610917, 'w6': 0.17968177548484046, 'w7': 0.05250957846619056, 'threshold': 0.29}\n"
     ]
    },
    {
     "name": "stderr",
     "output_type": "stream",
     "text": [
      "[I 2023-06-14 21:27:33,243] Trial 37 finished with value: 0.6801450848579407 and parameters: {'w1': 0.9220841127737675, 'w2': 0.7511732234624574, 'w3': 0.07404328589639454, 'w4': 0.8076457989410233, 'w5': 0.12587956403822306, 'w6': 0.07114343435530521, 'w7': 0.04445177405293152}. Best is trial 33 with value: 0.6801663041114807.\n"
     ]
    },
    {
     "name": "stdout",
     "output_type": "stream",
     "text": [
      "{'w1': 0.9220841127737675, 'w2': 0.7511732234624574, 'w3': 0.07404328589639454, 'w4': 0.8076457989410233, 'w5': 0.12587956403822306, 'w6': 0.07114343435530521, 'w7': 0.04445177405293152, 'threshold': 0.3}\n"
     ]
    },
    {
     "name": "stderr",
     "output_type": "stream",
     "text": [
      "[I 2023-06-14 21:27:34,281] Trial 38 finished with value: 0.6799337863922119 and parameters: {'w1': 0.8899610697394741, 'w2': 0.7321964442006657, 'w3': 0.36990216456020697, 'w4': 0.6323360193641339, 'w5': 0.3297792168031118, 'w6': 0.05855206094922155, 'w7': 0.05350634199146051}. Best is trial 33 with value: 0.6801663041114807.\n"
     ]
    },
    {
     "name": "stdout",
     "output_type": "stream",
     "text": [
      "{'w1': 0.8899610697394741, 'w2': 0.7321964442006657, 'w3': 0.36990216456020697, 'w4': 0.6323360193641339, 'w5': 0.3297792168031118, 'w6': 0.05855206094922155, 'w7': 0.05350634199146051, 'threshold': 0.34}\n"
     ]
    },
    {
     "name": "stderr",
     "output_type": "stream",
     "text": [
      "[I 2023-06-14 21:27:35,319] Trial 39 finished with value: 0.6797457933425903 and parameters: {'w1': 0.8968933506171699, 'w2': 0.6589883191090076, 'w3': 0.2681930761080699, 'w4': 0.7897037608301049, 'w5': 0.4122371303173973, 'w6': 0.041682033975098925, 'w7': 0.10961524372528861}. Best is trial 33 with value: 0.6801663041114807.\n"
     ]
    },
    {
     "name": "stdout",
     "output_type": "stream",
     "text": [
      "{'w1': 0.8968933506171699, 'w2': 0.6589883191090076, 'w3': 0.2681930761080699, 'w4': 0.7897037608301049, 'w5': 0.4122371303173973, 'w6': 0.041682033975098925, 'w7': 0.10961524372528861, 'threshold': 0.31}\n"
     ]
    },
    {
     "name": "stderr",
     "output_type": "stream",
     "text": [
      "[I 2023-06-14 21:27:36,356] Trial 40 finished with value: 0.6800951957702637 and parameters: {'w1': 0.9536636037184172, 'w2': 0.940351657643034, 'w3': 0.06352706321557448, 'w4': 0.7133668635462163, 'w5': 0.2559313815158395, 'w6': 0.2615223927771489, 'w7': 0.003856960087442879}. Best is trial 33 with value: 0.6801663041114807.\n"
     ]
    },
    {
     "name": "stdout",
     "output_type": "stream",
     "text": [
      "{'w1': 0.9536636037184172, 'w2': 0.940351657643034, 'w3': 0.06352706321557448, 'w4': 0.7133668635462163, 'w5': 0.2559313815158395, 'w6': 0.2615223927771489, 'w7': 0.003856960087442879, 'threshold': 0.35}\n"
     ]
    },
    {
     "name": "stderr",
     "output_type": "stream",
     "text": [
      "[I 2023-06-14 21:27:37,395] Trial 41 finished with value: 0.68015456199646 and parameters: {'w1': 0.8173559712083933, 'w2': 0.7934879111127278, 'w3': 0.13512686450973413, 'w4': 0.798162403095724, 'w5': 0.11366043261820512, 'w6': 0.11312937615772195, 'w7': 0.18448851654827733}. Best is trial 33 with value: 0.6801663041114807.\n"
     ]
    },
    {
     "name": "stdout",
     "output_type": "stream",
     "text": [
      "{'w1': 0.8173559712083933, 'w2': 0.7934879111127278, 'w3': 0.13512686450973413, 'w4': 0.798162403095724, 'w5': 0.11366043261820512, 'w6': 0.11312937615772195, 'w7': 0.18448851654827733, 'threshold': 0.31}\n"
     ]
    },
    {
     "name": "stderr",
     "output_type": "stream",
     "text": [
      "[I 2023-06-14 21:27:38,433] Trial 42 finished with value: 0.6801499128341675 and parameters: {'w1': 0.8019186692862069, 'w2': 0.7928735461617654, 'w3': 0.202325226766507, 'w4': 0.6587998961560615, 'w5': 0.12123759132869227, 'w6': 0.1258734536686081, 'w7': 0.1367815257939286}. Best is trial 33 with value: 0.6801663041114807.\n"
     ]
    },
    {
     "name": "stdout",
     "output_type": "stream",
     "text": [
      "{'w1': 0.8019186692862069, 'w2': 0.7928735461617654, 'w3': 0.202325226766507, 'w4': 0.6587998961560615, 'w5': 0.12123759132869227, 'w6': 0.1258734536686081, 'w7': 0.1367815257939286, 'threshold': 0.32}\n"
     ]
    },
    {
     "name": "stderr",
     "output_type": "stream",
     "text": [
      "[I 2023-06-14 21:27:39,470] Trial 43 finished with value: 0.6801009178161621 and parameters: {'w1': 0.8254198105354456, 'w2': 0.792811663429501, 'w3': 0.20238586245471074, 'w4': 0.6562089540173887, 'w5': 0.14246474242856177, 'w6': 0.11302387598314076, 'w7': 0.05761769355712315}. Best is trial 33 with value: 0.6801663041114807.\n"
     ]
    },
    {
     "name": "stdout",
     "output_type": "stream",
     "text": [
      "{'w1': 0.8254198105354456, 'w2': 0.792811663429501, 'w3': 0.20238586245471074, 'w4': 0.6562089540173887, 'w5': 0.14246474242856177, 'w6': 0.11302387598314076, 'w7': 0.05761769355712315, 'threshold': 0.28}\n"
     ]
    },
    {
     "name": "stderr",
     "output_type": "stream",
     "text": [
      "[I 2023-06-14 21:27:40,508] Trial 44 finished with value: 0.680241584777832 and parameters: {'w1': 0.929148105589899, 'w2': 0.7480338689797411, 'w3': 0.15430277031600015, 'w4': 0.5977669773124814, 'w5': 0.1218049676617826, 'w6': 0.0017785675827414332, 'w7': 0.15553002687085382}. Best is trial 44 with value: 0.680241584777832.\n"
     ]
    },
    {
     "name": "stdout",
     "output_type": "stream",
     "text": [
      "{'w1': 0.929148105589899, 'w2': 0.7480338689797411, 'w3': 0.15430277031600015, 'w4': 0.5977669773124814, 'w5': 0.1218049676617826, 'w6': 0.0017785675827414332, 'w7': 0.15553002687085382, 'threshold': 0.3}\n"
     ]
    },
    {
     "name": "stderr",
     "output_type": "stream",
     "text": [
      "[I 2023-06-14 21:27:41,546] Trial 45 finished with value: 0.6803500056266785 and parameters: {'w1': 0.838701065734649, 'w2': 0.8098520129300952, 'w3': 0.2687605845074554, 'w4': 0.6060117523860655, 'w5': 0.05172485791116338, 'w6': 0.0013689285572267007, 'w7': 0.1292606975740699}. Best is trial 45 with value: 0.6803500056266785.\n"
     ]
    },
    {
     "name": "stdout",
     "output_type": "stream",
     "text": [
      "{'w1': 0.838701065734649, 'w2': 0.8098520129300952, 'w3': 0.2687605845074554, 'w4': 0.6060117523860655, 'w5': 0.05172485791116338, 'w6': 0.0013689285572267007, 'w7': 0.1292606975740699, 'threshold': 0.31}\n"
     ]
    },
    {
     "name": "stderr",
     "output_type": "stream",
     "text": [
      "[I 2023-06-14 21:27:42,583] Trial 46 finished with value: 0.6803128719329834 and parameters: {'w1': 0.8549518805961883, 'w2': 0.8265038926353949, 'w3': 0.27431370175712483, 'w4': 0.5667044918242152, 'w5': 0.04444776605228638, 'w6': 0.01786632435092749, 'w7': 0.127823916269506}. Best is trial 45 with value: 0.6803500056266785.\n"
     ]
    },
    {
     "name": "stdout",
     "output_type": "stream",
     "text": [
      "{'w1': 0.8549518805961883, 'w2': 0.8265038926353949, 'w3': 0.27431370175712483, 'w4': 0.5667044918242152, 'w5': 0.04444776605228638, 'w6': 0.01786632435092749, 'w7': 0.127823916269506, 'threshold': 0.31}\n"
     ]
    },
    {
     "name": "stderr",
     "output_type": "stream",
     "text": [
      "[I 2023-06-14 21:27:43,622] Trial 47 finished with value: 0.6802413463592529 and parameters: {'w1': 0.8612093482884919, 'w2': 0.8591504848285172, 'w3': 0.39019317934610337, 'w4': 0.5736229578879446, 'w5': 0.05660310319184074, 'w6': 0.004054144227836712, 'w7': 0.12982518151541356}. Best is trial 45 with value: 0.6803500056266785.\n"
     ]
    },
    {
     "name": "stdout",
     "output_type": "stream",
     "text": [
      "{'w1': 0.8612093482884919, 'w2': 0.8591504848285172, 'w3': 0.39019317934610337, 'w4': 0.5736229578879446, 'w5': 0.05660310319184074, 'w6': 0.004054144227836712, 'w7': 0.12982518151541356, 'threshold': 0.33}\n"
     ]
    },
    {
     "name": "stderr",
     "output_type": "stream",
     "text": [
      "[I 2023-06-14 21:27:44,659] Trial 48 finished with value: 0.6801621913909912 and parameters: {'w1': 0.8579276666764755, 'w2': 0.6850502532517939, 'w3': 0.3639290859372993, 'w4': 0.5261179151924359, 'w5': 0.03965003572950242, 'w6': 0.0043333163248477895, 'w7': 0.1283220138969999}. Best is trial 45 with value: 0.6803500056266785.\n"
     ]
    },
    {
     "name": "stdout",
     "output_type": "stream",
     "text": [
      "{'w1': 0.8579276666764755, 'w2': 0.6850502532517939, 'w3': 0.3639290859372993, 'w4': 0.5261179151924359, 'w5': 0.03965003572950242, 'w6': 0.0043333163248477895, 'w7': 0.1283220138969999, 'threshold': 0.32}\n"
     ]
    },
    {
     "name": "stderr",
     "output_type": "stream",
     "text": [
      "[I 2023-06-14 21:27:45,696] Trial 49 finished with value: 0.6798956394195557 and parameters: {'w1': 0.9477291199146306, 'w2': 0.616635596831265, 'w3': 0.40574284687887496, 'w4': 0.5895370099300195, 'w5': 0.04543349462214319, 'w6': 0.03915926418448241, 'w7': 0.20356256898569652}. Best is trial 45 with value: 0.6803500056266785.\n"
     ]
    },
    {
     "name": "stdout",
     "output_type": "stream",
     "text": [
      "{'w1': 0.9477291199146306, 'w2': 0.616635596831265, 'w3': 0.40574284687887496, 'w4': 0.5895370099300195, 'w5': 0.04543349462214319, 'w6': 0.03915926418448241, 'w7': 0.20356256898569652, 'threshold': 0.28}\n"
     ]
    },
    {
     "name": "stderr",
     "output_type": "stream",
     "text": [
      "[I 2023-06-14 21:27:46,733] Trial 50 finished with value: 0.6802575588226318 and parameters: {'w1': 0.9932068647205224, 'w2': 0.8295248673630738, 'w3': 0.28074594450875434, 'w4': 0.47979878416043065, 'w5': 0.1845977090110522, 'w6': 0.0075887479787101406, 'w7': 0.1472774350449966}. Best is trial 45 with value: 0.6803500056266785.\n"
     ]
    },
    {
     "name": "stdout",
     "output_type": "stream",
     "text": [
      "{'w1': 0.9932068647205224, 'w2': 0.8295248673630738, 'w3': 0.28074594450875434, 'w4': 0.47979878416043065, 'w5': 0.1845977090110522, 'w6': 0.0075887479787101406, 'w7': 0.1472774350449966, 'threshold': 0.3}\n"
     ]
    },
    {
     "name": "stderr",
     "output_type": "stream",
     "text": [
      "[I 2023-06-14 21:27:47,771] Trial 51 finished with value: 0.6802886724472046 and parameters: {'w1': 0.9882917698073401, 'w2': 0.8253201365952936, 'w3': 0.2866303055270529, 'w4': 0.47275128659909865, 'w5': 0.0474321983371829, 'w6': 0.0010451449222631576, 'w7': 0.1410425869627197}. Best is trial 45 with value: 0.6803500056266785.\n"
     ]
    },
    {
     "name": "stdout",
     "output_type": "stream",
     "text": [
      "{'w1': 0.9882917698073401, 'w2': 0.8253201365952936, 'w3': 0.2866303055270529, 'w4': 0.47275128659909865, 'w5': 0.0474321983371829, 'w6': 0.0010451449222631576, 'w7': 0.1410425869627197, 'threshold': 0.3}\n"
     ]
    },
    {
     "name": "stderr",
     "output_type": "stream",
     "text": [
      "[I 2023-06-14 21:27:48,808] Trial 52 finished with value: 0.6803143620491028 and parameters: {'w1': 0.9694240370749682, 'w2': 0.8316447037602839, 'w3': 0.2987713725510068, 'w4': 0.4867290647364616, 'w5': 0.0395355563188885, 'w6': 0.002496323079346576, 'w7': 0.13453698283283488}. Best is trial 45 with value: 0.6803500056266785.\n"
     ]
    },
    {
     "name": "stdout",
     "output_type": "stream",
     "text": [
      "{'w1': 0.9694240370749682, 'w2': 0.8316447037602839, 'w3': 0.2987713725510068, 'w4': 0.4867290647364616, 'w5': 0.0395355563188885, 'w6': 0.002496323079346576, 'w7': 0.13453698283283488, 'threshold': 0.29}\n"
     ]
    },
    {
     "name": "stderr",
     "output_type": "stream",
     "text": [
      "[I 2023-06-14 21:27:49,846] Trial 53 finished with value: 0.6801445484161377 and parameters: {'w1': 0.9929273502840201, 'w2': 0.7432197534838006, 'w3': 0.2859030883981028, 'w4': 0.4652475254719611, 'w5': 0.1781371194560291, 'w6': 0.0437724369404247, 'w7': 0.16889972153366023}. Best is trial 45 with value: 0.6803500056266785.\n"
     ]
    },
    {
     "name": "stdout",
     "output_type": "stream",
     "text": [
      "{'w1': 0.9929273502840201, 'w2': 0.7432197534838006, 'w3': 0.2859030883981028, 'w4': 0.4652475254719611, 'w5': 0.1781371194560291, 'w6': 0.0437724369404247, 'w7': 0.16889972153366023, 'threshold': 0.32}\n"
     ]
    },
    {
     "name": "stderr",
     "output_type": "stream",
     "text": [
      "[I 2023-06-14 21:27:50,883] Trial 54 finished with value: 0.6801640391349792 and parameters: {'w1': 0.9373786661254369, 'w2': 0.8218724181457484, 'w3': 0.31158838006057804, 'w4': 0.47013112868286994, 'w5': 0.04357598292199434, 'w6': 0.07957568572062182, 'w7': 0.26102309078462077}. Best is trial 45 with value: 0.6803500056266785.\n"
     ]
    },
    {
     "name": "stdout",
     "output_type": "stream",
     "text": [
      "{'w1': 0.9373786661254369, 'w2': 0.8218724181457484, 'w3': 0.31158838006057804, 'w4': 0.47013112868286994, 'w5': 0.04357598292199434, 'w6': 0.07957568572062182, 'w7': 0.26102309078462077, 'threshold': 0.29}\n"
     ]
    },
    {
     "name": "stderr",
     "output_type": "stream",
     "text": [
      "[I 2023-06-14 21:27:51,922] Trial 55 finished with value: 0.6801218390464783 and parameters: {'w1': 0.9998305466204774, 'w2': 0.7148400278191347, 'w3': 0.24454032501323383, 'w4': 0.5305544032962084, 'w5': 0.004916534843368944, 'w6': 0.00038048459995863307, 'w7': 0.21580714764040881}. Best is trial 45 with value: 0.6803500056266785.\n"
     ]
    },
    {
     "name": "stdout",
     "output_type": "stream",
     "text": [
      "{'w1': 0.9998305466204774, 'w2': 0.7148400278191347, 'w3': 0.24454032501323383, 'w4': 0.5305544032962084, 'w5': 0.004916534843368944, 'w6': 0.00038048459995863307, 'w7': 0.21580714764040881, 'threshold': 0.25}\n"
     ]
    },
    {
     "name": "stderr",
     "output_type": "stream",
     "text": [
      "[I 2023-06-14 21:27:52,960] Trial 56 finished with value: 0.6801125407218933 and parameters: {'w1': 0.9375421724045981, 'w2': 0.8284520279861995, 'w3': 0.32273334292037925, 'w4': 0.40564415550987276, 'w5': 0.19326301988201647, 'w6': 0.04235721404876147, 'w7': 0.3129926428802585}. Best is trial 45 with value: 0.6803500056266785.\n"
     ]
    },
    {
     "name": "stdout",
     "output_type": "stream",
     "text": [
      "{'w1': 0.9375421724045981, 'w2': 0.8284520279861995, 'w3': 0.32273334292037925, 'w4': 0.40564415550987276, 'w5': 0.19326301988201647, 'w6': 0.04235721404876147, 'w7': 0.3129926428802585, 'threshold': 0.26}\n"
     ]
    },
    {
     "name": "stderr",
     "output_type": "stream",
     "text": [
      "[I 2023-06-14 21:27:53,998] Trial 57 finished with value: 0.6799328923225403 and parameters: {'w1': 0.9674770730309558, 'w2': 0.6817327724203732, 'w3': 0.29505797841601683, 'w4': 0.6185981323129284, 'w5': 0.13608502370468425, 'w6': 0.0791508526544194, 'w7': 0.23346693465828572}. Best is trial 45 with value: 0.6803500056266785.\n"
     ]
    },
    {
     "name": "stdout",
     "output_type": "stream",
     "text": [
      "{'w1': 0.9674770730309558, 'w2': 0.6817327724203732, 'w3': 0.29505797841601683, 'w4': 0.6185981323129284, 'w5': 0.13608502370468425, 'w6': 0.0791508526544194, 'w7': 0.23346693465828572, 'threshold': 0.26}\n"
     ]
    },
    {
     "name": "stderr",
     "output_type": "stream",
     "text": [
      "[I 2023-06-14 21:27:55,037] Trial 58 finished with value: 0.6802370548248291 and parameters: {'w1': 0.9653646259146579, 'w2': 0.7599700611642944, 'w3': 0.24331363920466148, 'w4': 0.4820473803954805, 'w5': 0.041580942529371376, 'w6': 0.027191704511001415, 'w7': 0.1476455813662188}. Best is trial 45 with value: 0.6803500056266785.\n"
     ]
    },
    {
     "name": "stdout",
     "output_type": "stream",
     "text": [
      "{'w1': 0.9653646259146579, 'w2': 0.7599700611642944, 'w3': 0.24331363920466148, 'w4': 0.4820473803954805, 'w5': 0.041580942529371376, 'w6': 0.027191704511001415, 'w7': 0.1476455813662188, 'threshold': 0.28}\n"
     ]
    },
    {
     "name": "stderr",
     "output_type": "stream",
     "text": [
      "[I 2023-06-14 21:27:56,076] Trial 59 finished with value: 0.6800121665000916 and parameters: {'w1': 0.912637754993466, 'w2': 0.8211434466349576, 'w3': 0.48873728017665063, 'w4': 0.42834451972290766, 'w5': 0.16681002926951313, 'w6': 0.08945127937231867, 'w7': 0.30790142529650133}. Best is trial 45 with value: 0.6803500056266785.\n"
     ]
    },
    {
     "name": "stdout",
     "output_type": "stream",
     "text": [
      "{'w1': 0.912637754993466, 'w2': 0.8211434466349576, 'w3': 0.48873728017665063, 'w4': 0.42834451972290766, 'w5': 0.16681002926951313, 'w6': 0.08945127937231867, 'w7': 0.30790142529650133, 'threshold': 0.29}\n"
     ]
    },
    {
     "name": "stderr",
     "output_type": "stream",
     "text": [
      "[I 2023-06-14 21:27:57,114] Trial 60 finished with value: 0.6804372668266296 and parameters: {'w1': 0.9135335025613303, 'w2': 0.9429007955121174, 'w3': 0.268266538703493, 'w4': 0.5162044005742658, 'w5': 0.0073883811918484255, 'w6': 0.05046640914091441, 'w7': 0.20527028176171355}. Best is trial 60 with value: 0.6804372668266296.\n"
     ]
    },
    {
     "name": "stdout",
     "output_type": "stream",
     "text": [
      "{'w1': 0.9135335025613303, 'w2': 0.9429007955121174, 'w3': 0.268266538703493, 'w4': 0.5162044005742658, 'w5': 0.0073883811918484255, 'w6': 0.05046640914091441, 'w7': 0.20527028176171355, 'threshold': 0.25}\n"
     ]
    },
    {
     "name": "stderr",
     "output_type": "stream",
     "text": [
      "[I 2023-06-14 21:27:58,153] Trial 61 finished with value: 0.6804421544075012 and parameters: {'w1': 0.9191393481886085, 'w2': 0.9659846467675488, 'w3': 0.2692555527257387, 'w4': 0.5249693326308901, 'w5': 0.002139118258947595, 'w6': 0.00023539477303886934, 'w7': 0.11647127330232893}. Best is trial 61 with value: 0.6804421544075012.\n"
     ]
    },
    {
     "name": "stdout",
     "output_type": "stream",
     "text": [
      "{'w1': 0.9191393481886085, 'w2': 0.9659846467675488, 'w3': 0.2692555527257387, 'w4': 0.5249693326308901, 'w5': 0.002139118258947595, 'w6': 0.00023539477303886934, 'w7': 0.11647127330232893, 'threshold': 0.22}\n"
     ]
    },
    {
     "name": "stderr",
     "output_type": "stream",
     "text": [
      "[I 2023-06-14 21:27:59,192] Trial 62 finished with value: 0.6804343461990356 and parameters: {'w1': 0.9118654326425347, 'w2': 0.9527224025404778, 'w3': 0.2655129410326162, 'w4': 0.5323980289386425, 'w5': 0.004135244922526017, 'w6': 0.047985097160654154, 'w7': 0.11820365062058488}. Best is trial 61 with value: 0.6804421544075012.\n"
     ]
    },
    {
     "name": "stdout",
     "output_type": "stream",
     "text": [
      "{'w1': 0.9118654326425347, 'w2': 0.9527224025404778, 'w3': 0.2655129410326162, 'w4': 0.5323980289386425, 'w5': 0.004135244922526017, 'w6': 0.047985097160654154, 'w7': 0.11820365062058488, 'threshold': 0.23}\n"
     ]
    },
    {
     "name": "stderr",
     "output_type": "stream",
     "text": [
      "[I 2023-06-14 21:28:00,231] Trial 63 finished with value: 0.6803873777389526 and parameters: {'w1': 0.8916990787561827, 'w2': 0.9589744734396822, 'w3': 0.34081183820871247, 'w4': 0.5368826966903627, 'w5': 0.0023113360117250764, 'w6': 0.0531134943955989, 'w7': 0.11207765788173663}. Best is trial 61 with value: 0.6804421544075012.\n"
     ]
    },
    {
     "name": "stdout",
     "output_type": "stream",
     "text": [
      "{'w1': 0.8916990787561827, 'w2': 0.9589744734396822, 'w3': 0.34081183820871247, 'w4': 0.5368826966903627, 'w5': 0.0023113360117250764, 'w6': 0.0531134943955989, 'w7': 0.11207765788173663, 'threshold': 0.3}\n"
     ]
    },
    {
     "name": "stderr",
     "output_type": "stream",
     "text": [
      "[I 2023-06-14 21:28:01,269] Trial 64 finished with value: 0.6803737282752991 and parameters: {'w1': 0.8418948919314196, 'w2': 0.9981729384850552, 'w3': 0.3337892554964702, 'w4': 0.5285838974310864, 'w5': 0.001541695713899359, 'w6': 0.05601316983928115, 'w7': 0.09565956004319921}. Best is trial 61 with value: 0.6804421544075012.\n"
     ]
    },
    {
     "name": "stdout",
     "output_type": "stream",
     "text": [
      "{'w1': 0.8418948919314196, 'w2': 0.9981729384850552, 'w3': 0.3337892554964702, 'w4': 0.5285838974310864, 'w5': 0.001541695713899359, 'w6': 0.05601316983928115, 'w7': 0.09565956004319921, 'threshold': 0.24}\n"
     ]
    },
    {
     "name": "stderr",
     "output_type": "stream",
     "text": [
      "[I 2023-06-14 21:28:02,307] Trial 65 finished with value: 0.6802158951759338 and parameters: {'w1': 0.8934920148923651, 'w2': 0.9698235857205619, 'w3': 0.4430575686884938, 'w4': 0.5218237740729971, 'w5': 0.06874004538741502, 'w6': 0.0540962028008501, 'w7': 0.028609725923740545}. Best is trial 61 with value: 0.6804421544075012.\n"
     ]
    },
    {
     "name": "stdout",
     "output_type": "stream",
     "text": [
      "{'w1': 0.8934920148923651, 'w2': 0.9698235857205619, 'w3': 0.4430575686884938, 'w4': 0.5218237740729971, 'w5': 0.06874004538741502, 'w6': 0.0540962028008501, 'w7': 0.028609725923740545, 'threshold': 0.3}\n"
     ]
    },
    {
     "name": "stderr",
     "output_type": "stream",
     "text": [
      "[I 2023-06-14 21:28:03,346] Trial 66 finished with value: 0.6802782416343689 and parameters: {'w1': 0.8351121210345624, 'w2': 0.9564045378542467, 'w3': 0.3421632348797901, 'w4': 0.5569500049373026, 'w5': 0.014746073007464682, 'w6': 0.10059986399219081, 'w7': 0.06931234413904586}. Best is trial 61 with value: 0.6804421544075012.\n"
     ]
    },
    {
     "name": "stdout",
     "output_type": "stream",
     "text": [
      "{'w1': 0.8351121210345624, 'w2': 0.9564045378542467, 'w3': 0.3421632348797901, 'w4': 0.5569500049373026, 'w5': 0.014746073007464682, 'w6': 0.10059986399219081, 'w7': 0.06931234413904586, 'threshold': 0.33}\n"
     ]
    },
    {
     "name": "stderr",
     "output_type": "stream",
     "text": [
      "[I 2023-06-14 21:28:04,384] Trial 67 finished with value: 0.6804051995277405 and parameters: {'w1': 0.8905396843462879, 'w2': 0.9983953666978418, 'w3': 0.33385360864909575, 'w4': 0.5068726874443633, 'w5': 0.003780544628816294, 'w6': 0.0679431571178834, 'w7': 0.10278937919756687}. Best is trial 61 with value: 0.6804421544075012.\n"
     ]
    },
    {
     "name": "stdout",
     "output_type": "stream",
     "text": [
      "{'w1': 0.8905396843462879, 'w2': 0.9983953666978418, 'w3': 0.33385360864909575, 'w4': 0.5068726874443633, 'w5': 0.003780544628816294, 'w6': 0.0679431571178834, 'w7': 0.10278937919756687, 'threshold': 0.31}\n"
     ]
    },
    {
     "name": "stderr",
     "output_type": "stream",
     "text": [
      "[I 2023-06-14 21:28:05,423] Trial 68 finished with value: 0.6803659796714783 and parameters: {'w1': 0.8928231650766691, 'w2': 0.9768496401410104, 'w3': 0.3473357473268272, 'w4': 0.5387176674122112, 'w5': 0.003414528268865071, 'w6': 0.06283919802207946, 'w7': 0.10059068261140255}. Best is trial 61 with value: 0.6804421544075012.\n"
     ]
    },
    {
     "name": "stdout",
     "output_type": "stream",
     "text": [
      "{'w1': 0.8928231650766691, 'w2': 0.9768496401410104, 'w3': 0.3473357473268272, 'w4': 0.5387176674122112, 'w5': 0.003414528268865071, 'w6': 0.06283919802207946, 'w7': 0.10059068261140255, 'threshold': 0.3}\n"
     ]
    },
    {
     "name": "stderr",
     "output_type": "stream",
     "text": [
      "[I 2023-06-14 21:28:06,461] Trial 69 finished with value: 0.6803503632545471 and parameters: {'w1': 0.8880922184637094, 'w2': 0.9935212047979392, 'w3': 0.3372390929285891, 'w4': 0.5444997224414455, 'w5': 0.008966233861512622, 'w6': 0.1367186610158006, 'w7': 0.09889329668070822}. Best is trial 61 with value: 0.6804421544075012.\n"
     ]
    },
    {
     "name": "stdout",
     "output_type": "stream",
     "text": [
      "{'w1': 0.8880922184637094, 'w2': 0.9935212047979392, 'w3': 0.3372390929285891, 'w4': 0.5444997224414455, 'w5': 0.008966233861512622, 'w6': 0.1367186610158006, 'w7': 0.09889329668070822, 'threshold': 0.32}\n"
     ]
    },
    {
     "name": "stderr",
     "output_type": "stream",
     "text": [
      "[I 2023-06-14 21:28:07,499] Trial 70 finished with value: 0.6803308725357056 and parameters: {'w1': 0.78204848222395, 'w2': 0.9966972715582464, 'w3': 0.41205637114958965, 'w4': 0.5154687736983551, 'w5': 0.006184508484358395, 'w6': 0.06394186618081671, 'w7': 0.021523010141623042}. Best is trial 61 with value: 0.6804421544075012.\n"
     ]
    },
    {
     "name": "stdout",
     "output_type": "stream",
     "text": [
      "{'w1': 0.78204848222395, 'w2': 0.9966972715582464, 'w3': 0.41205637114958965, 'w4': 0.5154687736983551, 'w5': 0.006184508484358395, 'w6': 0.06394186618081671, 'w7': 0.021523010141623042, 'threshold': 0.29}\n"
     ]
    },
    {
     "name": "stderr",
     "output_type": "stream",
     "text": [
      "[I 2023-06-14 21:28:08,537] Trial 71 finished with value: 0.6803164482116699 and parameters: {'w1': 0.8774704688616844, 'w2': 0.9646617480781082, 'w3': 0.3410427323190367, 'w4': 0.5445740979327721, 'w5': 0.0003307130757973795, 'w6': 0.14154748046905902, 'w7': 0.09312182979959283}. Best is trial 61 with value: 0.6804421544075012.\n"
     ]
    },
    {
     "name": "stdout",
     "output_type": "stream",
     "text": [
      "{'w1': 0.8774704688616844, 'w2': 0.9646617480781082, 'w3': 0.3410427323190367, 'w4': 0.5445740979327721, 'w5': 0.0003307130757973795, 'w6': 0.14154748046905902, 'w7': 0.09312182979959283, 'threshold': 0.33}\n"
     ]
    },
    {
     "name": "stderr",
     "output_type": "stream",
     "text": [
      "[I 2023-06-14 21:28:09,575] Trial 72 finished with value: 0.6803112626075745 and parameters: {'w1': 0.9237523802734182, 'w2': 0.9301251546451712, 'w3': 0.36067435540901066, 'w4': 0.5101274150515762, 'w5': 0.09281610652625553, 'w6': 0.09445987080575544, 'w7': 0.09340098949693802}. Best is trial 61 with value: 0.6804421544075012.\n"
     ]
    },
    {
     "name": "stdout",
     "output_type": "stream",
     "text": [
      "{'w1': 0.9237523802734182, 'w2': 0.9301251546451712, 'w3': 0.36067435540901066, 'w4': 0.5101274150515762, 'w5': 0.09281610652625553, 'w6': 0.09445987080575544, 'w7': 0.09340098949693802, 'threshold': 0.32}\n"
     ]
    },
    {
     "name": "stderr",
     "output_type": "stream",
     "text": [
      "[I 2023-06-14 21:28:10,613] Trial 73 finished with value: 0.6802833080291748 and parameters: {'w1': 0.8952226059667087, 'w2': 0.9960700568197265, 'w3': 0.3236739211496209, 'w4': 0.5566581804616754, 'w5': 0.015597966241157182, 'w6': 0.14887953025196574, 'w7': 0.029489888367798617}. Best is trial 61 with value: 0.6804421544075012.\n"
     ]
    },
    {
     "name": "stdout",
     "output_type": "stream",
     "text": [
      "{'w1': 0.8952226059667087, 'w2': 0.9960700568197265, 'w3': 0.3236739211496209, 'w4': 0.5566581804616754, 'w5': 0.015597966241157182, 'w6': 0.14887953025196574, 'w7': 0.029489888367798617, 'threshold': 0.3}\n"
     ]
    },
    {
     "name": "stderr",
     "output_type": "stream",
     "text": [
      "[I 2023-06-14 21:28:11,650] Trial 74 finished with value: 0.6803252696990967 and parameters: {'w1': 0.9107716831842244, 'w2': 0.9587077324472946, 'w3': 0.4289565249430587, 'w4': 0.43025267679532336, 'w5': 0.06981101022510003, 'w6': 0.05710818749026834, 'w7': 0.07689383248840928}. Best is trial 61 with value: 0.6804421544075012.\n"
     ]
    },
    {
     "name": "stdout",
     "output_type": "stream",
     "text": [
      "{'w1': 0.9107716831842244, 'w2': 0.9587077324472946, 'w3': 0.4289565249430587, 'w4': 0.43025267679532336, 'w5': 0.06981101022510003, 'w6': 0.05710818749026834, 'w7': 0.07689383248840928, 'threshold': 0.32}\n"
     ]
    },
    {
     "name": "stderr",
     "output_type": "stream",
     "text": [
      "[I 2023-06-14 21:28:12,688] Trial 75 finished with value: 0.6802616715431213 and parameters: {'w1': 0.8425024127091071, 'w2': 0.9258670443913632, 'w3': 0.5188242010569353, 'w4': 0.5019083468344664, 'w5': 0.031235768695124656, 'w6': 0.09688078195006078, 'w7': 0.19703761968967617}. Best is trial 61 with value: 0.6804421544075012.\n"
     ]
    },
    {
     "name": "stdout",
     "output_type": "stream",
     "text": [
      "{'w1': 0.8425024127091071, 'w2': 0.9258670443913632, 'w3': 0.5188242010569353, 'w4': 0.5019083468344664, 'w5': 0.031235768695124656, 'w6': 0.09688078195006078, 'w7': 0.19703761968967617, 'threshold': 0.25}\n"
     ]
    },
    {
     "name": "stderr",
     "output_type": "stream",
     "text": [
      "[I 2023-06-14 21:28:13,726] Trial 76 finished with value: 0.6802126169204712 and parameters: {'w1': 0.877610724017893, 'w2': 0.9748839008408208, 'w3': 0.3893425940778027, 'w4': 0.5416525553523835, 'w5': 0.10000819455162847, 'w6': 0.18837241827454126, 'w7': 0.17308620852747628}. Best is trial 61 with value: 0.6804421544075012.\n"
     ]
    },
    {
     "name": "stdout",
     "output_type": "stream",
     "text": [
      "{'w1': 0.877610724017893, 'w2': 0.9748839008408208, 'w3': 0.3893425940778027, 'w4': 0.5416525553523835, 'w5': 0.10000819455162847, 'w6': 0.18837241827454126, 'w7': 0.17308620852747628, 'threshold': 0.27}\n"
     ]
    },
    {
     "name": "stderr",
     "output_type": "stream",
     "text": [
      "[I 2023-06-14 21:28:14,764] Trial 77 finished with value: 0.6802635192871094 and parameters: {'w1': 0.8092050813441583, 'w2': 0.9210872809824598, 'w3': 0.251147846204503, 'w4': 0.576270462024473, 'w5': 0.02652100591317283, 'w6': 0.13324016043623127, 'w7': 0.05893723264846701}. Best is trial 61 with value: 0.6804421544075012.\n"
     ]
    },
    {
     "name": "stdout",
     "output_type": "stream",
     "text": [
      "{'w1': 0.8092050813441583, 'w2': 0.9210872809824598, 'w3': 0.251147846204503, 'w4': 0.576270462024473, 'w5': 0.02652100591317283, 'w6': 0.13324016043623127, 'w7': 0.05893723264846701, 'threshold': 0.25}\n"
     ]
    },
    {
     "name": "stderr",
     "output_type": "stream",
     "text": [
      "[I 2023-06-14 21:28:15,801] Trial 78 finished with value: 0.6805127859115601 and parameters: {'w1': 0.722757202823915, 'w2': 0.8971851170858148, 'w3': 0.3249862685989183, 'w4': 0.3635407560447931, 'w5': 0.06822157458822957, 'w6': 0.03512256667999815, 'w7': 0.11068560601115995}. Best is trial 78 with value: 0.6805127859115601.\n"
     ]
    },
    {
     "name": "stdout",
     "output_type": "stream",
     "text": [
      "{'w1': 0.722757202823915, 'w2': 0.8971851170858148, 'w3': 0.3249862685989183, 'w4': 0.3635407560447931, 'w5': 0.06822157458822957, 'w6': 0.03512256667999815, 'w7': 0.11068560601115995, 'threshold': 0.24}\n"
     ]
    },
    {
     "name": "stderr",
     "output_type": "stream",
     "text": [
      "[I 2023-06-14 21:28:16,840] Trial 79 finished with value: 0.680474579334259 and parameters: {'w1': 0.7452263838779124, 'w2': 0.9044848372476105, 'w3': 0.21376686656716992, 'w4': 0.3136132391903814, 'w5': 0.10067101959895008, 'w6': 0.03611583709654441, 'w7': 0.10828025445888266}. Best is trial 78 with value: 0.6805127859115601.\n"
     ]
    },
    {
     "name": "stdout",
     "output_type": "stream",
     "text": [
      "{'w1': 0.7452263838779124, 'w2': 0.9044848372476105, 'w3': 0.21376686656716992, 'w4': 0.3136132391903814, 'w5': 0.10067101959895008, 'w6': 0.03611583709654441, 'w7': 0.10828025445888266, 'threshold': 0.25}\n"
     ]
    },
    {
     "name": "stderr",
     "output_type": "stream",
     "text": [
      "[I 2023-06-14 21:28:17,877] Trial 80 finished with value: 0.6805541515350342 and parameters: {'w1': 0.7494701976435517, 'w2': 0.8811279866570925, 'w3': 0.21805855541522035, 'w4': 0.293384477955251, 'w5': 0.07424765486330617, 'w6': 0.04052131360318101, 'w7': 0.19748312412674546}. Best is trial 80 with value: 0.6805541515350342.\n"
     ]
    },
    {
     "name": "stdout",
     "output_type": "stream",
     "text": [
      "{'w1': 0.7494701976435517, 'w2': 0.8811279866570925, 'w3': 0.21805855541522035, 'w4': 0.293384477955251, 'w5': 0.07424765486330617, 'w6': 0.04052131360318101, 'w7': 0.19748312412674546, 'threshold': 0.26}\n"
     ]
    },
    {
     "name": "stderr",
     "output_type": "stream",
     "text": [
      "[I 2023-06-14 21:28:18,917] Trial 81 finished with value: 0.6806076765060425 and parameters: {'w1': 0.7145414775865876, 'w2': 0.8982391713153641, 'w3': 0.22025921424956582, 'w4': 0.327499803392386, 'w5': 0.07020643247469532, 'w6': 0.04105481616734323, 'w7': 0.23306904909076404}. Best is trial 81 with value: 0.6806076765060425.\n"
     ]
    },
    {
     "name": "stdout",
     "output_type": "stream",
     "text": [
      "{'w1': 0.7145414775865876, 'w2': 0.8982391713153641, 'w3': 0.22025921424956582, 'w4': 0.327499803392386, 'w5': 0.07020643247469532, 'w6': 0.04105481616734323, 'w7': 0.23306904909076404, 'threshold': 0.28}\n"
     ]
    },
    {
     "name": "stderr",
     "output_type": "stream",
     "text": [
      "[I 2023-06-14 21:28:19,956] Trial 82 finished with value: 0.6805824637413025 and parameters: {'w1': 0.7469129274304738, 'w2': 0.8790501011041713, 'w3': 0.22157088383432502, 'w4': 0.33546602468596914, 'w5': 0.08046181256117828, 'w6': 0.03510707087451634, 'w7': 0.2298132252503754}. Best is trial 81 with value: 0.6806076765060425.\n"
     ]
    },
    {
     "name": "stdout",
     "output_type": "stream",
     "text": [
      "{'w1': 0.7469129274304738, 'w2': 0.8790501011041713, 'w3': 0.22157088383432502, 'w4': 0.33546602468596914, 'w5': 0.08046181256117828, 'w6': 0.03510707087451634, 'w7': 0.2298132252503754, 'threshold': 0.28}\n"
     ]
    },
    {
     "name": "stderr",
     "output_type": "stream",
     "text": [
      "[I 2023-06-14 21:28:20,997] Trial 83 finished with value: 0.6806537508964539 and parameters: {'w1': 0.7261054469889483, 'w2': 0.8925294634459384, 'w3': 0.21591554865471624, 'w4': 0.2941226455278241, 'w5': 0.10892074052424816, 'w6': 0.031030328104373804, 'w7': 0.19970790183499126}. Best is trial 83 with value: 0.6806537508964539.\n"
     ]
    },
    {
     "name": "stdout",
     "output_type": "stream",
     "text": [
      "{'w1': 0.7261054469889483, 'w2': 0.8925294634459384, 'w3': 0.21591554865471624, 'w4': 0.2941226455278241, 'w5': 0.10892074052424816, 'w6': 0.031030328104373804, 'w7': 0.19970790183499126, 'threshold': 0.27}\n"
     ]
    },
    {
     "name": "stderr",
     "output_type": "stream",
     "text": [
      "[I 2023-06-14 21:28:22,037] Trial 84 finished with value: 0.6805790066719055 and parameters: {'w1': 0.7040477578825477, 'w2': 0.8933414775742896, 'w3': 0.22845279761983908, 'w4': 0.3426097833078907, 'w5': 0.10848384364799546, 'w6': 0.029731394394142883, 'w7': 0.22181373482392455}. Best is trial 83 with value: 0.6806537508964539.\n"
     ]
    },
    {
     "name": "stdout",
     "output_type": "stream",
     "text": [
      "{'w1': 0.7040477578825477, 'w2': 0.8933414775742896, 'w3': 0.22845279761983908, 'w4': 0.3426097833078907, 'w5': 0.10848384364799546, 'w6': 0.029731394394142883, 'w7': 0.22181373482392455, 'threshold': 0.27}\n"
     ]
    },
    {
     "name": "stderr",
     "output_type": "stream",
     "text": [
      "[I 2023-06-14 21:28:23,077] Trial 85 finished with value: 0.6805410981178284 and parameters: {'w1': 0.7392295595720907, 'w2': 0.8994537041082957, 'w3': 0.22167979868809742, 'w4': 0.3258682841691413, 'w5': 0.15174386649249005, 'w6': 0.023925149934612477, 'w7': 0.2351002944587645}. Best is trial 83 with value: 0.6806537508964539.\n"
     ]
    },
    {
     "name": "stdout",
     "output_type": "stream",
     "text": [
      "{'w1': 0.7392295595720907, 'w2': 0.8994537041082957, 'w3': 0.22167979868809742, 'w4': 0.3258682841691413, 'w5': 0.15174386649249005, 'w6': 0.023925149934612477, 'w7': 0.2351002944587645, 'threshold': 0.26}\n"
     ]
    },
    {
     "name": "stderr",
     "output_type": "stream",
     "text": [
      "[I 2023-06-14 21:28:24,117] Trial 86 finished with value: 0.6805613040924072 and parameters: {'w1': 0.7259567412960015, 'w2': 0.8949460471419827, 'w3': 0.1812981776942727, 'w4': 0.32263622157031613, 'w5': 0.15215878260584115, 'w6': 0.026479728916967007, 'w7': 0.24638450702872544}. Best is trial 83 with value: 0.6806537508964539.\n"
     ]
    },
    {
     "name": "stdout",
     "output_type": "stream",
     "text": [
      "{'w1': 0.7259567412960015, 'w2': 0.8949460471419827, 'w3': 0.1812981776942727, 'w4': 0.32263622157031613, 'w5': 0.15215878260584115, 'w6': 0.026479728916967007, 'w7': 0.24638450702872544, 'threshold': 0.28}\n"
     ]
    },
    {
     "name": "stderr",
     "output_type": "stream",
     "text": [
      "[I 2023-06-14 21:28:25,157] Trial 87 finished with value: 0.6804208755493164 and parameters: {'w1': 0.7249100871731311, 'w2': 0.8901492110926359, 'w3': 0.17827593180187964, 'w4': 0.30473908336642014, 'w5': 0.1395044011127683, 'w6': 0.11282666952398397, 'w7': 0.2446494978851596}. Best is trial 83 with value: 0.6806537508964539.\n"
     ]
    },
    {
     "name": "stdout",
     "output_type": "stream",
     "text": [
      "{'w1': 0.7249100871731311, 'w2': 0.8901492110926359, 'w3': 0.17827593180187964, 'w4': 0.30473908336642014, 'w5': 0.1395044011127683, 'w6': 0.11282666952398397, 'w7': 0.2446494978851596, 'threshold': 0.28}\n"
     ]
    },
    {
     "name": "stderr",
     "output_type": "stream",
     "text": [
      "[I 2023-06-14 21:28:26,198] Trial 88 finished with value: 0.6805511116981506 and parameters: {'w1': 0.6976841098848594, 'w2': 0.8726649379759173, 'w3': 0.2190436219164589, 'w4': 0.3142511781821372, 'w5': 0.15535774247528647, 'w6': 0.02988064249631567, 'w7': 0.22676267343159684}. Best is trial 83 with value: 0.6806537508964539.\n"
     ]
    },
    {
     "name": "stdout",
     "output_type": "stream",
     "text": [
      "{'w1': 0.6976841098848594, 'w2': 0.8726649379759173, 'w3': 0.2190436219164589, 'w4': 0.3142511781821372, 'w5': 0.15535774247528647, 'w6': 0.02988064249631567, 'w7': 0.22676267343159684, 'threshold': 0.27}\n"
     ]
    },
    {
     "name": "stderr",
     "output_type": "stream",
     "text": [
      "[I 2023-06-14 21:28:27,239] Trial 89 finished with value: 0.6805877685546875 and parameters: {'w1': 0.6927967211768811, 'w2': 0.8684319609089665, 'w3': 0.12995122314617652, 'w4': 0.3266335159404855, 'w5': 0.16073801115591552, 'w6': 0.03210474354837555, 'w7': 0.22533622867305803}. Best is trial 83 with value: 0.6806537508964539.\n"
     ]
    },
    {
     "name": "stdout",
     "output_type": "stream",
     "text": [
      "{'w1': 0.6927967211768811, 'w2': 0.8684319609089665, 'w3': 0.12995122314617652, 'w4': 0.3266335159404855, 'w5': 0.16073801115591552, 'w6': 0.03210474354837555, 'w7': 0.22533622867305803, 'threshold': 0.29}\n"
     ]
    },
    {
     "name": "stderr",
     "output_type": "stream",
     "text": [
      "[I 2023-06-14 21:28:28,280] Trial 90 finished with value: 0.6804826259613037 and parameters: {'w1': 0.69509140892961, 'w2': 0.8728144495973061, 'w3': 0.12211819551619758, 'w4': 0.24666133026015638, 'w5': 0.15680692141276784, 'w6': 0.09457224806493057, 'w7': 0.22592954651034}. Best is trial 83 with value: 0.6806537508964539.\n"
     ]
    },
    {
     "name": "stdout",
     "output_type": "stream",
     "text": [
      "{'w1': 0.69509140892961, 'w2': 0.8728144495973061, 'w3': 0.12211819551619758, 'w4': 0.24666133026015638, 'w5': 0.15680692141276784, 'w6': 0.09457224806493057, 'w7': 0.22592954651034, 'threshold': 0.27}\n"
     ]
    },
    {
     "name": "stderr",
     "output_type": "stream",
     "text": [
      "[I 2023-06-14 21:28:29,321] Trial 91 finished with value: 0.680535078048706 and parameters: {'w1': 0.6536464277739918, 'w2': 0.8609088765739911, 'w3': 0.17061666846909193, 'w4': 0.3371030217283485, 'w5': 0.11869161832581837, 'w6': 0.0284433199597562, 'w7': 0.2726398089080282}. Best is trial 83 with value: 0.6806537508964539.\n"
     ]
    },
    {
     "name": "stdout",
     "output_type": "stream",
     "text": [
      "{'w1': 0.6536464277739918, 'w2': 0.8609088765739911, 'w3': 0.17061666846909193, 'w4': 0.3371030217283485, 'w5': 0.11869161832581837, 'w6': 0.0284433199597562, 'w7': 0.2726398089080282, 'threshold': 0.27}\n"
     ]
    },
    {
     "name": "stderr",
     "output_type": "stream",
     "text": [
      "[I 2023-06-14 21:28:30,361] Trial 92 finished with value: 0.6804418563842773 and parameters: {'w1': 0.6477617348291895, 'w2': 0.8578059057055261, 'w3': 0.17286497105255744, 'w4': 0.3251794517131484, 'w5': 0.20917855482187883, 'w6': 0.035718476547147965, 'w7': 0.27274279073977115}. Best is trial 83 with value: 0.6806537508964539.\n"
     ]
    },
    {
     "name": "stdout",
     "output_type": "stream",
     "text": [
      "{'w1': 0.6477617348291895, 'w2': 0.8578059057055261, 'w3': 0.17286497105255744, 'w4': 0.3251794517131484, 'w5': 0.20917855482187883, 'w6': 0.035718476547147965, 'w7': 0.27274279073977115, 'threshold': 0.29}\n"
     ]
    },
    {
     "name": "stderr",
     "output_type": "stream",
     "text": [
      "[I 2023-06-14 21:28:31,401] Trial 93 finished with value: 0.6806128621101379 and parameters: {'w1': 0.6783021593688228, 'w2': 0.8595818518816832, 'w3': 0.22331575868948747, 'w4': 0.2913834619769596, 'w5': 0.12420218154484271, 'w6': 0.02382512433837134, 'w7': 0.25182646994130353}. Best is trial 83 with value: 0.6806537508964539.\n"
     ]
    },
    {
     "name": "stdout",
     "output_type": "stream",
     "text": [
      "{'w1': 0.6783021593688228, 'w2': 0.8595818518816832, 'w3': 0.22331575868948747, 'w4': 0.2913834619769596, 'w5': 0.12420218154484271, 'w6': 0.02382512433837134, 'w7': 0.25182646994130353, 'threshold': 0.28}\n"
     ]
    },
    {
     "name": "stderr",
     "output_type": "stream",
     "text": [
      "[I 2023-06-14 21:28:32,440] Trial 94 finished with value: 0.6804953813552856 and parameters: {'w1': 0.6919959896131181, 'w2': 0.8789176568159838, 'w3': 0.21971715981827605, 'w4': 0.27101492278181866, 'w5': 0.14339173077397996, 'w6': 0.08493357669338059, 'w7': 0.24474174898188983}. Best is trial 83 with value: 0.6806537508964539.\n"
     ]
    },
    {
     "name": "stdout",
     "output_type": "stream",
     "text": [
      "{'w1': 0.6919959896131181, 'w2': 0.8789176568159838, 'w3': 0.21971715981827605, 'w4': 0.27101492278181866, 'w5': 0.14339173077397996, 'w6': 0.08493357669338059, 'w7': 0.24474174898188983, 'threshold': 0.27}\n"
     ]
    },
    {
     "name": "stderr",
     "output_type": "stream",
     "text": [
      "[I 2023-06-14 21:28:33,479] Trial 95 finished with value: 0.6805422306060791 and parameters: {'w1': 0.7062163520393129, 'w2': 0.8577797758217129, 'w3': 0.19488554152341594, 'w4': 0.28474481352618625, 'w5': 0.23914652629394606, 'w6': 0.030744588594456383, 'w7': 0.21747112193786952}. Best is trial 83 with value: 0.6806537508964539.\n"
     ]
    },
    {
     "name": "stdout",
     "output_type": "stream",
     "text": [
      "{'w1': 0.7062163520393129, 'w2': 0.8577797758217129, 'w3': 0.19488554152341594, 'w4': 0.28474481352618625, 'w5': 0.23914652629394606, 'w6': 0.030744588594456383, 'w7': 0.21747112193786952, 'threshold': 0.27}\n"
     ]
    },
    {
     "name": "stderr",
     "output_type": "stream",
     "text": [
      "[I 2023-06-14 21:28:34,520] Trial 96 finished with value: 0.6802186369895935 and parameters: {'w1': 0.704645983758789, 'w2': 0.8518867868457197, 'w3': 0.19322127411779233, 'w4': 0.19606171420255597, 'w5': 0.1904621518848828, 'w6': 0.16543029083673697, 'w7': 0.29468900043549645}. Best is trial 83 with value: 0.6806537508964539.\n"
     ]
    },
    {
     "name": "stdout",
     "output_type": "stream",
     "text": [
      "{'w1': 0.704645983758789, 'w2': 0.8518867868457197, 'w3': 0.19322127411779233, 'w4': 0.19606171420255597, 'w5': 0.1904621518848828, 'w6': 0.16543029083673697, 'w7': 0.29468900043549645, 'threshold': 0.25}\n"
     ]
    },
    {
     "name": "stderr",
     "output_type": "stream",
     "text": [
      "[I 2023-06-14 21:28:35,559] Trial 97 finished with value: 0.6805630922317505 and parameters: {'w1': 0.6276818442137143, 'w2': 0.8674238896780015, 'w3': 0.1424121360531589, 'w4': 0.2886514054540176, 'w5': 0.24149531256687984, 'w6': 0.025047663087590384, 'w7': 0.18638454087745748}. Best is trial 83 with value: 0.6806537508964539.\n"
     ]
    },
    {
     "name": "stdout",
     "output_type": "stream",
     "text": [
      "{'w1': 0.6276818442137143, 'w2': 0.8674238896780015, 'w3': 0.1424121360531589, 'w4': 0.2886514054540176, 'w5': 0.24149531256687984, 'w6': 0.025047663087590384, 'w7': 0.18638454087745748, 'threshold': 0.28}\n"
     ]
    },
    {
     "name": "stderr",
     "output_type": "stream",
     "text": [
      "[I 2023-06-14 21:28:36,598] Trial 98 finished with value: 0.6804980635643005 and parameters: {'w1': 0.6681784454537414, 'w2': 0.9174382952263741, 'w3': 0.15035221358599743, 'w4': 0.35114478801794136, 'w5': 0.11981902656961475, 'w6': 0.10899427629450507, 'w7': 0.1894080141422616}. Best is trial 83 with value: 0.6806537508964539.\n"
     ]
    },
    {
     "name": "stdout",
     "output_type": "stream",
     "text": [
      "{'w1': 0.6681784454537414, 'w2': 0.9174382952263741, 'w3': 0.15035221358599743, 'w4': 0.35114478801794136, 'w5': 0.11981902656961475, 'w6': 0.10899427629450507, 'w7': 0.1894080141422616, 'threshold': 0.26}\n"
     ]
    },
    {
     "name": "stderr",
     "output_type": "stream",
     "text": [
      "[I 2023-06-14 21:28:37,636] Trial 99 finished with value: 0.6804599165916443 and parameters: {'w1': 0.6400048120291049, 'w2': 0.8840373765455997, 'w3': 0.16025032983852922, 'w4': 0.36467652761753394, 'w5': 0.17470777135629784, 'w6': 0.08250926721145349, 'w7': 0.2517370095208282}. Best is trial 83 with value: 0.6806537508964539.\n"
     ]
    },
    {
     "name": "stdout",
     "output_type": "stream",
     "text": [
      "{'w1': 0.6400048120291049, 'w2': 0.8840373765455997, 'w3': 0.16025032983852922, 'w4': 0.36467652761753394, 'w5': 0.17470777135629784, 'w6': 0.08250926721145349, 'w7': 0.2517370095208282, 'threshold': 0.26}\n"
     ]
    },
    {
     "name": "stderr",
     "output_type": "stream",
     "text": [
      "[I 2023-06-14 21:28:38,675] Trial 100 finished with value: 0.680454432964325 and parameters: {'w1': 0.7716895688119361, 'w2': 0.8039647273742168, 'w3': 0.1303739319335021, 'w4': 0.29778473572809405, 'w5': 0.23038796463386235, 'w6': 0.022983633416988676, 'w7': 0.19290593065610775}. Best is trial 83 with value: 0.6806537508964539.\n"
     ]
    },
    {
     "name": "stdout",
     "output_type": "stream",
     "text": [
      "{'w1': 0.7716895688119361, 'w2': 0.8039647273742168, 'w3': 0.1303739319335021, 'w4': 0.29778473572809405, 'w5': 0.23038796463386235, 'w6': 0.022983633416988676, 'w7': 0.19290593065610775, 'threshold': 0.26}\n"
     ]
    },
    {
     "name": "stderr",
     "output_type": "stream",
     "text": [
      "[I 2023-06-14 21:28:39,713] Trial 101 finished with value: 0.680454671382904 and parameters: {'w1': 0.7119647077413087, 'w2': 0.8401584843607234, 'w3': 0.1847817762630813, 'w4': 0.28576352211649253, 'w5': 0.10672564792749692, 'w6': 0.07053061409581354, 'w7': 0.21303104138651915}. Best is trial 83 with value: 0.6806537508964539.\n"
     ]
    },
    {
     "name": "stdout",
     "output_type": "stream",
     "text": [
      "{'w1': 0.7119647077413087, 'w2': 0.8401584843607234, 'w3': 0.1847817762630813, 'w4': 0.28576352211649253, 'w5': 0.10672564792749692, 'w6': 0.07053061409581354, 'w7': 0.21303104138651915, 'threshold': 0.27}\n"
     ]
    },
    {
     "name": "stderr",
     "output_type": "stream",
     "text": [
      "[I 2023-06-14 21:28:40,752] Trial 102 finished with value: 0.6804709434509277 and parameters: {'w1': 0.6217617611865254, 'w2': 0.8508476815731896, 'w3': 0.2374007725132943, 'w4': 0.2651843968983669, 'w5': 0.23361269517805955, 'w6': 0.023137185177801847, 'w7': 0.17043475417406334}. Best is trial 83 with value: 0.6806537508964539.\n"
     ]
    },
    {
     "name": "stdout",
     "output_type": "stream",
     "text": [
      "{'w1': 0.6217617611865254, 'w2': 0.8508476815731896, 'w3': 0.2374007725132943, 'w4': 0.2651843968983669, 'w5': 0.23361269517805955, 'w6': 0.023137185177801847, 'w7': 0.17043475417406334, 'threshold': 0.26}\n"
     ]
    },
    {
     "name": "stderr",
     "output_type": "stream",
     "text": [
      "[I 2023-06-14 21:28:41,791] Trial 103 finished with value: 0.6805718541145325 and parameters: {'w1': 0.6783004284287503, 'w2': 0.8691821568043921, 'w3': 0.20609771708319588, 'w4': 0.33779370181596124, 'w5': 0.16839251290695242, 'w6': 0.02456458299184241, 'w7': 0.22171490342628722}. Best is trial 83 with value: 0.6806537508964539.\n"
     ]
    },
    {
     "name": "stdout",
     "output_type": "stream",
     "text": [
      "{'w1': 0.6783004284287503, 'w2': 0.8691821568043921, 'w3': 0.20609771708319588, 'w4': 0.33779370181596124, 'w5': 0.16839251290695242, 'w6': 0.02456458299184241, 'w7': 0.22171490342628722, 'threshold': 0.27}\n"
     ]
    },
    {
     "name": "stderr",
     "output_type": "stream",
     "text": [
      "[I 2023-06-14 21:28:42,830] Trial 104 finished with value: 0.6804596185684204 and parameters: {'w1': 0.6785163130091193, 'w2': 0.913748197278215, 'w3': 0.14142700559730123, 'w4': 0.34147919848782216, 'w5': 0.16329591495356893, 'w6': 0.11916503003743545, 'w7': 0.2609104055694739}. Best is trial 83 with value: 0.6806537508964539.\n"
     ]
    },
    {
     "name": "stdout",
     "output_type": "stream",
     "text": [
      "{'w1': 0.6785163130091193, 'w2': 0.913748197278215, 'w3': 0.14142700559730123, 'w4': 0.34147919848782216, 'w5': 0.16329591495356893, 'w6': 0.11916503003743545, 'w7': 0.2609104055694739, 'threshold': 0.29}\n"
     ]
    },
    {
     "name": "stderr",
     "output_type": "stream",
     "text": [
      "[I 2023-06-14 21:28:43,869] Trial 105 finished with value: 0.6804373264312744 and parameters: {'w1': 0.7402472988597696, 'w2': 0.9369315666629585, 'w3': 0.20952269195254403, 'w4': 0.3779125567389617, 'w5': 0.08882614258009461, 'w6': 0.07744129938257366, 'w7': 0.3218534506771735}. Best is trial 83 with value: 0.6806537508964539.\n"
     ]
    },
    {
     "name": "stdout",
     "output_type": "stream",
     "text": [
      "{'w1': 0.7402472988597696, 'w2': 0.9369315666629585, 'w3': 0.20952269195254403, 'w4': 0.3779125567389617, 'w5': 0.08882614258009461, 'w6': 0.07744129938257366, 'w7': 0.3218534506771735, 'threshold': 0.28}\n"
     ]
    },
    {
     "name": "stderr",
     "output_type": "stream",
     "text": [
      "[I 2023-06-14 21:28:44,907] Trial 106 finished with value: 0.6805472373962402 and parameters: {'w1': 0.587074618474882, 'w2': 0.8754627469255908, 'w3': 0.11311379734962398, 'w4': 0.22705721603853718, 'w5': 0.19608694787813635, 'w6': 0.023344447197762654, 'w7': 0.28656652188898285}. Best is trial 83 with value: 0.6806537508964539.\n"
     ]
    },
    {
     "name": "stdout",
     "output_type": "stream",
     "text": [
      "{'w1': 0.587074618474882, 'w2': 0.8754627469255908, 'w3': 0.11311379734962398, 'w4': 0.22705721603853718, 'w5': 0.19608694787813635, 'w6': 0.023344447197762654, 'w7': 0.28656652188898285, 'threshold': 0.27}\n"
     ]
    },
    {
     "name": "stderr",
     "output_type": "stream",
     "text": [
      "[I 2023-06-14 21:28:45,946] Trial 107 finished with value: 0.6802892684936523 and parameters: {'w1': 0.7582724202450829, 'w2': 0.7719777068980193, 'w3': 0.2326206023598231, 'w4': 0.39179913588645937, 'w5': 0.13366094612071788, 'w6': 0.06709194870601143, 'w7': 0.2226049763832961}. Best is trial 83 with value: 0.6806537508964539.\n"
     ]
    },
    {
     "name": "stdout",
     "output_type": "stream",
     "text": [
      "{'w1': 0.7582724202450829, 'w2': 0.7719777068980193, 'w3': 0.2326206023598231, 'w4': 0.39179913588645937, 'w5': 0.13366094612071788, 'w6': 0.06709194870601143, 'w7': 0.2226049763832961, 'threshold': 0.29}\n"
     ]
    },
    {
     "name": "stderr",
     "output_type": "stream",
     "text": [
      "[I 2023-06-14 21:28:46,985] Trial 108 finished with value: 0.6804108619689941 and parameters: {'w1': 0.6850482819455541, 'w2': 0.7994812387211216, 'w3': 0.15666983977032078, 'w4': 0.3127389736813991, 'w5': 0.11216137661422196, 'w6': 0.10209915740428603, 'w7': 0.18220100264035868}. Best is trial 83 with value: 0.6806537508964539.\n"
     ]
    },
    {
     "name": "stdout",
     "output_type": "stream",
     "text": [
      "{'w1': 0.6850482819455541, 'w2': 0.7994812387211216, 'w3': 0.15666983977032078, 'w4': 0.3127389736813991, 'w5': 0.11216137661422196, 'w6': 0.10209915740428603, 'w7': 0.18220100264035868, 'threshold': 0.26}\n"
     ]
    },
    {
     "name": "stderr",
     "output_type": "stream",
     "text": [
      "[I 2023-06-14 21:28:48,023] Trial 109 finished with value: 0.6804473400115967 and parameters: {'w1': 0.7263885531518358, 'w2': 0.8984439249585213, 'w3': 0.20721203822583162, 'w4': 0.3513428606207249, 'w5': 0.21023789612456262, 'w6': 0.018602340772459987, 'w7': 0.16553355032100897}. Best is trial 83 with value: 0.6806537508964539.\n"
     ]
    },
    {
     "name": "stdout",
     "output_type": "stream",
     "text": [
      "{'w1': 0.7263885531518358, 'w2': 0.8984439249585213, 'w3': 0.20721203822583162, 'w4': 0.3513428606207249, 'w5': 0.21023789612456262, 'w6': 0.018602340772459987, 'w7': 0.16553355032100897, 'threshold': 0.28}\n"
     ]
    },
    {
     "name": "stderr",
     "output_type": "stream",
     "text": [
      "[I 2023-06-14 21:28:49,063] Trial 110 finished with value: 0.6804013848304749 and parameters: {'w1': 0.7838336857725087, 'w2': 0.842385875233404, 'w3': 0.08500006490145512, 'w4': 0.3280986078299667, 'w5': 0.1560171984251791, 'w6': 0.047202744461377, 'w7': 0.2643676561177075}. Best is trial 83 with value: 0.6806537508964539.\n"
     ]
    },
    {
     "name": "stdout",
     "output_type": "stream",
     "text": [
      "{'w1': 0.7838336857725087, 'w2': 0.842385875233404, 'w3': 0.08500006490145512, 'w4': 0.3280986078299667, 'w5': 0.1560171984251791, 'w6': 0.047202744461377, 'w7': 0.2643676561177075, 'threshold': 0.25}\n"
     ]
    },
    {
     "name": "stderr",
     "output_type": "stream",
     "text": [
      "[I 2023-06-14 21:28:50,105] Trial 111 finished with value: 0.6805242896080017 and parameters: {'w1': 0.6294095818402221, 'w2': 0.8768119493970494, 'w3': 0.1252449997846175, 'w4': 0.218106015134583, 'w5': 0.19421141172835066, 'w6': 0.02596064622749756, 'w7': 0.2955269708472057}. Best is trial 83 with value: 0.6806537508964539.\n"
     ]
    },
    {
     "name": "stdout",
     "output_type": "stream",
     "text": [
      "{'w1': 0.6294095818402221, 'w2': 0.8768119493970494, 'w3': 0.1252449997846175, 'w4': 0.218106015134583, 'w5': 0.19421141172835066, 'w6': 0.02596064622749756, 'w7': 0.2955269708472057, 'threshold': 0.28}\n"
     ]
    },
    {
     "name": "stderr",
     "output_type": "stream",
     "text": [
      "[I 2023-06-14 21:28:51,144] Trial 112 finished with value: 0.680512547492981 and parameters: {'w1': 0.5907270252355462, 'w2': 0.8732175970614832, 'w3': 0.11050309769217917, 'w4': 0.2572505010916062, 'w5': 0.1340585786210732, 'w6': 0.053320340913660745, 'w7': 0.2879564278151504}. Best is trial 83 with value: 0.6806537508964539.\n"
     ]
    },
    {
     "name": "stdout",
     "output_type": "stream",
     "text": [
      "{'w1': 0.5907270252355462, 'w2': 0.8732175970614832, 'w3': 0.11050309769217917, 'w4': 0.2572505010916062, 'w5': 0.1340585786210732, 'w6': 0.053320340913660745, 'w7': 0.2879564278151504, 'threshold': 0.27}\n"
     ]
    },
    {
     "name": "stderr",
     "output_type": "stream",
     "text": [
      "[I 2023-06-14 21:28:52,185] Trial 113 finished with value: 0.6805188655853271 and parameters: {'w1': 0.61366226027418, 'w2': 0.8096075114177503, 'w3': 0.1741290992769002, 'w4': 0.2904281216395506, 'w5': 0.18079873225595494, 'w6': 0.023741437389989704, 'w7': 0.23916117493776357}. Best is trial 83 with value: 0.6806537508964539.\n"
     ]
    },
    {
     "name": "stdout",
     "output_type": "stream",
     "text": [
      "{'w1': 0.61366226027418, 'w2': 0.8096075114177503, 'w3': 0.1741290992769002, 'w4': 0.2904281216395506, 'w5': 0.18079873225595494, 'w6': 0.023741437389989704, 'w7': 0.23916117493776357, 'threshold': 0.28}\n"
     ]
    },
    {
     "name": "stderr",
     "output_type": "stream",
     "text": [
      "[I 2023-06-14 21:28:53,225] Trial 114 finished with value: 0.6804760694503784 and parameters: {'w1': 0.6649865481859131, 'w2': 0.9171639808370766, 'w3': 0.05192182704301995, 'w4': 0.23158059181701146, 'w5': 0.0902384460550206, 'w6': 0.07624141081981327, 'w7': 0.2103766632203426}. Best is trial 83 with value: 0.6806537508964539.\n"
     ]
    },
    {
     "name": "stdout",
     "output_type": "stream",
     "text": [
      "{'w1': 0.6649865481859131, 'w2': 0.9171639808370766, 'w3': 0.05192182704301995, 'w4': 0.23158059181701146, 'w5': 0.0902384460550206, 'w6': 0.07624141081981327, 'w7': 0.2103766632203426, 'threshold': 0.3}\n"
     ]
    },
    {
     "name": "stderr",
     "output_type": "stream",
     "text": [
      "[I 2023-06-14 21:28:54,265] Trial 115 finished with value: 0.6805232167243958 and parameters: {'w1': 0.6562726459024251, 'w2': 0.9401676907014914, 'w3': 0.255843889893172, 'w4': 0.275206634523969, 'w5': 0.27854181513454934, 'w6': 0.014371519452864186, 'w7': 0.2781293645748176}. Best is trial 83 with value: 0.6806537508964539.\n"
     ]
    },
    {
     "name": "stdout",
     "output_type": "stream",
     "text": [
      "{'w1': 0.6562726459024251, 'w2': 0.9401676907014914, 'w3': 0.255843889893172, 'w4': 0.275206634523969, 'w5': 0.27854181513454934, 'w6': 0.014371519452864186, 'w7': 0.2781293645748176, 'threshold': 0.29}\n"
     ]
    },
    {
     "name": "stderr",
     "output_type": "stream",
     "text": [
      "[I 2023-06-14 21:28:55,305] Trial 116 finished with value: 0.6804580092430115 and parameters: {'w1': 0.5764915730473459, 'w2': 0.8936619011045891, 'w3': 0.23166135686775724, 'w4': 0.3048330694038015, 'w5': 0.06490301456983778, 'w6': 0.1279753177355894, 'w7': 0.19367664878833396}. Best is trial 83 with value: 0.6806537508964539.\n"
     ]
    },
    {
     "name": "stdout",
     "output_type": "stream",
     "text": [
      "{'w1': 0.5764915730473459, 'w2': 0.8936619011045891, 'w3': 0.23166135686775724, 'w4': 0.3048330694038015, 'w5': 0.06490301456983778, 'w6': 0.1279753177355894, 'w7': 0.19367664878833396, 'threshold': 0.26}\n"
     ]
    },
    {
     "name": "stderr",
     "output_type": "stream",
     "text": [
      "[I 2023-06-14 21:28:56,345] Trial 117 finished with value: 0.6806356310844421 and parameters: {'w1': 0.6842607490194912, 'w2': 0.8660961141165128, 'w3': 0.1022014874535045, 'w4': 0.25282944070819924, 'w5': 0.16842341650035958, 'w6': 0.0009198440927649792, 'w7': 0.23398640385611966}. Best is trial 83 with value: 0.6806537508964539.\n"
     ]
    },
    {
     "name": "stdout",
     "output_type": "stream",
     "text": [
      "{'w1': 0.6842607490194912, 'w2': 0.8660961141165128, 'w3': 0.1022014874535045, 'w4': 0.25282944070819924, 'w5': 0.16842341650035958, 'w6': 0.0009198440927649792, 'w7': 0.23398640385611966, 'threshold': 0.26}\n"
     ]
    },
    {
     "name": "stderr",
     "output_type": "stream",
     "text": [
      "[I 2023-06-14 21:28:57,384] Trial 118 finished with value: 0.6802031993865967 and parameters: {'w1': 0.6787558674321139, 'w2': 0.7761973009045795, 'w3': 0.09474149196742243, 'w4': 0.34861036645701016, 'w5': 0.07971490306161154, 'w6': 0.06143171129187821, 'w7': 0.3328518308842211}. Best is trial 83 with value: 0.6806537508964539.\n"
     ]
    },
    {
     "name": "stdout",
     "output_type": "stream",
     "text": [
      "{'w1': 0.6787558674321139, 'w2': 0.7761973009045795, 'w3': 0.09474149196742243, 'w4': 0.34861036645701016, 'w5': 0.07971490306161154, 'w6': 0.06143171129187821, 'w7': 0.3328518308842211, 'threshold': 0.28}\n"
     ]
    },
    {
     "name": "stderr",
     "output_type": "stream",
     "text": [
      "[I 2023-06-14 21:28:58,424] Trial 119 finished with value: 0.6806086897850037 and parameters: {'w1': 0.7081187378714984, 'w2': 0.8434433451811278, 'w3': 0.13825947434723498, 'w4': 0.24829095490986414, 'w5': 0.17220639306732116, 'w6': 0.0018872269986713042, 'w7': 0.23295580634075558}. Best is trial 83 with value: 0.6806537508964539.\n"
     ]
    },
    {
     "name": "stdout",
     "output_type": "stream",
     "text": [
      "{'w1': 0.7081187378714984, 'w2': 0.8434433451811278, 'w3': 0.13825947434723498, 'w4': 0.24829095490986414, 'w5': 0.17220639306732116, 'w6': 0.0018872269986713042, 'w7': 0.23295580634075558, 'threshold': 0.25}\n"
     ]
    },
    {
     "name": "stderr",
     "output_type": "stream",
     "text": [
      "[I 2023-06-14 21:28:59,464] Trial 120 finished with value: 0.6801615357398987 and parameters: {'w1': 0.720791665104155, 'w2': 0.8363208813535478, 'w3': 0.13368459142119235, 'w4': 0.2541896556173647, 'w5': 0.11829878519559253, 'w6': 0.09738640281590813, 'w7': 0.34916051936671977}. Best is trial 83 with value: 0.6806537508964539.\n"
     ]
    },
    {
     "name": "stdout",
     "output_type": "stream",
     "text": [
      "{'w1': 0.720791665104155, 'w2': 0.8363208813535478, 'w3': 0.13368459142119235, 'w4': 0.2541896556173647, 'w5': 0.11829878519559253, 'w6': 0.09738640281590813, 'w7': 0.34916051936671977, 'threshold': 0.26}\n"
     ]
    },
    {
     "name": "stderr",
     "output_type": "stream",
     "text": [
      "[I 2023-06-14 21:29:00,504] Trial 121 finished with value: 0.6805301904678345 and parameters: {'w1': 0.6970896131991359, 'w2': 0.8669994897100985, 'w3': 0.18620650189973856, 'w4': 0.31543664284122763, 'w5': 0.17571641463563237, 'w6': 0.040654480270863054, 'w7': 0.23371399361182632}. Best is trial 83 with value: 0.6806537508964539.\n"
     ]
    },
    {
     "name": "stdout",
     "output_type": "stream",
     "text": [
      "{'w1': 0.6970896131991359, 'w2': 0.8669994897100985, 'w3': 0.18620650189973856, 'w4': 0.31543664284122763, 'w5': 0.17571641463563237, 'w6': 0.040654480270863054, 'w7': 0.23371399361182632, 'threshold': 0.29}\n"
     ]
    },
    {
     "name": "stderr",
     "output_type": "stream",
     "text": [
      "[I 2023-06-14 21:29:01,544] Trial 122 finished with value: 0.680536687374115 and parameters: {'w1': 0.7541081468029914, 'w2': 0.9085584298416345, 'w3': 0.07595910540570898, 'w4': 0.2965245145633021, 'w5': 0.15056326322500266, 'w6': 0.006308717776236063, 'w7': 0.25351263672126184}. Best is trial 83 with value: 0.6806537508964539.\n"
     ]
    },
    {
     "name": "stdout",
     "output_type": "stream",
     "text": [
      "{'w1': 0.7541081468029914, 'w2': 0.9085584298416345, 'w3': 0.07595910540570898, 'w4': 0.2965245145633021, 'w5': 0.15056326322500266, 'w6': 0.006308717776236063, 'w7': 0.25351263672126184, 'threshold': 0.25}\n"
     ]
    },
    {
     "name": "stderr",
     "output_type": "stream",
     "text": [
      "[I 2023-06-14 21:29:02,584] Trial 123 finished with value: 0.6805079579353333 and parameters: {'w1': 0.7345782755914362, 'w2': 0.8472610784681566, 'w3': 0.15409464147529597, 'w4': 0.269795000847517, 'w5': 0.13232556562137343, 'w6': 0.04346933806066892, 'w7': 0.15859948570829363}. Best is trial 83 with value: 0.6806537508964539.\n"
     ]
    },
    {
     "name": "stdout",
     "output_type": "stream",
     "text": [
      "{'w1': 0.7345782755914362, 'w2': 0.8472610784681566, 'w3': 0.15409464147529597, 'w4': 0.269795000847517, 'w5': 0.13232556562137343, 'w6': 0.04346933806066892, 'w7': 0.15859948570829363, 'threshold': 0.28}\n"
     ]
    },
    {
     "name": "stderr",
     "output_type": "stream",
     "text": [
      "[I 2023-06-14 21:29:03,624] Trial 124 finished with value: 0.6805583238601685 and parameters: {'w1': 0.7103108001024664, 'w2': 0.9283404254603879, 'w3': 0.2002221825622953, 'w4': 0.20988791539049903, 'w5': 0.2154106308967102, 'w6': 0.06997765024489852, 'w7': 0.21631666044791392}. Best is trial 83 with value: 0.6806537508964539.\n"
     ]
    },
    {
     "name": "stdout",
     "output_type": "stream",
     "text": [
      "{'w1': 0.7103108001024664, 'w2': 0.9283404254603879, 'w3': 0.2002221825622953, 'w4': 0.20988791539049903, 'w5': 0.2154106308967102, 'w6': 0.06997765024489852, 'w7': 0.21631666044791392, 'threshold': 0.27}\n"
     ]
    },
    {
     "name": "stderr",
     "output_type": "stream",
     "text": [
      "[I 2023-06-14 21:29:04,664] Trial 125 finished with value: 0.680638313293457 and parameters: {'w1': 0.6764200253985201, 'w2': 0.9337991614270206, 'w3': 0.2024332882500048, 'w4': 0.19814160804906294, 'w5': 0.24665937445303865, 'w6': 0.0011456022991829483, 'w7': 0.1995148045802606}. Best is trial 83 with value: 0.6806537508964539.\n"
     ]
    },
    {
     "name": "stdout",
     "output_type": "stream",
     "text": [
      "{'w1': 0.6764200253985201, 'w2': 0.9337991614270206, 'w3': 0.2024332882500048, 'w4': 0.19814160804906294, 'w5': 0.24665937445303865, 'w6': 0.0011456022991829483, 'w7': 0.1995148045802606, 'threshold': 0.29}\n"
     ]
    },
    {
     "name": "stderr",
     "output_type": "stream",
     "text": [
      "[I 2023-06-14 21:29:05,703] Trial 126 finished with value: 0.6806349158287048 and parameters: {'w1': 0.669267191471383, 'w2': 0.933999793445281, 'w3': 0.19505381446755743, 'w4': 0.20267118062418693, 'w5': 0.21782484417896184, 'w6': 0.0038754184825923396, 'w7': 0.1720080462437238}. Best is trial 83 with value: 0.6806537508964539.\n"
     ]
    },
    {
     "name": "stdout",
     "output_type": "stream",
     "text": [
      "{'w1': 0.669267191471383, 'w2': 0.933999793445281, 'w3': 0.19505381446755743, 'w4': 0.20267118062418693, 'w5': 0.21782484417896184, 'w6': 0.0038754184825923396, 'w7': 0.1720080462437238, 'threshold': 0.26}\n"
     ]
    },
    {
     "name": "stderr",
     "output_type": "stream",
     "text": [
      "[I 2023-06-14 21:29:06,744] Trial 127 finished with value: 0.6806007623672485 and parameters: {'w1': 0.6356366531031873, 'w2': 0.9308382735490679, 'w3': 0.24996046297324653, 'w4': 0.17069664200111795, 'w5': 0.2567350612808564, 'w6': 0.0022543048097985324, 'w7': 0.17730578359827676}. Best is trial 83 with value: 0.6806537508964539.\n"
     ]
    },
    {
     "name": "stdout",
     "output_type": "stream",
     "text": [
      "{'w1': 0.6356366531031873, 'w2': 0.9308382735490679, 'w3': 0.24996046297324653, 'w4': 0.17069664200111795, 'w5': 0.2567350612808564, 'w6': 0.0022543048097985324, 'w7': 0.17730578359827676, 'threshold': 0.27}\n"
     ]
    },
    {
     "name": "stderr",
     "output_type": "stream",
     "text": [
      "[I 2023-06-14 21:29:07,784] Trial 128 finished with value: 0.6806414723396301 and parameters: {'w1': 0.6376339816788746, 'w2': 0.9471418566861333, 'w3': 0.1394260745355696, 'w4': 0.17918929369225578, 'w5': 0.25025083938034814, 'w6': 0.004501782335441646, 'w7': 0.16142285424852829}. Best is trial 83 with value: 0.6806537508964539.\n"
     ]
    },
    {
     "name": "stdout",
     "output_type": "stream",
     "text": [
      "{'w1': 0.6376339816788746, 'w2': 0.9471418566861333, 'w3': 0.1394260745355696, 'w4': 0.17918929369225578, 'w5': 0.25025083938034814, 'w6': 0.004501782335441646, 'w7': 0.16142285424852829, 'threshold': 0.26}\n"
     ]
    },
    {
     "name": "stderr",
     "output_type": "stream",
     "text": [
      "[I 2023-06-14 21:29:08,824] Trial 129 finished with value: 0.6805405020713806 and parameters: {'w1': 0.662546907938184, 'w2': 0.951465767936399, 'w3': 0.24774998488224523, 'w4': 0.18059243547310333, 'w5': 0.2549240539913133, 'w6': 0.007550000034917898, 'w7': 0.14308893512839244}. Best is trial 83 with value: 0.6806537508964539.\n"
     ]
    },
    {
     "name": "stdout",
     "output_type": "stream",
     "text": [
      "{'w1': 0.662546907938184, 'w2': 0.951465767936399, 'w3': 0.24774998488224523, 'w4': 0.18059243547310333, 'w5': 0.2549240539913133, 'w6': 0.007550000034917898, 'w7': 0.14308893512839244, 'threshold': 0.26}\n"
     ]
    },
    {
     "name": "stderr",
     "output_type": "stream",
     "text": [
      "[I 2023-06-14 21:29:09,866] Trial 130 finished with value: 0.6806550025939941 and parameters: {'w1': 0.6495627023794862, 'w2': 0.9366972457969557, 'w3': 0.16777829999033558, 'w4': 0.1663193493804032, 'w5': 0.26600915378047824, 'w6': 0.0020839110261504784, 'w7': 0.1600173594145119}. Best is trial 130 with value: 0.6806550025939941.\n"
     ]
    },
    {
     "name": "stdout",
     "output_type": "stream",
     "text": [
      "{'w1': 0.6495627023794862, 'w2': 0.9366972457969557, 'w3': 0.16777829999033558, 'w4': 0.1663193493804032, 'w5': 0.26600915378047824, 'w6': 0.0020839110261504784, 'w7': 0.1600173594145119, 'threshold': 0.26}\n"
     ]
    },
    {
     "name": "stderr",
     "output_type": "stream",
     "text": [
      "[I 2023-06-14 21:29:10,907] Trial 131 finished with value: 0.6805827021598816 and parameters: {'w1': 0.6442940359339894, 'w2': 0.9341074014380849, 'w3': 0.16144341234450138, 'w4': 0.1707733804590925, 'w5': 0.30816628048860767, 'w6': 0.00015399583635533165, 'w7': 0.17639369525858173}. Best is trial 130 with value: 0.6806550025939941.\n"
     ]
    },
    {
     "name": "stdout",
     "output_type": "stream",
     "text": [
      "{'w1': 0.6442940359339894, 'w2': 0.9341074014380849, 'w3': 0.16144341234450138, 'w4': 0.1707733804590925, 'w5': 0.30816628048860767, 'w6': 0.00015399583635533165, 'w7': 0.17639369525858173, 'threshold': 0.29}\n"
     ]
    },
    {
     "name": "stderr",
     "output_type": "stream",
     "text": [
      "[I 2023-06-14 21:29:11,947] Trial 132 finished with value: 0.6806370615959167 and parameters: {'w1': 0.5998576200425686, 'w2': 0.943003890929676, 'w3': 0.10076511161076997, 'w4': 0.17035017834871516, 'w5': 0.2670556380095043, 'w6': 0.0014386160824404462, 'w7': 0.16626151378499532}. Best is trial 130 with value: 0.6806550025939941.\n"
     ]
    },
    {
     "name": "stdout",
     "output_type": "stream",
     "text": [
      "{'w1': 0.5998576200425686, 'w2': 0.943003890929676, 'w3': 0.10076511161076997, 'w4': 0.17035017834871516, 'w5': 0.2670556380095043, 'w6': 0.0014386160824404462, 'w7': 0.16626151378499532, 'threshold': 0.28}\n"
     ]
    },
    {
     "name": "stderr",
     "output_type": "stream",
     "text": [
      "[I 2023-06-14 21:29:12,989] Trial 133 finished with value: 0.6806151866912842 and parameters: {'w1': 0.6362108857007749, 'w2': 0.9430875571259796, 'w3': 0.08675702845890912, 'w4': 0.16609340477950568, 'w5': 0.31411596501021455, 'w6': 0.002672371956231219, 'w7': 0.1594292823551406}. Best is trial 130 with value: 0.6806550025939941.\n"
     ]
    },
    {
     "name": "stdout",
     "output_type": "stream",
     "text": [
      "{'w1': 0.6362108857007749, 'w2': 0.9430875571259796, 'w3': 0.08675702845890912, 'w4': 0.16609340477950568, 'w5': 0.31411596501021455, 'w6': 0.002672371956231219, 'w7': 0.1594292823551406, 'threshold': 0.26}\n"
     ]
    },
    {
     "name": "stderr",
     "output_type": "stream",
     "text": [
      "[I 2023-06-14 21:29:14,030] Trial 134 finished with value: 0.6806077361106873 and parameters: {'w1': 0.6051369918389913, 'w2': 0.9439992559833179, 'w3': 0.09082270207059003, 'w4': 0.1602856282354126, 'w5': 0.2889472874059043, 'w6': 0.006941662808133289, 'w7': 0.15771769322536539}. Best is trial 130 with value: 0.6806550025939941.\n"
     ]
    },
    {
     "name": "stdout",
     "output_type": "stream",
     "text": [
      "{'w1': 0.6051369918389913, 'w2': 0.9439992559833179, 'w3': 0.09082270207059003, 'w4': 0.1602856282354126, 'w5': 0.2889472874059043, 'w6': 0.006941662808133289, 'w7': 0.15771769322536539, 'threshold': 0.3}\n"
     ]
    },
    {
     "name": "stderr",
     "output_type": "stream",
     "text": [
      "[I 2023-06-14 21:29:15,071] Trial 135 finished with value: 0.6806880235671997 and parameters: {'w1': 0.5584377066522478, 'w2': 0.9631765849547852, 'w3': 0.09585045511150755, 'w4': 0.1405728212418593, 'w5': 0.286910025958649, 'w6': 0.0015997895420488482, 'w7': 0.1572231817359707}. Best is trial 135 with value: 0.6806880235671997.\n"
     ]
    },
    {
     "name": "stdout",
     "output_type": "stream",
     "text": [
      "{'w1': 0.5584377066522478, 'w2': 0.9631765849547852, 'w3': 0.09585045511150755, 'w4': 0.1405728212418593, 'w5': 0.286910025958649, 'w6': 0.0015997895420488482, 'w7': 0.1572231817359707, 'threshold': 0.29}\n"
     ]
    },
    {
     "name": "stderr",
     "output_type": "stream",
     "text": [
      "[I 2023-06-14 21:29:16,112] Trial 136 finished with value: 0.6806764006614685 and parameters: {'w1': 0.6008126325087544, 'w2': 0.9686098506704979, 'w3': 0.03893554926000821, 'w4': 0.12693297611401452, 'w5': 0.2898870328801535, 'w6': 0.005096752418825018, 'w7': 0.16119667152443545}. Best is trial 135 with value: 0.6806880235671997.\n"
     ]
    },
    {
     "name": "stdout",
     "output_type": "stream",
     "text": [
      "{'w1': 0.6008126325087544, 'w2': 0.9686098506704979, 'w3': 0.03893554926000821, 'w4': 0.12693297611401452, 'w5': 0.2898870328801535, 'w6': 0.005096752418825018, 'w7': 0.16119667152443545, 'threshold': 0.29}\n"
     ]
    },
    {
     "name": "stderr",
     "output_type": "stream",
     "text": [
      "[I 2023-06-14 21:29:17,153] Trial 137 finished with value: 0.6806957125663757 and parameters: {'w1': 0.5530080261967273, 'w2': 0.9723625221870156, 'w3': 0.03960140122058316, 'w4': 0.1479156908159116, 'w5': 0.30154297108776595, 'w6': 0.002795574637868871, 'w7': 0.1503972747710753}. Best is trial 137 with value: 0.6806957125663757.\n"
     ]
    },
    {
     "name": "stdout",
     "output_type": "stream",
     "text": [
      "{'w1': 0.5530080261967273, 'w2': 0.9723625221870156, 'w3': 0.03960140122058316, 'w4': 0.1479156908159116, 'w5': 0.30154297108776595, 'w6': 0.002795574637868871, 'w7': 0.1503972747710753, 'threshold': 0.32}\n"
     ]
    },
    {
     "name": "stderr",
     "output_type": "stream",
     "text": [
      "[I 2023-06-14 21:29:18,194] Trial 138 finished with value: 0.6806828379631042 and parameters: {'w1': 0.5624352885258523, 'w2': 0.9764420112233436, 'w3': 0.01739215612910163, 'w4': 0.13688620798402112, 'w5': 0.30067975668589936, 'w6': 0.0022158902094614923, 'w7': 0.1470140381323042}. Best is trial 137 with value: 0.6806957125663757.\n"
     ]
    },
    {
     "name": "stdout",
     "output_type": "stream",
     "text": [
      "{'w1': 0.5624352885258523, 'w2': 0.9764420112233436, 'w3': 0.01739215612910163, 'w4': 0.13688620798402112, 'w5': 0.30067975668589936, 'w6': 0.0022158902094614923, 'w7': 0.1470140381323042, 'threshold': 0.32}\n"
     ]
    },
    {
     "name": "stderr",
     "output_type": "stream",
     "text": [
      "[I 2023-06-14 21:29:19,235] Trial 139 finished with value: 0.6806659698486328 and parameters: {'w1': 0.5562122214010091, 'w2': 0.9736645237588385, 'w3': 0.0276723427435597, 'w4': 0.12874107929187753, 'w5': 0.29747379639421284, 'w6': 0.0005497000359768441, 'w7': 0.14827531118333676}. Best is trial 137 with value: 0.6806957125663757.\n"
     ]
    },
    {
     "name": "stdout",
     "output_type": "stream",
     "text": [
      "{'w1': 0.5562122214010091, 'w2': 0.9736645237588385, 'w3': 0.0276723427435597, 'w4': 0.12874107929187753, 'w5': 0.29747379639421284, 'w6': 0.0005497000359768441, 'w7': 0.14827531118333676, 'threshold': 0.32}\n"
     ]
    },
    {
     "name": "stderr",
     "output_type": "stream",
     "text": [
      "[I 2023-06-14 21:29:20,276] Trial 140 finished with value: 0.6806439161300659 and parameters: {'w1': 0.5556502128873732, 'w2': 0.9789664992884106, 'w3': 0.023832247285694545, 'w4': 0.1275165567735147, 'w5': 0.3225650748727651, 'w6': 0.06148820456423545, 'w7': 0.14998956083008935}. Best is trial 137 with value: 0.6806957125663757.\n"
     ]
    },
    {
     "name": "stdout",
     "output_type": "stream",
     "text": [
      "{'w1': 0.5556502128873732, 'w2': 0.9789664992884106, 'w3': 0.023832247285694545, 'w4': 0.1275165567735147, 'w5': 0.3225650748727651, 'w6': 0.06148820456423545, 'w7': 0.14998956083008935, 'threshold': 0.3}\n"
     ]
    },
    {
     "name": "stderr",
     "output_type": "stream",
     "text": [
      "[I 2023-06-14 21:29:21,317] Trial 141 finished with value: 0.6806461215019226 and parameters: {'w1': 0.5422340091952841, 'w2': 0.9758081199489562, 'w3': 0.029243360779519577, 'w4': 0.1281064266467613, 'w5': 0.33588706676928615, 'w6': 0.051697347184038255, 'w7': 0.13889282180635373}. Best is trial 137 with value: 0.6806957125663757.\n"
     ]
    },
    {
     "name": "stdout",
     "output_type": "stream",
     "text": [
      "{'w1': 0.5422340091952841, 'w2': 0.9758081199489562, 'w3': 0.029243360779519577, 'w4': 0.1281064266467613, 'w5': 0.33588706676928615, 'w6': 0.051697347184038255, 'w7': 0.13889282180635373, 'threshold': 0.3}\n"
     ]
    },
    {
     "name": "stderr",
     "output_type": "stream",
     "text": [
      "[I 2023-06-14 21:29:22,358] Trial 142 finished with value: 0.6806575655937195 and parameters: {'w1': 0.5536963602205346, 'w2': 0.9765565713383141, 'w3': 0.02556611217495325, 'w4': 0.13219387668252053, 'w5': 0.3268562782542531, 'w6': 0.05183193989387921, 'w7': 0.1322060867545249}. Best is trial 137 with value: 0.6806957125663757.\n"
     ]
    },
    {
     "name": "stdout",
     "output_type": "stream",
     "text": [
      "{'w1': 0.5536963602205346, 'w2': 0.9765565713383141, 'w3': 0.02556611217495325, 'w4': 0.13219387668252053, 'w5': 0.3268562782542531, 'w6': 0.05183193989387921, 'w7': 0.1322060867545249, 'threshold': 0.32}\n"
     ]
    },
    {
     "name": "stderr",
     "output_type": "stream",
     "text": [
      "[I 2023-06-14 21:29:23,398] Trial 143 finished with value: 0.6806477308273315 and parameters: {'w1': 0.5566195983896877, 'w2': 0.9772171220625252, 'w3': 0.03483476719350164, 'w4': 0.1316397583522155, 'w5': 0.3335048621032294, 'w6': 0.054075140500789466, 'w7': 0.13164067277416147}. Best is trial 137 with value: 0.6806957125663757.\n"
     ]
    },
    {
     "name": "stdout",
     "output_type": "stream",
     "text": [
      "{'w1': 0.5566195983896877, 'w2': 0.9772171220625252, 'w3': 0.03483476719350164, 'w4': 0.1316397583522155, 'w5': 0.3335048621032294, 'w6': 0.054075140500789466, 'w7': 0.13164067277416147, 'threshold': 0.31}\n"
     ]
    },
    {
     "name": "stderr",
     "output_type": "stream",
     "text": [
      "[I 2023-06-14 21:29:24,440] Trial 144 finished with value: 0.6806554794311523 and parameters: {'w1': 0.5589067587426726, 'w2': 0.9736427899576043, 'w3': 0.022274216680609738, 'w4': 0.11708959512804448, 'w5': 0.34712589544074857, 'w6': 0.05982538796176055, 'w7': 0.13178850007206672}. Best is trial 137 with value: 0.6806957125663757.\n"
     ]
    },
    {
     "name": "stdout",
     "output_type": "stream",
     "text": [
      "{'w1': 0.5589067587426726, 'w2': 0.9736427899576043, 'w3': 0.022274216680609738, 'w4': 0.11708959512804448, 'w5': 0.34712589544074857, 'w6': 0.05982538796176055, 'w7': 0.13178850007206672, 'threshold': 0.32}\n"
     ]
    },
    {
     "name": "stderr",
     "output_type": "stream",
     "text": [
      "[I 2023-06-14 21:29:25,480] Trial 145 finished with value: 0.6806501150131226 and parameters: {'w1': 0.5541379987088383, 'w2': 0.9765283145321845, 'w3': 0.01704864687165876, 'w4': 0.11311275066162514, 'w5': 0.3495023446310073, 'w6': 0.05862386088683157, 'w7': 0.12709860863889946}. Best is trial 137 with value: 0.6806957125663757.\n"
     ]
    },
    {
     "name": "stdout",
     "output_type": "stream",
     "text": [
      "{'w1': 0.5541379987088383, 'w2': 0.9765283145321845, 'w3': 0.01704864687165876, 'w4': 0.11311275066162514, 'w5': 0.3495023446310073, 'w6': 0.05862386088683157, 'w7': 0.12709860863889946, 'threshold': 0.32}\n"
     ]
    },
    {
     "name": "stderr",
     "output_type": "stream",
     "text": [
      "[I 2023-06-14 21:29:26,522] Trial 146 finished with value: 0.6806729435920715 and parameters: {'w1': 0.5497391505441739, 'w2': 0.9790706408993017, 'w3': 0.02018211828082367, 'w4': 0.11639468765017055, 'w5': 0.35237002516687294, 'w6': 0.05988052950352082, 'w7': 0.12950487181936823}. Best is trial 137 with value: 0.6806957125663757.\n"
     ]
    },
    {
     "name": "stdout",
     "output_type": "stream",
     "text": [
      "{'w1': 0.5497391505441739, 'w2': 0.9790706408993017, 'w3': 0.02018211828082367, 'w4': 0.11639468765017055, 'w5': 0.35237002516687294, 'w6': 0.05988052950352082, 'w7': 0.12950487181936823, 'threshold': 0.32}\n"
     ]
    },
    {
     "name": "stderr",
     "output_type": "stream",
     "text": [
      "[I 2023-06-14 21:29:27,564] Trial 147 finished with value: 0.6806362271308899 and parameters: {'w1': 0.5538870629847057, 'w2': 0.9985348781773402, 'w3': 0.02251395648639297, 'w4': 0.09920798620704116, 'w5': 0.34627181093413717, 'w6': 0.0608984465351192, 'w7': 0.12368435292937624}. Best is trial 137 with value: 0.6806957125663757.\n"
     ]
    },
    {
     "name": "stdout",
     "output_type": "stream",
     "text": [
      "{'w1': 0.5538870629847057, 'w2': 0.9985348781773402, 'w3': 0.02251395648639297, 'w4': 0.09920798620704116, 'w5': 0.34627181093413717, 'w6': 0.0608984465351192, 'w7': 0.12368435292937624, 'threshold': 0.3}\n"
     ]
    },
    {
     "name": "stderr",
     "output_type": "stream",
     "text": [
      "[I 2023-06-14 21:29:28,604] Trial 148 finished with value: 0.6805950999259949 and parameters: {'w1': 0.5469773662033064, 'w2': 0.9742613737686248, 'w3': 0.004316383268778647, 'w4': 0.13206356820751142, 'w5': 0.36983990481512663, 'w6': 0.08378797531889566, 'w7': 0.14228871173064486}. Best is trial 137 with value: 0.6806957125663757.\n"
     ]
    },
    {
     "name": "stdout",
     "output_type": "stream",
     "text": [
      "{'w1': 0.5469773662033064, 'w2': 0.9742613737686248, 'w3': 0.004316383268778647, 'w4': 0.13206356820751142, 'w5': 0.36983990481512663, 'w6': 0.08378797531889566, 'w7': 0.14228871173064486, 'threshold': 0.31}\n"
     ]
    },
    {
     "name": "stderr",
     "output_type": "stream",
     "text": [
      "[I 2023-06-14 21:29:29,646] Trial 149 finished with value: 0.6806249618530273 and parameters: {'w1': 0.5139266812433961, 'w2': 0.9762465771655341, 'w3': 0.03556333233633222, 'w4': 0.0682720335801095, 'w5': 0.33331338275106004, 'w6': 0.0565507264716619, 'w7': 0.1266070638169304}. Best is trial 137 with value: 0.6806957125663757.\n"
     ]
    },
    {
     "name": "stdout",
     "output_type": "stream",
     "text": [
      "{'w1': 0.5139266812433961, 'w2': 0.9762465771655341, 'w3': 0.03556333233633222, 'w4': 0.0682720335801095, 'w5': 0.33331338275106004, 'w6': 0.0565507264716619, 'w7': 0.1266070638169304, 'threshold': 0.31}\n"
     ]
    },
    {
     "name": "stderr",
     "output_type": "stream",
     "text": [
      "[I 2023-06-14 21:29:30,686] Trial 150 finished with value: 0.6805943846702576 and parameters: {'w1': 0.5334884546173588, 'w2': 0.9767644074577795, 'w3': 0.04705200363633957, 'w4': 0.1384722583111247, 'w5': 0.291028978750859, 'w6': 0.10232203349147836, 'w7': 0.08537383658882373}. Best is trial 137 with value: 0.6806957125663757.\n"
     ]
    },
    {
     "name": "stdout",
     "output_type": "stream",
     "text": [
      "{'w1': 0.5334884546173588, 'w2': 0.9767644074577795, 'w3': 0.04705200363633957, 'w4': 0.1384722583111247, 'w5': 0.291028978750859, 'w6': 0.10232203349147836, 'w7': 0.08537383658882373, 'threshold': 0.35}\n"
     ]
    },
    {
     "name": "stderr",
     "output_type": "stream",
     "text": [
      "[I 2023-06-14 21:29:31,728] Trial 151 finished with value: 0.6806659698486328 and parameters: {'w1': 0.5659055804676704, 'w2': 0.9647714588661536, 'w3': 0.02373958628965951, 'w4': 0.10889191541204885, 'w5': 0.3466150782712122, 'w6': 0.051355581127895, 'w7': 0.13072329012128162}. Best is trial 137 with value: 0.6806957125663757.\n"
     ]
    },
    {
     "name": "stdout",
     "output_type": "stream",
     "text": [
      "{'w1': 0.5659055804676704, 'w2': 0.9647714588661536, 'w3': 0.02373958628965951, 'w4': 0.10889191541204885, 'w5': 0.3466150782712122, 'w6': 0.051355581127895, 'w7': 0.13072329012128162, 'threshold': 0.31}\n"
     ]
    },
    {
     "name": "stderr",
     "output_type": "stream",
     "text": [
      "[I 2023-06-14 21:29:32,768] Trial 152 finished with value: 0.680638313293457 and parameters: {'w1': 0.5652394563780271, 'w2': 0.9651969555152432, 'w3': 0.02421319927315536, 'w4': 0.11709568148819036, 'w5': 0.3572123054381784, 'w6': 0.05672135723463768, 'w7': 0.13972697198685108}. Best is trial 137 with value: 0.6806957125663757.\n"
     ]
    },
    {
     "name": "stdout",
     "output_type": "stream",
     "text": [
      "{'w1': 0.5652394563780271, 'w2': 0.9651969555152432, 'w3': 0.02421319927315536, 'w4': 0.11709568148819036, 'w5': 0.3572123054381784, 'w6': 0.05672135723463768, 'w7': 0.13972697198685108, 'threshold': 0.31}\n"
     ]
    },
    {
     "name": "stderr",
     "output_type": "stream",
     "text": [
      "[I 2023-06-14 21:29:33,809] Trial 153 finished with value: 0.680578887462616 and parameters: {'w1': 0.5371961286003708, 'w2': 0.9802123601626033, 'w3': 0.06153639172099743, 'w4': 0.10220638246198006, 'w5': 0.3280998056995601, 'w6': 0.07776954158447122, 'w7': 0.07148269726970496}. Best is trial 137 with value: 0.6806957125663757.\n"
     ]
    },
    {
     "name": "stdout",
     "output_type": "stream",
     "text": [
      "{'w1': 0.5371961286003708, 'w2': 0.9802123601626033, 'w3': 0.06153639172099743, 'w4': 0.10220638246198006, 'w5': 0.3280998056995601, 'w6': 0.07776954158447122, 'w7': 0.07148269726970496, 'threshold': 0.3}\n"
     ]
    },
    {
     "name": "stderr",
     "output_type": "stream",
     "text": [
      "[I 2023-06-14 21:29:34,850] Trial 154 finished with value: 0.6805664300918579 and parameters: {'w1': 0.5621246719004669, 'w2': 0.9606742962312985, 'w3': 0.017959782838664874, 'w4': 0.14256229939608425, 'w5': 0.38547652786489844, 'w6': 0.055803077231994486, 'w7': 0.11854487136752069}. Best is trial 137 with value: 0.6806957125663757.\n"
     ]
    },
    {
     "name": "stdout",
     "output_type": "stream",
     "text": [
      "{'w1': 0.5621246719004669, 'w2': 0.9606742962312985, 'w3': 0.017959782838664874, 'w4': 0.14256229939608425, 'w5': 0.38547652786489844, 'w6': 0.055803077231994486, 'w7': 0.11854487136752069, 'threshold': 0.29}\n"
     ]
    },
    {
     "name": "stderr",
     "output_type": "stream",
     "text": [
      "[I 2023-06-14 21:29:35,892] Trial 155 finished with value: 0.6805459260940552 and parameters: {'w1': 0.5029068624955835, 'w2': 0.985017794315583, 'w3': 0.03924354063860752, 'w4': 0.11571768183084066, 'w5': 0.30525529164071713, 'w6': 0.11659361684670799, 'w7': 0.1437187090639034}. Best is trial 137 with value: 0.6806957125663757.\n"
     ]
    },
    {
     "name": "stdout",
     "output_type": "stream",
     "text": [
      "{'w1': 0.5029068624955835, 'w2': 0.985017794315583, 'w3': 0.03924354063860752, 'w4': 0.11571768183084066, 'w5': 0.30525529164071713, 'w6': 0.11659361684670799, 'w7': 0.1437187090639034, 'threshold': 0.31}\n"
     ]
    },
    {
     "name": "stderr",
     "output_type": "stream",
     "text": [
      "[I 2023-06-14 21:29:36,933] Trial 156 finished with value: 0.6806544661521912 and parameters: {'w1': 0.5754004248665175, 'w2': 0.9985629435523256, 'w3': 0.0011856234153522008, 'w4': 0.08744959159073964, 'w5': 0.3433809432511141, 'w6': 0.07750783683473905, 'w7': 0.12670804171324548}. Best is trial 137 with value: 0.6806957125663757.\n"
     ]
    },
    {
     "name": "stdout",
     "output_type": "stream",
     "text": [
      "{'w1': 0.5754004248665175, 'w2': 0.9985629435523256, 'w3': 0.0011856234153522008, 'w4': 0.08744959159073964, 'w5': 0.3433809432511141, 'w6': 0.07750783683473905, 'w7': 0.12670804171324548, 'threshold': 0.31}\n"
     ]
    },
    {
     "name": "stderr",
     "output_type": "stream",
     "text": [
      "[I 2023-06-14 21:29:37,974] Trial 157 finished with value: 0.6805578470230103 and parameters: {'w1': 0.5703622897297426, 'w2': 0.9998942187675345, 'w3': 0.00021887396154484165, 'w4': 0.08141441764547538, 'w5': 0.3426216218347082, 'w6': 0.15700089026619576, 'w7': 0.11474805656083567}. Best is trial 137 with value: 0.6806957125663757.\n"
     ]
    },
    {
     "name": "stdout",
     "output_type": "stream",
     "text": [
      "{'w1': 0.5703622897297426, 'w2': 0.9998942187675345, 'w3': 0.00021887396154484165, 'w4': 0.08141441764547538, 'w5': 0.3426216218347082, 'w6': 0.15700089026619576, 'w7': 0.11474805656083567, 'threshold': 0.3}\n"
     ]
    },
    {
     "name": "stderr",
     "output_type": "stream",
     "text": [
      "[I 2023-06-14 21:29:39,016] Trial 158 finished with value: 0.6806061267852783 and parameters: {'w1': 0.5233343682559632, 'w2': 0.9680248229598141, 'w3': 0.057447097641004204, 'w4': 0.04542473817627417, 'w5': 0.38291381831955895, 'w6': 0.09511266312469845, 'w7': 0.0752994101954185}. Best is trial 137 with value: 0.6806957125663757.\n"
     ]
    },
    {
     "name": "stdout",
     "output_type": "stream",
     "text": [
      "{'w1': 0.5233343682559632, 'w2': 0.9680248229598141, 'w3': 0.057447097641004204, 'w4': 0.04542473817627417, 'w5': 0.38291381831955895, 'w6': 0.09511266312469845, 'w7': 0.0752994101954185, 'threshold': 0.35}\n"
     ]
    },
    {
     "name": "stderr",
     "output_type": "stream",
     "text": [
      "[I 2023-06-14 21:29:40,058] Trial 159 finished with value: 0.68062424659729 and parameters: {'w1': 0.4863027558589036, 'w2': 0.98231524369328, 'w3': 0.02619182542011126, 'w4': 0.14855676635014525, 'w5': 0.3582898216192397, 'w6': 0.0771602474779772, 'w7': 0.13360748772059533}. Best is trial 137 with value: 0.6806957125663757.\n"
     ]
    },
    {
     "name": "stdout",
     "output_type": "stream",
     "text": [
      "{'w1': 0.4863027558589036, 'w2': 0.98231524369328, 'w3': 0.02619182542011126, 'w4': 0.14855676635014525, 'w5': 0.3582898216192397, 'w6': 0.0771602474779772, 'w7': 0.13360748772059533, 'threshold': 0.32}\n"
     ]
    },
    {
     "name": "stderr",
     "output_type": "stream",
     "text": [
      "[I 2023-06-14 21:29:41,099] Trial 160 finished with value: 0.6803971529006958 and parameters: {'w1': 0.5818398640762165, 'w2': 0.960506551045826, 'w3': 0.0406187705173068, 'w4': 0.12272311448912597, 'w5': 0.31485767869655806, 'w6': 0.342119913988572, 'w7': 0.10146903117076167}. Best is trial 137 with value: 0.6806957125663757.\n"
     ]
    },
    {
     "name": "stdout",
     "output_type": "stream",
     "text": [
      "{'w1': 0.5818398640762165, 'w2': 0.960506551045826, 'w3': 0.0406187705173068, 'w4': 0.12272311448912597, 'w5': 0.31485767869655806, 'w6': 0.342119913988572, 'w7': 0.10146903117076167, 'threshold': 0.37}\n"
     ]
    },
    {
     "name": "stderr",
     "output_type": "stream",
     "text": [
      "[I 2023-06-14 21:29:42,142] Trial 161 finished with value: 0.6806826591491699 and parameters: {'w1': 0.5442294736020119, 'w2': 0.9999684722781264, 'w3': 0.011106631307093193, 'w4': 0.14917090848692321, 'w5': 0.29197317140038875, 'w6': 0.04697956340639643, 'w7': 0.1521981987774361}. Best is trial 137 with value: 0.6806957125663757.\n"
     ]
    },
    {
     "name": "stdout",
     "output_type": "stream",
     "text": [
      "{'w1': 0.5442294736020119, 'w2': 0.9999684722781264, 'w3': 0.011106631307093193, 'w4': 0.14917090848692321, 'w5': 0.29197317140038875, 'w6': 0.04697956340639643, 'w7': 0.1521981987774361, 'threshold': 0.32}\n"
     ]
    },
    {
     "name": "stderr",
     "output_type": "stream",
     "text": [
      "[I 2023-06-14 21:29:43,184] Trial 162 finished with value: 0.6806681156158447 and parameters: {'w1': 0.537290249296551, 'w2': 0.9998946419250462, 'w3': 0.012584240456872125, 'w4': 0.14565106805188238, 'w5': 0.3277348919282612, 'w6': 0.04890351811218944, 'w7': 0.14362351896107886}. Best is trial 137 with value: 0.6806957125663757.\n"
     ]
    },
    {
     "name": "stdout",
     "output_type": "stream",
     "text": [
      "{'w1': 0.537290249296551, 'w2': 0.9998946419250462, 'w3': 0.012584240456872125, 'w4': 0.14565106805188238, 'w5': 0.3277348919282612, 'w6': 0.04890351811218944, 'w7': 0.14362351896107886, 'threshold': 0.33}\n"
     ]
    },
    {
     "name": "stderr",
     "output_type": "stream",
     "text": [
      "[I 2023-06-14 21:29:44,227] Trial 163 finished with value: 0.6806392073631287 and parameters: {'w1': 0.530032537129073, 'w2': 0.9956533302730585, 'w3': 0.002611286520245816, 'w4': 0.14719645971691053, 'w5': 0.2933060643106035, 'w6': 0.04365526235191644, 'w7': 0.12183299782816077}. Best is trial 137 with value: 0.6806957125663757.\n"
     ]
    },
    {
     "name": "stdout",
     "output_type": "stream",
     "text": [
      "{'w1': 0.530032537129073, 'w2': 0.9956533302730585, 'w3': 0.002611286520245816, 'w4': 0.14719645971691053, 'w5': 0.2933060643106035, 'w6': 0.04365526235191644, 'w7': 0.12183299782816077, 'threshold': 0.31}\n"
     ]
    },
    {
     "name": "stderr",
     "output_type": "stream",
     "text": [
      "[I 2023-06-14 21:29:45,269] Trial 164 finished with value: 0.6806060671806335 and parameters: {'w1': 0.5449438599657795, 'w2': 0.9996071395743961, 'w3': 0.06500522414441091, 'w4': 0.0948839580031475, 'w5': 0.3383480584488963, 'w6': 0.04986687813874979, 'w7': 0.09776835544820418}. Best is trial 137 with value: 0.6806957125663757.\n"
     ]
    },
    {
     "name": "stdout",
     "output_type": "stream",
     "text": [
      "{'w1': 0.5449438599657795, 'w2': 0.9996071395743961, 'w3': 0.06500522414441091, 'w4': 0.0948839580031475, 'w5': 0.3383480584488963, 'w6': 0.04986687813874979, 'w7': 0.09776835544820418, 'threshold': 0.35}\n"
     ]
    },
    {
     "name": "stderr",
     "output_type": "stream",
     "text": [
      "[I 2023-06-14 21:29:46,311] Trial 165 finished with value: 0.6806079745292664 and parameters: {'w1': 0.5111163088929708, 'w2': 0.9597701486059537, 'w3': 0.04529339781630044, 'w4': 0.10933511585030095, 'w5': 0.2721974938114868, 'w6': 0.08749766401576825, 'w7': 0.1355707050529689}. Best is trial 137 with value: 0.6806957125663757.\n"
     ]
    },
    {
     "name": "stdout",
     "output_type": "stream",
     "text": [
      "{'w1': 0.5111163088929708, 'w2': 0.9597701486059537, 'w3': 0.04529339781630044, 'w4': 0.10933511585030095, 'w5': 0.2721974938114868, 'w6': 0.08749766401576825, 'w7': 0.1355707050529689, 'threshold': 0.31}\n"
     ]
    },
    {
     "name": "stderr",
     "output_type": "stream",
     "text": [
      "[I 2023-06-14 21:29:47,353] Trial 166 finished with value: 0.6806471347808838 and parameters: {'w1': 0.5788195098232675, 'w2': 0.9615436621634502, 'w3': 0.02242626084821353, 'w4': 0.07418894849759902, 'w5': 0.29547957179180284, 'w6': 0.03843228836621006, 'w7': 0.08382861071551895}. Best is trial 137 with value: 0.6806957125663757.\n"
     ]
    },
    {
     "name": "stdout",
     "output_type": "stream",
     "text": [
      "{'w1': 0.5788195098232675, 'w2': 0.9615436621634502, 'w3': 0.02242626084821353, 'w4': 0.07418894849759902, 'w5': 0.29547957179180284, 'w6': 0.03843228836621006, 'w7': 0.08382861071551895, 'threshold': 0.32}\n"
     ]
    },
    {
     "name": "stderr",
     "output_type": "stream",
     "text": [
      "[I 2023-06-14 21:29:48,395] Trial 167 finished with value: 0.6804589033126831 and parameters: {'w1': 0.5793945458661769, 'w2': 0.9550503731838381, 'w3': 0.06682720174481097, 'w4': 0.07702197006044291, 'w5': 0.28487537285178743, 'w6': 0.24241490018668682, 'w7': 0.06569669709555032}. Best is trial 137 with value: 0.6806957125663757.\n"
     ]
    },
    {
     "name": "stdout",
     "output_type": "stream",
     "text": [
      "{'w1': 0.5793945458661769, 'w2': 0.9550503731838381, 'w3': 0.06682720174481097, 'w4': 0.07702197006044291, 'w5': 0.28487537285178743, 'w6': 0.24241490018668682, 'w7': 0.06569669709555032, 'threshold': 0.31}\n"
     ]
    },
    {
     "name": "stderr",
     "output_type": "stream",
     "text": [
      "[I 2023-06-14 21:29:49,437] Trial 168 finished with value: 0.6800923943519592 and parameters: {'w1': 0.6009394895186507, 'w2': 0.9998632015373515, 'w3': 0.007584250318355686, 'w4': 0.08944709079107568, 'w5': 0.3135823687892763, 'w6': 0.5980589603608331, 'w7': 0.08523793025428858}. Best is trial 137 with value: 0.6806957125663757.\n"
     ]
    },
    {
     "name": "stdout",
     "output_type": "stream",
     "text": [
      "{'w1': 0.6009394895186507, 'w2': 0.9998632015373515, 'w3': 0.007584250318355686, 'w4': 0.08944709079107568, 'w5': 0.3135823687892763, 'w6': 0.5980589603608331, 'w7': 0.08523793025428858, 'threshold': 0.29}\n"
     ]
    },
    {
     "name": "stderr",
     "output_type": "stream",
     "text": [
      "[I 2023-06-14 21:29:50,480] Trial 169 finished with value: 0.6804990768432617 and parameters: {'w1': 0.5675193640142078, 'w2': 0.9597079836387638, 'w3': 0.050575653649789575, 'w4': 0.05600774980361309, 'w5': 0.40953378168109084, 'w6': 0.13186149545196493, 'w7': 0.04270608331639533}. Best is trial 137 with value: 0.6806957125663757.\n"
     ]
    },
    {
     "name": "stdout",
     "output_type": "stream",
     "text": [
      "{'w1': 0.5675193640142078, 'w2': 0.9597079836387638, 'w3': 0.050575653649789575, 'w4': 0.05600774980361309, 'w5': 0.40953378168109084, 'w6': 0.13186149545196493, 'w7': 0.04270608331639533, 'threshold': 0.29}\n"
     ]
    },
    {
     "name": "stderr",
     "output_type": "stream",
     "text": [
      "[I 2023-06-14 21:29:51,522] Trial 170 finished with value: 0.6806779503822327 and parameters: {'w1': 0.592976899207209, 'w2': 0.9720772641628342, 'w3': 0.018495147652017263, 'w4': 0.0269570963249897, 'w5': 0.29879756316804673, 'w6': 0.03924010185666299, 'w7': 0.10659494455207319}. Best is trial 137 with value: 0.6806957125663757.\n"
     ]
    },
    {
     "name": "stdout",
     "output_type": "stream",
     "text": [
      "{'w1': 0.592976899207209, 'w2': 0.9720772641628342, 'w3': 0.018495147652017263, 'w4': 0.0269570963249897, 'w5': 0.29879756316804673, 'w6': 0.03924010185666299, 'w7': 0.10659494455207319, 'threshold': 0.31}\n"
     ]
    },
    {
     "name": "stderr",
     "output_type": "stream",
     "text": [
      "[I 2023-06-14 21:29:52,564] Trial 171 finished with value: 0.6806401014328003 and parameters: {'w1': 0.5934549416485428, 'w2': 0.9772568321890532, 'w3': 0.001243093397121437, 'w4': 0.017281425650033086, 'w5': 0.2956555089532808, 'w6': 0.03359442253402965, 'w7': 0.11192343249033854}. Best is trial 137 with value: 0.6806957125663757.\n"
     ]
    },
    {
     "name": "stdout",
     "output_type": "stream",
     "text": [
      "{'w1': 0.5934549416485428, 'w2': 0.9772568321890532, 'w3': 0.001243093397121437, 'w4': 0.017281425650033086, 'w5': 0.2956555089532808, 'w6': 0.03359442253402965, 'w7': 0.11192343249033854, 'threshold': 0.32}\n"
     ]
    },
    {
     "name": "stderr",
     "output_type": "stream",
     "text": [
      "[I 2023-06-14 21:29:53,607] Trial 172 finished with value: 0.6803975701332092 and parameters: {'w1': 0.5247351950432511, 'w2': 0.916904698218396, 'w3': 0.02552916661146335, 'w4': 0.10276269925004505, 'w5': 0.3528933996446518, 'w6': 0.29656681509819416, 'w7': 0.08881965807859614}. Best is trial 137 with value: 0.6806957125663757.\n"
     ]
    },
    {
     "name": "stdout",
     "output_type": "stream",
     "text": [
      "{'w1': 0.5247351950432511, 'w2': 0.916904698218396, 'w3': 0.02552916661146335, 'w4': 0.10276269925004505, 'w5': 0.3528933996446518, 'w6': 0.29656681509819416, 'w7': 0.08881965807859614, 'threshold': 0.35}\n"
     ]
    },
    {
     "name": "stderr",
     "output_type": "stream",
     "text": [
      "[I 2023-06-14 21:29:54,650] Trial 173 finished with value: 0.68044513463974 and parameters: {'w1': 0.5561218389231625, 'w2': 0.9603736054890224, 'w3': 0.04189391455707824, 'w4': 0.15304703934128214, 'w5': 0.2747803306251256, 'w6': 0.2081870605319971, 'w7': 0.15194256905614897}. Best is trial 137 with value: 0.6806957125663757.\n"
     ]
    },
    {
     "name": "stdout",
     "output_type": "stream",
     "text": [
      "{'w1': 0.5561218389231625, 'w2': 0.9603736054890224, 'w3': 0.04189391455707824, 'w4': 0.15304703934128214, 'w5': 0.2747803306251256, 'w6': 0.2081870605319971, 'w7': 0.15194256905614897, 'threshold': 0.28}\n"
     ]
    },
    {
     "name": "stderr",
     "output_type": "stream",
     "text": [
      "[I 2023-06-14 21:29:55,693] Trial 174 finished with value: 0.6806209683418274 and parameters: {'w1': 0.4875264738725265, 'w2': 0.9796194235680726, 'w3': 0.06790585892955378, 'w4': 0.1367736126082755, 'w5': 0.3022734209653147, 'w6': 0.068359302555939, 'w7': 0.12513724667762904}. Best is trial 137 with value: 0.6806957125663757.\n"
     ]
    },
    {
     "name": "stdout",
     "output_type": "stream",
     "text": [
      "{'w1': 0.4875264738725265, 'w2': 0.9796194235680726, 'w3': 0.06790585892955378, 'w4': 0.1367736126082755, 'w5': 0.3022734209653147, 'w6': 0.068359302555939, 'w7': 0.12513724667762904, 'threshold': 0.31}\n"
     ]
    },
    {
     "name": "stderr",
     "output_type": "stream",
     "text": [
      "[I 2023-06-14 21:29:56,735] Trial 175 finished with value: 0.6805898547172546 and parameters: {'w1': 0.6140599955410597, 'w2': 0.9493483195829014, 'w3': 0.014865620146332265, 'w4': 0.08292585767059026, 'w5': 0.37618404724575566, 'w6': 0.03749632363930147, 'w7': 0.10671992139299649}. Best is trial 137 with value: 0.6806957125663757.\n"
     ]
    },
    {
     "name": "stdout",
     "output_type": "stream",
     "text": [
      "{'w1': 0.6140599955410597, 'w2': 0.9493483195829014, 'w3': 0.014865620146332265, 'w4': 0.08292585767059026, 'w5': 0.37618404724575566, 'w6': 0.03749632363930147, 'w7': 0.10671992139299649, 'threshold': 0.28}\n"
     ]
    },
    {
     "name": "stderr",
     "output_type": "stream",
     "text": [
      "[I 2023-06-14 21:29:57,778] Trial 176 finished with value: 0.6806701421737671 and parameters: {'w1': 0.564215238612658, 'w2': 0.9197549616204468, 'w3': 0.03788796909325898, 'w4': 0.11366169898884887, 'w5': 0.32478044958173835, 'w6': 0.02695247411769691, 'w7': 0.15564825021897744}. Best is trial 137 with value: 0.6806957125663757.\n"
     ]
    },
    {
     "name": "stdout",
     "output_type": "stream",
     "text": [
      "{'w1': 0.564215238612658, 'w2': 0.9197549616204468, 'w3': 0.03788796909325898, 'w4': 0.11366169898884887, 'w5': 0.32478044958173835, 'w6': 0.02695247411769691, 'w7': 0.15564825021897744, 'threshold': 0.29}\n"
     ]
    },
    {
     "name": "stderr",
     "output_type": "stream",
     "text": [
      "[I 2023-06-14 21:29:58,822] Trial 177 finished with value: 0.6806636452674866 and parameters: {'w1': 0.5047460317974555, 'w2': 0.9218472380129814, 'w3': 0.07731008370965303, 'w4': 0.11106669549815458, 'w5': 0.3240985455996714, 'w6': 0.02047761685055792, 'w7': 0.1784051568645582}. Best is trial 137 with value: 0.6806957125663757.\n"
     ]
    },
    {
     "name": "stdout",
     "output_type": "stream",
     "text": [
      "{'w1': 0.5047460317974555, 'w2': 0.9218472380129814, 'w3': 0.07731008370965303, 'w4': 0.11106669549815458, 'w5': 0.3240985455996714, 'w6': 0.02047761685055792, 'w7': 0.1784051568645582, 'threshold': 0.28}\n"
     ]
    },
    {
     "name": "stderr",
     "output_type": "stream",
     "text": [
      "[I 2023-06-14 21:29:59,865] Trial 178 finished with value: 0.6805940866470337 and parameters: {'w1': 0.5036806541946499, 'w2': 0.91565802409079, 'w3': 0.0761880233529636, 'w4': 0.11115361611097255, 'w5': 0.4307558744710142, 'w6': 0.022159424621689152, 'w7': 0.18097866354254843}. Best is trial 137 with value: 0.6806957125663757.\n"
     ]
    },
    {
     "name": "stdout",
     "output_type": "stream",
     "text": [
      "{'w1': 0.5036806541946499, 'w2': 0.91565802409079, 'w3': 0.0761880233529636, 'w4': 0.11115361611097255, 'w5': 0.4307558744710142, 'w6': 0.022159424621689152, 'w7': 0.18097866354254843, 'threshold': 0.32}\n"
     ]
    },
    {
     "name": "stderr",
     "output_type": "stream",
     "text": [
      "[I 2023-06-14 21:30:00,907] Trial 179 finished with value: 0.680189311504364 and parameters: {'w1': 0.5291017759035637, 'w2': 0.9237584657877191, 'w3': 0.055919571757046906, 'w4': 0.055676099951188315, 'w5': 0.32476007893384057, 'w6': 0.39070952671664916, 'w7': 0.16414399288288037}. Best is trial 137 with value: 0.6806957125663757.\n"
     ]
    },
    {
     "name": "stdout",
     "output_type": "stream",
     "text": [
      "{'w1': 0.5291017759035637, 'w2': 0.9237584657877191, 'w3': 0.055919571757046906, 'w4': 0.055676099951188315, 'w5': 0.32476007893384057, 'w6': 0.39070952671664916, 'w7': 0.16414399288288037, 'threshold': 0.32}\n"
     ]
    },
    {
     "name": "stderr",
     "output_type": "stream",
     "text": [
      "[I 2023-06-14 21:30:01,949] Trial 180 finished with value: 0.6806101202964783 and parameters: {'w1': 0.45815967875125146, 'w2': 0.9445541062154279, 'w3': 0.00010676004873379219, 'w4': 0.15554284677616725, 'w5': 0.3652491298367662, 'w6': 0.022222933248897903, 'w7': 0.19077999180195107}. Best is trial 137 with value: 0.6806957125663757.\n"
     ]
    },
    {
     "name": "stdout",
     "output_type": "stream",
     "text": [
      "{'w1': 0.45815967875125146, 'w2': 0.9445541062154279, 'w3': 0.00010676004873379219, 'w4': 0.15554284677616725, 'w5': 0.3652491298367662, 'w6': 0.022222933248897903, 'w7': 0.19077999180195107, 'threshold': 0.31}\n"
     ]
    },
    {
     "name": "stderr",
     "output_type": "stream",
     "text": [
      "[I 2023-06-14 21:30:02,992] Trial 181 finished with value: 0.6805999875068665 and parameters: {'w1': 0.5529905341217721, 'w2': 0.9810235486204631, 'w3': 0.035968568322274054, 'w4': 0.12368285516257123, 'w5': 0.32173033638661624, 'w6': 0.07334453479540605, 'w7': 0.15325206437677205}. Best is trial 137 with value: 0.6806957125663757.\n"
     ]
    },
    {
     "name": "stdout",
     "output_type": "stream",
     "text": [
      "{'w1': 0.5529905341217721, 'w2': 0.9810235486204631, 'w3': 0.035968568322274054, 'w4': 0.12368285516257123, 'w5': 0.32173033638661624, 'w6': 0.07334453479540605, 'w7': 0.15325206437677205, 'threshold': 0.3}\n"
     ]
    },
    {
     "name": "stderr",
     "output_type": "stream",
     "text": [
      "[I 2023-06-14 21:30:04,036] Trial 182 finished with value: 0.6806319952011108 and parameters: {'w1': 0.5826798453555663, 'w2': 0.9857240865848156, 'w3': 0.04734642968054507, 'w4': 0.09705927792104843, 'w5': 0.34993354812260735, 'w6': 0.046361673921884866, 'w7': 0.12962004257300636}. Best is trial 137 with value: 0.6806957125663757.\n"
     ]
    },
    {
     "name": "stdout",
     "output_type": "stream",
     "text": [
      "{'w1': 0.5826798453555663, 'w2': 0.9857240865848156, 'w3': 0.04734642968054507, 'w4': 0.09705927792104843, 'w5': 0.34993354812260735, 'w6': 0.046361673921884866, 'w7': 0.12962004257300636, 'threshold': 0.31}\n"
     ]
    },
    {
     "name": "stderr",
     "output_type": "stream",
     "text": [
      "[I 2023-06-14 21:30:05,078] Trial 183 finished with value: 0.6800644397735596 and parameters: {'w1': 0.5649981491084219, 'w2': 0.952260927845473, 'w3': 0.0730209546851898, 'w4': 0.13752005256280686, 'w5': 0.31167723270446923, 'w6': 0.46063180303025913, 'w7': 0.17478849656488216}. Best is trial 137 with value: 0.6806957125663757.\n"
     ]
    },
    {
     "name": "stdout",
     "output_type": "stream",
     "text": [
      "{'w1': 0.5649981491084219, 'w2': 0.952260927845473, 'w3': 0.0730209546851898, 'w4': 0.13752005256280686, 'w5': 0.31167723270446923, 'w6': 0.46063180303025913, 'w7': 0.17478849656488216, 'threshold': 0.35}\n"
     ]
    },
    {
     "name": "stderr",
     "output_type": "stream",
     "text": [
      "[I 2023-06-14 21:30:06,121] Trial 184 finished with value: 0.6806257367134094 and parameters: {'w1': 0.6061191733914081, 'w2': 0.9270508163283583, 'w3': 0.020009799605250903, 'w4': 0.11556204615327907, 'w5': 0.27327940205317947, 'w6': 0.024673691476705877, 'w7': 0.1492624634636768}. Best is trial 137 with value: 0.6806957125663757.\n"
     ]
    },
    {
     "name": "stdout",
     "output_type": "stream",
     "text": [
      "{'w1': 0.6061191733914081, 'w2': 0.9270508163283583, 'w3': 0.020009799605250903, 'w4': 0.11556204615327907, 'w5': 0.27327940205317947, 'w6': 0.024673691476705877, 'w7': 0.1492624634636768, 'threshold': 0.3}\n"
     ]
    },
    {
     "name": "stderr",
     "output_type": "stream",
     "text": [
      "[I 2023-06-14 21:30:07,165] Trial 185 finished with value: 0.680605947971344 and parameters: {'w1': 0.5192635433802802, 'w2': 0.9998573518721016, 'w3': 0.03871129042101085, 'w4': 0.1459819392614429, 'w5': 0.33728360026024906, 'w6': 0.09133150573935445, 'w7': 0.11759623283084039}. Best is trial 137 with value: 0.6806957125663757.\n"
     ]
    },
    {
     "name": "stdout",
     "output_type": "stream",
     "text": [
      "{'w1': 0.5192635433802802, 'w2': 0.9998573518721016, 'w3': 0.03871129042101085, 'w4': 0.1459819392614429, 'w5': 0.33728360026024906, 'w6': 0.09133150573935445, 'w7': 0.11759623283084039, 'threshold': 0.32}\n"
     ]
    },
    {
     "name": "stderr",
     "output_type": "stream",
     "text": [
      "[I 2023-06-14 21:30:08,208] Trial 186 finished with value: 0.6806372404098511 and parameters: {'w1': 0.5396571450209344, 'w2': 0.9719523192484624, 'w3': 0.05917098270030505, 'w4': 0.19184251397382387, 'w5': 0.28283275858307166, 'w6': 0.06311880889877543, 'w7': 0.15549976471943225}. Best is trial 137 with value: 0.6806957125663757.\n"
     ]
    },
    {
     "name": "stdout",
     "output_type": "stream",
     "text": [
      "{'w1': 0.5396571450209344, 'w2': 0.9719523192484624, 'w3': 0.05917098270030505, 'w4': 0.19184251397382387, 'w5': 0.28283275858307166, 'w6': 0.06311880889877543, 'w7': 0.15549976471943225, 'threshold': 0.28}\n"
     ]
    },
    {
     "name": "stderr",
     "output_type": "stream",
     "text": [
      "[I 2023-06-14 21:30:09,251] Trial 187 finished with value: 0.6806198954582214 and parameters: {'w1': 0.5920908185339716, 'w2': 0.9360741726051596, 'w3': 3.629599693962676e-05, 'w4': 0.16111695662889663, 'w5': 0.39248677113049313, 'w6': 0.0419922639611455, 'w7': 0.19479451338187448}. Best is trial 137 with value: 0.6806957125663757.\n"
     ]
    },
    {
     "name": "stdout",
     "output_type": "stream",
     "text": [
      "{'w1': 0.5920908185339716, 'w2': 0.9360741726051596, 'w3': 3.629599693962676e-05, 'w4': 0.16111695662889663, 'w5': 0.39248677113049313, 'w6': 0.0419922639611455, 'w7': 0.19479451338187448, 'threshold': 0.29}\n"
     ]
    },
    {
     "name": "stderr",
     "output_type": "stream",
     "text": [
      "[I 2023-06-14 21:30:10,294] Trial 188 finished with value: 0.6805925965309143 and parameters: {'w1': 0.5668267900617721, 'w2': 0.9109335956043504, 'w3': 0.024030059255805702, 'w4': 0.09179980525020352, 'w5': 0.36610197241916415, 'w6': 0.10825488574697308, 'w7': 0.1340035119748233}. Best is trial 137 with value: 0.6806957125663757.\n"
     ]
    },
    {
     "name": "stdout",
     "output_type": "stream",
     "text": [
      "{'w1': 0.5668267900617721, 'w2': 0.9109335956043504, 'w3': 0.024030059255805702, 'w4': 0.09179980525020352, 'w5': 0.36610197241916415, 'w6': 0.10825488574697308, 'w7': 0.1340035119748233, 'threshold': 0.29}\n"
     ]
    },
    {
     "name": "stderr",
     "output_type": "stream",
     "text": [
      "[I 2023-06-14 21:30:11,339] Trial 189 finished with value: 0.6806735396385193 and parameters: {'w1': 0.5438754601833626, 'w2': 0.9625112805080779, 'w3': 0.08080799492305255, 'w4': 0.12394381412053349, 'w5': 0.2607912791037047, 'w6': 0.02506282672943757, 'w7': 0.1698137455767995}. Best is trial 137 with value: 0.6806957125663757.\n"
     ]
    },
    {
     "name": "stdout",
     "output_type": "stream",
     "text": [
      "{'w1': 0.5438754601833626, 'w2': 0.9625112805080779, 'w3': 0.08080799492305255, 'w4': 0.12394381412053349, 'w5': 0.2607912791037047, 'w6': 0.02506282672943757, 'w7': 0.1698137455767995, 'threshold': 0.28}\n"
     ]
    },
    {
     "name": "stderr",
     "output_type": "stream",
     "text": [
      "[I 2023-06-14 21:30:12,382] Trial 190 finished with value: 0.6806820631027222 and parameters: {'w1': 0.5111442104775575, 'w2': 0.9488076460519332, 'w3': 0.0750374503053623, 'w4': 0.18919884514172647, 'w5': 0.3028140288081929, 'w6': 0.021808448735901306, 'w7': 0.17671803055541588}. Best is trial 137 with value: 0.6806957125663757.\n"
     ]
    },
    {
     "name": "stdout",
     "output_type": "stream",
     "text": [
      "{'w1': 0.5111442104775575, 'w2': 0.9488076460519332, 'w3': 0.0750374503053623, 'w4': 0.18919884514172647, 'w5': 0.3028140288081929, 'w6': 0.021808448735901306, 'w7': 0.17671803055541588, 'threshold': 0.31}\n"
     ]
    },
    {
     "name": "stderr",
     "output_type": "stream",
     "text": [
      "[I 2023-06-14 21:30:13,426] Trial 191 finished with value: 0.6806551814079285 and parameters: {'w1': 0.5085974690892359, 'w2': 0.9517029982892293, 'w3': 0.08452500758077737, 'w4': 0.18293186355599883, 'w5': 0.25875434079707466, 'w6': 0.020564653342372667, 'w7': 0.1753781070068716}. Best is trial 137 with value: 0.6806957125663757.\n"
     ]
    },
    {
     "name": "stdout",
     "output_type": "stream",
     "text": [
      "{'w1': 0.5085974690892359, 'w2': 0.9517029982892293, 'w3': 0.08452500758077737, 'w4': 0.18293186355599883, 'w5': 0.25875434079707466, 'w6': 0.020564653342372667, 'w7': 0.1753781070068716, 'threshold': 0.3}\n"
     ]
    },
    {
     "name": "stderr",
     "output_type": "stream",
     "text": [
      "[I 2023-06-14 21:30:14,470] Trial 192 finished with value: 0.6806595325469971 and parameters: {'w1': 0.4968151367529299, 'w2': 0.9469538122636638, 'w3': 0.08855166439097942, 'w4': 0.17643029409945635, 'w5': 0.25928441876167735, 'w6': 0.029800940694185783, 'w7': 0.17473632232445377}. Best is trial 137 with value: 0.6806957125663757.\n"
     ]
    },
    {
     "name": "stdout",
     "output_type": "stream",
     "text": [
      "{'w1': 0.4968151367529299, 'w2': 0.9469538122636638, 'w3': 0.08855166439097942, 'w4': 0.17643029409945635, 'w5': 0.25928441876167735, 'w6': 0.029800940694185783, 'w7': 0.17473632232445377, 'threshold': 0.3}\n"
     ]
    },
    {
     "name": "stderr",
     "output_type": "stream",
     "text": [
      "[I 2023-06-14 21:30:15,513] Trial 193 finished with value: 0.6806972622871399 and parameters: {'w1': 0.5016568180666015, 'w2': 0.9490685129077371, 'w3': 0.08824797115920968, 'w4': 0.19047611364266206, 'w5': 0.2539013118418372, 'w6': 0.02428626381007551, 'w7': 0.16594893020410878}. Best is trial 193 with value: 0.6806972622871399.\n"
     ]
    },
    {
     "name": "stdout",
     "output_type": "stream",
     "text": [
      "{'w1': 0.5016568180666015, 'w2': 0.9490685129077371, 'w3': 0.08824797115920968, 'w4': 0.19047611364266206, 'w5': 0.2539013118418372, 'w6': 0.02428626381007551, 'w7': 0.16594893020410878, 'threshold': 0.31}\n"
     ]
    },
    {
     "name": "stderr",
     "output_type": "stream",
     "text": [
      "[I 2023-06-14 21:30:16,557] Trial 194 finished with value: 0.6806427836418152 and parameters: {'w1': 0.4981284385257132, 'w2': 0.9486877207452947, 'w3': 0.08765644067981061, 'w4': 0.18432955817686358, 'w5': 0.2610542367650979, 'w6': 0.019678201590578794, 'w7': 0.17414615734389433}. Best is trial 193 with value: 0.6806972622871399.\n"
     ]
    },
    {
     "name": "stdout",
     "output_type": "stream",
     "text": [
      "{'w1': 0.4981284385257132, 'w2': 0.9486877207452947, 'w3': 0.08765644067981061, 'w4': 0.18432955817686358, 'w5': 0.2610542367650979, 'w6': 0.019678201590578794, 'w7': 0.17414615734389433, 'threshold': 0.3}\n"
     ]
    },
    {
     "name": "stderr",
     "output_type": "stream",
     "text": [
      "[I 2023-06-14 21:30:17,601] Trial 195 finished with value: 0.6806616187095642 and parameters: {'w1': 0.47355024257870343, 'w2': 0.9254355910913098, 'w3': 0.07986742627881624, 'w4': 0.1832516344075611, 'w5': 0.25739297094505675, 'w6': 0.019846329902481794, 'w7': 0.18017028272636107}. Best is trial 193 with value: 0.6806972622871399.\n"
     ]
    },
    {
     "name": "stdout",
     "output_type": "stream",
     "text": [
      "{'w1': 0.47355024257870343, 'w2': 0.9254355910913098, 'w3': 0.07986742627881624, 'w4': 0.1832516344075611, 'w5': 0.25739297094505675, 'w6': 0.019846329902481794, 'w7': 0.18017028272636107, 'threshold': 0.28}\n"
     ]
    },
    {
     "name": "stderr",
     "output_type": "stream",
     "text": [
      "[I 2023-06-14 21:30:18,644] Trial 196 finished with value: 0.6806579232215881 and parameters: {'w1': 0.45906442726199526, 'w2': 0.9115440053358329, 'w3': 0.08363980266694074, 'w4': 0.1842433645649031, 'w5': 0.23938700529041285, 'w6': 0.019468249363637127, 'w7': 0.19148124134236663}. Best is trial 193 with value: 0.6806972622871399.\n"
     ]
    },
    {
     "name": "stdout",
     "output_type": "stream",
     "text": [
      "{'w1': 0.45906442726199526, 'w2': 0.9115440053358329, 'w3': 0.08363980266694074, 'w4': 0.1842433645649031, 'w5': 0.23938700529041285, 'w6': 0.019468249363637127, 'w7': 0.19148124134236663, 'threshold': 0.3}\n"
     ]
    },
    {
     "name": "stderr",
     "output_type": "stream",
     "text": [
      "[I 2023-06-14 21:30:19,687] Trial 197 finished with value: 0.6806694269180298 and parameters: {'w1': 0.4648924267617783, 'w2': 0.9090829519767258, 'w3': 0.10224825312405263, 'w4': 0.220146817455756, 'w5': 0.23774856252246346, 'w6': 0.021784112650130062, 'w7': 0.20533582636065276}. Best is trial 193 with value: 0.6806972622871399.\n"
     ]
    },
    {
     "name": "stdout",
     "output_type": "stream",
     "text": [
      "{'w1': 0.4648924267617783, 'w2': 0.9090829519767258, 'w3': 0.10224825312405263, 'w4': 0.220146817455756, 'w5': 0.23774856252246346, 'w6': 0.021784112650130062, 'w7': 0.20533582636065276, 'threshold': 0.29}\n"
     ]
    },
    {
     "name": "stderr",
     "output_type": "stream",
     "text": [
      "[I 2023-06-14 21:30:20,731] Trial 198 finished with value: 0.6806648373603821 and parameters: {'w1': 0.4681141105260595, 'w2': 0.9137937083426468, 'w3': 0.11553699246580114, 'w4': 0.2083491282968443, 'w5': 0.23113176115386186, 'w6': 0.01981621426012006, 'w7': 0.20414636389010418}. Best is trial 193 with value: 0.6806972622871399.\n"
     ]
    },
    {
     "name": "stdout",
     "output_type": "stream",
     "text": [
      "{'w1': 0.4681141105260595, 'w2': 0.9137937083426468, 'w3': 0.11553699246580114, 'w4': 0.2083491282968443, 'w5': 0.23113176115386186, 'w6': 0.01981621426012006, 'w7': 0.20414636389010418, 'threshold': 0.3}\n"
     ]
    },
    {
     "name": "stderr",
     "output_type": "stream",
     "text": [
      "[I 2023-06-14 21:30:21,775] Trial 199 finished with value: 0.6807036399841309 and parameters: {'w1': 0.46288730179688986, 'w2': 0.9081086349060865, 'w3': 0.1126591475256115, 'w4': 0.20968664019412475, 'w5': 0.23173344541644603, 'w6': 0.021553943024826824, 'w7': 0.1859124681512031}. Best is trial 199 with value: 0.6807036399841309.\n"
     ]
    },
    {
     "name": "stdout",
     "output_type": "stream",
     "text": [
      "{'w1': 0.46288730179688986, 'w2': 0.9081086349060865, 'w3': 0.1126591475256115, 'w4': 0.20968664019412475, 'w5': 0.23173344541644603, 'w6': 0.021553943024826824, 'w7': 0.1859124681512031, 'threshold': 0.28}\n"
     ]
    },
    {
     "name": "stderr",
     "output_type": "stream",
     "text": [
      "[I 2023-06-14 21:30:22,818] Trial 200 finished with value: 0.6806705594062805 and parameters: {'w1': 0.45211518404685436, 'w2': 0.9235555762467343, 'w3': 0.10680188319968913, 'w4': 0.20616829510998158, 'w5': 0.23130645853897913, 'w6': 0.022707913304551325, 'w7': 0.19902366285158704}. Best is trial 199 with value: 0.6807036399841309.\n"
     ]
    },
    {
     "name": "stdout",
     "output_type": "stream",
     "text": [
      "{'w1': 0.45211518404685436, 'w2': 0.9235555762467343, 'w3': 0.10680188319968913, 'w4': 0.20616829510998158, 'w5': 0.23130645853897913, 'w6': 0.022707913304551325, 'w7': 0.19902366285158704, 'threshold': 0.28}\n"
     ]
    },
    {
     "name": "stderr",
     "output_type": "stream",
     "text": [
      "[I 2023-06-14 21:30:23,862] Trial 201 finished with value: 0.6806856393814087 and parameters: {'w1': 0.4707307195417234, 'w2': 0.9231949913752414, 'w3': 0.10537825864511909, 'w4': 0.21521792398972373, 'w5': 0.23125565297593853, 'w6': 0.02082437256439716, 'w7': 0.20126691822343182}. Best is trial 199 with value: 0.6807036399841309.\n"
     ]
    },
    {
     "name": "stdout",
     "output_type": "stream",
     "text": [
      "{'w1': 0.4707307195417234, 'w2': 0.9231949913752414, 'w3': 0.10537825864511909, 'w4': 0.21521792398972373, 'w5': 0.23125565297593853, 'w6': 0.02082437256439716, 'w7': 0.20126691822343182, 'threshold': 0.28}\n"
     ]
    },
    {
     "name": "stderr",
     "output_type": "stream",
     "text": [
      "[I 2023-06-14 21:30:24,906] Trial 202 finished with value: 0.6806939244270325 and parameters: {'w1': 0.46708575973941197, 'w2': 0.9095524003744085, 'w3': 0.12068266073545424, 'w4': 0.21842387097532456, 'w5': 0.22531307251931082, 'w6': 0.0199322328111171, 'w7': 0.20508168356637468}. Best is trial 199 with value: 0.6807036399841309.\n"
     ]
    },
    {
     "name": "stdout",
     "output_type": "stream",
     "text": [
      "{'w1': 0.46708575973941197, 'w2': 0.9095524003744085, 'w3': 0.12068266073545424, 'w4': 0.21842387097532456, 'w5': 0.22531307251931082, 'w6': 0.0199322328111171, 'w7': 0.20508168356637468, 'threshold': 0.29}\n"
     ]
    },
    {
     "name": "stderr",
     "output_type": "stream",
     "text": [
      "[I 2023-06-14 21:30:25,950] Trial 203 finished with value: 0.6806589365005493 and parameters: {'w1': 0.4289451614949268, 'w2': 0.9079738889794869, 'w3': 0.11551338050580867, 'w4': 0.2178682323048607, 'w5': 0.22913117844964312, 'w6': 0.016402434082580682, 'w7': 0.20608408518512034}. Best is trial 199 with value: 0.6807036399841309.\n"
     ]
    },
    {
     "name": "stdout",
     "output_type": "stream",
     "text": [
      "{'w1': 0.4289451614949268, 'w2': 0.9079738889794869, 'w3': 0.11551338050580867, 'w4': 0.2178682323048607, 'w5': 0.22913117844964312, 'w6': 0.016402434082580682, 'w7': 0.20608408518512034, 'threshold': 0.26}\n"
     ]
    },
    {
     "name": "stderr",
     "output_type": "stream",
     "text": [
      "[I 2023-06-14 21:30:26,993] Trial 204 finished with value: 0.6806785464286804 and parameters: {'w1': 0.451473550552273, 'w2': 0.906380686480828, 'w3': 0.11756689962159528, 'w4': 0.19063272624282282, 'w5': 0.21898883442970346, 'w6': 0.03904280256326277, 'w7': 0.1995673319394524}. Best is trial 199 with value: 0.6807036399841309.\n"
     ]
    },
    {
     "name": "stdout",
     "output_type": "stream",
     "text": [
      "{'w1': 0.451473550552273, 'w2': 0.906380686480828, 'w3': 0.11756689962159528, 'w4': 0.19063272624282282, 'w5': 0.21898883442970346, 'w6': 0.03904280256326277, 'w7': 0.1995673319394524, 'threshold': 0.28}\n"
     ]
    },
    {
     "name": "stderr",
     "output_type": "stream",
     "text": [
      "[I 2023-06-14 21:30:28,035] Trial 205 finished with value: 0.680357813835144 and parameters: {'w1': 0.4605505976332475, 'w2': 0.6045584110454201, 'w3': 0.10877759536999831, 'w4': 0.22790225335760914, 'w5': 0.2353781173970221, 'w6': 0.04018524193964297, 'w7': 0.20837526485860283}. Best is trial 199 with value: 0.6807036399841309.\n"
     ]
    },
    {
     "name": "stdout",
     "output_type": "stream",
     "text": [
      "{'w1': 0.4605505976332475, 'w2': 0.6045584110454201, 'w3': 0.10877759536999831, 'w4': 0.22790225335760914, 'w5': 0.2353781173970221, 'w6': 0.04018524193964297, 'w7': 0.20837526485860283, 'threshold': 0.28}\n"
     ]
    },
    {
     "name": "stderr",
     "output_type": "stream",
     "text": [
      "[I 2023-06-14 21:30:29,080] Trial 206 finished with value: 0.680669367313385 and parameters: {'w1': 0.44597292855038223, 'w2': 0.9053173463068805, 'w3': 0.11018719615716775, 'w4': 0.21113330652533008, 'w5': 0.21692304253478809, 'w6': 4.1176381842394916e-07, 'w7': 0.20472342831983079}. Best is trial 199 with value: 0.6807036399841309.\n"
     ]
    },
    {
     "name": "stdout",
     "output_type": "stream",
     "text": [
      "{'w1': 0.44597292855038223, 'w2': 0.9053173463068805, 'w3': 0.11018719615716775, 'w4': 0.21113330652533008, 'w5': 0.21692304253478809, 'w6': 4.1176381842394916e-07, 'w7': 0.20472342831983079, 'threshold': 0.29}\n"
     ]
    },
    {
     "name": "stderr",
     "output_type": "stream",
     "text": [
      "[I 2023-06-14 21:30:30,123] Trial 207 finished with value: 0.6797938346862793 and parameters: {'w1': 0.42213339965375946, 'w2': 0.36985508912212184, 'w3': 0.10222661195394163, 'w4': 0.20646766200067562, 'w5': 0.21692383783953947, 'w6': 0.0014188806966918001, 'w7': 0.20817216530735597}. Best is trial 199 with value: 0.6807036399841309.\n"
     ]
    },
    {
     "name": "stdout",
     "output_type": "stream",
     "text": [
      "{'w1': 0.42213339965375946, 'w2': 0.36985508912212184, 'w3': 0.10222661195394163, 'w4': 0.20646766200067562, 'w5': 0.21692383783953947, 'w6': 0.0014188806966918001, 'w7': 0.20817216530735597, 'threshold': 0.28}\n"
     ]
    },
    {
     "name": "stderr",
     "output_type": "stream",
     "text": [
      "[I 2023-06-14 21:30:31,167] Trial 208 finished with value: 0.6801827549934387 and parameters: {'w1': 0.47081385439323203, 'w2': 0.8889847656966876, 'w3': 0.12240668408751983, 'w4': 0.22624830230309853, 'w5': 0.20819183151177878, 'w6': 0.03656378536373762, 'w7': 0.4458070804270887}. Best is trial 199 with value: 0.6807036399841309.\n"
     ]
    },
    {
     "name": "stdout",
     "output_type": "stream",
     "text": [
      "{'w1': 0.47081385439323203, 'w2': 0.8889847656966876, 'w3': 0.12240668408751983, 'w4': 0.22624830230309853, 'w5': 0.20819183151177878, 'w6': 0.03656378536373762, 'w7': 0.4458070804270887, 'threshold': 0.23}\n"
     ]
    },
    {
     "name": "stderr",
     "output_type": "stream",
     "text": [
      "[I 2023-06-14 21:30:32,211] Trial 209 finished with value: 0.6803792119026184 and parameters: {'w1': 0.4109068338120243, 'w2': 0.5402221452338496, 'w3': 0.06270510299806288, 'w4': 0.19706467576676745, 'w5': 0.2835232166827667, 'w6': 3.2707384841478004e-05, 'w7': 0.1586775404455027}. Best is trial 199 with value: 0.6807036399841309.\n"
     ]
    },
    {
     "name": "stdout",
     "output_type": "stream",
     "text": [
      "{'w1': 0.4109068338120243, 'w2': 0.5402221452338496, 'w3': 0.06270510299806288, 'w4': 0.19706467576676745, 'w5': 0.2835232166827667, 'w6': 3.2707384841478004e-05, 'w7': 0.1586775404455027, 'threshold': 0.26}\n"
     ]
    },
    {
     "name": "stderr",
     "output_type": "stream",
     "text": [
      "[I 2023-06-14 21:30:33,254] Trial 210 finished with value: 0.6806832551956177 and parameters: {'w1': 0.4464243254284376, 'w2': 0.931795828435866, 'w3': 0.05525105647962165, 'w4': 0.2390326041070775, 'w5': 0.24461244906612298, 'w6': 0.04313486747133559, 'w7': 0.19265495670203195}. Best is trial 199 with value: 0.6807036399841309.\n"
     ]
    },
    {
     "name": "stdout",
     "output_type": "stream",
     "text": [
      "{'w1': 0.4464243254284376, 'w2': 0.931795828435866, 'w3': 0.05525105647962165, 'w4': 0.2390326041070775, 'w5': 0.24461244906612298, 'w6': 0.04313486747133559, 'w7': 0.19265495670203195, 'threshold': 0.28}\n"
     ]
    },
    {
     "name": "stderr",
     "output_type": "stream",
     "text": [
      "[I 2023-06-14 21:30:34,297] Trial 211 finished with value: 0.6806550025939941 and parameters: {'w1': 0.44396227910164215, 'w2': 0.9311587036293031, 'w3': 0.057037514472151225, 'w4': 0.23777780046844482, 'w5': 0.2422701269616082, 'w6': 0.04268524719956529, 'w7': 0.19398256729381075}. Best is trial 199 with value: 0.6807036399841309.\n"
     ]
    },
    {
     "name": "stdout",
     "output_type": "stream",
     "text": [
      "{'w1': 0.44396227910164215, 'w2': 0.9311587036293031, 'w3': 0.057037514472151225, 'w4': 0.23777780046844482, 'w5': 0.2422701269616082, 'w6': 0.04268524719956529, 'w7': 0.19398256729381075, 'threshold': 0.28}\n"
     ]
    },
    {
     "name": "stderr",
     "output_type": "stream",
     "text": [
      "[I 2023-06-14 21:30:35,342] Trial 212 finished with value: 0.6806718111038208 and parameters: {'w1': 0.4427335031103169, 'w2': 0.9011296472053925, 'w3': 0.10460222750517767, 'w4': 0.20839523003270138, 'w5': 0.22079219686769028, 'w6': 0.03809919620132218, 'w7': 0.1903497798808694}. Best is trial 199 with value: 0.6807036399841309.\n"
     ]
    },
    {
     "name": "stdout",
     "output_type": "stream",
     "text": [
      "{'w1': 0.4427335031103169, 'w2': 0.9011296472053925, 'w3': 0.10460222750517767, 'w4': 0.20839523003270138, 'w5': 0.22079219686769028, 'w6': 0.03809919620132218, 'w7': 0.1903497798808694, 'threshold': 0.28}\n"
     ]
    },
    {
     "name": "stderr",
     "output_type": "stream",
     "text": [
      "[I 2023-06-14 21:30:36,385] Trial 213 finished with value: 0.6799544095993042 and parameters: {'w1': 0.4341741561151723, 'w2': 0.8998547065048139, 'w3': 0.10364722548256251, 'w4': 0.1998516742969317, 'w5': 0.22139305205307014, 'w6': 0.27581878011496375, 'w7': 0.3854955530024607}. Best is trial 199 with value: 0.6807036399841309.\n"
     ]
    },
    {
     "name": "stdout",
     "output_type": "stream",
     "text": [
      "{'w1': 0.4341741561151723, 'w2': 0.8998547065048139, 'w3': 0.10364722548256251, 'w4': 0.1998516742969317, 'w5': 0.22139305205307014, 'w6': 0.27581878011496375, 'w7': 0.3854955530024607, 'threshold': 0.22}\n"
     ]
    },
    {
     "name": "stderr",
     "output_type": "stream",
     "text": [
      "[I 2023-06-14 21:30:37,428] Trial 214 finished with value: 0.6804865002632141 and parameters: {'w1': 0.48199876474422343, 'w2': 0.7334202204255788, 'w3': 0.12056354375268985, 'w4': 0.22030157925008695, 'w5': 0.28129129854005464, 'w6': 0.025681095517595474, 'w7': 0.21068495116427946}. Best is trial 199 with value: 0.6807036399841309.\n"
     ]
    },
    {
     "name": "stdout",
     "output_type": "stream",
     "text": [
      "{'w1': 0.48199876474422343, 'w2': 0.7334202204255788, 'w3': 0.12056354375268985, 'w4': 0.22030157925008695, 'w5': 0.28129129854005464, 'w6': 0.025681095517595474, 'w7': 0.21068495116427946, 'threshold': 0.3}\n"
     ]
    },
    {
     "name": "stderr",
     "output_type": "stream",
     "text": [
      "[I 2023-06-14 21:30:38,473] Trial 215 finished with value: 0.6806547045707703 and parameters: {'w1': 0.44246829769370527, 'w2': 0.8890980433459423, 'w3': 0.09849166063212525, 'w4': 0.2363260891266377, 'w5': 0.19624161322368713, 'w6': 0.04250579749077635, 'w7': 0.19596146010538326}. Best is trial 199 with value: 0.6807036399841309.\n"
     ]
    },
    {
     "name": "stdout",
     "output_type": "stream",
     "text": [
      "{'w1': 0.44246829769370527, 'w2': 0.8890980433459423, 'w3': 0.09849166063212525, 'w4': 0.2363260891266377, 'w5': 0.19624161322368713, 'w6': 0.04250579749077635, 'w7': 0.19596146010538326, 'threshold': 0.28}\n"
     ]
    },
    {
     "name": "stderr",
     "output_type": "stream",
     "text": [
      "[I 2023-06-14 21:30:39,516] Trial 216 finished with value: 0.6800775527954102 and parameters: {'w1': 0.45054705818992546, 'w2': 0.41038860798369453, 'w3': 0.06814468161818725, 'w4': 0.1642480496846607, 'w5': 0.24290279750279728, 'w6': 0.01865304179439263, 'w7': 0.16118009394626837}. Best is trial 199 with value: 0.6807036399841309.\n"
     ]
    },
    {
     "name": "stdout",
     "output_type": "stream",
     "text": [
      "{'w1': 0.45054705818992546, 'w2': 0.41038860798369453, 'w3': 0.06814468161818725, 'w4': 0.1642480496846607, 'w5': 0.24290279750279728, 'w6': 0.01865304179439263, 'w7': 0.16118009394626837, 'threshold': 0.26}\n"
     ]
    },
    {
     "name": "stderr",
     "output_type": "stream",
     "text": [
      "[I 2023-06-14 21:30:40,559] Trial 217 finished with value: 0.6798778176307678 and parameters: {'w1': 0.40030956605865164, 'w2': 0.9042858969540033, 'w3': 0.10129624972914045, 'w4': 0.21098195928512842, 'w5': 0.2055277348597463, 'w6': 0.04008561505497891, 'w7': 0.5081676714399302}. Best is trial 199 with value: 0.6807036399841309.\n"
     ]
    },
    {
     "name": "stdout",
     "output_type": "stream",
     "text": [
      "{'w1': 0.40030956605865164, 'w2': 0.9042858969540033, 'w3': 0.10129624972914045, 'w4': 0.21098195928512842, 'w5': 0.2055277348597463, 'w6': 0.04008561505497891, 'w7': 0.5081676714399302, 'threshold': 0.29}\n"
     ]
    },
    {
     "name": "stderr",
     "output_type": "stream",
     "text": [
      "[I 2023-06-14 21:30:41,602] Trial 218 finished with value: 0.6800872683525085 and parameters: {'w1': 0.48059418774936, 'w2': 0.9332876008026969, 'w3': 0.04968092639239323, 'w4': 0.19603628968192052, 'w5': 0.27046525187571735, 'w6': 0.4387919718004956, 'w7': 0.18972222263186778}. Best is trial 199 with value: 0.6807036399841309.\n"
     ]
    },
    {
     "name": "stdout",
     "output_type": "stream",
     "text": [
      "{'w1': 0.48059418774936, 'w2': 0.9332876008026969, 'w3': 0.04968092639239323, 'w4': 0.19603628968192052, 'w5': 0.27046525187571735, 'w6': 0.4387919718004956, 'w7': 0.18972222263186778, 'threshold': 0.35}\n"
     ]
    },
    {
     "name": "stderr",
     "output_type": "stream",
     "text": [
      "[I 2023-06-14 21:30:42,646] Trial 219 finished with value: 0.680083155632019 and parameters: {'w1': 0.4432220318370331, 'w2': 0.49190701932672154, 'w3': 0.1305059157463665, 'w4': 0.1598103728878345, 'w5': 0.2464132630752163, 'w6': 0.06854902887161571, 'w7': 0.21663332577165012}. Best is trial 199 with value: 0.6807036399841309.\n"
     ]
    },
    {
     "name": "stdout",
     "output_type": "stream",
     "text": [
      "{'w1': 0.4432220318370331, 'w2': 0.49190701932672154, 'w3': 0.1305059157463665, 'w4': 0.1598103728878345, 'w5': 0.2464132630752163, 'w6': 0.06854902887161571, 'w7': 0.21663332577165012, 'threshold': 0.25}\n"
     ]
    },
    {
     "name": "stderr",
     "output_type": "stream",
     "text": [
      "[I 2023-06-14 21:30:43,690] Trial 220 finished with value: 0.6800667643547058 and parameters: {'w1': 0.4185847062668971, 'w2': 0.949638490447443, 'w3': 0.07631350771686556, 'w4': 0.15452083566988337, 'w5': 0.29247676091865327, 'w6': 0.49390837068492033, 'w7': 0.16012449775908005}. Best is trial 199 with value: 0.6807036399841309.\n"
     ]
    },
    {
     "name": "stdout",
     "output_type": "stream",
     "text": [
      "{'w1': 0.4185847062668971, 'w2': 0.949638490447443, 'w3': 0.07631350771686556, 'w4': 0.15452083566988337, 'w5': 0.29247676091865327, 'w6': 0.49390837068492033, 'w7': 0.16012449775908005, 'threshold': 0.25}\n"
     ]
    },
    {
     "name": "stderr",
     "output_type": "stream",
     "text": [
      "[I 2023-06-14 21:30:44,733] Trial 221 finished with value: 0.6806513667106628 and parameters: {'w1': 0.48381877683371144, 'w2': 0.9609003553357496, 'w3': 0.043424674190705524, 'w4': 0.2352236664068642, 'w5': 0.29721431517751484, 'w6': 0.043712828433780396, 'w7': 0.1499731132923252}. Best is trial 199 with value: 0.6807036399841309.\n"
     ]
    },
    {
     "name": "stdout",
     "output_type": "stream",
     "text": [
      "{'w1': 0.48381877683371144, 'w2': 0.9609003553357496, 'w3': 0.043424674190705524, 'w4': 0.2352236664068642, 'w5': 0.29721431517751484, 'w6': 0.043712828433780396, 'w7': 0.1499731132923252, 'threshold': 0.3}\n"
     ]
    },
    {
     "name": "stderr",
     "output_type": "stream",
     "text": [
      "[I 2023-06-14 21:30:45,777] Trial 222 finished with value: 0.6801713705062866 and parameters: {'w1': 0.4600999789887002, 'w2': 0.9227011621802867, 'w3': 0.05665632760977205, 'w4': 0.14584104192378858, 'w5': 0.2241592186013742, 'w6': 0.35895093270202055, 'w7': 0.1803293134734805}. Best is trial 199 with value: 0.6807036399841309.\n"
     ]
    },
    {
     "name": "stdout",
     "output_type": "stream",
     "text": [
      "{'w1': 0.4600999789887002, 'w2': 0.9227011621802867, 'w3': 0.05665632760977205, 'w4': 0.14584104192378858, 'w5': 0.2241592186013742, 'w6': 0.35895093270202055, 'w7': 0.1803293134734805, 'threshold': 0.32}\n"
     ]
    },
    {
     "name": "stderr",
     "output_type": "stream",
     "text": [
      "[I 2023-06-14 21:30:46,820] Trial 223 finished with value: 0.6806076169013977 and parameters: {'w1': 0.3857204882671113, 'w2': 0.9658463643037573, 'w3': 0.09062218945515085, 'w4': 0.2114655402947845, 'w5': 0.2596513748044672, 'w6': 0.016238033774145757, 'w7': 0.17359870419660214}. Best is trial 199 with value: 0.6807036399841309.\n"
     ]
    },
    {
     "name": "stdout",
     "output_type": "stream",
     "text": [
      "{'w1': 0.3857204882671113, 'w2': 0.9658463643037573, 'w3': 0.09062218945515085, 'w4': 0.2114655402947845, 'w5': 0.2596513748044672, 'w6': 0.016238033774145757, 'w7': 0.17359870419660214, 'threshold': 0.28}\n"
     ]
    },
    {
     "name": "stderr",
     "output_type": "stream",
     "text": [
      "[I 2023-06-14 21:30:47,864] Trial 224 finished with value: 0.6806386709213257 and parameters: {'w1': 0.5193452183483276, 'w2': 0.9379287738346341, 'w3': 0.11283280039469584, 'w4': 0.1788080008067455, 'w5': 0.3021226914083469, 'w6': 0.0014853314873961951, 'w7': 0.1544425492632681}. Best is trial 199 with value: 0.6807036399841309.\n"
     ]
    },
    {
     "name": "stdout",
     "output_type": "stream",
     "text": [
      "{'w1': 0.5193452183483276, 'w2': 0.9379287738346341, 'w3': 0.11283280039469584, 'w4': 0.1788080008067455, 'w5': 0.3021226914083469, 'w6': 0.0014853314873961951, 'w7': 0.1544425492632681, 'threshold': 0.31}\n"
     ]
    },
    {
     "name": "stderr",
     "output_type": "stream",
     "text": [
      "[I 2023-06-14 21:30:48,907] Trial 225 finished with value: 0.6786333322525024 and parameters: {'w1': 0.4911425712629477, 'w2': 0.31918447104491404, 'w3': 0.03966787359080934, 'w4': 0.244447295487505, 'w5': 0.2744801177806176, 'w6': 0.7705601757852102, 'w7': 0.19117552439184612}. Best is trial 199 with value: 0.6807036399841309.\n"
     ]
    },
    {
     "name": "stdout",
     "output_type": "stream",
     "text": [
      "{'w1': 0.4911425712629477, 'w2': 0.31918447104491404, 'w3': 0.03966787359080934, 'w4': 0.244447295487505, 'w5': 0.2744801177806176, 'w6': 0.7705601757852102, 'w7': 0.19117552439184612, 'threshold': 0.29}\n"
     ]
    },
    {
     "name": "stderr",
     "output_type": "stream",
     "text": [
      "[I 2023-06-14 21:30:49,951] Trial 226 finished with value: 0.6803006529808044 and parameters: {'w1': 0.5331611863499288, 'w2': 0.8982408767651219, 'w3': 0.14231047730602825, 'w4': 0.01418394421965567, 'w5': 0.21763267967810448, 'w6': 0.17909660058637877, 'w7': 0.22010041075783976}. Best is trial 199 with value: 0.6807036399841309.\n"
     ]
    },
    {
     "name": "stdout",
     "output_type": "stream",
     "text": [
      "{'w1': 0.5331611863499288, 'w2': 0.8982408767651219, 'w3': 0.14231047730602825, 'w4': 0.01418394421965567, 'w5': 0.21763267967810448, 'w6': 0.17909660058637877, 'w7': 0.22010041075783976, 'threshold': 0.2}\n"
     ]
    },
    {
     "name": "stderr",
     "output_type": "stream",
     "text": [
      "[I 2023-06-14 21:30:50,995] Trial 227 finished with value: 0.6805937886238098 and parameters: {'w1': 0.4694265397628402, 'w2': 0.958999077800585, 'w3': 0.06717049550620406, 'w4': 0.03708448009155016, 'w5': 0.19553261410097816, 'w6': 0.06333363991598145, 'w7': 0.14593447039956417}. Best is trial 199 with value: 0.6807036399841309.\n"
     ]
    },
    {
     "name": "stdout",
     "output_type": "stream",
     "text": [
      "{'w1': 0.4694265397628402, 'w2': 0.958999077800585, 'w3': 0.06717049550620406, 'w4': 0.03708448009155016, 'w5': 0.19553261410097816, 'w6': 0.06333363991598145, 'w7': 0.14593447039956417, 'threshold': 0.35}\n"
     ]
    },
    {
     "name": "stderr",
     "output_type": "stream",
     "text": [
      "[I 2023-06-14 21:30:52,039] Trial 228 finished with value: 0.6805161237716675 and parameters: {'w1': 0.5157426031275788, 'w2': 0.9169106158781348, 'w3': 0.03694802848558796, 'w4': 0.14372871094107093, 'w5': 0.24512747339185595, 'w6': 0.03706847255222834, 'w7': 0.24148217856245646}. Best is trial 199 with value: 0.6807036399841309.\n"
     ]
    },
    {
     "name": "stdout",
     "output_type": "stream",
     "text": [
      "{'w1': 0.5157426031275788, 'w2': 0.9169106158781348, 'w3': 0.03694802848558796, 'w4': 0.14372871094107093, 'w5': 0.24512747339185595, 'w6': 0.03706847255222834, 'w7': 0.24148217856245646, 'threshold': 0.25}\n"
     ]
    },
    {
     "name": "stderr",
     "output_type": "stream",
     "text": [
      "[I 2023-06-14 21:30:53,083] Trial 229 finished with value: 0.6806530952453613 and parameters: {'w1': 0.44493129556444433, 'w2': 0.9426386266569498, 'w3': 0.09640043948874578, 'w4': 0.18854061589706286, 'w5': 0.22953361060913957, 'w6': 0.015765764677614424, 'w7': 0.19910044668986351}. Best is trial 199 with value: 0.6807036399841309.\n"
     ]
    },
    {
     "name": "stdout",
     "output_type": "stream",
     "text": [
      "{'w1': 0.44493129556444433, 'w2': 0.9426386266569498, 'w3': 0.09640043948874578, 'w4': 0.18854061589706286, 'w5': 0.22953361060913957, 'w6': 0.015765764677614424, 'w7': 0.19910044668986351, 'threshold': 0.3}\n"
     ]
    },
    {
     "name": "stderr",
     "output_type": "stream",
     "text": [
      "[I 2023-06-14 21:30:54,126] Trial 230 finished with value: 0.6806548237800598 and parameters: {'w1': 0.5344184960243159, 'w2': 0.9678361139568081, 'w3': 0.07272814461512109, 'w4': 0.1628143776215024, 'w5': 0.30577652342766476, 'w6': 0.051719823292435255, 'w7': 0.16561845348136242}. Best is trial 199 with value: 0.6807036399841309.\n"
     ]
    },
    {
     "name": "stdout",
     "output_type": "stream",
     "text": [
      "{'w1': 0.5344184960243159, 'w2': 0.9678361139568081, 'w3': 0.07272814461512109, 'w4': 0.1628143776215024, 'w5': 0.30577652342766476, 'w6': 0.051719823292435255, 'w7': 0.16561845348136242, 'threshold': 0.3}\n"
     ]
    },
    {
     "name": "stderr",
     "output_type": "stream",
     "text": [
      "[I 2023-06-14 21:30:55,171] Trial 231 finished with value: 0.6805282235145569 and parameters: {'w1': 0.45348173300649114, 'w2': 0.6828490346659148, 'w3': 0.12255987440751144, 'w4': 0.20722097229219372, 'w5': 0.22721566543764274, 'w6': 0.02008216234773009, 'w7': 0.21125844864733434}. Best is trial 199 with value: 0.6807036399841309.\n"
     ]
    },
    {
     "name": "stdout",
     "output_type": "stream",
     "text": [
      "{'w1': 0.45348173300649114, 'w2': 0.6828490346659148, 'w3': 0.12255987440751144, 'w4': 0.20722097229219372, 'w5': 0.22721566543764274, 'w6': 0.02008216234773009, 'w7': 0.21125844864733434, 'threshold': 0.29}\n"
     ]
    },
    {
     "name": "stderr",
     "output_type": "stream",
     "text": [
      "[I 2023-06-14 21:30:56,215] Trial 232 finished with value: 0.6792749166488647 and parameters: {'w1': 0.43195546011253155, 'w2': 0.9046294792954941, 'w3': 0.11918185543056625, 'w4': 0.2220004681645323, 'w5': 0.2629719514074496, 'w6': 0.028666724103287976, 'w7': 0.7086266673336565}. Best is trial 199 with value: 0.6807036399841309.\n"
     ]
    },
    {
     "name": "stdout",
     "output_type": "stream",
     "text": [
      "{'w1': 0.43195546011253155, 'w2': 0.9046294792954941, 'w3': 0.11918185543056625, 'w4': 0.2220004681645323, 'w5': 0.2629719514074496, 'w6': 0.028666724103287976, 'w7': 0.7086266673336565, 'threshold': 0.23}\n"
     ]
    },
    {
     "name": "stderr",
     "output_type": "stream",
     "text": [
      "[I 2023-06-14 21:30:57,259] Trial 233 finished with value: 0.6804543137550354 and parameters: {'w1': 0.4706169196737778, 'w2': 0.9183191332257762, 'w3': 0.14453901985356915, 'w4': 0.20158150682726375, 'w5': 0.2445337234367492, 'w6': 0.19560111016049359, 'w7': 0.19142908056092128}. Best is trial 199 with value: 0.6807036399841309.\n"
     ]
    },
    {
     "name": "stdout",
     "output_type": "stream",
     "text": [
      "{'w1': 0.4706169196737778, 'w2': 0.9183191332257762, 'w3': 0.14453901985356915, 'w4': 0.20158150682726375, 'w5': 0.2445337234367492, 'w6': 0.19560111016049359, 'w7': 0.19142908056092128, 'threshold': 0.29}\n"
     ]
    },
    {
     "name": "stderr",
     "output_type": "stream",
     "text": [
      "[I 2023-06-14 21:30:58,303] Trial 234 finished with value: 0.6802700757980347 and parameters: {'w1': 0.5010151217722302, 'w2': 0.9852576415939496, 'w3': 0.10765237184692276, 'w4': 0.25387534280081864, 'w5': 0.2811686451179743, 'w6': 0.3336882279286259, 'w7': 0.17249067070824448}. Best is trial 199 with value: 0.6807036399841309.\n"
     ]
    },
    {
     "name": "stdout",
     "output_type": "stream",
     "text": [
      "{'w1': 0.5010151217722302, 'w2': 0.9852576415939496, 'w3': 0.10765237184692276, 'w4': 0.25387534280081864, 'w5': 0.2811686451179743, 'w6': 0.3336882279286259, 'w7': 0.17249067070824448, 'threshold': 0.35}\n"
     ]
    },
    {
     "name": "stderr",
     "output_type": "stream",
     "text": [
      "[I 2023-06-14 21:30:59,348] Trial 235 finished with value: 0.6806243062019348 and parameters: {'w1': 0.47787999953220983, 'w2': 0.9311093479340016, 'w3': 0.5342207449194892, 'w4': 5.58124218338063e-05, 'w5': 0.20575495354169746, 'w6': 0.001521407067759023, 'w7': 0.14419235686872522}. Best is trial 199 with value: 0.6807036399841309.\n"
     ]
    },
    {
     "name": "stdout",
     "output_type": "stream",
     "text": [
      "{'w1': 0.47787999953220983, 'w2': 0.9311093479340016, 'w3': 0.5342207449194892, 'w4': 5.58124218338063e-05, 'w5': 0.20575495354169746, 'w6': 0.001521407067759023, 'w7': 0.14419235686872522, 'threshold': 0.29}\n"
     ]
    },
    {
     "name": "stderr",
     "output_type": "stream",
     "text": [
      "[I 2023-06-14 21:31:00,391] Trial 236 finished with value: 0.6801932454109192 and parameters: {'w1': 0.541744195739071, 'w2': 0.9466558043260958, 'w3': 0.055337040217889, 'w4': 0.12598308722248486, 'w5': 0.30772535463894773, 'w6': 0.30082100846095006, 'w7': 0.2121491582495466}. Best is trial 199 with value: 0.6807036399841309.\n"
     ]
    },
    {
     "name": "stdout",
     "output_type": "stream",
     "text": [
      "{'w1': 0.541744195739071, 'w2': 0.9466558043260958, 'w3': 0.055337040217889, 'w4': 0.12598308722248486, 'w5': 0.30772535463894773, 'w6': 0.30082100846095006, 'w7': 0.2121491582495466, 'threshold': 0.33}\n"
     ]
    },
    {
     "name": "stderr",
     "output_type": "stream",
     "text": [
      "[I 2023-06-14 21:31:01,436] Trial 237 finished with value: 0.6806294322013855 and parameters: {'w1': 0.4624005987731403, 'w2': 0.8867894630213631, 'w3': 0.019276701826475173, 'w4': 0.17205168712706045, 'w5': 0.2228017481903918, 'w6': 0.03673366524271269, 'w7': 0.10765309969218177}. Best is trial 199 with value: 0.6807036399841309.\n"
     ]
    },
    {
     "name": "stdout",
     "output_type": "stream",
     "text": [
      "{'w1': 0.4624005987731403, 'w2': 0.8867894630213631, 'w3': 0.019276701826475173, 'w4': 0.17205168712706045, 'w5': 0.2228017481903918, 'w6': 0.03673366524271269, 'w7': 0.10765309969218177, 'threshold': 0.3}\n"
     ]
    },
    {
     "name": "stderr",
     "output_type": "stream",
     "text": [
      "[I 2023-06-14 21:31:02,479] Trial 238 finished with value: 0.6802690029144287 and parameters: {'w1': 0.4902128216534122, 'w2': 0.9992836632272536, 'w3': 0.079818999266351, 'w4': 0.06432672925556615, 'w5': 0.2712235810778433, 'w6': 0.01798106962127462, 'w7': 0.3837281256779142}. Best is trial 199 with value: 0.6807036399841309.\n"
     ]
    },
    {
     "name": "stdout",
     "output_type": "stream",
     "text": [
      "{'w1': 0.4902128216534122, 'w2': 0.9992836632272536, 'w3': 0.079818999266351, 'w4': 0.06432672925556615, 'w5': 0.2712235810778433, 'w6': 0.01798106962127462, 'w7': 0.3837281256779142, 'threshold': 0.29}\n"
     ]
    },
    {
     "name": "stderr",
     "output_type": "stream",
     "text": [
      "[I 2023-06-14 21:31:03,524] Trial 239 finished with value: 0.6759170889854431 and parameters: {'w1': 0.5151005957821063, 'w2': 0.6621228330882021, 'w3': 0.04796963653676334, 'w4': 0.21234408737358, 'w5': 0.2488970012728921, 'w6': 0.05567950529144317, 'w7': 0.9898510343532396}. Best is trial 199 with value: 0.6807036399841309.\n"
     ]
    },
    {
     "name": "stdout",
     "output_type": "stream",
     "text": [
      "{'w1': 0.5151005957821063, 'w2': 0.6621228330882021, 'w3': 0.04796963653676334, 'w4': 0.21234408737358, 'w5': 0.2488970012728921, 'w6': 0.05567950529144317, 'w7': 0.9898510343532396, 'threshold': 0.27}\n"
     ]
    },
    {
     "name": "stderr",
     "output_type": "stream",
     "text": [
      "[I 2023-06-14 21:31:04,568] Trial 240 finished with value: 0.6805509924888611 and parameters: {'w1': 0.4301705354400739, 'w2': 0.9159262074687741, 'w3': 0.09581423058177177, 'w4': 0.13997001666713618, 'w5': 0.28936667878128686, 'w6': 0.07648736479493404, 'w7': 0.254754781115271}. Best is trial 199 with value: 0.6807036399841309.\n"
     ]
    },
    {
     "name": "stdout",
     "output_type": "stream",
     "text": [
      "{'w1': 0.4301705354400739, 'w2': 0.9159262074687741, 'w3': 0.09581423058177177, 'w4': 0.13997001666713618, 'w5': 0.28936667878128686, 'w6': 0.07648736479493404, 'w7': 0.254754781115271, 'threshold': 0.31}\n"
     ]
    },
    {
     "name": "stderr",
     "output_type": "stream",
     "text": [
      "[I 2023-06-14 21:31:05,612] Trial 241 finished with value: 0.6806389689445496 and parameters: {'w1': 0.4934493917160863, 'w2': 0.9248380502997259, 'w3': 0.07979297761801266, 'w4': 0.10446169350837621, 'w5': 0.3146537331250963, 'w6': 0.016734618295809606, 'w7': 0.1758430123102527}. Best is trial 199 with value: 0.6807036399841309.\n"
     ]
    },
    {
     "name": "stdout",
     "output_type": "stream",
     "text": [
      "{'w1': 0.4934493917160863, 'w2': 0.9248380502997259, 'w3': 0.07979297761801266, 'w4': 0.10446169350837621, 'w5': 0.3146537331250963, 'w6': 0.016734618295809606, 'w7': 0.1758430123102527, 'threshold': 0.29}\n"
     ]
    },
    {
     "name": "stderr",
     "output_type": "stream",
     "text": [
      "[I 2023-06-14 21:31:06,656] Trial 242 finished with value: 0.6804843544960022 and parameters: {'w1': 0.5071931027049372, 'w2': 0.7254402348241742, 'w3': 0.03588417632599947, 'w4': 0.12531396333394018, 'w5': 0.19212983854393478, 'w6': 0.03002314258201433, 'w7': 0.18504270608371282}. Best is trial 199 with value: 0.6807036399841309.\n"
     ]
    },
    {
     "name": "stdout",
     "output_type": "stream",
     "text": [
      "{'w1': 0.5071931027049372, 'w2': 0.7254402348241742, 'w3': 0.03588417632599947, 'w4': 0.12531396333394018, 'w5': 0.19212983854393478, 'w6': 0.03002314258201433, 'w7': 0.18504270608371282, 'threshold': 0.29}\n"
     ]
    },
    {
     "name": "stderr",
     "output_type": "stream",
     "text": [
      "[I 2023-06-14 21:31:07,700] Trial 243 finished with value: 0.6806936264038086 and parameters: {'w1': 0.5410655614024956, 'w2': 0.964656964271954, 'w3': 0.1281839067228814, 'w4': 0.1533532320788954, 'w5': 0.3225670032537124, 'w6': 0.001485189335285408, 'w7': 0.1997286335761221}. Best is trial 199 with value: 0.6807036399841309.\n"
     ]
    },
    {
     "name": "stdout",
     "output_type": "stream",
     "text": [
      "{'w1': 0.5410655614024956, 'w2': 0.964656964271954, 'w3': 0.1281839067228814, 'w4': 0.1533532320788954, 'w5': 0.3225670032537124, 'w6': 0.001485189335285408, 'w7': 0.1997286335761221, 'threshold': 0.28}\n"
     ]
    },
    {
     "name": "stderr",
     "output_type": "stream",
     "text": [
      "[I 2023-06-14 21:31:08,744] Trial 244 finished with value: 0.6804728507995605 and parameters: {'w1': 0.5366738205142759, 'w2': 0.9640958321656156, 'w3': 0.1363551212991806, 'w4': 0.18388337471858227, 'w5': 0.5401246082624639, 'w6': 0.0027872435131476997, 'w7': 0.20216384883497251}. Best is trial 199 with value: 0.6807036399841309.\n"
     ]
    },
    {
     "name": "stdout",
     "output_type": "stream",
     "text": [
      "{'w1': 0.5366738205142759, 'w2': 0.9640958321656156, 'w3': 0.1363551212991806, 'w4': 0.18388337471858227, 'w5': 0.5401246082624639, 'w6': 0.0027872435131476997, 'w7': 0.20216384883497251, 'threshold': 0.29}\n"
     ]
    },
    {
     "name": "stderr",
     "output_type": "stream",
     "text": [
      "[I 2023-06-14 21:31:09,790] Trial 245 finished with value: 0.6806604862213135 and parameters: {'w1': 0.5840568204264008, 'w2': 0.9854952465001539, 'w3': 0.12746141517628884, 'w4': 0.15621267618887164, 'w5': 0.3013903487930918, 'w6': 0.0429066556116867, 'w7': 0.23075552278148367}. Best is trial 199 with value: 0.6807036399841309.\n"
     ]
    },
    {
     "name": "stdout",
     "output_type": "stream",
     "text": [
      "{'w1': 0.5840568204264008, 'w2': 0.9854952465001539, 'w3': 0.12746141517628884, 'w4': 0.15621267618887164, 'w5': 0.3013903487930918, 'w6': 0.0429066556116867, 'w7': 0.23075552278148367, 'threshold': 0.29}\n"
     ]
    },
    {
     "name": "stderr",
     "output_type": "stream",
     "text": [
      "[I 2023-06-14 21:31:10,834] Trial 246 finished with value: 0.6806776523590088 and parameters: {'w1': 0.5484201854277236, 'w2': 0.9511224548564492, 'w3': 0.11549789557875396, 'w4': 0.19487535927451072, 'w5': 0.23232650775110023, 'w6': 0.019007660496833452, 'w7': 0.14620303531974052}. Best is trial 199 with value: 0.6807036399841309.\n"
     ]
    },
    {
     "name": "stdout",
     "output_type": "stream",
     "text": [
      "{'w1': 0.5484201854277236, 'w2': 0.9511224548564492, 'w3': 0.11549789557875396, 'w4': 0.19487535927451072, 'w5': 0.23232650775110023, 'w6': 0.019007660496833452, 'w7': 0.14620303531974052, 'threshold': 0.3}\n"
     ]
    },
    {
     "name": "stderr",
     "output_type": "stream",
     "text": [
      "[I 2023-06-14 21:31:11,880] Trial 247 finished with value: 0.6805776953697205 and parameters: {'w1': 0.5685523829977788, 'w2': 0.7589783589549717, 'w3': 0.015297738520185919, 'w4': 0.16865807659974713, 'w5': 0.2679900329877135, 'w6': 0.0507042427523433, 'w7': 0.14571869234756005}. Best is trial 199 with value: 0.6807036399841309.\n"
     ]
    },
    {
     "name": "stdout",
     "output_type": "stream",
     "text": [
      "{'w1': 0.5685523829977788, 'w2': 0.7589783589549717, 'w3': 0.015297738520185919, 'w4': 0.16865807659974713, 'w5': 0.2679900329877135, 'w6': 0.0507042427523433, 'w7': 0.14571869234756005, 'threshold': 0.27}\n"
     ]
    },
    {
     "name": "stderr",
     "output_type": "stream",
     "text": [
      "[I 2023-06-14 21:31:12,924] Trial 248 finished with value: 0.6805663704872131 and parameters: {'w1': 0.5449544517544732, 'w2': 0.9602210899390282, 'w3': 0.15661164015561088, 'w4': 0.1941980301554368, 'w5': 0.32291080744466, 'w6': 0.0019729731964917194, 'w7': 0.16328258003449442}. Best is trial 199 with value: 0.6807036399841309.\n"
     ]
    },
    {
     "name": "stdout",
     "output_type": "stream",
     "text": [
      "{'w1': 0.5449544517544732, 'w2': 0.9602210899390282, 'w3': 0.15661164015561088, 'w4': 0.1941980301554368, 'w5': 0.32291080744466, 'w6': 0.0019729731964917194, 'w7': 0.16328258003449442, 'threshold': 0.3}\n"
     ]
    },
    {
     "name": "stderr",
     "output_type": "stream",
     "text": [
      "[I 2023-06-14 21:31:13,969] Trial 249 finished with value: 0.6805423498153687 and parameters: {'w1': 0.5220942436721251, 'w2': 0.9813225233766162, 'w3': 0.11088847940508809, 'w4': 0.14382825941617833, 'w5': 0.2871987609708216, 'w6': 0.03159804762568502, 'w7': 0.015950126497665806}. Best is trial 199 with value: 0.6807036399841309.\n"
     ]
    },
    {
     "name": "stdout",
     "output_type": "stream",
     "text": [
      "{'w1': 0.5220942436721251, 'w2': 0.9813225233766162, 'w3': 0.11088847940508809, 'w4': 0.14382825941617833, 'w5': 0.2871987609708216, 'w6': 0.03159804762568502, 'w7': 0.015950126497665806, 'threshold': 0.34}\n"
     ]
    },
    {
     "name": "stderr",
     "output_type": "stream",
     "text": [
      "[I 2023-06-14 21:31:15,015] Trial 250 finished with value: 0.680389404296875 and parameters: {'w1': 0.5869464799956353, 'w2': 0.9483922846523845, 'w3': 0.06030540192233691, 'w4': 0.23087239170684432, 'w5': 0.25297849618126644, 'w6': 0.2384268974433925, 'w7': 0.14480664682789562}. Best is trial 199 with value: 0.6807036399841309.\n"
     ]
    },
    {
     "name": "stdout",
     "output_type": "stream",
     "text": [
      "{'w1': 0.5869464799956353, 'w2': 0.9483922846523845, 'w3': 0.06030540192233691, 'w4': 0.23087239170684432, 'w5': 0.25297849618126644, 'w6': 0.2384268974433925, 'w7': 0.14480664682789562, 'threshold': 0.28}\n"
     ]
    },
    {
     "name": "stderr",
     "output_type": "stream",
     "text": [
      "[I 2023-06-14 21:31:16,060] Trial 251 finished with value: 0.6786561012268066 and parameters: {'w1': 0.5574803003299587, 'w2': 0.05227415354721632, 'w3': 0.08656053659068152, 'w4': 0.06757647681328113, 'w5': 0.20889906004210193, 'w6': 0.0012056830308502138, 'w7': 0.11460132869517912}. Best is trial 199 with value: 0.6807036399841309.\n"
     ]
    },
    {
     "name": "stdout",
     "output_type": "stream",
     "text": [
      "{'w1': 0.5574803003299587, 'w2': 0.05227415354721632, 'w3': 0.08656053659068152, 'w4': 0.06757647681328113, 'w5': 0.20889906004210193, 'w6': 0.0012056830308502138, 'w7': 0.11460132869517912, 'threshold': 0.39}\n"
     ]
    },
    {
     "name": "stderr",
     "output_type": "stream",
     "text": [
      "[I 2023-06-14 21:31:17,105] Trial 252 finished with value: 0.6805295348167419 and parameters: {'w1': 0.5443009472832923, 'w2': 0.9659618528905627, 'w3': 0.03190946798610912, 'w4': 0.039966874050146275, 'w5': 0.2345743571903763, 'w6': 0.06437725796188942, 'w7': 0.1652034916827131}. Best is trial 199 with value: 0.6807036399841309.\n"
     ]
    },
    {
     "name": "stdout",
     "output_type": "stream",
     "text": [
      "{'w1': 0.5443009472832923, 'w2': 0.9659618528905627, 'w3': 0.03190946798610912, 'w4': 0.039966874050146275, 'w5': 0.2345743571903763, 'w6': 0.06437725796188942, 'w7': 0.1652034916827131, 'threshold': 0.32}\n"
     ]
    },
    {
     "name": "stderr",
     "output_type": "stream",
     "text": [
      "[I 2023-06-14 21:31:18,150] Trial 253 finished with value: 0.6802296042442322 and parameters: {'w1': 0.6085472835025867, 'w2': 0.9392811728633781, 'w3': 0.795068806189291, 'w4': 0.12370150190753788, 'w5': 0.31272267255512254, 'w6': 0.022096449937329336, 'w7': 0.13667227712900643}. Best is trial 199 with value: 0.6807036399841309.\n"
     ]
    },
    {
     "name": "stdout",
     "output_type": "stream",
     "text": [
      "{'w1': 0.6085472835025867, 'w2': 0.9392811728633781, 'w3': 0.795068806189291, 'w4': 0.12370150190753788, 'w5': 0.31272267255512254, 'w6': 0.022096449937329336, 'w7': 0.13667227712900643, 'threshold': 0.26}\n"
     ]
    },
    {
     "name": "stderr",
     "output_type": "stream",
     "text": [
      "[I 2023-06-14 21:31:19,195] Trial 254 finished with value: 0.6796364188194275 and parameters: {'w1': 0.5683944484252687, 'w2': 0.6951826347944081, 'w3': 0.09914029819544357, 'w4': 0.17585651259113028, 'w5': 0.2725539755411729, 'w6': 0.047938630182012304, 'w7': 0.4845919574064672}. Best is trial 199 with value: 0.6807036399841309.\n"
     ]
    },
    {
     "name": "stdout",
     "output_type": "stream",
     "text": [
      "{'w1': 0.5683944484252687, 'w2': 0.6951826347944081, 'w3': 0.09914029819544357, 'w4': 0.17585651259113028, 'w5': 0.2725539755411729, 'w6': 0.047938630182012304, 'w7': 0.4845919574064672, 'threshold': 0.24}\n"
     ]
    },
    {
     "name": "stderr",
     "output_type": "stream",
     "text": [
      "[I 2023-06-14 21:31:20,241] Trial 255 finished with value: 0.6805748343467712 and parameters: {'w1': 0.4098154263270316, 'w2': 0.9871114684200694, 'w3': 0.012610871178312244, 'w4': 0.1540872297205698, 'w5': 0.2943695617805417, 'w6': 0.03268011636509473, 'w7': 0.18385346653032372}. Best is trial 199 with value: 0.6807036399841309.\n"
     ]
    },
    {
     "name": "stdout",
     "output_type": "stream",
     "text": [
      "{'w1': 0.4098154263270316, 'w2': 0.9871114684200694, 'w3': 0.012610871178312244, 'w4': 0.1540872297205698, 'w5': 0.2943695617805417, 'w6': 0.03268011636509473, 'w7': 0.18385346653032372, 'threshold': 0.34}\n"
     ]
    },
    {
     "name": "stderr",
     "output_type": "stream",
     "text": [
      "[I 2023-06-14 21:31:21,285] Trial 256 finished with value: 0.6806493997573853 and parameters: {'w1': 0.5297441405673585, 'w2': 0.9501159029288851, 'w3': 0.05539327266203979, 'w4': 0.09547986590452716, 'w5': 0.2522419461534296, 'w6': 0.018570873442202884, 'w7': 0.09950133199402475}. Best is trial 199 with value: 0.6807036399841309.\n"
     ]
    },
    {
     "name": "stdout",
     "output_type": "stream",
     "text": [
      "{'w1': 0.5297441405673585, 'w2': 0.9501159029288851, 'w3': 0.05539327266203979, 'w4': 0.09547986590452716, 'w5': 0.2522419461534296, 'w6': 0.018570873442202884, 'w7': 0.09950133199402475, 'threshold': 0.32}\n"
     ]
    },
    {
     "name": "stderr",
     "output_type": "stream",
     "text": [
      "[I 2023-06-14 21:31:22,331] Trial 257 finished with value: 0.6806309819221497 and parameters: {'w1': 0.591468151326572, 'w2': 0.9686104423046832, 'w3': 0.1473169678770885, 'w4': 0.19948884210624146, 'w5': 0.18796811546899866, 'w6': 0.08256615315055718, 'w7': 0.16034240563016025}. Best is trial 199 with value: 0.6807036399841309.\n"
     ]
    },
    {
     "name": "stdout",
     "output_type": "stream",
     "text": [
      "{'w1': 0.591468151326572, 'w2': 0.9686104423046832, 'w3': 0.1473169678770885, 'w4': 0.19948884210624146, 'w5': 0.18796811546899866, 'w6': 0.08256615315055718, 'w7': 0.16034240563016025, 'threshold': 0.28}\n"
     ]
    },
    {
     "name": "stderr",
     "output_type": "stream",
     "text": [
      "[I 2023-06-14 21:31:23,377] Trial 258 finished with value: 0.6806314587593079 and parameters: {'w1': 0.4546244695019548, 'w2': 0.9306138271338945, 'w3': 0.07082819432560931, 'w4': 0.24070137241376283, 'w5': 0.2299551607993545, 'w6': 0.0011425609416421823, 'w7': 0.2244361285466232}. Best is trial 199 with value: 0.6807036399841309.\n"
     ]
    },
    {
     "name": "stdout",
     "output_type": "stream",
     "text": [
      "{'w1': 0.4546244695019548, 'w2': 0.9306138271338945, 'w3': 0.07082819432560931, 'w4': 0.24070137241376283, 'w5': 0.2299551607993545, 'w6': 0.0011425609416421823, 'w7': 0.2244361285466232, 'threshold': 0.27}\n"
     ]
    },
    {
     "name": "stderr",
     "output_type": "stream",
     "text": [
      "[I 2023-06-14 21:31:24,422] Trial 259 finished with value: 0.6803922653198242 and parameters: {'w1': 0.5464773142523646, 'w2': 0.9999330503120809, 'w3': 0.12386691205554848, 'w4': 0.13109873300181227, 'w5': 0.33434743475961815, 'w6': 0.4189563563091556, 'w7': 0.041267986477679416}. Best is trial 199 with value: 0.6807036399841309.\n"
     ]
    },
    {
     "name": "stdout",
     "output_type": "stream",
     "text": [
      "{'w1': 0.5464773142523646, 'w2': 0.9999330503120809, 'w3': 0.12386691205554848, 'w4': 0.13109873300181227, 'w5': 0.33434743475961815, 'w6': 0.4189563563091556, 'w7': 0.041267986477679416, 'threshold': 0.31}\n"
     ]
    },
    {
     "name": "stderr",
     "output_type": "stream",
     "text": [
      "[I 2023-06-14 21:31:25,468] Trial 260 finished with value: 0.6798011064529419 and parameters: {'w1': 0.38455671688057336, 'w2': 0.5876688969953092, 'w3': 0.0017165531728133374, 'w4': 0.26221995530153946, 'w5': 0.21071260879748654, 'w6': 0.36412033805227806, 'w7': 0.18724745123077202}. Best is trial 199 with value: 0.6807036399841309.\n"
     ]
    },
    {
     "name": "stdout",
     "output_type": "stream",
     "text": [
      "{'w1': 0.38455671688057336, 'w2': 0.5876688969953092, 'w3': 0.0017165531728133374, 'w4': 0.26221995530153946, 'w5': 0.21071260879748654, 'w6': 0.36412033805227806, 'w7': 0.18724745123077202, 'threshold': 0.34}\n"
     ]
    },
    {
     "name": "stderr",
     "output_type": "stream",
     "text": [
      "[I 2023-06-14 21:31:26,513] Trial 261 finished with value: 0.6804339289665222 and parameters: {'w1': 0.5170587522055224, 'w2': 0.8989716991794433, 'w3': 0.03453194912696526, 'w4': 0.18109343542867956, 'w5': 0.27956824716086104, 'w6': 0.2050241428523304, 'w7': 0.12441955497084495}. Best is trial 199 with value: 0.6807036399841309.\n"
     ]
    },
    {
     "name": "stdout",
     "output_type": "stream",
     "text": [
      "{'w1': 0.5170587522055224, 'w2': 0.8989716991794433, 'w3': 0.03453194912696526, 'w4': 0.18109343542867956, 'w5': 0.27956824716086104, 'w6': 0.2050241428523304, 'w7': 0.12441955497084495, 'threshold': 0.28}\n"
     ]
    },
    {
     "name": "stderr",
     "output_type": "stream",
     "text": [
      "[I 2023-06-14 21:31:27,557] Trial 262 finished with value: 0.6798352599143982 and parameters: {'w1': 0.5723812559751419, 'w2': 0.9547166508029189, 'w3': 0.09553647768067701, 'w4': 0.21789763546295346, 'w5': 0.3063582814285151, 'w6': 0.05668824432447233, 'w7': 0.6065935321176693}. Best is trial 199 with value: 0.6807036399841309.\n"
     ]
    },
    {
     "name": "stdout",
     "output_type": "stream",
     "text": [
      "{'w1': 0.5723812559751419, 'w2': 0.9547166508029189, 'w3': 0.09553647768067701, 'w4': 0.21789763546295346, 'w5': 0.3063582814285151, 'w6': 0.05668824432447233, 'w7': 0.6065935321176693, 'threshold': 0.25}\n"
     ]
    },
    {
     "name": "stderr",
     "output_type": "stream",
     "text": [
      "[I 2023-06-14 21:31:28,602] Trial 263 finished with value: 0.680263102054596 and parameters: {'w1': 0.4854895954949999, 'w2': 0.9762284399887584, 'w3': 0.05572156093578616, 'w4': 0.15958546709443372, 'w5': 0.2584667356364853, 'w6': 0.3960071686567191, 'w7': 0.1499265963036301}. Best is trial 199 with value: 0.6807036399841309.\n"
     ]
    },
    {
     "name": "stdout",
     "output_type": "stream",
     "text": [
      "{'w1': 0.4854895954949999, 'w2': 0.9762284399887584, 'w3': 0.05572156093578616, 'w4': 0.15958546709443372, 'w5': 0.2584667356364853, 'w6': 0.3960071686567191, 'w7': 0.1499265963036301, 'threshold': 0.34}\n"
     ]
    },
    {
     "name": "stderr",
     "output_type": "stream",
     "text": [
      "[I 2023-06-14 21:31:29,647] Trial 264 finished with value: 0.6805986762046814 and parameters: {'w1': 0.43986026703160586, 'w2': 0.9385550041184575, 'w3': 0.026960536098226892, 'w4': 0.11126235324933245, 'w5': 0.3236770911204899, 'w6': 0.03636885587484471, 'w7': 0.20224016391244876}. Best is trial 199 with value: 0.6807036399841309.\n"
     ]
    },
    {
     "name": "stdout",
     "output_type": "stream",
     "text": [
      "{'w1': 0.43986026703160586, 'w2': 0.9385550041184575, 'w3': 0.026960536098226892, 'w4': 0.11126235324933245, 'w5': 0.3236770911204899, 'w6': 0.03636885587484471, 'w7': 0.20224016391244876, 'threshold': 0.31}\n"
     ]
    },
    {
     "name": "stderr",
     "output_type": "stream",
     "text": [
      "[I 2023-06-14 21:31:30,693] Trial 265 finished with value: 0.6790527105331421 and parameters: {'w1': 0.603370086598336, 'w2': 0.8835229171618957, 'w3': 0.07595399601287173, 'w4': 0.14458092980173104, 'w5': 0.9389960100836309, 'w6': 0.020262978347324795, 'w7': 0.8732835830713512}. Best is trial 199 with value: 0.6807036399841309.\n"
     ]
    },
    {
     "name": "stdout",
     "output_type": "stream",
     "text": [
      "{'w1': 0.603370086598336, 'w2': 0.8835229171618957, 'w3': 0.07595399601287173, 'w4': 0.14458092980173104, 'w5': 0.9389960100836309, 'w6': 0.020262978347324795, 'w7': 0.8732835830713512, 'threshold': 0.26}\n"
     ]
    },
    {
     "name": "stderr",
     "output_type": "stream",
     "text": [
      "[I 2023-06-14 21:31:31,739] Trial 266 finished with value: 0.6802379488945007 and parameters: {'w1': 0.5257011677948344, 'w2': 0.9082570669253978, 'w3': 0.1142864866360075, 'w4': 0.07836190094258352, 'w5': 0.2382728943296153, 'w6': 0.31560169120886733, 'w7': 0.17269790123034967}. Best is trial 199 with value: 0.6807036399841309.\n"
     ]
    },
    {
     "name": "stdout",
     "output_type": "stream",
     "text": [
      "{'w1': 0.5257011677948344, 'w2': 0.9082570669253978, 'w3': 0.1142864866360075, 'w4': 0.07836190094258352, 'w5': 0.2382728943296153, 'w6': 0.31560169120886733, 'w7': 0.17269790123034967, 'threshold': 0.33}\n"
     ]
    },
    {
     "name": "stderr",
     "output_type": "stream",
     "text": [
      "[I 2023-06-14 21:31:32,784] Trial 267 finished with value: 0.6805813908576965 and parameters: {'w1': 0.5561561209848197, 'w2': 0.9662085545904245, 'w3': 0.046572986522062994, 'w4': 0.1927001482949609, 'w5': 0.2941125844224809, 'w6': 0.06700359490035977, 'w7': 0.11250680358323707}. Best is trial 199 with value: 0.6807036399841309.\n"
     ]
    },
    {
     "name": "stdout",
     "output_type": "stream",
     "text": [
      "{'w1': 0.5561561209848197, 'w2': 0.9662085545904245, 'w3': 0.046572986522062994, 'w4': 0.1927001482949609, 'w5': 0.2941125844224809, 'w6': 0.06700359490035977, 'w7': 0.11250680358323707, 'threshold': 0.32}\n"
     ]
    },
    {
     "name": "stderr",
     "output_type": "stream",
     "text": [
      "[I 2023-06-14 21:31:33,830] Trial 268 finished with value: 0.6800999641418457 and parameters: {'w1': 0.5027846137674428, 'w2': 0.9815979272693224, 'w3': 0.15933920043589198, 'w4': 0.22499242565670674, 'w5': 0.2193036949700911, 'w6': 0.5216404273713214, 'w7': 0.14084732899113045}. Best is trial 199 with value: 0.6807036399841309.\n"
     ]
    },
    {
     "name": "stdout",
     "output_type": "stream",
     "text": [
      "{'w1': 0.5027846137674428, 'w2': 0.9815979272693224, 'w3': 0.15933920043589198, 'w4': 0.22499242565670674, 'w5': 0.2193036949700911, 'w6': 0.5216404273713214, 'w7': 0.14084732899113045, 'threshold': 0.26}\n"
     ]
    },
    {
     "name": "stderr",
     "output_type": "stream",
     "text": [
      "[I 2023-06-14 21:31:34,876] Trial 269 finished with value: 0.6800891757011414 and parameters: {'w1': 0.05635552253544318, 'w2': 0.9340805134240702, 'w3': 0.1341979498450472, 'w4': 0.09960646641702378, 'w5': 0.7886489040255357, 'w6': 0.039977900625772535, 'w7': 0.2431582827490331}. Best is trial 199 with value: 0.6807036399841309.\n"
     ]
    },
    {
     "name": "stdout",
     "output_type": "stream",
     "text": [
      "{'w1': 0.05635552253544318, 'w2': 0.9340805134240702, 'w3': 0.1341979498450472, 'w4': 0.09960646641702378, 'w5': 0.7886489040255357, 'w6': 0.039977900625772535, 'w7': 0.2431582827490331, 'threshold': 0.38}\n"
     ]
    },
    {
     "name": "stderr",
     "output_type": "stream",
     "text": [
      "[I 2023-06-14 21:31:35,921] Trial 270 finished with value: 0.6799259781837463 and parameters: {'w1': 0.4147034053646712, 'w2': 0.9552275987933564, 'w3': 0.996597459931109, 'w4': 0.16830959569349177, 'w5': 0.268999200732398, 'w6': 0.018878297560827418, 'w7': 0.2688648390953546}. Best is trial 199 with value: 0.6807036399841309.\n"
     ]
    },
    {
     "name": "stdout",
     "output_type": "stream",
     "text": [
      "{'w1': 0.4147034053646712, 'w2': 0.9552275987933564, 'w3': 0.996597459931109, 'w4': 0.16830959569349177, 'w5': 0.268999200732398, 'w6': 0.018878297560827418, 'w7': 0.2688648390953546, 'threshold': 0.26}\n"
     ]
    },
    {
     "name": "stderr",
     "output_type": "stream",
     "text": [
      "[I 2023-06-14 21:31:36,967] Trial 271 finished with value: 0.6805292963981628 and parameters: {'w1': 0.4748880300866639, 'w2': 0.9188673783240139, 'w3': 0.09437171040610012, 'w4': 0.13131172115727163, 'w5': 0.1882960509872056, 'w6': 0.09273324372397597, 'w7': 0.21741056184513233}. Best is trial 199 with value: 0.6807036399841309.\n"
     ]
    },
    {
     "name": "stdout",
     "output_type": "stream",
     "text": [
      "{'w1': 0.4748880300866639, 'w2': 0.9188673783240139, 'w3': 0.09437171040610012, 'w4': 0.13131172115727163, 'w5': 0.1882960509872056, 'w6': 0.09273324372397597, 'w7': 0.21741056184513233, 'threshold': 0.24}\n"
     ]
    },
    {
     "name": "stderr",
     "output_type": "stream",
     "text": [
      "[I 2023-06-14 21:31:38,012] Trial 272 finished with value: 0.6800781488418579 and parameters: {'w1': 0.22772710133002383, 'w2': 0.8842138232666493, 'w3': 0.015008183944145066, 'w4': 0.198098887891058, 'w5': 0.3589144157447741, 'w6': 0.001474309274473631, 'w7': 0.42989921930381203}. Best is trial 199 with value: 0.6807036399841309.\n"
     ]
    },
    {
     "name": "stdout",
     "output_type": "stream",
     "text": [
      "{'w1': 0.22772710133002383, 'w2': 0.8842138232666493, 'w3': 0.015008183944145066, 'w4': 0.198098887891058, 'w5': 0.3589144157447741, 'w6': 0.001474309274473631, 'w7': 0.42989921930381203, 'threshold': 0.28}\n"
     ]
    },
    {
     "name": "stderr",
     "output_type": "stream",
     "text": [
      "[I 2023-06-14 21:31:39,058] Trial 273 finished with value: 0.6805339455604553 and parameters: {'w1': 0.5773766004985729, 'w2': 0.999482442578018, 'w3': 0.00011323958900351372, 'w4': 0.24604675633675344, 'w5': 0.24417543512274378, 'w6': 0.1565348458150299, 'w7': 0.058750955188108855}. Best is trial 199 with value: 0.6807036399841309.\n"
     ]
    },
    {
     "name": "stdout",
     "output_type": "stream",
     "text": [
      "{'w1': 0.5773766004985729, 'w2': 0.999482442578018, 'w3': 0.00011323958900351372, 'w4': 0.24604675633675344, 'w5': 0.24417543512274378, 'w6': 0.1565348458150299, 'w7': 0.058750955188108855, 'threshold': 0.3}\n"
     ]
    },
    {
     "name": "stderr",
     "output_type": "stream",
     "text": [
      "[I 2023-06-14 21:31:40,103] Trial 274 finished with value: 0.680014431476593 and parameters: {'w1': 0.6158773009572253, 'w2': 0.5797604691875041, 'w3': 0.07157879460663279, 'w4': 0.15267333804560895, 'w5': 0.31619994804036433, 'w6': 0.22661726200258242, 'w7': 0.18626282438505246}. Best is trial 199 with value: 0.6807036399841309.\n"
     ]
    },
    {
     "name": "stdout",
     "output_type": "stream",
     "text": [
      "{'w1': 0.6158773009572253, 'w2': 0.5797604691875041, 'w3': 0.07157879460663279, 'w4': 0.15267333804560895, 'w5': 0.31619994804036433, 'w6': 0.22661726200258242, 'w7': 0.18626282438505246, 'threshold': 0.3}\n"
     ]
    },
    {
     "name": "stderr",
     "output_type": "stream",
     "text": [
      "[I 2023-06-14 21:31:41,149] Trial 275 finished with value: 0.6797755360603333 and parameters: {'w1': 0.4530968517156785, 'w2': 0.9432841417240051, 'w3': 0.037725966782341705, 'w4': 0.1788262674140047, 'w5': 0.3393270227184026, 'w6': 0.5568728821288056, 'w7': 0.32893975663080105}. Best is trial 199 with value: 0.6807036399841309.\n"
     ]
    },
    {
     "name": "stdout",
     "output_type": "stream",
     "text": [
      "{'w1': 0.4530968517156785, 'w2': 0.9432841417240051, 'w3': 0.037725966782341705, 'w4': 0.1788262674140047, 'w5': 0.3393270227184026, 'w6': 0.5568728821288056, 'w7': 0.32893975663080105, 'threshold': 0.31}\n"
     ]
    },
    {
     "name": "stderr",
     "output_type": "stream",
     "text": [
      "[I 2023-06-14 21:31:42,195] Trial 276 finished with value: 0.6805514693260193 and parameters: {'w1': 0.5356570075490308, 'w2': 0.9738648703912999, 'w3': 0.11115991941458181, 'w4': 0.048448760419670195, 'w5': 0.28318952391107277, 'w6': 0.050443060479798595, 'w7': 0.16581637914709832}. Best is trial 199 with value: 0.6807036399841309.\n"
     ]
    },
    {
     "name": "stdout",
     "output_type": "stream",
     "text": [
      "{'w1': 0.5356570075490308, 'w2': 0.9738648703912999, 'w3': 0.11115991941458181, 'w4': 0.048448760419670195, 'w5': 0.28318952391107277, 'w6': 0.050443060479798595, 'w7': 0.16581637914709832, 'threshold': 0.25}\n"
     ]
    },
    {
     "name": "stderr",
     "output_type": "stream",
     "text": [
      "[I 2023-06-14 21:31:43,241] Trial 277 finished with value: 0.6793360710144043 and parameters: {'w1': 0.43565827022353976, 'w2': 0.821082328090141, 'w3': 0.08286190314063925, 'w4': 0.08476023318718265, 'w5': 0.21808937740043005, 'w6': 0.9218647933776797, 'w7': 0.12709720819348733}. Best is trial 199 with value: 0.6807036399841309.\n"
     ]
    },
    {
     "name": "stdout",
     "output_type": "stream",
     "text": [
      "{'w1': 0.43565827022353976, 'w2': 0.821082328090141, 'w3': 0.08286190314063925, 'w4': 0.08476023318718265, 'w5': 0.21808937740043005, 'w6': 0.9218647933776797, 'w7': 0.12709720819348733, 'threshold': 0.36}\n"
     ]
    },
    {
     "name": "stderr",
     "output_type": "stream",
     "text": [
      "[I 2023-06-14 21:31:44,287] Trial 278 finished with value: 0.680670440196991 and parameters: {'w1': 0.5003964228718687, 'w2': 0.9045795645127133, 'w3': 0.051747988147968764, 'w4': 0.2202134453869052, 'w5': 0.25721213860256104, 'w6': 0.034155622037737324, 'w7': 0.20053835165866477}. Best is trial 199 with value: 0.6807036399841309.\n"
     ]
    },
    {
     "name": "stdout",
     "output_type": "stream",
     "text": [
      "{'w1': 0.5003964228718687, 'w2': 0.9045795645127133, 'w3': 0.051747988147968764, 'w4': 0.2202134453869052, 'w5': 0.25721213860256104, 'w6': 0.034155622037737324, 'w7': 0.20053835165866477, 'threshold': 0.29}\n"
     ]
    },
    {
     "name": "stderr",
     "output_type": "stream",
     "text": [
      "[I 2023-06-14 21:31:45,334] Trial 279 finished with value: 0.68024742603302 and parameters: {'w1': 0.4843735154405642, 'w2': 0.900774312447828, 'w3': 0.06131857568085986, 'w4': 0.2173847886012021, 'w5': 0.2534964388604304, 'w6': 0.28640632448691666, 'w7': 0.2042116836281208}. Best is trial 199 with value: 0.6807036399841309.\n"
     ]
    },
    {
     "name": "stdout",
     "output_type": "stream",
     "text": [
      "{'w1': 0.4843735154405642, 'w2': 0.900774312447828, 'w3': 0.06131857568085986, 'w4': 0.2173847886012021, 'w5': 0.2534964388604304, 'w6': 0.28640632448691666, 'w7': 0.2042116836281208, 'threshold': 0.29}\n"
     ]
    },
    {
     "name": "stderr",
     "output_type": "stream",
     "text": [
      "[I 2023-06-14 21:31:46,380] Trial 280 finished with value: 0.6806119680404663 and parameters: {'w1': 0.5071094595006096, 'w2': 0.8756109559908625, 'w3': 0.12893696348993888, 'w4': 0.2585399819867199, 'w5': 0.26427991280641083, 'w6': 0.021385008925876237, 'w7': 0.22880634237602449}. Best is trial 199 with value: 0.6807036399841309.\n"
     ]
    },
    {
     "name": "stdout",
     "output_type": "stream",
     "text": [
      "{'w1': 0.5071094595006096, 'w2': 0.8756109559908625, 'w3': 0.12893696348993888, 'w4': 0.2585399819867199, 'w5': 0.26427991280641083, 'w6': 0.021385008925876237, 'w7': 0.22880634237602449, 'threshold': 0.28}\n"
     ]
    },
    {
     "name": "stderr",
     "output_type": "stream",
     "text": [
      "[I 2023-06-14 21:31:47,427] Trial 281 finished with value: 0.6801668405532837 and parameters: {'w1': 0.48925348043088646, 'w2': 0.7403160872233764, 'w3': 0.4637860136840455, 'w4': 0.2293671739044245, 'w5': 0.23179326679182677, 'w6': 0.03893842729541813, 'w7': 0.3059661441840255}. Best is trial 199 with value: 0.6807036399841309.\n"
     ]
    },
    {
     "name": "stdout",
     "output_type": "stream",
     "text": [
      "{'w1': 0.48925348043088646, 'w2': 0.7403160872233764, 'w3': 0.4637860136840455, 'w4': 0.2293671739044245, 'w5': 0.23179326679182677, 'w6': 0.03893842729541813, 'w7': 0.3059661441840255, 'threshold': 0.28}\n"
     ]
    },
    {
     "name": "stderr",
     "output_type": "stream",
     "text": [
      "[I 2023-06-14 21:31:48,472] Trial 282 finished with value: 0.6805132627487183 and parameters: {'w1': 0.4622114472464073, 'w2': 0.860323575118928, 'w3': 0.10086834232116695, 'w4': 0.4217148002229353, 'w5': 0.20256330746149057, 'w6': 0.0010340359452435037, 'w7': 0.19112663205417357}. Best is trial 199 with value: 0.6807036399841309.\n"
     ]
    },
    {
     "name": "stdout",
     "output_type": "stream",
     "text": [
      "{'w1': 0.4622114472464073, 'w2': 0.860323575118928, 'w3': 0.10086834232116695, 'w4': 0.4217148002229353, 'w5': 0.20256330746149057, 'w6': 0.0010340359452435037, 'w7': 0.19112663205417357, 'threshold': 0.29}\n"
     ]
    },
    {
     "name": "stderr",
     "output_type": "stream",
     "text": [
      "[I 2023-06-14 21:31:49,518] Trial 283 finished with value: 0.6804447770118713 and parameters: {'w1': 0.5217014287865233, 'w2': 0.9168568361669972, 'w3': 0.3043776336094062, 'w4': 0.20565891701830036, 'w5': 0.28968294889267937, 'w6': 0.07143118655326038, 'w7': 0.16666433112607779}. Best is trial 199 with value: 0.6807036399841309.\n"
     ]
    },
    {
     "name": "stdout",
     "output_type": "stream",
     "text": [
      "{'w1': 0.5217014287865233, 'w2': 0.9168568361669972, 'w3': 0.3043776336094062, 'w4': 0.20565891701830036, 'w5': 0.28968294889267937, 'w6': 0.07143118655326038, 'w7': 0.16666433112607779, 'threshold': 0.27}\n"
     ]
    },
    {
     "name": "stderr",
     "output_type": "stream",
     "text": [
      "[I 2023-06-14 21:31:50,565] Trial 284 finished with value: 0.6804776787757874 and parameters: {'w1': 0.543904380865869, 'w2': 0.8980564233285182, 'w3': 0.3798946130084121, 'w4': 0.271857490840013, 'w5': 0.24775030413107177, 'w6': 0.030564310842464176, 'w7': 0.21095582305765018}. Best is trial 199 with value: 0.6807036399841309.\n"
     ]
    },
    {
     "name": "stdout",
     "output_type": "stream",
     "text": [
      "{'w1': 0.543904380865869, 'w2': 0.8980564233285182, 'w3': 0.3798946130084121, 'w4': 0.271857490840013, 'w5': 0.24775030413107177, 'w6': 0.030564310842464176, 'w7': 0.21095582305765018, 'threshold': 0.27}\n"
     ]
    },
    {
     "name": "stderr",
     "output_type": "stream",
     "text": [
      "[I 2023-06-14 21:31:51,611] Trial 285 finished with value: 0.6804395914077759 and parameters: {'w1': 0.42434936341593854, 'w2': 0.9241920104667752, 'w3': 0.36193485208282417, 'w4': 0.18773138618333285, 'w5': 0.27305250458281066, 'w6': 0.01569493453314848, 'w7': 0.1528602746850099}. Best is trial 199 with value: 0.6807036399841309.\n"
     ]
    },
    {
     "name": "stdout",
     "output_type": "stream",
     "text": [
      "{'w1': 0.42434936341593854, 'w2': 0.9241920104667752, 'w3': 0.36193485208282417, 'w4': 0.18773138618333285, 'w5': 0.27305250458281066, 'w6': 0.01569493453314848, 'w7': 0.1528602746850099, 'threshold': 0.27}\n"
     ]
    },
    {
     "name": "stderr",
     "output_type": "stream",
     "text": [
      "[I 2023-06-14 21:31:52,657] Trial 286 finished with value: 0.6802089810371399 and parameters: {'w1': 0.015928677668110458, 'w2': 0.9464644495868952, 'w3': 0.4034117514324318, 'w4': 0.16881044069783785, 'w5': 0.3017140980947087, 'w6': 0.040778979045006665, 'w7': 0.18648251541084435}. Best is trial 199 with value: 0.6807036399841309.\n"
     ]
    },
    {
     "name": "stdout",
     "output_type": "stream",
     "text": [
      "{'w1': 0.015928677668110458, 'w2': 0.9464644495868952, 'w3': 0.4034117514324318, 'w4': 0.16881044069783785, 'w5': 0.3017140980947087, 'w6': 0.040778979045006665, 'w7': 0.18648251541084435, 'threshold': 0.36}\n"
     ]
    },
    {
     "name": "stderr",
     "output_type": "stream",
     "text": [
      "[I 2023-06-14 21:31:53,703] Trial 287 finished with value: 0.6802112460136414 and parameters: {'w1': 0.4724969963353844, 'w2': 0.6504400604511363, 'w3': 0.17113647853102312, 'w4': 0.14016081304899097, 'w5': 0.18191710337130476, 'w6': 0.12833742043608476, 'w7': 0.25343274955145734}. Best is trial 199 with value: 0.6807036399841309.\n"
     ]
    },
    {
     "name": "stdout",
     "output_type": "stream",
     "text": [
      "{'w1': 0.4724969963353844, 'w2': 0.6504400604511363, 'w3': 0.17113647853102312, 'w4': 0.14016081304899097, 'w5': 0.18191710337130476, 'w6': 0.12833742043608476, 'w7': 0.25343274955145734, 'threshold': 0.24}\n"
     ]
    },
    {
     "name": "stderr",
     "output_type": "stream",
     "text": [
      "[I 2023-06-14 21:31:54,748] Trial 288 finished with value: 0.6806167364120483 and parameters: {'w1': 0.3919544553967492, 'w2': 0.9283774048552221, 'w3': 0.04780561603037506, 'w4': 0.23774810167036342, 'w5': 0.2370883894091092, 'w6': 0.0011205583367547211, 'w7': 0.17447719710072507}. Best is trial 199 with value: 0.6807036399841309.\n"
     ]
    },
    {
     "name": "stdout",
     "output_type": "stream",
     "text": [
      "{'w1': 0.3919544553967492, 'w2': 0.9283774048552221, 'w3': 0.04780561603037506, 'w4': 0.23774810167036342, 'w5': 0.2370883894091092, 'w6': 0.0011205583367547211, 'w7': 0.17447719710072507, 'threshold': 0.31}\n"
     ]
    },
    {
     "name": "stderr",
     "output_type": "stream",
     "text": [
      "[I 2023-06-14 21:31:55,795] Trial 289 finished with value: 0.6803920269012451 and parameters: {'w1': 0.5085952176017885, 'w2': 0.9030864621421089, 'w3': 0.541289418160278, 'w4': 0.2138416798381166, 'w5': 0.20628511453594967, 'w6': 0.0639204439090785, 'w7': 0.20219986890173894}. Best is trial 199 with value: 0.6807036399841309.\n"
     ]
    },
    {
     "name": "stdout",
     "output_type": "stream",
     "text": [
      "{'w1': 0.5085952176017885, 'w2': 0.9030864621421089, 'w3': 0.541289418160278, 'w4': 0.2138416798381166, 'w5': 0.20628511453594967, 'w6': 0.0639204439090785, 'w7': 0.20219986890173894, 'threshold': 0.28}\n"
     ]
    },
    {
     "name": "stderr",
     "output_type": "stream",
     "text": [
      "[I 2023-06-14 21:31:56,840] Trial 290 finished with value: 0.6801310181617737 and parameters: {'w1': 0.45385257826351755, 'w2': 0.6314349363258326, 'w3': 0.14577594877788816, 'w4': 0.028882912926197248, 'w5': 0.2657782070648168, 'w6': 0.1741605438096166, 'w7': 0.22816424017565032}. Best is trial 199 with value: 0.6807036399841309.\n"
     ]
    },
    {
     "name": "stdout",
     "output_type": "stream",
     "text": [
      "{'w1': 0.45385257826351755, 'w2': 0.6314349363258326, 'w3': 0.14577594877788816, 'w4': 0.028882912926197248, 'w5': 0.2657782070648168, 'w6': 0.1741605438096166, 'w7': 0.22816424017565032, 'threshold': 0.26}\n"
     ]
    },
    {
     "name": "stderr",
     "output_type": "stream",
     "text": [
      "[I 2023-06-14 21:31:57,887] Trial 291 finished with value: 0.6806362867355347 and parameters: {'w1': 0.555004427744346, 'w2': 0.9843455163150865, 'w3': 0.08330541587074765, 'w4': 0.06135102587465148, 'w5': 0.3187496607110844, 'w6': 0.02200339751578432, 'w7': 0.14942942962901823}. Best is trial 199 with value: 0.6807036399841309.\n"
     ]
    },
    {
     "name": "stdout",
     "output_type": "stream",
     "text": [
      "{'w1': 0.555004427744346, 'w2': 0.9843455163150865, 'w3': 0.08330541587074765, 'w4': 0.06135102587465148, 'w5': 0.3187496607110844, 'w6': 0.02200339751578432, 'w7': 0.14942942962901823, 'threshold': 0.29}\n"
     ]
    },
    {
     "name": "stderr",
     "output_type": "stream",
     "text": [
      "[I 2023-06-14 21:31:58,933] Trial 292 finished with value: 0.6806106567382812 and parameters: {'w1': 0.5884297707329105, 'w2': 0.957083135884298, 'w3': 0.11161318566489425, 'w4': 0.1923024678628461, 'w5': 0.2889018849652145, 'w6': 0.09043845697825134, 'w7': 0.17562569386580829}. Best is trial 199 with value: 0.6807036399841309.\n"
     ]
    },
    {
     "name": "stdout",
     "output_type": "stream",
     "text": [
      "{'w1': 0.5884297707329105, 'w2': 0.957083135884298, 'w3': 0.11161318566489425, 'w4': 0.1923024678628461, 'w5': 0.2889018849652145, 'w6': 0.09043845697825134, 'w7': 0.17562569386580829, 'threshold': 0.29}\n"
     ]
    },
    {
     "name": "stderr",
     "output_type": "stream",
     "text": [
      "[I 2023-06-14 21:31:59,980] Trial 293 finished with value: 0.6805620193481445 and parameters: {'w1': 0.5310930795132071, 'w2': 0.7676559926598849, 'w3': 0.0665202590408813, 'w4': 0.16022050392493944, 'w5': 0.2236020627870906, 'w6': 0.04945978409971147, 'w7': 0.09324899037218115}. Best is trial 199 with value: 0.6807036399841309.\n"
     ]
    },
    {
     "name": "stdout",
     "output_type": "stream",
     "text": [
      "{'w1': 0.5310930795132071, 'w2': 0.7676559926598849, 'w3': 0.0665202590408813, 'w4': 0.16022050392493944, 'w5': 0.2236020627870906, 'w6': 0.04945978409971147, 'w7': 0.09324899037218115, 'threshold': 0.28}\n"
     ]
    },
    {
     "name": "stderr",
     "output_type": "stream",
     "text": [
      "[I 2023-06-14 21:32:01,027] Trial 294 finished with value: 0.6781209707260132 and parameters: {'w1': 0.493977822516712, 'w2': 0.5517732661038607, 'w3': 0.02774779905759591, 'w4': 0.004282004994064392, 'w5': 0.252260354666064, 'w6': 0.9979458325651998, 'w7': 0.2765487376447349}. Best is trial 199 with value: 0.6807036399841309.\n"
     ]
    },
    {
     "name": "stdout",
     "output_type": "stream",
     "text": [
      "{'w1': 0.493977822516712, 'w2': 0.5517732661038607, 'w3': 0.02774779905759591, 'w4': 0.004282004994064392, 'w5': 0.252260354666064, 'w6': 0.9979458325651998, 'w7': 0.2765487376447349, 'threshold': 0.36}\n"
     ]
    },
    {
     "name": "stderr",
     "output_type": "stream",
     "text": [
      "[I 2023-06-14 21:32:02,074] Trial 295 finished with value: 0.6801249980926514 and parameters: {'w1': 0.4459950120087565, 'w2': 0.8427746799230442, 'w3': 0.046967967112765116, 'w4': 0.12058709080988833, 'w5': 0.30287588364951196, 'w6': 0.03109193114758239, 'w7': 0.41098175466953046}. Best is trial 199 with value: 0.6807036399841309.\n"
     ]
    },
    {
     "name": "stdout",
     "output_type": "stream",
     "text": [
      "{'w1': 0.4459950120087565, 'w2': 0.8427746799230442, 'w3': 0.046967967112765116, 'w4': 0.12058709080988833, 'w5': 0.30287588364951196, 'w6': 0.03109193114758239, 'w7': 0.41098175466953046, 'threshold': 0.22}\n"
     ]
    },
    {
     "name": "stderr",
     "output_type": "stream",
     "text": [
      "[I 2023-06-14 21:32:03,121] Trial 296 finished with value: 0.6804695129394531 and parameters: {'w1': 0.1458793707330026, 'w2': 0.8048874370835835, 'w3': 0.09310232203420479, 'w4': 0.21270098748530863, 'w5': 0.27525532624663385, 'w6': 0.022018606884257382, 'w7': 0.20351900921478344}. Best is trial 199 with value: 0.6807036399841309.\n"
     ]
    },
    {
     "name": "stdout",
     "output_type": "stream",
     "text": [
      "{'w1': 0.1458793707330026, 'w2': 0.8048874370835835, 'w3': 0.09310232203420479, 'w4': 0.21270098748530863, 'w5': 0.27525532624663385, 'w6': 0.022018606884257382, 'w7': 0.20351900921478344, 'threshold': 0.29}\n"
     ]
    },
    {
     "name": "stderr",
     "output_type": "stream",
     "text": [
      "[I 2023-06-14 21:32:04,168] Trial 297 finished with value: 0.6801963448524475 and parameters: {'w1': 0.5680994240479745, 'w2': 0.5139454164500525, 'w3': 0.13115314973603, 'w4': 0.1447159198213441, 'w5': 0.20339164859106218, 'w6': 0.07071407463295973, 'w7': 0.14248938418127752}. Best is trial 199 with value: 0.6807036399841309.\n"
     ]
    },
    {
     "name": "stdout",
     "output_type": "stream",
     "text": [
      "{'w1': 0.5680994240479745, 'w2': 0.5139454164500525, 'w3': 0.13115314973603, 'w4': 0.1447159198213441, 'w5': 0.20339164859106218, 'w6': 0.07071407463295973, 'w7': 0.14248938418127752, 'threshold': 0.29}\n"
     ]
    },
    {
     "name": "stderr",
     "output_type": "stream",
     "text": [
      "[I 2023-06-14 21:32:05,215] Trial 298 finished with value: 0.6804707050323486 and parameters: {'w1': 0.4685328198830299, 'w2': 0.8812240515686103, 'w3': 0.021705095969079918, 'w4': 0.17385301032525474, 'w5': 0.4228772487716968, 'w6': 0.051132111145078096, 'w7': 0.11040585879135711}. Best is trial 199 with value: 0.6807036399841309.\n"
     ]
    },
    {
     "name": "stdout",
     "output_type": "stream",
     "text": [
      "{'w1': 0.4685328198830299, 'w2': 0.8812240515686103, 'w3': 0.021705095969079918, 'w4': 0.17385301032525474, 'w5': 0.4228772487716968, 'w6': 0.051132111145078096, 'w7': 0.11040585879135711, 'threshold': 0.3}\n"
     ]
    },
    {
     "name": "stderr",
     "output_type": "stream",
     "text": [
      "[I 2023-06-14 21:32:06,262] Trial 299 finished with value: 0.6802554726600647 and parameters: {'w1': 0.5136688668219352, 'w2': 0.9360906891848229, 'w3': 0.06813570423960032, 'w4': 0.034433636548565016, 'w5': 0.23275133441262952, 'w6': 0.4489514163610316, 'w7': 0.073031100432567}. Best is trial 199 with value: 0.6807036399841309.\n"
     ]
    },
    {
     "name": "stdout",
     "output_type": "stream",
     "text": [
      "{'w1': 0.5136688668219352, 'w2': 0.9360906891848229, 'w3': 0.06813570423960032, 'w4': 0.034433636548565016, 'w5': 0.23275133441262952, 'w6': 0.4489514163610316, 'w7': 0.073031100432567, 'threshold': 0.31}\n"
     ]
    },
    {
     "name": "stderr",
     "output_type": "stream",
     "text": [
      "[I 2023-06-14 21:32:07,310] Trial 300 finished with value: 0.679854154586792 and parameters: {'w1': 0.5414487090231245, 'w2': 0.9719831569974863, 'w3': 0.10652779554507122, 'w4': 0.6219858476483141, 'w5': 0.5043581012354514, 'w6': 0.4891404201206544, 'w7': 0.3482946221827369}. Best is trial 199 with value: 0.6807036399841309.\n"
     ]
    },
    {
     "name": "stdout",
     "output_type": "stream",
     "text": [
      "{'w1': 0.5414487090231245, 'w2': 0.9719831569974863, 'w3': 0.10652779554507122, 'w4': 0.6219858476483141, 'w5': 0.5043581012354514, 'w6': 0.4891404201206544, 'w7': 0.3482946221827369, 'threshold': 0.3}\n"
     ]
    },
    {
     "name": "stderr",
     "output_type": "stream",
     "text": [
      "[I 2023-06-14 21:32:08,357] Trial 301 finished with value: 0.6804028153419495 and parameters: {'w1': 0.4296793410703165, 'w2': 0.9989485321293005, 'w3': 0.4292147153179884, 'w4': 0.23855027216803323, 'w5': 0.3275932393070218, 'w6': 0.000956094784309226, 'w7': 0.16031105101402504}. Best is trial 199 with value: 0.6807036399841309.\n"
     ]
    },
    {
     "name": "stdout",
     "output_type": "stream",
     "text": [
      "{'w1': 0.4296793410703165, 'w2': 0.9989485321293005, 'w3': 0.4292147153179884, 'w4': 0.23855027216803323, 'w5': 0.3275932393070218, 'w6': 0.000956094784309226, 'w7': 0.16031105101402504, 'threshold': 0.31}\n"
     ]
    },
    {
     "name": "stderr",
     "output_type": "stream",
     "text": [
      "[I 2023-06-14 21:32:09,405] Trial 302 finished with value: 0.6801682710647583 and parameters: {'w1': 0.588470702242209, 'w2': 0.9133494304461769, 'w3': 0.049467415849159084, 'w4': 0.19363538233835392, 'w5': 0.44420074886633204, 'w6': 0.33105266508528763, 'w7': 0.18767665914093984}. Best is trial 199 with value: 0.6807036399841309.\n"
     ]
    },
    {
     "name": "stdout",
     "output_type": "stream",
     "text": [
      "{'w1': 0.588470702242209, 'w2': 0.9133494304461769, 'w3': 0.049467415849159084, 'w4': 0.19363538233835392, 'w5': 0.44420074886633204, 'w6': 0.33105266508528763, 'w7': 0.18767665914093984, 'threshold': 0.36}\n"
     ]
    },
    {
     "name": "stderr",
     "output_type": "stream",
     "text": [
      "[I 2023-06-14 21:32:10,452] Trial 303 finished with value: 0.6785691976547241 and parameters: {'w1': 0.3590387151820933, 'w2': 0.9504178796340126, 'w3': 0.0863032860139205, 'w4': 0.01850849670361327, 'w5': 0.26241611017647276, 'w6': 0.7539094083181688, 'w7': 0.569463809809259}. Best is trial 199 with value: 0.6807036399841309.\n"
     ]
    },
    {
     "name": "stdout",
     "output_type": "stream",
     "text": [
      "{'w1': 0.3590387151820933, 'w2': 0.9504178796340126, 'w3': 0.0863032860139205, 'w4': 0.01850849670361327, 'w5': 0.26241611017647276, 'w6': 0.7539094083181688, 'w7': 0.569463809809259, 'threshold': 0.37}\n"
     ]
    },
    {
     "name": "stderr",
     "output_type": "stream",
     "text": [
      "[I 2023-06-14 21:32:11,499] Trial 304 finished with value: 0.6804385781288147 and parameters: {'w1': 0.484790197189923, 'w2': 0.9302352366155147, 'w3': 0.001287606807154765, 'w4': 0.3909320634182446, 'w5': 0.2898976678828922, 'w6': 0.21091641318214563, 'w7': 0.2430952493426894}. Best is trial 199 with value: 0.6807036399841309.\n"
     ]
    },
    {
     "name": "stdout",
     "output_type": "stream",
     "text": [
      "{'w1': 0.484790197189923, 'w2': 0.9302352366155147, 'w3': 0.001287606807154765, 'w4': 0.3909320634182446, 'w5': 0.2898976678828922, 'w6': 0.21091641318214563, 'w7': 0.2430952493426894, 'threshold': 0.29}\n"
     ]
    },
    {
     "name": "stderr",
     "output_type": "stream",
     "text": [
      "[I 2023-06-14 21:32:12,547] Trial 305 finished with value: 0.6796083450317383 and parameters: {'w1': 0.5519783388790761, 'w2': 0.8576281492906265, 'w3': 0.6236783793139165, 'w4': 0.11709725948224553, 'w5': 0.24808185342921313, 'w6': 0.8280541007207488, 'w7': 0.21745255058391977}. Best is trial 199 with value: 0.6807036399841309.\n"
     ]
    },
    {
     "name": "stdout",
     "output_type": "stream",
     "text": [
      "{'w1': 0.5519783388790761, 'w2': 0.8576281492906265, 'w3': 0.6236783793139165, 'w4': 0.11709725948224553, 'w5': 0.24808185342921313, 'w6': 0.8280541007207488, 'w7': 0.21745255058391977, 'threshold': 0.31}\n"
     ]
    },
    {
     "name": "stderr",
     "output_type": "stream",
     "text": [
      "[I 2023-06-14 21:32:13,595] Trial 306 finished with value: 0.6806251406669617 and parameters: {'w1': 0.4990603827725987, 'w2': 0.9655303575172566, 'w3': 0.15372596083409062, 'w4': 0.15691719454753, 'w5': 0.18154287892498125, 'w6': 0.03235859586664728, 'w7': 0.13261888857461573}. Best is trial 199 with value: 0.6807036399841309.\n"
     ]
    },
    {
     "name": "stdout",
     "output_type": "stream",
     "text": [
      "{'w1': 0.4990603827725987, 'w2': 0.9655303575172566, 'w3': 0.15372596083409062, 'w4': 0.15691719454753, 'w5': 0.18154287892498125, 'w6': 0.03235859586664728, 'w7': 0.13261888857461573, 'threshold': 0.3}\n"
     ]
    },
    {
     "name": "stderr",
     "output_type": "stream",
     "text": [
      "[I 2023-06-14 21:32:14,642] Trial 307 finished with value: 0.6804748177528381 and parameters: {'w1': 0.6282034172232354, 'w2': 0.8941830878809349, 'w3': 0.03683325193275133, 'w4': 0.09357637144089441, 'w5': 0.38906567862267466, 'w6': 0.0186423162944851, 'w7': 0.3134012549302634}. Best is trial 199 with value: 0.6807036399841309.\n"
     ]
    },
    {
     "name": "stdout",
     "output_type": "stream",
     "text": [
      "{'w1': 0.6282034172232354, 'w2': 0.8941830878809349, 'w3': 0.03683325193275133, 'w4': 0.09357637144089441, 'w5': 0.38906567862267466, 'w6': 0.0186423162944851, 'w7': 0.3134012549302634, 'threshold': 0.24}\n"
     ]
    },
    {
     "name": "stderr",
     "output_type": "stream",
     "text": [
      "[I 2023-06-14 21:32:15,690] Trial 308 finished with value: 0.6795545220375061 and parameters: {'w1': 0.57378004037017, 'w2': 0.9805402022188299, 'w3': 0.26147025213192454, 'w4': 0.2610752234075516, 'w5': 0.308734837429159, 'w6': 0.6425172645897284, 'w7': 0.4795949698282006}. Best is trial 199 with value: 0.6807036399841309.\n"
     ]
    },
    {
     "name": "stdout",
     "output_type": "stream",
     "text": [
      "{'w1': 0.57378004037017, 'w2': 0.9805402022188299, 'w3': 0.26147025213192454, 'w4': 0.2610752234075516, 'w5': 0.308734837429159, 'w6': 0.6425172645897284, 'w7': 0.4795949698282006, 'threshold': 0.33}\n"
     ]
    },
    {
     "name": "stderr",
     "output_type": "stream",
     "text": [
      "[I 2023-06-14 21:32:16,737] Trial 309 finished with value: 0.6800357103347778 and parameters: {'w1': 0.5261328275350364, 'w2': 0.9457257088427665, 'w3': 0.1215779582006926, 'w4': 0.13424530949408092, 'w5': 0.22026165277454823, 'w6': 0.10727984056338784, 'w7': 0.4595751340294493}. Best is trial 199 with value: 0.6807036399841309.\n"
     ]
    },
    {
     "name": "stdout",
     "output_type": "stream",
     "text": [
      "{'w1': 0.5261328275350364, 'w2': 0.9457257088427665, 'w3': 0.1215779582006926, 'w4': 0.13424530949408092, 'w5': 0.22026165277454823, 'w6': 0.10727984056338784, 'w7': 0.4595751340294493, 'threshold': 0.23}\n"
     ]
    },
    {
     "name": "stderr",
     "output_type": "stream",
     "text": [
      "[I 2023-06-14 21:32:17,785] Trial 310 finished with value: 0.6796566843986511 and parameters: {'w1': 0.40921612796606754, 'w2': 0.707942436271245, 'w3': 0.06168563037583018, 'w4': 0.861082485806663, 'w5': 0.3688193085942487, 'w6': 0.4137226750543872, 'w7': 0.16381797032866657}. Best is trial 199 with value: 0.6807036399841309.\n"
     ]
    },
    {
     "name": "stdout",
     "output_type": "stream",
     "text": [
      "{'w1': 0.40921612796606754, 'w2': 0.707942436271245, 'w3': 0.06168563037583018, 'w4': 0.861082485806663, 'w5': 0.3688193085942487, 'w6': 0.4137226750543872, 'w7': 0.16381797032866657, 'threshold': 0.25}\n"
     ]
    },
    {
     "name": "stderr",
     "output_type": "stream",
     "text": [
      "[I 2023-06-14 21:32:18,833] Trial 311 finished with value: 0.6801786422729492 and parameters: {'w1': 0.6068199532954097, 'w2': 0.9120210714090101, 'w3': 0.08707222557440376, 'w4': 0.6677612683113403, 'w5': 0.28049154197701215, 'w6': 0.05520971770041804, 'w7': 0.00588821094942793}. Best is trial 199 with value: 0.6807036399841309.\n"
     ]
    },
    {
     "name": "stdout",
     "output_type": "stream",
     "text": [
      "{'w1': 0.6068199532954097, 'w2': 0.9120210714090101, 'w3': 0.08707222557440376, 'w4': 0.6677612683113403, 'w5': 0.28049154197701215, 'w6': 0.05520971770041804, 'w7': 0.00588821094942793, 'threshold': 0.21}\n"
     ]
    },
    {
     "name": "stderr",
     "output_type": "stream",
     "text": [
      "[I 2023-06-14 21:32:19,880] Trial 312 finished with value: 0.6803109645843506 and parameters: {'w1': 0.4484295921310961, 'w2': 0.9665152251898748, 'w3': 0.021051974490475883, 'w4': 0.2198925727565604, 'w5': 0.3387465560577007, 'w6': 0.27706174376790643, 'w7': 0.18436689106668416}. Best is trial 199 with value: 0.6807036399841309.\n"
     ]
    },
    {
     "name": "stdout",
     "output_type": "stream",
     "text": [
      "{'w1': 0.4484295921310961, 'w2': 0.9665152251898748, 'w3': 0.021051974490475883, 'w4': 0.2198925727565604, 'w5': 0.3387465560577007, 'w6': 0.27706174376790643, 'w7': 0.18436689106668416, 'threshold': 0.32}\n"
     ]
    },
    {
     "name": "stderr",
     "output_type": "stream",
     "text": [
      "[I 2023-06-14 21:32:20,928] Trial 313 finished with value: 0.6804060935974121 and parameters: {'w1': 0.46972937874398724, 'w2': 0.7087126056161615, 'w3': 0.17548959468129618, 'w4': 0.18944315393370229, 'w5': 0.23671434286298407, 'w6': 0.07798691830105106, 'w7': 0.11549714919240511}. Best is trial 199 with value: 0.6807036399841309.\n"
     ]
    },
    {
     "name": "stdout",
     "output_type": "stream",
     "text": [
      "{'w1': 0.46972937874398724, 'w2': 0.7087126056161615, 'w3': 0.17548959468129618, 'w4': 0.18944315393370229, 'w5': 0.23671434286298407, 'w6': 0.07798691830105106, 'w7': 0.11549714919240511, 'threshold': 0.28}\n"
     ]
    },
    {
     "name": "stderr",
     "output_type": "stream",
     "text": [
      "[I 2023-06-14 21:32:21,975] Trial 314 finished with value: 0.6801552772521973 and parameters: {'w1': 0.5268526992553092, 'w2': 0.6671385925471472, 'w3': 0.10931794879900626, 'w4': 0.1722173164689314, 'w5': 0.2631653543697334, 'w6': 0.24905170729908577, 'w7': 0.14649615960423246}. Best is trial 199 with value: 0.6807036399841309.\n"
     ]
    },
    {
     "name": "stdout",
     "output_type": "stream",
     "text": [
      "{'w1': 0.5268526992553092, 'w2': 0.6671385925471472, 'w3': 0.10931794879900626, 'w4': 0.1722173164689314, 'w5': 0.2631653543697334, 'w6': 0.24905170729908577, 'w7': 0.14649615960423246, 'threshold': 0.38}\n"
     ]
    },
    {
     "name": "stderr",
     "output_type": "stream",
     "text": [
      "[I 2023-06-14 21:32:23,023] Trial 315 finished with value: 0.6802517771720886 and parameters: {'w1': 0.5544244310547832, 'w2': 0.9315316360318504, 'w3': 0.1403832494104879, 'w4': 0.7363912487837916, 'w5': 0.20472469594468656, 'w6': 0.016165692335967312, 'w7': 0.2231641323589822}. Best is trial 199 with value: 0.6807036399841309.\n"
     ]
    },
    {
     "name": "stdout",
     "output_type": "stream",
     "text": [
      "{'w1': 0.5544244310547832, 'w2': 0.9315316360318504, 'w3': 0.1403832494104879, 'w4': 0.7363912487837916, 'w5': 0.20472469594468656, 'w6': 0.016165692335967312, 'w7': 0.2231641323589822, 'threshold': 0.28}\n"
     ]
    },
    {
     "name": "stderr",
     "output_type": "stream",
     "text": [
      "[I 2023-06-14 21:32:24,071] Trial 316 finished with value: 0.6806374788284302 and parameters: {'w1': 0.5032290396669002, 'w2': 0.7985058406946852, 'w3': 0.07451259845355579, 'w4': 0.07489238832308354, 'w5': 0.317762873947462, 'w6': 0.03444240236487631, 'w7': 0.1994645045883988}. Best is trial 199 with value: 0.6807036399841309.\n"
     ]
    },
    {
     "name": "stdout",
     "output_type": "stream",
     "text": [
      "{'w1': 0.5032290396669002, 'w2': 0.7985058406946852, 'w3': 0.07451259845355579, 'w4': 0.07489238832308354, 'w5': 0.317762873947462, 'w6': 0.03444240236487631, 'w7': 0.1994645045883988, 'threshold': 0.29}\n"
     ]
    },
    {
     "name": "stderr",
     "output_type": "stream",
     "text": [
      "[I 2023-06-14 21:32:25,119] Trial 317 finished with value: 0.6803458333015442 and parameters: {'w1': 0.4331219592558221, 'w2': 0.9999439657591777, 'w3': 0.04308441228169392, 'w4': 0.1064512860819526, 'w5': 0.2944281679947793, 'w6': 0.26437309366678513, 'w7': 0.16736213543622375}. Best is trial 199 with value: 0.6807036399841309.\n"
     ]
    },
    {
     "name": "stdout",
     "output_type": "stream",
     "text": [
      "{'w1': 0.4331219592558221, 'w2': 0.9999439657591777, 'w3': 0.04308441228169392, 'w4': 0.1064512860819526, 'w5': 0.2944281679947793, 'w6': 0.26437309366678513, 'w7': 0.16736213543622375, 'threshold': 0.34}\n"
     ]
    },
    {
     "name": "stderr",
     "output_type": "stream",
     "text": [
      "[I 2023-06-14 21:32:26,167] Trial 318 finished with value: 0.6802965402603149 and parameters: {'w1': 0.4707650765589626, 'w2': 0.4504767433192346, 'w3': 0.016065779169495743, 'w4': 0.20430008149193762, 'w5': 0.22370763504255442, 'w6': 0.0014054200778291248, 'w7': 0.09085581824584325}. Best is trial 199 with value: 0.6807036399841309.\n"
     ]
    },
    {
     "name": "stdout",
     "output_type": "stream",
     "text": [
      "{'w1': 0.4707650765589626, 'w2': 0.4504767433192346, 'w3': 0.016065779169495743, 'w4': 0.20430008149193762, 'w5': 0.22370763504255442, 'w6': 0.0014054200778291248, 'w7': 0.09085581824584325, 'threshold': 0.26}\n"
     ]
    },
    {
     "name": "stderr",
     "output_type": "stream",
     "text": [
      "[I 2023-06-14 21:32:27,216] Trial 319 finished with value: 0.6798181533813477 and parameters: {'w1': 0.5722863611245814, 'w2': 0.5677448622888589, 'w3': 0.0981716466310024, 'w4': 0.6984332363531232, 'w5': 0.24650893946622499, 'w6': 0.037060417238617714, 'w7': 0.1336522543162471}. Best is trial 199 with value: 0.6807036399841309.\n"
     ]
    },
    {
     "name": "stdout",
     "output_type": "stream",
     "text": [
      "{'w1': 0.5722863611245814, 'w2': 0.5677448622888589, 'w3': 0.0981716466310024, 'w4': 0.6984332363531232, 'w5': 0.24650893946622499, 'w6': 0.037060417238617714, 'w7': 0.1336522543162471, 'threshold': 0.29}\n"
     ]
    },
    {
     "name": "stderr",
     "output_type": "stream",
     "text": [
      "[I 2023-06-14 21:32:28,264] Trial 320 finished with value: 0.6804377436637878 and parameters: {'w1': 0.5389244580357473, 'w2': 0.8873823655194818, 'w3': 0.2720448541667551, 'w4': 0.14624209969223642, 'w5': 0.27702311897759707, 'w6': 0.05414979831519041, 'w7': 0.03166709243619978}. Best is trial 199 with value: 0.6807036399841309.\n"
     ]
    },
    {
     "name": "stdout",
     "output_type": "stream",
     "text": [
      "{'w1': 0.5389244580357473, 'w2': 0.8873823655194818, 'w3': 0.2720448541667551, 'w4': 0.14624209969223642, 'w5': 0.27702311897759707, 'w6': 0.05414979831519041, 'w7': 0.03166709243619978, 'threshold': 0.29}\n"
     ]
    },
    {
     "name": "stderr",
     "output_type": "stream",
     "text": [
      "[I 2023-06-14 21:32:29,312] Trial 321 finished with value: 0.6795526146888733 and parameters: {'w1': 0.48857561487971235, 'w2': 0.9543922592159617, 'w3': 0.8665014338879932, 'w4': 0.27752624489399297, 'w5': 0.651928662154168, 'w6': 0.610688232576668, 'w7': 0.1842572062921256}. Best is trial 199 with value: 0.6807036399841309.\n"
     ]
    },
    {
     "name": "stdout",
     "output_type": "stream",
     "text": [
      "{'w1': 0.48857561487971235, 'w2': 0.9543922592159617, 'w3': 0.8665014338879932, 'w4': 0.27752624489399297, 'w5': 0.651928662154168, 'w6': 0.610688232576668, 'w7': 0.1842572062921256, 'threshold': 0.32}\n"
     ]
    },
    {
     "name": "stderr",
     "output_type": "stream",
     "text": [
      "[I 2023-06-14 21:32:30,360] Trial 322 finished with value: 0.6797208786010742 and parameters: {'w1': 0.5983932487442343, 'w2': 0.9780510923451801, 'w3': 0.05955255498954196, 'w4': 0.24354431626558082, 'w5': 0.33084904592721676, 'w6': 2.089377515266961e-05, 'w7': 0.6728059651417855}. Best is trial 199 with value: 0.6807036399841309.\n"
     ]
    },
    {
     "name": "stdout",
     "output_type": "stream",
     "text": [
      "{'w1': 0.5983932487442343, 'w2': 0.9780510923451801, 'w3': 0.05955255498954196, 'w4': 0.24354431626558082, 'w5': 0.33084904592721676, 'w6': 2.089377515266961e-05, 'w7': 0.6728059651417855, 'threshold': 0.28}\n"
     ]
    },
    {
     "name": "stderr",
     "output_type": "stream",
     "text": [
      "[I 2023-06-14 21:32:31,409] Trial 323 finished with value: 0.6805691719055176 and parameters: {'w1': 0.44876728472593275, 'w2': 0.7475976193141086, 'w3': 0.35121833524583246, 'w4': 0.12670103908816738, 'w5': 0.1730325421282084, 'w6': 0.018958014144103322, 'w7': 0.2628095556320036}. Best is trial 199 with value: 0.6807036399841309.\n"
     ]
    },
    {
     "name": "stdout",
     "output_type": "stream",
     "text": [
      "{'w1': 0.44876728472593275, 'w2': 0.7475976193141086, 'w3': 0.35121833524583246, 'w4': 0.12670103908816738, 'w5': 0.1730325421282084, 'w6': 0.018958014144103322, 'w7': 0.2628095556320036, 'threshold': 0.25}\n"
     ]
    },
    {
     "name": "stderr",
     "output_type": "stream",
     "text": [
      "[I 2023-06-14 21:32:32,457] Trial 324 finished with value: 0.6801350116729736 and parameters: {'w1': 0.5174592980806363, 'w2': 0.9134859180985339, 'w3': 0.03616941493801297, 'w4': 0.4491468636564604, 'w5': 0.35394821951202743, 'w6': 0.3765814313524569, 'w7': 0.2074525826570845}. Best is trial 199 with value: 0.6807036399841309.\n"
     ]
    },
    {
     "name": "stdout",
     "output_type": "stream",
     "text": [
      "{'w1': 0.5174592980806363, 'w2': 0.9134859180985339, 'w3': 0.03616941493801297, 'w4': 0.4491468636564604, 'w5': 0.35394821951202743, 'w6': 0.3765814313524569, 'w7': 0.2074525826570845, 'threshold': 0.32}\n"
     ]
    },
    {
     "name": "stderr",
     "output_type": "stream",
     "text": [
      "[I 2023-06-14 21:32:33,506] Trial 325 finished with value: 0.680105447769165 and parameters: {'w1': 0.41692477047972976, 'w2': 0.6445081083045928, 'w3': 0.3105471961408326, 'w4': 0.1735752717423854, 'w5': 0.3108241209193646, 'w6': 0.07703956704853653, 'w7': 0.23889830209795154}. Best is trial 199 with value: 0.6807036399841309.\n"
     ]
    },
    {
     "name": "stdout",
     "output_type": "stream",
     "text": [
      "{'w1': 0.41692477047972976, 'w2': 0.6445081083045928, 'w3': 0.3105471961408326, 'w4': 0.1735752717423854, 'w5': 0.3108241209193646, 'w6': 0.07703956704853653, 'w7': 0.23889830209795154, 'threshold': 0.27}\n"
     ]
    },
    {
     "name": "stderr",
     "output_type": "stream",
     "text": [
      "[I 2023-06-14 21:32:34,555] Trial 326 finished with value: 0.6769722104072571 and parameters: {'w1': 0.5524371787919917, 'w2': 0.31346713404996007, 'w3': 0.37583343060415664, 'w4': 0.20933692358001202, 'w5': 0.19532470604705576, 'w6': 0.6890264750442968, 'w7': 0.7607638038759659}. Best is trial 199 with value: 0.6807036399841309.\n"
     ]
    },
    {
     "name": "stdout",
     "output_type": "stream",
     "text": [
      "{'w1': 0.5524371787919917, 'w2': 0.31346713404996007, 'w3': 0.37583343060415664, 'w4': 0.20933692358001202, 'w5': 0.19532470604705576, 'w6': 0.6890264750442968, 'w7': 0.7607638038759659, 'threshold': 0.34}\n"
     ]
    },
    {
     "name": "stderr",
     "output_type": "stream",
     "text": [
      "[I 2023-06-14 21:32:35,603] Trial 327 finished with value: 0.6802249550819397 and parameters: {'w1': 0.6249443003496589, 'w2': 0.9432058667133643, 'w3': 0.2973974276682635, 'w4': 0.5046112535977506, 'w5': 0.25525785809242174, 'w6': 0.0446295586612583, 'w7': 0.15461061047317687}. Best is trial 199 with value: 0.6807036399841309.\n"
     ]
    },
    {
     "name": "stdout",
     "output_type": "stream",
     "text": [
      "{'w1': 0.6249443003496589, 'w2': 0.9432058667133643, 'w3': 0.2973974276682635, 'w4': 0.5046112535977506, 'w5': 0.25525785809242174, 'w6': 0.0446295586612583, 'w7': 0.15461061047317687, 'threshold': 0.31}\n"
     ]
    },
    {
     "name": "stderr",
     "output_type": "stream",
     "text": [
      "[I 2023-06-14 21:32:36,653] Trial 328 finished with value: 0.6801337599754333 and parameters: {'w1': 0.5807508403496056, 'w2': 0.8746009797808757, 'w3': 0.12430340606243247, 'w4': 0.22869472403375438, 'w5': 0.2171133203938597, 'w6': 0.3445058144864432, 'w7': 0.17537460307824274}. Best is trial 199 with value: 0.6807036399841309.\n"
     ]
    },
    {
     "name": "stdout",
     "output_type": "stream",
     "text": [
      "{'w1': 0.5807508403496056, 'w2': 0.8746009797808757, 'w3': 0.12430340606243247, 'w4': 0.22869472403375438, 'w5': 0.2171133203938597, 'w6': 0.3445058144864432, 'w7': 0.17537460307824274, 'threshold': 0.34}\n"
     ]
    },
    {
     "name": "stderr",
     "output_type": "stream",
     "text": [
      "[I 2023-06-14 21:32:37,702] Trial 329 finished with value: 0.6805214285850525 and parameters: {'w1': 0.5078356482633614, 'w2': 0.9814503799289319, 'w3': 0.07424079654210466, 'w4': 0.15428009233145656, 'w5': 0.2744291092056722, 'w6': 0.019658898432935192, 'w7': 0.3539132813112694}. Best is trial 199 with value: 0.6807036399841309.\n"
     ]
    },
    {
     "name": "stdout",
     "output_type": "stream",
     "text": [
      "{'w1': 0.5078356482633614, 'w2': 0.9814503799289319, 'w3': 0.07424079654210466, 'w4': 0.15428009233145656, 'w5': 0.2744291092056722, 'w6': 0.019658898432935192, 'w7': 0.3539132813112694, 'threshold': 0.26}\n"
     ]
    },
    {
     "name": "stderr",
     "output_type": "stream",
     "text": [
      "[I 2023-06-14 21:32:38,750] Trial 330 finished with value: 0.6804055571556091 and parameters: {'w1': 0.46957723050782935, 'w2': 0.9266623287788954, 'w3': 0.024889287539164612, 'w4': 0.19123101648525276, 'w5': 0.30151584745731413, 'w6': 0.03570671921294923, 'w7': 0.37732411932766297}. Best is trial 199 with value: 0.6807036399841309.\n"
     ]
    },
    {
     "name": "stdout",
     "output_type": "stream",
     "text": [
      "{'w1': 0.46957723050782935, 'w2': 0.9266623287788954, 'w3': 0.024889287539164612, 'w4': 0.19123101648525276, 'w5': 0.30151584745731413, 'w6': 0.03570671921294923, 'w7': 0.37732411932766297, 'threshold': 0.23}\n"
     ]
    },
    {
     "name": "stderr",
     "output_type": "stream",
     "text": [
      "[I 2023-06-14 21:32:39,799] Trial 331 finished with value: 0.6800374984741211 and parameters: {'w1': 0.5376460635940596, 'w2': 0.8256586903959193, 'w3': 0.16196234564983622, 'w4': 0.06682732883692453, 'w5': 0.2375118557337523, 'w6': 0.4644115273554503, 'w7': 0.1183096294093039}. Best is trial 199 with value: 0.6807036399841309.\n"
     ]
    },
    {
     "name": "stdout",
     "output_type": "stream",
     "text": [
      "{'w1': 0.5376460635940596, 'w2': 0.8256586903959193, 'w3': 0.16196234564983622, 'w4': 0.06682732883692453, 'w5': 0.2375118557337523, 'w6': 0.4644115273554503, 'w7': 0.1183096294093039, 'threshold': 0.28}\n"
     ]
    },
    {
     "name": "stderr",
     "output_type": "stream",
     "text": [
      "[I 2023-06-14 21:32:40,847] Trial 332 finished with value: 0.6793427467346191 and parameters: {'w1': 0.5635736083445877, 'w2': 0.6847149096730666, 'w3': 0.09024538240392015, 'w4': 0.6428593771471041, 'w5': 0.28542662736620344, 'w6': 0.17876730118444692, 'w7': 0.5031984938232578}. Best is trial 199 with value: 0.6807036399841309.\n"
     ]
    },
    {
     "name": "stdout",
     "output_type": "stream",
     "text": [
      "{'w1': 0.5635736083445877, 'w2': 0.6847149096730666, 'w3': 0.09024538240392015, 'w4': 0.6428593771471041, 'w5': 0.28542662736620344, 'w6': 0.17876730118444692, 'w7': 0.5031984938232578, 'threshold': 0.34}\n"
     ]
    },
    {
     "name": "stderr",
     "output_type": "stream",
     "text": [
      "[I 2023-06-14 21:32:41,896] Trial 333 finished with value: 0.6806539297103882 and parameters: {'w1': 0.3993401978958452, 'w2': 0.963970240355296, 'w3': 0.31838480443156336, 'w4': 0.10652933121167577, 'w5': 0.2592663728928003, 'w6': 0.00022596233855334737, 'w7': 0.2018982823499761}. Best is trial 199 with value: 0.6807036399841309.\n"
     ]
    },
    {
     "name": "stdout",
     "output_type": "stream",
     "text": [
      "{'w1': 0.3993401978958452, 'w2': 0.963970240355296, 'w3': 0.31838480443156336, 'w4': 0.10652933121167577, 'w5': 0.2592663728928003, 'w6': 0.00022596233855334737, 'w7': 0.2018982823499761, 'threshold': 0.31}\n"
     ]
    },
    {
     "name": "stderr",
     "output_type": "stream",
     "text": [
      "[I 2023-06-14 21:32:42,945] Trial 334 finished with value: 0.6798458695411682 and parameters: {'w1': 0.4880548271731823, 'w2': 0.7783066230522806, 'w3': 0.0505608953941984, 'w4': 0.0490666999140148, 'w5': 0.32702702431608344, 'w6': 0.5171908625526643, 'w7': 0.15107525628685567}. Best is trial 199 with value: 0.6807036399841309.\n"
     ]
    },
    {
     "name": "stdout",
     "output_type": "stream",
     "text": [
      "{'w1': 0.4880548271731823, 'w2': 0.7783066230522806, 'w3': 0.0505608953941984, 'w4': 0.0490666999140148, 'w5': 0.32702702431608344, 'w6': 0.5171908625526643, 'w7': 0.15107525628685567, 'threshold': 0.31}\n"
     ]
    },
    {
     "name": "stderr",
     "output_type": "stream",
     "text": [
      "[I 2023-06-14 21:32:43,994] Trial 335 finished with value: 0.6793974041938782 and parameters: {'w1': 0.4452111329274848, 'w2': 0.9044696313921823, 'w3': 0.12196991829770187, 'w4': 0.9552307511746707, 'w5': 0.994985492102525, 'w6': 0.15535279916104844, 'w7': 0.22415092248258833}. Best is trial 199 with value: 0.6807036399841309.\n"
     ]
    },
    {
     "name": "stdout",
     "output_type": "stream",
     "text": [
      "{'w1': 0.4452111329274848, 'w2': 0.9044696313921823, 'w3': 0.12196991829770187, 'w4': 0.9552307511746707, 'w5': 0.994985492102525, 'w6': 0.15535279916104844, 'w7': 0.22415092248258833, 'threshold': 0.44}\n"
     ]
    },
    {
     "name": "stderr",
     "output_type": "stream",
     "text": [
      "[I 2023-06-14 21:32:45,043] Trial 336 finished with value: 0.6803267002105713 and parameters: {'w1': 0.5227657030692, 'w2': 0.9456099735855453, 'w3': 0.003643524635929268, 'w4': 0.12559715955397358, 'w5': 0.22232049916692595, 'w6': 0.2225015880900505, 'w7': 0.17502878786300502}. Best is trial 199 with value: 0.6807036399841309.\n"
     ]
    },
    {
     "name": "stdout",
     "output_type": "stream",
     "text": [
      "{'w1': 0.5227657030692, 'w2': 0.9456099735855453, 'w3': 0.003643524635929268, 'w4': 0.12559715955397358, 'w5': 0.22232049916692595, 'w6': 0.2225015880900505, 'w7': 0.17502878786300502, 'threshold': 0.26}\n"
     ]
    },
    {
     "name": "stderr",
     "output_type": "stream",
     "text": [
      "[I 2023-06-14 21:32:46,092] Trial 337 finished with value: 0.6800563335418701 and parameters: {'w1': 0.3354608365076085, 'w2': 0.9849688555868028, 'w3': 0.41412481142896873, 'w4': 0.5677412091888075, 'w5': 0.378371876347801, 'w6': 0.05760219051030992, 'w7': 0.13844616469208648}. Best is trial 199 with value: 0.6807036399841309.\n"
     ]
    },
    {
     "name": "stdout",
     "output_type": "stream",
     "text": [
      "{'w1': 0.3354608365076085, 'w2': 0.9849688555868028, 'w3': 0.41412481142896873, 'w4': 0.5677412091888075, 'w5': 0.378371876347801, 'w6': 0.05760219051030992, 'w7': 0.13844616469208648, 'threshold': 0.31}\n"
     ]
    },
    {
     "name": "stderr",
     "output_type": "stream",
     "text": [
      "[I 2023-06-14 21:32:47,140] Trial 338 finished with value: 0.6805523037910461 and parameters: {'w1': 0.5930245653374452, 'w2': 0.8581984240771844, 'w3': 0.14189016457276438, 'w4': 0.1702930116307456, 'w5': 0.19366391026035765, 'w6': 0.09984567916621297, 'w7': 0.05395873945719422}. Best is trial 199 with value: 0.6807036399841309.\n"
     ]
    },
    {
     "name": "stdout",
     "output_type": "stream",
     "text": [
      "{'w1': 0.5930245653374452, 'w2': 0.8581984240771844, 'w3': 0.14189016457276438, 'w4': 0.1702930116307456, 'w5': 0.19366391026035765, 'w6': 0.09984567916621297, 'w7': 0.05395873945719422, 'threshold': 0.26}\n"
     ]
    },
    {
     "name": "stderr",
     "output_type": "stream",
     "text": [
      "[I 2023-06-14 21:32:48,189] Trial 339 finished with value: 0.6801803708076477 and parameters: {'w1': 0.5509805282706658, 'w2': 0.720814927426976, 'w3': 0.48230112032300937, 'w4': 0.22553885565114756, 'w5': 0.24270937247078347, 'w6': 0.021887292708229714, 'w7': 0.1918924371738389}. Best is trial 199 with value: 0.6807036399841309.\n"
     ]
    },
    {
     "name": "stdout",
     "output_type": "stream",
     "text": [
      "{'w1': 0.5509805282706658, 'w2': 0.720814927426976, 'w3': 0.48230112032300937, 'w4': 0.22553885565114756, 'w5': 0.24270937247078347, 'w6': 0.021887292708229714, 'w7': 0.1918924371738389, 'threshold': 0.22}\n"
     ]
    },
    {
     "name": "stderr",
     "output_type": "stream",
     "text": [
      "[I 2023-06-14 21:32:49,238] Trial 340 finished with value: 0.6797855496406555 and parameters: {'w1': 0.4638074094490234, 'w2': 0.5888743861227683, 'w3': 0.10304834656259378, 'w4': 0.5843646663577879, 'w5': 0.3489420663627932, 'w6': 0.06657435804015956, 'w7': 0.1044981345028839}. Best is trial 199 with value: 0.6807036399841309.\n"
     ]
    },
    {
     "name": "stdout",
     "output_type": "stream",
     "text": [
      "{'w1': 0.4638074094490234, 'w2': 0.5888743861227683, 'w3': 0.10304834656259378, 'w4': 0.5843646663577879, 'w5': 0.3489420663627932, 'w6': 0.06657435804015956, 'w7': 0.1044981345028839, 'threshold': 0.21}\n"
     ]
    },
    {
     "name": "stderr",
     "output_type": "stream",
     "text": [
      "[I 2023-06-14 21:32:50,287] Trial 341 finished with value: 0.6801178455352783 and parameters: {'w1': 0.43093752992225504, 'w2': 0.9566191330775271, 'w3': 0.06734510649087541, 'w4': 0.25659105113044783, 'w5': 0.302779633590746, 'w6': 0.47634263731389853, 'w7': 0.16079913232337242}. Best is trial 199 with value: 0.6807036399841309.\n"
     ]
    },
    {
     "name": "stdout",
     "output_type": "stream",
     "text": [
      "{'w1': 0.43093752992225504, 'w2': 0.9566191330775271, 'w3': 0.06734510649087541, 'w4': 0.25659105113044783, 'w5': 0.302779633590746, 'w6': 0.47634263731389853, 'w7': 0.16079913232337242, 'threshold': 0.37}\n"
     ]
    },
    {
     "name": "stderr",
     "output_type": "stream",
     "text": [
      "[I 2023-06-14 21:32:51,336] Trial 342 finished with value: 0.6803502440452576 and parameters: {'w1': 0.49999744048650924, 'w2': 0.9255084837295877, 'w3': 0.03359351143522669, 'w4': 0.14348073359965913, 'w5': 0.2694683417746853, 'w6': 0.1388622834002826, 'w7': 0.29929639904998545}. Best is trial 199 with value: 0.6807036399841309.\n"
     ]
    },
    {
     "name": "stdout",
     "output_type": "stream",
     "text": [
      "{'w1': 0.49999744048650924, 'w2': 0.9255084837295877, 'w3': 0.03359351143522669, 'w4': 0.14348073359965913, 'w5': 0.2694683417746853, 'w6': 0.1388622834002826, 'w7': 0.29929639904998545, 'threshold': 0.27}\n"
     ]
    },
    {
     "name": "stderr",
     "output_type": "stream",
     "text": [
      "[I 2023-06-14 21:32:52,385] Trial 343 finished with value: 0.6796363592147827 and parameters: {'w1': 0.569578529347727, 'w2': 0.9007422201973734, 'w3': 0.6450038485453057, 'w4': 0.36894594452861873, 'w5': 0.28872581770541456, 'w6': 0.03941870432914017, 'w7': 0.5603133471699508}. Best is trial 199 with value: 0.6807036399841309.\n"
     ]
    },
    {
     "name": "stdout",
     "output_type": "stream",
     "text": [
      "{'w1': 0.569578529347727, 'w2': 0.9007422201973734, 'w3': 0.6450038485453057, 'w4': 0.36894594452861873, 'w5': 0.28872581770541456, 'w6': 0.03941870432914017, 'w7': 0.5603133471699508, 'threshold': 0.31}\n"
     ]
    },
    {
     "name": "stderr",
     "output_type": "stream",
     "text": [
      "[I 2023-06-14 21:32:53,433] Trial 344 finished with value: 0.6804421544075012 and parameters: {'w1': 0.9737746451280517, 'w2': 0.9388694262461446, 'w3': 0.08865746740992975, 'w4': 0.1888217322441989, 'w5': 0.39877165661033165, 'w6': 0.017917476945519283, 'w7': 0.07316925496989449}. Best is trial 199 with value: 0.6807036399841309.\n"
     ]
    },
    {
     "name": "stdout",
     "output_type": "stream",
     "text": [
      "{'w1': 0.9737746451280517, 'w2': 0.9388694262461446, 'w3': 0.08865746740992975, 'w4': 0.1888217322441989, 'w5': 0.39877165661033165, 'w6': 0.017917476945519283, 'w7': 0.07316925496989449, 'threshold': 0.21}\n"
     ]
    },
    {
     "name": "stderr",
     "output_type": "stream",
     "text": [
      "[I 2023-06-14 21:32:54,483] Trial 345 finished with value: 0.6801992058753967 and parameters: {'w1': 0.5240187792976777, 'w2': 0.9986646511722069, 'w3': 0.0536163866182436, 'w4': 0.8941591202586495, 'w5': 0.2063590254011481, 'w6': 0.00024373445269500887, 'w7': 0.21349387285839197}. Best is trial 199 with value: 0.6807036399841309.\n"
     ]
    },
    {
     "name": "stdout",
     "output_type": "stream",
     "text": [
      "{'w1': 0.5240187792976777, 'w2': 0.9986646511722069, 'w3': 0.0536163866182436, 'w4': 0.8941591202586495, 'w5': 0.2063590254011481, 'w6': 0.00024373445269500887, 'w7': 0.21349387285839197, 'threshold': 0.27}\n"
     ]
    },
    {
     "name": "stderr",
     "output_type": "stream",
     "text": [
      "[I 2023-06-14 21:32:55,532] Trial 346 finished with value: 0.6806318163871765 and parameters: {'w1': 0.6062847713565943, 'w2': 0.9615944412578215, 'w3': 0.01494706084323108, 'w4': 0.09059345852993478, 'w5': 0.32057763786214977, 'w6': 0.040521857588512324, 'w7': 0.1261880065703619}. Best is trial 199 with value: 0.6807036399841309.\n"
     ]
    },
    {
     "name": "stdout",
     "output_type": "stream",
     "text": [
      "{'w1': 0.6062847713565943, 'w2': 0.9615944412578215, 'w3': 0.01494706084323108, 'w4': 0.09059345852993478, 'w5': 0.32057763786214977, 'w6': 0.040521857588512324, 'w7': 0.1261880065703619, 'threshold': 0.29}\n"
     ]
    },
    {
     "name": "stderr",
     "output_type": "stream",
     "text": [
      "[I 2023-06-14 21:32:56,581] Trial 347 finished with value: 0.6805868744850159 and parameters: {'w1': 0.48453145367359146, 'w2': 0.8848484386239267, 'w3': 0.18773041870868634, 'w4': 0.20437773421520344, 'w5': 0.2548745754600992, 'w6': 0.059689915480876723, 'w7': 0.24517159463589752}. Best is trial 199 with value: 0.6807036399841309.\n"
     ]
    },
    {
     "name": "stdout",
     "output_type": "stream",
     "text": [
      "{'w1': 0.48453145367359146, 'w2': 0.8848484386239267, 'w3': 0.18773041870868634, 'w4': 0.20437773421520344, 'w5': 0.2548745754600992, 'w6': 0.059689915480876723, 'w7': 0.24517159463589752, 'threshold': 0.3}\n"
     ]
    },
    {
     "name": "stderr",
     "output_type": "stream",
     "text": [
      "[I 2023-06-14 21:32:57,630] Trial 348 finished with value: 0.6801459193229675 and parameters: {'w1': 0.5386985290400825, 'w2': 0.9166624604597544, 'w3': 0.10917675059568596, 'w4': 0.15746569145703201, 'w5': 0.23268077065587378, 'w6': 0.08900071351809916, 'w7': 0.42774852180986467}. Best is trial 199 with value: 0.6807036399841309.\n"
     ]
    },
    {
     "name": "stdout",
     "output_type": "stream",
     "text": [
      "{'w1': 0.5386985290400825, 'w2': 0.9166624604597544, 'w3': 0.10917675059568596, 'w4': 0.15746569145703201, 'w5': 0.23268077065587378, 'w6': 0.08900071351809916, 'w7': 0.42774852180986467, 'threshold': 0.23}\n"
     ]
    },
    {
     "name": "stderr",
     "output_type": "stream",
     "text": [
      "[I 2023-06-14 21:32:58,680] Trial 349 finished with value: 0.6804779767990112 and parameters: {'w1': 0.46260144233900896, 'w2': 0.9770045499454737, 'w3': 0.07188321079130451, 'w4': 0.021590241336067795, 'w5': 0.16262311317018585, 'w6': 0.01991480875209261, 'w7': 0.1843080368063377}. Best is trial 199 with value: 0.6807036399841309.\n"
     ]
    },
    {
     "name": "stdout",
     "output_type": "stream",
     "text": [
      "{'w1': 0.46260144233900896, 'w2': 0.9770045499454737, 'w3': 0.07188321079130451, 'w4': 0.021590241336067795, 'w5': 0.16262311317018585, 'w6': 0.01991480875209261, 'w7': 0.1843080368063377, 'threshold': 0.25}\n"
     ]
    },
    {
     "name": "stderr",
     "output_type": "stream",
     "text": [
      "[I 2023-06-14 21:32:59,729] Trial 350 finished with value: 0.6806097030639648 and parameters: {'w1': 0.41699016763557917, 'w2': 0.9415142609893925, 'w3': 0.1356681546445359, 'w4': 0.12211638211045894, 'w5': 0.27288507923734523, 'w6': 0.03351871932393725, 'w7': 0.15685708880294935}. Best is trial 199 with value: 0.6807036399841309.\n"
     ]
    },
    {
     "name": "stdout",
     "output_type": "stream",
     "text": [
      "{'w1': 0.41699016763557917, 'w2': 0.9415142609893925, 'w3': 0.1356681546445359, 'w4': 0.12211638211045894, 'w5': 0.27288507923734523, 'w6': 0.03351871932393725, 'w7': 0.15685708880294935, 'threshold': 0.33}\n"
     ]
    },
    {
     "name": "stderr",
     "output_type": "stream",
     "text": [
      "[I 2023-06-14 21:33:00,780] Trial 351 finished with value: 0.6799032092094421 and parameters: {'w1': 0.5843890703034849, 'w2': 0.9670044861902345, 'w3': 0.2876733809837353, 'w4': 0.9253335149562821, 'w5': 0.3003362664142073, 'w6': 0.051890019784788896, 'w7': 0.13756159751306335}. Best is trial 199 with value: 0.6807036399841309.\n"
     ]
    },
    {
     "name": "stdout",
     "output_type": "stream",
     "text": [
      "{'w1': 0.5843890703034849, 'w2': 0.9670044861902345, 'w3': 0.2876733809837353, 'w4': 0.9253335149562821, 'w5': 0.3003362664142073, 'w6': 0.051890019784788896, 'w7': 0.13756159751306335, 'threshold': 0.23}\n"
     ]
    },
    {
     "name": "stderr",
     "output_type": "stream",
     "text": [
      "[I 2023-06-14 21:33:01,830] Trial 352 finished with value: 0.6798749566078186 and parameters: {'w1': 0.3740031118108808, 'w2': 0.7766801730613059, 'w3': 0.03706080301562813, 'w4': 0.4900636348636577, 'w5': 0.3407811398927291, 'w6': 0.5565437519228709, 'w7': 0.19633036511102653}. Best is trial 199 with value: 0.6807036399841309.\n"
     ]
    },
    {
     "name": "stdout",
     "output_type": "stream",
     "text": [
      "{'w1': 0.3740031118108808, 'w2': 0.7766801730613059, 'w3': 0.03706080301562813, 'w4': 0.4900636348636577, 'w5': 0.3407811398927291, 'w6': 0.5565437519228709, 'w7': 0.19633036511102653, 'threshold': 0.35}\n"
     ]
    },
    {
     "name": "stderr",
     "output_type": "stream",
     "text": [
      "[I 2023-06-14 21:33:02,879] Trial 353 finished with value: 0.6804787516593933 and parameters: {'w1': 0.5013324580918149, 'w2': 0.8943953506755544, 'w3': 0.017313887765550474, 'w4': 0.17852230519584952, 'w5': 0.21479347030088086, 'w6': 0.018149919556946358, 'w7': 0.27757268925011885}. Best is trial 199 with value: 0.6807036399841309.\n"
     ]
    },
    {
     "name": "stdout",
     "output_type": "stream",
     "text": [
      "{'w1': 0.5013324580918149, 'w2': 0.8943953506755544, 'w3': 0.017313887765550474, 'w4': 0.17852230519584952, 'w5': 0.21479347030088086, 'w6': 0.018149919556946358, 'w7': 0.27757268925011885, 'threshold': 0.23}\n"
     ]
    },
    {
     "name": "stderr",
     "output_type": "stream",
     "text": [
      "[I 2023-06-14 21:33:03,929] Trial 354 finished with value: 0.680210530757904 and parameters: {'w1': 0.5606207227075196, 'w2': 0.9245707749613755, 'w3': 0.11093426902897639, 'w4': 0.46354611823960457, 'w5': 0.45832028769785926, 'w6': 0.12269812436423998, 'w7': 0.16878595507120742}. Best is trial 199 with value: 0.6807036399841309.\n"
     ]
    },
    {
     "name": "stdout",
     "output_type": "stream",
     "text": [
      "{'w1': 0.5606207227075196, 'w2': 0.9245707749613755, 'w3': 0.11093426902897639, 'w4': 0.46354611823960457, 'w5': 0.45832028769785926, 'w6': 0.12269812436423998, 'w7': 0.16878595507120742, 'threshold': 0.31}\n"
     ]
    },
    {
     "name": "stderr",
     "output_type": "stream",
     "text": [
      "[I 2023-06-14 21:33:04,978] Trial 355 finished with value: 0.6804514527320862 and parameters: {'w1': 0.44757891619628704, 'w2': 0.8694927719441858, 'w3': 0.055966889259140194, 'w4': 0.2180172123803624, 'w5': 0.36193471798388893, 'w6': 0.0650100095914573, 'w7': 0.10356129621703178}. Best is trial 199 with value: 0.6807036399841309.\n"
     ]
    },
    {
     "name": "stdout",
     "output_type": "stream",
     "text": [
      "{'w1': 0.44757891619628704, 'w2': 0.8694927719441858, 'w3': 0.055966889259140194, 'w4': 0.2180172123803624, 'w5': 0.36193471798388893, 'w6': 0.0650100095914573, 'w7': 0.10356129621703178, 'threshold': 0.31}\n"
     ]
    },
    {
     "name": "stderr",
     "output_type": "stream",
     "text": [
      "[I 2023-06-14 21:33:06,028] Trial 356 finished with value: 0.6805424690246582 and parameters: {'w1': 0.6161022000718372, 'w2': 0.9823394716070818, 'w3': 0.0834344796988046, 'w4': 0.2441396355985545, 'w5': 0.24917783547601108, 'w6': 0.0008846951094077446, 'w7': 0.3239200728994921}. Best is trial 199 with value: 0.6807036399841309.\n"
     ]
    },
    {
     "name": "stdout",
     "output_type": "stream",
     "text": [
      "{'w1': 0.6161022000718372, 'w2': 0.9823394716070818, 'w3': 0.0834344796988046, 'w4': 0.2441396355985545, 'w5': 0.24917783547601108, 'w6': 0.0008846951094077446, 'w7': 0.3239200728994921, 'threshold': 0.25}\n"
     ]
    },
    {
     "name": "stderr",
     "output_type": "stream",
     "text": [
      "[I 2023-06-14 21:33:07,078] Trial 357 finished with value: 0.6801087260246277 and parameters: {'w1': 0.537015990246872, 'w2': 0.9524717617923115, 'w3': 0.15080742961743968, 'w4': 0.13922368329784235, 'w5': 0.5421893651420473, 'w6': 0.4469872934517062, 'w7': 0.22729565290159895}. Best is trial 199 with value: 0.6807036399841309.\n"
     ]
    },
    {
     "name": "stdout",
     "output_type": "stream",
     "text": [
      "{'w1': 0.537015990246872, 'w2': 0.9524717617923115, 'w3': 0.15080742961743968, 'w4': 0.13922368329784235, 'w5': 0.5421893651420473, 'w6': 0.4469872934517062, 'w7': 0.22729565290159895, 'threshold': 0.31}\n"
     ]
    },
    {
     "name": "stderr",
     "output_type": "stream",
     "text": [
      "[I 2023-06-14 21:33:08,128] Trial 358 finished with value: 0.6798974871635437 and parameters: {'w1': 0.517565983403611, 'w2': 0.5025090002939527, 'w3': 0.4553284652234818, 'w4': 0.16422127028289424, 'w5': 0.18858920134759907, 'w6': 0.036853343002726566, 'w7': 0.18102705608225694}. Best is trial 199 with value: 0.6807036399841309.\n"
     ]
    },
    {
     "name": "stdout",
     "output_type": "stream",
     "text": [
      "{'w1': 0.517565983403611, 'w2': 0.5025090002939527, 'w3': 0.4553284652234818, 'w4': 0.16422127028289424, 'w5': 0.18858920134759907, 'w6': 0.036853343002726566, 'w7': 0.18102705608225694, 'threshold': 0.23}\n"
     ]
    },
    {
     "name": "stderr",
     "output_type": "stream",
     "text": [
      "[I 2023-06-14 21:33:09,178] Trial 359 finished with value: 0.6804175972938538 and parameters: {'w1': 0.47785991717905546, 'w2': 0.9067872487336375, 'w3': 0.43774716849313583, 'w4': 0.10447469006551897, 'w5': 0.283441881367215, 'w6': 0.08136369069925606, 'w7': 0.1469251128044215}. Best is trial 199 with value: 0.6807036399841309.\n"
     ]
    },
    {
     "name": "stdout",
     "output_type": "stream",
     "text": [
      "{'w1': 0.47785991717905546, 'w2': 0.9067872487336375, 'w3': 0.43774716849313583, 'w4': 0.10447469006551897, 'w5': 0.283441881367215, 'w6': 0.08136369069925606, 'w7': 0.1469251128044215, 'threshold': 0.26}\n"
     ]
    },
    {
     "name": "stderr",
     "output_type": "stream",
     "text": [
      "[I 2023-06-14 21:33:10,228] Trial 360 finished with value: 0.6801136136054993 and parameters: {'w1': 0.5578418342321012, 'w2': 0.8392153787832333, 'w3': 0.03740153637121785, 'w4': 0.19751216779811206, 'w5': 0.31229127097502785, 'w6': 0.3238010117259686, 'w7': 0.21399947873373978}. Best is trial 199 with value: 0.6807036399841309.\n"
     ]
    },
    {
     "name": "stdout",
     "output_type": "stream",
     "text": [
      "{'w1': 0.5578418342321012, 'w2': 0.8392153787832333, 'w3': 0.03740153637121785, 'w4': 0.19751216779811206, 'w5': 0.31229127097502785, 'w6': 0.3238010117259686, 'w7': 0.21399947873373978, 'threshold': 0.32}\n"
     ]
    },
    {
     "name": "stderr",
     "output_type": "stream",
     "text": [
      "[I 2023-06-14 21:33:11,278] Trial 361 finished with value: 0.6803832054138184 and parameters: {'w1': 0.3948134393028298, 'w2': 0.9329619183783108, 'w3': 0.6885203393558874, 'w4': 0.07959201876580267, 'w5': 0.23473990702158842, 'w6': 0.019587060721392466, 'w7': 0.19769291396318805}. Best is trial 199 with value: 0.6807036399841309.\n"
     ]
    },
    {
     "name": "stdout",
     "output_type": "stream",
     "text": [
      "{'w1': 0.3948134393028298, 'w2': 0.9329619183783108, 'w3': 0.6885203393558874, 'w4': 0.07959201876580267, 'w5': 0.23473990702158842, 'w6': 0.019587060721392466, 'w7': 0.19769291396318805, 'threshold': 0.33}\n"
     ]
    },
    {
     "name": "stderr",
     "output_type": "stream",
     "text": [
      "[I 2023-06-14 21:33:12,329] Trial 362 finished with value: 0.6802808046340942 and parameters: {'w1': 0.5767253974349427, 'w2': 0.6046379105224722, 'w3': 0.0016269132520110655, 'w4': 0.271624997948831, 'w5': 0.26552530193813906, 'w6': 0.04781561614012171, 'w7': 0.120345431254426}. Best is trial 199 with value: 0.6807036399841309.\n"
     ]
    },
    {
     "name": "stdout",
     "output_type": "stream",
     "text": [
      "{'w1': 0.5767253974349427, 'w2': 0.6046379105224722, 'w3': 0.0016269132520110655, 'w4': 0.271624997948831, 'w5': 0.26552530193813906, 'w6': 0.04781561614012171, 'w7': 0.120345431254426, 'threshold': 0.26}\n"
     ]
    },
    {
     "name": "stderr",
     "output_type": "stream",
     "text": [
      "[I 2023-06-14 21:33:13,379] Trial 363 finished with value: 0.6803194284439087 and parameters: {'w1': 0.8679723017858993, 'w2': 0.9881493687815214, 'w3': 0.09681204525792189, 'w4': 0.597528839585223, 'w5': 0.3349851218945099, 'w6': 4.640442372938133e-05, 'w7': 0.4098164483370623}. Best is trial 199 with value: 0.6807036399841309.\n"
     ]
    },
    {
     "name": "stdout",
     "output_type": "stream",
     "text": [
      "{'w1': 0.8679723017858993, 'w2': 0.9881493687815214, 'w3': 0.09681204525792189, 'w4': 0.597528839585223, 'w5': 0.3349851218945099, 'w6': 4.640442372938133e-05, 'w7': 0.4098164483370623, 'threshold': 0.27}\n"
     ]
    },
    {
     "name": "stderr",
     "output_type": "stream",
     "text": [
      "[I 2023-06-14 21:33:14,429] Trial 364 finished with value: 0.6800795197486877 and parameters: {'w1': 0.4298204960333627, 'w2': 0.999663761629557, 'w3': 0.38592251675362566, 'w4': 0.05448624854494072, 'w5': 0.8484751348922128, 'w6': 0.27146567659473275, 'w7': 0.16748903585887798}. Best is trial 199 with value: 0.6807036399841309.\n"
     ]
    },
    {
     "name": "stdout",
     "output_type": "stream",
     "text": [
      "{'w1': 0.4298204960333627, 'w2': 0.999663761629557, 'w3': 0.38592251675362566, 'w4': 0.05448624854494072, 'w5': 0.8484751348922128, 'w6': 0.27146567659473275, 'w7': 0.16748903585887798, 'threshold': 0.25}\n"
     ]
    },
    {
     "name": "stderr",
     "output_type": "stream",
     "text": [
      "[I 2023-06-14 21:33:15,479] Trial 365 finished with value: 0.6788001656532288 and parameters: {'w1': 0.5103558539810568, 'w2': 0.23153965752624195, 'w3': 0.7641639245248376, 'w4': 0.22394061801573914, 'w5': 0.41428095937514336, 'w6': 0.031093360369364602, 'w7': 0.08492648971172545}. Best is trial 199 with value: 0.6807036399841309.\n"
     ]
    },
    {
     "name": "stdout",
     "output_type": "stream",
     "text": [
      "{'w1': 0.5103558539810568, 'w2': 0.23153965752624195, 'w3': 0.7641639245248376, 'w4': 0.22394061801573914, 'w5': 0.41428095937514336, 'w6': 0.031093360369364602, 'w7': 0.08492648971172545, 'threshold': 0.23}\n"
     ]
    },
    {
     "name": "stderr",
     "output_type": "stream",
     "text": [
      "[I 2023-06-14 21:33:16,529] Trial 366 finished with value: 0.680552065372467 and parameters: {'w1': 0.45627819120516655, 'w2': 0.9593903952029557, 'w3': 0.12030063868563805, 'w4': 0.13821301597898206, 'w5': 0.22536171504830088, 'w6': 0.0718951764871727, 'w7': 0.250218580630009}. Best is trial 199 with value: 0.6807036399841309.\n"
     ]
    },
    {
     "name": "stdout",
     "output_type": "stream",
     "text": [
      "{'w1': 0.45627819120516655, 'w2': 0.9593903952029557, 'w3': 0.12030063868563805, 'w4': 0.13821301597898206, 'w5': 0.22536171504830088, 'w6': 0.0718951764871727, 'w7': 0.250218580630009, 'threshold': 0.28}\n"
     ]
    },
    {
     "name": "stderr",
     "output_type": "stream",
     "text": [
      "[I 2023-06-14 21:33:17,580] Trial 367 finished with value: 0.6806771755218506 and parameters: {'w1': 0.5417245321651302, 'w2': 0.9180367493618702, 'w3': 0.06284565708253953, 'w4': 0.1815714397011649, 'w5': 0.2534667283421752, 'w6': 0.018730807923361965, 'w7': 0.15142449944341954}. Best is trial 199 with value: 0.6807036399841309.\n"
     ]
    },
    {
     "name": "stdout",
     "output_type": "stream",
     "text": [
      "{'w1': 0.5417245321651302, 'w2': 0.9180367493618702, 'w3': 0.06284565708253953, 'w4': 0.1815714397011649, 'w5': 0.2534667283421752, 'w6': 0.018730807923361965, 'w7': 0.15142449944341954, 'threshold': 0.29}\n"
     ]
    },
    {
     "name": "stderr",
     "output_type": "stream",
     "text": [
      "[I 2023-06-14 21:33:18,630] Trial 368 finished with value: 0.6803438663482666 and parameters: {'w1': 0.48621303457527804, 'w2': 0.8891030265589529, 'w3': 0.06504693298936182, 'w4': 0.18014239394493625, 'w5': 0.25052977026392553, 'w6': 0.40247650982262395, 'w7': 0.015994748520109986}. Best is trial 199 with value: 0.6807036399841309.\n"
     ]
    },
    {
     "name": "stdout",
     "output_type": "stream",
     "text": [
      "{'w1': 0.48621303457527804, 'w2': 0.8891030265589529, 'w3': 0.06504693298936182, 'w4': 0.18014239394493625, 'w5': 0.25052977026392553, 'w6': 0.40247650982262395, 'w7': 0.015994748520109986, 'threshold': 0.31}\n"
     ]
    },
    {
     "name": "stderr",
     "output_type": "stream",
     "text": [
      "[I 2023-06-14 21:33:19,681] Trial 369 finished with value: 0.6799796223640442 and parameters: {'w1': 0.5304174818072629, 'w2': 0.8659068197366516, 'w3': 0.931505812053072, 'w4': 0.18974247435671499, 'w5': 0.19972280932915576, 'w6': 0.10263743822721598, 'w7': 0.17971576742516301}. Best is trial 199 with value: 0.6807036399841309.\n"
     ]
    },
    {
     "name": "stdout",
     "output_type": "stream",
     "text": [
      "{'w1': 0.5304174818072629, 'w2': 0.8659068197366516, 'w3': 0.931505812053072, 'w4': 0.18974247435671499, 'w5': 0.19972280932915576, 'w6': 0.10263743822721598, 'w7': 0.17971576742516301, 'threshold': 0.21}\n"
     ]
    },
    {
     "name": "stderr",
     "output_type": "stream",
     "text": [
      "[I 2023-06-14 21:33:20,731] Trial 370 finished with value: 0.6793477535247803 and parameters: {'w1': 0.4161875434360017, 'w2': 0.5480465512092254, 'w3': 0.5701410678873193, 'w4': 0.7656577186474443, 'w5': 0.23692154688349112, 'w6': 0.052767287590072924, 'w7': 0.13218430207993065}. Best is trial 199 with value: 0.6807036399841309.\n"
     ]
    },
    {
     "name": "stdout",
     "output_type": "stream",
     "text": [
      "{'w1': 0.4161875434360017, 'w2': 0.5480465512092254, 'w3': 0.5701410678873193, 'w4': 0.7656577186474443, 'w5': 0.23692154688349112, 'w6': 0.052767287590072924, 'w7': 0.13218430207993065, 'threshold': 0.4}\n"
     ]
    },
    {
     "name": "stderr",
     "output_type": "stream",
     "text": [
      "[I 2023-06-14 21:33:21,782] Trial 371 finished with value: 0.6797419786453247 and parameters: {'w1': 0.1543511633000373, 'w2': 0.6274801685166396, 'w3': 0.07771869529581193, 'w4': 0.20334437800214702, 'w5': 0.17358183916804423, 'w6': 0.37908231655502805, 'w7': 0.21306999383827208}. Best is trial 199 with value: 0.6807036399841309.\n"
     ]
    },
    {
     "name": "stdout",
     "output_type": "stream",
     "text": [
      "{'w1': 0.1543511633000373, 'w2': 0.6274801685166396, 'w3': 0.07771869529581193, 'w4': 0.20334437800214702, 'w5': 0.17358183916804423, 'w6': 0.37908231655502805, 'w7': 0.21306999383827208, 'threshold': 0.29}\n"
     ]
    },
    {
     "name": "stderr",
     "output_type": "stream",
     "text": [
      "[I 2023-06-14 21:33:22,832] Trial 372 finished with value: 0.6801469326019287 and parameters: {'w1': 0.5032822388283577, 'w2': 0.906953635489611, 'w3': 0.09920061520214515, 'w4': 0.23814024317753035, 'w5': 0.21197788372719417, 'w6': 0.43034002979790636, 'w7': 0.15373666867497024}. Best is trial 199 with value: 0.6807036399841309.\n"
     ]
    },
    {
     "name": "stdout",
     "output_type": "stream",
     "text": [
      "{'w1': 0.5032822388283577, 'w2': 0.906953635489611, 'w3': 0.09920061520214515, 'w4': 0.23814024317753035, 'w5': 0.21197788372719417, 'w6': 0.43034002979790636, 'w7': 0.15373666867497024, 'threshold': 0.35}\n"
     ]
    },
    {
     "name": "stderr",
     "output_type": "stream",
     "text": [
      "[I 2023-06-14 21:33:23,884] Trial 373 finished with value: 0.6790111660957336 and parameters: {'w1': 0.5409564115756473, 'w2': 0.9304006309336236, 'w3': 0.17060054958479154, 'w4': 0.16370295433050946, 'w5': 0.2594174738378232, 'w6': 0.18687140833300903, 'w7': 0.7927564617701918}. Best is trial 199 with value: 0.6807036399841309.\n"
     ]
    },
    {
     "name": "stdout",
     "output_type": "stream",
     "text": [
      "{'w1': 0.5409564115756473, 'w2': 0.9304006309336236, 'w3': 0.17060054958479154, 'w4': 0.16370295433050946, 'w5': 0.2594174738378232, 'w6': 0.18687140833300903, 'w7': 0.7927564617701918, 'threshold': 0.29}\n"
     ]
    },
    {
     "name": "stderr",
     "output_type": "stream",
     "text": [
      "[I 2023-06-14 21:33:24,934] Trial 374 finished with value: 0.6797449588775635 and parameters: {'w1': 0.4693477407789952, 'w2': 0.41607658804113185, 'w3': 0.12407975550738776, 'w4': 0.2112601857537908, 'w5': 0.2765218551421621, 'w6': 0.032387251516423736, 'w7': 0.23161147085717623}. Best is trial 199 with value: 0.6807036399841309.\n"
     ]
    },
    {
     "name": "stdout",
     "output_type": "stream",
     "text": [
      "{'w1': 0.4693477407789952, 'w2': 0.41607658804113185, 'w3': 0.12407975550738776, 'w4': 0.2112601857537908, 'w5': 0.2765218551421621, 'w6': 0.032387251516423736, 'w7': 0.23161147085717623, 'threshold': 0.25}\n"
     ]
    },
    {
     "name": "stderr",
     "output_type": "stream",
     "text": [
      "[I 2023-06-14 21:33:25,985] Trial 375 finished with value: 0.6799507141113281 and parameters: {'w1': 0.44092121565572867, 'w2': 0.9174061242379072, 'w3': 0.46457571465413156, 'w4': 0.25128776981889306, 'w5': 0.22778689603410762, 'w6': 0.5401029058397118, 'w7': 0.19454900883511808}. Best is trial 199 with value: 0.6807036399841309.\n"
     ]
    },
    {
     "name": "stdout",
     "output_type": "stream",
     "text": [
      "{'w1': 0.44092121565572867, 'w2': 0.9174061242379072, 'w3': 0.46457571465413156, 'w4': 0.25128776981889306, 'w5': 0.22778689603410762, 'w6': 0.5401029058397118, 'w7': 0.19454900883511808, 'threshold': 0.28}\n"
     ]
    },
    {
     "name": "stderr",
     "output_type": "stream",
     "text": [
      "[I 2023-06-14 21:33:27,035] Trial 376 finished with value: 0.6800439953804016 and parameters: {'w1': 0.5945003612584515, 'w2': 0.9455529998755212, 'w3': 0.05298681343614274, 'w4': 0.42784481419983444, 'w5': 0.29404470740547817, 'w6': 0.020274718537726544, 'w7': 0.5199242769648583}. Best is trial 199 with value: 0.6807036399841309.\n"
     ]
    },
    {
     "name": "stdout",
     "output_type": "stream",
     "text": [
      "{'w1': 0.5945003612584515, 'w2': 0.9455529998755212, 'w3': 0.05298681343614274, 'w4': 0.42784481419983444, 'w5': 0.29404470740547817, 'w6': 0.020274718537726544, 'w7': 0.5199242769648583, 'threshold': 0.29}\n"
     ]
    },
    {
     "name": "stderr",
     "output_type": "stream",
     "text": [
      "[I 2023-06-14 21:33:28,085] Trial 377 finished with value: 0.6805347204208374 and parameters: {'w1': 0.5157655148385106, 'w2': 0.8831678525635067, 'w3': 0.23745027047041395, 'w4': 0.1771475981204021, 'w5': 0.2494618676034922, 'w6': 0.04684522416362388, 'w7': 0.1612980026870719}. Best is trial 199 with value: 0.6807036399841309.\n"
     ]
    },
    {
     "name": "stdout",
     "output_type": "stream",
     "text": [
      "{'w1': 0.5157655148385106, 'w2': 0.8831678525635067, 'w3': 0.23745027047041395, 'w4': 0.1771475981204021, 'w5': 0.2494618676034922, 'w6': 0.04684522416362388, 'w7': 0.1612980026870719, 'threshold': 0.28}\n"
     ]
    },
    {
     "name": "stderr",
     "output_type": "stream",
     "text": [
      "[I 2023-06-14 21:33:29,135] Trial 378 finished with value: 0.680293083190918 and parameters: {'w1': 0.640436584774138, 'w2': 0.6898694638092554, 'w3': 0.08194305399426083, 'w4': 0.15731987638538106, 'w5': 0.36660567412577993, 'w6': 0.06835527791252569, 'w7': 0.1016305010104634}. Best is trial 199 with value: 0.6807036399841309.\n"
     ]
    },
    {
     "name": "stdout",
     "output_type": "stream",
     "text": [
      "{'w1': 0.640436584774138, 'w2': 0.6898694638092554, 'w3': 0.08194305399426083, 'w4': 0.15731987638538106, 'w5': 0.36660567412577993, 'w6': 0.06835527791252569, 'w7': 0.1016305010104634, 'threshold': 0.24}\n"
     ]
    },
    {
     "name": "stderr",
     "output_type": "stream",
     "text": [
      "[I 2023-06-14 21:33:30,186] Trial 379 finished with value: 0.6804704070091248 and parameters: {'w1': 0.552547798038945, 'w2': 0.7591329751754916, 'w3': 0.14354990154872338, 'w4': 0.031292229198862404, 'w5': 0.3173081243160481, 'w6': 0.018754321627066094, 'w7': 0.03624168095131215}. Best is trial 199 with value: 0.6807036399841309.\n"
     ]
    },
    {
     "name": "stdout",
     "output_type": "stream",
     "text": [
      "{'w1': 0.552547798038945, 'w2': 0.7591329751754916, 'w3': 0.14354990154872338, 'w4': 0.031292229198862404, 'w5': 0.3173081243160481, 'w6': 0.018754321627066094, 'w7': 0.03624168095131215, 'threshold': 0.27}\n"
     ]
    },
    {
     "name": "stderr",
     "output_type": "stream",
     "text": [
      "[I 2023-06-14 21:33:31,237] Trial 380 finished with value: 0.6799482107162476 and parameters: {'w1': 0.48516106138376536, 'w2': 0.9162771971704936, 'w3': 0.048678700903860374, 'w4': 0.841279841050865, 'w5': 0.27082593965963253, 'w6': 0.4912176455803186, 'w7': 0.17978952150918845}. Best is trial 199 with value: 0.6807036399841309.\n"
     ]
    },
    {
     "name": "stdout",
     "output_type": "stream",
     "text": [
      "{'w1': 0.48516106138376536, 'w2': 0.9162771971704936, 'w3': 0.048678700903860374, 'w4': 0.841279841050865, 'w5': 0.27082593965963253, 'w6': 0.4912176455803186, 'w7': 0.17978952150918845, 'threshold': 0.29}\n"
     ]
    },
    {
     "name": "stderr",
     "output_type": "stream",
     "text": [
      "[W 2023-06-14 21:33:31,761] Trial 381 failed with parameters: {'w1': 0.9536969190594786, 'w2': 0.9433193658625045, 'w3': 0.10216559562240181, 'w4': 0.2276153754431128, 'w5': 0.20806746317174832, 'w6': 0.03445772530603394, 'w7': 0.2615863719786183} because of the following error: KeyboardInterrupt().\n",
      "Traceback (most recent call last):\n",
      "  File \"/home/rohits/anaconda3/envs/contrail/lib/python3.10/site-packages/optuna/study/_optimize.py\", line 200, in _run_trial\n",
      "    value_or_values = func(trial)\n",
      "  File \"/tmp/ipykernel_2131012/337626026.py\", line 12, in objective\n",
      "    score, best_threshold  = boost_dice(params)\n",
      "  File \"/tmp/ipykernel_2131012/1537877821.py\", line 30, in boost_dice\n",
      "    score = dice_coef(model_masks, preds1, thr=threshold).cpu().detach().numpy() # get_score(labels, preds)\n",
      "KeyboardInterrupt\n",
      "[W 2023-06-14 21:33:31,762] Trial 381 failed with value None.\n"
     ]
    },
    {
     "ename": "KeyboardInterrupt",
     "evalue": "",
     "output_type": "error",
     "traceback": [
      "\u001b[0;31m---------------------------------------------------------------------------\u001b[0m",
      "\u001b[0;31mKeyboardInterrupt\u001b[0m                         Traceback (most recent call last)",
      "Cell \u001b[0;32mIn[22], line 20\u001b[0m\n\u001b[1;32m     17\u001b[0m study \u001b[38;5;241m=\u001b[39m optuna\u001b[38;5;241m.\u001b[39mcreate_study(direction\u001b[38;5;241m=\u001b[39m\u001b[38;5;124m'\u001b[39m\u001b[38;5;124mmaximize\u001b[39m\u001b[38;5;124m'\u001b[39m)\n\u001b[1;32m     18\u001b[0m \u001b[38;5;66;03m# study = optuna.create_study(direction='minimize')\u001b[39;00m\n\u001b[0;32m---> 20\u001b[0m \u001b[43mstudy\u001b[49m\u001b[38;5;241;43m.\u001b[39;49m\u001b[43moptimize\u001b[49m\u001b[43m(\u001b[49m\u001b[43mobjective\u001b[49m\u001b[43m,\u001b[49m\u001b[43m \u001b[49m\u001b[43mn_trials\u001b[49m\u001b[38;5;241;43m=\u001b[39;49m\u001b[38;5;241;43m1500\u001b[39;49m\u001b[43m)\u001b[49m\n\u001b[1;32m     22\u001b[0m best_params \u001b[38;5;241m=\u001b[39m study\u001b[38;5;241m.\u001b[39mbest_params\n\u001b[1;32m     23\u001b[0m best_params\n",
      "File \u001b[0;32m~/anaconda3/envs/contrail/lib/python3.10/site-packages/optuna/study/study.py:443\u001b[0m, in \u001b[0;36mStudy.optimize\u001b[0;34m(self, func, n_trials, timeout, n_jobs, catch, callbacks, gc_after_trial, show_progress_bar)\u001b[0m\n\u001b[1;32m    339\u001b[0m \u001b[38;5;28;01mdef\u001b[39;00m \u001b[38;5;21moptimize\u001b[39m(\n\u001b[1;32m    340\u001b[0m     \u001b[38;5;28mself\u001b[39m,\n\u001b[1;32m    341\u001b[0m     func: ObjectiveFuncType,\n\u001b[0;32m   (...)\u001b[0m\n\u001b[1;32m    348\u001b[0m     show_progress_bar: \u001b[38;5;28mbool\u001b[39m \u001b[38;5;241m=\u001b[39m \u001b[38;5;28;01mFalse\u001b[39;00m,\n\u001b[1;32m    349\u001b[0m ) \u001b[38;5;241m-\u001b[39m\u001b[38;5;241m>\u001b[39m \u001b[38;5;28;01mNone\u001b[39;00m:\n\u001b[1;32m    350\u001b[0m \u001b[38;5;250m    \u001b[39m\u001b[38;5;124;03m\"\"\"Optimize an objective function.\u001b[39;00m\n\u001b[1;32m    351\u001b[0m \n\u001b[1;32m    352\u001b[0m \u001b[38;5;124;03m    Optimization is done by choosing a suitable set of hyperparameter values from a given\u001b[39;00m\n\u001b[0;32m   (...)\u001b[0m\n\u001b[1;32m    440\u001b[0m \u001b[38;5;124;03m            If nested invocation of this method occurs.\u001b[39;00m\n\u001b[1;32m    441\u001b[0m \u001b[38;5;124;03m    \"\"\"\u001b[39;00m\n\u001b[0;32m--> 443\u001b[0m     \u001b[43m_optimize\u001b[49m\u001b[43m(\u001b[49m\n\u001b[1;32m    444\u001b[0m \u001b[43m        \u001b[49m\u001b[43mstudy\u001b[49m\u001b[38;5;241;43m=\u001b[39;49m\u001b[38;5;28;43mself\u001b[39;49m\u001b[43m,\u001b[49m\n\u001b[1;32m    445\u001b[0m \u001b[43m        \u001b[49m\u001b[43mfunc\u001b[49m\u001b[38;5;241;43m=\u001b[39;49m\u001b[43mfunc\u001b[49m\u001b[43m,\u001b[49m\n\u001b[1;32m    446\u001b[0m \u001b[43m        \u001b[49m\u001b[43mn_trials\u001b[49m\u001b[38;5;241;43m=\u001b[39;49m\u001b[43mn_trials\u001b[49m\u001b[43m,\u001b[49m\n\u001b[1;32m    447\u001b[0m \u001b[43m        \u001b[49m\u001b[43mtimeout\u001b[49m\u001b[38;5;241;43m=\u001b[39;49m\u001b[43mtimeout\u001b[49m\u001b[43m,\u001b[49m\n\u001b[1;32m    448\u001b[0m \u001b[43m        \u001b[49m\u001b[43mn_jobs\u001b[49m\u001b[38;5;241;43m=\u001b[39;49m\u001b[43mn_jobs\u001b[49m\u001b[43m,\u001b[49m\n\u001b[1;32m    449\u001b[0m \u001b[43m        \u001b[49m\u001b[43mcatch\u001b[49m\u001b[38;5;241;43m=\u001b[39;49m\u001b[38;5;28;43mtuple\u001b[39;49m\u001b[43m(\u001b[49m\u001b[43mcatch\u001b[49m\u001b[43m)\u001b[49m\u001b[43m \u001b[49m\u001b[38;5;28;43;01mif\u001b[39;49;00m\u001b[43m \u001b[49m\u001b[38;5;28;43misinstance\u001b[39;49m\u001b[43m(\u001b[49m\u001b[43mcatch\u001b[49m\u001b[43m,\u001b[49m\u001b[43m \u001b[49m\u001b[43mIterable\u001b[49m\u001b[43m)\u001b[49m\u001b[43m \u001b[49m\u001b[38;5;28;43;01melse\u001b[39;49;00m\u001b[43m \u001b[49m\u001b[43m(\u001b[49m\u001b[43mcatch\u001b[49m\u001b[43m,\u001b[49m\u001b[43m)\u001b[49m\u001b[43m,\u001b[49m\n\u001b[1;32m    450\u001b[0m \u001b[43m        \u001b[49m\u001b[43mcallbacks\u001b[49m\u001b[38;5;241;43m=\u001b[39;49m\u001b[43mcallbacks\u001b[49m\u001b[43m,\u001b[49m\n\u001b[1;32m    451\u001b[0m \u001b[43m        \u001b[49m\u001b[43mgc_after_trial\u001b[49m\u001b[38;5;241;43m=\u001b[39;49m\u001b[43mgc_after_trial\u001b[49m\u001b[43m,\u001b[49m\n\u001b[1;32m    452\u001b[0m \u001b[43m        \u001b[49m\u001b[43mshow_progress_bar\u001b[49m\u001b[38;5;241;43m=\u001b[39;49m\u001b[43mshow_progress_bar\u001b[49m\u001b[43m,\u001b[49m\n\u001b[1;32m    453\u001b[0m \u001b[43m    \u001b[49m\u001b[43m)\u001b[49m\n",
      "File \u001b[0;32m~/anaconda3/envs/contrail/lib/python3.10/site-packages/optuna/study/_optimize.py:66\u001b[0m, in \u001b[0;36m_optimize\u001b[0;34m(study, func, n_trials, timeout, n_jobs, catch, callbacks, gc_after_trial, show_progress_bar)\u001b[0m\n\u001b[1;32m     64\u001b[0m \u001b[38;5;28;01mtry\u001b[39;00m:\n\u001b[1;32m     65\u001b[0m     \u001b[38;5;28;01mif\u001b[39;00m n_jobs \u001b[38;5;241m==\u001b[39m \u001b[38;5;241m1\u001b[39m:\n\u001b[0;32m---> 66\u001b[0m         \u001b[43m_optimize_sequential\u001b[49m\u001b[43m(\u001b[49m\n\u001b[1;32m     67\u001b[0m \u001b[43m            \u001b[49m\u001b[43mstudy\u001b[49m\u001b[43m,\u001b[49m\n\u001b[1;32m     68\u001b[0m \u001b[43m            \u001b[49m\u001b[43mfunc\u001b[49m\u001b[43m,\u001b[49m\n\u001b[1;32m     69\u001b[0m \u001b[43m            \u001b[49m\u001b[43mn_trials\u001b[49m\u001b[43m,\u001b[49m\n\u001b[1;32m     70\u001b[0m \u001b[43m            \u001b[49m\u001b[43mtimeout\u001b[49m\u001b[43m,\u001b[49m\n\u001b[1;32m     71\u001b[0m \u001b[43m            \u001b[49m\u001b[43mcatch\u001b[49m\u001b[43m,\u001b[49m\n\u001b[1;32m     72\u001b[0m \u001b[43m            \u001b[49m\u001b[43mcallbacks\u001b[49m\u001b[43m,\u001b[49m\n\u001b[1;32m     73\u001b[0m \u001b[43m            \u001b[49m\u001b[43mgc_after_trial\u001b[49m\u001b[43m,\u001b[49m\n\u001b[1;32m     74\u001b[0m \u001b[43m            \u001b[49m\u001b[43mreseed_sampler_rng\u001b[49m\u001b[38;5;241;43m=\u001b[39;49m\u001b[38;5;28;43;01mFalse\u001b[39;49;00m\u001b[43m,\u001b[49m\n\u001b[1;32m     75\u001b[0m \u001b[43m            \u001b[49m\u001b[43mtime_start\u001b[49m\u001b[38;5;241;43m=\u001b[39;49m\u001b[38;5;28;43;01mNone\u001b[39;49;00m\u001b[43m,\u001b[49m\n\u001b[1;32m     76\u001b[0m \u001b[43m            \u001b[49m\u001b[43mprogress_bar\u001b[49m\u001b[38;5;241;43m=\u001b[39;49m\u001b[43mprogress_bar\u001b[49m\u001b[43m,\u001b[49m\n\u001b[1;32m     77\u001b[0m \u001b[43m        \u001b[49m\u001b[43m)\u001b[49m\n\u001b[1;32m     78\u001b[0m     \u001b[38;5;28;01melse\u001b[39;00m:\n\u001b[1;32m     79\u001b[0m         \u001b[38;5;28;01mif\u001b[39;00m n_jobs \u001b[38;5;241m==\u001b[39m \u001b[38;5;241m-\u001b[39m\u001b[38;5;241m1\u001b[39m:\n",
      "File \u001b[0;32m~/anaconda3/envs/contrail/lib/python3.10/site-packages/optuna/study/_optimize.py:163\u001b[0m, in \u001b[0;36m_optimize_sequential\u001b[0;34m(study, func, n_trials, timeout, catch, callbacks, gc_after_trial, reseed_sampler_rng, time_start, progress_bar)\u001b[0m\n\u001b[1;32m    160\u001b[0m         \u001b[38;5;28;01mbreak\u001b[39;00m\n\u001b[1;32m    162\u001b[0m \u001b[38;5;28;01mtry\u001b[39;00m:\n\u001b[0;32m--> 163\u001b[0m     frozen_trial \u001b[38;5;241m=\u001b[39m \u001b[43m_run_trial\u001b[49m\u001b[43m(\u001b[49m\u001b[43mstudy\u001b[49m\u001b[43m,\u001b[49m\u001b[43m \u001b[49m\u001b[43mfunc\u001b[49m\u001b[43m,\u001b[49m\u001b[43m \u001b[49m\u001b[43mcatch\u001b[49m\u001b[43m)\u001b[49m\n\u001b[1;32m    164\u001b[0m \u001b[38;5;28;01mfinally\u001b[39;00m:\n\u001b[1;32m    165\u001b[0m     \u001b[38;5;66;03m# The following line mitigates memory problems that can be occurred in some\u001b[39;00m\n\u001b[1;32m    166\u001b[0m     \u001b[38;5;66;03m# environments (e.g., services that use computing containers such as GitHub Actions).\u001b[39;00m\n\u001b[1;32m    167\u001b[0m     \u001b[38;5;66;03m# Please refer to the following PR for further details:\u001b[39;00m\n\u001b[1;32m    168\u001b[0m     \u001b[38;5;66;03m# https://github.com/optuna/optuna/pull/325.\u001b[39;00m\n\u001b[1;32m    169\u001b[0m     \u001b[38;5;28;01mif\u001b[39;00m gc_after_trial:\n",
      "File \u001b[0;32m~/anaconda3/envs/contrail/lib/python3.10/site-packages/optuna/study/_optimize.py:251\u001b[0m, in \u001b[0;36m_run_trial\u001b[0;34m(study, func, catch)\u001b[0m\n\u001b[1;32m    244\u001b[0m         \u001b[38;5;28;01massert\u001b[39;00m \u001b[38;5;28;01mFalse\u001b[39;00m, \u001b[38;5;124m\"\u001b[39m\u001b[38;5;124mShould not reach.\u001b[39m\u001b[38;5;124m\"\u001b[39m\n\u001b[1;32m    246\u001b[0m \u001b[38;5;28;01mif\u001b[39;00m (\n\u001b[1;32m    247\u001b[0m     frozen_trial\u001b[38;5;241m.\u001b[39mstate \u001b[38;5;241m==\u001b[39m TrialState\u001b[38;5;241m.\u001b[39mFAIL\n\u001b[1;32m    248\u001b[0m     \u001b[38;5;129;01mand\u001b[39;00m func_err \u001b[38;5;129;01mis\u001b[39;00m \u001b[38;5;129;01mnot\u001b[39;00m \u001b[38;5;28;01mNone\u001b[39;00m\n\u001b[1;32m    249\u001b[0m     \u001b[38;5;129;01mand\u001b[39;00m \u001b[38;5;129;01mnot\u001b[39;00m \u001b[38;5;28misinstance\u001b[39m(func_err, catch)\n\u001b[1;32m    250\u001b[0m ):\n\u001b[0;32m--> 251\u001b[0m     \u001b[38;5;28;01mraise\u001b[39;00m func_err\n\u001b[1;32m    252\u001b[0m \u001b[38;5;28;01mreturn\u001b[39;00m frozen_trial\n",
      "File \u001b[0;32m~/anaconda3/envs/contrail/lib/python3.10/site-packages/optuna/study/_optimize.py:200\u001b[0m, in \u001b[0;36m_run_trial\u001b[0;34m(study, func, catch)\u001b[0m\n\u001b[1;32m    198\u001b[0m \u001b[38;5;28;01mwith\u001b[39;00m get_heartbeat_thread(trial\u001b[38;5;241m.\u001b[39m_trial_id, study\u001b[38;5;241m.\u001b[39m_storage):\n\u001b[1;32m    199\u001b[0m     \u001b[38;5;28;01mtry\u001b[39;00m:\n\u001b[0;32m--> 200\u001b[0m         value_or_values \u001b[38;5;241m=\u001b[39m \u001b[43mfunc\u001b[49m\u001b[43m(\u001b[49m\u001b[43mtrial\u001b[49m\u001b[43m)\u001b[49m\n\u001b[1;32m    201\u001b[0m     \u001b[38;5;28;01mexcept\u001b[39;00m exceptions\u001b[38;5;241m.\u001b[39mTrialPruned \u001b[38;5;28;01mas\u001b[39;00m e:\n\u001b[1;32m    202\u001b[0m         \u001b[38;5;66;03m# TODO(mamu): Handle multi-objective cases.\u001b[39;00m\n\u001b[1;32m    203\u001b[0m         state \u001b[38;5;241m=\u001b[39m TrialState\u001b[38;5;241m.\u001b[39mPRUNED\n",
      "Cell \u001b[0;32mIn[22], line 12\u001b[0m, in \u001b[0;36mobjective\u001b[0;34m(trial)\u001b[0m\n\u001b[1;32m      4\u001b[0m         params[\u001b[38;5;124mf\u001b[39m\u001b[38;5;124m\"\u001b[39m\u001b[38;5;124mw\u001b[39m\u001b[38;5;132;01m{\u001b[39;00mi\u001b[38;5;241m+\u001b[39m\u001b[38;5;241m1\u001b[39m\u001b[38;5;132;01m}\u001b[39;00m\u001b[38;5;124m\"\u001b[39m] \u001b[38;5;241m=\u001b[39m trial\u001b[38;5;241m.\u001b[39msuggest_float(\u001b[38;5;124mf\u001b[39m\u001b[38;5;124m'\u001b[39m\u001b[38;5;124mw\u001b[39m\u001b[38;5;132;01m{\u001b[39;00mi\u001b[38;5;241m+\u001b[39m\u001b[38;5;241m1\u001b[39m\u001b[38;5;132;01m}\u001b[39;00m\u001b[38;5;124m'\u001b[39m, \u001b[38;5;241m0\u001b[39m, \u001b[38;5;241m1\u001b[39m) \n\u001b[1;32m      6\u001b[0m \u001b[38;5;66;03m#         params[f\"w1\"] = 0.5 #trial.suggest_float(f'w1', 0, 1) \u001b[39;00m\n\u001b[1;32m      7\u001b[0m \u001b[38;5;66;03m#         params[f\"w2\"] = 0.5 #trial.suggest_float(f'w2', 0, 1) \u001b[39;00m\n\u001b[1;32m      8\u001b[0m \u001b[38;5;66;03m#         params[f\"w3\"] = 0.25 # trial.suggest_float(f'w3', 0, 1) \u001b[39;00m\n\u001b[1;32m      9\u001b[0m \u001b[38;5;66;03m#         params[f\"w4\"] = 0.25 #trial.suggest_float(f'w4', 0, 1) \u001b[39;00m\n\u001b[0;32m---> 12\u001b[0m     score, best_threshold  \u001b[38;5;241m=\u001b[39m \u001b[43mboost_dice\u001b[49m\u001b[43m(\u001b[49m\u001b[43mparams\u001b[49m\u001b[43m)\u001b[49m\n\u001b[1;32m     13\u001b[0m     params[\u001b[38;5;124m'\u001b[39m\u001b[38;5;124mthreshold\u001b[39m\u001b[38;5;124m'\u001b[39m] \u001b[38;5;241m=\u001b[39m best_threshold\n\u001b[1;32m     14\u001b[0m     \u001b[38;5;28mprint\u001b[39m(params)\n",
      "Cell \u001b[0;32mIn[21], line 30\u001b[0m, in \u001b[0;36mboost_dice\u001b[0;34m(params)\u001b[0m\n\u001b[1;32m     23\u001b[0m     \u001b[38;5;28;01mfor\u001b[39;00m threshold \u001b[38;5;129;01min\u001b[39;00m [i \u001b[38;5;241m/\u001b[39m \u001b[38;5;241m100\u001b[39m \u001b[38;5;28;01mfor\u001b[39;00m i \u001b[38;5;129;01min\u001b[39;00m \u001b[38;5;28mrange\u001b[39m(\u001b[38;5;241m101\u001b[39m)] :\n\u001b[1;32m     24\u001b[0m \u001b[38;5;66;03m#         if threshold < 0.05 and threshold > 0.25:\u001b[39;00m\n\u001b[1;32m     25\u001b[0m \u001b[38;5;66;03m#             continue\u001b[39;00m\n\u001b[1;32m     26\u001b[0m \u001b[38;5;66;03m#         if threshold > 0.2:\u001b[39;00m\n\u001b[1;32m     27\u001b[0m \u001b[38;5;66;03m#             continue\u001b[39;00m\n\u001b[1;32m     29\u001b[0m         preds1 \u001b[38;5;241m=\u001b[39m (nn\u001b[38;5;241m.\u001b[39mSigmoid()(preds)\u001b[38;5;241m>\u001b[39mthreshold)\u001b[38;5;241m.\u001b[39mdouble()            \n\u001b[0;32m---> 30\u001b[0m         score \u001b[38;5;241m=\u001b[39m \u001b[43mdice_coef\u001b[49m\u001b[43m(\u001b[49m\u001b[43mmodel_masks\u001b[49m\u001b[43m,\u001b[49m\u001b[43m \u001b[49m\u001b[43mpreds1\u001b[49m\u001b[43m,\u001b[49m\u001b[43m \u001b[49m\u001b[43mthr\u001b[49m\u001b[38;5;241;43m=\u001b[39;49m\u001b[43mthreshold\u001b[49m\u001b[43m)\u001b[49m\u001b[38;5;241;43m.\u001b[39;49m\u001b[43mcpu\u001b[49m\u001b[43m(\u001b[49m\u001b[43m)\u001b[49m\u001b[38;5;241m.\u001b[39mdetach()\u001b[38;5;241m.\u001b[39mnumpy() \u001b[38;5;66;03m# get_score(labels, preds) \u001b[39;00m\n\u001b[1;32m     31\u001b[0m         \u001b[38;5;28;01mif\u001b[39;00m score \u001b[38;5;241m>\u001b[39m best_score:\n\u001b[1;32m     32\u001b[0m             best_score \u001b[38;5;241m=\u001b[39m score\n",
      "\u001b[0;31mKeyboardInterrupt\u001b[0m: "
     ]
    }
   ],
   "source": [
    "def objective(trial):\n",
    "    params = {}    \n",
    "    for i in range(len(final_preds)):\n",
    "        params[f\"w{i+1}\"] = trial.suggest_float(f'w{i+1}', 0, 1) \n",
    "        \n",
    "#         params[f\"w1\"] = 0.5 #trial.suggest_float(f'w1', 0, 1) \n",
    "#         params[f\"w2\"] = 0.5 #trial.suggest_float(f'w2', 0, 1) \n",
    "#         params[f\"w3\"] = 0.25 # trial.suggest_float(f'w3', 0, 1) \n",
    "#         params[f\"w4\"] = 0.25 #trial.suggest_float(f'w4', 0, 1) \n",
    "    \n",
    "        \n",
    "    score, best_threshold  = boost_dice(params)\n",
    "    params['threshold'] = best_threshold\n",
    "    print(params)\n",
    "    return score\n",
    "\n",
    "study = optuna.create_study(direction='maximize')\n",
    "# study = optuna.create_study(direction='minimize')\n",
    "\n",
    "study.optimize(objective, n_trials=1500)\n",
    "\n",
    "best_params = study.best_params\n",
    "best_params"
   ]
  },
  {
   "cell_type": "code",
   "execution_count": 20,
   "id": "55a2c9fa",
   "metadata": {},
   "outputs": [],
   "source": [
    "## POS ONLY:  pl1_s2, pl2_s2, pl2_2_s1, pl2_2_s2\n",
    "# 0.6885783076286316 | TH: 0.2\n",
    "# {'w1': 0.6880974792134807,\n",
    "#  'w2': 0.9236328771149573,\n",
    "#  'w3': 0.5842894744922432,\n",
    "#  'w4': 0.2397683383849518}\n",
    "\n",
    "\n",
    "\n",
    "\n",
    "\n",
    "\n",
    "#th: 0.2\n",
    "# {'w1': 0.9118427143017789, 'w2': 0.07722806128805348, 'w3': 0.3483576258941602}\n",
    "\n",
    "\n",
    "# 0.6802493929862976\n",
    "# {'w1': 0.901456237984701,\n",
    "#  'w2': 0.03333500127663481,\n",
    "#  'w3': 0.1012744451767772,\n",
    "#  'w4': 0.3315684160625839}\n",
    "\n",
    "\n",
    "# 0.6802645325660706\n",
    "# {'w1': 0.9423043059931125,\n",
    "#  'w2': 0.12999481950972483,\n",
    "#  'w3': 0.34096541343299724}\n",
    "\n",
    "\n",
    "\n",
    "\n",
    "# 0.6753096580505371\n",
    "# {'w1': 0.8191544364616984,\n",
    "#  'w2': 0.2172873170900641,\n",
    "#  'w3': 0.9872223348463418,\n",
    "#  'w4': 0.34763898831692425,\n",
    "#  'w5': 0.6106201134139329}\n"
   ]
  },
  {
   "cell_type": "code",
   "execution_count": null,
   "id": "f6f44e04",
   "metadata": {},
   "outputs": [],
   "source": [
    "best_params"
   ]
  },
  {
   "cell_type": "code",
   "execution_count": null,
   "id": "edbe34be",
   "metadata": {},
   "outputs": [],
   "source": []
  },
  {
   "cell_type": "code",
   "execution_count": null,
   "id": "03dd0179",
   "metadata": {},
   "outputs": [],
   "source": []
  },
  {
   "cell_type": "code",
   "execution_count": null,
   "id": "fe1cc496",
   "metadata": {},
   "outputs": [],
   "source": [
    "# {'w1': 0.19193466652838265, 'w2': 0.0010692529855302647, 'w3': 0.19479657217496682, 'w4': 0.7062431810854415, 'threshold': 0.39}\n"
   ]
  },
  {
   "cell_type": "code",
   "execution_count": null,
   "id": "ab67a95d",
   "metadata": {},
   "outputs": [],
   "source": [
    "#  0.66671222448349 and parameters:\n",
    "# {'w1': 0.7800660379809229, 'w2': 0.5851307264271756, 'w3': 0.5728701966485974}\n",
    "# threshold: 0.32\n"
   ]
  },
  {
   "cell_type": "code",
   "execution_count": null,
   "id": "e63a6b39",
   "metadata": {},
   "outputs": [],
   "source": []
  },
  {
   "cell_type": "code",
   "execution_count": null,
   "id": "7eed6aca",
   "metadata": {},
   "outputs": [],
   "source": []
  },
  {
   "cell_type": "code",
   "execution_count": null,
   "id": "27a3505e",
   "metadata": {},
   "outputs": [],
   "source": []
  },
  {
   "cell_type": "code",
   "execution_count": null,
   "id": "831f24ca",
   "metadata": {},
   "outputs": [],
   "source": []
  }
 ],
 "metadata": {
  "kernelspec": {
   "display_name": "Python 3 (ipykernel)",
   "language": "python",
   "name": "python3"
  },
  "language_info": {
   "codemirror_mode": {
    "name": "ipython",
    "version": 3
   },
   "file_extension": ".py",
   "mimetype": "text/x-python",
   "name": "python",
   "nbconvert_exporter": "python",
   "pygments_lexer": "ipython3",
   "version": "3.10.11"
  }
 },
 "nbformat": 4,
 "nbformat_minor": 5
}
